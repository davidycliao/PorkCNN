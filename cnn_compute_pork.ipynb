{
 "cells": [
  {
   "cell_type": "markdown",
   "id": "b65dfbdc-bb80-4bd4-8248-dd06483222cd",
   "metadata": {},
   "source": [
    "# Lour's Pork Barrel Classifier (羅老師肉桶文本分類器)🐖\n",
    "## Convolutional Neural Networks for Pork Barrel Project Classification "
   ]
  },
  {
   "cell_type": "markdown",
   "id": "e8005d5a-f938-4c26-86d5-592408152d08",
   "metadata": {},
   "source": [
    "-------------------------\n",
    "\n",
    "### Stage 1: Libaries & Dependencies"
   ]
  },
  {
   "cell_type": "code",
   "execution_count": 1,
   "id": "6ca92ba3-7480-418f-91e0-d2beea2d10af",
   "metadata": {
    "execution": {
     "iopub.execute_input": "2021-07-01T23:54:10.021631Z",
     "iopub.status.busy": "2021-07-01T23:54:10.021478Z",
     "iopub.status.idle": "2021-07-01T23:54:14.949943Z",
     "shell.execute_reply": "2021-07-01T23:54:14.949299Z",
     "shell.execute_reply.started": "2021-07-01T23:54:10.021612Z"
    },
    "tags": []
   },
   "outputs": [],
   "source": [
    "# built-in library\n",
    "import math\n",
    "import re\n",
    "import collections\n",
    "import zipfile\n",
    "import random\n",
    "from itertools import chain\n",
    "\n",
    "# ML & Deep Learning/ NLP toolkit\n",
    "import pandas as pd\n",
    "import numpy as np\n",
    "import jieba\n",
    "from sklearn.model_selection import train_test_split\n",
    "import tensorflow as tf\n",
    "from tensorflow.keras import layers\n",
    "import tensorflow_datasets as tfds\n",
    "from tensorflow.keras.callbacks import EarlyStopping,TensorBoard\n",
    "\n",
    "#from keras.layers import Flatten\n",
    "\n",
    "# Visualization\n",
    "import matplotlib.pyplot as plt\n",
    "import seaborn as sns"
   ]
  },
  {
   "cell_type": "markdown",
   "id": "8bd77e05-355a-422f-87db-2cf77cba3bdd",
   "metadata": {},
   "source": [
    "-------------------------\n",
    "\n",
    "### Stage 2: Data Preprocessing (Training Data: Introduction of Bills and Legislation from 6th Session to 7th Session, 2004-2012)"
   ]
  },
  {
   "cell_type": "markdown",
   "id": "3b57b9c9-443e-4e26-bda2-15f6877845d5",
   "metadata": {},
   "source": [
    "#### (1) Read file "
   ]
  },
  {
   "cell_type": "code",
   "execution_count": 2,
   "id": "e1973cfb-73d4-4717-a67a-a4e8a0c9edb0",
   "metadata": {
    "execution": {
     "iopub.execute_input": "2021-07-01T23:54:14.950982Z",
     "iopub.status.busy": "2021-07-01T23:54:14.950836Z",
     "iopub.status.idle": "2021-07-01T23:54:14.992588Z",
     "shell.execute_reply": "2021-07-01T23:54:14.992049Z",
     "shell.execute_reply.started": "2021-07-01T23:54:14.950963Z"
    },
    "tags": []
   },
   "outputs": [],
   "source": [
    "# read file\n",
    "df = pd.read_csv('data/Pork Bill - 2021-05-20.csv',encoding='utf-8')\n",
    "\n",
    "# combine abstract of bill and title \n",
    "df['text'] =  df['Title'] + df['Content'].fillna(df['Title'])\n",
    "\n",
    "# drop conten without having any characters\n",
    "# view na's row: df[df['text'].isnull()==True]\n",
    "data = df[['text', 'pork_bill']].dropna(subset=['text'])"
   ]
  },
  {
   "cell_type": "code",
   "execution_count": 3,
   "id": "f6160785-9522-4404-8f77-6df941869cde",
   "metadata": {
    "execution": {
     "iopub.execute_input": "2021-07-01T23:54:14.993755Z",
     "iopub.status.busy": "2021-07-01T23:54:14.993586Z",
     "iopub.status.idle": "2021-07-01T23:54:14.998126Z",
     "shell.execute_reply": "2021-07-01T23:54:14.997519Z",
     "shell.execute_reply.started": "2021-07-01T23:54:14.993735Z"
    },
    "tags": []
   },
   "outputs": [
    {
     "name": "stdout",
     "output_type": "stream",
     "text": [
      " Pork Legislation 2510 \n",
      " None-Pork Legislation 4733\n"
     ]
    }
   ],
   "source": [
    "print(\" Pork Legislation\", data['pork_bill'].value_counts()[1],'\\n', \n",
    "      \"None-Pork Legislation\", data['pork_bill'].value_counts()[0])"
   ]
  },
  {
   "cell_type": "markdown",
   "id": "2327d3a1-56a2-4d60-afc3-d8251e0c5e27",
   "metadata": {},
   "source": [
    "#### (2) Balancing the Training Samples"
   ]
  },
  {
   "cell_type": "markdown",
   "id": "545a68d4-b516-4170-b8c9-78f62d31b859",
   "metadata": {
    "execution": {
     "iopub.execute_input": "2021-05-21T03:47:46.657176Z",
     "iopub.status.busy": "2021-05-21T03:47:46.656903Z",
     "iopub.status.idle": "2021-05-21T03:47:46.667123Z",
     "shell.execute_reply": "2021-05-21T03:47:46.666559Z",
     "shell.execute_reply.started": "2021-05-21T03:47:46.657153Z"
    },
    "tags": []
   },
   "source": [
    "random.seed(24)\n",
    "data = data[data['pork_bill']==1].append(data[data['pork_bill']==0].reset_index(drop=True).loc[[random.randint(0, 2500) for i in range(2500)]]).reset_index(drop=True)"
   ]
  },
  {
   "cell_type": "markdown",
   "id": "6389b502-0eab-4faf-bdd6-742b6068e231",
   "metadata": {
    "execution": {
     "iopub.execute_input": "2021-05-21T03:47:46.668350Z",
     "iopub.status.busy": "2021-05-21T03:47:46.668164Z",
     "iopub.status.idle": "2021-05-21T03:47:46.673541Z",
     "shell.execute_reply": "2021-05-21T03:47:46.672951Z",
     "shell.execute_reply.started": "2021-05-21T03:47:46.668327Z"
    },
    "tags": []
   },
   "source": [
    "print(\" Pork Legislation\", data['pork_bill'].value_counts()[1],'\\n', \n",
    "      \"None-Pork Legislation\", data['pork_bill'].value_counts()[0])"
   ]
  },
  {
   "cell_type": "markdown",
   "id": "5e6d677d-e200-40e6-9252-130eb02fc682",
   "metadata": {
    "execution": {
     "iopub.execute_input": "2021-05-16T17:01:03.001989Z",
     "iopub.status.busy": "2021-05-16T17:01:03.001801Z",
     "iopub.status.idle": "2021-05-16T17:01:03.004600Z",
     "shell.execute_reply": "2021-05-16T17:01:03.003789Z",
     "shell.execute_reply.started": "2021-05-16T17:01:03.001969Z"
    }
   },
   "source": [
    "#### (2) Tokenization"
   ]
  },
  {
   "cell_type": "code",
   "execution_count": 4,
   "id": "120e8b54-7f75-4ca6-a0d0-9872b1522e8e",
   "metadata": {
    "execution": {
     "iopub.execute_input": "2021-07-01T23:54:14.999382Z",
     "iopub.status.busy": "2021-07-01T23:54:14.999158Z",
     "iopub.status.idle": "2021-07-01T23:54:15.007192Z",
     "shell.execute_reply": "2021-07-01T23:54:15.006430Z",
     "shell.execute_reply.started": "2021-07-01T23:54:14.999361Z"
    },
    "tags": []
   },
   "outputs": [],
   "source": [
    "import collections\n",
    "import numpy as np\n",
    "import jieba\n",
    "from itertools import chain\n",
    "\n",
    "\n",
    "def jieba_cut(filename):\n",
    "    \"\"\"\n",
    "    cut Chinese and remove stop words\n",
    "    Reference: https://www.cnblogs.com/Luv-GEM/p/10836454.html\n",
    "    Stopwords: https://www.kaggle.com/rikdifos/english-and-chinese-stopwords?select=cn_stopwords.txt\n",
    "    \"\"\"\n",
    "    stop_list = [i.strip() for i in open('cn_stopwords.txt','r',encoding='utf-8')]  \n",
    "    news_cut = []\n",
    "    news_list = []\n",
    "    for line in filename:    \n",
    "        if line:\n",
    "            news_cut = list(jieba.cut(''.join(line),cut_all=False,HMM=True))  \n",
    "            news_list.append([word.strip() for word in news_cut if word not in stop_list and len(word.strip())>0]) \n",
    "    news_list = list(chain.from_iterable(news_list))  \n",
    "    return news_list\n",
    "\n",
    "def clearPucts(context):\n",
    "    \"\"\"\n",
    "    remove punctuation\n",
    "    ref: https://chenyuzuoo.github.io/posts/28001/\n",
    "    \"\"\"\n",
    "    context = re.sub(\"[\\s+\\.\\!\\/_,$%^*(+\\\"\\']+|[+——！，。？、~@#￥%……&*（）]+\", \"\", context)\n",
    "    context = re.sub(\"[【】╮╯▽╰╭★→「」]+\",\"\", context)\n",
    "    context = re.sub(\"！，❤。～《》：（）【】「」？”“；：、\",\"\",context)\n",
    "    context = re.sub(\"\\s\",\"\",context)\n",
    "    return context\n",
    "\n",
    "def seg_char(sent):\n",
    "    \"\"\"\n",
    "    cut Chinese and remove stop words\n",
    "    ref: https://blog.csdn.net/renyuanfang/article/details/86487367\n",
    "    \"\"\"\n",
    "    # split\n",
    "    pattern_char_1 = re.compile(r'([\\W])')\n",
    "    parts = pattern_char_1.split(sent)\n",
    "    parts = [p for p in parts if len(p.strip())>0]\n",
    "    # cut sentence\n",
    "    pattern = re.compile(r'([\\u4e00-\\u9fa5])')\n",
    "    chars = pattern.split(sent)\n",
    "    chars = [w for w in chars if len(w.strip())>0]\n",
    "    chars = ' '.join(chars)\n",
    "    return chars"
   ]
  },
  {
   "cell_type": "code",
   "execution_count": 5,
   "id": "25f4277c-001d-47a4-81d0-f5ac5ec5e5d3",
   "metadata": {
    "execution": {
     "iopub.execute_input": "2021-07-01T23:54:15.008602Z",
     "iopub.status.busy": "2021-07-01T23:54:15.008307Z",
     "iopub.status.idle": "2021-07-01T23:54:17.017838Z",
     "shell.execute_reply": "2021-07-01T23:54:17.016930Z",
     "shell.execute_reply.started": "2021-07-01T23:54:15.008572Z"
    },
    "tags": []
   },
   "outputs": [],
   "source": [
    "data_clean = [seg_char(text) for text in [clearPucts(text) for text in data.text]]\n",
    "\n",
    "tokenizer = tfds.deprecated.text.SubwordTextEncoder.build_from_corpus(\n",
    "    data_clean, target_vocab_size=2**18)\n",
    "\n",
    "data_inputs = [tokenizer.encode(sentence) for sentence in data_clean]"
   ]
  },
  {
   "cell_type": "markdown",
   "id": "089e65af-e49c-4d60-962e-a0a826809aa5",
   "metadata": {
    "execution": {
     "iopub.execute_input": "2021-05-16T17:01:47.611294Z",
     "iopub.status.busy": "2021-05-16T17:01:47.611020Z",
     "iopub.status.idle": "2021-05-16T17:01:47.614208Z",
     "shell.execute_reply": "2021-05-16T17:01:47.613487Z",
     "shell.execute_reply.started": "2021-05-16T17:01:47.611276Z"
    }
   },
   "source": [
    "#### (3) Padding"
   ]
  },
  {
   "cell_type": "code",
   "execution_count": 6,
   "id": "b801d231-972c-47e3-83c4-7375c2e11a18",
   "metadata": {
    "execution": {
     "iopub.execute_input": "2021-07-01T23:54:17.021989Z",
     "iopub.status.busy": "2021-07-01T23:54:17.021809Z",
     "iopub.status.idle": "2021-07-01T23:54:17.092158Z",
     "shell.execute_reply": "2021-07-01T23:54:17.091423Z",
     "shell.execute_reply.started": "2021-07-01T23:54:17.021973Z"
    },
    "tags": []
   },
   "outputs": [],
   "source": [
    "MAX_LEN = max([len(sentence) for sentence in data_clean])\n",
    "data_inputs = tf.keras.preprocessing.sequence.pad_sequences(data_inputs,\n",
    "                                                            value=0,\n",
    "                                                            padding=\"post\",\n",
    "                                                            maxlen=MAX_LEN)\n"
   ]
  },
  {
   "cell_type": "markdown",
   "id": "f69d90cf-ac3c-4e08-b46b-457d9708d832",
   "metadata": {
    "execution": {
     "iopub.execute_input": "2021-05-16T17:02:28.107037Z",
     "iopub.status.busy": "2021-05-16T17:02:28.106843Z",
     "iopub.status.idle": "2021-05-16T17:02:28.109696Z",
     "shell.execute_reply": "2021-05-16T17:02:28.108954Z",
     "shell.execute_reply.started": "2021-05-16T17:02:28.107017Z"
    }
   },
   "source": [
    "#### (4) Spliting Training/ Testing Set"
   ]
  },
  {
   "cell_type": "code",
   "execution_count": 7,
   "id": "42503355-eea3-4602-ae5a-ea18be84b8d1",
   "metadata": {
    "execution": {
     "iopub.execute_input": "2021-07-01T23:54:17.094935Z",
     "iopub.status.busy": "2021-07-01T23:54:17.094693Z",
     "iopub.status.idle": "2021-07-01T23:54:17.097909Z",
     "shell.execute_reply": "2021-07-01T23:54:17.097139Z",
     "shell.execute_reply.started": "2021-07-01T23:54:17.094909Z"
    },
    "tags": []
   },
   "outputs": [],
   "source": [
    "data_labels = data.pork_bill.values"
   ]
  },
  {
   "cell_type": "code",
   "execution_count": 8,
   "id": "19235117-f63a-4e06-a102-6efe98c37dbf",
   "metadata": {
    "execution": {
     "iopub.execute_input": "2021-07-01T23:54:17.099038Z",
     "iopub.status.busy": "2021-07-01T23:54:17.098864Z",
     "iopub.status.idle": "2021-07-01T23:54:17.114221Z",
     "shell.execute_reply": "2021-07-01T23:54:17.113570Z",
     "shell.execute_reply.started": "2021-07-01T23:54:17.099019Z"
    },
    "tags": []
   },
   "outputs": [
    {
     "name": "stdout",
     "output_type": "stream",
     "text": [
      "Shape of X Train: (4852, 785) \n",
      "Shape of X Test : (2391, 785) \n",
      "Shape of Y Trian: (4852,) \n",
      "Shape of Y Test : (2391,)\n"
     ]
    }
   ],
   "source": [
    "import numpy as np\n",
    "from sklearn.model_selection import train_test_split\n",
    "train_inputs, test_inputs, train_labels, test_labels = train_test_split(\n",
    "    data_inputs, data_labels, test_size=0.33, random_state=42)\n",
    "\n",
    "print(\"Shape of X Train:\", train_inputs.shape, '\\n'\n",
    "      \"Shape of X Test :\", test_inputs.shape,'\\n'\n",
    "      \"Shape of Y Trian:\", train_labels.shape , '\\n'\n",
    "      \"Shape of Y Test :\", test_labels.shape )"
   ]
  },
  {
   "cell_type": "code",
   "execution_count": 9,
   "id": "6f10cb5c-7c8d-4e1e-a987-11b8de8e42d0",
   "metadata": {
    "execution": {
     "iopub.execute_input": "2021-07-01T23:54:17.115500Z",
     "iopub.status.busy": "2021-07-01T23:54:17.115226Z",
     "iopub.status.idle": "2021-07-01T23:54:17.119573Z",
     "shell.execute_reply": "2021-07-01T23:54:17.118902Z",
     "shell.execute_reply.started": "2021-07-01T23:54:17.115476Z"
    },
    "tags": []
   },
   "outputs": [
    {
     "name": "stdout",
     "output_type": "stream",
     "text": [
      " Num of Train Set: 4852 \n",
      " Not Pork vs Pork: {0: 3167, 1: 1685}\n"
     ]
    }
   ],
   "source": [
    "unique_train_labels, counts_train_labels = np.unique(train_labels, return_counts=True)\n",
    "\n",
    "print(' Num of Train Set:' , train_inputs.shape[0], '\\n'\n",
    "      ,'Not Pork vs Pork:', dict(zip(unique_train_labels, counts_train_labels)))"
   ]
  },
  {
   "cell_type": "code",
   "execution_count": 10,
   "id": "fedad623-02ba-4fad-b0b4-a094de7c39de",
   "metadata": {
    "execution": {
     "iopub.execute_input": "2021-07-01T23:54:17.120881Z",
     "iopub.status.busy": "2021-07-01T23:54:17.120581Z",
     "iopub.status.idle": "2021-07-01T23:54:17.125017Z",
     "shell.execute_reply": "2021-07-01T23:54:17.124243Z",
     "shell.execute_reply.started": "2021-07-01T23:54:17.120855Z"
    },
    "tags": []
   },
   "outputs": [
    {
     "name": "stdout",
     "output_type": "stream",
     "text": [
      " Num of Test Set: 2391 \n",
      " Not Pork vs Pork: {0: 1566, 1: 825}\n"
     ]
    }
   ],
   "source": [
    "unique_test_labels, counts_test_labels = np.unique(test_labels, return_counts=True)\n",
    "\n",
    "print(' Num of Test Set:' , test_inputs.shape[0], '\\n'\n",
    "      ,'Not Pork vs Pork:', dict(zip(unique_test_labels, counts_test_labels)))"
   ]
  },
  {
   "cell_type": "markdown",
   "id": "725f7feb-b93b-4d0b-bcbf-562240a79f8b",
   "metadata": {
    "execution": {
     "iopub.execute_input": "2021-05-16T17:04:13.375644Z",
     "iopub.status.busy": "2021-05-16T17:04:13.375440Z",
     "iopub.status.idle": "2021-05-16T17:04:13.378111Z",
     "shell.execute_reply": "2021-05-16T17:04:13.377464Z",
     "shell.execute_reply.started": "2021-05-16T17:04:13.375623Z"
    },
    "tags": []
   },
   "source": [
    "-------------------------\n",
    "\n",
    "\n",
    "### Stage 3: Model and Building"
   ]
  },
  {
   "cell_type": "markdown",
   "id": "4a0e74bf-eaf4-4043-8d23-88291d8ea344",
   "metadata": {
    "execution": {
     "iopub.execute_input": "2021-05-16T17:13:18.807725Z",
     "iopub.status.busy": "2021-05-16T17:13:18.807498Z",
     "iopub.status.idle": "2021-05-16T17:13:18.810574Z",
     "shell.execute_reply": "2021-05-16T17:13:18.809625Z",
     "shell.execute_reply.started": "2021-05-16T17:13:18.807701Z"
    }
   },
   "source": [
    "#### (1) Using the Subclassing API to Build Dynamic Model"
   ]
  },
  {
   "cell_type": "code",
   "execution_count": 11,
   "id": "1f18f9b1-5f4d-4d0a-baf4-2eebed7f34f2",
   "metadata": {
    "execution": {
     "iopub.execute_input": "2021-07-01T23:54:17.126519Z",
     "iopub.status.busy": "2021-07-01T23:54:17.126310Z",
     "iopub.status.idle": "2021-07-01T23:54:17.135196Z",
     "shell.execute_reply": "2021-07-01T23:54:17.134488Z",
     "shell.execute_reply.started": "2021-07-01T23:54:17.126491Z"
    },
    "tags": []
   },
   "outputs": [],
   "source": [
    "class PorkCNN(tf.keras.Model):\n",
    "    def __init__(self,\n",
    "                 vocab_size,\n",
    "                 emb_dim=128,\n",
    "                 nb_filters=100,\n",
    "                 FFN_units=512,\n",
    "                 nb_classes=2,\n",
    "                 dropout_rate=0.1,\n",
    "                 training=False,\n",
    "                 name=\"dcnn\"):\n",
    "        super(PorkCNN, self).__init__(name=name)\n",
    "        self.embedding=layers.Embedding(vocab_size, emb_dim, input_length=30, input_shape=(BATCH_SIZE, 30))\n",
    "        self.bigram=layers.Conv1D(filters=nb_filters, kernel_size=2, strides = 2, padding=\"valid\", activation=\"relu\")\n",
    "        self.trigram = layers.Conv1D(filters=nb_filters,kernel_size=3, strides = 2, padding=\"valid\",activation=\"relu\")\n",
    "        self.fourgram = layers.Conv1D(filters=nb_filters,kernel_size=4, strides = 1, padding=\"valid\",activation=\"relu\")\n",
    "        self.fivegram = layers.Conv1D(filters=nb_filters,kernel_size=5,strides = 1, padding=\"valid\",activation=\"relu\")\n",
    "        self.sixgram = layers.Conv1D(filters=nb_filters,kernel_size=6,strides = 3, padding=\"valid\",activation=\"relu\")\n",
    "        self.pool = layers.GlobalMaxPool1D()\n",
    "        self.dense_1 = layers.Dense(units=FFN_units, activation=\"relu\")\n",
    "        self.dropout = layers.Dropout(rate=dropout_rate)\n",
    "        self.last_dense = layers.Dense(units=1, activation=\"sigmoid\") \n",
    "        #self.flaten =  layers.Flatten()\n",
    "        #self.batch_nor = layers.BatchNormalization()\n",
    "    def call(self, inputs, training):\n",
    "        x = self.embedding(inputs)\n",
    "        x_1 = self.bigram(x)\n",
    "        x_1 = self.pool(x_1)\n",
    "        x_2 = self.trigram(x)\n",
    "        x_2 = self.pool(x_2)\n",
    "        x_3 = self.fourgram(x)\n",
    "        x_3 = self.pool(x_3)\n",
    "        x_4 = self.fourgram(x)\n",
    "        x_4 = self.pool(x_4) \n",
    "        x_5 = self.fivegram(x)\n",
    "        x_5 = self.pool(x_5)\n",
    "        x_6 = self.sixgram(x)\n",
    "        x_6 = self.pool(x_6)          \n",
    "        merged = tf.concat([x_1, x_2, x_3, x_4, x_5, x_6], axis=-1) \n",
    "        #merged = self.batch_nor(merged)\n",
    "        merged = self.dense_1(merged)\n",
    "        merged = self.dropout(merged, training)\n",
    "        #merged = self.flaten(merged)\n",
    "        output = self.last_dense(merged)        \n",
    "        return output"
   ]
  },
  {
   "cell_type": "code",
   "execution_count": 12,
   "id": "bfc02e93-3a0e-4c1c-b488-b2db98b53824",
   "metadata": {
    "execution": {
     "iopub.execute_input": "2021-07-01T23:54:17.136302Z",
     "iopub.status.busy": "2021-07-01T23:54:17.136085Z",
     "iopub.status.idle": "2021-07-01T23:54:17.154960Z",
     "shell.execute_reply": "2021-07-01T23:54:17.154224Z",
     "shell.execute_reply.started": "2021-07-01T23:54:17.136283Z"
    },
    "tags": []
   },
   "outputs": [],
   "source": [
    "VOCAB_SIZE = tokenizer.vocab_size  # 5000 tokenizer.vocab_size\n",
    "EMB_DIM = 200\n",
    "NB_FILTERS = 100\n",
    "FFN_UNITS = 256\n",
    "NB_CLASSES = 2 #len(set(train_labels))\n",
    "DROPOUT_RATE = 0.4\n",
    "BATCH_SIZE = 230\n",
    "NB_EPOCHS = 80\n",
    "\n",
    "Dcnn = PorkCNN(vocab_size=VOCAB_SIZE,\n",
    "            emb_dim=EMB_DIM,\n",
    "            nb_filters=NB_FILTERS,\n",
    "            FFN_units=FFN_UNITS,\n",
    "            nb_classes=NB_CLASSES,\n",
    "            dropout_rate=DROPOUT_RATE)"
   ]
  },
  {
   "cell_type": "markdown",
   "id": "b0ec8f51-6ed8-49fa-9d5e-c6929184bdf1",
   "metadata": {
    "execution": {
     "iopub.execute_input": "2021-05-16T18:43:59.279424Z",
     "iopub.status.busy": "2021-05-16T18:43:59.279202Z",
     "iopub.status.idle": "2021-05-16T18:43:59.282718Z",
     "shell.execute_reply": "2021-05-16T18:43:59.281823Z",
     "shell.execute_reply.started": "2021-05-16T18:43:59.279399Z"
    }
   },
   "source": [
    "#### (2) Compile and Summary of the Model"
   ]
  },
  {
   "cell_type": "code",
   "execution_count": 13,
   "id": "2cce0414-05eb-4f79-9c27-bca9c91a2903",
   "metadata": {
    "execution": {
     "iopub.execute_input": "2021-07-01T23:54:17.155947Z",
     "iopub.status.busy": "2021-07-01T23:54:17.155804Z",
     "iopub.status.idle": "2021-07-01T23:54:17.225942Z",
     "shell.execute_reply": "2021-07-01T23:54:17.225380Z",
     "shell.execute_reply.started": "2021-07-01T23:54:17.155928Z"
    },
    "tags": []
   },
   "outputs": [
    {
     "name": "stdout",
     "output_type": "stream",
     "text": [
      "Model: \"dcnn\"\n",
      "_________________________________________________________________\n",
      "Layer (type)                 Output Shape              Param #   \n",
      "=================================================================\n",
      "embedding (Embedding)        multiple                  586600    \n",
      "_________________________________________________________________\n",
      "conv1d (Conv1D)              multiple                  40100     \n",
      "_________________________________________________________________\n",
      "conv1d_1 (Conv1D)            multiple                  60100     \n",
      "_________________________________________________________________\n",
      "conv1d_2 (Conv1D)            multiple                  80100     \n",
      "_________________________________________________________________\n",
      "conv1d_3 (Conv1D)            multiple                  100100    \n",
      "_________________________________________________________________\n",
      "conv1d_4 (Conv1D)            multiple                  120100    \n",
      "_________________________________________________________________\n",
      "global_max_pooling1d (Global multiple                  0         \n",
      "_________________________________________________________________\n",
      "dense (Dense)                multiple                  153856    \n",
      "_________________________________________________________________\n",
      "dropout (Dropout)            multiple                  0         \n",
      "_________________________________________________________________\n",
      "dense_1 (Dense)              multiple                  257       \n",
      "=================================================================\n",
      "Total params: 1,141,213\n",
      "Trainable params: 1,141,213\n",
      "Non-trainable params: 0\n",
      "_________________________________________________________________\n"
     ]
    }
   ],
   "source": [
    "Dcnn.compile(loss=\"binary_crossentropy\", optimizer=\"adam\", metrics=[\"accuracy\"])\n",
    "Dcnn.build(input_shape = (BATCH_SIZE, 30)) # (BATCH_SIZE, input_length=30)\n",
    "Dcnn.summary()"
   ]
  },
  {
   "cell_type": "markdown",
   "id": "3880d2a4-2152-43de-bad3-34e67e97469e",
   "metadata": {
    "tags": []
   },
   "source": [
    "#### (3) Check Point Path"
   ]
  },
  {
   "cell_type": "code",
   "execution_count": 14,
   "id": "2c18aa59-a797-4a67-bc4d-a412dbaaedcb",
   "metadata": {
    "execution": {
     "iopub.execute_input": "2021-07-01T23:54:17.227266Z",
     "iopub.status.busy": "2021-07-01T23:54:17.227002Z",
     "iopub.status.idle": "2021-07-01T23:54:17.276461Z",
     "shell.execute_reply": "2021-07-01T23:54:17.275986Z",
     "shell.execute_reply.started": "2021-07-01T23:54:17.227244Z"
    },
    "tags": []
   },
   "outputs": [
    {
     "name": "stdout",
     "output_type": "stream",
     "text": [
      "Checkpoint Located!!\n"
     ]
    }
   ],
   "source": [
    "checkpoint_path = \"checkpoint_recode/ckpt_manager\"\n",
    "\n",
    "ckpt = tf.train.Checkpoint(Dcnn=Dcnn)\n",
    "\n",
    "ckpt_manager = tf.train.CheckpointManager(ckpt, checkpoint_path, max_to_keep=10)\n",
    "\n",
    "if ckpt_manager.latest_checkpoint:\n",
    "    ckpt.restore(ckpt_manager.latest_checkpoint)\n",
    "    print(\"Checkpoint Located!!\")"
   ]
  },
  {
   "cell_type": "markdown",
   "id": "73d70667-275f-40c0-bd71-6b47e9722798",
   "metadata": {
    "execution": {
     "iopub.execute_input": "2021-05-16T17:47:13.442664Z",
     "iopub.status.busy": "2021-05-16T17:47:13.442381Z",
     "iopub.status.idle": "2021-05-16T17:47:13.448371Z",
     "shell.execute_reply": "2021-05-16T17:47:13.446970Z",
     "shell.execute_reply.started": "2021-05-16T17:47:13.442620Z"
    }
   },
   "source": [
    "-------------------------\n",
    "\n",
    "### Stage 4: Train the Model"
   ]
  },
  {
   "cell_type": "code",
   "execution_count": 15,
   "id": "cc975047-5a58-46dc-b427-262796d9b625",
   "metadata": {
    "execution": {
     "iopub.execute_input": "2021-07-01T23:54:17.277559Z",
     "iopub.status.busy": "2021-07-01T23:54:17.277392Z",
     "iopub.status.idle": "2021-07-01T23:54:17.280399Z",
     "shell.execute_reply": "2021-07-01T23:54:17.279757Z",
     "shell.execute_reply.started": "2021-07-01T23:54:17.277541Z"
    },
    "tags": []
   },
   "outputs": [],
   "source": [
    "early_stop = EarlyStopping(monitor='val_loss',patience=5)"
   ]
  },
  {
   "cell_type": "code",
   "execution_count": 16,
   "id": "baf0cade-2c45-43b2-9782-6a8c6e570153",
   "metadata": {
    "execution": {
     "iopub.execute_input": "2021-07-01T23:54:17.281344Z",
     "iopub.status.busy": "2021-07-01T23:54:17.281220Z",
     "iopub.status.idle": "2021-07-02T00:02:15.965883Z",
     "shell.execute_reply": "2021-07-02T00:02:15.964710Z",
     "shell.execute_reply.started": "2021-07-01T23:54:17.281328Z"
    },
    "tags": []
   },
   "outputs": [
    {
     "name": "stdout",
     "output_type": "stream",
     "text": [
      "Epoch 1/80\n",
      "22/22 [==============================] - 49s 2s/step - loss: 0.0429 - accuracy: 0.9858 - val_loss: 0.1884 - val_accuracy: 0.9469\n",
      "Epoch 2/80\n",
      "22/22 [==============================] - 46s 2s/step - loss: 0.0431 - accuracy: 0.9858 - val_loss: 0.1825 - val_accuracy: 0.9473\n",
      "Epoch 3/80\n",
      "22/22 [==============================] - 43s 2s/step - loss: 0.0407 - accuracy: 0.9878 - val_loss: 0.1726 - val_accuracy: 0.9506\n",
      "Epoch 4/80\n",
      "22/22 [==============================] - 48s 2s/step - loss: 0.0440 - accuracy: 0.9854 - val_loss: 0.1781 - val_accuracy: 0.9477\n",
      "Epoch 5/80\n",
      "22/22 [==============================] - 50s 2s/step - loss: 0.0454 - accuracy: 0.9868 - val_loss: 0.1724 - val_accuracy: 0.9460\n",
      "Epoch 6/80\n",
      "22/22 [==============================] - 49s 2s/step - loss: 0.0418 - accuracy: 0.9864 - val_loss: 0.1770 - val_accuracy: 0.9473\n",
      "Epoch 7/80\n",
      "22/22 [==============================] - 49s 2s/step - loss: 0.0426 - accuracy: 0.9862 - val_loss: 0.1905 - val_accuracy: 0.9431\n",
      "Epoch 8/80\n",
      "22/22 [==============================] - 49s 2s/step - loss: 0.0362 - accuracy: 0.9885 - val_loss: 0.1885 - val_accuracy: 0.9452\n",
      "Epoch 9/80\n",
      "22/22 [==============================] - 48s 2s/step - loss: 0.0360 - accuracy: 0.9880 - val_loss: 0.1771 - val_accuracy: 0.9477\n",
      "Epoch 10/80\n",
      "22/22 [==============================] - 48s 2s/step - loss: 0.0379 - accuracy: 0.9864 - val_loss: 0.1816 - val_accuracy: 0.9460\n"
     ]
    },
    {
     "data": {
      "text/plain": [
       "'checkpoint_recode/ckpt_manager/ckpt-2'"
      ]
     },
     "execution_count": 16,
     "metadata": {},
     "output_type": "execute_result"
    }
   ],
   "source": [
    "Dcnn.fit(train_inputs, train_labels,\n",
    "         validation_data=(test_inputs, test_labels),\n",
    "         batch_size=BATCH_SIZE,\n",
    "         #validation_split=0.1,\n",
    "         epochs=NB_EPOCHS,\n",
    "         callbacks=[early_stop])\n",
    "ckpt_manager.save()"
   ]
  },
  {
   "cell_type": "markdown",
   "id": "3b0ac256-ab81-4ff5-8430-48f8bba50126",
   "metadata": {
    "execution": {
     "iopub.execute_input": "2021-05-16T18:23:25.926977Z",
     "iopub.status.busy": "2021-05-16T18:23:25.926754Z",
     "iopub.status.idle": "2021-05-16T18:23:25.931072Z",
     "shell.execute_reply": "2021-05-16T18:23:25.930041Z",
     "shell.execute_reply.started": "2021-05-16T18:23:25.926952Z"
    }
   },
   "source": [
    "-------------------------\n",
    "\n",
    "### Stage 5: Evaluation\n"
   ]
  },
  {
   "cell_type": "code",
   "execution_count": 31,
   "id": "58099cc1-19e0-443a-b960-7ae4d67344d3",
   "metadata": {
    "execution": {
     "iopub.execute_input": "2021-07-02T00:21:16.996111Z",
     "iopub.status.busy": "2021-07-02T00:21:16.995842Z",
     "iopub.status.idle": "2021-07-02T00:21:17.002648Z",
     "shell.execute_reply": "2021-07-02T00:21:17.002043Z",
     "shell.execute_reply.started": "2021-07-02T00:21:16.996087Z"
    },
    "tags": []
   },
   "outputs": [
    {
     "data": {
      "text/html": [
       "<div>\n",
       "<style scoped>\n",
       "    .dataframe tbody tr th:only-of-type {\n",
       "        vertical-align: middle;\n",
       "    }\n",
       "\n",
       "    .dataframe tbody tr th {\n",
       "        vertical-align: top;\n",
       "    }\n",
       "\n",
       "    .dataframe thead th {\n",
       "        text-align: right;\n",
       "    }\n",
       "</style>\n",
       "<table border=\"1\" class=\"dataframe\">\n",
       "  <thead>\n",
       "    <tr style=\"text-align: right;\">\n",
       "      <th></th>\n",
       "    </tr>\n",
       "  </thead>\n",
       "  <tbody>\n",
       "  </tbody>\n",
       "</table>\n",
       "</div>"
      ],
      "text/plain": [
       "Empty DataFrame\n",
       "Columns: []\n",
       "Index: []"
      ]
     },
     "execution_count": 31,
     "metadata": {},
     "output_type": "execute_result"
    }
   ],
   "source": [
    "losses = pd.DataFrame(Dcnn.history.history)\n",
    "losses.head()"
   ]
  },
  {
   "cell_type": "code",
   "execution_count": 32,
   "id": "f37a760f-b388-4051-a78d-295bce1f214a",
   "metadata": {
    "execution": {
     "iopub.execute_input": "2021-07-02T00:21:20.845377Z",
     "iopub.status.busy": "2021-07-02T00:21:20.845136Z",
     "iopub.status.idle": "2021-07-02T00:21:21.508784Z",
     "shell.execute_reply": "2021-07-02T00:21:21.507863Z",
     "shell.execute_reply.started": "2021-07-02T00:21:20.845353Z"
    },
    "tags": []
   },
   "outputs": [
    {
     "ename": "KeyError",
     "evalue": "\"None of [Index(['accuracy', 'val_accuracy'], dtype='object')] are in the [columns]\"",
     "output_type": "error",
     "traceback": [
      "\u001b[0;31m---------------------------------------------------------------------------\u001b[0m",
      "\u001b[0;31mKeyError\u001b[0m                                  Traceback (most recent call last)",
      "\u001b[0;32m<ipython-input-32-a5929e1645d6>\u001b[0m in \u001b[0;36m<module>\u001b[0;34m\u001b[0m\n\u001b[0;32m----> 1\u001b[0;31m \u001b[0mlosses\u001b[0m\u001b[0;34m[\u001b[0m\u001b[0;34m[\u001b[0m\u001b[0;34m'accuracy'\u001b[0m\u001b[0;34m,\u001b[0m\u001b[0;34m'val_accuracy'\u001b[0m\u001b[0;34m]\u001b[0m\u001b[0;34m]\u001b[0m\u001b[0;34m.\u001b[0m\u001b[0mplot\u001b[0m\u001b[0;34m(\u001b[0m\u001b[0;34m)\u001b[0m\u001b[0;34m\u001b[0m\u001b[0;34m\u001b[0m\u001b[0m\n\u001b[0m\u001b[1;32m      2\u001b[0m \u001b[0mlosses\u001b[0m\u001b[0;34m[\u001b[0m\u001b[0;34m[\u001b[0m\u001b[0;34m'loss'\u001b[0m\u001b[0;34m,\u001b[0m\u001b[0;34m'val_loss'\u001b[0m\u001b[0;34m]\u001b[0m\u001b[0;34m]\u001b[0m\u001b[0;34m.\u001b[0m\u001b[0mplot\u001b[0m\u001b[0;34m(\u001b[0m\u001b[0;34m)\u001b[0m\u001b[0;34m\u001b[0m\u001b[0;34m\u001b[0m\u001b[0m\n",
      "\u001b[0;32m/opt/anaconda3/envs/tfenv/lib/python3.8/site-packages/pandas/core/frame.py\u001b[0m in \u001b[0;36m__getitem__\u001b[0;34m(self, key)\u001b[0m\n\u001b[1;32m   3028\u001b[0m             \u001b[0;32mif\u001b[0m \u001b[0mis_iterator\u001b[0m\u001b[0;34m(\u001b[0m\u001b[0mkey\u001b[0m\u001b[0;34m)\u001b[0m\u001b[0;34m:\u001b[0m\u001b[0;34m\u001b[0m\u001b[0;34m\u001b[0m\u001b[0m\n\u001b[1;32m   3029\u001b[0m                 \u001b[0mkey\u001b[0m \u001b[0;34m=\u001b[0m \u001b[0mlist\u001b[0m\u001b[0;34m(\u001b[0m\u001b[0mkey\u001b[0m\u001b[0;34m)\u001b[0m\u001b[0;34m\u001b[0m\u001b[0;34m\u001b[0m\u001b[0m\n\u001b[0;32m-> 3030\u001b[0;31m             \u001b[0mindexer\u001b[0m \u001b[0;34m=\u001b[0m \u001b[0mself\u001b[0m\u001b[0;34m.\u001b[0m\u001b[0mloc\u001b[0m\u001b[0;34m.\u001b[0m\u001b[0m_get_listlike_indexer\u001b[0m\u001b[0;34m(\u001b[0m\u001b[0mkey\u001b[0m\u001b[0;34m,\u001b[0m \u001b[0maxis\u001b[0m\u001b[0;34m=\u001b[0m\u001b[0;36m1\u001b[0m\u001b[0;34m,\u001b[0m \u001b[0mraise_missing\u001b[0m\u001b[0;34m=\u001b[0m\u001b[0;32mTrue\u001b[0m\u001b[0;34m)\u001b[0m\u001b[0;34m[\u001b[0m\u001b[0;36m1\u001b[0m\u001b[0;34m]\u001b[0m\u001b[0;34m\u001b[0m\u001b[0;34m\u001b[0m\u001b[0m\n\u001b[0m\u001b[1;32m   3031\u001b[0m \u001b[0;34m\u001b[0m\u001b[0m\n\u001b[1;32m   3032\u001b[0m         \u001b[0;31m# take() does not accept boolean indexers\u001b[0m\u001b[0;34m\u001b[0m\u001b[0;34m\u001b[0m\u001b[0;34m\u001b[0m\u001b[0m\n",
      "\u001b[0;32m/opt/anaconda3/envs/tfenv/lib/python3.8/site-packages/pandas/core/indexing.py\u001b[0m in \u001b[0;36m_get_listlike_indexer\u001b[0;34m(self, key, axis, raise_missing)\u001b[0m\n\u001b[1;32m   1264\u001b[0m             \u001b[0mkeyarr\u001b[0m\u001b[0;34m,\u001b[0m \u001b[0mindexer\u001b[0m\u001b[0;34m,\u001b[0m \u001b[0mnew_indexer\u001b[0m \u001b[0;34m=\u001b[0m \u001b[0max\u001b[0m\u001b[0;34m.\u001b[0m\u001b[0m_reindex_non_unique\u001b[0m\u001b[0;34m(\u001b[0m\u001b[0mkeyarr\u001b[0m\u001b[0;34m)\u001b[0m\u001b[0;34m\u001b[0m\u001b[0;34m\u001b[0m\u001b[0m\n\u001b[1;32m   1265\u001b[0m \u001b[0;34m\u001b[0m\u001b[0m\n\u001b[0;32m-> 1266\u001b[0;31m         \u001b[0mself\u001b[0m\u001b[0;34m.\u001b[0m\u001b[0m_validate_read_indexer\u001b[0m\u001b[0;34m(\u001b[0m\u001b[0mkeyarr\u001b[0m\u001b[0;34m,\u001b[0m \u001b[0mindexer\u001b[0m\u001b[0;34m,\u001b[0m \u001b[0maxis\u001b[0m\u001b[0;34m,\u001b[0m \u001b[0mraise_missing\u001b[0m\u001b[0;34m=\u001b[0m\u001b[0mraise_missing\u001b[0m\u001b[0;34m)\u001b[0m\u001b[0;34m\u001b[0m\u001b[0;34m\u001b[0m\u001b[0m\n\u001b[0m\u001b[1;32m   1267\u001b[0m         \u001b[0;32mreturn\u001b[0m \u001b[0mkeyarr\u001b[0m\u001b[0;34m,\u001b[0m \u001b[0mindexer\u001b[0m\u001b[0;34m\u001b[0m\u001b[0;34m\u001b[0m\u001b[0m\n\u001b[1;32m   1268\u001b[0m \u001b[0;34m\u001b[0m\u001b[0m\n",
      "\u001b[0;32m/opt/anaconda3/envs/tfenv/lib/python3.8/site-packages/pandas/core/indexing.py\u001b[0m in \u001b[0;36m_validate_read_indexer\u001b[0;34m(self, key, indexer, axis, raise_missing)\u001b[0m\n\u001b[1;32m   1306\u001b[0m             \u001b[0;32mif\u001b[0m \u001b[0mmissing\u001b[0m \u001b[0;34m==\u001b[0m \u001b[0mlen\u001b[0m\u001b[0;34m(\u001b[0m\u001b[0mindexer\u001b[0m\u001b[0;34m)\u001b[0m\u001b[0;34m:\u001b[0m\u001b[0;34m\u001b[0m\u001b[0;34m\u001b[0m\u001b[0m\n\u001b[1;32m   1307\u001b[0m                 \u001b[0maxis_name\u001b[0m \u001b[0;34m=\u001b[0m \u001b[0mself\u001b[0m\u001b[0;34m.\u001b[0m\u001b[0mobj\u001b[0m\u001b[0;34m.\u001b[0m\u001b[0m_get_axis_name\u001b[0m\u001b[0;34m(\u001b[0m\u001b[0maxis\u001b[0m\u001b[0;34m)\u001b[0m\u001b[0;34m\u001b[0m\u001b[0;34m\u001b[0m\u001b[0m\n\u001b[0;32m-> 1308\u001b[0;31m                 \u001b[0;32mraise\u001b[0m \u001b[0mKeyError\u001b[0m\u001b[0;34m(\u001b[0m\u001b[0;34mf\"None of [{key}] are in the [{axis_name}]\"\u001b[0m\u001b[0;34m)\u001b[0m\u001b[0;34m\u001b[0m\u001b[0;34m\u001b[0m\u001b[0m\n\u001b[0m\u001b[1;32m   1309\u001b[0m \u001b[0;34m\u001b[0m\u001b[0m\n\u001b[1;32m   1310\u001b[0m             \u001b[0max\u001b[0m \u001b[0;34m=\u001b[0m \u001b[0mself\u001b[0m\u001b[0;34m.\u001b[0m\u001b[0mobj\u001b[0m\u001b[0;34m.\u001b[0m\u001b[0m_get_axis\u001b[0m\u001b[0;34m(\u001b[0m\u001b[0maxis\u001b[0m\u001b[0;34m)\u001b[0m\u001b[0;34m\u001b[0m\u001b[0;34m\u001b[0m\u001b[0m\n",
      "\u001b[0;31mKeyError\u001b[0m: \"None of [Index(['accuracy', 'val_accuracy'], dtype='object')] are in the [columns]\""
     ]
    }
   ],
   "source": [
    "losses[['accuracy','val_accuracy']].plot()\n",
    "losses[['loss','val_loss']].plot()"
   ]
  },
  {
   "cell_type": "code",
   "execution_count": 34,
   "id": "b523a7e6-c339-4ddc-b27c-3dc8fb169af8",
   "metadata": {
    "execution": {
     "iopub.execute_input": "2021-07-02T00:21:47.559911Z",
     "iopub.status.busy": "2021-07-02T00:21:47.559706Z",
     "iopub.status.idle": "2021-07-02T00:21:47.580703Z",
     "shell.execute_reply": "2021-07-02T00:21:47.579653Z",
     "shell.execute_reply.started": "2021-07-02T00:21:47.559890Z"
    },
    "tags": []
   },
   "outputs": [
    {
     "ename": "TypeError",
     "evalue": "no numeric data to plot",
     "output_type": "error",
     "traceback": [
      "\u001b[0;31m---------------------------------------------------------------------------\u001b[0m",
      "\u001b[0;31mTypeError\u001b[0m                                 Traceback (most recent call last)",
      "\u001b[0;32m<ipython-input-34-4eef7bc651c1>\u001b[0m in \u001b[0;36m<module>\u001b[0;34m\u001b[0m\n\u001b[0;32m----> 1\u001b[0;31m \u001b[0mlosses\u001b[0m\u001b[0;34m.\u001b[0m\u001b[0mplot\u001b[0m\u001b[0;34m(\u001b[0m\u001b[0mfigsize\u001b[0m\u001b[0;34m=\u001b[0m\u001b[0;34m(\u001b[0m\u001b[0;36m8\u001b[0m\u001b[0;34m,\u001b[0m\u001b[0;36m5\u001b[0m\u001b[0;34m)\u001b[0m\u001b[0;34m)\u001b[0m\u001b[0;34m\u001b[0m\u001b[0;34m\u001b[0m\u001b[0m\n\u001b[0m\u001b[1;32m      2\u001b[0m \u001b[0mplt\u001b[0m\u001b[0;34m.\u001b[0m\u001b[0mgrid\u001b[0m\u001b[0;34m(\u001b[0m\u001b[0;32mTrue\u001b[0m\u001b[0;34m)\u001b[0m\u001b[0;34m\u001b[0m\u001b[0;34m\u001b[0m\u001b[0m\n\u001b[1;32m      3\u001b[0m \u001b[0mplt\u001b[0m\u001b[0;34m.\u001b[0m\u001b[0mgca\u001b[0m\u001b[0;34m(\u001b[0m\u001b[0;34m)\u001b[0m\u001b[0;34m.\u001b[0m\u001b[0mset_ylim\u001b[0m\u001b[0;34m(\u001b[0m\u001b[0;36m0\u001b[0m\u001b[0;34m,\u001b[0m\u001b[0;36m1\u001b[0m\u001b[0;34m)\u001b[0m\u001b[0;34m\u001b[0m\u001b[0;34m\u001b[0m\u001b[0m\n\u001b[1;32m      4\u001b[0m \u001b[0mplt\u001b[0m\u001b[0;34m.\u001b[0m\u001b[0mxlabel\u001b[0m\u001b[0;34m(\u001b[0m\u001b[0;34m\"Learning Curves: the mean training loss and accuracy measured over each epochs\"\u001b[0m\u001b[0;34m)\u001b[0m\u001b[0;34m\u001b[0m\u001b[0;34m\u001b[0m\u001b[0m\n\u001b[1;32m      5\u001b[0m \u001b[0;31m#plt.savefig('images/learning_curves.png')\u001b[0m\u001b[0;34m\u001b[0m\u001b[0;34m\u001b[0m\u001b[0;34m\u001b[0m\u001b[0m\n",
      "\u001b[0;32m/opt/anaconda3/envs/tfenv/lib/python3.8/site-packages/pandas/plotting/_core.py\u001b[0m in \u001b[0;36m__call__\u001b[0;34m(self, *args, **kwargs)\u001b[0m\n\u001b[1;32m    953\u001b[0m                     \u001b[0mdata\u001b[0m\u001b[0;34m.\u001b[0m\u001b[0mcolumns\u001b[0m \u001b[0;34m=\u001b[0m \u001b[0mlabel_name\u001b[0m\u001b[0;34m\u001b[0m\u001b[0;34m\u001b[0m\u001b[0m\n\u001b[1;32m    954\u001b[0m \u001b[0;34m\u001b[0m\u001b[0m\n\u001b[0;32m--> 955\u001b[0;31m         \u001b[0;32mreturn\u001b[0m \u001b[0mplot_backend\u001b[0m\u001b[0;34m.\u001b[0m\u001b[0mplot\u001b[0m\u001b[0;34m(\u001b[0m\u001b[0mdata\u001b[0m\u001b[0;34m,\u001b[0m \u001b[0mkind\u001b[0m\u001b[0;34m=\u001b[0m\u001b[0mkind\u001b[0m\u001b[0;34m,\u001b[0m \u001b[0;34m**\u001b[0m\u001b[0mkwargs\u001b[0m\u001b[0;34m)\u001b[0m\u001b[0;34m\u001b[0m\u001b[0;34m\u001b[0m\u001b[0m\n\u001b[0m\u001b[1;32m    956\u001b[0m \u001b[0;34m\u001b[0m\u001b[0m\n\u001b[1;32m    957\u001b[0m     \u001b[0m__call__\u001b[0m\u001b[0;34m.\u001b[0m\u001b[0m__doc__\u001b[0m \u001b[0;34m=\u001b[0m \u001b[0m__doc__\u001b[0m\u001b[0;34m\u001b[0m\u001b[0;34m\u001b[0m\u001b[0m\n",
      "\u001b[0;32m/opt/anaconda3/envs/tfenv/lib/python3.8/site-packages/pandas/plotting/_matplotlib/__init__.py\u001b[0m in \u001b[0;36mplot\u001b[0;34m(data, kind, **kwargs)\u001b[0m\n\u001b[1;32m     59\u001b[0m             \u001b[0mkwargs\u001b[0m\u001b[0;34m[\u001b[0m\u001b[0;34m\"ax\"\u001b[0m\u001b[0;34m]\u001b[0m \u001b[0;34m=\u001b[0m \u001b[0mgetattr\u001b[0m\u001b[0;34m(\u001b[0m\u001b[0max\u001b[0m\u001b[0;34m,\u001b[0m \u001b[0;34m\"left_ax\"\u001b[0m\u001b[0;34m,\u001b[0m \u001b[0max\u001b[0m\u001b[0;34m)\u001b[0m\u001b[0;34m\u001b[0m\u001b[0;34m\u001b[0m\u001b[0m\n\u001b[1;32m     60\u001b[0m     \u001b[0mplot_obj\u001b[0m \u001b[0;34m=\u001b[0m \u001b[0mPLOT_CLASSES\u001b[0m\u001b[0;34m[\u001b[0m\u001b[0mkind\u001b[0m\u001b[0;34m]\u001b[0m\u001b[0;34m(\u001b[0m\u001b[0mdata\u001b[0m\u001b[0;34m,\u001b[0m \u001b[0;34m**\u001b[0m\u001b[0mkwargs\u001b[0m\u001b[0;34m)\u001b[0m\u001b[0;34m\u001b[0m\u001b[0;34m\u001b[0m\u001b[0m\n\u001b[0;32m---> 61\u001b[0;31m     \u001b[0mplot_obj\u001b[0m\u001b[0;34m.\u001b[0m\u001b[0mgenerate\u001b[0m\u001b[0;34m(\u001b[0m\u001b[0;34m)\u001b[0m\u001b[0;34m\u001b[0m\u001b[0;34m\u001b[0m\u001b[0m\n\u001b[0m\u001b[1;32m     62\u001b[0m     \u001b[0mplot_obj\u001b[0m\u001b[0;34m.\u001b[0m\u001b[0mdraw\u001b[0m\u001b[0;34m(\u001b[0m\u001b[0;34m)\u001b[0m\u001b[0;34m\u001b[0m\u001b[0;34m\u001b[0m\u001b[0m\n\u001b[1;32m     63\u001b[0m     \u001b[0;32mreturn\u001b[0m \u001b[0mplot_obj\u001b[0m\u001b[0;34m.\u001b[0m\u001b[0mresult\u001b[0m\u001b[0;34m\u001b[0m\u001b[0;34m\u001b[0m\u001b[0m\n",
      "\u001b[0;32m/opt/anaconda3/envs/tfenv/lib/python3.8/site-packages/pandas/plotting/_matplotlib/core.py\u001b[0m in \u001b[0;36mgenerate\u001b[0;34m(self)\u001b[0m\n\u001b[1;32m    276\u001b[0m     \u001b[0;32mdef\u001b[0m \u001b[0mgenerate\u001b[0m\u001b[0;34m(\u001b[0m\u001b[0mself\u001b[0m\u001b[0;34m)\u001b[0m\u001b[0;34m:\u001b[0m\u001b[0;34m\u001b[0m\u001b[0;34m\u001b[0m\u001b[0m\n\u001b[1;32m    277\u001b[0m         \u001b[0mself\u001b[0m\u001b[0;34m.\u001b[0m\u001b[0m_args_adjust\u001b[0m\u001b[0;34m(\u001b[0m\u001b[0;34m)\u001b[0m\u001b[0;34m\u001b[0m\u001b[0;34m\u001b[0m\u001b[0m\n\u001b[0;32m--> 278\u001b[0;31m         \u001b[0mself\u001b[0m\u001b[0;34m.\u001b[0m\u001b[0m_compute_plot_data\u001b[0m\u001b[0;34m(\u001b[0m\u001b[0;34m)\u001b[0m\u001b[0;34m\u001b[0m\u001b[0;34m\u001b[0m\u001b[0m\n\u001b[0m\u001b[1;32m    279\u001b[0m         \u001b[0mself\u001b[0m\u001b[0;34m.\u001b[0m\u001b[0m_setup_subplots\u001b[0m\u001b[0;34m(\u001b[0m\u001b[0;34m)\u001b[0m\u001b[0;34m\u001b[0m\u001b[0;34m\u001b[0m\u001b[0m\n\u001b[1;32m    280\u001b[0m         \u001b[0mself\u001b[0m\u001b[0;34m.\u001b[0m\u001b[0m_make_plot\u001b[0m\u001b[0;34m(\u001b[0m\u001b[0;34m)\u001b[0m\u001b[0;34m\u001b[0m\u001b[0;34m\u001b[0m\u001b[0m\n",
      "\u001b[0;32m/opt/anaconda3/envs/tfenv/lib/python3.8/site-packages/pandas/plotting/_matplotlib/core.py\u001b[0m in \u001b[0;36m_compute_plot_data\u001b[0;34m(self)\u001b[0m\n\u001b[1;32m    439\u001b[0m         \u001b[0;31m# no non-numeric frames or series allowed\u001b[0m\u001b[0;34m\u001b[0m\u001b[0;34m\u001b[0m\u001b[0;34m\u001b[0m\u001b[0m\n\u001b[1;32m    440\u001b[0m         \u001b[0;32mif\u001b[0m \u001b[0mis_empty\u001b[0m\u001b[0;34m:\u001b[0m\u001b[0;34m\u001b[0m\u001b[0;34m\u001b[0m\u001b[0m\n\u001b[0;32m--> 441\u001b[0;31m             \u001b[0;32mraise\u001b[0m \u001b[0mTypeError\u001b[0m\u001b[0;34m(\u001b[0m\u001b[0;34m\"no numeric data to plot\"\u001b[0m\u001b[0;34m)\u001b[0m\u001b[0;34m\u001b[0m\u001b[0;34m\u001b[0m\u001b[0m\n\u001b[0m\u001b[1;32m    442\u001b[0m \u001b[0;34m\u001b[0m\u001b[0m\n\u001b[1;32m    443\u001b[0m         \u001b[0mself\u001b[0m\u001b[0;34m.\u001b[0m\u001b[0mdata\u001b[0m \u001b[0;34m=\u001b[0m \u001b[0mnumeric_data\u001b[0m\u001b[0;34m.\u001b[0m\u001b[0mapply\u001b[0m\u001b[0;34m(\u001b[0m\u001b[0mself\u001b[0m\u001b[0;34m.\u001b[0m\u001b[0m_convert_to_ndarray\u001b[0m\u001b[0;34m)\u001b[0m\u001b[0;34m\u001b[0m\u001b[0;34m\u001b[0m\u001b[0m\n",
      "\u001b[0;31mTypeError\u001b[0m: no numeric data to plot"
     ]
    }
   ],
   "source": [
    "losses.plot(figsize=(8,5))\n",
    "plt.grid(True)\n",
    "plt.gca().set_ylim(0,1)\n",
    "plt.xlabel(\"Learning Curves: the mean training loss and accuracy measured over each epochs\")\n",
    "#plt.savefig('images/learning_curves.png')\n",
    "plt.show()\n"
   ]
  },
  {
   "cell_type": "code",
   "execution_count": 20,
   "id": "44300a6c-8da8-43cd-ada0-208a99b6b9d7",
   "metadata": {
    "execution": {
     "iopub.execute_input": "2021-07-02T00:02:17.022191Z",
     "iopub.status.busy": "2021-07-02T00:02:17.021833Z",
     "iopub.status.idle": "2021-07-02T00:02:17.025935Z",
     "shell.execute_reply": "2021-07-02T00:02:17.025047Z",
     "shell.execute_reply.started": "2021-07-02T00:02:17.022158Z"
    },
    "tags": []
   },
   "outputs": [],
   "source": [
    "from sklearn.metrics import classification_report,confusion_matrix"
   ]
  },
  {
   "cell_type": "code",
   "execution_count": 21,
   "id": "17760825-eb35-4f8c-88a0-45e94387c08d",
   "metadata": {
    "execution": {
     "iopub.execute_input": "2021-07-02T00:02:17.027764Z",
     "iopub.status.busy": "2021-07-02T00:02:17.027422Z",
     "iopub.status.idle": "2021-07-02T00:02:22.473620Z",
     "shell.execute_reply": "2021-07-02T00:02:22.472654Z",
     "shell.execute_reply.started": "2021-07-02T00:02:17.027729Z"
    },
    "tags": []
   },
   "outputs": [
    {
     "name": "stdout",
     "output_type": "stream",
     "text": [
      "11/11 [==============================] - 5s 486ms/step - loss: 0.1816 - accuracy: 0.9460\n",
      "[0.18157580494880676, 0.9460476636886597]\n"
     ]
    }
   ],
   "source": [
    "evaluation_model = Dcnn.evaluate(test_inputs, test_labels, batch_size=BATCH_SIZE)\n",
    "print(evaluation_model)"
   ]
  },
  {
   "cell_type": "code",
   "execution_count": 22,
   "id": "c9a3f93d-4398-418c-b511-69594874cc5a",
   "metadata": {
    "execution": {
     "iopub.execute_input": "2021-07-02T00:02:22.475565Z",
     "iopub.status.busy": "2021-07-02T00:02:22.475152Z",
     "iopub.status.idle": "2021-07-02T00:02:28.400758Z",
     "shell.execute_reply": "2021-07-02T00:02:28.399388Z",
     "shell.execute_reply.started": "2021-07-02T00:02:22.475526Z"
    },
    "tags": []
   },
   "outputs": [
    {
     "name": "stdout",
     "output_type": "stream",
     "text": [
      "              precision    recall  f1-score   support\n",
      "\n",
      "           0       0.95      0.97      0.96      1566\n",
      "           1       0.94      0.90      0.92       825\n",
      "\n",
      "    accuracy                           0.95      2391\n",
      "   macro avg       0.94      0.94      0.94      2391\n",
      "weighted avg       0.95      0.95      0.95      2391\n",
      "\n"
     ]
    }
   ],
   "source": [
    "# pd.DataFrame(confusion_matrix(test_labels,predictions))\n",
    "predictions = Dcnn.predict(test_inputs)\n",
    "predictions = np.where(predictions >0.8 , 1, 0)\n",
    "print(classification_report(test_labels, predictions))"
   ]
  },
  {
   "cell_type": "code",
   "execution_count": 23,
   "id": "4767688b-bfc8-4dc4-b8ec-2252f7791534",
   "metadata": {
    "execution": {
     "iopub.execute_input": "2021-07-02T00:02:28.403436Z",
     "iopub.status.busy": "2021-07-02T00:02:28.403011Z",
     "iopub.status.idle": "2021-07-02T00:02:28.421593Z",
     "shell.execute_reply": "2021-07-02T00:02:28.420246Z",
     "shell.execute_reply.started": "2021-07-02T00:02:28.403384Z"
    },
    "tags": []
   },
   "outputs": [
    {
     "data": {
      "text/html": [
       "<div>\n",
       "<style scoped>\n",
       "    .dataframe tbody tr th:only-of-type {\n",
       "        vertical-align: middle;\n",
       "    }\n",
       "\n",
       "    .dataframe tbody tr th {\n",
       "        vertical-align: top;\n",
       "    }\n",
       "\n",
       "    .dataframe thead th {\n",
       "        text-align: right;\n",
       "    }\n",
       "</style>\n",
       "<table border=\"1\" class=\"dataframe\">\n",
       "  <thead>\n",
       "    <tr style=\"text-align: right;\">\n",
       "      <th></th>\n",
       "      <th>Predictions: Not Pork(0)</th>\n",
       "      <th>Predictions:Pork(1)</th>\n",
       "    </tr>\n",
       "  </thead>\n",
       "  <tbody>\n",
       "    <tr>\n",
       "      <th>Acutal: Not Pork(0)</th>\n",
       "      <td>1517</td>\n",
       "      <td>49</td>\n",
       "    </tr>\n",
       "    <tr>\n",
       "      <th>Acutal: Pork (1)</th>\n",
       "      <td>81</td>\n",
       "      <td>744</td>\n",
       "    </tr>\n",
       "  </tbody>\n",
       "</table>\n",
       "</div>"
      ],
      "text/plain": [
       "                     Predictions: Not Pork(0)  Predictions:Pork(1)\n",
       "Acutal: Not Pork(0)                      1517                   49\n",
       "Acutal: Pork (1)                           81                  744"
      ]
     },
     "execution_count": 23,
     "metadata": {},
     "output_type": "execute_result"
    }
   ],
   "source": [
    "t = pd.DataFrame(confusion_matrix(test_labels,predictions), \n",
    "             columns=['Predictions: Not Pork(0)','Predictions:Pork(1)'])\n",
    "t.index = ['Acutal: Not Pork(0)', 'Acutal: Pork (1)']\n",
    "t"
   ]
  },
  {
   "cell_type": "markdown",
   "id": "d0416d6f-5e46-47c9-abad-f344bea7a94a",
   "metadata": {},
   "source": [
    "-------------------------\n",
    "\n",
    "### Stage 6: Try the Model with New Data and Export an End-to-end Model\n"
   ]
  },
  {
   "cell_type": "markdown",
   "id": "394b9a6e-0130-4af2-88e5-efe91cf9f348",
   "metadata": {
    "execution": {
     "iopub.execute_input": "2021-05-16T22:53:41.558105Z",
     "iopub.status.busy": "2021-05-16T22:53:41.557872Z",
     "iopub.status.idle": "2021-05-16T22:53:41.560984Z",
     "shell.execute_reply": "2021-05-16T22:53:41.560122Z",
     "shell.execute_reply.started": "2021-05-16T22:53:41.558080Z"
    }
   },
   "source": [
    "#### (1) Test New Dataset from 2000 samples from Legislative Questions from 6th Session "
   ]
  },
  {
   "cell_type": "code",
   "execution_count": 24,
   "id": "632bf33e-1df7-46c5-9a67-ab7141a949c2",
   "metadata": {
    "execution": {
     "iopub.execute_input": "2021-07-02T00:02:28.433247Z",
     "iopub.status.busy": "2021-07-02T00:02:28.432892Z",
     "iopub.status.idle": "2021-07-02T00:02:28.438438Z",
     "shell.execute_reply": "2021-07-02T00:02:28.437130Z",
     "shell.execute_reply.started": "2021-07-02T00:02:28.433205Z"
    },
    "tags": []
   },
   "outputs": [],
   "source": [
    "def as_num(x):\n",
    "    \"\"\"\n",
    "    keep 10 decimals\n",
    "    \"\"\"\n",
    "    y = '{:.15f}'.format(x) \n",
    "    return y"
   ]
  },
  {
   "cell_type": "code",
   "execution_count": 25,
   "id": "06ea7d54-49e9-4363-8304-d1dabaf3beb4",
   "metadata": {
    "execution": {
     "iopub.execute_input": "2021-07-02T00:02:28.444147Z",
     "iopub.status.busy": "2021-07-02T00:02:28.443607Z",
     "iopub.status.idle": "2021-07-02T00:02:29.020038Z",
     "shell.execute_reply": "2021-07-02T00:02:29.018626Z",
     "shell.execute_reply.started": "2021-07-02T00:02:28.444082Z"
    },
    "tags": []
   },
   "outputs": [],
   "source": [
    "import pandas as pd\n",
    "import random\n",
    "\n",
    "# test the trined model using new text from 200 samples from Leislative Questions\n",
    "LQ6 = pd.read_csv('data/LQ_6th.csv')\n",
    "\n",
    "# drop '0': legislor  never have proposed any legisaltive questions. \n",
    "LQ6 = LQ6[LQ6['title'].isin(['0'])== False]\n",
    "\n",
    "# select text with number of charecters within EMB_DIM; len(sub_set) = 11162\n",
    "# sample_df = LQ6.loc[[len(char_num) for char_num in LQ6.title if len(char_num) < MAX_LEN], ['legislator','title', 'topic', 'category', 'keywords', 'ques_type']].reset_index(drop=True)\n",
    "random.seed(42)\n",
    "sample_df = LQ6.iloc[random.sample(range(len(LQ6)), 2000)][['legislator', 'title', 'topic', 'category', 'keywords', 'ques_type']]\n",
    "sub_set = [seg_char(text) for text in [clearPucts(text) for text in sample_df.title]]"
   ]
  },
  {
   "cell_type": "markdown",
   "id": "68cc06a7-27d7-4007-949d-f7df81246e25",
   "metadata": {
    "tags": []
   },
   "source": [
    "##### Top 10 of 2000 Samples"
   ]
  },
  {
   "cell_type": "code",
   "execution_count": 26,
   "id": "d4b618c9-8c4b-40ec-a396-b4679233197e",
   "metadata": {
    "execution": {
     "iopub.execute_input": "2021-07-02T00:02:29.022362Z",
     "iopub.status.busy": "2021-07-02T00:02:29.021970Z",
     "iopub.status.idle": "2021-07-02T00:02:47.502082Z",
     "shell.execute_reply": "2021-07-02T00:02:47.501435Z",
     "shell.execute_reply.started": "2021-07-02T00:02:29.022320Z"
    },
    "tags": []
   },
   "outputs": [
    {
     "data": {
      "text/html": [
       "<div>\n",
       "<style scoped>\n",
       "    .dataframe tbody tr th:only-of-type {\n",
       "        vertical-align: middle;\n",
       "    }\n",
       "\n",
       "    .dataframe tbody tr th {\n",
       "        vertical-align: top;\n",
       "    }\n",
       "\n",
       "    .dataframe thead th {\n",
       "        text-align: right;\n",
       "    }\n",
       "</style>\n",
       "<table border=\"1\" class=\"dataframe\">\n",
       "  <thead>\n",
       "    <tr style=\"text-align: right;\">\n",
       "      <th></th>\n",
       "      <th>legislator</th>\n",
       "      <th>Pork Value(Constituency Interest)</th>\n",
       "      <th>Legislative Questions</th>\n",
       "      <th>Topic</th>\n",
       "      <th>Key Word</th>\n",
       "    </tr>\n",
       "  </thead>\n",
       "  <tbody>\n",
       "    <tr>\n",
       "      <th>4546</th>\n",
       "      <td>林鴻池</td>\n",
       "      <td>0.997251331806183</td>\n",
       "      <td>針對諸多已獲得五年五百億與卓越計畫獎補助的大學擬調漲學雜費，但教育部長杜正勝曾承諾，獲得上述...</td>\n",
       "      <td>教育補助 ; 教育費用 ; 大學</td>\n",
       "      <td>卓越計畫獎補助 ; 大學學費</td>\n",
       "    </tr>\n",
       "    <tr>\n",
       "      <th>1761</th>\n",
       "      <td>彭添富</td>\n",
       "      <td>0.997249662876129</td>\n",
       "      <td>針對「辦理九十四年原住民中低收入戶家庭租屋補助計畫」專案補助計畫，特向行政院提出質詢。</td>\n",
       "      <td>原住民族生活</td>\n",
       "      <td>原住民中低收入戶 ; 租屋補助</td>\n",
       "    </tr>\n",
       "    <tr>\n",
       "      <th>9892</th>\n",
       "      <td>陳啟昱</td>\n",
       "      <td>0.993460297584534</td>\n",
       "      <td>鑑於現行《所得稅法》第十七條規定特別扣除額教育支出部分，僅以納稅義務人之子女就讀大專院校為限...</td>\n",
       "      <td>所得稅 ; 教育費用 ; 扣除額</td>\n",
       "      <td>所得稅法 ; 特別扣除額 ; 教育支出</td>\n",
       "    </tr>\n",
       "    <tr>\n",
       "      <th>35</th>\n",
       "      <td>丁守中</td>\n",
       "      <td>0.992445349693298</td>\n",
       "      <td>針就民眾陳情指出，目前政府對身心障礙者提供之生活津貼，依身心障礙程度等級分為1000元至50...</td>\n",
       "      <td>身心障礙者福利</td>\n",
       "      <td>身心障礙者生活津貼</td>\n",
       "    </tr>\n",
       "    <tr>\n",
       "      <th>9699</th>\n",
       "      <td>鄭運鵬</td>\n",
       "      <td>0.992028832435608</td>\n",
       "      <td>為教育部因編列退撫經費、就學貸款利息補貼、學雜費減免補貼，而排擠國立高中職預算，就目前教育資...</td>\n",
       "      <td>教育補助 ; 高中 ; 教育經費</td>\n",
       "      <td>退撫經費 ; 就學貸款利息補貼 ; 學雜費減免補貼</td>\n",
       "    </tr>\n",
       "    <tr>\n",
       "      <th>1641</th>\n",
       "      <td>彭添富</td>\n",
       "      <td>0.989451169967651</td>\n",
       "      <td>針對「豪雨成災，農作物損失補償」問題，特向行政院提出質詢。</td>\n",
       "      <td>農業補助</td>\n",
       "      <td>豪雨 ; 農作物</td>\n",
       "    </tr>\n",
       "    <tr>\n",
       "      <th>8531</th>\n",
       "      <td>薛凌</td>\n",
       "      <td>0.985388755798340</td>\n",
       "      <td>針對雲林縣政府擬訂「雲林縣地方稅徵收自治條例」草案，開始對煉油廠及煉鋼鐵廠開徵「綠稅」。本席...</td>\n",
       "      <td>地方稅</td>\n",
       "      <td>地方稅 ; 綠稅 ; 空氣汙染防治法</td>\n",
       "    </tr>\n",
       "    <tr>\n",
       "      <th>1706</th>\n",
       "      <td>彭添富</td>\n",
       "      <td>0.984269261360168</td>\n",
       "      <td>針對「觀音鄉保生社區風貌營造規劃設計」專案補助計畫，特向行政院提出質詢。</td>\n",
       "      <td>社區計畫 ; 政府補助</td>\n",
       "      <td>保生社區</td>\n",
       "    </tr>\n",
       "    <tr>\n",
       "      <th>2282</th>\n",
       "      <td>曾華德</td>\n",
       "      <td>0.981687068939209</td>\n",
       "      <td>為民國38年至43年間戌守大陳島等地區之中華民國前江、浙、閩、粵反共救國軍補發薪餉問題，攸關...</td>\n",
       "      <td>軍餉</td>\n",
       "      <td>反共救國軍補發薪餉</td>\n",
       "    </tr>\n",
       "    <tr>\n",
       "      <th>5342</th>\n",
       "      <td>沈智慧</td>\n",
       "      <td>0.978373408317566</td>\n",
       "      <td>針對內政部公布之人口統計資料顯示，去年全年台灣地區新生兒數目為二十一萬六千餘人，比前年再減少...</td>\n",
       "      <td>出生率 ; 人口政策</td>\n",
       "      <td>人口統計 ; 新生兒 ; 出生育率</td>\n",
       "    </tr>\n",
       "    <tr>\n",
       "      <th>2245</th>\n",
       "      <td>曾燦燈</td>\n",
       "      <td>0.978322029113770</td>\n",
       "      <td>鑑於國內航空業者，以油價上漲為由，申請向消費者額外徵收每一航段七美元的油料附加費，嚴重影響消...</td>\n",
       "      <td>民航 ; 石油價格</td>\n",
       "      <td>航空業 ; 油價上漲</td>\n",
       "    </tr>\n",
       "    <tr>\n",
       "      <th>8335</th>\n",
       "      <td>蔡煌瑯(離職)</td>\n",
       "      <td>0.977264642715454</td>\n",
       "      <td>請中央惠予補助辦理「九二一震災出租先租後售及救濟性住宅（平價住宅）」之管理維護費用，特向行政...</td>\n",
       "      <td>災害救助 ; 政府補助</td>\n",
       "      <td>九二一 ; 救濟性住宅 ; 平價住宅</td>\n",
       "    </tr>\n",
       "    <tr>\n",
       "      <th>3304</th>\n",
       "      <td>林建榮</td>\n",
       "      <td>0.975652098655701</td>\n",
       "      <td>為宜蘭縣冬山鄉南富段土地因鄰近冬山河，遭100米風景線逕為分割，致原符合農發條例規定可興建農...</td>\n",
       "      <td>農地 ; 農村住宅 ; 政府補助</td>\n",
       "      <td>冬山鄉 ; 農舍 ; 徵收補償</td>\n",
       "    </tr>\n",
       "    <tr>\n",
       "      <th>7382</th>\n",
       "      <td>盧秀燕</td>\n",
       "      <td>0.975268840789795</td>\n",
       "      <td>針對早期退除役軍官給與補助金發放金額過低，實無法解決終身生活所需，希望相關單位考量實際情況，...</td>\n",
       "      <td>榮民福利</td>\n",
       "      <td>早期退除役軍官給與補助金</td>\n",
       "    </tr>\n",
       "    <tr>\n",
       "      <th>4435</th>\n",
       "      <td>林重謨</td>\n",
       "      <td>0.975120842456818</td>\n",
       "      <td>針對彰化縣教育經費不足，急需中央補助，特向行政院提出緊急質詢。</td>\n",
       "      <td>地方財政 ; 教育經費</td>\n",
       "      <td>彰化縣 ; 教育經費</td>\n",
       "    </tr>\n",
       "  </tbody>\n",
       "</table>\n",
       "</div>"
      ],
      "text/plain": [
       "     legislator Pork Value(Constituency Interest)  \\\n",
       "4546        林鴻池                 0.997251331806183   \n",
       "1761        彭添富                 0.997249662876129   \n",
       "9892        陳啟昱                 0.993460297584534   \n",
       "35          丁守中                 0.992445349693298   \n",
       "9699        鄭運鵬                 0.992028832435608   \n",
       "1641        彭添富                 0.989451169967651   \n",
       "8531         薛凌                 0.985388755798340   \n",
       "1706        彭添富                 0.984269261360168   \n",
       "2282        曾華德                 0.981687068939209   \n",
       "5342        沈智慧                 0.978373408317566   \n",
       "2245        曾燦燈                 0.978322029113770   \n",
       "8335    蔡煌瑯(離職)                 0.977264642715454   \n",
       "3304        林建榮                 0.975652098655701   \n",
       "7382        盧秀燕                 0.975268840789795   \n",
       "4435        林重謨                 0.975120842456818   \n",
       "\n",
       "                                 Legislative Questions              Topic  \\\n",
       "4546  針對諸多已獲得五年五百億與卓越計畫獎補助的大學擬調漲學雜費，但教育部長杜正勝曾承諾，獲得上述...  教育補助 ; 教育費用 ; 大學   \n",
       "1761        針對「辦理九十四年原住民中低收入戶家庭租屋補助計畫」專案補助計畫，特向行政院提出質詢。            原住民族生活   \n",
       "9892  鑑於現行《所得稅法》第十七條規定特別扣除額教育支出部分，僅以納稅義務人之子女就讀大專院校為限...  所得稅 ; 教育費用 ; 扣除額   \n",
       "35    針就民眾陳情指出，目前政府對身心障礙者提供之生活津貼，依身心障礙程度等級分為1000元至50...           身心障礙者福利   \n",
       "9699  為教育部因編列退撫經費、就學貸款利息補貼、學雜費減免補貼，而排擠國立高中職預算，就目前教育資...  教育補助 ; 高中 ; 教育經費   \n",
       "1641                      針對「豪雨成災，農作物損失補償」問題，特向行政院提出質詢。              農業補助   \n",
       "8531  針對雲林縣政府擬訂「雲林縣地方稅徵收自治條例」草案，開始對煉油廠及煉鋼鐵廠開徵「綠稅」。本席...               地方稅   \n",
       "1706               針對「觀音鄉保生社區風貌營造規劃設計」專案補助計畫，特向行政院提出質詢。       社區計畫 ; 政府補助   \n",
       "2282  為民國38年至43年間戌守大陳島等地區之中華民國前江、浙、閩、粵反共救國軍補發薪餉問題，攸關...                軍餉   \n",
       "5342  針對內政部公布之人口統計資料顯示，去年全年台灣地區新生兒數目為二十一萬六千餘人，比前年再減少...        出生率 ; 人口政策   \n",
       "2245  鑑於國內航空業者，以油價上漲為由，申請向消費者額外徵收每一航段七美元的油料附加費，嚴重影響消...         民航 ; 石油價格   \n",
       "8335  請中央惠予補助辦理「九二一震災出租先租後售及救濟性住宅（平價住宅）」之管理維護費用，特向行政...       災害救助 ; 政府補助   \n",
       "3304  為宜蘭縣冬山鄉南富段土地因鄰近冬山河，遭100米風景線逕為分割，致原符合農發條例規定可興建農...  農地 ; 農村住宅 ; 政府補助   \n",
       "7382  針對早期退除役軍官給與補助金發放金額過低，實無法解決終身生活所需，希望相關單位考量實際情況，...              榮民福利   \n",
       "4435                    針對彰化縣教育經費不足，急需中央補助，特向行政院提出緊急質詢。       地方財政 ; 教育經費   \n",
       "\n",
       "                       Key Word  \n",
       "4546             卓越計畫獎補助 ; 大學學費  \n",
       "1761            原住民中低收入戶 ; 租屋補助  \n",
       "9892        所得稅法 ; 特別扣除額 ; 教育支出  \n",
       "35                    身心障礙者生活津貼  \n",
       "9699  退撫經費 ; 就學貸款利息補貼 ; 學雜費減免補貼  \n",
       "1641                   豪雨 ; 農作物  \n",
       "8531         地方稅 ; 綠稅 ; 空氣汙染防治法  \n",
       "1706                       保生社區  \n",
       "2282                  反共救國軍補發薪餉  \n",
       "5342          人口統計 ; 新生兒 ; 出生育率  \n",
       "2245                 航空業 ; 油價上漲  \n",
       "8335         九二一 ; 救濟性住宅 ; 平價住宅  \n",
       "3304            冬山鄉 ; 農舍 ; 徵收補償  \n",
       "7382               早期退除役軍官給與補助金  \n",
       "4435                 彰化縣 ; 教育經費  "
      ]
     },
     "execution_count": 26,
     "metadata": {},
     "output_type": "execute_result"
    }
   ],
   "source": [
    "pd.DataFrame(\n",
    "    {'legislator': sample_df.legislator,\n",
    "     'Pork Value(Constituency Interest)':[as_num(Dcnn(np.array([tokenizer.encode(line)]), training=True).numpy()[0][0]) for line in sub_set],\n",
    "     'Legislative Questions ': sample_df.title,\n",
    "     'Topic': sample_df.topic,\n",
    "     'Key Word':sample_df.keywords}).sort_values(by=['Pork Value(Constituency Interest)'], ascending = False).head(15)"
   ]
  },
  {
   "cell_type": "markdown",
   "id": "6a6d4b15-3e05-427d-a664-8c8ce4e6622c",
   "metadata": {},
   "source": [
    "##### Last 10 Rows of 2000 Samples"
   ]
  },
  {
   "cell_type": "code",
   "execution_count": 27,
   "id": "369a7336-dc9d-4883-b919-b19611b5ad39",
   "metadata": {
    "execution": {
     "iopub.execute_input": "2021-07-02T00:02:47.503415Z",
     "iopub.status.busy": "2021-07-02T00:02:47.503228Z",
     "iopub.status.idle": "2021-07-02T00:02:58.614270Z",
     "shell.execute_reply": "2021-07-02T00:02:58.613763Z",
     "shell.execute_reply.started": "2021-07-02T00:02:47.503393Z"
    },
    "tags": []
   },
   "outputs": [
    {
     "data": {
      "text/html": [
       "<div>\n",
       "<style scoped>\n",
       "    .dataframe tbody tr th:only-of-type {\n",
       "        vertical-align: middle;\n",
       "    }\n",
       "\n",
       "    .dataframe tbody tr th {\n",
       "        vertical-align: top;\n",
       "    }\n",
       "\n",
       "    .dataframe thead th {\n",
       "        text-align: right;\n",
       "    }\n",
       "</style>\n",
       "<table border=\"1\" class=\"dataframe\">\n",
       "  <thead>\n",
       "    <tr style=\"text-align: right;\">\n",
       "      <th></th>\n",
       "      <th>legislator</th>\n",
       "      <th>Pork Value(Constituency Interest)</th>\n",
       "      <th>Legislative Questions</th>\n",
       "      <th>Topic</th>\n",
       "      <th>Key Word</th>\n",
       "    </tr>\n",
       "  </thead>\n",
       "  <tbody>\n",
       "    <tr>\n",
       "      <th>1169</th>\n",
       "      <td>孫大千</td>\n",
       "      <td>0.000005136100754</td>\n",
       "      <td>針對行政院勞工委員會（以下簡稱勞委會）軟性凍結泰勞政策之決策過程是否有當，特向行政院提出質詢。</td>\n",
       "      <td>外籍勞工</td>\n",
       "      <td>凍結泰勞</td>\n",
       "    </tr>\n",
       "    <tr>\n",
       "      <th>845</th>\n",
       "      <td>吳清池</td>\n",
       "      <td>0.000004724090559</td>\n",
       "      <td>有鑑於近年來大客車（遊覽車）事故頻傳，屢屢造成重大傷亡，多肇因於車輛不符安全規格，建請行政院...</td>\n",
       "      <td>交通安全 ; 客運業 ; 車輛檢驗</td>\n",
       "      <td>大客車 ; 遊覽車 ; 事故 ; 傷亡</td>\n",
       "    </tr>\n",
       "    <tr>\n",
       "      <th>11021</th>\n",
       "      <td>黃昭順</td>\n",
       "      <td>0.000004709134373</td>\n",
       "      <td>為邱義仁自年輕時代打選戰至今，猶然樂此不疲，選戰幾乎成為他血液中的基本因子。惟他是否曾想到過...</td>\n",
       "      <td>選舉 ; 政務官 ; 行政中立</td>\n",
       "      <td>邱義仁 ; 國安會秘書長 ; 黨選戰操盤手</td>\n",
       "    </tr>\n",
       "    <tr>\n",
       "      <th>4356</th>\n",
       "      <td>林進興</td>\n",
       "      <td>0.000004578928838</td>\n",
       "      <td>針對行政院金融監督管理委員會為了解決國人廣大的卡債問題，積極推廣債務協商機制，政策本意良好，...</td>\n",
       "      <td>信用卡 ; 債務</td>\n",
       "      <td>卡債 ; 協商機制</td>\n",
       "    </tr>\n",
       "    <tr>\n",
       "      <th>825</th>\n",
       "      <td>吳清池</td>\n",
       "      <td>0.000004556273325</td>\n",
       "      <td>有鑒於近日來交通部狀況不斷，從華航、高鐵、台鐵到公路意外事故頻傳，傳聞交通部擬盛大舉辦中元普...</td>\n",
       "      <td>意外事故 ; 行政效率</td>\n",
       "      <td>意外事故</td>\n",
       "    </tr>\n",
       "    <tr>\n",
       "      <th>1504</th>\n",
       "      <td>張顯耀</td>\n",
       "      <td>0.000004225719749</td>\n",
       "      <td>針對整合警力資源、擴大警政服務範疇，建議行政院將現行警政署、海岸巡防署、消防署及入出境管理局...</td>\n",
       "      <td>政府組織</td>\n",
       "      <td>警力資源 ; 警政服務 ; 警政總署</td>\n",
       "    </tr>\n",
       "    <tr>\n",
       "      <th>6636</th>\n",
       "      <td>王幸男</td>\n",
       "      <td>0.000003777578740</td>\n",
       "      <td>針對「莊嚴肅穆」的行憲紀念日，在威權時代「今天應懸掛國旗」，不過，在愈來愈多人的真實生活中，...</td>\n",
       "      <td>紀念活動 ; 憲政運作</td>\n",
       "      <td>聖誕節 ; 行憲紀念日 ; 制憲權</td>\n",
       "    </tr>\n",
       "    <tr>\n",
       "      <th>5603</th>\n",
       "      <td>潘孟安</td>\n",
       "      <td>0.000003524285376</td>\n",
       "      <td>就我國經濟弊案，近8年起訴金額高達2,767億元，而重大經濟罪犯動輒潛逃出境，每判一個就逃一...</td>\n",
       "      <td>經濟犯罪 ; 脫逃罪</td>\n",
       "      <td>經濟罪犯 ; 潛逃出境 ; 國際司法互助</td>\n",
       "    </tr>\n",
       "    <tr>\n",
       "      <th>9039</th>\n",
       "      <td>邱毅</td>\n",
       "      <td>0.000003422539294</td>\n",
       "      <td>針對新聞局認定TVBS應為綜合台非新聞台乙案，準備將TVBS轉頻一事，日前行政院新聞局認定T...</td>\n",
       "      <td>新聞自由 ; 電視臺</td>\n",
       "      <td>TVBS ; 股權結構 ; 外資 ; 國家通訊傳播委員會組織法 ; NCC ; 報導自由</td>\n",
       "    </tr>\n",
       "    <tr>\n",
       "      <th>3525</th>\n",
       "      <td>林惠官</td>\n",
       "      <td>0.000002675824362</td>\n",
       "      <td>對於政府要求台灣郵政公司每天挑選數萬封郵件蓋上台灣入聯的戳章一事，表示高度關切與嚴正的抗議！...</td>\n",
       "      <td>郵政機關 ; 政令宣導</td>\n",
       "      <td>台灣郵政公司 ; 台灣入聯</td>\n",
       "    </tr>\n",
       "    <tr>\n",
       "      <th>6532</th>\n",
       "      <td>王幸男</td>\n",
       "      <td>0.000001750110300</td>\n",
       "      <td>針對陳總統日昨重申，有信心一定能夠在二○○八年卸任總統之前，為台灣催生一部合身、合時、合用的...</td>\n",
       "      <td>憲法修正</td>\n",
       "      <td>新憲法 ; 修改憲法</td>\n",
       "    </tr>\n",
       "    <tr>\n",
       "      <th>5595</th>\n",
       "      <td>潘孟安</td>\n",
       "      <td>0.000000948772026</td>\n",
       "      <td>就立法委員選舉，改採單一選區兩票制即將首度實施，中央選舉委員應加強宣導「單一選區兩票制」的新...</td>\n",
       "      <td>選舉</td>\n",
       "      <td>立法委員選舉 ; 單一選區兩票制</td>\n",
       "    </tr>\n",
       "    <tr>\n",
       "      <th>716</th>\n",
       "      <td>吳敦義</td>\n",
       "      <td>0.000000801520287</td>\n",
       "      <td>針對新聞局長謝志偉於立院議場備詢時，被要求下台，卻堅不下台一事，顯示行政院對憲法之基本尊重全...</td>\n",
       "      <td>政務官 ; 立法院</td>\n",
       "      <td>新聞局長謝志偉 ; 立院議場</td>\n",
       "    </tr>\n",
       "    <tr>\n",
       "      <th>2339</th>\n",
       "      <td>朱俊曉</td>\n",
       "      <td>0.000000790882439</td>\n",
       "      <td>針對近日新內閣多項工作狀況頻頻，引起治安、金融和外交上的政治危機，並嚴重影響政府、國家形象，...</td>\n",
       "      <td>內閣改組 ; 政府施政</td>\n",
       "      <td>內閣</td>\n",
       "    </tr>\n",
       "    <tr>\n",
       "      <th>8839</th>\n",
       "      <td>賴清德</td>\n",
       "      <td>0.000000279684286</td>\n",
       "      <td>針對市售豆類製品疑含「過氧化氫」情形嚴重，傷害消費者健康，爰要求相關單位依食品衛生管理法切實...</td>\n",
       "      <td>食品管理</td>\n",
       "      <td>豆類製品 ; 過氧化氫</td>\n",
       "    </tr>\n",
       "  </tbody>\n",
       "</table>\n",
       "</div>"
      ],
      "text/plain": [
       "      legislator Pork Value(Constituency Interest)  \\\n",
       "1169         孫大千                 0.000005136100754   \n",
       "845          吳清池                 0.000004724090559   \n",
       "11021        黃昭順                 0.000004709134373   \n",
       "4356         林進興                 0.000004578928838   \n",
       "825          吳清池                 0.000004556273325   \n",
       "1504         張顯耀                 0.000004225719749   \n",
       "6636         王幸男                 0.000003777578740   \n",
       "5603         潘孟安                 0.000003524285376   \n",
       "9039          邱毅                 0.000003422539294   \n",
       "3525         林惠官                 0.000002675824362   \n",
       "6532         王幸男                 0.000001750110300   \n",
       "5595         潘孟安                 0.000000948772026   \n",
       "716          吳敦義                 0.000000801520287   \n",
       "2339         朱俊曉                 0.000000790882439   \n",
       "8839         賴清德                 0.000000279684286   \n",
       "\n",
       "                                  Legislative Questions               Topic  \\\n",
       "1169     針對行政院勞工委員會（以下簡稱勞委會）軟性凍結泰勞政策之決策過程是否有當，特向行政院提出質詢。               外籍勞工   \n",
       "845    有鑑於近年來大客車（遊覽車）事故頻傳，屢屢造成重大傷亡，多肇因於車輛不符安全規格，建請行政院...  交通安全 ; 客運業 ; 車輛檢驗   \n",
       "11021  為邱義仁自年輕時代打選戰至今，猶然樂此不疲，選戰幾乎成為他血液中的基本因子。惟他是否曾想到過...    選舉 ; 政務官 ; 行政中立   \n",
       "4356   針對行政院金融監督管理委員會為了解決國人廣大的卡債問題，積極推廣債務協商機制，政策本意良好，...           信用卡 ; 債務   \n",
       "825    有鑒於近日來交通部狀況不斷，從華航、高鐵、台鐵到公路意外事故頻傳，傳聞交通部擬盛大舉辦中元普...        意外事故 ; 行政效率   \n",
       "1504   針對整合警力資源、擴大警政服務範疇，建議行政院將現行警政署、海岸巡防署、消防署及入出境管理局...               政府組織   \n",
       "6636   針對「莊嚴肅穆」的行憲紀念日，在威權時代「今天應懸掛國旗」，不過，在愈來愈多人的真實生活中，...        紀念活動 ; 憲政運作   \n",
       "5603   就我國經濟弊案，近8年起訴金額高達2,767億元，而重大經濟罪犯動輒潛逃出境，每判一個就逃一...         經濟犯罪 ; 脫逃罪   \n",
       "9039   針對新聞局認定TVBS應為綜合台非新聞台乙案，準備將TVBS轉頻一事，日前行政院新聞局認定T...         新聞自由 ; 電視臺   \n",
       "3525   對於政府要求台灣郵政公司每天挑選數萬封郵件蓋上台灣入聯的戳章一事，表示高度關切與嚴正的抗議！...        郵政機關 ; 政令宣導   \n",
       "6532   針對陳總統日昨重申，有信心一定能夠在二○○八年卸任總統之前，為台灣催生一部合身、合時、合用的...               憲法修正   \n",
       "5595   就立法委員選舉，改採單一選區兩票制即將首度實施，中央選舉委員應加強宣導「單一選區兩票制」的新...                 選舉   \n",
       "716    針對新聞局長謝志偉於立院議場備詢時，被要求下台，卻堅不下台一事，顯示行政院對憲法之基本尊重全...          政務官 ; 立法院   \n",
       "2339   針對近日新內閣多項工作狀況頻頻，引起治安、金融和外交上的政治危機，並嚴重影響政府、國家形象，...        內閣改組 ; 政府施政   \n",
       "8839   針對市售豆類製品疑含「過氧化氫」情形嚴重，傷害消費者健康，爰要求相關單位依食品衛生管理法切實...               食品管理   \n",
       "\n",
       "                                           Key Word  \n",
       "1169                                           凍結泰勞  \n",
       "845                             大客車 ; 遊覽車 ; 事故 ; 傷亡  \n",
       "11021                         邱義仁 ; 國安會秘書長 ; 黨選戰操盤手  \n",
       "4356                                      卡債 ; 協商機制  \n",
       "825                                            意外事故  \n",
       "1504                             警力資源 ; 警政服務 ; 警政總署  \n",
       "6636                              聖誕節 ; 行憲紀念日 ; 制憲權  \n",
       "5603                           經濟罪犯 ; 潛逃出境 ; 國際司法互助  \n",
       "9039   TVBS ; 股權結構 ; 外資 ; 國家通訊傳播委員會組織法 ; NCC ; 報導自由  \n",
       "3525                                  台灣郵政公司 ; 台灣入聯  \n",
       "6532                                     新憲法 ; 修改憲法  \n",
       "5595                               立法委員選舉 ; 單一選區兩票制  \n",
       "716                                  新聞局長謝志偉 ; 立院議場  \n",
       "2339                                             內閣  \n",
       "8839                                    豆類製品 ; 過氧化氫  "
      ]
     },
     "execution_count": 27,
     "metadata": {},
     "output_type": "execute_result"
    }
   ],
   "source": [
    "pd.DataFrame(\n",
    "    {'legislator': sample_df.legislator,\n",
    "     'Pork Value(Constituency Interest)':[as_num(Dcnn(np.array([tokenizer.encode(line)]), training=True).numpy()[0][0]) for line in sub_set],\n",
    "     'Legislative Questions ': sample_df.title,\n",
    "     'Topic': sample_df.topic,\n",
    "     'Key Word':sample_df.keywords}).sort_values(by=['Pork Value(Constituency Interest)'], ascending = False).tail(15)"
   ]
  },
  {
   "cell_type": "markdown",
   "id": "5dc01475-847a-408f-9972-ac02e7aa4721",
   "metadata": {},
   "source": [
    "#### (2) Export an End-to-end Model\n"
   ]
  },
  {
   "cell_type": "code",
   "execution_count": 28,
   "id": "196028d0-edfe-434f-a173-4ccaa688faaa",
   "metadata": {
    "execution": {
     "iopub.execute_input": "2021-07-02T00:02:58.615298Z",
     "iopub.status.busy": "2021-07-02T00:02:58.615156Z",
     "iopub.status.idle": "2021-07-02T00:02:58.617925Z",
     "shell.execute_reply": "2021-07-02T00:02:58.617346Z",
     "shell.execute_reply.started": "2021-07-02T00:02:58.615280Z"
    },
    "tags": []
   },
   "outputs": [],
   "source": [
    "from tensorflow.keras.models import load_model"
   ]
  },
  {
   "cell_type": "code",
   "execution_count": 29,
   "id": "071291d0-c5bb-48de-adb2-f8b2bb3bb542",
   "metadata": {
    "execution": {
     "iopub.execute_input": "2021-07-02T00:02:58.619053Z",
     "iopub.status.busy": "2021-07-02T00:02:58.618827Z",
     "iopub.status.idle": "2021-07-02T00:02:59.643232Z",
     "shell.execute_reply": "2021-07-02T00:02:59.642531Z",
     "shell.execute_reply.started": "2021-07-02T00:02:58.619032Z"
    },
    "tags": []
   },
   "outputs": [
    {
     "name": "stdout",
     "output_type": "stream",
     "text": [
      "INFO:tensorflow:Assets written to: lour_pork_model/assets\n"
     ]
    },
    {
     "name": "stderr",
     "output_type": "stream",
     "text": [
      "INFO:tensorflow:Assets written to: lour_pork_model/assets\n"
     ]
    }
   ],
   "source": [
    "# Get model (Sequential, Functional Model, or Model subclass)\n",
    "Dcnn.save('lour_pork_model')"
   ]
  },
  {
   "cell_type": "code",
   "execution_count": 30,
   "id": "2ac46183-b841-469b-8897-1fea2922e445",
   "metadata": {
    "execution": {
     "iopub.execute_input": "2021-07-02T00:02:59.644437Z",
     "iopub.status.busy": "2021-07-02T00:02:59.644231Z",
     "iopub.status.idle": "2021-07-02T00:03:00.047734Z",
     "shell.execute_reply": "2021-07-02T00:03:00.047120Z",
     "shell.execute_reply.started": "2021-07-02T00:02:59.644414Z"
    },
    "tags": []
   },
   "outputs": [],
   "source": [
    "from tensorflow import keras\n",
    "model = keras.models.load_model('lour_pork_model')"
   ]
  },
  {
   "cell_type": "markdown",
   "id": "40c2f0a7-5f53-4514-8909-9acea71fafad",
   "metadata": {},
   "source": [
    "import pandas as pd\n",
    "import random\n",
    "\n",
    "# test the trined model using new text from 200 samples from Leislative Questions\n",
    "LQ5 = pd.read_csv('LQ_5th.csv')\n",
    "\n",
    "# drop legislor whose speech token less than 15\n",
    "LQ5 = LQ5[[len(x)>15 for x in LQ5.title]]\n",
    "\n",
    "# split the sentence with space\n",
    "full_set = [seg_char(text) for text in [clearPucts(text) for text in LQ5.title]]\n",
    "\n",
    "def recode_as_pork(pork):\n",
    "    if pork>0.75:\n",
    "        return 1\n",
    "    else:\n",
    "        return 0\n",
    "\n",
    "# fit the model    \n",
    "LQ5['pork_value'] = pd.to_numeric([as_num(Dcnn(np.array([tokenizer.encode(line)]), training=True).numpy()[0][0]) for line in full_set])\n",
    "\n",
    "# classify pork_value>0.75 into pork \n",
    "LQ5['pork_dummy'] = [recode_as_pork(x) for x in LQ5['pork_value']]\n",
    "\n",
    "# save\n",
    "LQ5.to_csv('LQ5_pork.csv', index=False)"
   ]
  }
 ],
 "metadata": {
  "kernelspec": {
   "display_name": "Python 3",
   "language": "python",
   "name": "python3"
  },
  "language_info": {
   "codemirror_mode": {
    "name": "ipython",
    "version": 3
   },
   "file_extension": ".py",
   "mimetype": "text/x-python",
   "name": "python",
   "nbconvert_exporter": "python",
   "pygments_lexer": "ipython3",
   "version": "3.8.8"
  }
 },
 "nbformat": 4,
 "nbformat_minor": 5
}
