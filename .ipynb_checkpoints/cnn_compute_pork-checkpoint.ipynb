{
 "cells": [
  {
   "cell_type": "markdown",
   "id": "b65dfbdc-bb80-4bd4-8248-dd06483222cd",
   "metadata": {},
   "source": [
    "# Lour's Pork Barrel Classifier (羅老師肉桶文本分類器)🐖\n",
    "## Convolutional Neural Networks for Pork Barrel Project Classification "
   ]
  },
  {
   "cell_type": "markdown",
   "id": "e8005d5a-f938-4c26-86d5-592408152d08",
   "metadata": {},
   "source": [
    "-------------------------\n",
    "\n",
    "### Stage 1: Libaries & Dependencies"
   ]
  },
  {
   "cell_type": "code",
   "execution_count": 1,
   "id": "6ca92ba3-7480-418f-91e0-d2beea2d10af",
   "metadata": {
    "execution": {
     "iopub.execute_input": "2021-07-01T23:04:10.469061Z",
     "iopub.status.busy": "2021-07-01T23:04:10.468825Z",
     "iopub.status.idle": "2021-07-01T23:04:16.189511Z",
     "shell.execute_reply": "2021-07-01T23:04:16.188803Z",
     "shell.execute_reply.started": "2021-07-01T23:04:10.469038Z"
    },
    "tags": []
   },
   "outputs": [],
   "source": [
    "# built-in library\n",
    "import math\n",
    "import re\n",
    "import collections\n",
    "import zipfile\n",
    "import random\n",
    "from itertools import chain\n",
    "\n",
    "# ML & Deep Learning/ NLP toolkit\n",
    "import pandas as pd\n",
    "import numpy as np\n",
    "import jieba\n",
    "from sklearn.model_selection import train_test_split\n",
    "import tensorflow as tf\n",
    "from tensorflow.keras import layers\n",
    "import tensorflow_datasets as tfds\n",
    "from tensorflow.keras.callbacks import EarlyStopping,TensorBoard\n",
    "\n",
    "#from keras.layers import Flatten\n",
    "\n",
    "# Visualization\n",
    "import matplotlib.pyplot as plt\n",
    "import seaborn as sns"
   ]
  },
  {
   "cell_type": "markdown",
   "id": "8bd77e05-355a-422f-87db-2cf77cba3bdd",
   "metadata": {},
   "source": [
    "-------------------------\n",
    "\n",
    "### Stage 2: Data Preprocessing (Training Data: Introduction of Bills and Legislation from 6th Session to 7th Session, 2004-2012)"
   ]
  },
  {
   "cell_type": "markdown",
   "id": "3b57b9c9-443e-4e26-bda2-15f6877845d5",
   "metadata": {},
   "source": [
    "#### (1) Read file "
   ]
  },
  {
   "cell_type": "code",
   "execution_count": 2,
   "id": "e1973cfb-73d4-4717-a67a-a4e8a0c9edb0",
   "metadata": {
    "execution": {
     "iopub.execute_input": "2021-07-01T23:04:16.190645Z",
     "iopub.status.busy": "2021-07-01T23:04:16.190487Z",
     "iopub.status.idle": "2021-07-01T23:04:16.230711Z",
     "shell.execute_reply": "2021-07-01T23:04:16.230198Z",
     "shell.execute_reply.started": "2021-07-01T23:04:16.190626Z"
    },
    "tags": []
   },
   "outputs": [],
   "source": [
    "# read file\n",
    "df = pd.read_csv('data/Pork Bill - 2021-05-20.csv',encoding='utf-8')\n",
    "\n",
    "# combine abstract of bill and title \n",
    "df['text'] =  df['Title'] + df['Content'].fillna(df['Title'])\n",
    "\n",
    "# drop conten without having any characters\n",
    "# view na's row: df[df['text'].isnull()==True]\n",
    "data = df[['text', 'pork_bill']].dropna(subset=['text'])"
   ]
  },
  {
   "cell_type": "code",
   "execution_count": 3,
   "id": "f6160785-9522-4404-8f77-6df941869cde",
   "metadata": {
    "execution": {
     "iopub.execute_input": "2021-07-01T23:04:16.231724Z",
     "iopub.status.busy": "2021-07-01T23:04:16.231583Z",
     "iopub.status.idle": "2021-07-01T23:04:16.236527Z",
     "shell.execute_reply": "2021-07-01T23:04:16.235804Z",
     "shell.execute_reply.started": "2021-07-01T23:04:16.231706Z"
    },
    "tags": []
   },
   "outputs": [
    {
     "name": "stdout",
     "output_type": "stream",
     "text": [
      " Pork Legislation 2510 \n",
      " None-Pork Legislation 4733\n"
     ]
    }
   ],
   "source": [
    "print(\" Pork Legislation\", data['pork_bill'].value_counts()[1],'\\n', \n",
    "      \"None-Pork Legislation\", data['pork_bill'].value_counts()[0])"
   ]
  },
  {
   "cell_type": "markdown",
   "id": "2327d3a1-56a2-4d60-afc3-d8251e0c5e27",
   "metadata": {},
   "source": [
    "#### (2) Balancing the Training Samples"
   ]
  },
  {
   "cell_type": "markdown",
   "id": "545a68d4-b516-4170-b8c9-78f62d31b859",
   "metadata": {
    "execution": {
     "iopub.execute_input": "2021-05-21T03:47:46.657176Z",
     "iopub.status.busy": "2021-05-21T03:47:46.656903Z",
     "iopub.status.idle": "2021-05-21T03:47:46.667123Z",
     "shell.execute_reply": "2021-05-21T03:47:46.666559Z",
     "shell.execute_reply.started": "2021-05-21T03:47:46.657153Z"
    },
    "tags": []
   },
   "source": [
    "random.seed(24)\n",
    "data = data[data['pork_bill']==1].append(data[data['pork_bill']==0].reset_index(drop=True).loc[[random.randint(0, 2500) for i in range(2500)]]).reset_index(drop=True)"
   ]
  },
  {
   "cell_type": "markdown",
   "id": "6389b502-0eab-4faf-bdd6-742b6068e231",
   "metadata": {
    "execution": {
     "iopub.execute_input": "2021-05-21T03:47:46.668350Z",
     "iopub.status.busy": "2021-05-21T03:47:46.668164Z",
     "iopub.status.idle": "2021-05-21T03:47:46.673541Z",
     "shell.execute_reply": "2021-05-21T03:47:46.672951Z",
     "shell.execute_reply.started": "2021-05-21T03:47:46.668327Z"
    },
    "tags": []
   },
   "source": [
    "print(\" Pork Legislation\", data['pork_bill'].value_counts()[1],'\\n', \n",
    "      \"None-Pork Legislation\", data['pork_bill'].value_counts()[0])"
   ]
  },
  {
   "cell_type": "markdown",
   "id": "5e6d677d-e200-40e6-9252-130eb02fc682",
   "metadata": {
    "execution": {
     "iopub.execute_input": "2021-05-16T17:01:03.001989Z",
     "iopub.status.busy": "2021-05-16T17:01:03.001801Z",
     "iopub.status.idle": "2021-05-16T17:01:03.004600Z",
     "shell.execute_reply": "2021-05-16T17:01:03.003789Z",
     "shell.execute_reply.started": "2021-05-16T17:01:03.001969Z"
    }
   },
   "source": [
    "#### (2) Tokenization"
   ]
  },
  {
   "cell_type": "code",
   "execution_count": 4,
   "id": "120e8b54-7f75-4ca6-a0d0-9872b1522e8e",
   "metadata": {
    "execution": {
     "iopub.execute_input": "2021-07-01T23:04:16.237754Z",
     "iopub.status.busy": "2021-07-01T23:04:16.237550Z",
     "iopub.status.idle": "2021-07-01T23:04:16.245433Z",
     "shell.execute_reply": "2021-07-01T23:04:16.244671Z",
     "shell.execute_reply.started": "2021-07-01T23:04:16.237735Z"
    },
    "tags": []
   },
   "outputs": [],
   "source": [
    "import collections\n",
    "import numpy as np\n",
    "import jieba\n",
    "from itertools import chain\n",
    "\n",
    "\n",
    "def jieba_cut(filename):\n",
    "    \"\"\"\n",
    "    cut Chinese and remove stop words\n",
    "    Reference: https://www.cnblogs.com/Luv-GEM/p/10836454.html\n",
    "    Stopwords: https://www.kaggle.com/rikdifos/english-and-chinese-stopwords?select=cn_stopwords.txt\n",
    "    \"\"\"\n",
    "    stop_list = [i.strip() for i in open('cn_stopwords.txt','r',encoding='utf-8')]  \n",
    "    news_cut = []\n",
    "    news_list = []\n",
    "    for line in filename:    \n",
    "        if line:\n",
    "            news_cut = list(jieba.cut(''.join(line),cut_all=False,HMM=True))  \n",
    "            news_list.append([word.strip() for word in news_cut if word not in stop_list and len(word.strip())>0]) \n",
    "    news_list = list(chain.from_iterable(news_list))  \n",
    "    return news_list\n",
    "\n",
    "def clearPucts(context):\n",
    "    \"\"\"\n",
    "    remove punctuation\n",
    "    ref: https://chenyuzuoo.github.io/posts/28001/\n",
    "    \"\"\"\n",
    "    context = re.sub(\"[\\s+\\.\\!\\/_,$%^*(+\\\"\\']+|[+——！，。？、~@#￥%……&*（）]+\", \"\", context)\n",
    "    context = re.sub(\"[【】╮╯▽╰╭★→「」]+\",\"\", context)\n",
    "    context = re.sub(\"！，❤。～《》：（）【】「」？”“；：、\",\"\",context)\n",
    "    context = re.sub(\"\\s\",\"\",context)\n",
    "    return context\n",
    "\n",
    "def seg_char(sent):\n",
    "    \"\"\"\n",
    "    cut Chinese and remove stop words\n",
    "    ref: https://blog.csdn.net/renyuanfang/article/details/86487367\n",
    "    \"\"\"\n",
    "    # split\n",
    "    pattern_char_1 = re.compile(r'([\\W])')\n",
    "    parts = pattern_char_1.split(sent)\n",
    "    parts = [p for p in parts if len(p.strip())>0]\n",
    "    # cut sentence\n",
    "    pattern = re.compile(r'([\\u4e00-\\u9fa5])')\n",
    "    chars = pattern.split(sent)\n",
    "    chars = [w for w in chars if len(w.strip())>0]\n",
    "    chars = ' '.join(chars)\n",
    "    return chars"
   ]
  },
  {
   "cell_type": "code",
   "execution_count": 5,
   "id": "25f4277c-001d-47a4-81d0-f5ac5ec5e5d3",
   "metadata": {
    "execution": {
     "iopub.execute_input": "2021-07-01T23:04:16.246772Z",
     "iopub.status.busy": "2021-07-01T23:04:16.246505Z",
     "iopub.status.idle": "2021-07-01T23:04:18.366494Z",
     "shell.execute_reply": "2021-07-01T23:04:18.365910Z",
     "shell.execute_reply.started": "2021-07-01T23:04:16.246747Z"
    },
    "tags": []
   },
   "outputs": [],
   "source": [
    "data_clean = [seg_char(text) for text in [clearPucts(text) for text in data.text]]\n",
    "\n",
    "tokenizer = tfds.deprecated.text.SubwordTextEncoder.build_from_corpus(\n",
    "    data_clean, target_vocab_size=2**18)\n",
    "\n",
    "data_inputs = [tokenizer.encode(sentence) for sentence in data_clean]"
   ]
  },
  {
   "cell_type": "markdown",
   "id": "089e65af-e49c-4d60-962e-a0a826809aa5",
   "metadata": {
    "execution": {
     "iopub.execute_input": "2021-05-16T17:01:47.611294Z",
     "iopub.status.busy": "2021-05-16T17:01:47.611020Z",
     "iopub.status.idle": "2021-05-16T17:01:47.614208Z",
     "shell.execute_reply": "2021-05-16T17:01:47.613487Z",
     "shell.execute_reply.started": "2021-05-16T17:01:47.611276Z"
    }
   },
   "source": [
    "#### (3) Padding"
   ]
  },
  {
   "cell_type": "code",
   "execution_count": 6,
   "id": "b801d231-972c-47e3-83c4-7375c2e11a18",
   "metadata": {
    "execution": {
     "iopub.execute_input": "2021-07-01T23:04:18.369924Z",
     "iopub.status.busy": "2021-07-01T23:04:18.369748Z",
     "iopub.status.idle": "2021-07-01T23:04:18.436003Z",
     "shell.execute_reply": "2021-07-01T23:04:18.435461Z",
     "shell.execute_reply.started": "2021-07-01T23:04:18.369905Z"
    },
    "tags": []
   },
   "outputs": [],
   "source": [
    "MAX_LEN = max([len(sentence) for sentence in data_clean])\n",
    "data_inputs = tf.keras.preprocessing.sequence.pad_sequences(data_inputs,\n",
    "                                                            value=0,\n",
    "                                                            padding=\"post\",\n",
    "                                                            maxlen=MAX_LEN)\n"
   ]
  },
  {
   "cell_type": "markdown",
   "id": "f69d90cf-ac3c-4e08-b46b-457d9708d832",
   "metadata": {
    "execution": {
     "iopub.execute_input": "2021-05-16T17:02:28.107037Z",
     "iopub.status.busy": "2021-05-16T17:02:28.106843Z",
     "iopub.status.idle": "2021-05-16T17:02:28.109696Z",
     "shell.execute_reply": "2021-05-16T17:02:28.108954Z",
     "shell.execute_reply.started": "2021-05-16T17:02:28.107017Z"
    }
   },
   "source": [
    "#### (4) Spliting Training/ Testing Set"
   ]
  },
  {
   "cell_type": "code",
   "execution_count": 7,
   "id": "42503355-eea3-4602-ae5a-ea18be84b8d1",
   "metadata": {
    "execution": {
     "iopub.execute_input": "2021-07-01T23:04:18.438289Z",
     "iopub.status.busy": "2021-07-01T23:04:18.438135Z",
     "iopub.status.idle": "2021-07-01T23:04:18.440931Z",
     "shell.execute_reply": "2021-07-01T23:04:18.440432Z",
     "shell.execute_reply.started": "2021-07-01T23:04:18.438272Z"
    },
    "tags": []
   },
   "outputs": [],
   "source": [
    "data_labels = data.pork_bill.values"
   ]
  },
  {
   "cell_type": "code",
   "execution_count": 8,
   "id": "19235117-f63a-4e06-a102-6efe98c37dbf",
   "metadata": {
    "execution": {
     "iopub.execute_input": "2021-07-01T23:04:18.442043Z",
     "iopub.status.busy": "2021-07-01T23:04:18.441912Z",
     "iopub.status.idle": "2021-07-01T23:04:18.457545Z",
     "shell.execute_reply": "2021-07-01T23:04:18.456569Z",
     "shell.execute_reply.started": "2021-07-01T23:04:18.442026Z"
    },
    "tags": []
   },
   "outputs": [
    {
     "name": "stdout",
     "output_type": "stream",
     "text": [
      "Shape of X Train: (4852, 785) \n",
      "Shape of X Test : (2391, 785) \n",
      "Shape of Y Trian: (4852,) \n",
      "Shape of Y Test : (2391,)\n"
     ]
    }
   ],
   "source": [
    "import numpy as np\n",
    "from sklearn.model_selection import train_test_split\n",
    "train_inputs, test_inputs, train_labels, test_labels = train_test_split(\n",
    "    data_inputs, data_labels, test_size=0.33, random_state=42)\n",
    "\n",
    "print(\"Shape of X Train:\", train_inputs.shape, '\\n'\n",
    "      \"Shape of X Test :\", test_inputs.shape,'\\n'\n",
    "      \"Shape of Y Trian:\", train_labels.shape , '\\n'\n",
    "      \"Shape of Y Test :\", test_labels.shape )"
   ]
  },
  {
   "cell_type": "code",
   "execution_count": 9,
   "id": "6f10cb5c-7c8d-4e1e-a987-11b8de8e42d0",
   "metadata": {
    "execution": {
     "iopub.execute_input": "2021-07-01T23:04:18.459317Z",
     "iopub.status.busy": "2021-07-01T23:04:18.459007Z",
     "iopub.status.idle": "2021-07-01T23:04:18.464359Z",
     "shell.execute_reply": "2021-07-01T23:04:18.463329Z",
     "shell.execute_reply.started": "2021-07-01T23:04:18.459293Z"
    },
    "tags": []
   },
   "outputs": [
    {
     "name": "stdout",
     "output_type": "stream",
     "text": [
      " Num of Train Set: 4852 \n",
      " Not Pork vs Pork: {0: 3167, 1: 1685}\n"
     ]
    }
   ],
   "source": [
    "unique_train_labels, counts_train_labels = np.unique(train_labels, return_counts=True)\n",
    "\n",
    "print(' Num of Train Set:' , train_inputs.shape[0], '\\n'\n",
    "      ,'Not Pork vs Pork:', dict(zip(unique_train_labels, counts_train_labels)))"
   ]
  },
  {
   "cell_type": "code",
   "execution_count": 10,
   "id": "fedad623-02ba-4fad-b0b4-a094de7c39de",
   "metadata": {
    "execution": {
     "iopub.execute_input": "2021-07-01T23:04:18.465760Z",
     "iopub.status.busy": "2021-07-01T23:04:18.465456Z",
     "iopub.status.idle": "2021-07-01T23:04:18.469106Z",
     "shell.execute_reply": "2021-07-01T23:04:18.468553Z",
     "shell.execute_reply.started": "2021-07-01T23:04:18.465741Z"
    },
    "tags": []
   },
   "outputs": [
    {
     "name": "stdout",
     "output_type": "stream",
     "text": [
      " Num of Test Set: 2391 \n",
      " Not Pork vs Pork: {0: 1566, 1: 825}\n"
     ]
    }
   ],
   "source": [
    "unique_test_labels, counts_test_labels = np.unique(test_labels, return_counts=True)\n",
    "\n",
    "print(' Num of Test Set:' , test_inputs.shape[0], '\\n'\n",
    "      ,'Not Pork vs Pork:', dict(zip(unique_test_labels, counts_test_labels)))"
   ]
  },
  {
   "cell_type": "markdown",
   "id": "725f7feb-b93b-4d0b-bcbf-562240a79f8b",
   "metadata": {
    "execution": {
     "iopub.execute_input": "2021-05-16T17:04:13.375644Z",
     "iopub.status.busy": "2021-05-16T17:04:13.375440Z",
     "iopub.status.idle": "2021-05-16T17:04:13.378111Z",
     "shell.execute_reply": "2021-05-16T17:04:13.377464Z",
     "shell.execute_reply.started": "2021-05-16T17:04:13.375623Z"
    },
    "tags": []
   },
   "source": [
    "-------------------------\n",
    "\n",
    "\n",
    "### Stage 3: Model and Building"
   ]
  },
  {
   "cell_type": "markdown",
   "id": "4a0e74bf-eaf4-4043-8d23-88291d8ea344",
   "metadata": {
    "execution": {
     "iopub.execute_input": "2021-05-16T17:13:18.807725Z",
     "iopub.status.busy": "2021-05-16T17:13:18.807498Z",
     "iopub.status.idle": "2021-05-16T17:13:18.810574Z",
     "shell.execute_reply": "2021-05-16T17:13:18.809625Z",
     "shell.execute_reply.started": "2021-05-16T17:13:18.807701Z"
    }
   },
   "source": [
    "#### (1) Using the Subclassing API to Build Dynamic Model"
   ]
  },
  {
   "cell_type": "code",
   "execution_count": 11,
   "id": "1f18f9b1-5f4d-4d0a-baf4-2eebed7f34f2",
   "metadata": {
    "execution": {
     "iopub.execute_input": "2021-07-01T23:04:18.470308Z",
     "iopub.status.busy": "2021-07-01T23:04:18.469971Z",
     "iopub.status.idle": "2021-07-01T23:04:18.481274Z",
     "shell.execute_reply": "2021-07-01T23:04:18.480060Z",
     "shell.execute_reply.started": "2021-07-01T23:04:18.470244Z"
    },
    "tags": []
   },
   "outputs": [],
   "source": [
    "class PorkCNN(tf.keras.Model):\n",
    "    def __init__(self,\n",
    "                 vocab_size,\n",
    "                 emb_dim=128,\n",
    "                 nb_filters=100,\n",
    "                 FFN_units=512,\n",
    "                 nb_classes=2,\n",
    "                 dropout_rate=0.1,\n",
    "                 training=False,\n",
    "                 name=\"dcnn\"):\n",
    "        super(PorkCNN, self).__init__(name=name)\n",
    "        self.embedding=layers.Embedding(vocab_size, emb_dim, input_length=30, input_shape=(BATCH_SIZE, 30))\n",
    "        self.bigram=layers.Conv1D(filters=nb_filters, kernel_size=2, strides = 2, padding=\"valid\", activation=\"relu\")\n",
    "        self.trigram = layers.Conv1D(filters=nb_filters,kernel_size=3, strides = 2, padding=\"valid\",activation=\"relu\")\n",
    "        self.fourgram = layers.Conv1D(filters=nb_filters,kernel_size=4, strides = 1, padding=\"valid\",activation=\"relu\")\n",
    "        self.fivegram = layers.Conv1D(filters=nb_filters,kernel_size=5,strides = 1, padding=\"valid\",activation=\"relu\")\n",
    "        self.sixgram = layers.Conv1D(filters=nb_filters,kernel_size=6,strides = 3, padding=\"valid\",activation=\"relu\")\n",
    "        self.pool = layers.GlobalMaxPool1D()\n",
    "        self.dense_1 = layers.Dense(units=FFN_units, activation=\"relu\")\n",
    "        self.dropout = layers.Dropout(rate=dropout_rate)\n",
    "        self.last_dense = layers.Dense(units=1, activation=\"sigmoid\") \n",
    "        #self.flaten =  layers.Flatten()\n",
    "        #self.batch_nor = layers.BatchNormalization()\n",
    "    def call(self, inputs, training):\n",
    "        x = self.embedding(inputs)\n",
    "        x_1 = self.bigram(x)\n",
    "        x_1 = self.pool(x_1)\n",
    "        x_2 = self.trigram(x)\n",
    "        x_2 = self.pool(x_2)\n",
    "        x_3 = self.fourgram(x)\n",
    "        x_3 = self.pool(x_3)\n",
    "        x_4 = self.fourgram(x)\n",
    "        x_4 = self.pool(x_4) \n",
    "        x_5 = self.fivegram(x)\n",
    "        x_5 = self.pool(x_5)\n",
    "        x_6 = self.sixgram(x)\n",
    "        x_6 = self.pool(x_6)          \n",
    "        merged = tf.concat([x_1, x_2, x_3, x_4, x_5, x_6], axis=-1) \n",
    "        #merged = self.batch_nor(merged)\n",
    "        merged = self.dense_1(merged)\n",
    "        merged = self.dropout(merged, training)\n",
    "        #merged = self.flaten(merged)\n",
    "        output = self.last_dense(merged)        \n",
    "        return output"
   ]
  },
  {
   "cell_type": "code",
   "execution_count": 12,
   "id": "bfc02e93-3a0e-4c1c-b488-b2db98b53824",
   "metadata": {
    "execution": {
     "iopub.execute_input": "2021-07-01T23:04:18.482839Z",
     "iopub.status.busy": "2021-07-01T23:04:18.482573Z",
     "iopub.status.idle": "2021-07-01T23:04:18.537662Z",
     "shell.execute_reply": "2021-07-01T23:04:18.537024Z",
     "shell.execute_reply.started": "2021-07-01T23:04:18.482819Z"
    },
    "tags": []
   },
   "outputs": [],
   "source": [
    "VOCAB_SIZE = tokenizer.vocab_size  # 5000 tokenizer.vocab_size\n",
    "EMB_DIM = 200\n",
    "NB_FILTERS = 100\n",
    "FFN_UNITS = 256\n",
    "NB_CLASSES = 2 #len(set(train_labels))\n",
    "DROPOUT_RATE = 0.4\n",
    "BATCH_SIZE = 230\n",
    "NB_EPOCHS = 80\n",
    "\n",
    "Dcnn = PorkCNN(vocab_size=VOCAB_SIZE,\n",
    "            emb_dim=EMB_DIM,\n",
    "            nb_filters=NB_FILTERS,\n",
    "            FFN_units=FFN_UNITS,\n",
    "            nb_classes=NB_CLASSES,\n",
    "            dropout_rate=DROPOUT_RATE)"
   ]
  },
  {
   "cell_type": "markdown",
   "id": "b0ec8f51-6ed8-49fa-9d5e-c6929184bdf1",
   "metadata": {
    "execution": {
     "iopub.execute_input": "2021-05-16T18:43:59.279424Z",
     "iopub.status.busy": "2021-05-16T18:43:59.279202Z",
     "iopub.status.idle": "2021-05-16T18:43:59.282718Z",
     "shell.execute_reply": "2021-05-16T18:43:59.281823Z",
     "shell.execute_reply.started": "2021-05-16T18:43:59.279399Z"
    }
   },
   "source": [
    "#### (2) Compile and Summary of the Model"
   ]
  },
  {
   "cell_type": "code",
   "execution_count": 13,
   "id": "2cce0414-05eb-4f79-9c27-bca9c91a2903",
   "metadata": {
    "execution": {
     "iopub.execute_input": "2021-07-01T23:04:18.538797Z",
     "iopub.status.busy": "2021-07-01T23:04:18.538631Z",
     "iopub.status.idle": "2021-07-01T23:04:18.637642Z",
     "shell.execute_reply": "2021-07-01T23:04:18.637090Z",
     "shell.execute_reply.started": "2021-07-01T23:04:18.538778Z"
    },
    "tags": []
   },
   "outputs": [
    {
     "name": "stdout",
     "output_type": "stream",
     "text": [
      "Model: \"dcnn\"\n",
      "_________________________________________________________________\n",
      "Layer (type)                 Output Shape              Param #   \n",
      "=================================================================\n",
      "embedding (Embedding)        multiple                  586600    \n",
      "_________________________________________________________________\n",
      "conv1d (Conv1D)              multiple                  40100     \n",
      "_________________________________________________________________\n",
      "conv1d_1 (Conv1D)            multiple                  60100     \n",
      "_________________________________________________________________\n",
      "conv1d_2 (Conv1D)            multiple                  80100     \n",
      "_________________________________________________________________\n",
      "conv1d_3 (Conv1D)            multiple                  100100    \n",
      "_________________________________________________________________\n",
      "conv1d_4 (Conv1D)            multiple                  120100    \n",
      "_________________________________________________________________\n",
      "global_max_pooling1d (Global multiple                  0         \n",
      "_________________________________________________________________\n",
      "dense (Dense)                multiple                  153856    \n",
      "_________________________________________________________________\n",
      "dropout (Dropout)            multiple                  0         \n",
      "_________________________________________________________________\n",
      "dense_1 (Dense)              multiple                  257       \n",
      "=================================================================\n",
      "Total params: 1,141,213\n",
      "Trainable params: 1,141,213\n",
      "Non-trainable params: 0\n",
      "_________________________________________________________________\n"
     ]
    }
   ],
   "source": [
    "Dcnn.compile(loss=\"binary_crossentropy\", optimizer=\"adam\", metrics=[\"accuracy\"])\n",
    "Dcnn.build(input_shape = (BATCH_SIZE, 30)) # (BATCH_SIZE, input_length=30)\n",
    "Dcnn.summary()"
   ]
  },
  {
   "cell_type": "markdown",
   "id": "3880d2a4-2152-43de-bad3-34e67e97469e",
   "metadata": {
    "tags": []
   },
   "source": [
    "#### (3) Check Point Path"
   ]
  },
  {
   "cell_type": "code",
   "execution_count": 14,
   "id": "2c18aa59-a797-4a67-bc4d-a412dbaaedcb",
   "metadata": {
    "execution": {
     "iopub.execute_input": "2021-07-01T23:04:18.638987Z",
     "iopub.status.busy": "2021-07-01T23:04:18.638778Z",
     "iopub.status.idle": "2021-07-01T23:04:18.642533Z",
     "shell.execute_reply": "2021-07-01T23:04:18.641961Z",
     "shell.execute_reply.started": "2021-07-01T23:04:18.638968Z"
    },
    "tags": []
   },
   "outputs": [],
   "source": [
    "checkpoint_path = \"checkpoint_recode/ckpt_manager\"\n",
    "\n",
    "ckpt = tf.train.Checkpoint(Dcnn=Dcnn)\n",
    "\n",
    "ckpt_manager = tf.train.CheckpointManager(ckpt, checkpoint_path, max_to_keep=10)\n",
    "\n",
    "if ckpt_manager.latest_checkpoint:\n",
    "    ckpt.restore(ckpt_manager.latest_checkpoint)\n",
    "    print(\"Checkpoint Located!!\")"
   ]
  },
  {
   "cell_type": "markdown",
   "id": "73d70667-275f-40c0-bd71-6b47e9722798",
   "metadata": {
    "execution": {
     "iopub.execute_input": "2021-05-16T17:47:13.442664Z",
     "iopub.status.busy": "2021-05-16T17:47:13.442381Z",
     "iopub.status.idle": "2021-05-16T17:47:13.448371Z",
     "shell.execute_reply": "2021-05-16T17:47:13.446970Z",
     "shell.execute_reply.started": "2021-05-16T17:47:13.442620Z"
    }
   },
   "source": [
    "-------------------------\n",
    "\n",
    "### Stage 4: Train the Model"
   ]
  },
  {
   "cell_type": "code",
   "execution_count": 15,
   "id": "cc975047-5a58-46dc-b427-262796d9b625",
   "metadata": {
    "execution": {
     "iopub.execute_input": "2021-07-01T23:04:18.643728Z",
     "iopub.status.busy": "2021-07-01T23:04:18.643480Z",
     "iopub.status.idle": "2021-07-01T23:04:18.646220Z",
     "shell.execute_reply": "2021-07-01T23:04:18.645672Z",
     "shell.execute_reply.started": "2021-07-01T23:04:18.643705Z"
    },
    "tags": []
   },
   "outputs": [],
   "source": [
    "early_stop = EarlyStopping(monitor='val_loss',patience=5)"
   ]
  },
  {
   "cell_type": "code",
   "execution_count": 16,
   "id": "baf0cade-2c45-43b2-9782-6a8c6e570153",
   "metadata": {
    "execution": {
     "iopub.execute_input": "2021-07-01T23:04:18.647283Z",
     "iopub.status.busy": "2021-07-01T23:04:18.647090Z",
     "iopub.status.idle": "2021-07-01T23:14:05.091606Z",
     "shell.execute_reply": "2021-07-01T23:14:05.090457Z",
     "shell.execute_reply.started": "2021-07-01T23:04:18.647264Z"
    },
    "tags": []
   },
   "outputs": [
    {
     "name": "stdout",
     "output_type": "stream",
     "text": [
      "Epoch 1/80\n",
      "19/19 [==============================] - 41s 2s/step - loss: 0.6169 - accuracy: 0.6450 - val_loss: 0.5919 - val_accuracy: 0.6399\n",
      "Epoch 2/80\n",
      "19/19 [==============================] - 47s 3s/step - loss: 0.4293 - accuracy: 0.8078 - val_loss: 0.3356 - val_accuracy: 0.8560\n",
      "Epoch 3/80\n",
      "19/19 [==============================] - 59s 3s/step - loss: 0.2074 - accuracy: 0.9166 - val_loss: 0.1925 - val_accuracy: 0.9218\n",
      "Epoch 4/80\n",
      "19/19 [==============================] - 53s 3s/step - loss: 0.0965 - accuracy: 0.9691 - val_loss: 0.1837 - val_accuracy: 0.9321\n",
      "Epoch 5/80\n",
      "19/19 [==============================] - 59s 3s/step - loss: 0.0563 - accuracy: 0.9808 - val_loss: 0.1688 - val_accuracy: 0.9403\n",
      "Epoch 6/80\n",
      "19/19 [==============================] - 46s 2s/step - loss: 0.0458 - accuracy: 0.9860 - val_loss: 0.1902 - val_accuracy: 0.9321\n",
      "Epoch 7/80\n",
      "19/19 [==============================] - 48s 3s/step - loss: 0.0514 - accuracy: 0.9842 - val_loss: 0.1687 - val_accuracy: 0.9424\n",
      "Epoch 8/80\n",
      "19/19 [==============================] - 44s 2s/step - loss: 0.0446 - accuracy: 0.9849 - val_loss: 0.1843 - val_accuracy: 0.9342\n",
      "Epoch 9/80\n",
      "19/19 [==============================] - 44s 2s/step - loss: 0.0381 - accuracy: 0.9858 - val_loss: 0.1847 - val_accuracy: 0.9383\n",
      "Epoch 10/80\n",
      "19/19 [==============================] - 48s 3s/step - loss: 0.0419 - accuracy: 0.9837 - val_loss: 0.1781 - val_accuracy: 0.9342\n",
      "Epoch 11/80\n",
      "19/19 [==============================] - 48s 3s/step - loss: 0.0361 - accuracy: 0.9851 - val_loss: 0.1741 - val_accuracy: 0.9424\n",
      "Epoch 12/80\n",
      "19/19 [==============================] - 50s 3s/step - loss: 0.0376 - accuracy: 0.9860 - val_loss: 0.1750 - val_accuracy: 0.9383\n"
     ]
    },
    {
     "data": {
      "text/plain": [
       "'checkpoint_recode/ckpt_manager/ckpt-1'"
      ]
     },
     "execution_count": 16,
     "metadata": {},
     "output_type": "execute_result"
    }
   ],
   "source": [
    "Dcnn.fit(train_inputs, train_labels,\n",
    "         validation_data=(test_inputs, test_labels),\n",
    "         batch_size=BATCH_SIZE,\n",
    "         epochs=NB_EPOCHS,\n",
    "         callbacks=[early_stop])\n",
    "ckpt_manager.save()"
   ]
  },
  {
   "cell_type": "markdown",
   "id": "3b0ac256-ab81-4ff5-8430-48f8bba50126",
   "metadata": {
    "execution": {
     "iopub.execute_input": "2021-05-16T18:23:25.926977Z",
     "iopub.status.busy": "2021-05-16T18:23:25.926754Z",
     "iopub.status.idle": "2021-05-16T18:23:25.931072Z",
     "shell.execute_reply": "2021-05-16T18:23:25.930041Z",
     "shell.execute_reply.started": "2021-05-16T18:23:25.926952Z"
    }
   },
   "source": [
    "-------------------------\n",
    "\n",
    "### Stage 5: Evaluation\n"
   ]
  },
  {
   "cell_type": "code",
   "execution_count": 31,
   "id": "58099cc1-19e0-443a-b960-7ae4d67344d3",
   "metadata": {
    "execution": {
     "iopub.execute_input": "2021-07-01T23:15:23.071557Z",
     "iopub.status.busy": "2021-07-01T23:15:23.071364Z",
     "iopub.status.idle": "2021-07-01T23:15:23.076639Z",
     "shell.execute_reply": "2021-07-01T23:15:23.076048Z",
     "shell.execute_reply.started": "2021-07-01T23:15:23.071536Z"
    },
    "tags": []
   },
   "outputs": [
    {
     "data": {
      "text/html": [
       "<div>\n",
       "<style scoped>\n",
       "    .dataframe tbody tr th:only-of-type {\n",
       "        vertical-align: middle;\n",
       "    }\n",
       "\n",
       "    .dataframe tbody tr th {\n",
       "        vertical-align: top;\n",
       "    }\n",
       "\n",
       "    .dataframe thead th {\n",
       "        text-align: right;\n",
       "    }\n",
       "</style>\n",
       "<table border=\"1\" class=\"dataframe\">\n",
       "  <thead>\n",
       "    <tr style=\"text-align: right;\">\n",
       "      <th></th>\n",
       "    </tr>\n",
       "  </thead>\n",
       "  <tbody>\n",
       "  </tbody>\n",
       "</table>\n",
       "</div>"
      ],
      "text/plain": [
       "Empty DataFrame\n",
       "Columns: []\n",
       "Index: []"
      ]
     },
     "execution_count": 31,
     "metadata": {},
     "output_type": "execute_result"
    }
   ],
   "source": [
    "losses = pd.DataFrame(Dcnn.history.history)\n",
    "losses.head()"
   ]
  },
  {
   "cell_type": "code",
   "execution_count": 34,
   "id": "f37a760f-b388-4051-a78d-295bce1f214a",
   "metadata": {
    "execution": {
     "iopub.execute_input": "2021-07-01T23:15:27.678381Z",
     "iopub.status.busy": "2021-07-01T23:15:27.678192Z",
     "iopub.status.idle": "2021-07-01T23:15:27.693867Z",
     "shell.execute_reply": "2021-07-01T23:15:27.692973Z",
     "shell.execute_reply.started": "2021-07-01T23:15:27.678361Z"
    },
    "tags": []
   },
   "outputs": [
    {
     "ename": "KeyError",
     "evalue": "\"None of [Index(['accuracy', 'val_accuracy'], dtype='object')] are in the [columns]\"",
     "output_type": "error",
     "traceback": [
      "\u001b[0;31m---------------------------------------------------------------------------\u001b[0m",
      "\u001b[0;31mKeyError\u001b[0m                                  Traceback (most recent call last)",
      "\u001b[0;32m<ipython-input-34-a5929e1645d6>\u001b[0m in \u001b[0;36m<module>\u001b[0;34m\u001b[0m\n\u001b[0;32m----> 1\u001b[0;31m \u001b[0mlosses\u001b[0m\u001b[0;34m[\u001b[0m\u001b[0;34m[\u001b[0m\u001b[0;34m'accuracy'\u001b[0m\u001b[0;34m,\u001b[0m\u001b[0;34m'val_accuracy'\u001b[0m\u001b[0;34m]\u001b[0m\u001b[0;34m]\u001b[0m\u001b[0;34m.\u001b[0m\u001b[0mplot\u001b[0m\u001b[0;34m(\u001b[0m\u001b[0;34m)\u001b[0m\u001b[0;34m\u001b[0m\u001b[0;34m\u001b[0m\u001b[0m\n\u001b[0m\u001b[1;32m      2\u001b[0m \u001b[0mlosses\u001b[0m\u001b[0;34m[\u001b[0m\u001b[0;34m[\u001b[0m\u001b[0;34m'loss'\u001b[0m\u001b[0;34m,\u001b[0m\u001b[0;34m'val_loss'\u001b[0m\u001b[0;34m]\u001b[0m\u001b[0;34m]\u001b[0m\u001b[0;34m.\u001b[0m\u001b[0mplot\u001b[0m\u001b[0;34m(\u001b[0m\u001b[0;34m)\u001b[0m\u001b[0;34m\u001b[0m\u001b[0;34m\u001b[0m\u001b[0m\n",
      "\u001b[0;32m/opt/anaconda3/envs/tfenv/lib/python3.8/site-packages/pandas/core/frame.py\u001b[0m in \u001b[0;36m__getitem__\u001b[0;34m(self, key)\u001b[0m\n\u001b[1;32m   3028\u001b[0m             \u001b[0;32mif\u001b[0m \u001b[0mis_iterator\u001b[0m\u001b[0;34m(\u001b[0m\u001b[0mkey\u001b[0m\u001b[0;34m)\u001b[0m\u001b[0;34m:\u001b[0m\u001b[0;34m\u001b[0m\u001b[0;34m\u001b[0m\u001b[0m\n\u001b[1;32m   3029\u001b[0m                 \u001b[0mkey\u001b[0m \u001b[0;34m=\u001b[0m \u001b[0mlist\u001b[0m\u001b[0;34m(\u001b[0m\u001b[0mkey\u001b[0m\u001b[0;34m)\u001b[0m\u001b[0;34m\u001b[0m\u001b[0;34m\u001b[0m\u001b[0m\n\u001b[0;32m-> 3030\u001b[0;31m             \u001b[0mindexer\u001b[0m \u001b[0;34m=\u001b[0m \u001b[0mself\u001b[0m\u001b[0;34m.\u001b[0m\u001b[0mloc\u001b[0m\u001b[0;34m.\u001b[0m\u001b[0m_get_listlike_indexer\u001b[0m\u001b[0;34m(\u001b[0m\u001b[0mkey\u001b[0m\u001b[0;34m,\u001b[0m \u001b[0maxis\u001b[0m\u001b[0;34m=\u001b[0m\u001b[0;36m1\u001b[0m\u001b[0;34m,\u001b[0m \u001b[0mraise_missing\u001b[0m\u001b[0;34m=\u001b[0m\u001b[0;32mTrue\u001b[0m\u001b[0;34m)\u001b[0m\u001b[0;34m[\u001b[0m\u001b[0;36m1\u001b[0m\u001b[0;34m]\u001b[0m\u001b[0;34m\u001b[0m\u001b[0;34m\u001b[0m\u001b[0m\n\u001b[0m\u001b[1;32m   3031\u001b[0m \u001b[0;34m\u001b[0m\u001b[0m\n\u001b[1;32m   3032\u001b[0m         \u001b[0;31m# take() does not accept boolean indexers\u001b[0m\u001b[0;34m\u001b[0m\u001b[0;34m\u001b[0m\u001b[0;34m\u001b[0m\u001b[0m\n",
      "\u001b[0;32m/opt/anaconda3/envs/tfenv/lib/python3.8/site-packages/pandas/core/indexing.py\u001b[0m in \u001b[0;36m_get_listlike_indexer\u001b[0;34m(self, key, axis, raise_missing)\u001b[0m\n\u001b[1;32m   1264\u001b[0m             \u001b[0mkeyarr\u001b[0m\u001b[0;34m,\u001b[0m \u001b[0mindexer\u001b[0m\u001b[0;34m,\u001b[0m \u001b[0mnew_indexer\u001b[0m \u001b[0;34m=\u001b[0m \u001b[0max\u001b[0m\u001b[0;34m.\u001b[0m\u001b[0m_reindex_non_unique\u001b[0m\u001b[0;34m(\u001b[0m\u001b[0mkeyarr\u001b[0m\u001b[0;34m)\u001b[0m\u001b[0;34m\u001b[0m\u001b[0;34m\u001b[0m\u001b[0m\n\u001b[1;32m   1265\u001b[0m \u001b[0;34m\u001b[0m\u001b[0m\n\u001b[0;32m-> 1266\u001b[0;31m         \u001b[0mself\u001b[0m\u001b[0;34m.\u001b[0m\u001b[0m_validate_read_indexer\u001b[0m\u001b[0;34m(\u001b[0m\u001b[0mkeyarr\u001b[0m\u001b[0;34m,\u001b[0m \u001b[0mindexer\u001b[0m\u001b[0;34m,\u001b[0m \u001b[0maxis\u001b[0m\u001b[0;34m,\u001b[0m \u001b[0mraise_missing\u001b[0m\u001b[0;34m=\u001b[0m\u001b[0mraise_missing\u001b[0m\u001b[0;34m)\u001b[0m\u001b[0;34m\u001b[0m\u001b[0;34m\u001b[0m\u001b[0m\n\u001b[0m\u001b[1;32m   1267\u001b[0m         \u001b[0;32mreturn\u001b[0m \u001b[0mkeyarr\u001b[0m\u001b[0;34m,\u001b[0m \u001b[0mindexer\u001b[0m\u001b[0;34m\u001b[0m\u001b[0;34m\u001b[0m\u001b[0m\n\u001b[1;32m   1268\u001b[0m \u001b[0;34m\u001b[0m\u001b[0m\n",
      "\u001b[0;32m/opt/anaconda3/envs/tfenv/lib/python3.8/site-packages/pandas/core/indexing.py\u001b[0m in \u001b[0;36m_validate_read_indexer\u001b[0;34m(self, key, indexer, axis, raise_missing)\u001b[0m\n\u001b[1;32m   1306\u001b[0m             \u001b[0;32mif\u001b[0m \u001b[0mmissing\u001b[0m \u001b[0;34m==\u001b[0m \u001b[0mlen\u001b[0m\u001b[0;34m(\u001b[0m\u001b[0mindexer\u001b[0m\u001b[0;34m)\u001b[0m\u001b[0;34m:\u001b[0m\u001b[0;34m\u001b[0m\u001b[0;34m\u001b[0m\u001b[0m\n\u001b[1;32m   1307\u001b[0m                 \u001b[0maxis_name\u001b[0m \u001b[0;34m=\u001b[0m \u001b[0mself\u001b[0m\u001b[0;34m.\u001b[0m\u001b[0mobj\u001b[0m\u001b[0;34m.\u001b[0m\u001b[0m_get_axis_name\u001b[0m\u001b[0;34m(\u001b[0m\u001b[0maxis\u001b[0m\u001b[0;34m)\u001b[0m\u001b[0;34m\u001b[0m\u001b[0;34m\u001b[0m\u001b[0m\n\u001b[0;32m-> 1308\u001b[0;31m                 \u001b[0;32mraise\u001b[0m \u001b[0mKeyError\u001b[0m\u001b[0;34m(\u001b[0m\u001b[0;34mf\"None of [{key}] are in the [{axis_name}]\"\u001b[0m\u001b[0;34m)\u001b[0m\u001b[0;34m\u001b[0m\u001b[0;34m\u001b[0m\u001b[0m\n\u001b[0m\u001b[1;32m   1309\u001b[0m \u001b[0;34m\u001b[0m\u001b[0m\n\u001b[1;32m   1310\u001b[0m             \u001b[0max\u001b[0m \u001b[0;34m=\u001b[0m \u001b[0mself\u001b[0m\u001b[0;34m.\u001b[0m\u001b[0mobj\u001b[0m\u001b[0;34m.\u001b[0m\u001b[0m_get_axis\u001b[0m\u001b[0;34m(\u001b[0m\u001b[0maxis\u001b[0m\u001b[0;34m)\u001b[0m\u001b[0;34m\u001b[0m\u001b[0;34m\u001b[0m\u001b[0m\n",
      "\u001b[0;31mKeyError\u001b[0m: \"None of [Index(['accuracy', 'val_accuracy'], dtype='object')] are in the [columns]\""
     ]
    }
   ],
   "source": [
    "losses[['accuracy','val_accuracy']].plot()\n",
    "losses[['loss','val_loss']].plot()"
   ]
  },
  {
   "cell_type": "code",
   "execution_count": 33,
   "id": "b523a7e6-c339-4ddc-b27c-3dc8fb169af8",
   "metadata": {
    "execution": {
     "iopub.execute_input": "2021-07-01T23:15:24.128660Z",
     "iopub.status.busy": "2021-07-01T23:15:24.128468Z",
     "iopub.status.idle": "2021-07-01T23:15:24.152387Z",
     "shell.execute_reply": "2021-07-01T23:15:24.151310Z",
     "shell.execute_reply.started": "2021-07-01T23:15:24.128640Z"
    },
    "tags": []
   },
   "outputs": [
    {
     "ename": "TypeError",
     "evalue": "no numeric data to plot",
     "output_type": "error",
     "traceback": [
      "\u001b[0;31m---------------------------------------------------------------------------\u001b[0m",
      "\u001b[0;31mTypeError\u001b[0m                                 Traceback (most recent call last)",
      "\u001b[0;32m<ipython-input-33-4eef7bc651c1>\u001b[0m in \u001b[0;36m<module>\u001b[0;34m\u001b[0m\n\u001b[0;32m----> 1\u001b[0;31m \u001b[0mlosses\u001b[0m\u001b[0;34m.\u001b[0m\u001b[0mplot\u001b[0m\u001b[0;34m(\u001b[0m\u001b[0mfigsize\u001b[0m\u001b[0;34m=\u001b[0m\u001b[0;34m(\u001b[0m\u001b[0;36m8\u001b[0m\u001b[0;34m,\u001b[0m\u001b[0;36m5\u001b[0m\u001b[0;34m)\u001b[0m\u001b[0;34m)\u001b[0m\u001b[0;34m\u001b[0m\u001b[0;34m\u001b[0m\u001b[0m\n\u001b[0m\u001b[1;32m      2\u001b[0m \u001b[0mplt\u001b[0m\u001b[0;34m.\u001b[0m\u001b[0mgrid\u001b[0m\u001b[0;34m(\u001b[0m\u001b[0;32mTrue\u001b[0m\u001b[0;34m)\u001b[0m\u001b[0;34m\u001b[0m\u001b[0;34m\u001b[0m\u001b[0m\n\u001b[1;32m      3\u001b[0m \u001b[0mplt\u001b[0m\u001b[0;34m.\u001b[0m\u001b[0mgca\u001b[0m\u001b[0;34m(\u001b[0m\u001b[0;34m)\u001b[0m\u001b[0;34m.\u001b[0m\u001b[0mset_ylim\u001b[0m\u001b[0;34m(\u001b[0m\u001b[0;36m0\u001b[0m\u001b[0;34m,\u001b[0m\u001b[0;36m1\u001b[0m\u001b[0;34m)\u001b[0m\u001b[0;34m\u001b[0m\u001b[0;34m\u001b[0m\u001b[0m\n\u001b[1;32m      4\u001b[0m \u001b[0mplt\u001b[0m\u001b[0;34m.\u001b[0m\u001b[0mxlabel\u001b[0m\u001b[0;34m(\u001b[0m\u001b[0;34m\"Learning Curves: the mean training loss and accuracy measured over each epochs\"\u001b[0m\u001b[0;34m)\u001b[0m\u001b[0;34m\u001b[0m\u001b[0;34m\u001b[0m\u001b[0m\n\u001b[1;32m      5\u001b[0m \u001b[0;31m#plt.savefig('images/learning_curves.png')\u001b[0m\u001b[0;34m\u001b[0m\u001b[0;34m\u001b[0m\u001b[0;34m\u001b[0m\u001b[0m\n",
      "\u001b[0;32m/opt/anaconda3/envs/tfenv/lib/python3.8/site-packages/pandas/plotting/_core.py\u001b[0m in \u001b[0;36m__call__\u001b[0;34m(self, *args, **kwargs)\u001b[0m\n\u001b[1;32m    953\u001b[0m                     \u001b[0mdata\u001b[0m\u001b[0;34m.\u001b[0m\u001b[0mcolumns\u001b[0m \u001b[0;34m=\u001b[0m \u001b[0mlabel_name\u001b[0m\u001b[0;34m\u001b[0m\u001b[0;34m\u001b[0m\u001b[0m\n\u001b[1;32m    954\u001b[0m \u001b[0;34m\u001b[0m\u001b[0m\n\u001b[0;32m--> 955\u001b[0;31m         \u001b[0;32mreturn\u001b[0m \u001b[0mplot_backend\u001b[0m\u001b[0;34m.\u001b[0m\u001b[0mplot\u001b[0m\u001b[0;34m(\u001b[0m\u001b[0mdata\u001b[0m\u001b[0;34m,\u001b[0m \u001b[0mkind\u001b[0m\u001b[0;34m=\u001b[0m\u001b[0mkind\u001b[0m\u001b[0;34m,\u001b[0m \u001b[0;34m**\u001b[0m\u001b[0mkwargs\u001b[0m\u001b[0;34m)\u001b[0m\u001b[0;34m\u001b[0m\u001b[0;34m\u001b[0m\u001b[0m\n\u001b[0m\u001b[1;32m    956\u001b[0m \u001b[0;34m\u001b[0m\u001b[0m\n\u001b[1;32m    957\u001b[0m     \u001b[0m__call__\u001b[0m\u001b[0;34m.\u001b[0m\u001b[0m__doc__\u001b[0m \u001b[0;34m=\u001b[0m \u001b[0m__doc__\u001b[0m\u001b[0;34m\u001b[0m\u001b[0;34m\u001b[0m\u001b[0m\n",
      "\u001b[0;32m/opt/anaconda3/envs/tfenv/lib/python3.8/site-packages/pandas/plotting/_matplotlib/__init__.py\u001b[0m in \u001b[0;36mplot\u001b[0;34m(data, kind, **kwargs)\u001b[0m\n\u001b[1;32m     59\u001b[0m             \u001b[0mkwargs\u001b[0m\u001b[0;34m[\u001b[0m\u001b[0;34m\"ax\"\u001b[0m\u001b[0;34m]\u001b[0m \u001b[0;34m=\u001b[0m \u001b[0mgetattr\u001b[0m\u001b[0;34m(\u001b[0m\u001b[0max\u001b[0m\u001b[0;34m,\u001b[0m \u001b[0;34m\"left_ax\"\u001b[0m\u001b[0;34m,\u001b[0m \u001b[0max\u001b[0m\u001b[0;34m)\u001b[0m\u001b[0;34m\u001b[0m\u001b[0;34m\u001b[0m\u001b[0m\n\u001b[1;32m     60\u001b[0m     \u001b[0mplot_obj\u001b[0m \u001b[0;34m=\u001b[0m \u001b[0mPLOT_CLASSES\u001b[0m\u001b[0;34m[\u001b[0m\u001b[0mkind\u001b[0m\u001b[0;34m]\u001b[0m\u001b[0;34m(\u001b[0m\u001b[0mdata\u001b[0m\u001b[0;34m,\u001b[0m \u001b[0;34m**\u001b[0m\u001b[0mkwargs\u001b[0m\u001b[0;34m)\u001b[0m\u001b[0;34m\u001b[0m\u001b[0;34m\u001b[0m\u001b[0m\n\u001b[0;32m---> 61\u001b[0;31m     \u001b[0mplot_obj\u001b[0m\u001b[0;34m.\u001b[0m\u001b[0mgenerate\u001b[0m\u001b[0;34m(\u001b[0m\u001b[0;34m)\u001b[0m\u001b[0;34m\u001b[0m\u001b[0;34m\u001b[0m\u001b[0m\n\u001b[0m\u001b[1;32m     62\u001b[0m     \u001b[0mplot_obj\u001b[0m\u001b[0;34m.\u001b[0m\u001b[0mdraw\u001b[0m\u001b[0;34m(\u001b[0m\u001b[0;34m)\u001b[0m\u001b[0;34m\u001b[0m\u001b[0;34m\u001b[0m\u001b[0m\n\u001b[1;32m     63\u001b[0m     \u001b[0;32mreturn\u001b[0m \u001b[0mplot_obj\u001b[0m\u001b[0;34m.\u001b[0m\u001b[0mresult\u001b[0m\u001b[0;34m\u001b[0m\u001b[0;34m\u001b[0m\u001b[0m\n",
      "\u001b[0;32m/opt/anaconda3/envs/tfenv/lib/python3.8/site-packages/pandas/plotting/_matplotlib/core.py\u001b[0m in \u001b[0;36mgenerate\u001b[0;34m(self)\u001b[0m\n\u001b[1;32m    276\u001b[0m     \u001b[0;32mdef\u001b[0m \u001b[0mgenerate\u001b[0m\u001b[0;34m(\u001b[0m\u001b[0mself\u001b[0m\u001b[0;34m)\u001b[0m\u001b[0;34m:\u001b[0m\u001b[0;34m\u001b[0m\u001b[0;34m\u001b[0m\u001b[0m\n\u001b[1;32m    277\u001b[0m         \u001b[0mself\u001b[0m\u001b[0;34m.\u001b[0m\u001b[0m_args_adjust\u001b[0m\u001b[0;34m(\u001b[0m\u001b[0;34m)\u001b[0m\u001b[0;34m\u001b[0m\u001b[0;34m\u001b[0m\u001b[0m\n\u001b[0;32m--> 278\u001b[0;31m         \u001b[0mself\u001b[0m\u001b[0;34m.\u001b[0m\u001b[0m_compute_plot_data\u001b[0m\u001b[0;34m(\u001b[0m\u001b[0;34m)\u001b[0m\u001b[0;34m\u001b[0m\u001b[0;34m\u001b[0m\u001b[0m\n\u001b[0m\u001b[1;32m    279\u001b[0m         \u001b[0mself\u001b[0m\u001b[0;34m.\u001b[0m\u001b[0m_setup_subplots\u001b[0m\u001b[0;34m(\u001b[0m\u001b[0;34m)\u001b[0m\u001b[0;34m\u001b[0m\u001b[0;34m\u001b[0m\u001b[0m\n\u001b[1;32m    280\u001b[0m         \u001b[0mself\u001b[0m\u001b[0;34m.\u001b[0m\u001b[0m_make_plot\u001b[0m\u001b[0;34m(\u001b[0m\u001b[0;34m)\u001b[0m\u001b[0;34m\u001b[0m\u001b[0;34m\u001b[0m\u001b[0m\n",
      "\u001b[0;32m/opt/anaconda3/envs/tfenv/lib/python3.8/site-packages/pandas/plotting/_matplotlib/core.py\u001b[0m in \u001b[0;36m_compute_plot_data\u001b[0;34m(self)\u001b[0m\n\u001b[1;32m    439\u001b[0m         \u001b[0;31m# no non-numeric frames or series allowed\u001b[0m\u001b[0;34m\u001b[0m\u001b[0;34m\u001b[0m\u001b[0;34m\u001b[0m\u001b[0m\n\u001b[1;32m    440\u001b[0m         \u001b[0;32mif\u001b[0m \u001b[0mis_empty\u001b[0m\u001b[0;34m:\u001b[0m\u001b[0;34m\u001b[0m\u001b[0;34m\u001b[0m\u001b[0m\n\u001b[0;32m--> 441\u001b[0;31m             \u001b[0;32mraise\u001b[0m \u001b[0mTypeError\u001b[0m\u001b[0;34m(\u001b[0m\u001b[0;34m\"no numeric data to plot\"\u001b[0m\u001b[0;34m)\u001b[0m\u001b[0;34m\u001b[0m\u001b[0;34m\u001b[0m\u001b[0m\n\u001b[0m\u001b[1;32m    442\u001b[0m \u001b[0;34m\u001b[0m\u001b[0m\n\u001b[1;32m    443\u001b[0m         \u001b[0mself\u001b[0m\u001b[0;34m.\u001b[0m\u001b[0mdata\u001b[0m \u001b[0;34m=\u001b[0m \u001b[0mnumeric_data\u001b[0m\u001b[0;34m.\u001b[0m\u001b[0mapply\u001b[0m\u001b[0;34m(\u001b[0m\u001b[0mself\u001b[0m\u001b[0;34m.\u001b[0m\u001b[0m_convert_to_ndarray\u001b[0m\u001b[0;34m)\u001b[0m\u001b[0;34m\u001b[0m\u001b[0;34m\u001b[0m\u001b[0m\n",
      "\u001b[0;31mTypeError\u001b[0m: no numeric data to plot"
     ]
    }
   ],
   "source": [
    "losses.plot(figsize=(8,5))\n",
    "plt.grid(True)\n",
    "plt.gca().set_ylim(0,1)\n",
    "plt.xlabel(\"Learning Curves: the mean training loss and accuracy measured over each epochs\")\n",
    "#plt.savefig('images/learning_curves.png')\n",
    "plt.show()\n"
   ]
  },
  {
   "cell_type": "code",
   "execution_count": 20,
   "id": "44300a6c-8da8-43cd-ada0-208a99b6b9d7",
   "metadata": {
    "execution": {
     "iopub.execute_input": "2021-07-01T23:14:06.254800Z",
     "iopub.status.busy": "2021-07-01T23:14:06.254450Z",
     "iopub.status.idle": "2021-07-01T23:14:06.258906Z",
     "shell.execute_reply": "2021-07-01T23:14:06.257948Z",
     "shell.execute_reply.started": "2021-07-01T23:14:06.254762Z"
    },
    "tags": []
   },
   "outputs": [],
   "source": [
    "from sklearn.metrics import classification_report,confusion_matrix"
   ]
  },
  {
   "cell_type": "code",
   "execution_count": 21,
   "id": "17760825-eb35-4f8c-88a0-45e94387c08d",
   "metadata": {
    "execution": {
     "iopub.execute_input": "2021-07-01T23:14:06.260699Z",
     "iopub.status.busy": "2021-07-01T23:14:06.260448Z",
     "iopub.status.idle": "2021-07-01T23:14:11.203526Z",
     "shell.execute_reply": "2021-07-01T23:14:11.202332Z",
     "shell.execute_reply.started": "2021-07-01T23:14:06.260668Z"
    },
    "tags": []
   },
   "outputs": [
    {
     "name": "stdout",
     "output_type": "stream",
     "text": [
      "11/11 [==============================] - 5s 440ms/step - loss: 0.1877 - accuracy: 0.9385\n",
      "[0.1876908540725708, 0.9385194182395935]\n"
     ]
    }
   ],
   "source": [
    "evaluation_model = Dcnn.evaluate(test_inputs, test_labels, batch_size=BATCH_SIZE)\n",
    "print(evaluation_model)"
   ]
  },
  {
   "cell_type": "code",
   "execution_count": 22,
   "id": "c9a3f93d-4398-418c-b511-69594874cc5a",
   "metadata": {
    "execution": {
     "iopub.execute_input": "2021-07-01T23:14:11.205992Z",
     "iopub.status.busy": "2021-07-01T23:14:11.205504Z",
     "iopub.status.idle": "2021-07-01T23:14:16.536304Z",
     "shell.execute_reply": "2021-07-01T23:14:16.535104Z",
     "shell.execute_reply.started": "2021-07-01T23:14:11.205939Z"
    },
    "tags": []
   },
   "outputs": [
    {
     "name": "stdout",
     "output_type": "stream",
     "text": [
      "              precision    recall  f1-score   support\n",
      "\n",
      "           0       0.94      0.97      0.96      1566\n",
      "           1       0.94      0.89      0.91       825\n",
      "\n",
      "    accuracy                           0.94      2391\n",
      "   macro avg       0.94      0.93      0.94      2391\n",
      "weighted avg       0.94      0.94      0.94      2391\n",
      "\n"
     ]
    }
   ],
   "source": [
    "# pd.DataFrame(confusion_matrix(test_labels,predictions))\n",
    "predictions = Dcnn.predict(test_inputs)\n",
    "predictions = np.where(predictions >0.8 , 1, 0)\n",
    "print(classification_report(test_labels, predictions))"
   ]
  },
  {
   "cell_type": "code",
   "execution_count": 23,
   "id": "4767688b-bfc8-4dc4-b8ec-2252f7791534",
   "metadata": {
    "execution": {
     "iopub.execute_input": "2021-07-01T23:14:16.538512Z",
     "iopub.status.busy": "2021-07-01T23:14:16.538065Z",
     "iopub.status.idle": "2021-07-01T23:14:16.555431Z",
     "shell.execute_reply": "2021-07-01T23:14:16.554240Z",
     "shell.execute_reply.started": "2021-07-01T23:14:16.538469Z"
    },
    "tags": []
   },
   "outputs": [
    {
     "data": {
      "text/html": [
       "<div>\n",
       "<style scoped>\n",
       "    .dataframe tbody tr th:only-of-type {\n",
       "        vertical-align: middle;\n",
       "    }\n",
       "\n",
       "    .dataframe tbody tr th {\n",
       "        vertical-align: top;\n",
       "    }\n",
       "\n",
       "    .dataframe thead th {\n",
       "        text-align: right;\n",
       "    }\n",
       "</style>\n",
       "<table border=\"1\" class=\"dataframe\">\n",
       "  <thead>\n",
       "    <tr style=\"text-align: right;\">\n",
       "      <th></th>\n",
       "      <th>Predictions: Not Pork(0)</th>\n",
       "      <th>Predictions:Pork(1)</th>\n",
       "    </tr>\n",
       "  </thead>\n",
       "  <tbody>\n",
       "    <tr>\n",
       "      <th>Acutal: Not Pork(0)</th>\n",
       "      <td>1517</td>\n",
       "      <td>49</td>\n",
       "    </tr>\n",
       "    <tr>\n",
       "      <th>Acutal: Pork (1)</th>\n",
       "      <td>89</td>\n",
       "      <td>736</td>\n",
       "    </tr>\n",
       "  </tbody>\n",
       "</table>\n",
       "</div>"
      ],
      "text/plain": [
       "                     Predictions: Not Pork(0)  Predictions:Pork(1)\n",
       "Acutal: Not Pork(0)                      1517                   49\n",
       "Acutal: Pork (1)                           89                  736"
      ]
     },
     "execution_count": 23,
     "metadata": {},
     "output_type": "execute_result"
    }
   ],
   "source": [
    "t = pd.DataFrame(confusion_matrix(test_labels,predictions), \n",
    "             columns=['Predictions: Not Pork(0)','Predictions:Pork(1)'])\n",
    "t.index = ['Acutal: Not Pork(0)', 'Acutal: Pork (1)']\n",
    "t"
   ]
  },
  {
   "cell_type": "markdown",
   "id": "d0416d6f-5e46-47c9-abad-f344bea7a94a",
   "metadata": {},
   "source": [
    "-------------------------\n",
    "\n",
    "### Stage 6: Try the Model with New Data and Export an End-to-end Model\n"
   ]
  },
  {
   "cell_type": "markdown",
   "id": "394b9a6e-0130-4af2-88e5-efe91cf9f348",
   "metadata": {
    "execution": {
     "iopub.execute_input": "2021-05-16T22:53:41.558105Z",
     "iopub.status.busy": "2021-05-16T22:53:41.557872Z",
     "iopub.status.idle": "2021-05-16T22:53:41.560984Z",
     "shell.execute_reply": "2021-05-16T22:53:41.560122Z",
     "shell.execute_reply.started": "2021-05-16T22:53:41.558080Z"
    }
   },
   "source": [
    "#### (1) Test New Dataset from 2000 samples from Legislative Questions from 6th Session "
   ]
  },
  {
   "cell_type": "code",
   "execution_count": 24,
   "id": "632bf33e-1df7-46c5-9a67-ab7141a949c2",
   "metadata": {
    "execution": {
     "iopub.execute_input": "2021-07-01T23:14:16.568826Z",
     "iopub.status.busy": "2021-07-01T23:14:16.568493Z",
     "iopub.status.idle": "2021-07-01T23:14:16.573352Z",
     "shell.execute_reply": "2021-07-01T23:14:16.572308Z",
     "shell.execute_reply.started": "2021-07-01T23:14:16.568789Z"
    },
    "tags": []
   },
   "outputs": [],
   "source": [
    "def as_num(x):\n",
    "    \"\"\"\n",
    "    keep 10 decimals\n",
    "    \"\"\"\n",
    "    y = '{:.15f}'.format(x) \n",
    "    return y"
   ]
  },
  {
   "cell_type": "code",
   "execution_count": 25,
   "id": "06ea7d54-49e9-4363-8304-d1dabaf3beb4",
   "metadata": {
    "execution": {
     "iopub.execute_input": "2021-07-01T23:14:16.578412Z",
     "iopub.status.busy": "2021-07-01T23:14:16.578059Z",
     "iopub.status.idle": "2021-07-01T23:14:17.083911Z",
     "shell.execute_reply": "2021-07-01T23:14:17.082843Z",
     "shell.execute_reply.started": "2021-07-01T23:14:16.578371Z"
    },
    "tags": []
   },
   "outputs": [],
   "source": [
    "import pandas as pd\n",
    "import random\n",
    "\n",
    "# test the trined model using new text from 200 samples from Leislative Questions\n",
    "LQ6 = pd.read_csv('data/LQ_6th.csv')\n",
    "\n",
    "# drop '0': legislor  never have proposed any legisaltive questions. \n",
    "LQ6 = LQ6[LQ6['title'].isin(['0'])== False]\n",
    "\n",
    "# select text with number of charecters within EMB_DIM; len(sub_set) = 11162\n",
    "# sample_df = LQ6.loc[[len(char_num) for char_num in LQ6.title if len(char_num) < MAX_LEN], ['legislator','title', 'topic', 'category', 'keywords', 'ques_type']].reset_index(drop=True)\n",
    "random.seed(42)\n",
    "sample_df = LQ6.iloc[random.sample(range(len(LQ6)), 2000)][['legislator', 'title', 'topic', 'category', 'keywords', 'ques_type']]\n",
    "sub_set = [seg_char(text) for text in [clearPucts(text) for text in sample_df.title]]"
   ]
  },
  {
   "cell_type": "markdown",
   "id": "68cc06a7-27d7-4007-949d-f7df81246e25",
   "metadata": {
    "tags": []
   },
   "source": [
    "##### Top 10 of 2000 Samples"
   ]
  },
  {
   "cell_type": "code",
   "execution_count": 26,
   "id": "d4b618c9-8c4b-40ec-a396-b4679233197e",
   "metadata": {
    "execution": {
     "iopub.execute_input": "2021-07-01T23:14:17.086133Z",
     "iopub.status.busy": "2021-07-01T23:14:17.085702Z",
     "iopub.status.idle": "2021-07-01T23:14:35.430960Z",
     "shell.execute_reply": "2021-07-01T23:14:35.430258Z",
     "shell.execute_reply.started": "2021-07-01T23:14:17.086089Z"
    },
    "tags": []
   },
   "outputs": [
    {
     "data": {
      "text/html": [
       "<div>\n",
       "<style scoped>\n",
       "    .dataframe tbody tr th:only-of-type {\n",
       "        vertical-align: middle;\n",
       "    }\n",
       "\n",
       "    .dataframe tbody tr th {\n",
       "        vertical-align: top;\n",
       "    }\n",
       "\n",
       "    .dataframe thead th {\n",
       "        text-align: right;\n",
       "    }\n",
       "</style>\n",
       "<table border=\"1\" class=\"dataframe\">\n",
       "  <thead>\n",
       "    <tr style=\"text-align: right;\">\n",
       "      <th></th>\n",
       "      <th>legislator</th>\n",
       "      <th>Pork Value(Constituency Interest)</th>\n",
       "      <th>Legislative Questions</th>\n",
       "      <th>Topic</th>\n",
       "      <th>Key Word</th>\n",
       "    </tr>\n",
       "  </thead>\n",
       "  <tbody>\n",
       "    <tr>\n",
       "      <th>3999</th>\n",
       "      <td>林正峰</td>\n",
       "      <td>0.997782468795776</td>\n",
       "      <td>針對政府準備修法推動「二代健保」，健保保費採取「年度所得總額」為計算基礎，而非採用扣除免稅額...</td>\n",
       "      <td>國民 ; 健康保險 ; 保險費</td>\n",
       "      <td>二代健保 ; 年度所得總額</td>\n",
       "    </tr>\n",
       "    <tr>\n",
       "      <th>1641</th>\n",
       "      <td>彭添富</td>\n",
       "      <td>0.996757268905640</td>\n",
       "      <td>針對「豪雨成災，農作物損失補償」問題，特向行政院提出質詢。</td>\n",
       "      <td>農業補助</td>\n",
       "      <td>豪雨 ; 農作物</td>\n",
       "    </tr>\n",
       "    <tr>\n",
       "      <th>1761</th>\n",
       "      <td>彭添富</td>\n",
       "      <td>0.992317736148834</td>\n",
       "      <td>針對「辦理九十四年原住民中低收入戶家庭租屋補助計畫」專案補助計畫，特向行政院提出質詢。</td>\n",
       "      <td>原住民族生活</td>\n",
       "      <td>原住民中低收入戶 ; 租屋補助</td>\n",
       "    </tr>\n",
       "    <tr>\n",
       "      <th>4435</th>\n",
       "      <td>林重謨</td>\n",
       "      <td>0.991964697837830</td>\n",
       "      <td>針對彰化縣教育經費不足，急需中央補助，特向行政院提出緊急質詢。</td>\n",
       "      <td>地方財政 ; 教育經費</td>\n",
       "      <td>彰化縣 ; 教育經費</td>\n",
       "    </tr>\n",
       "    <tr>\n",
       "      <th>10264</th>\n",
       "      <td>陳根德</td>\n",
       "      <td>0.991881608963013</td>\n",
       "      <td>鑒於桃園縣民眾陳情抗議中正路延伸工程拆遷補償不公，並聚集在中正路尾工地現場，希望盡速發放地上...</td>\n",
       "      <td>道路工程 ; 政府補助</td>\n",
       "      <td>工程 ; 補償</td>\n",
       "    </tr>\n",
       "    <tr>\n",
       "      <th>3304</th>\n",
       "      <td>林建榮</td>\n",
       "      <td>0.986285328865051</td>\n",
       "      <td>為宜蘭縣冬山鄉南富段土地因鄰近冬山河，遭100米風景線逕為分割，致原符合農發條例規定可興建農...</td>\n",
       "      <td>農地 ; 農村住宅 ; 政府補助</td>\n",
       "      <td>冬山鄉 ; 農舍 ; 徵收補償</td>\n",
       "    </tr>\n",
       "    <tr>\n",
       "      <th>619</th>\n",
       "      <td>吳成典</td>\n",
       "      <td>0.986227869987488</td>\n",
       "      <td>鑑於居家安全及消防常識已逐漸受到民眾的重視，請中央寬列消防機關人事費用，補助金、馬兩縣規劃合...</td>\n",
       "      <td>住宅安全 ; 消防設施</td>\n",
       "      <td>居家安全 ; 消防常識</td>\n",
       "    </tr>\n",
       "    <tr>\n",
       "      <th>4553</th>\n",
       "      <td>林鴻池</td>\n",
       "      <td>0.985814332962036</td>\n",
       "      <td>針對行政院宣布補助弱勢家庭子女就讀私校高中職之學費，卻將資格限制在「非自願就讀者」，有畫餅充...</td>\n",
       "      <td>低收入戶 ; 教育補助</td>\n",
       "      <td>弱勢家庭 ; 私立高中職</td>\n",
       "    </tr>\n",
       "    <tr>\n",
       "      <th>9892</th>\n",
       "      <td>陳啟昱</td>\n",
       "      <td>0.980187714099884</td>\n",
       "      <td>鑑於現行《所得稅法》第十七條規定特別扣除額教育支出部分，僅以納稅義務人之子女就讀大專院校為限...</td>\n",
       "      <td>所得稅 ; 教育費用 ; 扣除額</td>\n",
       "      <td>所得稅法 ; 特別扣除額 ; 教育支出</td>\n",
       "    </tr>\n",
       "    <tr>\n",
       "      <th>2275</th>\n",
       "      <td>曾華德</td>\n",
       "      <td>0.969020545482635</td>\n",
       "      <td>為政府應特別重視山地離島地區居民健康問題，讓原住民之醫療照護在政府妥善照顧下獲得改善，特向行...</td>\n",
       "      <td>醫療政策 ; 離島政務</td>\n",
       "      <td>離島地區 ; 健康 ; 醫療照護</td>\n",
       "    </tr>\n",
       "    <tr>\n",
       "      <th>35</th>\n",
       "      <td>丁守中</td>\n",
       "      <td>0.965517997741699</td>\n",
       "      <td>針就民眾陳情指出，目前政府對身心障礙者提供之生活津貼，依身心障礙程度等級分為1000元至50...</td>\n",
       "      <td>身心障礙者福利</td>\n",
       "      <td>身心障礙者生活津貼</td>\n",
       "    </tr>\n",
       "    <tr>\n",
       "      <th>1451</th>\n",
       "      <td>張顯耀</td>\n",
       "      <td>0.958442628383636</td>\n",
       "      <td>針對高雄市協勤民力補助預算編列不足，民力人員投注之心力、時間與領取之補貼金額顯不合比例。建請...</td>\n",
       "      <td>警察 ; 預算</td>\n",
       "      <td>第二預備金 ; 社區巡守隊</td>\n",
       "    </tr>\n",
       "    <tr>\n",
       "      <th>7382</th>\n",
       "      <td>盧秀燕</td>\n",
       "      <td>0.957578420639038</td>\n",
       "      <td>針對早期退除役軍官給與補助金發放金額過低，實無法解決終身生活所需，希望相關單位考量實際情況，...</td>\n",
       "      <td>榮民福利</td>\n",
       "      <td>早期退除役軍官給與補助金</td>\n",
       "    </tr>\n",
       "    <tr>\n",
       "      <th>8335</th>\n",
       "      <td>蔡煌瑯(離職)</td>\n",
       "      <td>0.954812884330750</td>\n",
       "      <td>請中央惠予補助辦理「九二一震災出租先租後售及救濟性住宅（平價住宅）」之管理維護費用，特向行政...</td>\n",
       "      <td>災害救助 ; 政府補助</td>\n",
       "      <td>九二一 ; 救濟性住宅 ; 平價住宅</td>\n",
       "    </tr>\n",
       "    <tr>\n",
       "      <th>4546</th>\n",
       "      <td>林鴻池</td>\n",
       "      <td>0.954664945602417</td>\n",
       "      <td>針對諸多已獲得五年五百億與卓越計畫獎補助的大學擬調漲學雜費，但教育部長杜正勝曾承諾，獲得上述...</td>\n",
       "      <td>教育補助 ; 教育費用 ; 大學</td>\n",
       "      <td>卓越計畫獎補助 ; 大學學費</td>\n",
       "    </tr>\n",
       "  </tbody>\n",
       "</table>\n",
       "</div>"
      ],
      "text/plain": [
       "      legislator Pork Value(Constituency Interest)  \\\n",
       "3999         林正峰                 0.997782468795776   \n",
       "1641         彭添富                 0.996757268905640   \n",
       "1761         彭添富                 0.992317736148834   \n",
       "4435         林重謨                 0.991964697837830   \n",
       "10264        陳根德                 0.991881608963013   \n",
       "3304         林建榮                 0.986285328865051   \n",
       "619          吳成典                 0.986227869987488   \n",
       "4553         林鴻池                 0.985814332962036   \n",
       "9892         陳啟昱                 0.980187714099884   \n",
       "2275         曾華德                 0.969020545482635   \n",
       "35           丁守中                 0.965517997741699   \n",
       "1451         張顯耀                 0.958442628383636   \n",
       "7382         盧秀燕                 0.957578420639038   \n",
       "8335     蔡煌瑯(離職)                 0.954812884330750   \n",
       "4546         林鴻池                 0.954664945602417   \n",
       "\n",
       "                                  Legislative Questions              Topic  \\\n",
       "3999   針對政府準備修法推動「二代健保」，健保保費採取「年度所得總額」為計算基礎，而非採用扣除免稅額...   國民 ; 健康保險 ; 保險費   \n",
       "1641                       針對「豪雨成災，農作物損失補償」問題，特向行政院提出質詢。              農業補助   \n",
       "1761         針對「辦理九十四年原住民中低收入戶家庭租屋補助計畫」專案補助計畫，特向行政院提出質詢。            原住民族生活   \n",
       "4435                     針對彰化縣教育經費不足，急需中央補助，特向行政院提出緊急質詢。       地方財政 ; 教育經費   \n",
       "10264  鑒於桃園縣民眾陳情抗議中正路延伸工程拆遷補償不公，並聚集在中正路尾工地現場，希望盡速發放地上...       道路工程 ; 政府補助   \n",
       "3304   為宜蘭縣冬山鄉南富段土地因鄰近冬山河，遭100米風景線逕為分割，致原符合農發條例規定可興建農...  農地 ; 農村住宅 ; 政府補助   \n",
       "619    鑑於居家安全及消防常識已逐漸受到民眾的重視，請中央寬列消防機關人事費用，補助金、馬兩縣規劃合...       住宅安全 ; 消防設施   \n",
       "4553   針對行政院宣布補助弱勢家庭子女就讀私校高中職之學費，卻將資格限制在「非自願就讀者」，有畫餅充...       低收入戶 ; 教育補助   \n",
       "9892   鑑於現行《所得稅法》第十七條規定特別扣除額教育支出部分，僅以納稅義務人之子女就讀大專院校為限...  所得稅 ; 教育費用 ; 扣除額   \n",
       "2275   為政府應特別重視山地離島地區居民健康問題，讓原住民之醫療照護在政府妥善照顧下獲得改善，特向行...       醫療政策 ; 離島政務   \n",
       "35     針就民眾陳情指出，目前政府對身心障礙者提供之生活津貼，依身心障礙程度等級分為1000元至50...           身心障礙者福利   \n",
       "1451   針對高雄市協勤民力補助預算編列不足，民力人員投注之心力、時間與領取之補貼金額顯不合比例。建請...           警察 ; 預算   \n",
       "7382   針對早期退除役軍官給與補助金發放金額過低，實無法解決終身生活所需，希望相關單位考量實際情況，...              榮民福利   \n",
       "8335   請中央惠予補助辦理「九二一震災出租先租後售及救濟性住宅（平價住宅）」之管理維護費用，特向行政...       災害救助 ; 政府補助   \n",
       "4546   針對諸多已獲得五年五百億與卓越計畫獎補助的大學擬調漲學雜費，但教育部長杜正勝曾承諾，獲得上述...  教育補助 ; 教育費用 ; 大學   \n",
       "\n",
       "                  Key Word  \n",
       "3999         二代健保 ; 年度所得總額  \n",
       "1641              豪雨 ; 農作物  \n",
       "1761       原住民中低收入戶 ; 租屋補助  \n",
       "4435            彰化縣 ; 教育經費  \n",
       "10264              工程 ; 補償  \n",
       "3304       冬山鄉 ; 農舍 ; 徵收補償  \n",
       "619            居家安全 ; 消防常識  \n",
       "4553          弱勢家庭 ; 私立高中職  \n",
       "9892   所得稅法 ; 特別扣除額 ; 教育支出  \n",
       "2275      離島地區 ; 健康 ; 醫療照護  \n",
       "35               身心障礙者生活津貼  \n",
       "1451         第二預備金 ; 社區巡守隊  \n",
       "7382          早期退除役軍官給與補助金  \n",
       "8335    九二一 ; 救濟性住宅 ; 平價住宅  \n",
       "4546        卓越計畫獎補助 ; 大學學費  "
      ]
     },
     "execution_count": 26,
     "metadata": {},
     "output_type": "execute_result"
    }
   ],
   "source": [
    "pd.DataFrame(\n",
    "    {'legislator': sample_df.legislator,\n",
    "     'Pork Value(Constituency Interest)':[as_num(Dcnn(np.array([tokenizer.encode(line)]), training=True).numpy()[0][0]) for line in sub_set],\n",
    "     'Legislative Questions ': sample_df.title,\n",
    "     'Topic': sample_df.topic,\n",
    "     'Key Word':sample_df.keywords}).sort_values(by=['Pork Value(Constituency Interest)'], ascending = False).head(15)"
   ]
  },
  {
   "cell_type": "markdown",
   "id": "6a6d4b15-3e05-427d-a664-8c8ce4e6622c",
   "metadata": {},
   "source": [
    "##### Last 10 Rows of 2000 Samples"
   ]
  },
  {
   "cell_type": "code",
   "execution_count": 27,
   "id": "369a7336-dc9d-4883-b919-b19611b5ad39",
   "metadata": {
    "execution": {
     "iopub.execute_input": "2021-07-01T23:14:35.432594Z",
     "iopub.status.busy": "2021-07-01T23:14:35.432356Z",
     "iopub.status.idle": "2021-07-01T23:14:48.024750Z",
     "shell.execute_reply": "2021-07-01T23:14:48.024209Z",
     "shell.execute_reply.started": "2021-07-01T23:14:35.432567Z"
    },
    "tags": []
   },
   "outputs": [
    {
     "data": {
      "text/html": [
       "<div>\n",
       "<style scoped>\n",
       "    .dataframe tbody tr th:only-of-type {\n",
       "        vertical-align: middle;\n",
       "    }\n",
       "\n",
       "    .dataframe tbody tr th {\n",
       "        vertical-align: top;\n",
       "    }\n",
       "\n",
       "    .dataframe thead th {\n",
       "        text-align: right;\n",
       "    }\n",
       "</style>\n",
       "<table border=\"1\" class=\"dataframe\">\n",
       "  <thead>\n",
       "    <tr style=\"text-align: right;\">\n",
       "      <th></th>\n",
       "      <th>legislator</th>\n",
       "      <th>Pork Value(Constituency Interest)</th>\n",
       "      <th>Legislative Questions</th>\n",
       "      <th>Topic</th>\n",
       "      <th>Key Word</th>\n",
       "    </tr>\n",
       "  </thead>\n",
       "  <tbody>\n",
       "    <tr>\n",
       "      <th>5952</th>\n",
       "      <td>王塗發</td>\n",
       "      <td>0.000006480477623</td>\n",
       "      <td>針對行政院金融監督管理委員會（金管會）宣稱，台灣上市上櫃公司投資中國累計匯回資金比例達7.9...</td>\n",
       "      <td>大陸政策 ; 對外投資</td>\n",
       "      <td>投資中國 ; 台商資金匯回</td>\n",
       "    </tr>\n",
       "    <tr>\n",
       "      <th>6636</th>\n",
       "      <td>王幸男</td>\n",
       "      <td>0.000005924732250</td>\n",
       "      <td>針對「莊嚴肅穆」的行憲紀念日，在威權時代「今天應懸掛國旗」，不過，在愈來愈多人的真實生活中，...</td>\n",
       "      <td>紀念活動 ; 憲政運作</td>\n",
       "      <td>聖誕節 ; 行憲紀念日 ; 制憲權</td>\n",
       "    </tr>\n",
       "    <tr>\n",
       "      <th>10120</th>\n",
       "      <td>陳朝龍</td>\n",
       "      <td>0.000005769047675</td>\n",
       "      <td>針對英國政府宣稱台灣出口至該國禽鳥，檢驗出感染禽流感H5N1病毒死亡。由於我國迄今並未發現有...</td>\n",
       "      <td>傳染病防治 ; 走私</td>\n",
       "      <td>英國政府 ; 台灣禽鳥 ; 禽流感 ; 相思鳥 ; 走私</td>\n",
       "    </tr>\n",
       "    <tr>\n",
       "      <th>862</th>\n",
       "      <td>吳育昇</td>\n",
       "      <td>0.000005473021247</td>\n",
       "      <td>為接獲入出境管理局員工陳情，質疑入出境管理局移撥移民署之人事分發不公，遂公開提出質疑，入出境...</td>\n",
       "      <td>移民 ; 政府組織 ; 人事行政</td>\n",
       "      <td>移民署 ; 人事分發</td>\n",
       "    </tr>\n",
       "    <tr>\n",
       "      <th>6273</th>\n",
       "      <td>王幸男</td>\n",
       "      <td>0.000004969437214</td>\n",
       "      <td>針對目前斃死豬陰影持續籠罩全台：屏東再度查獲私宰販賣斃死豬的常業慣犯，十一名嫌犯落網，但卻不...</td>\n",
       "      <td>肉品衛生 ; 食品管理</td>\n",
       "      <td>斃死豬</td>\n",
       "    </tr>\n",
       "    <tr>\n",
       "      <th>9039</th>\n",
       "      <td>邱毅</td>\n",
       "      <td>0.000003410448016</td>\n",
       "      <td>針對新聞局認定TVBS應為綜合台非新聞台乙案，準備將TVBS轉頻一事，日前行政院新聞局認定T...</td>\n",
       "      <td>新聞自由 ; 電視臺</td>\n",
       "      <td>TVBS ; 股權結構 ; 外資 ; 國家通訊傳播委員會組織法 ; NCC ; 報導自由</td>\n",
       "    </tr>\n",
       "    <tr>\n",
       "      <th>573</th>\n",
       "      <td>吳志揚</td>\n",
       "      <td>0.000003137016620</td>\n",
       "      <td>針對內政部規劃於今年七月換發國民身分證的同時，「依法」要求全民按捺指紋並錄存, 此舉引發了行...</td>\n",
       "      <td>國民身分證 ; 指紋</td>\n",
       "      <td>國民身分證 ; 指紋</td>\n",
       "    </tr>\n",
       "    <tr>\n",
       "      <th>1504</th>\n",
       "      <td>張顯耀</td>\n",
       "      <td>0.000002912579703</td>\n",
       "      <td>針對整合警力資源、擴大警政服務範疇，建議行政院將現行警政署、海岸巡防署、消防署及入出境管理局...</td>\n",
       "      <td>政府組織</td>\n",
       "      <td>警力資源 ; 警政服務 ; 警政總署</td>\n",
       "    </tr>\n",
       "    <tr>\n",
       "      <th>6347</th>\n",
       "      <td>王幸男</td>\n",
       "      <td>0.000002851536692</td>\n",
       "      <td>針對本院交通委員會在台中市長夫人邵曉鈴女士車禍事件之後，以超高的效率通過了「道路交通管理處罰...</td>\n",
       "      <td>交通規則</td>\n",
       "      <td>道路交通管理處罰條例 ; 安全帶</td>\n",
       "    </tr>\n",
       "    <tr>\n",
       "      <th>6532</th>\n",
       "      <td>王幸男</td>\n",
       "      <td>0.000002288767064</td>\n",
       "      <td>針對陳總統日昨重申，有信心一定能夠在二○○八年卸任總統之前，為台灣催生一部合身、合時、合用的...</td>\n",
       "      <td>憲法修正</td>\n",
       "      <td>新憲法 ; 修改憲法</td>\n",
       "    </tr>\n",
       "    <tr>\n",
       "      <th>5564</th>\n",
       "      <td>湯火聖</td>\n",
       "      <td>0.000002210292678</td>\n",
       "      <td>針對國家資產管理委員會為強化閒置資產使用效益，積極清理國有物業，以企業管理角度進行公共事務管...</td>\n",
       "      <td>公有土地 ; 國有財產</td>\n",
       "      <td>閒置資產 ; 國有眷舍</td>\n",
       "    </tr>\n",
       "    <tr>\n",
       "      <th>10798</th>\n",
       "      <td>黃敏惠(離職)</td>\n",
       "      <td>0.000001906360239</td>\n",
       "      <td>就近日來爆發知名提神飲料遭下毒事件，已知有四位台中市民因誤喝中毒，並有一人已不治死亡。此一類...</td>\n",
       "      <td>飲料 ; 中毒</td>\n",
       "      <td>飲料 ; 下毒 ; 千面人</td>\n",
       "    </tr>\n",
       "    <tr>\n",
       "      <th>4356</th>\n",
       "      <td>林進興</td>\n",
       "      <td>0.000001094880872</td>\n",
       "      <td>針對行政院金融監督管理委員會為了解決國人廣大的卡債問題，積極推廣債務協商機制，政策本意良好，...</td>\n",
       "      <td>信用卡 ; 債務</td>\n",
       "      <td>卡債 ; 協商機制</td>\n",
       "    </tr>\n",
       "    <tr>\n",
       "      <th>6091</th>\n",
       "      <td>王幸男</td>\n",
       "      <td>0.000000748753166</td>\n",
       "      <td>針對道路人孔蓋或管線挖掘後回填品質不佳，或是公共安全沒有做好，導致各種傷害和死亡案件，一直居...</td>\n",
       "      <td>公共安全</td>\n",
       "      <td>人孔蓋 ; 公共安全 ; 道路品質</td>\n",
       "    </tr>\n",
       "    <tr>\n",
       "      <th>5595</th>\n",
       "      <td>潘孟安</td>\n",
       "      <td>0.000000366373854</td>\n",
       "      <td>就立法委員選舉，改採單一選區兩票制即將首度實施，中央選舉委員應加強宣導「單一選區兩票制」的新...</td>\n",
       "      <td>選舉</td>\n",
       "      <td>立法委員選舉 ; 單一選區兩票制</td>\n",
       "    </tr>\n",
       "  </tbody>\n",
       "</table>\n",
       "</div>"
      ],
      "text/plain": [
       "      legislator Pork Value(Constituency Interest)  \\\n",
       "5952         王塗發                 0.000006480477623   \n",
       "6636         王幸男                 0.000005924732250   \n",
       "10120        陳朝龍                 0.000005769047675   \n",
       "862          吳育昇                 0.000005473021247   \n",
       "6273         王幸男                 0.000004969437214   \n",
       "9039          邱毅                 0.000003410448016   \n",
       "573          吳志揚                 0.000003137016620   \n",
       "1504         張顯耀                 0.000002912579703   \n",
       "6347         王幸男                 0.000002851536692   \n",
       "6532         王幸男                 0.000002288767064   \n",
       "5564         湯火聖                 0.000002210292678   \n",
       "10798    黃敏惠(離職)                 0.000001906360239   \n",
       "4356         林進興                 0.000001094880872   \n",
       "6091         王幸男                 0.000000748753166   \n",
       "5595         潘孟安                 0.000000366373854   \n",
       "\n",
       "                                  Legislative Questions              Topic  \\\n",
       "5952   針對行政院金融監督管理委員會（金管會）宣稱，台灣上市上櫃公司投資中國累計匯回資金比例達7.9...       大陸政策 ; 對外投資   \n",
       "6636   針對「莊嚴肅穆」的行憲紀念日，在威權時代「今天應懸掛國旗」，不過，在愈來愈多人的真實生活中，...       紀念活動 ; 憲政運作   \n",
       "10120  針對英國政府宣稱台灣出口至該國禽鳥，檢驗出感染禽流感H5N1病毒死亡。由於我國迄今並未發現有...        傳染病防治 ; 走私   \n",
       "862    為接獲入出境管理局員工陳情，質疑入出境管理局移撥移民署之人事分發不公，遂公開提出質疑，入出境...  移民 ; 政府組織 ; 人事行政   \n",
       "6273   針對目前斃死豬陰影持續籠罩全台：屏東再度查獲私宰販賣斃死豬的常業慣犯，十一名嫌犯落網，但卻不...       肉品衛生 ; 食品管理   \n",
       "9039   針對新聞局認定TVBS應為綜合台非新聞台乙案，準備將TVBS轉頻一事，日前行政院新聞局認定T...        新聞自由 ; 電視臺   \n",
       "573    針對內政部規劃於今年七月換發國民身分證的同時，「依法」要求全民按捺指紋並錄存, 此舉引發了行...        國民身分證 ; 指紋   \n",
       "1504   針對整合警力資源、擴大警政服務範疇，建議行政院將現行警政署、海岸巡防署、消防署及入出境管理局...              政府組織   \n",
       "6347   針對本院交通委員會在台中市長夫人邵曉鈴女士車禍事件之後，以超高的效率通過了「道路交通管理處罰...              交通規則   \n",
       "6532   針對陳總統日昨重申，有信心一定能夠在二○○八年卸任總統之前，為台灣催生一部合身、合時、合用的...              憲法修正   \n",
       "5564   針對國家資產管理委員會為強化閒置資產使用效益，積極清理國有物業，以企業管理角度進行公共事務管...       公有土地 ; 國有財產   \n",
       "10798  就近日來爆發知名提神飲料遭下毒事件，已知有四位台中市民因誤喝中毒，並有一人已不治死亡。此一類...           飲料 ; 中毒   \n",
       "4356   針對行政院金融監督管理委員會為了解決國人廣大的卡債問題，積極推廣債務協商機制，政策本意良好，...          信用卡 ; 債務   \n",
       "6091   針對道路人孔蓋或管線挖掘後回填品質不佳，或是公共安全沒有做好，導致各種傷害和死亡案件，一直居...              公共安全   \n",
       "5595   就立法委員選舉，改採單一選區兩票制即將首度實施，中央選舉委員應加強宣導「單一選區兩票制」的新...                選舉   \n",
       "\n",
       "                                           Key Word  \n",
       "5952                                  投資中國 ; 台商資金匯回  \n",
       "6636                              聖誕節 ; 行憲紀念日 ; 制憲權  \n",
       "10120                  英國政府 ; 台灣禽鳥 ; 禽流感 ; 相思鳥 ; 走私  \n",
       "862                                      移民署 ; 人事分發  \n",
       "6273                                            斃死豬  \n",
       "9039   TVBS ; 股權結構 ; 外資 ; 國家通訊傳播委員會組織法 ; NCC ; 報導自由  \n",
       "573                                      國民身分證 ; 指紋  \n",
       "1504                             警力資源 ; 警政服務 ; 警政總署  \n",
       "6347                               道路交通管理處罰條例 ; 安全帶  \n",
       "6532                                     新憲法 ; 修改憲法  \n",
       "5564                                    閒置資產 ; 國有眷舍  \n",
       "10798                                 飲料 ; 下毒 ; 千面人  \n",
       "4356                                      卡債 ; 協商機制  \n",
       "6091                              人孔蓋 ; 公共安全 ; 道路品質  \n",
       "5595                               立法委員選舉 ; 單一選區兩票制  "
      ]
     },
     "execution_count": 27,
     "metadata": {},
     "output_type": "execute_result"
    }
   ],
   "source": [
    "pd.DataFrame(\n",
    "    {'legislator': sample_df.legislator,\n",
    "     'Pork Value(Constituency Interest)':[as_num(Dcnn(np.array([tokenizer.encode(line)]), training=True).numpy()[0][0]) for line in sub_set],\n",
    "     'Legislative Questions ': sample_df.title,\n",
    "     'Topic': sample_df.topic,\n",
    "     'Key Word':sample_df.keywords}).sort_values(by=['Pork Value(Constituency Interest)'], ascending = False).tail(15)"
   ]
  },
  {
   "cell_type": "markdown",
   "id": "5dc01475-847a-408f-9972-ac02e7aa4721",
   "metadata": {},
   "source": [
    "#### (2) Export an End-to-end Model\n"
   ]
  },
  {
   "cell_type": "code",
   "execution_count": 28,
   "id": "196028d0-edfe-434f-a173-4ccaa688faaa",
   "metadata": {
    "execution": {
     "iopub.execute_input": "2021-07-01T23:14:48.025960Z",
     "iopub.status.busy": "2021-07-01T23:14:48.025765Z",
     "iopub.status.idle": "2021-07-01T23:14:48.028542Z",
     "shell.execute_reply": "2021-07-01T23:14:48.027868Z",
     "shell.execute_reply.started": "2021-07-01T23:14:48.025938Z"
    },
    "tags": []
   },
   "outputs": [],
   "source": [
    "from tensorflow.keras.models import load_model"
   ]
  },
  {
   "cell_type": "code",
   "execution_count": 29,
   "id": "071291d0-c5bb-48de-adb2-f8b2bb3bb542",
   "metadata": {
    "execution": {
     "iopub.execute_input": "2021-07-01T23:14:48.029760Z",
     "iopub.status.busy": "2021-07-01T23:14:48.029507Z",
     "iopub.status.idle": "2021-07-01T23:14:49.278775Z",
     "shell.execute_reply": "2021-07-01T23:14:49.278172Z",
     "shell.execute_reply.started": "2021-07-01T23:14:48.029709Z"
    },
    "tags": []
   },
   "outputs": [
    {
     "name": "stdout",
     "output_type": "stream",
     "text": [
      "INFO:tensorflow:Assets written to: lour_pork_model/assets\n"
     ]
    },
    {
     "name": "stderr",
     "output_type": "stream",
     "text": [
      "INFO:tensorflow:Assets written to: lour_pork_model/assets\n"
     ]
    }
   ],
   "source": [
    "# Get model (Sequential, Functional Model, or Model subclass)\n",
    "Dcnn.save('lour_pork_model')"
   ]
  },
  {
   "cell_type": "code",
   "execution_count": 30,
   "id": "2ac46183-b841-469b-8897-1fea2922e445",
   "metadata": {
    "execution": {
     "iopub.execute_input": "2021-07-01T23:14:49.279774Z",
     "iopub.status.busy": "2021-07-01T23:14:49.279624Z",
     "iopub.status.idle": "2021-07-01T23:14:49.726591Z",
     "shell.execute_reply": "2021-07-01T23:14:49.725909Z",
     "shell.execute_reply.started": "2021-07-01T23:14:49.279754Z"
    },
    "tags": []
   },
   "outputs": [],
   "source": [
    "from tensorflow import keras\n",
    "model = keras.models.load_model('lour_pork_model')"
   ]
  },
  {
   "cell_type": "markdown",
   "id": "40c2f0a7-5f53-4514-8909-9acea71fafad",
   "metadata": {},
   "source": [
    "import pandas as pd\n",
    "import random\n",
    "\n",
    "# test the trined model using new text from 200 samples from Leislative Questions\n",
    "LQ5 = pd.read_csv('LQ_5th.csv')\n",
    "\n",
    "# drop legislor whose speech token less than 15\n",
    "LQ5 = LQ5[[len(x)>15 for x in LQ5.title]]\n",
    "\n",
    "# split the sentence with space\n",
    "full_set = [seg_char(text) for text in [clearPucts(text) for text in LQ5.title]]\n",
    "\n",
    "def recode_as_pork(pork):\n",
    "    if pork>0.75:\n",
    "        return 1\n",
    "    else:\n",
    "        return 0\n",
    "\n",
    "# fit the model    \n",
    "LQ5['pork_value'] = pd.to_numeric([as_num(Dcnn(np.array([tokenizer.encode(line)]), training=True).numpy()[0][0]) for line in full_set])\n",
    "\n",
    "# classify pork_value>0.75 into pork \n",
    "LQ5['pork_dummy'] = [recode_as_pork(x) for x in LQ5['pork_value']]\n",
    "\n",
    "# save\n",
    "LQ5.to_csv('LQ5_pork.csv', index=False)"
   ]
  }
 ],
 "metadata": {
  "kernelspec": {
   "display_name": "Python 3",
   "language": "python",
   "name": "python3"
  },
  "language_info": {
   "codemirror_mode": {
    "name": "ipython",
    "version": 3
   },
   "file_extension": ".py",
   "mimetype": "text/x-python",
   "name": "python",
   "nbconvert_exporter": "python",
   "pygments_lexer": "ipython3",
   "version": "3.8.8"
  }
 },
 "nbformat": 4,
 "nbformat_minor": 5
}
