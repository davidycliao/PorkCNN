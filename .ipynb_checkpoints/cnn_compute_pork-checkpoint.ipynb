{
 "cells": [
  {
   "cell_type": "markdown",
   "id": "b65dfbdc-bb80-4bd4-8248-dd06483222cd",
   "metadata": {},
   "source": [
    "# Lour's Pork Barrel Classifier (羅老師肉桶文本分類器)🐖\n",
    "## Convolutional Neural Networks for Pork Barrel Project Classification "
   ]
  },
  {
   "cell_type": "markdown",
   "id": "e8005d5a-f938-4c26-86d5-592408152d08",
   "metadata": {},
   "source": [
    "-------------------------\n",
    "\n",
    "### Stage 1: Libaries & Dependencies"
   ]
  },
  {
   "cell_type": "code",
   "execution_count": 4,
   "id": "6ca92ba3-7480-418f-91e0-d2beea2d10af",
   "metadata": {
    "execution": {
     "iopub.execute_input": "2021-06-26T22:57:46.961186Z",
     "iopub.status.busy": "2021-06-26T22:57:46.960971Z",
     "iopub.status.idle": "2021-06-26T22:57:46.964901Z",
     "shell.execute_reply": "2021-06-26T22:57:46.964276Z",
     "shell.execute_reply.started": "2021-06-26T22:57:46.961163Z"
    },
    "tags": []
   },
   "outputs": [],
   "source": [
    "# built-in library\n",
    "import math\n",
    "import re\n",
    "import collections\n",
    "import zipfile\n",
    "import random\n",
    "from itertools import chain\n",
    "\n",
    "# ML & Deep Learning/ NLP toolkit\n",
    "import pandas as pd\n",
    "import numpy as np\n",
    "import jieba\n",
    "from sklearn.model_selection import train_test_split\n",
    "import tensorflow as tf\n",
    "from tensorflow.keras import layers\n",
    "import tensorflow_datasets as tfds\n",
    "from tensorflow.keras.callbacks import EarlyStopping,TensorBoard\n",
    "\n",
    "# Visualization\n",
    "import matplotlib.pyplot as plt\n",
    "import seaborn as sns"
   ]
  },
  {
   "cell_type": "markdown",
   "id": "8bd77e05-355a-422f-87db-2cf77cba3bdd",
   "metadata": {},
   "source": [
    "-------------------------\n",
    "\n",
    "### Stage 2: Data Preprocessing (Training Data: Introduction of Bills and Legislation from 6th Session to 7th Session, 2004-2012)"
   ]
  },
  {
   "cell_type": "markdown",
   "id": "3b57b9c9-443e-4e26-bda2-15f6877845d5",
   "metadata": {},
   "source": [
    "#### (1) Read file "
   ]
  },
  {
   "cell_type": "code",
   "execution_count": 5,
   "id": "e1973cfb-73d4-4717-a67a-a4e8a0c9edb0",
   "metadata": {
    "execution": {
     "iopub.execute_input": "2021-06-26T22:57:48.938158Z",
     "iopub.status.busy": "2021-06-26T22:57:48.937955Z",
     "iopub.status.idle": "2021-06-26T22:57:48.978793Z",
     "shell.execute_reply": "2021-06-26T22:57:48.978279Z",
     "shell.execute_reply.started": "2021-06-26T22:57:48.938137Z"
    },
    "tags": []
   },
   "outputs": [],
   "source": [
    "# read file\n",
    "df = pd.read_csv('data/Pork Bill - 2021-05-20.csv',encoding='utf-8')\n",
    "\n",
    "# combine abstract of bill and title \n",
    "df['text'] =  df['Title'] + df['Content'].fillna(df['Title'])\n",
    "\n",
    "# drop conten without having any characters\n",
    "# view na's row: df[df['text'].isnull()==True]\n",
    "data = df[['text', 'pork_bill']].dropna(subset=['text'])"
   ]
  },
  {
   "cell_type": "code",
   "execution_count": 6,
   "id": "f6160785-9522-4404-8f77-6df941869cde",
   "metadata": {
    "execution": {
     "iopub.execute_input": "2021-06-26T22:57:49.409966Z",
     "iopub.status.busy": "2021-06-26T22:57:49.409715Z",
     "iopub.status.idle": "2021-06-26T22:57:49.415607Z",
     "shell.execute_reply": "2021-06-26T22:57:49.414868Z",
     "shell.execute_reply.started": "2021-06-26T22:57:49.409939Z"
    },
    "tags": []
   },
   "outputs": [
    {
     "name": "stdout",
     "output_type": "stream",
     "text": [
      " Pork Legislation 2510 \n",
      " None-Pork Legislation 4733\n"
     ]
    }
   ],
   "source": [
    "print(\" Pork Legislation\", data['pork_bill'].value_counts()[1],'\\n', \n",
    "      \"None-Pork Legislation\", data['pork_bill'].value_counts()[0])"
   ]
  },
  {
   "cell_type": "markdown",
   "id": "2327d3a1-56a2-4d60-afc3-d8251e0c5e27",
   "metadata": {},
   "source": [
    "#### (2) Balancing the Training Samples"
   ]
  },
  {
   "cell_type": "markdown",
   "id": "545a68d4-b516-4170-b8c9-78f62d31b859",
   "metadata": {
    "execution": {
     "iopub.execute_input": "2021-05-21T03:47:46.657176Z",
     "iopub.status.busy": "2021-05-21T03:47:46.656903Z",
     "iopub.status.idle": "2021-05-21T03:47:46.667123Z",
     "shell.execute_reply": "2021-05-21T03:47:46.666559Z",
     "shell.execute_reply.started": "2021-05-21T03:47:46.657153Z"
    },
    "tags": []
   },
   "source": [
    "random.seed(24)\n",
    "data = data[data['pork_bill']==1].append(data[data['pork_bill']==0].reset_index(drop=True).loc[[random.randint(0, 2500) for i in range(2500)]]).reset_index(drop=True)"
   ]
  },
  {
   "cell_type": "markdown",
   "id": "6389b502-0eab-4faf-bdd6-742b6068e231",
   "metadata": {
    "execution": {
     "iopub.execute_input": "2021-05-21T03:47:46.668350Z",
     "iopub.status.busy": "2021-05-21T03:47:46.668164Z",
     "iopub.status.idle": "2021-05-21T03:47:46.673541Z",
     "shell.execute_reply": "2021-05-21T03:47:46.672951Z",
     "shell.execute_reply.started": "2021-05-21T03:47:46.668327Z"
    },
    "tags": []
   },
   "source": [
    "print(\" Pork Legislation\", data['pork_bill'].value_counts()[1],'\\n', \n",
    "      \"None-Pork Legislation\", data['pork_bill'].value_counts()[0])"
   ]
  },
  {
   "cell_type": "markdown",
   "id": "5e6d677d-e200-40e6-9252-130eb02fc682",
   "metadata": {
    "execution": {
     "iopub.execute_input": "2021-05-16T17:01:03.001989Z",
     "iopub.status.busy": "2021-05-16T17:01:03.001801Z",
     "iopub.status.idle": "2021-05-16T17:01:03.004600Z",
     "shell.execute_reply": "2021-05-16T17:01:03.003789Z",
     "shell.execute_reply.started": "2021-05-16T17:01:03.001969Z"
    }
   },
   "source": [
    "#### (2) Tokenization"
   ]
  },
  {
   "cell_type": "code",
   "execution_count": 7,
   "id": "120e8b54-7f75-4ca6-a0d0-9872b1522e8e",
   "metadata": {
    "execution": {
     "iopub.execute_input": "2021-06-26T22:57:52.698131Z",
     "iopub.status.busy": "2021-06-26T22:57:52.697927Z",
     "iopub.status.idle": "2021-06-26T22:57:52.705934Z",
     "shell.execute_reply": "2021-06-26T22:57:52.705179Z",
     "shell.execute_reply.started": "2021-06-26T22:57:52.698090Z"
    },
    "tags": []
   },
   "outputs": [],
   "source": [
    "import collections\n",
    "import numpy as np\n",
    "import jieba\n",
    "from itertools import chain\n",
    "\n",
    "\n",
    "def jieba_cut(filename):\n",
    "    \"\"\"\n",
    "    cut Chinese and remove stop words\n",
    "    Reference: https://www.cnblogs.com/Luv-GEM/p/10836454.html\n",
    "    Stopwords: https://www.kaggle.com/rikdifos/english-and-chinese-stopwords?select=cn_stopwords.txt\n",
    "    \"\"\"\n",
    "    stop_list = [i.strip() for i in open('cn_stopwords.txt','r',encoding='utf-8')]  \n",
    "    news_cut = []\n",
    "    news_list = []\n",
    "    for line in filename:    \n",
    "        if line:\n",
    "            news_cut = list(jieba.cut(''.join(line),cut_all=False,HMM=True))  \n",
    "            news_list.append([word.strip() for word in news_cut if word not in stop_list and len(word.strip())>0]) \n",
    "    news_list = list(chain.from_iterable(news_list))  \n",
    "    return news_list\n",
    "\n",
    "def clearPucts(context):\n",
    "    \"\"\"\n",
    "    remove punctuation\n",
    "    ref: https://chenyuzuoo.github.io/posts/28001/\n",
    "    \"\"\"\n",
    "    context = re.sub(\"[\\s+\\.\\!\\/_,$%^*(+\\\"\\']+|[+——！，。？、~@#￥%……&*（）]+\", \"\", context)\n",
    "    context = re.sub(\"[【】╮╯▽╰╭★→「」]+\",\"\", context)\n",
    "    context = re.sub(\"！，❤。～《》：（）【】「」？”“；：、\",\"\",context)\n",
    "    context = re.sub(\"\\s\",\"\",context)\n",
    "    return context\n",
    "\n",
    "def seg_char(sent):\n",
    "    \"\"\"\n",
    "    cut Chinese and remove stop words\n",
    "    ref: https://blog.csdn.net/renyuanfang/article/details/86487367\n",
    "    \"\"\"\n",
    "    # split\n",
    "    pattern_char_1 = re.compile(r'([\\W])')\n",
    "    parts = pattern_char_1.split(sent)\n",
    "    parts = [p for p in parts if len(p.strip())>0]\n",
    "    # cut sentence\n",
    "    pattern = re.compile(r'([\\u4e00-\\u9fa5])')\n",
    "    chars = pattern.split(sent)\n",
    "    chars = [w for w in chars if len(w.strip())>0]\n",
    "    chars = ' '.join(chars)\n",
    "    return chars"
   ]
  },
  {
   "cell_type": "code",
   "execution_count": 8,
   "id": "25f4277c-001d-47a4-81d0-f5ac5ec5e5d3",
   "metadata": {
    "execution": {
     "iopub.execute_input": "2021-06-26T22:57:53.240695Z",
     "iopub.status.busy": "2021-06-26T22:57:53.240478Z",
     "iopub.status.idle": "2021-06-26T22:57:55.163992Z",
     "shell.execute_reply": "2021-06-26T22:57:55.163288Z",
     "shell.execute_reply.started": "2021-06-26T22:57:53.240672Z"
    },
    "tags": []
   },
   "outputs": [],
   "source": [
    "data_clean = [seg_char(text) for text in [clearPucts(text) for text in data.text]]\n",
    "\n",
    "tokenizer = tfds.deprecated.text.SubwordTextEncoder.build_from_corpus(\n",
    "    data_clean, target_vocab_size=2**18)\n",
    "\n",
    "data_inputs = [tokenizer.encode(sentence) for sentence in data_clean]"
   ]
  },
  {
   "cell_type": "markdown",
   "id": "089e65af-e49c-4d60-962e-a0a826809aa5",
   "metadata": {
    "execution": {
     "iopub.execute_input": "2021-05-16T17:01:47.611294Z",
     "iopub.status.busy": "2021-05-16T17:01:47.611020Z",
     "iopub.status.idle": "2021-05-16T17:01:47.614208Z",
     "shell.execute_reply": "2021-05-16T17:01:47.613487Z",
     "shell.execute_reply.started": "2021-05-16T17:01:47.611276Z"
    }
   },
   "source": [
    "#### (3) Padding"
   ]
  },
  {
   "cell_type": "code",
   "execution_count": 9,
   "id": "b801d231-972c-47e3-83c4-7375c2e11a18",
   "metadata": {
    "execution": {
     "iopub.execute_input": "2021-06-26T22:57:55.304959Z",
     "iopub.status.busy": "2021-06-26T22:57:55.304798Z",
     "iopub.status.idle": "2021-06-26T22:57:55.371534Z",
     "shell.execute_reply": "2021-06-26T22:57:55.370867Z",
     "shell.execute_reply.started": "2021-06-26T22:57:55.304940Z"
    },
    "tags": []
   },
   "outputs": [],
   "source": [
    "MAX_LEN = max([len(sentence) for sentence in data_clean])\n",
    "data_inputs = tf.keras.preprocessing.sequence.pad_sequences(data_inputs,\n",
    "                                                            value=0,\n",
    "                                                            padding=\"post\",\n",
    "                                                            maxlen=MAX_LEN)\n"
   ]
  },
  {
   "cell_type": "markdown",
   "id": "f69d90cf-ac3c-4e08-b46b-457d9708d832",
   "metadata": {
    "execution": {
     "iopub.execute_input": "2021-05-16T17:02:28.107037Z",
     "iopub.status.busy": "2021-05-16T17:02:28.106843Z",
     "iopub.status.idle": "2021-05-16T17:02:28.109696Z",
     "shell.execute_reply": "2021-05-16T17:02:28.108954Z",
     "shell.execute_reply.started": "2021-05-16T17:02:28.107017Z"
    }
   },
   "source": [
    "#### (4) Spliting Training/ Testing Set"
   ]
  },
  {
   "cell_type": "code",
   "execution_count": 10,
   "id": "42503355-eea3-4602-ae5a-ea18be84b8d1",
   "metadata": {
    "execution": {
     "iopub.execute_input": "2021-06-26T22:57:56.359473Z",
     "iopub.status.busy": "2021-06-26T22:57:56.359244Z",
     "iopub.status.idle": "2021-06-26T22:57:56.362596Z",
     "shell.execute_reply": "2021-06-26T22:57:56.361828Z",
     "shell.execute_reply.started": "2021-06-26T22:57:56.359448Z"
    },
    "tags": []
   },
   "outputs": [],
   "source": [
    "data_labels = data.pork_bill.values"
   ]
  },
  {
   "cell_type": "code",
   "execution_count": 11,
   "id": "19235117-f63a-4e06-a102-6efe98c37dbf",
   "metadata": {
    "execution": {
     "iopub.execute_input": "2021-06-26T22:57:57.260490Z",
     "iopub.status.busy": "2021-06-26T22:57:57.260268Z",
     "iopub.status.idle": "2021-06-26T22:57:57.277715Z",
     "shell.execute_reply": "2021-06-26T22:57:57.276970Z",
     "shell.execute_reply.started": "2021-06-26T22:57:57.260465Z"
    },
    "tags": []
   },
   "outputs": [
    {
     "name": "stdout",
     "output_type": "stream",
     "text": [
      "Shape of X Train: (4852, 785) \n",
      "Shape of X Test : (2391, 785) \n",
      "Shape of Y Trian: (4852,) \n",
      "Shape of Y Test : (2391,)\n"
     ]
    }
   ],
   "source": [
    "import numpy as np\n",
    "from sklearn.model_selection import train_test_split\n",
    "train_inputs, test_inputs, train_labels, test_labels = train_test_split(\n",
    "    data_inputs, data_labels, test_size=0.33, random_state=42)\n",
    "\n",
    "print(\"Shape of X Train:\", train_inputs.shape, '\\n'\n",
    "      \"Shape of X Test :\", test_inputs.shape,'\\n'\n",
    "      \"Shape of Y Trian:\", train_labels.shape , '\\n'\n",
    "      \"Shape of Y Test :\", test_labels.shape )"
   ]
  },
  {
   "cell_type": "code",
   "execution_count": 12,
   "id": "6f10cb5c-7c8d-4e1e-a987-11b8de8e42d0",
   "metadata": {
    "execution": {
     "iopub.execute_input": "2021-06-26T22:57:59.218237Z",
     "iopub.status.busy": "2021-06-26T22:57:59.218017Z",
     "iopub.status.idle": "2021-06-26T22:57:59.222648Z",
     "shell.execute_reply": "2021-06-26T22:57:59.221846Z",
     "shell.execute_reply.started": "2021-06-26T22:57:59.218214Z"
    },
    "tags": []
   },
   "outputs": [
    {
     "name": "stdout",
     "output_type": "stream",
     "text": [
      " Num of Train Set: 4852 \n",
      " Not Pork vs Pork: {0: 3167, 1: 1685}\n"
     ]
    }
   ],
   "source": [
    "unique_train_labels, counts_train_labels = np.unique(train_labels, return_counts=True)\n",
    "\n",
    "print(' Num of Train Set:' , train_inputs.shape[0], '\\n'\n",
    "      ,'Not Pork vs Pork:', dict(zip(unique_train_labels, counts_train_labels)))"
   ]
  },
  {
   "cell_type": "code",
   "execution_count": 13,
   "id": "fedad623-02ba-4fad-b0b4-a094de7c39de",
   "metadata": {
    "execution": {
     "iopub.execute_input": "2021-06-26T22:57:59.685147Z",
     "iopub.status.busy": "2021-06-26T22:57:59.684929Z",
     "iopub.status.idle": "2021-06-26T22:57:59.689234Z",
     "shell.execute_reply": "2021-06-26T22:57:59.688452Z",
     "shell.execute_reply.started": "2021-06-26T22:57:59.685123Z"
    },
    "tags": []
   },
   "outputs": [
    {
     "name": "stdout",
     "output_type": "stream",
     "text": [
      " Num of Test Set: 2391 \n",
      " Not Pork vs Pork: {0: 1566, 1: 825}\n"
     ]
    }
   ],
   "source": [
    "unique_test_labels, counts_test_labels = np.unique(test_labels, return_counts=True)\n",
    "\n",
    "print(' Num of Test Set:' , test_inputs.shape[0], '\\n'\n",
    "      ,'Not Pork vs Pork:', dict(zip(unique_test_labels, counts_test_labels)))"
   ]
  },
  {
   "cell_type": "markdown",
   "id": "725f7feb-b93b-4d0b-bcbf-562240a79f8b",
   "metadata": {
    "execution": {
     "iopub.execute_input": "2021-05-16T17:04:13.375644Z",
     "iopub.status.busy": "2021-05-16T17:04:13.375440Z",
     "iopub.status.idle": "2021-05-16T17:04:13.378111Z",
     "shell.execute_reply": "2021-05-16T17:04:13.377464Z",
     "shell.execute_reply.started": "2021-05-16T17:04:13.375623Z"
    },
    "tags": []
   },
   "source": [
    "-------------------------\n",
    "\n",
    "\n",
    "### Stage 3: Model and Building"
   ]
  },
  {
   "cell_type": "markdown",
   "id": "4a0e74bf-eaf4-4043-8d23-88291d8ea344",
   "metadata": {
    "execution": {
     "iopub.execute_input": "2021-05-16T17:13:18.807725Z",
     "iopub.status.busy": "2021-05-16T17:13:18.807498Z",
     "iopub.status.idle": "2021-05-16T17:13:18.810574Z",
     "shell.execute_reply": "2021-05-16T17:13:18.809625Z",
     "shell.execute_reply.started": "2021-05-16T17:13:18.807701Z"
    }
   },
   "source": [
    "#### (1) Using the Subclassing API to Build Dynamic Model"
   ]
  },
  {
   "cell_type": "code",
   "execution_count": 14,
   "id": "1f18f9b1-5f4d-4d0a-baf4-2eebed7f34f2",
   "metadata": {
    "execution": {
     "iopub.execute_input": "2021-06-26T22:58:05.049396Z",
     "iopub.status.busy": "2021-06-26T22:58:05.049138Z",
     "iopub.status.idle": "2021-06-26T22:58:05.057956Z",
     "shell.execute_reply": "2021-06-26T22:58:05.057331Z",
     "shell.execute_reply.started": "2021-06-26T22:58:05.049370Z"
    },
    "tags": []
   },
   "outputs": [],
   "source": [
    "class DCNN(tf.keras.Model):\n",
    "    def __init__(self,\n",
    "                 vocab_size,\n",
    "                 emb_dim=128,\n",
    "                 nb_filters=100,\n",
    "                 FFN_units=512,\n",
    "                 nb_classes=2,\n",
    "                 dropout_rate=0.1,\n",
    "                 training=False,\n",
    "                 name=\"dcnn\"):\n",
    "        super(DCNN, self).__init__(name=name)\n",
    "        self.embedding = layers.Embedding(vocab_size,emb_dim)\n",
    "        self.bigram = layers.Conv1D(filters=nb_filters, kernel_size=2, padding=\"valid\", activation=\"relu\")\n",
    "        self.trigram = layers.Conv1D(filters=nb_filters,kernel_size=3,padding=\"valid\",activation=\"relu\")\n",
    "        self.fourgram = layers.Conv1D(filters=nb_filters,kernel_size=4,padding=\"valid\",activation=\"relu\")\n",
    "        self.fivegram = layers.Conv1D(filters=nb_filters,kernel_size=5,padding=\"valid\",activation=\"relu\")\n",
    "        self.sixgram = layers.Conv1D(filters=nb_filters,kernel_size=6,padding=\"valid\",activation=\"relu\")\n",
    "        self.pool = layers.GlobalMaxPool1D()\n",
    "        self.dense_1 = layers.Dense(units=FFN_units, activation=\"relu\")\n",
    "        self.dropout = layers.Dropout(rate=dropout_rate)\n",
    "        self.last_dense = layers.Dense(units=1, activation=\"sigmoid\")    \n",
    "    def call(self, inputs, training):\n",
    "        x = self.embedding(inputs)\n",
    "        x_1 = self.bigram(x)\n",
    "        x_1 = self.pool(x_1)\n",
    "        x_2 = self.trigram(x)\n",
    "        x_2 = self.pool(x_2)\n",
    "        x_3 = self.fourgram(x)\n",
    "        x_3 = self.pool(x_3)\n",
    "        x_4 = self.fourgram(x)\n",
    "        x_4 = self.pool(x_4) \n",
    "        x_5 = self.fivegram(x)\n",
    "        x_5 = self.pool(x_5)      \n",
    "        merged = tf.concat([x_1, x_2, x_3, x_4, x_5], axis=-1) \n",
    "        merged = self.dense_1(merged)\n",
    "        merged = self.dropout(merged, training)\n",
    "        output = self.last_dense(merged)        \n",
    "        return output"
   ]
  },
  {
   "cell_type": "code",
   "execution_count": 15,
   "id": "bfc02e93-3a0e-4c1c-b488-b2db98b53824",
   "metadata": {
    "execution": {
     "iopub.execute_input": "2021-06-26T22:58:05.816357Z",
     "iopub.status.busy": "2021-06-26T22:58:05.816139Z",
     "iopub.status.idle": "2021-06-26T22:58:05.837417Z",
     "shell.execute_reply": "2021-06-26T22:58:05.836795Z",
     "shell.execute_reply.started": "2021-06-26T22:58:05.816333Z"
    },
    "tags": []
   },
   "outputs": [],
   "source": [
    "VOCAB_SIZE = tokenizer.vocab_size  # 5000 tokenizer.vocab_size\n",
    "EMB_DIM = 200\n",
    "NB_FILTERS = 100\n",
    "FFN_UNITS = 256\n",
    "NB_CLASSES = 2 #len(set(train_labels))\n",
    "DROPOUT_RATE = 0.2\n",
    "BATCH_SIZE = 230\n",
    "NB_EPOCHS = 80\n",
    "\n",
    "Dcnn = DCNN(vocab_size=VOCAB_SIZE,\n",
    "            emb_dim=EMB_DIM,\n",
    "            nb_filters=NB_FILTERS,\n",
    "            FFN_units=FFN_UNITS,\n",
    "            nb_classes=NB_CLASSES,\n",
    "            dropout_rate=DROPOUT_RATE)"
   ]
  },
  {
   "cell_type": "markdown",
   "id": "b0ec8f51-6ed8-49fa-9d5e-c6929184bdf1",
   "metadata": {
    "execution": {
     "iopub.execute_input": "2021-05-16T18:43:59.279424Z",
     "iopub.status.busy": "2021-05-16T18:43:59.279202Z",
     "iopub.status.idle": "2021-05-16T18:43:59.282718Z",
     "shell.execute_reply": "2021-05-16T18:43:59.281823Z",
     "shell.execute_reply.started": "2021-05-16T18:43:59.279399Z"
    }
   },
   "source": [
    "#### (2) Compile and Summary of the Model"
   ]
  },
  {
   "cell_type": "code",
   "execution_count": 16,
   "id": "2cce0414-05eb-4f79-9c27-bca9c91a2903",
   "metadata": {
    "execution": {
     "iopub.execute_input": "2021-06-26T22:58:08.105012Z",
     "iopub.status.busy": "2021-06-26T22:58:08.104788Z",
     "iopub.status.idle": "2021-06-26T22:58:08.167613Z",
     "shell.execute_reply": "2021-06-26T22:58:08.166872Z",
     "shell.execute_reply.started": "2021-06-26T22:58:08.104988Z"
    },
    "tags": []
   },
   "outputs": [
    {
     "name": "stdout",
     "output_type": "stream",
     "text": [
      "Model: \"dcnn\"\n",
      "_________________________________________________________________\n",
      "Layer (type)                 Output Shape              Param #   \n",
      "=================================================================\n",
      "embedding (Embedding)        multiple                  586600    \n",
      "_________________________________________________________________\n",
      "conv1d (Conv1D)              multiple                  40100     \n",
      "_________________________________________________________________\n",
      "conv1d_1 (Conv1D)            multiple                  60100     \n",
      "_________________________________________________________________\n",
      "conv1d_2 (Conv1D)            multiple                  80100     \n",
      "_________________________________________________________________\n",
      "conv1d_3 (Conv1D)            multiple                  100100    \n",
      "_________________________________________________________________\n",
      "conv1d_4 (Conv1D)            multiple                  0 (unused)\n",
      "_________________________________________________________________\n",
      "global_max_pooling1d (Global multiple                  0         \n",
      "_________________________________________________________________\n",
      "dense (Dense)                multiple                  128256    \n",
      "_________________________________________________________________\n",
      "dropout (Dropout)            multiple                  0         \n",
      "_________________________________________________________________\n",
      "dense_1 (Dense)              multiple                  257       \n",
      "=================================================================\n",
      "Total params: 995,513\n",
      "Trainable params: 995,513\n",
      "Non-trainable params: 0\n",
      "_________________________________________________________________\n"
     ]
    }
   ],
   "source": [
    "Dcnn.compile(loss=\"binary_crossentropy\", optimizer=\"adam\", metrics=[\"accuracy\"])\n",
    "Dcnn.build(input_shape = (train_inputs.shape[1] , EMB_DIM)) # (train_inputs.shape[1] , EMB_DIM)  (785 , EMB_DIM)\n",
    "Dcnn.summary()"
   ]
  },
  {
   "cell_type": "markdown",
   "id": "3880d2a4-2152-43de-bad3-34e67e97469e",
   "metadata": {
    "tags": []
   },
   "source": [
    "#### (3) Check Point Path"
   ]
  },
  {
   "cell_type": "code",
   "execution_count": 17,
   "id": "2c18aa59-a797-4a67-bc4d-a412dbaaedcb",
   "metadata": {
    "execution": {
     "iopub.execute_input": "2021-06-26T22:58:14.530894Z",
     "iopub.status.busy": "2021-06-26T22:58:14.530670Z",
     "iopub.status.idle": "2021-06-26T22:58:14.534900Z",
     "shell.execute_reply": "2021-06-26T22:58:14.534191Z",
     "shell.execute_reply.started": "2021-06-26T22:58:14.530871Z"
    },
    "tags": []
   },
   "outputs": [],
   "source": [
    "checkpoint_path = \"checkpoint_recode/ckpt_manager\"\n",
    "\n",
    "ckpt = tf.train.Checkpoint(Dcnn=Dcnn)\n",
    "\n",
    "ckpt_manager = tf.train.CheckpointManager(ckpt, checkpoint_path, max_to_keep=10)\n",
    "\n",
    "if ckpt_manager.latest_checkpoint:\n",
    "    ckpt.restore(ckpt_manager.latest_checkpoint)\n",
    "    print(\"Checkpoint Located!!\")"
   ]
  },
  {
   "cell_type": "markdown",
   "id": "73d70667-275f-40c0-bd71-6b47e9722798",
   "metadata": {
    "execution": {
     "iopub.execute_input": "2021-05-16T17:47:13.442664Z",
     "iopub.status.busy": "2021-05-16T17:47:13.442381Z",
     "iopub.status.idle": "2021-05-16T17:47:13.448371Z",
     "shell.execute_reply": "2021-05-16T17:47:13.446970Z",
     "shell.execute_reply.started": "2021-05-16T17:47:13.442620Z"
    }
   },
   "source": [
    "-------------------------\n",
    "\n",
    "### Stage 4: Train the Model"
   ]
  },
  {
   "cell_type": "code",
   "execution_count": 18,
   "id": "cc975047-5a58-46dc-b427-262796d9b625",
   "metadata": {
    "execution": {
     "iopub.execute_input": "2021-06-26T22:58:21.766356Z",
     "iopub.status.busy": "2021-06-26T22:58:21.766147Z",
     "iopub.status.idle": "2021-06-26T22:58:21.769711Z",
     "shell.execute_reply": "2021-06-26T22:58:21.768970Z",
     "shell.execute_reply.started": "2021-06-26T22:58:21.766339Z"
    },
    "tags": []
   },
   "outputs": [],
   "source": [
    "early_stop = EarlyStopping(monitor='val_loss',patience=5)"
   ]
  },
  {
   "cell_type": "code",
   "execution_count": 19,
   "id": "95a54274-ca78-4a09-869b-193edc658b7f",
   "metadata": {
    "execution": {
     "iopub.execute_input": "2021-06-26T22:58:28.372482Z",
     "iopub.status.busy": "2021-06-26T22:58:28.372218Z",
     "iopub.status.idle": "2021-06-26T23:17:30.422784Z",
     "shell.execute_reply": "2021-06-26T23:17:30.421703Z",
     "shell.execute_reply.started": "2021-06-26T22:58:28.372454Z"
    },
    "tags": []
   },
   "outputs": [
    {
     "name": "stdout",
     "output_type": "stream",
     "text": [
      "Epoch 1/20\n",
      "22/22 [==============================] - 51s 2s/step - loss: 0.5868 - accuracy: 0.6849 - val_loss: 0.4573 - val_accuracy: 0.7696\n",
      "Epoch 2/20\n",
      "22/22 [==============================] - 51s 2s/step - loss: 0.3214 - accuracy: 0.8685 - val_loss: 0.2316 - val_accuracy: 0.9017\n",
      "Epoch 3/20\n",
      "22/22 [==============================] - 68s 3s/step - loss: 0.1538 - accuracy: 0.9429 - val_loss: 0.1618 - val_accuracy: 0.9414\n",
      "Epoch 4/20\n",
      "22/22 [==============================] - 52s 2s/step - loss: 0.0805 - accuracy: 0.9749 - val_loss: 0.1493 - val_accuracy: 0.9494\n",
      "Epoch 5/20\n",
      "22/22 [==============================] - 50s 2s/step - loss: 0.0521 - accuracy: 0.9835 - val_loss: 0.1609 - val_accuracy: 0.9460\n",
      "Epoch 6/20\n",
      "22/22 [==============================] - 52s 2s/step - loss: 0.0499 - accuracy: 0.9839 - val_loss: 0.1808 - val_accuracy: 0.9481\n",
      "Epoch 7/20\n",
      "22/22 [==============================] - 56s 3s/step - loss: 0.0451 - accuracy: 0.9862 - val_loss: 0.1914 - val_accuracy: 0.9444\n",
      "Epoch 8/20\n",
      "22/22 [==============================] - 57s 3s/step - loss: 0.0429 - accuracy: 0.9870 - val_loss: 0.1611 - val_accuracy: 0.9473\n",
      "Epoch 9/20\n",
      "22/22 [==============================] - 58s 3s/step - loss: 0.0412 - accuracy: 0.9866 - val_loss: 0.1631 - val_accuracy: 0.9481\n",
      "Epoch 10/20\n",
      "22/22 [==============================] - 65s 3s/step - loss: 0.0401 - accuracy: 0.9860 - val_loss: 0.1737 - val_accuracy: 0.9494\n",
      "Epoch 11/20\n",
      "22/22 [==============================] - 55s 2s/step - loss: 0.0389 - accuracy: 0.9862 - val_loss: 0.1728 - val_accuracy: 0.9473\n",
      "Epoch 12/20\n",
      "22/22 [==============================] - 56s 3s/step - loss: 0.0379 - accuracy: 0.9860 - val_loss: 0.1704 - val_accuracy: 0.9469\n",
      "Epoch 13/20\n",
      "22/22 [==============================] - 56s 3s/step - loss: 0.0348 - accuracy: 0.9847 - val_loss: 0.1731 - val_accuracy: 0.9486\n",
      "Epoch 14/20\n",
      "22/22 [==============================] - 58s 3s/step - loss: 0.0367 - accuracy: 0.9860 - val_loss: 0.1766 - val_accuracy: 0.9465\n",
      "Epoch 15/20\n",
      "22/22 [==============================] - 74s 3s/step - loss: 0.0341 - accuracy: 0.9866 - val_loss: 0.1767 - val_accuracy: 0.9494\n",
      "Epoch 16/20\n",
      "22/22 [==============================] - 61s 3s/step - loss: 0.0370 - accuracy: 0.9847 - val_loss: 0.1715 - val_accuracy: 0.9452\n",
      "Epoch 17/20\n",
      "22/22 [==============================] - 49s 2s/step - loss: 0.0336 - accuracy: 0.9850 - val_loss: 0.1711 - val_accuracy: 0.9477\n",
      "Epoch 18/20\n",
      "22/22 [==============================] - 54s 2s/step - loss: 0.0326 - accuracy: 0.9862 - val_loss: 0.1754 - val_accuracy: 0.9465\n",
      "Epoch 19/20\n",
      "22/22 [==============================] - 64s 3s/step - loss: 0.0306 - accuracy: 0.9868 - val_loss: 0.1879 - val_accuracy: 0.9452\n",
      "Epoch 20/20\n",
      "22/22 [==============================] - 55s 2s/step - loss: 0.0352 - accuracy: 0.9858 - val_loss: 0.1779 - val_accuracy: 0.9477\n"
     ]
    },
    {
     "data": {
      "text/plain": [
       "'checkpoint_recode/ckpt_manager/ckpt-1'"
      ]
     },
     "execution_count": 19,
     "metadata": {},
     "output_type": "execute_result"
    }
   ],
   "source": [
    "Dcnn.fit(train_inputs, train_labels,\n",
    "         validation_data=(test_inputs, test_labels),\n",
    "         batch_size=BATCH_SIZE,\n",
    "         epochs=20)\n",
    "ckpt_manager.save()"
   ]
  },
  {
   "cell_type": "code",
   "execution_count": null,
   "id": "baf0cade-2c45-43b2-9782-6a8c6e570153",
   "metadata": {
    "tags": []
   },
   "outputs": [],
   "source": [
    "Dcnn.fit(train_inputs, train_labels,\n",
    "         validation_data=(test_inputs, test_labels),\n",
    "         batch_size=BATCH_SIZE,\n",
    "         epochs=NB_EPOCHS,\n",
    "         callbacks=[early_stop])\n",
    "ckpt_manager.save()"
   ]
  },
  {
   "cell_type": "markdown",
   "id": "3b0ac256-ab81-4ff5-8430-48f8bba50126",
   "metadata": {
    "execution": {
     "iopub.execute_input": "2021-05-16T18:23:25.926977Z",
     "iopub.status.busy": "2021-05-16T18:23:25.926754Z",
     "iopub.status.idle": "2021-05-16T18:23:25.931072Z",
     "shell.execute_reply": "2021-05-16T18:23:25.930041Z",
     "shell.execute_reply.started": "2021-05-16T18:23:25.926952Z"
    }
   },
   "source": [
    "-------------------------\n",
    "\n",
    "### Stage 5: Evaluation"
   ]
  },
  {
   "cell_type": "code",
   "execution_count": 21,
   "id": "58099cc1-19e0-443a-b960-7ae4d67344d3",
   "metadata": {
    "execution": {
     "iopub.execute_input": "2021-06-26T23:17:30.571233Z",
     "iopub.status.busy": "2021-06-26T23:17:30.570956Z",
     "iopub.status.idle": "2021-06-26T23:17:30.585013Z",
     "shell.execute_reply": "2021-06-26T23:17:30.583924Z",
     "shell.execute_reply.started": "2021-06-26T23:17:30.571200Z"
    },
    "tags": []
   },
   "outputs": [
    {
     "data": {
      "text/html": [
       "<div>\n",
       "<style scoped>\n",
       "    .dataframe tbody tr th:only-of-type {\n",
       "        vertical-align: middle;\n",
       "    }\n",
       "\n",
       "    .dataframe tbody tr th {\n",
       "        vertical-align: top;\n",
       "    }\n",
       "\n",
       "    .dataframe thead th {\n",
       "        text-align: right;\n",
       "    }\n",
       "</style>\n",
       "<table border=\"1\" class=\"dataframe\">\n",
       "  <thead>\n",
       "    <tr style=\"text-align: right;\">\n",
       "      <th></th>\n",
       "      <th>loss</th>\n",
       "      <th>accuracy</th>\n",
       "      <th>val_loss</th>\n",
       "      <th>val_accuracy</th>\n",
       "    </tr>\n",
       "  </thead>\n",
       "  <tbody>\n",
       "    <tr>\n",
       "      <th>0</th>\n",
       "      <td>0.586784</td>\n",
       "      <td>0.684872</td>\n",
       "      <td>0.457273</td>\n",
       "      <td>0.769552</td>\n",
       "    </tr>\n",
       "    <tr>\n",
       "      <th>1</th>\n",
       "      <td>0.321357</td>\n",
       "      <td>0.868508</td>\n",
       "      <td>0.231579</td>\n",
       "      <td>0.901715</td>\n",
       "    </tr>\n",
       "    <tr>\n",
       "      <th>2</th>\n",
       "      <td>0.153764</td>\n",
       "      <td>0.942910</td>\n",
       "      <td>0.161827</td>\n",
       "      <td>0.941447</td>\n",
       "    </tr>\n",
       "    <tr>\n",
       "      <th>3</th>\n",
       "      <td>0.080511</td>\n",
       "      <td>0.974856</td>\n",
       "      <td>0.149270</td>\n",
       "      <td>0.949394</td>\n",
       "    </tr>\n",
       "    <tr>\n",
       "      <th>4</th>\n",
       "      <td>0.052112</td>\n",
       "      <td>0.983512</td>\n",
       "      <td>0.160924</td>\n",
       "      <td>0.946048</td>\n",
       "    </tr>\n",
       "  </tbody>\n",
       "</table>\n",
       "</div>"
      ],
      "text/plain": [
       "       loss  accuracy  val_loss  val_accuracy\n",
       "0  0.586784  0.684872  0.457273      0.769552\n",
       "1  0.321357  0.868508  0.231579      0.901715\n",
       "2  0.153764  0.942910  0.161827      0.941447\n",
       "3  0.080511  0.974856  0.149270      0.949394\n",
       "4  0.052112  0.983512  0.160924      0.946048"
      ]
     },
     "execution_count": 21,
     "metadata": {},
     "output_type": "execute_result"
    }
   ],
   "source": [
    "losses = pd.DataFrame(Dcnn.history.history)\n",
    "losses.head()"
   ]
  },
  {
   "cell_type": "code",
   "execution_count": 22,
   "id": "f37a760f-b388-4051-a78d-295bce1f214a",
   "metadata": {
    "execution": {
     "iopub.execute_input": "2021-06-26T23:17:32.559133Z",
     "iopub.status.busy": "2021-06-26T23:17:32.558819Z",
     "iopub.status.idle": "2021-06-26T23:17:33.052926Z",
     "shell.execute_reply": "2021-06-26T23:17:33.051946Z",
     "shell.execute_reply.started": "2021-06-26T23:17:32.559097Z"
    },
    "tags": []
   },
   "outputs": [
    {
     "data": {
      "text/plain": [
       "<AxesSubplot:>"
      ]
     },
     "execution_count": 22,
     "metadata": {},
     "output_type": "execute_result"
    },
    {
     "data": {
      "image/png": "[encoded data removed]",
      "text/plain": [
       "<Figure size 432x288 with 1 Axes>"
      ]
     },
     "metadata": {
      "needs_background": "light"
     },
     "output_type": "display_data"
    },
    {
     "data": {
      "image/png": "[encoded data removed]",
      "text/plain": [
       "<Figure size 432x288 with 1 Axes>"
      ]
     },
     "metadata": {
      "needs_background": "light"
     },
     "output_type": "display_data"
    }
   ],
   "source": [
    "losses[['accuracy','val_accuracy']].plot()\n",
    "losses[['loss','val_loss']].plot()"
   ]
  },
  {
   "cell_type": "code",
   "execution_count": 23,
   "id": "b523a7e6-c339-4ddc-b27c-3dc8fb169af8",
   "metadata": {
    "execution": {
     "iopub.execute_input": "2021-06-26T23:17:51.776474Z",
     "iopub.status.busy": "2021-06-26T23:17:51.776252Z",
     "iopub.status.idle": "2021-06-26T23:17:52.011861Z",
     "shell.execute_reply": "2021-06-26T23:17:52.011332Z",
     "shell.execute_reply.started": "2021-06-26T23:17:51.776450Z"
    },
    "tags": []
   },
   "outputs": [
    {
     "data": {
      "image/png": "[encoded data removed]",
      "text/plain": [
       "<Figure size 576x360 with 1 Axes>"
      ]
     },
     "metadata": {
      "needs_background": "light"
     },
     "output_type": "display_data"
    }
   ],
   "source": [
    "losses.plot(figsize=(8,5))\n",
    "plt.grid(True)\n",
    "plt.gca().set_ylim(0,1)\n",
    "plt.xlabel(\"Learning Curves: the mean training loss and accuracy measured over each epochs\")\n",
    "plt.savefig('images/learning_curves.png')\n",
    "plt.show()\n"
   ]
  },
  {
   "cell_type": "code",
   "execution_count": 19,
   "id": "44300a6c-8da8-43cd-ada0-208a99b6b9d7",
   "metadata": {
    "execution": {
     "iopub.execute_input": "2021-06-26T19:55:35.151376Z",
     "iopub.status.busy": "2021-06-26T19:55:35.151100Z",
     "iopub.status.idle": "2021-06-26T19:55:35.154660Z",
     "shell.execute_reply": "2021-06-26T19:55:35.153941Z",
     "shell.execute_reply.started": "2021-06-26T19:55:35.151346Z"
    },
    "tags": []
   },
   "outputs": [],
   "source": [
    "from sklearn.metrics import classification_report,confusion_matrix"
   ]
  },
  {
   "cell_type": "code",
   "execution_count": 20,
   "id": "17760825-eb35-4f8c-88a0-45e94387c08d",
   "metadata": {
    "execution": {
     "iopub.execute_input": "2021-06-26T19:55:35.586328Z",
     "iopub.status.busy": "2021-06-26T19:55:35.586154Z",
     "iopub.status.idle": "2021-06-26T19:55:38.983205Z",
     "shell.execute_reply": "2021-06-26T19:55:38.982500Z",
     "shell.execute_reply.started": "2021-06-26T19:55:35.586309Z"
    },
    "tags": []
   },
   "outputs": [
    {
     "name": "stdout",
     "output_type": "stream",
     "text": [
      "11/11 [==============================] - 3s 302ms/step - loss: 0.5127 - accuracy: 0.9402\n",
      "[0.5127474665641785, 0.9401924014091492]\n"
     ]
    }
   ],
   "source": [
    "evaluation_model = Dcnn.evaluate(test_inputs, test_labels, batch_size=BATCH_SIZE)\n",
    "print(evaluation_model)"
   ]
  },
  {
   "cell_type": "code",
   "execution_count": 21,
   "id": "c9a3f93d-4398-418c-b511-69594874cc5a",
   "metadata": {
    "execution": {
     "iopub.execute_input": "2021-06-26T19:55:40.682504Z",
     "iopub.status.busy": "2021-06-26T19:55:40.682277Z",
     "iopub.status.idle": "2021-06-26T19:55:44.195426Z",
     "shell.execute_reply": "2021-06-26T19:55:44.194857Z",
     "shell.execute_reply.started": "2021-06-26T19:55:40.682479Z"
    },
    "tags": []
   },
   "outputs": [
    {
     "name": "stdout",
     "output_type": "stream",
     "text": [
      "              precision    recall  f1-score   support\n",
      "\n",
      "           0       0.95      0.96      0.95      1566\n",
      "           1       0.93      0.90      0.91       825\n",
      "\n",
      "    accuracy                           0.94      2391\n",
      "   macro avg       0.94      0.93      0.93      2391\n",
      "weighted avg       0.94      0.94      0.94      2391\n",
      "\n"
     ]
    }
   ],
   "source": [
    "# pd.DataFrame(confusion_matrix(test_labels,predictions))\n",
    "predictions = Dcnn.predict(test_inputs)\n",
    "predictions = np.where(predictions >0.8 , 1, 0)\n",
    "print(classification_report(test_labels, predictions))"
   ]
  },
  {
   "cell_type": "code",
   "execution_count": 22,
   "id": "4767688b-bfc8-4dc4-b8ec-2252f7791534",
   "metadata": {
    "execution": {
     "iopub.execute_input": "2021-06-26T19:55:46.497814Z",
     "iopub.status.busy": "2021-06-26T19:55:46.497588Z",
     "iopub.status.idle": "2021-06-26T19:55:46.507896Z",
     "shell.execute_reply": "2021-06-26T19:55:46.507210Z",
     "shell.execute_reply.started": "2021-06-26T19:55:46.497789Z"
    },
    "tags": []
   },
   "outputs": [
    {
     "data": {
      "text/html": [
       "<div>\n",
       "<style scoped>\n",
       "    .dataframe tbody tr th:only-of-type {\n",
       "        vertical-align: middle;\n",
       "    }\n",
       "\n",
       "    .dataframe tbody tr th {\n",
       "        vertical-align: top;\n",
       "    }\n",
       "\n",
       "    .dataframe thead th {\n",
       "        text-align: right;\n",
       "    }\n",
       "</style>\n",
       "<table border=\"1\" class=\"dataframe\">\n",
       "  <thead>\n",
       "    <tr style=\"text-align: right;\">\n",
       "      <th></th>\n",
       "      <th>Predictions: Not Pork(0)</th>\n",
       "      <th>Predictions:Pork(1)</th>\n",
       "    </tr>\n",
       "  </thead>\n",
       "  <tbody>\n",
       "    <tr>\n",
       "      <th>Acutal: Not Pork(0)</th>\n",
       "      <td>1506</td>\n",
       "      <td>60</td>\n",
       "    </tr>\n",
       "    <tr>\n",
       "      <th>Acutal: Pork (1)</th>\n",
       "      <td>82</td>\n",
       "      <td>743</td>\n",
       "    </tr>\n",
       "  </tbody>\n",
       "</table>\n",
       "</div>"
      ],
      "text/plain": [
       "                     Predictions: Not Pork(0)  Predictions:Pork(1)\n",
       "Acutal: Not Pork(0)                      1506                   60\n",
       "Acutal: Pork (1)                           82                  743"
      ]
     },
     "execution_count": 22,
     "metadata": {},
     "output_type": "execute_result"
    }
   ],
   "source": [
    "t = pd.DataFrame(confusion_matrix(test_labels,predictions), \n",
    "             columns=['Predictions: Not Pork(0)','Predictions:Pork(1)'])\n",
    "t.index = ['Acutal: Not Pork(0)', 'Acutal: Pork (1)']\n",
    "t"
   ]
  },
  {
   "cell_type": "markdown",
   "id": "d0416d6f-5e46-47c9-abad-f344bea7a94a",
   "metadata": {},
   "source": [
    "-------------------------\n",
    "\n",
    "### Stage 6: Try the Model with New Data and Export an End-to-end Model\n"
   ]
  },
  {
   "cell_type": "markdown",
   "id": "394b9a6e-0130-4af2-88e5-efe91cf9f348",
   "metadata": {
    "execution": {
     "iopub.execute_input": "2021-05-16T22:53:41.558105Z",
     "iopub.status.busy": "2021-05-16T22:53:41.557872Z",
     "iopub.status.idle": "2021-05-16T22:53:41.560984Z",
     "shell.execute_reply": "2021-05-16T22:53:41.560122Z",
     "shell.execute_reply.started": "2021-05-16T22:53:41.558080Z"
    }
   },
   "source": [
    "#### (1) Test New Dataset from 2000 samples from Legislative Questions from 6th Session "
   ]
  },
  {
   "cell_type": "code",
   "execution_count": null,
   "id": "632bf33e-1df7-46c5-9a67-ab7141a949c2",
   "metadata": {
    "execution": {
     "iopub.status.busy": "2021-06-02T02:37:39.852486Z",
     "iopub.status.idle": "2021-06-02T02:37:39.853290Z",
     "shell.execute_reply": "2021-06-02T02:37:39.852882Z"
    },
    "tags": []
   },
   "outputs": [],
   "source": [
    "def as_num(x):\n",
    "    \"\"\"\n",
    "    keep 10 decimals\n",
    "    \"\"\"\n",
    "    y = '{:.15f}'.format(x) \n",
    "    return y"
   ]
  },
  {
   "cell_type": "code",
   "execution_count": null,
   "id": "06ea7d54-49e9-4363-8304-d1dabaf3beb4",
   "metadata": {
    "execution": {
     "iopub.status.busy": "2021-06-02T02:37:39.855530Z",
     "iopub.status.idle": "2021-06-02T02:37:39.856281Z",
     "shell.execute_reply": "2021-06-02T02:37:39.855859Z"
    },
    "tags": []
   },
   "outputs": [],
   "source": [
    "import pandas as pd\n",
    "import random\n",
    "\n",
    "# test the trined model using new text from 200 samples from Leislative Questions\n",
    "LQ6 = pd.read_csv('data/LQ_6th.csv')\n",
    "\n",
    "# drop '0': legislor  never have proposed any legisaltive questions. \n",
    "LQ6 = LQ6[LQ6['title'].isin(['0'])== False]\n",
    "\n",
    "# select text with number of charecters within EMB_DIM; len(sub_set) = 11162\n",
    "# sample_df = LQ6.loc[[len(char_num) for char_num in LQ6.title if len(char_num) < MAX_LEN], ['legislator','title', 'topic', 'category', 'keywords', 'ques_type']].reset_index(drop=True)\n",
    "random.seed(42)\n",
    "sample_df = LQ6.iloc[random.sample(range(len(LQ6)), 2000)][['legislator', 'title', 'topic', 'category', 'keywords', 'ques_type']]\n",
    "sub_set = [seg_char(text) for text in [clearPucts(text) for text in sample_df.title]]"
   ]
  },
  {
   "cell_type": "markdown",
   "id": "68cc06a7-27d7-4007-949d-f7df81246e25",
   "metadata": {
    "tags": []
   },
   "source": [
    "##### Top 10 of 2000 Samples"
   ]
  },
  {
   "cell_type": "code",
   "execution_count": null,
   "id": "d4b618c9-8c4b-40ec-a396-b4679233197e",
   "metadata": {
    "execution": {
     "iopub.status.busy": "2021-06-02T02:37:39.861122Z",
     "iopub.status.idle": "2021-06-02T02:37:39.862764Z",
     "shell.execute_reply": "2021-06-02T02:37:39.862098Z"
    },
    "tags": []
   },
   "outputs": [],
   "source": [
    "pd.DataFrame(\n",
    "    {'legislator': sample_df.legislator,\n",
    "     'Pork Value(Constituency Interest)':[as_num(Dcnn(np.array([tokenizer.encode(line)]), training=True).numpy()[0][0]) for line in sub_set],\n",
    "     'Legislative Questions ': sample_df.title,\n",
    "     'Topic': sample_df.topic,\n",
    "     'Key Word':sample_df.keywords}).sort_values(by=['Pork Value(Constituency Interest)'], ascending = False).head(15)"
   ]
  },
  {
   "cell_type": "markdown",
   "id": "6a6d4b15-3e05-427d-a664-8c8ce4e6622c",
   "metadata": {},
   "source": [
    "##### Last 10 Rows of 2000 Samples"
   ]
  },
  {
   "cell_type": "code",
   "execution_count": null,
   "id": "369a7336-dc9d-4883-b919-b19611b5ad39",
   "metadata": {
    "execution": {
     "iopub.status.busy": "2021-06-02T02:37:39.868236Z",
     "iopub.status.idle": "2021-06-02T02:37:39.869393Z",
     "shell.execute_reply": "2021-06-02T02:37:39.868952Z"
    },
    "tags": []
   },
   "outputs": [],
   "source": [
    "pd.DataFrame(\n",
    "    {'legislator': sample_df.legislator,\n",
    "     'Pork Value(Constituency Interest)':[as_num(Dcnn(np.array([tokenizer.encode(line)]), training=True).numpy()[0][0]) for line in sub_set],\n",
    "     'Legislative Questions ': sample_df.title,\n",
    "     'Topic': sample_df.topic,\n",
    "     'Key Word':sample_df.keywords}).sort_values(by=['Pork Value(Constituency Interest)'], ascending = False).tail(15)"
   ]
  },
  {
   "cell_type": "markdown",
   "id": "5dc01475-847a-408f-9972-ac02e7aa4721",
   "metadata": {},
   "source": [
    "#### (2) Export an End-to-end Model\n"
   ]
  },
  {
   "cell_type": "code",
   "execution_count": null,
   "id": "196028d0-edfe-434f-a173-4ccaa688faaa",
   "metadata": {
    "execution": {
     "iopub.status.busy": "2021-06-02T02:37:39.883994Z",
     "iopub.status.idle": "2021-06-02T02:37:39.887959Z",
     "shell.execute_reply": "2021-06-02T02:37:39.886641Z"
    },
    "tags": []
   },
   "outputs": [],
   "source": [
    "from tensorflow.keras.models import load_model"
   ]
  },
  {
   "cell_type": "code",
   "execution_count": null,
   "id": "071291d0-c5bb-48de-adb2-f8b2bb3bb542",
   "metadata": {
    "execution": {
     "iopub.status.busy": "2021-06-02T02:37:39.896512Z",
     "iopub.status.idle": "2021-06-02T02:37:39.898652Z",
     "shell.execute_reply": "2021-06-02T02:37:39.897520Z"
    },
    "tags": []
   },
   "outputs": [],
   "source": [
    "# Get model (Sequential, Functional Model, or Model subclass)\n",
    "Dcnn.save('lour_pork_model')"
   ]
  },
  {
   "cell_type": "code",
   "execution_count": null,
   "id": "2ac46183-b841-469b-8897-1fea2922e445",
   "metadata": {
    "execution": {
     "iopub.status.busy": "2021-06-02T02:37:39.903564Z",
     "iopub.status.idle": "2021-06-02T02:37:39.905612Z",
     "shell.execute_reply": "2021-06-02T02:37:39.904695Z"
    },
    "tags": []
   },
   "outputs": [],
   "source": [
    "from tensorflow import keras\n",
    "model = keras.models.load_model('lour_pork_model')"
   ]
  },
  {
   "cell_type": "markdown",
   "id": "40c2f0a7-5f53-4514-8909-9acea71fafad",
   "metadata": {},
   "source": [
    "import pandas as pd\n",
    "import random\n",
    "\n",
    "# test the trined model using new text from 200 samples from Leislative Questions\n",
    "LQ5 = pd.read_csv('LQ_5th.csv')\n",
    "\n",
    "# drop legislor whose speech token less than 15\n",
    "LQ5 = LQ5[[len(x)>15 for x in LQ5.title]]\n",
    "\n",
    "# split the sentence with space\n",
    "full_set = [seg_char(text) for text in [clearPucts(text) for text in LQ5.title]]\n",
    "\n",
    "def recode_as_pork(pork):\n",
    "    if pork>0.75:\n",
    "        return 1\n",
    "    else:\n",
    "        return 0\n",
    "\n",
    "# fit the model    \n",
    "LQ5['pork_value'] = pd.to_numeric([as_num(Dcnn(np.array([tokenizer.encode(line)]), training=True).numpy()[0][0]) for line in full_set])\n",
    "\n",
    "# classify pork_value>0.75 into pork \n",
    "LQ5['pork_dummy'] = [recode_as_pork(x) for x in LQ5['pork_value']]\n",
    "\n",
    "# save\n",
    "LQ5.to_csv('LQ5_pork.csv', index=False)"
   ]
  }
 ],
 "metadata": {
  "kernelspec": {
   "display_name": "Python 3",
   "language": "python",
   "name": "python3"
  },
  "language_info": {
   "codemirror_mode": {
    "name": "ipython",
    "version": 3
   },
   "file_extension": ".py",
   "mimetype": "text/x-python",
   "name": "python",
   "nbconvert_exporter": "python",
   "pygments_lexer": "ipython3",
   "version": "3.8.8"
  }
 },
 "nbformat": 4,
 "nbformat_minor": 5
}
