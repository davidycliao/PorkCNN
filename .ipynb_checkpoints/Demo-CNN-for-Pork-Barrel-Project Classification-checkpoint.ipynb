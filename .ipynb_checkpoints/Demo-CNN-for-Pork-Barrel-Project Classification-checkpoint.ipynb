{
 "cells": [
  {
   "cell_type": "markdown",
   "id": "b65dfbdc-bb80-4bd4-8248-dd06483222cd",
   "metadata": {},
   "source": [
    "# Lour's Pork Barrel Classifier (羅老師肉桶文本分類器)🐖\n",
    "## Convolutional Neural Networks for Pork Barrel Project Classification"
   ]
  },
  {
   "cell_type": "markdown",
   "id": "e8005d5a-f938-4c26-86d5-592408152d08",
   "metadata": {},
   "source": [
    "-------------------------\n",
    "\n",
    "### Stage 1: Libaries & Dependencies"
   ]
  },
  {
   "cell_type": "code",
   "execution_count": 1,
   "id": "6ca92ba3-7480-418f-91e0-d2beea2d10af",
   "metadata": {
    "execution": {
     "iopub.execute_input": "2021-05-16T22:49:48.486628Z",
     "iopub.status.busy": "2021-05-16T22:49:48.486411Z",
     "iopub.status.idle": "2021-05-16T22:49:52.990556Z",
     "shell.execute_reply": "2021-05-16T22:49:52.990073Z",
     "shell.execute_reply.started": "2021-05-16T22:49:48.486605Z"
    },
    "tags": []
   },
   "outputs": [],
   "source": [
    "import numpy as np\n",
    "import math\n",
    "import re\n",
    "import pandas as pd\n",
    "import collections\n",
    "import zipfile\n",
    "import numpy as np\n",
    "import jieba\n",
    "from itertools import chain\n",
    "\n",
    "\n",
    "from sklearn.model_selection import train_test_split\n",
    "import tensorflow as tf\n",
    "from tensorflow.keras import layers\n",
    "import tensorflow_datasets as tfds\n",
    "from tensorflow.keras.callbacks import EarlyStopping,TensorBoard"
   ]
  },
  {
   "cell_type": "markdown",
   "id": "8bd77e05-355a-422f-87db-2cf77cba3bdd",
   "metadata": {},
   "source": [
    "-------------------------\n",
    "\n",
    "### Stage 2: Data Preprocessing"
   ]
  },
  {
   "cell_type": "markdown",
   "id": "3b57b9c9-443e-4e26-bda2-15f6877845d5",
   "metadata": {},
   "source": [
    "#### (1) Read file "
   ]
  },
  {
   "cell_type": "code",
   "execution_count": 2,
   "id": "e1973cfb-73d4-4717-a67a-a4e8a0c9edb0",
   "metadata": {
    "execution": {
     "iopub.execute_input": "2021-05-16T22:49:52.991545Z",
     "iopub.status.busy": "2021-05-16T22:49:52.991417Z",
     "iopub.status.idle": "2021-05-16T22:49:53.006057Z",
     "shell.execute_reply": "2021-05-16T22:49:53.005501Z",
     "shell.execute_reply.started": "2021-05-16T22:49:52.991529Z"
    },
    "tags": []
   },
   "outputs": [],
   "source": [
    "df = pd.read_csv('~/Google Drive/Pork Bill - LY.csv',encoding='utf-8')\n",
    "df['text'] =  df['Title'] + df['Content'].fillna(df['Title'])\n",
    "data = df[['text', 'pork_bill']]"
   ]
  },
  {
   "cell_type": "code",
   "execution_count": 3,
   "id": "f1516984-596a-405e-96f5-6861b7550e52",
   "metadata": {
    "execution": {
     "iopub.execute_input": "2021-05-16T22:49:53.007227Z",
     "iopub.status.busy": "2021-05-16T22:49:53.007061Z",
     "iopub.status.idle": "2021-05-16T22:49:53.026925Z",
     "shell.execute_reply": "2021-05-16T22:49:53.026244Z",
     "shell.execute_reply.started": "2021-05-16T22:49:53.007208Z"
    },
    "tags": []
   },
   "outputs": [],
   "source": [
    "import collections\n",
    "import numpy as np\n",
    "import jieba\n",
    "from itertools import chain\n",
    "\n",
    "\n",
    "def jieba_cut(filename):\n",
    "    \"\"\"\n",
    "    cut Chinese and remove stop words\n",
    "    Reference: https://www.cnblogs.com/Luv-GEM/p/10836454.html\n",
    "    Stopwords: https://www.kaggle.com/rikdifos/english-and-chinese-stopwords?select=cn_stopwords.txt\n",
    "    \"\"\"\n",
    "    stop_list = [i.strip() for i in open('cn_stopwords.txt','r',encoding='utf-8')]  \n",
    "    news_cut = []\n",
    "    news_list = []\n",
    "    for line in filename:    \n",
    "        if line:\n",
    "            news_cut = list(jieba.cut(''.join(line),cut_all=False,HMM=True))  \n",
    "            news_list.append([word.strip() for word in news_cut if word not in stop_list and len(word.strip())>0]) \n",
    "    news_list = list(chain.from_iterable(news_list))  \n",
    "    return news_list\n",
    "\n",
    "def clearPucts(context):\n",
    "    \"\"\"\n",
    "    remove punctuation\n",
    "    ref: https://chenyuzuoo.github.io/posts/28001/\n",
    "    \"\"\"\n",
    "    context = re.sub(\"[\\s+\\.\\!\\/_,$%^*(+\\\"\\']+|[+——！，。？、~@#￥%……&*（）]+\", \"\", context)\n",
    "    context = re.sub(\"[【】╮╯▽╰╭★→「」]+\",\"\", context)\n",
    "    context = re.sub(\"！，❤。～《》：（）【】「」？”“；：、\",\"\",context)\n",
    "    context = re.sub(\"\\s\",\"\",context)\n",
    "    return context\n",
    "\n",
    "def seg_char(sent):\n",
    "    \"\"\"\n",
    "    cut Chinese and remove stop words\n",
    "    ref: https://blog.csdn.net/renyuanfang/article/details/86487367\n",
    "    \"\"\"\n",
    "    # 首先分割 英文 以及英文和标点\n",
    "    pattern_char_1 = re.compile(r'([\\W])')\n",
    "    parts = pattern_char_1.split(sent)\n",
    "    parts = [p for p in parts if len(p.strip())>0]\n",
    "    # 分割中文\n",
    "    pattern = re.compile(r'([\\u4e00-\\u9fa5])')\n",
    "    chars = pattern.split(sent)\n",
    "    chars = [w for w in chars if len(w.strip())>0]\n",
    "    chars = ' '.join(chars)\n",
    "    return chars\n",
    "\n",
    "# import spacy\n",
    "# # python3 -m spacy download zh_core_web_sm\n",
    "# spacy_nlp = spacy.load(\"zh_core_web_sm\")\n",
    "\n",
    "# data_clean = [clearPucts(text) for text in data.text]\n",
    "# data_clean = [[spacy_nlp(sentence).vector for sentence in data] for data in data_clean]\n"
   ]
  },
  {
   "cell_type": "markdown",
   "id": "5e6d677d-e200-40e6-9252-130eb02fc682",
   "metadata": {
    "execution": {
     "iopub.execute_input": "2021-05-16T17:01:03.001989Z",
     "iopub.status.busy": "2021-05-16T17:01:03.001801Z",
     "iopub.status.idle": "2021-05-16T17:01:03.004600Z",
     "shell.execute_reply": "2021-05-16T17:01:03.003789Z",
     "shell.execute_reply.started": "2021-05-16T17:01:03.001969Z"
    }
   },
   "source": [
    "#### (2) Tokenization"
   ]
  },
  {
   "cell_type": "code",
   "execution_count": 4,
   "id": "25f4277c-001d-47a4-81d0-f5ac5ec5e5d3",
   "metadata": {
    "execution": {
     "iopub.execute_input": "2021-05-16T22:49:53.027965Z",
     "iopub.status.busy": "2021-05-16T22:49:53.027814Z",
     "iopub.status.idle": "2021-05-16T22:49:53.738983Z",
     "shell.execute_reply": "2021-05-16T22:49:53.738363Z",
     "shell.execute_reply.started": "2021-05-16T22:49:53.027944Z"
    },
    "tags": []
   },
   "outputs": [],
   "source": [
    "data_clean = [seg_char(text) for text in [clearPucts(text) for text in data.text]]\n",
    "\n",
    "tokenizer = tfds.deprecated.text.SubwordTextEncoder.build_from_corpus(\n",
    "    data_clean, target_vocab_size=2**18)\n",
    "\n",
    "data_inputs = [tokenizer.encode(sentence) for sentence in data_clean]"
   ]
  },
  {
   "cell_type": "markdown",
   "id": "089e65af-e49c-4d60-962e-a0a826809aa5",
   "metadata": {
    "execution": {
     "iopub.execute_input": "2021-05-16T17:01:47.611294Z",
     "iopub.status.busy": "2021-05-16T17:01:47.611020Z",
     "iopub.status.idle": "2021-05-16T17:01:47.614208Z",
     "shell.execute_reply": "2021-05-16T17:01:47.613487Z",
     "shell.execute_reply.started": "2021-05-16T17:01:47.611276Z"
    }
   },
   "source": [
    "#### (3) Padding"
   ]
  },
  {
   "cell_type": "code",
   "execution_count": 5,
   "id": "b801d231-972c-47e3-83c4-7375c2e11a18",
   "metadata": {
    "execution": {
     "iopub.execute_input": "2021-05-16T22:49:53.740317Z",
     "iopub.status.busy": "2021-05-16T22:49:53.740135Z",
     "iopub.status.idle": "2021-05-16T22:49:53.754005Z",
     "shell.execute_reply": "2021-05-16T22:49:53.753120Z",
     "shell.execute_reply.started": "2021-05-16T22:49:53.740296Z"
    },
    "tags": []
   },
   "outputs": [],
   "source": [
    "MAX_LEN = max([len(sentence) for sentence in data_clean])\n",
    "data_inputs = tf.keras.preprocessing.sequence.pad_sequences(data_inputs,\n",
    "                                                            value=0,\n",
    "                                                            padding=\"post\",\n",
    "                                                            maxlen=MAX_LEN)"
   ]
  },
  {
   "cell_type": "markdown",
   "id": "f69d90cf-ac3c-4e08-b46b-457d9708d832",
   "metadata": {
    "execution": {
     "iopub.execute_input": "2021-05-16T17:02:28.107037Z",
     "iopub.status.busy": "2021-05-16T17:02:28.106843Z",
     "iopub.status.idle": "2021-05-16T17:02:28.109696Z",
     "shell.execute_reply": "2021-05-16T17:02:28.108954Z",
     "shell.execute_reply.started": "2021-05-16T17:02:28.107017Z"
    }
   },
   "source": [
    "#### (4) Spliting Training/Testing Set"
   ]
  },
  {
   "cell_type": "code",
   "execution_count": 6,
   "id": "42503355-eea3-4602-ae5a-ea18be84b8d1",
   "metadata": {
    "execution": {
     "iopub.execute_input": "2021-05-16T22:49:53.757178Z",
     "iopub.status.busy": "2021-05-16T22:49:53.756983Z",
     "iopub.status.idle": "2021-05-16T22:49:53.760645Z",
     "shell.execute_reply": "2021-05-16T22:49:53.759631Z",
     "shell.execute_reply.started": "2021-05-16T22:49:53.757158Z"
    },
    "tags": []
   },
   "outputs": [],
   "source": [
    "data_labels = data.pork_bill.values"
   ]
  },
  {
   "cell_type": "code",
   "execution_count": 7,
   "id": "19235117-f63a-4e06-a102-6efe98c37dbf",
   "metadata": {
    "execution": {
     "iopub.execute_input": "2021-05-16T22:49:53.763576Z",
     "iopub.status.busy": "2021-05-16T22:49:53.763372Z",
     "iopub.status.idle": "2021-05-16T22:49:53.767734Z",
     "shell.execute_reply": "2021-05-16T22:49:53.767172Z",
     "shell.execute_reply.started": "2021-05-16T22:49:53.763553Z"
    },
    "tags": []
   },
   "outputs": [],
   "source": [
    "import numpy as np\n",
    "from sklearn.model_selection import train_test_split\n",
    "train_inputs, test_inputs, train_labels, test_labels = train_test_split(\n",
    "    data_inputs, data_labels, test_size=0.33, random_state=42)"
   ]
  },
  {
   "cell_type": "markdown",
   "id": "725f7feb-b93b-4d0b-bcbf-562240a79f8b",
   "metadata": {
    "execution": {
     "iopub.execute_input": "2021-05-16T17:04:13.375644Z",
     "iopub.status.busy": "2021-05-16T17:04:13.375440Z",
     "iopub.status.idle": "2021-05-16T17:04:13.378111Z",
     "shell.execute_reply": "2021-05-16T17:04:13.377464Z",
     "shell.execute_reply.started": "2021-05-16T17:04:13.375623Z"
    },
    "tags": []
   },
   "source": [
    "-------------------------\n",
    "\n",
    "\n",
    "### Stage 3: Model Specification and Building"
   ]
  },
  {
   "cell_type": "markdown",
   "id": "4a0e74bf-eaf4-4043-8d23-88291d8ea344",
   "metadata": {
    "execution": {
     "iopub.execute_input": "2021-05-16T17:13:18.807725Z",
     "iopub.status.busy": "2021-05-16T17:13:18.807498Z",
     "iopub.status.idle": "2021-05-16T17:13:18.810574Z",
     "shell.execute_reply": "2021-05-16T17:13:18.809625Z",
     "shell.execute_reply.started": "2021-05-16T17:13:18.807701Z"
    }
   },
   "source": [
    "#### (1) Build the Model"
   ]
  },
  {
   "cell_type": "code",
   "execution_count": 57,
   "id": "1f18f9b1-5f4d-4d0a-baf4-2eebed7f34f2",
   "metadata": {
    "execution": {
     "iopub.execute_input": "2021-05-16T23:21:47.397532Z",
     "iopub.status.busy": "2021-05-16T23:21:47.397340Z",
     "iopub.status.idle": "2021-05-16T23:21:47.404561Z",
     "shell.execute_reply": "2021-05-16T23:21:47.403824Z",
     "shell.execute_reply.started": "2021-05-16T23:21:47.397510Z"
    },
    "tags": []
   },
   "outputs": [],
   "source": [
    "class DCNN(tf.keras.Model):\n",
    "    \n",
    "    def __init__(self,\n",
    "                 vocab_size,\n",
    "                 emb_dim=128,\n",
    "                 nb_filters=50,\n",
    "                 FFN_units=512,\n",
    "                 nb_classes=2,\n",
    "                 dropout_rate=0.1,\n",
    "                 training=False,\n",
    "                 name=\"dcnn\"):\n",
    "        super(DCNN, self).__init__(name=name)\n",
    "        \n",
    "        self.embedding = layers.Embedding(vocab_size, \n",
    "                                          emb_dim)\n",
    "        self.bigram = layers.Conv1D(filters=nb_filters, \n",
    "                                    kernel_size=2,\n",
    "                                    padding=\"valid\",\n",
    "                                    activation=\"relu\")\n",
    "        self.trigram = layers.Conv1D(filters=nb_filters,\n",
    "                                     kernel_size=3,\n",
    "                                     padding=\"valid\",\n",
    "                                     activation=\"relu\")\n",
    "        self.fourgram = layers.Conv1D(filters=nb_filters,\n",
    "                                      kernel_size=4,\n",
    "                                      padding=\"valid\",\n",
    "                                      activation=\"relu\")\n",
    "        self.pool = layers.GlobalMaxPool1D() # no training variable so we can\n",
    "                                             # use the same layer for each\n",
    "                                             # pooling step\n",
    "        self.dense_1 = layers.Dense(units=FFN_units, activation=\"relu\")\n",
    "        self.dropout = layers.Dropout(rate=dropout_rate)\n",
    "        if nb_classes == 2:\n",
    "            self.last_dense = layers.Dense(units=1,\n",
    "                                           activation=\"sigmoid\")\n",
    "        else:\n",
    "            self.last_dense = layers.Dense(units=nb_classes,\n",
    "                                           activation=\"softmax\")\n",
    "    \n",
    "    def call(self, inputs, training):\n",
    "        x = self.embedding(inputs)\n",
    "        x_1 = self.bigram(x)\n",
    "        x_1 = self.pool(x_1)\n",
    "        x_2 = self.trigram(x)\n",
    "        x_2 = self.pool(x_2)\n",
    "        x_3 = self.fourgram(x)\n",
    "        x_3 = self.pool(x_3)\n",
    "        \n",
    "        merged = tf.concat([x_1, x_2, x_3], axis=-1) # (batch_size, 3 * nb_filters)\n",
    "        merged = self.dense_1(merged)\n",
    "        merged = self.dropout(merged, training)\n",
    "        output = self.last_dense(merged)        \n",
    "        return output\n"
   ]
  },
  {
   "cell_type": "code",
   "execution_count": 58,
   "id": "bfc02e93-3a0e-4c1c-b488-b2db98b53824",
   "metadata": {
    "execution": {
     "iopub.execute_input": "2021-05-16T23:21:47.772222Z",
     "iopub.status.busy": "2021-05-16T23:21:47.771999Z",
     "iopub.status.idle": "2021-05-16T23:21:47.783077Z",
     "shell.execute_reply": "2021-05-16T23:21:47.782365Z",
     "shell.execute_reply.started": "2021-05-16T23:21:47.772198Z"
    },
    "tags": []
   },
   "outputs": [],
   "source": [
    "VOCAB_SIZE = 1819 # tokenizer.vocab_size\n",
    "EMB_DIM = 200\n",
    "NB_FILTERS = 100\n",
    "FFN_UNITS = 256\n",
    "NB_CLASSES = 2 #len(set(train_labels))\n",
    "DROPOUT_RATE = 0.2\n",
    "BATCH_SIZE = 32\n",
    "NB_EPOCHS = 150\n",
    "\n",
    "Dcnn = DCNN(vocab_size=VOCAB_SIZE,\n",
    "            emb_dim=EMB_DIM,\n",
    "            nb_filters=NB_FILTERS,\n",
    "            FFN_units=FFN_UNITS,\n",
    "            nb_classes=NB_CLASSES,\n",
    "            dropout_rate=DROPOUT_RATE)"
   ]
  },
  {
   "cell_type": "markdown",
   "id": "b0ec8f51-6ed8-49fa-9d5e-c6929184bdf1",
   "metadata": {
    "execution": {
     "iopub.execute_input": "2021-05-16T18:43:59.279424Z",
     "iopub.status.busy": "2021-05-16T18:43:59.279202Z",
     "iopub.status.idle": "2021-05-16T18:43:59.282718Z",
     "shell.execute_reply": "2021-05-16T18:43:59.281823Z",
     "shell.execute_reply.started": "2021-05-16T18:43:59.279399Z"
    }
   },
   "source": [
    "#### (2) Compile and Summary of the Model"
   ]
  },
  {
   "cell_type": "code",
   "execution_count": 59,
   "id": "78131d8a-fbb7-4cf0-9cfc-d36bf10b8a34",
   "metadata": {
    "execution": {
     "iopub.execute_input": "2021-05-16T23:21:48.485103Z",
     "iopub.status.busy": "2021-05-16T23:21:48.484884Z",
     "iopub.status.idle": "2021-05-16T23:21:48.531893Z",
     "shell.execute_reply": "2021-05-16T23:21:48.531204Z",
     "shell.execute_reply.started": "2021-05-16T23:21:48.485080Z"
    },
    "tags": []
   },
   "outputs": [
    {
     "name": "stdout",
     "output_type": "stream",
     "text": [
      "Model: \"dcnn\"\n",
      "_________________________________________________________________\n",
      "Layer (type)                 Output Shape              Param #   \n",
      "=================================================================\n",
      "embedding_2 (Embedding)      multiple                  363800    \n",
      "_________________________________________________________________\n",
      "conv1d_6 (Conv1D)            multiple                  40100     \n",
      "_________________________________________________________________\n",
      "conv1d_7 (Conv1D)            multiple                  60100     \n",
      "_________________________________________________________________\n",
      "conv1d_8 (Conv1D)            multiple                  80100     \n",
      "_________________________________________________________________\n",
      "global_max_pooling1d_2 (Glob multiple                  0         \n",
      "_________________________________________________________________\n",
      "dense_4 (Dense)              multiple                  77056     \n",
      "_________________________________________________________________\n",
      "dropout_2 (Dropout)          multiple                  0         \n",
      "_________________________________________________________________\n",
      "dense_5 (Dense)              multiple                  257       \n",
      "=================================================================\n",
      "Total params: 621,413\n",
      "Trainable params: 621,413\n",
      "Non-trainable params: 0\n",
      "_________________________________________________________________\n"
     ]
    }
   ],
   "source": [
    "Dcnn.compile(loss=\"binary_crossentropy\", optimizer=\"adam\", metrics=[\"accuracy\"])\n",
    "Dcnn.build(input_shape = (123 , EMB_DIM)) # (train_inputs.shape[1] , EMB_DIM)\n",
    "Dcnn.summary()"
   ]
  },
  {
   "cell_type": "markdown",
   "id": "3880d2a4-2152-43de-bad3-34e67e97469e",
   "metadata": {
    "tags": []
   },
   "source": [
    "#### (3) Check Point Path"
   ]
  },
  {
   "cell_type": "code",
   "execution_count": 60,
   "id": "e4115bec-233a-4abc-b081-05f526c4687b",
   "metadata": {
    "execution": {
     "iopub.execute_input": "2021-05-16T23:21:49.699144Z",
     "iopub.status.busy": "2021-05-16T23:21:49.698893Z",
     "iopub.status.idle": "2021-05-16T23:21:49.738288Z",
     "shell.execute_reply": "2021-05-16T23:21:49.737689Z",
     "shell.execute_reply.started": "2021-05-16T23:21:49.699118Z"
    },
    "tags": []
   },
   "outputs": [
    {
     "name": "stdout",
     "output_type": "stream",
     "text": [
      "Latest checkpoint restored!!\n"
     ]
    }
   ],
   "source": [
    "checkpoint_path = \"./drive/My Drive/projects/CNN_for_NLP/ckpt/\"\n",
    "\n",
    "ckpt = tf.train.Checkpoint(Dcnn=Dcnn)\n",
    "\n",
    "ckpt_manager = tf.train.CheckpointManager(ckpt, checkpoint_path, max_to_keep=5)\n",
    "\n",
    "if ckpt_manager.latest_checkpoint:\n",
    "    ckpt.restore(ckpt_manager.latest_checkpoint)\n",
    "    print(\"Latest checkpoint restored!!\")"
   ]
  },
  {
   "cell_type": "markdown",
   "id": "73d70667-275f-40c0-bd71-6b47e9722798",
   "metadata": {
    "execution": {
     "iopub.execute_input": "2021-05-16T17:47:13.442664Z",
     "iopub.status.busy": "2021-05-16T17:47:13.442381Z",
     "iopub.status.idle": "2021-05-16T17:47:13.448371Z",
     "shell.execute_reply": "2021-05-16T17:47:13.446970Z",
     "shell.execute_reply.started": "2021-05-16T17:47:13.442620Z"
    }
   },
   "source": [
    "-------------------------\n",
    "\n",
    "### Stage 4: Train the Model"
   ]
  },
  {
   "cell_type": "code",
   "execution_count": 61,
   "id": "cc975047-5a58-46dc-b427-262796d9b625",
   "metadata": {
    "execution": {
     "iopub.execute_input": "2021-05-16T23:21:51.314332Z",
     "iopub.status.busy": "2021-05-16T23:21:51.314099Z",
     "iopub.status.idle": "2021-05-16T23:21:51.317659Z",
     "shell.execute_reply": "2021-05-16T23:21:51.316734Z",
     "shell.execute_reply.started": "2021-05-16T23:21:51.314306Z"
    },
    "tags": []
   },
   "outputs": [],
   "source": [
    "early_stop = EarlyStopping(monitor='loss',patience=5)"
   ]
  },
  {
   "cell_type": "code",
   "execution_count": 62,
   "id": "baf0cade-2c45-43b2-9782-6a8c6e570153",
   "metadata": {
    "execution": {
     "iopub.execute_input": "2021-05-16T23:21:51.776426Z",
     "iopub.status.busy": "2021-05-16T23:21:51.776197Z",
     "iopub.status.idle": "2021-05-16T23:21:58.206695Z",
     "shell.execute_reply": "2021-05-16T23:21:58.206145Z",
     "shell.execute_reply.started": "2021-05-16T23:21:51.776401Z"
    },
    "tags": []
   },
   "outputs": [
    {
     "name": "stdout",
     "output_type": "stream",
     "text": [
      "Epoch 1/150\n",
      "25/25 [==============================] - 2s 42ms/step - loss: 0.0016 - accuracy: 1.0000 - val_loss: 1.8561 - val_accuracy: 0.8883\n",
      "Epoch 2/150\n",
      "25/25 [==============================] - 1s 37ms/step - loss: 0.0018 - accuracy: 0.9987 - val_loss: 1.8570 - val_accuracy: 0.8883\n",
      "Epoch 3/150\n",
      "25/25 [==============================] - 1s 38ms/step - loss: 0.0017 - accuracy: 0.9987 - val_loss: 1.8574 - val_accuracy: 0.8883\n",
      "Epoch 4/150\n",
      "25/25 [==============================] - 1s 40ms/step - loss: 0.0019 - accuracy: 0.9987 - val_loss: 1.8580 - val_accuracy: 0.8883\n",
      "Epoch 5/150\n",
      "25/25 [==============================] - 1s 38ms/step - loss: 0.0018 - accuracy: 0.9987 - val_loss: 1.8593 - val_accuracy: 0.8883\n",
      "Epoch 6/150\n",
      "25/25 [==============================] - 1s 40ms/step - loss: 0.0018 - accuracy: 0.9987 - val_loss: 1.8602 - val_accuracy: 0.8883\n"
     ]
    },
    {
     "data": {
      "text/plain": [
       "'./drive/My Drive/projects/CNN_for_NLP/ckpt/ckpt-25'"
      ]
     },
     "execution_count": 62,
     "metadata": {},
     "output_type": "execute_result"
    }
   ],
   "source": [
    "Dcnn.fit(train_inputs,\n",
    "         train_labels,\n",
    "         validation_data=(test_inputs, test_labels),\n",
    "         batch_size=BATCH_SIZE,\n",
    "         epochs=NB_EPOCHS,\n",
    "         callbacks=[early_stop])\n",
    "ckpt_manager.save()"
   ]
  },
  {
   "cell_type": "markdown",
   "id": "3b0ac256-ab81-4ff5-8430-48f8bba50126",
   "metadata": {
    "execution": {
     "iopub.execute_input": "2021-05-16T18:23:25.926977Z",
     "iopub.status.busy": "2021-05-16T18:23:25.926754Z",
     "iopub.status.idle": "2021-05-16T18:23:25.931072Z",
     "shell.execute_reply": "2021-05-16T18:23:25.930041Z",
     "shell.execute_reply.started": "2021-05-16T18:23:25.926952Z"
    }
   },
   "source": [
    "-------------------------\n",
    "\n",
    "### Stage 5: Evaluation"
   ]
  },
  {
   "cell_type": "code",
   "execution_count": 32,
   "id": "58099cc1-19e0-443a-b960-7ae4d67344d3",
   "metadata": {
    "execution": {
     "iopub.execute_input": "2021-05-16T22:52:43.024024Z",
     "iopub.status.busy": "2021-05-16T22:52:43.023787Z",
     "iopub.status.idle": "2021-05-16T22:52:43.035072Z",
     "shell.execute_reply": "2021-05-16T22:52:43.034330Z",
     "shell.execute_reply.started": "2021-05-16T22:52:43.023999Z"
    },
    "tags": []
   },
   "outputs": [
    {
     "data": {
      "text/html": [
       "<div>\n",
       "<style scoped>\n",
       "    .dataframe tbody tr th:only-of-type {\n",
       "        vertical-align: middle;\n",
       "    }\n",
       "\n",
       "    .dataframe tbody tr th {\n",
       "        vertical-align: top;\n",
       "    }\n",
       "\n",
       "    .dataframe thead th {\n",
       "        text-align: right;\n",
       "    }\n",
       "</style>\n",
       "<table border=\"1\" class=\"dataframe\">\n",
       "  <thead>\n",
       "    <tr style=\"text-align: right;\">\n",
       "      <th></th>\n",
       "      <th>loss</th>\n",
       "      <th>accuracy</th>\n",
       "      <th>val_loss</th>\n",
       "      <th>val_accuracy</th>\n",
       "    </tr>\n",
       "  </thead>\n",
       "  <tbody>\n",
       "    <tr>\n",
       "      <th>0</th>\n",
       "      <td>0.001805</td>\n",
       "      <td>0.998745</td>\n",
       "      <td>1.801093</td>\n",
       "      <td>0.885787</td>\n",
       "    </tr>\n",
       "    <tr>\n",
       "      <th>1</th>\n",
       "      <td>0.001736</td>\n",
       "      <td>0.998745</td>\n",
       "      <td>1.800682</td>\n",
       "      <td>0.888325</td>\n",
       "    </tr>\n",
       "    <tr>\n",
       "      <th>2</th>\n",
       "      <td>0.001768</td>\n",
       "      <td>0.998745</td>\n",
       "      <td>1.850623</td>\n",
       "      <td>0.885787</td>\n",
       "    </tr>\n",
       "    <tr>\n",
       "      <th>3</th>\n",
       "      <td>0.001648</td>\n",
       "      <td>0.998745</td>\n",
       "      <td>1.853206</td>\n",
       "      <td>0.885787</td>\n",
       "    </tr>\n",
       "    <tr>\n",
       "      <th>4</th>\n",
       "      <td>0.001874</td>\n",
       "      <td>0.998745</td>\n",
       "      <td>1.851064</td>\n",
       "      <td>0.885787</td>\n",
       "    </tr>\n",
       "    <tr>\n",
       "      <th>5</th>\n",
       "      <td>0.001645</td>\n",
       "      <td>0.998745</td>\n",
       "      <td>1.850876</td>\n",
       "      <td>0.885787</td>\n",
       "    </tr>\n",
       "    <tr>\n",
       "      <th>6</th>\n",
       "      <td>0.001789</td>\n",
       "      <td>0.997491</td>\n",
       "      <td>1.851448</td>\n",
       "      <td>0.885787</td>\n",
       "    </tr>\n",
       "    <tr>\n",
       "      <th>7</th>\n",
       "      <td>0.001704</td>\n",
       "      <td>0.998745</td>\n",
       "      <td>1.851534</td>\n",
       "      <td>0.885787</td>\n",
       "    </tr>\n",
       "    <tr>\n",
       "      <th>8</th>\n",
       "      <td>0.001606</td>\n",
       "      <td>1.000000</td>\n",
       "      <td>1.850736</td>\n",
       "      <td>0.885787</td>\n",
       "    </tr>\n",
       "    <tr>\n",
       "      <th>9</th>\n",
       "      <td>0.001853</td>\n",
       "      <td>0.998745</td>\n",
       "      <td>1.851328</td>\n",
       "      <td>0.888325</td>\n",
       "    </tr>\n",
       "    <tr>\n",
       "      <th>10</th>\n",
       "      <td>0.001853</td>\n",
       "      <td>0.997491</td>\n",
       "      <td>1.852369</td>\n",
       "      <td>0.885787</td>\n",
       "    </tr>\n",
       "    <tr>\n",
       "      <th>11</th>\n",
       "      <td>0.001697</td>\n",
       "      <td>1.000000</td>\n",
       "      <td>1.853562</td>\n",
       "      <td>0.885787</td>\n",
       "    </tr>\n",
       "    <tr>\n",
       "      <th>12</th>\n",
       "      <td>0.001643</td>\n",
       "      <td>0.998745</td>\n",
       "      <td>1.853701</td>\n",
       "      <td>0.885787</td>\n",
       "    </tr>\n",
       "    <tr>\n",
       "      <th>13</th>\n",
       "      <td>0.001797</td>\n",
       "      <td>0.998745</td>\n",
       "      <td>1.854740</td>\n",
       "      <td>0.885787</td>\n",
       "    </tr>\n",
       "  </tbody>\n",
       "</table>\n",
       "</div>"
      ],
      "text/plain": [
       "        loss  accuracy  val_loss  val_accuracy\n",
       "0   0.001805  0.998745  1.801093      0.885787\n",
       "1   0.001736  0.998745  1.800682      0.888325\n",
       "2   0.001768  0.998745  1.850623      0.885787\n",
       "3   0.001648  0.998745  1.853206      0.885787\n",
       "4   0.001874  0.998745  1.851064      0.885787\n",
       "5   0.001645  0.998745  1.850876      0.885787\n",
       "6   0.001789  0.997491  1.851448      0.885787\n",
       "7   0.001704  0.998745  1.851534      0.885787\n",
       "8   0.001606  1.000000  1.850736      0.885787\n",
       "9   0.001853  0.998745  1.851328      0.888325\n",
       "10  0.001853  0.997491  1.852369      0.885787\n",
       "11  0.001697  1.000000  1.853562      0.885787\n",
       "12  0.001643  0.998745  1.853701      0.885787\n",
       "13  0.001797  0.998745  1.854740      0.885787"
      ]
     },
     "execution_count": 32,
     "metadata": {},
     "output_type": "execute_result"
    }
   ],
   "source": [
    "losses = pd.DataFrame(Dcnn.history.history)\n",
    "losses"
   ]
  },
  {
   "cell_type": "code",
   "execution_count": 33,
   "id": "5a540709-5e13-479e-afaa-0f29f9c95bb6",
   "metadata": {
    "execution": {
     "iopub.execute_input": "2021-05-16T22:52:46.030751Z",
     "iopub.status.busy": "2021-05-16T22:52:46.030512Z",
     "iopub.status.idle": "2021-05-16T22:52:46.138665Z",
     "shell.execute_reply": "2021-05-16T22:52:46.137955Z",
     "shell.execute_reply.started": "2021-05-16T22:52:46.030725Z"
    },
    "tags": []
   },
   "outputs": [
    {
     "name": "stdout",
     "output_type": "stream",
     "text": [
      "13/13 [==============================] - 0s 5ms/step - loss: 1.8547 - accuracy: 0.8858\n",
      "[1.8547395467758179, 0.8857868313789368]\n"
     ]
    }
   ],
   "source": [
    "evaluation_model = Dcnn.evaluate(test_inputs, test_labels, batch_size=BATCH_SIZE)\n",
    "print(evaluation_model)"
   ]
  },
  {
   "cell_type": "code",
   "execution_count": 34,
   "id": "f37a760f-b388-4051-a78d-295bce1f214a",
   "metadata": {
    "execution": {
     "iopub.execute_input": "2021-05-16T22:52:46.683924Z",
     "iopub.status.busy": "2021-05-16T22:52:46.683678Z",
     "iopub.status.idle": "2021-05-16T22:52:46.814730Z",
     "shell.execute_reply": "2021-05-16T22:52:46.814046Z",
     "shell.execute_reply.started": "2021-05-16T22:52:46.683905Z"
    },
    "tags": []
   },
   "outputs": [
    {
     "data": {
      "text/plain": [
       "<AxesSubplot:>"
      ]
     },
     "execution_count": 34,
     "metadata": {},
     "output_type": "execute_result"
    },
    {
     "data": {
      "image/png": "[encoded data removed]",
      "text/plain": [
       "<Figure size 432x288 with 1 Axes>"
      ]
     },
     "metadata": {
      "needs_background": "light"
     },
     "output_type": "display_data"
    }
   ],
   "source": [
    "losses[['accuracy','val_accuracy']].plot()"
   ]
  },
  {
   "cell_type": "code",
   "execution_count": 18,
   "id": "ac71372b-1300-44e5-a08c-c845a2e1f99f",
   "metadata": {
    "execution": {
     "iopub.execute_input": "2021-05-16T22:50:03.000838Z",
     "iopub.status.busy": "2021-05-16T22:50:03.000596Z",
     "iopub.status.idle": "2021-05-16T22:50:03.133513Z",
     "shell.execute_reply": "2021-05-16T22:50:03.132961Z",
     "shell.execute_reply.started": "2021-05-16T22:50:03.000803Z"
    },
    "tags": []
   },
   "outputs": [
    {
     "data": {
      "text/plain": [
       "<AxesSubplot:>"
      ]
     },
     "execution_count": 18,
     "metadata": {},
     "output_type": "execute_result"
    },
    {
     "data": {
      "image/png": "[encoded data removed]",
      "text/plain": [
       "<Figure size 432x288 with 1 Axes>"
      ]
     },
     "metadata": {
      "needs_background": "light"
     },
     "output_type": "display_data"
    }
   ],
   "source": [
    "losses[['loss','val_loss']].plot()"
   ]
  },
  {
   "cell_type": "code",
   "execution_count": 35,
   "id": "c9a3f93d-4398-418c-b511-69594874cc5a",
   "metadata": {
    "execution": {
     "iopub.execute_input": "2021-05-16T22:52:55.059758Z",
     "iopub.status.busy": "2021-05-16T22:52:55.059539Z",
     "iopub.status.idle": "2021-05-16T22:52:55.155965Z",
     "shell.execute_reply": "2021-05-16T22:52:55.155356Z",
     "shell.execute_reply.started": "2021-05-16T22:52:55.059734Z"
    },
    "tags": []
   },
   "outputs": [
    {
     "name": "stdout",
     "output_type": "stream",
     "text": [
      "              precision    recall  f1-score   support\n",
      "\n",
      "           0       0.91      0.92      0.91       265\n",
      "           1       0.83      0.81      0.82       129\n",
      "\n",
      "    accuracy                           0.88       394\n",
      "   macro avg       0.87      0.87      0.87       394\n",
      "weighted avg       0.88      0.88      0.88       394\n",
      "\n"
     ]
    }
   ],
   "source": [
    "from sklearn.metrics import classification_report,confusion_matrix\n",
    "# pd.DataFrame(confusion_matrix(test_labels,predictions))\n",
    "predictions = Dcnn.predict(test_inputs)\n",
    "predictions = np.where(predictions >0.8 , 1, 0)\n",
    "print(classification_report(test_labels  ,predictions))"
   ]
  },
  {
   "cell_type": "code",
   "execution_count": 36,
   "id": "4767688b-bfc8-4dc4-b8ec-2252f7791534",
   "metadata": {
    "execution": {
     "iopub.execute_input": "2021-05-16T22:52:58.229338Z",
     "iopub.status.busy": "2021-05-16T22:52:58.229110Z",
     "iopub.status.idle": "2021-05-16T22:52:58.236813Z",
     "shell.execute_reply": "2021-05-16T22:52:58.236182Z",
     "shell.execute_reply.started": "2021-05-16T22:52:58.229314Z"
    },
    "tags": []
   },
   "outputs": [
    {
     "data": {
      "text/html": [
       "<div>\n",
       "<style scoped>\n",
       "    .dataframe tbody tr th:only-of-type {\n",
       "        vertical-align: middle;\n",
       "    }\n",
       "\n",
       "    .dataframe tbody tr th {\n",
       "        vertical-align: top;\n",
       "    }\n",
       "\n",
       "    .dataframe thead th {\n",
       "        text-align: right;\n",
       "    }\n",
       "</style>\n",
       "<table border=\"1\" class=\"dataframe\">\n",
       "  <thead>\n",
       "    <tr style=\"text-align: right;\">\n",
       "      <th></th>\n",
       "      <th>0</th>\n",
       "      <th>1</th>\n",
       "    </tr>\n",
       "  </thead>\n",
       "  <tbody>\n",
       "    <tr>\n",
       "      <th>0</th>\n",
       "      <td>243</td>\n",
       "      <td>22</td>\n",
       "    </tr>\n",
       "    <tr>\n",
       "      <th>1</th>\n",
       "      <td>24</td>\n",
       "      <td>105</td>\n",
       "    </tr>\n",
       "  </tbody>\n",
       "</table>\n",
       "</div>"
      ],
      "text/plain": [
       "     0    1\n",
       "0  243   22\n",
       "1   24  105"
      ]
     },
     "execution_count": 36,
     "metadata": {},
     "output_type": "execute_result"
    }
   ],
   "source": [
    "pd.DataFrame(confusion_matrix(test_labels,predictions))"
   ]
  },
  {
   "cell_type": "markdown",
   "id": "d0416d6f-5e46-47c9-abad-f344bea7a94a",
   "metadata": {},
   "source": [
    "-------------------------\n",
    "\n",
    "### Stage 6: Try the Model with New Data and Export an End-to-end Model\n"
   ]
  },
  {
   "cell_type": "markdown",
   "id": "394b9a6e-0130-4af2-88e5-efe91cf9f348",
   "metadata": {
    "execution": {
     "iopub.execute_input": "2021-05-16T22:53:41.558105Z",
     "iopub.status.busy": "2021-05-16T22:53:41.557872Z",
     "iopub.status.idle": "2021-05-16T22:53:41.560984Z",
     "shell.execute_reply": "2021-05-16T22:53:41.560122Z",
     "shell.execute_reply.started": "2021-05-16T22:53:41.558080Z"
    }
   },
   "source": [
    "#### (1) Test New Dataset from 200 samples from Leislative Questions"
   ]
  },
  {
   "cell_type": "code",
   "execution_count": 27,
   "id": "632bf33e-1df7-46c5-9a67-ab7141a949c2",
   "metadata": {
    "execution": {
     "iopub.execute_input": "2021-05-16T22:51:20.989445Z",
     "iopub.status.busy": "2021-05-16T22:51:20.989218Z",
     "iopub.status.idle": "2021-05-16T22:51:20.992821Z",
     "shell.execute_reply": "2021-05-16T22:51:20.992000Z",
     "shell.execute_reply.started": "2021-05-16T22:51:20.989419Z"
    },
    "tags": []
   },
   "outputs": [],
   "source": [
    "def as_num(x):\n",
    "    \"\"\"\n",
    "    keep 10 decimals\n",
    "    \"\"\"\n",
    "    y = '{:.15f}'.format(x) \n",
    "    return y"
   ]
  },
  {
   "cell_type": "code",
   "execution_count": 28,
   "id": "813dab9c-dd1b-4d88-ad68-408fc91c2101",
   "metadata": {
    "execution": {
     "iopub.execute_input": "2021-05-16T22:51:21.225367Z",
     "iopub.status.busy": "2021-05-16T22:51:21.225145Z",
     "iopub.status.idle": "2021-05-16T22:51:21.364622Z",
     "shell.execute_reply": "2021-05-16T22:51:21.363964Z",
     "shell.execute_reply.started": "2021-05-16T22:51:21.225342Z"
    },
    "tags": []
   },
   "outputs": [],
   "source": [
    "import pandas as pd\n",
    "import random\n",
    "\n",
    "# test the trined model using new text from 200 samples from Leislative Questions\n",
    "LQ6 = pd.read_csv('interpellation_ly_6th.csv')\n",
    "\n",
    "# select text with number of charecters within EMB_DIM; len(sub_set) = 11162\n",
    "sample_df = LQ6.loc[[len(char_num) for char_num in LQ6.title if len(char_num) < MAX_LEN], ['title', 'topic']].reset_index(drop=True)\n",
    "\n",
    "# randomly subsect 200 rows \n",
    "random.seed(4)\n",
    "sample_df = LQ6.loc[random.sample(range(len(LQ6)), 200), ['title', 'topic', 'category', 'keywords', 'ques_type']]\n",
    "sub_set = [seg_char(text) for text in [clearPucts(text) for text in sample_df.title]]"
   ]
  },
  {
   "cell_type": "code",
   "execution_count": 30,
   "id": "d4b618c9-8c4b-40ec-a396-b4679233197e",
   "metadata": {
    "execution": {
     "iopub.execute_input": "2021-05-16T22:51:36.230926Z",
     "iopub.status.busy": "2021-05-16T22:51:36.230706Z",
     "iopub.status.idle": "2021-05-16T22:51:36.932400Z",
     "shell.execute_reply": "2021-05-16T22:51:36.931851Z",
     "shell.execute_reply.started": "2021-05-16T22:51:36.230901Z"
    },
    "tags": []
   },
   "outputs": [
    {
     "data": {
      "text/html": [
       "<div>\n",
       "<style scoped>\n",
       "    .dataframe tbody tr th:only-of-type {\n",
       "        vertical-align: middle;\n",
       "    }\n",
       "\n",
       "    .dataframe tbody tr th {\n",
       "        vertical-align: top;\n",
       "    }\n",
       "\n",
       "    .dataframe thead th {\n",
       "        text-align: right;\n",
       "    }\n",
       "</style>\n",
       "<table border=\"1\" class=\"dataframe\">\n",
       "  <thead>\n",
       "    <tr style=\"text-align: right;\">\n",
       "      <th></th>\n",
       "      <th>Pork Value(Constituency Interest)</th>\n",
       "      <th>Legislative Questions</th>\n",
       "      <th>Topic</th>\n",
       "      <th>Key Word</th>\n",
       "    </tr>\n",
       "  </thead>\n",
       "  <tbody>\n",
       "    <tr>\n",
       "      <th>9262</th>\n",
       "      <td>0.999989151954651</td>\n",
       "      <td>對於毒窟就在派出所旁舊報館內，高雄市警苓雅分局偵查隊昨天凌晨在五福路、中正路口，凱旋路派出所...</td>\n",
       "      <td>毒品 ; 治安</td>\n",
       "      <td>毒窟 ; 吸毒</td>\n",
       "    </tr>\n",
       "    <tr>\n",
       "      <th>4594</th>\n",
       "      <td>0.986178398132324</td>\n",
       "      <td>針對目前政府十三萬臨時人員已依勞退新制提撥退休金，但仍尚未納入勞基法保障，政府應儘速公布將臨...</td>\n",
       "      <td>勞動基準 ; 聘僱人員 ; 法律適用範圍</td>\n",
       "      <td>臨時人員 ; 勞基法</td>\n",
       "    </tr>\n",
       "    <tr>\n",
       "      <th>5359</th>\n",
       "      <td>0.975873112678528</td>\n",
       "      <td>針對連興街站（汐科園站）北站體增建電動步道案，特向行政院提出質詢。</td>\n",
       "      <td>道路工程</td>\n",
       "      <td>連興街站 ; 電動步道</td>\n",
       "    </tr>\n",
       "    <tr>\n",
       "      <th>3408</th>\n",
       "      <td>0.702852129936218</td>\n",
       "      <td>為從事拖網作業漁船現仍有多數持有其他如延繩漁業種類之漁業執照，而多數延繩作業漁船卻持有拖網之...</td>\n",
       "      <td>漁業政策</td>\n",
       "      <td>拖網作業 ; 漁船 ; 延繩漁業</td>\n",
       "    </tr>\n",
       "    <tr>\n",
       "      <th>7227</th>\n",
       "      <td>0.340975940227509</td>\n",
       "      <td>為台北市校園近來接連發生台北美國學校、萬芳高中、螢橋國中等性侵害或疑似性侵害等事件，瀰漫著各...</td>\n",
       "      <td>校園紀律 ; 性侵犯</td>\n",
       "      <td>校園 ; 性侵害</td>\n",
       "    </tr>\n",
       "    <tr>\n",
       "      <th>1009</th>\n",
       "      <td>0.221265703439713</td>\n",
       "      <td>針對「搶救國教大聯盟」號召十二萬人今天走上街頭，其中包括為數頗多的「流浪教師」。依據統計，目...</td>\n",
       "      <td>教師供需</td>\n",
       "      <td>流浪教師 ; 儲備教師 ; 教師資格</td>\n",
       "    </tr>\n",
       "    <tr>\n",
       "      <th>4998</th>\n",
       "      <td>0.108290225267410</td>\n",
       "      <td>針對高速公路所收的通行費，是一項極為穩定的財源，依據現行的收費辦法，政府可以自己來興辦ＥＴＣ...</td>\n",
       "      <td>高速公路 ; 收費道路</td>\n",
       "      <td>通行費</td>\n",
       "    </tr>\n",
       "    <tr>\n",
       "      <th>4288</th>\n",
       "      <td>0.040123015642166</td>\n",
       "      <td>為目前已通過教育基本法修法，增列「學生身體自主權及人格發展權，國家應予保障，並使學生不受任何...</td>\n",
       "      <td>體罰 ; 教育政策</td>\n",
       "      <td>身體自主權 ; 體罰</td>\n",
       "    </tr>\n",
       "    <tr>\n",
       "      <th>708</th>\n",
       "      <td>0.008168876171112</td>\n",
       "      <td>有鑑於日前主管機關所提報之「少年不良行為及虞犯預防辦法修正草案」中，特別將「中途輟學」增列為...</td>\n",
       "      <td>少年問題 ; 少年輔導</td>\n",
       "      <td>輟學 ; 少年不良行為 ; 中輟生</td>\n",
       "    </tr>\n",
       "    <tr>\n",
       "      <th>8671</th>\n",
       "      <td>0.006159216165543</td>\n",
       "      <td>針對政府公教貸款利率高於一般商業銀行專案辦理之房屋貸款利率，使公教人員之房貸利息負擔沈重依舊...</td>\n",
       "      <td>公務員福利 ; 房屋貸款 ; 利率</td>\n",
       "      <td>公教貸款利率</td>\n",
       "    </tr>\n",
       "    <tr>\n",
       "      <th>518</th>\n",
       "      <td>0.002181857824326</td>\n",
       "      <td>針對近幾年民航事業作業基金餘絀情形，全台十個航空站，只有中正國際、高雄小港、台北航空站有賸餘...</td>\n",
       "      <td>民航 ; 基金</td>\n",
       "      <td>民航事業作業基金 ; 赤字</td>\n",
       "    </tr>\n",
       "    <tr>\n",
       "      <th>10083</th>\n",
       "      <td>0.001420229673386</td>\n",
       "      <td>針對連日豪大雨使得蔬果產地農作大量受損，對外運輸交通受阻，導致菜價大幅上揚。消費者大嘆菜價高...</td>\n",
       "      <td>農產品價格</td>\n",
       "      <td>大雨 ; 菜價</td>\n",
       "    </tr>\n",
       "    <tr>\n",
       "      <th>8972</th>\n",
       "      <td>0.000855684280396</td>\n",
       "      <td>針對民進黨政府執政七年來，台灣經濟發展與人民薪資都沒進步與成長，七年來民眾感受最深刻的是「什...</td>\n",
       "      <td>經濟成長 ; 薪資</td>\n",
       "      <td>經濟發展 ; 薪資</td>\n",
       "    </tr>\n",
       "    <tr>\n",
       "      <th>7720</th>\n",
       "      <td>0.000374615192413</td>\n",
       "      <td>針對內政部公告「低收入戶之資格家庭總收入以外財產總額之一定限額」有關不動產（土地及房屋）限額...</td>\n",
       "      <td>低收入戶 ; 不動產 ; 政府補助</td>\n",
       "      <td>低收入戶 ; 不動產 ; 低收入戶補助</td>\n",
       "    </tr>\n",
       "    <tr>\n",
       "      <th>5983</th>\n",
       "      <td>0.000285148620605</td>\n",
       "      <td>針對台電公司核四廠原奉核定之投資總額約為1,697億元，截至九十三年度為止，年度實績數約1,...</td>\n",
       "      <td>核能發電廠 ; 工程進度</td>\n",
       "      <td>核四廠 ; 工程進度</td>\n",
       "    </tr>\n",
       "    <tr>\n",
       "      <th>4072</th>\n",
       "      <td>0.000250637531281</td>\n",
       "      <td>針對國道人工收費於明年起將逐步被電子收費取代，惟原有之國道收費員僅係一年一聘之約聘人員的身分...</td>\n",
       "      <td>高速公路 ; 聘僱人員 ; 收費道路</td>\n",
       "      <td>國道收費員 ; 遠通電</td>\n",
       "    </tr>\n",
       "    <tr>\n",
       "      <th>1273</th>\n",
       "      <td>0.000120455631986</td>\n",
       "      <td>有鑑於連日來南部大雨不斷，造成屏東縣霧台、瑪家等山地鄉，部落對外交通中斷，目前已傳出部分慢性...</td>\n",
       "      <td>災害救助</td>\n",
       "      <td>大雨 ; 交通中斷</td>\n",
       "    </tr>\n",
       "    <tr>\n",
       "      <th>10681</th>\n",
       "      <td>0.000099313139799</td>\n",
       "      <td>針對彰化縣線西鄉、伸港鄉共有九處鴨場因疑遭戴奧辛污染停養，蛋鴨和鴨蛋已全數銷毀，環保署已於去...</td>\n",
       "      <td>家禽工業 ; 環境污染</td>\n",
       "      <td>西鄉 ; 伸港鄉 ; 鴨場 ; 戴奧辛污染</td>\n",
       "    </tr>\n",
       "    <tr>\n",
       "      <th>7276</th>\n",
       "      <td>0.000093662638392</td>\n",
       "      <td>針對日本政府為因應工業製品被中國等亞洲國家快速追上，難以凸顯日本產品的特色，邀集民間企業討論...</td>\n",
       "      <td>經濟政策 ; 產業政策</td>\n",
       "      <td>日本產品 ; logo mark</td>\n",
       "    </tr>\n",
       "    <tr>\n",
       "      <th>4807</th>\n",
       "      <td>0.000082658487372</td>\n",
       "      <td>為陳水扁總統宣示軍公教人員退休所得替代率以90%為上限，惟依分析，由於軍公教俸表結構的本俸差...</td>\n",
       "      <td>公務員退休 ; 退休金</td>\n",
       "      <td>軍公教人員退休所得替代率</td>\n",
       "    </tr>\n",
       "  </tbody>\n",
       "</table>\n",
       "</div>"
      ],
      "text/plain": [
       "      Pork Value(Constituency Interest)  \\\n",
       "9262                  0.999989151954651   \n",
       "4594                  0.986178398132324   \n",
       "5359                  0.975873112678528   \n",
       "3408                  0.702852129936218   \n",
       "7227                  0.340975940227509   \n",
       "1009                  0.221265703439713   \n",
       "4998                  0.108290225267410   \n",
       "4288                  0.040123015642166   \n",
       "708                   0.008168876171112   \n",
       "8671                  0.006159216165543   \n",
       "518                   0.002181857824326   \n",
       "10083                 0.001420229673386   \n",
       "8972                  0.000855684280396   \n",
       "7720                  0.000374615192413   \n",
       "5983                  0.000285148620605   \n",
       "4072                  0.000250637531281   \n",
       "1273                  0.000120455631986   \n",
       "10681                 0.000099313139799   \n",
       "7276                  0.000093662638392   \n",
       "4807                  0.000082658487372   \n",
       "\n",
       "                                  Legislative Questions   \\\n",
       "9262   對於毒窟就在派出所旁舊報館內，高雄市警苓雅分局偵查隊昨天凌晨在五福路、中正路口，凱旋路派出所...   \n",
       "4594   針對目前政府十三萬臨時人員已依勞退新制提撥退休金，但仍尚未納入勞基法保障，政府應儘速公布將臨...   \n",
       "5359                   針對連興街站（汐科園站）北站體增建電動步道案，特向行政院提出質詢。   \n",
       "3408   為從事拖網作業漁船現仍有多數持有其他如延繩漁業種類之漁業執照，而多數延繩作業漁船卻持有拖網之...   \n",
       "7227   為台北市校園近來接連發生台北美國學校、萬芳高中、螢橋國中等性侵害或疑似性侵害等事件，瀰漫著各...   \n",
       "1009   針對「搶救國教大聯盟」號召十二萬人今天走上街頭，其中包括為數頗多的「流浪教師」。依據統計，目...   \n",
       "4998   針對高速公路所收的通行費，是一項極為穩定的財源，依據現行的收費辦法，政府可以自己來興辦ＥＴＣ...   \n",
       "4288   為目前已通過教育基本法修法，增列「學生身體自主權及人格發展權，國家應予保障，並使學生不受任何...   \n",
       "708    有鑑於日前主管機關所提報之「少年不良行為及虞犯預防辦法修正草案」中，特別將「中途輟學」增列為...   \n",
       "8671   針對政府公教貸款利率高於一般商業銀行專案辦理之房屋貸款利率，使公教人員之房貸利息負擔沈重依舊...   \n",
       "518    針對近幾年民航事業作業基金餘絀情形，全台十個航空站，只有中正國際、高雄小港、台北航空站有賸餘...   \n",
       "10083  針對連日豪大雨使得蔬果產地農作大量受損，對外運輸交通受阻，導致菜價大幅上揚。消費者大嘆菜價高...   \n",
       "8972   針對民進黨政府執政七年來，台灣經濟發展與人民薪資都沒進步與成長，七年來民眾感受最深刻的是「什...   \n",
       "7720   針對內政部公告「低收入戶之資格家庭總收入以外財產總額之一定限額」有關不動產（土地及房屋）限額...   \n",
       "5983   針對台電公司核四廠原奉核定之投資總額約為1,697億元，截至九十三年度為止，年度實績數約1,...   \n",
       "4072   針對國道人工收費於明年起將逐步被電子收費取代，惟原有之國道收費員僅係一年一聘之約聘人員的身分...   \n",
       "1273   有鑑於連日來南部大雨不斷，造成屏東縣霧台、瑪家等山地鄉，部落對外交通中斷，目前已傳出部分慢性...   \n",
       "10681  針對彰化縣線西鄉、伸港鄉共有九處鴨場因疑遭戴奧辛污染停養，蛋鴨和鴨蛋已全數銷毀，環保署已於去...   \n",
       "7276   針對日本政府為因應工業製品被中國等亞洲國家快速追上，難以凸顯日本產品的特色，邀集民間企業討論...   \n",
       "4807   為陳水扁總統宣示軍公教人員退休所得替代率以90%為上限，惟依分析，由於軍公教俸表結構的本俸差...   \n",
       "\n",
       "                      Topic               Key Word  \n",
       "9262                毒品 ; 治安                毒窟 ; 吸毒  \n",
       "4594   勞動基準 ; 聘僱人員 ; 法律適用範圍             臨時人員 ; 勞基法  \n",
       "5359                   道路工程            連興街站 ; 電動步道  \n",
       "3408                   漁業政策       拖網作業 ; 漁船 ; 延繩漁業  \n",
       "7227             校園紀律 ; 性侵犯               校園 ; 性侵害  \n",
       "1009                   教師供需     流浪教師 ; 儲備教師 ; 教師資格  \n",
       "4998            高速公路 ; 收費道路                    通行費  \n",
       "4288              體罰 ; 教育政策             身體自主權 ; 體罰  \n",
       "708             少年問題 ; 少年輔導      輟學 ; 少年不良行為 ; 中輟生  \n",
       "8671      公務員福利 ; 房屋貸款 ; 利率                 公教貸款利率  \n",
       "518                 民航 ; 基金          民航事業作業基金 ; 赤字  \n",
       "10083                 農產品價格                大雨 ; 菜價  \n",
       "8972              經濟成長 ; 薪資              經濟發展 ; 薪資  \n",
       "7720      低收入戶 ; 不動產 ; 政府補助    低收入戶 ; 不動產 ; 低收入戶補助  \n",
       "5983           核能發電廠 ; 工程進度             核四廠 ; 工程進度  \n",
       "4072     高速公路 ; 聘僱人員 ; 收費道路            國道收費員 ; 遠通電  \n",
       "1273                   災害救助              大雨 ; 交通中斷  \n",
       "10681           家禽工業 ; 環境污染  西鄉 ; 伸港鄉 ; 鴨場 ; 戴奧辛污染  \n",
       "7276            經濟政策 ; 產業政策       日本產品 ; logo mark  \n",
       "4807            公務員退休 ; 退休金           軍公教人員退休所得替代率  "
      ]
     },
     "execution_count": 30,
     "metadata": {},
     "output_type": "execute_result"
    }
   ],
   "source": [
    "pd.DataFrame(\n",
    "    {'Pork Value(Constituency Interest)':[as_num(Dcnn(np.array([tokenizer.encode(line)]), training=True).numpy()[0][0]) for line in sub_set],\n",
    "     'Legislative Questions ': sample_df.title,\n",
    "     'Topic': sample_df.topic,\n",
    "     'Key Word':sample_df.keywords}\n",
    ").sort_values(by=['Pork Value(Constituency Interest)'], ascending = False).head(20)"
   ]
  },
  {
   "cell_type": "markdown",
   "id": "5dc01475-847a-408f-9972-ac02e7aa4721",
   "metadata": {},
   "source": [
    "#### (2) Export an End-to-end Model\n"
   ]
  },
  {
   "cell_type": "code",
   "execution_count": 63,
   "id": "196028d0-edfe-434f-a173-4ccaa688faaa",
   "metadata": {
    "execution": {
     "iopub.execute_input": "2021-05-16T23:22:24.224018Z",
     "iopub.status.busy": "2021-05-16T23:22:24.223800Z",
     "iopub.status.idle": "2021-05-16T23:22:24.227195Z",
     "shell.execute_reply": "2021-05-16T23:22:24.226423Z",
     "shell.execute_reply.started": "2021-05-16T23:22:24.223994Z"
    },
    "tags": []
   },
   "outputs": [],
   "source": [
    "from tensorflow.keras.models import load_model"
   ]
  },
  {
   "cell_type": "code",
   "execution_count": null,
   "id": "071291d0-c5bb-48de-adb2-f8b2bb3bb542",
   "metadata": {
    "tags": []
   },
   "outputs": [],
   "source": [
    "# Get model (Sequential, Functional Model, or Model subclass)\n",
    "Dcnn.save('-------/pork_model')"
   ]
  },
  {
   "cell_type": "code",
   "execution_count": 76,
   "id": "2ac46183-b841-469b-8897-1fea2922e445",
   "metadata": {
    "execution": {
     "iopub.execute_input": "2021-05-16T23:29:21.801290Z",
     "iopub.status.busy": "2021-05-16T23:29:21.801073Z",
     "iopub.status.idle": "2021-05-16T23:29:22.297129Z",
     "shell.execute_reply": "2021-05-16T23:29:22.296458Z",
     "shell.execute_reply.started": "2021-05-16T23:29:21.801267Z"
    },
    "tags": []
   },
   "outputs": [],
   "source": [
    "from tensorflow import keras\n",
    "model = keras.models.load_model('-------/pork_model')"
   ]
  }
 ],
 "metadata": {
  "kernelspec": {
   "display_name": "Python 3",
   "language": "python",
   "name": "python3"
  },
  "language_info": {
   "codemirror_mode": {
    "name": "ipython",
    "version": 3
   },
   "file_extension": ".py",
   "mimetype": "text/x-python",
   "name": "python",
   "nbconvert_exporter": "python",
   "pygments_lexer": "ipython3",
   "version": "3.8.8"
  }
 },
 "nbformat": 4,
 "nbformat_minor": 5
}
