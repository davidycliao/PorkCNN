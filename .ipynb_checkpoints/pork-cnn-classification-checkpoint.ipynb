{
 "cells": [
  {
   "cell_type": "markdown",
   "id": "b65dfbdc-bb80-4bd4-8248-dd06483222cd",
   "metadata": {},
   "source": [
    "# Lour's Pork Barrel Classifier (羅老師肉桶文本分類器)🐖\n",
    "## Convolutional Neural Networks for Pork Barrel Project Classification \n",
    "\n",
    "\n",
    "author: davidycliao(David Yen-Chieh Liao)                                                                      \n",
    "email: davidycliao@gmail.com                                                             \n",
    "date: 9-July-2021    "
   ]
  },
  {
   "cell_type": "markdown",
   "id": "e8005d5a-f938-4c26-86d5-592408152d08",
   "metadata": {},
   "source": [
    "-------------------------\n",
    "\n",
    "### Stage 1: Libaries & Dependencies"
   ]
  },
  {
   "cell_type": "code",
   "execution_count": 1,
   "id": "6ca92ba3-7480-418f-91e0-d2beea2d10af",
   "metadata": {
    "execution": {
     "iopub.execute_input": "2021-07-09T13:11:04.744649Z",
     "iopub.status.busy": "2021-07-09T13:11:04.744439Z",
     "iopub.status.idle": "2021-07-09T13:11:10.584848Z",
     "shell.execute_reply": "2021-07-09T13:11:10.584088Z",
     "shell.execute_reply.started": "2021-07-09T13:11:04.744629Z"
    },
    "tags": []
   },
   "outputs": [],
   "source": [
    "# built-in library\n",
    "import math\n",
    "import re\n",
    "import collections\n",
    "import zipfile\n",
    "import random\n",
    "from itertools import chain\n",
    "\n",
    "# ML & Deep Learning/ NLP toolkit\n",
    "import pandas as pd\n",
    "import numpy as np\n",
    "import jieba\n",
    "from sklearn.model_selection import train_test_split\n",
    "import tensorflow as tf\n",
    "from tensorflow.keras import layers\n",
    "import tensorflow_datasets as tfds\n",
    "from tensorflow.keras.callbacks import EarlyStopping,TensorBoard\n",
    "\n",
    "# Visualization\n",
    "import matplotlib.pyplot as plt\n",
    "import seaborn as sns"
   ]
  },
  {
   "cell_type": "markdown",
   "id": "8bd77e05-355a-422f-87db-2cf77cba3bdd",
   "metadata": {},
   "source": [
    "-------------------------\n",
    "\n",
    "### Stage 2: Data Preprocessing (Training Data: Introduction of Bills and Legislation from 6th Session to 7th Session, 2004-2012)"
   ]
  },
  {
   "cell_type": "markdown",
   "id": "3b57b9c9-443e-4e26-bda2-15f6877845d5",
   "metadata": {},
   "source": [
    "#### (1) Read file "
   ]
  },
  {
   "cell_type": "code",
   "execution_count": 2,
   "id": "e1973cfb-73d4-4717-a67a-a4e8a0c9edb0",
   "metadata": {
    "execution": {
     "iopub.execute_input": "2021-07-09T13:11:10.586534Z",
     "iopub.status.busy": "2021-07-09T13:11:10.586239Z",
     "iopub.status.idle": "2021-07-09T13:11:10.638544Z",
     "shell.execute_reply": "2021-07-09T13:11:10.637906Z",
     "shell.execute_reply.started": "2021-07-09T13:11:10.586507Z"
    },
    "tags": []
   },
   "outputs": [],
   "source": [
    "# read file\n",
    "df = pd.read_csv('data/Pork Bill - 2021-05-20.csv',encoding='utf-8')\n",
    "\n",
    "# combine abstract of bill and title \n",
    "df['text'] =  df['Title'] + df['Content'].fillna(df['Title'])\n",
    "\n",
    "# drop conten without having any characters\n",
    "# view na's row: df[df['text'].isnull()==True]\n",
    "data = df[['text', 'pork_bill']].dropna(subset=['text'])"
   ]
  },
  {
   "cell_type": "code",
   "execution_count": 3,
   "id": "f6160785-9522-4404-8f77-6df941869cde",
   "metadata": {
    "execution": {
     "iopub.execute_input": "2021-07-09T13:11:10.639900Z",
     "iopub.status.busy": "2021-07-09T13:11:10.639623Z",
     "iopub.status.idle": "2021-07-09T13:11:10.644804Z",
     "shell.execute_reply": "2021-07-09T13:11:10.644130Z",
     "shell.execute_reply.started": "2021-07-09T13:11:10.639879Z"
    },
    "tags": []
   },
   "outputs": [
    {
     "name": "stdout",
     "output_type": "stream",
     "text": [
      " Pork Legislation 2510 \n",
      " None-Pork Legislation 4733\n"
     ]
    }
   ],
   "source": [
    "print(\" Pork Legislation\", data['pork_bill'].value_counts()[1],'\\n', \n",
    "      \"None-Pork Legislation\", data['pork_bill'].value_counts()[0])"
   ]
  },
  {
   "cell_type": "code",
   "execution_count": 4,
   "id": "11f1b3ab-7f1e-40b0-995a-e66ae58da102",
   "metadata": {
    "execution": {
     "iopub.execute_input": "2021-07-09T13:11:10.646001Z",
     "iopub.status.busy": "2021-07-09T13:11:10.645688Z",
     "iopub.status.idle": "2021-07-09T13:11:10.753339Z",
     "shell.execute_reply": "2021-07-09T13:11:10.752859Z",
     "shell.execute_reply.started": "2021-07-09T13:11:10.645978Z"
    },
    "tags": []
   },
   "outputs": [
    {
     "data": {
      "image/png": "[encoded data removed]",
      "text/plain": [
       "<Figure size 720x432 with 1 Axes>"
      ]
     },
     "metadata": {
      "needs_background": "light"
     },
     "output_type": "display_data"
    }
   ],
   "source": [
    "import matplotlib.pyplot as plt\n",
    "plt.figure(figsize=(10, 6))\n",
    "pork_plot = pd.DataFrame({\"num\":data['pork_bill'].value_counts(), \"type\":['Not Pork','Pork']})\n",
    "plt.bar(pork_plot['type'], pork_plot['num'], color='#57A1AB')\n",
    "plt.show()"
   ]
  },
  {
   "cell_type": "markdown",
   "id": "5e6d677d-e200-40e6-9252-130eb02fc682",
   "metadata": {
    "execution": {
     "iopub.execute_input": "2021-05-16T17:01:03.001989Z",
     "iopub.status.busy": "2021-05-16T17:01:03.001801Z",
     "iopub.status.idle": "2021-05-16T17:01:03.004600Z",
     "shell.execute_reply": "2021-05-16T17:01:03.003789Z",
     "shell.execute_reply.started": "2021-05-16T17:01:03.001969Z"
    }
   },
   "source": [
    "#### (2) Tokenization"
   ]
  },
  {
   "cell_type": "code",
   "execution_count": 5,
   "id": "120e8b54-7f75-4ca6-a0d0-9872b1522e8e",
   "metadata": {
    "execution": {
     "iopub.execute_input": "2021-07-09T13:11:10.754378Z",
     "iopub.status.busy": "2021-07-09T13:11:10.754241Z",
     "iopub.status.idle": "2021-07-09T13:11:10.761230Z",
     "shell.execute_reply": "2021-07-09T13:11:10.760634Z",
     "shell.execute_reply.started": "2021-07-09T13:11:10.754359Z"
    },
    "tags": []
   },
   "outputs": [],
   "source": [
    "import collections\n",
    "import numpy as np\n",
    "import jieba\n",
    "from itertools import chain\n",
    "\n",
    "\n",
    "def jieba_cut(filename):\n",
    "    \"\"\"\n",
    "    cut Chinese and remove stop words\n",
    "    Reference: https://www.cnblogs.com/Luv-GEM/p/10836454.html\n",
    "    Stopwords: https://www.kaggle.com/rikdifos/english-and-chinese-stopwords?select=cn_stopwords.txt\n",
    "    \"\"\"\n",
    "    stop_list = [i.strip() for i in open('cn_stopwords.txt','r',encoding='utf-8')]  \n",
    "    news_cut = []\n",
    "    news_list = []\n",
    "    for line in filename:    \n",
    "        if line:\n",
    "            news_cut = list(jieba.cut(''.join(line),cut_all=False,HMM=True))  \n",
    "            news_list.append([word.strip() for word in news_cut if word not in stop_list and len(word.strip())>0]) \n",
    "    news_list = list(chain.from_iterable(news_list))  \n",
    "    return news_list\n",
    "\n",
    "def clearPucts(context):\n",
    "    \"\"\"\n",
    "    remove punctuation\n",
    "    ref: https://chenyuzuoo.github.io/posts/28001/\n",
    "    \"\"\"\n",
    "    context = re.sub(\"[\\s+\\.\\!\\/_,$%^*(+\\\"\\']+|[+——！，。？、~@#￥%……&*（）]+\", \"\", context)\n",
    "    context = re.sub(\"[【】╮╯▽╰╭★→「」]+\",\"\", context)\n",
    "    context = re.sub(\"！，❤。～《》：（）【】「」？”“；：、\",\"\",context)\n",
    "    context = re.sub(\"\\s\",\"\",context)\n",
    "    return context\n",
    "\n",
    "def seg_char(sent):\n",
    "    \"\"\"\n",
    "    cut Chinese and remove stop words\n",
    "    ref: https://blog.csdn.net/renyuanfang/article/details/86487367\n",
    "    \"\"\"\n",
    "    # split\n",
    "    pattern_char_1 = re.compile(r'([\\W])')\n",
    "    parts = pattern_char_1.split(sent)\n",
    "    parts = [p for p in parts if len(p.strip())>0]\n",
    "    # cut sentence\n",
    "    pattern = re.compile(r'([\\u4e00-\\u9fa5])')\n",
    "    chars = pattern.split(sent)\n",
    "    chars = [w for w in chars if len(w.strip())>0]\n",
    "    chars = ' '.join(chars)\n",
    "    return chars"
   ]
  },
  {
   "cell_type": "code",
   "execution_count": 6,
   "id": "25f4277c-001d-47a4-81d0-f5ac5ec5e5d3",
   "metadata": {
    "execution": {
     "iopub.execute_input": "2021-07-09T13:11:10.764137Z",
     "iopub.status.busy": "2021-07-09T13:11:10.763973Z",
     "iopub.status.idle": "2021-07-09T13:11:12.942598Z",
     "shell.execute_reply": "2021-07-09T13:11:12.942048Z",
     "shell.execute_reply.started": "2021-07-09T13:11:10.764118Z"
    },
    "tags": []
   },
   "outputs": [],
   "source": [
    "data_clean = [seg_char(text) for text in [clearPucts(text) for text in data.text]]\n",
    "\n",
    "tokenizer = tfds.deprecated.text.SubwordTextEncoder.build_from_corpus(\n",
    "    data_clean, target_vocab_size=2**18)\n",
    "\n",
    "data_inputs = [tokenizer.encode(sentence) for sentence in data_clean]"
   ]
  },
  {
   "cell_type": "markdown",
   "id": "089e65af-e49c-4d60-962e-a0a826809aa5",
   "metadata": {
    "execution": {
     "iopub.execute_input": "2021-05-16T17:01:47.611294Z",
     "iopub.status.busy": "2021-05-16T17:01:47.611020Z",
     "iopub.status.idle": "2021-05-16T17:01:47.614208Z",
     "shell.execute_reply": "2021-05-16T17:01:47.613487Z",
     "shell.execute_reply.started": "2021-05-16T17:01:47.611276Z"
    }
   },
   "source": [
    "#### (3) Padding"
   ]
  },
  {
   "cell_type": "code",
   "execution_count": 7,
   "id": "b801d231-972c-47e3-83c4-7375c2e11a18",
   "metadata": {
    "execution": {
     "iopub.execute_input": "2021-07-09T13:11:12.944883Z",
     "iopub.status.busy": "2021-07-09T13:11:12.944696Z",
     "iopub.status.idle": "2021-07-09T13:11:13.011718Z",
     "shell.execute_reply": "2021-07-09T13:11:13.011096Z",
     "shell.execute_reply.started": "2021-07-09T13:11:12.944860Z"
    },
    "tags": []
   },
   "outputs": [],
   "source": [
    "MAX_LEN = max([len(sentence) for sentence in data_clean])\n",
    "data_inputs = tf.keras.preprocessing.sequence.pad_sequences(data_inputs,\n",
    "                                                            value=0,\n",
    "                                                            padding=\"post\",\n",
    "                                                            maxlen=MAX_LEN)\n"
   ]
  },
  {
   "cell_type": "code",
   "execution_count": 8,
   "id": "8a08620f-dd8d-44ff-81f3-f25d35011bb1",
   "metadata": {
    "execution": {
     "iopub.execute_input": "2021-07-09T13:11:13.012934Z",
     "iopub.status.busy": "2021-07-09T13:11:13.012682Z",
     "iopub.status.idle": "2021-07-09T13:11:13.016929Z",
     "shell.execute_reply": "2021-07-09T13:11:13.016403Z",
     "shell.execute_reply.started": "2021-07-09T13:11:13.012912Z"
    },
    "tags": []
   },
   "outputs": [
    {
     "data": {
      "text/plain": [
       "785"
      ]
     },
     "execution_count": 8,
     "metadata": {},
     "output_type": "execute_result"
    }
   ],
   "source": [
    "MAX_LEN"
   ]
  },
  {
   "cell_type": "code",
   "execution_count": 9,
   "id": "bd561c2c-9c98-46c3-91a9-9bdb8f160344",
   "metadata": {
    "execution": {
     "iopub.execute_input": "2021-07-09T13:11:13.018537Z",
     "iopub.status.busy": "2021-07-09T13:11:13.018295Z",
     "iopub.status.idle": "2021-07-09T13:11:13.022280Z",
     "shell.execute_reply": "2021-07-09T13:11:13.021678Z",
     "shell.execute_reply.started": "2021-07-09T13:11:13.018515Z"
    },
    "tags": []
   },
   "outputs": [
    {
     "data": {
      "text/plain": [
       "(7243, 785)"
      ]
     },
     "execution_count": 9,
     "metadata": {},
     "output_type": "execute_result"
    }
   ],
   "source": [
    "data_inputs.shape"
   ]
  },
  {
   "cell_type": "markdown",
   "id": "f69d90cf-ac3c-4e08-b46b-457d9708d832",
   "metadata": {
    "execution": {
     "iopub.execute_input": "2021-05-16T17:02:28.107037Z",
     "iopub.status.busy": "2021-05-16T17:02:28.106843Z",
     "iopub.status.idle": "2021-05-16T17:02:28.109696Z",
     "shell.execute_reply": "2021-05-16T17:02:28.108954Z",
     "shell.execute_reply.started": "2021-05-16T17:02:28.107017Z"
    }
   },
   "source": [
    "#### (4) Spliting Training / Testing Set"
   ]
  },
  {
   "cell_type": "code",
   "execution_count": 10,
   "id": "42503355-eea3-4602-ae5a-ea18be84b8d1",
   "metadata": {
    "execution": {
     "iopub.execute_input": "2021-07-09T13:11:13.023481Z",
     "iopub.status.busy": "2021-07-09T13:11:13.023310Z",
     "iopub.status.idle": "2021-07-09T13:11:13.025977Z",
     "shell.execute_reply": "2021-07-09T13:11:13.025369Z",
     "shell.execute_reply.started": "2021-07-09T13:11:13.023461Z"
    },
    "tags": []
   },
   "outputs": [],
   "source": [
    "data_labels = data.pork_bill.values"
   ]
  },
  {
   "cell_type": "code",
   "execution_count": 11,
   "id": "19235117-f63a-4e06-a102-6efe98c37dbf",
   "metadata": {
    "execution": {
     "iopub.execute_input": "2021-07-09T13:11:13.027087Z",
     "iopub.status.busy": "2021-07-09T13:11:13.026915Z",
     "iopub.status.idle": "2021-07-09T13:11:13.042297Z",
     "shell.execute_reply": "2021-07-09T13:11:13.041525Z",
     "shell.execute_reply.started": "2021-07-09T13:11:13.027068Z"
    },
    "tags": []
   },
   "outputs": [
    {
     "name": "stdout",
     "output_type": "stream",
     "text": [
      "Shape of X Train: (4852, 785) \n",
      "Shape of X Test : (2391, 785) \n",
      "Shape of Y Trian: (4852,) \n",
      "Shape of Y Test : (2391,)\n"
     ]
    }
   ],
   "source": [
    "import numpy as np\n",
    "from sklearn.model_selection import train_test_split\n",
    "train_inputs, test_inputs, train_labels, test_labels = train_test_split(\n",
    "    data_inputs, data_labels, test_size=0.33, random_state=42)\n",
    "\n",
    "print(\"Shape of X Train:\", train_inputs.shape, '\\n'\n",
    "      \"Shape of X Test :\", test_inputs.shape,'\\n'\n",
    "      \"Shape of Y Trian:\", train_labels.shape , '\\n'\n",
    "      \"Shape of Y Test :\", test_labels.shape )"
   ]
  },
  {
   "cell_type": "code",
   "execution_count": 12,
   "id": "6f10cb5c-7c8d-4e1e-a987-11b8de8e42d0",
   "metadata": {
    "execution": {
     "iopub.execute_input": "2021-07-09T13:11:13.043781Z",
     "iopub.status.busy": "2021-07-09T13:11:13.043470Z",
     "iopub.status.idle": "2021-07-09T13:11:13.047814Z",
     "shell.execute_reply": "2021-07-09T13:11:13.047130Z",
     "shell.execute_reply.started": "2021-07-09T13:11:13.043753Z"
    },
    "tags": []
   },
   "outputs": [
    {
     "name": "stdout",
     "output_type": "stream",
     "text": [
      " Num of Train Set: 4852 \n",
      " Not Pork vs Pork: {0: 3167, 1: 1685}\n"
     ]
    }
   ],
   "source": [
    "unique_train_labels, counts_train_labels = np.unique(train_labels, return_counts=True)\n",
    "\n",
    "print(' Num of Train Set:' , train_inputs.shape[0], '\\n'\n",
    "      ,'Not Pork vs Pork:', dict(zip(unique_train_labels, counts_train_labels)))"
   ]
  },
  {
   "cell_type": "code",
   "execution_count": 13,
   "id": "f545a34d-f506-4db5-a8df-c0a89cb77a16",
   "metadata": {
    "execution": {
     "iopub.execute_input": "2021-07-09T13:11:13.049243Z",
     "iopub.status.busy": "2021-07-09T13:11:13.049004Z",
     "iopub.status.idle": "2021-07-09T13:11:13.203999Z",
     "shell.execute_reply": "2021-07-09T13:11:13.203399Z",
     "shell.execute_reply.started": "2021-07-09T13:11:13.049222Z"
    },
    "tags": []
   },
   "outputs": [
    {
     "data": {
      "image/png": "[encoded data removed]",
      "text/plain": [
       "<Figure size 720x432 with 1 Axes>"
      ]
     },
     "metadata": {
      "needs_background": "light"
     },
     "output_type": "display_data"
    }
   ],
   "source": [
    "import matplotlib.pyplot as plt\n",
    "plt.figure(figsize=(10, 6))\n",
    "train_plot = pd.DataFrame({\"num\":[dict(zip(unique_train_labels, counts_train_labels))[0],\n",
    "                                  dict(zip(unique_train_labels, counts_train_labels))[1]], \n",
    "                           \"type\":['Not Pork','Pork']})\n",
    "plt.bar(train_plot['type'], train_plot['num'], color='#57A1AB')\n",
    "plt.title('Train Set')\n",
    "#plt.show()\n",
    "plt.savefig('images/train_plot.png')"
   ]
  },
  {
   "cell_type": "code",
   "execution_count": 14,
   "id": "fedad623-02ba-4fad-b0b4-a094de7c39de",
   "metadata": {
    "execution": {
     "iopub.execute_input": "2021-07-09T13:11:13.204913Z",
     "iopub.status.busy": "2021-07-09T13:11:13.204771Z",
     "iopub.status.idle": "2021-07-09T13:11:13.208758Z",
     "shell.execute_reply": "2021-07-09T13:11:13.207892Z",
     "shell.execute_reply.started": "2021-07-09T13:11:13.204894Z"
    },
    "tags": []
   },
   "outputs": [
    {
     "name": "stdout",
     "output_type": "stream",
     "text": [
      " Num of Test Set: 2391 \n",
      " Not Pork vs Pork: {0: 1566, 1: 825}\n"
     ]
    }
   ],
   "source": [
    "unique_test_labels, counts_test_labels = np.unique(test_labels, return_counts=True)\n",
    "\n",
    "print(' Num of Test Set:' , test_inputs.shape[0], '\\n'\n",
    "      ,'Not Pork vs Pork:', dict(zip(unique_test_labels, counts_test_labels)))"
   ]
  },
  {
   "cell_type": "code",
   "execution_count": 15,
   "id": "ccc6799c-42b8-44c3-8352-e4b68ab3cfee",
   "metadata": {
    "execution": {
     "iopub.execute_input": "2021-07-09T13:11:13.209929Z",
     "iopub.status.busy": "2021-07-09T13:11:13.209674Z",
     "iopub.status.idle": "2021-07-09T13:11:13.371194Z",
     "shell.execute_reply": "2021-07-09T13:11:13.370429Z",
     "shell.execute_reply.started": "2021-07-09T13:11:13.209906Z"
    },
    "tags": []
   },
   "outputs": [
    {
     "data": {
      "image/png": "[encoded data removed]",
      "text/plain": [
       "<Figure size 720x432 with 1 Axes>"
      ]
     },
     "metadata": {
      "needs_background": "light"
     },
     "output_type": "display_data"
    }
   ],
   "source": [
    "import matplotlib.pyplot as plt\n",
    "plt.figure(figsize=(10, 6))\n",
    "test_plot = pd.DataFrame({\"num\":[dict(zip(unique_test_labels, counts_test_labels))[0],\n",
    "                                 dict(zip(unique_test_labels, counts_test_labels))[1]], \n",
    "                          \"type\":['Not Pork','Pork']})\n",
    "plt.bar(test_plot['type'], test_plot['num'], color='#B1C5C8')\n",
    "plt.title('Test Set')\n",
    "#plt.show()\n",
    "plt.savefig('images/test_plot.png')"
   ]
  },
  {
   "cell_type": "markdown",
   "id": "725f7feb-b93b-4d0b-bcbf-562240a79f8b",
   "metadata": {
    "execution": {
     "iopub.execute_input": "2021-05-16T17:04:13.375644Z",
     "iopub.status.busy": "2021-05-16T17:04:13.375440Z",
     "iopub.status.idle": "2021-05-16T17:04:13.378111Z",
     "shell.execute_reply": "2021-05-16T17:04:13.377464Z",
     "shell.execute_reply.started": "2021-05-16T17:04:13.375623Z"
    },
    "tags": []
   },
   "source": [
    "-------------------------\n",
    "\n",
    "\n",
    "### Stage 3: Model and Building"
   ]
  },
  {
   "cell_type": "markdown",
   "id": "4a0e74bf-eaf4-4043-8d23-88291d8ea344",
   "metadata": {
    "execution": {
     "iopub.execute_input": "2021-05-16T17:13:18.807725Z",
     "iopub.status.busy": "2021-05-16T17:13:18.807498Z",
     "iopub.status.idle": "2021-05-16T17:13:18.810574Z",
     "shell.execute_reply": "2021-05-16T17:13:18.809625Z",
     "shell.execute_reply.started": "2021-05-16T17:13:18.807701Z"
    }
   },
   "source": [
    "#### (1) Using the Subclassing API to Build Dynamic Model"
   ]
  },
  {
   "cell_type": "code",
   "execution_count": 16,
   "id": "1f18f9b1-5f4d-4d0a-baf4-2eebed7f34f2",
   "metadata": {
    "execution": {
     "iopub.execute_input": "2021-07-09T13:11:13.372365Z",
     "iopub.status.busy": "2021-07-09T13:11:13.372199Z",
     "iopub.status.idle": "2021-07-09T13:11:13.380924Z",
     "shell.execute_reply": "2021-07-09T13:11:13.380281Z",
     "shell.execute_reply.started": "2021-07-09T13:11:13.372345Z"
    },
    "tags": []
   },
   "outputs": [],
   "source": [
    "class DCNN(tf.keras.Model):\n",
    "    def __init__(self,\n",
    "                 vocab_size,\n",
    "                 emb_dim=128,\n",
    "                 nb_filters=100,\n",
    "                 # units: Positive integer, dimensionality of the output space.\n",
    "                 FFN_units=512,\n",
    "                 nb_classes=2,\n",
    "                 dropout_rate=0.1,\n",
    "                 training=False,\n",
    "                 name=\"PorkCNN\"):\n",
    "        super(DCNN, self).__init__(name=name)\n",
    "        self.embedding = layers.Embedding(vocab_size, emb_dim)\n",
    "        self.bigram = layers.Conv1D(filters=nb_filters, kernel_size=2, strides = 1, padding=\"valid\", activation=\"relu\")\n",
    "        self.bigram2 = layers.Conv1D(filters=nb_filters, kernel_size=2, strides = 2, padding=\"valid\", activation=\"relu\")\n",
    "        self.trigram = layers.Conv1D(filters=nb_filters,kernel_size=3,strides = 1, padding=\"valid\",activation=\"relu\")\n",
    "        self.trigram2 = layers.Conv1D(filters=nb_filters,kernel_size=3,strides = 2, padding=\"valid\",activation=\"relu\")\n",
    "        self.fourgram = layers.Conv1D(filters=nb_filters,kernel_size=4,strides = 2, padding=\"valid\",activation=\"relu\")\n",
    "        self.fivegram = layers.Conv1D(filters=nb_filters,kernel_size=5,strides = 2, padding=\"valid\",activation=\"relu\")\n",
    "        self.pool = layers.GlobalMaxPool1D()\n",
    "        self.dense_1 = layers.Dense(units=FFN_units, activation=\"relu\")\n",
    "        self.dropout = layers.Dropout(rate=dropout_rate)\n",
    "        self.last_dense = layers.Dense(units=1, activation=\"sigmoid\")    \n",
    "    def call(self, inputs, training):\n",
    "        x = self.embedding(inputs)\n",
    "        x_1 = self.bigram(x)\n",
    "        x_1 = self.pool(x_1)\n",
    "        x_1_1 = self.bigram2(x)\n",
    "        x_1_1 = self.pool(x_1_1)        \n",
    "        x_2 = self.trigram(x)\n",
    "        x_2 = self.pool(x_2)\n",
    "        x_2_1 = self.trigram2(x)\n",
    "        x_2_1 = self.pool(x_2_1)     \n",
    "        x_3 = self.fourgram(x)\n",
    "        x_3 = self.pool(x_3)\n",
    "        x_4 = self.fourgram(x)\n",
    "        x_4 = self.pool(x_4) \n",
    "        x_5 = self.fivegram(x)\n",
    "        x_5 = self.pool(x_5)      \n",
    "        merged = tf.concat([x_1,x_1_1, x_2,x_2_1, x_3, x_4, x_5], axis=-1) \n",
    "        merged = self.dense_1(merged)\n",
    "        merged = self.dropout(merged, training)\n",
    "        output = self.last_dense(merged)        \n",
    "        return output"
   ]
  },
  {
   "cell_type": "code",
   "execution_count": 17,
   "id": "bfc02e93-3a0e-4c1c-b488-b2db98b53824",
   "metadata": {
    "execution": {
     "iopub.execute_input": "2021-07-09T13:11:13.382191Z",
     "iopub.status.busy": "2021-07-09T13:11:13.381857Z",
     "iopub.status.idle": "2021-07-09T13:11:13.402490Z",
     "shell.execute_reply": "2021-07-09T13:11:13.401873Z",
     "shell.execute_reply.started": "2021-07-09T13:11:13.382170Z"
    },
    "tags": []
   },
   "outputs": [],
   "source": [
    "VOCAB_SIZE = tokenizer.vocab_size #tokenizer.vocab_size  # 5000 tokenizer.vocab_size\n",
    "EMB_DIM = 200\n",
    "NB_FILTERS = 100\n",
    "FFN_UNITS = 256\n",
    "NB_CLASSES = 2 #len(set(train_labels))\n",
    "DROPOUT_RATE = 0.25\n",
    "BATCH_SIZE = 230\n",
    "NB_EPOCHS = 80\n",
    "\n",
    "Dcnn = DCNN(vocab_size=VOCAB_SIZE,\n",
    "            emb_dim=EMB_DIM,\n",
    "            nb_filters=NB_FILTERS,\n",
    "            FFN_units=FFN_UNITS,\n",
    "            nb_classes=NB_CLASSES,\n",
    "            dropout_rate=DROPOUT_RATE)"
   ]
  },
  {
   "cell_type": "markdown",
   "id": "b0ec8f51-6ed8-49fa-9d5e-c6929184bdf1",
   "metadata": {
    "execution": {
     "iopub.execute_input": "2021-05-16T18:43:59.279424Z",
     "iopub.status.busy": "2021-05-16T18:43:59.279202Z",
     "iopub.status.idle": "2021-05-16T18:43:59.282718Z",
     "shell.execute_reply": "2021-05-16T18:43:59.281823Z",
     "shell.execute_reply.started": "2021-05-16T18:43:59.279399Z"
    }
   },
   "source": [
    "#### (2) Compile and Summary of the Model"
   ]
  },
  {
   "cell_type": "code",
   "execution_count": 18,
   "id": "2cce0414-05eb-4f79-9c27-bca9c91a2903",
   "metadata": {
    "execution": {
     "iopub.execute_input": "2021-07-09T13:11:13.403870Z",
     "iopub.status.busy": "2021-07-09T13:11:13.403693Z",
     "iopub.status.idle": "2021-07-09T13:11:13.478542Z",
     "shell.execute_reply": "2021-07-09T13:11:13.477923Z",
     "shell.execute_reply.started": "2021-07-09T13:11:13.403851Z"
    },
    "tags": []
   },
   "outputs": [
    {
     "name": "stdout",
     "output_type": "stream",
     "text": [
      "Model: \"PorkCNN\"\n",
      "_________________________________________________________________\n",
      "Layer (type)                 Output Shape              Param #   \n",
      "=================================================================\n",
      "embedding (Embedding)        multiple                  586600    \n",
      "_________________________________________________________________\n",
      "conv1d (Conv1D)              multiple                  40100     \n",
      "_________________________________________________________________\n",
      "conv1d_1 (Conv1D)            multiple                  40100     \n",
      "_________________________________________________________________\n",
      "conv1d_2 (Conv1D)            multiple                  60100     \n",
      "_________________________________________________________________\n",
      "conv1d_3 (Conv1D)            multiple                  60100     \n",
      "_________________________________________________________________\n",
      "conv1d_4 (Conv1D)            multiple                  80100     \n",
      "_________________________________________________________________\n",
      "conv1d_5 (Conv1D)            multiple                  100100    \n",
      "_________________________________________________________________\n",
      "global_max_pooling1d (Global multiple                  0         \n",
      "_________________________________________________________________\n",
      "dense (Dense)                multiple                  179456    \n",
      "_________________________________________________________________\n",
      "dropout (Dropout)            multiple                  0         \n",
      "_________________________________________________________________\n",
      "dense_1 (Dense)              multiple                  257       \n",
      "=================================================================\n",
      "Total params: 1,146,913\n",
      "Trainable params: 1,146,913\n",
      "Non-trainable params: 0\n",
      "_________________________________________________________________\n"
     ]
    }
   ],
   "source": [
    "Dcnn.compile(loss=\"binary_crossentropy\", optimizer=\"adam\", metrics=[\"accuracy\"])\n",
    "Dcnn.build(input_shape = (train_inputs.shape[1], EMB_DIM)) # (train_inputs.shape[1] , EMB_DIM)  (785 , EMB_DIM)\n",
    "Dcnn.summary()"
   ]
  },
  {
   "cell_type": "markdown",
   "id": "3880d2a4-2152-43de-bad3-34e67e97469e",
   "metadata": {
    "tags": []
   },
   "source": [
    "#### (3) Check Point Path"
   ]
  },
  {
   "cell_type": "code",
   "execution_count": 19,
   "id": "2c18aa59-a797-4a67-bc4d-a412dbaaedcb",
   "metadata": {
    "execution": {
     "iopub.execute_input": "2021-07-09T13:11:13.479468Z",
     "iopub.status.busy": "2021-07-09T13:11:13.479326Z",
     "iopub.status.idle": "2021-07-09T13:11:13.482893Z",
     "shell.execute_reply": "2021-07-09T13:11:13.482339Z",
     "shell.execute_reply.started": "2021-07-09T13:11:13.479450Z"
    },
    "tags": []
   },
   "outputs": [],
   "source": [
    "checkpoint_path = \"checkpoint_recode/ckpt_manager\"\n",
    "\n",
    "ckpt = tf.train.Checkpoint(Dcnn=Dcnn)\n",
    "\n",
    "ckpt_manager = tf.train.CheckpointManager(ckpt, checkpoint_path, max_to_keep=10)\n",
    "\n",
    "if ckpt_manager.latest_checkpoint:\n",
    "    ckpt.restore(ckpt_manager.latest_checkpoint)\n",
    "    print(\"Checkpoint Located!!\")"
   ]
  },
  {
   "cell_type": "markdown",
   "id": "73d70667-275f-40c0-bd71-6b47e9722798",
   "metadata": {
    "execution": {
     "iopub.execute_input": "2021-05-16T17:47:13.442664Z",
     "iopub.status.busy": "2021-05-16T17:47:13.442381Z",
     "iopub.status.idle": "2021-05-16T17:47:13.448371Z",
     "shell.execute_reply": "2021-05-16T17:47:13.446970Z",
     "shell.execute_reply.started": "2021-05-16T17:47:13.442620Z"
    }
   },
   "source": [
    "-------------------------\n",
    "\n",
    "### Stage 4: Train the Model"
   ]
  },
  {
   "cell_type": "code",
   "execution_count": 20,
   "id": "cc975047-5a58-46dc-b427-262796d9b625",
   "metadata": {
    "execution": {
     "iopub.execute_input": "2021-07-09T13:11:13.483803Z",
     "iopub.status.busy": "2021-07-09T13:11:13.483672Z",
     "iopub.status.idle": "2021-07-09T13:11:13.486328Z",
     "shell.execute_reply": "2021-07-09T13:11:13.485760Z",
     "shell.execute_reply.started": "2021-07-09T13:11:13.483787Z"
    },
    "tags": []
   },
   "outputs": [],
   "source": [
    "early_stop = EarlyStopping(monitor='val_loss', patience=5)"
   ]
  },
  {
   "cell_type": "code",
   "execution_count": 21,
   "id": "baf0cade-2c45-43b2-9782-6a8c6e570153",
   "metadata": {
    "execution": {
     "iopub.execute_input": "2021-07-09T13:11:13.487495Z",
     "iopub.status.busy": "2021-07-09T13:11:13.487309Z",
     "iopub.status.idle": "2021-07-09T13:26:29.799911Z",
     "shell.execute_reply": "2021-07-09T13:26:29.799090Z",
     "shell.execute_reply.started": "2021-07-09T13:11:13.487478Z"
    },
    "tags": []
   },
   "outputs": [
    {
     "name": "stdout",
     "output_type": "stream",
     "text": [
      "Epoch 1/80\n",
      "22/22 [==============================] - 45s 2s/step - loss: 0.5860 - accuracy: 0.6917 - val_loss: 0.4511 - val_accuracy: 0.7913\n",
      "Epoch 2/80\n",
      "22/22 [==============================] - 66s 3s/step - loss: 0.3278 - accuracy: 0.8706 - val_loss: 0.2404 - val_accuracy: 0.9005\n",
      "Epoch 3/80\n",
      "22/22 [==============================] - 52s 2s/step - loss: 0.1573 - accuracy: 0.9429 - val_loss: 0.1907 - val_accuracy: 0.9276\n",
      "Epoch 4/80\n",
      "22/22 [==============================] - 60s 3s/step - loss: 0.0826 - accuracy: 0.9744 - val_loss: 0.1494 - val_accuracy: 0.9481\n",
      "Epoch 5/80\n",
      "22/22 [==============================] - 63s 3s/step - loss: 0.0602 - accuracy: 0.9835 - val_loss: 0.1646 - val_accuracy: 0.9440\n",
      "Epoch 6/80\n",
      "22/22 [==============================] - 58s 3s/step - loss: 0.0508 - accuracy: 0.9829 - val_loss: 0.1621 - val_accuracy: 0.9481\n",
      "Epoch 7/80\n",
      "22/22 [==============================] - 62s 3s/step - loss: 0.0438 - accuracy: 0.9860 - val_loss: 0.1731 - val_accuracy: 0.9494\n",
      "Epoch 8/80\n",
      "22/22 [==============================] - 50s 2s/step - loss: 0.0359 - accuracy: 0.9862 - val_loss: 0.1788 - val_accuracy: 0.9448\n",
      "Epoch 9/80\n",
      "22/22 [==============================] - 44s 2s/step - loss: 0.0388 - accuracy: 0.9856 - val_loss: 0.1816 - val_accuracy: 0.9486\n",
      "Epoch 10/80\n",
      "22/22 [==============================] - 45s 2s/step - loss: 0.0411 - accuracy: 0.9872 - val_loss: 0.1737 - val_accuracy: 0.9465\n",
      "Epoch 11/80\n",
      "22/22 [==============================] - 42s 2s/step - loss: 0.0365 - accuracy: 0.9856 - val_loss: 0.1853 - val_accuracy: 0.9431\n",
      "Epoch 12/80\n",
      "22/22 [==============================] - 43s 2s/step - loss: 0.0458 - accuracy: 0.9860 - val_loss: 0.1743 - val_accuracy: 0.9460\n",
      "Epoch 13/80\n",
      "22/22 [==============================] - 41s 2s/step - loss: 0.0420 - accuracy: 0.9860 - val_loss: 0.1718 - val_accuracy: 0.9431\n",
      "Epoch 14/80\n",
      "22/22 [==============================] - 41s 2s/step - loss: 0.0429 - accuracy: 0.9862 - val_loss: 0.2013 - val_accuracy: 0.9402\n",
      "Epoch 15/80\n",
      "22/22 [==============================] - 42s 2s/step - loss: 0.0386 - accuracy: 0.9850 - val_loss: 0.1859 - val_accuracy: 0.9444\n",
      "Epoch 16/80\n",
      "22/22 [==============================] - 41s 2s/step - loss: 0.0352 - accuracy: 0.9850 - val_loss: 0.1875 - val_accuracy: 0.9448\n",
      "Epoch 17/80\n",
      "22/22 [==============================] - 41s 2s/step - loss: 0.0364 - accuracy: 0.9858 - val_loss: 0.1905 - val_accuracy: 0.9448\n",
      "Epoch 18/80\n",
      "22/22 [==============================] - 41s 2s/step - loss: 0.0334 - accuracy: 0.9878 - val_loss: 0.1923 - val_accuracy: 0.9444\n",
      "Epoch 19/80\n",
      "22/22 [==============================] - 40s 2s/step - loss: 0.0289 - accuracy: 0.9862 - val_loss: 0.1912 - val_accuracy: 0.9427\n"
     ]
    },
    {
     "data": {
      "text/plain": [
       "'checkpoint_recode/ckpt_manager/ckpt-1'"
      ]
     },
     "execution_count": 21,
     "metadata": {},
     "output_type": "execute_result"
    }
   ],
   "source": [
    "Dcnn.fit(train_inputs, train_labels,\n",
    "         validation_data=(test_inputs, test_labels),\n",
    "         batch_size=BATCH_SIZE,\n",
    "         epochs=NB_EPOCHS,\n",
    "         callbacks=[early_stop])\n",
    "ckpt_manager.save()"
   ]
  },
  {
   "cell_type": "markdown",
   "id": "3b0ac256-ab81-4ff5-8430-48f8bba50126",
   "metadata": {
    "execution": {
     "iopub.execute_input": "2021-05-16T18:23:25.926977Z",
     "iopub.status.busy": "2021-05-16T18:23:25.926754Z",
     "iopub.status.idle": "2021-05-16T18:23:25.931072Z",
     "shell.execute_reply": "2021-05-16T18:23:25.930041Z",
     "shell.execute_reply.started": "2021-05-16T18:23:25.926952Z"
    }
   },
   "source": [
    "-------------------------\n",
    "\n",
    "### Stage 5: Evaluation"
   ]
  },
  {
   "cell_type": "code",
   "execution_count": 22,
   "id": "58099cc1-19e0-443a-b960-7ae4d67344d3",
   "metadata": {
    "execution": {
     "iopub.execute_input": "2021-07-09T13:26:29.801650Z",
     "iopub.status.busy": "2021-07-09T13:26:29.801314Z",
     "iopub.status.idle": "2021-07-09T13:26:29.824169Z",
     "shell.execute_reply": "2021-07-09T13:26:29.823333Z",
     "shell.execute_reply.started": "2021-07-09T13:26:29.801619Z"
    },
    "tags": []
   },
   "outputs": [
    {
     "data": {
      "text/html": [
       "<div>\n",
       "<style scoped>\n",
       "    .dataframe tbody tr th:only-of-type {\n",
       "        vertical-align: middle;\n",
       "    }\n",
       "\n",
       "    .dataframe tbody tr th {\n",
       "        vertical-align: top;\n",
       "    }\n",
       "\n",
       "    .dataframe thead th {\n",
       "        text-align: right;\n",
       "    }\n",
       "</style>\n",
       "<table border=\"1\" class=\"dataframe\">\n",
       "  <thead>\n",
       "    <tr style=\"text-align: right;\">\n",
       "      <th></th>\n",
       "      <th>loss</th>\n",
       "      <th>accuracy</th>\n",
       "      <th>val_loss</th>\n",
       "      <th>val_accuracy</th>\n",
       "    </tr>\n",
       "  </thead>\n",
       "  <tbody>\n",
       "    <tr>\n",
       "      <th>0</th>\n",
       "      <td>0.586008</td>\n",
       "      <td>0.691674</td>\n",
       "      <td>0.451082</td>\n",
       "      <td>0.791301</td>\n",
       "    </tr>\n",
       "    <tr>\n",
       "      <th>1</th>\n",
       "      <td>0.327800</td>\n",
       "      <td>0.870569</td>\n",
       "      <td>0.240366</td>\n",
       "      <td>0.900460</td>\n",
       "    </tr>\n",
       "    <tr>\n",
       "      <th>2</th>\n",
       "      <td>0.157348</td>\n",
       "      <td>0.942910</td>\n",
       "      <td>0.190704</td>\n",
       "      <td>0.927645</td>\n",
       "    </tr>\n",
       "    <tr>\n",
       "      <th>3</th>\n",
       "      <td>0.082634</td>\n",
       "      <td>0.974444</td>\n",
       "      <td>0.149405</td>\n",
       "      <td>0.948139</td>\n",
       "    </tr>\n",
       "    <tr>\n",
       "      <th>4</th>\n",
       "      <td>0.060156</td>\n",
       "      <td>0.983512</td>\n",
       "      <td>0.164605</td>\n",
       "      <td>0.943956</td>\n",
       "    </tr>\n",
       "    <tr>\n",
       "      <th>5</th>\n",
       "      <td>0.050771</td>\n",
       "      <td>0.982894</td>\n",
       "      <td>0.162081</td>\n",
       "      <td>0.948139</td>\n",
       "    </tr>\n",
       "    <tr>\n",
       "      <th>6</th>\n",
       "      <td>0.043846</td>\n",
       "      <td>0.985985</td>\n",
       "      <td>0.173098</td>\n",
       "      <td>0.949394</td>\n",
       "    </tr>\n",
       "    <tr>\n",
       "      <th>7</th>\n",
       "      <td>0.035924</td>\n",
       "      <td>0.986191</td>\n",
       "      <td>0.178805</td>\n",
       "      <td>0.944793</td>\n",
       "    </tr>\n",
       "    <tr>\n",
       "      <th>8</th>\n",
       "      <td>0.038792</td>\n",
       "      <td>0.985573</td>\n",
       "      <td>0.181550</td>\n",
       "      <td>0.948557</td>\n",
       "    </tr>\n",
       "    <tr>\n",
       "      <th>9</th>\n",
       "      <td>0.041077</td>\n",
       "      <td>0.987222</td>\n",
       "      <td>0.173674</td>\n",
       "      <td>0.946466</td>\n",
       "    </tr>\n",
       "    <tr>\n",
       "      <th>10</th>\n",
       "      <td>0.036455</td>\n",
       "      <td>0.985573</td>\n",
       "      <td>0.185278</td>\n",
       "      <td>0.943120</td>\n",
       "    </tr>\n",
       "    <tr>\n",
       "      <th>11</th>\n",
       "      <td>0.045780</td>\n",
       "      <td>0.985985</td>\n",
       "      <td>0.174301</td>\n",
       "      <td>0.946048</td>\n",
       "    </tr>\n",
       "    <tr>\n",
       "      <th>12</th>\n",
       "      <td>0.042031</td>\n",
       "      <td>0.985985</td>\n",
       "      <td>0.171778</td>\n",
       "      <td>0.943120</td>\n",
       "    </tr>\n",
       "    <tr>\n",
       "      <th>13</th>\n",
       "      <td>0.042893</td>\n",
       "      <td>0.986191</td>\n",
       "      <td>0.201287</td>\n",
       "      <td>0.940192</td>\n",
       "    </tr>\n",
       "    <tr>\n",
       "      <th>14</th>\n",
       "      <td>0.038555</td>\n",
       "      <td>0.984955</td>\n",
       "      <td>0.185944</td>\n",
       "      <td>0.944375</td>\n",
       "    </tr>\n",
       "    <tr>\n",
       "      <th>15</th>\n",
       "      <td>0.035231</td>\n",
       "      <td>0.984955</td>\n",
       "      <td>0.187461</td>\n",
       "      <td>0.944793</td>\n",
       "    </tr>\n",
       "    <tr>\n",
       "      <th>16</th>\n",
       "      <td>0.036382</td>\n",
       "      <td>0.985779</td>\n",
       "      <td>0.190459</td>\n",
       "      <td>0.944793</td>\n",
       "    </tr>\n",
       "    <tr>\n",
       "      <th>17</th>\n",
       "      <td>0.033429</td>\n",
       "      <td>0.987840</td>\n",
       "      <td>0.192307</td>\n",
       "      <td>0.944375</td>\n",
       "    </tr>\n",
       "    <tr>\n",
       "      <th>18</th>\n",
       "      <td>0.028923</td>\n",
       "      <td>0.986191</td>\n",
       "      <td>0.191185</td>\n",
       "      <td>0.942702</td>\n",
       "    </tr>\n",
       "  </tbody>\n",
       "</table>\n",
       "</div>"
      ],
      "text/plain": [
       "        loss  accuracy  val_loss  val_accuracy\n",
       "0   0.586008  0.691674  0.451082      0.791301\n",
       "1   0.327800  0.870569  0.240366      0.900460\n",
       "2   0.157348  0.942910  0.190704      0.927645\n",
       "3   0.082634  0.974444  0.149405      0.948139\n",
       "4   0.060156  0.983512  0.164605      0.943956\n",
       "5   0.050771  0.982894  0.162081      0.948139\n",
       "6   0.043846  0.985985  0.173098      0.949394\n",
       "7   0.035924  0.986191  0.178805      0.944793\n",
       "8   0.038792  0.985573  0.181550      0.948557\n",
       "9   0.041077  0.987222  0.173674      0.946466\n",
       "10  0.036455  0.985573  0.185278      0.943120\n",
       "11  0.045780  0.985985  0.174301      0.946048\n",
       "12  0.042031  0.985985  0.171778      0.943120\n",
       "13  0.042893  0.986191  0.201287      0.940192\n",
       "14  0.038555  0.984955  0.185944      0.944375\n",
       "15  0.035231  0.984955  0.187461      0.944793\n",
       "16  0.036382  0.985779  0.190459      0.944793\n",
       "17  0.033429  0.987840  0.192307      0.944375\n",
       "18  0.028923  0.986191  0.191185      0.942702"
      ]
     },
     "execution_count": 22,
     "metadata": {},
     "output_type": "execute_result"
    }
   ],
   "source": [
    "losses = pd.DataFrame(Dcnn.history.history)\n",
    "losses"
   ]
  },
  {
   "cell_type": "code",
   "execution_count": 23,
   "id": "f37a760f-b388-4051-a78d-295bce1f214a",
   "metadata": {
    "execution": {
     "iopub.execute_input": "2021-07-09T13:26:29.825821Z",
     "iopub.status.busy": "2021-07-09T13:26:29.825508Z",
     "iopub.status.idle": "2021-07-09T13:26:30.216034Z",
     "shell.execute_reply": "2021-07-09T13:26:30.215259Z",
     "shell.execute_reply.started": "2021-07-09T13:26:29.825792Z"
    },
    "tags": []
   },
   "outputs": [
    {
     "data": {
      "text/plain": [
       "<AxesSubplot:>"
      ]
     },
     "execution_count": 23,
     "metadata": {},
     "output_type": "execute_result"
    },
    {
     "data": {
      "image/png": "[encoded data removed]",
      "text/plain": [
       "<Figure size 432x288 with 1 Axes>"
      ]
     },
     "metadata": {
      "needs_background": "light"
     },
     "output_type": "display_data"
    },
    {
     "data": {
      "image/png": "[encoded data removed]",
      "text/plain": [
       "<Figure size 432x288 with 1 Axes>"
      ]
     },
     "metadata": {
      "needs_background": "light"
     },
     "output_type": "display_data"
    }
   ],
   "source": [
    "losses[['accuracy','val_accuracy']].plot()\n",
    "losses[['loss','val_loss']].plot()"
   ]
  },
  {
   "cell_type": "code",
   "execution_count": 24,
   "id": "b1b62bf7-433e-4a9e-b0ed-a6b57515b304",
   "metadata": {
    "execution": {
     "iopub.execute_input": "2021-07-09T13:26:30.224451Z",
     "iopub.status.busy": "2021-07-09T13:26:30.224192Z",
     "iopub.status.idle": "2021-07-09T13:26:30.571016Z",
     "shell.execute_reply": "2021-07-09T13:26:30.570222Z",
     "shell.execute_reply.started": "2021-07-09T13:26:30.224424Z"
    },
    "tags": []
   },
   "outputs": [
    {
     "data": {
      "image/png": "[encoded data removed]",
      "text/plain": [
       "<Figure size 576x360 with 1 Axes>"
      ]
     },
     "metadata": {
      "needs_background": "light"
     },
     "output_type": "display_data"
    }
   ],
   "source": [
    "losses.plot(figsize=(8,5))\n",
    "plt.grid(True)\n",
    "plt.gca().set_ylim(0,1)\n",
    "plt.xlabel(\"Learning Curves: the mean training loss and accuracy measured over each epochs\")\n",
    "plt.savefig('images/learning_curves3.png')\n",
    "plt.show()\n"
   ]
  },
  {
   "cell_type": "code",
   "execution_count": 25,
   "id": "17760825-eb35-4f8c-88a0-45e94387c08d",
   "metadata": {
    "execution": {
     "iopub.execute_input": "2021-07-09T13:26:30.575430Z",
     "iopub.status.busy": "2021-07-09T13:26:30.575187Z",
     "iopub.status.idle": "2021-07-09T13:26:34.502999Z",
     "shell.execute_reply": "2021-07-09T13:26:34.502017Z",
     "shell.execute_reply.started": "2021-07-09T13:26:30.575402Z"
    },
    "tags": []
   },
   "outputs": [
    {
     "name": "stdout",
     "output_type": "stream",
     "text": [
      "11/11 [==============================] - 4s 351ms/step - loss: 0.1912 - accuracy: 0.9427\n",
      "[0.1911848485469818, 0.9427018165588379]\n"
     ]
    }
   ],
   "source": [
    "from sklearn.metrics import classification_report,confusion_matrix\n",
    "evaluation_model = Dcnn.evaluate(test_inputs, test_labels, batch_size=BATCH_SIZE)\n",
    "print(evaluation_model)"
   ]
  },
  {
   "cell_type": "code",
   "execution_count": 26,
   "id": "c9a3f93d-4398-418c-b511-69594874cc5a",
   "metadata": {
    "execution": {
     "iopub.execute_input": "2021-07-09T13:26:34.504697Z",
     "iopub.status.busy": "2021-07-09T13:26:34.504373Z",
     "iopub.status.idle": "2021-07-09T13:26:38.356398Z",
     "shell.execute_reply": "2021-07-09T13:26:38.355560Z",
     "shell.execute_reply.started": "2021-07-09T13:26:34.504667Z"
    },
    "tags": []
   },
   "outputs": [
    {
     "name": "stdout",
     "output_type": "stream",
     "text": [
      "              precision    recall  f1-score   support\n",
      "\n",
      "           0       0.94      0.98      0.96      1566\n",
      "           1       0.95      0.87      0.91       825\n",
      "\n",
      "    accuracy                           0.94      2391\n",
      "   macro avg       0.95      0.93      0.93      2391\n",
      "weighted avg       0.94      0.94      0.94      2391\n",
      "\n"
     ]
    }
   ],
   "source": [
    "# pd.DataFrame(confusion_matrix(test_labels,predictions))\n",
    "predictions = Dcnn.predict(test_inputs)\n",
    "predictions = np.where(predictions >0.8 , 1, 0)\n",
    "print(classification_report(test_labels, predictions))"
   ]
  },
  {
   "cell_type": "code",
   "execution_count": 27,
   "id": "4767688b-bfc8-4dc4-b8ec-2252f7791534",
   "metadata": {
    "execution": {
     "iopub.execute_input": "2021-07-09T13:26:38.358408Z",
     "iopub.status.busy": "2021-07-09T13:26:38.358134Z",
     "iopub.status.idle": "2021-07-09T13:26:38.374320Z",
     "shell.execute_reply": "2021-07-09T13:26:38.373457Z",
     "shell.execute_reply.started": "2021-07-09T13:26:38.358376Z"
    },
    "tags": []
   },
   "outputs": [
    {
     "data": {
      "text/html": [
       "<div>\n",
       "<style scoped>\n",
       "    .dataframe tbody tr th:only-of-type {\n",
       "        vertical-align: middle;\n",
       "    }\n",
       "\n",
       "    .dataframe tbody tr th {\n",
       "        vertical-align: top;\n",
       "    }\n",
       "\n",
       "    .dataframe thead th {\n",
       "        text-align: right;\n",
       "    }\n",
       "</style>\n",
       "<table border=\"1\" class=\"dataframe\">\n",
       "  <thead>\n",
       "    <tr style=\"text-align: right;\">\n",
       "      <th></th>\n",
       "      <th>Predictions: Not Pork(0)</th>\n",
       "      <th>Predictions:Pork(1)</th>\n",
       "    </tr>\n",
       "  </thead>\n",
       "  <tbody>\n",
       "    <tr>\n",
       "      <th>Acutal: Not Pork(0)</th>\n",
       "      <td>1531</td>\n",
       "      <td>35</td>\n",
       "    </tr>\n",
       "    <tr>\n",
       "      <th>Acutal: Pork (1)</th>\n",
       "      <td>104</td>\n",
       "      <td>721</td>\n",
       "    </tr>\n",
       "  </tbody>\n",
       "</table>\n",
       "</div>"
      ],
      "text/plain": [
       "                     Predictions: Not Pork(0)  Predictions:Pork(1)\n",
       "Acutal: Not Pork(0)                      1531                   35\n",
       "Acutal: Pork (1)                          104                  721"
      ]
     },
     "execution_count": 27,
     "metadata": {},
     "output_type": "execute_result"
    }
   ],
   "source": [
    "t = pd.DataFrame(confusion_matrix(test_labels,predictions), \n",
    "             columns=['Predictions: Not Pork(0)','Predictions:Pork(1)'])\n",
    "t.index = ['Acutal: Not Pork(0)', 'Acutal: Pork (1)']\n",
    "t"
   ]
  },
  {
   "cell_type": "markdown",
   "id": "d0416d6f-5e46-47c9-abad-f344bea7a94a",
   "metadata": {},
   "source": [
    "-------------------------\n",
    "\n",
    "### Stage 6: Try the Model with New Data and Export an End-to-end Model\n"
   ]
  },
  {
   "cell_type": "markdown",
   "id": "394b9a6e-0130-4af2-88e5-efe91cf9f348",
   "metadata": {
    "execution": {
     "iopub.execute_input": "2021-05-16T22:53:41.558105Z",
     "iopub.status.busy": "2021-05-16T22:53:41.557872Z",
     "iopub.status.idle": "2021-05-16T22:53:41.560984Z",
     "shell.execute_reply": "2021-05-16T22:53:41.560122Z",
     "shell.execute_reply.started": "2021-05-16T22:53:41.558080Z"
    }
   },
   "source": [
    "#### (1) Test New Dataset from 2000 samples from Legislative Questions from 6th Session "
   ]
  },
  {
   "cell_type": "code",
   "execution_count": 28,
   "id": "632bf33e-1df7-46c5-9a67-ab7141a949c2",
   "metadata": {
    "execution": {
     "iopub.execute_input": "2021-07-09T13:26:38.376358Z",
     "iopub.status.busy": "2021-07-09T13:26:38.375984Z",
     "iopub.status.idle": "2021-07-09T13:26:38.380869Z",
     "shell.execute_reply": "2021-07-09T13:26:38.379765Z",
     "shell.execute_reply.started": "2021-07-09T13:26:38.376321Z"
    },
    "tags": []
   },
   "outputs": [],
   "source": [
    "def as_num(x):\n",
    "    \"\"\"\n",
    "    keep 10 decimals\n",
    "    \"\"\"\n",
    "    y = '{:.15f}'.format(x) \n",
    "    return y"
   ]
  },
  {
   "cell_type": "code",
   "execution_count": 29,
   "id": "06ea7d54-49e9-4363-8304-d1dabaf3beb4",
   "metadata": {
    "execution": {
     "iopub.execute_input": "2021-07-09T13:26:38.382715Z",
     "iopub.status.busy": "2021-07-09T13:26:38.382441Z",
     "iopub.status.idle": "2021-07-09T13:26:38.866466Z",
     "shell.execute_reply": "2021-07-09T13:26:38.865494Z",
     "shell.execute_reply.started": "2021-07-09T13:26:38.382683Z"
    },
    "tags": []
   },
   "outputs": [],
   "source": [
    "import pandas as pd\n",
    "import random\n",
    "\n",
    "# test the trined model using new text from 200 samples from Leislative Questions\n",
    "LQ6 = pd.read_csv('data/LQ_6th.csv')\n",
    "\n",
    "# drop '0': legislor  never have proposed any legisaltive questions. \n",
    "LQ6 = LQ6[LQ6['title'].isin(['0'])== False]\n",
    "\n",
    "# select text with number of charecters within EMB_DIM; len(sub_set) = 11162\n",
    "# sample_df = LQ6.loc[[len(char_num) for char_num in LQ6.title if len(char_num) < MAX_LEN], ['legislator','title', 'topic', 'category', 'keywords', 'ques_type']].reset_index(drop=True)\n",
    "random.seed(42)\n",
    "sample_df = LQ6.iloc[random.sample(range(len(LQ6)), 2000)][['legislator', 'title', 'topic', 'category', 'keywords', 'ques_type']]\n",
    "sub_set = [seg_char(text) for text in [clearPucts(text) for text in sample_df.title]]\n"
   ]
  },
  {
   "cell_type": "markdown",
   "id": "68cc06a7-27d7-4007-949d-f7df81246e25",
   "metadata": {
    "tags": []
   },
   "source": [
    "##### Top 10 of 2000 Samples"
   ]
  },
  {
   "cell_type": "code",
   "execution_count": 30,
   "id": "d4b618c9-8c4b-40ec-a396-b4679233197e",
   "metadata": {
    "execution": {
     "iopub.execute_input": "2021-07-09T13:26:38.868382Z",
     "iopub.status.busy": "2021-07-09T13:26:38.868082Z",
     "iopub.status.idle": "2021-07-09T13:26:56.200307Z",
     "shell.execute_reply": "2021-07-09T13:26:56.199667Z",
     "shell.execute_reply.started": "2021-07-09T13:26:38.868342Z"
    },
    "tags": []
   },
   "outputs": [
    {
     "data": {
      "text/html": [
       "<div>\n",
       "<style scoped>\n",
       "    .dataframe tbody tr th:only-of-type {\n",
       "        vertical-align: middle;\n",
       "    }\n",
       "\n",
       "    .dataframe tbody tr th {\n",
       "        vertical-align: top;\n",
       "    }\n",
       "\n",
       "    .dataframe thead th {\n",
       "        text-align: right;\n",
       "    }\n",
       "</style>\n",
       "<table border=\"1\" class=\"dataframe\">\n",
       "  <thead>\n",
       "    <tr style=\"text-align: right;\">\n",
       "      <th></th>\n",
       "      <th>legislator</th>\n",
       "      <th>Pork Value(Constituency Interest)</th>\n",
       "      <th>Legislative Questions</th>\n",
       "      <th>Topic</th>\n",
       "      <th>Key Word</th>\n",
       "    </tr>\n",
       "  </thead>\n",
       "  <tbody>\n",
       "    <tr>\n",
       "      <th>3999</th>\n",
       "      <td>林正峰</td>\n",
       "      <td>0.987396478652954</td>\n",
       "      <td>針對政府準備修法推動「二代健保」，健保保費採取「年度所得總額」為計算基礎，而非採用扣除免稅額...</td>\n",
       "      <td>國民 ; 健康保險 ; 保險費</td>\n",
       "      <td>二代健保 ; 年度所得總額</td>\n",
       "    </tr>\n",
       "    <tr>\n",
       "      <th>9892</th>\n",
       "      <td>陳啟昱</td>\n",
       "      <td>0.984736382961273</td>\n",
       "      <td>鑑於現行《所得稅法》第十七條規定特別扣除額教育支出部分，僅以納稅義務人之子女就讀大專院校為限...</td>\n",
       "      <td>所得稅 ; 教育費用 ; 扣除額</td>\n",
       "      <td>所得稅法 ; 特別扣除額 ; 教育支出</td>\n",
       "    </tr>\n",
       "    <tr>\n",
       "      <th>10264</th>\n",
       "      <td>陳根德</td>\n",
       "      <td>0.980772495269775</td>\n",
       "      <td>鑒於桃園縣民眾陳情抗議中正路延伸工程拆遷補償不公，並聚集在中正路尾工地現場，希望盡速發放地上...</td>\n",
       "      <td>道路工程 ; 政府補助</td>\n",
       "      <td>工程 ; 補償</td>\n",
       "    </tr>\n",
       "    <tr>\n",
       "      <th>1761</th>\n",
       "      <td>彭添富</td>\n",
       "      <td>0.978282392024994</td>\n",
       "      <td>針對「辦理九十四年原住民中低收入戶家庭租屋補助計畫」專案補助計畫，特向行政院提出質詢。</td>\n",
       "      <td>原住民族生活</td>\n",
       "      <td>原住民中低收入戶 ; 租屋補助</td>\n",
       "    </tr>\n",
       "    <tr>\n",
       "      <th>188</th>\n",
       "      <td>丁守中</td>\n",
       "      <td>0.963267028331757</td>\n",
       "      <td>針就「國軍退除役官兵就養安置辦法」第七條第一項第五款規定：「全家人口所有之土地及房屋公告現值...</td>\n",
       "      <td>退除役官兵 ; 榮民生活輔導</td>\n",
       "      <td>國軍退除役官兵就養安置辦法</td>\n",
       "    </tr>\n",
       "    <tr>\n",
       "      <th>1296</th>\n",
       "      <td>廖婉汝</td>\n",
       "      <td>0.958223223686218</td>\n",
       "      <td>針對高高屏三縣市家庭收入偏低，要求政府應設法為高高屏三縣市創造就業機會，以提高高高屏三縣市之...</td>\n",
       "      <td>貧富差距 ; 低收入戶 ; 失業</td>\n",
       "      <td>家庭收入 ; 就業機會</td>\n",
       "    </tr>\n",
       "    <tr>\n",
       "      <th>1641</th>\n",
       "      <td>彭添富</td>\n",
       "      <td>0.954758882522583</td>\n",
       "      <td>針對「豪雨成災，農作物損失補償」問題，特向行政院提出質詢。</td>\n",
       "      <td>農業補助</td>\n",
       "      <td>豪雨 ; 農作物</td>\n",
       "    </tr>\n",
       "    <tr>\n",
       "      <th>619</th>\n",
       "      <td>吳成典</td>\n",
       "      <td>0.906983494758606</td>\n",
       "      <td>鑑於居家安全及消防常識已逐漸受到民眾的重視，請中央寬列消防機關人事費用，補助金、馬兩縣規劃合...</td>\n",
       "      <td>住宅安全 ; 消防設施</td>\n",
       "      <td>居家安全 ; 消防常識</td>\n",
       "    </tr>\n",
       "    <tr>\n",
       "      <th>1706</th>\n",
       "      <td>彭添富</td>\n",
       "      <td>0.898739814758301</td>\n",
       "      <td>針對「觀音鄉保生社區風貌營造規劃設計」專案補助計畫，特向行政院提出質詢。</td>\n",
       "      <td>社區計畫 ; 政府補助</td>\n",
       "      <td>保生社區</td>\n",
       "    </tr>\n",
       "    <tr>\n",
       "      <th>10735</th>\n",
       "      <td>黃志雄</td>\n",
       "      <td>0.883507132530212</td>\n",
       "      <td>針對樹林市三多地區三多國中新設案，因地方政府財務困難，無法如期支付龐大之建校費用，為維護樹林...</td>\n",
       "      <td>學校設立 ; 政府補助</td>\n",
       "      <td>三多國中 ; 建校費用</td>\n",
       "    </tr>\n",
       "    <tr>\n",
       "      <th>8531</th>\n",
       "      <td>薛凌</td>\n",
       "      <td>0.875709056854248</td>\n",
       "      <td>針對雲林縣政府擬訂「雲林縣地方稅徵收自治條例」草案，開始對煉油廠及煉鋼鐵廠開徵「綠稅」。本席...</td>\n",
       "      <td>地方稅</td>\n",
       "      <td>地方稅 ; 綠稅 ; 空氣汙染防治法</td>\n",
       "    </tr>\n",
       "    <tr>\n",
       "      <th>35</th>\n",
       "      <td>丁守中</td>\n",
       "      <td>0.863296389579773</td>\n",
       "      <td>針就民眾陳情指出，目前政府對身心障礙者提供之生活津貼，依身心障礙程度等級分為1000元至50...</td>\n",
       "      <td>身心障礙者福利</td>\n",
       "      <td>身心障礙者生活津貼</td>\n",
       "    </tr>\n",
       "    <tr>\n",
       "      <th>8340</th>\n",
       "      <td>蔡煌瑯(離職)</td>\n",
       "      <td>0.837840080261230</td>\n",
       "      <td>「2005南投花卉嘉年華」活動爭取中央經費補助案由，特向行政院提出質詢。</td>\n",
       "      <td>農業推廣 ; 政府補助</td>\n",
       "      <td>南投花卉嘉年華 ; 中央經費</td>\n",
       "    </tr>\n",
       "    <tr>\n",
       "      <th>539</th>\n",
       "      <td>吳志揚</td>\n",
       "      <td>0.825491368770599</td>\n",
       "      <td>就桃園縣內文化設施老舊等問題，特向行政院提出質詢。</td>\n",
       "      <td>文化建設</td>\n",
       "      <td>文化設施</td>\n",
       "    </tr>\n",
       "    <tr>\n",
       "      <th>7382</th>\n",
       "      <td>盧秀燕</td>\n",
       "      <td>0.818903088569641</td>\n",
       "      <td>針對早期退除役軍官給與補助金發放金額過低，實無法解決終身生活所需，希望相關單位考量實際情況，...</td>\n",
       "      <td>榮民福利</td>\n",
       "      <td>早期退除役軍官給與補助金</td>\n",
       "    </tr>\n",
       "  </tbody>\n",
       "</table>\n",
       "</div>"
      ],
      "text/plain": [
       "      legislator Pork Value(Constituency Interest)  \\\n",
       "3999         林正峰                 0.987396478652954   \n",
       "9892         陳啟昱                 0.984736382961273   \n",
       "10264        陳根德                 0.980772495269775   \n",
       "1761         彭添富                 0.978282392024994   \n",
       "188          丁守中                 0.963267028331757   \n",
       "1296         廖婉汝                 0.958223223686218   \n",
       "1641         彭添富                 0.954758882522583   \n",
       "619          吳成典                 0.906983494758606   \n",
       "1706         彭添富                 0.898739814758301   \n",
       "10735        黃志雄                 0.883507132530212   \n",
       "8531          薛凌                 0.875709056854248   \n",
       "35           丁守中                 0.863296389579773   \n",
       "8340     蔡煌瑯(離職)                 0.837840080261230   \n",
       "539          吳志揚                 0.825491368770599   \n",
       "7382         盧秀燕                 0.818903088569641   \n",
       "\n",
       "                                  Legislative Questions              Topic  \\\n",
       "3999   針對政府準備修法推動「二代健保」，健保保費採取「年度所得總額」為計算基礎，而非採用扣除免稅額...   國民 ; 健康保險 ; 保險費   \n",
       "9892   鑑於現行《所得稅法》第十七條規定特別扣除額教育支出部分，僅以納稅義務人之子女就讀大專院校為限...  所得稅 ; 教育費用 ; 扣除額   \n",
       "10264  鑒於桃園縣民眾陳情抗議中正路延伸工程拆遷補償不公，並聚集在中正路尾工地現場，希望盡速發放地上...       道路工程 ; 政府補助   \n",
       "1761         針對「辦理九十四年原住民中低收入戶家庭租屋補助計畫」專案補助計畫，特向行政院提出質詢。            原住民族生活   \n",
       "188    針就「國軍退除役官兵就養安置辦法」第七條第一項第五款規定：「全家人口所有之土地及房屋公告現值...    退除役官兵 ; 榮民生活輔導   \n",
       "1296   針對高高屏三縣市家庭收入偏低，要求政府應設法為高高屏三縣市創造就業機會，以提高高高屏三縣市之...  貧富差距 ; 低收入戶 ; 失業   \n",
       "1641                       針對「豪雨成災，農作物損失補償」問題，特向行政院提出質詢。              農業補助   \n",
       "619    鑑於居家安全及消防常識已逐漸受到民眾的重視，請中央寬列消防機關人事費用，補助金、馬兩縣規劃合...       住宅安全 ; 消防設施   \n",
       "1706                針對「觀音鄉保生社區風貌營造規劃設計」專案補助計畫，特向行政院提出質詢。       社區計畫 ; 政府補助   \n",
       "10735  針對樹林市三多地區三多國中新設案，因地方政府財務困難，無法如期支付龐大之建校費用，為維護樹林...       學校設立 ; 政府補助   \n",
       "8531   針對雲林縣政府擬訂「雲林縣地方稅徵收自治條例」草案，開始對煉油廠及煉鋼鐵廠開徵「綠稅」。本席...               地方稅   \n",
       "35     針就民眾陳情指出，目前政府對身心障礙者提供之生活津貼，依身心障礙程度等級分為1000元至50...           身心障礙者福利   \n",
       "8340                「2005南投花卉嘉年華」活動爭取中央經費補助案由，特向行政院提出質詢。       農業推廣 ; 政府補助   \n",
       "539                            就桃園縣內文化設施老舊等問題，特向行政院提出質詢。              文化建設   \n",
       "7382   針對早期退除役軍官給與補助金發放金額過低，實無法解決終身生活所需，希望相關單位考量實際情況，...              榮民福利   \n",
       "\n",
       "                  Key Word  \n",
       "3999         二代健保 ; 年度所得總額  \n",
       "9892   所得稅法 ; 特別扣除額 ; 教育支出  \n",
       "10264              工程 ; 補償  \n",
       "1761       原住民中低收入戶 ; 租屋補助  \n",
       "188          國軍退除役官兵就養安置辦法  \n",
       "1296           家庭收入 ; 就業機會  \n",
       "1641              豪雨 ; 農作物  \n",
       "619            居家安全 ; 消防常識  \n",
       "1706                  保生社區  \n",
       "10735          三多國中 ; 建校費用  \n",
       "8531    地方稅 ; 綠稅 ; 空氣汙染防治法  \n",
       "35               身心障礙者生活津貼  \n",
       "8340        南投花卉嘉年華 ; 中央經費  \n",
       "539                   文化設施  \n",
       "7382          早期退除役軍官給與補助金  "
      ]
     },
     "execution_count": 30,
     "metadata": {},
     "output_type": "execute_result"
    }
   ],
   "source": [
    "pd.DataFrame(\n",
    "    {'legislator': sample_df.legislator,\n",
    "     'Pork Value(Constituency Interest)':[as_num(Dcnn(np.array([tokenizer.encode(line)]), training=True).numpy()[0][0]) for line in sub_set],\n",
    "     'Legislative Questions ': sample_df.title,\n",
    "     'Topic': sample_df.topic,\n",
    "     'Key Word':sample_df.keywords}).sort_values(by=['Pork Value(Constituency Interest)'], ascending = False).head(15)"
   ]
  },
  {
   "cell_type": "markdown",
   "id": "6a6d4b15-3e05-427d-a664-8c8ce4e6622c",
   "metadata": {},
   "source": [
    "##### Last 10 Rows of 2000 Samples"
   ]
  },
  {
   "cell_type": "code",
   "execution_count": 31,
   "id": "369a7336-dc9d-4883-b919-b19611b5ad39",
   "metadata": {
    "execution": {
     "iopub.execute_input": "2021-07-09T13:26:56.201693Z",
     "iopub.status.busy": "2021-07-09T13:26:56.201494Z",
     "iopub.status.idle": "2021-07-09T13:27:07.822862Z",
     "shell.execute_reply": "2021-07-09T13:27:07.822398Z",
     "shell.execute_reply.started": "2021-07-09T13:26:56.201670Z"
    },
    "tags": []
   },
   "outputs": [
    {
     "data": {
      "text/html": [
       "<div>\n",
       "<style scoped>\n",
       "    .dataframe tbody tr th:only-of-type {\n",
       "        vertical-align: middle;\n",
       "    }\n",
       "\n",
       "    .dataframe tbody tr th {\n",
       "        vertical-align: top;\n",
       "    }\n",
       "\n",
       "    .dataframe thead th {\n",
       "        text-align: right;\n",
       "    }\n",
       "</style>\n",
       "<table border=\"1\" class=\"dataframe\">\n",
       "  <thead>\n",
       "    <tr style=\"text-align: right;\">\n",
       "      <th></th>\n",
       "      <th>legislator</th>\n",
       "      <th>Pork Value(Constituency Interest)</th>\n",
       "      <th>Legislative Questions</th>\n",
       "      <th>Topic</th>\n",
       "      <th>Key Word</th>\n",
       "    </tr>\n",
       "  </thead>\n",
       "  <tbody>\n",
       "    <tr>\n",
       "      <th>2326</th>\n",
       "      <td>朱俊曉</td>\n",
       "      <td>0.000001359466637</td>\n",
       "      <td>針對國防部電訊發展室人員，遭中共人員滲透，將相關國防資料及蒐集情報洩漏圖利，且出賣軍事機密人...</td>\n",
       "      <td>軍事機密 ; 情報洩漏</td>\n",
       "      <td>國防部電訊發展室 ; 中共 ; 軍事機密</td>\n",
       "    </tr>\n",
       "    <tr>\n",
       "      <th>5745</th>\n",
       "      <td>潘孟安</td>\n",
       "      <td>0.000001159886210</td>\n",
       "      <td>對於國內信用卡卡債日漸浮濫，部分無法貸款之民眾轉向典當業取得貸款，典當主管機關應注意其利息及...</td>\n",
       "      <td>債務</td>\n",
       "      <td>信用卡 ; 卡債 ; 典當</td>\n",
       "    </tr>\n",
       "    <tr>\n",
       "      <th>5204</th>\n",
       "      <td>沈智慧</td>\n",
       "      <td>0.000000911988423</td>\n",
       "      <td>針對台灣高等行政法院已經在2月24日判決ETC招標過程有弊，投標結果無效，遠通電收公司不是最...</td>\n",
       "      <td>交通規費 ; 工程招標 ; 利益輸送</td>\n",
       "      <td>ETC招標過程 ; 遠通電收 ; 圖利財團</td>\n",
       "    </tr>\n",
       "    <tr>\n",
       "      <th>11081</th>\n",
       "      <td>黃昭順</td>\n",
       "      <td>0.000000759783802</td>\n",
       "      <td>為繼知名飲料蠻牛及保力達B遭人放置氰化物，造成無辜民眾一死兩傷，引發社會高度不安之後，高雄驚...</td>\n",
       "      <td>食品管理</td>\n",
       "      <td>蠻牛 ; 保力達B ; 氰化物</td>\n",
       "    </tr>\n",
       "    <tr>\n",
       "      <th>2941</th>\n",
       "      <td>李鎮楠</td>\n",
       "      <td>0.000000730516717</td>\n",
       "      <td>針對知名提神飲料保力達「蠻牛」和「保力達B」遭歹徒下毒，目前造成一人命危一人死亡，提出相關質...</td>\n",
       "      <td>危險物質 ; 食品管理</td>\n",
       "      <td>保力達 ; 蠻牛 ; 氰化物</td>\n",
       "    </tr>\n",
       "    <tr>\n",
       "      <th>7421</th>\n",
       "      <td>管碧玲</td>\n",
       "      <td>0.000000693245966</td>\n",
       "      <td>針對「卡債卡死人」問題，認為財政部、金管會對於金融機構浮濫發行信用卡與現金卡，沒盡到監督管理...</td>\n",
       "      <td>銀行管理 ; 信用卡</td>\n",
       "      <td>卡債 ; 信用卡 ; 現金卡</td>\n",
       "    </tr>\n",
       "    <tr>\n",
       "      <th>998</th>\n",
       "      <td>周守訓</td>\n",
       "      <td>0.000000581543418</td>\n",
       "      <td>針對日前行政院長謝長廷在行政院會中宣稱，TVBS的節目（二一○○全民開講）是一個政論性或談話...</td>\n",
       "      <td>電視節目 ; 新聞自由</td>\n",
       "      <td>TVBS ; 政論節目 ; 新聞自由</td>\n",
       "    </tr>\n",
       "    <tr>\n",
       "      <th>2018</th>\n",
       "      <td>曹來旺</td>\n",
       "      <td>0.000000540591429</td>\n",
       "      <td>針對政府宣示廢除死刑多年，雖然死刑的法律仍在，但判處死刑的案例減少，即使判了死刑，也常拖著不...</td>\n",
       "      <td>死刑</td>\n",
       "      <td>死刑 ; 人權</td>\n",
       "    </tr>\n",
       "    <tr>\n",
       "      <th>3525</th>\n",
       "      <td>林惠官</td>\n",
       "      <td>0.000000505952357</td>\n",
       "      <td>對於政府要求台灣郵政公司每天挑選數萬封郵件蓋上台灣入聯的戳章一事，表示高度關切與嚴正的抗議！...</td>\n",
       "      <td>郵政機關 ; 政令宣導</td>\n",
       "      <td>台灣郵政公司 ; 台灣入聯</td>\n",
       "    </tr>\n",
       "    <tr>\n",
       "      <th>6532</th>\n",
       "      <td>王幸男</td>\n",
       "      <td>0.000000495690074</td>\n",
       "      <td>針對陳總統日昨重申，有信心一定能夠在二○○八年卸任總統之前，為台灣催生一部合身、合時、合用的...</td>\n",
       "      <td>憲法修正</td>\n",
       "      <td>新憲法 ; 修改憲法</td>\n",
       "    </tr>\n",
       "    <tr>\n",
       "      <th>7514</th>\n",
       "      <td>紀國棟</td>\n",
       "      <td>0.000000444780596</td>\n",
       "      <td>鑒於台灣極力發展觀光倍增之際，竟一再傳出中國觀光客來台糾紛頻傳，爰要求觀光局為下列改進：一、...</td>\n",
       "      <td>旅遊業 ; 觀光</td>\n",
       "      <td>中國觀光客 ; 旅遊糾紛</td>\n",
       "    </tr>\n",
       "    <tr>\n",
       "      <th>1299</th>\n",
       "      <td>廖婉汝</td>\n",
       "      <td>0.000000272423080</td>\n",
       "      <td>針對近來警界風紀事件頻傳，身為人民保母的員警卻屢屢傳出知法犯法、違法亂紀的情形，嚴重侵害到人...</td>\n",
       "      <td>警察風紀</td>\n",
       "      <td>警界風紀</td>\n",
       "    </tr>\n",
       "    <tr>\n",
       "      <th>1338</th>\n",
       "      <td>張昌財</td>\n",
       "      <td>0.000000119858555</td>\n",
       "      <td>為近來網路個資外洩事件頻仍，國內網站的資訊安全已出現嚴重罅隙，損及民眾權益，主管單位應制訂防...</td>\n",
       "      <td>網路安全 ; 隱私權</td>\n",
       "      <td>網路 ; 個資外洩</td>\n",
       "    </tr>\n",
       "    <tr>\n",
       "      <th>982</th>\n",
       "      <td>周守訓</td>\n",
       "      <td>0.000000050109591</td>\n",
       "      <td>針對日前媒體報導陳水扁總統宣示，十二月二十五日耶誕節是重要的宗教節慶，更是我國的行憲紀念日，...</td>\n",
       "      <td>宗教 ; 假日</td>\n",
       "      <td>耶誕節 ; 行憲紀念日 ; 宗教自由 ; 政教分離</td>\n",
       "    </tr>\n",
       "    <tr>\n",
       "      <th>6636</th>\n",
       "      <td>王幸男</td>\n",
       "      <td>0.000000012845885</td>\n",
       "      <td>針對「莊嚴肅穆」的行憲紀念日，在威權時代「今天應懸掛國旗」，不過，在愈來愈多人的真實生活中，...</td>\n",
       "      <td>紀念活動 ; 憲政運作</td>\n",
       "      <td>聖誕節 ; 行憲紀念日 ; 制憲權</td>\n",
       "    </tr>\n",
       "  </tbody>\n",
       "</table>\n",
       "</div>"
      ],
      "text/plain": [
       "      legislator Pork Value(Constituency Interest)  \\\n",
       "2326         朱俊曉                 0.000001359466637   \n",
       "5745         潘孟安                 0.000001159886210   \n",
       "5204         沈智慧                 0.000000911988423   \n",
       "11081        黃昭順                 0.000000759783802   \n",
       "2941         李鎮楠                 0.000000730516717   \n",
       "7421         管碧玲                 0.000000693245966   \n",
       "998          周守訓                 0.000000581543418   \n",
       "2018         曹來旺                 0.000000540591429   \n",
       "3525         林惠官                 0.000000505952357   \n",
       "6532         王幸男                 0.000000495690074   \n",
       "7514         紀國棟                 0.000000444780596   \n",
       "1299         廖婉汝                 0.000000272423080   \n",
       "1338         張昌財                 0.000000119858555   \n",
       "982          周守訓                 0.000000050109591   \n",
       "6636         王幸男                 0.000000012845885   \n",
       "\n",
       "                                  Legislative Questions                Topic  \\\n",
       "2326   針對國防部電訊發展室人員，遭中共人員滲透，將相關國防資料及蒐集情報洩漏圖利，且出賣軍事機密人...         軍事機密 ; 情報洩漏   \n",
       "5745   對於國內信用卡卡債日漸浮濫，部分無法貸款之民眾轉向典當業取得貸款，典當主管機關應注意其利息及...                  債務   \n",
       "5204   針對台灣高等行政法院已經在2月24日判決ETC招標過程有弊，投標結果無效，遠通電收公司不是最...  交通規費 ; 工程招標 ; 利益輸送   \n",
       "11081  為繼知名飲料蠻牛及保力達B遭人放置氰化物，造成無辜民眾一死兩傷，引發社會高度不安之後，高雄驚...                食品管理   \n",
       "2941   針對知名提神飲料保力達「蠻牛」和「保力達B」遭歹徒下毒，目前造成一人命危一人死亡，提出相關質...         危險物質 ; 食品管理   \n",
       "7421   針對「卡債卡死人」問題，認為財政部、金管會對於金融機構浮濫發行信用卡與現金卡，沒盡到監督管理...          銀行管理 ; 信用卡   \n",
       "998    針對日前行政院長謝長廷在行政院會中宣稱，TVBS的節目（二一○○全民開講）是一個政論性或談話...         電視節目 ; 新聞自由   \n",
       "2018   針對政府宣示廢除死刑多年，雖然死刑的法律仍在，但判處死刑的案例減少，即使判了死刑，也常拖著不...                  死刑   \n",
       "3525   對於政府要求台灣郵政公司每天挑選數萬封郵件蓋上台灣入聯的戳章一事，表示高度關切與嚴正的抗議！...         郵政機關 ; 政令宣導   \n",
       "6532   針對陳總統日昨重申，有信心一定能夠在二○○八年卸任總統之前，為台灣催生一部合身、合時、合用的...                憲法修正   \n",
       "7514   鑒於台灣極力發展觀光倍增之際，竟一再傳出中國觀光客來台糾紛頻傳，爰要求觀光局為下列改進：一、...            旅遊業 ; 觀光   \n",
       "1299   針對近來警界風紀事件頻傳，身為人民保母的員警卻屢屢傳出知法犯法、違法亂紀的情形，嚴重侵害到人...                警察風紀   \n",
       "1338   為近來網路個資外洩事件頻仍，國內網站的資訊安全已出現嚴重罅隙，損及民眾權益，主管單位應制訂防...          網路安全 ; 隱私權   \n",
       "982    針對日前媒體報導陳水扁總統宣示，十二月二十五日耶誕節是重要的宗教節慶，更是我國的行憲紀念日，...             宗教 ; 假日   \n",
       "6636   針對「莊嚴肅穆」的行憲紀念日，在威權時代「今天應懸掛國旗」，不過，在愈來愈多人的真實生活中，...         紀念活動 ; 憲政運作   \n",
       "\n",
       "                        Key Word  \n",
       "2326        國防部電訊發展室 ; 中共 ; 軍事機密  \n",
       "5745               信用卡 ; 卡債 ; 典當  \n",
       "5204       ETC招標過程 ; 遠通電收 ; 圖利財團  \n",
       "11081            蠻牛 ; 保力達B ; 氰化物  \n",
       "2941              保力達 ; 蠻牛 ; 氰化物  \n",
       "7421              卡債 ; 信用卡 ; 現金卡  \n",
       "998           TVBS ; 政論節目 ; 新聞自由  \n",
       "2018                     死刑 ; 人權  \n",
       "3525               台灣郵政公司 ; 台灣入聯  \n",
       "6532                  新憲法 ; 修改憲法  \n",
       "7514                中國觀光客 ; 旅遊糾紛  \n",
       "1299                        警界風紀  \n",
       "1338                   網路 ; 個資外洩  \n",
       "982    耶誕節 ; 行憲紀念日 ; 宗教自由 ; 政教分離  \n",
       "6636           聖誕節 ; 行憲紀念日 ; 制憲權  "
      ]
     },
     "execution_count": 31,
     "metadata": {},
     "output_type": "execute_result"
    }
   ],
   "source": [
    "pd.DataFrame(\n",
    "    {'legislator': sample_df.legislator,\n",
    "     'Pork Value(Constituency Interest)':[as_num(Dcnn(np.array([tokenizer.encode(line)]), training=True).numpy()[0][0]) for line in sub_set],\n",
    "     'Legislative Questions ': sample_df.title,\n",
    "     'Topic': sample_df.topic,\n",
    "     'Key Word':sample_df.keywords}).sort_values(by=['Pork Value(Constituency Interest)'], ascending = False).tail(15)"
   ]
  },
  {
   "cell_type": "markdown",
   "id": "5dc01475-847a-408f-9972-ac02e7aa4721",
   "metadata": {},
   "source": [
    "#### (2) Export an End-to-end Model\n"
   ]
  },
  {
   "cell_type": "code",
   "execution_count": 32,
   "id": "196028d0-edfe-434f-a173-4ccaa688faaa",
   "metadata": {
    "execution": {
     "iopub.execute_input": "2021-07-09T13:27:07.823890Z",
     "iopub.status.busy": "2021-07-09T13:27:07.823764Z",
     "iopub.status.idle": "2021-07-09T13:27:07.826172Z",
     "shell.execute_reply": "2021-07-09T13:27:07.825747Z",
     "shell.execute_reply.started": "2021-07-09T13:27:07.823874Z"
    },
    "tags": []
   },
   "outputs": [],
   "source": [
    "from tensorflow.keras.models import load_model"
   ]
  },
  {
   "cell_type": "code",
   "execution_count": 33,
   "id": "071291d0-c5bb-48de-adb2-f8b2bb3bb542",
   "metadata": {
    "execution": {
     "iopub.execute_input": "2021-07-09T13:27:07.827169Z",
     "iopub.status.busy": "2021-07-09T13:27:07.827043Z",
     "iopub.status.idle": "2021-07-09T13:27:09.018710Z",
     "shell.execute_reply": "2021-07-09T13:27:09.018091Z",
     "shell.execute_reply.started": "2021-07-09T13:27:07.827153Z"
    },
    "tags": []
   },
   "outputs": [
    {
     "name": "stdout",
     "output_type": "stream",
     "text": [
      "INFO:tensorflow:Assets written to: lour_pork_model/assets\n"
     ]
    },
    {
     "name": "stderr",
     "output_type": "stream",
     "text": [
      "INFO:tensorflow:Assets written to: lour_pork_model/assets\n"
     ]
    }
   ],
   "source": [
    "# Get model (Sequential, Functional Model, or Model subclass)\n",
    "Dcnn.save('lour_pork_model')"
   ]
  },
  {
   "cell_type": "code",
   "execution_count": 34,
   "id": "2ac46183-b841-469b-8897-1fea2922e445",
   "metadata": {
    "execution": {
     "iopub.execute_input": "2021-07-09T13:27:09.019885Z",
     "iopub.status.busy": "2021-07-09T13:27:09.019718Z",
     "iopub.status.idle": "2021-07-09T13:27:09.609961Z",
     "shell.execute_reply": "2021-07-09T13:27:09.609333Z",
     "shell.execute_reply.started": "2021-07-09T13:27:09.019867Z"
    },
    "tags": []
   },
   "outputs": [],
   "source": [
    "from tensorflow import keras\n",
    "model = keras.models.load_model('lour_pork_model')"
   ]
  }
 ],
 "metadata": {
  "kernelspec": {
   "display_name": "Python 3",
   "language": "python",
   "name": "python3"
  },
  "language_info": {
   "codemirror_mode": {
    "name": "ipython",
    "version": 3
   },
   "file_extension": ".py",
   "mimetype": "text/x-python",
   "name": "python",
   "nbconvert_exporter": "python",
   "pygments_lexer": "ipython3",
   "version": "3.8.8"
  }
 },
 "nbformat": 4,
 "nbformat_minor": 5
}
