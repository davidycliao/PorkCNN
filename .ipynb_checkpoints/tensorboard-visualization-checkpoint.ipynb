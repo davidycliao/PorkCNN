{
 "cells": [
  {
   "cell_type": "markdown",
   "id": "b65dfbdc-bb80-4bd4-8248-dd06483222cd",
   "metadata": {},
   "source": [
    "# The Measurements and Visualizations of PorkCNN with TensorBoard\n",
    "\n",
    "author: davidycliao(David Yen-Chieh Liao)                                                                      \n",
    "email: davidycliao@gmail.com                                                             \n",
    "date: 9-July-2021  "
   ]
  },
  {
   "cell_type": "markdown",
   "id": "e8005d5a-f938-4c26-86d5-592408152d08",
   "metadata": {},
   "source": [
    "-------------------------\n",
    "\n",
    "### Stage 1: Libaries & Dependencies"
   ]
  },
  {
   "cell_type": "code",
   "execution_count": 1,
   "id": "6ca92ba3-7480-418f-91e0-d2beea2d10af",
   "metadata": {
    "execution": {
     "iopub.execute_input": "2021-07-09T11:51:52.240770Z",
     "iopub.status.busy": "2021-07-09T11:51:52.240511Z",
     "iopub.status.idle": "2021-07-09T11:51:58.202932Z",
     "shell.execute_reply": "2021-07-09T11:51:58.202390Z",
     "shell.execute_reply.started": "2021-07-09T11:51:52.240748Z"
    },
    "tags": []
   },
   "outputs": [],
   "source": [
    "# built-in library\n",
    "import math\n",
    "import re\n",
    "import collections\n",
    "import zipfile\n",
    "import random\n",
    "from itertools import chain\n",
    "\n",
    "# ML & Deep Learning/ NLP toolkit\n",
    "import pandas as pd\n",
    "import numpy as np\n",
    "import jieba\n",
    "from sklearn.model_selection import train_test_split\n",
    "import tensorflow as tf\n",
    "from tensorflow.keras import layers\n",
    "import tensorflow_datasets as tfds\n",
    "from tensorflow.keras.callbacks import EarlyStopping,TensorBoard\n",
    "\n",
    "# Visualization\n",
    "import matplotlib.pyplot as plt\n",
    "import seaborn as sns"
   ]
  },
  {
   "cell_type": "markdown",
   "id": "8bd77e05-355a-422f-87db-2cf77cba3bdd",
   "metadata": {},
   "source": [
    "-------------------------\n",
    "\n",
    "### Stage 2: Data Preprocessing (Training Data: Introduction of Bills and Legislation from 6th Session to 7th Session, 2004-2012)"
   ]
  },
  {
   "cell_type": "markdown",
   "id": "3b57b9c9-443e-4e26-bda2-15f6877845d5",
   "metadata": {},
   "source": [
    "#### (1) Read file "
   ]
  },
  {
   "cell_type": "code",
   "execution_count": 2,
   "id": "e1973cfb-73d4-4717-a67a-a4e8a0c9edb0",
   "metadata": {
    "execution": {
     "iopub.execute_input": "2021-07-09T11:51:58.203806Z",
     "iopub.status.busy": "2021-07-09T11:51:58.203673Z",
     "iopub.status.idle": "2021-07-09T11:51:58.253252Z",
     "shell.execute_reply": "2021-07-09T11:51:58.252476Z",
     "shell.execute_reply.started": "2021-07-09T11:51:58.203790Z"
    },
    "tags": []
   },
   "outputs": [],
   "source": [
    "# read file\n",
    "df = pd.read_csv('data/Pork Bill - 2021-05-20.csv',encoding='utf-8')\n",
    "\n",
    "# combine abstract of bill and title \n",
    "df['text'] =  df['Title'] + df['Content'].fillna(df['Title'])\n",
    "\n",
    "# drop conten without having any characters\n",
    "# view na's row: df[df['text'].isnull()==True]\n",
    "data = df[['text', 'pork_bill']].dropna(subset=['text'])"
   ]
  },
  {
   "cell_type": "code",
   "execution_count": 3,
   "id": "f6160785-9522-4404-8f77-6df941869cde",
   "metadata": {
    "execution": {
     "iopub.execute_input": "2021-07-09T11:51:58.254691Z",
     "iopub.status.busy": "2021-07-09T11:51:58.254471Z",
     "iopub.status.idle": "2021-07-09T11:51:58.261588Z",
     "shell.execute_reply": "2021-07-09T11:51:58.260425Z",
     "shell.execute_reply.started": "2021-07-09T11:51:58.254667Z"
    },
    "tags": []
   },
   "outputs": [
    {
     "name": "stdout",
     "output_type": "stream",
     "text": [
      " Pork Legislation 2510 \n",
      " None-Pork Legislation 4733\n"
     ]
    }
   ],
   "source": [
    "print(\" Pork Legislation\", data['pork_bill'].value_counts()[1],'\\n', \n",
    "      \"None-Pork Legislation\", data['pork_bill'].value_counts()[0])"
   ]
  },
  {
   "cell_type": "code",
   "execution_count": 4,
   "id": "11f1b3ab-7f1e-40b0-995a-e66ae58da102",
   "metadata": {
    "execution": {
     "iopub.execute_input": "2021-07-09T11:51:58.263294Z",
     "iopub.status.busy": "2021-07-09T11:51:58.263000Z",
     "iopub.status.idle": "2021-07-09T11:51:58.418350Z",
     "shell.execute_reply": "2021-07-09T11:51:58.417717Z",
     "shell.execute_reply.started": "2021-07-09T11:51:58.263267Z"
    },
    "tags": []
   },
   "outputs": [
    {
     "data": {
      "image/png": "[encoded data removed]",
      "text/plain": [
       "<Figure size 720x432 with 1 Axes>"
      ]
     },
     "metadata": {
      "needs_background": "light"
     },
     "output_type": "display_data"
    }
   ],
   "source": [
    "import matplotlib.pyplot as plt\n",
    "plt.figure(figsize=(10, 6))\n",
    "pork_plot = pd.DataFrame({\"num\":data['pork_bill'].value_counts(), \"type\":['Not Pork','Pork']})\n",
    "plt.bar(pork_plot['type'], pork_plot['num'], color='#57A1AB')\n",
    "#plt.show()\n",
    "plt.savefig('images/full_plot.png')"
   ]
  },
  {
   "cell_type": "markdown",
   "id": "5e6d677d-e200-40e6-9252-130eb02fc682",
   "metadata": {
    "execution": {
     "iopub.execute_input": "2021-05-16T17:01:03.001989Z",
     "iopub.status.busy": "2021-05-16T17:01:03.001801Z",
     "iopub.status.idle": "2021-05-16T17:01:03.004600Z",
     "shell.execute_reply": "2021-05-16T17:01:03.003789Z",
     "shell.execute_reply.started": "2021-05-16T17:01:03.001969Z"
    }
   },
   "source": [
    "#### (2) Tokenization"
   ]
  },
  {
   "cell_type": "code",
   "execution_count": 5,
   "id": "120e8b54-7f75-4ca6-a0d0-9872b1522e8e",
   "metadata": {
    "execution": {
     "iopub.execute_input": "2021-07-09T11:51:59.169243Z",
     "iopub.status.busy": "2021-07-09T11:51:59.168950Z",
     "iopub.status.idle": "2021-07-09T11:51:59.176268Z",
     "shell.execute_reply": "2021-07-09T11:51:59.175655Z",
     "shell.execute_reply.started": "2021-07-09T11:51:59.169222Z"
    },
    "tags": []
   },
   "outputs": [],
   "source": [
    "import collections\n",
    "import numpy as np\n",
    "import jieba\n",
    "from itertools import chain\n",
    "\n",
    "\n",
    "def jieba_cut(filename):\n",
    "    \"\"\"\n",
    "    cut Chinese and remove stop words\n",
    "    Reference: https://www.cnblogs.com/Luv-GEM/p/10836454.html\n",
    "    Stopwords: https://www.kaggle.com/rikdifos/english-and-chinese-stopwords?select=cn_stopwords.txt\n",
    "    \"\"\"\n",
    "    stop_list = [i.strip() for i in open('cn_stopwords.txt','r',encoding='utf-8')]  \n",
    "    news_cut = []\n",
    "    news_list = []\n",
    "    for line in filename:    \n",
    "        if line:\n",
    "            news_cut = list(jieba.cut(''.join(line),cut_all=False,HMM=True))  \n",
    "            news_list.append([word.strip() for word in news_cut if word not in stop_list and len(word.strip())>0]) \n",
    "    news_list = list(chain.from_iterable(news_list))  \n",
    "    return news_list\n",
    "\n",
    "def clearPucts(context):\n",
    "    \"\"\"\n",
    "    remove punctuation\n",
    "    ref: https://chenyuzuoo.github.io/posts/28001/\n",
    "    \"\"\"\n",
    "    context = re.sub(\"[\\s+\\.\\!\\/_,$%^*(+\\\"\\']+|[+——！，。？、~@#￥%……&*（）]+\", \"\", context)\n",
    "    context = re.sub(\"[【】╮╯▽╰╭★→「」]+\",\"\", context)\n",
    "    context = re.sub(\"！，❤。～《》：（）【】「」？”“；：、\",\"\",context)\n",
    "    context = re.sub(\"\\s\",\"\",context)\n",
    "    return context\n",
    "\n",
    "def seg_char(sent):\n",
    "    \"\"\"\n",
    "    cut Chinese and remove stop words\n",
    "    ref: https://blog.csdn.net/renyuanfang/article/details/86487367\n",
    "    \"\"\"\n",
    "    # split\n",
    "    pattern_char_1 = re.compile(r'([\\W])')\n",
    "    parts = pattern_char_1.split(sent)\n",
    "    parts = [p for p in parts if len(p.strip())>0]\n",
    "    # cut sentence\n",
    "    pattern = re.compile(r'([\\u4e00-\\u9fa5])')\n",
    "    chars = pattern.split(sent)\n",
    "    chars = [w for w in chars if len(w.strip())>0]\n",
    "    chars = ' '.join(chars)\n",
    "    return chars"
   ]
  },
  {
   "cell_type": "code",
   "execution_count": 6,
   "id": "25f4277c-001d-47a4-81d0-f5ac5ec5e5d3",
   "metadata": {
    "execution": {
     "iopub.execute_input": "2021-07-09T11:51:59.177372Z",
     "iopub.status.busy": "2021-07-09T11:51:59.177205Z",
     "iopub.status.idle": "2021-07-09T11:52:01.333889Z",
     "shell.execute_reply": "2021-07-09T11:52:01.333357Z",
     "shell.execute_reply.started": "2021-07-09T11:51:59.177353Z"
    },
    "tags": []
   },
   "outputs": [],
   "source": [
    "data_clean = [seg_char(text) for text in [clearPucts(text) for text in data.text]]\n",
    "\n",
    "tokenizer = tfds.deprecated.text.SubwordTextEncoder.build_from_corpus(\n",
    "    data_clean, target_vocab_size=2**18)\n",
    "\n",
    "data_inputs = [tokenizer.encode(sentence) for sentence in data_clean]"
   ]
  },
  {
   "cell_type": "markdown",
   "id": "089e65af-e49c-4d60-962e-a0a826809aa5",
   "metadata": {
    "execution": {
     "iopub.execute_input": "2021-05-16T17:01:47.611294Z",
     "iopub.status.busy": "2021-05-16T17:01:47.611020Z",
     "iopub.status.idle": "2021-05-16T17:01:47.614208Z",
     "shell.execute_reply": "2021-05-16T17:01:47.613487Z",
     "shell.execute_reply.started": "2021-05-16T17:01:47.611276Z"
    }
   },
   "source": [
    "#### (3) Padding"
   ]
  },
  {
   "cell_type": "code",
   "execution_count": 7,
   "id": "b801d231-972c-47e3-83c4-7375c2e11a18",
   "metadata": {
    "execution": {
     "iopub.execute_input": "2021-07-09T11:52:01.334819Z",
     "iopub.status.busy": "2021-07-09T11:52:01.334680Z",
     "iopub.status.idle": "2021-07-09T11:52:01.409001Z",
     "shell.execute_reply": "2021-07-09T11:52:01.408376Z",
     "shell.execute_reply.started": "2021-07-09T11:52:01.334801Z"
    },
    "tags": []
   },
   "outputs": [
    {
     "name": "stdout",
     "output_type": "stream",
     "text": [
      "Maximun length:785 \n",
      "Input:7243\n"
     ]
    }
   ],
   "source": [
    "MAX_LEN = max([len(sentence) for sentence in data_clean])\n",
    "data_inputs = tf.keras.preprocessing.sequence.pad_sequences(data_inputs,\n",
    "                                                            value=0,\n",
    "                                                            padding=\"post\",\n",
    "                                                            maxlen=MAX_LEN)\n",
    "\n",
    "print('Maximun length:{} \\nInput:{}'.format(MAX_LEN, data_inputs.shape[0]))\n"
   ]
  },
  {
   "cell_type": "markdown",
   "id": "f69d90cf-ac3c-4e08-b46b-457d9708d832",
   "metadata": {
    "execution": {
     "iopub.execute_input": "2021-05-16T17:02:28.107037Z",
     "iopub.status.busy": "2021-05-16T17:02:28.106843Z",
     "iopub.status.idle": "2021-05-16T17:02:28.109696Z",
     "shell.execute_reply": "2021-05-16T17:02:28.108954Z",
     "shell.execute_reply.started": "2021-05-16T17:02:28.107017Z"
    }
   },
   "source": [
    "#### (4) Spliting Training / Testing Set"
   ]
  },
  {
   "cell_type": "code",
   "execution_count": 8,
   "id": "42503355-eea3-4602-ae5a-ea18be84b8d1",
   "metadata": {
    "execution": {
     "iopub.execute_input": "2021-07-09T11:52:01.410100Z",
     "iopub.status.busy": "2021-07-09T11:52:01.409938Z",
     "iopub.status.idle": "2021-07-09T11:52:01.412697Z",
     "shell.execute_reply": "2021-07-09T11:52:01.411970Z",
     "shell.execute_reply.started": "2021-07-09T11:52:01.410080Z"
    },
    "tags": []
   },
   "outputs": [],
   "source": [
    "data_labels = data.pork_bill.values"
   ]
  },
  {
   "cell_type": "code",
   "execution_count": 9,
   "id": "19235117-f63a-4e06-a102-6efe98c37dbf",
   "metadata": {
    "execution": {
     "iopub.execute_input": "2021-07-09T11:52:01.413748Z",
     "iopub.status.busy": "2021-07-09T11:52:01.413597Z",
     "iopub.status.idle": "2021-07-09T11:52:01.427560Z",
     "shell.execute_reply": "2021-07-09T11:52:01.426921Z",
     "shell.execute_reply.started": "2021-07-09T11:52:01.413731Z"
    },
    "tags": []
   },
   "outputs": [
    {
     "name": "stdout",
     "output_type": "stream",
     "text": [
      "Shape of X Train: (4852, 785) \n",
      "Shape of X Test : (2391, 785) \n",
      "Shape of Y Trian: (4852,) \n",
      "Shape of Y Test : (2391,)\n"
     ]
    }
   ],
   "source": [
    "import numpy as np\n",
    "from sklearn.model_selection import train_test_split\n",
    "train_inputs, test_inputs, train_labels, test_labels = train_test_split(\n",
    "    data_inputs, data_labels, test_size=0.33, random_state=42)\n",
    "\n",
    "print(\"Shape of X Train:\", train_inputs.shape, '\\n'\n",
    "      \"Shape of X Test :\", test_inputs.shape,'\\n'\n",
    "      \"Shape of Y Trian:\", train_labels.shape , '\\n'\n",
    "      \"Shape of Y Test :\", test_labels.shape )"
   ]
  },
  {
   "cell_type": "markdown",
   "id": "725f7feb-b93b-4d0b-bcbf-562240a79f8b",
   "metadata": {
    "execution": {
     "iopub.execute_input": "2021-05-16T17:04:13.375644Z",
     "iopub.status.busy": "2021-05-16T17:04:13.375440Z",
     "iopub.status.idle": "2021-05-16T17:04:13.378111Z",
     "shell.execute_reply": "2021-05-16T17:04:13.377464Z",
     "shell.execute_reply.started": "2021-05-16T17:04:13.375623Z"
    },
    "tags": []
   },
   "source": [
    "-------------------------\n",
    "\n",
    "\n",
    "### Stage 3: Model and Building"
   ]
  },
  {
   "cell_type": "markdown",
   "id": "4a0e74bf-eaf4-4043-8d23-88291d8ea344",
   "metadata": {
    "execution": {
     "iopub.execute_input": "2021-05-16T17:13:18.807725Z",
     "iopub.status.busy": "2021-05-16T17:13:18.807498Z",
     "iopub.status.idle": "2021-05-16T17:13:18.810574Z",
     "shell.execute_reply": "2021-05-16T17:13:18.809625Z",
     "shell.execute_reply.started": "2021-05-16T17:13:18.807701Z"
    }
   },
   "source": [
    "#### (1) Using the Subclassing API to Build Dynamic Model"
   ]
  },
  {
   "cell_type": "code",
   "execution_count": 10,
   "id": "1f18f9b1-5f4d-4d0a-baf4-2eebed7f34f2",
   "metadata": {
    "execution": {
     "iopub.execute_input": "2021-07-09T11:52:01.541845Z",
     "iopub.status.busy": "2021-07-09T11:52:01.541638Z",
     "iopub.status.idle": "2021-07-09T11:52:01.551618Z",
     "shell.execute_reply": "2021-07-09T11:52:01.550931Z",
     "shell.execute_reply.started": "2021-07-09T11:52:01.541823Z"
    },
    "tags": []
   },
   "outputs": [],
   "source": [
    "class DCNN(tf.keras.Model):\n",
    "    def __init__(self,\n",
    "                 vocab_size,\n",
    "                 emb_dim=128,\n",
    "                 nb_filters=100,\n",
    "                 # units: Positive integer, dimensionality of the output space.\n",
    "                 FFN_units=512,\n",
    "                 nb_classes=2,\n",
    "                 dropout_rate=0.1,\n",
    "                 training=False,\n",
    "                 name=\"PorkCNN\"):\n",
    "        super(DCNN, self).__init__(name=name)\n",
    "        self.embedding = layers.Embedding(vocab_size, emb_dim)\n",
    "        self.bigram = layers.Conv1D(filters=nb_filters, kernel_size=2, strides = 1, padding=\"valid\", activation=\"relu\")\n",
    "        self.bigram2 = layers.Conv1D(filters=nb_filters, kernel_size=2, strides = 2, padding=\"valid\", activation=\"relu\")\n",
    "        self.trigram = layers.Conv1D(filters=nb_filters,kernel_size=3,strides = 1, padding=\"valid\",activation=\"relu\")\n",
    "        self.trigram2 = layers.Conv1D(filters=nb_filters,kernel_size=3,strides = 2, padding=\"valid\",activation=\"relu\")\n",
    "        self.fourgram = layers.Conv1D(filters=nb_filters,kernel_size=4,strides = 2, padding=\"valid\",activation=\"relu\")\n",
    "        self.fivegram = layers.Conv1D(filters=nb_filters,kernel_size=5,strides = 2, padding=\"valid\",activation=\"relu\")\n",
    "        self.pool = layers.GlobalMaxPool1D()\n",
    "        self.dense_1 = layers.Dense(units=FFN_units, activation=\"relu\")\n",
    "        self.dropout = layers.Dropout(rate=dropout_rate)\n",
    "        self.last_dense = layers.Dense(units=1, activation=\"sigmoid\")    \n",
    "    def call(self, inputs, training):\n",
    "        x = self.embedding(inputs)\n",
    "        x_1 = self.bigram(x)\n",
    "        x_1 = self.pool(x_1)\n",
    "        x_1_1 = self.bigram2(x)\n",
    "        x_1_1 = self.pool(x_1_1)        \n",
    "        x_2 = self.trigram(x)\n",
    "        x_2 = self.pool(x_2)\n",
    "        x_2_1 = self.trigram2(x)\n",
    "        x_2_1 = self.pool(x_2_1)     \n",
    "        x_3 = self.fourgram(x)\n",
    "        x_3 = self.pool(x_3)\n",
    "        x_4 = self.fourgram(x)\n",
    "        x_4 = self.pool(x_4) \n",
    "        x_5 = self.fivegram(x)\n",
    "        x_5 = self.pool(x_5)      \n",
    "        merged = tf.concat([x_1,x_1_1, x_2,x_2_1, x_3, x_4, x_5], axis=-1) \n",
    "        merged = self.dense_1(merged)\n",
    "        merged = self.dropout(merged, training)\n",
    "        output = self.last_dense(merged)        \n",
    "        return output"
   ]
  },
  {
   "cell_type": "code",
   "execution_count": 11,
   "id": "bfc02e93-3a0e-4c1c-b488-b2db98b53824",
   "metadata": {
    "execution": {
     "iopub.execute_input": "2021-07-09T11:52:01.552924Z",
     "iopub.status.busy": "2021-07-09T11:52:01.552615Z",
     "iopub.status.idle": "2021-07-09T11:52:01.572773Z",
     "shell.execute_reply": "2021-07-09T11:52:01.571898Z",
     "shell.execute_reply.started": "2021-07-09T11:52:01.552901Z"
    },
    "tags": []
   },
   "outputs": [],
   "source": [
    "VOCAB_SIZE = tokenizer.vocab_size #tokenizer.vocab_size  # 5000 tokenizer.vocab_size\n",
    "EMB_DIM = 200\n",
    "NB_FILTERS = 100\n",
    "FFN_UNITS = 256\n",
    "NB_CLASSES = 2 #len(set(train_labels))\n",
    "DROPOUT_RATE = 0.25\n",
    "BATCH_SIZE = 230\n",
    "NB_EPOCHS = 80\n",
    "\n",
    "Dcnn = DCNN(vocab_size=VOCAB_SIZE,\n",
    "            emb_dim=EMB_DIM,\n",
    "            nb_filters=NB_FILTERS,\n",
    "            FFN_units=FFN_UNITS,\n",
    "            nb_classes=NB_CLASSES,\n",
    "            dropout_rate=DROPOUT_RATE)"
   ]
  },
  {
   "cell_type": "markdown",
   "id": "b0ec8f51-6ed8-49fa-9d5e-c6929184bdf1",
   "metadata": {
    "execution": {
     "iopub.execute_input": "2021-05-16T18:43:59.279424Z",
     "iopub.status.busy": "2021-05-16T18:43:59.279202Z",
     "iopub.status.idle": "2021-05-16T18:43:59.282718Z",
     "shell.execute_reply": "2021-05-16T18:43:59.281823Z",
     "shell.execute_reply.started": "2021-05-16T18:43:59.279399Z"
    }
   },
   "source": [
    "#### (2) Compile and Summary of the Model"
   ]
  },
  {
   "cell_type": "code",
   "execution_count": 12,
   "id": "2cce0414-05eb-4f79-9c27-bca9c91a2903",
   "metadata": {
    "execution": {
     "iopub.execute_input": "2021-07-09T11:52:03.926537Z",
     "iopub.status.busy": "2021-07-09T11:52:03.926357Z",
     "iopub.status.idle": "2021-07-09T11:52:03.999127Z",
     "shell.execute_reply": "2021-07-09T11:52:03.998509Z",
     "shell.execute_reply.started": "2021-07-09T11:52:03.926519Z"
    },
    "tags": []
   },
   "outputs": [
    {
     "name": "stdout",
     "output_type": "stream",
     "text": [
      "Model: \"PorkCNN\"\n",
      "_________________________________________________________________\n",
      "Layer (type)                 Output Shape              Param #   \n",
      "=================================================================\n",
      "embedding (Embedding)        multiple                  586600    \n",
      "_________________________________________________________________\n",
      "conv1d (Conv1D)              multiple                  40100     \n",
      "_________________________________________________________________\n",
      "conv1d_1 (Conv1D)            multiple                  40100     \n",
      "_________________________________________________________________\n",
      "conv1d_2 (Conv1D)            multiple                  60100     \n",
      "_________________________________________________________________\n",
      "conv1d_3 (Conv1D)            multiple                  60100     \n",
      "_________________________________________________________________\n",
      "conv1d_4 (Conv1D)            multiple                  80100     \n",
      "_________________________________________________________________\n",
      "conv1d_5 (Conv1D)            multiple                  100100    \n",
      "_________________________________________________________________\n",
      "global_max_pooling1d (Global multiple                  0         \n",
      "_________________________________________________________________\n",
      "dense (Dense)                multiple                  179456    \n",
      "_________________________________________________________________\n",
      "dropout (Dropout)            multiple                  0         \n",
      "_________________________________________________________________\n",
      "dense_1 (Dense)              multiple                  257       \n",
      "=================================================================\n",
      "Total params: 1,146,913\n",
      "Trainable params: 1,146,913\n",
      "Non-trainable params: 0\n",
      "_________________________________________________________________\n"
     ]
    }
   ],
   "source": [
    "Dcnn.compile(loss=\"binary_crossentropy\", optimizer=\"adam\", metrics=[\"accuracy\"])\n",
    "Dcnn.build(input_shape = (train_inputs.shape[1], EMB_DIM)) # (train_inputs.shape[1] , EMB_DIM)  (785 , EMB_DIM)\n",
    "Dcnn.summary()"
   ]
  },
  {
   "cell_type": "markdown",
   "id": "73d70667-275f-40c0-bd71-6b47e9722798",
   "metadata": {
    "execution": {
     "iopub.execute_input": "2021-05-16T17:47:13.442664Z",
     "iopub.status.busy": "2021-05-16T17:47:13.442381Z",
     "iopub.status.idle": "2021-05-16T17:47:13.448371Z",
     "shell.execute_reply": "2021-05-16T17:47:13.446970Z",
     "shell.execute_reply.started": "2021-05-16T17:47:13.442620Z"
    }
   },
   "source": [
    "-------------------------\n",
    "\n",
    "### Stage 4: Train the Model"
   ]
  },
  {
   "cell_type": "markdown",
   "id": "4351aebf-d66c-4d7e-8463-9b8a8cc45748",
   "metadata": {},
   "source": [
    "#### (1) Set up the Check-point Path"
   ]
  },
  {
   "cell_type": "code",
   "execution_count": 13,
   "id": "2a42cc9c-52a3-48f7-be81-93fdc7caa44d",
   "metadata": {
    "execution": {
     "iopub.execute_input": "2021-07-09T11:52:07.215289Z",
     "iopub.status.busy": "2021-07-09T11:52:07.215026Z",
     "iopub.status.idle": "2021-07-09T11:52:07.219655Z",
     "shell.execute_reply": "2021-07-09T11:52:07.218874Z",
     "shell.execute_reply.started": "2021-07-09T11:52:07.215260Z"
    },
    "tags": []
   },
   "outputs": [],
   "source": [
    "checkpoint_path = \"checkpoint_recode_tensorboard/ckpt_manager\"\n",
    "\n",
    "ckpt = tf.train.Checkpoint(Dcnn=Dcnn)\n",
    "\n",
    "ckpt_manager = tf.train.CheckpointManager(ckpt, checkpoint_path, max_to_keep=10)\n",
    "\n",
    "if ckpt_manager.latest_checkpoint:\n",
    "    ckpt.restore(ckpt_manager.latest_checkpoint)\n",
    "    print(\"Checkpoint Located!!\")"
   ]
  },
  {
   "cell_type": "markdown",
   "id": "3cdfd46a-e4ab-4ade-92b9-d7480829adc5",
   "metadata": {},
   "source": [
    "#### (2) Define the TensorBoard Callback\n",
    "reference: https://www.tensorflow.org/tensorboard/get_started"
   ]
  },
  {
   "cell_type": "code",
   "execution_count": 14,
   "id": "d19eaa00-aab8-4b36-ab5b-356260f0012c",
   "metadata": {
    "execution": {
     "iopub.execute_input": "2021-07-09T11:52:09.899017Z",
     "iopub.status.busy": "2021-07-09T11:52:09.898758Z",
     "iopub.status.idle": "2021-07-09T11:52:09.903173Z",
     "shell.execute_reply": "2021-07-09T11:52:09.902413Z",
     "shell.execute_reply.started": "2021-07-09T11:52:09.898990Z"
    },
    "tags": []
   },
   "outputs": [],
   "source": [
    "import datetime\n",
    "log_dir = \"logs/fit/\" + datetime.datetime.now().strftime(\"%Y%m%d-%H%M%S\")\n",
    "tensorboard_callback = tf.keras.callbacks.TensorBoard(log_dir=log_dir, \n",
    "                                                      write_images=True,\n",
    "                                                      histogram_freq=1)\n"
   ]
  },
  {
   "cell_type": "markdown",
   "id": "6efdbe9a-f152-4c7b-a2b0-39243c31eeb4",
   "metadata": {
    "execution": {
     "iopub.execute_input": "2021-07-08T21:39:05.952891Z",
     "iopub.status.busy": "2021-07-08T21:39:05.952657Z",
     "iopub.status.idle": "2021-07-08T21:39:05.955902Z",
     "shell.execute_reply": "2021-07-08T21:39:05.954866Z",
     "shell.execute_reply.started": "2021-07-08T21:39:05.952872Z"
    }
   },
   "source": [
    "#### (3) Training the Model\n"
   ]
  },
  {
   "cell_type": "code",
   "execution_count": 16,
   "id": "baf0cade-2c45-43b2-9782-6a8c6e570153",
   "metadata": {
    "execution": {
     "iopub.execute_input": "2021-07-09T11:53:02.601845Z",
     "iopub.status.busy": "2021-07-09T11:53:02.601307Z",
     "iopub.status.idle": "2021-07-09T12:55:10.682373Z",
     "shell.execute_reply": "2021-07-09T12:55:10.678649Z",
     "shell.execute_reply.started": "2021-07-09T11:53:02.601755Z"
    },
    "tags": []
   },
   "outputs": [
    {
     "name": "stdout",
     "output_type": "stream",
     "text": [
      "Epoch 1/80\n",
      "22/22 [==============================] - 42s 2s/step - loss: 0.5890 - accuracy: 0.6777 - val_loss: 0.4622 - val_accuracy: 0.8352\n",
      "Epoch 2/80\n",
      "22/22 [==============================] - 54s 2s/step - loss: 0.3221 - accuracy: 0.8718 - val_loss: 0.2495 - val_accuracy: 0.9009\n",
      "Epoch 3/80\n",
      "22/22 [==============================] - 58s 3s/step - loss: 0.1587 - accuracy: 0.9406 - val_loss: 0.1629 - val_accuracy: 0.9419\n",
      "Epoch 4/80\n",
      "22/22 [==============================] - 42s 2s/step - loss: 0.0784 - accuracy: 0.9746 - val_loss: 0.1599 - val_accuracy: 0.9414\n",
      "Epoch 5/80\n",
      "22/22 [==============================] - 44s 2s/step - loss: 0.0527 - accuracy: 0.9850 - val_loss: 0.1571 - val_accuracy: 0.9452\n",
      "Epoch 6/80\n",
      "22/22 [==============================] - 42s 2s/step - loss: 0.0582 - accuracy: 0.9827 - val_loss: 0.1653 - val_accuracy: 0.9435\n",
      "Epoch 7/80\n",
      "22/22 [==============================] - 41s 2s/step - loss: 0.0465 - accuracy: 0.9847 - val_loss: 0.1633 - val_accuracy: 0.9469\n",
      "Epoch 8/80\n",
      "22/22 [==============================] - 41s 2s/step - loss: 0.0433 - accuracy: 0.9854 - val_loss: 0.1669 - val_accuracy: 0.9444\n",
      "Epoch 9/80\n",
      "22/22 [==============================] - 41s 2s/step - loss: 0.0379 - accuracy: 0.9850 - val_loss: 0.1778 - val_accuracy: 0.9414\n",
      "Epoch 10/80\n",
      "22/22 [==============================] - 40s 2s/step - loss: 0.0381 - accuracy: 0.9858 - val_loss: 0.1769 - val_accuracy: 0.9431\n",
      "Epoch 11/80\n",
      "22/22 [==============================] - 41s 2s/step - loss: 0.0461 - accuracy: 0.9856 - val_loss: 0.1747 - val_accuracy: 0.9423\n",
      "Epoch 12/80\n",
      "22/22 [==============================] - 44s 2s/step - loss: 0.0428 - accuracy: 0.9854 - val_loss: 0.1817 - val_accuracy: 0.9414\n",
      "Epoch 13/80\n",
      "22/22 [==============================] - 40s 2s/step - loss: 0.0359 - accuracy: 0.9850 - val_loss: 0.1961 - val_accuracy: 0.9431\n",
      "Epoch 14/80\n",
      "22/22 [==============================] - 45s 2s/step - loss: 0.0348 - accuracy: 0.9862 - val_loss: 0.1987 - val_accuracy: 0.9406\n",
      "Epoch 15/80\n",
      "22/22 [==============================] - 51s 2s/step - loss: 0.0326 - accuracy: 0.9856 - val_loss: 0.1959 - val_accuracy: 0.9419\n",
      "Epoch 16/80\n",
      "22/22 [==============================] - 44s 2s/step - loss: 0.0341 - accuracy: 0.9858 - val_loss: 0.1882 - val_accuracy: 0.9414\n",
      "Epoch 17/80\n",
      "22/22 [==============================] - 43s 2s/step - loss: 0.0336 - accuracy: 0.9847 - val_loss: 0.1849 - val_accuracy: 0.9394\n",
      "Epoch 18/80\n",
      "22/22 [==============================] - 43s 2s/step - loss: 0.0333 - accuracy: 0.9870 - val_loss: 0.1869 - val_accuracy: 0.9410\n",
      "Epoch 19/80\n",
      "22/22 [==============================] - 45s 2s/step - loss: 0.0324 - accuracy: 0.9854 - val_loss: 0.1821 - val_accuracy: 0.9440\n",
      "Epoch 20/80\n",
      "22/22 [==============================] - 44s 2s/step - loss: 0.0307 - accuracy: 0.9847 - val_loss: 0.1870 - val_accuracy: 0.9414\n",
      "Epoch 21/80\n",
      "22/22 [==============================] - 46s 2s/step - loss: 0.0348 - accuracy: 0.9852 - val_loss: 0.1976 - val_accuracy: 0.9394\n",
      "Epoch 22/80\n",
      "22/22 [==============================] - 64s 3s/step - loss: 0.0337 - accuracy: 0.9864 - val_loss: 0.1904 - val_accuracy: 0.9435\n",
      "Epoch 23/80\n",
      "22/22 [==============================] - 53s 2s/step - loss: 0.0319 - accuracy: 0.9856 - val_loss: 0.1907 - val_accuracy: 0.9440\n",
      "Epoch 24/80\n",
      "22/22 [==============================] - 48s 2s/step - loss: 0.0296 - accuracy: 0.9864 - val_loss: 0.1886 - val_accuracy: 0.9444\n",
      "Epoch 25/80\n",
      "22/22 [==============================] - 49s 2s/step - loss: 0.0291 - accuracy: 0.9860 - val_loss: 0.1933 - val_accuracy: 0.9406\n",
      "Epoch 26/80\n",
      "22/22 [==============================] - 59s 3s/step - loss: 0.0288 - accuracy: 0.9852 - val_loss: 0.1976 - val_accuracy: 0.9440\n",
      "Epoch 27/80\n",
      "22/22 [==============================] - 50s 2s/step - loss: 0.0279 - accuracy: 0.9866 - val_loss: 0.2138 - val_accuracy: 0.9394\n",
      "Epoch 28/80\n",
      "22/22 [==============================] - 51s 2s/step - loss: 0.0322 - accuracy: 0.9856 - val_loss: 0.2004 - val_accuracy: 0.9414\n",
      "Epoch 29/80\n",
      "22/22 [==============================] - 60s 3s/step - loss: 0.0277 - accuracy: 0.9868 - val_loss: 0.1981 - val_accuracy: 0.9410\n",
      "Epoch 30/80\n",
      "22/22 [==============================] - 50s 2s/step - loss: 0.0262 - accuracy: 0.9852 - val_loss: 0.2074 - val_accuracy: 0.9406\n",
      "Epoch 31/80\n",
      "22/22 [==============================] - 55s 3s/step - loss: 0.0265 - accuracy: 0.9864 - val_loss: 0.2083 - val_accuracy: 0.9410\n",
      "Epoch 32/80\n",
      "22/22 [==============================] - 50s 2s/step - loss: 0.0338 - accuracy: 0.9847 - val_loss: 0.2074 - val_accuracy: 0.9406\n",
      "Epoch 33/80\n",
      "22/22 [==============================] - 51s 2s/step - loss: 0.0315 - accuracy: 0.9858 - val_loss: 0.1908 - val_accuracy: 0.9431\n",
      "Epoch 34/80\n",
      "22/22 [==============================] - 56s 3s/step - loss: 0.0366 - accuracy: 0.9883 - val_loss: 0.2029 - val_accuracy: 0.9431\n",
      "Epoch 35/80\n",
      "22/22 [==============================] - 48s 2s/step - loss: 0.0386 - accuracy: 0.9850 - val_loss: 0.1968 - val_accuracy: 0.9398\n",
      "Epoch 36/80\n",
      "22/22 [==============================] - 49s 2s/step - loss: 0.0311 - accuracy: 0.9880 - val_loss: 0.2013 - val_accuracy: 0.9423\n",
      "Epoch 37/80\n",
      "22/22 [==============================] - 47s 2s/step - loss: 0.0291 - accuracy: 0.9858 - val_loss: 0.2129 - val_accuracy: 0.9352\n",
      "Epoch 38/80\n",
      "22/22 [==============================] - 52s 2s/step - loss: 0.0288 - accuracy: 0.9893 - val_loss: 0.2155 - val_accuracy: 0.9444\n",
      "Epoch 39/80\n",
      "22/22 [==============================] - 53s 2s/step - loss: 0.0304 - accuracy: 0.9872 - val_loss: 0.2221 - val_accuracy: 0.9414\n",
      "Epoch 40/80\n",
      "22/22 [==============================] - 50s 2s/step - loss: 0.0277 - accuracy: 0.9883 - val_loss: 0.2156 - val_accuracy: 0.9414\n",
      "Epoch 41/80\n",
      "22/22 [==============================] - 46s 2s/step - loss: 0.0252 - accuracy: 0.9870 - val_loss: 0.2239 - val_accuracy: 0.9419\n",
      "Epoch 42/80\n",
      "22/22 [==============================] - 50s 2s/step - loss: 0.0262 - accuracy: 0.9876 - val_loss: 0.2175 - val_accuracy: 0.9460\n",
      "Epoch 43/80\n",
      "22/22 [==============================] - 49s 2s/step - loss: 0.0237 - accuracy: 0.9883 - val_loss: 0.2168 - val_accuracy: 0.9431\n",
      "Epoch 44/80\n",
      "22/22 [==============================] - 47s 2s/step - loss: 0.0221 - accuracy: 0.9866 - val_loss: 0.2312 - val_accuracy: 0.9431\n",
      "Epoch 45/80\n",
      "22/22 [==============================] - 48s 2s/step - loss: 0.0259 - accuracy: 0.9856 - val_loss: 0.2227 - val_accuracy: 0.9356\n",
      "Epoch 46/80\n",
      "22/22 [==============================] - 48s 2s/step - loss: 0.0236 - accuracy: 0.9870 - val_loss: 0.2424 - val_accuracy: 0.9427\n",
      "Epoch 47/80\n",
      "22/22 [==============================] - 44s 2s/step - loss: 0.0208 - accuracy: 0.9864 - val_loss: 0.2459 - val_accuracy: 0.9440\n",
      "Epoch 48/80\n",
      "22/22 [==============================] - 44s 2s/step - loss: 0.0214 - accuracy: 0.9870 - val_loss: 0.2459 - val_accuracy: 0.9402\n",
      "Epoch 49/80\n",
      "22/22 [==============================] - 47s 2s/step - loss: 0.0211 - accuracy: 0.9870 - val_loss: 0.2500 - val_accuracy: 0.9427\n",
      "Epoch 50/80\n",
      "22/22 [==============================] - 45s 2s/step - loss: 0.0189 - accuracy: 0.9880 - val_loss: 0.2695 - val_accuracy: 0.9440\n",
      "Epoch 51/80\n",
      "22/22 [==============================] - 41s 2s/step - loss: 0.0190 - accuracy: 0.9885 - val_loss: 0.2731 - val_accuracy: 0.9444\n",
      "Epoch 52/80\n",
      "22/22 [==============================] - 43s 2s/step - loss: 0.0189 - accuracy: 0.9889 - val_loss: 0.2773 - val_accuracy: 0.9452\n",
      "Epoch 53/80\n",
      "22/22 [==============================] - 43s 2s/step - loss: 0.0191 - accuracy: 0.9866 - val_loss: 0.2816 - val_accuracy: 0.9435\n",
      "Epoch 54/80\n",
      "22/22 [==============================] - 40s 2s/step - loss: 0.0188 - accuracy: 0.9885 - val_loss: 0.2886 - val_accuracy: 0.9423\n",
      "Epoch 55/80\n",
      "22/22 [==============================] - 41s 2s/step - loss: 0.0198 - accuracy: 0.9895 - val_loss: 0.2857 - val_accuracy: 0.9465\n",
      "Epoch 56/80\n",
      "22/22 [==============================] - 42s 2s/step - loss: 0.0195 - accuracy: 0.9872 - val_loss: 0.2764 - val_accuracy: 0.9427\n",
      "Epoch 57/80\n",
      "22/22 [==============================] - 41s 2s/step - loss: 0.0186 - accuracy: 0.9876 - val_loss: 0.2851 - val_accuracy: 0.9427\n",
      "Epoch 58/80\n",
      "22/22 [==============================] - 41s 2s/step - loss: 0.0185 - accuracy: 0.9883 - val_loss: 0.2908 - val_accuracy: 0.9423\n",
      "Epoch 59/80\n",
      "22/22 [==============================] - 40s 2s/step - loss: 0.0191 - accuracy: 0.9895 - val_loss: 0.2710 - val_accuracy: 0.9406\n",
      "Epoch 60/80\n",
      "22/22 [==============================] - 41s 2s/step - loss: 0.0190 - accuracy: 0.9874 - val_loss: 0.2801 - val_accuracy: 0.9414\n",
      "Epoch 61/80\n",
      "22/22 [==============================] - 45s 2s/step - loss: 0.0186 - accuracy: 0.9876 - val_loss: 0.2903 - val_accuracy: 0.9431\n",
      "Epoch 62/80\n",
      "22/22 [==============================] - 51s 2s/step - loss: 0.0181 - accuracy: 0.9885 - val_loss: 0.2989 - val_accuracy: 0.9431\n",
      "Epoch 63/80\n",
      "22/22 [==============================] - 49s 2s/step - loss: 0.0184 - accuracy: 0.9887 - val_loss: 0.3005 - val_accuracy: 0.9435\n",
      "Epoch 64/80\n",
      "22/22 [==============================] - 45s 2s/step - loss: 0.0187 - accuracy: 0.9887 - val_loss: 0.2961 - val_accuracy: 0.9456\n",
      "Epoch 65/80\n",
      "22/22 [==============================] - 52s 2s/step - loss: 0.0182 - accuracy: 0.9880 - val_loss: 0.2990 - val_accuracy: 0.9440\n",
      "Epoch 66/80\n",
      "22/22 [==============================] - 50s 2s/step - loss: 0.0186 - accuracy: 0.9880 - val_loss: 0.3043 - val_accuracy: 0.9435\n",
      "Epoch 67/80\n",
      "22/22 [==============================] - 48s 2s/step - loss: 0.0182 - accuracy: 0.9903 - val_loss: 0.3095 - val_accuracy: 0.9431\n",
      "Epoch 68/80\n",
      "22/22 [==============================] - 49s 2s/step - loss: 0.0182 - accuracy: 0.9895 - val_loss: 0.3187 - val_accuracy: 0.9440\n",
      "Epoch 69/80\n",
      "22/22 [==============================] - 42s 2s/step - loss: 0.0184 - accuracy: 0.9880 - val_loss: 0.3121 - val_accuracy: 0.9440\n",
      "Epoch 70/80\n",
      "22/22 [==============================] - 41s 2s/step - loss: 0.0186 - accuracy: 0.9883 - val_loss: 0.3100 - val_accuracy: 0.9423\n",
      "Epoch 71/80\n",
      "22/22 [==============================] - 41s 2s/step - loss: 0.0188 - accuracy: 0.9889 - val_loss: 0.2943 - val_accuracy: 0.9448\n",
      "Epoch 72/80\n",
      "22/22 [==============================] - 43s 2s/step - loss: 0.0183 - accuracy: 0.9895 - val_loss: 0.2983 - val_accuracy: 0.9410\n",
      "Epoch 73/80\n",
      "22/22 [==============================] - 41s 2s/step - loss: 0.0179 - accuracy: 0.9897 - val_loss: 0.3087 - val_accuracy: 0.9414\n",
      "Epoch 74/80\n",
      "22/22 [==============================] - 41s 2s/step - loss: 0.0181 - accuracy: 0.9891 - val_loss: 0.3111 - val_accuracy: 0.9419\n",
      "Epoch 75/80\n",
      "22/22 [==============================] - 43s 2s/step - loss: 0.0183 - accuracy: 0.9893 - val_loss: 0.3132 - val_accuracy: 0.9435\n",
      "Epoch 76/80\n",
      "22/22 [==============================] - 48s 2s/step - loss: 0.0184 - accuracy: 0.9876 - val_loss: 0.3197 - val_accuracy: 0.9431\n",
      "Epoch 77/80\n",
      "22/22 [==============================] - 43s 2s/step - loss: 0.0177 - accuracy: 0.9899 - val_loss: 0.3229 - val_accuracy: 0.9414\n",
      "Epoch 78/80\n",
      "22/22 [==============================] - 41s 2s/step - loss: 0.0191 - accuracy: 0.9872 - val_loss: 0.3090 - val_accuracy: 0.9440\n",
      "Epoch 79/80\n",
      "22/22 [==============================] - 44s 2s/step - loss: 0.0184 - accuracy: 0.9891 - val_loss: 0.3169 - val_accuracy: 0.9398\n",
      "Epoch 80/80\n",
      "22/22 [==============================] - 42s 2s/step - loss: 0.0183 - accuracy: 0.9893 - val_loss: 0.3192 - val_accuracy: 0.9440\n"
     ]
    },
    {
     "data": {
      "text/plain": [
       "'checkpoint_recode_tensorboard/ckpt_manager/ckpt-1'"
      ]
     },
     "execution_count": 16,
     "metadata": {},
     "output_type": "execute_result"
    }
   ],
   "source": [
    "Dcnn.fit(train_inputs, train_labels,\n",
    "         validation_data=(test_inputs, test_labels),\n",
    "         batch_size=BATCH_SIZE,\n",
    "         epochs=NB_EPOCHS,\n",
    "         callbacks=[tensorboard_callback])\n",
    "ckpt_manager.save()"
   ]
  },
  {
   "cell_type": "markdown",
   "id": "7ae6fbb4-43be-400f-ab15-9b3175560113",
   "metadata": {},
   "source": [
    "### Stage 5: Tensorboard"
   ]
  },
  {
   "cell_type": "markdown",
   "id": "cf4e2d89-7c7a-4173-842d-a784315a9ac7",
   "metadata": {},
   "source": [
    "#### (1) Call Tensorboard from Local"
   ]
  },
  {
   "cell_type": "code",
   "execution_count": 17,
   "id": "954b4e59-802a-4038-b17d-9285d97c31c8",
   "metadata": {
    "execution": {
     "iopub.execute_input": "2021-07-09T12:55:28.740210Z",
     "iopub.status.busy": "2021-07-09T12:55:28.740021Z",
     "iopub.status.idle": "2021-07-09T12:55:28.759445Z",
     "shell.execute_reply": "2021-07-09T12:55:28.758969Z",
     "shell.execute_reply.started": "2021-07-09T12:55:28.740190Z"
    }
   },
   "outputs": [
    {
     "data": {
      "text/plain": [
       "Reusing TensorBoard on port 6006 (pid 19547), started 14:36:44 ago. (Use '!kill 19547' to kill it.)"
      ]
     },
     "metadata": {},
     "output_type": "display_data"
    },
    {
     "data": {
      "text/html": [
       "\n",
       "      <iframe id=\"tensorboard-frame-9f9f26b7bd83e87e\" width=\"100%\" height=\"800\" frameborder=\"0\">\n",
       "      </iframe>\n",
       "      <script>\n",
       "        (function() {\n",
       "          const frame = document.getElementById(\"tensorboard-frame-9f9f26b7bd83e87e\");\n",
       "          const url = new URL(\"/\", window.location);\n",
       "          const port = 6006;\n",
       "          if (port) {\n",
       "            url.port = port;\n",
       "          }\n",
       "          frame.src = url;\n",
       "        })();\n",
       "      </script>\n",
       "    "
      ],
      "text/plain": [
       "<IPython.core.display.HTML object>"
      ]
     },
     "metadata": {},
     "output_type": "display_data"
    }
   ],
   "source": [
    "%load_ext tensorboard\n",
    "\n",
    "%tensorboard --logdir logs/fit"
   ]
  },
  {
   "cell_type": "markdown",
   "id": "b9d58ba1-90f8-459a-a160-a2cc297abd46",
   "metadata": {},
   "source": [
    "#### (2) Upload Pre-run Data to Tensorboard.dev\n"
   ]
  },
  {
   "cell_type": "code",
   "execution_count": null,
   "id": "684949a0-a128-40df-8c6d-4329fc52ff33",
   "metadata": {},
   "outputs": [],
   "source": [
    "tensorboard dev upload --logdir \\\n",
    "    'logs/fit'"
   ]
  },
  {
   "cell_type": "markdown",
   "id": "5d35cb76-7423-46d5-b982-9abf29c27d5c",
   "metadata": {},
   "source": [
    "#### (2) Re name\n"
   ]
  },
  {
   "cell_type": "code",
   "execution_count": null,
   "id": "d1d14684-bc0e-4e93-bfc5-68af3dca871d",
   "metadata": {
    "tags": []
   },
   "outputs": [],
   "source": [
    "tensorboard dev update-metadata --experiment_id ************** \\\n",
    "--name \"PorkCNN 🐖🐖🐖\" --description \"A Small Project for Pork Barrel Legislation  Classification Using Convolutional Neural Networks \"\n",
    "\n"
   ]
  },
  {
   "cell_type": "code",
   "execution_count": null,
   "id": "d09e9ff4-9b14-4c5a-8390-b312bcfc299b",
   "metadata": {},
   "outputs": [],
   "source": []
  }
 ],
 "metadata": {
  "kernelspec": {
   "display_name": "Python 3",
   "language": "python",
   "name": "python3"
  },
  "language_info": {
   "codemirror_mode": {
    "name": "ipython",
    "version": 3
   },
   "file_extension": ".py",
   "mimetype": "text/x-python",
   "name": "python",
   "nbconvert_exporter": "python",
   "pygments_lexer": "ipython3",
   "version": "3.8.8"
  }
 },
 "nbformat": 4,
 "nbformat_minor": 5
}
