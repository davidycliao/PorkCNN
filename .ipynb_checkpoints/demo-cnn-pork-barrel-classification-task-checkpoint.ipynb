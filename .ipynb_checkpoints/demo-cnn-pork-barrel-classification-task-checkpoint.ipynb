{
 "cells": [
  {
   "cell_type": "markdown",
   "id": "b65dfbdc-bb80-4bd4-8248-dd06483222cd",
   "metadata": {},
   "source": [
    "# Lour's Pork Barrel Classifier (羅老師肉桶文本分類器)🐖\n",
    "## Convolutional Neural Networks for Pork Barrel Project Classification "
   ]
  },
  {
   "cell_type": "markdown",
   "id": "e8005d5a-f938-4c26-86d5-592408152d08",
   "metadata": {},
   "source": [
    "-------------------------\n",
    "\n",
    "### Stage 1: Libaries & Dependencies"
   ]
  },
  {
   "cell_type": "code",
   "execution_count": 1,
   "id": "6ca92ba3-7480-418f-91e0-d2beea2d10af",
   "metadata": {
    "execution": {
     "iopub.execute_input": "2021-05-19T21:34:06.034820Z",
     "iopub.status.busy": "2021-05-19T21:34:06.034611Z",
     "iopub.status.idle": "2021-05-19T21:34:09.310519Z",
     "shell.execute_reply": "2021-05-19T21:34:09.309939Z",
     "shell.execute_reply.started": "2021-05-19T21:34:06.034767Z"
    },
    "tags": []
   },
   "outputs": [],
   "source": [
    "# built-in library\n",
    "import math\n",
    "import re\n",
    "import collections\n",
    "import zipfile\n",
    "from itertools import chain\n",
    "\n",
    "# ML & Deep Learning/ NLP toolkit\n",
    "import pandas as pd\n",
    "import numpy as np\n",
    "import jieba\n",
    "from sklearn.model_selection import train_test_split\n",
    "import tensorflow as tf\n",
    "from tensorflow.keras import layers\n",
    "import tensorflow_datasets as tfds\n",
    "from tensorflow.keras.callbacks import EarlyStopping,TensorBoard\n",
    "\n",
    "# Visualization\n",
    "import matplotlib.pyplot as plt\n",
    "import seaborn as sns"
   ]
  },
  {
   "cell_type": "markdown",
   "id": "8bd77e05-355a-422f-87db-2cf77cba3bdd",
   "metadata": {},
   "source": [
    "-------------------------\n",
    "\n",
    "### Stage 2: Data Preprocessing"
   ]
  },
  {
   "cell_type": "markdown",
   "id": "3b57b9c9-443e-4e26-bda2-15f6877845d5",
   "metadata": {},
   "source": [
    "#### (1) Read file "
   ]
  },
  {
   "cell_type": "code",
   "execution_count": 2,
   "id": "e1973cfb-73d4-4717-a67a-a4e8a0c9edb0",
   "metadata": {
    "execution": {
     "iopub.execute_input": "2021-05-19T21:34:09.312063Z",
     "iopub.status.busy": "2021-05-19T21:34:09.311908Z",
     "iopub.status.idle": "2021-05-19T21:34:09.340101Z",
     "shell.execute_reply": "2021-05-19T21:34:09.339174Z",
     "shell.execute_reply.started": "2021-05-19T21:34:09.312046Z"
    },
    "tags": []
   },
   "outputs": [],
   "source": [
    "# read file\n",
    "df = pd.read_csv('data/Pork Bill - 20210519.csv',encoding='utf-8')\n",
    "\n",
    "# combine abstract of bill and title \n",
    "df['text'] =  df['Title'] + df['Content'].fillna(df['Title'])\n",
    "\n",
    "# drop conten without having any characters\n",
    "# view na's row: df[df['text'].isnull()==True]\n",
    "data = df[['text', 'pork_bill']].dropna(subset=['text'])"
   ]
  },
  {
   "cell_type": "code",
   "execution_count": 3,
   "id": "f6160785-9522-4404-8f77-6df941869cde",
   "metadata": {
    "execution": {
     "iopub.execute_input": "2021-05-19T21:34:09.341775Z",
     "iopub.status.busy": "2021-05-19T21:34:09.341356Z",
     "iopub.status.idle": "2021-05-19T21:34:09.349508Z",
     "shell.execute_reply": "2021-05-19T21:34:09.348570Z",
     "shell.execute_reply.started": "2021-05-19T21:34:09.341738Z"
    },
    "tags": []
   },
   "outputs": [
    {
     "name": "stdout",
     "output_type": "stream",
     "text": [
      " Pork Legislation 1418 \n",
      " None-Pork Legislation 2602\n"
     ]
    }
   ],
   "source": [
    "print(\" Pork Legislation\", data['pork_bill'].value_counts()[1],'\\n', \n",
    "      \"None-Pork Legislation\", data['pork_bill'].value_counts()[0])"
   ]
  },
  {
   "cell_type": "markdown",
   "id": "5e6d677d-e200-40e6-9252-130eb02fc682",
   "metadata": {
    "execution": {
     "iopub.execute_input": "2021-05-16T17:01:03.001989Z",
     "iopub.status.busy": "2021-05-16T17:01:03.001801Z",
     "iopub.status.idle": "2021-05-16T17:01:03.004600Z",
     "shell.execute_reply": "2021-05-16T17:01:03.003789Z",
     "shell.execute_reply.started": "2021-05-16T17:01:03.001969Z"
    }
   },
   "source": [
    "#### (2) Tokenization"
   ]
  },
  {
   "cell_type": "code",
   "execution_count": 4,
   "id": "120e8b54-7f75-4ca6-a0d0-9872b1522e8e",
   "metadata": {
    "execution": {
     "iopub.execute_input": "2021-05-19T21:34:09.351571Z",
     "iopub.status.busy": "2021-05-19T21:34:09.351286Z",
     "iopub.status.idle": "2021-05-19T21:34:09.359846Z",
     "shell.execute_reply": "2021-05-19T21:34:09.358540Z",
     "shell.execute_reply.started": "2021-05-19T21:34:09.351540Z"
    },
    "tags": []
   },
   "outputs": [],
   "source": [
    "import collections\n",
    "import numpy as np\n",
    "import jieba\n",
    "from itertools import chain\n",
    "\n",
    "\n",
    "def jieba_cut(filename):\n",
    "    \"\"\"\n",
    "    cut Chinese and remove stop words\n",
    "    Reference: https://www.cnblogs.com/Luv-GEM/p/10836454.html\n",
    "    Stopwords: https://www.kaggle.com/rikdifos/english-and-chinese-stopwords?select=cn_stopwords.txt\n",
    "    \"\"\"\n",
    "    stop_list = [i.strip() for i in open('cn_stopwords.txt','r',encoding='utf-8')]  \n",
    "    news_cut = []\n",
    "    news_list = []\n",
    "    for line in filename:    \n",
    "        if line:\n",
    "            news_cut = list(jieba.cut(''.join(line),cut_all=False,HMM=True))  \n",
    "            news_list.append([word.strip() for word in news_cut if word not in stop_list and len(word.strip())>0]) \n",
    "    news_list = list(chain.from_iterable(news_list))  \n",
    "    return news_list\n",
    "\n",
    "def clearPucts(context):\n",
    "    \"\"\"\n",
    "    remove punctuation\n",
    "    ref: https://chenyuzuoo.github.io/posts/28001/\n",
    "    \"\"\"\n",
    "    context = re.sub(\"[\\s+\\.\\!\\/_,$%^*(+\\\"\\']+|[+——！，。？、~@#￥%……&*（）]+\", \"\", context)\n",
    "    context = re.sub(\"[【】╮╯▽╰╭★→「」]+\",\"\", context)\n",
    "    context = re.sub(\"！，❤。～《》：（）【】「」？”“；：、\",\"\",context)\n",
    "    context = re.sub(\"\\s\",\"\",context)\n",
    "    return context\n",
    "\n",
    "def seg_char(sent):\n",
    "    \"\"\"\n",
    "    cut Chinese and remove stop words\n",
    "    ref: https://blog.csdn.net/renyuanfang/article/details/86487367\n",
    "    \"\"\"\n",
    "    # split\n",
    "    pattern_char_1 = re.compile(r'([\\W])')\n",
    "    parts = pattern_char_1.split(sent)\n",
    "    parts = [p for p in parts if len(p.strip())>0]\n",
    "    # cut sentence\n",
    "    pattern = re.compile(r'([\\u4e00-\\u9fa5])')\n",
    "    chars = pattern.split(sent)\n",
    "    chars = [w for w in chars if len(w.strip())>0]\n",
    "    chars = ' '.join(chars)\n",
    "    return chars\n",
    "\n",
    "# import spacy\n",
    "# # python3 -m spacy download zh_core_web_sm\n",
    "# spacy_nlp = spacy.load(\"zh_core_web_sm\")\n",
    "\n",
    "# data_clean = [clearPucts(text) for text in data.text]\n",
    "# data_clean = [[spacy_nlp(sentence).vector for sentence in data] for data in data_clean]"
   ]
  },
  {
   "cell_type": "code",
   "execution_count": 5,
   "id": "25f4277c-001d-47a4-81d0-f5ac5ec5e5d3",
   "metadata": {
    "execution": {
     "iopub.execute_input": "2021-05-19T21:34:09.362042Z",
     "iopub.status.busy": "2021-05-19T21:34:09.361584Z",
     "iopub.status.idle": "2021-05-19T21:34:10.325785Z",
     "shell.execute_reply": "2021-05-19T21:34:10.325052Z",
     "shell.execute_reply.started": "2021-05-19T21:34:09.361938Z"
    },
    "tags": []
   },
   "outputs": [],
   "source": [
    "data_clean = [seg_char(text) for text in [clearPucts(text) for text in data.text]]\n",
    "\n",
    "tokenizer = tfds.deprecated.text.SubwordTextEncoder.build_from_corpus(\n",
    "    data_clean, target_vocab_size=2**18)\n",
    "\n",
    "data_inputs = [tokenizer.encode(sentence) for sentence in data_clean]"
   ]
  },
  {
   "cell_type": "markdown",
   "id": "089e65af-e49c-4d60-962e-a0a826809aa5",
   "metadata": {
    "execution": {
     "iopub.execute_input": "2021-05-16T17:01:47.611294Z",
     "iopub.status.busy": "2021-05-16T17:01:47.611020Z",
     "iopub.status.idle": "2021-05-16T17:01:47.614208Z",
     "shell.execute_reply": "2021-05-16T17:01:47.613487Z",
     "shell.execute_reply.started": "2021-05-16T17:01:47.611276Z"
    }
   },
   "source": [
    "#### (3) Padding"
   ]
  },
  {
   "cell_type": "code",
   "execution_count": 6,
   "id": "b801d231-972c-47e3-83c4-7375c2e11a18",
   "metadata": {
    "execution": {
     "iopub.execute_input": "2021-05-19T21:34:10.327002Z",
     "iopub.status.busy": "2021-05-19T21:34:10.326846Z",
     "iopub.status.idle": "2021-05-19T21:34:10.354825Z",
     "shell.execute_reply": "2021-05-19T21:34:10.353722Z",
     "shell.execute_reply.started": "2021-05-19T21:34:10.326985Z"
    },
    "tags": []
   },
   "outputs": [],
   "source": [
    "MAX_LEN = max([len(sentence) for sentence in data_clean])\n",
    "data_inputs = tf.keras.preprocessing.sequence.pad_sequences(data_inputs,\n",
    "                                                            value=0,\n",
    "                                                            padding=\"post\",\n",
    "                                                            maxlen=MAX_LEN)\n"
   ]
  },
  {
   "cell_type": "markdown",
   "id": "f69d90cf-ac3c-4e08-b46b-457d9708d832",
   "metadata": {
    "execution": {
     "iopub.execute_input": "2021-05-16T17:02:28.107037Z",
     "iopub.status.busy": "2021-05-16T17:02:28.106843Z",
     "iopub.status.idle": "2021-05-16T17:02:28.109696Z",
     "shell.execute_reply": "2021-05-16T17:02:28.108954Z",
     "shell.execute_reply.started": "2021-05-16T17:02:28.107017Z"
    }
   },
   "source": [
    "#### (4) Spliting Training/ Testing Set"
   ]
  },
  {
   "cell_type": "code",
   "execution_count": 7,
   "id": "42503355-eea3-4602-ae5a-ea18be84b8d1",
   "metadata": {
    "execution": {
     "iopub.execute_input": "2021-05-19T21:34:10.358707Z",
     "iopub.status.busy": "2021-05-19T21:34:10.358563Z",
     "iopub.status.idle": "2021-05-19T21:34:10.361321Z",
     "shell.execute_reply": "2021-05-19T21:34:10.360775Z",
     "shell.execute_reply.started": "2021-05-19T21:34:10.358691Z"
    },
    "tags": []
   },
   "outputs": [],
   "source": [
    "data_labels = data.pork_bill.values"
   ]
  },
  {
   "cell_type": "code",
   "execution_count": 8,
   "id": "19235117-f63a-4e06-a102-6efe98c37dbf",
   "metadata": {
    "execution": {
     "iopub.execute_input": "2021-05-19T21:34:10.365112Z",
     "iopub.status.busy": "2021-05-19T21:34:10.364902Z",
     "iopub.status.idle": "2021-05-19T21:34:10.370478Z",
     "shell.execute_reply": "2021-05-19T21:34:10.369968Z",
     "shell.execute_reply.started": "2021-05-19T21:34:10.365095Z"
    },
    "tags": []
   },
   "outputs": [
    {
     "name": "stdout",
     "output_type": "stream",
     "text": [
      "Shape of X Train: (2693, 133) \n",
      "Shape of X Test : (1327, 133) \n",
      "Shape of Y Trian: (2693,) \n",
      "Shape of Y Test : (1327,)\n"
     ]
    }
   ],
   "source": [
    "import numpy as np\n",
    "from sklearn.model_selection import train_test_split\n",
    "train_inputs, test_inputs, train_labels, test_labels = train_test_split(\n",
    "    data_inputs, data_labels, test_size=0.33, random_state=42)\n",
    "\n",
    "print(\"Shape of X Train:\", train_inputs.shape, '\\n'\n",
    "      \"Shape of X Test :\", test_inputs.shape,'\\n'\n",
    "      \"Shape of Y Trian:\", train_labels.shape , '\\n'\n",
    "      \"Shape of Y Test :\", test_labels.shape )"
   ]
  },
  {
   "cell_type": "code",
   "execution_count": 9,
   "id": "6f10cb5c-7c8d-4e1e-a987-11b8de8e42d0",
   "metadata": {
    "execution": {
     "iopub.execute_input": "2021-05-19T21:34:10.371677Z",
     "iopub.status.busy": "2021-05-19T21:34:10.371455Z",
     "iopub.status.idle": "2021-05-19T21:34:10.375281Z",
     "shell.execute_reply": "2021-05-19T21:34:10.374506Z",
     "shell.execute_reply.started": "2021-05-19T21:34:10.371654Z"
    },
    "tags": []
   },
   "outputs": [
    {
     "name": "stdout",
     "output_type": "stream",
     "text": [
      " Num of Train Set: 2693 \n",
      " Not Pork vs Pork: {0: 1741, 1: 952}\n"
     ]
    }
   ],
   "source": [
    "unique_train_labels, counts_train_labels = np.unique(train_labels, return_counts=True)\n",
    "\n",
    "print(' Num of Train Set:' , train_inputs.shape[0], '\\n'\n",
    "      ,'Not Pork vs Pork:', dict(zip(unique_train_labels, counts_train_labels)))"
   ]
  },
  {
   "cell_type": "code",
   "execution_count": 10,
   "id": "fedad623-02ba-4fad-b0b4-a094de7c39de",
   "metadata": {
    "execution": {
     "iopub.execute_input": "2021-05-19T21:34:10.376615Z",
     "iopub.status.busy": "2021-05-19T21:34:10.376384Z",
     "iopub.status.idle": "2021-05-19T21:34:10.380246Z",
     "shell.execute_reply": "2021-05-19T21:34:10.379676Z",
     "shell.execute_reply.started": "2021-05-19T21:34:10.376593Z"
    },
    "tags": []
   },
   "outputs": [
    {
     "name": "stdout",
     "output_type": "stream",
     "text": [
      " Num of Test Set: 1327 \n",
      " Not Pork vs Pork: {0: 861, 1: 466}\n"
     ]
    }
   ],
   "source": [
    "unique_test_labels, counts_test_labels = np.unique(test_labels, return_counts=True)\n",
    "\n",
    "print(' Num of Test Set:' , test_inputs.shape[0], '\\n'\n",
    "      ,'Not Pork vs Pork:', dict(zip(unique_test_labels, counts_test_labels)))"
   ]
  },
  {
   "cell_type": "markdown",
   "id": "725f7feb-b93b-4d0b-bcbf-562240a79f8b",
   "metadata": {
    "execution": {
     "iopub.execute_input": "2021-05-16T17:04:13.375644Z",
     "iopub.status.busy": "2021-05-16T17:04:13.375440Z",
     "iopub.status.idle": "2021-05-16T17:04:13.378111Z",
     "shell.execute_reply": "2021-05-16T17:04:13.377464Z",
     "shell.execute_reply.started": "2021-05-16T17:04:13.375623Z"
    },
    "tags": []
   },
   "source": [
    "-------------------------\n",
    "\n",
    "\n",
    "### Stage 3: Model and Building"
   ]
  },
  {
   "cell_type": "markdown",
   "id": "4a0e74bf-eaf4-4043-8d23-88291d8ea344",
   "metadata": {
    "execution": {
     "iopub.execute_input": "2021-05-16T17:13:18.807725Z",
     "iopub.status.busy": "2021-05-16T17:13:18.807498Z",
     "iopub.status.idle": "2021-05-16T17:13:18.810574Z",
     "shell.execute_reply": "2021-05-16T17:13:18.809625Z",
     "shell.execute_reply.started": "2021-05-16T17:13:18.807701Z"
    }
   },
   "source": [
    "#### (1) Using the Subclassing API to Build Dynamic Model"
   ]
  },
  {
   "cell_type": "code",
   "execution_count": 11,
   "id": "1f18f9b1-5f4d-4d0a-baf4-2eebed7f34f2",
   "metadata": {
    "execution": {
     "iopub.execute_input": "2021-05-19T21:34:10.381626Z",
     "iopub.status.busy": "2021-05-19T21:34:10.381379Z",
     "iopub.status.idle": "2021-05-19T21:34:10.388155Z",
     "shell.execute_reply": "2021-05-19T21:34:10.387439Z",
     "shell.execute_reply.started": "2021-05-19T21:34:10.381604Z"
    },
    "tags": []
   },
   "outputs": [],
   "source": [
    "class DCNN(tf.keras.Model):\n",
    "    \n",
    "    def __init__(self,\n",
    "                 vocab_size,\n",
    "                 emb_dim=128,\n",
    "                 nb_filters=100,\n",
    "                 FFN_units=512,\n",
    "                 nb_classes=2,\n",
    "                 dropout_rate=0.1,\n",
    "                 training=False,\n",
    "                 name=\"dcnn\"):\n",
    "        super(DCNN, self).__init__(name=name)\n",
    "        \n",
    "        self.embedding = layers.Embedding(vocab_size, \n",
    "                                          emb_dim)\n",
    "        self.bigram = layers.Conv1D(filters=nb_filters, \n",
    "                                    kernel_size=2,\n",
    "                                    padding=\"valid\",\n",
    "                                    activation=\"relu\")\n",
    "        self.trigram = layers.Conv1D(filters=nb_filters,\n",
    "                                     kernel_size=3,\n",
    "                                     padding=\"valid\",\n",
    "                                     activation=\"relu\")\n",
    "        self.fourgram = layers.Conv1D(filters=nb_filters,\n",
    "                                      kernel_size=4,\n",
    "                                      padding=\"valid\",\n",
    "                                      activation=\"relu\")\n",
    "        self.pool = layers.GlobalMaxPool1D() # no training variable so we can\n",
    "                                             # use the same layer for each\n",
    "                                             # pooling step\n",
    "        self.dense_1 = layers.Dense(units=FFN_units, activation=\"relu\")\n",
    "        self.dropout = layers.Dropout(rate=dropout_rate)\n",
    "        self.last_dense = layers.Dense(units=1, activation=\"sigmoid\")\n",
    "    \n",
    "    def call(self, inputs, training):\n",
    "        x = self.embedding(inputs)\n",
    "        x_1 = self.bigram(x)\n",
    "        x_1 = self.pool(x_1)\n",
    "        x_2 = self.trigram(x)\n",
    "        x_2 = self.pool(x_2)\n",
    "        x_3 = self.fourgram(x)\n",
    "        x_3 = self.pool(x_3)\n",
    "        \n",
    "        merged = tf.concat([x_1, x_2, x_3], axis=-1) # (batch_size, 3 * nb_filters)\n",
    "        merged = self.dense_1(merged)\n",
    "        merged = self.dropout(merged, training)\n",
    "        output = self.last_dense(merged)        \n",
    "        return output\n"
   ]
  },
  {
   "cell_type": "code",
   "execution_count": 12,
   "id": "bfc02e93-3a0e-4c1c-b488-b2db98b53824",
   "metadata": {
    "execution": {
     "iopub.execute_input": "2021-05-19T21:34:10.389387Z",
     "iopub.status.busy": "2021-05-19T21:34:10.389133Z",
     "iopub.status.idle": "2021-05-19T21:34:10.410686Z",
     "shell.execute_reply": "2021-05-19T21:34:10.410176Z",
     "shell.execute_reply.started": "2021-05-19T21:34:10.389363Z"
    },
    "tags": []
   },
   "outputs": [],
   "source": [
    "VOCAB_SIZE = 7000   # 5000 tokenizer.vocab_size\n",
    "EMB_DIM = 200\n",
    "NB_FILTERS = 100\n",
    "FFN_UNITS = 256\n",
    "NB_CLASSES = 2 #len(set(train_labels))\n",
    "DROPOUT_RATE = 0.2\n",
    "BATCH_SIZE = 32\n",
    "NB_EPOCHS = 80\n",
    "\n",
    "Dcnn = DCNN(vocab_size=VOCAB_SIZE,\n",
    "            emb_dim=EMB_DIM,\n",
    "            nb_filters=NB_FILTERS,\n",
    "            FFN_units=FFN_UNITS,\n",
    "            nb_classes=NB_CLASSES,\n",
    "            dropout_rate=DROPOUT_RATE)"
   ]
  },
  {
   "cell_type": "markdown",
   "id": "b0ec8f51-6ed8-49fa-9d5e-c6929184bdf1",
   "metadata": {
    "execution": {
     "iopub.execute_input": "2021-05-16T18:43:59.279424Z",
     "iopub.status.busy": "2021-05-16T18:43:59.279202Z",
     "iopub.status.idle": "2021-05-16T18:43:59.282718Z",
     "shell.execute_reply": "2021-05-16T18:43:59.281823Z",
     "shell.execute_reply.started": "2021-05-16T18:43:59.279399Z"
    }
   },
   "source": [
    "#### (2) Compile and Summary of the Model"
   ]
  },
  {
   "cell_type": "code",
   "execution_count": 13,
   "id": "2cce0414-05eb-4f79-9c27-bca9c91a2903",
   "metadata": {
    "execution": {
     "iopub.execute_input": "2021-05-19T21:34:10.411583Z",
     "iopub.status.busy": "2021-05-19T21:34:10.411438Z",
     "iopub.status.idle": "2021-05-19T21:34:10.461792Z",
     "shell.execute_reply": "2021-05-19T21:34:10.461314Z",
     "shell.execute_reply.started": "2021-05-19T21:34:10.411565Z"
    },
    "tags": []
   },
   "outputs": [
    {
     "name": "stdout",
     "output_type": "stream",
     "text": [
      "Model: \"dcnn\"\n",
      "_________________________________________________________________\n",
      "Layer (type)                 Output Shape              Param #   \n",
      "=================================================================\n",
      "embedding (Embedding)        multiple                  1400000   \n",
      "_________________________________________________________________\n",
      "conv1d (Conv1D)              multiple                  40100     \n",
      "_________________________________________________________________\n",
      "conv1d_1 (Conv1D)            multiple                  60100     \n",
      "_________________________________________________________________\n",
      "conv1d_2 (Conv1D)            multiple                  80100     \n",
      "_________________________________________________________________\n",
      "global_max_pooling1d (Global multiple                  0         \n",
      "_________________________________________________________________\n",
      "dense (Dense)                multiple                  77056     \n",
      "_________________________________________________________________\n",
      "dropout (Dropout)            multiple                  0         \n",
      "_________________________________________________________________\n",
      "dense_1 (Dense)              multiple                  257       \n",
      "=================================================================\n",
      "Total params: 1,657,613\n",
      "Trainable params: 1,657,613\n",
      "Non-trainable params: 0\n",
      "_________________________________________________________________\n"
     ]
    }
   ],
   "source": [
    "Dcnn.compile(loss=\"binary_crossentropy\", optimizer=\"adam\", metrics=[\"accuracy\"])\n",
    "Dcnn.build(input_shape = (133 , EMB_DIM)) # (train_inputs.shape[1] , EMB_DIM)\n",
    "Dcnn.summary()"
   ]
  },
  {
   "cell_type": "markdown",
   "id": "3880d2a4-2152-43de-bad3-34e67e97469e",
   "metadata": {
    "tags": []
   },
   "source": [
    "#### (3) Check Point Path"
   ]
  },
  {
   "cell_type": "code",
   "execution_count": 14,
   "id": "e4115bec-233a-4abc-b081-05f526c4687b",
   "metadata": {
    "execution": {
     "iopub.execute_input": "2021-05-19T21:34:10.463002Z",
     "iopub.status.busy": "2021-05-19T21:34:10.462862Z",
     "iopub.status.idle": "2021-05-19T21:34:10.466866Z",
     "shell.execute_reply": "2021-05-19T21:34:10.466266Z",
     "shell.execute_reply.started": "2021-05-19T21:34:10.462984Z"
    },
    "tags": []
   },
   "outputs": [],
   "source": [
    "checkpoint_path = \"checkpoint_recode/ckpt_manager\"\n",
    "\n",
    "ckpt = tf.train.Checkpoint(Dcnn=Dcnn)\n",
    "\n",
    "ckpt_manager = tf.train.CheckpointManager(ckpt, checkpoint_path, max_to_keep=10)\n",
    "\n",
    "if ckpt_manager.latest_checkpoint:\n",
    "    ckpt.restore(ckpt_manager.latest_checkpoint)\n",
    "    print(\"Checkpoint Located!!\")"
   ]
  },
  {
   "cell_type": "markdown",
   "id": "73d70667-275f-40c0-bd71-6b47e9722798",
   "metadata": {
    "execution": {
     "iopub.execute_input": "2021-05-16T17:47:13.442664Z",
     "iopub.status.busy": "2021-05-16T17:47:13.442381Z",
     "iopub.status.idle": "2021-05-16T17:47:13.448371Z",
     "shell.execute_reply": "2021-05-16T17:47:13.446970Z",
     "shell.execute_reply.started": "2021-05-16T17:47:13.442620Z"
    }
   },
   "source": [
    "-------------------------\n",
    "\n",
    "### Stage 4: Train the Model"
   ]
  },
  {
   "cell_type": "code",
   "execution_count": 15,
   "id": "cc975047-5a58-46dc-b427-262796d9b625",
   "metadata": {
    "execution": {
     "iopub.execute_input": "2021-05-19T21:34:10.468026Z",
     "iopub.status.busy": "2021-05-19T21:34:10.467759Z",
     "iopub.status.idle": "2021-05-19T21:34:10.470660Z",
     "shell.execute_reply": "2021-05-19T21:34:10.470002Z",
     "shell.execute_reply.started": "2021-05-19T21:34:10.468004Z"
    },
    "tags": []
   },
   "outputs": [],
   "source": [
    "early_stop = EarlyStopping(monitor='val_loss',patience=5)"
   ]
  },
  {
   "cell_type": "code",
   "execution_count": 16,
   "id": "baf0cade-2c45-43b2-9782-6a8c6e570153",
   "metadata": {
    "execution": {
     "iopub.execute_input": "2021-05-19T21:34:10.471674Z",
     "iopub.status.busy": "2021-05-19T21:34:10.471433Z",
     "iopub.status.idle": "2021-05-19T21:34:38.016920Z",
     "shell.execute_reply": "2021-05-19T21:34:38.016391Z",
     "shell.execute_reply.started": "2021-05-19T21:34:10.471656Z"
    },
    "tags": []
   },
   "outputs": [
    {
     "name": "stdout",
     "output_type": "stream",
     "text": [
      "Epoch 1/80\n",
      "85/85 [==============================] - 5s 47ms/step - loss: 0.3825 - accuracy: 0.8180 - val_loss: 0.1609 - val_accuracy: 0.9472\n",
      "Epoch 2/80\n",
      "85/85 [==============================] - 4s 46ms/step - loss: 0.0817 - accuracy: 0.9751 - val_loss: 0.1186 - val_accuracy: 0.9638\n",
      "Epoch 3/80\n",
      "85/85 [==============================] - 4s 48ms/step - loss: 0.0255 - accuracy: 0.9941 - val_loss: 0.1234 - val_accuracy: 0.9638\n",
      "Epoch 4/80\n",
      "85/85 [==============================] - 4s 44ms/step - loss: 0.0173 - accuracy: 0.9967 - val_loss: 0.1247 - val_accuracy: 0.9661\n",
      "Epoch 5/80\n",
      "85/85 [==============================] - 4s 43ms/step - loss: 0.0198 - accuracy: 0.9970 - val_loss: 0.1512 - val_accuracy: 0.9638\n",
      "Epoch 6/80\n",
      "85/85 [==============================] - 4s 44ms/step - loss: 0.0148 - accuracy: 0.9978 - val_loss: 0.1274 - val_accuracy: 0.9668\n",
      "Epoch 7/80\n",
      "85/85 [==============================] - 4s 44ms/step - loss: 0.0096 - accuracy: 0.9981 - val_loss: 0.1241 - val_accuracy: 0.9676\n"
     ]
    },
    {
     "data": {
      "text/plain": [
       "'checkpoint_recode/ckpt_manager/ckpt-1'"
      ]
     },
     "execution_count": 16,
     "metadata": {},
     "output_type": "execute_result"
    }
   ],
   "source": [
    "Dcnn.fit(train_inputs,\n",
    "         train_labels,\n",
    "         validation_data=(test_inputs, test_labels),\n",
    "         batch_size=BATCH_SIZE,\n",
    "         epochs=NB_EPOCHS,\n",
    "         callbacks=[early_stop])\n",
    "ckpt_manager.save()"
   ]
  },
  {
   "cell_type": "markdown",
   "id": "3b0ac256-ab81-4ff5-8430-48f8bba50126",
   "metadata": {
    "execution": {
     "iopub.execute_input": "2021-05-16T18:23:25.926977Z",
     "iopub.status.busy": "2021-05-16T18:23:25.926754Z",
     "iopub.status.idle": "2021-05-16T18:23:25.931072Z",
     "shell.execute_reply": "2021-05-16T18:23:25.930041Z",
     "shell.execute_reply.started": "2021-05-16T18:23:25.926952Z"
    }
   },
   "source": [
    "-------------------------\n",
    "\n",
    "### Stage 5: Evaluation"
   ]
  },
  {
   "cell_type": "code",
   "execution_count": 17,
   "id": "58099cc1-19e0-443a-b960-7ae4d67344d3",
   "metadata": {
    "execution": {
     "iopub.execute_input": "2021-05-19T21:34:38.018065Z",
     "iopub.status.busy": "2021-05-19T21:34:38.017901Z",
     "iopub.status.idle": "2021-05-19T21:34:38.027967Z",
     "shell.execute_reply": "2021-05-19T21:34:38.027470Z",
     "shell.execute_reply.started": "2021-05-19T21:34:38.018047Z"
    },
    "tags": []
   },
   "outputs": [
    {
     "data": {
      "text/html": [
       "<div>\n",
       "<style scoped>\n",
       "    .dataframe tbody tr th:only-of-type {\n",
       "        vertical-align: middle;\n",
       "    }\n",
       "\n",
       "    .dataframe tbody tr th {\n",
       "        vertical-align: top;\n",
       "    }\n",
       "\n",
       "    .dataframe thead th {\n",
       "        text-align: right;\n",
       "    }\n",
       "</style>\n",
       "<table border=\"1\" class=\"dataframe\">\n",
       "  <thead>\n",
       "    <tr style=\"text-align: right;\">\n",
       "      <th></th>\n",
       "      <th>loss</th>\n",
       "      <th>accuracy</th>\n",
       "      <th>val_loss</th>\n",
       "      <th>val_accuracy</th>\n",
       "    </tr>\n",
       "  </thead>\n",
       "  <tbody>\n",
       "    <tr>\n",
       "      <th>0</th>\n",
       "      <td>0.382547</td>\n",
       "      <td>0.818047</td>\n",
       "      <td>0.160920</td>\n",
       "      <td>0.947249</td>\n",
       "    </tr>\n",
       "    <tr>\n",
       "      <th>1</th>\n",
       "      <td>0.081730</td>\n",
       "      <td>0.975121</td>\n",
       "      <td>0.118627</td>\n",
       "      <td>0.963828</td>\n",
       "    </tr>\n",
       "    <tr>\n",
       "      <th>2</th>\n",
       "      <td>0.025506</td>\n",
       "      <td>0.994059</td>\n",
       "      <td>0.123439</td>\n",
       "      <td>0.963828</td>\n",
       "    </tr>\n",
       "    <tr>\n",
       "      <th>3</th>\n",
       "      <td>0.017322</td>\n",
       "      <td>0.996658</td>\n",
       "      <td>0.124735</td>\n",
       "      <td>0.966089</td>\n",
       "    </tr>\n",
       "    <tr>\n",
       "      <th>4</th>\n",
       "      <td>0.019838</td>\n",
       "      <td>0.997029</td>\n",
       "      <td>0.151229</td>\n",
       "      <td>0.963828</td>\n",
       "    </tr>\n",
       "    <tr>\n",
       "      <th>5</th>\n",
       "      <td>0.014844</td>\n",
       "      <td>0.997772</td>\n",
       "      <td>0.127444</td>\n",
       "      <td>0.966842</td>\n",
       "    </tr>\n",
       "    <tr>\n",
       "      <th>6</th>\n",
       "      <td>0.009641</td>\n",
       "      <td>0.998143</td>\n",
       "      <td>0.124088</td>\n",
       "      <td>0.967596</td>\n",
       "    </tr>\n",
       "  </tbody>\n",
       "</table>\n",
       "</div>"
      ],
      "text/plain": [
       "       loss  accuracy  val_loss  val_accuracy\n",
       "0  0.382547  0.818047  0.160920      0.947249\n",
       "1  0.081730  0.975121  0.118627      0.963828\n",
       "2  0.025506  0.994059  0.123439      0.963828\n",
       "3  0.017322  0.996658  0.124735      0.966089\n",
       "4  0.019838  0.997029  0.151229      0.963828\n",
       "5  0.014844  0.997772  0.127444      0.966842\n",
       "6  0.009641  0.998143  0.124088      0.967596"
      ]
     },
     "execution_count": 17,
     "metadata": {},
     "output_type": "execute_result"
    }
   ],
   "source": [
    "losses = pd.DataFrame(Dcnn.history.history)\n",
    "losses"
   ]
  },
  {
   "cell_type": "markdown",
   "id": "8093326d-b6b8-4a35-9b0f-124ad3fecd8c",
   "metadata": {},
   "source": [
    "##### Too much overfitting due toless validation set ⚠️⚠️⚠️⚠️"
   ]
  },
  {
   "cell_type": "code",
   "execution_count": 18,
   "id": "f37a760f-b388-4051-a78d-295bce1f214a",
   "metadata": {
    "execution": {
     "iopub.execute_input": "2021-05-19T21:34:38.028855Z",
     "iopub.status.busy": "2021-05-19T21:34:38.028685Z",
     "iopub.status.idle": "2021-05-19T21:34:38.303872Z",
     "shell.execute_reply": "2021-05-19T21:34:38.303361Z",
     "shell.execute_reply.started": "2021-05-19T21:34:38.028829Z"
    },
    "tags": []
   },
   "outputs": [
    {
     "data": {
      "text/plain": [
       "<AxesSubplot:>"
      ]
     },
     "execution_count": 18,
     "metadata": {},
     "output_type": "execute_result"
    },
    {
     "data": {
      "image/png": "[encoded data removed]",
      "text/plain": [
       "<Figure size 432x288 with 1 Axes>"
      ]
     },
     "metadata": {
      "needs_background": "light"
     },
     "output_type": "display_data"
    },
    {
     "data": {
      "image/png": "[encoded data removed]",
      "text/plain": [
       "<Figure size 432x288 with 1 Axes>"
      ]
     },
     "metadata": {
      "needs_background": "light"
     },
     "output_type": "display_data"
    }
   ],
   "source": [
    "losses[['accuracy','val_accuracy']].plot()\n",
    "losses[['loss','val_loss']].plot()"
   ]
  },
  {
   "cell_type": "code",
   "execution_count": 19,
   "id": "44300a6c-8da8-43cd-ada0-208a99b6b9d7",
   "metadata": {
    "execution": {
     "iopub.execute_input": "2021-05-19T21:34:38.305074Z",
     "iopub.status.busy": "2021-05-19T21:34:38.304952Z",
     "iopub.status.idle": "2021-05-19T21:34:38.309274Z",
     "shell.execute_reply": "2021-05-19T21:34:38.308063Z",
     "shell.execute_reply.started": "2021-05-19T21:34:38.305058Z"
    },
    "tags": []
   },
   "outputs": [],
   "source": [
    "from sklearn.metrics import classification_report,confusion_matrix"
   ]
  },
  {
   "cell_type": "code",
   "execution_count": 20,
   "id": "17760825-eb35-4f8c-88a0-45e94387c08d",
   "metadata": {
    "execution": {
     "iopub.execute_input": "2021-05-19T21:34:38.311414Z",
     "iopub.status.busy": "2021-05-19T21:34:38.310974Z",
     "iopub.status.idle": "2021-05-19T21:34:38.567985Z",
     "shell.execute_reply": "2021-05-19T21:34:38.567364Z",
     "shell.execute_reply.started": "2021-05-19T21:34:38.311377Z"
    },
    "tags": []
   },
   "outputs": [
    {
     "name": "stdout",
     "output_type": "stream",
     "text": [
      "42/42 [==============================] - 0s 5ms/step - loss: 0.1241 - accuracy: 0.9676\n",
      "[0.12408772855997086, 0.9675960540771484]\n"
     ]
    }
   ],
   "source": [
    "evaluation_model = Dcnn.evaluate(test_inputs, test_labels, batch_size=BATCH_SIZE)\n",
    "print(evaluation_model)"
   ]
  },
  {
   "cell_type": "code",
   "execution_count": 21,
   "id": "c9a3f93d-4398-418c-b511-69594874cc5a",
   "metadata": {
    "execution": {
     "iopub.execute_input": "2021-05-19T21:34:38.569286Z",
     "iopub.status.busy": "2021-05-19T21:34:38.569004Z",
     "iopub.status.idle": "2021-05-19T21:34:38.871022Z",
     "shell.execute_reply": "2021-05-19T21:34:38.870413Z",
     "shell.execute_reply.started": "2021-05-19T21:34:38.569266Z"
    },
    "tags": []
   },
   "outputs": [
    {
     "name": "stdout",
     "output_type": "stream",
     "text": [
      "              precision    recall  f1-score   support\n",
      "\n",
      "           0       0.97      0.98      0.97       861\n",
      "           1       0.97      0.94      0.95       466\n",
      "\n",
      "    accuracy                           0.97      1327\n",
      "   macro avg       0.97      0.96      0.96      1327\n",
      "weighted avg       0.97      0.97      0.97      1327\n",
      "\n"
     ]
    }
   ],
   "source": [
    "# pd.DataFrame(confusion_matrix(test_labels,predictions))\n",
    "predictions = Dcnn.predict(test_inputs)\n",
    "predictions = np.where(predictions >0.8 , 1, 0)\n",
    "print(classification_report(test_labels, predictions))"
   ]
  },
  {
   "cell_type": "code",
   "execution_count": 22,
   "id": "4767688b-bfc8-4dc4-b8ec-2252f7791534",
   "metadata": {
    "execution": {
     "iopub.execute_input": "2021-05-19T21:34:38.872311Z",
     "iopub.status.busy": "2021-05-19T21:34:38.872111Z",
     "iopub.status.idle": "2021-05-19T21:34:38.880202Z",
     "shell.execute_reply": "2021-05-19T21:34:38.879593Z",
     "shell.execute_reply.started": "2021-05-19T21:34:38.872289Z"
    },
    "tags": []
   },
   "outputs": [
    {
     "data": {
      "text/html": [
       "<div>\n",
       "<style scoped>\n",
       "    .dataframe tbody tr th:only-of-type {\n",
       "        vertical-align: middle;\n",
       "    }\n",
       "\n",
       "    .dataframe tbody tr th {\n",
       "        vertical-align: top;\n",
       "    }\n",
       "\n",
       "    .dataframe thead th {\n",
       "        text-align: right;\n",
       "    }\n",
       "</style>\n",
       "<table border=\"1\" class=\"dataframe\">\n",
       "  <thead>\n",
       "    <tr style=\"text-align: right;\">\n",
       "      <th></th>\n",
       "      <th>Predictions: Not Pork(0)</th>\n",
       "      <th>Predictions:Pork(1)</th>\n",
       "    </tr>\n",
       "  </thead>\n",
       "  <tbody>\n",
       "    <tr>\n",
       "      <th>Acutal: Not Pork(0)</th>\n",
       "      <td>846</td>\n",
       "      <td>15</td>\n",
       "    </tr>\n",
       "    <tr>\n",
       "      <th>Acutal: Pork (1)</th>\n",
       "      <td>30</td>\n",
       "      <td>436</td>\n",
       "    </tr>\n",
       "  </tbody>\n",
       "</table>\n",
       "</div>"
      ],
      "text/plain": [
       "                     Predictions: Not Pork(0)  Predictions:Pork(1)\n",
       "Acutal: Not Pork(0)                       846                   15\n",
       "Acutal: Pork (1)                           30                  436"
      ]
     },
     "execution_count": 22,
     "metadata": {},
     "output_type": "execute_result"
    }
   ],
   "source": [
    "t = pd.DataFrame(confusion_matrix(test_labels,predictions), \n",
    "             columns=['Predictions: Not Pork(0)','Predictions:Pork(1)'])\n",
    "t.index = ['Acutal: Not Pork(0)', 'Acutal: Pork (1)']\n",
    "t"
   ]
  },
  {
   "cell_type": "markdown",
   "id": "d0416d6f-5e46-47c9-abad-f344bea7a94a",
   "metadata": {},
   "source": [
    "-------------------------\n",
    "\n",
    "### Stage 6: Try the Model with New Data and Export an End-to-end Model\n"
   ]
  },
  {
   "cell_type": "markdown",
   "id": "394b9a6e-0130-4af2-88e5-efe91cf9f348",
   "metadata": {
    "execution": {
     "iopub.execute_input": "2021-05-16T22:53:41.558105Z",
     "iopub.status.busy": "2021-05-16T22:53:41.557872Z",
     "iopub.status.idle": "2021-05-16T22:53:41.560984Z",
     "shell.execute_reply": "2021-05-16T22:53:41.560122Z",
     "shell.execute_reply.started": "2021-05-16T22:53:41.558080Z"
    }
   },
   "source": [
    "#### (1) Test New Dataset from 200 samples from Leislative Questions"
   ]
  },
  {
   "cell_type": "code",
   "execution_count": 23,
   "id": "632bf33e-1df7-46c5-9a67-ab7141a949c2",
   "metadata": {
    "execution": {
     "iopub.execute_input": "2021-05-19T21:34:38.881309Z",
     "iopub.status.busy": "2021-05-19T21:34:38.881078Z",
     "iopub.status.idle": "2021-05-19T21:34:38.883980Z",
     "shell.execute_reply": "2021-05-19T21:34:38.883400Z",
     "shell.execute_reply.started": "2021-05-19T21:34:38.881286Z"
    },
    "tags": []
   },
   "outputs": [],
   "source": [
    "def as_num(x):\n",
    "    \"\"\"\n",
    "    keep 10 decimals\n",
    "    \"\"\"\n",
    "    y = '{:.15f}'.format(x) \n",
    "    return y"
   ]
  },
  {
   "cell_type": "code",
   "execution_count": 24,
   "id": "06ea7d54-49e9-4363-8304-d1dabaf3beb4",
   "metadata": {
    "execution": {
     "iopub.execute_input": "2021-05-19T21:34:38.885385Z",
     "iopub.status.busy": "2021-05-19T21:34:38.885220Z",
     "iopub.status.idle": "2021-05-19T21:34:39.139463Z",
     "shell.execute_reply": "2021-05-19T21:34:39.138844Z",
     "shell.execute_reply.started": "2021-05-19T21:34:38.885364Z"
    },
    "tags": []
   },
   "outputs": [],
   "source": [
    "import pandas as pd\n",
    "import random\n",
    "\n",
    "# test the trined model using new text from 200 samples from Leislative Questions\n",
    "LQ6 = pd.read_csv('data/LQ_6th.csv')\n",
    "\n",
    "# drop '0': legislor  never have proposed any legisaltive questions. \n",
    "LQ6 = LQ6[LQ6['title'].isin(['0'])== False]\n",
    "\n",
    "# select text with number of charecters within EMB_DIM; len(sub_set) = 11162\n",
    "# sample_df = LQ6.loc[[len(char_num) for char_num in LQ6.title if len(char_num) < MAX_LEN], ['legislator','title', 'topic', 'category', 'keywords', 'ques_type']].reset_index(drop=True)\n",
    "sample_df = LQ6.iloc[random.sample(range(len(LQ6)), 2000)][['legislator', 'title', 'topic', 'category', 'keywords', 'ques_type']]\n",
    "sub_set = [seg_char(text) for text in [clearPucts(text) for text in sample_df.title]]\n"
   ]
  },
  {
   "cell_type": "markdown",
   "id": "68cc06a7-27d7-4007-949d-f7df81246e25",
   "metadata": {
    "tags": []
   },
   "source": [
    "##### Top 10 of 2000 Sampled Legislative Questions"
   ]
  },
  {
   "cell_type": "code",
   "execution_count": 25,
   "id": "d4b618c9-8c4b-40ec-a396-b4679233197e",
   "metadata": {
    "execution": {
     "iopub.execute_input": "2021-05-19T21:34:39.145577Z",
     "iopub.status.busy": "2021-05-19T21:34:39.145349Z",
     "iopub.status.idle": "2021-05-19T21:34:46.020087Z",
     "shell.execute_reply": "2021-05-19T21:34:46.019551Z",
     "shell.execute_reply.started": "2021-05-19T21:34:39.145560Z"
    },
    "tags": []
   },
   "outputs": [
    {
     "data": {
      "text/html": [
       "<div>\n",
       "<style scoped>\n",
       "    .dataframe tbody tr th:only-of-type {\n",
       "        vertical-align: middle;\n",
       "    }\n",
       "\n",
       "    .dataframe tbody tr th {\n",
       "        vertical-align: top;\n",
       "    }\n",
       "\n",
       "    .dataframe thead th {\n",
       "        text-align: right;\n",
       "    }\n",
       "</style>\n",
       "<table border=\"1\" class=\"dataframe\">\n",
       "  <thead>\n",
       "    <tr style=\"text-align: right;\">\n",
       "      <th></th>\n",
       "      <th>legislator</th>\n",
       "      <th>Pork Value(Constituency Interest)</th>\n",
       "      <th>Legislative Questions</th>\n",
       "      <th>Topic</th>\n",
       "      <th>Key Word</th>\n",
       "    </tr>\n",
       "  </thead>\n",
       "  <tbody>\n",
       "    <tr>\n",
       "      <th>8795</th>\n",
       "      <td>賴士葆</td>\n",
       "      <td>0.997264862060547</td>\n",
       "      <td>對行政院所屬勞工保險局發放有關福利敬老津貼有失周詳，不合公道一案，特向行政院提出質詢。</td>\n",
       "      <td>老人福利</td>\n",
       "      <td>勞工保險局 ; 福利敬老津貼</td>\n",
       "    </tr>\n",
       "    <tr>\n",
       "      <th>9109</th>\n",
       "      <td>邱鏡淳</td>\n",
       "      <td>0.996278405189514</td>\n",
       "      <td>就政府為減緩政府財政負擔及維持退休人員與現職人員權益的平衡，推行「教育人員退休所得合理化方案...</td>\n",
       "      <td>教育人員退休 ; 退休金</td>\n",
       "      <td>教育人員 ; 退休所得</td>\n",
       "    </tr>\n",
       "    <tr>\n",
       "      <th>4594</th>\n",
       "      <td>林鴻池</td>\n",
       "      <td>0.996166765689850</td>\n",
       "      <td>針對目前政府十三萬臨時人員已依勞退新制提撥退休金，但仍尚未納入勞基法保障，政府應儘速公布將臨...</td>\n",
       "      <td>勞動基準 ; 聘僱人員 ; 法律適用範圍</td>\n",
       "      <td>臨時人員 ; 勞基法</td>\n",
       "    </tr>\n",
       "    <tr>\n",
       "      <th>3999</th>\n",
       "      <td>林正峰</td>\n",
       "      <td>0.995356976985931</td>\n",
       "      <td>針對政府準備修法推動「二代健保」，健保保費採取「年度所得總額」為計算基礎，而非採用扣除免稅額...</td>\n",
       "      <td>國民 ; 健康保險 ; 保險費</td>\n",
       "      <td>二代健保 ; 年度所得總額</td>\n",
       "    </tr>\n",
       "    <tr>\n",
       "      <th>8876</th>\n",
       "      <td>賴清德</td>\n",
       "      <td>0.990603744983673</td>\n",
       "      <td>為改善低所得家庭就業困難，提昇其工作所得，使脫離貧窮困境，特向行政院提出質詢。</td>\n",
       "      <td>低收入戶 ; 就業</td>\n",
       "      <td>低所得家庭 ; 就業困難</td>\n",
       "    </tr>\n",
       "    <tr>\n",
       "      <th>4418</th>\n",
       "      <td>林重謨</td>\n",
       "      <td>0.989980101585388</td>\n",
       "      <td>針對財政部關於遺產及贈與稅制之改革一事，特向行政院提出質詢。</td>\n",
       "      <td>遺產稅 ; 贈與稅 ; 賦稅改革</td>\n",
       "      <td>遺產稅 ; 贈與稅</td>\n",
       "    </tr>\n",
       "    <tr>\n",
       "      <th>4438</th>\n",
       "      <td>林重謨</td>\n",
       "      <td>0.989181876182556</td>\n",
       "      <td>針對國防部當初為了因應政府取消軍教免稅優惠，將志願役軍士官勤務加給自八十九年七月起調高，平均...</td>\n",
       "      <td>軍人 ; 教育人員 ; 課稅</td>\n",
       "      <td>軍教課稅</td>\n",
       "    </tr>\n",
       "    <tr>\n",
       "      <th>3411</th>\n",
       "      <td>林建榮</td>\n",
       "      <td>0.988365650177002</td>\n",
       "      <td>為建請回復「漁業動力用油優惠標準」百分之二十八之補助措施，以扶助弱勢漁民生計，特向行政院提出質詢。</td>\n",
       "      <td>漁業補助</td>\n",
       "      <td>漁業動力用油優惠標準</td>\n",
       "    </tr>\n",
       "    <tr>\n",
       "      <th>7832</th>\n",
       "      <td>羅志明</td>\n",
       "      <td>0.986930191516876</td>\n",
       "      <td>針對為照顧弱勢農民，高雄市及各地方政府為都市城鄉發展之均衡，高雄市的都市周邊區域之小港區應比...</td>\n",
       "      <td>農業補助</td>\n",
       "      <td>小港區 ; 重工業回饋地方基金 ; 資助農民</td>\n",
       "    </tr>\n",
       "    <tr>\n",
       "      <th>8671</th>\n",
       "      <td>費鴻泰</td>\n",
       "      <td>0.986919820308685</td>\n",
       "      <td>針對政府公教貸款利率高於一般商業銀行專案辦理之房屋貸款利率，使公教人員之房貸利息負擔沈重依舊...</td>\n",
       "      <td>公務員福利 ; 房屋貸款 ; 利率</td>\n",
       "      <td>公教貸款利率</td>\n",
       "    </tr>\n",
       "  </tbody>\n",
       "</table>\n",
       "</div>"
      ],
      "text/plain": [
       "     legislator Pork Value(Constituency Interest)  \\\n",
       "8795        賴士葆                 0.997264862060547   \n",
       "9109        邱鏡淳                 0.996278405189514   \n",
       "4594        林鴻池                 0.996166765689850   \n",
       "3999        林正峰                 0.995356976985931   \n",
       "8876        賴清德                 0.990603744983673   \n",
       "4418        林重謨                 0.989980101585388   \n",
       "4438        林重謨                 0.989181876182556   \n",
       "3411        林建榮                 0.988365650177002   \n",
       "7832        羅志明                 0.986930191516876   \n",
       "8671        費鴻泰                 0.986919820308685   \n",
       "\n",
       "                                 Legislative Questions                  Topic  \\\n",
       "8795        對行政院所屬勞工保險局發放有關福利敬老津貼有失周詳，不合公道一案，特向行政院提出質詢。                  老人福利   \n",
       "9109  就政府為減緩政府財政負擔及維持退休人員與現職人員權益的平衡，推行「教育人員退休所得合理化方案...          教育人員退休 ; 退休金   \n",
       "4594  針對目前政府十三萬臨時人員已依勞退新制提撥退休金，但仍尚未納入勞基法保障，政府應儘速公布將臨...  勞動基準 ; 聘僱人員 ; 法律適用範圍   \n",
       "3999  針對政府準備修法推動「二代健保」，健保保費採取「年度所得總額」為計算基礎，而非採用扣除免稅額...       國民 ; 健康保險 ; 保險費   \n",
       "8876            為改善低所得家庭就業困難，提昇其工作所得，使脫離貧窮困境，特向行政院提出質詢。             低收入戶 ; 就業   \n",
       "4418                     針對財政部關於遺產及贈與稅制之改革一事，特向行政院提出質詢。      遺產稅 ; 贈與稅 ; 賦稅改革   \n",
       "4438  針對國防部當初為了因應政府取消軍教免稅優惠，將志願役軍士官勤務加給自八十九年七月起調高，平均...        軍人 ; 教育人員 ; 課稅   \n",
       "3411  為建請回復「漁業動力用油優惠標準」百分之二十八之補助措施，以扶助弱勢漁民生計，特向行政院提出質詢。                  漁業補助   \n",
       "7832  針對為照顧弱勢農民，高雄市及各地方政府為都市城鄉發展之均衡，高雄市的都市周邊區域之小港區應比...                  農業補助   \n",
       "8671  針對政府公教貸款利率高於一般商業銀行專案辦理之房屋貸款利率，使公教人員之房貸利息負擔沈重依舊...     公務員福利 ; 房屋貸款 ; 利率   \n",
       "\n",
       "                    Key Word  \n",
       "8795          勞工保險局 ; 福利敬老津貼  \n",
       "9109             教育人員 ; 退休所得  \n",
       "4594              臨時人員 ; 勞基法  \n",
       "3999           二代健保 ; 年度所得總額  \n",
       "8876            低所得家庭 ; 就業困難  \n",
       "4418               遺產稅 ; 贈與稅  \n",
       "4438                    軍教課稅  \n",
       "3411              漁業動力用油優惠標準  \n",
       "7832  小港區 ; 重工業回饋地方基金 ; 資助農民  \n",
       "8671                  公教貸款利率  "
      ]
     },
     "execution_count": 25,
     "metadata": {},
     "output_type": "execute_result"
    }
   ],
   "source": [
    "pd.DataFrame(\n",
    "    {'legislator': sample_df.legislator,\n",
    "     'Pork Value(Constituency Interest)':[as_num(Dcnn(np.array([tokenizer.encode(line)]), training=True).numpy()[0][0]) for line in sub_set],\n",
    "     'Legislative Questions ': sample_df.title,\n",
    "     'Topic': sample_df.topic,\n",
    "     'Key Word':sample_df.keywords}).sort_values(by=['Pork Value(Constituency Interest)'], ascending = False).head(10)"
   ]
  },
  {
   "cell_type": "markdown",
   "id": "6a6d4b15-3e05-427d-a664-8c8ce4e6622c",
   "metadata": {},
   "source": [
    "##### Last 10 Rows of 2000 Sampled Legislative Questions"
   ]
  },
  {
   "cell_type": "code",
   "execution_count": 26,
   "id": "369a7336-dc9d-4883-b919-b19611b5ad39",
   "metadata": {
    "execution": {
     "iopub.execute_input": "2021-05-19T21:34:46.021523Z",
     "iopub.status.busy": "2021-05-19T21:34:46.021361Z",
     "iopub.status.idle": "2021-05-19T21:34:52.519485Z",
     "shell.execute_reply": "2021-05-19T21:34:52.518920Z",
     "shell.execute_reply.started": "2021-05-19T21:34:46.021504Z"
    },
    "tags": []
   },
   "outputs": [
    {
     "data": {
      "text/html": [
       "<div>\n",
       "<style scoped>\n",
       "    .dataframe tbody tr th:only-of-type {\n",
       "        vertical-align: middle;\n",
       "    }\n",
       "\n",
       "    .dataframe tbody tr th {\n",
       "        vertical-align: top;\n",
       "    }\n",
       "\n",
       "    .dataframe thead th {\n",
       "        text-align: right;\n",
       "    }\n",
       "</style>\n",
       "<table border=\"1\" class=\"dataframe\">\n",
       "  <thead>\n",
       "    <tr style=\"text-align: right;\">\n",
       "      <th></th>\n",
       "      <th>legislator</th>\n",
       "      <th>Pork Value(Constituency Interest)</th>\n",
       "      <th>Legislative Questions</th>\n",
       "      <th>Topic</th>\n",
       "      <th>Key Word</th>\n",
       "    </tr>\n",
       "  </thead>\n",
       "  <tbody>\n",
       "    <tr>\n",
       "      <th>10557</th>\n",
       "      <td>高思博</td>\n",
       "      <td>0.000012218362826</td>\n",
       "      <td>鑑於「麥肯卡債報告」與行政院金融監督管理委員之卡債協商報告，落差極大，金管會應儘速公布小額信...</td>\n",
       "      <td>金融管理 ; 債務</td>\n",
       "      <td>麥肯卡債報告 ; 卡債協商</td>\n",
       "    </tr>\n",
       "    <tr>\n",
       "      <th>7660</th>\n",
       "      <td>羅世雄</td>\n",
       "      <td>0.000011173857274</td>\n",
       "      <td>針對若干不肖業者以「課程大放送」方式，規避定型化契約規範，欺瞞消費者，爰此，主管單位應提出立...</td>\n",
       "      <td>語言 ; 補習班 ; 消費者保護</td>\n",
       "      <td>定型化契約 ; 語言補習班</td>\n",
       "    </tr>\n",
       "    <tr>\n",
       "      <th>9923</th>\n",
       "      <td>陳啟昱</td>\n",
       "      <td>0.000007897281648</td>\n",
       "      <td>針對高雄港港區監視系統，得標廠商與港務局就監視系統規格有所爭議，經行政院公共工程委員會調解，...</td>\n",
       "      <td>商港 ; 工程招標 ; 電子監視</td>\n",
       "      <td>高雄港 ; 監視系統</td>\n",
       "    </tr>\n",
       "    <tr>\n",
       "      <th>9626</th>\n",
       "      <td>鄭朝明</td>\n",
       "      <td>0.000007136633940</td>\n",
       "      <td>有鑒於近年消費金融債務糾紛頻傳，部分討債公司採取討債手法過於激烈，其中包括潑灑油漆、半夜恐嚇...</td>\n",
       "      <td>金融管理 ; 債務 ; 暴力</td>\n",
       "      <td>金融債務 ; 討債公司</td>\n",
       "    </tr>\n",
       "    <tr>\n",
       "      <th>776</th>\n",
       "      <td>吳敦義</td>\n",
       "      <td>0.000006591444617</td>\n",
       "      <td>有鑑於福建省政府委員之職務係在監督縣自治事項及辦理其他行政院交辦事項，然現任福建省政府委員、...</td>\n",
       "      <td>政府官員 ; 行政中立</td>\n",
       "      <td>福建省政府委員 ; 陳滄江 ; 拉票</td>\n",
       "    </tr>\n",
       "    <tr>\n",
       "      <th>4704</th>\n",
       "      <td>柯淑敏</td>\n",
       "      <td>0.000005787265309</td>\n",
       "      <td>針對台灣已進入金控年代，但目前主管機關仍然是以分業的法規來監理金控旗下各子公司的轉投資，造成...</td>\n",
       "      <td>金融業 ; 金融管理</td>\n",
       "      <td>金控 ; 子公司 ; 轉投資</td>\n",
       "    </tr>\n",
       "    <tr>\n",
       "      <th>10295</th>\n",
       "      <td>陳瑩</td>\n",
       "      <td>0.000005518909347</td>\n",
       "      <td>有鑑於國內監聽情況嚴重氾濫，直接侵犯人民隱私權，為維護基本人權以及控管監聽行為獨立性，監聽審...</td>\n",
       "      <td>竊聽 ; 人權</td>\n",
       "      <td>監聽 ; 基本人權</td>\n",
       "    </tr>\n",
       "    <tr>\n",
       "      <th>4356</th>\n",
       "      <td>林進興</td>\n",
       "      <td>0.000004838947007</td>\n",
       "      <td>針對行政院金融監督管理委員會為了解決國人廣大的卡債問題，積極推廣債務協商機制，政策本意良好，...</td>\n",
       "      <td>信用卡 ; 債務</td>\n",
       "      <td>卡債 ; 協商機制</td>\n",
       "    </tr>\n",
       "    <tr>\n",
       "      <th>7560</th>\n",
       "      <td>紀國棟</td>\n",
       "      <td>0.000003577750704</td>\n",
       "      <td>鑑於監視器是維持治安不可或缺之工具，惟監視器維修經費龐大，若遇颱風豪雨嚴重損壞費用很高，多數...</td>\n",
       "      <td>電子監視</td>\n",
       "      <td>監視器.損壞維修</td>\n",
       "    </tr>\n",
       "    <tr>\n",
       "      <th>6784</th>\n",
       "      <td>王昱婷</td>\n",
       "      <td>0.000002748315183</td>\n",
       "      <td>針對我國各產險業者長期有聯合壟斷之情事發生，嚴重影響臺灣社會消費者之權益。惟礙於現行法令，如...</td>\n",
       "      <td>金融管理 ; 保險業</td>\n",
       "      <td>產險業 ; 聯合壟斷</td>\n",
       "    </tr>\n",
       "  </tbody>\n",
       "</table>\n",
       "</div>"
      ],
      "text/plain": [
       "      legislator Pork Value(Constituency Interest)  \\\n",
       "10557        高思博                 0.000012218362826   \n",
       "7660         羅世雄                 0.000011173857274   \n",
       "9923         陳啟昱                 0.000007897281648   \n",
       "9626         鄭朝明                 0.000007136633940   \n",
       "776          吳敦義                 0.000006591444617   \n",
       "4704         柯淑敏                 0.000005787265309   \n",
       "10295         陳瑩                 0.000005518909347   \n",
       "4356         林進興                 0.000004838947007   \n",
       "7560         紀國棟                 0.000003577750704   \n",
       "6784         王昱婷                 0.000002748315183   \n",
       "\n",
       "                                  Legislative Questions              Topic  \\\n",
       "10557  鑑於「麥肯卡債報告」與行政院金融監督管理委員之卡債協商報告，落差極大，金管會應儘速公布小額信...         金融管理 ; 債務   \n",
       "7660   針對若干不肖業者以「課程大放送」方式，規避定型化契約規範，欺瞞消費者，爰此，主管單位應提出立...  語言 ; 補習班 ; 消費者保護   \n",
       "9923   針對高雄港港區監視系統，得標廠商與港務局就監視系統規格有所爭議，經行政院公共工程委員會調解，...  商港 ; 工程招標 ; 電子監視   \n",
       "9626   有鑒於近年消費金融債務糾紛頻傳，部分討債公司採取討債手法過於激烈，其中包括潑灑油漆、半夜恐嚇...    金融管理 ; 債務 ; 暴力   \n",
       "776    有鑑於福建省政府委員之職務係在監督縣自治事項及辦理其他行政院交辦事項，然現任福建省政府委員、...       政府官員 ; 行政中立   \n",
       "4704   針對台灣已進入金控年代，但目前主管機關仍然是以分業的法規來監理金控旗下各子公司的轉投資，造成...        金融業 ; 金融管理   \n",
       "10295  有鑑於國內監聽情況嚴重氾濫，直接侵犯人民隱私權，為維護基本人權以及控管監聽行為獨立性，監聽審...           竊聽 ; 人權   \n",
       "4356   針對行政院金融監督管理委員會為了解決國人廣大的卡債問題，積極推廣債務協商機制，政策本意良好，...          信用卡 ; 債務   \n",
       "7560   鑑於監視器是維持治安不可或缺之工具，惟監視器維修經費龐大，若遇颱風豪雨嚴重損壞費用很高，多數...              電子監視   \n",
       "6784   針對我國各產險業者長期有聯合壟斷之情事發生，嚴重影響臺灣社會消費者之權益。惟礙於現行法令，如...        金融管理 ; 保險業   \n",
       "\n",
       "                 Key Word  \n",
       "10557       麥肯卡債報告 ; 卡債協商  \n",
       "7660        定型化契約 ; 語言補習班  \n",
       "9923           高雄港 ; 監視系統  \n",
       "9626          金融債務 ; 討債公司  \n",
       "776    福建省政府委員 ; 陳滄江 ; 拉票  \n",
       "4704       金控 ; 子公司 ; 轉投資  \n",
       "10295           監聽 ; 基本人權  \n",
       "4356            卡債 ; 協商機制  \n",
       "7560             監視器.損壞維修  \n",
       "6784           產險業 ; 聯合壟斷  "
      ]
     },
     "execution_count": 26,
     "metadata": {},
     "output_type": "execute_result"
    }
   ],
   "source": [
    "pd.DataFrame(\n",
    "    {'legislator': sample_df.legislator,\n",
    "     'Pork Value(Constituency Interest)':[as_num(Dcnn(np.array([tokenizer.encode(line)]), training=True).numpy()[0][0]) for line in sub_set],\n",
    "     'Legislative Questions ': sample_df.title,\n",
    "     'Topic': sample_df.topic,\n",
    "     'Key Word':sample_df.keywords}).sort_values(by=['Pork Value(Constituency Interest)'], ascending = False).tail(10)"
   ]
  },
  {
   "cell_type": "markdown",
   "id": "5dc01475-847a-408f-9972-ac02e7aa4721",
   "metadata": {},
   "source": [
    "#### (2) Export an End-to-end Model\n"
   ]
  },
  {
   "cell_type": "code",
   "execution_count": 27,
   "id": "196028d0-edfe-434f-a173-4ccaa688faaa",
   "metadata": {
    "execution": {
     "iopub.execute_input": "2021-05-19T21:34:52.520790Z",
     "iopub.status.busy": "2021-05-19T21:34:52.520651Z",
     "iopub.status.idle": "2021-05-19T21:34:52.523475Z",
     "shell.execute_reply": "2021-05-19T21:34:52.522801Z",
     "shell.execute_reply.started": "2021-05-19T21:34:52.520773Z"
    },
    "tags": []
   },
   "outputs": [],
   "source": [
    "from tensorflow.keras.models import load_model"
   ]
  },
  {
   "cell_type": "code",
   "execution_count": null,
   "id": "071291d0-c5bb-48de-adb2-f8b2bb3bb542",
   "metadata": {
    "tags": []
   },
   "outputs": [],
   "source": [
    "# Get model (Sequential, Functional Model, or Model subclass)\n",
    "Dcnn.save('lour_pork_model')"
   ]
  },
  {
   "cell_type": "code",
   "execution_count": 29,
   "id": "2ac46183-b841-469b-8897-1fea2922e445",
   "metadata": {
    "execution": {
     "iopub.execute_input": "2021-05-19T21:34:53.429355Z",
     "iopub.status.busy": "2021-05-19T21:34:53.429178Z",
     "iopub.status.idle": "2021-05-19T21:34:53.727533Z",
     "shell.execute_reply": "2021-05-19T21:34:53.726857Z",
     "shell.execute_reply.started": "2021-05-19T21:34:53.429336Z"
    },
    "tags": []
   },
   "outputs": [],
   "source": [
    "from tensorflow import keras\n",
    "model = keras.models.load_model('lour_pork_model')"
   ]
  }
 ],
 "metadata": {
  "kernelspec": {
   "display_name": "Python 3",
   "language": "python",
   "name": "python3"
  },
  "language_info": {
   "codemirror_mode": {
    "name": "ipython",
    "version": 3
   },
   "file_extension": ".py",
   "mimetype": "text/x-python",
   "name": "python",
   "nbconvert_exporter": "python",
   "pygments_lexer": "ipython3",
   "version": "3.8.8"
  }
 },
 "nbformat": 4,
 "nbformat_minor": 5
}
