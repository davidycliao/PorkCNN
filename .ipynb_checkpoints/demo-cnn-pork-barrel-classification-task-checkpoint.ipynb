{
 "cells": [
  {
   "cell_type": "markdown",
   "id": "b65dfbdc-bb80-4bd4-8248-dd06483222cd",
   "metadata": {},
   "source": [
    "# Lour's Pork Barrel Classifier (羅老師肉桶文本分類器)🐖\n",
    "## Convolutional Neural Networks for Pork Barrel Project Classification "
   ]
  },
  {
   "cell_type": "markdown",
   "id": "e8005d5a-f938-4c26-86d5-592408152d08",
   "metadata": {},
   "source": [
    "-------------------------\n",
    "\n",
    "### Stage 1: Libaries & Dependencies"
   ]
  },
  {
   "cell_type": "code",
   "execution_count": 1,
   "id": "6ca92ba3-7480-418f-91e0-d2beea2d10af",
   "metadata": {
    "execution": {
     "iopub.execute_input": "2021-05-23T03:32:36.448778Z",
     "iopub.status.busy": "2021-05-23T03:32:36.448589Z",
     "iopub.status.idle": "2021-05-23T03:32:41.424943Z",
     "shell.execute_reply": "2021-05-23T03:32:41.424379Z",
     "shell.execute_reply.started": "2021-05-23T03:32:36.448754Z"
    },
    "tags": []
   },
   "outputs": [],
   "source": [
    "# built-in library\n",
    "import math\n",
    "import re\n",
    "import collections\n",
    "import zipfile\n",
    "import random\n",
    "from itertools import chain\n",
    "\n",
    "# ML & Deep Learning/ NLP toolkit\n",
    "import pandas as pd\n",
    "import numpy as np\n",
    "import jieba\n",
    "from sklearn.model_selection import train_test_split\n",
    "import tensorflow as tf\n",
    "from tensorflow.keras import layers\n",
    "import tensorflow_datasets as tfds\n",
    "from tensorflow.keras.callbacks import EarlyStopping,TensorBoard\n",
    "\n",
    "# Visualization\n",
    "import matplotlib.pyplot as plt\n",
    "import seaborn as sns"
   ]
  },
  {
   "cell_type": "markdown",
   "id": "8bd77e05-355a-422f-87db-2cf77cba3bdd",
   "metadata": {},
   "source": [
    "-------------------------\n",
    "\n",
    "### Stage 2: Data Preprocessing (Training Data: Introduction of Bills and Legislation from 6th Session to 7th Session, 2004-2012)"
   ]
  },
  {
   "cell_type": "markdown",
   "id": "3b57b9c9-443e-4e26-bda2-15f6877845d5",
   "metadata": {},
   "source": [
    "#### (1) Read file "
   ]
  },
  {
   "cell_type": "code",
   "execution_count": 2,
   "id": "e1973cfb-73d4-4717-a67a-a4e8a0c9edb0",
   "metadata": {
    "execution": {
     "iopub.execute_input": "2021-05-23T03:32:41.426164Z",
     "iopub.status.busy": "2021-05-23T03:32:41.425952Z",
     "iopub.status.idle": "2021-05-23T03:32:41.464739Z",
     "shell.execute_reply": "2021-05-23T03:32:41.464101Z",
     "shell.execute_reply.started": "2021-05-23T03:32:41.426141Z"
    },
    "tags": []
   },
   "outputs": [],
   "source": [
    "# read file\n",
    "df = pd.read_csv('data/Pork Bill - 2021-05-20.csv',encoding='utf-8')\n",
    "\n",
    "# combine abstract of bill and title \n",
    "df['text'] =  df['Title'] + df['Content'].fillna(df['Title'])\n",
    "\n",
    "# drop conten without having any characters\n",
    "# view na's row: df[df['text'].isnull()==True]\n",
    "data = df[['text', 'pork_bill']].dropna(subset=['text'])"
   ]
  },
  {
   "cell_type": "code",
   "execution_count": 3,
   "id": "f6160785-9522-4404-8f77-6df941869cde",
   "metadata": {
    "execution": {
     "iopub.execute_input": "2021-05-23T03:32:41.465945Z",
     "iopub.status.busy": "2021-05-23T03:32:41.465778Z",
     "iopub.status.idle": "2021-05-23T03:32:41.470916Z",
     "shell.execute_reply": "2021-05-23T03:32:41.470332Z",
     "shell.execute_reply.started": "2021-05-23T03:32:41.465926Z"
    },
    "tags": []
   },
   "outputs": [
    {
     "name": "stdout",
     "output_type": "stream",
     "text": [
      " Pork Legislation 2510 \n",
      " None-Pork Legislation 4733\n"
     ]
    }
   ],
   "source": [
    "print(\" Pork Legislation\", data['pork_bill'].value_counts()[1],'\\n', \n",
    "      \"None-Pork Legislation\", data['pork_bill'].value_counts()[0])"
   ]
  },
  {
   "cell_type": "markdown",
   "id": "2327d3a1-56a2-4d60-afc3-d8251e0c5e27",
   "metadata": {},
   "source": [
    "#### (2) Balancing the Training Samples"
   ]
  },
  {
   "cell_type": "markdown",
   "id": "545a68d4-b516-4170-b8c9-78f62d31b859",
   "metadata": {
    "execution": {
     "iopub.execute_input": "2021-05-21T03:47:46.657176Z",
     "iopub.status.busy": "2021-05-21T03:47:46.656903Z",
     "iopub.status.idle": "2021-05-21T03:47:46.667123Z",
     "shell.execute_reply": "2021-05-21T03:47:46.666559Z",
     "shell.execute_reply.started": "2021-05-21T03:47:46.657153Z"
    },
    "tags": []
   },
   "source": [
    "random.seed(24)\n",
    "data = data[data['pork_bill']==1].append(data[data['pork_bill']==0].reset_index(drop=True).loc[[random.randint(0, 2500) for i in range(2500)]]).reset_index(drop=True)"
   ]
  },
  {
   "cell_type": "markdown",
   "id": "6389b502-0eab-4faf-bdd6-742b6068e231",
   "metadata": {
    "execution": {
     "iopub.execute_input": "2021-05-21T03:47:46.668350Z",
     "iopub.status.busy": "2021-05-21T03:47:46.668164Z",
     "iopub.status.idle": "2021-05-21T03:47:46.673541Z",
     "shell.execute_reply": "2021-05-21T03:47:46.672951Z",
     "shell.execute_reply.started": "2021-05-21T03:47:46.668327Z"
    },
    "tags": []
   },
   "source": [
    "print(\" Pork Legislation\", data['pork_bill'].value_counts()[1],'\\n', \n",
    "      \"None-Pork Legislation\", data['pork_bill'].value_counts()[0])"
   ]
  },
  {
   "cell_type": "markdown",
   "id": "5e6d677d-e200-40e6-9252-130eb02fc682",
   "metadata": {
    "execution": {
     "iopub.execute_input": "2021-05-16T17:01:03.001989Z",
     "iopub.status.busy": "2021-05-16T17:01:03.001801Z",
     "iopub.status.idle": "2021-05-16T17:01:03.004600Z",
     "shell.execute_reply": "2021-05-16T17:01:03.003789Z",
     "shell.execute_reply.started": "2021-05-16T17:01:03.001969Z"
    }
   },
   "source": [
    "#### (2) Tokenization"
   ]
  },
  {
   "cell_type": "code",
   "execution_count": 4,
   "id": "120e8b54-7f75-4ca6-a0d0-9872b1522e8e",
   "metadata": {
    "execution": {
     "iopub.execute_input": "2021-05-23T03:32:41.472090Z",
     "iopub.status.busy": "2021-05-23T03:32:41.471858Z",
     "iopub.status.idle": "2021-05-23T03:32:41.479994Z",
     "shell.execute_reply": "2021-05-23T03:32:41.479104Z",
     "shell.execute_reply.started": "2021-05-23T03:32:41.472068Z"
    },
    "tags": []
   },
   "outputs": [],
   "source": [
    "import collections\n",
    "import numpy as np\n",
    "import jieba\n",
    "from itertools import chain\n",
    "\n",
    "\n",
    "def jieba_cut(filename):\n",
    "    \"\"\"\n",
    "    cut Chinese and remove stop words\n",
    "    Reference: https://www.cnblogs.com/Luv-GEM/p/10836454.html\n",
    "    Stopwords: https://www.kaggle.com/rikdifos/english-and-chinese-stopwords?select=cn_stopwords.txt\n",
    "    \"\"\"\n",
    "    stop_list = [i.strip() for i in open('cn_stopwords.txt','r',encoding='utf-8')]  \n",
    "    news_cut = []\n",
    "    news_list = []\n",
    "    for line in filename:    \n",
    "        if line:\n",
    "            news_cut = list(jieba.cut(''.join(line),cut_all=False,HMM=True))  \n",
    "            news_list.append([word.strip() for word in news_cut if word not in stop_list and len(word.strip())>0]) \n",
    "    news_list = list(chain.from_iterable(news_list))  \n",
    "    return news_list\n",
    "\n",
    "def clearPucts(context):\n",
    "    \"\"\"\n",
    "    remove punctuation\n",
    "    ref: https://chenyuzuoo.github.io/posts/28001/\n",
    "    \"\"\"\n",
    "    context = re.sub(\"[\\s+\\.\\!\\/_,$%^*(+\\\"\\']+|[+——！，。？、~@#￥%……&*（）]+\", \"\", context)\n",
    "    context = re.sub(\"[【】╮╯▽╰╭★→「」]+\",\"\", context)\n",
    "    context = re.sub(\"！，❤。～《》：（）【】「」？”“；：、\",\"\",context)\n",
    "    context = re.sub(\"\\s\",\"\",context)\n",
    "    return context\n",
    "\n",
    "def seg_char(sent):\n",
    "    \"\"\"\n",
    "    cut Chinese and remove stop words\n",
    "    ref: https://blog.csdn.net/renyuanfang/article/details/86487367\n",
    "    \"\"\"\n",
    "    # split\n",
    "    pattern_char_1 = re.compile(r'([\\W])')\n",
    "    parts = pattern_char_1.split(sent)\n",
    "    parts = [p for p in parts if len(p.strip())>0]\n",
    "    # cut sentence\n",
    "    pattern = re.compile(r'([\\u4e00-\\u9fa5])')\n",
    "    chars = pattern.split(sent)\n",
    "    chars = [w for w in chars if len(w.strip())>0]\n",
    "    chars = ' '.join(chars)\n",
    "    return chars"
   ]
  },
  {
   "cell_type": "code",
   "execution_count": 5,
   "id": "25f4277c-001d-47a4-81d0-f5ac5ec5e5d3",
   "metadata": {
    "execution": {
     "iopub.execute_input": "2021-05-23T03:32:41.481310Z",
     "iopub.status.busy": "2021-05-23T03:32:41.481068Z",
     "iopub.status.idle": "2021-05-23T03:32:43.311570Z",
     "shell.execute_reply": "2021-05-23T03:32:43.311017Z",
     "shell.execute_reply.started": "2021-05-23T03:32:41.481287Z"
    },
    "tags": []
   },
   "outputs": [],
   "source": [
    "data_clean = [seg_char(text) for text in [clearPucts(text) for text in data.text]]\n",
    "\n",
    "tokenizer = tfds.deprecated.text.SubwordTextEncoder.build_from_corpus(\n",
    "    data_clean, target_vocab_size=2**18)\n",
    "\n",
    "data_inputs = [tokenizer.encode(sentence) for sentence in data_clean]"
   ]
  },
  {
   "cell_type": "markdown",
   "id": "089e65af-e49c-4d60-962e-a0a826809aa5",
   "metadata": {
    "execution": {
     "iopub.execute_input": "2021-05-16T17:01:47.611294Z",
     "iopub.status.busy": "2021-05-16T17:01:47.611020Z",
     "iopub.status.idle": "2021-05-16T17:01:47.614208Z",
     "shell.execute_reply": "2021-05-16T17:01:47.613487Z",
     "shell.execute_reply.started": "2021-05-16T17:01:47.611276Z"
    }
   },
   "source": [
    "#### (3) Padding"
   ]
  },
  {
   "cell_type": "code",
   "execution_count": 6,
   "id": "b801d231-972c-47e3-83c4-7375c2e11a18",
   "metadata": {
    "execution": {
     "iopub.execute_input": "2021-05-23T03:32:43.314772Z",
     "iopub.status.busy": "2021-05-23T03:32:43.314579Z",
     "iopub.status.idle": "2021-05-23T03:32:43.376470Z",
     "shell.execute_reply": "2021-05-23T03:32:43.375913Z",
     "shell.execute_reply.started": "2021-05-23T03:32:43.314754Z"
    },
    "tags": []
   },
   "outputs": [],
   "source": [
    "MAX_LEN = max([len(sentence) for sentence in data_clean])\n",
    "data_inputs = tf.keras.preprocessing.sequence.pad_sequences(data_inputs,\n",
    "                                                            value=0,\n",
    "                                                            padding=\"post\",\n",
    "                                                            maxlen=MAX_LEN)\n"
   ]
  },
  {
   "cell_type": "markdown",
   "id": "f69d90cf-ac3c-4e08-b46b-457d9708d832",
   "metadata": {
    "execution": {
     "iopub.execute_input": "2021-05-16T17:02:28.107037Z",
     "iopub.status.busy": "2021-05-16T17:02:28.106843Z",
     "iopub.status.idle": "2021-05-16T17:02:28.109696Z",
     "shell.execute_reply": "2021-05-16T17:02:28.108954Z",
     "shell.execute_reply.started": "2021-05-16T17:02:28.107017Z"
    }
   },
   "source": [
    "#### (4) Spliting Training/ Testing Set"
   ]
  },
  {
   "cell_type": "code",
   "execution_count": 7,
   "id": "42503355-eea3-4602-ae5a-ea18be84b8d1",
   "metadata": {
    "execution": {
     "iopub.execute_input": "2021-05-23T03:32:43.378978Z",
     "iopub.status.busy": "2021-05-23T03:32:43.378762Z",
     "iopub.status.idle": "2021-05-23T03:32:43.381458Z",
     "shell.execute_reply": "2021-05-23T03:32:43.380932Z",
     "shell.execute_reply.started": "2021-05-23T03:32:43.378958Z"
    },
    "tags": []
   },
   "outputs": [],
   "source": [
    "data_labels = data.pork_bill.values"
   ]
  },
  {
   "cell_type": "code",
   "execution_count": 8,
   "id": "19235117-f63a-4e06-a102-6efe98c37dbf",
   "metadata": {
    "execution": {
     "iopub.execute_input": "2021-05-23T03:32:43.382423Z",
     "iopub.status.busy": "2021-05-23T03:32:43.382295Z",
     "iopub.status.idle": "2021-05-23T03:32:43.394855Z",
     "shell.execute_reply": "2021-05-23T03:32:43.394127Z",
     "shell.execute_reply.started": "2021-05-23T03:32:43.382407Z"
    },
    "tags": []
   },
   "outputs": [
    {
     "name": "stdout",
     "output_type": "stream",
     "text": [
      "Shape of X Train: (4852, 785) \n",
      "Shape of X Test : (2391, 785) \n",
      "Shape of Y Trian: (4852,) \n",
      "Shape of Y Test : (2391,)\n"
     ]
    }
   ],
   "source": [
    "import numpy as np\n",
    "from sklearn.model_selection import train_test_split\n",
    "train_inputs, test_inputs, train_labels, test_labels = train_test_split(\n",
    "    data_inputs, data_labels, test_size=0.33, random_state=42)\n",
    "\n",
    "print(\"Shape of X Train:\", train_inputs.shape, '\\n'\n",
    "      \"Shape of X Test :\", test_inputs.shape,'\\n'\n",
    "      \"Shape of Y Trian:\", train_labels.shape , '\\n'\n",
    "      \"Shape of Y Test :\", test_labels.shape )"
   ]
  },
  {
   "cell_type": "code",
   "execution_count": 9,
   "id": "6f10cb5c-7c8d-4e1e-a987-11b8de8e42d0",
   "metadata": {
    "execution": {
     "iopub.execute_input": "2021-05-23T03:32:43.396093Z",
     "iopub.status.busy": "2021-05-23T03:32:43.395820Z",
     "iopub.status.idle": "2021-05-23T03:32:43.399839Z",
     "shell.execute_reply": "2021-05-23T03:32:43.399225Z",
     "shell.execute_reply.started": "2021-05-23T03:32:43.396073Z"
    },
    "tags": []
   },
   "outputs": [
    {
     "name": "stdout",
     "output_type": "stream",
     "text": [
      " Num of Train Set: 4852 \n",
      " Not Pork vs Pork: {0: 3167, 1: 1685}\n"
     ]
    }
   ],
   "source": [
    "unique_train_labels, counts_train_labels = np.unique(train_labels, return_counts=True)\n",
    "\n",
    "print(' Num of Train Set:' , train_inputs.shape[0], '\\n'\n",
    "      ,'Not Pork vs Pork:', dict(zip(unique_train_labels, counts_train_labels)))"
   ]
  },
  {
   "cell_type": "code",
   "execution_count": 10,
   "id": "fedad623-02ba-4fad-b0b4-a094de7c39de",
   "metadata": {
    "execution": {
     "iopub.execute_input": "2021-05-23T03:32:43.401308Z",
     "iopub.status.busy": "2021-05-23T03:32:43.401039Z",
     "iopub.status.idle": "2021-05-23T03:32:43.404610Z",
     "shell.execute_reply": "2021-05-23T03:32:43.404110Z",
     "shell.execute_reply.started": "2021-05-23T03:32:43.401286Z"
    },
    "tags": []
   },
   "outputs": [
    {
     "name": "stdout",
     "output_type": "stream",
     "text": [
      " Num of Test Set: 2391 \n",
      " Not Pork vs Pork: {0: 1566, 1: 825}\n"
     ]
    }
   ],
   "source": [
    "unique_test_labels, counts_test_labels = np.unique(test_labels, return_counts=True)\n",
    "\n",
    "print(' Num of Test Set:' , test_inputs.shape[0], '\\n'\n",
    "      ,'Not Pork vs Pork:', dict(zip(unique_test_labels, counts_test_labels)))"
   ]
  },
  {
   "cell_type": "markdown",
   "id": "725f7feb-b93b-4d0b-bcbf-562240a79f8b",
   "metadata": {
    "execution": {
     "iopub.execute_input": "2021-05-16T17:04:13.375644Z",
     "iopub.status.busy": "2021-05-16T17:04:13.375440Z",
     "iopub.status.idle": "2021-05-16T17:04:13.378111Z",
     "shell.execute_reply": "2021-05-16T17:04:13.377464Z",
     "shell.execute_reply.started": "2021-05-16T17:04:13.375623Z"
    },
    "tags": []
   },
   "source": [
    "-------------------------\n",
    "\n",
    "\n",
    "### Stage 3: Model and Building"
   ]
  },
  {
   "cell_type": "markdown",
   "id": "4a0e74bf-eaf4-4043-8d23-88291d8ea344",
   "metadata": {
    "execution": {
     "iopub.execute_input": "2021-05-16T17:13:18.807725Z",
     "iopub.status.busy": "2021-05-16T17:13:18.807498Z",
     "iopub.status.idle": "2021-05-16T17:13:18.810574Z",
     "shell.execute_reply": "2021-05-16T17:13:18.809625Z",
     "shell.execute_reply.started": "2021-05-16T17:13:18.807701Z"
    }
   },
   "source": [
    "#### (1) Using the Subclassing API to Build Dynamic Model"
   ]
  },
  {
   "cell_type": "code",
   "execution_count": 11,
   "id": "1f18f9b1-5f4d-4d0a-baf4-2eebed7f34f2",
   "metadata": {
    "execution": {
     "iopub.execute_input": "2021-05-23T03:32:43.405769Z",
     "iopub.status.busy": "2021-05-23T03:32:43.405574Z",
     "iopub.status.idle": "2021-05-23T03:32:43.413104Z",
     "shell.execute_reply": "2021-05-23T03:32:43.412401Z",
     "shell.execute_reply.started": "2021-05-23T03:32:43.405750Z"
    },
    "tags": []
   },
   "outputs": [],
   "source": [
    "class DCNN(tf.keras.Model):\n",
    "    def __init__(self,\n",
    "                 vocab_size,\n",
    "                 emb_dim=128,\n",
    "                 nb_filters=100,\n",
    "                 FFN_units=512,\n",
    "                 nb_classes=2,\n",
    "                 dropout_rate=0.1,\n",
    "                 training=False,\n",
    "                 name=\"dcnn\"):\n",
    "        super(DCNN, self).__init__(name=name)\n",
    "        self.embedding = layers.Embedding(vocab_size,emb_dim)\n",
    "        self.bigram = layers.Conv1D(filters=nb_filters, kernel_size=2, padding=\"valid\", activation=\"relu\")\n",
    "        self.trigram = layers.Conv1D(filters=nb_filters,kernel_size=3,padding=\"valid\",activation=\"relu\")\n",
    "        self.fourgram = layers.Conv1D(filters=nb_filters,kernel_size=4,padding=\"valid\",activation=\"relu\")\n",
    "        self.fivegram = layers.Conv1D(filters=nb_filters,kernel_size=5,padding=\"valid\",activation=\"relu\")\n",
    "        self.sixgram = layers.Conv1D(filters=nb_filters,kernel_size=6,padding=\"valid\",activation=\"relu\")\n",
    "        self.pool = layers.GlobalMaxPool1D()\n",
    "        self.dense_1 = layers.Dense(units=FFN_units, activation=\"relu\")\n",
    "        self.dropout = layers.Dropout(rate=dropout_rate)\n",
    "        self.last_dense = layers.Dense(units=1, activation=\"sigmoid\")    \n",
    "    def call(self, inputs, training):\n",
    "        x = self.embedding(inputs)\n",
    "        x_1 = self.bigram(x)\n",
    "        x_1 = self.pool(x_1)\n",
    "        x_2 = self.trigram(x)\n",
    "        x_2 = self.pool(x_2)\n",
    "        x_3 = self.fourgram(x)\n",
    "        x_3 = self.pool(x_3)\n",
    "        x_4 = self.fourgram(x)\n",
    "        x_4 = self.pool(x_4) \n",
    "        x_5 = self.fivegram(x)\n",
    "        x_5 = self.pool(x_5)      \n",
    "        merged = tf.concat([x_1, x_2, x_3, x_4, x_5], axis=-1) \n",
    "        merged = self.dense_1(merged)\n",
    "        merged = self.dropout(merged, training)\n",
    "        output = self.last_dense(merged)        \n",
    "        return output"
   ]
  },
  {
   "cell_type": "code",
   "execution_count": 12,
   "id": "bfc02e93-3a0e-4c1c-b488-b2db98b53824",
   "metadata": {
    "execution": {
     "iopub.execute_input": "2021-05-23T03:32:43.414821Z",
     "iopub.status.busy": "2021-05-23T03:32:43.414514Z",
     "iopub.status.idle": "2021-05-23T03:32:43.433884Z",
     "shell.execute_reply": "2021-05-23T03:32:43.433209Z",
     "shell.execute_reply.started": "2021-05-23T03:32:43.414796Z"
    },
    "tags": []
   },
   "outputs": [],
   "source": [
    "VOCAB_SIZE = tokenizer.vocab_size  # 5000 tokenizer.vocab_size\n",
    "EMB_DIM = 200\n",
    "NB_FILTERS = 100\n",
    "FFN_UNITS = 256\n",
    "NB_CLASSES = 2 #len(set(train_labels))\n",
    "DROPOUT_RATE = 0.2\n",
    "BATCH_SIZE = 230\n",
    "NB_EPOCHS = 80\n",
    "\n",
    "Dcnn = DCNN(vocab_size=VOCAB_SIZE,\n",
    "            emb_dim=EMB_DIM,\n",
    "            nb_filters=NB_FILTERS,\n",
    "            FFN_units=FFN_UNITS,\n",
    "            nb_classes=NB_CLASSES,\n",
    "            dropout_rate=DROPOUT_RATE)"
   ]
  },
  {
   "cell_type": "markdown",
   "id": "b0ec8f51-6ed8-49fa-9d5e-c6929184bdf1",
   "metadata": {
    "execution": {
     "iopub.execute_input": "2021-05-16T18:43:59.279424Z",
     "iopub.status.busy": "2021-05-16T18:43:59.279202Z",
     "iopub.status.idle": "2021-05-16T18:43:59.282718Z",
     "shell.execute_reply": "2021-05-16T18:43:59.281823Z",
     "shell.execute_reply.started": "2021-05-16T18:43:59.279399Z"
    }
   },
   "source": [
    "#### (2) Compile and Summary of the Model"
   ]
  },
  {
   "cell_type": "code",
   "execution_count": 13,
   "id": "2cce0414-05eb-4f79-9c27-bca9c91a2903",
   "metadata": {
    "execution": {
     "iopub.execute_input": "2021-05-23T03:32:43.435366Z",
     "iopub.status.busy": "2021-05-23T03:32:43.434862Z",
     "iopub.status.idle": "2021-05-23T03:32:43.494868Z",
     "shell.execute_reply": "2021-05-23T03:32:43.494295Z",
     "shell.execute_reply.started": "2021-05-23T03:32:43.435252Z"
    },
    "tags": []
   },
   "outputs": [
    {
     "name": "stdout",
     "output_type": "stream",
     "text": [
      "Model: \"dcnn\"\n",
      "_________________________________________________________________\n",
      "Layer (type)                 Output Shape              Param #   \n",
      "=================================================================\n",
      "embedding (Embedding)        multiple                  586600    \n",
      "_________________________________________________________________\n",
      "conv1d (Conv1D)              multiple                  40100     \n",
      "_________________________________________________________________\n",
      "conv1d_1 (Conv1D)            multiple                  60100     \n",
      "_________________________________________________________________\n",
      "conv1d_2 (Conv1D)            multiple                  80100     \n",
      "_________________________________________________________________\n",
      "conv1d_3 (Conv1D)            multiple                  100100    \n",
      "_________________________________________________________________\n",
      "conv1d_4 (Conv1D)            multiple                  0 (unused)\n",
      "_________________________________________________________________\n",
      "global_max_pooling1d (Global multiple                  0         \n",
      "_________________________________________________________________\n",
      "dense (Dense)                multiple                  128256    \n",
      "_________________________________________________________________\n",
      "dropout (Dropout)            multiple                  0         \n",
      "_________________________________________________________________\n",
      "dense_1 (Dense)              multiple                  257       \n",
      "=================================================================\n",
      "Total params: 995,513\n",
      "Trainable params: 995,513\n",
      "Non-trainable params: 0\n",
      "_________________________________________________________________\n"
     ]
    }
   ],
   "source": [
    "Dcnn.compile(loss=\"binary_crossentropy\", optimizer=\"adam\", metrics=[\"accuracy\"])\n",
    "Dcnn.build(input_shape = (train_inputs.shape[1] , EMB_DIM)) # (train_inputs.shape[1] , EMB_DIM)  (785 , EMB_DIM)\n",
    "Dcnn.summary()"
   ]
  },
  {
   "cell_type": "markdown",
   "id": "3880d2a4-2152-43de-bad3-34e67e97469e",
   "metadata": {
    "tags": []
   },
   "source": [
    "#### (3) Check Point Path"
   ]
  },
  {
   "cell_type": "code",
   "execution_count": 14,
   "id": "2c18aa59-a797-4a67-bc4d-a412dbaaedcb",
   "metadata": {
    "execution": {
     "iopub.execute_input": "2021-05-23T03:32:43.495942Z",
     "iopub.status.busy": "2021-05-23T03:32:43.495805Z",
     "iopub.status.idle": "2021-05-23T03:32:43.499507Z",
     "shell.execute_reply": "2021-05-23T03:32:43.498844Z",
     "shell.execute_reply.started": "2021-05-23T03:32:43.495924Z"
    },
    "tags": []
   },
   "outputs": [],
   "source": [
    "checkpoint_path = \"checkpoint_recode/ckpt_manager\"\n",
    "\n",
    "ckpt = tf.train.Checkpoint(Dcnn=Dcnn)\n",
    "\n",
    "ckpt_manager = tf.train.CheckpointManager(ckpt, checkpoint_path, max_to_keep=10)\n",
    "\n",
    "if ckpt_manager.latest_checkpoint:\n",
    "    ckpt.restore(ckpt_manager.latest_checkpoint)\n",
    "    print(\"Checkpoint Located!!\")"
   ]
  },
  {
   "cell_type": "markdown",
   "id": "73d70667-275f-40c0-bd71-6b47e9722798",
   "metadata": {
    "execution": {
     "iopub.execute_input": "2021-05-16T17:47:13.442664Z",
     "iopub.status.busy": "2021-05-16T17:47:13.442381Z",
     "iopub.status.idle": "2021-05-16T17:47:13.448371Z",
     "shell.execute_reply": "2021-05-16T17:47:13.446970Z",
     "shell.execute_reply.started": "2021-05-16T17:47:13.442620Z"
    }
   },
   "source": [
    "-------------------------\n",
    "\n",
    "### Stage 4: Train the Model"
   ]
  },
  {
   "cell_type": "code",
   "execution_count": 15,
   "id": "cc975047-5a58-46dc-b427-262796d9b625",
   "metadata": {
    "execution": {
     "iopub.execute_input": "2021-05-23T03:32:43.500582Z",
     "iopub.status.busy": "2021-05-23T03:32:43.500313Z",
     "iopub.status.idle": "2021-05-23T03:32:43.502968Z",
     "shell.execute_reply": "2021-05-23T03:32:43.502396Z",
     "shell.execute_reply.started": "2021-05-23T03:32:43.500563Z"
    },
    "tags": []
   },
   "outputs": [],
   "source": [
    "early_stop = EarlyStopping(monitor='val_loss',patience=5)"
   ]
  },
  {
   "cell_type": "code",
   "execution_count": 16,
   "id": "baf0cade-2c45-43b2-9782-6a8c6e570153",
   "metadata": {
    "execution": {
     "iopub.execute_input": "2021-05-23T03:32:43.504048Z",
     "iopub.status.busy": "2021-05-23T03:32:43.503819Z",
     "iopub.status.idle": "2021-05-23T03:39:50.509050Z",
     "shell.execute_reply": "2021-05-23T03:39:50.508195Z",
     "shell.execute_reply.started": "2021-05-23T03:32:43.504027Z"
    },
    "tags": []
   },
   "outputs": [
    {
     "name": "stdout",
     "output_type": "stream",
     "text": [
      "Epoch 1/80\n",
      "22/22 [==============================] - 44s 2s/step - loss: 0.5907 - accuracy: 0.6869 - val_loss: 0.4587 - val_accuracy: 0.7871\n",
      "Epoch 2/80\n",
      "22/22 [==============================] - 44s 2s/step - loss: 0.3292 - accuracy: 0.8636 - val_loss: 0.2435 - val_accuracy: 0.9030\n",
      "Epoch 3/80\n",
      "22/22 [==============================] - 50s 2s/step - loss: 0.1600 - accuracy: 0.9427 - val_loss: 0.1668 - val_accuracy: 0.9410\n",
      "Epoch 4/80\n",
      "22/22 [==============================] - 56s 3s/step - loss: 0.0811 - accuracy: 0.9730 - val_loss: 0.1444 - val_accuracy: 0.9506\n",
      "Epoch 5/80\n",
      "22/22 [==============================] - 48s 2s/step - loss: 0.0498 - accuracy: 0.9827 - val_loss: 0.1545 - val_accuracy: 0.9494\n",
      "Epoch 6/80\n",
      "22/22 [==============================] - 46s 2s/step - loss: 0.0448 - accuracy: 0.9847 - val_loss: 0.1857 - val_accuracy: 0.9490\n",
      "Epoch 7/80\n",
      "22/22 [==============================] - 46s 2s/step - loss: 0.0510 - accuracy: 0.9850 - val_loss: 0.1780 - val_accuracy: 0.9419\n",
      "Epoch 8/80\n",
      "22/22 [==============================] - 46s 2s/step - loss: 0.0678 - accuracy: 0.9817 - val_loss: 0.2000 - val_accuracy: 0.9339\n",
      "Epoch 9/80\n",
      "22/22 [==============================] - 46s 2s/step - loss: 0.0514 - accuracy: 0.9845 - val_loss: 0.1807 - val_accuracy: 0.9427\n"
     ]
    },
    {
     "data": {
      "text/plain": [
       "'checkpoint_recode/ckpt_manager/ckpt-1'"
      ]
     },
     "execution_count": 16,
     "metadata": {},
     "output_type": "execute_result"
    }
   ],
   "source": [
    "Dcnn.fit(train_inputs, train_labels,\n",
    "         validation_data=(test_inputs, test_labels),\n",
    "         batch_size=BATCH_SIZE,\n",
    "         epochs=NB_EPOCHS,\n",
    "         callbacks=[early_stop])\n",
    "ckpt_manager.save()"
   ]
  },
  {
   "cell_type": "markdown",
   "id": "3b0ac256-ab81-4ff5-8430-48f8bba50126",
   "metadata": {
    "execution": {
     "iopub.execute_input": "2021-05-16T18:23:25.926977Z",
     "iopub.status.busy": "2021-05-16T18:23:25.926754Z",
     "iopub.status.idle": "2021-05-16T18:23:25.931072Z",
     "shell.execute_reply": "2021-05-16T18:23:25.930041Z",
     "shell.execute_reply.started": "2021-05-16T18:23:25.926952Z"
    }
   },
   "source": [
    "-------------------------\n",
    "\n",
    "### Stage 5: Evaluation"
   ]
  },
  {
   "cell_type": "code",
   "execution_count": 17,
   "id": "58099cc1-19e0-443a-b960-7ae4d67344d3",
   "metadata": {
    "execution": {
     "iopub.execute_input": "2021-05-23T03:39:50.510880Z",
     "iopub.status.busy": "2021-05-23T03:39:50.510624Z",
     "iopub.status.idle": "2021-05-23T03:39:50.528295Z",
     "shell.execute_reply": "2021-05-23T03:39:50.527471Z",
     "shell.execute_reply.started": "2021-05-23T03:39:50.510850Z"
    },
    "tags": []
   },
   "outputs": [
    {
     "data": {
      "text/html": [
       "<div>\n",
       "<style scoped>\n",
       "    .dataframe tbody tr th:only-of-type {\n",
       "        vertical-align: middle;\n",
       "    }\n",
       "\n",
       "    .dataframe tbody tr th {\n",
       "        vertical-align: top;\n",
       "    }\n",
       "\n",
       "    .dataframe thead th {\n",
       "        text-align: right;\n",
       "    }\n",
       "</style>\n",
       "<table border=\"1\" class=\"dataframe\">\n",
       "  <thead>\n",
       "    <tr style=\"text-align: right;\">\n",
       "      <th></th>\n",
       "      <th>loss</th>\n",
       "      <th>accuracy</th>\n",
       "      <th>val_loss</th>\n",
       "      <th>val_accuracy</th>\n",
       "    </tr>\n",
       "  </thead>\n",
       "  <tbody>\n",
       "    <tr>\n",
       "      <th>0</th>\n",
       "      <td>0.590730</td>\n",
       "      <td>0.686933</td>\n",
       "      <td>0.458685</td>\n",
       "      <td>0.787118</td>\n",
       "    </tr>\n",
       "    <tr>\n",
       "      <th>1</th>\n",
       "      <td>0.329235</td>\n",
       "      <td>0.863561</td>\n",
       "      <td>0.243493</td>\n",
       "      <td>0.902969</td>\n",
       "    </tr>\n",
       "    <tr>\n",
       "      <th>2</th>\n",
       "      <td>0.160024</td>\n",
       "      <td>0.942704</td>\n",
       "      <td>0.166788</td>\n",
       "      <td>0.941029</td>\n",
       "    </tr>\n",
       "    <tr>\n",
       "      <th>3</th>\n",
       "      <td>0.081061</td>\n",
       "      <td>0.973001</td>\n",
       "      <td>0.144373</td>\n",
       "      <td>0.950648</td>\n",
       "    </tr>\n",
       "    <tr>\n",
       "      <th>4</th>\n",
       "      <td>0.049802</td>\n",
       "      <td>0.982688</td>\n",
       "      <td>0.154476</td>\n",
       "      <td>0.949394</td>\n",
       "    </tr>\n",
       "    <tr>\n",
       "      <th>5</th>\n",
       "      <td>0.044826</td>\n",
       "      <td>0.984749</td>\n",
       "      <td>0.185732</td>\n",
       "      <td>0.948975</td>\n",
       "    </tr>\n",
       "    <tr>\n",
       "      <th>6</th>\n",
       "      <td>0.050970</td>\n",
       "      <td>0.984955</td>\n",
       "      <td>0.178025</td>\n",
       "      <td>0.941865</td>\n",
       "    </tr>\n",
       "    <tr>\n",
       "      <th>7</th>\n",
       "      <td>0.067829</td>\n",
       "      <td>0.981657</td>\n",
       "      <td>0.200027</td>\n",
       "      <td>0.933919</td>\n",
       "    </tr>\n",
       "    <tr>\n",
       "      <th>8</th>\n",
       "      <td>0.051449</td>\n",
       "      <td>0.984542</td>\n",
       "      <td>0.180682</td>\n",
       "      <td>0.942702</td>\n",
       "    </tr>\n",
       "  </tbody>\n",
       "</table>\n",
       "</div>"
      ],
      "text/plain": [
       "       loss  accuracy  val_loss  val_accuracy\n",
       "0  0.590730  0.686933  0.458685      0.787118\n",
       "1  0.329235  0.863561  0.243493      0.902969\n",
       "2  0.160024  0.942704  0.166788      0.941029\n",
       "3  0.081061  0.973001  0.144373      0.950648\n",
       "4  0.049802  0.982688  0.154476      0.949394\n",
       "5  0.044826  0.984749  0.185732      0.948975\n",
       "6  0.050970  0.984955  0.178025      0.941865\n",
       "7  0.067829  0.981657  0.200027      0.933919\n",
       "8  0.051449  0.984542  0.180682      0.942702"
      ]
     },
     "execution_count": 17,
     "metadata": {},
     "output_type": "execute_result"
    }
   ],
   "source": [
    "losses = pd.DataFrame(Dcnn.history.history)\n",
    "losses"
   ]
  },
  {
   "cell_type": "code",
   "execution_count": 18,
   "id": "f37a760f-b388-4051-a78d-295bce1f214a",
   "metadata": {
    "execution": {
     "iopub.execute_input": "2021-05-23T03:39:50.530008Z",
     "iopub.status.busy": "2021-05-23T03:39:50.529539Z",
     "iopub.status.idle": "2021-05-23T03:39:51.089527Z",
     "shell.execute_reply": "2021-05-23T03:39:51.088618Z",
     "shell.execute_reply.started": "2021-05-23T03:39:50.529973Z"
    },
    "tags": []
   },
   "outputs": [
    {
     "data": {
      "text/plain": [
       "<AxesSubplot:>"
      ]
     },
     "execution_count": 18,
     "metadata": {},
     "output_type": "execute_result"
    },
    {
     "data": {
      "image/png": "[encoded data removed]",
      "text/plain": [
       "<Figure size 432x288 with 1 Axes>"
      ]
     },
     "metadata": {
      "needs_background": "light"
     },
     "output_type": "display_data"
    },
    {
     "data": {
      "image/png": "[encoded data removed]",
      "text/plain": [
       "<Figure size 432x288 with 1 Axes>"
      ]
     },
     "metadata": {
      "needs_background": "light"
     },
     "output_type": "display_data"
    }
   ],
   "source": [
    "losses[['accuracy','val_accuracy']].plot()\n",
    "losses[['loss','val_loss']].plot()"
   ]
  },
  {
   "cell_type": "code",
   "execution_count": 19,
   "id": "44300a6c-8da8-43cd-ada0-208a99b6b9d7",
   "metadata": {
    "execution": {
     "iopub.execute_input": "2021-05-23T03:39:51.091327Z",
     "iopub.status.busy": "2021-05-23T03:39:51.090940Z",
     "iopub.status.idle": "2021-05-23T03:39:51.095471Z",
     "shell.execute_reply": "2021-05-23T03:39:51.094390Z",
     "shell.execute_reply.started": "2021-05-23T03:39:51.091292Z"
    },
    "tags": []
   },
   "outputs": [],
   "source": [
    "from sklearn.metrics import classification_report,confusion_matrix"
   ]
  },
  {
   "cell_type": "code",
   "execution_count": 20,
   "id": "17760825-eb35-4f8c-88a0-45e94387c08d",
   "metadata": {
    "execution": {
     "iopub.execute_input": "2021-05-23T03:39:51.097115Z",
     "iopub.status.busy": "2021-05-23T03:39:51.096735Z",
     "iopub.status.idle": "2021-05-23T03:39:55.994504Z",
     "shell.execute_reply": "2021-05-23T03:39:55.993448Z",
     "shell.execute_reply.started": "2021-05-23T03:39:51.097081Z"
    },
    "tags": []
   },
   "outputs": [
    {
     "name": "stdout",
     "output_type": "stream",
     "text": [
      "11/11 [==============================] - 5s 436ms/step - loss: 0.1807 - accuracy: 0.9427\n",
      "[0.1806824505329132, 0.9427018165588379]\n"
     ]
    }
   ],
   "source": [
    "evaluation_model = Dcnn.evaluate(test_inputs, test_labels, batch_size=BATCH_SIZE)\n",
    "print(evaluation_model)"
   ]
  },
  {
   "cell_type": "code",
   "execution_count": 21,
   "id": "c9a3f93d-4398-418c-b511-69594874cc5a",
   "metadata": {
    "execution": {
     "iopub.execute_input": "2021-05-23T03:39:55.996317Z",
     "iopub.status.busy": "2021-05-23T03:39:55.995954Z",
     "iopub.status.idle": "2021-05-23T03:40:00.745816Z",
     "shell.execute_reply": "2021-05-23T03:40:00.744787Z",
     "shell.execute_reply.started": "2021-05-23T03:39:55.996279Z"
    },
    "tags": []
   },
   "outputs": [
    {
     "name": "stdout",
     "output_type": "stream",
     "text": [
      "              precision    recall  f1-score   support\n",
      "\n",
      "           0       0.96      0.97      0.96      1566\n",
      "           1       0.93      0.92      0.93       825\n",
      "\n",
      "    accuracy                           0.95      2391\n",
      "   macro avg       0.95      0.94      0.94      2391\n",
      "weighted avg       0.95      0.95      0.95      2391\n",
      "\n"
     ]
    }
   ],
   "source": [
    "# pd.DataFrame(confusion_matrix(test_labels,predictions))\n",
    "predictions = Dcnn.predict(test_inputs)\n",
    "predictions = np.where(predictions >0.8 , 1, 0)\n",
    "print(classification_report(test_labels, predictions))"
   ]
  },
  {
   "cell_type": "code",
   "execution_count": 22,
   "id": "4767688b-bfc8-4dc4-b8ec-2252f7791534",
   "metadata": {
    "execution": {
     "iopub.execute_input": "2021-05-23T03:40:00.747632Z",
     "iopub.status.busy": "2021-05-23T03:40:00.747276Z",
     "iopub.status.idle": "2021-05-23T03:40:00.761721Z",
     "shell.execute_reply": "2021-05-23T03:40:00.760832Z",
     "shell.execute_reply.started": "2021-05-23T03:40:00.747599Z"
    },
    "tags": []
   },
   "outputs": [
    {
     "data": {
      "text/html": [
       "<div>\n",
       "<style scoped>\n",
       "    .dataframe tbody tr th:only-of-type {\n",
       "        vertical-align: middle;\n",
       "    }\n",
       "\n",
       "    .dataframe tbody tr th {\n",
       "        vertical-align: top;\n",
       "    }\n",
       "\n",
       "    .dataframe thead th {\n",
       "        text-align: right;\n",
       "    }\n",
       "</style>\n",
       "<table border=\"1\" class=\"dataframe\">\n",
       "  <thead>\n",
       "    <tr style=\"text-align: right;\">\n",
       "      <th></th>\n",
       "      <th>Predictions: Not Pork(0)</th>\n",
       "      <th>Predictions:Pork(1)</th>\n",
       "    </tr>\n",
       "  </thead>\n",
       "  <tbody>\n",
       "    <tr>\n",
       "      <th>Acutal: Not Pork(0)</th>\n",
       "      <td>1513</td>\n",
       "      <td>53</td>\n",
       "    </tr>\n",
       "    <tr>\n",
       "      <th>Acutal: Pork (1)</th>\n",
       "      <td>68</td>\n",
       "      <td>757</td>\n",
       "    </tr>\n",
       "  </tbody>\n",
       "</table>\n",
       "</div>"
      ],
      "text/plain": [
       "                     Predictions: Not Pork(0)  Predictions:Pork(1)\n",
       "Acutal: Not Pork(0)                      1513                   53\n",
       "Acutal: Pork (1)                           68                  757"
      ]
     },
     "execution_count": 22,
     "metadata": {},
     "output_type": "execute_result"
    }
   ],
   "source": [
    "t = pd.DataFrame(confusion_matrix(test_labels,predictions), \n",
    "             columns=['Predictions: Not Pork(0)','Predictions:Pork(1)'])\n",
    "t.index = ['Acutal: Not Pork(0)', 'Acutal: Pork (1)']\n",
    "t"
   ]
  },
  {
   "cell_type": "markdown",
   "id": "d0416d6f-5e46-47c9-abad-f344bea7a94a",
   "metadata": {},
   "source": [
    "-------------------------\n",
    "\n",
    "### Stage 6: Try the Model with New Data and Export an End-to-end Model\n"
   ]
  },
  {
   "cell_type": "markdown",
   "id": "394b9a6e-0130-4af2-88e5-efe91cf9f348",
   "metadata": {
    "execution": {
     "iopub.execute_input": "2021-05-16T22:53:41.558105Z",
     "iopub.status.busy": "2021-05-16T22:53:41.557872Z",
     "iopub.status.idle": "2021-05-16T22:53:41.560984Z",
     "shell.execute_reply": "2021-05-16T22:53:41.560122Z",
     "shell.execute_reply.started": "2021-05-16T22:53:41.558080Z"
    }
   },
   "source": [
    "#### (1) Test New Dataset from 2000 samples from Legislative Questions from 6th Session "
   ]
  },
  {
   "cell_type": "code",
   "execution_count": 23,
   "id": "632bf33e-1df7-46c5-9a67-ab7141a949c2",
   "metadata": {
    "execution": {
     "iopub.execute_input": "2021-05-23T03:40:00.763565Z",
     "iopub.status.busy": "2021-05-23T03:40:00.763292Z",
     "iopub.status.idle": "2021-05-23T03:40:00.768063Z",
     "shell.execute_reply": "2021-05-23T03:40:00.766976Z",
     "shell.execute_reply.started": "2021-05-23T03:40:00.763533Z"
    },
    "tags": []
   },
   "outputs": [],
   "source": [
    "def as_num(x):\n",
    "    \"\"\"\n",
    "    keep 10 decimals\n",
    "    \"\"\"\n",
    "    y = '{:.15f}'.format(x) \n",
    "    return y"
   ]
  },
  {
   "cell_type": "code",
   "execution_count": 33,
   "id": "06ea7d54-49e9-4363-8304-d1dabaf3beb4",
   "metadata": {
    "execution": {
     "iopub.execute_input": "2021-05-23T04:31:46.721351Z",
     "iopub.status.busy": "2021-05-23T04:31:46.721124Z",
     "iopub.status.idle": "2021-05-23T04:31:47.002634Z",
     "shell.execute_reply": "2021-05-23T04:31:47.002074Z",
     "shell.execute_reply.started": "2021-05-23T04:31:46.721326Z"
    },
    "tags": []
   },
   "outputs": [],
   "source": [
    "import pandas as pd\n",
    "import random\n",
    "\n",
    "# test the trined model using new text from 200 samples from Leislative Questions\n",
    "LQ6 = pd.read_csv('data/LQ_6th.csv')\n",
    "\n",
    "# drop '0': legislor  never have proposed any legisaltive questions. \n",
    "LQ6 = LQ6[LQ6['title'].isin(['0'])== False]\n",
    "\n",
    "# select text with number of charecters within EMB_DIM; len(sub_set) = 11162\n",
    "# sample_df = LQ6.loc[[len(char_num) for char_num in LQ6.title if len(char_num) < MAX_LEN], ['legislator','title', 'topic', 'category', 'keywords', 'ques_type']].reset_index(drop=True)\n",
    "random.seed(42)\n",
    "sample_df = LQ6.iloc[random.sample(range(len(LQ6)), 2000)][['legislator', 'title', 'topic', 'category', 'keywords', 'ques_type']]\n",
    "sub_set = [seg_char(text) for text in [clearPucts(text) for text in sample_df.title]]\n"
   ]
  },
  {
   "cell_type": "markdown",
   "id": "68cc06a7-27d7-4007-949d-f7df81246e25",
   "metadata": {
    "tags": []
   },
   "source": [
    "##### Top 10 of 2000 Samples"
   ]
  },
  {
   "cell_type": "code",
   "execution_count": 34,
   "id": "d4b618c9-8c4b-40ec-a396-b4679233197e",
   "metadata": {
    "execution": {
     "iopub.execute_input": "2021-05-23T04:31:48.832745Z",
     "iopub.status.busy": "2021-05-23T04:31:48.832526Z",
     "iopub.status.idle": "2021-05-23T04:31:58.186001Z",
     "shell.execute_reply": "2021-05-23T04:31:58.185281Z",
     "shell.execute_reply.started": "2021-05-23T04:31:48.832721Z"
    },
    "tags": []
   },
   "outputs": [
    {
     "data": {
      "text/html": [
       "<div>\n",
       "<style scoped>\n",
       "    .dataframe tbody tr th:only-of-type {\n",
       "        vertical-align: middle;\n",
       "    }\n",
       "\n",
       "    .dataframe tbody tr th {\n",
       "        vertical-align: top;\n",
       "    }\n",
       "\n",
       "    .dataframe thead th {\n",
       "        text-align: right;\n",
       "    }\n",
       "</style>\n",
       "<table border=\"1\" class=\"dataframe\">\n",
       "  <thead>\n",
       "    <tr style=\"text-align: right;\">\n",
       "      <th></th>\n",
       "      <th>legislator</th>\n",
       "      <th>Pork Value(Constituency Interest)</th>\n",
       "      <th>Legislative Questions</th>\n",
       "      <th>Topic</th>\n",
       "      <th>Key Word</th>\n",
       "    </tr>\n",
       "  </thead>\n",
       "  <tbody>\n",
       "    <tr>\n",
       "      <th>7382</th>\n",
       "      <td>盧秀燕</td>\n",
       "      <td>0.998805761337280</td>\n",
       "      <td>針對早期退除役軍官給與補助金發放金額過低，實無法解決終身生活所需，希望相關單位考量實際情況，...</td>\n",
       "      <td>榮民福利</td>\n",
       "      <td>早期退除役軍官給與補助金</td>\n",
       "    </tr>\n",
       "    <tr>\n",
       "      <th>9892</th>\n",
       "      <td>陳啟昱</td>\n",
       "      <td>0.998569488525391</td>\n",
       "      <td>鑑於現行《所得稅法》第十七條規定特別扣除額教育支出部分，僅以納稅義務人之子女就讀大專院校為限...</td>\n",
       "      <td>所得稅 ; 教育費用 ; 扣除額</td>\n",
       "      <td>所得稅法 ; 特別扣除額 ; 教育支出</td>\n",
       "    </tr>\n",
       "    <tr>\n",
       "      <th>1761</th>\n",
       "      <td>彭添富</td>\n",
       "      <td>0.997338652610779</td>\n",
       "      <td>針對「辦理九十四年原住民中低收入戶家庭租屋補助計畫」專案補助計畫，特向行政院提出質詢。</td>\n",
       "      <td>原住民族生活</td>\n",
       "      <td>原住民中低收入戶 ; 租屋補助</td>\n",
       "    </tr>\n",
       "    <tr>\n",
       "      <th>3999</th>\n",
       "      <td>林正峰</td>\n",
       "      <td>0.996683895587921</td>\n",
       "      <td>針對政府準備修法推動「二代健保」，健保保費採取「年度所得總額」為計算基礎，而非採用扣除免稅額...</td>\n",
       "      <td>國民 ; 健康保險 ; 保險費</td>\n",
       "      <td>二代健保 ; 年度所得總額</td>\n",
       "    </tr>\n",
       "    <tr>\n",
       "      <th>2450</th>\n",
       "      <td>李俊毅</td>\n",
       "      <td>0.996151566505432</td>\n",
       "      <td>針對「幼兒教育與照顧法」研究案即將出爐，因為師生比例調整，預估學費將會有所調整，政府應提供相...</td>\n",
       "      <td>教育政策 ; 學前教育</td>\n",
       "      <td>幼兒教育與照顧法 ; 學費 ; 幼兒托育</td>\n",
       "    </tr>\n",
       "    <tr>\n",
       "      <th>5342</th>\n",
       "      <td>沈智慧</td>\n",
       "      <td>0.995129108428955</td>\n",
       "      <td>針對內政部公布之人口統計資料顯示，去年全年台灣地區新生兒數目為二十一萬六千餘人，比前年再減少...</td>\n",
       "      <td>出生率 ; 人口政策</td>\n",
       "      <td>人口統計 ; 新生兒 ; 出生育率</td>\n",
       "    </tr>\n",
       "    <tr>\n",
       "      <th>4553</th>\n",
       "      <td>林鴻池</td>\n",
       "      <td>0.991809010505676</td>\n",
       "      <td>針對行政院宣布補助弱勢家庭子女就讀私校高中職之學費，卻將資格限制在「非自願就讀者」，有畫餅充...</td>\n",
       "      <td>低收入戶 ; 教育補助</td>\n",
       "      <td>弱勢家庭 ; 私立高中職</td>\n",
       "    </tr>\n",
       "    <tr>\n",
       "      <th>8340</th>\n",
       "      <td>蔡煌瑯(離職)</td>\n",
       "      <td>0.991307318210602</td>\n",
       "      <td>「2005南投花卉嘉年華」活動爭取中央經費補助案由，特向行政院提出質詢。</td>\n",
       "      <td>農業推廣 ; 政府補助</td>\n",
       "      <td>南投花卉嘉年華 ; 中央經費</td>\n",
       "    </tr>\n",
       "    <tr>\n",
       "      <th>1451</th>\n",
       "      <td>張顯耀</td>\n",
       "      <td>0.989596009254456</td>\n",
       "      <td>針對高雄市協勤民力補助預算編列不足，民力人員投注之心力、時間與領取之補貼金額顯不合比例。建請...</td>\n",
       "      <td>警察 ; 預算</td>\n",
       "      <td>第二預備金 ; 社區巡守隊</td>\n",
       "    </tr>\n",
       "    <tr>\n",
       "      <th>35</th>\n",
       "      <td>丁守中</td>\n",
       "      <td>0.987743139266968</td>\n",
       "      <td>針就民眾陳情指出，目前政府對身心障礙者提供之生活津貼，依身心障礙程度等級分為1000元至50...</td>\n",
       "      <td>身心障礙者福利</td>\n",
       "      <td>身心障礙者生活津貼</td>\n",
       "    </tr>\n",
       "    <tr>\n",
       "      <th>10735</th>\n",
       "      <td>黃志雄</td>\n",
       "      <td>0.986564517021179</td>\n",
       "      <td>針對樹林市三多地區三多國中新設案，因地方政府財務困難，無法如期支付龐大之建校費用，為維護樹林...</td>\n",
       "      <td>學校設立 ; 政府補助</td>\n",
       "      <td>三多國中 ; 建校費用</td>\n",
       "    </tr>\n",
       "    <tr>\n",
       "      <th>2601</th>\n",
       "      <td>李復興</td>\n",
       "      <td>0.981494307518005</td>\n",
       "      <td>發現自九十三年一月間起，勞保局陸續清查有一千多名國、公營事業退休員工溢領敬老津貼，截至93年...</td>\n",
       "      <td>老年給付 ; 勞工退休</td>\n",
       "      <td>公營事業退休員工 ; 溢領敬老津貼</td>\n",
       "    </tr>\n",
       "    <tr>\n",
       "      <th>4435</th>\n",
       "      <td>林重謨</td>\n",
       "      <td>0.979234874248505</td>\n",
       "      <td>針對彰化縣教育經費不足，急需中央補助，特向行政院提出緊急質詢。</td>\n",
       "      <td>地方財政 ; 教育經費</td>\n",
       "      <td>彰化縣 ; 教育經費</td>\n",
       "    </tr>\n",
       "    <tr>\n",
       "      <th>2282</th>\n",
       "      <td>曾華德</td>\n",
       "      <td>0.978963255882263</td>\n",
       "      <td>為民國38年至43年間戌守大陳島等地區之中華民國前江、浙、閩、粵反共救國軍補發薪餉問題，攸關...</td>\n",
       "      <td>軍餉</td>\n",
       "      <td>反共救國軍補發薪餉</td>\n",
       "    </tr>\n",
       "    <tr>\n",
       "      <th>9109</th>\n",
       "      <td>邱鏡淳</td>\n",
       "      <td>0.978227257728577</td>\n",
       "      <td>就政府為減緩政府財政負擔及維持退休人員與現職人員權益的平衡，推行「教育人員退休所得合理化方案...</td>\n",
       "      <td>教育人員退休 ; 退休金</td>\n",
       "      <td>教育人員 ; 退休所得</td>\n",
       "    </tr>\n",
       "  </tbody>\n",
       "</table>\n",
       "</div>"
      ],
      "text/plain": [
       "      legislator Pork Value(Constituency Interest)  \\\n",
       "7382         盧秀燕                 0.998805761337280   \n",
       "9892         陳啟昱                 0.998569488525391   \n",
       "1761         彭添富                 0.997338652610779   \n",
       "3999         林正峰                 0.996683895587921   \n",
       "2450         李俊毅                 0.996151566505432   \n",
       "5342         沈智慧                 0.995129108428955   \n",
       "4553         林鴻池                 0.991809010505676   \n",
       "8340     蔡煌瑯(離職)                 0.991307318210602   \n",
       "1451         張顯耀                 0.989596009254456   \n",
       "35           丁守中                 0.987743139266968   \n",
       "10735        黃志雄                 0.986564517021179   \n",
       "2601         李復興                 0.981494307518005   \n",
       "4435         林重謨                 0.979234874248505   \n",
       "2282         曾華德                 0.978963255882263   \n",
       "9109         邱鏡淳                 0.978227257728577   \n",
       "\n",
       "                                  Legislative Questions              Topic  \\\n",
       "7382   針對早期退除役軍官給與補助金發放金額過低，實無法解決終身生活所需，希望相關單位考量實際情況，...              榮民福利   \n",
       "9892   鑑於現行《所得稅法》第十七條規定特別扣除額教育支出部分，僅以納稅義務人之子女就讀大專院校為限...  所得稅 ; 教育費用 ; 扣除額   \n",
       "1761         針對「辦理九十四年原住民中低收入戶家庭租屋補助計畫」專案補助計畫，特向行政院提出質詢。            原住民族生活   \n",
       "3999   針對政府準備修法推動「二代健保」，健保保費採取「年度所得總額」為計算基礎，而非採用扣除免稅額...   國民 ; 健康保險 ; 保險費   \n",
       "2450   針對「幼兒教育與照顧法」研究案即將出爐，因為師生比例調整，預估學費將會有所調整，政府應提供相...       教育政策 ; 學前教育   \n",
       "5342   針對內政部公布之人口統計資料顯示，去年全年台灣地區新生兒數目為二十一萬六千餘人，比前年再減少...        出生率 ; 人口政策   \n",
       "4553   針對行政院宣布補助弱勢家庭子女就讀私校高中職之學費，卻將資格限制在「非自願就讀者」，有畫餅充...       低收入戶 ; 教育補助   \n",
       "8340                「2005南投花卉嘉年華」活動爭取中央經費補助案由，特向行政院提出質詢。       農業推廣 ; 政府補助   \n",
       "1451   針對高雄市協勤民力補助預算編列不足，民力人員投注之心力、時間與領取之補貼金額顯不合比例。建請...           警察 ; 預算   \n",
       "35     針就民眾陳情指出，目前政府對身心障礙者提供之生活津貼，依身心障礙程度等級分為1000元至50...           身心障礙者福利   \n",
       "10735  針對樹林市三多地區三多國中新設案，因地方政府財務困難，無法如期支付龐大之建校費用，為維護樹林...       學校設立 ; 政府補助   \n",
       "2601   發現自九十三年一月間起，勞保局陸續清查有一千多名國、公營事業退休員工溢領敬老津貼，截至93年...       老年給付 ; 勞工退休   \n",
       "4435                     針對彰化縣教育經費不足，急需中央補助，特向行政院提出緊急質詢。       地方財政 ; 教育經費   \n",
       "2282   為民國38年至43年間戌守大陳島等地區之中華民國前江、浙、閩、粵反共救國軍補發薪餉問題，攸關...                軍餉   \n",
       "9109   就政府為減緩政府財政負擔及維持退休人員與現職人員權益的平衡，推行「教育人員退休所得合理化方案...      教育人員退休 ; 退休金   \n",
       "\n",
       "                   Key Word  \n",
       "7382           早期退除役軍官給與補助金  \n",
       "9892    所得稅法 ; 特別扣除額 ; 教育支出  \n",
       "1761        原住民中低收入戶 ; 租屋補助  \n",
       "3999          二代健保 ; 年度所得總額  \n",
       "2450   幼兒教育與照顧法 ; 學費 ; 幼兒托育  \n",
       "5342      人口統計 ; 新生兒 ; 出生育率  \n",
       "4553           弱勢家庭 ; 私立高中職  \n",
       "8340         南投花卉嘉年華 ; 中央經費  \n",
       "1451          第二預備金 ; 社區巡守隊  \n",
       "35                身心障礙者生活津貼  \n",
       "10735           三多國中 ; 建校費用  \n",
       "2601      公營事業退休員工 ; 溢領敬老津貼  \n",
       "4435             彰化縣 ; 教育經費  \n",
       "2282              反共救國軍補發薪餉  \n",
       "9109            教育人員 ; 退休所得  "
      ]
     },
     "execution_count": 34,
     "metadata": {},
     "output_type": "execute_result"
    }
   ],
   "source": [
    "pd.DataFrame(\n",
    "    {'legislator': sample_df.legislator,\n",
    "     'Pork Value(Constituency Interest)':[as_num(Dcnn(np.array([tokenizer.encode(line)]), training=True).numpy()[0][0]) for line in sub_set],\n",
    "     'Legislative Questions ': sample_df.title,\n",
    "     'Topic': sample_df.topic,\n",
    "     'Key Word':sample_df.keywords}).sort_values(by=['Pork Value(Constituency Interest)'], ascending = False).head(15)"
   ]
  },
  {
   "cell_type": "markdown",
   "id": "6a6d4b15-3e05-427d-a664-8c8ce4e6622c",
   "metadata": {},
   "source": [
    "##### Last 10 Rows of 2000 Samples"
   ]
  },
  {
   "cell_type": "code",
   "execution_count": 32,
   "id": "369a7336-dc9d-4883-b919-b19611b5ad39",
   "metadata": {
    "execution": {
     "iopub.execute_input": "2021-05-23T04:30:31.696086Z",
     "iopub.status.busy": "2021-05-23T04:30:31.695883Z",
     "iopub.status.idle": "2021-05-23T04:30:40.998956Z",
     "shell.execute_reply": "2021-05-23T04:30:40.998491Z",
     "shell.execute_reply.started": "2021-05-23T04:30:31.696055Z"
    },
    "tags": []
   },
   "outputs": [
    {
     "data": {
      "text/html": [
       "<div>\n",
       "<style scoped>\n",
       "    .dataframe tbody tr th:only-of-type {\n",
       "        vertical-align: middle;\n",
       "    }\n",
       "\n",
       "    .dataframe tbody tr th {\n",
       "        vertical-align: top;\n",
       "    }\n",
       "\n",
       "    .dataframe thead th {\n",
       "        text-align: right;\n",
       "    }\n",
       "</style>\n",
       "<table border=\"1\" class=\"dataframe\">\n",
       "  <thead>\n",
       "    <tr style=\"text-align: right;\">\n",
       "      <th></th>\n",
       "      <th>legislator</th>\n",
       "      <th>Pork Value(Constituency Interest)</th>\n",
       "      <th>Legislative Questions</th>\n",
       "      <th>Topic</th>\n",
       "      <th>Key Word</th>\n",
       "    </tr>\n",
       "  </thead>\n",
       "  <tbody>\n",
       "    <tr>\n",
       "      <th>6532</th>\n",
       "      <td>王幸男</td>\n",
       "      <td>0.000015487245037</td>\n",
       "      <td>針對陳總統日昨重申，有信心一定能夠在二○○八年卸任總統之前，為台灣催生一部合身、合時、合用的...</td>\n",
       "      <td>憲法修正</td>\n",
       "      <td>新憲法 ; 修改憲法</td>\n",
       "    </tr>\n",
       "    <tr>\n",
       "      <th>4124</th>\n",
       "      <td>林正峰</td>\n",
       "      <td>0.000014733128410</td>\n",
       "      <td>鑑於近年來臺灣地區毒品氾濫，吸毒人數劇增，危害國民身心健康甚鉅，因而滋生之犯罪更成為影響社會...</td>\n",
       "      <td>煙毒勒戒 ; 醫院</td>\n",
       "      <td>吸毒 ; 署立醫院 ; 毒品戒治專責機構</td>\n",
       "    </tr>\n",
       "    <tr>\n",
       "      <th>4356</th>\n",
       "      <td>林進興</td>\n",
       "      <td>0.000014124257177</td>\n",
       "      <td>針對行政院金融監督管理委員會為了解決國人廣大的卡債問題，積極推廣債務協商機制，政策本意良好，...</td>\n",
       "      <td>信用卡 ; 債務</td>\n",
       "      <td>卡債 ; 協商機制</td>\n",
       "    </tr>\n",
       "    <tr>\n",
       "      <th>9832</th>\n",
       "      <td>陳志彬</td>\n",
       "      <td>0.000012909373254</td>\n",
       "      <td>針對層出不窮的黑道暴力討債、卡奴自殺等不幸社會事件，引發自殺潮問題，本席強烈要求主管單位應嚴...</td>\n",
       "      <td>銀行管理 ; 信用卡 ; 債務</td>\n",
       "      <td>暴力討債 ; 卡奴 ; 自殺</td>\n",
       "    </tr>\n",
       "    <tr>\n",
       "      <th>10120</th>\n",
       "      <td>陳朝龍</td>\n",
       "      <td>0.000012007250007</td>\n",
       "      <td>針對英國政府宣稱台灣出口至該國禽鳥，檢驗出感染禽流感H5N1病毒死亡。由於我國迄今並未發現有...</td>\n",
       "      <td>傳染病防治 ; 走私</td>\n",
       "      <td>英國政府 ; 台灣禽鳥 ; 禽流感 ; 相思鳥 ; 走私</td>\n",
       "    </tr>\n",
       "    <tr>\n",
       "      <th>982</th>\n",
       "      <td>周守訓</td>\n",
       "      <td>0.000011886435459</td>\n",
       "      <td>針對日前媒體報導陳水扁總統宣示，十二月二十五日耶誕節是重要的宗教節慶，更是我國的行憲紀念日，...</td>\n",
       "      <td>宗教 ; 假日</td>\n",
       "      <td>耶誕節 ; 行憲紀念日 ; 宗教自由 ; 政教分離</td>\n",
       "    </tr>\n",
       "    <tr>\n",
       "      <th>6162</th>\n",
       "      <td>王幸男</td>\n",
       "      <td>0.000008758366675</td>\n",
       "      <td>針對媒體報導，經建會副立委張景森頻頻爆料多起不成熟的規劃案，造成行政亂象，傷害整個行政團隊形...</td>\n",
       "      <td>政府官員 ; 政府施政</td>\n",
       "      <td>張景森 ; 行政亂象 ; 行政團隊</td>\n",
       "    </tr>\n",
       "    <tr>\n",
       "      <th>8839</th>\n",
       "      <td>賴清德</td>\n",
       "      <td>0.000008419265214</td>\n",
       "      <td>針對市售豆類製品疑含「過氧化氫」情形嚴重，傷害消費者健康，爰要求相關單位依食品衛生管理法切實...</td>\n",
       "      <td>食品管理</td>\n",
       "      <td>豆類製品 ; 過氧化氫</td>\n",
       "    </tr>\n",
       "    <tr>\n",
       "      <th>7421</th>\n",
       "      <td>管碧玲</td>\n",
       "      <td>0.000007414473657</td>\n",
       "      <td>針對「卡債卡死人」問題，認為財政部、金管會對於金融機構浮濫發行信用卡與現金卡，沒盡到監督管理...</td>\n",
       "      <td>銀行管理 ; 信用卡</td>\n",
       "      <td>卡債 ; 信用卡 ; 現金卡</td>\n",
       "    </tr>\n",
       "    <tr>\n",
       "      <th>7429</th>\n",
       "      <td>管碧玲</td>\n",
       "      <td>0.000005643028544</td>\n",
       "      <td>針對近日台灣鐵路管理局發生網路訂票系統遭到內部人員惡意壟斷，導致一般民眾訂票權益受損之弊端；...</td>\n",
       "      <td>鐵路管理 ; 車票</td>\n",
       "      <td>網路訂票 ; 壟斷 ; 台鐵</td>\n",
       "    </tr>\n",
       "    <tr>\n",
       "      <th>725</th>\n",
       "      <td>吳敦義</td>\n",
       "      <td>0.000005487859653</td>\n",
       "      <td>鑑於台灣入聯叩關第十五度失敗，行政院藉舉辦各種入聯宣傳名義，拿人民血汗錢給民進黨花用，卻玩假...</td>\n",
       "      <td>黨政關係 ; 行政中立</td>\n",
       "      <td>入聯宣傳 ; 民進黨</td>\n",
       "    </tr>\n",
       "    <tr>\n",
       "      <th>7674</th>\n",
       "      <td>羅世雄</td>\n",
       "      <td>0.000004499516763</td>\n",
       "      <td>針對手機通訊業者辦理新辦戶及更換SIM卡程序中，出現犯罪集團持偽造身分證，藉此竊取個人資料，...</td>\n",
       "      <td>電信行政 ; 國民身分證 ; 隱私權 ; 偽造</td>\n",
       "      <td>手機 ; 竊取個人資料 ; 犯罪集團</td>\n",
       "    </tr>\n",
       "    <tr>\n",
       "      <th>5298</th>\n",
       "      <td>沈智慧</td>\n",
       "      <td>0.000003465145937</td>\n",
       "      <td>針對貴院謝院長長廷上任後，包括前第一金控董事長謝壽夫、台師大校長黃光彩先後去職；另包括內政部...</td>\n",
       "      <td>行政首長</td>\n",
       "      <td>部會首長 ; 道歉內閣</td>\n",
       "    </tr>\n",
       "    <tr>\n",
       "      <th>7514</th>\n",
       "      <td>紀國棟</td>\n",
       "      <td>0.000001686927703</td>\n",
       "      <td>鑒於台灣極力發展觀光倍增之際，竟一再傳出中國觀光客來台糾紛頻傳，爰要求觀光局為下列改進：一、...</td>\n",
       "      <td>旅遊業 ; 觀光</td>\n",
       "      <td>中國觀光客 ; 旅遊糾紛</td>\n",
       "    </tr>\n",
       "    <tr>\n",
       "      <th>2339</th>\n",
       "      <td>朱俊曉</td>\n",
       "      <td>0.000000979484071</td>\n",
       "      <td>針對近日新內閣多項工作狀況頻頻，引起治安、金融和外交上的政治危機，並嚴重影響政府、國家形象，...</td>\n",
       "      <td>內閣改組 ; 政府施政</td>\n",
       "      <td>內閣</td>\n",
       "    </tr>\n",
       "  </tbody>\n",
       "</table>\n",
       "</div>"
      ],
      "text/plain": [
       "      legislator Pork Value(Constituency Interest)  \\\n",
       "6532         王幸男                 0.000015487245037   \n",
       "4124         林正峰                 0.000014733128410   \n",
       "4356         林進興                 0.000014124257177   \n",
       "9832         陳志彬                 0.000012909373254   \n",
       "10120        陳朝龍                 0.000012007250007   \n",
       "982          周守訓                 0.000011886435459   \n",
       "6162         王幸男                 0.000008758366675   \n",
       "8839         賴清德                 0.000008419265214   \n",
       "7421         管碧玲                 0.000007414473657   \n",
       "7429         管碧玲                 0.000005643028544   \n",
       "725          吳敦義                 0.000005487859653   \n",
       "7674         羅世雄                 0.000004499516763   \n",
       "5298         沈智慧                 0.000003465145937   \n",
       "7514         紀國棟                 0.000001686927703   \n",
       "2339         朱俊曉                 0.000000979484071   \n",
       "\n",
       "                                  Legislative Questions   \\\n",
       "6532   針對陳總統日昨重申，有信心一定能夠在二○○八年卸任總統之前，為台灣催生一部合身、合時、合用的...   \n",
       "4124   鑑於近年來臺灣地區毒品氾濫，吸毒人數劇增，危害國民身心健康甚鉅，因而滋生之犯罪更成為影響社會...   \n",
       "4356   針對行政院金融監督管理委員會為了解決國人廣大的卡債問題，積極推廣債務協商機制，政策本意良好，...   \n",
       "9832   針對層出不窮的黑道暴力討債、卡奴自殺等不幸社會事件，引發自殺潮問題，本席強烈要求主管單位應嚴...   \n",
       "10120  針對英國政府宣稱台灣出口至該國禽鳥，檢驗出感染禽流感H5N1病毒死亡。由於我國迄今並未發現有...   \n",
       "982    針對日前媒體報導陳水扁總統宣示，十二月二十五日耶誕節是重要的宗教節慶，更是我國的行憲紀念日，...   \n",
       "6162   針對媒體報導，經建會副立委張景森頻頻爆料多起不成熟的規劃案，造成行政亂象，傷害整個行政團隊形...   \n",
       "8839   針對市售豆類製品疑含「過氧化氫」情形嚴重，傷害消費者健康，爰要求相關單位依食品衛生管理法切實...   \n",
       "7421   針對「卡債卡死人」問題，認為財政部、金管會對於金融機構浮濫發行信用卡與現金卡，沒盡到監督管理...   \n",
       "7429   針對近日台灣鐵路管理局發生網路訂票系統遭到內部人員惡意壟斷，導致一般民眾訂票權益受損之弊端；...   \n",
       "725    鑑於台灣入聯叩關第十五度失敗，行政院藉舉辦各種入聯宣傳名義，拿人民血汗錢給民進黨花用，卻玩假...   \n",
       "7674   針對手機通訊業者辦理新辦戶及更換SIM卡程序中，出現犯罪集團持偽造身分證，藉此竊取個人資料，...   \n",
       "5298   針對貴院謝院長長廷上任後，包括前第一金控董事長謝壽夫、台師大校長黃光彩先後去職；另包括內政部...   \n",
       "7514   鑒於台灣極力發展觀光倍增之際，竟一再傳出中國觀光客來台糾紛頻傳，爰要求觀光局為下列改進：一、...   \n",
       "2339   針對近日新內閣多項工作狀況頻頻，引起治安、金融和外交上的政治危機，並嚴重影響政府、國家形象，...   \n",
       "\n",
       "                         Topic                      Key Word  \n",
       "6532                      憲法修正                    新憲法 ; 修改憲法  \n",
       "4124                 煙毒勒戒 ; 醫院          吸毒 ; 署立醫院 ; 毒品戒治專責機構  \n",
       "4356                  信用卡 ; 債務                     卡債 ; 協商機制  \n",
       "9832           銀行管理 ; 信用卡 ; 債務                暴力討債 ; 卡奴 ; 自殺  \n",
       "10120               傳染病防治 ; 走私  英國政府 ; 台灣禽鳥 ; 禽流感 ; 相思鳥 ; 走私  \n",
       "982                    宗教 ; 假日     耶誕節 ; 行憲紀念日 ; 宗教自由 ; 政教分離  \n",
       "6162               政府官員 ; 政府施政             張景森 ; 行政亂象 ; 行政團隊  \n",
       "8839                      食品管理                   豆類製品 ; 過氧化氫  \n",
       "7421                銀行管理 ; 信用卡                卡債 ; 信用卡 ; 現金卡  \n",
       "7429                 鐵路管理 ; 車票                網路訂票 ; 壟斷 ; 台鐵  \n",
       "725                黨政關係 ; 行政中立                    入聯宣傳 ; 民進黨  \n",
       "7674   電信行政 ; 國民身分證 ; 隱私權 ; 偽造            手機 ; 竊取個人資料 ; 犯罪集團  \n",
       "5298                      行政首長                   部會首長 ; 道歉內閣  \n",
       "7514                  旅遊業 ; 觀光                  中國觀光客 ; 旅遊糾紛  \n",
       "2339               內閣改組 ; 政府施政                            內閣  "
      ]
     },
     "execution_count": 32,
     "metadata": {},
     "output_type": "execute_result"
    }
   ],
   "source": [
    "pd.DataFrame(\n",
    "    {'legislator': sample_df.legislator,\n",
    "     'Pork Value(Constituency Interest)':[as_num(Dcnn(np.array([tokenizer.encode(line)]), training=True).numpy()[0][0]) for line in sub_set],\n",
    "     'Legislative Questions ': sample_df.title,\n",
    "     'Topic': sample_df.topic,\n",
    "     'Key Word':sample_df.keywords}).sort_values(by=['Pork Value(Constituency Interest)'], ascending = False).tail(15)"
   ]
  },
  {
   "cell_type": "markdown",
   "id": "5dc01475-847a-408f-9972-ac02e7aa4721",
   "metadata": {},
   "source": [
    "#### (2) Export an End-to-end Model\n"
   ]
  },
  {
   "cell_type": "code",
   "execution_count": 27,
   "id": "196028d0-edfe-434f-a173-4ccaa688faaa",
   "metadata": {
    "execution": {
     "iopub.execute_input": "2021-05-23T03:40:22.775290Z",
     "iopub.status.busy": "2021-05-23T03:40:22.774963Z",
     "iopub.status.idle": "2021-05-23T03:40:22.778512Z",
     "shell.execute_reply": "2021-05-23T03:40:22.777567Z",
     "shell.execute_reply.started": "2021-05-23T03:40:22.775270Z"
    },
    "tags": []
   },
   "outputs": [],
   "source": [
    "from tensorflow.keras.models import load_model"
   ]
  },
  {
   "cell_type": "code",
   "execution_count": null,
   "id": "071291d0-c5bb-48de-adb2-f8b2bb3bb542",
   "metadata": {
    "tags": []
   },
   "outputs": [],
   "source": [
    "# Get model (Sequential, Functional Model, or Model subclass)\n",
    "Dcnn.save('lour_pork_model')"
   ]
  },
  {
   "cell_type": "code",
   "execution_count": 29,
   "id": "2ac46183-b841-469b-8897-1fea2922e445",
   "metadata": {
    "execution": {
     "iopub.execute_input": "2021-05-23T03:40:23.729892Z",
     "iopub.status.busy": "2021-05-23T03:40:23.729723Z",
     "iopub.status.idle": "2021-05-23T03:40:24.081644Z",
     "shell.execute_reply": "2021-05-23T03:40:24.080962Z",
     "shell.execute_reply.started": "2021-05-23T03:40:23.729873Z"
    },
    "tags": []
   },
   "outputs": [],
   "source": [
    "from tensorflow import keras\n",
    "model = keras.models.load_model('lour_pork_model')"
   ]
  }
 ],
 "metadata": {
  "kernelspec": {
   "display_name": "Python 3",
   "language": "python",
   "name": "python3"
  },
  "language_info": {
   "codemirror_mode": {
    "name": "ipython",
    "version": 3
   },
   "file_extension": ".py",
   "mimetype": "text/x-python",
   "name": "python",
   "nbconvert_exporter": "python",
   "pygments_lexer": "ipython3",
   "version": "3.8.8"
  }
 },
 "nbformat": 4,
 "nbformat_minor": 5
}
