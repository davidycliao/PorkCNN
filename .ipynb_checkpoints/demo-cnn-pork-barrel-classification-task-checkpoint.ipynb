{
 "cells": [
  {
   "cell_type": "markdown",
   "id": "b65dfbdc-bb80-4bd4-8248-dd06483222cd",
   "metadata": {},
   "source": [
    "# Lour's Pork Barrel Classifier (羅老師肉桶文本分類器)🐖\n",
    "## Convolutional Neural Networks for Pork Barrel Project Classification "
   ]
  },
  {
   "cell_type": "markdown",
   "id": "e8005d5a-f938-4c26-86d5-592408152d08",
   "metadata": {},
   "source": [
    "-------------------------\n",
    "\n",
    "### Stage 1: Libaries & Dependencies"
   ]
  },
  {
   "cell_type": "code",
   "execution_count": 1,
   "id": "6ca92ba3-7480-418f-91e0-d2beea2d10af",
   "metadata": {
    "execution": {
     "iopub.execute_input": "2021-05-19T22:00:23.999272Z",
     "iopub.status.busy": "2021-05-19T22:00:23.999076Z",
     "iopub.status.idle": "2021-05-19T22:00:27.396190Z",
     "shell.execute_reply": "2021-05-19T22:00:27.395331Z",
     "shell.execute_reply.started": "2021-05-19T22:00:23.999222Z"
    },
    "tags": []
   },
   "outputs": [],
   "source": [
    "# built-in library\n",
    "import math\n",
    "import re\n",
    "import collections\n",
    "import zipfile\n",
    "from itertools import chain\n",
    "\n",
    "# ML & Deep Learning/ NLP toolkit\n",
    "import pandas as pd\n",
    "import numpy as np\n",
    "import jieba\n",
    "from sklearn.model_selection import train_test_split\n",
    "import tensorflow as tf\n",
    "from tensorflow.keras import layers\n",
    "import tensorflow_datasets as tfds\n",
    "from tensorflow.keras.callbacks import EarlyStopping,TensorBoard\n",
    "\n",
    "# Visualization\n",
    "import matplotlib.pyplot as plt\n",
    "import seaborn as sns"
   ]
  },
  {
   "cell_type": "markdown",
   "id": "8bd77e05-355a-422f-87db-2cf77cba3bdd",
   "metadata": {},
   "source": [
    "-------------------------\n",
    "\n",
    "### Stage 2: Data Preprocessing"
   ]
  },
  {
   "cell_type": "markdown",
   "id": "3b57b9c9-443e-4e26-bda2-15f6877845d5",
   "metadata": {},
   "source": [
    "#### (1) Read file "
   ]
  },
  {
   "cell_type": "code",
   "execution_count": 2,
   "id": "e1973cfb-73d4-4717-a67a-a4e8a0c9edb0",
   "metadata": {
    "execution": {
     "iopub.execute_input": "2021-05-19T22:00:27.399032Z",
     "iopub.status.busy": "2021-05-19T22:00:27.398658Z",
     "iopub.status.idle": "2021-05-19T22:00:27.435647Z",
     "shell.execute_reply": "2021-05-19T22:00:27.435174Z",
     "shell.execute_reply.started": "2021-05-19T22:00:27.399000Z"
    },
    "tags": []
   },
   "outputs": [],
   "source": [
    "# read file\n",
    "df = pd.read_csv('data/Pork Bill - 20210519.csv',encoding='utf-8')\n",
    "\n",
    "# combine abstract of bill and title \n",
    "df['text'] =  df['Title'] + df['Content'].fillna(df['Title'])\n",
    "\n",
    "# drop conten without having any characters\n",
    "# view na's row: df[df['text'].isnull()==True]\n",
    "data = df[['text', 'pork_bill']].dropna(subset=['text'])"
   ]
  },
  {
   "cell_type": "code",
   "execution_count": 3,
   "id": "f6160785-9522-4404-8f77-6df941869cde",
   "metadata": {
    "execution": {
     "iopub.execute_input": "2021-05-19T22:00:27.436582Z",
     "iopub.status.busy": "2021-05-19T22:00:27.436460Z",
     "iopub.status.idle": "2021-05-19T22:00:27.441960Z",
     "shell.execute_reply": "2021-05-19T22:00:27.441447Z",
     "shell.execute_reply.started": "2021-05-19T22:00:27.436565Z"
    },
    "tags": []
   },
   "outputs": [
    {
     "name": "stdout",
     "output_type": "stream",
     "text": [
      " Pork Legislation 1418 \n",
      " None-Pork Legislation 2602\n"
     ]
    }
   ],
   "source": [
    "print(\" Pork Legislation\", data['pork_bill'].value_counts()[1],'\\n', \n",
    "      \"None-Pork Legislation\", data['pork_bill'].value_counts()[0])"
   ]
  },
  {
   "cell_type": "markdown",
   "id": "5e6d677d-e200-40e6-9252-130eb02fc682",
   "metadata": {
    "execution": {
     "iopub.execute_input": "2021-05-16T17:01:03.001989Z",
     "iopub.status.busy": "2021-05-16T17:01:03.001801Z",
     "iopub.status.idle": "2021-05-16T17:01:03.004600Z",
     "shell.execute_reply": "2021-05-16T17:01:03.003789Z",
     "shell.execute_reply.started": "2021-05-16T17:01:03.001969Z"
    }
   },
   "source": [
    "#### (2) Tokenization"
   ]
  },
  {
   "cell_type": "code",
   "execution_count": 4,
   "id": "120e8b54-7f75-4ca6-a0d0-9872b1522e8e",
   "metadata": {
    "execution": {
     "iopub.execute_input": "2021-05-19T22:00:27.443094Z",
     "iopub.status.busy": "2021-05-19T22:00:27.442908Z",
     "iopub.status.idle": "2021-05-19T22:00:27.450075Z",
     "shell.execute_reply": "2021-05-19T22:00:27.449384Z",
     "shell.execute_reply.started": "2021-05-19T22:00:27.443076Z"
    },
    "tags": []
   },
   "outputs": [],
   "source": [
    "import collections\n",
    "import numpy as np\n",
    "import jieba\n",
    "from itertools import chain\n",
    "\n",
    "\n",
    "def jieba_cut(filename):\n",
    "    \"\"\"\n",
    "    cut Chinese and remove stop words\n",
    "    Reference: https://www.cnblogs.com/Luv-GEM/p/10836454.html\n",
    "    Stopwords: https://www.kaggle.com/rikdifos/english-and-chinese-stopwords?select=cn_stopwords.txt\n",
    "    \"\"\"\n",
    "    stop_list = [i.strip() for i in open('cn_stopwords.txt','r',encoding='utf-8')]  \n",
    "    news_cut = []\n",
    "    news_list = []\n",
    "    for line in filename:    \n",
    "        if line:\n",
    "            news_cut = list(jieba.cut(''.join(line),cut_all=False,HMM=True))  \n",
    "            news_list.append([word.strip() for word in news_cut if word not in stop_list and len(word.strip())>0]) \n",
    "    news_list = list(chain.from_iterable(news_list))  \n",
    "    return news_list\n",
    "\n",
    "def clearPucts(context):\n",
    "    \"\"\"\n",
    "    remove punctuation\n",
    "    ref: https://chenyuzuoo.github.io/posts/28001/\n",
    "    \"\"\"\n",
    "    context = re.sub(\"[\\s+\\.\\!\\/_,$%^*(+\\\"\\']+|[+——！，。？、~@#￥%……&*（）]+\", \"\", context)\n",
    "    context = re.sub(\"[【】╮╯▽╰╭★→「」]+\",\"\", context)\n",
    "    context = re.sub(\"！，❤。～《》：（）【】「」？”“；：、\",\"\",context)\n",
    "    context = re.sub(\"\\s\",\"\",context)\n",
    "    return context\n",
    "\n",
    "def seg_char(sent):\n",
    "    \"\"\"\n",
    "    cut Chinese and remove stop words\n",
    "    ref: https://blog.csdn.net/renyuanfang/article/details/86487367\n",
    "    \"\"\"\n",
    "    # split\n",
    "    pattern_char_1 = re.compile(r'([\\W])')\n",
    "    parts = pattern_char_1.split(sent)\n",
    "    parts = [p for p in parts if len(p.strip())>0]\n",
    "    # cut sentence\n",
    "    pattern = re.compile(r'([\\u4e00-\\u9fa5])')\n",
    "    chars = pattern.split(sent)\n",
    "    chars = [w for w in chars if len(w.strip())>0]\n",
    "    chars = ' '.join(chars)\n",
    "    return chars\n",
    "\n",
    "# import spacy\n",
    "# # python3 -m spacy download zh_core_web_sm\n",
    "# spacy_nlp = spacy.load(\"zh_core_web_sm\")\n",
    "\n",
    "# data_clean = [clearPucts(text) for text in data.text]\n",
    "# data_clean = [[spacy_nlp(sentence).vector for sentence in data] for data in data_clean]"
   ]
  },
  {
   "cell_type": "code",
   "execution_count": 5,
   "id": "25f4277c-001d-47a4-81d0-f5ac5ec5e5d3",
   "metadata": {
    "execution": {
     "iopub.execute_input": "2021-05-19T22:00:27.450961Z",
     "iopub.status.busy": "2021-05-19T22:00:27.450824Z",
     "iopub.status.idle": "2021-05-19T22:00:28.440075Z",
     "shell.execute_reply": "2021-05-19T22:00:28.439407Z",
     "shell.execute_reply.started": "2021-05-19T22:00:27.450943Z"
    },
    "tags": []
   },
   "outputs": [],
   "source": [
    "data_clean = [seg_char(text) for text in [clearPucts(text) for text in data.text]]\n",
    "\n",
    "tokenizer = tfds.deprecated.text.SubwordTextEncoder.build_from_corpus(\n",
    "    data_clean, target_vocab_size=2**18)\n",
    "\n",
    "data_inputs = [tokenizer.encode(sentence) for sentence in data_clean]"
   ]
  },
  {
   "cell_type": "markdown",
   "id": "089e65af-e49c-4d60-962e-a0a826809aa5",
   "metadata": {
    "execution": {
     "iopub.execute_input": "2021-05-16T17:01:47.611294Z",
     "iopub.status.busy": "2021-05-16T17:01:47.611020Z",
     "iopub.status.idle": "2021-05-16T17:01:47.614208Z",
     "shell.execute_reply": "2021-05-16T17:01:47.613487Z",
     "shell.execute_reply.started": "2021-05-16T17:01:47.611276Z"
    }
   },
   "source": [
    "#### (3) Padding"
   ]
  },
  {
   "cell_type": "code",
   "execution_count": 6,
   "id": "b801d231-972c-47e3-83c4-7375c2e11a18",
   "metadata": {
    "execution": {
     "iopub.execute_input": "2021-05-19T22:00:28.441507Z",
     "iopub.status.busy": "2021-05-19T22:00:28.441159Z",
     "iopub.status.idle": "2021-05-19T22:00:28.477393Z",
     "shell.execute_reply": "2021-05-19T22:00:28.476880Z",
     "shell.execute_reply.started": "2021-05-19T22:00:28.441457Z"
    },
    "tags": []
   },
   "outputs": [],
   "source": [
    "MAX_LEN = max([len(sentence) for sentence in data_clean])\n",
    "data_inputs = tf.keras.preprocessing.sequence.pad_sequences(data_inputs,\n",
    "                                                            value=0,\n",
    "                                                            padding=\"post\",\n",
    "                                                            maxlen=MAX_LEN)\n"
   ]
  },
  {
   "cell_type": "markdown",
   "id": "f69d90cf-ac3c-4e08-b46b-457d9708d832",
   "metadata": {
    "execution": {
     "iopub.execute_input": "2021-05-16T17:02:28.107037Z",
     "iopub.status.busy": "2021-05-16T17:02:28.106843Z",
     "iopub.status.idle": "2021-05-16T17:02:28.109696Z",
     "shell.execute_reply": "2021-05-16T17:02:28.108954Z",
     "shell.execute_reply.started": "2021-05-16T17:02:28.107017Z"
    }
   },
   "source": [
    "#### (4) Spliting Training/ Testing Set"
   ]
  },
  {
   "cell_type": "code",
   "execution_count": 7,
   "id": "42503355-eea3-4602-ae5a-ea18be84b8d1",
   "metadata": {
    "execution": {
     "iopub.execute_input": "2021-05-19T22:00:28.480994Z",
     "iopub.status.busy": "2021-05-19T22:00:28.480816Z",
     "iopub.status.idle": "2021-05-19T22:00:28.484008Z",
     "shell.execute_reply": "2021-05-19T22:00:28.483255Z",
     "shell.execute_reply.started": "2021-05-19T22:00:28.480976Z"
    },
    "tags": []
   },
   "outputs": [],
   "source": [
    "data_labels = data.pork_bill.values"
   ]
  },
  {
   "cell_type": "code",
   "execution_count": 8,
   "id": "19235117-f63a-4e06-a102-6efe98c37dbf",
   "metadata": {
    "execution": {
     "iopub.execute_input": "2021-05-19T22:00:28.486135Z",
     "iopub.status.busy": "2021-05-19T22:00:28.485958Z",
     "iopub.status.idle": "2021-05-19T22:00:28.494455Z",
     "shell.execute_reply": "2021-05-19T22:00:28.493537Z",
     "shell.execute_reply.started": "2021-05-19T22:00:28.486099Z"
    },
    "tags": []
   },
   "outputs": [
    {
     "name": "stdout",
     "output_type": "stream",
     "text": [
      "Shape of X Train: (2693, 133) \n",
      "Shape of X Test : (1327, 133) \n",
      "Shape of Y Trian: (2693,) \n",
      "Shape of Y Test : (1327,)\n"
     ]
    }
   ],
   "source": [
    "import numpy as np\n",
    "from sklearn.model_selection import train_test_split\n",
    "train_inputs, test_inputs, train_labels, test_labels = train_test_split(\n",
    "    data_inputs, data_labels, test_size=0.33, random_state=42)\n",
    "\n",
    "print(\"Shape of X Train:\", train_inputs.shape, '\\n'\n",
    "      \"Shape of X Test :\", test_inputs.shape,'\\n'\n",
    "      \"Shape of Y Trian:\", train_labels.shape , '\\n'\n",
    "      \"Shape of Y Test :\", test_labels.shape )"
   ]
  },
  {
   "cell_type": "code",
   "execution_count": 9,
   "id": "6f10cb5c-7c8d-4e1e-a987-11b8de8e42d0",
   "metadata": {
    "execution": {
     "iopub.execute_input": "2021-05-19T22:00:28.496160Z",
     "iopub.status.busy": "2021-05-19T22:00:28.495891Z",
     "iopub.status.idle": "2021-05-19T22:00:28.500530Z",
     "shell.execute_reply": "2021-05-19T22:00:28.499727Z",
     "shell.execute_reply.started": "2021-05-19T22:00:28.496134Z"
    },
    "tags": []
   },
   "outputs": [
    {
     "name": "stdout",
     "output_type": "stream",
     "text": [
      " Num of Train Set: 2693 \n",
      " Not Pork vs Pork: {0: 1741, 1: 952}\n"
     ]
    }
   ],
   "source": [
    "unique_train_labels, counts_train_labels = np.unique(train_labels, return_counts=True)\n",
    "\n",
    "print(' Num of Train Set:' , train_inputs.shape[0], '\\n'\n",
    "      ,'Not Pork vs Pork:', dict(zip(unique_train_labels, counts_train_labels)))"
   ]
  },
  {
   "cell_type": "code",
   "execution_count": 10,
   "id": "fedad623-02ba-4fad-b0b4-a094de7c39de",
   "metadata": {
    "execution": {
     "iopub.execute_input": "2021-05-19T22:00:28.501943Z",
     "iopub.status.busy": "2021-05-19T22:00:28.501576Z",
     "iopub.status.idle": "2021-05-19T22:00:28.506278Z",
     "shell.execute_reply": "2021-05-19T22:00:28.505464Z",
     "shell.execute_reply.started": "2021-05-19T22:00:28.501919Z"
    },
    "tags": []
   },
   "outputs": [
    {
     "name": "stdout",
     "output_type": "stream",
     "text": [
      " Num of Test Set: 1327 \n",
      " Not Pork vs Pork: {0: 861, 1: 466}\n"
     ]
    }
   ],
   "source": [
    "unique_test_labels, counts_test_labels = np.unique(test_labels, return_counts=True)\n",
    "\n",
    "print(' Num of Test Set:' , test_inputs.shape[0], '\\n'\n",
    "      ,'Not Pork vs Pork:', dict(zip(unique_test_labels, counts_test_labels)))"
   ]
  },
  {
   "cell_type": "markdown",
   "id": "725f7feb-b93b-4d0b-bcbf-562240a79f8b",
   "metadata": {
    "execution": {
     "iopub.execute_input": "2021-05-16T17:04:13.375644Z",
     "iopub.status.busy": "2021-05-16T17:04:13.375440Z",
     "iopub.status.idle": "2021-05-16T17:04:13.378111Z",
     "shell.execute_reply": "2021-05-16T17:04:13.377464Z",
     "shell.execute_reply.started": "2021-05-16T17:04:13.375623Z"
    },
    "tags": []
   },
   "source": [
    "-------------------------\n",
    "\n",
    "\n",
    "### Stage 3: Model and Building"
   ]
  },
  {
   "cell_type": "markdown",
   "id": "4a0e74bf-eaf4-4043-8d23-88291d8ea344",
   "metadata": {
    "execution": {
     "iopub.execute_input": "2021-05-16T17:13:18.807725Z",
     "iopub.status.busy": "2021-05-16T17:13:18.807498Z",
     "iopub.status.idle": "2021-05-16T17:13:18.810574Z",
     "shell.execute_reply": "2021-05-16T17:13:18.809625Z",
     "shell.execute_reply.started": "2021-05-16T17:13:18.807701Z"
    }
   },
   "source": [
    "#### (1) Using the Subclassing API to Build Dynamic Model"
   ]
  },
  {
   "cell_type": "code",
   "execution_count": 11,
   "id": "1f18f9b1-5f4d-4d0a-baf4-2eebed7f34f2",
   "metadata": {
    "execution": {
     "iopub.execute_input": "2021-05-19T22:00:28.507753Z",
     "iopub.status.busy": "2021-05-19T22:00:28.507465Z",
     "iopub.status.idle": "2021-05-19T22:00:28.514785Z",
     "shell.execute_reply": "2021-05-19T22:00:28.513896Z",
     "shell.execute_reply.started": "2021-05-19T22:00:28.507724Z"
    },
    "tags": []
   },
   "outputs": [],
   "source": [
    "class DCNN(tf.keras.Model):\n",
    "    \n",
    "    def __init__(self,\n",
    "                 vocab_size,\n",
    "                 emb_dim=128,\n",
    "                 nb_filters=100,\n",
    "                 FFN_units=512,\n",
    "                 nb_classes=2,\n",
    "                 dropout_rate=0.1,\n",
    "                 training=False,\n",
    "                 name=\"dcnn\"):\n",
    "        super(DCNN, self).__init__(name=name)\n",
    "        \n",
    "        self.embedding = layers.Embedding(vocab_size, \n",
    "                                          emb_dim)\n",
    "        self.bigram = layers.Conv1D(filters=nb_filters, \n",
    "                                    kernel_size=2,\n",
    "                                    padding=\"valid\",\n",
    "                                    activation=\"relu\")\n",
    "        self.trigram = layers.Conv1D(filters=nb_filters,\n",
    "                                     kernel_size=3,\n",
    "                                     padding=\"valid\",\n",
    "                                     activation=\"relu\")\n",
    "        self.fourgram = layers.Conv1D(filters=nb_filters,\n",
    "                                      kernel_size=4,\n",
    "                                      padding=\"valid\",\n",
    "                                      activation=\"relu\")\n",
    "        self.pool = layers.GlobalMaxPool1D() # no training variable so we can\n",
    "                                             # use the same layer for each\n",
    "                                             # pooling step\n",
    "        self.dense_1 = layers.Dense(units=FFN_units, activation=\"relu\")\n",
    "        self.dropout = layers.Dropout(rate=dropout_rate)\n",
    "        self.last_dense = layers.Dense(units=1, activation=\"sigmoid\")\n",
    "    \n",
    "    def call(self, inputs, training):\n",
    "        x = self.embedding(inputs)\n",
    "        x_1 = self.bigram(x)\n",
    "        x_1 = self.pool(x_1)\n",
    "        x_2 = self.trigram(x)\n",
    "        x_2 = self.pool(x_2)\n",
    "        x_3 = self.fourgram(x)\n",
    "        x_3 = self.pool(x_3)\n",
    "        \n",
    "        merged = tf.concat([x_1, x_2, x_3], axis=-1) # (batch_size, 3 * nb_filters)\n",
    "        merged = self.dense_1(merged)\n",
    "        merged = self.dropout(merged, training)\n",
    "        output = self.last_dense(merged)        \n",
    "        return output\n"
   ]
  },
  {
   "cell_type": "code",
   "execution_count": 12,
   "id": "bfc02e93-3a0e-4c1c-b488-b2db98b53824",
   "metadata": {
    "execution": {
     "iopub.execute_input": "2021-05-19T22:00:28.516222Z",
     "iopub.status.busy": "2021-05-19T22:00:28.515773Z",
     "iopub.status.idle": "2021-05-19T22:00:28.534181Z",
     "shell.execute_reply": "2021-05-19T22:00:28.533650Z",
     "shell.execute_reply.started": "2021-05-19T22:00:28.516193Z"
    },
    "tags": []
   },
   "outputs": [],
   "source": [
    "VOCAB_SIZE = 5000   # 5000 tokenizer.vocab_size\n",
    "EMB_DIM = 200\n",
    "NB_FILTERS = 100\n",
    "FFN_UNITS = 256\n",
    "NB_CLASSES = 2 #len(set(train_labels))\n",
    "DROPOUT_RATE = 0.2\n",
    "BATCH_SIZE = 32\n",
    "NB_EPOCHS = 80\n",
    "\n",
    "Dcnn = DCNN(vocab_size=VOCAB_SIZE,\n",
    "            emb_dim=EMB_DIM,\n",
    "            nb_filters=NB_FILTERS,\n",
    "            FFN_units=FFN_UNITS,\n",
    "            nb_classes=NB_CLASSES,\n",
    "            dropout_rate=DROPOUT_RATE)"
   ]
  },
  {
   "cell_type": "markdown",
   "id": "b0ec8f51-6ed8-49fa-9d5e-c6929184bdf1",
   "metadata": {
    "execution": {
     "iopub.execute_input": "2021-05-16T18:43:59.279424Z",
     "iopub.status.busy": "2021-05-16T18:43:59.279202Z",
     "iopub.status.idle": "2021-05-16T18:43:59.282718Z",
     "shell.execute_reply": "2021-05-16T18:43:59.281823Z",
     "shell.execute_reply.started": "2021-05-16T18:43:59.279399Z"
    }
   },
   "source": [
    "#### (2) Compile and Summary of the Model"
   ]
  },
  {
   "cell_type": "code",
   "execution_count": 13,
   "id": "2cce0414-05eb-4f79-9c27-bca9c91a2903",
   "metadata": {
    "execution": {
     "iopub.execute_input": "2021-05-19T22:00:28.535432Z",
     "iopub.status.busy": "2021-05-19T22:00:28.535196Z",
     "iopub.status.idle": "2021-05-19T22:00:28.587601Z",
     "shell.execute_reply": "2021-05-19T22:00:28.586818Z",
     "shell.execute_reply.started": "2021-05-19T22:00:28.535412Z"
    },
    "tags": []
   },
   "outputs": [
    {
     "name": "stdout",
     "output_type": "stream",
     "text": [
      "Model: \"dcnn\"\n",
      "_________________________________________________________________\n",
      "Layer (type)                 Output Shape              Param #   \n",
      "=================================================================\n",
      "embedding (Embedding)        multiple                  1000000   \n",
      "_________________________________________________________________\n",
      "conv1d (Conv1D)              multiple                  40100     \n",
      "_________________________________________________________________\n",
      "conv1d_1 (Conv1D)            multiple                  60100     \n",
      "_________________________________________________________________\n",
      "conv1d_2 (Conv1D)            multiple                  80100     \n",
      "_________________________________________________________________\n",
      "global_max_pooling1d (Global multiple                  0         \n",
      "_________________________________________________________________\n",
      "dense (Dense)                multiple                  77056     \n",
      "_________________________________________________________________\n",
      "dropout (Dropout)            multiple                  0         \n",
      "_________________________________________________________________\n",
      "dense_1 (Dense)              multiple                  257       \n",
      "=================================================================\n",
      "Total params: 1,257,613\n",
      "Trainable params: 1,257,613\n",
      "Non-trainable params: 0\n",
      "_________________________________________________________________\n"
     ]
    }
   ],
   "source": [
    "Dcnn.compile(loss=\"binary_crossentropy\", optimizer=\"adam\", metrics=[\"accuracy\"])\n",
    "Dcnn.build(input_shape = (133 , EMB_DIM)) # (train_inputs.shape[1] , EMB_DIM)\n",
    "Dcnn.summary()"
   ]
  },
  {
   "cell_type": "markdown",
   "id": "3880d2a4-2152-43de-bad3-34e67e97469e",
   "metadata": {
    "tags": []
   },
   "source": [
    "#### (3) Check Point Path"
   ]
  },
  {
   "cell_type": "code",
   "execution_count": 14,
   "id": "e4115bec-233a-4abc-b081-05f526c4687b",
   "metadata": {
    "execution": {
     "iopub.execute_input": "2021-05-19T22:00:28.588782Z",
     "iopub.status.busy": "2021-05-19T22:00:28.588533Z",
     "iopub.status.idle": "2021-05-19T22:00:28.592223Z",
     "shell.execute_reply": "2021-05-19T22:00:28.591672Z",
     "shell.execute_reply.started": "2021-05-19T22:00:28.588757Z"
    },
    "tags": []
   },
   "outputs": [],
   "source": [
    "checkpoint_path = \"checkpoint_recode/ckpt_manager\"\n",
    "\n",
    "ckpt = tf.train.Checkpoint(Dcnn=Dcnn)\n",
    "\n",
    "ckpt_manager = tf.train.CheckpointManager(ckpt, checkpoint_path, max_to_keep=10)\n",
    "\n",
    "if ckpt_manager.latest_checkpoint:\n",
    "    ckpt.restore(ckpt_manager.latest_checkpoint)\n",
    "    print(\"Checkpoint Located!!\")"
   ]
  },
  {
   "cell_type": "markdown",
   "id": "73d70667-275f-40c0-bd71-6b47e9722798",
   "metadata": {
    "execution": {
     "iopub.execute_input": "2021-05-16T17:47:13.442664Z",
     "iopub.status.busy": "2021-05-16T17:47:13.442381Z",
     "iopub.status.idle": "2021-05-16T17:47:13.448371Z",
     "shell.execute_reply": "2021-05-16T17:47:13.446970Z",
     "shell.execute_reply.started": "2021-05-16T17:47:13.442620Z"
    }
   },
   "source": [
    "-------------------------\n",
    "\n",
    "### Stage 4: Train the Model"
   ]
  },
  {
   "cell_type": "code",
   "execution_count": 15,
   "id": "cc975047-5a58-46dc-b427-262796d9b625",
   "metadata": {
    "execution": {
     "iopub.execute_input": "2021-05-19T22:00:28.593173Z",
     "iopub.status.busy": "2021-05-19T22:00:28.593036Z",
     "iopub.status.idle": "2021-05-19T22:00:28.628650Z",
     "shell.execute_reply": "2021-05-19T22:00:28.627875Z",
     "shell.execute_reply.started": "2021-05-19T22:00:28.593155Z"
    },
    "tags": []
   },
   "outputs": [],
   "source": [
    "early_stop = EarlyStopping(monitor='val_loss',patience=5)"
   ]
  },
  {
   "cell_type": "code",
   "execution_count": 16,
   "id": "baf0cade-2c45-43b2-9782-6a8c6e570153",
   "metadata": {
    "execution": {
     "iopub.execute_input": "2021-05-19T22:00:28.629781Z",
     "iopub.status.busy": "2021-05-19T22:00:28.629593Z",
     "iopub.status.idle": "2021-05-19T22:00:59.472845Z",
     "shell.execute_reply": "2021-05-19T22:00:59.472018Z",
     "shell.execute_reply.started": "2021-05-19T22:00:28.629756Z"
    },
    "tags": []
   },
   "outputs": [
    {
     "name": "stdout",
     "output_type": "stream",
     "text": [
      "Epoch 1/80\n",
      "85/85 [==============================] - 5s 46ms/step - loss: 0.4052 - accuracy: 0.8039 - val_loss: 0.1868 - val_accuracy: 0.9382\n",
      "Epoch 2/80\n",
      "85/85 [==============================] - 3s 41ms/step - loss: 0.0902 - accuracy: 0.9740 - val_loss: 0.1146 - val_accuracy: 0.9676\n",
      "Epoch 3/80\n",
      "85/85 [==============================] - 4s 44ms/step - loss: 0.0279 - accuracy: 0.9937 - val_loss: 0.1086 - val_accuracy: 0.9668\n",
      "Epoch 4/80\n",
      "85/85 [==============================] - 4s 45ms/step - loss: 0.0204 - accuracy: 0.9967 - val_loss: 0.1105 - val_accuracy: 0.9683\n",
      "Epoch 5/80\n",
      "85/85 [==============================] - 4s 42ms/step - loss: 0.0096 - accuracy: 0.9985 - val_loss: 0.1226 - val_accuracy: 0.9691\n",
      "Epoch 6/80\n",
      "85/85 [==============================] - 4s 44ms/step - loss: 0.0166 - accuracy: 0.9967 - val_loss: 0.1170 - val_accuracy: 0.9683\n",
      "Epoch 7/80\n",
      "85/85 [==============================] - 4s 44ms/step - loss: 0.0117 - accuracy: 0.9967 - val_loss: 0.1184 - val_accuracy: 0.9683\n",
      "Epoch 8/80\n",
      "85/85 [==============================] - 4s 47ms/step - loss: 0.0086 - accuracy: 0.9974 - val_loss: 0.1226 - val_accuracy: 0.9683\n"
     ]
    },
    {
     "data": {
      "text/plain": [
       "'checkpoint_recode/ckpt_manager/ckpt-1'"
      ]
     },
     "execution_count": 16,
     "metadata": {},
     "output_type": "execute_result"
    }
   ],
   "source": [
    "Dcnn.fit(train_inputs,\n",
    "         train_labels,\n",
    "         validation_data=(test_inputs, test_labels),\n",
    "         batch_size=BATCH_SIZE,\n",
    "         epochs=NB_EPOCHS,\n",
    "         callbacks=[early_stop])\n",
    "ckpt_manager.save()"
   ]
  },
  {
   "cell_type": "markdown",
   "id": "3b0ac256-ab81-4ff5-8430-48f8bba50126",
   "metadata": {
    "execution": {
     "iopub.execute_input": "2021-05-16T18:23:25.926977Z",
     "iopub.status.busy": "2021-05-16T18:23:25.926754Z",
     "iopub.status.idle": "2021-05-16T18:23:25.931072Z",
     "shell.execute_reply": "2021-05-16T18:23:25.930041Z",
     "shell.execute_reply.started": "2021-05-16T18:23:25.926952Z"
    }
   },
   "source": [
    "-------------------------\n",
    "\n",
    "### Stage 5: Evaluation"
   ]
  },
  {
   "cell_type": "code",
   "execution_count": 17,
   "id": "58099cc1-19e0-443a-b960-7ae4d67344d3",
   "metadata": {
    "execution": {
     "iopub.execute_input": "2021-05-19T22:00:59.474389Z",
     "iopub.status.busy": "2021-05-19T22:00:59.474052Z",
     "iopub.status.idle": "2021-05-19T22:00:59.488838Z",
     "shell.execute_reply": "2021-05-19T22:00:59.487959Z",
     "shell.execute_reply.started": "2021-05-19T22:00:59.474349Z"
    },
    "tags": []
   },
   "outputs": [
    {
     "data": {
      "text/html": [
       "<div>\n",
       "<style scoped>\n",
       "    .dataframe tbody tr th:only-of-type {\n",
       "        vertical-align: middle;\n",
       "    }\n",
       "\n",
       "    .dataframe tbody tr th {\n",
       "        vertical-align: top;\n",
       "    }\n",
       "\n",
       "    .dataframe thead th {\n",
       "        text-align: right;\n",
       "    }\n",
       "</style>\n",
       "<table border=\"1\" class=\"dataframe\">\n",
       "  <thead>\n",
       "    <tr style=\"text-align: right;\">\n",
       "      <th></th>\n",
       "      <th>loss</th>\n",
       "      <th>accuracy</th>\n",
       "      <th>val_loss</th>\n",
       "      <th>val_accuracy</th>\n",
       "    </tr>\n",
       "  </thead>\n",
       "  <tbody>\n",
       "    <tr>\n",
       "      <th>0</th>\n",
       "      <td>0.405156</td>\n",
       "      <td>0.803936</td>\n",
       "      <td>0.186764</td>\n",
       "      <td>0.938206</td>\n",
       "    </tr>\n",
       "    <tr>\n",
       "      <th>1</th>\n",
       "      <td>0.090198</td>\n",
       "      <td>0.974007</td>\n",
       "      <td>0.114617</td>\n",
       "      <td>0.967596</td>\n",
       "    </tr>\n",
       "    <tr>\n",
       "      <th>2</th>\n",
       "      <td>0.027910</td>\n",
       "      <td>0.993687</td>\n",
       "      <td>0.108599</td>\n",
       "      <td>0.966842</td>\n",
       "    </tr>\n",
       "    <tr>\n",
       "      <th>3</th>\n",
       "      <td>0.020365</td>\n",
       "      <td>0.996658</td>\n",
       "      <td>0.110475</td>\n",
       "      <td>0.968350</td>\n",
       "    </tr>\n",
       "    <tr>\n",
       "      <th>4</th>\n",
       "      <td>0.009578</td>\n",
       "      <td>0.998515</td>\n",
       "      <td>0.122647</td>\n",
       "      <td>0.969103</td>\n",
       "    </tr>\n",
       "    <tr>\n",
       "      <th>5</th>\n",
       "      <td>0.016593</td>\n",
       "      <td>0.996658</td>\n",
       "      <td>0.116963</td>\n",
       "      <td>0.968350</td>\n",
       "    </tr>\n",
       "    <tr>\n",
       "      <th>6</th>\n",
       "      <td>0.011680</td>\n",
       "      <td>0.996658</td>\n",
       "      <td>0.118397</td>\n",
       "      <td>0.968350</td>\n",
       "    </tr>\n",
       "    <tr>\n",
       "      <th>7</th>\n",
       "      <td>0.008649</td>\n",
       "      <td>0.997401</td>\n",
       "      <td>0.122587</td>\n",
       "      <td>0.968350</td>\n",
       "    </tr>\n",
       "  </tbody>\n",
       "</table>\n",
       "</div>"
      ],
      "text/plain": [
       "       loss  accuracy  val_loss  val_accuracy\n",
       "0  0.405156  0.803936  0.186764      0.938206\n",
       "1  0.090198  0.974007  0.114617      0.967596\n",
       "2  0.027910  0.993687  0.108599      0.966842\n",
       "3  0.020365  0.996658  0.110475      0.968350\n",
       "4  0.009578  0.998515  0.122647      0.969103\n",
       "5  0.016593  0.996658  0.116963      0.968350\n",
       "6  0.011680  0.996658  0.118397      0.968350\n",
       "7  0.008649  0.997401  0.122587      0.968350"
      ]
     },
     "execution_count": 17,
     "metadata": {},
     "output_type": "execute_result"
    }
   ],
   "source": [
    "losses = pd.DataFrame(Dcnn.history.history)\n",
    "losses"
   ]
  },
  {
   "cell_type": "markdown",
   "id": "8093326d-b6b8-4a35-9b0f-124ad3fecd8c",
   "metadata": {},
   "source": [
    "##### Too much overfitting due toless validation set ⚠️⚠️⚠️⚠️"
   ]
  },
  {
   "cell_type": "code",
   "execution_count": 18,
   "id": "f37a760f-b388-4051-a78d-295bce1f214a",
   "metadata": {
    "execution": {
     "iopub.execute_input": "2021-05-19T22:00:59.490952Z",
     "iopub.status.busy": "2021-05-19T22:00:59.490509Z",
     "iopub.status.idle": "2021-05-19T22:00:59.928590Z",
     "shell.execute_reply": "2021-05-19T22:00:59.927699Z",
     "shell.execute_reply.started": "2021-05-19T22:00:59.490913Z"
    },
    "tags": []
   },
   "outputs": [
    {
     "data": {
      "text/plain": [
       "<AxesSubplot:>"
      ]
     },
     "execution_count": 18,
     "metadata": {},
     "output_type": "execute_result"
    },
    {
     "data": {
      "image/png": "[encoded data removed]",
      "text/plain": [
       "<Figure size 432x288 with 1 Axes>"
      ]
     },
     "metadata": {
      "needs_background": "light"
     },
     "output_type": "display_data"
    },
    {
     "data": {
      "image/png": "[encoded data removed]",
      "text/plain": [
       "<Figure size 432x288 with 1 Axes>"
      ]
     },
     "metadata": {
      "needs_background": "light"
     },
     "output_type": "display_data"
    }
   ],
   "source": [
    "losses[['accuracy','val_accuracy']].plot()\n",
    "losses[['loss','val_loss']].plot()"
   ]
  },
  {
   "cell_type": "code",
   "execution_count": 19,
   "id": "44300a6c-8da8-43cd-ada0-208a99b6b9d7",
   "metadata": {
    "execution": {
     "iopub.execute_input": "2021-05-19T22:00:59.930292Z",
     "iopub.status.busy": "2021-05-19T22:00:59.929973Z",
     "iopub.status.idle": "2021-05-19T22:00:59.934515Z",
     "shell.execute_reply": "2021-05-19T22:00:59.933597Z",
     "shell.execute_reply.started": "2021-05-19T22:00:59.930263Z"
    },
    "tags": []
   },
   "outputs": [],
   "source": [
    "from sklearn.metrics import classification_report,confusion_matrix"
   ]
  },
  {
   "cell_type": "code",
   "execution_count": 20,
   "id": "17760825-eb35-4f8c-88a0-45e94387c08d",
   "metadata": {
    "execution": {
     "iopub.execute_input": "2021-05-19T22:00:59.936227Z",
     "iopub.status.busy": "2021-05-19T22:00:59.935989Z",
     "iopub.status.idle": "2021-05-19T22:01:00.254791Z",
     "shell.execute_reply": "2021-05-19T22:01:00.253759Z",
     "shell.execute_reply.started": "2021-05-19T22:00:59.936199Z"
    },
    "tags": []
   },
   "outputs": [
    {
     "name": "stdout",
     "output_type": "stream",
     "text": [
      "42/42 [==============================] - 0s 6ms/step - loss: 0.1226 - accuracy: 0.9683\n",
      "[0.12258657068014145, 0.9683496356010437]\n"
     ]
    }
   ],
   "source": [
    "evaluation_model = Dcnn.evaluate(test_inputs, test_labels, batch_size=BATCH_SIZE)\n",
    "print(evaluation_model)"
   ]
  },
  {
   "cell_type": "code",
   "execution_count": 21,
   "id": "c9a3f93d-4398-418c-b511-69594874cc5a",
   "metadata": {
    "execution": {
     "iopub.execute_input": "2021-05-19T22:01:00.256592Z",
     "iopub.status.busy": "2021-05-19T22:01:00.256245Z",
     "iopub.status.idle": "2021-05-19T22:01:00.654752Z",
     "shell.execute_reply": "2021-05-19T22:01:00.653797Z",
     "shell.execute_reply.started": "2021-05-19T22:01:00.256557Z"
    },
    "tags": []
   },
   "outputs": [
    {
     "name": "stdout",
     "output_type": "stream",
     "text": [
      "              precision    recall  f1-score   support\n",
      "\n",
      "           0       0.97      0.98      0.97       861\n",
      "           1       0.97      0.94      0.95       466\n",
      "\n",
      "    accuracy                           0.97      1327\n",
      "   macro avg       0.97      0.96      0.96      1327\n",
      "weighted avg       0.97      0.97      0.97      1327\n",
      "\n"
     ]
    }
   ],
   "source": [
    "# pd.DataFrame(confusion_matrix(test_labels,predictions))\n",
    "predictions = Dcnn.predict(test_inputs)\n",
    "predictions = np.where(predictions >0.8 , 1, 0)\n",
    "print(classification_report(test_labels, predictions))"
   ]
  },
  {
   "cell_type": "code",
   "execution_count": 22,
   "id": "4767688b-bfc8-4dc4-b8ec-2252f7791534",
   "metadata": {
    "execution": {
     "iopub.execute_input": "2021-05-19T22:01:00.656493Z",
     "iopub.status.busy": "2021-05-19T22:01:00.656247Z",
     "iopub.status.idle": "2021-05-19T22:01:00.668036Z",
     "shell.execute_reply": "2021-05-19T22:01:00.667288Z",
     "shell.execute_reply.started": "2021-05-19T22:01:00.656465Z"
    },
    "tags": []
   },
   "outputs": [
    {
     "data": {
      "text/html": [
       "<div>\n",
       "<style scoped>\n",
       "    .dataframe tbody tr th:only-of-type {\n",
       "        vertical-align: middle;\n",
       "    }\n",
       "\n",
       "    .dataframe tbody tr th {\n",
       "        vertical-align: top;\n",
       "    }\n",
       "\n",
       "    .dataframe thead th {\n",
       "        text-align: right;\n",
       "    }\n",
       "</style>\n",
       "<table border=\"1\" class=\"dataframe\">\n",
       "  <thead>\n",
       "    <tr style=\"text-align: right;\">\n",
       "      <th></th>\n",
       "      <th>Predictions: Not Pork(0)</th>\n",
       "      <th>Predictions:Pork(1)</th>\n",
       "    </tr>\n",
       "  </thead>\n",
       "  <tbody>\n",
       "    <tr>\n",
       "      <th>Acutal: Not Pork(0)</th>\n",
       "      <td>847</td>\n",
       "      <td>14</td>\n",
       "    </tr>\n",
       "    <tr>\n",
       "      <th>Acutal: Pork (1)</th>\n",
       "      <td>30</td>\n",
       "      <td>436</td>\n",
       "    </tr>\n",
       "  </tbody>\n",
       "</table>\n",
       "</div>"
      ],
      "text/plain": [
       "                     Predictions: Not Pork(0)  Predictions:Pork(1)\n",
       "Acutal: Not Pork(0)                       847                   14\n",
       "Acutal: Pork (1)                           30                  436"
      ]
     },
     "execution_count": 22,
     "metadata": {},
     "output_type": "execute_result"
    }
   ],
   "source": [
    "t = pd.DataFrame(confusion_matrix(test_labels,predictions), \n",
    "             columns=['Predictions: Not Pork(0)','Predictions:Pork(1)'])\n",
    "t.index = ['Acutal: Not Pork(0)', 'Acutal: Pork (1)']\n",
    "t"
   ]
  },
  {
   "cell_type": "markdown",
   "id": "d0416d6f-5e46-47c9-abad-f344bea7a94a",
   "metadata": {},
   "source": [
    "-------------------------\n",
    "\n",
    "### Stage 6: Try the Model with New Data and Export an End-to-end Model\n"
   ]
  },
  {
   "cell_type": "markdown",
   "id": "394b9a6e-0130-4af2-88e5-efe91cf9f348",
   "metadata": {
    "execution": {
     "iopub.execute_input": "2021-05-16T22:53:41.558105Z",
     "iopub.status.busy": "2021-05-16T22:53:41.557872Z",
     "iopub.status.idle": "2021-05-16T22:53:41.560984Z",
     "shell.execute_reply": "2021-05-16T22:53:41.560122Z",
     "shell.execute_reply.started": "2021-05-16T22:53:41.558080Z"
    }
   },
   "source": [
    "#### (1) Test New Dataset from 200 samples from Leislative Questions"
   ]
  },
  {
   "cell_type": "code",
   "execution_count": 23,
   "id": "632bf33e-1df7-46c5-9a67-ab7141a949c2",
   "metadata": {
    "execution": {
     "iopub.execute_input": "2021-05-19T22:01:00.669600Z",
     "iopub.status.busy": "2021-05-19T22:01:00.669237Z",
     "iopub.status.idle": "2021-05-19T22:01:00.673737Z",
     "shell.execute_reply": "2021-05-19T22:01:00.672710Z",
     "shell.execute_reply.started": "2021-05-19T22:01:00.669567Z"
    },
    "tags": []
   },
   "outputs": [],
   "source": [
    "def as_num(x):\n",
    "    \"\"\"\n",
    "    keep 10 decimals\n",
    "    \"\"\"\n",
    "    y = '{:.15f}'.format(x) \n",
    "    return y"
   ]
  },
  {
   "cell_type": "code",
   "execution_count": 24,
   "id": "06ea7d54-49e9-4363-8304-d1dabaf3beb4",
   "metadata": {
    "execution": {
     "iopub.execute_input": "2021-05-19T22:01:00.675504Z",
     "iopub.status.busy": "2021-05-19T22:01:00.675171Z",
     "iopub.status.idle": "2021-05-19T22:01:01.046845Z",
     "shell.execute_reply": "2021-05-19T22:01:01.046064Z",
     "shell.execute_reply.started": "2021-05-19T22:01:00.675468Z"
    },
    "tags": []
   },
   "outputs": [],
   "source": [
    "import pandas as pd\n",
    "import random\n",
    "\n",
    "# test the trined model using new text from 200 samples from Leislative Questions\n",
    "LQ6 = pd.read_csv('data/LQ_6th.csv')\n",
    "\n",
    "# drop '0': legislor  never have proposed any legisaltive questions. \n",
    "LQ6 = LQ6[LQ6['title'].isin(['0'])== False]\n",
    "\n",
    "# select text with number of charecters within EMB_DIM; len(sub_set) = 11162\n",
    "# sample_df = LQ6.loc[[len(char_num) for char_num in LQ6.title if len(char_num) < MAX_LEN], ['legislator','title', 'topic', 'category', 'keywords', 'ques_type']].reset_index(drop=True)\n",
    "sample_df = LQ6.iloc[random.sample(range(len(LQ6)), 2000)][['legislator', 'title', 'topic', 'category', 'keywords', 'ques_type']]\n",
    "sub_set = [seg_char(text) for text in [clearPucts(text) for text in sample_df.title]]\n"
   ]
  },
  {
   "cell_type": "markdown",
   "id": "68cc06a7-27d7-4007-949d-f7df81246e25",
   "metadata": {
    "tags": []
   },
   "source": [
    "##### Top 10 of 2000 Sampled Legislative Questions"
   ]
  },
  {
   "cell_type": "code",
   "execution_count": 25,
   "id": "d4b618c9-8c4b-40ec-a396-b4679233197e",
   "metadata": {
    "execution": {
     "iopub.execute_input": "2021-05-19T22:01:01.054710Z",
     "iopub.status.busy": "2021-05-19T22:01:01.054443Z",
     "iopub.status.idle": "2021-05-19T22:01:10.398819Z",
     "shell.execute_reply": "2021-05-19T22:01:10.398107Z",
     "shell.execute_reply.started": "2021-05-19T22:01:01.054682Z"
    },
    "tags": []
   },
   "outputs": [
    {
     "data": {
      "text/html": [
       "<div>\n",
       "<style scoped>\n",
       "    .dataframe tbody tr th:only-of-type {\n",
       "        vertical-align: middle;\n",
       "    }\n",
       "\n",
       "    .dataframe tbody tr th {\n",
       "        vertical-align: top;\n",
       "    }\n",
       "\n",
       "    .dataframe thead th {\n",
       "        text-align: right;\n",
       "    }\n",
       "</style>\n",
       "<table border=\"1\" class=\"dataframe\">\n",
       "  <thead>\n",
       "    <tr style=\"text-align: right;\">\n",
       "      <th></th>\n",
       "      <th>legislator</th>\n",
       "      <th>Pork Value(Constituency Interest)</th>\n",
       "      <th>Legislative Questions</th>\n",
       "      <th>Topic</th>\n",
       "      <th>Key Word</th>\n",
       "    </tr>\n",
       "  </thead>\n",
       "  <tbody>\n",
       "    <tr>\n",
       "      <th>3596</th>\n",
       "      <td>林樹山</td>\n",
       "      <td>0.999260187149048</td>\n",
       "      <td>鑒於現行「社會救助法」、「老人福利法」、「身心障礙保護法」、「敬老福利生活津貼暫行條例」、「...</td>\n",
       "      <td>社會福利 ; 扣押 ; 強制執行</td>\n",
       "      <td>社會福利 ; 扣押 ; 強制執行</td>\n",
       "    </tr>\n",
       "    <tr>\n",
       "      <th>8567</th>\n",
       "      <td>藍美津</td>\n",
       "      <td>0.998332619667053</td>\n",
       "      <td>有鑒於公務人員退休優惠存款利息差額依規定須由退休機關負擔，造成縣市政府龐大的財政負擔，對於這...</td>\n",
       "      <td>公務員退休 ; 利息 ; 地方財政</td>\n",
       "      <td>公務人員退休優惠存款利息差額</td>\n",
       "    </tr>\n",
       "    <tr>\n",
       "      <th>1945</th>\n",
       "      <td>徐國勇</td>\n",
       "      <td>0.997255206108093</td>\n",
       "      <td>針對93年8月10日所發布之中央補助地方政府學校午餐經費支用要點條文內容，特向行政院提出質詢。</td>\n",
       "      <td>教育補助 ; 營養午餐</td>\n",
       "      <td>午餐經費</td>\n",
       "    </tr>\n",
       "    <tr>\n",
       "      <th>3358</th>\n",
       "      <td>林建榮</td>\n",
       "      <td>0.995641708374023</td>\n",
       "      <td>為敬老津貼自91年發放至今仍維持每人每月三千元額度，而老農津貼二年來已調高二次達每月五千元，...</td>\n",
       "      <td>老人福利</td>\n",
       "      <td>敬老津貼 ; 老農津貼 ; 消費者物價指數</td>\n",
       "    </tr>\n",
       "    <tr>\n",
       "      <th>10792</th>\n",
       "      <td>黃敏惠(離職)</td>\n",
       "      <td>0.992344319820404</td>\n",
       "      <td>針對去（93年）台灣的總生育率再創歷史新低，僅1.23人，位居世界倒數第二位，面對少子化、高...</td>\n",
       "      <td>出生率</td>\n",
       "      <td>生育率 ; 稅賦優惠 ; 生育獎勵</td>\n",
       "    </tr>\n",
       "    <tr>\n",
       "      <th>8340</th>\n",
       "      <td>蔡煌瑯(離職)</td>\n",
       "      <td>0.991501688957214</td>\n",
       "      <td>「2005南投花卉嘉年華」活動爭取中央經費補助案由，特向行政院提出質詢。</td>\n",
       "      <td>農業推廣 ; 政府補助</td>\n",
       "      <td>南投花卉嘉年華 ; 中央經費</td>\n",
       "    </tr>\n",
       "    <tr>\n",
       "      <th>2352</th>\n",
       "      <td>朱鳳芝</td>\n",
       "      <td>0.989316821098328</td>\n",
       "      <td>針對敬老福利津貼排除國營事業員工以及在政府機關或公營事業服務的司機、技工、工友，使其於退休後...</td>\n",
       "      <td>老人福利 ; 公務員</td>\n",
       "      <td>敬老福利津貼 ; 國營事業員工 ; 技工 ; 工友</td>\n",
       "    </tr>\n",
       "    <tr>\n",
       "      <th>4418</th>\n",
       "      <td>林重謨</td>\n",
       "      <td>0.988739907741547</td>\n",
       "      <td>針對財政部關於遺產及贈與稅制之改革一事，特向行政院提出質詢。</td>\n",
       "      <td>遺產稅 ; 贈與稅 ; 賦稅改革</td>\n",
       "      <td>遺產稅 ; 贈與稅</td>\n",
       "    </tr>\n",
       "    <tr>\n",
       "      <th>4546</th>\n",
       "      <td>林鴻池</td>\n",
       "      <td>0.984846174716949</td>\n",
       "      <td>針對諸多已獲得五年五百億與卓越計畫獎補助的大學擬調漲學雜費，但教育部長杜正勝曾承諾，獲得上述...</td>\n",
       "      <td>教育補助 ; 教育費用 ; 大學</td>\n",
       "      <td>卓越計畫獎補助 ; 大學學費</td>\n",
       "    </tr>\n",
       "    <tr>\n",
       "      <th>1373</th>\n",
       "      <td>張昌財</td>\n",
       "      <td>0.984076261520386</td>\n",
       "      <td>為教育資源分配不均，升學壓力扼殺孩子天分，教改實驗已迷失方向，特向行政院提出質詢。</td>\n",
       "      <td>教育政策</td>\n",
       "      <td>教育資源 ; 升學壓力 ; 教改</td>\n",
       "    </tr>\n",
       "  </tbody>\n",
       "</table>\n",
       "</div>"
      ],
      "text/plain": [
       "      legislator Pork Value(Constituency Interest)  \\\n",
       "3596         林樹山                 0.999260187149048   \n",
       "8567         藍美津                 0.998332619667053   \n",
       "1945         徐國勇                 0.997255206108093   \n",
       "3358         林建榮                 0.995641708374023   \n",
       "10792    黃敏惠(離職)                 0.992344319820404   \n",
       "8340     蔡煌瑯(離職)                 0.991501688957214   \n",
       "2352         朱鳳芝                 0.989316821098328   \n",
       "4418         林重謨                 0.988739907741547   \n",
       "4546         林鴻池                 0.984846174716949   \n",
       "1373         張昌財                 0.984076261520386   \n",
       "\n",
       "                                  Legislative Questions               Topic  \\\n",
       "3596   鑒於現行「社會救助法」、「老人福利法」、「身心障礙保護法」、「敬老福利生活津貼暫行條例」、「...   社會福利 ; 扣押 ; 強制執行   \n",
       "8567   有鑒於公務人員退休優惠存款利息差額依規定須由退休機關負擔，造成縣市政府龐大的財政負擔，對於這...  公務員退休 ; 利息 ; 地方財政   \n",
       "1945     針對93年8月10日所發布之中央補助地方政府學校午餐經費支用要點條文內容，特向行政院提出質詢。        教育補助 ; 營養午餐   \n",
       "3358   為敬老津貼自91年發放至今仍維持每人每月三千元額度，而老農津貼二年來已調高二次達每月五千元，...               老人福利   \n",
       "10792  針對去（93年）台灣的總生育率再創歷史新低，僅1.23人，位居世界倒數第二位，面對少子化、高...                出生率   \n",
       "8340                「2005南投花卉嘉年華」活動爭取中央經費補助案由，特向行政院提出質詢。        農業推廣 ; 政府補助   \n",
       "2352   針對敬老福利津貼排除國營事業員工以及在政府機關或公營事業服務的司機、技工、工友，使其於退休後...         老人福利 ; 公務員   \n",
       "4418                      針對財政部關於遺產及贈與稅制之改革一事，特向行政院提出質詢。   遺產稅 ; 贈與稅 ; 賦稅改革   \n",
       "4546   針對諸多已獲得五年五百億與卓越計畫獎補助的大學擬調漲學雜費，但教育部長杜正勝曾承諾，獲得上述...   教育補助 ; 教育費用 ; 大學   \n",
       "1373           為教育資源分配不均，升學壓力扼殺孩子天分，教改實驗已迷失方向，特向行政院提出質詢。               教育政策   \n",
       "\n",
       "                        Key Word  \n",
       "3596            社會福利 ; 扣押 ; 強制執行  \n",
       "8567              公務人員退休優惠存款利息差額  \n",
       "1945                        午餐經費  \n",
       "3358       敬老津貼 ; 老農津貼 ; 消費者物價指數  \n",
       "10792          生育率 ; 稅賦優惠 ; 生育獎勵  \n",
       "8340              南投花卉嘉年華 ; 中央經費  \n",
       "2352   敬老福利津貼 ; 國營事業員工 ; 技工 ; 工友  \n",
       "4418                   遺產稅 ; 贈與稅  \n",
       "4546              卓越計畫獎補助 ; 大學學費  \n",
       "1373            教育資源 ; 升學壓力 ; 教改  "
      ]
     },
     "execution_count": 25,
     "metadata": {},
     "output_type": "execute_result"
    }
   ],
   "source": [
    "pd.DataFrame(\n",
    "    {'legislator': sample_df.legislator,\n",
    "     'Pork Value(Constituency Interest)':[as_num(Dcnn(np.array([tokenizer.encode(line)]), training=True).numpy()[0][0]) for line in sub_set],\n",
    "     'Legislative Questions ': sample_df.title,\n",
    "     'Topic': sample_df.topic,\n",
    "     'Key Word':sample_df.keywords}).sort_values(by=['Pork Value(Constituency Interest)'], ascending = False).head(10)"
   ]
  },
  {
   "cell_type": "markdown",
   "id": "6a6d4b15-3e05-427d-a664-8c8ce4e6622c",
   "metadata": {},
   "source": [
    "##### Last 10 Rows of 2000 Sampled Legislative Questions"
   ]
  },
  {
   "cell_type": "code",
   "execution_count": 26,
   "id": "369a7336-dc9d-4883-b919-b19611b5ad39",
   "metadata": {
    "execution": {
     "iopub.execute_input": "2021-05-19T22:01:10.400612Z",
     "iopub.status.busy": "2021-05-19T22:01:10.400396Z",
     "iopub.status.idle": "2021-05-19T22:01:18.906438Z",
     "shell.execute_reply": "2021-05-19T22:01:18.905825Z",
     "shell.execute_reply.started": "2021-05-19T22:01:10.400586Z"
    },
    "tags": []
   },
   "outputs": [
    {
     "data": {
      "text/html": [
       "<div>\n",
       "<style scoped>\n",
       "    .dataframe tbody tr th:only-of-type {\n",
       "        vertical-align: middle;\n",
       "    }\n",
       "\n",
       "    .dataframe tbody tr th {\n",
       "        vertical-align: top;\n",
       "    }\n",
       "\n",
       "    .dataframe thead th {\n",
       "        text-align: right;\n",
       "    }\n",
       "</style>\n",
       "<table border=\"1\" class=\"dataframe\">\n",
       "  <thead>\n",
       "    <tr style=\"text-align: right;\">\n",
       "      <th></th>\n",
       "      <th>legislator</th>\n",
       "      <th>Pork Value(Constituency Interest)</th>\n",
       "      <th>Legislative Questions</th>\n",
       "      <th>Topic</th>\n",
       "      <th>Key Word</th>\n",
       "    </tr>\n",
       "  </thead>\n",
       "  <tbody>\n",
       "    <tr>\n",
       "      <th>10991</th>\n",
       "      <td>黃昭順</td>\n",
       "      <td>0.000007106133580</td>\n",
       "      <td>為近來「卡奴」受到銀行逼債，甚至委由黑道背景的討債公司催債，造成國人自殺的場景一再發生，儼然...</td>\n",
       "      <td>信用卡 ; 債務 ; 暴力</td>\n",
       "      <td>卡奴 ; 討債公司 ; 信用卡</td>\n",
       "    </tr>\n",
       "    <tr>\n",
       "      <th>562</th>\n",
       "      <td>吳志揚</td>\n",
       "      <td>0.000004536138931</td>\n",
       "      <td>針對交通部為解決五股到楊梅高速公路路段常態性壅塞問題，考慮於平日閒歇性封閉部分交流道，以紓解...</td>\n",
       "      <td>高速公路 ; 道路工程</td>\n",
       "      <td>高速公路 ; 五楊高架橋 ; 林口 ; 地質</td>\n",
       "    </tr>\n",
       "    <tr>\n",
       "      <th>256</th>\n",
       "      <td>何智輝</td>\n",
       "      <td>0.000004186685601</td>\n",
       "      <td>針對大西洋鮪類資源保育委員會，日前對台灣業者長期存在違規超捕事實及進行洗魚情事，認為台灣採行...</td>\n",
       "      <td>漁業權</td>\n",
       "      <td>大目鮪漁獲配額 ; 漁民權益</td>\n",
       "    </tr>\n",
       "    <tr>\n",
       "      <th>9039</th>\n",
       "      <td>邱毅</td>\n",
       "      <td>0.000004059500498</td>\n",
       "      <td>針對新聞局認定TVBS應為綜合台非新聞台乙案，準備將TVBS轉頻一事，日前行政院新聞局認定T...</td>\n",
       "      <td>新聞自由 ; 電視臺</td>\n",
       "      <td>TVBS ; 股權結構 ; 外資 ; 國家通訊傳播委員會組織法 ; NCC ; 報導自由</td>\n",
       "    </tr>\n",
       "    <tr>\n",
       "      <th>5209</th>\n",
       "      <td>沈智慧</td>\n",
       "      <td>0.000003905588528</td>\n",
       "      <td>有鑒於台鐵意外頻傳，從訂票系統到五條人命的悲劇，日常班次也誤點連連，導致國人對台鐵的信心蕩然...</td>\n",
       "      <td>鐵路管理</td>\n",
       "      <td>台鐵管理</td>\n",
       "    </tr>\n",
       "    <tr>\n",
       "      <th>9052</th>\n",
       "      <td>邱毅</td>\n",
       "      <td>0.000003387026482</td>\n",
       "      <td>針對新聞局認定TVBS股權結構違法一案，以實質違反衛星廣播電視法規定，開出「新聞局行政處分書...</td>\n",
       "      <td>電視臺 ; 新聞行政</td>\n",
       "      <td>TVBS ; 股權結構 ; 行政處分</td>\n",
       "    </tr>\n",
       "    <tr>\n",
       "      <th>7660</th>\n",
       "      <td>羅世雄</td>\n",
       "      <td>0.000002731591849</td>\n",
       "      <td>針對若干不肖業者以「課程大放送」方式，規避定型化契約規範，欺瞞消費者，爰此，主管單位應提出立...</td>\n",
       "      <td>語言 ; 補習班 ; 消費者保護</td>\n",
       "      <td>定型化契約 ; 語言補習班</td>\n",
       "    </tr>\n",
       "    <tr>\n",
       "      <th>16</th>\n",
       "      <td>丁守中</td>\n",
       "      <td>0.000002676855502</td>\n",
       "      <td>針就全國總數四千多棟社區活動中心閒置率高，又於近五年來每年以多達一百棟以上的數量持續大量興建...</td>\n",
       "      <td>公共建設</td>\n",
       "      <td>社區活動中心</td>\n",
       "    </tr>\n",
       "    <tr>\n",
       "      <th>2780</th>\n",
       "      <td>李鎮楠</td>\n",
       "      <td>0.000002009462378</td>\n",
       "      <td>針對聯電重編過去三年美國財報，不僅對美台兩地投資人的資訊揭露出現嚴重時間差，甚至引發懷疑內線...</td>\n",
       "      <td>金融管理</td>\n",
       "      <td>聯電 ; 金融管理 ; 金管會</td>\n",
       "    </tr>\n",
       "    <tr>\n",
       "      <th>3767</th>\n",
       "      <td>林正峰</td>\n",
       "      <td>0.000000829115152</td>\n",
       "      <td>針對節目廣告化情節越來越嚴重，國家通訊傳播委員會日前針對播放「竹炭內衣」及「EGF時空膠囊」...</td>\n",
       "      <td>電視節目 ; 廣告</td>\n",
       "      <td>節目廣告化 ; 置入性行銷</td>\n",
       "    </tr>\n",
       "  </tbody>\n",
       "</table>\n",
       "</div>"
      ],
      "text/plain": [
       "      legislator Pork Value(Constituency Interest)  \\\n",
       "10991        黃昭順                 0.000007106133580   \n",
       "562          吳志揚                 0.000004536138931   \n",
       "256          何智輝                 0.000004186685601   \n",
       "9039          邱毅                 0.000004059500498   \n",
       "5209         沈智慧                 0.000003905588528   \n",
       "9052          邱毅                 0.000003387026482   \n",
       "7660         羅世雄                 0.000002731591849   \n",
       "16           丁守中                 0.000002676855502   \n",
       "2780         李鎮楠                 0.000002009462378   \n",
       "3767         林正峰                 0.000000829115152   \n",
       "\n",
       "                                  Legislative Questions              Topic  \\\n",
       "10991  為近來「卡奴」受到銀行逼債，甚至委由黑道背景的討債公司催債，造成國人自殺的場景一再發生，儼然...     信用卡 ; 債務 ; 暴力   \n",
       "562    針對交通部為解決五股到楊梅高速公路路段常態性壅塞問題，考慮於平日閒歇性封閉部分交流道，以紓解...       高速公路 ; 道路工程   \n",
       "256    針對大西洋鮪類資源保育委員會，日前對台灣業者長期存在違規超捕事實及進行洗魚情事，認為台灣採行...               漁業權   \n",
       "9039   針對新聞局認定TVBS應為綜合台非新聞台乙案，準備將TVBS轉頻一事，日前行政院新聞局認定T...        新聞自由 ; 電視臺   \n",
       "5209   有鑒於台鐵意外頻傳，從訂票系統到五條人命的悲劇，日常班次也誤點連連，導致國人對台鐵的信心蕩然...              鐵路管理   \n",
       "9052   針對新聞局認定TVBS股權結構違法一案，以實質違反衛星廣播電視法規定，開出「新聞局行政處分書...        電視臺 ; 新聞行政   \n",
       "7660   針對若干不肖業者以「課程大放送」方式，規避定型化契約規範，欺瞞消費者，爰此，主管單位應提出立...  語言 ; 補習班 ; 消費者保護   \n",
       "16     針就全國總數四千多棟社區活動中心閒置率高，又於近五年來每年以多達一百棟以上的數量持續大量興建...              公共建設   \n",
       "2780   針對聯電重編過去三年美國財報，不僅對美台兩地投資人的資訊揭露出現嚴重時間差，甚至引發懷疑內線...              金融管理   \n",
       "3767   針對節目廣告化情節越來越嚴重，國家通訊傳播委員會日前針對播放「竹炭內衣」及「EGF時空膠囊」...         電視節目 ; 廣告   \n",
       "\n",
       "                                           Key Word  \n",
       "10991                               卡奴 ; 討債公司 ; 信用卡  \n",
       "562                          高速公路 ; 五楊高架橋 ; 林口 ; 地質  \n",
       "256                                  大目鮪漁獲配額 ; 漁民權益  \n",
       "9039   TVBS ; 股權結構 ; 外資 ; 國家通訊傳播委員會組織法 ; NCC ; 報導自由  \n",
       "5209                                           台鐵管理  \n",
       "9052                             TVBS ; 股權結構 ; 行政處分  \n",
       "7660                                  定型化契約 ; 語言補習班  \n",
       "16                                           社區活動中心  \n",
       "2780                                聯電 ; 金融管理 ; 金管會  \n",
       "3767                                  節目廣告化 ; 置入性行銷  "
      ]
     },
     "execution_count": 26,
     "metadata": {},
     "output_type": "execute_result"
    }
   ],
   "source": [
    "pd.DataFrame(\n",
    "    {'legislator': sample_df.legislator,\n",
    "     'Pork Value(Constituency Interest)':[as_num(Dcnn(np.array([tokenizer.encode(line)]), training=True).numpy()[0][0]) for line in sub_set],\n",
    "     'Legislative Questions ': sample_df.title,\n",
    "     'Topic': sample_df.topic,\n",
    "     'Key Word':sample_df.keywords}).sort_values(by=['Pork Value(Constituency Interest)'], ascending = False).tail(10)"
   ]
  },
  {
   "cell_type": "markdown",
   "id": "5dc01475-847a-408f-9972-ac02e7aa4721",
   "metadata": {},
   "source": [
    "#### (2) Export an End-to-end Model\n"
   ]
  },
  {
   "cell_type": "code",
   "execution_count": 27,
   "id": "196028d0-edfe-434f-a173-4ccaa688faaa",
   "metadata": {
    "execution": {
     "iopub.execute_input": "2021-05-19T22:01:18.907879Z",
     "iopub.status.busy": "2021-05-19T22:01:18.907495Z",
     "iopub.status.idle": "2021-05-19T22:01:18.910944Z",
     "shell.execute_reply": "2021-05-19T22:01:18.910202Z",
     "shell.execute_reply.started": "2021-05-19T22:01:18.907852Z"
    },
    "tags": []
   },
   "outputs": [],
   "source": [
    "from tensorflow.keras.models import load_model"
   ]
  },
  {
   "cell_type": "code",
   "execution_count": 28,
   "id": "071291d0-c5bb-48de-adb2-f8b2bb3bb542",
   "metadata": {
    "execution": {
     "iopub.execute_input": "2021-05-19T22:01:18.912296Z",
     "iopub.status.busy": "2021-05-19T22:01:18.912018Z",
     "iopub.status.idle": "2021-05-19T22:01:20.096180Z",
     "shell.execute_reply": "2021-05-19T22:01:20.095463Z",
     "shell.execute_reply.started": "2021-05-19T22:01:18.912269Z"
    },
    "tags": []
   },
   "outputs": [
    {
     "name": "stdout",
     "output_type": "stream",
     "text": [
      "INFO:tensorflow:Assets written to: lour_pork_model/assets\n"
     ]
    },
    {
     "name": "stderr",
     "output_type": "stream",
     "text": [
      "INFO:tensorflow:Assets written to: lour_pork_model/assets\n"
     ]
    }
   ],
   "source": [
    "# Get model (Sequential, Functional Model, or Model subclass)\n",
    "Dcnn.save('lour_pork_model')"
   ]
  },
  {
   "cell_type": "code",
   "execution_count": 29,
   "id": "2ac46183-b841-469b-8897-1fea2922e445",
   "metadata": {
    "execution": {
     "iopub.execute_input": "2021-05-19T22:01:20.097634Z",
     "iopub.status.busy": "2021-05-19T22:01:20.097350Z",
     "iopub.status.idle": "2021-05-19T22:01:20.505052Z",
     "shell.execute_reply": "2021-05-19T22:01:20.504359Z",
     "shell.execute_reply.started": "2021-05-19T22:01:20.097607Z"
    },
    "tags": []
   },
   "outputs": [],
   "source": [
    "from tensorflow import keras\n",
    "model = keras.models.load_model('lour_pork_model')"
   ]
  }
 ],
 "metadata": {
  "kernelspec": {
   "display_name": "Python 3",
   "language": "python",
   "name": "python3"
  },
  "language_info": {
   "codemirror_mode": {
    "name": "ipython",
    "version": 3
   },
   "file_extension": ".py",
   "mimetype": "text/x-python",
   "name": "python",
   "nbconvert_exporter": "python",
   "pygments_lexer": "ipython3",
   "version": "3.8.8"
  }
 },
 "nbformat": 4,
 "nbformat_minor": 5
}
