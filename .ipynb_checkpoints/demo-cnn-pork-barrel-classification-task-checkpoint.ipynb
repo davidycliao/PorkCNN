{
 "cells": [
  {
   "cell_type": "markdown",
   "id": "b65dfbdc-bb80-4bd4-8248-dd06483222cd",
   "metadata": {},
   "source": [
    "# Lour's Pork Barrel Classifier (羅老師肉桶文本分類器)🐖\n",
    "## Convolutional Neural Networks for Pork Barrel Project Classification "
   ]
  },
  {
   "cell_type": "markdown",
   "id": "e8005d5a-f938-4c26-86d5-592408152d08",
   "metadata": {},
   "source": [
    "-------------------------\n",
    "\n",
    "### Stage 1: Libaries & Dependencies"
   ]
  },
  {
   "cell_type": "code",
   "execution_count": 1,
   "id": "6ca92ba3-7480-418f-91e0-d2beea2d10af",
   "metadata": {
    "execution": {
     "iopub.execute_input": "2021-05-19T11:26:08.962534Z",
     "iopub.status.busy": "2021-05-19T11:26:08.962221Z",
     "iopub.status.idle": "2021-05-19T11:26:12.980028Z",
     "shell.execute_reply": "2021-05-19T11:26:12.979501Z",
     "shell.execute_reply.started": "2021-05-19T11:26:08.962480Z"
    },
    "tags": []
   },
   "outputs": [],
   "source": [
    "# built-in library\n",
    "import math\n",
    "import re\n",
    "import collections\n",
    "import zipfile\n",
    "from itertools import chain\n",
    "\n",
    "# ML & Deep Learning/ NLP toolkit\n",
    "import pandas as pd\n",
    "import numpy as np\n",
    "import jieba\n",
    "from sklearn.model_selection import train_test_split\n",
    "import tensorflow as tf\n",
    "from tensorflow.keras import layers\n",
    "import tensorflow_datasets as tfds\n",
    "from tensorflow.keras.callbacks import EarlyStopping,TensorBoard\n",
    "\n",
    "# Visualization\n",
    "import matplotlib.pyplot as plt\n",
    "import seaborn as sns"
   ]
  },
  {
   "cell_type": "markdown",
   "id": "8bd77e05-355a-422f-87db-2cf77cba3bdd",
   "metadata": {},
   "source": [
    "-------------------------\n",
    "\n",
    "### Stage 2: Data Preprocessing"
   ]
  },
  {
   "cell_type": "markdown",
   "id": "3b57b9c9-443e-4e26-bda2-15f6877845d5",
   "metadata": {},
   "source": [
    "#### (1) Read file "
   ]
  },
  {
   "cell_type": "code",
   "execution_count": 2,
   "id": "e1973cfb-73d4-4717-a67a-a4e8a0c9edb0",
   "metadata": {
    "execution": {
     "iopub.execute_input": "2021-05-19T11:26:12.981538Z",
     "iopub.status.busy": "2021-05-19T11:26:12.981284Z",
     "iopub.status.idle": "2021-05-19T11:26:12.998129Z",
     "shell.execute_reply": "2021-05-19T11:26:12.997557Z",
     "shell.execute_reply.started": "2021-05-19T11:26:12.981515Z"
    },
    "tags": []
   },
   "outputs": [],
   "source": [
    "df = pd.read_csv('data/Pork Bill - LY.csv',encoding='utf-8')\n",
    "df['text'] =  df['Title'] + df['Content'].fillna(df['Title'])\n",
    "data = df[['text', 'pork_bill']]"
   ]
  },
  {
   "cell_type": "code",
   "execution_count": 3,
   "id": "282b9fad-45f1-4325-97a1-4d612608e73e",
   "metadata": {
    "execution": {
     "iopub.execute_input": "2021-05-19T11:26:12.999108Z",
     "iopub.status.busy": "2021-05-19T11:26:12.998962Z",
     "iopub.status.idle": "2021-05-19T11:26:13.009299Z",
     "shell.execute_reply": "2021-05-19T11:26:13.008750Z",
     "shell.execute_reply.started": "2021-05-19T11:26:12.999088Z"
    },
    "tags": []
   },
   "outputs": [
    {
     "data": {
      "text/html": [
       "<div>\n",
       "<style scoped>\n",
       "    .dataframe tbody tr th:only-of-type {\n",
       "        vertical-align: middle;\n",
       "    }\n",
       "\n",
       "    .dataframe tbody tr th {\n",
       "        vertical-align: top;\n",
       "    }\n",
       "\n",
       "    .dataframe thead th {\n",
       "        text-align: right;\n",
       "    }\n",
       "</style>\n",
       "<table border=\"1\" class=\"dataframe\">\n",
       "  <thead>\n",
       "    <tr style=\"text-align: right;\">\n",
       "      <th></th>\n",
       "      <th>text</th>\n",
       "      <th>pork_bill</th>\n",
       "    </tr>\n",
       "  </thead>\n",
       "  <tbody>\n",
       "    <tr>\n",
       "      <th>0</th>\n",
       "      <td>軍人撫卹條例第十八條條文修正草案落實軍人及眷屬之照顧（撫卹金）</td>\n",
       "      <td>1</td>\n",
       "    </tr>\n",
       "    <tr>\n",
       "      <th>1</th>\n",
       "      <td>所得稅法第十七條條文修正草案學費之特別扣除額應以每人所繳之學雜費為限</td>\n",
       "      <td>1</td>\n",
       "    </tr>\n",
       "    <tr>\n",
       "      <th>2</th>\n",
       "      <td>所得稅法第十一條條文修正草案保險人員申報時得扣除一定比例之業務必要費用</td>\n",
       "      <td>1</td>\n",
       "    </tr>\n",
       "    <tr>\n",
       "      <th>3</th>\n",
       "      <td>土地稅法第二十八條之一條文修正草案土地贈與文教基金會未能免爭土地增值稅，修正之</td>\n",
       "      <td>1</td>\n",
       "    </tr>\n",
       "    <tr>\n",
       "      <th>4</th>\n",
       "      <td>敬老福利生活津貼暫行條例第三條條文修正草案放寬請領資格之門檻</td>\n",
       "      <td>1</td>\n",
       "    </tr>\n",
       "    <tr>\n",
       "      <th>5</th>\n",
       "      <td>洗錢防制法部分條文修正草案給予法官較大權限；起訴期間禁止被告的高消費行為</td>\n",
       "      <td>0</td>\n",
       "    </tr>\n",
       "    <tr>\n",
       "      <th>6</th>\n",
       "      <td>日據時代日本政府國庫券及債券處理條例草案就是保障日據時代持有日本債券者</td>\n",
       "      <td>0</td>\n",
       "    </tr>\n",
       "    <tr>\n",
       "      <th>7</th>\n",
       "      <td>大陸地區人民來臺從事觀光活動條例草案開放大陸人民觀光，振興經濟</td>\n",
       "      <td>0</td>\n",
       "    </tr>\n",
       "    <tr>\n",
       "      <th>8</th>\n",
       "      <td>限制欠稅人或欠稅營利事業負責人出境實施條例草案現行法令僅為行政命令位階</td>\n",
       "      <td>0</td>\n",
       "    </tr>\n",
       "    <tr>\n",
       "      <th>9</th>\n",
       "      <td>使用牌照稅法第七條條文修正草案民營汽車駕駛人訓練機構之教練車亦應免徵使用牌照稅</td>\n",
       "      <td>1</td>\n",
       "    </tr>\n",
       "  </tbody>\n",
       "</table>\n",
       "</div>"
      ],
      "text/plain": [
       "                                      text  pork_bill\n",
       "0          軍人撫卹條例第十八條條文修正草案落實軍人及眷屬之照顧（撫卹金）          1\n",
       "1       所得稅法第十七條條文修正草案學費之特別扣除額應以每人所繳之學雜費為限          1\n",
       "2      所得稅法第十一條條文修正草案保險人員申報時得扣除一定比例之業務必要費用          1\n",
       "3  土地稅法第二十八條之一條文修正草案土地贈與文教基金會未能免爭土地增值稅，修正之          1\n",
       "4           敬老福利生活津貼暫行條例第三條條文修正草案放寬請領資格之門檻          1\n",
       "5     洗錢防制法部分條文修正草案給予法官較大權限；起訴期間禁止被告的高消費行為          0\n",
       "6      日據時代日本政府國庫券及債券處理條例草案就是保障日據時代持有日本債券者          0\n",
       "7          大陸地區人民來臺從事觀光活動條例草案開放大陸人民觀光，振興經濟          0\n",
       "8      限制欠稅人或欠稅營利事業負責人出境實施條例草案現行法令僅為行政命令位階          0\n",
       "9  使用牌照稅法第七條條文修正草案民營汽車駕駛人訓練機構之教練車亦應免徵使用牌照稅          1"
      ]
     },
     "execution_count": 3,
     "metadata": {},
     "output_type": "execute_result"
    }
   ],
   "source": [
    "data.head(10)"
   ]
  },
  {
   "cell_type": "code",
   "execution_count": 4,
   "id": "f6160785-9522-4404-8f77-6df941869cde",
   "metadata": {
    "execution": {
     "iopub.execute_input": "2021-05-19T11:26:13.010217Z",
     "iopub.status.busy": "2021-05-19T11:26:13.010066Z",
     "iopub.status.idle": "2021-05-19T11:26:13.014598Z",
     "shell.execute_reply": "2021-05-19T11:26:13.014099Z",
     "shell.execute_reply.started": "2021-05-19T11:26:13.010198Z"
    },
    "tags": []
   },
   "outputs": [
    {
     "name": "stdout",
     "output_type": "stream",
     "text": [
      " Pork Legislation 792 \n",
      " None-Pork Legislation 399\n"
     ]
    }
   ],
   "source": [
    "print(\" Pork Legislation\", data['pork_bill'].value_counts()[0],'\\n', \n",
    "      \"None-Pork Legislation\", data['pork_bill'].value_counts()[1])"
   ]
  },
  {
   "cell_type": "markdown",
   "id": "5e6d677d-e200-40e6-9252-130eb02fc682",
   "metadata": {
    "execution": {
     "iopub.execute_input": "2021-05-16T17:01:03.001989Z",
     "iopub.status.busy": "2021-05-16T17:01:03.001801Z",
     "iopub.status.idle": "2021-05-16T17:01:03.004600Z",
     "shell.execute_reply": "2021-05-16T17:01:03.003789Z",
     "shell.execute_reply.started": "2021-05-16T17:01:03.001969Z"
    }
   },
   "source": [
    "#### (2) Tokenization"
   ]
  },
  {
   "cell_type": "code",
   "execution_count": 5,
   "id": "120e8b54-7f75-4ca6-a0d0-9872b1522e8e",
   "metadata": {
    "execution": {
     "iopub.execute_input": "2021-05-19T11:26:13.015926Z",
     "iopub.status.busy": "2021-05-19T11:26:13.015713Z",
     "iopub.status.idle": "2021-05-19T11:26:13.022680Z",
     "shell.execute_reply": "2021-05-19T11:26:13.021963Z",
     "shell.execute_reply.started": "2021-05-19T11:26:13.015906Z"
    },
    "tags": []
   },
   "outputs": [],
   "source": [
    "import collections\n",
    "import numpy as np\n",
    "import jieba\n",
    "from itertools import chain\n",
    "\n",
    "\n",
    "def jieba_cut(filename):\n",
    "    \"\"\"\n",
    "    cut Chinese and remove stop words\n",
    "    Reference: https://www.cnblogs.com/Luv-GEM/p/10836454.html\n",
    "    Stopwords: https://www.kaggle.com/rikdifos/english-and-chinese-stopwords?select=cn_stopwords.txt\n",
    "    \"\"\"\n",
    "    stop_list = [i.strip() for i in open('cn_stopwords.txt','r',encoding='utf-8')]  \n",
    "    news_cut = []\n",
    "    news_list = []\n",
    "    for line in filename:    \n",
    "        if line:\n",
    "            news_cut = list(jieba.cut(''.join(line),cut_all=False,HMM=True))  \n",
    "            news_list.append([word.strip() for word in news_cut if word not in stop_list and len(word.strip())>0]) \n",
    "    news_list = list(chain.from_iterable(news_list))  \n",
    "    return news_list\n",
    "\n",
    "def clearPucts(context):\n",
    "    \"\"\"\n",
    "    remove punctuation\n",
    "    ref: https://chenyuzuoo.github.io/posts/28001/\n",
    "    \"\"\"\n",
    "    context = re.sub(\"[\\s+\\.\\!\\/_,$%^*(+\\\"\\']+|[+——！，。？、~@#￥%……&*（）]+\", \"\", context)\n",
    "    context = re.sub(\"[【】╮╯▽╰╭★→「」]+\",\"\", context)\n",
    "    context = re.sub(\"！，❤。～《》：（）【】「」？”“；：、\",\"\",context)\n",
    "    context = re.sub(\"\\s\",\"\",context)\n",
    "    return context\n",
    "\n",
    "def seg_char(sent):\n",
    "    \"\"\"\n",
    "    cut Chinese and remove stop words\n",
    "    ref: https://blog.csdn.net/renyuanfang/article/details/86487367\n",
    "    \"\"\"\n",
    "    # split\n",
    "    pattern_char_1 = re.compile(r'([\\W])')\n",
    "    parts = pattern_char_1.split(sent)\n",
    "    parts = [p for p in parts if len(p.strip())>0]\n",
    "    # cut sentence\n",
    "    pattern = re.compile(r'([\\u4e00-\\u9fa5])')\n",
    "    chars = pattern.split(sent)\n",
    "    chars = [w for w in chars if len(w.strip())>0]\n",
    "    chars = ' '.join(chars)\n",
    "    return chars\n",
    "\n",
    "# import spacy\n",
    "# # python3 -m spacy download zh_core_web_sm\n",
    "# spacy_nlp = spacy.load(\"zh_core_web_sm\")\n",
    "\n",
    "# data_clean = [clearPucts(text) for text in data.text]\n",
    "# data_clean = [[spacy_nlp(sentence).vector for sentence in data] for data in data_clean]"
   ]
  },
  {
   "cell_type": "code",
   "execution_count": 6,
   "id": "25f4277c-001d-47a4-81d0-f5ac5ec5e5d3",
   "metadata": {
    "execution": {
     "iopub.execute_input": "2021-05-19T11:26:13.023615Z",
     "iopub.status.busy": "2021-05-19T11:26:13.023403Z",
     "iopub.status.idle": "2021-05-19T11:26:13.598455Z",
     "shell.execute_reply": "2021-05-19T11:26:13.597896Z",
     "shell.execute_reply.started": "2021-05-19T11:26:13.023596Z"
    },
    "tags": []
   },
   "outputs": [],
   "source": [
    "data_clean = [seg_char(text) for text in [clearPucts(text) for text in data.text]]\n",
    "\n",
    "tokenizer = tfds.deprecated.text.SubwordTextEncoder.build_from_corpus(\n",
    "    data_clean, target_vocab_size=2**18)\n",
    "\n",
    "data_inputs = [tokenizer.encode(sentence) for sentence in data_clean]"
   ]
  },
  {
   "cell_type": "markdown",
   "id": "089e65af-e49c-4d60-962e-a0a826809aa5",
   "metadata": {
    "execution": {
     "iopub.execute_input": "2021-05-16T17:01:47.611294Z",
     "iopub.status.busy": "2021-05-16T17:01:47.611020Z",
     "iopub.status.idle": "2021-05-16T17:01:47.614208Z",
     "shell.execute_reply": "2021-05-16T17:01:47.613487Z",
     "shell.execute_reply.started": "2021-05-16T17:01:47.611276Z"
    }
   },
   "source": [
    "#### (3) Padding"
   ]
  },
  {
   "cell_type": "code",
   "execution_count": 7,
   "id": "b801d231-972c-47e3-83c4-7375c2e11a18",
   "metadata": {
    "execution": {
     "iopub.execute_input": "2021-05-19T11:26:13.602302Z",
     "iopub.status.busy": "2021-05-19T11:26:13.602134Z",
     "iopub.status.idle": "2021-05-19T11:26:13.619469Z",
     "shell.execute_reply": "2021-05-19T11:26:13.618628Z",
     "shell.execute_reply.started": "2021-05-19T11:26:13.602282Z"
    },
    "tags": []
   },
   "outputs": [],
   "source": [
    "MAX_LEN = max([len(sentence) for sentence in data_clean])\n",
    "data_inputs = tf.keras.preprocessing.sequence.pad_sequences(data_inputs,\n",
    "                                                            value=0,\n",
    "                                                            padding=\"post\",\n",
    "                                                            maxlen=MAX_LEN)\n"
   ]
  },
  {
   "cell_type": "markdown",
   "id": "f69d90cf-ac3c-4e08-b46b-457d9708d832",
   "metadata": {
    "execution": {
     "iopub.execute_input": "2021-05-16T17:02:28.107037Z",
     "iopub.status.busy": "2021-05-16T17:02:28.106843Z",
     "iopub.status.idle": "2021-05-16T17:02:28.109696Z",
     "shell.execute_reply": "2021-05-16T17:02:28.108954Z",
     "shell.execute_reply.started": "2021-05-16T17:02:28.107017Z"
    }
   },
   "source": [
    "#### (4) Spliting Training/ Testing Set"
   ]
  },
  {
   "cell_type": "code",
   "execution_count": 8,
   "id": "42503355-eea3-4602-ae5a-ea18be84b8d1",
   "metadata": {
    "execution": {
     "iopub.execute_input": "2021-05-19T11:26:13.622795Z",
     "iopub.status.busy": "2021-05-19T11:26:13.622556Z",
     "iopub.status.idle": "2021-05-19T11:26:13.625795Z",
     "shell.execute_reply": "2021-05-19T11:26:13.624952Z",
     "shell.execute_reply.started": "2021-05-19T11:26:13.622764Z"
    },
    "tags": []
   },
   "outputs": [],
   "source": [
    "data_labels = data.pork_bill.values"
   ]
  },
  {
   "cell_type": "code",
   "execution_count": 9,
   "id": "19235117-f63a-4e06-a102-6efe98c37dbf",
   "metadata": {
    "execution": {
     "iopub.execute_input": "2021-05-19T11:26:13.627160Z",
     "iopub.status.busy": "2021-05-19T11:26:13.626889Z",
     "iopub.status.idle": "2021-05-19T11:26:13.633442Z",
     "shell.execute_reply": "2021-05-19T11:26:13.632560Z",
     "shell.execute_reply.started": "2021-05-19T11:26:13.627125Z"
    },
    "tags": []
   },
   "outputs": [
    {
     "name": "stdout",
     "output_type": "stream",
     "text": [
      "Shape of X Train: (797, 123) \n",
      "Shape of X Test : (394, 123) \n",
      "Shape of Y Trian: (797,) \n",
      "Shape of Y Test : (394,)\n"
     ]
    }
   ],
   "source": [
    "import numpy as np\n",
    "from sklearn.model_selection import train_test_split\n",
    "train_inputs, test_inputs, train_labels, test_labels = train_test_split(\n",
    "    data_inputs, data_labels, test_size=0.33, random_state=42)\n",
    "\n",
    "print(\"Shape of X Train:\", train_inputs.shape, '\\n'\n",
    "      \"Shape of X Test :\", test_inputs.shape,'\\n'\n",
    "      \"Shape of Y Trian:\", train_labels.shape , '\\n'\n",
    "      \"Shape of Y Test :\", test_labels.shape )"
   ]
  },
  {
   "cell_type": "code",
   "execution_count": 10,
   "id": "6f10cb5c-7c8d-4e1e-a987-11b8de8e42d0",
   "metadata": {
    "execution": {
     "iopub.execute_input": "2021-05-19T11:26:13.634754Z",
     "iopub.status.busy": "2021-05-19T11:26:13.634498Z",
     "iopub.status.idle": "2021-05-19T11:26:13.638532Z",
     "shell.execute_reply": "2021-05-19T11:26:13.637822Z",
     "shell.execute_reply.started": "2021-05-19T11:26:13.634730Z"
    },
    "tags": []
   },
   "outputs": [
    {
     "name": "stdout",
     "output_type": "stream",
     "text": [
      " Num of Train Set: 797 \n",
      " Not Pork vs Pork: {0: 527, 1: 270}\n"
     ]
    }
   ],
   "source": [
    "unique_train_labels, counts_train_labels = np.unique(train_labels, return_counts=True)\n",
    "\n",
    "print(' Num of Train Set:' , train_inputs.shape[0], '\\n'\n",
    "      ,'Not Pork vs Pork:', dict(zip(unique_train_labels, counts_train_labels)))"
   ]
  },
  {
   "cell_type": "code",
   "execution_count": 11,
   "id": "fedad623-02ba-4fad-b0b4-a094de7c39de",
   "metadata": {
    "execution": {
     "iopub.execute_input": "2021-05-19T11:26:13.639932Z",
     "iopub.status.busy": "2021-05-19T11:26:13.639656Z",
     "iopub.status.idle": "2021-05-19T11:26:13.644436Z",
     "shell.execute_reply": "2021-05-19T11:26:13.643612Z",
     "shell.execute_reply.started": "2021-05-19T11:26:13.639901Z"
    },
    "tags": []
   },
   "outputs": [
    {
     "name": "stdout",
     "output_type": "stream",
     "text": [
      " Num of Test Set: 394 \n",
      " Not Pork vs Pork: {0: 265, 1: 129}\n"
     ]
    }
   ],
   "source": [
    "unique_test_labels, counts_test_labels = np.unique(test_labels, return_counts=True)\n",
    "\n",
    "print(' Num of Test Set:' , test_inputs.shape[0], '\\n'\n",
    "      ,'Not Pork vs Pork:', dict(zip(unique_test_labels, counts_test_labels)))"
   ]
  },
  {
   "cell_type": "markdown",
   "id": "725f7feb-b93b-4d0b-bcbf-562240a79f8b",
   "metadata": {
    "execution": {
     "iopub.execute_input": "2021-05-16T17:04:13.375644Z",
     "iopub.status.busy": "2021-05-16T17:04:13.375440Z",
     "iopub.status.idle": "2021-05-16T17:04:13.378111Z",
     "shell.execute_reply": "2021-05-16T17:04:13.377464Z",
     "shell.execute_reply.started": "2021-05-16T17:04:13.375623Z"
    },
    "tags": []
   },
   "source": [
    "-------------------------\n",
    "\n",
    "\n",
    "### Stage 3: Model and Building"
   ]
  },
  {
   "cell_type": "markdown",
   "id": "4a0e74bf-eaf4-4043-8d23-88291d8ea344",
   "metadata": {
    "execution": {
     "iopub.execute_input": "2021-05-16T17:13:18.807725Z",
     "iopub.status.busy": "2021-05-16T17:13:18.807498Z",
     "iopub.status.idle": "2021-05-16T17:13:18.810574Z",
     "shell.execute_reply": "2021-05-16T17:13:18.809625Z",
     "shell.execute_reply.started": "2021-05-16T17:13:18.807701Z"
    }
   },
   "source": [
    "#### (1) Using the Subclassing API to Build Dynamic Model"
   ]
  },
  {
   "cell_type": "code",
   "execution_count": 12,
   "id": "1f18f9b1-5f4d-4d0a-baf4-2eebed7f34f2",
   "metadata": {
    "execution": {
     "iopub.execute_input": "2021-05-19T11:26:13.646218Z",
     "iopub.status.busy": "2021-05-19T11:26:13.645928Z",
     "iopub.status.idle": "2021-05-19T11:26:13.655292Z",
     "shell.execute_reply": "2021-05-19T11:26:13.654656Z",
     "shell.execute_reply.started": "2021-05-19T11:26:13.646192Z"
    },
    "tags": []
   },
   "outputs": [],
   "source": [
    "class DCNN(tf.keras.Model):\n",
    "    \n",
    "    def __init__(self,\n",
    "                 vocab_size,\n",
    "                 emb_dim=128,\n",
    "                 nb_filters=100,\n",
    "                 FFN_units=512,\n",
    "                 nb_classes=2,\n",
    "                 dropout_rate=0.1,\n",
    "                 training=False,\n",
    "                 name=\"dcnn\"):\n",
    "        super(DCNN, self).__init__(name=name)\n",
    "        \n",
    "        self.embedding = layers.Embedding(vocab_size, \n",
    "                                          emb_dim)\n",
    "        self.bigram = layers.Conv1D(filters=nb_filters, \n",
    "                                    kernel_size=2,\n",
    "                                    padding=\"valid\",\n",
    "                                    activation=\"relu\")\n",
    "        self.trigram = layers.Conv1D(filters=nb_filters,\n",
    "                                     kernel_size=3,\n",
    "                                     padding=\"valid\",\n",
    "                                     activation=\"relu\")\n",
    "        self.fourgram = layers.Conv1D(filters=nb_filters,\n",
    "                                      kernel_size=4,\n",
    "                                      padding=\"valid\",\n",
    "                                      activation=\"relu\")\n",
    "        self.pool = layers.GlobalMaxPool1D() # no training variable so we can\n",
    "                                             # use the same layer for each\n",
    "                                             # pooling step\n",
    "        self.dense_1 = layers.Dense(units=FFN_units, activation=\"relu\")\n",
    "        self.dropout = layers.Dropout(rate=dropout_rate)\n",
    "        self.last_dense = layers.Dense(units=1, activation=\"sigmoid\")\n",
    "    \n",
    "    def call(self, inputs, training):\n",
    "        x = self.embedding(inputs)\n",
    "        x_1 = self.bigram(x)\n",
    "        x_1 = self.pool(x_1)\n",
    "        x_2 = self.trigram(x)\n",
    "        x_2 = self.pool(x_2)\n",
    "        x_3 = self.fourgram(x)\n",
    "        x_3 = self.pool(x_3)\n",
    "        \n",
    "        merged = tf.concat([x_1, x_2, x_3], axis=-1) # (batch_size, 3 * nb_filters)\n",
    "        merged = self.dense_1(merged)\n",
    "        merged = self.dropout(merged, training)\n",
    "        output = self.last_dense(merged)        \n",
    "        return output\n"
   ]
  },
  {
   "cell_type": "code",
   "execution_count": 13,
   "id": "bfc02e93-3a0e-4c1c-b488-b2db98b53824",
   "metadata": {
    "execution": {
     "iopub.execute_input": "2021-05-19T11:26:13.656503Z",
     "iopub.status.busy": "2021-05-19T11:26:13.656187Z",
     "iopub.status.idle": "2021-05-19T11:26:13.692240Z",
     "shell.execute_reply": "2021-05-19T11:26:13.691655Z",
     "shell.execute_reply.started": "2021-05-19T11:26:13.656480Z"
    },
    "tags": []
   },
   "outputs": [],
   "source": [
    "VOCAB_SIZE = 1819 # tokenizer.vocab_size\n",
    "EMB_DIM = 200\n",
    "NB_FILTERS = 100\n",
    "FFN_UNITS = 256\n",
    "NB_CLASSES = 2 #len(set(train_labels))\n",
    "DROPOUT_RATE = 0.2\n",
    "BATCH_SIZE = 32\n",
    "NB_EPOCHS = 150\n",
    "\n",
    "Dcnn = DCNN(vocab_size=VOCAB_SIZE,\n",
    "            emb_dim=EMB_DIM,\n",
    "            nb_filters=NB_FILTERS,\n",
    "            FFN_units=FFN_UNITS,\n",
    "            nb_classes=NB_CLASSES,\n",
    "            dropout_rate=DROPOUT_RATE)"
   ]
  },
  {
   "cell_type": "markdown",
   "id": "b0ec8f51-6ed8-49fa-9d5e-c6929184bdf1",
   "metadata": {
    "execution": {
     "iopub.execute_input": "2021-05-16T18:43:59.279424Z",
     "iopub.status.busy": "2021-05-16T18:43:59.279202Z",
     "iopub.status.idle": "2021-05-16T18:43:59.282718Z",
     "shell.execute_reply": "2021-05-16T18:43:59.281823Z",
     "shell.execute_reply.started": "2021-05-16T18:43:59.279399Z"
    }
   },
   "source": [
    "#### (2) Compile and Summary of the Model"
   ]
  },
  {
   "cell_type": "code",
   "execution_count": 14,
   "id": "2cce0414-05eb-4f79-9c27-bca9c91a2903",
   "metadata": {
    "execution": {
     "iopub.execute_input": "2021-05-19T11:26:13.693281Z",
     "iopub.status.busy": "2021-05-19T11:26:13.693136Z",
     "iopub.status.idle": "2021-05-19T11:26:13.747665Z",
     "shell.execute_reply": "2021-05-19T11:26:13.747094Z",
     "shell.execute_reply.started": "2021-05-19T11:26:13.693261Z"
    },
    "tags": []
   },
   "outputs": [
    {
     "name": "stdout",
     "output_type": "stream",
     "text": [
      "Model: \"dcnn\"\n",
      "_________________________________________________________________\n",
      "Layer (type)                 Output Shape              Param #   \n",
      "=================================================================\n",
      "embedding (Embedding)        multiple                  363800    \n",
      "_________________________________________________________________\n",
      "conv1d (Conv1D)              multiple                  40100     \n",
      "_________________________________________________________________\n",
      "conv1d_1 (Conv1D)            multiple                  60100     \n",
      "_________________________________________________________________\n",
      "conv1d_2 (Conv1D)            multiple                  80100     \n",
      "_________________________________________________________________\n",
      "global_max_pooling1d (Global multiple                  0         \n",
      "_________________________________________________________________\n",
      "dense (Dense)                multiple                  77056     \n",
      "_________________________________________________________________\n",
      "dropout (Dropout)            multiple                  0         \n",
      "_________________________________________________________________\n",
      "dense_1 (Dense)              multiple                  257       \n",
      "=================================================================\n",
      "Total params: 621,413\n",
      "Trainable params: 621,413\n",
      "Non-trainable params: 0\n",
      "_________________________________________________________________\n"
     ]
    }
   ],
   "source": [
    "Dcnn.compile(loss=\"binary_crossentropy\", optimizer=\"adam\", metrics=[\"accuracy\"])\n",
    "Dcnn.build(input_shape = (123 , EMB_DIM)) # (train_inputs.shape[1] , EMB_DIM)\n",
    "Dcnn.summary()"
   ]
  },
  {
   "cell_type": "markdown",
   "id": "3880d2a4-2152-43de-bad3-34e67e97469e",
   "metadata": {
    "tags": []
   },
   "source": [
    "#### (3) Check Point Path"
   ]
  },
  {
   "cell_type": "code",
   "execution_count": 15,
   "id": "e4115bec-233a-4abc-b081-05f526c4687b",
   "metadata": {
    "execution": {
     "iopub.execute_input": "2021-05-19T11:26:13.748859Z",
     "iopub.status.busy": "2021-05-19T11:26:13.748653Z",
     "iopub.status.idle": "2021-05-19T11:26:13.780791Z",
     "shell.execute_reply": "2021-05-19T11:26:13.780108Z",
     "shell.execute_reply.started": "2021-05-19T11:26:13.748840Z"
    },
    "tags": []
   },
   "outputs": [
    {
     "name": "stdout",
     "output_type": "stream",
     "text": [
      "Checkpoint Located!!\n"
     ]
    }
   ],
   "source": [
    "checkpoint_path = \"checkpoint_recode\"\n",
    "\n",
    "ckpt = tf.train.Checkpoint(Dcnn=Dcnn)\n",
    "\n",
    "ckpt_manager = tf.train.CheckpointManager(ckpt, checkpoint_path, max_to_keep=5)\n",
    "\n",
    "if ckpt_manager.latest_checkpoint:\n",
    "    ckpt.restore(ckpt_manager.latest_checkpoint)\n",
    "    print(\"Checkpoint Located!!\")"
   ]
  },
  {
   "cell_type": "markdown",
   "id": "73d70667-275f-40c0-bd71-6b47e9722798",
   "metadata": {
    "execution": {
     "iopub.execute_input": "2021-05-16T17:47:13.442664Z",
     "iopub.status.busy": "2021-05-16T17:47:13.442381Z",
     "iopub.status.idle": "2021-05-16T17:47:13.448371Z",
     "shell.execute_reply": "2021-05-16T17:47:13.446970Z",
     "shell.execute_reply.started": "2021-05-16T17:47:13.442620Z"
    }
   },
   "source": [
    "-------------------------\n",
    "\n",
    "### Stage 4: Train the Model"
   ]
  },
  {
   "cell_type": "code",
   "execution_count": 16,
   "id": "cc975047-5a58-46dc-b427-262796d9b625",
   "metadata": {
    "execution": {
     "iopub.execute_input": "2021-05-19T11:26:13.782156Z",
     "iopub.status.busy": "2021-05-19T11:26:13.781980Z",
     "iopub.status.idle": "2021-05-19T11:26:13.784844Z",
     "shell.execute_reply": "2021-05-19T11:26:13.784196Z",
     "shell.execute_reply.started": "2021-05-19T11:26:13.782136Z"
    },
    "tags": []
   },
   "outputs": [],
   "source": [
    "early_stop = EarlyStopping(monitor='val_loss',patience=5)"
   ]
  },
  {
   "cell_type": "code",
   "execution_count": 17,
   "id": "baf0cade-2c45-43b2-9782-6a8c6e570153",
   "metadata": {
    "execution": {
     "iopub.execute_input": "2021-05-19T11:26:13.786101Z",
     "iopub.status.busy": "2021-05-19T11:26:13.785878Z",
     "iopub.status.idle": "2021-05-19T11:26:19.932820Z",
     "shell.execute_reply": "2021-05-19T11:26:19.932078Z",
     "shell.execute_reply.started": "2021-05-19T11:26:13.786080Z"
    },
    "tags": []
   },
   "outputs": [
    {
     "name": "stdout",
     "output_type": "stream",
     "text": [
      "Epoch 1/150\n",
      "25/25 [==============================] - 2s 44ms/step - loss: 0.0023 - accuracy: 0.9987 - val_loss: 0.4367 - val_accuracy: 0.9086\n",
      "Epoch 2/150\n",
      "25/25 [==============================] - 1s 37ms/step - loss: 0.0022 - accuracy: 0.9987 - val_loss: 0.4443 - val_accuracy: 0.9086\n",
      "Epoch 3/150\n",
      "25/25 [==============================] - 1s 35ms/step - loss: 0.0026 - accuracy: 0.9975 - val_loss: 0.4577 - val_accuracy: 0.9112\n",
      "Epoch 4/150\n",
      "25/25 [==============================] - 1s 34ms/step - loss: 0.0021 - accuracy: 0.9987 - val_loss: 0.4556 - val_accuracy: 0.9086\n",
      "Epoch 5/150\n",
      "25/25 [==============================] - 1s 33ms/step - loss: 0.0021 - accuracy: 0.9987 - val_loss: 0.4559 - val_accuracy: 0.9112\n",
      "Epoch 6/150\n",
      "25/25 [==============================] - 1s 34ms/step - loss: 0.0021 - accuracy: 0.9987 - val_loss: 0.4564 - val_accuracy: 0.9112\n"
     ]
    },
    {
     "data": {
      "text/plain": [
       "'checkpoint_recode/ckpt-10'"
      ]
     },
     "execution_count": 17,
     "metadata": {},
     "output_type": "execute_result"
    }
   ],
   "source": [
    "Dcnn.fit(train_inputs,\n",
    "         train_labels,\n",
    "         validation_data=(test_inputs, test_labels),\n",
    "         batch_size=BATCH_SIZE,\n",
    "         epochs=NB_EPOCHS,\n",
    "         callbacks=[early_stop])\n",
    "ckpt_manager.save()"
   ]
  },
  {
   "cell_type": "markdown",
   "id": "3b0ac256-ab81-4ff5-8430-48f8bba50126",
   "metadata": {
    "execution": {
     "iopub.execute_input": "2021-05-16T18:23:25.926977Z",
     "iopub.status.busy": "2021-05-16T18:23:25.926754Z",
     "iopub.status.idle": "2021-05-16T18:23:25.931072Z",
     "shell.execute_reply": "2021-05-16T18:23:25.930041Z",
     "shell.execute_reply.started": "2021-05-16T18:23:25.926952Z"
    }
   },
   "source": [
    "-------------------------\n",
    "\n",
    "### Stage 5: Evaluation"
   ]
  },
  {
   "cell_type": "code",
   "execution_count": 18,
   "id": "58099cc1-19e0-443a-b960-7ae4d67344d3",
   "metadata": {
    "execution": {
     "iopub.execute_input": "2021-05-19T11:26:19.934195Z",
     "iopub.status.busy": "2021-05-19T11:26:19.933978Z",
     "iopub.status.idle": "2021-05-19T11:26:19.942334Z",
     "shell.execute_reply": "2021-05-19T11:26:19.941639Z",
     "shell.execute_reply.started": "2021-05-19T11:26:19.934169Z"
    },
    "tags": []
   },
   "outputs": [
    {
     "data": {
      "text/html": [
       "<div>\n",
       "<style scoped>\n",
       "    .dataframe tbody tr th:only-of-type {\n",
       "        vertical-align: middle;\n",
       "    }\n",
       "\n",
       "    .dataframe tbody tr th {\n",
       "        vertical-align: top;\n",
       "    }\n",
       "\n",
       "    .dataframe thead th {\n",
       "        text-align: right;\n",
       "    }\n",
       "</style>\n",
       "<table border=\"1\" class=\"dataframe\">\n",
       "  <thead>\n",
       "    <tr style=\"text-align: right;\">\n",
       "      <th></th>\n",
       "      <th>loss</th>\n",
       "      <th>accuracy</th>\n",
       "      <th>val_loss</th>\n",
       "      <th>val_accuracy</th>\n",
       "    </tr>\n",
       "  </thead>\n",
       "  <tbody>\n",
       "    <tr>\n",
       "      <th>0</th>\n",
       "      <td>0.002305</td>\n",
       "      <td>0.998745</td>\n",
       "      <td>0.436738</td>\n",
       "      <td>0.908629</td>\n",
       "    </tr>\n",
       "    <tr>\n",
       "      <th>1</th>\n",
       "      <td>0.002214</td>\n",
       "      <td>0.998745</td>\n",
       "      <td>0.444343</td>\n",
       "      <td>0.908629</td>\n",
       "    </tr>\n",
       "    <tr>\n",
       "      <th>2</th>\n",
       "      <td>0.002599</td>\n",
       "      <td>0.997491</td>\n",
       "      <td>0.457735</td>\n",
       "      <td>0.911168</td>\n",
       "    </tr>\n",
       "    <tr>\n",
       "      <th>3</th>\n",
       "      <td>0.002084</td>\n",
       "      <td>0.998745</td>\n",
       "      <td>0.455584</td>\n",
       "      <td>0.908629</td>\n",
       "    </tr>\n",
       "    <tr>\n",
       "      <th>4</th>\n",
       "      <td>0.002089</td>\n",
       "      <td>0.998745</td>\n",
       "      <td>0.455941</td>\n",
       "      <td>0.911168</td>\n",
       "    </tr>\n",
       "    <tr>\n",
       "      <th>5</th>\n",
       "      <td>0.002072</td>\n",
       "      <td>0.998745</td>\n",
       "      <td>0.456403</td>\n",
       "      <td>0.911168</td>\n",
       "    </tr>\n",
       "  </tbody>\n",
       "</table>\n",
       "</div>"
      ],
      "text/plain": [
       "       loss  accuracy  val_loss  val_accuracy\n",
       "0  0.002305  0.998745  0.436738      0.908629\n",
       "1  0.002214  0.998745  0.444343      0.908629\n",
       "2  0.002599  0.997491  0.457735      0.911168\n",
       "3  0.002084  0.998745  0.455584      0.908629\n",
       "4  0.002089  0.998745  0.455941      0.911168\n",
       "5  0.002072  0.998745  0.456403      0.911168"
      ]
     },
     "execution_count": 18,
     "metadata": {},
     "output_type": "execute_result"
    }
   ],
   "source": [
    "losses = pd.DataFrame(Dcnn.history.history)\n",
    "losses"
   ]
  },
  {
   "cell_type": "markdown",
   "id": "8093326d-b6b8-4a35-9b0f-124ad3fecd8c",
   "metadata": {},
   "source": [
    "##### Too much overfitting due toless validation set ⚠️⚠️⚠️⚠️"
   ]
  },
  {
   "cell_type": "code",
   "execution_count": 19,
   "id": "f37a760f-b388-4051-a78d-295bce1f214a",
   "metadata": {
    "execution": {
     "iopub.execute_input": "2021-05-19T11:26:19.943349Z",
     "iopub.status.busy": "2021-05-19T11:26:19.943103Z",
     "iopub.status.idle": "2021-05-19T11:26:20.197515Z",
     "shell.execute_reply": "2021-05-19T11:26:20.197023Z",
     "shell.execute_reply.started": "2021-05-19T11:26:19.943328Z"
    },
    "tags": []
   },
   "outputs": [
    {
     "data": {
      "text/plain": [
       "<AxesSubplot:>"
      ]
     },
     "execution_count": 19,
     "metadata": {},
     "output_type": "execute_result"
    },
    {
     "data": {
      "image/png": "[encoded data removed]",
      "text/plain": [
       "<Figure size 432x288 with 1 Axes>"
      ]
     },
     "metadata": {
      "needs_background": "light"
     },
     "output_type": "display_data"
    },
    {
     "data": {
      "image/png": "[encoded data removed]",
      "text/plain": [
       "<Figure size 432x288 with 1 Axes>"
      ]
     },
     "metadata": {
      "needs_background": "light"
     },
     "output_type": "display_data"
    }
   ],
   "source": [
    "losses[['accuracy','val_accuracy']].plot()\n",
    "losses[['loss','val_loss']].plot()"
   ]
  },
  {
   "cell_type": "code",
   "execution_count": 20,
   "id": "44300a6c-8da8-43cd-ada0-208a99b6b9d7",
   "metadata": {
    "execution": {
     "iopub.execute_input": "2021-05-19T11:26:20.198554Z",
     "iopub.status.busy": "2021-05-19T11:26:20.198423Z",
     "iopub.status.idle": "2021-05-19T11:26:20.201078Z",
     "shell.execute_reply": "2021-05-19T11:26:20.200494Z",
     "shell.execute_reply.started": "2021-05-19T11:26:20.198537Z"
    },
    "tags": []
   },
   "outputs": [],
   "source": [
    "from sklearn.metrics import classification_report,confusion_matrix"
   ]
  },
  {
   "cell_type": "code",
   "execution_count": 21,
   "id": "17760825-eb35-4f8c-88a0-45e94387c08d",
   "metadata": {
    "execution": {
     "iopub.execute_input": "2021-05-19T11:26:20.202214Z",
     "iopub.status.busy": "2021-05-19T11:26:20.202065Z",
     "iopub.status.idle": "2021-05-19T11:26:20.307670Z",
     "shell.execute_reply": "2021-05-19T11:26:20.307172Z",
     "shell.execute_reply.started": "2021-05-19T11:26:20.202197Z"
    },
    "tags": []
   },
   "outputs": [
    {
     "name": "stdout",
     "output_type": "stream",
     "text": [
      "13/13 [==============================] - 0s 5ms/step - loss: 0.4564 - accuracy: 0.9112\n",
      "[0.45640334486961365, 0.9111675024032593]\n"
     ]
    }
   ],
   "source": [
    "evaluation_model = Dcnn.evaluate(test_inputs, test_labels, batch_size=BATCH_SIZE)\n",
    "print(evaluation_model)"
   ]
  },
  {
   "cell_type": "code",
   "execution_count": 22,
   "id": "c9a3f93d-4398-418c-b511-69594874cc5a",
   "metadata": {
    "execution": {
     "iopub.execute_input": "2021-05-19T11:26:20.308809Z",
     "iopub.status.busy": "2021-05-19T11:26:20.308645Z",
     "iopub.status.idle": "2021-05-19T11:26:20.466820Z",
     "shell.execute_reply": "2021-05-19T11:26:20.466319Z",
     "shell.execute_reply.started": "2021-05-19T11:26:20.308790Z"
    },
    "tags": []
   },
   "outputs": [
    {
     "name": "stdout",
     "output_type": "stream",
     "text": [
      "              precision    recall  f1-score   support\n",
      "\n",
      "           0       0.92      0.96      0.94       265\n",
      "           1       0.91      0.83      0.87       129\n",
      "\n",
      "    accuracy                           0.92       394\n",
      "   macro avg       0.92      0.90      0.91       394\n",
      "weighted avg       0.92      0.92      0.92       394\n",
      "\n"
     ]
    }
   ],
   "source": [
    "# pd.DataFrame(confusion_matrix(test_labels,predictions))\n",
    "predictions = Dcnn.predict(test_inputs)\n",
    "predictions = np.where(predictions >0.8 , 1, 0)\n",
    "print(classification_report(test_labels, predictions))"
   ]
  },
  {
   "cell_type": "code",
   "execution_count": 23,
   "id": "4767688b-bfc8-4dc4-b8ec-2252f7791534",
   "metadata": {
    "execution": {
     "iopub.execute_input": "2021-05-19T11:26:20.467916Z",
     "iopub.status.busy": "2021-05-19T11:26:20.467732Z",
     "iopub.status.idle": "2021-05-19T11:26:20.474761Z",
     "shell.execute_reply": "2021-05-19T11:26:20.474217Z",
     "shell.execute_reply.started": "2021-05-19T11:26:20.467852Z"
    },
    "tags": []
   },
   "outputs": [
    {
     "data": {
      "text/html": [
       "<div>\n",
       "<style scoped>\n",
       "    .dataframe tbody tr th:only-of-type {\n",
       "        vertical-align: middle;\n",
       "    }\n",
       "\n",
       "    .dataframe tbody tr th {\n",
       "        vertical-align: top;\n",
       "    }\n",
       "\n",
       "    .dataframe thead th {\n",
       "        text-align: right;\n",
       "    }\n",
       "</style>\n",
       "<table border=\"1\" class=\"dataframe\">\n",
       "  <thead>\n",
       "    <tr style=\"text-align: right;\">\n",
       "      <th></th>\n",
       "      <th>Predictions: Not Pork(0)</th>\n",
       "      <th>Predictions:Pork(1)</th>\n",
       "    </tr>\n",
       "  </thead>\n",
       "  <tbody>\n",
       "    <tr>\n",
       "      <th>Acutal: Not Pork(0)</th>\n",
       "      <td>255</td>\n",
       "      <td>10</td>\n",
       "    </tr>\n",
       "    <tr>\n",
       "      <th>Acutal: Pork (1)</th>\n",
       "      <td>22</td>\n",
       "      <td>107</td>\n",
       "    </tr>\n",
       "  </tbody>\n",
       "</table>\n",
       "</div>"
      ],
      "text/plain": [
       "                     Predictions: Not Pork(0)  Predictions:Pork(1)\n",
       "Acutal: Not Pork(0)                       255                   10\n",
       "Acutal: Pork (1)                           22                  107"
      ]
     },
     "execution_count": 23,
     "metadata": {},
     "output_type": "execute_result"
    }
   ],
   "source": [
    "t = pd.DataFrame(confusion_matrix(test_labels,predictions), \n",
    "             columns=['Predictions: Not Pork(0)','Predictions:Pork(1)'])\n",
    "t.index = ['Acutal: Not Pork(0)', 'Acutal: Pork (1)']\n",
    "t"
   ]
  },
  {
   "cell_type": "markdown",
   "id": "d0416d6f-5e46-47c9-abad-f344bea7a94a",
   "metadata": {},
   "source": [
    "-------------------------\n",
    "\n",
    "### Stage 6: Try the Model with New Data and Export an End-to-end Model\n"
   ]
  },
  {
   "cell_type": "markdown",
   "id": "394b9a6e-0130-4af2-88e5-efe91cf9f348",
   "metadata": {
    "execution": {
     "iopub.execute_input": "2021-05-16T22:53:41.558105Z",
     "iopub.status.busy": "2021-05-16T22:53:41.557872Z",
     "iopub.status.idle": "2021-05-16T22:53:41.560984Z",
     "shell.execute_reply": "2021-05-16T22:53:41.560122Z",
     "shell.execute_reply.started": "2021-05-16T22:53:41.558080Z"
    }
   },
   "source": [
    "#### (1) Test New Dataset from 200 samples from Leislative Questions"
   ]
  },
  {
   "cell_type": "code",
   "execution_count": 24,
   "id": "632bf33e-1df7-46c5-9a67-ab7141a949c2",
   "metadata": {
    "execution": {
     "iopub.execute_input": "2021-05-19T11:26:20.475887Z",
     "iopub.status.busy": "2021-05-19T11:26:20.475727Z",
     "iopub.status.idle": "2021-05-19T11:26:20.478403Z",
     "shell.execute_reply": "2021-05-19T11:26:20.477825Z",
     "shell.execute_reply.started": "2021-05-19T11:26:20.475869Z"
    },
    "tags": []
   },
   "outputs": [],
   "source": [
    "def as_num(x):\n",
    "    \"\"\"\n",
    "    keep 10 decimals\n",
    "    \"\"\"\n",
    "    y = '{:.15f}'.format(x) \n",
    "    return y"
   ]
  },
  {
   "cell_type": "code",
   "execution_count": 150,
   "id": "b4cb42fc-69eb-4b1c-8ff4-2ea7614582a5",
   "metadata": {
    "execution": {
     "iopub.execute_input": "2021-05-19T12:12:09.695196Z",
     "iopub.status.busy": "2021-05-19T12:12:09.694975Z",
     "iopub.status.idle": "2021-05-19T12:12:09.708114Z",
     "shell.execute_reply": "2021-05-19T12:12:09.707482Z",
     "shell.execute_reply.started": "2021-05-19T12:12:09.695171Z"
    },
    "tags": []
   },
   "outputs": [
    {
     "data": {
      "text/html": [
       "<div>\n",
       "<style scoped>\n",
       "    .dataframe tbody tr th:only-of-type {\n",
       "        vertical-align: middle;\n",
       "    }\n",
       "\n",
       "    .dataframe tbody tr th {\n",
       "        vertical-align: top;\n",
       "    }\n",
       "\n",
       "    .dataframe thead th {\n",
       "        text-align: right;\n",
       "    }\n",
       "</style>\n",
       "<table border=\"1\" class=\"dataframe\">\n",
       "  <thead>\n",
       "    <tr style=\"text-align: right;\">\n",
       "      <th></th>\n",
       "      <th>title</th>\n",
       "      <th>topic</th>\n",
       "      <th>category</th>\n",
       "      <th>keywords</th>\n",
       "      <th>ques_type</th>\n",
       "    </tr>\n",
       "  </thead>\n",
       "  <tbody>\n",
       "    <tr>\n",
       "      <th>3084</th>\n",
       "      <td>針對陳水扁總統去年在參加「2004台北國際電信暨網路展覽會」致詞時提出推動台灣數位化的政策，...</td>\n",
       "      <td>網際網路 ; 電信政策</td>\n",
       "      <td>科技政務 ; 電信</td>\n",
       "      <td>台灣數位化 ; 寬頻網路</td>\n",
       "      <td>專案質詢</td>\n",
       "    </tr>\n",
       "    <tr>\n",
       "      <th>4786</th>\n",
       "      <td>針對日前花蓮東華大學女學生深夜騎車返回住處，因學校地處偏遠，路途中遭遇假車禍並慘遭性侵。鑑此...</td>\n",
       "      <td>校園安全 ; 學生 ; 性侵犯</td>\n",
       "      <td>教育政務 ; 社政</td>\n",
       "      <td>車禍 ; 性侵</td>\n",
       "      <td>專案質詢</td>\n",
       "    </tr>\n",
       "    <tr>\n",
       "      <th>8275</th>\n",
       "      <td>針對近日爆發之禿鷹案，高檢署與金管會雙方互相較勁，各自發起自清運動，互下戰帖，引發爭議不斷，...</td>\n",
       "      <td>金融管理</td>\n",
       "      <td>金融</td>\n",
       "      <td>禿鷹案 ; 偵查不公開 ; 司法公信力</td>\n",
       "      <td>專案質詢</td>\n",
       "    </tr>\n",
       "    <tr>\n",
       "      <th>1855</th>\n",
       "      <td>針對各界普遍認為應加強學生國語文程度，政府雖已提出國中基測加考作文的政策，同時台北市政府也研...</td>\n",
       "      <td>國語 ; 教育政策</td>\n",
       "      <td>教育政務</td>\n",
       "      <td>國語文程度</td>\n",
       "      <td>專案質詢</td>\n",
       "    </tr>\n",
       "    <tr>\n",
       "      <th>6050</th>\n",
       "      <td>針對經建會主委何美玥表示，行政院將啟動第三次賦稅改革，在相關產業租稅獎勵優惠取消的條件下，大...</td>\n",
       "      <td>賦稅改革 ; 投資環境</td>\n",
       "      <td>賦稅 ; 經濟政策</td>\n",
       "      <td>賦稅改革 ; 營利事業所得稅率 ; 改善投資環境</td>\n",
       "      <td>專案質詢</td>\n",
       "    </tr>\n",
       "    <tr>\n",
       "      <th>...</th>\n",
       "      <td>...</td>\n",
       "      <td>...</td>\n",
       "      <td>...</td>\n",
       "      <td>...</td>\n",
       "      <td>...</td>\n",
       "    </tr>\n",
       "    <tr>\n",
       "      <th>1838</th>\n",
       "      <td>針對公益彩券經銷權明年起轉由中國信託銀行接手，今年六月公開抽出新的彩券經銷商，許多未抽中的身...</td>\n",
       "      <td>彩券 ; 經銷權 ; 身心障礙者就業</td>\n",
       "      <td>金融 ; 社政</td>\n",
       "      <td>公益彩券經銷權 ; 身心障礙者 ; 失業</td>\n",
       "      <td>專案質詢</td>\n",
       "    </tr>\n",
       "    <tr>\n",
       "      <th>3183</th>\n",
       "      <td>針對春節前後，國內搶案、竊盜案、綁架案等犯罪案件，層出不窮，要求新內閣必須拿出鐵腕手段，徹底...</td>\n",
       "      <td>治安</td>\n",
       "      <td>警政</td>\n",
       "      <td>春節 ; 搶案 ; 犯罪 ; 治安</td>\n",
       "      <td>專案質詢</td>\n",
       "    </tr>\n",
       "    <tr>\n",
       "      <th>3201</th>\n",
       "      <td>針對政府低價傾銷進口稻米，且農委會農糧署表示，去年因連續風災造成國產稻米減少，才分批釋出政府...</td>\n",
       "      <td>農業政策 ; 稻米</td>\n",
       "      <td>農業政務</td>\n",
       "      <td>低價 ; 傾銷 ; 稻米</td>\n",
       "      <td>專案質詢</td>\n",
       "    </tr>\n",
       "    <tr>\n",
       "      <th>769</th>\n",
       "      <td>針對台鐵集集支線是南投縣名聞遐邇觀光鐵路，雖曾一度面臨裁撤命運，幸經地方人士護鐵、認養行動得...</td>\n",
       "      <td>觀光政策 ; 鐵路管理</td>\n",
       "      <td>觀光 ; 鐵路</td>\n",
       "      <td>集集支線 ; 裁撤</td>\n",
       "      <td>專案質詢</td>\n",
       "    </tr>\n",
       "    <tr>\n",
       "      <th>3273</th>\n",
       "      <td>為現行消防單位救護車最低使用年限規定為六年，平均報廢年限則高達八年，救護功能之安全性堪憂，且...</td>\n",
       "      <td>消防設施 ; 交通安全</td>\n",
       "      <td>社政 ; 公路</td>\n",
       "      <td>救護車</td>\n",
       "      <td>專案質詢</td>\n",
       "    </tr>\n",
       "  </tbody>\n",
       "</table>\n",
       "<p>200 rows × 5 columns</p>\n",
       "</div>"
      ],
      "text/plain": [
       "                                                  title               topic  \\\n",
       "3084  針對陳水扁總統去年在參加「2004台北國際電信暨網路展覽會」致詞時提出推動台灣數位化的政策，...         網際網路 ; 電信政策   \n",
       "4786  針對日前花蓮東華大學女學生深夜騎車返回住處，因學校地處偏遠，路途中遭遇假車禍並慘遭性侵。鑑此...     校園安全 ; 學生 ; 性侵犯   \n",
       "8275  針對近日爆發之禿鷹案，高檢署與金管會雙方互相較勁，各自發起自清運動，互下戰帖，引發爭議不斷，...                金融管理   \n",
       "1855  針對各界普遍認為應加強學生國語文程度，政府雖已提出國中基測加考作文的政策，同時台北市政府也研...           國語 ; 教育政策   \n",
       "6050  針對經建會主委何美玥表示，行政院將啟動第三次賦稅改革，在相關產業租稅獎勵優惠取消的條件下，大...         賦稅改革 ; 投資環境   \n",
       "...                                                 ...                 ...   \n",
       "1838  針對公益彩券經銷權明年起轉由中國信託銀行接手，今年六月公開抽出新的彩券經銷商，許多未抽中的身...  彩券 ; 經銷權 ; 身心障礙者就業   \n",
       "3183  針對春節前後，國內搶案、竊盜案、綁架案等犯罪案件，層出不窮，要求新內閣必須拿出鐵腕手段，徹底...                  治安   \n",
       "3201  針對政府低價傾銷進口稻米，且農委會農糧署表示，去年因連續風災造成國產稻米減少，才分批釋出政府...           農業政策 ; 稻米   \n",
       "769   針對台鐵集集支線是南投縣名聞遐邇觀光鐵路，雖曾一度面臨裁撤命運，幸經地方人士護鐵、認養行動得...         觀光政策 ; 鐵路管理   \n",
       "3273  為現行消防單位救護車最低使用年限規定為六年，平均報廢年限則高達八年，救護功能之安全性堪憂，且...         消防設施 ; 交通安全   \n",
       "\n",
       "       category                  keywords ques_type  \n",
       "3084  科技政務 ; 電信              台灣數位化 ; 寬頻網路      專案質詢  \n",
       "4786  教育政務 ; 社政                   車禍 ; 性侵      專案質詢  \n",
       "8275         金融       禿鷹案 ; 偵查不公開 ; 司法公信力      專案質詢  \n",
       "1855       教育政務                     國語文程度      專案質詢  \n",
       "6050  賦稅 ; 經濟政策  賦稅改革 ; 營利事業所得稅率 ; 改善投資環境      專案質詢  \n",
       "...         ...                       ...       ...  \n",
       "1838    金融 ; 社政      公益彩券經銷權 ; 身心障礙者 ; 失業      專案質詢  \n",
       "3183         警政         春節 ; 搶案 ; 犯罪 ; 治安      專案質詢  \n",
       "3201       農業政務              低價 ; 傾銷 ; 稻米      專案質詢  \n",
       "769     觀光 ; 鐵路                 集集支線 ; 裁撤      專案質詢  \n",
       "3273    社政 ; 公路                       救護車      專案質詢  \n",
       "\n",
       "[200 rows x 5 columns]"
      ]
     },
     "execution_count": 150,
     "metadata": {},
     "output_type": "execute_result"
    }
   ],
   "source": []
  },
  {
   "cell_type": "code",
   "execution_count": 154,
   "id": "06ea7d54-49e9-4363-8304-d1dabaf3beb4",
   "metadata": {
    "execution": {
     "iopub.execute_input": "2021-05-19T12:13:08.834969Z",
     "iopub.status.busy": "2021-05-19T12:13:08.834796Z",
     "iopub.status.idle": "2021-05-19T12:13:08.978450Z",
     "shell.execute_reply": "2021-05-19T12:13:08.977876Z",
     "shell.execute_reply.started": "2021-05-19T12:13:08.834951Z"
    },
    "tags": []
   },
   "outputs": [],
   "source": [
    "import pandas as pd\n",
    "import random\n",
    "\n",
    "# test the trined model using new text from 200 samples from Leislative Questions\n",
    "LQ6 = pd.read_csv('data/LQ_6th.csv')\n",
    "\n",
    "# drop '0': legislor  never have proposed any legisaltive questions. \n",
    "LQ6 = LQ6[LQ6['title'].isin(['0'])== False]\n",
    "\n",
    "# select text with number of charecters within EMB_DIM; len(sub_set) = 11162\n",
    "# sample_df = LQ6.loc[[len(char_num) for char_num in LQ6.title if len(char_num) < MAX_LEN], ['legislator','title', 'topic', 'category', 'keywords', 'ques_type']].reset_index(drop=True)\n",
    "sample_df = LQ6.iloc[random.sample(range(len(LQ6)), 500)][['legislator', 'title', 'topic', 'category', 'keywords', 'ques_type']]\n",
    "sub_set = [seg_char(text) for text in [clearPucts(text) for text in sample_df.title]]\n"
   ]
  },
  {
   "cell_type": "markdown",
   "id": "68cc06a7-27d7-4007-949d-f7df81246e25",
   "metadata": {
    "tags": []
   },
   "source": [
    "##### Top 10 of 200 Sampled Legislative Questions"
   ]
  },
  {
   "cell_type": "code",
   "execution_count": 155,
   "id": "d4b618c9-8c4b-40ec-a396-b4679233197e",
   "metadata": {
    "execution": {
     "iopub.execute_input": "2021-05-19T12:13:10.435701Z",
     "iopub.status.busy": "2021-05-19T12:13:10.435533Z",
     "iopub.status.idle": "2021-05-19T12:13:12.244608Z",
     "shell.execute_reply": "2021-05-19T12:13:12.244078Z",
     "shell.execute_reply.started": "2021-05-19T12:13:10.435683Z"
    },
    "tags": []
   },
   "outputs": [
    {
     "data": {
      "text/html": [
       "<div>\n",
       "<style scoped>\n",
       "    .dataframe tbody tr th:only-of-type {\n",
       "        vertical-align: middle;\n",
       "    }\n",
       "\n",
       "    .dataframe tbody tr th {\n",
       "        vertical-align: top;\n",
       "    }\n",
       "\n",
       "    .dataframe thead th {\n",
       "        text-align: right;\n",
       "    }\n",
       "</style>\n",
       "<table border=\"1\" class=\"dataframe\">\n",
       "  <thead>\n",
       "    <tr style=\"text-align: right;\">\n",
       "      <th></th>\n",
       "      <th>legislator</th>\n",
       "      <th>Pork Value(Constituency Interest)</th>\n",
       "      <th>Legislative Questions</th>\n",
       "      <th>Topic</th>\n",
       "      <th>Key Word</th>\n",
       "    </tr>\n",
       "  </thead>\n",
       "  <tbody>\n",
       "    <tr>\n",
       "      <th>1824</th>\n",
       "      <td>彭紹瑾</td>\n",
       "      <td>0.960710704326630</td>\n",
       "      <td>針對人口老化的社會趨勢，為保障民眾退休之生活，關於退休金之改制應有更長遠之規劃，特向行政院提...</td>\n",
       "      <td>退休金</td>\n",
       "      <td>人口老化 ; 退休金</td>\n",
       "    </tr>\n",
       "    <tr>\n",
       "      <th>10291</th>\n",
       "      <td>陳瑩</td>\n",
       "      <td>0.930889368057251</td>\n",
       "      <td>針對行政院版國民年金制度規劃未將軍人保險納入實施範圍乙案，特向行政院提出質詢。</td>\n",
       "      <td>年金 ; 軍保</td>\n",
       "      <td>國民年金 ; 軍人保險</td>\n",
       "    </tr>\n",
       "    <tr>\n",
       "      <th>1945</th>\n",
       "      <td>徐國勇</td>\n",
       "      <td>0.834350287914276</td>\n",
       "      <td>針對93年8月10日所發布之中央補助地方政府學校午餐經費支用要點條文內容，特向行政院提出質詢。</td>\n",
       "      <td>教育補助 ; 營養午餐</td>\n",
       "      <td>午餐經費</td>\n",
       "    </tr>\n",
       "    <tr>\n",
       "      <th>7672</th>\n",
       "      <td>羅世雄</td>\n",
       "      <td>0.825448215007782</td>\n",
       "      <td>鑑於農民健康保險條例規定之罹患癌症可比照殘障給付的規定過於嚴苛，無法及時關照急需幫助的貧困農...</td>\n",
       "      <td>農保 ; 保險給付 ; 癌症</td>\n",
       "      <td>農民健康保險 ; 癌症 ; 殘障給付</td>\n",
       "    </tr>\n",
       "    <tr>\n",
       "      <th>1651</th>\n",
       "      <td>彭添富</td>\n",
       "      <td>0.783510088920593</td>\n",
       "      <td>針對「台灣數位普及率」問題，特向行政院提出質詢。</td>\n",
       "      <td>網際網路</td>\n",
       "      <td>數位普及率</td>\n",
       "    </tr>\n",
       "    <tr>\n",
       "      <th>2250</th>\n",
       "      <td>曾華德</td>\n",
       "      <td>0.688547492027283</td>\n",
       "      <td>為部分原住民屬低收入戶，餐點營養補給不足易產生疾病，政府應立即調查並給予實質補助以解決其基本...</td>\n",
       "      <td>原住民族生活 ; 低收入戶</td>\n",
       "      <td>原住民 ; 餐點營養補給</td>\n",
       "    </tr>\n",
       "    <tr>\n",
       "      <th>4234</th>\n",
       "      <td>林耘生</td>\n",
       "      <td>0.678539991378784</td>\n",
       "      <td>為紙漿價格上漲對農產業者造成衝擊，建請農政單位針對農民使用紙箱予以補助，俾利生產不敷成本問題...</td>\n",
       "      <td>物價 ; 農業補助</td>\n",
       "      <td>紙漿價格上漲 ; 紙箱 ; 補助</td>\n",
       "    </tr>\n",
       "    <tr>\n",
       "      <th>1523</th>\n",
       "      <td>張麗善</td>\n",
       "      <td>0.628628373146057</td>\n",
       "      <td>鑒於現今身心障礙福利經費來源並無針對現金補助及福利服務之比例做強制分配，此類「重補助、輕服務...</td>\n",
       "      <td>身心障礙者福利</td>\n",
       "      <td>身心障礙福利 ; 現金補助</td>\n",
       "    </tr>\n",
       "    <tr>\n",
       "      <th>264</th>\n",
       "      <td>何智輝</td>\n",
       "      <td>0.613467752933502</td>\n",
       "      <td>針對目前高學費之現象，致使許多中低收入家庭繳不起學費，甚至放棄繼續升學的機會，爰要求政府提出...</td>\n",
       "      <td>教育費用</td>\n",
       "      <td>高學費 ; 助學貸款 ; 中低收入</td>\n",
       "    </tr>\n",
       "    <tr>\n",
       "      <th>8671</th>\n",
       "      <td>費鴻泰</td>\n",
       "      <td>0.607089281082153</td>\n",
       "      <td>針對政府公教貸款利率高於一般商業銀行專案辦理之房屋貸款利率，使公教人員之房貸利息負擔沈重依舊...</td>\n",
       "      <td>公務員福利 ; 房屋貸款 ; 利率</td>\n",
       "      <td>公教貸款利率</td>\n",
       "    </tr>\n",
       "  </tbody>\n",
       "</table>\n",
       "</div>"
      ],
      "text/plain": [
       "      legislator Pork Value(Constituency Interest)  \\\n",
       "1824         彭紹瑾                 0.960710704326630   \n",
       "10291         陳瑩                 0.930889368057251   \n",
       "1945         徐國勇                 0.834350287914276   \n",
       "7672         羅世雄                 0.825448215007782   \n",
       "1651         彭添富                 0.783510088920593   \n",
       "2250         曾華德                 0.688547492027283   \n",
       "4234         林耘生                 0.678539991378784   \n",
       "1523         張麗善                 0.628628373146057   \n",
       "264          何智輝                 0.613467752933502   \n",
       "8671         費鴻泰                 0.607089281082153   \n",
       "\n",
       "                                  Legislative Questions               Topic  \\\n",
       "1824   針對人口老化的社會趨勢，為保障民眾退休之生活，關於退休金之改制應有更長遠之規劃，特向行政院提...                退休金   \n",
       "10291            針對行政院版國民年金制度規劃未將軍人保險納入實施範圍乙案，特向行政院提出質詢。            年金 ; 軍保   \n",
       "1945     針對93年8月10日所發布之中央補助地方政府學校午餐經費支用要點條文內容，特向行政院提出質詢。        教育補助 ; 營養午餐   \n",
       "7672   鑑於農民健康保險條例規定之罹患癌症可比照殘障給付的規定過於嚴苛，無法及時關照急需幫助的貧困農...     農保 ; 保險給付 ; 癌症   \n",
       "1651                            針對「台灣數位普及率」問題，特向行政院提出質詢。               網際網路   \n",
       "2250   為部分原住民屬低收入戶，餐點營養補給不足易產生疾病，政府應立即調查並給予實質補助以解決其基本...      原住民族生活 ; 低收入戶   \n",
       "4234   為紙漿價格上漲對農產業者造成衝擊，建請農政單位針對農民使用紙箱予以補助，俾利生產不敷成本問題...          物價 ; 農業補助   \n",
       "1523   鑒於現今身心障礙福利經費來源並無針對現金補助及福利服務之比例做強制分配，此類「重補助、輕服務...            身心障礙者福利   \n",
       "264    針對目前高學費之現象，致使許多中低收入家庭繳不起學費，甚至放棄繼續升學的機會，爰要求政府提出...               教育費用   \n",
       "8671   針對政府公教貸款利率高於一般商業銀行專案辦理之房屋貸款利率，使公教人員之房貸利息負擔沈重依舊...  公務員福利 ; 房屋貸款 ; 利率   \n",
       "\n",
       "                 Key Word  \n",
       "1824           人口老化 ; 退休金  \n",
       "10291         國民年金 ; 軍人保險  \n",
       "1945                 午餐經費  \n",
       "7672   農民健康保險 ; 癌症 ; 殘障給付  \n",
       "1651                數位普及率  \n",
       "2250         原住民 ; 餐點營養補給  \n",
       "4234     紙漿價格上漲 ; 紙箱 ; 補助  \n",
       "1523        身心障礙福利 ; 現金補助  \n",
       "264     高學費 ; 助學貸款 ; 中低收入  \n",
       "8671               公教貸款利率  "
      ]
     },
     "execution_count": 155,
     "metadata": {},
     "output_type": "execute_result"
    }
   ],
   "source": [
    "pd.DataFrame(\n",
    "    {'legislator': sample_df.legislator,\n",
    "     'Pork Value(Constituency Interest)':[as_num(Dcnn(np.array([tokenizer.encode(line)]), training=True).numpy()[0][0]) for line in sub_set],\n",
    "     'Legislative Questions ': sample_df.title,\n",
    "     'Topic': sample_df.topic,\n",
    "     'Key Word':sample_df.keywords}).sort_values(by=['Pork Value(Constituency Interest)'], ascending = False).head(10)"
   ]
  },
  {
   "cell_type": "markdown",
   "id": "6a6d4b15-3e05-427d-a664-8c8ce4e6622c",
   "metadata": {},
   "source": [
    "##### Last 10 Rows of 200 Sampled Legislative Questions"
   ]
  },
  {
   "cell_type": "code",
   "execution_count": 156,
   "id": "369a7336-dc9d-4883-b919-b19611b5ad39",
   "metadata": {
    "execution": {
     "iopub.execute_input": "2021-05-19T12:13:16.320274Z",
     "iopub.status.busy": "2021-05-19T12:13:16.320071Z",
     "iopub.status.idle": "2021-05-19T12:13:17.977621Z",
     "shell.execute_reply": "2021-05-19T12:13:17.977066Z",
     "shell.execute_reply.started": "2021-05-19T12:13:16.320252Z"
    },
    "tags": []
   },
   "outputs": [
    {
     "data": {
      "text/html": [
       "<div>\n",
       "<style scoped>\n",
       "    .dataframe tbody tr th:only-of-type {\n",
       "        vertical-align: middle;\n",
       "    }\n",
       "\n",
       "    .dataframe tbody tr th {\n",
       "        vertical-align: top;\n",
       "    }\n",
       "\n",
       "    .dataframe thead th {\n",
       "        text-align: right;\n",
       "    }\n",
       "</style>\n",
       "<table border=\"1\" class=\"dataframe\">\n",
       "  <thead>\n",
       "    <tr style=\"text-align: right;\">\n",
       "      <th></th>\n",
       "      <th>legislator</th>\n",
       "      <th>Pork Value(Constituency Interest)</th>\n",
       "      <th>Legislative Questions</th>\n",
       "      <th>Topic</th>\n",
       "      <th>Key Word</th>\n",
       "    </tr>\n",
       "  </thead>\n",
       "  <tbody>\n",
       "    <tr>\n",
       "      <th>7145</th>\n",
       "      <td>王淑慧</td>\n",
       "      <td>0.000000025878869</td>\n",
       "      <td>為社會治安的良窳，是民眾最容易以主觀來感受，所以雖然行政院長於上台時，曾許下「半年內改善社會...</td>\n",
       "      <td>治安</td>\n",
       "      <td>治安 ; 詐騙集團 ; 地下錢莊</td>\n",
       "    </tr>\n",
       "    <tr>\n",
       "      <th>11039</th>\n",
       "      <td>黃昭順</td>\n",
       "      <td>0.000000013468895</td>\n",
       "      <td>為新聞局長姚文智說，新聞局處罰TVBS沒有送審議委員會，是因為T台違法事實「非常清楚」，新聞...</td>\n",
       "      <td>新聞行政 ; 電視臺</td>\n",
       "      <td>新聞局 ; TVBS</td>\n",
       "    </tr>\n",
       "    <tr>\n",
       "      <th>997</th>\n",
       "      <td>周守訓</td>\n",
       "      <td>0.000000010849865</td>\n",
       "      <td>針對經濟部十一月六日發布投資環境調查報告，指出製造業廠商對未來台灣投資環境看好比率僅為百分之...</td>\n",
       "      <td>投資環境</td>\n",
       "      <td>投資環境 ; 投資信心危機</td>\n",
       "    </tr>\n",
       "    <tr>\n",
       "      <th>5919</th>\n",
       "      <td>王塗發</td>\n",
       "      <td>0.000000010358682</td>\n",
       "      <td>針對經濟部投資審議委員會2006年1～5月累計核准對中國投資金額為28.7億美元，較2005...</td>\n",
       "      <td>大陸政策 ; 對外投資</td>\n",
       "      <td>中國投資</td>\n",
       "    </tr>\n",
       "    <tr>\n",
       "      <th>5617</th>\n",
       "      <td>潘孟安</td>\n",
       "      <td>0.000000009011167</td>\n",
       "      <td>就立委及總統選舉在即，立委選舉制度首次採行「單一選區兩票制」，選情緊繃，賄影重重，為免賄選猖...</td>\n",
       "      <td>選舉風紀</td>\n",
       "      <td>總統選舉 ; 立委選舉 ; 賄選</td>\n",
       "    </tr>\n",
       "    <tr>\n",
       "      <th>734</th>\n",
       "      <td>吳敦義</td>\n",
       "      <td>0.000000003085012</td>\n",
       "      <td>鑑於年底第七屆立法委員選舉即將來臨，亦將首度實施94年（第七次）修憲增修條文所採之單一選區兩...</td>\n",
       "      <td>立法委員 ; 選舉</td>\n",
       "      <td>立法委員選舉 ; 單一選區兩票制</td>\n",
       "    </tr>\n",
       "    <tr>\n",
       "      <th>9782</th>\n",
       "      <td>陳志彬</td>\n",
       "      <td>0.000000002236427</td>\n",
       "      <td>針對奧運聖火來台一事，中國政府要求聖火在台北接力傳遞過程中，周圍不能出現中華民國國旗、國徽、...</td>\n",
       "      <td>國際體育活動 ; 主權 ; 國號</td>\n",
       "      <td>奧運聖火 ; 中華民國國旗</td>\n",
       "    </tr>\n",
       "    <tr>\n",
       "      <th>9832</th>\n",
       "      <td>陳志彬</td>\n",
       "      <td>0.000000001232921</td>\n",
       "      <td>針對層出不窮的黑道暴力討債、卡奴自殺等不幸社會事件，引發自殺潮問題，本席強烈要求主管單位應嚴...</td>\n",
       "      <td>銀行管理 ; 信用卡 ; 債務</td>\n",
       "      <td>暴力討債 ; 卡奴 ; 自殺</td>\n",
       "    </tr>\n",
       "    <tr>\n",
       "      <th>7506</th>\n",
       "      <td>紀國棟</td>\n",
       "      <td>0.000000000713288</td>\n",
       "      <td>鑒於各鄉鎮市公所現有的監視器系統不一致，要求未來新裝的監視器規格必須能與縣警局連線，同時，針...</td>\n",
       "      <td>電子監視</td>\n",
       "      <td>監視器</td>\n",
       "    </tr>\n",
       "    <tr>\n",
       "      <th>9626</th>\n",
       "      <td>鄭朝明</td>\n",
       "      <td>0.000000000060985</td>\n",
       "      <td>有鑒於近年消費金融債務糾紛頻傳，部分討債公司採取討債手法過於激烈，其中包括潑灑油漆、半夜恐嚇...</td>\n",
       "      <td>金融管理 ; 債務 ; 暴力</td>\n",
       "      <td>金融債務 ; 討債公司</td>\n",
       "    </tr>\n",
       "  </tbody>\n",
       "</table>\n",
       "</div>"
      ],
      "text/plain": [
       "      legislator Pork Value(Constituency Interest)  \\\n",
       "7145         王淑慧                 0.000000025878869   \n",
       "11039        黃昭順                 0.000000013468895   \n",
       "997          周守訓                 0.000000010849865   \n",
       "5919         王塗發                 0.000000010358682   \n",
       "5617         潘孟安                 0.000000009011167   \n",
       "734          吳敦義                 0.000000003085012   \n",
       "9782         陳志彬                 0.000000002236427   \n",
       "9832         陳志彬                 0.000000001232921   \n",
       "7506         紀國棟                 0.000000000713288   \n",
       "9626         鄭朝明                 0.000000000060985   \n",
       "\n",
       "                                  Legislative Questions              Topic  \\\n",
       "7145   為社會治安的良窳，是民眾最容易以主觀來感受，所以雖然行政院長於上台時，曾許下「半年內改善社會...                治安   \n",
       "11039  為新聞局長姚文智說，新聞局處罰TVBS沒有送審議委員會，是因為T台違法事實「非常清楚」，新聞...        新聞行政 ; 電視臺   \n",
       "997    針對經濟部十一月六日發布投資環境調查報告，指出製造業廠商對未來台灣投資環境看好比率僅為百分之...              投資環境   \n",
       "5919   針對經濟部投資審議委員會2006年1～5月累計核准對中國投資金額為28.7億美元，較2005...       大陸政策 ; 對外投資   \n",
       "5617   就立委及總統選舉在即，立委選舉制度首次採行「單一選區兩票制」，選情緊繃，賄影重重，為免賄選猖...              選舉風紀   \n",
       "734    鑑於年底第七屆立法委員選舉即將來臨，亦將首度實施94年（第七次）修憲增修條文所採之單一選區兩...         立法委員 ; 選舉   \n",
       "9782   針對奧運聖火來台一事，中國政府要求聖火在台北接力傳遞過程中，周圍不能出現中華民國國旗、國徽、...  國際體育活動 ; 主權 ; 國號   \n",
       "9832   針對層出不窮的黑道暴力討債、卡奴自殺等不幸社會事件，引發自殺潮問題，本席強烈要求主管單位應嚴...   銀行管理 ; 信用卡 ; 債務   \n",
       "7506   鑒於各鄉鎮市公所現有的監視器系統不一致，要求未來新裝的監視器規格必須能與縣警局連線，同時，針...              電子監視   \n",
       "9626   有鑒於近年消費金融債務糾紛頻傳，部分討債公司採取討債手法過於激烈，其中包括潑灑油漆、半夜恐嚇...    金融管理 ; 債務 ; 暴力   \n",
       "\n",
       "               Key Word  \n",
       "7145   治安 ; 詐騙集團 ; 地下錢莊  \n",
       "11039        新聞局 ; TVBS  \n",
       "997       投資環境 ; 投資信心危機  \n",
       "5919               中國投資  \n",
       "5617   總統選舉 ; 立委選舉 ; 賄選  \n",
       "734    立法委員選舉 ; 單一選區兩票制  \n",
       "9782      奧運聖火 ; 中華民國國旗  \n",
       "9832     暴力討債 ; 卡奴 ; 自殺  \n",
       "7506                監視器  \n",
       "9626        金融債務 ; 討債公司  "
      ]
     },
     "execution_count": 156,
     "metadata": {},
     "output_type": "execute_result"
    }
   ],
   "source": [
    "pd.DataFrame(\n",
    "    {'legislator': sample_df.legislator,\n",
    "     'Pork Value(Constituency Interest)':[as_num(Dcnn(np.array([tokenizer.encode(line)]), training=True).numpy()[0][0]) for line in sub_set],\n",
    "     'Legislative Questions ': sample_df.title,\n",
    "     'Topic': sample_df.topic,\n",
    "     'Key Word':sample_df.keywords}).sort_values(by=['Pork Value(Constituency Interest)'], ascending = False).tail(10)"
   ]
  },
  {
   "cell_type": "markdown",
   "id": "5dc01475-847a-408f-9972-ac02e7aa4721",
   "metadata": {},
   "source": [
    "#### (2) Export an End-to-end Model\n"
   ]
  },
  {
   "cell_type": "code",
   "execution_count": 28,
   "id": "196028d0-edfe-434f-a173-4ccaa688faaa",
   "metadata": {
    "execution": {
     "iopub.execute_input": "2021-05-19T11:26:24.228994Z",
     "iopub.status.busy": "2021-05-19T11:26:24.228644Z",
     "iopub.status.idle": "2021-05-19T11:26:24.232427Z",
     "shell.execute_reply": "2021-05-19T11:26:24.231606Z",
     "shell.execute_reply.started": "2021-05-19T11:26:24.228973Z"
    },
    "tags": []
   },
   "outputs": [],
   "source": [
    "from tensorflow.keras.models import load_model"
   ]
  },
  {
   "cell_type": "code",
   "execution_count": 29,
   "id": "071291d0-c5bb-48de-adb2-f8b2bb3bb542",
   "metadata": {
    "execution": {
     "iopub.execute_input": "2021-05-19T11:26:24.233535Z",
     "iopub.status.busy": "2021-05-19T11:26:24.233383Z",
     "iopub.status.idle": "2021-05-19T11:26:25.177846Z",
     "shell.execute_reply": "2021-05-19T11:26:25.177119Z",
     "shell.execute_reply.started": "2021-05-19T11:26:24.233517Z"
    },
    "tags": []
   },
   "outputs": [
    {
     "name": "stdout",
     "output_type": "stream",
     "text": [
      "INFO:tensorflow:Assets written to: lour_pork_model/assets\n"
     ]
    },
    {
     "name": "stderr",
     "output_type": "stream",
     "text": [
      "INFO:tensorflow:Assets written to: lour_pork_model/assets\n"
     ]
    }
   ],
   "source": [
    "# Get model (Sequential, Functional Model, or Model subclass)\n",
    "Dcnn.save('lour_pork_model')"
   ]
  },
  {
   "cell_type": "code",
   "execution_count": 30,
   "id": "2ac46183-b841-469b-8897-1fea2922e445",
   "metadata": {
    "execution": {
     "iopub.execute_input": "2021-05-19T11:26:25.178851Z",
     "iopub.status.busy": "2021-05-19T11:26:25.178705Z",
     "iopub.status.idle": "2021-05-19T11:26:25.475986Z",
     "shell.execute_reply": "2021-05-19T11:26:25.475398Z",
     "shell.execute_reply.started": "2021-05-19T11:26:25.178832Z"
    },
    "tags": []
   },
   "outputs": [],
   "source": [
    "from tensorflow import keras\n",
    "model = keras.models.load_model('lour_pork_model')"
   ]
  }
 ],
 "metadata": {
  "kernelspec": {
   "display_name": "Python 3",
   "language": "python",
   "name": "python3"
  },
  "language_info": {
   "codemirror_mode": {
    "name": "ipython",
    "version": 3
   },
   "file_extension": ".py",
   "mimetype": "text/x-python",
   "name": "python",
   "nbconvert_exporter": "python",
   "pygments_lexer": "ipython3",
   "version": "3.8.8"
  }
 },
 "nbformat": 4,
 "nbformat_minor": 5
}
