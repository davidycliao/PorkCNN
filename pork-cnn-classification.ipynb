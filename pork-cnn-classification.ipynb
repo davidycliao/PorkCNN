{
 "cells": [
  {
   "cell_type": "markdown",
   "id": "b65dfbdc-bb80-4bd4-8248-dd06483222cd",
   "metadata": {},
   "source": [
    "# Lour's Pork Barrel Classifier (羅老師肉桶文本分類器)🐖\n",
    "## Convolutional Neural Networks for Pork Barrel Project Classification \n",
    "\n",
    "\n",
    "author: davidycliao(David Yen-Chieh Liao)                                                                      \n",
    "email: davidycliao@gmail.com                                                             \n",
    "date: 9-July-2021    "
   ]
  },
  {
   "cell_type": "markdown",
   "id": "e8005d5a-f938-4c26-86d5-592408152d08",
   "metadata": {},
   "source": [
    "-------------------------\n",
    "\n",
    "### Stage 1: Libaries & Dependencies"
   ]
  },
  {
   "cell_type": "code",
   "execution_count": 1,
   "id": "6ca92ba3-7480-418f-91e0-d2beea2d10af",
   "metadata": {
    "execution": {
     "iopub.execute_input": "2022-02-22T22:38:36.202997Z",
     "iopub.status.busy": "2022-02-22T22:38:36.202490Z",
     "iopub.status.idle": "2022-02-22T22:38:41.035788Z",
     "shell.execute_reply": "2022-02-22T22:38:41.035213Z",
     "shell.execute_reply.started": "2022-02-22T22:38:36.202865Z"
    },
    "tags": []
   },
   "outputs": [],
   "source": [
    "# built-in library\n",
    "# pip install -r requirements.txt\n",
    "import math\n",
    "import re\n",
    "import collections\n",
    "import zipfile\n",
    "import random\n",
    "from itertools import chain\n",
    "\n",
    "# ML & Deep Learning/ NLP toolkit\n",
    "import pandas as pd\n",
    "import numpy as np\n",
    "import jieba\n",
    "from sklearn.model_selection import train_test_split\n",
    "import tensorflow as tf\n",
    "from tensorflow.keras import layers\n",
    "import tensorflow_datasets as tfds\n",
    "from tensorflow.keras.callbacks import EarlyStopping,TensorBoard\n",
    "\n",
    "# Visualization\n",
    "import matplotlib.pyplot as plt\n",
    "import seaborn as sns"
   ]
  },
  {
   "cell_type": "markdown",
   "id": "8bd77e05-355a-422f-87db-2cf77cba3bdd",
   "metadata": {},
   "source": [
    "-------------------------\n",
    "\n",
    "### Stage 2: Data Preprocessing (Training Data: Introduction of Bills and Legislation from 6th Session to 7th Session, 2004-2012)"
   ]
  },
  {
   "cell_type": "markdown",
   "id": "3b57b9c9-443e-4e26-bda2-15f6877845d5",
   "metadata": {},
   "source": [
    "#### (1) Read file "
   ]
  },
  {
   "cell_type": "code",
   "execution_count": 2,
   "id": "e1973cfb-73d4-4717-a67a-a4e8a0c9edb0",
   "metadata": {
    "execution": {
     "iopub.execute_input": "2022-02-22T22:38:41.037433Z",
     "iopub.status.busy": "2022-02-22T22:38:41.037275Z",
     "iopub.status.idle": "2022-02-22T22:38:41.083443Z",
     "shell.execute_reply": "2022-02-22T22:38:41.082802Z",
     "shell.execute_reply.started": "2022-02-22T22:38:41.037415Z"
    },
    "tags": []
   },
   "outputs": [],
   "source": [
    "# read file\n",
    "df = pd.read_csv('data/Pork Bill - 2021-05-20.csv', encoding='utf-8')\n",
    "\n",
    "# combine abstract of bill and title \n",
    "df['text'] =  df['Title'] + df['Content'].fillna(df['Title'])\n",
    "\n",
    "# drop conten without having any characters\n",
    "# view na's row: df[df['text'].isnull()==True]\n",
    "data = df[['text', 'pork_bill']].dropna(subset=['text'])"
   ]
  },
  {
   "cell_type": "code",
   "execution_count": 3,
   "id": "f6160785-9522-4404-8f77-6df941869cde",
   "metadata": {
    "execution": {
     "iopub.execute_input": "2022-02-22T22:38:41.084495Z",
     "iopub.status.busy": "2022-02-22T22:38:41.084319Z",
     "iopub.status.idle": "2022-02-22T22:38:41.089334Z",
     "shell.execute_reply": "2022-02-22T22:38:41.088700Z",
     "shell.execute_reply.started": "2022-02-22T22:38:41.084469Z"
    },
    "tags": []
   },
   "outputs": [
    {
     "name": "stdout",
     "output_type": "stream",
     "text": [
      " Pork Legislation 2510 \n",
      " None-Pork Legislation 4733\n"
     ]
    }
   ],
   "source": [
    "print(\" Pork Legislation\", data['pork_bill'].value_counts()[1],'\\n', \n",
    "      \"None-Pork Legislation\", data['pork_bill'].value_counts()[0])"
   ]
  },
  {
   "cell_type": "code",
   "execution_count": 4,
   "id": "11f1b3ab-7f1e-40b0-995a-e66ae58da102",
   "metadata": {
    "execution": {
     "iopub.execute_input": "2022-02-22T22:38:41.091732Z",
     "iopub.status.busy": "2022-02-22T22:38:41.091510Z",
     "iopub.status.idle": "2022-02-22T22:38:41.217523Z",
     "shell.execute_reply": "2022-02-22T22:38:41.217045Z",
     "shell.execute_reply.started": "2022-02-22T22:38:41.091710Z"
    },
    "tags": []
   },
   "outputs": [
    {
     "data": {
      "image/png": "[encoded data removed]",
      "text/plain": [
       "<Figure size 720x432 with 1 Axes>"
      ]
     },
     "metadata": {
      "needs_background": "light"
     },
     "output_type": "display_data"
    }
   ],
   "source": [
    "import matplotlib.pyplot as plt\n",
    "plt.figure(figsize=(10, 6))\n",
    "pork_plot = pd.DataFrame({\"num\":data['pork_bill'].value_counts(), \"type\":['Not Pork','Pork']})\n",
    "plt.bar(pork_plot['type'], pork_plot['num'], color='#57A1AB')\n",
    "plt.show()"
   ]
  },
  {
   "cell_type": "markdown",
   "id": "5e6d677d-e200-40e6-9252-130eb02fc682",
   "metadata": {
    "execution": {
     "iopub.execute_input": "2021-05-16T17:01:03.001989Z",
     "iopub.status.busy": "2021-05-16T17:01:03.001801Z",
     "iopub.status.idle": "2021-05-16T17:01:03.004600Z",
     "shell.execute_reply": "2021-05-16T17:01:03.003789Z",
     "shell.execute_reply.started": "2021-05-16T17:01:03.001969Z"
    }
   },
   "source": [
    "#### (2) Tokenization"
   ]
  },
  {
   "cell_type": "code",
   "execution_count": 5,
   "id": "120e8b54-7f75-4ca6-a0d0-9872b1522e8e",
   "metadata": {
    "execution": {
     "iopub.execute_input": "2022-02-22T22:38:41.218414Z",
     "iopub.status.busy": "2022-02-22T22:38:41.218285Z",
     "iopub.status.idle": "2022-02-22T22:38:41.227472Z",
     "shell.execute_reply": "2022-02-22T22:38:41.226462Z",
     "shell.execute_reply.started": "2022-02-22T22:38:41.218397Z"
    },
    "tags": []
   },
   "outputs": [],
   "source": [
    "import collections\n",
    "import numpy as np\n",
    "import jieba\n",
    "from itertools import chain\n",
    "\n",
    "\n",
    "def jieba_cut(filename):\n",
    "    \"\"\"\n",
    "    cut Chinese and remove stop words\n",
    "    Reference: https://www.cnblogs.com/Luv-GEM/p/10836454.html\n",
    "    Stopwords: https://www.kaggle.com/rikdifos/english-and-chinese-stopwords?select=cn_stopwords.txt\n",
    "    \"\"\"\n",
    "    stop_list = [i.strip() for i in open('data/cn_stopwords.txt','r',encoding='utf-8')]  \n",
    "    news_cut = []\n",
    "    news_list = []\n",
    "    for line in filename:    \n",
    "        if line:\n",
    "            news_cut = list(jieba.cut(''.join(line),cut_all=False,HMM=True))  \n",
    "            news_list.append([word.strip() for word in news_cut if word not in stop_list and len(word.strip())>0]) \n",
    "    news_list = list(chain.from_iterable(news_list))  \n",
    "    return news_list\n",
    "\n",
    "def clearPucts(context):\n",
    "    \"\"\"\n",
    "    remove punctuation\n",
    "    ref: https://chenyuzuoo.github.io/posts/28001/\n",
    "    \"\"\"\n",
    "    context = re.sub(\"[\\s+\\.\\!\\/_,$%^*(+\\\"\\']+|[+——！，。？、~@#￥%……&*（）]+\", \"\", context)\n",
    "    context = re.sub(\"[【】╮╯▽╰╭★→「」]+\",\"\", context)\n",
    "    context = re.sub(\"！，❤。～《》：（）【】「」？”“；：、\",\"\",context)\n",
    "    context = re.sub(\"\\s\",\"\",context)\n",
    "    return context\n",
    "\n",
    "def seg_char(sent):\n",
    "    \"\"\"\n",
    "    cut Chinese and remove stop words\n",
    "    ref: https://blog.csdn.net/renyuanfang/article/details/86487367\n",
    "    \"\"\"\n",
    "    # split\n",
    "    pattern_char_1 = re.compile(r'([\\W])')\n",
    "    parts = pattern_char_1.split(sent)\n",
    "    parts = [p for p in parts if len(p.strip())>0]\n",
    "    # cut sentence\n",
    "    pattern = re.compile(r'([\\u4e00-\\u9fa5])')\n",
    "    chars = pattern.split(sent)\n",
    "    chars = [w for w in chars if len(w.strip())>0]\n",
    "    chars = ' '.join(chars)\n",
    "    return chars"
   ]
  },
  {
   "cell_type": "code",
   "execution_count": 6,
   "id": "db4c6206-6eca-4958-a5d7-6319f48bb348",
   "metadata": {
    "execution": {
     "iopub.execute_input": "2022-02-22T22:38:41.228540Z",
     "iopub.status.busy": "2022-02-22T22:38:41.228318Z",
     "iopub.status.idle": "2022-02-22T22:38:43.638013Z",
     "shell.execute_reply": "2022-02-22T22:38:43.637420Z",
     "shell.execute_reply.started": "2022-02-22T22:38:41.228517Z"
    },
    "tags": []
   },
   "outputs": [],
   "source": [
    "data_clean = [seg_char(text) for text in [clearPucts(text) for text in data.text]]\n",
    "\n",
    "tokenizer = tfds.deprecated.text.SubwordTextEncoder.build_from_corpus(\n",
    "    data_clean, target_vocab_size=2**18)\n",
    "\n",
    "data_inputs = [tokenizer.encode(sentence) for sentence in data_clean]"
   ]
  },
  {
   "cell_type": "markdown",
   "id": "089e65af-e49c-4d60-962e-a0a826809aa5",
   "metadata": {
    "execution": {
     "iopub.execute_input": "2021-05-16T17:01:47.611294Z",
     "iopub.status.busy": "2021-05-16T17:01:47.611020Z",
     "iopub.status.idle": "2021-05-16T17:01:47.614208Z",
     "shell.execute_reply": "2021-05-16T17:01:47.613487Z",
     "shell.execute_reply.started": "2021-05-16T17:01:47.611276Z"
    }
   },
   "source": [
    "#### (3) Padding"
   ]
  },
  {
   "cell_type": "code",
   "execution_count": 7,
   "id": "b801d231-972c-47e3-83c4-7375c2e11a18",
   "metadata": {
    "execution": {
     "iopub.execute_input": "2022-02-22T22:38:43.640105Z",
     "iopub.status.busy": "2022-02-22T22:38:43.639876Z",
     "iopub.status.idle": "2022-02-22T22:38:43.691358Z",
     "shell.execute_reply": "2022-02-22T22:38:43.690789Z",
     "shell.execute_reply.started": "2022-02-22T22:38:43.640072Z"
    },
    "tags": []
   },
   "outputs": [],
   "source": [
    "MAX_LEN = max([len(sentence) for sentence in data_clean])\n",
    "data_inputs = tf.keras.preprocessing.sequence.pad_sequences(data_inputs,\n",
    "                                                            value=0,\n",
    "                                                            padding=\"post\",\n",
    "                                                            maxlen=MAX_LEN)\n",
    "\n",
    "\n"
   ]
  },
  {
   "cell_type": "code",
   "execution_count": 8,
   "id": "bd561c2c-9c98-46c3-91a9-9bdb8f160344",
   "metadata": {
    "execution": {
     "iopub.execute_input": "2022-02-22T22:38:43.692374Z",
     "iopub.status.busy": "2022-02-22T22:38:43.692253Z",
     "iopub.status.idle": "2022-02-22T22:38:43.698248Z",
     "shell.execute_reply": "2022-02-22T22:38:43.697207Z",
     "shell.execute_reply.started": "2022-02-22T22:38:43.692357Z"
    },
    "tags": []
   },
   "outputs": [
    {
     "data": {
      "text/plain": [
       "(7243, 785)"
      ]
     },
     "execution_count": 8,
     "metadata": {},
     "output_type": "execute_result"
    }
   ],
   "source": [
    "data_inputs.shape"
   ]
  },
  {
   "cell_type": "markdown",
   "id": "f69d90cf-ac3c-4e08-b46b-457d9708d832",
   "metadata": {
    "execution": {
     "iopub.execute_input": "2021-05-16T17:02:28.107037Z",
     "iopub.status.busy": "2021-05-16T17:02:28.106843Z",
     "iopub.status.idle": "2021-05-16T17:02:28.109696Z",
     "shell.execute_reply": "2021-05-16T17:02:28.108954Z",
     "shell.execute_reply.started": "2021-05-16T17:02:28.107017Z"
    }
   },
   "source": [
    "#### (4) Spliting Training / Testing Set"
   ]
  },
  {
   "cell_type": "code",
   "execution_count": 9,
   "id": "42503355-eea3-4602-ae5a-ea18be84b8d1",
   "metadata": {
    "execution": {
     "iopub.execute_input": "2022-02-22T22:38:44.943806Z",
     "iopub.status.busy": "2022-02-22T22:38:44.943464Z",
     "iopub.status.idle": "2022-02-22T22:38:44.948000Z",
     "shell.execute_reply": "2022-02-22T22:38:44.946852Z",
     "shell.execute_reply.started": "2022-02-22T22:38:44.943769Z"
    },
    "tags": []
   },
   "outputs": [],
   "source": [
    "data_labels = data.pork_bill.values"
   ]
  },
  {
   "cell_type": "code",
   "execution_count": 10,
   "id": "19235117-f63a-4e06-a102-6efe98c37dbf",
   "metadata": {
    "execution": {
     "iopub.execute_input": "2022-02-22T22:38:45.467086Z",
     "iopub.status.busy": "2022-02-22T22:38:45.466715Z",
     "iopub.status.idle": "2022-02-22T22:38:45.484003Z",
     "shell.execute_reply": "2022-02-22T22:38:45.483428Z",
     "shell.execute_reply.started": "2022-02-22T22:38:45.467063Z"
    },
    "tags": []
   },
   "outputs": [
    {
     "name": "stdout",
     "output_type": "stream",
     "text": [
      "Shape of X Train: (4852, 785) \n",
      "Shape of X Test : (2391, 785) \n",
      "Shape of Y Trian: (4852,) \n",
      "Shape of Y Test : (2391,)\n"
     ]
    }
   ],
   "source": [
    "import numpy as np\n",
    "from sklearn.model_selection import train_test_split\n",
    "train_inputs, test_inputs, train_labels, test_labels = train_test_split(\n",
    "    data_inputs, data_labels, test_size=0.33, random_state=42)\n",
    "\n",
    "print(\"Shape of X Train:\", train_inputs.shape, '\\n'\n",
    "      \"Shape of X Test :\", test_inputs.shape,'\\n'\n",
    "      \"Shape of Y Trian:\", train_labels.shape , '\\n'\n",
    "      \"Shape of Y Test :\", test_labels.shape )"
   ]
  },
  {
   "cell_type": "code",
   "execution_count": 11,
   "id": "6f10cb5c-7c8d-4e1e-a987-11b8de8e42d0",
   "metadata": {
    "execution": {
     "iopub.execute_input": "2022-02-22T22:38:46.302740Z",
     "iopub.status.busy": "2022-02-22T22:38:46.302506Z",
     "iopub.status.idle": "2022-02-22T22:38:46.306931Z",
     "shell.execute_reply": "2022-02-22T22:38:46.306321Z",
     "shell.execute_reply.started": "2022-02-22T22:38:46.302716Z"
    },
    "tags": []
   },
   "outputs": [
    {
     "name": "stdout",
     "output_type": "stream",
     "text": [
      " Num of Train Set: 4852 \n",
      " Not Pork vs Pork: {0: 3167, 1: 1685}\n"
     ]
    }
   ],
   "source": [
    "unique_train_labels, counts_train_labels = np.unique(train_labels, return_counts=True)\n",
    "\n",
    "print(' Num of Train Set:' , train_inputs.shape[0], '\\n'\n",
    "      ,'Not Pork vs Pork:', dict(zip(unique_train_labels, counts_train_labels)))"
   ]
  },
  {
   "cell_type": "code",
   "execution_count": 12,
   "id": "f545a34d-f506-4db5-a8df-c0a89cb77a16",
   "metadata": {
    "execution": {
     "iopub.execute_input": "2022-02-22T22:38:46.801957Z",
     "iopub.status.busy": "2022-02-22T22:38:46.801600Z",
     "iopub.status.idle": "2022-02-22T22:38:46.951539Z",
     "shell.execute_reply": "2022-02-22T22:38:46.950879Z",
     "shell.execute_reply.started": "2022-02-22T22:38:46.801903Z"
    },
    "tags": []
   },
   "outputs": [
    {
     "data": {
      "image/png": "[encoded data removed]",
      "text/plain": [
       "<Figure size 720x432 with 1 Axes>"
      ]
     },
     "metadata": {
      "needs_background": "light"
     },
     "output_type": "display_data"
    }
   ],
   "source": [
    "import matplotlib.pyplot as plt\n",
    "plt.figure(figsize=(10, 6))\n",
    "train_plot = pd.DataFrame({\"num\":[dict(zip(unique_train_labels, counts_train_labels))[0],\n",
    "                                  dict(zip(unique_train_labels, counts_train_labels))[1]], \n",
    "                           \"type\":['Not Pork','Pork']})\n",
    "plt.bar(train_plot['type'], train_plot['num'], color='#57A1AB')\n",
    "plt.title('Train Set')\n",
    "#plt.show()\n",
    "plt.savefig('images/train_plot.png')"
   ]
  },
  {
   "cell_type": "code",
   "execution_count": 13,
   "id": "fedad623-02ba-4fad-b0b4-a094de7c39de",
   "metadata": {
    "execution": {
     "iopub.execute_input": "2022-02-22T22:38:47.342643Z",
     "iopub.status.busy": "2022-02-22T22:38:47.342384Z",
     "iopub.status.idle": "2022-02-22T22:38:47.347738Z",
     "shell.execute_reply": "2022-02-22T22:38:47.347056Z",
     "shell.execute_reply.started": "2022-02-22T22:38:47.342624Z"
    },
    "tags": []
   },
   "outputs": [
    {
     "name": "stdout",
     "output_type": "stream",
     "text": [
      " Num of Test Set: 2391 \n",
      " Not Pork vs Pork: {0: 1566, 1: 825}\n"
     ]
    }
   ],
   "source": [
    "unique_test_labels, counts_test_labels = np.unique(test_labels, return_counts=True)\n",
    "\n",
    "print(' Num of Test Set:' , test_inputs.shape[0], '\\n'\n",
    "      ,'Not Pork vs Pork:', dict(zip(unique_test_labels, counts_test_labels)))"
   ]
  },
  {
   "cell_type": "code",
   "execution_count": 14,
   "id": "ccc6799c-42b8-44c3-8352-e4b68ab3cfee",
   "metadata": {
    "execution": {
     "iopub.execute_input": "2022-02-22T22:38:47.713614Z",
     "iopub.status.busy": "2022-02-22T22:38:47.713369Z",
     "iopub.status.idle": "2022-02-22T22:38:47.865230Z",
     "shell.execute_reply": "2022-02-22T22:38:47.864522Z",
     "shell.execute_reply.started": "2022-02-22T22:38:47.713577Z"
    },
    "tags": []
   },
   "outputs": [
    {
     "data": {
      "image/png": "[encoded data removed]",
      "text/plain": [
       "<Figure size 720x432 with 1 Axes>"
      ]
     },
     "metadata": {
      "needs_background": "light"
     },
     "output_type": "display_data"
    }
   ],
   "source": [
    "import matplotlib.pyplot as plt\n",
    "plt.figure(figsize=(10, 6))\n",
    "test_plot = pd.DataFrame({\"num\":[dict(zip(unique_test_labels, counts_test_labels))[0],\n",
    "                                 dict(zip(unique_test_labels, counts_test_labels))[1]], \n",
    "                          \"type\":['Not Pork','Pork']})\n",
    "plt.bar(test_plot['type'], test_plot['num'], color='#B1C5C8')\n",
    "plt.title('Test Set')\n",
    "#plt.show()\n",
    "plt.savefig('images/test_plot.png')"
   ]
  },
  {
   "cell_type": "markdown",
   "id": "725f7feb-b93b-4d0b-bcbf-562240a79f8b",
   "metadata": {
    "execution": {
     "iopub.execute_input": "2021-05-16T17:04:13.375644Z",
     "iopub.status.busy": "2021-05-16T17:04:13.375440Z",
     "iopub.status.idle": "2021-05-16T17:04:13.378111Z",
     "shell.execute_reply": "2021-05-16T17:04:13.377464Z",
     "shell.execute_reply.started": "2021-05-16T17:04:13.375623Z"
    },
    "tags": []
   },
   "source": [
    "-------------------------\n",
    "\n",
    "\n",
    "### Stage 3: Model and Building"
   ]
  },
  {
   "cell_type": "markdown",
   "id": "4a0e74bf-eaf4-4043-8d23-88291d8ea344",
   "metadata": {
    "execution": {
     "iopub.execute_input": "2021-05-16T17:13:18.807725Z",
     "iopub.status.busy": "2021-05-16T17:13:18.807498Z",
     "iopub.status.idle": "2021-05-16T17:13:18.810574Z",
     "shell.execute_reply": "2021-05-16T17:13:18.809625Z",
     "shell.execute_reply.started": "2021-05-16T17:13:18.807701Z"
    }
   },
   "source": [
    "#### (1) Using the Subclassing API to Build Dynamic Model"
   ]
  },
  {
   "cell_type": "code",
   "execution_count": 15,
   "id": "1f18f9b1-5f4d-4d0a-baf4-2eebed7f34f2",
   "metadata": {
    "execution": {
     "iopub.execute_input": "2022-02-22T22:38:48.988911Z",
     "iopub.status.busy": "2022-02-22T22:38:48.988683Z",
     "iopub.status.idle": "2022-02-22T22:38:48.999364Z",
     "shell.execute_reply": "2022-02-22T22:38:48.998747Z",
     "shell.execute_reply.started": "2022-02-22T22:38:48.988890Z"
    },
    "tags": []
   },
   "outputs": [],
   "source": [
    "class DCNN(tf.keras.Model):\n",
    "    def __init__(self,\n",
    "                 vocab_size,\n",
    "                 emb_dim=128,\n",
    "                 nb_filters=100,\n",
    "                 # units: Positive integer, dimensionality of the output space.\n",
    "                 FFN_units=512,\n",
    "                 nb_classes=2,\n",
    "                 dropout_rate=0.1,\n",
    "                 training=False,\n",
    "                 name=\"PorkCNN\"):\n",
    "        super(DCNN, self).__init__(name=name)\n",
    "        self.embedding = layers.Embedding(vocab_size, emb_dim)\n",
    "        self.bigram = layers.Conv1D(filters=nb_filters, kernel_size=2, strides = 1, padding=\"valid\", activation=\"relu\")\n",
    "        self.bigram2 = layers.Conv1D(filters=nb_filters, kernel_size=2, strides = 2, padding=\"valid\", activation=\"relu\")\n",
    "        self.trigram = layers.Conv1D(filters=nb_filters,kernel_size=3,strides = 1, padding=\"valid\",activation=\"relu\")\n",
    "        self.trigram2 = layers.Conv1D(filters=nb_filters,kernel_size=3,strides = 2, padding=\"valid\",activation=\"relu\")\n",
    "        self.fourgram = layers.Conv1D(filters=nb_filters,kernel_size=4,strides = 2, padding=\"valid\",activation=\"relu\")\n",
    "        self.fivegram = layers.Conv1D(filters=nb_filters,kernel_size=5,strides = 2, padding=\"valid\",activation=\"relu\")\n",
    "        self.pool = layers.GlobalMaxPool1D()\n",
    "        self.dense_1 = layers.Dense(units=FFN_units, activation=\"relu\")\n",
    "        self.dropout = layers.Dropout(rate=dropout_rate)\n",
    "        self.last_dense = layers.Dense(units=1, activation=\"sigmoid\")    \n",
    "    def call(self, inputs, training):\n",
    "        x = self.embedding(inputs)\n",
    "        x_1 = self.bigram(x)\n",
    "        x_1 = self.pool(x_1)\n",
    "        x_1_1 = self.bigram2(x)\n",
    "        x_1_1 = self.pool(x_1_1)        \n",
    "        x_2 = self.trigram(x)\n",
    "        x_2 = self.pool(x_2)\n",
    "        x_2_1 = self.trigram2(x)\n",
    "        x_2_1 = self.pool(x_2_1)     \n",
    "        x_3 = self.fourgram(x)\n",
    "        x_3 = self.pool(x_3)\n",
    "        x_4 = self.fourgram(x)\n",
    "        x_4 = self.pool(x_4) \n",
    "        x_5 = self.fivegram(x)\n",
    "        x_5 = self.pool(x_5)      \n",
    "        merged = tf.concat([x_1,x_1_1, x_2,x_2_1, x_3, x_4, x_5], axis=-1) \n",
    "        merged = self.dense_1(merged)\n",
    "        merged = self.dropout(merged, training)\n",
    "        output = self.last_dense(merged)        \n",
    "        return output"
   ]
  },
  {
   "cell_type": "code",
   "execution_count": 16,
   "id": "bfc02e93-3a0e-4c1c-b488-b2db98b53824",
   "metadata": {
    "execution": {
     "iopub.execute_input": "2022-02-22T22:38:49.706700Z",
     "iopub.status.busy": "2022-02-22T22:38:49.706304Z",
     "iopub.status.idle": "2022-02-22T22:38:49.765080Z",
     "shell.execute_reply": "2022-02-22T22:38:49.764511Z",
     "shell.execute_reply.started": "2022-02-22T22:38:49.706647Z"
    },
    "tags": []
   },
   "outputs": [
    {
     "name": "stderr",
     "output_type": "stream",
     "text": [
      "2022-02-22 22:38:49.726343: I tensorflow/core/platform/cpu_feature_guard.cc:151] This TensorFlow binary is optimized with oneAPI Deep Neural Network Library (oneDNN) to use the following CPU instructions in performance-critical operations:  AVX2 FMA\n",
      "To enable them in other operations, rebuild TensorFlow with the appropriate compiler flags.\n"
     ]
    }
   ],
   "source": [
    "VOCAB_SIZE = tokenizer.vocab_size  #tokenizer.vocab_size  # 5000 tokenizer.vocab_size\n",
    "EMB_DIM = 200\n",
    "NB_FILTERS = 100\n",
    "FFN_UNITS = 256\n",
    "NB_CLASSES = 2 #len(set(train_labels))\n",
    "DROPOUT_RATE = 0.25\n",
    "BATCH_SIZE = 230\n",
    "NB_EPOCHS = 80\n",
    "\n",
    "Dcnn = DCNN(vocab_size=VOCAB_SIZE,\n",
    "            emb_dim=EMB_DIM,\n",
    "            nb_filters=NB_FILTERS,\n",
    "            FFN_units=FFN_UNITS,\n",
    "            nb_classes=NB_CLASSES,\n",
    "            dropout_rate=DROPOUT_RATE)"
   ]
  },
  {
   "cell_type": "markdown",
   "id": "b0ec8f51-6ed8-49fa-9d5e-c6929184bdf1",
   "metadata": {
    "execution": {
     "iopub.execute_input": "2021-05-16T18:43:59.279424Z",
     "iopub.status.busy": "2021-05-16T18:43:59.279202Z",
     "iopub.status.idle": "2021-05-16T18:43:59.282718Z",
     "shell.execute_reply": "2021-05-16T18:43:59.281823Z",
     "shell.execute_reply.started": "2021-05-16T18:43:59.279399Z"
    }
   },
   "source": [
    "#### (2) Compile and Summary of the Model"
   ]
  },
  {
   "cell_type": "code",
   "execution_count": 17,
   "id": "2cce0414-05eb-4f79-9c27-bca9c91a2903",
   "metadata": {
    "execution": {
     "iopub.execute_input": "2022-02-22T22:38:53.354379Z",
     "iopub.status.busy": "2022-02-22T22:38:53.354128Z",
     "iopub.status.idle": "2022-02-22T22:38:53.474864Z",
     "shell.execute_reply": "2022-02-22T22:38:53.474289Z",
     "shell.execute_reply.started": "2022-02-22T22:38:53.354359Z"
    },
    "tags": []
   },
   "outputs": [
    {
     "name": "stdout",
     "output_type": "stream",
     "text": [
      "Model: \"PorkCNN\"\n",
      "_________________________________________________________________\n",
      " Layer (type)                Output Shape              Param #   \n",
      "=================================================================\n",
      " embedding (Embedding)       multiple                  586600    \n",
      "                                                                 \n",
      " conv1d (Conv1D)             multiple                  40100     \n",
      "                                                                 \n",
      " conv1d_1 (Conv1D)           multiple                  40100     \n",
      "                                                                 \n",
      " conv1d_2 (Conv1D)           multiple                  60100     \n",
      "                                                                 \n",
      " conv1d_3 (Conv1D)           multiple                  60100     \n",
      "                                                                 \n",
      " conv1d_4 (Conv1D)           multiple                  80100     \n",
      "                                                                 \n",
      " conv1d_5 (Conv1D)           multiple                  100100    \n",
      "                                                                 \n",
      " global_max_pooling1d (Globa  multiple                 0         \n",
      " lMaxPooling1D)                                                  \n",
      "                                                                 \n",
      " dense (Dense)               multiple                  179456    \n",
      "                                                                 \n",
      " dropout (Dropout)           multiple                  0         \n",
      "                                                                 \n",
      " dense_1 (Dense)             multiple                  257       \n",
      "                                                                 \n",
      "=================================================================\n",
      "Total params: 1,146,913\n",
      "Trainable params: 1,146,913\n",
      "Non-trainable params: 0\n",
      "_________________________________________________________________\n"
     ]
    }
   ],
   "source": [
    "Dcnn.compile(loss=\"binary_crossentropy\", optimizer=\"adam\", metrics=[\"accuracy\"])\n",
    "Dcnn.build(input_shape = (train_inputs.shape[1], EMB_DIM\n",
    "                         )) # (train_inputs.shape[1] , EMB_DIM)  (785 , EMB_DIM)\n",
    "Dcnn.summary()"
   ]
  },
  {
   "cell_type": "markdown",
   "id": "3880d2a4-2152-43de-bad3-34e67e97469e",
   "metadata": {
    "tags": []
   },
   "source": [
    "#### (3) Check Point Path"
   ]
  },
  {
   "cell_type": "code",
   "execution_count": 18,
   "id": "2c18aa59-a797-4a67-bc4d-a412dbaaedcb",
   "metadata": {
    "execution": {
     "iopub.execute_input": "2022-02-22T22:38:54.237314Z",
     "iopub.status.busy": "2022-02-22T22:38:54.237003Z",
     "iopub.status.idle": "2022-02-22T22:38:54.244765Z",
     "shell.execute_reply": "2022-02-22T22:38:54.244126Z",
     "shell.execute_reply.started": "2022-02-22T22:38:54.237261Z"
    },
    "tags": []
   },
   "outputs": [],
   "source": [
    "checkpoint_path = \"checkpoint_recode/ckpt_manager\"\n",
    "\n",
    "ckpt = tf.train.Checkpoint(Dcnn=Dcnn)\n",
    "\n",
    "ckpt_manager = tf.train.CheckpointManager(ckpt, checkpoint_path, max_to_keep=10)\n",
    "\n",
    "if ckpt_manager.latest_checkpoint:\n",
    "    ckpt.restore(ckpt_manager.latest_checkpoint)\n",
    "    print(\"Checkpoint Located!!\")"
   ]
  },
  {
   "cell_type": "markdown",
   "id": "73d70667-275f-40c0-bd71-6b47e9722798",
   "metadata": {
    "execution": {
     "iopub.execute_input": "2021-05-16T17:47:13.442664Z",
     "iopub.status.busy": "2021-05-16T17:47:13.442381Z",
     "iopub.status.idle": "2021-05-16T17:47:13.448371Z",
     "shell.execute_reply": "2021-05-16T17:47:13.446970Z",
     "shell.execute_reply.started": "2021-05-16T17:47:13.442620Z"
    }
   },
   "source": [
    "-------------------------\n",
    "\n",
    "### Stage 4: Train the Model"
   ]
  },
  {
   "cell_type": "code",
   "execution_count": 19,
   "id": "cc975047-5a58-46dc-b427-262796d9b625",
   "metadata": {
    "execution": {
     "iopub.execute_input": "2022-02-22T22:38:55.214491Z",
     "iopub.status.busy": "2022-02-22T22:38:55.214153Z",
     "iopub.status.idle": "2022-02-22T22:38:55.218905Z",
     "shell.execute_reply": "2022-02-22T22:38:55.218002Z",
     "shell.execute_reply.started": "2022-02-22T22:38:55.214467Z"
    },
    "tags": []
   },
   "outputs": [],
   "source": [
    "early_stop = EarlyStopping(monitor='val_loss', patience=5)"
   ]
  },
  {
   "cell_type": "code",
   "execution_count": 20,
   "id": "baf0cade-2c45-43b2-9782-6a8c6e570153",
   "metadata": {
    "execution": {
     "iopub.execute_input": "2022-02-22T22:38:58.179932Z",
     "iopub.status.busy": "2022-02-22T22:38:58.179582Z",
     "iopub.status.idle": "2022-02-22T22:46:04.490133Z",
     "shell.execute_reply": "2022-02-22T22:46:04.489264Z",
     "shell.execute_reply.started": "2022-02-22T22:38:58.179909Z"
    },
    "tags": []
   },
   "outputs": [
    {
     "name": "stdout",
     "output_type": "stream",
     "text": [
      "Epoch 1/80\n",
      "22/22 [==============================] - 40s 2s/step - loss: 0.6059 - accuracy: 0.6494 - val_loss: 0.5103 - val_accuracy: 0.7808\n",
      "Epoch 2/80\n",
      "22/22 [==============================] - 42s 2s/step - loss: 0.3754 - accuracy: 0.8528 - val_loss: 0.2575 - val_accuracy: 0.8950\n",
      "Epoch 3/80\n",
      "22/22 [==============================] - 47s 2s/step - loss: 0.1758 - accuracy: 0.9334 - val_loss: 0.1780 - val_accuracy: 0.9318\n",
      "Epoch 4/80\n",
      "22/22 [==============================] - 50s 2s/step - loss: 0.0890 - accuracy: 0.9683 - val_loss: 0.1537 - val_accuracy: 0.9452\n",
      "Epoch 5/80\n",
      "22/22 [==============================] - 53s 2s/step - loss: 0.0518 - accuracy: 0.9835 - val_loss: 0.1697 - val_accuracy: 0.9444\n",
      "Epoch 6/80\n",
      "22/22 [==============================] - 46s 2s/step - loss: 0.0610 - accuracy: 0.9819 - val_loss: 0.1987 - val_accuracy: 0.9335\n",
      "Epoch 7/80\n",
      "22/22 [==============================] - 47s 2s/step - loss: 0.0559 - accuracy: 0.9860 - val_loss: 0.1735 - val_accuracy: 0.9452\n",
      "Epoch 8/80\n",
      "22/22 [==============================] - 55s 3s/step - loss: 0.0411 - accuracy: 0.9889 - val_loss: 0.1817 - val_accuracy: 0.9440\n",
      "Epoch 9/80\n",
      "22/22 [==============================] - 44s 2s/step - loss: 0.0412 - accuracy: 0.9868 - val_loss: 0.1859 - val_accuracy: 0.9406\n"
     ]
    },
    {
     "data": {
      "text/plain": [
       "'checkpoint_recode/ckpt_manager/ckpt-1'"
      ]
     },
     "execution_count": 20,
     "metadata": {},
     "output_type": "execute_result"
    }
   ],
   "source": [
    "Dcnn.fit(train_inputs, train_labels,\n",
    "         validation_data=(test_inputs, test_labels),\n",
    "         batch_size=BATCH_SIZE,\n",
    "         epochs=NB_EPOCHS,\n",
    "         callbacks=[early_stop])\n",
    "ckpt_manager.save()"
   ]
  },
  {
   "cell_type": "markdown",
   "id": "3b0ac256-ab81-4ff5-8430-48f8bba50126",
   "metadata": {
    "execution": {
     "iopub.execute_input": "2021-05-16T18:23:25.926977Z",
     "iopub.status.busy": "2021-05-16T18:23:25.926754Z",
     "iopub.status.idle": "2021-05-16T18:23:25.931072Z",
     "shell.execute_reply": "2021-05-16T18:23:25.930041Z",
     "shell.execute_reply.started": "2021-05-16T18:23:25.926952Z"
    }
   },
   "source": [
    "-------------------------\n",
    "\n",
    "### Stage 5: Evaluation"
   ]
  },
  {
   "cell_type": "code",
   "execution_count": 21,
   "id": "58099cc1-19e0-443a-b960-7ae4d67344d3",
   "metadata": {
    "execution": {
     "iopub.execute_input": "2022-02-22T22:46:04.492705Z",
     "iopub.status.busy": "2022-02-22T22:46:04.492383Z",
     "iopub.status.idle": "2022-02-22T22:46:04.516373Z",
     "shell.execute_reply": "2022-02-22T22:46:04.515459Z",
     "shell.execute_reply.started": "2022-02-22T22:46:04.492669Z"
    },
    "tags": []
   },
   "outputs": [
    {
     "data": {
      "text/html": [
       "<div>\n",
       "<style scoped>\n",
       "    .dataframe tbody tr th:only-of-type {\n",
       "        vertical-align: middle;\n",
       "    }\n",
       "\n",
       "    .dataframe tbody tr th {\n",
       "        vertical-align: top;\n",
       "    }\n",
       "\n",
       "    .dataframe thead th {\n",
       "        text-align: right;\n",
       "    }\n",
       "</style>\n",
       "<table border=\"1\" class=\"dataframe\">\n",
       "  <thead>\n",
       "    <tr style=\"text-align: right;\">\n",
       "      <th></th>\n",
       "      <th>loss</th>\n",
       "      <th>accuracy</th>\n",
       "      <th>val_loss</th>\n",
       "      <th>val_accuracy</th>\n",
       "    </tr>\n",
       "  </thead>\n",
       "  <tbody>\n",
       "    <tr>\n",
       "      <th>0</th>\n",
       "      <td>0.605947</td>\n",
       "      <td>0.649423</td>\n",
       "      <td>0.510334</td>\n",
       "      <td>0.780845</td>\n",
       "    </tr>\n",
       "    <tr>\n",
       "      <th>1</th>\n",
       "      <td>0.375364</td>\n",
       "      <td>0.852844</td>\n",
       "      <td>0.257516</td>\n",
       "      <td>0.895023</td>\n",
       "    </tr>\n",
       "    <tr>\n",
       "      <th>2</th>\n",
       "      <td>0.175829</td>\n",
       "      <td>0.933430</td>\n",
       "      <td>0.178023</td>\n",
       "      <td>0.931828</td>\n",
       "    </tr>\n",
       "    <tr>\n",
       "      <th>3</th>\n",
       "      <td>0.088962</td>\n",
       "      <td>0.968261</td>\n",
       "      <td>0.153718</td>\n",
       "      <td>0.945211</td>\n",
       "    </tr>\n",
       "    <tr>\n",
       "      <th>4</th>\n",
       "      <td>0.051790</td>\n",
       "      <td>0.983512</td>\n",
       "      <td>0.169675</td>\n",
       "      <td>0.944375</td>\n",
       "    </tr>\n",
       "    <tr>\n",
       "      <th>5</th>\n",
       "      <td>0.061041</td>\n",
       "      <td>0.981863</td>\n",
       "      <td>0.198732</td>\n",
       "      <td>0.933501</td>\n",
       "    </tr>\n",
       "    <tr>\n",
       "      <th>6</th>\n",
       "      <td>0.055922</td>\n",
       "      <td>0.985985</td>\n",
       "      <td>0.173460</td>\n",
       "      <td>0.945211</td>\n",
       "    </tr>\n",
       "    <tr>\n",
       "      <th>7</th>\n",
       "      <td>0.041117</td>\n",
       "      <td>0.988871</td>\n",
       "      <td>0.181670</td>\n",
       "      <td>0.943956</td>\n",
       "    </tr>\n",
       "    <tr>\n",
       "      <th>8</th>\n",
       "      <td>0.041197</td>\n",
       "      <td>0.986810</td>\n",
       "      <td>0.185922</td>\n",
       "      <td>0.940611</td>\n",
       "    </tr>\n",
       "  </tbody>\n",
       "</table>\n",
       "</div>"
      ],
      "text/plain": [
       "       loss  accuracy  val_loss  val_accuracy\n",
       "0  0.605947  0.649423  0.510334      0.780845\n",
       "1  0.375364  0.852844  0.257516      0.895023\n",
       "2  0.175829  0.933430  0.178023      0.931828\n",
       "3  0.088962  0.968261  0.153718      0.945211\n",
       "4  0.051790  0.983512  0.169675      0.944375\n",
       "5  0.061041  0.981863  0.198732      0.933501\n",
       "6  0.055922  0.985985  0.173460      0.945211\n",
       "7  0.041117  0.988871  0.181670      0.943956\n",
       "8  0.041197  0.986810  0.185922      0.940611"
      ]
     },
     "execution_count": 21,
     "metadata": {},
     "output_type": "execute_result"
    }
   ],
   "source": [
    "losses = pd.DataFrame(Dcnn.history.history)\n",
    "losses"
   ]
  },
  {
   "cell_type": "code",
   "execution_count": 22,
   "id": "b1b62bf7-433e-4a9e-b0ed-a6b57515b304",
   "metadata": {
    "execution": {
     "iopub.execute_input": "2022-02-22T22:46:04.518302Z",
     "iopub.status.busy": "2022-02-22T22:46:04.517920Z",
     "iopub.status.idle": "2022-02-22T22:46:04.975181Z",
     "shell.execute_reply": "2022-02-22T22:46:04.974273Z",
     "shell.execute_reply.started": "2022-02-22T22:46:04.518259Z"
    },
    "tags": []
   },
   "outputs": [
    {
     "data": {
      "image/png": "[encoded data removed]",
      "text/plain": [
       "<Figure size 576x360 with 1 Axes>"
      ]
     },
     "metadata": {
      "needs_background": "light"
     },
     "output_type": "display_data"
    }
   ],
   "source": [
    "losses.plot(figsize=(8,5))\n",
    "plt.grid(True)\n",
    "plt.gca().set_ylim(0,1)\n",
    "plt.xlabel(\"Learning Curves: the mean training loss and accuracy measured over each epochs\")\n",
    "plt.savefig('images/learning_curves3.png')\n",
    "plt.show()"
   ]
  },
  {
   "cell_type": "code",
   "execution_count": 23,
   "id": "17760825-eb35-4f8c-88a0-45e94387c08d",
   "metadata": {
    "execution": {
     "iopub.execute_input": "2022-02-22T22:46:04.978148Z",
     "iopub.status.busy": "2022-02-22T22:46:04.977805Z",
     "iopub.status.idle": "2022-02-22T22:46:09.726812Z",
     "shell.execute_reply": "2022-02-22T22:46:09.725629Z",
     "shell.execute_reply.started": "2022-02-22T22:46:04.978111Z"
    },
    "tags": []
   },
   "outputs": [
    {
     "name": "stdout",
     "output_type": "stream",
     "text": [
      "11/11 [==============================] - 5s 421ms/step - loss: 0.1859 - accuracy: 0.9406\n",
      "[0.18592208623886108, 0.9406106472015381]\n"
     ]
    }
   ],
   "source": [
    "from sklearn.metrics import classification_report,confusion_matrix\n",
    "evaluation_model = Dcnn.evaluate(test_inputs, test_labels, batch_size=BATCH_SIZE)\n",
    "print(evaluation_model)"
   ]
  },
  {
   "cell_type": "code",
   "execution_count": 24,
   "id": "c9a3f93d-4398-418c-b511-69594874cc5a",
   "metadata": {
    "execution": {
     "iopub.execute_input": "2022-02-22T22:47:20.909353Z",
     "iopub.status.busy": "2022-02-22T22:47:20.908943Z",
     "iopub.status.idle": "2022-02-22T22:47:23.756292Z",
     "shell.execute_reply": "2022-02-22T22:47:23.755731Z",
     "shell.execute_reply.started": "2022-02-22T22:47:20.909327Z"
    },
    "tags": []
   },
   "outputs": [
    {
     "name": "stdout",
     "output_type": "stream",
     "text": [
      "              precision    recall  f1-score   support\n",
      "\n",
      "           0       0.95      0.97      0.96      1566\n",
      "           1       0.93      0.89      0.91       825\n",
      "\n",
      "    accuracy                           0.94      2391\n",
      "   macro avg       0.94      0.93      0.94      2391\n",
      "weighted avg       0.94      0.94      0.94      2391\n",
      "\n"
     ]
    }
   ],
   "source": [
    "# pd.DataFrame(confusion_matrix(test_labels,predictions))\n",
    "predictions = Dcnn.predict(test_inputs)\n",
    "predictions = np.where(predictions >0.8 , 1, 0)\n",
    "print(classification_report(test_labels, predictions))"
   ]
  },
  {
   "cell_type": "code",
   "execution_count": 25,
   "id": "4767688b-bfc8-4dc4-b8ec-2252f7791534",
   "metadata": {
    "execution": {
     "iopub.execute_input": "2022-02-22T22:47:24.961621Z",
     "iopub.status.busy": "2022-02-22T22:47:24.961198Z",
     "iopub.status.idle": "2022-02-22T22:47:24.973247Z",
     "shell.execute_reply": "2022-02-22T22:47:24.972720Z",
     "shell.execute_reply.started": "2022-02-22T22:47:24.961576Z"
    },
    "tags": []
   },
   "outputs": [
    {
     "data": {
      "text/html": [
       "<div>\n",
       "<style scoped>\n",
       "    .dataframe tbody tr th:only-of-type {\n",
       "        vertical-align: middle;\n",
       "    }\n",
       "\n",
       "    .dataframe tbody tr th {\n",
       "        vertical-align: top;\n",
       "    }\n",
       "\n",
       "    .dataframe thead th {\n",
       "        text-align: right;\n",
       "    }\n",
       "</style>\n",
       "<table border=\"1\" class=\"dataframe\">\n",
       "  <thead>\n",
       "    <tr style=\"text-align: right;\">\n",
       "      <th></th>\n",
       "      <th>Predictions: Not Pork(0)</th>\n",
       "      <th>Predictions:Pork(1)</th>\n",
       "    </tr>\n",
       "  </thead>\n",
       "  <tbody>\n",
       "    <tr>\n",
       "      <th>Acutal: Not Pork(0)</th>\n",
       "      <td>1514</td>\n",
       "      <td>52</td>\n",
       "    </tr>\n",
       "    <tr>\n",
       "      <th>Acutal: Pork (1)</th>\n",
       "      <td>87</td>\n",
       "      <td>738</td>\n",
       "    </tr>\n",
       "  </tbody>\n",
       "</table>\n",
       "</div>"
      ],
      "text/plain": [
       "                     Predictions: Not Pork(0)  Predictions:Pork(1)\n",
       "Acutal: Not Pork(0)                      1514                   52\n",
       "Acutal: Pork (1)                           87                  738"
      ]
     },
     "execution_count": 25,
     "metadata": {},
     "output_type": "execute_result"
    }
   ],
   "source": [
    "t = pd.DataFrame(confusion_matrix(test_labels,predictions), \n",
    "             columns=['Predictions: Not Pork(0)','Predictions:Pork(1)'])\n",
    "t.index = ['Acutal: Not Pork(0)', 'Acutal: Pork (1)']\n",
    "t"
   ]
  },
  {
   "cell_type": "markdown",
   "id": "d0416d6f-5e46-47c9-abad-f344bea7a94a",
   "metadata": {},
   "source": [
    "-------------------------\n",
    "\n",
    "### Stage 6: Try the Model with New Data and Export an End-to-end Model\n"
   ]
  },
  {
   "cell_type": "markdown",
   "id": "394b9a6e-0130-4af2-88e5-efe91cf9f348",
   "metadata": {
    "execution": {
     "iopub.execute_input": "2021-05-16T22:53:41.558105Z",
     "iopub.status.busy": "2021-05-16T22:53:41.557872Z",
     "iopub.status.idle": "2021-05-16T22:53:41.560984Z",
     "shell.execute_reply": "2021-05-16T22:53:41.560122Z",
     "shell.execute_reply.started": "2021-05-16T22:53:41.558080Z"
    }
   },
   "source": [
    "#### (1) Test New Dataset from 2000 samples from Legislative Questions from 6th Session "
   ]
  },
  {
   "cell_type": "code",
   "execution_count": 26,
   "id": "632bf33e-1df7-46c5-9a67-ab7141a949c2",
   "metadata": {
    "execution": {
     "iopub.execute_input": "2022-02-22T22:47:26.690567Z",
     "iopub.status.busy": "2022-02-22T22:47:26.690372Z",
     "iopub.status.idle": "2022-02-22T22:47:26.693986Z",
     "shell.execute_reply": "2022-02-22T22:47:26.693201Z",
     "shell.execute_reply.started": "2022-02-22T22:47:26.690547Z"
    },
    "tags": []
   },
   "outputs": [],
   "source": [
    "def as_num(x):\n",
    "    \"\"\"\n",
    "    keep 10 decimals\n",
    "    \"\"\"\n",
    "    y = '{:.15f}'.format(x) \n",
    "    return y"
   ]
  },
  {
   "cell_type": "code",
   "execution_count": 27,
   "id": "06ea7d54-49e9-4363-8304-d1dabaf3beb4",
   "metadata": {
    "execution": {
     "iopub.execute_input": "2022-02-22T22:47:26.882469Z",
     "iopub.status.busy": "2022-02-22T22:47:26.882221Z",
     "iopub.status.idle": "2022-02-22T22:47:27.166975Z",
     "shell.execute_reply": "2022-02-22T22:47:27.166372Z",
     "shell.execute_reply.started": "2022-02-22T22:47:26.882450Z"
    },
    "tags": []
   },
   "outputs": [],
   "source": [
    "import pandas as pd\n",
    "import random\n",
    "\n",
    "# test the trined model using new text from 200 samples from Leislative Questions\n",
    "LQ6 = pd.read_csv('data/LQ_6th.csv')\n",
    "\n",
    "# drop '0': legislor  never have proposed any legisaltive questions. \n",
    "LQ6 = LQ6[LQ6['title'].isin(['0'])== False]\n",
    "\n",
    "# select text with number of charecters within EMB_DIM; len(sub_set) = 11162\n",
    "# sample_df = LQ6.loc[[len(char_num) for char_num in LQ6.title if len(char_num) < MAX_LEN], ['legislator','title', 'topic', 'category', 'keywords', 'ques_type']].reset_index(drop=True)\n",
    "random.seed(42)\n",
    "sample_df = LQ6.iloc[random.sample(range(len(LQ6)), 2000)][['legislator', 'title', 'topic', 'category', 'keywords', 'ques_type']]\n",
    "sub_set = [seg_char(text) for text in [clearPucts(text) for text in sample_df.title]]\n"
   ]
  },
  {
   "cell_type": "markdown",
   "id": "68cc06a7-27d7-4007-949d-f7df81246e25",
   "metadata": {
    "tags": []
   },
   "source": [
    "##### Top 10 of 2000 Samples"
   ]
  },
  {
   "cell_type": "code",
   "execution_count": 28,
   "id": "d4b618c9-8c4b-40ec-a396-b4679233197e",
   "metadata": {
    "execution": {
     "iopub.execute_input": "2022-02-22T22:47:27.181128Z",
     "iopub.status.busy": "2022-02-22T22:47:27.180887Z",
     "iopub.status.idle": "2022-02-22T22:47:41.767231Z",
     "shell.execute_reply": "2022-02-22T22:47:41.766540Z",
     "shell.execute_reply.started": "2022-02-22T22:47:27.181063Z"
    },
    "tags": []
   },
   "outputs": [],
   "source": [
    "top = pd.DataFrame(\n",
    "    {'legislator': sample_df.legislator,\n",
    "     'Pork Value(Constituency Interest)':[as_num(Dcnn(np.array([tokenizer.encode(line)]), training=True).numpy()[0][0]) for line in sub_set],\n",
    "     'Legislative Questions ': sample_df.title,\n",
    "     'Topic': sample_df.topic,\n",
    "     'Key Word':sample_df.keywords}).sort_values(by=['Pork Value(Constituency Interest)'], ascending = False)"
   ]
  },
  {
   "cell_type": "code",
   "execution_count": 29,
   "id": "ebb1af00-93a6-4512-917c-3a817dcb1ba3",
   "metadata": {
    "execution": {
     "iopub.execute_input": "2022-02-22T22:47:41.768799Z",
     "iopub.status.busy": "2022-02-22T22:47:41.768629Z",
     "iopub.status.idle": "2022-02-22T22:47:41.781526Z",
     "shell.execute_reply": "2022-02-22T22:47:41.780729Z",
     "shell.execute_reply.started": "2022-02-22T22:47:41.768780Z"
    },
    "tags": []
   },
   "outputs": [
    {
     "data": {
      "text/html": [
       "<div>\n",
       "<style scoped>\n",
       "    .dataframe tbody tr th:only-of-type {\n",
       "        vertical-align: middle;\n",
       "    }\n",
       "\n",
       "    .dataframe tbody tr th {\n",
       "        vertical-align: top;\n",
       "    }\n",
       "\n",
       "    .dataframe thead th {\n",
       "        text-align: right;\n",
       "    }\n",
       "</style>\n",
       "<table border=\"1\" class=\"dataframe\">\n",
       "  <thead>\n",
       "    <tr style=\"text-align: right;\">\n",
       "      <th></th>\n",
       "      <th>legislator</th>\n",
       "      <th>Pork Value(Constituency Interest)</th>\n",
       "      <th>Legislative Questions</th>\n",
       "      <th>Topic</th>\n",
       "      <th>Key Word</th>\n",
       "    </tr>\n",
       "  </thead>\n",
       "  <tbody>\n",
       "    <tr>\n",
       "      <th>9892</th>\n",
       "      <td>陳啟昱</td>\n",
       "      <td>0.998417615890503</td>\n",
       "      <td>鑑於現行《所得稅法》第十七條規定特別扣除額教育支出部分，僅以納稅義務人之子女就讀大專院校為限...</td>\n",
       "      <td>所得稅 ; 教育費用 ; 扣除額</td>\n",
       "      <td>所得稅法 ; 特別扣除額 ; 教育支出</td>\n",
       "    </tr>\n",
       "    <tr>\n",
       "      <th>3999</th>\n",
       "      <td>林正峰</td>\n",
       "      <td>0.997364819049835</td>\n",
       "      <td>針對政府準備修法推動「二代健保」，健保保費採取「年度所得總額」為計算基礎，而非採用扣除免稅額...</td>\n",
       "      <td>國民 ; 健康保險 ; 保險費</td>\n",
       "      <td>二代健保 ; 年度所得總額</td>\n",
       "    </tr>\n",
       "    <tr>\n",
       "      <th>1761</th>\n",
       "      <td>彭添富</td>\n",
       "      <td>0.996990680694580</td>\n",
       "      <td>針對「辦理九十四年原住民中低收入戶家庭租屋補助計畫」專案補助計畫，特向行政院提出質詢。</td>\n",
       "      <td>原住民族生活</td>\n",
       "      <td>原住民中低收入戶 ; 租屋補助</td>\n",
       "    </tr>\n",
       "    <tr>\n",
       "      <th>35</th>\n",
       "      <td>丁守中</td>\n",
       "      <td>0.994604468345642</td>\n",
       "      <td>針就民眾陳情指出，目前政府對身心障礙者提供之生活津貼，依身心障礙程度等級分為1000元至50...</td>\n",
       "      <td>身心障礙者福利</td>\n",
       "      <td>身心障礙者生活津貼</td>\n",
       "    </tr>\n",
       "    <tr>\n",
       "      <th>1706</th>\n",
       "      <td>彭添富</td>\n",
       "      <td>0.993997812271118</td>\n",
       "      <td>針對「觀音鄉保生社區風貌營造規劃設計」專案補助計畫，特向行政院提出質詢。</td>\n",
       "      <td>社區計畫 ; 政府補助</td>\n",
       "      <td>保生社區</td>\n",
       "    </tr>\n",
       "    <tr>\n",
       "      <th>188</th>\n",
       "      <td>丁守中</td>\n",
       "      <td>0.992515802383423</td>\n",
       "      <td>針就「國軍退除役官兵就養安置辦法」第七條第一項第五款規定：「全家人口所有之土地及房屋公告現值...</td>\n",
       "      <td>退除役官兵 ; 榮民生活輔導</td>\n",
       "      <td>國軍退除役官兵就養安置辦法</td>\n",
       "    </tr>\n",
       "    <tr>\n",
       "      <th>619</th>\n",
       "      <td>吳成典</td>\n",
       "      <td>0.990735411643982</td>\n",
       "      <td>鑑於居家安全及消防常識已逐漸受到民眾的重視，請中央寬列消防機關人事費用，補助金、馬兩縣規劃合...</td>\n",
       "      <td>住宅安全 ; 消防設施</td>\n",
       "      <td>居家安全 ; 消防常識</td>\n",
       "    </tr>\n",
       "    <tr>\n",
       "      <th>1641</th>\n",
       "      <td>彭添富</td>\n",
       "      <td>0.988783240318298</td>\n",
       "      <td>針對「豪雨成災，農作物損失補償」問題，特向行政院提出質詢。</td>\n",
       "      <td>農業補助</td>\n",
       "      <td>豪雨 ; 農作物</td>\n",
       "    </tr>\n",
       "    <tr>\n",
       "      <th>8340</th>\n",
       "      <td>蔡煌瑯(離職)</td>\n",
       "      <td>0.986971139907837</td>\n",
       "      <td>「2005南投花卉嘉年華」活動爭取中央經費補助案由，特向行政院提出質詢。</td>\n",
       "      <td>農業推廣 ; 政府補助</td>\n",
       "      <td>南投花卉嘉年華 ; 中央經費</td>\n",
       "    </tr>\n",
       "    <tr>\n",
       "      <th>9527</th>\n",
       "      <td>鄭朝明</td>\n",
       "      <td>0.986645400524139</td>\n",
       "      <td>針對我國生育率逐年下降，嚴重影響人口結構發展。民眾不願多生育子女，主因在於負擔費用過重，政府...</td>\n",
       "      <td>出生率 ; 人口政策</td>\n",
       "      <td>生育率 ; 人口 ; 人口老化</td>\n",
       "    </tr>\n",
       "  </tbody>\n",
       "</table>\n",
       "</div>"
      ],
      "text/plain": [
       "     legislator Pork Value(Constituency Interest)  \\\n",
       "9892        陳啟昱                 0.998417615890503   \n",
       "3999        林正峰                 0.997364819049835   \n",
       "1761        彭添富                 0.996990680694580   \n",
       "35          丁守中                 0.994604468345642   \n",
       "1706        彭添富                 0.993997812271118   \n",
       "188         丁守中                 0.992515802383423   \n",
       "619         吳成典                 0.990735411643982   \n",
       "1641        彭添富                 0.988783240318298   \n",
       "8340    蔡煌瑯(離職)                 0.986971139907837   \n",
       "9527        鄭朝明                 0.986645400524139   \n",
       "\n",
       "                                 Legislative Questions              Topic  \\\n",
       "9892  鑑於現行《所得稅法》第十七條規定特別扣除額教育支出部分，僅以納稅義務人之子女就讀大專院校為限...  所得稅 ; 教育費用 ; 扣除額   \n",
       "3999  針對政府準備修法推動「二代健保」，健保保費採取「年度所得總額」為計算基礎，而非採用扣除免稅額...   國民 ; 健康保險 ; 保險費   \n",
       "1761        針對「辦理九十四年原住民中低收入戶家庭租屋補助計畫」專案補助計畫，特向行政院提出質詢。            原住民族生活   \n",
       "35    針就民眾陳情指出，目前政府對身心障礙者提供之生活津貼，依身心障礙程度等級分為1000元至50...           身心障礙者福利   \n",
       "1706               針對「觀音鄉保生社區風貌營造規劃設計」專案補助計畫，特向行政院提出質詢。       社區計畫 ; 政府補助   \n",
       "188   針就「國軍退除役官兵就養安置辦法」第七條第一項第五款規定：「全家人口所有之土地及房屋公告現值...    退除役官兵 ; 榮民生活輔導   \n",
       "619   鑑於居家安全及消防常識已逐漸受到民眾的重視，請中央寬列消防機關人事費用，補助金、馬兩縣規劃合...       住宅安全 ; 消防設施   \n",
       "1641                      針對「豪雨成災，農作物損失補償」問題，特向行政院提出質詢。              農業補助   \n",
       "8340               「2005南投花卉嘉年華」活動爭取中央經費補助案由，特向行政院提出質詢。       農業推廣 ; 政府補助   \n",
       "9527  針對我國生育率逐年下降，嚴重影響人口結構發展。民眾不願多生育子女，主因在於負擔費用過重，政府...        出生率 ; 人口政策   \n",
       "\n",
       "                 Key Word  \n",
       "9892  所得稅法 ; 特別扣除額 ; 教育支出  \n",
       "3999        二代健保 ; 年度所得總額  \n",
       "1761      原住民中低收入戶 ; 租屋補助  \n",
       "35              身心障礙者生活津貼  \n",
       "1706                 保生社區  \n",
       "188         國軍退除役官兵就養安置辦法  \n",
       "619           居家安全 ; 消防常識  \n",
       "1641             豪雨 ; 農作物  \n",
       "8340       南投花卉嘉年華 ; 中央經費  \n",
       "9527      生育率 ; 人口 ; 人口老化  "
      ]
     },
     "execution_count": 29,
     "metadata": {},
     "output_type": "execute_result"
    }
   ],
   "source": [
    "top.head(10)"
   ]
  },
  {
   "cell_type": "markdown",
   "id": "6a6d4b15-3e05-427d-a664-8c8ce4e6622c",
   "metadata": {},
   "source": [
    "##### Last 10 Rows of 2000 Samples"
   ]
  },
  {
   "cell_type": "code",
   "execution_count": 30,
   "id": "5444905f-b027-4116-9ecc-1e9dec58dd45",
   "metadata": {
    "execution": {
     "iopub.execute_input": "2022-02-22T22:47:41.783432Z",
     "iopub.status.busy": "2022-02-22T22:47:41.782858Z",
     "iopub.status.idle": "2022-02-22T22:47:41.793614Z",
     "shell.execute_reply": "2022-02-22T22:47:41.793050Z",
     "shell.execute_reply.started": "2022-02-22T22:47:41.783406Z"
    },
    "tags": []
   },
   "outputs": [
    {
     "data": {
      "text/html": [
       "<div>\n",
       "<style scoped>\n",
       "    .dataframe tbody tr th:only-of-type {\n",
       "        vertical-align: middle;\n",
       "    }\n",
       "\n",
       "    .dataframe tbody tr th {\n",
       "        vertical-align: top;\n",
       "    }\n",
       "\n",
       "    .dataframe thead th {\n",
       "        text-align: right;\n",
       "    }\n",
       "</style>\n",
       "<table border=\"1\" class=\"dataframe\">\n",
       "  <thead>\n",
       "    <tr style=\"text-align: right;\">\n",
       "      <th></th>\n",
       "      <th>legislator</th>\n",
       "      <th>Pork Value(Constituency Interest)</th>\n",
       "      <th>Legislative Questions</th>\n",
       "      <th>Topic</th>\n",
       "      <th>Key Word</th>\n",
       "    </tr>\n",
       "  </thead>\n",
       "  <tbody>\n",
       "    <tr>\n",
       "      <th>10120</th>\n",
       "      <td>陳朝龍</td>\n",
       "      <td>0.000003376766927</td>\n",
       "      <td>針對英國政府宣稱台灣出口至該國禽鳥，檢驗出感染禽流感H5N1病毒死亡。由於我國迄今並未發現有...</td>\n",
       "      <td>傳染病防治 ; 走私</td>\n",
       "      <td>英國政府 ; 台灣禽鳥 ; 禽流感 ; 相思鳥 ; 走私</td>\n",
       "    </tr>\n",
       "    <tr>\n",
       "      <th>6347</th>\n",
       "      <td>王幸男</td>\n",
       "      <td>0.000003163653446</td>\n",
       "      <td>針對本院交通委員會在台中市長夫人邵曉鈴女士車禍事件之後，以超高的效率通過了「道路交通管理處罰...</td>\n",
       "      <td>交通規則</td>\n",
       "      <td>道路交通管理處罰條例 ; 安全帶</td>\n",
       "    </tr>\n",
       "    <tr>\n",
       "      <th>2866</th>\n",
       "      <td>李鎮楠</td>\n",
       "      <td>0.000002799774620</td>\n",
       "      <td>針對國內近來頻傳黑心食品充斥市面，引起消費者恐慌，提出相關質疑。黑心事件層出不窮，餵豬澱粉回...</td>\n",
       "      <td>食品管理</td>\n",
       "      <td>黑心食品 ; 食品認證</td>\n",
       "    </tr>\n",
       "    <tr>\n",
       "      <th>2439</th>\n",
       "      <td>李俊毅</td>\n",
       "      <td>0.000002592328201</td>\n",
       "      <td>針對近來國務機要費與首長特別費因相關規範未臻明確，遭質疑該筆金額等同於首長薪水或私房錢，且有...</td>\n",
       "      <td>國家元首 ; 行政首長 ; 統一發票</td>\n",
       "      <td>國務機要費 ; 首長特別費</td>\n",
       "    </tr>\n",
       "    <tr>\n",
       "      <th>2018</th>\n",
       "      <td>曹來旺</td>\n",
       "      <td>0.000002244937150</td>\n",
       "      <td>針對政府宣示廢除死刑多年，雖然死刑的法律仍在，但判處死刑的案例減少，即使判了死刑，也常拖著不...</td>\n",
       "      <td>死刑</td>\n",
       "      <td>死刑 ; 人權</td>\n",
       "    </tr>\n",
       "    <tr>\n",
       "      <th>6532</th>\n",
       "      <td>王幸男</td>\n",
       "      <td>0.000002108804438</td>\n",
       "      <td>針對陳總統日昨重申，有信心一定能夠在二○○八年卸任總統之前，為台灣催生一部合身、合時、合用的...</td>\n",
       "      <td>憲法修正</td>\n",
       "      <td>新憲法 ; 修改憲法</td>\n",
       "    </tr>\n",
       "    <tr>\n",
       "      <th>8264</th>\n",
       "      <td>蔡其昌</td>\n",
       "      <td>0.000001428694077</td>\n",
       "      <td>針對近年來詐騙集團盛行，傳送大量簡訊詐財，雖內政部警政署自八月一日起，特別提供簡訊特碼「09...</td>\n",
       "      <td>詐欺 ; 電話</td>\n",
       "      <td>詐騙 ; 來電顯號</td>\n",
       "    </tr>\n",
       "    <tr>\n",
       "      <th>7514</th>\n",
       "      <td>紀國棟</td>\n",
       "      <td>0.000001150604248</td>\n",
       "      <td>鑒於台灣極力發展觀光倍增之際，竟一再傳出中國觀光客來台糾紛頻傳，爰要求觀光局為下列改進：一、...</td>\n",
       "      <td>旅遊業 ; 觀光</td>\n",
       "      <td>中國觀光客 ; 旅遊糾紛</td>\n",
       "    </tr>\n",
       "    <tr>\n",
       "      <th>982</th>\n",
       "      <td>周守訓</td>\n",
       "      <td>0.000001047020760</td>\n",
       "      <td>針對日前媒體報導陳水扁總統宣示，十二月二十五日耶誕節是重要的宗教節慶，更是我國的行憲紀念日，...</td>\n",
       "      <td>宗教 ; 假日</td>\n",
       "      <td>耶誕節 ; 行憲紀念日 ; 宗教自由 ; 政教分離</td>\n",
       "    </tr>\n",
       "    <tr>\n",
       "      <th>6636</th>\n",
       "      <td>王幸男</td>\n",
       "      <td>0.000000255493234</td>\n",
       "      <td>針對「莊嚴肅穆」的行憲紀念日，在威權時代「今天應懸掛國旗」，不過，在愈來愈多人的真實生活中，...</td>\n",
       "      <td>紀念活動 ; 憲政運作</td>\n",
       "      <td>聖誕節 ; 行憲紀念日 ; 制憲權</td>\n",
       "    </tr>\n",
       "  </tbody>\n",
       "</table>\n",
       "</div>"
      ],
      "text/plain": [
       "      legislator Pork Value(Constituency Interest)  \\\n",
       "10120        陳朝龍                 0.000003376766927   \n",
       "6347         王幸男                 0.000003163653446   \n",
       "2866         李鎮楠                 0.000002799774620   \n",
       "2439         李俊毅                 0.000002592328201   \n",
       "2018         曹來旺                 0.000002244937150   \n",
       "6532         王幸男                 0.000002108804438   \n",
       "8264         蔡其昌                 0.000001428694077   \n",
       "7514         紀國棟                 0.000001150604248   \n",
       "982          周守訓                 0.000001047020760   \n",
       "6636         王幸男                 0.000000255493234   \n",
       "\n",
       "                                  Legislative Questions                Topic  \\\n",
       "10120  針對英國政府宣稱台灣出口至該國禽鳥，檢驗出感染禽流感H5N1病毒死亡。由於我國迄今並未發現有...          傳染病防治 ; 走私   \n",
       "6347   針對本院交通委員會在台中市長夫人邵曉鈴女士車禍事件之後，以超高的效率通過了「道路交通管理處罰...                交通規則   \n",
       "2866   針對國內近來頻傳黑心食品充斥市面，引起消費者恐慌，提出相關質疑。黑心事件層出不窮，餵豬澱粉回...                食品管理   \n",
       "2439   針對近來國務機要費與首長特別費因相關規範未臻明確，遭質疑該筆金額等同於首長薪水或私房錢，且有...  國家元首 ; 行政首長 ; 統一發票   \n",
       "2018   針對政府宣示廢除死刑多年，雖然死刑的法律仍在，但判處死刑的案例減少，即使判了死刑，也常拖著不...                  死刑   \n",
       "6532   針對陳總統日昨重申，有信心一定能夠在二○○八年卸任總統之前，為台灣催生一部合身、合時、合用的...                憲法修正   \n",
       "8264   針對近年來詐騙集團盛行，傳送大量簡訊詐財，雖內政部警政署自八月一日起，特別提供簡訊特碼「09...             詐欺 ; 電話   \n",
       "7514   鑒於台灣極力發展觀光倍增之際，竟一再傳出中國觀光客來台糾紛頻傳，爰要求觀光局為下列改進：一、...            旅遊業 ; 觀光   \n",
       "982    針對日前媒體報導陳水扁總統宣示，十二月二十五日耶誕節是重要的宗教節慶，更是我國的行憲紀念日，...             宗教 ; 假日   \n",
       "6636   針對「莊嚴肅穆」的行憲紀念日，在威權時代「今天應懸掛國旗」，不過，在愈來愈多人的真實生活中，...         紀念活動 ; 憲政運作   \n",
       "\n",
       "                           Key Word  \n",
       "10120  英國政府 ; 台灣禽鳥 ; 禽流感 ; 相思鳥 ; 走私  \n",
       "6347               道路交通管理處罰條例 ; 安全帶  \n",
       "2866                    黑心食品 ; 食品認證  \n",
       "2439                  國務機要費 ; 首長特別費  \n",
       "2018                        死刑 ; 人權  \n",
       "6532                     新憲法 ; 修改憲法  \n",
       "8264                      詐騙 ; 來電顯號  \n",
       "7514                   中國觀光客 ; 旅遊糾紛  \n",
       "982       耶誕節 ; 行憲紀念日 ; 宗教自由 ; 政教分離  \n",
       "6636              聖誕節 ; 行憲紀念日 ; 制憲權  "
      ]
     },
     "execution_count": 30,
     "metadata": {},
     "output_type": "execute_result"
    }
   ],
   "source": [
    "top.tail(10)"
   ]
  },
  {
   "cell_type": "markdown",
   "id": "5dc01475-847a-408f-9972-ac02e7aa4721",
   "metadata": {},
   "source": [
    "#### (2) Export an End-to-end Model\n"
   ]
  },
  {
   "cell_type": "code",
   "execution_count": 31,
   "id": "196028d0-edfe-434f-a173-4ccaa688faaa",
   "metadata": {
    "execution": {
     "iopub.execute_input": "2022-02-22T22:47:41.795883Z",
     "iopub.status.busy": "2022-02-22T22:47:41.795664Z",
     "iopub.status.idle": "2022-02-22T22:47:41.799851Z",
     "shell.execute_reply": "2022-02-22T22:47:41.799237Z",
     "shell.execute_reply.started": "2022-02-22T22:47:41.795858Z"
    },
    "tags": []
   },
   "outputs": [],
   "source": [
    "from tensorflow.keras.models import load_model"
   ]
  },
  {
   "cell_type": "code",
   "execution_count": 32,
   "id": "071291d0-c5bb-48de-adb2-f8b2bb3bb542",
   "metadata": {
    "execution": {
     "iopub.execute_input": "2022-02-22T22:47:41.800872Z",
     "iopub.status.busy": "2022-02-22T22:47:41.800680Z",
     "iopub.status.idle": "2022-02-22T22:47:42.922258Z",
     "shell.execute_reply": "2022-02-22T22:47:42.921750Z",
     "shell.execute_reply.started": "2022-02-22T22:47:41.800849Z"
    },
    "tags": []
   },
   "outputs": [
    {
     "name": "stderr",
     "output_type": "stream",
     "text": [
      "2022-02-22 22:47:42.366664: W tensorflow/python/util/util.cc:368] Sets are not currently considered sequences, but this may change in the future, so consider avoiding using them.\n"
     ]
    },
    {
     "name": "stdout",
     "output_type": "stream",
     "text": [
      "INFO:tensorflow:Assets written to: lour_pork_model/assets\n"
     ]
    },
    {
     "name": "stderr",
     "output_type": "stream",
     "text": [
      "INFO:tensorflow:Assets written to: lour_pork_model/assets\n"
     ]
    }
   ],
   "source": [
    "# Get model (Sequential, Functional Model, or Model subclass)\n",
    "Dcnn.save('lour_pork_model')"
   ]
  },
  {
   "cell_type": "code",
   "execution_count": null,
   "id": "2ac46183-b841-469b-8897-1fea2922e445",
   "metadata": {
    "tags": []
   },
   "outputs": [],
   "source": [
    "from tensorflow import keras\n",
    "model = keras.models.load_model('lour_pork_model')"
   ]
  }
 ],
 "metadata": {
  "kernelspec": {
   "display_name": "Python 3 (ipykernel)",
   "language": "python",
   "name": "python3"
  },
  "language_info": {
   "codemirror_mode": {
    "name": "ipython",
    "version": 3
   },
   "file_extension": ".py",
   "mimetype": "text/x-python",
   "name": "python",
   "nbconvert_exporter": "python",
   "pygments_lexer": "ipython3",
   "version": "3.7.11"
  },
  "widgets": {
   "application/vnd.jupyter.widget-state+json": {
    "state": {},
    "version_major": 2,
    "version_minor": 0
   }
  }
 },
 "nbformat": 4,
 "nbformat_minor": 5
}
