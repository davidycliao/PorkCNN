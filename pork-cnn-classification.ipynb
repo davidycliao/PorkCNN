{
 "cells": [
  {
   "cell_type": "markdown",
   "id": "b65dfbdc-bb80-4bd4-8248-dd06483222cd",
   "metadata": {},
   "source": [
    "# Lour's Pork Barrel Classifier (羅老師肉桶文本分類器)🐖\n",
    "## Convolutional Neural Networks for Pork Barrel Project Classification \n",
    "\n",
    "\n",
    "author: davidycliao(David Yen-Chieh Liao)                                                                      \n",
    "email: davidycliao@gmail.com                                                             \n",
    "date: 9-July-2021    "
   ]
  },
  {
   "cell_type": "markdown",
   "id": "e8005d5a-f938-4c26-86d5-592408152d08",
   "metadata": {},
   "source": [
    "-------------------------\n",
    "\n",
    "### Stage 1: Libaries & Dependencies"
   ]
  },
  {
   "cell_type": "code",
   "execution_count": 1,
   "id": "6ca92ba3-7480-418f-91e0-d2beea2d10af",
   "metadata": {
    "execution": {
     "iopub.execute_input": "2022-02-18T03:56:19.562579Z",
     "iopub.status.busy": "2022-02-18T03:56:19.562307Z",
     "iopub.status.idle": "2022-02-18T03:56:25.290304Z",
     "shell.execute_reply": "2022-02-18T03:56:25.289783Z",
     "shell.execute_reply.started": "2022-02-18T03:56:19.562513Z"
    },
    "tags": []
   },
   "outputs": [],
   "source": [
    "# built-in library\n",
    "# pip install -r requirements.txt\n",
    "import math\n",
    "import re\n",
    "import collections\n",
    "import zipfile\n",
    "import random\n",
    "from itertools import chain\n",
    "\n",
    "# ML & Deep Learning/ NLP toolkit\n",
    "import pandas as pd\n",
    "import numpy as np\n",
    "import jieba\n",
    "from sklearn.model_selection import train_test_split\n",
    "import tensorflow as tf\n",
    "from tensorflow.keras import layers\n",
    "import tensorflow_datasets as tfds\n",
    "from tensorflow.keras.callbacks import EarlyStopping,TensorBoard\n",
    "\n",
    "# Visualization\n",
    "import matplotlib.pyplot as plt\n",
    "import seaborn as sns"
   ]
  },
  {
   "cell_type": "markdown",
   "id": "8bd77e05-355a-422f-87db-2cf77cba3bdd",
   "metadata": {},
   "source": [
    "-------------------------\n",
    "\n",
    "### Stage 2: Data Preprocessing (Training Data: Introduction of Bills and Legislation from 6th Session to 7th Session, 2004-2012)"
   ]
  },
  {
   "cell_type": "markdown",
   "id": "3b57b9c9-443e-4e26-bda2-15f6877845d5",
   "metadata": {},
   "source": [
    "#### (1) Read file "
   ]
  },
  {
   "cell_type": "code",
   "execution_count": 2,
   "id": "e1973cfb-73d4-4717-a67a-a4e8a0c9edb0",
   "metadata": {
    "execution": {
     "iopub.execute_input": "2022-02-18T03:56:25.291676Z",
     "iopub.status.busy": "2022-02-18T03:56:25.291352Z",
     "iopub.status.idle": "2022-02-18T03:56:25.339865Z",
     "shell.execute_reply": "2022-02-18T03:56:25.339337Z",
     "shell.execute_reply.started": "2022-02-18T03:56:25.291655Z"
    },
    "tags": []
   },
   "outputs": [],
   "source": [
    "# read file\n",
    "df = pd.read_csv('data/Pork Bill - 2021-05-20.csv', encoding='utf-8')\n",
    "\n",
    "# combine abstract of bill and title \n",
    "df['text'] =  df['Title'] + df['Content'].fillna(df['Title'])\n",
    "\n",
    "# drop conten without having any characters\n",
    "# view na's row: df[df['text'].isnull()==True]\n",
    "data = df[['text', 'pork_bill']].dropna(subset=['text'])"
   ]
  },
  {
   "cell_type": "code",
   "execution_count": 3,
   "id": "f6160785-9522-4404-8f77-6df941869cde",
   "metadata": {
    "execution": {
     "iopub.execute_input": "2022-02-18T03:56:25.341492Z",
     "iopub.status.busy": "2022-02-18T03:56:25.341335Z",
     "iopub.status.idle": "2022-02-18T03:56:25.345911Z",
     "shell.execute_reply": "2022-02-18T03:56:25.345307Z",
     "shell.execute_reply.started": "2022-02-18T03:56:25.341474Z"
    },
    "tags": []
   },
   "outputs": [
    {
     "name": "stdout",
     "output_type": "stream",
     "text": [
      " Pork Legislation 2510 \n",
      " None-Pork Legislation 4733\n"
     ]
    }
   ],
   "source": [
    "print(\" Pork Legislation\", data['pork_bill'].value_counts()[1],'\\n', \n",
    "      \"None-Pork Legislation\", data['pork_bill'].value_counts()[0])"
   ]
  },
  {
   "cell_type": "code",
   "execution_count": 4,
   "id": "11f1b3ab-7f1e-40b0-995a-e66ae58da102",
   "metadata": {
    "execution": {
     "iopub.execute_input": "2022-02-18T03:56:25.347489Z",
     "iopub.status.busy": "2022-02-18T03:56:25.347277Z",
     "iopub.status.idle": "2022-02-18T03:56:25.444074Z",
     "shell.execute_reply": "2022-02-18T03:56:25.443556Z",
     "shell.execute_reply.started": "2022-02-18T03:56:25.347469Z"
    },
    "tags": []
   },
   "outputs": [
    {
     "data": {
      "image/png": "[encoded data removed]",
      "text/plain": [
       "<Figure size 720x432 with 1 Axes>"
      ]
     },
     "metadata": {
      "needs_background": "light"
     },
     "output_type": "display_data"
    }
   ],
   "source": [
    "import matplotlib.pyplot as plt\n",
    "plt.figure(figsize=(10, 6))\n",
    "pork_plot = pd.DataFrame({\"num\":data['pork_bill'].value_counts(), \"type\":['Not Pork','Pork']})\n",
    "plt.bar(pork_plot['type'], pork_plot['num'], color='#57A1AB')\n",
    "plt.show()"
   ]
  },
  {
   "cell_type": "markdown",
   "id": "5e6d677d-e200-40e6-9252-130eb02fc682",
   "metadata": {
    "execution": {
     "iopub.execute_input": "2021-05-16T17:01:03.001989Z",
     "iopub.status.busy": "2021-05-16T17:01:03.001801Z",
     "iopub.status.idle": "2021-05-16T17:01:03.004600Z",
     "shell.execute_reply": "2021-05-16T17:01:03.003789Z",
     "shell.execute_reply.started": "2021-05-16T17:01:03.001969Z"
    }
   },
   "source": [
    "#### (2) Tokenization"
   ]
  },
  {
   "cell_type": "code",
   "execution_count": 5,
   "id": "120e8b54-7f75-4ca6-a0d0-9872b1522e8e",
   "metadata": {
    "execution": {
     "iopub.execute_input": "2022-02-18T03:56:25.445217Z",
     "iopub.status.busy": "2022-02-18T03:56:25.445053Z",
     "iopub.status.idle": "2022-02-18T03:56:25.451879Z",
     "shell.execute_reply": "2022-02-18T03:56:25.451254Z",
     "shell.execute_reply.started": "2022-02-18T03:56:25.445198Z"
    },
    "tags": []
   },
   "outputs": [],
   "source": [
    "import collections\n",
    "import numpy as np\n",
    "import jieba\n",
    "from itertools import chain\n",
    "\n",
    "\n",
    "def jieba_cut(filename):\n",
    "    \"\"\"\n",
    "    cut Chinese and remove stop words\n",
    "    Reference: https://www.cnblogs.com/Luv-GEM/p/10836454.html\n",
    "    Stopwords: https://www.kaggle.com/rikdifos/english-and-chinese-stopwords?select=cn_stopwords.txt\n",
    "    \"\"\"\n",
    "    stop_list = [i.strip() for i in open('data/cn_stopwords.txt','r',encoding='utf-8')]  \n",
    "    news_cut = []\n",
    "    news_list = []\n",
    "    for line in filename:    \n",
    "        if line:\n",
    "            news_cut = list(jieba.cut(''.join(line),cut_all=False,HMM=True))  \n",
    "            news_list.append([word.strip() for word in news_cut if word not in stop_list and len(word.strip())>0]) \n",
    "    news_list = list(chain.from_iterable(news_list))  \n",
    "    return news_list\n",
    "\n",
    "def clearPucts(context):\n",
    "    \"\"\"\n",
    "    remove punctuation\n",
    "    ref: https://chenyuzuoo.github.io/posts/28001/\n",
    "    \"\"\"\n",
    "    context = re.sub(\"[\\s+\\.\\!\\/_,$%^*(+\\\"\\']+|[+——！，。？、~@#￥%……&*（）]+\", \"\", context)\n",
    "    context = re.sub(\"[【】╮╯▽╰╭★→「」]+\",\"\", context)\n",
    "    context = re.sub(\"！，❤。～《》：（）【】「」？”“；：、\",\"\",context)\n",
    "    context = re.sub(\"\\s\",\"\",context)\n",
    "    return context\n",
    "\n",
    "def seg_char(sent):\n",
    "    \"\"\"\n",
    "    cut Chinese and remove stop words\n",
    "    ref: https://blog.csdn.net/renyuanfang/article/details/86487367\n",
    "    \"\"\"\n",
    "    # split\n",
    "    pattern_char_1 = re.compile(r'([\\W])')\n",
    "    parts = pattern_char_1.split(sent)\n",
    "    parts = [p for p in parts if len(p.strip())>0]\n",
    "    # cut sentence\n",
    "    pattern = re.compile(r'([\\u4e00-\\u9fa5])')\n",
    "    chars = pattern.split(sent)\n",
    "    chars = [w for w in chars if len(w.strip())>0]\n",
    "    chars = ' '.join(chars)\n",
    "    return chars"
   ]
  },
  {
   "cell_type": "code",
   "execution_count": 6,
   "id": "db4c6206-6eca-4958-a5d7-6319f48bb348",
   "metadata": {
    "execution": {
     "iopub.execute_input": "2022-02-18T03:56:25.452741Z",
     "iopub.status.busy": "2022-02-18T03:56:25.452607Z",
     "iopub.status.idle": "2022-02-18T03:56:27.317746Z",
     "shell.execute_reply": "2022-02-18T03:56:27.317148Z",
     "shell.execute_reply.started": "2022-02-18T03:56:25.452723Z"
    },
    "tags": []
   },
   "outputs": [],
   "source": [
    "data_clean = [seg_char(text) for text in [clearPucts(text) for text in data.text]]\n",
    "\n",
    "tokenizer = tfds.deprecated.text.SubwordTextEncoder.build_from_corpus(\n",
    "    data_clean, target_vocab_size=2**18)\n",
    "\n",
    "data_inputs = [tokenizer.encode(sentence) for sentence in data_clean]"
   ]
  },
  {
   "cell_type": "markdown",
   "id": "089e65af-e49c-4d60-962e-a0a826809aa5",
   "metadata": {
    "execution": {
     "iopub.execute_input": "2021-05-16T17:01:47.611294Z",
     "iopub.status.busy": "2021-05-16T17:01:47.611020Z",
     "iopub.status.idle": "2021-05-16T17:01:47.614208Z",
     "shell.execute_reply": "2021-05-16T17:01:47.613487Z",
     "shell.execute_reply.started": "2021-05-16T17:01:47.611276Z"
    }
   },
   "source": [
    "#### (3) Padding"
   ]
  },
  {
   "cell_type": "code",
   "execution_count": 7,
   "id": "b801d231-972c-47e3-83c4-7375c2e11a18",
   "metadata": {
    "execution": {
     "iopub.execute_input": "2022-02-18T03:56:27.319234Z",
     "iopub.status.busy": "2022-02-18T03:56:27.318950Z",
     "iopub.status.idle": "2022-02-18T03:56:27.366569Z",
     "shell.execute_reply": "2022-02-18T03:56:27.365979Z",
     "shell.execute_reply.started": "2022-02-18T03:56:27.319217Z"
    },
    "tags": []
   },
   "outputs": [],
   "source": [
    "MAX_LEN = max([len(sentence) for sentence in data_clean])\n",
    "data_inputs = tf.keras.preprocessing.sequence.pad_sequences(data_inputs,\n",
    "                                                            value=0,\n",
    "                                                            padding=\"post\",\n",
    "                                                            maxlen=MAX_LEN)\n",
    "\n",
    "\n"
   ]
  },
  {
   "cell_type": "code",
   "execution_count": 8,
   "id": "bd561c2c-9c98-46c3-91a9-9bdb8f160344",
   "metadata": {
    "execution": {
     "iopub.execute_input": "2022-02-18T03:56:27.369053Z",
     "iopub.status.busy": "2022-02-18T03:56:27.368854Z",
     "iopub.status.idle": "2022-02-18T03:56:27.372701Z",
     "shell.execute_reply": "2022-02-18T03:56:27.372161Z",
     "shell.execute_reply.started": "2022-02-18T03:56:27.369032Z"
    },
    "tags": []
   },
   "outputs": [
    {
     "data": {
      "text/plain": [
       "(7243, 785)"
      ]
     },
     "execution_count": 8,
     "metadata": {},
     "output_type": "execute_result"
    }
   ],
   "source": [
    "data_inputs.shape"
   ]
  },
  {
   "cell_type": "markdown",
   "id": "f69d90cf-ac3c-4e08-b46b-457d9708d832",
   "metadata": {
    "execution": {
     "iopub.execute_input": "2021-05-16T17:02:28.107037Z",
     "iopub.status.busy": "2021-05-16T17:02:28.106843Z",
     "iopub.status.idle": "2021-05-16T17:02:28.109696Z",
     "shell.execute_reply": "2021-05-16T17:02:28.108954Z",
     "shell.execute_reply.started": "2021-05-16T17:02:28.107017Z"
    }
   },
   "source": [
    "#### (4) Spliting Training / Testing Set"
   ]
  },
  {
   "cell_type": "code",
   "execution_count": 9,
   "id": "42503355-eea3-4602-ae5a-ea18be84b8d1",
   "metadata": {
    "execution": {
     "iopub.execute_input": "2022-02-18T03:56:27.374387Z",
     "iopub.status.busy": "2022-02-18T03:56:27.374226Z",
     "iopub.status.idle": "2022-02-18T03:56:27.376731Z",
     "shell.execute_reply": "2022-02-18T03:56:27.376211Z",
     "shell.execute_reply.started": "2022-02-18T03:56:27.374369Z"
    },
    "tags": []
   },
   "outputs": [],
   "source": [
    "data_labels = data.pork_bill.values"
   ]
  },
  {
   "cell_type": "code",
   "execution_count": 10,
   "id": "19235117-f63a-4e06-a102-6efe98c37dbf",
   "metadata": {
    "execution": {
     "iopub.execute_input": "2022-02-18T03:56:27.377650Z",
     "iopub.status.busy": "2022-02-18T03:56:27.377513Z",
     "iopub.status.idle": "2022-02-18T03:56:27.391420Z",
     "shell.execute_reply": "2022-02-18T03:56:27.390799Z",
     "shell.execute_reply.started": "2022-02-18T03:56:27.377632Z"
    },
    "tags": []
   },
   "outputs": [
    {
     "name": "stdout",
     "output_type": "stream",
     "text": [
      "Shape of X Train: (4852, 785) \n",
      "Shape of X Test : (2391, 785) \n",
      "Shape of Y Trian: (4852,) \n",
      "Shape of Y Test : (2391,)\n"
     ]
    }
   ],
   "source": [
    "import numpy as np\n",
    "from sklearn.model_selection import train_test_split\n",
    "train_inputs, test_inputs, train_labels, test_labels = train_test_split(\n",
    "    data_inputs, data_labels, test_size=0.33, random_state=42)\n",
    "\n",
    "print(\"Shape of X Train:\", train_inputs.shape, '\\n'\n",
    "      \"Shape of X Test :\", test_inputs.shape,'\\n'\n",
    "      \"Shape of Y Trian:\", train_labels.shape , '\\n'\n",
    "      \"Shape of Y Test :\", test_labels.shape )"
   ]
  },
  {
   "cell_type": "code",
   "execution_count": 11,
   "id": "6f10cb5c-7c8d-4e1e-a987-11b8de8e42d0",
   "metadata": {
    "execution": {
     "iopub.execute_input": "2022-02-18T03:56:27.392656Z",
     "iopub.status.busy": "2022-02-18T03:56:27.392355Z",
     "iopub.status.idle": "2022-02-18T03:56:27.396089Z",
     "shell.execute_reply": "2022-02-18T03:56:27.395456Z",
     "shell.execute_reply.started": "2022-02-18T03:56:27.392633Z"
    },
    "tags": []
   },
   "outputs": [
    {
     "name": "stdout",
     "output_type": "stream",
     "text": [
      " Num of Train Set: 4852 \n",
      " Not Pork vs Pork: {0: 3167, 1: 1685}\n"
     ]
    }
   ],
   "source": [
    "unique_train_labels, counts_train_labels = np.unique(train_labels, return_counts=True)\n",
    "\n",
    "print(' Num of Train Set:' , train_inputs.shape[0], '\\n'\n",
    "      ,'Not Pork vs Pork:', dict(zip(unique_train_labels, counts_train_labels)))"
   ]
  },
  {
   "cell_type": "code",
   "execution_count": 12,
   "id": "f545a34d-f506-4db5-a8df-c0a89cb77a16",
   "metadata": {
    "execution": {
     "iopub.execute_input": "2022-02-18T03:56:27.396928Z",
     "iopub.status.busy": "2022-02-18T03:56:27.396795Z",
     "iopub.status.idle": "2022-02-18T03:56:27.539018Z",
     "shell.execute_reply": "2022-02-18T03:56:27.538439Z",
     "shell.execute_reply.started": "2022-02-18T03:56:27.396911Z"
    },
    "tags": []
   },
   "outputs": [
    {
     "data": {
      "image/png": "[encoded data removed]",
      "text/plain": [
       "<Figure size 720x432 with 1 Axes>"
      ]
     },
     "metadata": {
      "needs_background": "light"
     },
     "output_type": "display_data"
    }
   ],
   "source": [
    "import matplotlib.pyplot as plt\n",
    "plt.figure(figsize=(10, 6))\n",
    "train_plot = pd.DataFrame({\"num\":[dict(zip(unique_train_labels, counts_train_labels))[0],\n",
    "                                  dict(zip(unique_train_labels, counts_train_labels))[1]], \n",
    "                           \"type\":['Not Pork','Pork']})\n",
    "plt.bar(train_plot['type'], train_plot['num'], color='#57A1AB')\n",
    "plt.title('Train Set')\n",
    "#plt.show()\n",
    "plt.savefig('images/train_plot.png')"
   ]
  },
  {
   "cell_type": "code",
   "execution_count": 13,
   "id": "fedad623-02ba-4fad-b0b4-a094de7c39de",
   "metadata": {
    "execution": {
     "iopub.execute_input": "2022-02-18T03:56:27.540158Z",
     "iopub.status.busy": "2022-02-18T03:56:27.539956Z",
     "iopub.status.idle": "2022-02-18T03:56:27.543941Z",
     "shell.execute_reply": "2022-02-18T03:56:27.543227Z",
     "shell.execute_reply.started": "2022-02-18T03:56:27.540138Z"
    },
    "tags": []
   },
   "outputs": [
    {
     "name": "stdout",
     "output_type": "stream",
     "text": [
      " Num of Test Set: 2391 \n",
      " Not Pork vs Pork: {0: 1566, 1: 825}\n"
     ]
    }
   ],
   "source": [
    "unique_test_labels, counts_test_labels = np.unique(test_labels, return_counts=True)\n",
    "\n",
    "print(' Num of Test Set:' , test_inputs.shape[0], '\\n'\n",
    "      ,'Not Pork vs Pork:', dict(zip(unique_test_labels, counts_test_labels)))"
   ]
  },
  {
   "cell_type": "code",
   "execution_count": 14,
   "id": "ccc6799c-42b8-44c3-8352-e4b68ab3cfee",
   "metadata": {
    "execution": {
     "iopub.execute_input": "2022-02-18T03:56:27.545160Z",
     "iopub.status.busy": "2022-02-18T03:56:27.544956Z",
     "iopub.status.idle": "2022-02-18T03:56:27.710778Z",
     "shell.execute_reply": "2022-02-18T03:56:27.710184Z",
     "shell.execute_reply.started": "2022-02-18T03:56:27.545139Z"
    },
    "tags": []
   },
   "outputs": [
    {
     "data": {
      "image/png": "[encoded data removed]",
      "text/plain": [
       "<Figure size 720x432 with 1 Axes>"
      ]
     },
     "metadata": {
      "needs_background": "light"
     },
     "output_type": "display_data"
    }
   ],
   "source": [
    "import matplotlib.pyplot as plt\n",
    "plt.figure(figsize=(10, 6))\n",
    "test_plot = pd.DataFrame({\"num\":[dict(zip(unique_test_labels, counts_test_labels))[0],\n",
    "                                 dict(zip(unique_test_labels, counts_test_labels))[1]], \n",
    "                          \"type\":['Not Pork','Pork']})\n",
    "plt.bar(test_plot['type'], test_plot['num'], color='#B1C5C8')\n",
    "plt.title('Test Set')\n",
    "#plt.show()\n",
    "plt.savefig('images/test_plot.png')"
   ]
  },
  {
   "cell_type": "markdown",
   "id": "725f7feb-b93b-4d0b-bcbf-562240a79f8b",
   "metadata": {
    "execution": {
     "iopub.execute_input": "2021-05-16T17:04:13.375644Z",
     "iopub.status.busy": "2021-05-16T17:04:13.375440Z",
     "iopub.status.idle": "2021-05-16T17:04:13.378111Z",
     "shell.execute_reply": "2021-05-16T17:04:13.377464Z",
     "shell.execute_reply.started": "2021-05-16T17:04:13.375623Z"
    },
    "tags": []
   },
   "source": [
    "-------------------------\n",
    "\n",
    "\n",
    "### Stage 3: Model and Building"
   ]
  },
  {
   "cell_type": "markdown",
   "id": "4a0e74bf-eaf4-4043-8d23-88291d8ea344",
   "metadata": {
    "execution": {
     "iopub.execute_input": "2021-05-16T17:13:18.807725Z",
     "iopub.status.busy": "2021-05-16T17:13:18.807498Z",
     "iopub.status.idle": "2021-05-16T17:13:18.810574Z",
     "shell.execute_reply": "2021-05-16T17:13:18.809625Z",
     "shell.execute_reply.started": "2021-05-16T17:13:18.807701Z"
    }
   },
   "source": [
    "#### (1) Using the Subclassing API to Build Dynamic Model"
   ]
  },
  {
   "cell_type": "code",
   "execution_count": 15,
   "id": "1f18f9b1-5f4d-4d0a-baf4-2eebed7f34f2",
   "metadata": {
    "execution": {
     "iopub.execute_input": "2022-02-18T03:56:27.711787Z",
     "iopub.status.busy": "2022-02-18T03:56:27.711630Z",
     "iopub.status.idle": "2022-02-18T03:56:27.719496Z",
     "shell.execute_reply": "2022-02-18T03:56:27.718901Z",
     "shell.execute_reply.started": "2022-02-18T03:56:27.711770Z"
    },
    "tags": []
   },
   "outputs": [],
   "source": [
    "class DCNN(tf.keras.Model):\n",
    "    def __init__(self,\n",
    "                 vocab_size,\n",
    "                 emb_dim=128,\n",
    "                 nb_filters=100,\n",
    "                 # units: Positive integer, dimensionality of the output space.\n",
    "                 FFN_units=512,\n",
    "                 nb_classes=2,\n",
    "                 dropout_rate=0.1,\n",
    "                 training=False,\n",
    "                 name=\"PorkCNN\"):\n",
    "        super(DCNN, self).__init__(name=name)\n",
    "        self.embedding = layers.Embedding(vocab_size, emb_dim)\n",
    "        self.bigram = layers.Conv1D(filters=nb_filters, kernel_size=2, strides = 1, padding=\"valid\", activation=\"relu\")\n",
    "        self.bigram2 = layers.Conv1D(filters=nb_filters, kernel_size=2, strides = 2, padding=\"valid\", activation=\"relu\")\n",
    "        self.trigram = layers.Conv1D(filters=nb_filters,kernel_size=3,strides = 1, padding=\"valid\",activation=\"relu\")\n",
    "        self.trigram2 = layers.Conv1D(filters=nb_filters,kernel_size=3,strides = 2, padding=\"valid\",activation=\"relu\")\n",
    "        self.fourgram = layers.Conv1D(filters=nb_filters,kernel_size=4,strides = 2, padding=\"valid\",activation=\"relu\")\n",
    "        self.fivegram = layers.Conv1D(filters=nb_filters,kernel_size=5,strides = 2, padding=\"valid\",activation=\"relu\")\n",
    "        self.pool = layers.GlobalMaxPool1D()\n",
    "        self.dense_1 = layers.Dense(units=FFN_units, activation=\"relu\")\n",
    "        self.dropout = layers.Dropout(rate=dropout_rate)\n",
    "        self.last_dense = layers.Dense(units=1, activation=\"sigmoid\")    \n",
    "    def call(self, inputs, training):\n",
    "        x = self.embedding(inputs)\n",
    "        x_1 = self.bigram(x)\n",
    "        x_1 = self.pool(x_1)\n",
    "        x_1_1 = self.bigram2(x)\n",
    "        x_1_1 = self.pool(x_1_1)        \n",
    "        x_2 = self.trigram(x)\n",
    "        x_2 = self.pool(x_2)\n",
    "        x_2_1 = self.trigram2(x)\n",
    "        x_2_1 = self.pool(x_2_1)     \n",
    "        x_3 = self.fourgram(x)\n",
    "        x_3 = self.pool(x_3)\n",
    "        x_4 = self.fourgram(x)\n",
    "        x_4 = self.pool(x_4) \n",
    "        x_5 = self.fivegram(x)\n",
    "        x_5 = self.pool(x_5)      \n",
    "        merged = tf.concat([x_1,x_1_1, x_2,x_2_1, x_3, x_4, x_5], axis=-1) \n",
    "        merged = self.dense_1(merged)\n",
    "        merged = self.dropout(merged, training)\n",
    "        output = self.last_dense(merged)        \n",
    "        return output"
   ]
  },
  {
   "cell_type": "code",
   "execution_count": 16,
   "id": "bfc02e93-3a0e-4c1c-b488-b2db98b53824",
   "metadata": {
    "execution": {
     "iopub.execute_input": "2022-02-18T03:56:27.720702Z",
     "iopub.status.busy": "2022-02-18T03:56:27.720467Z",
     "iopub.status.idle": "2022-02-18T03:56:27.864727Z",
     "shell.execute_reply": "2022-02-18T03:56:27.863771Z",
     "shell.execute_reply.started": "2022-02-18T03:56:27.720681Z"
    },
    "tags": []
   },
   "outputs": [
    {
     "name": "stderr",
     "output_type": "stream",
     "text": [
      "2022-02-22 17:14:08.606600: I tensorflow/core/platform/cpu_feature_guard.cc:151] This TensorFlow binary is optimized with oneAPI Deep Neural Network Library (oneDNN) to use the following CPU instructions in performance-critical operations:  AVX2 FMA\n",
      "To enable them in other operations, rebuild TensorFlow with the appropriate compiler flags.\n"
     ]
    }
   ],
   "source": [
    "VOCAB_SIZE = tokenizer.vocab_size  #tokenizer.vocab_size  # 5000 tokenizer.vocab_size\n",
    "EMB_DIM = 200\n",
    "NB_FILTERS = 100\n",
    "FFN_UNITS = 256\n",
    "NB_CLASSES = 2 #len(set(train_labels))\n",
    "DROPOUT_RATE = 0.25\n",
    "BATCH_SIZE = 230\n",
    "NB_EPOCHS = 80\n",
    "\n",
    "Dcnn = DCNN(vocab_size=VOCAB_SIZE,\n",
    "            emb_dim=EMB_DIM,\n",
    "            nb_filters=NB_FILTERS,\n",
    "            FFN_units=FFN_UNITS,\n",
    "            nb_classes=NB_CLASSES,\n",
    "            dropout_rate=DROPOUT_RATE)"
   ]
  },
  {
   "cell_type": "markdown",
   "id": "b0ec8f51-6ed8-49fa-9d5e-c6929184bdf1",
   "metadata": {
    "execution": {
     "iopub.execute_input": "2021-05-16T18:43:59.279424Z",
     "iopub.status.busy": "2021-05-16T18:43:59.279202Z",
     "iopub.status.idle": "2021-05-16T18:43:59.282718Z",
     "shell.execute_reply": "2021-05-16T18:43:59.281823Z",
     "shell.execute_reply.started": "2021-05-16T18:43:59.279399Z"
    }
   },
   "source": [
    "#### (2) Compile and Summary of the Model"
   ]
  },
  {
   "cell_type": "code",
   "execution_count": 17,
   "id": "2cce0414-05eb-4f79-9c27-bca9c91a2903",
   "metadata": {
    "execution": {
     "iopub.execute_input": "2022-02-18T03:56:27.866403Z",
     "iopub.status.busy": "2022-02-18T03:56:27.866095Z",
     "iopub.status.idle": "2022-02-18T03:56:27.976289Z",
     "shell.execute_reply": "2022-02-18T03:56:27.975812Z",
     "shell.execute_reply.started": "2022-02-18T03:56:27.866375Z"
    },
    "tags": []
   },
   "outputs": [
    {
     "name": "stdout",
     "output_type": "stream",
     "text": [
      "Model: \"PorkCNN\"\n",
      "_________________________________________________________________\n",
      " Layer (type)                Output Shape              Param #   \n",
      "=================================================================\n",
      " embedding (Embedding)       multiple                  586600    \n",
      "                                                                 \n",
      " conv1d (Conv1D)             multiple                  40100     \n",
      "                                                                 \n",
      " conv1d_1 (Conv1D)           multiple                  40100     \n",
      "                                                                 \n",
      " conv1d_2 (Conv1D)           multiple                  60100     \n",
      "                                                                 \n",
      " conv1d_3 (Conv1D)           multiple                  60100     \n",
      "                                                                 \n",
      " conv1d_4 (Conv1D)           multiple                  80100     \n",
      "                                                                 \n",
      " conv1d_5 (Conv1D)           multiple                  100100    \n",
      "                                                                 \n",
      " global_max_pooling1d (Globa  multiple                 0         \n",
      " lMaxPooling1D)                                                  \n",
      "                                                                 \n",
      " dense (Dense)               multiple                  179456    \n",
      "                                                                 \n",
      " dropout (Dropout)           multiple                  0         \n",
      "                                                                 \n",
      " dense_1 (Dense)             multiple                  257       \n",
      "                                                                 \n",
      "=================================================================\n",
      "Total params: 1,146,913\n",
      "Trainable params: 1,146,913\n",
      "Non-trainable params: 0\n",
      "_________________________________________________________________\n"
     ]
    }
   ],
   "source": [
    "Dcnn.compile(loss=\"binary_crossentropy\", optimizer=\"adam\", metrics=[\"accuracy\"])\n",
    "Dcnn.build(input_shape = (train_inputs.shape[1], EMB_DIM\n",
    "                         )) # (train_inputs.shape[1] , EMB_DIM)  (785 , EMB_DIM)\n",
    "Dcnn.summary()"
   ]
  },
  {
   "cell_type": "markdown",
   "id": "3880d2a4-2152-43de-bad3-34e67e97469e",
   "metadata": {
    "tags": []
   },
   "source": [
    "#### (3) Check Point Path"
   ]
  },
  {
   "cell_type": "code",
   "execution_count": 18,
   "id": "2c18aa59-a797-4a67-bc4d-a412dbaaedcb",
   "metadata": {
    "execution": {
     "iopub.execute_input": "2022-02-18T03:56:27.977297Z",
     "iopub.status.busy": "2022-02-18T03:56:27.977166Z",
     "iopub.status.idle": "2022-02-18T03:56:27.980590Z",
     "shell.execute_reply": "2022-02-18T03:56:27.979922Z",
     "shell.execute_reply.started": "2022-02-18T03:56:27.977279Z"
    },
    "tags": []
   },
   "outputs": [],
   "source": [
    "checkpoint_path = \"checkpoint_recode/ckpt_manager\"\n",
    "\n",
    "ckpt = tf.train.Checkpoint(Dcnn=Dcnn)\n",
    "\n",
    "ckpt_manager = tf.train.CheckpointManager(ckpt, checkpoint_path, max_to_keep=10)\n",
    "\n",
    "if ckpt_manager.latest_checkpoint:\n",
    "    ckpt.restore(ckpt_manager.latest_checkpoint)\n",
    "    print(\"Checkpoint Located!!\")"
   ]
  },
  {
   "cell_type": "markdown",
   "id": "73d70667-275f-40c0-bd71-6b47e9722798",
   "metadata": {
    "execution": {
     "iopub.execute_input": "2021-05-16T17:47:13.442664Z",
     "iopub.status.busy": "2021-05-16T17:47:13.442381Z",
     "iopub.status.idle": "2021-05-16T17:47:13.448371Z",
     "shell.execute_reply": "2021-05-16T17:47:13.446970Z",
     "shell.execute_reply.started": "2021-05-16T17:47:13.442620Z"
    }
   },
   "source": [
    "-------------------------\n",
    "\n",
    "### Stage 4: Train the Model"
   ]
  },
  {
   "cell_type": "code",
   "execution_count": 19,
   "id": "cc975047-5a58-46dc-b427-262796d9b625",
   "metadata": {
    "execution": {
     "iopub.execute_input": "2022-02-18T03:56:28.141119Z",
     "iopub.status.busy": "2022-02-18T03:56:28.140915Z",
     "iopub.status.idle": "2022-02-18T03:56:28.143691Z",
     "shell.execute_reply": "2022-02-18T03:56:28.143047Z",
     "shell.execute_reply.started": "2022-02-18T03:56:28.141097Z"
    },
    "tags": []
   },
   "outputs": [],
   "source": [
    "early_stop = EarlyStopping(monitor='val_loss', patience=5)"
   ]
  },
  {
   "cell_type": "code",
   "execution_count": 20,
   "id": "baf0cade-2c45-43b2-9782-6a8c6e570153",
   "metadata": {
    "execution": {
     "iopub.execute_input": "2022-02-18T03:56:29.101323Z",
     "iopub.status.busy": "2022-02-18T03:56:29.101131Z",
     "iopub.status.idle": "2022-02-18T04:02:26.545805Z",
     "shell.execute_reply": "2022-02-18T04:02:26.544993Z",
     "shell.execute_reply.started": "2022-02-18T03:56:29.101304Z"
    },
    "tags": []
   },
   "outputs": [
    {
     "name": "stdout",
     "output_type": "stream",
     "text": [
      "Epoch 1/80\n",
      "22/22 [==============================] - 44s 2s/step - loss: 0.5811 - accuracy: 0.6838 - val_loss: 0.4480 - val_accuracy: 0.7771\n",
      "Epoch 2/80\n",
      "22/22 [==============================] - 44s 2s/step - loss: 0.3265 - accuracy: 0.8658 - val_loss: 0.2339 - val_accuracy: 0.9105\n",
      "Epoch 3/80\n",
      "22/22 [==============================] - 46s 2s/step - loss: 0.1505 - accuracy: 0.9470 - val_loss: 0.1686 - val_accuracy: 0.9389\n",
      "Epoch 4/80\n",
      "22/22 [==============================] - 54s 2s/step - loss: 0.0829 - accuracy: 0.9746 - val_loss: 0.1515 - val_accuracy: 0.9444\n",
      "Epoch 5/80\n",
      "22/22 [==============================] - 44s 2s/step - loss: 0.0535 - accuracy: 0.9831 - val_loss: 0.1555 - val_accuracy: 0.9473\n",
      "Epoch 6/80\n",
      "22/22 [==============================] - 47s 2s/step - loss: 0.0498 - accuracy: 0.9858 - val_loss: 0.1686 - val_accuracy: 0.9435\n",
      "Epoch 7/80\n",
      "22/22 [==============================] - 45s 2s/step - loss: 0.0474 - accuracy: 0.9854 - val_loss: 0.1733 - val_accuracy: 0.9456\n",
      "Epoch 8/80\n",
      "22/22 [==============================] - 47s 2s/step - loss: 0.0481 - accuracy: 0.9854 - val_loss: 0.1702 - val_accuracy: 0.9456\n",
      "Epoch 9/80\n",
      "22/22 [==============================] - 48s 2s/step - loss: 0.0404 - accuracy: 0.9860 - val_loss: 0.1730 - val_accuracy: 0.9448\n"
     ]
    },
    {
     "data": {
      "text/plain": [
       "'checkpoint_recode/ckpt_manager/ckpt-1'"
      ]
     },
     "execution_count": 20,
     "metadata": {},
     "output_type": "execute_result"
    }
   ],
   "source": [
    "Dcnn.fit(train_inputs, train_labels,\n",
    "         validation_data=(test_inputs, test_labels),\n",
    "         batch_size=BATCH_SIZE,\n",
    "         epochs=NB_EPOCHS,\n",
    "         callbacks=[early_stop])\n",
    "ckpt_manager.save()"
   ]
  },
  {
   "cell_type": "markdown",
   "id": "3b0ac256-ab81-4ff5-8430-48f8bba50126",
   "metadata": {
    "execution": {
     "iopub.execute_input": "2021-05-16T18:23:25.926977Z",
     "iopub.status.busy": "2021-05-16T18:23:25.926754Z",
     "iopub.status.idle": "2021-05-16T18:23:25.931072Z",
     "shell.execute_reply": "2021-05-16T18:23:25.930041Z",
     "shell.execute_reply.started": "2021-05-16T18:23:25.926952Z"
    }
   },
   "source": [
    "-------------------------\n",
    "\n",
    "### Stage 5: Evaluation"
   ]
  },
  {
   "cell_type": "code",
   "execution_count": 22,
   "id": "58099cc1-19e0-443a-b960-7ae4d67344d3",
   "metadata": {
    "tags": []
   },
   "outputs": [
    {
     "data": {
      "text/html": [
       "<div>\n",
       "<style scoped>\n",
       "    .dataframe tbody tr th:only-of-type {\n",
       "        vertical-align: middle;\n",
       "    }\n",
       "\n",
       "    .dataframe tbody tr th {\n",
       "        vertical-align: top;\n",
       "    }\n",
       "\n",
       "    .dataframe thead th {\n",
       "        text-align: right;\n",
       "    }\n",
       "</style>\n",
       "<table border=\"1\" class=\"dataframe\">\n",
       "  <thead>\n",
       "    <tr style=\"text-align: right;\">\n",
       "      <th></th>\n",
       "      <th>loss</th>\n",
       "      <th>accuracy</th>\n",
       "      <th>val_loss</th>\n",
       "      <th>val_accuracy</th>\n",
       "    </tr>\n",
       "  </thead>\n",
       "  <tbody>\n",
       "    <tr>\n",
       "      <th>0</th>\n",
       "      <td>0.581090</td>\n",
       "      <td>0.683842</td>\n",
       "      <td>0.448029</td>\n",
       "      <td>0.777081</td>\n",
       "    </tr>\n",
       "    <tr>\n",
       "      <th>1</th>\n",
       "      <td>0.326495</td>\n",
       "      <td>0.865829</td>\n",
       "      <td>0.233866</td>\n",
       "      <td>0.910498</td>\n",
       "    </tr>\n",
       "    <tr>\n",
       "      <th>2</th>\n",
       "      <td>0.150481</td>\n",
       "      <td>0.947032</td>\n",
       "      <td>0.168591</td>\n",
       "      <td>0.938938</td>\n",
       "    </tr>\n",
       "    <tr>\n",
       "      <th>3</th>\n",
       "      <td>0.082925</td>\n",
       "      <td>0.974650</td>\n",
       "      <td>0.151478</td>\n",
       "      <td>0.944375</td>\n",
       "    </tr>\n",
       "    <tr>\n",
       "      <th>4</th>\n",
       "      <td>0.053463</td>\n",
       "      <td>0.983100</td>\n",
       "      <td>0.155468</td>\n",
       "      <td>0.947302</td>\n",
       "    </tr>\n",
       "    <tr>\n",
       "      <th>5</th>\n",
       "      <td>0.049807</td>\n",
       "      <td>0.985779</td>\n",
       "      <td>0.168638</td>\n",
       "      <td>0.943538</td>\n",
       "    </tr>\n",
       "    <tr>\n",
       "      <th>6</th>\n",
       "      <td>0.047395</td>\n",
       "      <td>0.985367</td>\n",
       "      <td>0.173257</td>\n",
       "      <td>0.945629</td>\n",
       "    </tr>\n",
       "    <tr>\n",
       "      <th>7</th>\n",
       "      <td>0.048116</td>\n",
       "      <td>0.985367</td>\n",
       "      <td>0.170243</td>\n",
       "      <td>0.945629</td>\n",
       "    </tr>\n",
       "    <tr>\n",
       "      <th>8</th>\n",
       "      <td>0.040395</td>\n",
       "      <td>0.985985</td>\n",
       "      <td>0.173014</td>\n",
       "      <td>0.944793</td>\n",
       "    </tr>\n",
       "  </tbody>\n",
       "</table>\n",
       "</div>"
      ],
      "text/plain": [
       "       loss  accuracy  val_loss  val_accuracy\n",
       "0  0.581090  0.683842  0.448029      0.777081\n",
       "1  0.326495  0.865829  0.233866      0.910498\n",
       "2  0.150481  0.947032  0.168591      0.938938\n",
       "3  0.082925  0.974650  0.151478      0.944375\n",
       "4  0.053463  0.983100  0.155468      0.947302\n",
       "5  0.049807  0.985779  0.168638      0.943538\n",
       "6  0.047395  0.985367  0.173257      0.945629\n",
       "7  0.048116  0.985367  0.170243      0.945629\n",
       "8  0.040395  0.985985  0.173014      0.944793"
      ]
     },
     "execution_count": 22,
     "metadata": {},
     "output_type": "execute_result"
    }
   ],
   "source": [
    "losses = pd.DataFrame(Dcnn.history.history)\n",
    "losses"
   ]
  },
  {
   "cell_type": "code",
   "execution_count": 23,
   "id": "b1b62bf7-433e-4a9e-b0ed-a6b57515b304",
   "metadata": {
    "tags": []
   },
   "outputs": [
    {
     "data": {
      "image/png": "[encoded data removed]",
      "text/plain": [
       "<Figure size 576x360 with 1 Axes>"
      ]
     },
     "metadata": {
      "needs_background": "light"
     },
     "output_type": "display_data"
    }
   ],
   "source": [
    "losses.plot(figsize=(8,5))\n",
    "plt.grid(True)\n",
    "plt.gca().set_ylim(0,1)\n",
    "plt.xlabel(\"Learning Curves: the mean training loss and accuracy measured over each epochs\")\n",
    "plt.savefig('images/learning_curves3.png')\n",
    "plt.show()"
   ]
  },
  {
   "cell_type": "code",
   "execution_count": 24,
   "id": "17760825-eb35-4f8c-88a0-45e94387c08d",
   "metadata": {
    "execution": {
     "iopub.execute_input": "2022-02-18T04:03:16.300441Z",
     "iopub.status.busy": "2022-02-18T04:03:16.300208Z",
     "iopub.status.idle": "2022-02-18T04:03:19.394998Z",
     "shell.execute_reply": "2022-02-18T04:03:19.394383Z",
     "shell.execute_reply.started": "2022-02-18T04:03:16.300416Z"
    },
    "tags": []
   },
   "outputs": [
    {
     "name": "stdout",
     "output_type": "stream",
     "text": [
      "11/11 [==============================] - 3s 311ms/step - loss: 0.1730 - accuracy: 0.9448\n",
      "[0.1730138063430786, 0.9447929859161377]\n"
     ]
    }
   ],
   "source": [
    "from sklearn.metrics import classification_report,confusion_matrix\n",
    "evaluation_model = Dcnn.evaluate(test_inputs, test_labels, batch_size=BATCH_SIZE)\n",
    "print(evaluation_model)"
   ]
  },
  {
   "cell_type": "code",
   "execution_count": 25,
   "id": "c9a3f93d-4398-418c-b511-69594874cc5a",
   "metadata": {
    "execution": {
     "iopub.execute_input": "2022-02-18T04:03:21.631791Z",
     "iopub.status.busy": "2022-02-18T04:03:21.631555Z",
     "iopub.status.idle": "2022-02-18T04:03:24.970695Z",
     "shell.execute_reply": "2022-02-18T04:03:24.970133Z",
     "shell.execute_reply.started": "2022-02-18T04:03:21.631766Z"
    },
    "tags": []
   },
   "outputs": [
    {
     "name": "stdout",
     "output_type": "stream",
     "text": [
      "              precision    recall  f1-score   support\n",
      "\n",
      "           0       0.94      0.98      0.96      1566\n",
      "           1       0.96      0.88      0.92       825\n",
      "\n",
      "    accuracy                           0.94      2391\n",
      "   macro avg       0.95      0.93      0.94      2391\n",
      "weighted avg       0.95      0.94      0.94      2391\n",
      "\n"
     ]
    }
   ],
   "source": [
    "# pd.DataFrame(confusion_matrix(test_labels,predictions))\n",
    "predictions = Dcnn.predict(test_inputs)\n",
    "predictions = np.where(predictions >0.8 , 1, 0)\n",
    "print(classification_report(test_labels, predictions))"
   ]
  },
  {
   "cell_type": "code",
   "execution_count": 27,
   "id": "4767688b-bfc8-4dc4-b8ec-2252f7791534",
   "metadata": {
    "execution": {
     "iopub.execute_input": "2022-02-18T04:35:33.550982Z",
     "iopub.status.busy": "2022-02-18T04:35:33.550771Z",
     "iopub.status.idle": "2022-02-18T04:35:33.573059Z",
     "shell.execute_reply": "2022-02-18T04:35:33.572572Z",
     "shell.execute_reply.started": "2022-02-18T04:35:33.550961Z"
    },
    "tags": []
   },
   "outputs": [
    {
     "data": {
      "text/html": [
       "<div>\n",
       "<style scoped>\n",
       "    .dataframe tbody tr th:only-of-type {\n",
       "        vertical-align: middle;\n",
       "    }\n",
       "\n",
       "    .dataframe tbody tr th {\n",
       "        vertical-align: top;\n",
       "    }\n",
       "\n",
       "    .dataframe thead th {\n",
       "        text-align: right;\n",
       "    }\n",
       "</style>\n",
       "<table border=\"1\" class=\"dataframe\">\n",
       "  <thead>\n",
       "    <tr style=\"text-align: right;\">\n",
       "      <th></th>\n",
       "      <th>Predictions: Not Pork(0)</th>\n",
       "      <th>Predictions:Pork(1)</th>\n",
       "    </tr>\n",
       "  </thead>\n",
       "  <tbody>\n",
       "    <tr>\n",
       "      <th>Acutal: Not Pork(0)</th>\n",
       "      <td>1535</td>\n",
       "      <td>31</td>\n",
       "    </tr>\n",
       "    <tr>\n",
       "      <th>Acutal: Pork (1)</th>\n",
       "      <td>102</td>\n",
       "      <td>723</td>\n",
       "    </tr>\n",
       "  </tbody>\n",
       "</table>\n",
       "</div>"
      ],
      "text/plain": [
       "                     Predictions: Not Pork(0)  Predictions:Pork(1)\n",
       "Acutal: Not Pork(0)                      1535                   31\n",
       "Acutal: Pork (1)                          102                  723"
      ]
     },
     "execution_count": 27,
     "metadata": {},
     "output_type": "execute_result"
    }
   ],
   "source": [
    "t = pd.DataFrame(confusion_matrix(test_labels,predictions), \n",
    "             columns=['Predictions: Not Pork(0)','Predictions:Pork(1)'])\n",
    "t.index = ['Acutal: Not Pork(0)', 'Acutal: Pork (1)']\n",
    "t"
   ]
  },
  {
   "cell_type": "markdown",
   "id": "d0416d6f-5e46-47c9-abad-f344bea7a94a",
   "metadata": {},
   "source": [
    "-------------------------\n",
    "\n",
    "### Stage 6: Try the Model with New Data and Export an End-to-end Model\n"
   ]
  },
  {
   "cell_type": "markdown",
   "id": "394b9a6e-0130-4af2-88e5-efe91cf9f348",
   "metadata": {
    "execution": {
     "iopub.execute_input": "2021-05-16T22:53:41.558105Z",
     "iopub.status.busy": "2021-05-16T22:53:41.557872Z",
     "iopub.status.idle": "2021-05-16T22:53:41.560984Z",
     "shell.execute_reply": "2021-05-16T22:53:41.560122Z",
     "shell.execute_reply.started": "2021-05-16T22:53:41.558080Z"
    }
   },
   "source": [
    "#### (1) Test New Dataset from 2000 samples from Legislative Questions from 6th Session "
   ]
  },
  {
   "cell_type": "code",
   "execution_count": 28,
   "id": "632bf33e-1df7-46c5-9a67-ab7141a949c2",
   "metadata": {
    "execution": {
     "iopub.execute_input": "2022-02-18T04:35:35.878140Z",
     "iopub.status.busy": "2022-02-18T04:35:35.877911Z",
     "iopub.status.idle": "2022-02-18T04:35:35.881318Z",
     "shell.execute_reply": "2022-02-18T04:35:35.880681Z",
     "shell.execute_reply.started": "2022-02-18T04:35:35.878116Z"
    },
    "tags": []
   },
   "outputs": [],
   "source": [
    "def as_num(x):\n",
    "    \"\"\"\n",
    "    keep 10 decimals\n",
    "    \"\"\"\n",
    "    y = '{:.15f}'.format(x) \n",
    "    return y"
   ]
  },
  {
   "cell_type": "code",
   "execution_count": 29,
   "id": "06ea7d54-49e9-4363-8304-d1dabaf3beb4",
   "metadata": {
    "execution": {
     "iopub.execute_input": "2022-02-18T05:04:01.760328Z",
     "iopub.status.busy": "2022-02-18T05:04:01.760140Z",
     "iopub.status.idle": "2022-02-18T05:04:02.017532Z",
     "shell.execute_reply": "2022-02-18T05:04:02.016907Z",
     "shell.execute_reply.started": "2022-02-18T05:04:01.760308Z"
    },
    "tags": []
   },
   "outputs": [],
   "source": [
    "import pandas as pd\n",
    "import random\n",
    "\n",
    "# test the trined model using new text from 200 samples from Leislative Questions\n",
    "LQ6 = pd.read_csv('data/LQ_6th.csv')\n",
    "\n",
    "# drop '0': legislor  never have proposed any legisaltive questions. \n",
    "LQ6 = LQ6[LQ6['title'].isin(['0'])== False]\n",
    "\n",
    "# select text with number of charecters within EMB_DIM; len(sub_set) = 11162\n",
    "# sample_df = LQ6.loc[[len(char_num) for char_num in LQ6.title if len(char_num) < MAX_LEN], ['legislator','title', 'topic', 'category', 'keywords', 'ques_type']].reset_index(drop=True)\n",
    "random.seed(42)\n",
    "sample_df = LQ6.iloc[random.sample(range(len(LQ6)), 2000)][['legislator', 'title', 'topic', 'category', 'keywords', 'ques_type']]\n",
    "sub_set = [seg_char(text) for text in [clearPucts(text) for text in sample_df.title]]\n"
   ]
  },
  {
   "cell_type": "markdown",
   "id": "68cc06a7-27d7-4007-949d-f7df81246e25",
   "metadata": {
    "tags": []
   },
   "source": [
    "##### Top 10 of 2000 Samples"
   ]
  },
  {
   "cell_type": "code",
   "execution_count": 30,
   "id": "d4b618c9-8c4b-40ec-a396-b4679233197e",
   "metadata": {
    "execution": {
     "iopub.execute_input": "2022-02-18T05:21:53.207920Z",
     "iopub.status.busy": "2022-02-18T05:21:53.207694Z",
     "iopub.status.idle": "2022-02-18T05:22:09.082009Z",
     "shell.execute_reply": "2022-02-18T05:22:09.081474Z",
     "shell.execute_reply.started": "2022-02-18T05:21:53.207896Z"
    },
    "tags": []
   },
   "outputs": [],
   "source": [
    "top = pd.DataFrame(\n",
    "    {'legislator': sample_df.legislator,\n",
    "     'Pork Value(Constituency Interest)':[as_num(Dcnn(np.array([tokenizer.encode(line)]), training=True).numpy()[0][0]) for line in sub_set],\n",
    "     'Legislative Questions ': sample_df.title,\n",
    "     'Topic': sample_df.topic,\n",
    "     'Key Word':sample_df.keywords}).sort_values(by=['Pork Value(Constituency Interest)'], ascending = False)"
   ]
  },
  {
   "cell_type": "code",
   "execution_count": 31,
   "id": "ebb1af00-93a6-4512-917c-3a817dcb1ba3",
   "metadata": {
    "execution": {
     "iopub.execute_input": "2022-02-18T14:29:40.082836Z",
     "iopub.status.busy": "2022-02-18T14:29:40.082659Z",
     "iopub.status.idle": "2022-02-18T14:29:40.094107Z",
     "shell.execute_reply": "2022-02-18T14:29:40.093174Z",
     "shell.execute_reply.started": "2022-02-18T14:29:40.082819Z"
    },
    "tags": []
   },
   "outputs": [
    {
     "data": {
      "text/html": [
       "<div>\n",
       "<style scoped>\n",
       "    .dataframe tbody tr th:only-of-type {\n",
       "        vertical-align: middle;\n",
       "    }\n",
       "\n",
       "    .dataframe tbody tr th {\n",
       "        vertical-align: top;\n",
       "    }\n",
       "\n",
       "    .dataframe thead th {\n",
       "        text-align: right;\n",
       "    }\n",
       "</style>\n",
       "<table border=\"1\" class=\"dataframe\">\n",
       "  <thead>\n",
       "    <tr style=\"text-align: right;\">\n",
       "      <th></th>\n",
       "      <th>legislator</th>\n",
       "      <th>Pork Value(Constituency Interest)</th>\n",
       "      <th>Legislative Questions</th>\n",
       "      <th>Topic</th>\n",
       "      <th>Key Word</th>\n",
       "    </tr>\n",
       "  </thead>\n",
       "  <tbody>\n",
       "    <tr>\n",
       "      <th>3999</th>\n",
       "      <td>林正峰</td>\n",
       "      <td>0.997984528541565</td>\n",
       "      <td>針對政府準備修法推動「二代健保」，健保保費採取「年度所得總額」為計算基礎，而非採用扣除免稅額...</td>\n",
       "      <td>國民 ; 健康保險 ; 保險費</td>\n",
       "      <td>二代健保 ; 年度所得總額</td>\n",
       "    </tr>\n",
       "    <tr>\n",
       "      <th>1761</th>\n",
       "      <td>彭添富</td>\n",
       "      <td>0.993900656700134</td>\n",
       "      <td>針對「辦理九十四年原住民中低收入戶家庭租屋補助計畫」專案補助計畫，特向行政院提出質詢。</td>\n",
       "      <td>原住民族生活</td>\n",
       "      <td>原住民中低收入戶 ; 租屋補助</td>\n",
       "    </tr>\n",
       "    <tr>\n",
       "      <th>9892</th>\n",
       "      <td>陳啟昱</td>\n",
       "      <td>0.983349025249481</td>\n",
       "      <td>鑑於現行《所得稅法》第十七條規定特別扣除額教育支出部分，僅以納稅義務人之子女就讀大專院校為限...</td>\n",
       "      <td>所得稅 ; 教育費用 ; 扣除額</td>\n",
       "      <td>所得稅法 ; 特別扣除額 ; 教育支出</td>\n",
       "    </tr>\n",
       "    <tr>\n",
       "      <th>35</th>\n",
       "      <td>丁守中</td>\n",
       "      <td>0.982606768608093</td>\n",
       "      <td>針就民眾陳情指出，目前政府對身心障礙者提供之生活津貼，依身心障礙程度等級分為1000元至50...</td>\n",
       "      <td>身心障礙者福利</td>\n",
       "      <td>身心障礙者生活津貼</td>\n",
       "    </tr>\n",
       "    <tr>\n",
       "      <th>1296</th>\n",
       "      <td>廖婉汝</td>\n",
       "      <td>0.981518507003784</td>\n",
       "      <td>針對高高屏三縣市家庭收入偏低，要求政府應設法為高高屏三縣市創造就業機會，以提高高高屏三縣市之...</td>\n",
       "      <td>貧富差距 ; 低收入戶 ; 失業</td>\n",
       "      <td>家庭收入 ; 就業機會</td>\n",
       "    </tr>\n",
       "    <tr>\n",
       "      <th>1706</th>\n",
       "      <td>彭添富</td>\n",
       "      <td>0.970739841461182</td>\n",
       "      <td>針對「觀音鄉保生社區風貌營造規劃設計」專案補助計畫，特向行政院提出質詢。</td>\n",
       "      <td>社區計畫 ; 政府補助</td>\n",
       "      <td>保生社區</td>\n",
       "    </tr>\n",
       "    <tr>\n",
       "      <th>4553</th>\n",
       "      <td>林鴻池</td>\n",
       "      <td>0.965465903282166</td>\n",
       "      <td>針對行政院宣布補助弱勢家庭子女就讀私校高中職之學費，卻將資格限制在「非自願就讀者」，有畫餅充...</td>\n",
       "      <td>低收入戶 ; 教育補助</td>\n",
       "      <td>弱勢家庭 ; 私立高中職</td>\n",
       "    </tr>\n",
       "    <tr>\n",
       "      <th>188</th>\n",
       "      <td>丁守中</td>\n",
       "      <td>0.959367930889130</td>\n",
       "      <td>針就「國軍退除役官兵就養安置辦法」第七條第一項第五款規定：「全家人口所有之土地及房屋公告現值...</td>\n",
       "      <td>退除役官兵 ; 榮民生活輔導</td>\n",
       "      <td>國軍退除役官兵就養安置辦法</td>\n",
       "    </tr>\n",
       "    <tr>\n",
       "      <th>8531</th>\n",
       "      <td>薛凌</td>\n",
       "      <td>0.953232884407043</td>\n",
       "      <td>針對雲林縣政府擬訂「雲林縣地方稅徵收自治條例」草案，開始對煉油廠及煉鋼鐵廠開徵「綠稅」。本席...</td>\n",
       "      <td>地方稅</td>\n",
       "      <td>地方稅 ; 綠稅 ; 空氣汙染防治法</td>\n",
       "    </tr>\n",
       "    <tr>\n",
       "      <th>2601</th>\n",
       "      <td>李復興</td>\n",
       "      <td>0.947136521339417</td>\n",
       "      <td>發現自九十三年一月間起，勞保局陸續清查有一千多名國、公營事業退休員工溢領敬老津貼，截至93年...</td>\n",
       "      <td>老年給付 ; 勞工退休</td>\n",
       "      <td>公營事業退休員工 ; 溢領敬老津貼</td>\n",
       "    </tr>\n",
       "  </tbody>\n",
       "</table>\n",
       "</div>"
      ],
      "text/plain": [
       "     legislator Pork Value(Constituency Interest)  \\\n",
       "3999        林正峰                 0.997984528541565   \n",
       "1761        彭添富                 0.993900656700134   \n",
       "9892        陳啟昱                 0.983349025249481   \n",
       "35          丁守中                 0.982606768608093   \n",
       "1296        廖婉汝                 0.981518507003784   \n",
       "1706        彭添富                 0.970739841461182   \n",
       "4553        林鴻池                 0.965465903282166   \n",
       "188         丁守中                 0.959367930889130   \n",
       "8531         薛凌                 0.953232884407043   \n",
       "2601        李復興                 0.947136521339417   \n",
       "\n",
       "                                 Legislative Questions              Topic  \\\n",
       "3999  針對政府準備修法推動「二代健保」，健保保費採取「年度所得總額」為計算基礎，而非採用扣除免稅額...   國民 ; 健康保險 ; 保險費   \n",
       "1761        針對「辦理九十四年原住民中低收入戶家庭租屋補助計畫」專案補助計畫，特向行政院提出質詢。            原住民族生活   \n",
       "9892  鑑於現行《所得稅法》第十七條規定特別扣除額教育支出部分，僅以納稅義務人之子女就讀大專院校為限...  所得稅 ; 教育費用 ; 扣除額   \n",
       "35    針就民眾陳情指出，目前政府對身心障礙者提供之生活津貼，依身心障礙程度等級分為1000元至50...           身心障礙者福利   \n",
       "1296  針對高高屏三縣市家庭收入偏低，要求政府應設法為高高屏三縣市創造就業機會，以提高高高屏三縣市之...  貧富差距 ; 低收入戶 ; 失業   \n",
       "1706               針對「觀音鄉保生社區風貌營造規劃設計」專案補助計畫，特向行政院提出質詢。       社區計畫 ; 政府補助   \n",
       "4553  針對行政院宣布補助弱勢家庭子女就讀私校高中職之學費，卻將資格限制在「非自願就讀者」，有畫餅充...       低收入戶 ; 教育補助   \n",
       "188   針就「國軍退除役官兵就養安置辦法」第七條第一項第五款規定：「全家人口所有之土地及房屋公告現值...    退除役官兵 ; 榮民生活輔導   \n",
       "8531  針對雲林縣政府擬訂「雲林縣地方稅徵收自治條例」草案，開始對煉油廠及煉鋼鐵廠開徵「綠稅」。本席...               地方稅   \n",
       "2601  發現自九十三年一月間起，勞保局陸續清查有一千多名國、公營事業退休員工溢領敬老津貼，截至93年...       老年給付 ; 勞工退休   \n",
       "\n",
       "                 Key Word  \n",
       "3999        二代健保 ; 年度所得總額  \n",
       "1761      原住民中低收入戶 ; 租屋補助  \n",
       "9892  所得稅法 ; 特別扣除額 ; 教育支出  \n",
       "35              身心障礙者生活津貼  \n",
       "1296          家庭收入 ; 就業機會  \n",
       "1706                 保生社區  \n",
       "4553         弱勢家庭 ; 私立高中職  \n",
       "188         國軍退除役官兵就養安置辦法  \n",
       "8531   地方稅 ; 綠稅 ; 空氣汙染防治法  \n",
       "2601    公營事業退休員工 ; 溢領敬老津貼  "
      ]
     },
     "execution_count": 31,
     "metadata": {},
     "output_type": "execute_result"
    }
   ],
   "source": [
    "top.head(10)"
   ]
  },
  {
   "cell_type": "markdown",
   "id": "6a6d4b15-3e05-427d-a664-8c8ce4e6622c",
   "metadata": {},
   "source": [
    "##### Last 10 Rows of 2000 Samples"
   ]
  },
  {
   "cell_type": "code",
   "execution_count": 32,
   "id": "5444905f-b027-4116-9ecc-1e9dec58dd45",
   "metadata": {
    "execution": {
     "iopub.execute_input": "2022-02-18T14:29:45.467286Z",
     "iopub.status.busy": "2022-02-18T14:29:45.466984Z",
     "iopub.status.idle": "2022-02-18T14:29:45.482142Z",
     "shell.execute_reply": "2022-02-18T14:29:45.481257Z",
     "shell.execute_reply.started": "2022-02-18T14:29:45.467255Z"
    }
   },
   "outputs": [
    {
     "data": {
      "text/html": [
       "<div>\n",
       "<style scoped>\n",
       "    .dataframe tbody tr th:only-of-type {\n",
       "        vertical-align: middle;\n",
       "    }\n",
       "\n",
       "    .dataframe tbody tr th {\n",
       "        vertical-align: top;\n",
       "    }\n",
       "\n",
       "    .dataframe thead th {\n",
       "        text-align: right;\n",
       "    }\n",
       "</style>\n",
       "<table border=\"1\" class=\"dataframe\">\n",
       "  <thead>\n",
       "    <tr style=\"text-align: right;\">\n",
       "      <th></th>\n",
       "      <th>legislator</th>\n",
       "      <th>Pork Value(Constituency Interest)</th>\n",
       "      <th>Legislative Questions</th>\n",
       "      <th>Topic</th>\n",
       "      <th>Key Word</th>\n",
       "    </tr>\n",
       "  </thead>\n",
       "  <tbody>\n",
       "    <tr>\n",
       "      <th>5952</th>\n",
       "      <td>王塗發</td>\n",
       "      <td>0.000024935230613</td>\n",
       "      <td>針對行政院金融監督管理委員會（金管會）宣稱，台灣上市上櫃公司投資中國累計匯回資金比例達7.9...</td>\n",
       "      <td>大陸政策 ; 對外投資</td>\n",
       "      <td>投資中國 ; 台商資金匯回</td>\n",
       "    </tr>\n",
       "    <tr>\n",
       "      <th>6091</th>\n",
       "      <td>王幸男</td>\n",
       "      <td>0.000018786089640</td>\n",
       "      <td>針對道路人孔蓋或管線挖掘後回填品質不佳，或是公共安全沒有做好，導致各種傷害和死亡案件，一直居...</td>\n",
       "      <td>公共安全</td>\n",
       "      <td>人孔蓋 ; 公共安全 ; 道路品質</td>\n",
       "    </tr>\n",
       "    <tr>\n",
       "      <th>987</th>\n",
       "      <td>周守訓</td>\n",
       "      <td>0.000017772274077</td>\n",
       "      <td>針對中選會擬在年底三合一選舉，取消投票人領票後在身分證上蓋印戳記的措施，再度掀起軒然大波。在...</td>\n",
       "      <td>選務 ; 國民身分證</td>\n",
       "      <td>三合一選舉 ; 身分證 ; 戳記</td>\n",
       "    </tr>\n",
       "    <tr>\n",
       "      <th>9039</th>\n",
       "      <td>邱毅</td>\n",
       "      <td>0.000016143705579</td>\n",
       "      <td>針對新聞局認定TVBS應為綜合台非新聞台乙案，準備將TVBS轉頻一事，日前行政院新聞局認定T...</td>\n",
       "      <td>新聞自由 ; 電視臺</td>\n",
       "      <td>TVBS ; 股權結構 ; 外資 ; 國家通訊傳播委員會組織法 ; NCC ; 報導自由</td>\n",
       "    </tr>\n",
       "    <tr>\n",
       "      <th>716</th>\n",
       "      <td>吳敦義</td>\n",
       "      <td>0.000015349467503</td>\n",
       "      <td>針對新聞局長謝志偉於立院議場備詢時，被要求下台，卻堅不下台一事，顯示行政院對憲法之基本尊重全...</td>\n",
       "      <td>政務官 ; 立法院</td>\n",
       "      <td>新聞局長謝志偉 ; 立院議場</td>\n",
       "    </tr>\n",
       "    <tr>\n",
       "      <th>5595</th>\n",
       "      <td>潘孟安</td>\n",
       "      <td>0.000015027324480</td>\n",
       "      <td>就立法委員選舉，改採單一選區兩票制即將首度實施，中央選舉委員應加強宣導「單一選區兩票制」的新...</td>\n",
       "      <td>選舉</td>\n",
       "      <td>立法委員選舉 ; 單一選區兩票制</td>\n",
       "    </tr>\n",
       "    <tr>\n",
       "      <th>5603</th>\n",
       "      <td>潘孟安</td>\n",
       "      <td>0.000011717955203</td>\n",
       "      <td>就我國經濟弊案，近8年起訴金額高達2,767億元，而重大經濟罪犯動輒潛逃出境，每判一個就逃一...</td>\n",
       "      <td>經濟犯罪 ; 脫逃罪</td>\n",
       "      <td>經濟罪犯 ; 潛逃出境 ; 國際司法互助</td>\n",
       "    </tr>\n",
       "    <tr>\n",
       "      <th>6098</th>\n",
       "      <td>王幸男</td>\n",
       "      <td>0.000009378164577</td>\n",
       "      <td>針對民進黨所提「以台灣名義加入聯合國」公投案，日前被藍營委員佔多數的行政院公民投票審議委員會...</td>\n",
       "      <td>公民投票 ; 國際組織</td>\n",
       "      <td>公投以台灣名義加入聯合國</td>\n",
       "    </tr>\n",
       "    <tr>\n",
       "      <th>11157</th>\n",
       "      <td>黃適卓</td>\n",
       "      <td>0.000009029073226</td>\n",
       "      <td>鑒於《汽車強制責任保險法》之立法目的原本是為使汽車交通事故所致傷害或死亡之受害人，迅速獲得基...</td>\n",
       "      <td>交通安全 ; 責任險 ; 保險給付</td>\n",
       "      <td>汽車強制責任保險法 ; 理賠給付</td>\n",
       "    </tr>\n",
       "    <tr>\n",
       "      <th>6636</th>\n",
       "      <td>王幸男</td>\n",
       "      <td>0.000005747718205</td>\n",
       "      <td>針對「莊嚴肅穆」的行憲紀念日，在威權時代「今天應懸掛國旗」，不過，在愈來愈多人的真實生活中，...</td>\n",
       "      <td>紀念活動 ; 憲政運作</td>\n",
       "      <td>聖誕節 ; 行憲紀念日 ; 制憲權</td>\n",
       "    </tr>\n",
       "  </tbody>\n",
       "</table>\n",
       "</div>"
      ],
      "text/plain": [
       "      legislator Pork Value(Constituency Interest)  \\\n",
       "5952         王塗發                 0.000024935230613   \n",
       "6091         王幸男                 0.000018786089640   \n",
       "987          周守訓                 0.000017772274077   \n",
       "9039          邱毅                 0.000016143705579   \n",
       "716          吳敦義                 0.000015349467503   \n",
       "5595         潘孟安                 0.000015027324480   \n",
       "5603         潘孟安                 0.000011717955203   \n",
       "6098         王幸男                 0.000009378164577   \n",
       "11157        黃適卓                 0.000009029073226   \n",
       "6636         王幸男                 0.000005747718205   \n",
       "\n",
       "                                  Legislative Questions               Topic  \\\n",
       "5952   針對行政院金融監督管理委員會（金管會）宣稱，台灣上市上櫃公司投資中國累計匯回資金比例達7.9...        大陸政策 ; 對外投資   \n",
       "6091   針對道路人孔蓋或管線挖掘後回填品質不佳，或是公共安全沒有做好，導致各種傷害和死亡案件，一直居...               公共安全   \n",
       "987    針對中選會擬在年底三合一選舉，取消投票人領票後在身分證上蓋印戳記的措施，再度掀起軒然大波。在...         選務 ; 國民身分證   \n",
       "9039   針對新聞局認定TVBS應為綜合台非新聞台乙案，準備將TVBS轉頻一事，日前行政院新聞局認定T...         新聞自由 ; 電視臺   \n",
       "716    針對新聞局長謝志偉於立院議場備詢時，被要求下台，卻堅不下台一事，顯示行政院對憲法之基本尊重全...          政務官 ; 立法院   \n",
       "5595   就立法委員選舉，改採單一選區兩票制即將首度實施，中央選舉委員應加強宣導「單一選區兩票制」的新...                 選舉   \n",
       "5603   就我國經濟弊案，近8年起訴金額高達2,767億元，而重大經濟罪犯動輒潛逃出境，每判一個就逃一...         經濟犯罪 ; 脫逃罪   \n",
       "6098   針對民進黨所提「以台灣名義加入聯合國」公投案，日前被藍營委員佔多數的行政院公民投票審議委員會...        公民投票 ; 國際組織   \n",
       "11157  鑒於《汽車強制責任保險法》之立法目的原本是為使汽車交通事故所致傷害或死亡之受害人，迅速獲得基...  交通安全 ; 責任險 ; 保險給付   \n",
       "6636   針對「莊嚴肅穆」的行憲紀念日，在威權時代「今天應懸掛國旗」，不過，在愈來愈多人的真實生活中，...        紀念活動 ; 憲政運作   \n",
       "\n",
       "                                           Key Word  \n",
       "5952                                  投資中國 ; 台商資金匯回  \n",
       "6091                              人孔蓋 ; 公共安全 ; 道路品質  \n",
       "987                                三合一選舉 ; 身分證 ; 戳記  \n",
       "9039   TVBS ; 股權結構 ; 外資 ; 國家通訊傳播委員會組織法 ; NCC ; 報導自由  \n",
       "716                                  新聞局長謝志偉 ; 立院議場  \n",
       "5595                               立法委員選舉 ; 單一選區兩票制  \n",
       "5603                           經濟罪犯 ; 潛逃出境 ; 國際司法互助  \n",
       "6098                                   公投以台灣名義加入聯合國  \n",
       "11157                              汽車強制責任保險法 ; 理賠給付  \n",
       "6636                              聖誕節 ; 行憲紀念日 ; 制憲權  "
      ]
     },
     "execution_count": 32,
     "metadata": {},
     "output_type": "execute_result"
    }
   ],
   "source": [
    "top.tail(10)"
   ]
  },
  {
   "cell_type": "markdown",
   "id": "5dc01475-847a-408f-9972-ac02e7aa4721",
   "metadata": {},
   "source": [
    "#### (2) Export an End-to-end Model\n"
   ]
  },
  {
   "cell_type": "code",
   "execution_count": null,
   "id": "196028d0-edfe-434f-a173-4ccaa688faaa",
   "metadata": {
    "tags": []
   },
   "outputs": [],
   "source": [
    "from tensorflow.keras.models import load_model"
   ]
  },
  {
   "cell_type": "code",
   "execution_count": null,
   "id": "071291d0-c5bb-48de-adb2-f8b2bb3bb542",
   "metadata": {
    "tags": []
   },
   "outputs": [],
   "source": [
    "# Get model (Sequential, Functional Model, or Model subclass)\n",
    "Dcnn.save('lour_pork_model')"
   ]
  },
  {
   "cell_type": "code",
   "execution_count": null,
   "id": "2ac46183-b841-469b-8897-1fea2922e445",
   "metadata": {
    "tags": []
   },
   "outputs": [],
   "source": [
    "from tensorflow import keras\n",
    "model = keras.models.load_model('lour_pork_model')"
   ]
  }
 ],
 "metadata": {
  "kernelspec": {
   "display_name": "Python 3 (ipykernel)",
   "language": "python",
   "name": "python3"
  },
  "language_info": {
   "codemirror_mode": {
    "name": "ipython",
    "version": 3
   },
   "file_extension": ".py",
   "mimetype": "text/x-python",
   "name": "python",
   "nbconvert_exporter": "python",
   "pygments_lexer": "ipython3",
   "version": "3.7.11"
  },
  "widgets": {
   "application/vnd.jupyter.widget-state+json": {
    "state": {},
    "version_major": 2,
    "version_minor": 0
   }
  }
 },
 "nbformat": 4,
 "nbformat_minor": 5
}
