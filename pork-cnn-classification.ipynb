{
 "cells": [
  {
   "cell_type": "markdown",
   "id": "b65dfbdc-bb80-4bd4-8248-dd06483222cd",
   "metadata": {},
   "source": [
    "# Lour's Pork Barrel Classifier (羅老師肉桶文本分類器)🐖\n",
    "## Convolutional Neural Networks for Pork Barrel Project Classification \n",
    "\n",
    "\n",
    "author: davidycliao(David Yen-Chieh Liao)                                                                      \n",
    "email: davidycliao@gmail.com                                                             \n",
    "date: 9-July-2021    "
   ]
  },
  {
   "cell_type": "markdown",
   "id": "e8005d5a-f938-4c26-86d5-592408152d08",
   "metadata": {},
   "source": [
    "-------------------------\n",
    "\n",
    "### Stage 1: Libaries & Dependencies"
   ]
  },
  {
   "cell_type": "code",
   "execution_count": 1,
   "id": "6ca92ba3-7480-418f-91e0-d2beea2d10af",
   "metadata": {
    "execution": {
     "iopub.execute_input": "2021-07-04T18:36:48.294273Z",
     "iopub.status.busy": "2021-07-04T18:36:48.294044Z",
     "iopub.status.idle": "2021-07-04T18:36:53.888203Z",
     "shell.execute_reply": "2021-07-04T18:36:53.887487Z",
     "shell.execute_reply.started": "2021-07-04T18:36:48.294249Z"
    },
    "tags": []
   },
   "outputs": [],
   "source": [
    "# built-in library\n",
    "import math\n",
    "import re\n",
    "import collections\n",
    "import zipfile\n",
    "import random\n",
    "from itertools import chain\n",
    "\n",
    "# ML & Deep Learning/ NLP toolkit\n",
    "import pandas as pd\n",
    "import numpy as np\n",
    "import jieba\n",
    "from sklearn.model_selection import train_test_split\n",
    "import tensorflow as tf\n",
    "from tensorflow.keras import layers\n",
    "import tensorflow_datasets as tfds\n",
    "from tensorflow.keras.callbacks import EarlyStopping,TensorBoard\n",
    "\n",
    "# Visualization\n",
    "import matplotlib.pyplot as plt\n",
    "import seaborn as sns"
   ]
  },
  {
   "cell_type": "markdown",
   "id": "8bd77e05-355a-422f-87db-2cf77cba3bdd",
   "metadata": {},
   "source": [
    "-------------------------\n",
    "\n",
    "### Stage 2: Data Preprocessing (Training Data: Introduction of Bills and Legislation from 6th Session to 7th Session, 2004-2012)"
   ]
  },
  {
   "cell_type": "markdown",
   "id": "3b57b9c9-443e-4e26-bda2-15f6877845d5",
   "metadata": {},
   "source": [
    "#### (1) Read file "
   ]
  },
  {
   "cell_type": "code",
   "execution_count": 2,
   "id": "e1973cfb-73d4-4717-a67a-a4e8a0c9edb0",
   "metadata": {
    "execution": {
     "iopub.execute_input": "2021-07-04T18:36:53.889651Z",
     "iopub.status.busy": "2021-07-04T18:36:53.889424Z",
     "iopub.status.idle": "2021-07-04T18:36:53.942250Z",
     "shell.execute_reply": "2021-07-04T18:36:53.941571Z",
     "shell.execute_reply.started": "2021-07-04T18:36:53.889626Z"
    },
    "tags": []
   },
   "outputs": [],
   "source": [
    "# read file\n",
    "df = pd.read_csv('data/Pork Bill - 2021-05-20.csv',encoding='utf-8')\n",
    "\n",
    "# combine abstract of bill and title \n",
    "df['text'] =  df['Title'] + df['Content'].fillna(df['Title'])\n",
    "\n",
    "# drop conten without having any characters\n",
    "# view na's row: df[df['text'].isnull()==True]\n",
    "data = df[['text', 'pork_bill']].dropna(subset=['text'])"
   ]
  },
  {
   "cell_type": "code",
   "execution_count": 32,
   "id": "f6160785-9522-4404-8f77-6df941869cde",
   "metadata": {
    "execution": {
     "iopub.execute_input": "2021-07-05T02:38:57.116838Z",
     "iopub.status.busy": "2021-07-05T02:38:57.116605Z",
     "iopub.status.idle": "2021-07-05T02:38:57.171676Z",
     "shell.execute_reply": "2021-07-05T02:38:57.171164Z",
     "shell.execute_reply.started": "2021-07-05T02:38:57.116812Z"
    },
    "tags": []
   },
   "outputs": [
    {
     "name": "stdout",
     "output_type": "stream",
     "text": [
      " Pork Legislation 2510 \n",
      " None-Pork Legislation 4733\n"
     ]
    }
   ],
   "source": [
    "print(\" Pork Legislation\", data['pork_bill'].value_counts()[1],'\\n', \n",
    "      \"None-Pork Legislation\", data['pork_bill'].value_counts()[0])"
   ]
  },
  {
   "cell_type": "code",
   "execution_count": 80,
   "id": "11f1b3ab-7f1e-40b0-995a-e66ae58da102",
   "metadata": {
    "execution": {
     "iopub.execute_input": "2021-07-05T02:58:19.139074Z",
     "iopub.status.busy": "2021-07-05T02:58:19.138838Z",
     "iopub.status.idle": "2021-07-05T02:58:19.240053Z",
     "shell.execute_reply": "2021-07-05T02:58:19.239499Z",
     "shell.execute_reply.started": "2021-07-05T02:58:19.139048Z"
    },
    "tags": []
   },
   "outputs": [
    {
     "data": {
      "image/png": "[encoded data removed]",
      "text/plain": [
       "<Figure size 720x432 with 1 Axes>"
      ]
     },
     "metadata": {},
     "output_type": "display_data"
    }
   ],
   "source": [
    "import matplotlib.pyplot as plt\n",
    "plt.figure(figsize=(10, 6))\n",
    "pork_plot = pd.DataFrame({\"num\":data['pork_bill'].value_counts(), \"type\":['Not Pork','Pork']})\n",
    "plt.bar(pork_plot['type'], pork_plot['num'], color='#57A1AB')\n",
    "plt.show()"
   ]
  },
  {
   "cell_type": "markdown",
   "id": "5e6d677d-e200-40e6-9252-130eb02fc682",
   "metadata": {
    "execution": {
     "iopub.execute_input": "2021-05-16T17:01:03.001989Z",
     "iopub.status.busy": "2021-05-16T17:01:03.001801Z",
     "iopub.status.idle": "2021-05-16T17:01:03.004600Z",
     "shell.execute_reply": "2021-05-16T17:01:03.003789Z",
     "shell.execute_reply.started": "2021-05-16T17:01:03.001969Z"
    }
   },
   "source": [
    "#### (2) Tokenization"
   ]
  },
  {
   "cell_type": "code",
   "execution_count": 4,
   "id": "120e8b54-7f75-4ca6-a0d0-9872b1522e8e",
   "metadata": {
    "execution": {
     "iopub.execute_input": "2021-07-04T18:36:53.951244Z",
     "iopub.status.busy": "2021-07-04T18:36:53.950880Z",
     "iopub.status.idle": "2021-07-04T18:36:53.960980Z",
     "shell.execute_reply": "2021-07-04T18:36:53.959981Z",
     "shell.execute_reply.started": "2021-07-04T18:36:53.951213Z"
    },
    "tags": []
   },
   "outputs": [],
   "source": [
    "import collections\n",
    "import numpy as np\n",
    "import jieba\n",
    "from itertools import chain\n",
    "\n",
    "\n",
    "def jieba_cut(filename):\n",
    "    \"\"\"\n",
    "    cut Chinese and remove stop words\n",
    "    Reference: https://www.cnblogs.com/Luv-GEM/p/10836454.html\n",
    "    Stopwords: https://www.kaggle.com/rikdifos/english-and-chinese-stopwords?select=cn_stopwords.txt\n",
    "    \"\"\"\n",
    "    stop_list = [i.strip() for i in open('cn_stopwords.txt','r',encoding='utf-8')]  \n",
    "    news_cut = []\n",
    "    news_list = []\n",
    "    for line in filename:    \n",
    "        if line:\n",
    "            news_cut = list(jieba.cut(''.join(line),cut_all=False,HMM=True))  \n",
    "            news_list.append([word.strip() for word in news_cut if word not in stop_list and len(word.strip())>0]) \n",
    "    news_list = list(chain.from_iterable(news_list))  \n",
    "    return news_list\n",
    "\n",
    "def clearPucts(context):\n",
    "    \"\"\"\n",
    "    remove punctuation\n",
    "    ref: https://chenyuzuoo.github.io/posts/28001/\n",
    "    \"\"\"\n",
    "    context = re.sub(\"[\\s+\\.\\!\\/_,$%^*(+\\\"\\']+|[+——！，。？、~@#￥%……&*（）]+\", \"\", context)\n",
    "    context = re.sub(\"[【】╮╯▽╰╭★→「」]+\",\"\", context)\n",
    "    context = re.sub(\"！，❤。～《》：（）【】「」？”“；：、\",\"\",context)\n",
    "    context = re.sub(\"\\s\",\"\",context)\n",
    "    return context\n",
    "\n",
    "def seg_char(sent):\n",
    "    \"\"\"\n",
    "    cut Chinese and remove stop words\n",
    "    ref: https://blog.csdn.net/renyuanfang/article/details/86487367\n",
    "    \"\"\"\n",
    "    # split\n",
    "    pattern_char_1 = re.compile(r'([\\W])')\n",
    "    parts = pattern_char_1.split(sent)\n",
    "    parts = [p for p in parts if len(p.strip())>0]\n",
    "    # cut sentence\n",
    "    pattern = re.compile(r'([\\u4e00-\\u9fa5])')\n",
    "    chars = pattern.split(sent)\n",
    "    chars = [w for w in chars if len(w.strip())>0]\n",
    "    chars = ' '.join(chars)\n",
    "    return chars"
   ]
  },
  {
   "cell_type": "code",
   "execution_count": 5,
   "id": "25f4277c-001d-47a4-81d0-f5ac5ec5e5d3",
   "metadata": {
    "execution": {
     "iopub.execute_input": "2021-07-04T18:36:53.964518Z",
     "iopub.status.busy": "2021-07-04T18:36:53.963767Z",
     "iopub.status.idle": "2021-07-04T18:36:56.831618Z",
     "shell.execute_reply": "2021-07-04T18:36:56.828617Z",
     "shell.execute_reply.started": "2021-07-04T18:36:53.964440Z"
    },
    "tags": []
   },
   "outputs": [],
   "source": [
    "data_clean = [seg_char(text) for text in [clearPucts(text) for text in data.text]]\n",
    "\n",
    "tokenizer = tfds.deprecated.text.SubwordTextEncoder.build_from_corpus(\n",
    "    data_clean, target_vocab_size=2**18)\n",
    "\n",
    "data_inputs = [tokenizer.encode(sentence) for sentence in data_clean]"
   ]
  },
  {
   "cell_type": "markdown",
   "id": "089e65af-e49c-4d60-962e-a0a826809aa5",
   "metadata": {
    "execution": {
     "iopub.execute_input": "2021-05-16T17:01:47.611294Z",
     "iopub.status.busy": "2021-05-16T17:01:47.611020Z",
     "iopub.status.idle": "2021-05-16T17:01:47.614208Z",
     "shell.execute_reply": "2021-05-16T17:01:47.613487Z",
     "shell.execute_reply.started": "2021-05-16T17:01:47.611276Z"
    }
   },
   "source": [
    "#### (3) Padding"
   ]
  },
  {
   "cell_type": "code",
   "execution_count": 6,
   "id": "b801d231-972c-47e3-83c4-7375c2e11a18",
   "metadata": {
    "execution": {
     "iopub.execute_input": "2021-07-04T18:36:56.841423Z",
     "iopub.status.busy": "2021-07-04T18:36:56.840558Z",
     "iopub.status.idle": "2021-07-04T18:36:56.925831Z",
     "shell.execute_reply": "2021-07-04T18:36:56.925271Z",
     "shell.execute_reply.started": "2021-07-04T18:36:56.841332Z"
    },
    "tags": []
   },
   "outputs": [],
   "source": [
    "MAX_LEN = max([len(sentence) for sentence in data_clean])\n",
    "data_inputs = tf.keras.preprocessing.sequence.pad_sequences(data_inputs,\n",
    "                                                            value=0,\n",
    "                                                            padding=\"post\",\n",
    "                                                            maxlen=MAX_LEN)\n"
   ]
  },
  {
   "cell_type": "code",
   "execution_count": 7,
   "id": "8a08620f-dd8d-44ff-81f3-f25d35011bb1",
   "metadata": {
    "execution": {
     "iopub.execute_input": "2021-07-04T18:36:56.927875Z",
     "iopub.status.busy": "2021-07-04T18:36:56.927693Z",
     "iopub.status.idle": "2021-07-04T18:36:56.932518Z",
     "shell.execute_reply": "2021-07-04T18:36:56.931953Z",
     "shell.execute_reply.started": "2021-07-04T18:36:56.927852Z"
    },
    "tags": []
   },
   "outputs": [
    {
     "data": {
      "text/plain": [
       "785"
      ]
     },
     "execution_count": 7,
     "metadata": {},
     "output_type": "execute_result"
    }
   ],
   "source": [
    "MAX_LEN"
   ]
  },
  {
   "cell_type": "code",
   "execution_count": 8,
   "id": "bd561c2c-9c98-46c3-91a9-9bdb8f160344",
   "metadata": {
    "execution": {
     "iopub.execute_input": "2021-07-04T18:36:56.933704Z",
     "iopub.status.busy": "2021-07-04T18:36:56.933420Z",
     "iopub.status.idle": "2021-07-04T18:36:56.937021Z",
     "shell.execute_reply": "2021-07-04T18:36:56.936496Z",
     "shell.execute_reply.started": "2021-07-04T18:36:56.933680Z"
    },
    "tags": []
   },
   "outputs": [
    {
     "data": {
      "text/plain": [
       "(7243, 785)"
      ]
     },
     "execution_count": 8,
     "metadata": {},
     "output_type": "execute_result"
    }
   ],
   "source": [
    "data_inputs.shape"
   ]
  },
  {
   "cell_type": "markdown",
   "id": "f69d90cf-ac3c-4e08-b46b-457d9708d832",
   "metadata": {
    "execution": {
     "iopub.execute_input": "2021-05-16T17:02:28.107037Z",
     "iopub.status.busy": "2021-05-16T17:02:28.106843Z",
     "iopub.status.idle": "2021-05-16T17:02:28.109696Z",
     "shell.execute_reply": "2021-05-16T17:02:28.108954Z",
     "shell.execute_reply.started": "2021-05-16T17:02:28.107017Z"
    }
   },
   "source": [
    "#### (4) Spliting Training / Testing Set"
   ]
  },
  {
   "cell_type": "code",
   "execution_count": 9,
   "id": "42503355-eea3-4602-ae5a-ea18be84b8d1",
   "metadata": {
    "execution": {
     "iopub.execute_input": "2021-07-04T18:36:56.937802Z",
     "iopub.status.busy": "2021-07-04T18:36:56.937675Z",
     "iopub.status.idle": "2021-07-04T18:36:56.940115Z",
     "shell.execute_reply": "2021-07-04T18:36:56.939591Z",
     "shell.execute_reply.started": "2021-07-04T18:36:56.937785Z"
    },
    "tags": []
   },
   "outputs": [],
   "source": [
    "data_labels = data.pork_bill.values"
   ]
  },
  {
   "cell_type": "code",
   "execution_count": 33,
   "id": "19235117-f63a-4e06-a102-6efe98c37dbf",
   "metadata": {
    "execution": {
     "iopub.execute_input": "2021-07-05T02:39:05.250823Z",
     "iopub.status.busy": "2021-07-05T02:39:05.250600Z",
     "iopub.status.idle": "2021-07-05T02:39:05.338955Z",
     "shell.execute_reply": "2021-07-05T02:39:05.338318Z",
     "shell.execute_reply.started": "2021-07-05T02:39:05.250799Z"
    },
    "tags": []
   },
   "outputs": [
    {
     "name": "stdout",
     "output_type": "stream",
     "text": [
      "Shape of X Train: (4852, 785) \n",
      "Shape of X Test : (2391, 785) \n",
      "Shape of Y Trian: (4852,) \n",
      "Shape of Y Test : (2391,)\n"
     ]
    }
   ],
   "source": [
    "import numpy as np\n",
    "from sklearn.model_selection import train_test_split\n",
    "train_inputs, test_inputs, train_labels, test_labels = train_test_split(\n",
    "    data_inputs, data_labels, test_size=0.33, random_state=42)\n",
    "\n",
    "print(\"Shape of X Train:\", train_inputs.shape, '\\n'\n",
    "      \"Shape of X Test :\", test_inputs.shape,'\\n'\n",
    "      \"Shape of Y Trian:\", train_labels.shape , '\\n'\n",
    "      \"Shape of Y Test :\", test_labels.shape )"
   ]
  },
  {
   "cell_type": "code",
   "execution_count": 89,
   "id": "6f10cb5c-7c8d-4e1e-a987-11b8de8e42d0",
   "metadata": {
    "execution": {
     "iopub.execute_input": "2021-07-05T03:00:31.862532Z",
     "iopub.status.busy": "2021-07-05T03:00:31.862316Z",
     "iopub.status.idle": "2021-07-05T03:00:31.866613Z",
     "shell.execute_reply": "2021-07-05T03:00:31.865849Z",
     "shell.execute_reply.started": "2021-07-05T03:00:31.862508Z"
    },
    "tags": []
   },
   "outputs": [
    {
     "name": "stdout",
     "output_type": "stream",
     "text": [
      " Num of Train Set: 4852 \n",
      " Not Pork vs Pork: {0: 3167, 1: 1685}\n"
     ]
    }
   ],
   "source": [
    "unique_train_labels, counts_train_labels = np.unique(train_labels, return_counts=True)\n",
    "\n",
    "print(' Num of Train Set:' , train_inputs.shape[0], '\\n'\n",
    "      ,'Not Pork vs Pork:', dict(zip(unique_train_labels, counts_train_labels)))"
   ]
  },
  {
   "cell_type": "code",
   "execution_count": 109,
   "id": "f545a34d-f506-4db5-a8df-c0a89cb77a16",
   "metadata": {
    "execution": {
     "iopub.execute_input": "2021-07-05T03:32:14.863906Z",
     "iopub.status.busy": "2021-07-05T03:32:14.861151Z",
     "iopub.status.idle": "2021-07-05T03:32:15.087876Z",
     "shell.execute_reply": "2021-07-05T03:32:15.087300Z",
     "shell.execute_reply.started": "2021-07-05T03:32:14.863218Z"
    },
    "tags": []
   },
   "outputs": [
    {
     "data": {
      "image/png": "[encoded data removed]",
      "text/plain": [
       "<Figure size 720x432 with 1 Axes>"
      ]
     },
     "metadata": {},
     "output_type": "display_data"
    }
   ],
   "source": [
    "import matplotlib.pyplot as plt\n",
    "plt.figure(figsize=(10, 6))\n",
    "train_plot = pd.DataFrame({\"num\":[dict(zip(unique_train_labels, counts_train_labels))[0],\n",
    "                                  dict(zip(unique_train_labels, counts_train_labels))[1]], \n",
    "                           \"type\":['Not Pork','Pork']})\n",
    "plt.bar(train_plot['type'], train_plot['num'], color='#57A1AB')\n",
    "plt.title('Train Set')\n",
    "#plt.show()\n",
    "plt.savefig('images/train_plot.png')"
   ]
  },
  {
   "cell_type": "code",
   "execution_count": 108,
   "id": "fedad623-02ba-4fad-b0b4-a094de7c39de",
   "metadata": {
    "execution": {
     "iopub.execute_input": "2021-07-05T03:09:38.134064Z",
     "iopub.status.busy": "2021-07-05T03:09:38.133833Z",
     "iopub.status.idle": "2021-07-05T03:09:38.138627Z",
     "shell.execute_reply": "2021-07-05T03:09:38.137659Z",
     "shell.execute_reply.started": "2021-07-05T03:09:38.134039Z"
    },
    "tags": []
   },
   "outputs": [
    {
     "name": "stdout",
     "output_type": "stream",
     "text": [
      " Num of Test Set: 2391 \n",
      " Not Pork vs Pork: {0: 1566, 1: 825}\n"
     ]
    }
   ],
   "source": [
    "unique_test_labels, counts_test_labels = np.unique(test_labels, return_counts=True)\n",
    "\n",
    "print(' Num of Test Set:' , test_inputs.shape[0], '\\n'\n",
    "      ,'Not Pork vs Pork:', dict(zip(unique_test_labels, counts_test_labels)))"
   ]
  },
  {
   "cell_type": "code",
   "execution_count": 110,
   "id": "ccc6799c-42b8-44c3-8352-e4b68ab3cfee",
   "metadata": {
    "execution": {
     "iopub.execute_input": "2021-07-05T03:32:21.450141Z",
     "iopub.status.busy": "2021-07-05T03:32:21.449963Z",
     "iopub.status.idle": "2021-07-05T03:32:21.622372Z",
     "shell.execute_reply": "2021-07-05T03:32:21.621870Z",
     "shell.execute_reply.started": "2021-07-05T03:32:21.450123Z"
    },
    "tags": []
   },
   "outputs": [
    {
     "data": {
      "image/png": "[encoded data removed]",
      "text/plain": [
       "<Figure size 720x432 with 1 Axes>"
      ]
     },
     "metadata": {},
     "output_type": "display_data"
    }
   ],
   "source": [
    "import matplotlib.pyplot as plt\n",
    "plt.figure(figsize=(10, 6))\n",
    "test_plot = pd.DataFrame({\"num\":[dict(zip(unique_test_labels, counts_test_labels))[0],\n",
    "                                 dict(zip(unique_test_labels, counts_test_labels))[1]], \n",
    "                          \"type\":['Not Pork','Pork']})\n",
    "plt.bar(test_plot['type'], test_plot['num'], color='#B1C5C8')\n",
    "plt.title('Test Set')\n",
    "#plt.show()\n",
    "plt.savefig('images/test_plot.png')"
   ]
  },
  {
   "cell_type": "markdown",
   "id": "725f7feb-b93b-4d0b-bcbf-562240a79f8b",
   "metadata": {
    "execution": {
     "iopub.execute_input": "2021-05-16T17:04:13.375644Z",
     "iopub.status.busy": "2021-05-16T17:04:13.375440Z",
     "iopub.status.idle": "2021-05-16T17:04:13.378111Z",
     "shell.execute_reply": "2021-05-16T17:04:13.377464Z",
     "shell.execute_reply.started": "2021-05-16T17:04:13.375623Z"
    },
    "tags": []
   },
   "source": [
    "-------------------------\n",
    "\n",
    "\n",
    "### Stage 3: Model and Building"
   ]
  },
  {
   "cell_type": "markdown",
   "id": "4a0e74bf-eaf4-4043-8d23-88291d8ea344",
   "metadata": {
    "execution": {
     "iopub.execute_input": "2021-05-16T17:13:18.807725Z",
     "iopub.status.busy": "2021-05-16T17:13:18.807498Z",
     "iopub.status.idle": "2021-05-16T17:13:18.810574Z",
     "shell.execute_reply": "2021-05-16T17:13:18.809625Z",
     "shell.execute_reply.started": "2021-05-16T17:13:18.807701Z"
    }
   },
   "source": [
    "#### (1) Using the Subclassing API to Build Dynamic Model"
   ]
  },
  {
   "cell_type": "code",
   "execution_count": 13,
   "id": "1f18f9b1-5f4d-4d0a-baf4-2eebed7f34f2",
   "metadata": {
    "execution": {
     "iopub.execute_input": "2021-07-04T18:36:56.963927Z",
     "iopub.status.busy": "2021-07-04T18:36:56.963725Z",
     "iopub.status.idle": "2021-07-04T18:36:56.972121Z",
     "shell.execute_reply": "2021-07-04T18:36:56.971481Z",
     "shell.execute_reply.started": "2021-07-04T18:36:56.963908Z"
    },
    "tags": []
   },
   "outputs": [],
   "source": [
    "class DCNN(tf.keras.Model):\n",
    "    def __init__(self,\n",
    "                 vocab_size,\n",
    "                 emb_dim=128,\n",
    "                 nb_filters=100,\n",
    "                 # units: Positive integer, dimensionality of the output space.\n",
    "                 FFN_units=512,\n",
    "                 nb_classes=2,\n",
    "                 dropout_rate=0.1,\n",
    "                 training=False,\n",
    "                 name=\"PorkCNN\"):\n",
    "        super(DCNN, self).__init__(name=name)\n",
    "        self.embedding = layers.Embedding(vocab_size, emb_dim)\n",
    "        self.bigram = layers.Conv1D(filters=nb_filters, kernel_size=2, strides = 1, padding=\"valid\", activation=\"relu\")\n",
    "        self.bigram2 = layers.Conv1D(filters=nb_filters, kernel_size=2, strides = 2, padding=\"valid\", activation=\"relu\")\n",
    "        self.trigram = layers.Conv1D(filters=nb_filters,kernel_size=3,strides = 1, padding=\"valid\",activation=\"relu\")\n",
    "        self.trigram2 = layers.Conv1D(filters=nb_filters,kernel_size=3,strides = 2, padding=\"valid\",activation=\"relu\")\n",
    "        self.fourgram = layers.Conv1D(filters=nb_filters,kernel_size=4,strides = 2, padding=\"valid\",activation=\"relu\")\n",
    "        self.fivegram = layers.Conv1D(filters=nb_filters,kernel_size=5,strides = 2, padding=\"valid\",activation=\"relu\")\n",
    "        self.pool = layers.GlobalMaxPool1D()\n",
    "        self.dense_1 = layers.Dense(units=FFN_units, activation=\"relu\")\n",
    "        self.dropout = layers.Dropout(rate=dropout_rate)\n",
    "        self.last_dense = layers.Dense(units=1, activation=\"sigmoid\")    \n",
    "    def call(self, inputs, training):\n",
    "        x = self.embedding(inputs)\n",
    "        x_1 = self.bigram(x)\n",
    "        x_1 = self.pool(x_1)\n",
    "        x_1_1 = self.bigram2(x)\n",
    "        x_1_1 = self.pool(x_1_1)        \n",
    "        x_2 = self.trigram(x)\n",
    "        x_2 = self.pool(x_2)\n",
    "        x_2_1 = self.trigram2(x)\n",
    "        x_2_1 = self.pool(x_2_1)     \n",
    "        x_3 = self.fourgram(x)\n",
    "        x_3 = self.pool(x_3)\n",
    "        x_4 = self.fourgram(x)\n",
    "        x_4 = self.pool(x_4) \n",
    "        x_5 = self.fivegram(x)\n",
    "        x_5 = self.pool(x_5)      \n",
    "        merged = tf.concat([x_1,x_1_1, x_2,x_2_1, x_3, x_4, x_5], axis=-1) \n",
    "        merged = self.dense_1(merged)\n",
    "        merged = self.dropout(merged, training)\n",
    "        output = self.last_dense(merged)        \n",
    "        return output"
   ]
  },
  {
   "cell_type": "code",
   "execution_count": 14,
   "id": "bfc02e93-3a0e-4c1c-b488-b2db98b53824",
   "metadata": {
    "execution": {
     "iopub.execute_input": "2021-07-04T18:36:56.973310Z",
     "iopub.status.busy": "2021-07-04T18:36:56.973021Z",
     "iopub.status.idle": "2021-07-04T18:36:56.991243Z",
     "shell.execute_reply": "2021-07-04T18:36:56.990608Z",
     "shell.execute_reply.started": "2021-07-04T18:36:56.973288Z"
    },
    "tags": []
   },
   "outputs": [],
   "source": [
    "VOCAB_SIZE = tokenizer.vocab_size #tokenizer.vocab_size  # 5000 tokenizer.vocab_size\n",
    "EMB_DIM = 200\n",
    "NB_FILTERS = 100\n",
    "FFN_UNITS = 256\n",
    "NB_CLASSES = 2 #len(set(train_labels))\n",
    "DROPOUT_RATE = 0.25\n",
    "BATCH_SIZE = 230\n",
    "NB_EPOCHS = 80\n",
    "\n",
    "Dcnn = DCNN(vocab_size=VOCAB_SIZE,\n",
    "            emb_dim=EMB_DIM,\n",
    "            nb_filters=NB_FILTERS,\n",
    "            FFN_units=FFN_UNITS,\n",
    "            nb_classes=NB_CLASSES,\n",
    "            dropout_rate=DROPOUT_RATE)"
   ]
  },
  {
   "cell_type": "markdown",
   "id": "b0ec8f51-6ed8-49fa-9d5e-c6929184bdf1",
   "metadata": {
    "execution": {
     "iopub.execute_input": "2021-05-16T18:43:59.279424Z",
     "iopub.status.busy": "2021-05-16T18:43:59.279202Z",
     "iopub.status.idle": "2021-05-16T18:43:59.282718Z",
     "shell.execute_reply": "2021-05-16T18:43:59.281823Z",
     "shell.execute_reply.started": "2021-05-16T18:43:59.279399Z"
    }
   },
   "source": [
    "#### (2) Compile and Summary of the Model"
   ]
  },
  {
   "cell_type": "code",
   "execution_count": 15,
   "id": "2cce0414-05eb-4f79-9c27-bca9c91a2903",
   "metadata": {
    "execution": {
     "iopub.execute_input": "2021-07-04T18:36:56.992400Z",
     "iopub.status.busy": "2021-07-04T18:36:56.992218Z",
     "iopub.status.idle": "2021-07-04T18:36:57.060236Z",
     "shell.execute_reply": "2021-07-04T18:36:57.059730Z",
     "shell.execute_reply.started": "2021-07-04T18:36:56.992381Z"
    },
    "tags": []
   },
   "outputs": [
    {
     "name": "stdout",
     "output_type": "stream",
     "text": [
      "Model: \"PorkCNN\"\n",
      "_________________________________________________________________\n",
      "Layer (type)                 Output Shape              Param #   \n",
      "=================================================================\n",
      "embedding (Embedding)        multiple                  586600    \n",
      "_________________________________________________________________\n",
      "conv1d (Conv1D)              multiple                  40100     \n",
      "_________________________________________________________________\n",
      "conv1d_1 (Conv1D)            multiple                  40100     \n",
      "_________________________________________________________________\n",
      "conv1d_2 (Conv1D)            multiple                  60100     \n",
      "_________________________________________________________________\n",
      "conv1d_3 (Conv1D)            multiple                  60100     \n",
      "_________________________________________________________________\n",
      "conv1d_4 (Conv1D)            multiple                  80100     \n",
      "_________________________________________________________________\n",
      "conv1d_5 (Conv1D)            multiple                  100100    \n",
      "_________________________________________________________________\n",
      "global_max_pooling1d (Global multiple                  0         \n",
      "_________________________________________________________________\n",
      "dense (Dense)                multiple                  179456    \n",
      "_________________________________________________________________\n",
      "dropout (Dropout)            multiple                  0         \n",
      "_________________________________________________________________\n",
      "dense_1 (Dense)              multiple                  257       \n",
      "=================================================================\n",
      "Total params: 1,146,913\n",
      "Trainable params: 1,146,913\n",
      "Non-trainable params: 0\n",
      "_________________________________________________________________\n"
     ]
    }
   ],
   "source": [
    "Dcnn.compile(loss=\"binary_crossentropy\", optimizer=\"adam\", metrics=[\"accuracy\"])\n",
    "Dcnn.build(input_shape = (train_inputs.shape[1], EMB_DIM)) # (train_inputs.shape[1] , EMB_DIM)  (785 , EMB_DIM)\n",
    "Dcnn.summary()"
   ]
  },
  {
   "cell_type": "markdown",
   "id": "3880d2a4-2152-43de-bad3-34e67e97469e",
   "metadata": {
    "tags": []
   },
   "source": [
    "#### (3) Check Point Path"
   ]
  },
  {
   "cell_type": "code",
   "execution_count": 16,
   "id": "2c18aa59-a797-4a67-bc4d-a412dbaaedcb",
   "metadata": {
    "execution": {
     "iopub.execute_input": "2021-07-04T18:36:57.061287Z",
     "iopub.status.busy": "2021-07-04T18:36:57.061152Z",
     "iopub.status.idle": "2021-07-04T18:36:57.064339Z",
     "shell.execute_reply": "2021-07-04T18:36:57.063854Z",
     "shell.execute_reply.started": "2021-07-04T18:36:57.061269Z"
    },
    "tags": []
   },
   "outputs": [],
   "source": [
    "checkpoint_path = \"checkpoint_recode/ckpt_manager\"\n",
    "\n",
    "ckpt = tf.train.Checkpoint(Dcnn=Dcnn)\n",
    "\n",
    "ckpt_manager = tf.train.CheckpointManager(ckpt, checkpoint_path, max_to_keep=10)\n",
    "\n",
    "if ckpt_manager.latest_checkpoint:\n",
    "    ckpt.restore(ckpt_manager.latest_checkpoint)\n",
    "    print(\"Checkpoint Located!!\")"
   ]
  },
  {
   "cell_type": "markdown",
   "id": "73d70667-275f-40c0-bd71-6b47e9722798",
   "metadata": {
    "execution": {
     "iopub.execute_input": "2021-05-16T17:47:13.442664Z",
     "iopub.status.busy": "2021-05-16T17:47:13.442381Z",
     "iopub.status.idle": "2021-05-16T17:47:13.448371Z",
     "shell.execute_reply": "2021-05-16T17:47:13.446970Z",
     "shell.execute_reply.started": "2021-05-16T17:47:13.442620Z"
    }
   },
   "source": [
    "-------------------------\n",
    "\n",
    "### Stage 4: Train the Model"
   ]
  },
  {
   "cell_type": "code",
   "execution_count": 17,
   "id": "cc975047-5a58-46dc-b427-262796d9b625",
   "metadata": {
    "execution": {
     "iopub.execute_input": "2021-07-04T18:36:57.065701Z",
     "iopub.status.busy": "2021-07-04T18:36:57.065454Z",
     "iopub.status.idle": "2021-07-04T18:36:57.068085Z",
     "shell.execute_reply": "2021-07-04T18:36:57.067471Z",
     "shell.execute_reply.started": "2021-07-04T18:36:57.065680Z"
    },
    "tags": []
   },
   "outputs": [],
   "source": [
    "early_stop = EarlyStopping(monitor='val_loss', patience=15)"
   ]
  },
  {
   "cell_type": "code",
   "execution_count": 18,
   "id": "baf0cade-2c45-43b2-9782-6a8c6e570153",
   "metadata": {
    "execution": {
     "iopub.execute_input": "2021-07-04T18:36:57.069252Z",
     "iopub.status.busy": "2021-07-04T18:36:57.069014Z",
     "iopub.status.idle": "2021-07-04T18:43:18.010920Z",
     "shell.execute_reply": "2021-07-04T18:43:18.009920Z",
     "shell.execute_reply.started": "2021-07-04T18:36:57.069231Z"
    },
    "tags": []
   },
   "outputs": [
    {
     "name": "stdout",
     "output_type": "stream",
     "text": [
      "Epoch 1/80\n",
      "22/22 [==============================] - 50s 2s/step - loss: 0.5921 - accuracy: 0.6606 - val_loss: 0.4593 - val_accuracy: 0.7867\n",
      "Epoch 2/80\n",
      "22/22 [==============================] - 45s 2s/step - loss: 0.3268 - accuracy: 0.8681 - val_loss: 0.2272 - val_accuracy: 0.9109\n",
      "Epoch 3/80\n",
      "22/22 [==============================] - 47s 2s/step - loss: 0.1458 - accuracy: 0.9495 - val_loss: 0.1550 - val_accuracy: 0.9435\n",
      "Epoch 4/80\n",
      "22/22 [==============================] - 45s 2s/step - loss: 0.0712 - accuracy: 0.9777 - val_loss: 0.1602 - val_accuracy: 0.9444\n",
      "Epoch 5/80\n",
      "22/22 [==============================] - 43s 2s/step - loss: 0.0476 - accuracy: 0.9854 - val_loss: 0.1775 - val_accuracy: 0.9456\n",
      "Epoch 6/80\n",
      "22/22 [==============================] - 53s 2s/step - loss: 0.0425 - accuracy: 0.9852 - val_loss: 0.1698 - val_accuracy: 0.9498\n",
      "Epoch 7/80\n",
      "22/22 [==============================] - 49s 2s/step - loss: 0.0527 - accuracy: 0.9854 - val_loss: 0.1824 - val_accuracy: 0.9406\n",
      "Epoch 8/80\n",
      "22/22 [==============================] - 50s 2s/step - loss: 0.0468 - accuracy: 0.9858 - val_loss: 0.1798 - val_accuracy: 0.9435\n"
     ]
    },
    {
     "data": {
      "text/plain": [
       "'checkpoint_recode/ckpt_manager/ckpt-1'"
      ]
     },
     "execution_count": 18,
     "metadata": {},
     "output_type": "execute_result"
    }
   ],
   "source": [
    "Dcnn.fit(train_inputs, train_labels,\n",
    "         validation_data=(test_inputs, test_labels),\n",
    "         batch_size=BATCH_SIZE,\n",
    "         epochs=NB_EPOCHS,\n",
    "         callbacks=[early_stop])\n",
    "ckpt_manager.save()"
   ]
  },
  {
   "cell_type": "markdown",
   "id": "3b0ac256-ab81-4ff5-8430-48f8bba50126",
   "metadata": {
    "execution": {
     "iopub.execute_input": "2021-05-16T18:23:25.926977Z",
     "iopub.status.busy": "2021-05-16T18:23:25.926754Z",
     "iopub.status.idle": "2021-05-16T18:23:25.931072Z",
     "shell.execute_reply": "2021-05-16T18:23:25.930041Z",
     "shell.execute_reply.started": "2021-05-16T18:23:25.926952Z"
    }
   },
   "source": [
    "-------------------------\n",
    "\n",
    "### Stage 5: Evaluation"
   ]
  },
  {
   "cell_type": "code",
   "execution_count": 19,
   "id": "58099cc1-19e0-443a-b960-7ae4d67344d3",
   "metadata": {
    "execution": {
     "iopub.execute_input": "2021-07-04T18:43:18.013017Z",
     "iopub.status.busy": "2021-07-04T18:43:18.012575Z",
     "iopub.status.idle": "2021-07-04T18:43:18.037071Z",
     "shell.execute_reply": "2021-07-04T18:43:18.035957Z",
     "shell.execute_reply.started": "2021-07-04T18:43:18.012975Z"
    },
    "tags": []
   },
   "outputs": [
    {
     "data": {
      "text/html": [
       "<div>\n",
       "<style scoped>\n",
       "    .dataframe tbody tr th:only-of-type {\n",
       "        vertical-align: middle;\n",
       "    }\n",
       "\n",
       "    .dataframe tbody tr th {\n",
       "        vertical-align: top;\n",
       "    }\n",
       "\n",
       "    .dataframe thead th {\n",
       "        text-align: right;\n",
       "    }\n",
       "</style>\n",
       "<table border=\"1\" class=\"dataframe\">\n",
       "  <thead>\n",
       "    <tr style=\"text-align: right;\">\n",
       "      <th></th>\n",
       "      <th>loss</th>\n",
       "      <th>accuracy</th>\n",
       "      <th>val_loss</th>\n",
       "      <th>val_accuracy</th>\n",
       "    </tr>\n",
       "  </thead>\n",
       "  <tbody>\n",
       "    <tr>\n",
       "      <th>0</th>\n",
       "      <td>0.592071</td>\n",
       "      <td>0.660552</td>\n",
       "      <td>0.459304</td>\n",
       "      <td>0.786700</td>\n",
       "    </tr>\n",
       "    <tr>\n",
       "      <th>1</th>\n",
       "      <td>0.326758</td>\n",
       "      <td>0.868096</td>\n",
       "      <td>0.227204</td>\n",
       "      <td>0.910916</td>\n",
       "    </tr>\n",
       "    <tr>\n",
       "      <th>2</th>\n",
       "      <td>0.145764</td>\n",
       "      <td>0.949505</td>\n",
       "      <td>0.154970</td>\n",
       "      <td>0.943538</td>\n",
       "    </tr>\n",
       "    <tr>\n",
       "      <th>3</th>\n",
       "      <td>0.071230</td>\n",
       "      <td>0.977741</td>\n",
       "      <td>0.160215</td>\n",
       "      <td>0.944375</td>\n",
       "    </tr>\n",
       "    <tr>\n",
       "      <th>4</th>\n",
       "      <td>0.047627</td>\n",
       "      <td>0.985367</td>\n",
       "      <td>0.177477</td>\n",
       "      <td>0.945629</td>\n",
       "    </tr>\n",
       "    <tr>\n",
       "      <th>5</th>\n",
       "      <td>0.042451</td>\n",
       "      <td>0.985161</td>\n",
       "      <td>0.169780</td>\n",
       "      <td>0.949812</td>\n",
       "    </tr>\n",
       "    <tr>\n",
       "      <th>6</th>\n",
       "      <td>0.052676</td>\n",
       "      <td>0.985367</td>\n",
       "      <td>0.182364</td>\n",
       "      <td>0.940611</td>\n",
       "    </tr>\n",
       "    <tr>\n",
       "      <th>7</th>\n",
       "      <td>0.046829</td>\n",
       "      <td>0.985779</td>\n",
       "      <td>0.179817</td>\n",
       "      <td>0.943538</td>\n",
       "    </tr>\n",
       "  </tbody>\n",
       "</table>\n",
       "</div>"
      ],
      "text/plain": [
       "       loss  accuracy  val_loss  val_accuracy\n",
       "0  0.592071  0.660552  0.459304      0.786700\n",
       "1  0.326758  0.868096  0.227204      0.910916\n",
       "2  0.145764  0.949505  0.154970      0.943538\n",
       "3  0.071230  0.977741  0.160215      0.944375\n",
       "4  0.047627  0.985367  0.177477      0.945629\n",
       "5  0.042451  0.985161  0.169780      0.949812\n",
       "6  0.052676  0.985367  0.182364      0.940611\n",
       "7  0.046829  0.985779  0.179817      0.943538"
      ]
     },
     "execution_count": 19,
     "metadata": {},
     "output_type": "execute_result"
    }
   ],
   "source": [
    "losses = pd.DataFrame(Dcnn.history.history)\n",
    "losses"
   ]
  },
  {
   "cell_type": "code",
   "execution_count": 20,
   "id": "f37a760f-b388-4051-a78d-295bce1f214a",
   "metadata": {
    "execution": {
     "iopub.execute_input": "2021-07-04T18:43:18.039024Z",
     "iopub.status.busy": "2021-07-04T18:43:18.038654Z",
     "iopub.status.idle": "2021-07-04T18:43:18.540185Z",
     "shell.execute_reply": "2021-07-04T18:43:18.539218Z",
     "shell.execute_reply.started": "2021-07-04T18:43:18.038989Z"
    },
    "tags": []
   },
   "outputs": [
    {
     "data": {
      "text/plain": [
       "<AxesSubplot:>"
      ]
     },
     "execution_count": 20,
     "metadata": {},
     "output_type": "execute_result"
    },
    {
     "data": {
      "image/png": "[encoded data removed]",
      "text/plain": [
       "<Figure size 432x288 with 1 Axes>"
      ]
     },
     "metadata": {
      "needs_background": "light"
     },
     "output_type": "display_data"
    },
    {
     "data": {
      "image/png": "[encoded data removed]",
      "text/plain": [
       "<Figure size 432x288 with 1 Axes>"
      ]
     },
     "metadata": {
      "needs_background": "light"
     },
     "output_type": "display_data"
    }
   ],
   "source": [
    "losses[['accuracy','val_accuracy']].plot()\n",
    "losses[['loss','val_loss']].plot()"
   ]
  },
  {
   "cell_type": "code",
   "execution_count": 21,
   "id": "b1b62bf7-433e-4a9e-b0ed-a6b57515b304",
   "metadata": {
    "execution": {
     "iopub.execute_input": "2021-07-04T18:43:18.542407Z",
     "iopub.status.busy": "2021-07-04T18:43:18.541968Z",
     "iopub.status.idle": "2021-07-04T18:43:18.960452Z",
     "shell.execute_reply": "2021-07-04T18:43:18.959569Z",
     "shell.execute_reply.started": "2021-07-04T18:43:18.542363Z"
    },
    "tags": []
   },
   "outputs": [
    {
     "data": {
      "image/png": "[encoded data removed]",
      "text/plain": [
       "<Figure size 576x360 with 1 Axes>"
      ]
     },
     "metadata": {
      "needs_background": "light"
     },
     "output_type": "display_data"
    }
   ],
   "source": [
    "losses.plot(figsize=(8,5))\n",
    "plt.grid(True)\n",
    "plt.gca().set_ylim(0,1)\n",
    "plt.xlabel(\"Learning Curves: the mean training loss and accuracy measured over each epochs\")\n",
    "plt.savefig('images/learning_curves3.png')\n",
    "plt.show()\n"
   ]
  },
  {
   "cell_type": "code",
   "execution_count": 22,
   "id": "17760825-eb35-4f8c-88a0-45e94387c08d",
   "metadata": {
    "execution": {
     "iopub.execute_input": "2021-07-04T18:43:18.962463Z",
     "iopub.status.busy": "2021-07-04T18:43:18.962187Z",
     "iopub.status.idle": "2021-07-04T18:43:24.190285Z",
     "shell.execute_reply": "2021-07-04T18:43:24.189319Z",
     "shell.execute_reply.started": "2021-07-04T18:43:18.962429Z"
    },
    "tags": []
   },
   "outputs": [
    {
     "name": "stdout",
     "output_type": "stream",
     "text": [
      "11/11 [==============================] - 5s 468ms/step - loss: 0.1798 - accuracy: 0.9435\n",
      "[0.1798171103000641, 0.943538248538971]\n"
     ]
    }
   ],
   "source": [
    "from sklearn.metrics import classification_report,confusion_matrix\n",
    "evaluation_model = Dcnn.evaluate(test_inputs, test_labels, batch_size=BATCH_SIZE)\n",
    "print(evaluation_model)"
   ]
  },
  {
   "cell_type": "code",
   "execution_count": 23,
   "id": "c9a3f93d-4398-418c-b511-69594874cc5a",
   "metadata": {
    "execution": {
     "iopub.execute_input": "2021-07-04T18:43:24.192018Z",
     "iopub.status.busy": "2021-07-04T18:43:24.191627Z",
     "iopub.status.idle": "2021-07-04T18:43:29.304589Z",
     "shell.execute_reply": "2021-07-04T18:43:29.303243Z",
     "shell.execute_reply.started": "2021-07-04T18:43:24.191979Z"
    },
    "tags": []
   },
   "outputs": [
    {
     "name": "stdout",
     "output_type": "stream",
     "text": [
      "              precision    recall  f1-score   support\n",
      "\n",
      "           0       0.94      0.98      0.96      1566\n",
      "           1       0.95      0.89      0.92       825\n",
      "\n",
      "    accuracy                           0.95      2391\n",
      "   macro avg       0.95      0.93      0.94      2391\n",
      "weighted avg       0.95      0.95      0.95      2391\n",
      "\n"
     ]
    }
   ],
   "source": [
    "# pd.DataFrame(confusion_matrix(test_labels,predictions))\n",
    "predictions = Dcnn.predict(test_inputs)\n",
    "predictions = np.where(predictions >0.8 , 1, 0)\n",
    "print(classification_report(test_labels, predictions))"
   ]
  },
  {
   "cell_type": "code",
   "execution_count": 24,
   "id": "4767688b-bfc8-4dc4-b8ec-2252f7791534",
   "metadata": {
    "execution": {
     "iopub.execute_input": "2021-07-04T18:43:29.316458Z",
     "iopub.status.busy": "2021-07-04T18:43:29.316091Z",
     "iopub.status.idle": "2021-07-04T18:43:29.333675Z",
     "shell.execute_reply": "2021-07-04T18:43:29.332594Z",
     "shell.execute_reply.started": "2021-07-04T18:43:29.316416Z"
    },
    "tags": []
   },
   "outputs": [
    {
     "data": {
      "text/html": [
       "<div>\n",
       "<style scoped>\n",
       "    .dataframe tbody tr th:only-of-type {\n",
       "        vertical-align: middle;\n",
       "    }\n",
       "\n",
       "    .dataframe tbody tr th {\n",
       "        vertical-align: top;\n",
       "    }\n",
       "\n",
       "    .dataframe thead th {\n",
       "        text-align: right;\n",
       "    }\n",
       "</style>\n",
       "<table border=\"1\" class=\"dataframe\">\n",
       "  <thead>\n",
       "    <tr style=\"text-align: right;\">\n",
       "      <th></th>\n",
       "      <th>Predictions: Not Pork(0)</th>\n",
       "      <th>Predictions:Pork(1)</th>\n",
       "    </tr>\n",
       "  </thead>\n",
       "  <tbody>\n",
       "    <tr>\n",
       "      <th>Acutal: Not Pork(0)</th>\n",
       "      <td>1530</td>\n",
       "      <td>36</td>\n",
       "    </tr>\n",
       "    <tr>\n",
       "      <th>Acutal: Pork (1)</th>\n",
       "      <td>90</td>\n",
       "      <td>735</td>\n",
       "    </tr>\n",
       "  </tbody>\n",
       "</table>\n",
       "</div>"
      ],
      "text/plain": [
       "                     Predictions: Not Pork(0)  Predictions:Pork(1)\n",
       "Acutal: Not Pork(0)                      1530                   36\n",
       "Acutal: Pork (1)                           90                  735"
      ]
     },
     "execution_count": 24,
     "metadata": {},
     "output_type": "execute_result"
    }
   ],
   "source": [
    "t = pd.DataFrame(confusion_matrix(test_labels,predictions), \n",
    "             columns=['Predictions: Not Pork(0)','Predictions:Pork(1)'])\n",
    "t.index = ['Acutal: Not Pork(0)', 'Acutal: Pork (1)']\n",
    "t"
   ]
  },
  {
   "cell_type": "markdown",
   "id": "d0416d6f-5e46-47c9-abad-f344bea7a94a",
   "metadata": {},
   "source": [
    "-------------------------\n",
    "\n",
    "### Stage 6: Try the Model with New Data and Export an End-to-end Model\n"
   ]
  },
  {
   "cell_type": "markdown",
   "id": "394b9a6e-0130-4af2-88e5-efe91cf9f348",
   "metadata": {
    "execution": {
     "iopub.execute_input": "2021-05-16T22:53:41.558105Z",
     "iopub.status.busy": "2021-05-16T22:53:41.557872Z",
     "iopub.status.idle": "2021-05-16T22:53:41.560984Z",
     "shell.execute_reply": "2021-05-16T22:53:41.560122Z",
     "shell.execute_reply.started": "2021-05-16T22:53:41.558080Z"
    }
   },
   "source": [
    "#### (1) Test New Dataset from 2000 samples from Legislative Questions from 6th Session "
   ]
  },
  {
   "cell_type": "code",
   "execution_count": 25,
   "id": "632bf33e-1df7-46c5-9a67-ab7141a949c2",
   "metadata": {
    "execution": {
     "iopub.execute_input": "2021-07-04T18:43:29.339942Z",
     "iopub.status.busy": "2021-07-04T18:43:29.339433Z",
     "iopub.status.idle": "2021-07-04T18:43:29.345158Z",
     "shell.execute_reply": "2021-07-04T18:43:29.343880Z",
     "shell.execute_reply.started": "2021-07-04T18:43:29.339891Z"
    },
    "tags": []
   },
   "outputs": [],
   "source": [
    "def as_num(x):\n",
    "    \"\"\"\n",
    "    keep 10 decimals\n",
    "    \"\"\"\n",
    "    y = '{:.15f}'.format(x) \n",
    "    return y"
   ]
  },
  {
   "cell_type": "code",
   "execution_count": 26,
   "id": "06ea7d54-49e9-4363-8304-d1dabaf3beb4",
   "metadata": {
    "execution": {
     "iopub.execute_input": "2021-07-04T18:43:29.347668Z",
     "iopub.status.busy": "2021-07-04T18:43:29.347284Z",
     "iopub.status.idle": "2021-07-04T18:43:29.940398Z",
     "shell.execute_reply": "2021-07-04T18:43:29.939184Z",
     "shell.execute_reply.started": "2021-07-04T18:43:29.347625Z"
    },
    "tags": []
   },
   "outputs": [],
   "source": [
    "import pandas as pd\n",
    "import random\n",
    "\n",
    "# test the trined model using new text from 200 samples from Leislative Questions\n",
    "LQ6 = pd.read_csv('data/LQ_6th.csv')\n",
    "\n",
    "# drop '0': legislor  never have proposed any legisaltive questions. \n",
    "LQ6 = LQ6[LQ6['title'].isin(['0'])== False]\n",
    "\n",
    "# select text with number of charecters within EMB_DIM; len(sub_set) = 11162\n",
    "# sample_df = LQ6.loc[[len(char_num) for char_num in LQ6.title if len(char_num) < MAX_LEN], ['legislator','title', 'topic', 'category', 'keywords', 'ques_type']].reset_index(drop=True)\n",
    "random.seed(42)\n",
    "sample_df = LQ6.iloc[random.sample(range(len(LQ6)), 2000)][['legislator', 'title', 'topic', 'category', 'keywords', 'ques_type']]\n",
    "sub_set = [seg_char(text) for text in [clearPucts(text) for text in sample_df.title]]\n"
   ]
  },
  {
   "cell_type": "markdown",
   "id": "68cc06a7-27d7-4007-949d-f7df81246e25",
   "metadata": {
    "tags": []
   },
   "source": [
    "##### Top 10 of 2000 Samples"
   ]
  },
  {
   "cell_type": "code",
   "execution_count": 27,
   "id": "d4b618c9-8c4b-40ec-a396-b4679233197e",
   "metadata": {
    "execution": {
     "iopub.execute_input": "2021-07-04T18:43:29.942680Z",
     "iopub.status.busy": "2021-07-04T18:43:29.942224Z",
     "iopub.status.idle": "2021-07-04T18:43:51.884627Z",
     "shell.execute_reply": "2021-07-04T18:43:51.883865Z",
     "shell.execute_reply.started": "2021-07-04T18:43:29.942637Z"
    },
    "tags": []
   },
   "outputs": [
    {
     "data": {
      "text/html": [
       "<div>\n",
       "<style scoped>\n",
       "    .dataframe tbody tr th:only-of-type {\n",
       "        vertical-align: middle;\n",
       "    }\n",
       "\n",
       "    .dataframe tbody tr th {\n",
       "        vertical-align: top;\n",
       "    }\n",
       "\n",
       "    .dataframe thead th {\n",
       "        text-align: right;\n",
       "    }\n",
       "</style>\n",
       "<table border=\"1\" class=\"dataframe\">\n",
       "  <thead>\n",
       "    <tr style=\"text-align: right;\">\n",
       "      <th></th>\n",
       "      <th>legislator</th>\n",
       "      <th>Pork Value(Constituency Interest)</th>\n",
       "      <th>Legislative Questions</th>\n",
       "      <th>Topic</th>\n",
       "      <th>Key Word</th>\n",
       "    </tr>\n",
       "  </thead>\n",
       "  <tbody>\n",
       "    <tr>\n",
       "      <th>9892</th>\n",
       "      <td>陳啟昱</td>\n",
       "      <td>0.997228503227234</td>\n",
       "      <td>鑑於現行《所得稅法》第十七條規定特別扣除額教育支出部分，僅以納稅義務人之子女就讀大專院校為限...</td>\n",
       "      <td>所得稅 ; 教育費用 ; 扣除額</td>\n",
       "      <td>所得稅法 ; 特別扣除額 ; 教育支出</td>\n",
       "    </tr>\n",
       "    <tr>\n",
       "      <th>3999</th>\n",
       "      <td>林正峰</td>\n",
       "      <td>0.996773242950439</td>\n",
       "      <td>針對政府準備修法推動「二代健保」，健保保費採取「年度所得總額」為計算基礎，而非採用扣除免稅額...</td>\n",
       "      <td>國民 ; 健康保險 ; 保險費</td>\n",
       "      <td>二代健保 ; 年度所得總額</td>\n",
       "    </tr>\n",
       "    <tr>\n",
       "      <th>1761</th>\n",
       "      <td>彭添富</td>\n",
       "      <td>0.988480448722839</td>\n",
       "      <td>針對「辦理九十四年原住民中低收入戶家庭租屋補助計畫」專案補助計畫，特向行政院提出質詢。</td>\n",
       "      <td>原住民族生活</td>\n",
       "      <td>原住民中低收入戶 ; 租屋補助</td>\n",
       "    </tr>\n",
       "    <tr>\n",
       "      <th>4553</th>\n",
       "      <td>林鴻池</td>\n",
       "      <td>0.977922081947327</td>\n",
       "      <td>針對行政院宣布補助弱勢家庭子女就讀私校高中職之學費，卻將資格限制在「非自願就讀者」，有畫餅充...</td>\n",
       "      <td>低收入戶 ; 教育補助</td>\n",
       "      <td>弱勢家庭 ; 私立高中職</td>\n",
       "    </tr>\n",
       "    <tr>\n",
       "      <th>8340</th>\n",
       "      <td>蔡煌瑯(離職)</td>\n",
       "      <td>0.976976394653320</td>\n",
       "      <td>「2005南投花卉嘉年華」活動爭取中央經費補助案由，特向行政院提出質詢。</td>\n",
       "      <td>農業推廣 ; 政府補助</td>\n",
       "      <td>南投花卉嘉年華 ; 中央經費</td>\n",
       "    </tr>\n",
       "    <tr>\n",
       "      <th>8531</th>\n",
       "      <td>薛凌</td>\n",
       "      <td>0.953770041465759</td>\n",
       "      <td>針對雲林縣政府擬訂「雲林縣地方稅徵收自治條例」草案，開始對煉油廠及煉鋼鐵廠開徵「綠稅」。本席...</td>\n",
       "      <td>地方稅</td>\n",
       "      <td>地方稅 ; 綠稅 ; 空氣汙染防治法</td>\n",
       "    </tr>\n",
       "    <tr>\n",
       "      <th>619</th>\n",
       "      <td>吳成典</td>\n",
       "      <td>0.948715925216675</td>\n",
       "      <td>鑑於居家安全及消防常識已逐漸受到民眾的重視，請中央寬列消防機關人事費用，補助金、馬兩縣規劃合...</td>\n",
       "      <td>住宅安全 ; 消防設施</td>\n",
       "      <td>居家安全 ; 消防常識</td>\n",
       "    </tr>\n",
       "    <tr>\n",
       "      <th>6899</th>\n",
       "      <td>王昱婷</td>\n",
       "      <td>0.948617696762085</td>\n",
       "      <td>針對根據內政部最新統計，國內的嬰兒出生率再創新低點，今年1到4月只有6萬5400個小嬰兒出生...</td>\n",
       "      <td>出生率 ; 人口政策</td>\n",
       "      <td>出生率 ; 生育率</td>\n",
       "    </tr>\n",
       "    <tr>\n",
       "      <th>1296</th>\n",
       "      <td>廖婉汝</td>\n",
       "      <td>0.944932997226715</td>\n",
       "      <td>針對高高屏三縣市家庭收入偏低，要求政府應設法為高高屏三縣市創造就業機會，以提高高高屏三縣市之...</td>\n",
       "      <td>貧富差距 ; 低收入戶 ; 失業</td>\n",
       "      <td>家庭收入 ; 就業機會</td>\n",
       "    </tr>\n",
       "    <tr>\n",
       "      <th>2601</th>\n",
       "      <td>李復興</td>\n",
       "      <td>0.941860556602478</td>\n",
       "      <td>發現自九十三年一月間起，勞保局陸續清查有一千多名國、公營事業退休員工溢領敬老津貼，截至93年...</td>\n",
       "      <td>老年給付 ; 勞工退休</td>\n",
       "      <td>公營事業退休員工 ; 溢領敬老津貼</td>\n",
       "    </tr>\n",
       "    <tr>\n",
       "      <th>10264</th>\n",
       "      <td>陳根德</td>\n",
       "      <td>0.940596461296082</td>\n",
       "      <td>鑒於桃園縣民眾陳情抗議中正路延伸工程拆遷補償不公，並聚集在中正路尾工地現場，希望盡速發放地上...</td>\n",
       "      <td>道路工程 ; 政府補助</td>\n",
       "      <td>工程 ; 補償</td>\n",
       "    </tr>\n",
       "    <tr>\n",
       "      <th>7382</th>\n",
       "      <td>盧秀燕</td>\n",
       "      <td>0.934631168842316</td>\n",
       "      <td>針對早期退除役軍官給與補助金發放金額過低，實無法解決終身生活所需，希望相關單位考量實際情況，...</td>\n",
       "      <td>榮民福利</td>\n",
       "      <td>早期退除役軍官給與補助金</td>\n",
       "    </tr>\n",
       "    <tr>\n",
       "      <th>9527</th>\n",
       "      <td>鄭朝明</td>\n",
       "      <td>0.930713653564453</td>\n",
       "      <td>針對我國生育率逐年下降，嚴重影響人口結構發展。民眾不願多生育子女，主因在於負擔費用過重，政府...</td>\n",
       "      <td>出生率 ; 人口政策</td>\n",
       "      <td>生育率 ; 人口 ; 人口老化</td>\n",
       "    </tr>\n",
       "    <tr>\n",
       "      <th>2275</th>\n",
       "      <td>曾華德</td>\n",
       "      <td>0.930520176887512</td>\n",
       "      <td>為政府應特別重視山地離島地區居民健康問題，讓原住民之醫療照護在政府妥善照顧下獲得改善，特向行...</td>\n",
       "      <td>醫療政策 ; 離島政務</td>\n",
       "      <td>離島地區 ; 健康 ; 醫療照護</td>\n",
       "    </tr>\n",
       "    <tr>\n",
       "      <th>1641</th>\n",
       "      <td>彭添富</td>\n",
       "      <td>0.924946963787079</td>\n",
       "      <td>針對「豪雨成災，農作物損失補償」問題，特向行政院提出質詢。</td>\n",
       "      <td>農業補助</td>\n",
       "      <td>豪雨 ; 農作物</td>\n",
       "    </tr>\n",
       "  </tbody>\n",
       "</table>\n",
       "</div>"
      ],
      "text/plain": [
       "      legislator Pork Value(Constituency Interest)  \\\n",
       "9892         陳啟昱                 0.997228503227234   \n",
       "3999         林正峰                 0.996773242950439   \n",
       "1761         彭添富                 0.988480448722839   \n",
       "4553         林鴻池                 0.977922081947327   \n",
       "8340     蔡煌瑯(離職)                 0.976976394653320   \n",
       "8531          薛凌                 0.953770041465759   \n",
       "619          吳成典                 0.948715925216675   \n",
       "6899         王昱婷                 0.948617696762085   \n",
       "1296         廖婉汝                 0.944932997226715   \n",
       "2601         李復興                 0.941860556602478   \n",
       "10264        陳根德                 0.940596461296082   \n",
       "7382         盧秀燕                 0.934631168842316   \n",
       "9527         鄭朝明                 0.930713653564453   \n",
       "2275         曾華德                 0.930520176887512   \n",
       "1641         彭添富                 0.924946963787079   \n",
       "\n",
       "                                  Legislative Questions              Topic  \\\n",
       "9892   鑑於現行《所得稅法》第十七條規定特別扣除額教育支出部分，僅以納稅義務人之子女就讀大專院校為限...  所得稅 ; 教育費用 ; 扣除額   \n",
       "3999   針對政府準備修法推動「二代健保」，健保保費採取「年度所得總額」為計算基礎，而非採用扣除免稅額...   國民 ; 健康保險 ; 保險費   \n",
       "1761         針對「辦理九十四年原住民中低收入戶家庭租屋補助計畫」專案補助計畫，特向行政院提出質詢。            原住民族生活   \n",
       "4553   針對行政院宣布補助弱勢家庭子女就讀私校高中職之學費，卻將資格限制在「非自願就讀者」，有畫餅充...       低收入戶 ; 教育補助   \n",
       "8340                「2005南投花卉嘉年華」活動爭取中央經費補助案由，特向行政院提出質詢。       農業推廣 ; 政府補助   \n",
       "8531   針對雲林縣政府擬訂「雲林縣地方稅徵收自治條例」草案，開始對煉油廠及煉鋼鐵廠開徵「綠稅」。本席...               地方稅   \n",
       "619    鑑於居家安全及消防常識已逐漸受到民眾的重視，請中央寬列消防機關人事費用，補助金、馬兩縣規劃合...       住宅安全 ; 消防設施   \n",
       "6899   針對根據內政部最新統計，國內的嬰兒出生率再創新低點，今年1到4月只有6萬5400個小嬰兒出生...        出生率 ; 人口政策   \n",
       "1296   針對高高屏三縣市家庭收入偏低，要求政府應設法為高高屏三縣市創造就業機會，以提高高高屏三縣市之...  貧富差距 ; 低收入戶 ; 失業   \n",
       "2601   發現自九十三年一月間起，勞保局陸續清查有一千多名國、公營事業退休員工溢領敬老津貼，截至93年...       老年給付 ; 勞工退休   \n",
       "10264  鑒於桃園縣民眾陳情抗議中正路延伸工程拆遷補償不公，並聚集在中正路尾工地現場，希望盡速發放地上...       道路工程 ; 政府補助   \n",
       "7382   針對早期退除役軍官給與補助金發放金額過低，實無法解決終身生活所需，希望相關單位考量實際情況，...              榮民福利   \n",
       "9527   針對我國生育率逐年下降，嚴重影響人口結構發展。民眾不願多生育子女，主因在於負擔費用過重，政府...        出生率 ; 人口政策   \n",
       "2275   為政府應特別重視山地離島地區居民健康問題，讓原住民之醫療照護在政府妥善照顧下獲得改善，特向行...       醫療政策 ; 離島政務   \n",
       "1641                       針對「豪雨成災，農作物損失補償」問題，特向行政院提出質詢。              農業補助   \n",
       "\n",
       "                  Key Word  \n",
       "9892   所得稅法 ; 特別扣除額 ; 教育支出  \n",
       "3999         二代健保 ; 年度所得總額  \n",
       "1761       原住民中低收入戶 ; 租屋補助  \n",
       "4553          弱勢家庭 ; 私立高中職  \n",
       "8340        南投花卉嘉年華 ; 中央經費  \n",
       "8531    地方稅 ; 綠稅 ; 空氣汙染防治法  \n",
       "619            居家安全 ; 消防常識  \n",
       "6899             出生率 ; 生育率  \n",
       "1296           家庭收入 ; 就業機會  \n",
       "2601     公營事業退休員工 ; 溢領敬老津貼  \n",
       "10264              工程 ; 補償  \n",
       "7382          早期退除役軍官給與補助金  \n",
       "9527       生育率 ; 人口 ; 人口老化  \n",
       "2275      離島地區 ; 健康 ; 醫療照護  \n",
       "1641              豪雨 ; 農作物  "
      ]
     },
     "execution_count": 27,
     "metadata": {},
     "output_type": "execute_result"
    }
   ],
   "source": [
    "pd.DataFrame(\n",
    "    {'legislator': sample_df.legislator,\n",
    "     'Pork Value(Constituency Interest)':[as_num(Dcnn(np.array([tokenizer.encode(line)]), training=True).numpy()[0][0]) for line in sub_set],\n",
    "     'Legislative Questions ': sample_df.title,\n",
    "     'Topic': sample_df.topic,\n",
    "     'Key Word':sample_df.keywords}).sort_values(by=['Pork Value(Constituency Interest)'], ascending = False).head(15)"
   ]
  },
  {
   "cell_type": "markdown",
   "id": "6a6d4b15-3e05-427d-a664-8c8ce4e6622c",
   "metadata": {},
   "source": [
    "##### Last 10 Rows of 2000 Samples"
   ]
  },
  {
   "cell_type": "code",
   "execution_count": 28,
   "id": "369a7336-dc9d-4883-b919-b19611b5ad39",
   "metadata": {
    "execution": {
     "iopub.execute_input": "2021-07-04T18:43:51.885988Z",
     "iopub.status.busy": "2021-07-04T18:43:51.885766Z",
     "iopub.status.idle": "2021-07-04T18:44:04.104612Z",
     "shell.execute_reply": "2021-07-04T18:44:04.103955Z",
     "shell.execute_reply.started": "2021-07-04T18:43:51.885960Z"
    },
    "tags": []
   },
   "outputs": [
    {
     "data": {
      "text/html": [
       "<div>\n",
       "<style scoped>\n",
       "    .dataframe tbody tr th:only-of-type {\n",
       "        vertical-align: middle;\n",
       "    }\n",
       "\n",
       "    .dataframe tbody tr th {\n",
       "        vertical-align: top;\n",
       "    }\n",
       "\n",
       "    .dataframe thead th {\n",
       "        text-align: right;\n",
       "    }\n",
       "</style>\n",
       "<table border=\"1\" class=\"dataframe\">\n",
       "  <thead>\n",
       "    <tr style=\"text-align: right;\">\n",
       "      <th></th>\n",
       "      <th>legislator</th>\n",
       "      <th>Pork Value(Constituency Interest)</th>\n",
       "      <th>Legislative Questions</th>\n",
       "      <th>Topic</th>\n",
       "      <th>Key Word</th>\n",
       "    </tr>\n",
       "  </thead>\n",
       "  <tbody>\n",
       "    <tr>\n",
       "      <th>5595</th>\n",
       "      <td>潘孟安</td>\n",
       "      <td>0.000009770197721</td>\n",
       "      <td>就立法委員選舉，改採單一選區兩票制即將首度實施，中央選舉委員應加強宣導「單一選區兩票制」的新...</td>\n",
       "      <td>選舉</td>\n",
       "      <td>立法委員選舉 ; 單一選區兩票制</td>\n",
       "    </tr>\n",
       "    <tr>\n",
       "      <th>8057</th>\n",
       "      <td>莊和子</td>\n",
       "      <td>0.000009631043213</td>\n",
       "      <td>針對近來國內、外大規模傳染病頻傳，造成多數病亡，對我國國人健康產生嚴重威脅。行政院應成立跨部...</td>\n",
       "      <td>傳染病防治</td>\n",
       "      <td>傳染病 ; 健康</td>\n",
       "    </tr>\n",
       "    <tr>\n",
       "      <th>2439</th>\n",
       "      <td>李俊毅</td>\n",
       "      <td>0.000008400144907</td>\n",
       "      <td>針對近來國務機要費與首長特別費因相關規範未臻明確，遭質疑該筆金額等同於首長薪水或私房錢，且有...</td>\n",
       "      <td>國家元首 ; 行政首長 ; 統一發票</td>\n",
       "      <td>國務機要費 ; 首長特別費</td>\n",
       "    </tr>\n",
       "    <tr>\n",
       "      <th>9043</th>\n",
       "      <td>邱毅</td>\n",
       "      <td>0.000007525605724</td>\n",
       "      <td>針對高捷案已初步偵結，並起訴了「五人評決小組」等人士，但從起訴內容來看，僅僅觸及了高捷案的表...</td>\n",
       "      <td>大眾捷運 ; 偵查</td>\n",
       "      <td>高捷弊案 ; 專案調查小組</td>\n",
       "    </tr>\n",
       "    <tr>\n",
       "      <th>7429</th>\n",
       "      <td>管碧玲</td>\n",
       "      <td>0.000007453047147</td>\n",
       "      <td>針對近日台灣鐵路管理局發生網路訂票系統遭到內部人員惡意壟斷，導致一般民眾訂票權益受損之弊端；...</td>\n",
       "      <td>鐵路管理 ; 車票</td>\n",
       "      <td>網路訂票 ; 壟斷 ; 台鐵</td>\n",
       "    </tr>\n",
       "    <tr>\n",
       "      <th>8839</th>\n",
       "      <td>賴清德</td>\n",
       "      <td>0.000006656427558</td>\n",
       "      <td>針對市售豆類製品疑含「過氧化氫」情形嚴重，傷害消費者健康，爰要求相關單位依食品衛生管理法切實...</td>\n",
       "      <td>食品管理</td>\n",
       "      <td>豆類製品 ; 過氧化氫</td>\n",
       "    </tr>\n",
       "    <tr>\n",
       "      <th>208</th>\n",
       "      <td>何敏豪</td>\n",
       "      <td>0.000006508919796</td>\n",
       "      <td>頃聞彰化青年楊儒門因為感於台灣農民權益受到政府輕忽，屢次陳情未見政府相關單位重視，故而放置無...</td>\n",
       "      <td>人權</td>\n",
       "      <td>農民權益 ; 稻米 ; 楊儒門 ; 長期羈押 ; 人權</td>\n",
       "    </tr>\n",
       "    <tr>\n",
       "      <th>6273</th>\n",
       "      <td>王幸男</td>\n",
       "      <td>0.000006403976386</td>\n",
       "      <td>針對目前斃死豬陰影持續籠罩全台：屏東再度查獲私宰販賣斃死豬的常業慣犯，十一名嫌犯落網，但卻不...</td>\n",
       "      <td>肉品衛生 ; 食品管理</td>\n",
       "      <td>斃死豬</td>\n",
       "    </tr>\n",
       "    <tr>\n",
       "      <th>10549</th>\n",
       "      <td>高志鵬</td>\n",
       "      <td>0.000005781147593</td>\n",
       "      <td>為NCC組織條例中有關委員組成及提名方式被大法官會議解釋違憲一事，本席認為這再次証明國親以立...</td>\n",
       "      <td>政府組織 ; 通訊政策 ; 大眾傳播 ; 編制</td>\n",
       "      <td>NCC ; 違憲 ; 國家通訊傳播委員會</td>\n",
       "    </tr>\n",
       "    <tr>\n",
       "      <th>9039</th>\n",
       "      <td>邱毅</td>\n",
       "      <td>0.000005625881840</td>\n",
       "      <td>針對新聞局認定TVBS應為綜合台非新聞台乙案，準備將TVBS轉頻一事，日前行政院新聞局認定T...</td>\n",
       "      <td>新聞自由 ; 電視臺</td>\n",
       "      <td>TVBS ; 股權結構 ; 外資 ; 國家通訊傳播委員會組織法 ; NCC ; 報導自由</td>\n",
       "    </tr>\n",
       "    <tr>\n",
       "      <th>2534</th>\n",
       "      <td>李復甸</td>\n",
       "      <td>0.000005069640338</td>\n",
       "      <td>鑑於刑事偵察實務上緩起訴制度，有淪於檢察官為同案被告間不利證詞取得之交換手段之虞，破壞緩起訴...</td>\n",
       "      <td>偵查 ; 訴訟程序</td>\n",
       "      <td>刑事偵察 ; 秘密證人</td>\n",
       "    </tr>\n",
       "    <tr>\n",
       "      <th>825</th>\n",
       "      <td>吳清池</td>\n",
       "      <td>0.000004464330686</td>\n",
       "      <td>有鑒於近日來交通部狀況不斷，從華航、高鐵、台鐵到公路意外事故頻傳，傳聞交通部擬盛大舉辦中元普...</td>\n",
       "      <td>意外事故 ; 行政效率</td>\n",
       "      <td>意外事故</td>\n",
       "    </tr>\n",
       "    <tr>\n",
       "      <th>2339</th>\n",
       "      <td>朱俊曉</td>\n",
       "      <td>0.000002762088798</td>\n",
       "      <td>針對近日新內閣多項工作狀況頻頻，引起治安、金融和外交上的政治危機，並嚴重影響政府、國家形象，...</td>\n",
       "      <td>內閣改組 ; 政府施政</td>\n",
       "      <td>內閣</td>\n",
       "    </tr>\n",
       "    <tr>\n",
       "      <th>982</th>\n",
       "      <td>周守訓</td>\n",
       "      <td>0.000001533453656</td>\n",
       "      <td>針對日前媒體報導陳水扁總統宣示，十二月二十五日耶誕節是重要的宗教節慶，更是我國的行憲紀念日，...</td>\n",
       "      <td>宗教 ; 假日</td>\n",
       "      <td>耶誕節 ; 行憲紀念日 ; 宗教自由 ; 政教分離</td>\n",
       "    </tr>\n",
       "    <tr>\n",
       "      <th>6636</th>\n",
       "      <td>王幸男</td>\n",
       "      <td>0.000000627428449</td>\n",
       "      <td>針對「莊嚴肅穆」的行憲紀念日，在威權時代「今天應懸掛國旗」，不過，在愈來愈多人的真實生活中，...</td>\n",
       "      <td>紀念活動 ; 憲政運作</td>\n",
       "      <td>聖誕節 ; 行憲紀念日 ; 制憲權</td>\n",
       "    </tr>\n",
       "  </tbody>\n",
       "</table>\n",
       "</div>"
      ],
      "text/plain": [
       "      legislator Pork Value(Constituency Interest)  \\\n",
       "5595         潘孟安                 0.000009770197721   \n",
       "8057         莊和子                 0.000009631043213   \n",
       "2439         李俊毅                 0.000008400144907   \n",
       "9043          邱毅                 0.000007525605724   \n",
       "7429         管碧玲                 0.000007453047147   \n",
       "8839         賴清德                 0.000006656427558   \n",
       "208          何敏豪                 0.000006508919796   \n",
       "6273         王幸男                 0.000006403976386   \n",
       "10549        高志鵬                 0.000005781147593   \n",
       "9039          邱毅                 0.000005625881840   \n",
       "2534         李復甸                 0.000005069640338   \n",
       "825          吳清池                 0.000004464330686   \n",
       "2339         朱俊曉                 0.000002762088798   \n",
       "982          周守訓                 0.000001533453656   \n",
       "6636         王幸男                 0.000000627428449   \n",
       "\n",
       "                                  Legislative Questions   \\\n",
       "5595   就立法委員選舉，改採單一選區兩票制即將首度實施，中央選舉委員應加強宣導「單一選區兩票制」的新...   \n",
       "8057   針對近來國內、外大規模傳染病頻傳，造成多數病亡，對我國國人健康產生嚴重威脅。行政院應成立跨部...   \n",
       "2439   針對近來國務機要費與首長特別費因相關規範未臻明確，遭質疑該筆金額等同於首長薪水或私房錢，且有...   \n",
       "9043   針對高捷案已初步偵結，並起訴了「五人評決小組」等人士，但從起訴內容來看，僅僅觸及了高捷案的表...   \n",
       "7429   針對近日台灣鐵路管理局發生網路訂票系統遭到內部人員惡意壟斷，導致一般民眾訂票權益受損之弊端；...   \n",
       "8839   針對市售豆類製品疑含「過氧化氫」情形嚴重，傷害消費者健康，爰要求相關單位依食品衛生管理法切實...   \n",
       "208    頃聞彰化青年楊儒門因為感於台灣農民權益受到政府輕忽，屢次陳情未見政府相關單位重視，故而放置無...   \n",
       "6273   針對目前斃死豬陰影持續籠罩全台：屏東再度查獲私宰販賣斃死豬的常業慣犯，十一名嫌犯落網，但卻不...   \n",
       "10549  為NCC組織條例中有關委員組成及提名方式被大法官會議解釋違憲一事，本席認為這再次証明國親以立...   \n",
       "9039   針對新聞局認定TVBS應為綜合台非新聞台乙案，準備將TVBS轉頻一事，日前行政院新聞局認定T...   \n",
       "2534   鑑於刑事偵察實務上緩起訴制度，有淪於檢察官為同案被告間不利證詞取得之交換手段之虞，破壞緩起訴...   \n",
       "825    有鑒於近日來交通部狀況不斷，從華航、高鐵、台鐵到公路意外事故頻傳，傳聞交通部擬盛大舉辦中元普...   \n",
       "2339   針對近日新內閣多項工作狀況頻頻，引起治安、金融和外交上的政治危機，並嚴重影響政府、國家形象，...   \n",
       "982    針對日前媒體報導陳水扁總統宣示，十二月二十五日耶誕節是重要的宗教節慶，更是我國的行憲紀念日，...   \n",
       "6636   針對「莊嚴肅穆」的行憲紀念日，在威權時代「今天應懸掛國旗」，不過，在愈來愈多人的真實生活中，...   \n",
       "\n",
       "                         Topic                                      Key Word  \n",
       "5595                        選舉                              立法委員選舉 ; 單一選區兩票制  \n",
       "8057                     傳染病防治                                      傳染病 ; 健康  \n",
       "2439        國家元首 ; 行政首長 ; 統一發票                                 國務機要費 ; 首長特別費  \n",
       "9043                 大眾捷運 ; 偵查                                 高捷弊案 ; 專案調查小組  \n",
       "7429                 鐵路管理 ; 車票                                網路訂票 ; 壟斷 ; 台鐵  \n",
       "8839                      食品管理                                   豆類製品 ; 過氧化氫  \n",
       "208                         人權                   農民權益 ; 稻米 ; 楊儒門 ; 長期羈押 ; 人權  \n",
       "6273               肉品衛生 ; 食品管理                                           斃死豬  \n",
       "10549  政府組織 ; 通訊政策 ; 大眾傳播 ; 編制                          NCC ; 違憲 ; 國家通訊傳播委員會  \n",
       "9039                新聞自由 ; 電視臺  TVBS ; 股權結構 ; 外資 ; 國家通訊傳播委員會組織法 ; NCC ; 報導自由  \n",
       "2534                 偵查 ; 訴訟程序                                   刑事偵察 ; 秘密證人  \n",
       "825                意外事故 ; 行政效率                                          意外事故  \n",
       "2339               內閣改組 ; 政府施政                                            內閣  \n",
       "982                    宗教 ; 假日                     耶誕節 ; 行憲紀念日 ; 宗教自由 ; 政教分離  \n",
       "6636               紀念活動 ; 憲政運作                             聖誕節 ; 行憲紀念日 ; 制憲權  "
      ]
     },
     "execution_count": 28,
     "metadata": {},
     "output_type": "execute_result"
    }
   ],
   "source": [
    "pd.DataFrame(\n",
    "    {'legislator': sample_df.legislator,\n",
    "     'Pork Value(Constituency Interest)':[as_num(Dcnn(np.array([tokenizer.encode(line)]), training=True).numpy()[0][0]) for line in sub_set],\n",
    "     'Legislative Questions ': sample_df.title,\n",
    "     'Topic': sample_df.topic,\n",
    "     'Key Word':sample_df.keywords}).sort_values(by=['Pork Value(Constituency Interest)'], ascending = False).tail(15)"
   ]
  },
  {
   "cell_type": "markdown",
   "id": "5dc01475-847a-408f-9972-ac02e7aa4721",
   "metadata": {},
   "source": [
    "#### (2) Export an End-to-end Model\n"
   ]
  },
  {
   "cell_type": "code",
   "execution_count": 29,
   "id": "196028d0-edfe-434f-a173-4ccaa688faaa",
   "metadata": {
    "execution": {
     "iopub.execute_input": "2021-07-04T18:44:04.105909Z",
     "iopub.status.busy": "2021-07-04T18:44:04.105743Z",
     "iopub.status.idle": "2021-07-04T18:44:04.108172Z",
     "shell.execute_reply": "2021-07-04T18:44:04.107660Z",
     "shell.execute_reply.started": "2021-07-04T18:44:04.105889Z"
    },
    "tags": []
   },
   "outputs": [],
   "source": [
    "from tensorflow.keras.models import load_model"
   ]
  },
  {
   "cell_type": "code",
   "execution_count": 30,
   "id": "071291d0-c5bb-48de-adb2-f8b2bb3bb542",
   "metadata": {
    "execution": {
     "iopub.execute_input": "2021-07-04T18:44:04.109455Z",
     "iopub.status.busy": "2021-07-04T18:44:04.109093Z",
     "iopub.status.idle": "2021-07-04T18:44:05.326726Z",
     "shell.execute_reply": "2021-07-04T18:44:05.326111Z",
     "shell.execute_reply.started": "2021-07-04T18:44:04.109429Z"
    },
    "tags": []
   },
   "outputs": [
    {
     "name": "stdout",
     "output_type": "stream",
     "text": [
      "INFO:tensorflow:Assets written to: lour_pork_model/assets\n"
     ]
    },
    {
     "name": "stderr",
     "output_type": "stream",
     "text": [
      "INFO:tensorflow:Assets written to: lour_pork_model/assets\n"
     ]
    }
   ],
   "source": [
    "# Get model (Sequential, Functional Model, or Model subclass)\n",
    "Dcnn.save('lour_pork_model')"
   ]
  },
  {
   "cell_type": "code",
   "execution_count": 31,
   "id": "2ac46183-b841-469b-8897-1fea2922e445",
   "metadata": {
    "execution": {
     "iopub.execute_input": "2021-07-04T18:44:05.327998Z",
     "iopub.status.busy": "2021-07-04T18:44:05.327827Z",
     "iopub.status.idle": "2021-07-04T18:44:05.824723Z",
     "shell.execute_reply": "2021-07-04T18:44:05.824213Z",
     "shell.execute_reply.started": "2021-07-04T18:44:05.327978Z"
    },
    "tags": []
   },
   "outputs": [],
   "source": [
    "from tensorflow import keras\n",
    "model = keras.models.load_model('lour_pork_model')"
   ]
  }
 ],
 "metadata": {
  "kernelspec": {
   "display_name": "Python 3",
   "language": "python",
   "name": "python3"
  },
  "language_info": {
   "codemirror_mode": {
    "name": "ipython",
    "version": 3
   },
   "file_extension": ".py",
   "mimetype": "text/x-python",
   "name": "python",
   "nbconvert_exporter": "python",
   "pygments_lexer": "ipython3",
   "version": "3.8.8"
  }
 },
 "nbformat": 4,
 "nbformat_minor": 5
}
