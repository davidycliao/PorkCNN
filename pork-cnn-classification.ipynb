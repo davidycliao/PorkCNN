{
 "cells": [
  {
   "cell_type": "markdown",
   "id": "b65dfbdc-bb80-4bd4-8248-dd06483222cd",
   "metadata": {},
   "source": [
    "# Lour's Pork Barrel Classifier (羅老師肉桶文本分類器)🐖\n",
    "## Convolutional Neural Networks for Pork Barrel Project Classification \n",
    "\n",
    "\n",
    "author: davidycliao(David Yen-Chieh Liao)                                                                      \n",
    "email: davidycliao@gmail.com                                                             \n",
    "date: 9-July-2021    "
   ]
  },
  {
   "cell_type": "markdown",
   "id": "e8005d5a-f938-4c26-86d5-592408152d08",
   "metadata": {},
   "source": [
    "-------------------------\n",
    "\n",
    "### Stage 1: Libaries & Dependencies"
   ]
  },
  {
   "cell_type": "code",
   "execution_count": 1,
   "id": "6ca92ba3-7480-418f-91e0-d2beea2d10af",
   "metadata": {
    "execution": {
     "iopub.execute_input": "2021-10-05T22:19:22.527879Z",
     "iopub.status.busy": "2021-10-05T22:19:22.527722Z",
     "iopub.status.idle": "2021-10-05T22:19:28.054251Z",
     "shell.execute_reply": "2021-10-05T22:19:28.053731Z",
     "shell.execute_reply.started": "2021-10-05T22:19:22.527859Z"
    },
    "tags": []
   },
   "outputs": [],
   "source": [
    "# built-in library\n",
    "import math\n",
    "import re\n",
    "import collections\n",
    "import zipfile\n",
    "import random\n",
    "from itertools import chain\n",
    "\n",
    "# ML & Deep Learning/ NLP toolkit\n",
    "import pandas as pd\n",
    "import numpy as np\n",
    "import jieba\n",
    "from sklearn.model_selection import train_test_split\n",
    "import tensorflow as tf\n",
    "from tensorflow.keras import layers\n",
    "import tensorflow_datasets as tfds\n",
    "from tensorflow.keras.callbacks import EarlyStopping,TensorBoard\n",
    "\n",
    "# Visualization\n",
    "import matplotlib.pyplot as plt\n",
    "import seaborn as sns"
   ]
  },
  {
   "cell_type": "markdown",
   "id": "8bd77e05-355a-422f-87db-2cf77cba3bdd",
   "metadata": {},
   "source": [
    "-------------------------\n",
    "\n",
    "### Stage 2: Data Preprocessing (Training Data: Introduction of Bills and Legislation from 6th Session to 7th Session, 2004-2012)"
   ]
  },
  {
   "cell_type": "markdown",
   "id": "3b57b9c9-443e-4e26-bda2-15f6877845d5",
   "metadata": {},
   "source": [
    "#### (1) Read file "
   ]
  },
  {
   "cell_type": "code",
   "execution_count": 2,
   "id": "e1973cfb-73d4-4717-a67a-a4e8a0c9edb0",
   "metadata": {
    "execution": {
     "iopub.execute_input": "2021-10-05T22:19:28.055138Z",
     "iopub.status.busy": "2021-10-05T22:19:28.054998Z",
     "iopub.status.idle": "2021-10-05T22:19:28.093354Z",
     "shell.execute_reply": "2021-10-05T22:19:28.092777Z",
     "shell.execute_reply.started": "2021-10-05T22:19:28.055119Z"
    },
    "tags": []
   },
   "outputs": [],
   "source": [
    "# read file\n",
    "df = pd.read_csv('data/Pork Bill - 2021-05-20.csv',encoding='utf-8')\n",
    "\n",
    "# combine abstract of bill and title \n",
    "df['text'] =  df['Title'] + df['Content'].fillna(df['Title'])\n",
    "\n",
    "# drop conten without having any characters\n",
    "# view na's row: df[df['text'].isnull()==True]\n",
    "data = df[['text', 'pork_bill']].dropna(subset=['text'])"
   ]
  },
  {
   "cell_type": "code",
   "execution_count": 3,
   "id": "f6160785-9522-4404-8f77-6df941869cde",
   "metadata": {
    "execution": {
     "iopub.execute_input": "2021-10-05T22:19:28.094540Z",
     "iopub.status.busy": "2021-10-05T22:19:28.094266Z",
     "iopub.status.idle": "2021-10-05T22:19:28.099124Z",
     "shell.execute_reply": "2021-10-05T22:19:28.098535Z",
     "shell.execute_reply.started": "2021-10-05T22:19:28.094517Z"
    },
    "tags": []
   },
   "outputs": [
    {
     "name": "stdout",
     "output_type": "stream",
     "text": [
      " Pork Legislation 2510 \n",
      " None-Pork Legislation 4733\n"
     ]
    }
   ],
   "source": [
    "print(\" Pork Legislation\", data['pork_bill'].value_counts()[1],'\\n', \n",
    "      \"None-Pork Legislation\", data['pork_bill'].value_counts()[0])"
   ]
  },
  {
   "cell_type": "code",
   "execution_count": 4,
   "id": "11f1b3ab-7f1e-40b0-995a-e66ae58da102",
   "metadata": {
    "execution": {
     "iopub.execute_input": "2021-10-05T22:19:28.100353Z",
     "iopub.status.busy": "2021-10-05T22:19:28.100109Z",
     "iopub.status.idle": "2021-10-05T22:19:28.192283Z",
     "shell.execute_reply": "2021-10-05T22:19:28.191835Z",
     "shell.execute_reply.started": "2021-10-05T22:19:28.100326Z"
    },
    "tags": []
   },
   "outputs": [
    {
     "data": {
      "image/png": "[encoded data removed]",
      "text/plain": [
       "<Figure size 720x432 with 1 Axes>"
      ]
     },
     "metadata": {
      "needs_background": "light"
     },
     "output_type": "display_data"
    }
   ],
   "source": [
    "import matplotlib.pyplot as plt\n",
    "plt.figure(figsize=(10, 6))\n",
    "pork_plot = pd.DataFrame({\"num\":data['pork_bill'].value_counts(), \"type\":['Not Pork','Pork']})\n",
    "plt.bar(pork_plot['type'], pork_plot['num'], color='#57A1AB')\n",
    "plt.show()"
   ]
  },
  {
   "cell_type": "markdown",
   "id": "5e6d677d-e200-40e6-9252-130eb02fc682",
   "metadata": {
    "execution": {
     "iopub.execute_input": "2021-05-16T17:01:03.001989Z",
     "iopub.status.busy": "2021-05-16T17:01:03.001801Z",
     "iopub.status.idle": "2021-05-16T17:01:03.004600Z",
     "shell.execute_reply": "2021-05-16T17:01:03.003789Z",
     "shell.execute_reply.started": "2021-05-16T17:01:03.001969Z"
    }
   },
   "source": [
    "#### (2) Tokenization"
   ]
  },
  {
   "cell_type": "code",
   "execution_count": 5,
   "id": "120e8b54-7f75-4ca6-a0d0-9872b1522e8e",
   "metadata": {
    "execution": {
     "iopub.execute_input": "2021-10-05T22:19:28.193327Z",
     "iopub.status.busy": "2021-10-05T22:19:28.193198Z",
     "iopub.status.idle": "2021-10-05T22:19:28.199937Z",
     "shell.execute_reply": "2021-10-05T22:19:28.199450Z",
     "shell.execute_reply.started": "2021-10-05T22:19:28.193310Z"
    },
    "tags": []
   },
   "outputs": [],
   "source": [
    "import collections\n",
    "import numpy as np\n",
    "import jieba\n",
    "from itertools import chain\n",
    "\n",
    "\n",
    "def jieba_cut(filename):\n",
    "    \"\"\"\n",
    "    cut Chinese and remove stop words\n",
    "    Reference: https://www.cnblogs.com/Luv-GEM/p/10836454.html\n",
    "    Stopwords: https://www.kaggle.com/rikdifos/english-and-chinese-stopwords?select=cn_stopwords.txt\n",
    "    \"\"\"\n",
    "    stop_list = [i.strip() for i in open('data/cn_stopwords.txt','r',encoding='utf-8')]  \n",
    "    news_cut = []\n",
    "    news_list = []\n",
    "    for line in filename:    \n",
    "        if line:\n",
    "            news_cut = list(jieba.cut(''.join(line),cut_all=False,HMM=True))  \n",
    "            news_list.append([word.strip() for word in news_cut if word not in stop_list and len(word.strip())>0]) \n",
    "    news_list = list(chain.from_iterable(news_list))  \n",
    "    return news_list\n",
    "\n",
    "def clearPucts(context):\n",
    "    \"\"\"\n",
    "    remove punctuation\n",
    "    ref: https://chenyuzuoo.github.io/posts/28001/\n",
    "    \"\"\"\n",
    "    context = re.sub(\"[\\s+\\.\\!\\/_,$%^*(+\\\"\\']+|[+——！，。？、~@#￥%……&*（）]+\", \"\", context)\n",
    "    context = re.sub(\"[【】╮╯▽╰╭★→「」]+\",\"\", context)\n",
    "    context = re.sub(\"！，❤。～《》：（）【】「」？”“；：、\",\"\",context)\n",
    "    context = re.sub(\"\\s\",\"\",context)\n",
    "    return context\n",
    "\n",
    "def seg_char(sent):\n",
    "    \"\"\"\n",
    "    cut Chinese and remove stop words\n",
    "    ref: https://blog.csdn.net/renyuanfang/article/details/86487367\n",
    "    \"\"\"\n",
    "    # split\n",
    "    pattern_char_1 = re.compile(r'([\\W])')\n",
    "    parts = pattern_char_1.split(sent)\n",
    "    parts = [p for p in parts if len(p.strip())>0]\n",
    "    # cut sentence\n",
    "    pattern = re.compile(r'([\\u4e00-\\u9fa5])')\n",
    "    chars = pattern.split(sent)\n",
    "    chars = [w for w in chars if len(w.strip())>0]\n",
    "    chars = ' '.join(chars)\n",
    "    return chars"
   ]
  },
  {
   "cell_type": "code",
   "execution_count": 6,
   "id": "db4c6206-6eca-4958-a5d7-6319f48bb348",
   "metadata": {
    "execution": {
     "iopub.execute_input": "2021-10-05T22:19:28.203084Z",
     "iopub.status.busy": "2021-10-05T22:19:28.202926Z",
     "iopub.status.idle": "2021-10-05T22:19:30.252681Z",
     "shell.execute_reply": "2021-10-05T22:19:30.251770Z",
     "shell.execute_reply.started": "2021-10-05T22:19:28.203066Z"
    },
    "tags": []
   },
   "outputs": [],
   "source": [
    "data_clean = [seg_char(text) for text in [clearPucts(text) for text in data.text]]\n",
    "\n",
    "tokenizer = tfds.deprecated.text.SubwordTextEncoder.build_from_corpus(\n",
    "    data_clean, target_vocab_size=2**18)\n",
    "\n",
    "data_inputs = [tokenizer.encode(sentence) for sentence in data_clean]"
   ]
  },
  {
   "cell_type": "markdown",
   "id": "089e65af-e49c-4d60-962e-a0a826809aa5",
   "metadata": {
    "execution": {
     "iopub.execute_input": "2021-05-16T17:01:47.611294Z",
     "iopub.status.busy": "2021-05-16T17:01:47.611020Z",
     "iopub.status.idle": "2021-05-16T17:01:47.614208Z",
     "shell.execute_reply": "2021-05-16T17:01:47.613487Z",
     "shell.execute_reply.started": "2021-05-16T17:01:47.611276Z"
    }
   },
   "source": [
    "#### (3) Padding"
   ]
  },
  {
   "cell_type": "code",
   "execution_count": 7,
   "id": "b801d231-972c-47e3-83c4-7375c2e11a18",
   "metadata": {
    "execution": {
     "iopub.execute_input": "2021-10-05T22:19:30.255322Z",
     "iopub.status.busy": "2021-10-05T22:19:30.254925Z",
     "iopub.status.idle": "2021-10-05T22:19:30.319051Z",
     "shell.execute_reply": "2021-10-05T22:19:30.318478Z",
     "shell.execute_reply.started": "2021-10-05T22:19:30.255268Z"
    },
    "tags": []
   },
   "outputs": [],
   "source": [
    "MAX_LEN = max([len(sentence) for sentence in data_clean])\n",
    "data_inputs = tf.keras.preprocessing.sequence.pad_sequences(data_inputs,\n",
    "                                                            value=0,\n",
    "                                                            padding=\"post\",\n",
    "                                                            maxlen=MAX_LEN)\n",
    "\n",
    "\n"
   ]
  },
  {
   "cell_type": "code",
   "execution_count": 8,
   "id": "bd561c2c-9c98-46c3-91a9-9bdb8f160344",
   "metadata": {
    "execution": {
     "iopub.execute_input": "2021-10-05T22:19:30.320118Z",
     "iopub.status.busy": "2021-10-05T22:19:30.319978Z",
     "iopub.status.idle": "2021-10-05T22:19:30.324106Z",
     "shell.execute_reply": "2021-10-05T22:19:30.323344Z",
     "shell.execute_reply.started": "2021-10-05T22:19:30.320100Z"
    },
    "tags": []
   },
   "outputs": [
    {
     "data": {
      "text/plain": [
       "(7243, 785)"
      ]
     },
     "execution_count": 8,
     "metadata": {},
     "output_type": "execute_result"
    }
   ],
   "source": [
    "data_inputs.shape"
   ]
  },
  {
   "cell_type": "markdown",
   "id": "f69d90cf-ac3c-4e08-b46b-457d9708d832",
   "metadata": {
    "execution": {
     "iopub.execute_input": "2021-05-16T17:02:28.107037Z",
     "iopub.status.busy": "2021-05-16T17:02:28.106843Z",
     "iopub.status.idle": "2021-05-16T17:02:28.109696Z",
     "shell.execute_reply": "2021-05-16T17:02:28.108954Z",
     "shell.execute_reply.started": "2021-05-16T17:02:28.107017Z"
    }
   },
   "source": [
    "#### (4) Spliting Training / Testing Set"
   ]
  },
  {
   "cell_type": "code",
   "execution_count": 9,
   "id": "42503355-eea3-4602-ae5a-ea18be84b8d1",
   "metadata": {
    "execution": {
     "iopub.execute_input": "2021-10-05T22:19:30.325326Z",
     "iopub.status.busy": "2021-10-05T22:19:30.325065Z",
     "iopub.status.idle": "2021-10-05T22:19:30.328315Z",
     "shell.execute_reply": "2021-10-05T22:19:30.327541Z",
     "shell.execute_reply.started": "2021-10-05T22:19:30.325302Z"
    },
    "tags": []
   },
   "outputs": [],
   "source": [
    "data_labels = data.pork_bill.values"
   ]
  },
  {
   "cell_type": "code",
   "execution_count": 10,
   "id": "19235117-f63a-4e06-a102-6efe98c37dbf",
   "metadata": {
    "execution": {
     "iopub.execute_input": "2021-10-05T22:19:30.329398Z",
     "iopub.status.busy": "2021-10-05T22:19:30.329107Z",
     "iopub.status.idle": "2021-10-05T22:19:30.342967Z",
     "shell.execute_reply": "2021-10-05T22:19:30.342296Z",
     "shell.execute_reply.started": "2021-10-05T22:19:30.329369Z"
    },
    "tags": []
   },
   "outputs": [
    {
     "name": "stdout",
     "output_type": "stream",
     "text": [
      "Shape of X Train: (4852, 785) \n",
      "Shape of X Test : (2391, 785) \n",
      "Shape of Y Trian: (4852,) \n",
      "Shape of Y Test : (2391,)\n"
     ]
    }
   ],
   "source": [
    "import numpy as np\n",
    "from sklearn.model_selection import train_test_split\n",
    "train_inputs, test_inputs, train_labels, test_labels = train_test_split(\n",
    "    data_inputs, data_labels, test_size=0.33, random_state=42)\n",
    "\n",
    "print(\"Shape of X Train:\", train_inputs.shape, '\\n'\n",
    "      \"Shape of X Test :\", test_inputs.shape,'\\n'\n",
    "      \"Shape of Y Trian:\", train_labels.shape , '\\n'\n",
    "      \"Shape of Y Test :\", test_labels.shape )"
   ]
  },
  {
   "cell_type": "code",
   "execution_count": 11,
   "id": "6f10cb5c-7c8d-4e1e-a987-11b8de8e42d0",
   "metadata": {
    "execution": {
     "iopub.execute_input": "2021-10-05T22:19:30.344012Z",
     "iopub.status.busy": "2021-10-05T22:19:30.343786Z",
     "iopub.status.idle": "2021-10-05T22:19:30.349257Z",
     "shell.execute_reply": "2021-10-05T22:19:30.346991Z",
     "shell.execute_reply.started": "2021-10-05T22:19:30.343992Z"
    },
    "tags": []
   },
   "outputs": [
    {
     "name": "stdout",
     "output_type": "stream",
     "text": [
      " Num of Train Set: 4852 \n",
      " Not Pork vs Pork: {0: 3167, 1: 1685}\n"
     ]
    }
   ],
   "source": [
    "unique_train_labels, counts_train_labels = np.unique(train_labels, return_counts=True)\n",
    "\n",
    "print(' Num of Train Set:' , train_inputs.shape[0], '\\n'\n",
    "      ,'Not Pork vs Pork:', dict(zip(unique_train_labels, counts_train_labels)))"
   ]
  },
  {
   "cell_type": "code",
   "execution_count": 12,
   "id": "f545a34d-f506-4db5-a8df-c0a89cb77a16",
   "metadata": {
    "execution": {
     "iopub.execute_input": "2021-10-05T22:19:30.351170Z",
     "iopub.status.busy": "2021-10-05T22:19:30.350826Z",
     "iopub.status.idle": "2021-10-05T22:19:30.503324Z",
     "shell.execute_reply": "2021-10-05T22:19:30.502815Z",
     "shell.execute_reply.started": "2021-10-05T22:19:30.351134Z"
    },
    "tags": []
   },
   "outputs": [
    {
     "data": {
      "image/png": "[encoded data removed]",
      "text/plain": [
       "<Figure size 720x432 with 1 Axes>"
      ]
     },
     "metadata": {
      "needs_background": "light"
     },
     "output_type": "display_data"
    }
   ],
   "source": [
    "import matplotlib.pyplot as plt\n",
    "plt.figure(figsize=(10, 6))\n",
    "train_plot = pd.DataFrame({\"num\":[dict(zip(unique_train_labels, counts_train_labels))[0],\n",
    "                                  dict(zip(unique_train_labels, counts_train_labels))[1]], \n",
    "                           \"type\":['Not Pork','Pork']})\n",
    "plt.bar(train_plot['type'], train_plot['num'], color='#57A1AB')\n",
    "plt.title('Train Set')\n",
    "#plt.show()\n",
    "plt.savefig('images/train_plot.png')"
   ]
  },
  {
   "cell_type": "code",
   "execution_count": 13,
   "id": "fedad623-02ba-4fad-b0b4-a094de7c39de",
   "metadata": {
    "execution": {
     "iopub.execute_input": "2021-10-05T22:19:30.504360Z",
     "iopub.status.busy": "2021-10-05T22:19:30.504216Z",
     "iopub.status.idle": "2021-10-05T22:19:30.508083Z",
     "shell.execute_reply": "2021-10-05T22:19:30.507336Z",
     "shell.execute_reply.started": "2021-10-05T22:19:30.504341Z"
    },
    "tags": []
   },
   "outputs": [
    {
     "name": "stdout",
     "output_type": "stream",
     "text": [
      " Num of Test Set: 2391 \n",
      " Not Pork vs Pork: {0: 1566, 1: 825}\n"
     ]
    }
   ],
   "source": [
    "unique_test_labels, counts_test_labels = np.unique(test_labels, return_counts=True)\n",
    "\n",
    "print(' Num of Test Set:' , test_inputs.shape[0], '\\n'\n",
    "      ,'Not Pork vs Pork:', dict(zip(unique_test_labels, counts_test_labels)))"
   ]
  },
  {
   "cell_type": "code",
   "execution_count": 14,
   "id": "ccc6799c-42b8-44c3-8352-e4b68ab3cfee",
   "metadata": {
    "execution": {
     "iopub.execute_input": "2021-10-05T22:19:30.509286Z",
     "iopub.status.busy": "2021-10-05T22:19:30.509054Z",
     "iopub.status.idle": "2021-10-05T22:19:30.678345Z",
     "shell.execute_reply": "2021-10-05T22:19:30.677868Z",
     "shell.execute_reply.started": "2021-10-05T22:19:30.509264Z"
    },
    "tags": []
   },
   "outputs": [
    {
     "data": {
      "image/png": "[encoded data removed]",
      "text/plain": [
       "<Figure size 720x432 with 1 Axes>"
      ]
     },
     "metadata": {
      "needs_background": "light"
     },
     "output_type": "display_data"
    }
   ],
   "source": [
    "import matplotlib.pyplot as plt\n",
    "plt.figure(figsize=(10, 6))\n",
    "test_plot = pd.DataFrame({\"num\":[dict(zip(unique_test_labels, counts_test_labels))[0],\n",
    "                                 dict(zip(unique_test_labels, counts_test_labels))[1]], \n",
    "                          \"type\":['Not Pork','Pork']})\n",
    "plt.bar(test_plot['type'], test_plot['num'], color='#B1C5C8')\n",
    "plt.title('Test Set')\n",
    "#plt.show()\n",
    "plt.savefig('images/test_plot.png')"
   ]
  },
  {
   "cell_type": "markdown",
   "id": "725f7feb-b93b-4d0b-bcbf-562240a79f8b",
   "metadata": {
    "execution": {
     "iopub.execute_input": "2021-05-16T17:04:13.375644Z",
     "iopub.status.busy": "2021-05-16T17:04:13.375440Z",
     "iopub.status.idle": "2021-05-16T17:04:13.378111Z",
     "shell.execute_reply": "2021-05-16T17:04:13.377464Z",
     "shell.execute_reply.started": "2021-05-16T17:04:13.375623Z"
    },
    "tags": []
   },
   "source": [
    "-------------------------\n",
    "\n",
    "\n",
    "### Stage 3: Model and Building"
   ]
  },
  {
   "cell_type": "markdown",
   "id": "4a0e74bf-eaf4-4043-8d23-88291d8ea344",
   "metadata": {
    "execution": {
     "iopub.execute_input": "2021-05-16T17:13:18.807725Z",
     "iopub.status.busy": "2021-05-16T17:13:18.807498Z",
     "iopub.status.idle": "2021-05-16T17:13:18.810574Z",
     "shell.execute_reply": "2021-05-16T17:13:18.809625Z",
     "shell.execute_reply.started": "2021-05-16T17:13:18.807701Z"
    }
   },
   "source": [
    "#### (1) Using the Subclassing API to Build Dynamic Model"
   ]
  },
  {
   "cell_type": "code",
   "execution_count": 15,
   "id": "1f18f9b1-5f4d-4d0a-baf4-2eebed7f34f2",
   "metadata": {
    "execution": {
     "iopub.execute_input": "2021-10-05T22:19:30.679399Z",
     "iopub.status.busy": "2021-10-05T22:19:30.679261Z",
     "iopub.status.idle": "2021-10-05T22:19:30.688304Z",
     "shell.execute_reply": "2021-10-05T22:19:30.687654Z",
     "shell.execute_reply.started": "2021-10-05T22:19:30.679380Z"
    },
    "tags": []
   },
   "outputs": [],
   "source": [
    "class DCNN(tf.keras.Model):\n",
    "    def __init__(self,\n",
    "                 vocab_size,\n",
    "                 emb_dim=128,\n",
    "                 nb_filters=100,\n",
    "                 # units: Positive integer, dimensionality of the output space.\n",
    "                 FFN_units=512,\n",
    "                 nb_classes=2,\n",
    "                 dropout_rate=0.1,\n",
    "                 training=False,\n",
    "                 name=\"PorkCNN\"):\n",
    "        super(DCNN, self).__init__(name=name)\n",
    "        self.embedding = layers.Embedding(vocab_size, emb_dim)\n",
    "        self.bigram = layers.Conv1D(filters=nb_filters, kernel_size=2, strides = 1, padding=\"valid\", activation=\"relu\")\n",
    "        self.bigram2 = layers.Conv1D(filters=nb_filters, kernel_size=2, strides = 2, padding=\"valid\", activation=\"relu\")\n",
    "        self.trigram = layers.Conv1D(filters=nb_filters,kernel_size=3,strides = 1, padding=\"valid\",activation=\"relu\")\n",
    "        self.trigram2 = layers.Conv1D(filters=nb_filters,kernel_size=3,strides = 2, padding=\"valid\",activation=\"relu\")\n",
    "        self.fourgram = layers.Conv1D(filters=nb_filters,kernel_size=4,strides = 2, padding=\"valid\",activation=\"relu\")\n",
    "        self.fivegram = layers.Conv1D(filters=nb_filters,kernel_size=5,strides = 2, padding=\"valid\",activation=\"relu\")\n",
    "        self.pool = layers.GlobalMaxPool1D()\n",
    "        self.dense_1 = layers.Dense(units=FFN_units, activation=\"relu\")\n",
    "        self.dropout = layers.Dropout(rate=dropout_rate)\n",
    "        self.last_dense = layers.Dense(units=1, activation=\"sigmoid\")    \n",
    "    def call(self, inputs, training):\n",
    "        x = self.embedding(inputs)\n",
    "        x_1 = self.bigram(x)\n",
    "        x_1 = self.pool(x_1)\n",
    "        x_1_1 = self.bigram2(x)\n",
    "        x_1_1 = self.pool(x_1_1)        \n",
    "        x_2 = self.trigram(x)\n",
    "        x_2 = self.pool(x_2)\n",
    "        x_2_1 = self.trigram2(x)\n",
    "        x_2_1 = self.pool(x_2_1)     \n",
    "        x_3 = self.fourgram(x)\n",
    "        x_3 = self.pool(x_3)\n",
    "        x_4 = self.fourgram(x)\n",
    "        x_4 = self.pool(x_4) \n",
    "        x_5 = self.fivegram(x)\n",
    "        x_5 = self.pool(x_5)      \n",
    "        merged = tf.concat([x_1,x_1_1, x_2,x_2_1, x_3, x_4, x_5], axis=-1) \n",
    "        merged = self.dense_1(merged)\n",
    "        merged = self.dropout(merged, training)\n",
    "        output = self.last_dense(merged)        \n",
    "        return output"
   ]
  },
  {
   "cell_type": "code",
   "execution_count": 16,
   "id": "bfc02e93-3a0e-4c1c-b488-b2db98b53824",
   "metadata": {
    "execution": {
     "iopub.execute_input": "2021-10-05T22:19:30.689652Z",
     "iopub.status.busy": "2021-10-05T22:19:30.689477Z",
     "iopub.status.idle": "2021-10-05T22:19:30.708678Z",
     "shell.execute_reply": "2021-10-05T22:19:30.708099Z",
     "shell.execute_reply.started": "2021-10-05T22:19:30.689630Z"
    },
    "tags": []
   },
   "outputs": [],
   "source": [
    "VOCAB_SIZE = tokenizer.vocab_size #tokenizer.vocab_size  # 5000 tokenizer.vocab_size\n",
    "EMB_DIM = 200\n",
    "NB_FILTERS = 100\n",
    "FFN_UNITS = 256\n",
    "NB_CLASSES = 2 #len(set(train_labels))\n",
    "DROPOUT_RATE = 0.25\n",
    "BATCH_SIZE = 230\n",
    "NB_EPOCHS = 80\n",
    "\n",
    "Dcnn = DCNN(vocab_size=VOCAB_SIZE,\n",
    "            emb_dim=EMB_DIM,\n",
    "            nb_filters=NB_FILTERS,\n",
    "            FFN_units=FFN_UNITS,\n",
    "            nb_classes=NB_CLASSES,\n",
    "            dropout_rate=DROPOUT_RATE)"
   ]
  },
  {
   "cell_type": "markdown",
   "id": "b0ec8f51-6ed8-49fa-9d5e-c6929184bdf1",
   "metadata": {
    "execution": {
     "iopub.execute_input": "2021-05-16T18:43:59.279424Z",
     "iopub.status.busy": "2021-05-16T18:43:59.279202Z",
     "iopub.status.idle": "2021-05-16T18:43:59.282718Z",
     "shell.execute_reply": "2021-05-16T18:43:59.281823Z",
     "shell.execute_reply.started": "2021-05-16T18:43:59.279399Z"
    }
   },
   "source": [
    "#### (2) Compile and Summary of the Model"
   ]
  },
  {
   "cell_type": "code",
   "execution_count": 17,
   "id": "2cce0414-05eb-4f79-9c27-bca9c91a2903",
   "metadata": {
    "execution": {
     "iopub.execute_input": "2021-10-05T22:19:30.709871Z",
     "iopub.status.busy": "2021-10-05T22:19:30.709562Z",
     "iopub.status.idle": "2021-10-05T22:19:30.781410Z",
     "shell.execute_reply": "2021-10-05T22:19:30.780889Z",
     "shell.execute_reply.started": "2021-10-05T22:19:30.709827Z"
    },
    "tags": []
   },
   "outputs": [
    {
     "name": "stdout",
     "output_type": "stream",
     "text": [
      "Model: \"PorkCNN\"\n",
      "_________________________________________________________________\n",
      "Layer (type)                 Output Shape              Param #   \n",
      "=================================================================\n",
      "embedding (Embedding)        multiple                  586600    \n",
      "_________________________________________________________________\n",
      "conv1d (Conv1D)              multiple                  40100     \n",
      "_________________________________________________________________\n",
      "conv1d_1 (Conv1D)            multiple                  40100     \n",
      "_________________________________________________________________\n",
      "conv1d_2 (Conv1D)            multiple                  60100     \n",
      "_________________________________________________________________\n",
      "conv1d_3 (Conv1D)            multiple                  60100     \n",
      "_________________________________________________________________\n",
      "conv1d_4 (Conv1D)            multiple                  80100     \n",
      "_________________________________________________________________\n",
      "conv1d_5 (Conv1D)            multiple                  100100    \n",
      "_________________________________________________________________\n",
      "global_max_pooling1d (Global multiple                  0         \n",
      "_________________________________________________________________\n",
      "dense (Dense)                multiple                  179456    \n",
      "_________________________________________________________________\n",
      "dropout (Dropout)            multiple                  0         \n",
      "_________________________________________________________________\n",
      "dense_1 (Dense)              multiple                  257       \n",
      "=================================================================\n",
      "Total params: 1,146,913\n",
      "Trainable params: 1,146,913\n",
      "Non-trainable params: 0\n",
      "_________________________________________________________________\n"
     ]
    }
   ],
   "source": [
    "Dcnn.compile(loss=\"binary_crossentropy\", optimizer=\"adam\", metrics=[\"accuracy\"])\n",
    "Dcnn.build(input_shape = (train_inputs.shape[1], EMB_DIM)) # (train_inputs.shape[1] , EMB_DIM)  (785 , EMB_DIM)\n",
    "Dcnn.summary()"
   ]
  },
  {
   "cell_type": "markdown",
   "id": "3880d2a4-2152-43de-bad3-34e67e97469e",
   "metadata": {
    "tags": []
   },
   "source": [
    "#### (3) Check Point Path"
   ]
  },
  {
   "cell_type": "code",
   "execution_count": 18,
   "id": "2c18aa59-a797-4a67-bc4d-a412dbaaedcb",
   "metadata": {
    "execution": {
     "iopub.execute_input": "2021-10-05T22:19:30.782872Z",
     "iopub.status.busy": "2021-10-05T22:19:30.782581Z",
     "iopub.status.idle": "2021-10-05T22:19:30.786497Z",
     "shell.execute_reply": "2021-10-05T22:19:30.785770Z",
     "shell.execute_reply.started": "2021-10-05T22:19:30.782836Z"
    },
    "tags": []
   },
   "outputs": [],
   "source": [
    "checkpoint_path = \"checkpoint_recode/ckpt_manager\"\n",
    "\n",
    "ckpt = tf.train.Checkpoint(Dcnn=Dcnn)\n",
    "\n",
    "ckpt_manager = tf.train.CheckpointManager(ckpt, checkpoint_path, max_to_keep=10)\n",
    "\n",
    "if ckpt_manager.latest_checkpoint:\n",
    "    ckpt.restore(ckpt_manager.latest_checkpoint)\n",
    "    print(\"Checkpoint Located!!\")"
   ]
  },
  {
   "cell_type": "markdown",
   "id": "73d70667-275f-40c0-bd71-6b47e9722798",
   "metadata": {
    "execution": {
     "iopub.execute_input": "2021-05-16T17:47:13.442664Z",
     "iopub.status.busy": "2021-05-16T17:47:13.442381Z",
     "iopub.status.idle": "2021-05-16T17:47:13.448371Z",
     "shell.execute_reply": "2021-05-16T17:47:13.446970Z",
     "shell.execute_reply.started": "2021-05-16T17:47:13.442620Z"
    }
   },
   "source": [
    "-------------------------\n",
    "\n",
    "### Stage 4: Train the Model"
   ]
  },
  {
   "cell_type": "code",
   "execution_count": 19,
   "id": "cc975047-5a58-46dc-b427-262796d9b625",
   "metadata": {
    "execution": {
     "iopub.execute_input": "2021-10-05T22:19:30.787510Z",
     "iopub.status.busy": "2021-10-05T22:19:30.787300Z",
     "iopub.status.idle": "2021-10-05T22:19:30.790047Z",
     "shell.execute_reply": "2021-10-05T22:19:30.789549Z",
     "shell.execute_reply.started": "2021-10-05T22:19:30.787491Z"
    },
    "tags": []
   },
   "outputs": [],
   "source": [
    "early_stop = EarlyStopping(monitor='val_loss', patience=5)"
   ]
  },
  {
   "cell_type": "code",
   "execution_count": 20,
   "id": "baf0cade-2c45-43b2-9782-6a8c6e570153",
   "metadata": {
    "execution": {
     "iopub.execute_input": "2021-10-05T22:19:30.791176Z",
     "iopub.status.busy": "2021-10-05T22:19:30.791056Z",
     "iopub.status.idle": "2021-10-05T22:26:23.077726Z",
     "shell.execute_reply": "2021-10-05T22:26:23.076973Z",
     "shell.execute_reply.started": "2021-10-05T22:19:30.791159Z"
    },
    "tags": []
   },
   "outputs": [
    {
     "name": "stdout",
     "output_type": "stream",
     "text": [
      "Epoch 1/80\n",
      "22/22 [==============================] - 45s 2s/step - loss: 0.6161 - accuracy: 0.6441 - val_loss: 0.5237 - val_accuracy: 0.7215\n",
      "Epoch 2/80\n",
      "22/22 [==============================] - 42s 2s/step - loss: 0.4010 - accuracy: 0.8285 - val_loss: 0.2754 - val_accuracy: 0.8904\n",
      "Epoch 3/80\n",
      "22/22 [==============================] - 44s 2s/step - loss: 0.1920 - accuracy: 0.9270 - val_loss: 0.1785 - val_accuracy: 0.9318\n",
      "Epoch 4/80\n",
      "22/22 [==============================] - 42s 2s/step - loss: 0.1010 - accuracy: 0.9676 - val_loss: 0.1609 - val_accuracy: 0.9427\n",
      "Epoch 5/80\n",
      "22/22 [==============================] - 39s 2s/step - loss: 0.0614 - accuracy: 0.9815 - val_loss: 0.1608 - val_accuracy: 0.9431\n",
      "Epoch 6/80\n",
      "22/22 [==============================] - 40s 2s/step - loss: 0.0475 - accuracy: 0.9854 - val_loss: 0.1860 - val_accuracy: 0.9385\n",
      "Epoch 7/80\n",
      "22/22 [==============================] - 40s 2s/step - loss: 0.0484 - accuracy: 0.9856 - val_loss: 0.1745 - val_accuracy: 0.9456\n",
      "Epoch 8/80\n",
      "22/22 [==============================] - 40s 2s/step - loss: 0.0391 - accuracy: 0.9864 - val_loss: 0.1734 - val_accuracy: 0.9440\n",
      "Epoch 9/80\n",
      "22/22 [==============================] - 40s 2s/step - loss: 0.0378 - accuracy: 0.9864 - val_loss: 0.1766 - val_accuracy: 0.9444\n",
      "Epoch 10/80\n",
      "22/22 [==============================] - 40s 2s/step - loss: 0.0493 - accuracy: 0.9841 - val_loss: 0.1725 - val_accuracy: 0.9477\n"
     ]
    },
    {
     "data": {
      "text/plain": [
       "'checkpoint_recode/ckpt_manager/ckpt-1'"
      ]
     },
     "execution_count": 20,
     "metadata": {},
     "output_type": "execute_result"
    }
   ],
   "source": [
    "Dcnn.fit(train_inputs, train_labels,\n",
    "         validation_data=(test_inputs, test_labels),\n",
    "         batch_size=BATCH_SIZE,\n",
    "         epochs=NB_EPOCHS,\n",
    "         callbacks=[early_stop])\n",
    "ckpt_manager.save()"
   ]
  },
  {
   "cell_type": "markdown",
   "id": "3b0ac256-ab81-4ff5-8430-48f8bba50126",
   "metadata": {
    "execution": {
     "iopub.execute_input": "2021-05-16T18:23:25.926977Z",
     "iopub.status.busy": "2021-05-16T18:23:25.926754Z",
     "iopub.status.idle": "2021-05-16T18:23:25.931072Z",
     "shell.execute_reply": "2021-05-16T18:23:25.930041Z",
     "shell.execute_reply.started": "2021-05-16T18:23:25.926952Z"
    }
   },
   "source": [
    "-------------------------\n",
    "\n",
    "### Stage 5: Evaluation"
   ]
  },
  {
   "cell_type": "code",
   "execution_count": 21,
   "id": "58099cc1-19e0-443a-b960-7ae4d67344d3",
   "metadata": {
    "execution": {
     "iopub.execute_input": "2021-10-05T22:26:23.079281Z",
     "iopub.status.busy": "2021-10-05T22:26:23.078972Z",
     "iopub.status.idle": "2021-10-05T22:26:23.095235Z",
     "shell.execute_reply": "2021-10-05T22:26:23.094033Z",
     "shell.execute_reply.started": "2021-10-05T22:26:23.079250Z"
    },
    "tags": []
   },
   "outputs": [
    {
     "data": {
      "text/html": [
       "<div>\n",
       "<style scoped>\n",
       "    .dataframe tbody tr th:only-of-type {\n",
       "        vertical-align: middle;\n",
       "    }\n",
       "\n",
       "    .dataframe tbody tr th {\n",
       "        vertical-align: top;\n",
       "    }\n",
       "\n",
       "    .dataframe thead th {\n",
       "        text-align: right;\n",
       "    }\n",
       "</style>\n",
       "<table border=\"1\" class=\"dataframe\">\n",
       "  <thead>\n",
       "    <tr style=\"text-align: right;\">\n",
       "      <th></th>\n",
       "      <th>loss</th>\n",
       "      <th>accuracy</th>\n",
       "      <th>val_loss</th>\n",
       "      <th>val_accuracy</th>\n",
       "    </tr>\n",
       "  </thead>\n",
       "  <tbody>\n",
       "    <tr>\n",
       "      <th>0</th>\n",
       "      <td>0.616058</td>\n",
       "      <td>0.644064</td>\n",
       "      <td>0.523664</td>\n",
       "      <td>0.721455</td>\n",
       "    </tr>\n",
       "    <tr>\n",
       "      <th>1</th>\n",
       "      <td>0.401037</td>\n",
       "      <td>0.828524</td>\n",
       "      <td>0.275381</td>\n",
       "      <td>0.890422</td>\n",
       "    </tr>\n",
       "    <tr>\n",
       "      <th>2</th>\n",
       "      <td>0.191959</td>\n",
       "      <td>0.927040</td>\n",
       "      <td>0.178509</td>\n",
       "      <td>0.931828</td>\n",
       "    </tr>\n",
       "    <tr>\n",
       "      <th>3</th>\n",
       "      <td>0.101012</td>\n",
       "      <td>0.967642</td>\n",
       "      <td>0.160932</td>\n",
       "      <td>0.942702</td>\n",
       "    </tr>\n",
       "    <tr>\n",
       "      <th>4</th>\n",
       "      <td>0.061436</td>\n",
       "      <td>0.981451</td>\n",
       "      <td>0.160843</td>\n",
       "      <td>0.943120</td>\n",
       "    </tr>\n",
       "    <tr>\n",
       "      <th>5</th>\n",
       "      <td>0.047501</td>\n",
       "      <td>0.985367</td>\n",
       "      <td>0.186034</td>\n",
       "      <td>0.938519</td>\n",
       "    </tr>\n",
       "    <tr>\n",
       "      <th>6</th>\n",
       "      <td>0.048399</td>\n",
       "      <td>0.985573</td>\n",
       "      <td>0.174519</td>\n",
       "      <td>0.945629</td>\n",
       "    </tr>\n",
       "    <tr>\n",
       "      <th>7</th>\n",
       "      <td>0.039146</td>\n",
       "      <td>0.986397</td>\n",
       "      <td>0.173419</td>\n",
       "      <td>0.943956</td>\n",
       "    </tr>\n",
       "    <tr>\n",
       "      <th>8</th>\n",
       "      <td>0.037828</td>\n",
       "      <td>0.986397</td>\n",
       "      <td>0.176615</td>\n",
       "      <td>0.944375</td>\n",
       "    </tr>\n",
       "    <tr>\n",
       "      <th>9</th>\n",
       "      <td>0.049350</td>\n",
       "      <td>0.984130</td>\n",
       "      <td>0.172452</td>\n",
       "      <td>0.947721</td>\n",
       "    </tr>\n",
       "  </tbody>\n",
       "</table>\n",
       "</div>"
      ],
      "text/plain": [
       "       loss  accuracy  val_loss  val_accuracy\n",
       "0  0.616058  0.644064  0.523664      0.721455\n",
       "1  0.401037  0.828524  0.275381      0.890422\n",
       "2  0.191959  0.927040  0.178509      0.931828\n",
       "3  0.101012  0.967642  0.160932      0.942702\n",
       "4  0.061436  0.981451  0.160843      0.943120\n",
       "5  0.047501  0.985367  0.186034      0.938519\n",
       "6  0.048399  0.985573  0.174519      0.945629\n",
       "7  0.039146  0.986397  0.173419      0.943956\n",
       "8  0.037828  0.986397  0.176615      0.944375\n",
       "9  0.049350  0.984130  0.172452      0.947721"
      ]
     },
     "execution_count": 21,
     "metadata": {},
     "output_type": "execute_result"
    }
   ],
   "source": [
    "losses = pd.DataFrame(Dcnn.history.history)\n",
    "losses"
   ]
  },
  {
   "cell_type": "code",
   "execution_count": 22,
   "id": "f37a760f-b388-4051-a78d-295bce1f214a",
   "metadata": {
    "execution": {
     "iopub.execute_input": "2021-10-05T22:26:23.096632Z",
     "iopub.status.busy": "2021-10-05T22:26:23.096373Z",
     "iopub.status.idle": "2021-10-05T22:26:23.442477Z",
     "shell.execute_reply": "2021-10-05T22:26:23.441676Z",
     "shell.execute_reply.started": "2021-10-05T22:26:23.096599Z"
    },
    "tags": []
   },
   "outputs": [
    {
     "data": {
      "text/plain": [
       "<AxesSubplot:>"
      ]
     },
     "execution_count": 22,
     "metadata": {},
     "output_type": "execute_result"
    },
    {
     "data": {
      "image/png": "[encoded data removed]",
      "text/plain": [
       "<Figure size 432x288 with 1 Axes>"
      ]
     },
     "metadata": {
      "needs_background": "light"
     },
     "output_type": "display_data"
    },
    {
     "data": {
      "image/png": "[encoded data removed]",
      "text/plain": [
       "<Figure size 432x288 with 1 Axes>"
      ]
     },
     "metadata": {
      "needs_background": "light"
     },
     "output_type": "display_data"
    }
   ],
   "source": [
    "losses[['accuracy','val_accuracy']].plot()\n",
    "losses[['loss','val_loss']].plot()"
   ]
  },
  {
   "cell_type": "code",
   "execution_count": 23,
   "id": "b1b62bf7-433e-4a9e-b0ed-a6b57515b304",
   "metadata": {
    "execution": {
     "iopub.execute_input": "2021-10-05T22:26:23.444101Z",
     "iopub.status.busy": "2021-10-05T22:26:23.443675Z",
     "iopub.status.idle": "2021-10-05T22:26:23.756978Z",
     "shell.execute_reply": "2021-10-05T22:26:23.756130Z",
     "shell.execute_reply.started": "2021-10-05T22:26:23.444068Z"
    },
    "tags": []
   },
   "outputs": [
    {
     "data": {
      "image/png": "[encoded data removed]",
      "text/plain": [
       "<Figure size 576x360 with 1 Axes>"
      ]
     },
     "metadata": {
      "needs_background": "light"
     },
     "output_type": "display_data"
    }
   ],
   "source": [
    "losses.plot(figsize=(8,5))\n",
    "plt.grid(True)\n",
    "plt.gca().set_ylim(0,1)\n",
    "plt.xlabel(\"Learning Curves: the mean training loss and accuracy measured over each epochs\")\n",
    "plt.savefig('images/learning_curves3.png')\n",
    "plt.show()\n"
   ]
  },
  {
   "cell_type": "code",
   "execution_count": 24,
   "id": "17760825-eb35-4f8c-88a0-45e94387c08d",
   "metadata": {
    "execution": {
     "iopub.execute_input": "2021-10-05T22:26:23.765003Z",
     "iopub.status.busy": "2021-10-05T22:26:23.764767Z",
     "iopub.status.idle": "2021-10-05T22:26:27.812895Z",
     "shell.execute_reply": "2021-10-05T22:26:27.811940Z",
     "shell.execute_reply.started": "2021-10-05T22:26:23.764974Z"
    },
    "tags": []
   },
   "outputs": [
    {
     "name": "stdout",
     "output_type": "stream",
     "text": [
      "11/11 [==============================] - 4s 361ms/step - loss: 0.1725 - accuracy: 0.9477\n",
      "[0.17245212197303772, 0.9477206468582153]\n"
     ]
    }
   ],
   "source": [
    "from sklearn.metrics import classification_report,confusion_matrix\n",
    "evaluation_model = Dcnn.evaluate(test_inputs, test_labels, batch_size=BATCH_SIZE)\n",
    "print(evaluation_model)"
   ]
  },
  {
   "cell_type": "code",
   "execution_count": 25,
   "id": "c9a3f93d-4398-418c-b511-69594874cc5a",
   "metadata": {
    "execution": {
     "iopub.execute_input": "2021-10-05T22:26:27.817700Z",
     "iopub.status.busy": "2021-10-05T22:26:27.817329Z",
     "iopub.status.idle": "2021-10-05T22:26:31.644896Z",
     "shell.execute_reply": "2021-10-05T22:26:31.643942Z",
     "shell.execute_reply.started": "2021-10-05T22:26:27.817670Z"
    },
    "tags": []
   },
   "outputs": [
    {
     "name": "stdout",
     "output_type": "stream",
     "text": [
      "              precision    recall  f1-score   support\n",
      "\n",
      "           0       0.95      0.97      0.96      1566\n",
      "           1       0.95      0.90      0.92       825\n",
      "\n",
      "    accuracy                           0.95      2391\n",
      "   macro avg       0.95      0.94      0.94      2391\n",
      "weighted avg       0.95      0.95      0.95      2391\n",
      "\n"
     ]
    }
   ],
   "source": [
    "# pd.DataFrame(confusion_matrix(test_labels,predictions))\n",
    "predictions = Dcnn.predict(test_inputs)\n",
    "predictions = np.where(predictions >0.8 , 1, 0)\n",
    "print(classification_report(test_labels, predictions))"
   ]
  },
  {
   "cell_type": "code",
   "execution_count": 26,
   "id": "4767688b-bfc8-4dc4-b8ec-2252f7791534",
   "metadata": {
    "execution": {
     "iopub.execute_input": "2021-10-05T22:26:31.646755Z",
     "iopub.status.busy": "2021-10-05T22:26:31.646406Z",
     "iopub.status.idle": "2021-10-05T22:26:31.660326Z",
     "shell.execute_reply": "2021-10-05T22:26:31.659467Z",
     "shell.execute_reply.started": "2021-10-05T22:26:31.646719Z"
    },
    "tags": []
   },
   "outputs": [
    {
     "data": {
      "text/html": [
       "<div>\n",
       "<style scoped>\n",
       "    .dataframe tbody tr th:only-of-type {\n",
       "        vertical-align: middle;\n",
       "    }\n",
       "\n",
       "    .dataframe tbody tr th {\n",
       "        vertical-align: top;\n",
       "    }\n",
       "\n",
       "    .dataframe thead th {\n",
       "        text-align: right;\n",
       "    }\n",
       "</style>\n",
       "<table border=\"1\" class=\"dataframe\">\n",
       "  <thead>\n",
       "    <tr style=\"text-align: right;\">\n",
       "      <th></th>\n",
       "      <th>Predictions: Not Pork(0)</th>\n",
       "      <th>Predictions:Pork(1)</th>\n",
       "    </tr>\n",
       "  </thead>\n",
       "  <tbody>\n",
       "    <tr>\n",
       "      <th>Acutal: Not Pork(0)</th>\n",
       "      <td>1526</td>\n",
       "      <td>40</td>\n",
       "    </tr>\n",
       "    <tr>\n",
       "      <th>Acutal: Pork (1)</th>\n",
       "      <td>85</td>\n",
       "      <td>740</td>\n",
       "    </tr>\n",
       "  </tbody>\n",
       "</table>\n",
       "</div>"
      ],
      "text/plain": [
       "                     Predictions: Not Pork(0)  Predictions:Pork(1)\n",
       "Acutal: Not Pork(0)                      1526                   40\n",
       "Acutal: Pork (1)                           85                  740"
      ]
     },
     "execution_count": 26,
     "metadata": {},
     "output_type": "execute_result"
    }
   ],
   "source": [
    "t = pd.DataFrame(confusion_matrix(test_labels,predictions), \n",
    "             columns=['Predictions: Not Pork(0)','Predictions:Pork(1)'])\n",
    "t.index = ['Acutal: Not Pork(0)', 'Acutal: Pork (1)']\n",
    "t"
   ]
  },
  {
   "cell_type": "markdown",
   "id": "d0416d6f-5e46-47c9-abad-f344bea7a94a",
   "metadata": {},
   "source": [
    "-------------------------\n",
    "\n",
    "### Stage 6: Try the Model with New Data and Export an End-to-end Model\n"
   ]
  },
  {
   "cell_type": "markdown",
   "id": "394b9a6e-0130-4af2-88e5-efe91cf9f348",
   "metadata": {
    "execution": {
     "iopub.execute_input": "2021-05-16T22:53:41.558105Z",
     "iopub.status.busy": "2021-05-16T22:53:41.557872Z",
     "iopub.status.idle": "2021-05-16T22:53:41.560984Z",
     "shell.execute_reply": "2021-05-16T22:53:41.560122Z",
     "shell.execute_reply.started": "2021-05-16T22:53:41.558080Z"
    }
   },
   "source": [
    "#### (1) Test New Dataset from 2000 samples from Legislative Questions from 6th Session "
   ]
  },
  {
   "cell_type": "code",
   "execution_count": 27,
   "id": "632bf33e-1df7-46c5-9a67-ab7141a949c2",
   "metadata": {
    "execution": {
     "iopub.execute_input": "2021-10-05T22:26:31.662146Z",
     "iopub.status.busy": "2021-10-05T22:26:31.661847Z",
     "iopub.status.idle": "2021-10-05T22:26:31.677264Z",
     "shell.execute_reply": "2021-10-05T22:26:31.676268Z",
     "shell.execute_reply.started": "2021-10-05T22:26:31.662111Z"
    },
    "tags": []
   },
   "outputs": [],
   "source": [
    "def as_num(x):\n",
    "    \"\"\"\n",
    "    keep 10 decimals\n",
    "    \"\"\"\n",
    "    y = '{:.15f}'.format(x) \n",
    "    return y"
   ]
  },
  {
   "cell_type": "code",
   "execution_count": 28,
   "id": "06ea7d54-49e9-4363-8304-d1dabaf3beb4",
   "metadata": {
    "execution": {
     "iopub.execute_input": "2021-10-05T22:26:31.679092Z",
     "iopub.status.busy": "2021-10-05T22:26:31.678826Z",
     "iopub.status.idle": "2021-10-05T22:26:32.098407Z",
     "shell.execute_reply": "2021-10-05T22:26:32.097236Z",
     "shell.execute_reply.started": "2021-10-05T22:26:31.679060Z"
    },
    "tags": []
   },
   "outputs": [],
   "source": [
    "import pandas as pd\n",
    "import random\n",
    "\n",
    "# test the trined model using new text from 200 samples from Leislative Questions\n",
    "LQ6 = pd.read_csv('data/LQ_6th.csv')\n",
    "\n",
    "# drop '0': legislor  never have proposed any legisaltive questions. \n",
    "LQ6 = LQ6[LQ6['title'].isin(['0'])== False]\n",
    "\n",
    "# select text with number of charecters within EMB_DIM; len(sub_set) = 11162\n",
    "# sample_df = LQ6.loc[[len(char_num) for char_num in LQ6.title if len(char_num) < MAX_LEN], ['legislator','title', 'topic', 'category', 'keywords', 'ques_type']].reset_index(drop=True)\n",
    "random.seed(42)\n",
    "sample_df = LQ6.iloc[random.sample(range(len(LQ6)), 2000)][['legislator', 'title', 'topic', 'category', 'keywords', 'ques_type']]\n",
    "sub_set = [seg_char(text) for text in [clearPucts(text) for text in sample_df.title]]\n"
   ]
  },
  {
   "cell_type": "markdown",
   "id": "68cc06a7-27d7-4007-949d-f7df81246e25",
   "metadata": {
    "tags": []
   },
   "source": [
    "##### Top 10 of 2000 Samples"
   ]
  },
  {
   "cell_type": "code",
   "execution_count": 29,
   "id": "d4b618c9-8c4b-40ec-a396-b4679233197e",
   "metadata": {
    "execution": {
     "iopub.execute_input": "2021-10-05T22:26:32.100115Z",
     "iopub.status.busy": "2021-10-05T22:26:32.099684Z",
     "iopub.status.idle": "2021-10-05T22:26:45.754959Z",
     "shell.execute_reply": "2021-10-05T22:26:45.754420Z",
     "shell.execute_reply.started": "2021-10-05T22:26:32.100079Z"
    },
    "tags": []
   },
   "outputs": [
    {
     "data": {
      "text/html": [
       "<div>\n",
       "<style scoped>\n",
       "    .dataframe tbody tr th:only-of-type {\n",
       "        vertical-align: middle;\n",
       "    }\n",
       "\n",
       "    .dataframe tbody tr th {\n",
       "        vertical-align: top;\n",
       "    }\n",
       "\n",
       "    .dataframe thead th {\n",
       "        text-align: right;\n",
       "    }\n",
       "</style>\n",
       "<table border=\"1\" class=\"dataframe\">\n",
       "  <thead>\n",
       "    <tr style=\"text-align: right;\">\n",
       "      <th></th>\n",
       "      <th>legislator</th>\n",
       "      <th>Pork Value(Constituency Interest)</th>\n",
       "      <th>Legislative Questions</th>\n",
       "      <th>Topic</th>\n",
       "      <th>Key Word</th>\n",
       "    </tr>\n",
       "  </thead>\n",
       "  <tbody>\n",
       "    <tr>\n",
       "      <th>3999</th>\n",
       "      <td>林正峰</td>\n",
       "      <td>0.998658657073975</td>\n",
       "      <td>針對政府準備修法推動「二代健保」，健保保費採取「年度所得總額」為計算基礎，而非採用扣除免稅額...</td>\n",
       "      <td>國民 ; 健康保險 ; 保險費</td>\n",
       "      <td>二代健保 ; 年度所得總額</td>\n",
       "    </tr>\n",
       "    <tr>\n",
       "      <th>9892</th>\n",
       "      <td>陳啟昱</td>\n",
       "      <td>0.994998216629028</td>\n",
       "      <td>鑑於現行《所得稅法》第十七條規定特別扣除額教育支出部分，僅以納稅義務人之子女就讀大專院校為限...</td>\n",
       "      <td>所得稅 ; 教育費用 ; 扣除額</td>\n",
       "      <td>所得稅法 ; 特別扣除額 ; 教育支出</td>\n",
       "    </tr>\n",
       "    <tr>\n",
       "      <th>1761</th>\n",
       "      <td>彭添富</td>\n",
       "      <td>0.987941861152649</td>\n",
       "      <td>針對「辦理九十四年原住民中低收入戶家庭租屋補助計畫」專案補助計畫，特向行政院提出質詢。</td>\n",
       "      <td>原住民族生活</td>\n",
       "      <td>原住民中低收入戶 ; 租屋補助</td>\n",
       "    </tr>\n",
       "    <tr>\n",
       "      <th>7382</th>\n",
       "      <td>盧秀燕</td>\n",
       "      <td>0.987247705459595</td>\n",
       "      <td>針對早期退除役軍官給與補助金發放金額過低，實無法解決終身生活所需，希望相關單位考量實際情況，...</td>\n",
       "      <td>榮民福利</td>\n",
       "      <td>早期退除役軍官給與補助金</td>\n",
       "    </tr>\n",
       "    <tr>\n",
       "      <th>2282</th>\n",
       "      <td>曾華德</td>\n",
       "      <td>0.986639261245728</td>\n",
       "      <td>為民國38年至43年間戌守大陳島等地區之中華民國前江、浙、閩、粵反共救國軍補發薪餉問題，攸關...</td>\n",
       "      <td>軍餉</td>\n",
       "      <td>反共救國軍補發薪餉</td>\n",
       "    </tr>\n",
       "    <tr>\n",
       "      <th>35</th>\n",
       "      <td>丁守中</td>\n",
       "      <td>0.986229777336121</td>\n",
       "      <td>針就民眾陳情指出，目前政府對身心障礙者提供之生活津貼，依身心障礙程度等級分為1000元至50...</td>\n",
       "      <td>身心障礙者福利</td>\n",
       "      <td>身心障礙者生活津貼</td>\n",
       "    </tr>\n",
       "    <tr>\n",
       "      <th>1829</th>\n",
       "      <td>彭紹瑾</td>\n",
       "      <td>0.980291366577148</td>\n",
       "      <td>針對政府為提高生育率，有意將「育嬰假」放寬至全體勞工，並增加六個月的「育嬰留職停薪津貼」，此...</td>\n",
       "      <td>婦女福利</td>\n",
       "      <td>育嬰假 ; 留職停薪津貼</td>\n",
       "    </tr>\n",
       "    <tr>\n",
       "      <th>10264</th>\n",
       "      <td>陳根德</td>\n",
       "      <td>0.979950428009033</td>\n",
       "      <td>鑒於桃園縣民眾陳情抗議中正路延伸工程拆遷補償不公，並聚集在中正路尾工地現場，希望盡速發放地上...</td>\n",
       "      <td>道路工程 ; 政府補助</td>\n",
       "      <td>工程 ; 補償</td>\n",
       "    </tr>\n",
       "    <tr>\n",
       "      <th>1641</th>\n",
       "      <td>彭添富</td>\n",
       "      <td>0.975777447223663</td>\n",
       "      <td>針對「豪雨成災，農作物損失補償」問題，特向行政院提出質詢。</td>\n",
       "      <td>農業補助</td>\n",
       "      <td>豪雨 ; 農作物</td>\n",
       "    </tr>\n",
       "    <tr>\n",
       "      <th>100</th>\n",
       "      <td>丁守中</td>\n",
       "      <td>0.968363046646118</td>\n",
       "      <td>鑒於現行「國軍退除役官兵就養安置辦法」中規定，合於領取每月一三、三五○元榮民就養金的榮民，在...</td>\n",
       "      <td>榮民福利</td>\n",
       "      <td>榮民就養金 ; 喪葬補助 ; 遺眷</td>\n",
       "    </tr>\n",
       "    <tr>\n",
       "      <th>8340</th>\n",
       "      <td>蔡煌瑯(離職)</td>\n",
       "      <td>0.967411875724792</td>\n",
       "      <td>「2005南投花卉嘉年華」活動爭取中央經費補助案由，特向行政院提出質詢。</td>\n",
       "      <td>農業推廣 ; 政府補助</td>\n",
       "      <td>南投花卉嘉年華 ; 中央經費</td>\n",
       "    </tr>\n",
       "    <tr>\n",
       "      <th>533</th>\n",
       "      <td>吳志揚</td>\n",
       "      <td>0.961438059806824</td>\n",
       "      <td>針對政府打著照顧中產階級的漂亮旗號，擬調增受薪大眾的薪資特別扣除額，但是只在薪資扣除額調整幅...</td>\n",
       "      <td>薪資扣除額</td>\n",
       "      <td>薪資特別扣除額</td>\n",
       "    </tr>\n",
       "    <tr>\n",
       "      <th>188</th>\n",
       "      <td>丁守中</td>\n",
       "      <td>0.957607924938202</td>\n",
       "      <td>針就「國軍退除役官兵就養安置辦法」第七條第一項第五款規定：「全家人口所有之土地及房屋公告現值...</td>\n",
       "      <td>退除役官兵 ; 榮民生活輔導</td>\n",
       "      <td>國軍退除役官兵就養安置辦法</td>\n",
       "    </tr>\n",
       "    <tr>\n",
       "      <th>1706</th>\n",
       "      <td>彭添富</td>\n",
       "      <td>0.941109180450439</td>\n",
       "      <td>針對「觀音鄉保生社區風貌營造規劃設計」專案補助計畫，特向行政院提出質詢。</td>\n",
       "      <td>社區計畫 ; 政府補助</td>\n",
       "      <td>保生社區</td>\n",
       "    </tr>\n",
       "    <tr>\n",
       "      <th>10554</th>\n",
       "      <td>高思博</td>\n",
       "      <td>0.932311177253723</td>\n",
       "      <td>針對勞工、漁民及軍公教都有老年給付制度，唯對於農保老年給付規定之闕如乙事至表關切。本席咸任軍...</td>\n",
       "      <td>農保 ; 老年給付</td>\n",
       "      <td>農保老年給付</td>\n",
       "    </tr>\n",
       "  </tbody>\n",
       "</table>\n",
       "</div>"
      ],
      "text/plain": [
       "      legislator Pork Value(Constituency Interest)  \\\n",
       "3999         林正峰                 0.998658657073975   \n",
       "9892         陳啟昱                 0.994998216629028   \n",
       "1761         彭添富                 0.987941861152649   \n",
       "7382         盧秀燕                 0.987247705459595   \n",
       "2282         曾華德                 0.986639261245728   \n",
       "35           丁守中                 0.986229777336121   \n",
       "1829         彭紹瑾                 0.980291366577148   \n",
       "10264        陳根德                 0.979950428009033   \n",
       "1641         彭添富                 0.975777447223663   \n",
       "100          丁守中                 0.968363046646118   \n",
       "8340     蔡煌瑯(離職)                 0.967411875724792   \n",
       "533          吳志揚                 0.961438059806824   \n",
       "188          丁守中                 0.957607924938202   \n",
       "1706         彭添富                 0.941109180450439   \n",
       "10554        高思博                 0.932311177253723   \n",
       "\n",
       "                                  Legislative Questions              Topic  \\\n",
       "3999   針對政府準備修法推動「二代健保」，健保保費採取「年度所得總額」為計算基礎，而非採用扣除免稅額...   國民 ; 健康保險 ; 保險費   \n",
       "9892   鑑於現行《所得稅法》第十七條規定特別扣除額教育支出部分，僅以納稅義務人之子女就讀大專院校為限...  所得稅 ; 教育費用 ; 扣除額   \n",
       "1761         針對「辦理九十四年原住民中低收入戶家庭租屋補助計畫」專案補助計畫，特向行政院提出質詢。            原住民族生活   \n",
       "7382   針對早期退除役軍官給與補助金發放金額過低，實無法解決終身生活所需，希望相關單位考量實際情況，...              榮民福利   \n",
       "2282   為民國38年至43年間戌守大陳島等地區之中華民國前江、浙、閩、粵反共救國軍補發薪餉問題，攸關...                軍餉   \n",
       "35     針就民眾陳情指出，目前政府對身心障礙者提供之生活津貼，依身心障礙程度等級分為1000元至50...           身心障礙者福利   \n",
       "1829   針對政府為提高生育率，有意將「育嬰假」放寬至全體勞工，並增加六個月的「育嬰留職停薪津貼」，此...              婦女福利   \n",
       "10264  鑒於桃園縣民眾陳情抗議中正路延伸工程拆遷補償不公，並聚集在中正路尾工地現場，希望盡速發放地上...       道路工程 ; 政府補助   \n",
       "1641                       針對「豪雨成災，農作物損失補償」問題，特向行政院提出質詢。              農業補助   \n",
       "100    鑒於現行「國軍退除役官兵就養安置辦法」中規定，合於領取每月一三、三五○元榮民就養金的榮民，在...              榮民福利   \n",
       "8340                「2005南投花卉嘉年華」活動爭取中央經費補助案由，特向行政院提出質詢。       農業推廣 ; 政府補助   \n",
       "533    針對政府打著照顧中產階級的漂亮旗號，擬調增受薪大眾的薪資特別扣除額，但是只在薪資扣除額調整幅...             薪資扣除額   \n",
       "188    針就「國軍退除役官兵就養安置辦法」第七條第一項第五款規定：「全家人口所有之土地及房屋公告現值...    退除役官兵 ; 榮民生活輔導   \n",
       "1706                針對「觀音鄉保生社區風貌營造規劃設計」專案補助計畫，特向行政院提出質詢。       社區計畫 ; 政府補助   \n",
       "10554  針對勞工、漁民及軍公教都有老年給付制度，唯對於農保老年給付規定之闕如乙事至表關切。本席咸任軍...         農保 ; 老年給付   \n",
       "\n",
       "                  Key Word  \n",
       "3999         二代健保 ; 年度所得總額  \n",
       "9892   所得稅法 ; 特別扣除額 ; 教育支出  \n",
       "1761       原住民中低收入戶 ; 租屋補助  \n",
       "7382          早期退除役軍官給與補助金  \n",
       "2282             反共救國軍補發薪餉  \n",
       "35               身心障礙者生活津貼  \n",
       "1829          育嬰假 ; 留職停薪津貼  \n",
       "10264              工程 ; 補償  \n",
       "1641              豪雨 ; 農作物  \n",
       "100      榮民就養金 ; 喪葬補助 ; 遺眷  \n",
       "8340        南投花卉嘉年華 ; 中央經費  \n",
       "533                薪資特別扣除額  \n",
       "188          國軍退除役官兵就養安置辦法  \n",
       "1706                  保生社區  \n",
       "10554               農保老年給付  "
      ]
     },
     "execution_count": 29,
     "metadata": {},
     "output_type": "execute_result"
    }
   ],
   "source": [
    "pd.DataFrame(\n",
    "    {'legislator': sample_df.legislator,\n",
    "     'Pork Value(Constituency Interest)':[as_num(Dcnn(np.array([tokenizer.encode(line)]), training=True).numpy()[0][0]) for line in sub_set],\n",
    "     'Legislative Questions ': sample_df.title,\n",
    "     'Topic': sample_df.topic,\n",
    "     'Key Word':sample_df.keywords}).sort_values(by=['Pork Value(Constituency Interest)'], ascending = False).head(15)"
   ]
  },
  {
   "cell_type": "markdown",
   "id": "6a6d4b15-3e05-427d-a664-8c8ce4e6622c",
   "metadata": {},
   "source": [
    "##### Last 10 Rows of 2000 Samples"
   ]
  },
  {
   "cell_type": "code",
   "execution_count": 30,
   "id": "369a7336-dc9d-4883-b919-b19611b5ad39",
   "metadata": {
    "execution": {
     "iopub.execute_input": "2021-10-05T22:26:45.755975Z",
     "iopub.status.busy": "2021-10-05T22:26:45.755836Z",
     "iopub.status.idle": "2021-10-05T22:26:56.996994Z",
     "shell.execute_reply": "2021-10-05T22:26:56.996563Z",
     "shell.execute_reply.started": "2021-10-05T22:26:45.755956Z"
    },
    "tags": []
   },
   "outputs": [
    {
     "data": {
      "text/html": [
       "<div>\n",
       "<style scoped>\n",
       "    .dataframe tbody tr th:only-of-type {\n",
       "        vertical-align: middle;\n",
       "    }\n",
       "\n",
       "    .dataframe tbody tr th {\n",
       "        vertical-align: top;\n",
       "    }\n",
       "\n",
       "    .dataframe thead th {\n",
       "        text-align: right;\n",
       "    }\n",
       "</style>\n",
       "<table border=\"1\" class=\"dataframe\">\n",
       "  <thead>\n",
       "    <tr style=\"text-align: right;\">\n",
       "      <th></th>\n",
       "      <th>legislator</th>\n",
       "      <th>Pork Value(Constituency Interest)</th>\n",
       "      <th>Legislative Questions</th>\n",
       "      <th>Topic</th>\n",
       "      <th>Key Word</th>\n",
       "    </tr>\n",
       "  </thead>\n",
       "  <tbody>\n",
       "    <tr>\n",
       "      <th>7674</th>\n",
       "      <td>羅世雄</td>\n",
       "      <td>0.000008172279195</td>\n",
       "      <td>針對手機通訊業者辦理新辦戶及更換SIM卡程序中，出現犯罪集團持偽造身分證，藉此竊取個人資料，...</td>\n",
       "      <td>電信行政 ; 國民身分證 ; 隱私權 ; 偽造</td>\n",
       "      <td>手機 ; 竊取個人資料 ; 犯罪集團</td>\n",
       "    </tr>\n",
       "    <tr>\n",
       "      <th>10798</th>\n",
       "      <td>黃敏惠(離職)</td>\n",
       "      <td>0.000007924887541</td>\n",
       "      <td>就近日來爆發知名提神飲料遭下毒事件，已知有四位台中市民因誤喝中毒，並有一人已不治死亡。此一類...</td>\n",
       "      <td>飲料 ; 中毒</td>\n",
       "      <td>飲料 ; 下毒 ; 千面人</td>\n",
       "    </tr>\n",
       "    <tr>\n",
       "      <th>2439</th>\n",
       "      <td>李俊毅</td>\n",
       "      <td>0.000007635978363</td>\n",
       "      <td>針對近來國務機要費與首長特別費因相關規範未臻明確，遭質疑該筆金額等同於首長薪水或私房錢，且有...</td>\n",
       "      <td>國家元首 ; 行政首長 ; 統一發票</td>\n",
       "      <td>國務機要費 ; 首長特別費</td>\n",
       "    </tr>\n",
       "    <tr>\n",
       "      <th>9039</th>\n",
       "      <td>邱毅</td>\n",
       "      <td>0.000007290207577</td>\n",
       "      <td>針對新聞局認定TVBS應為綜合台非新聞台乙案，準備將TVBS轉頻一事，日前行政院新聞局認定T...</td>\n",
       "      <td>新聞自由 ; 電視臺</td>\n",
       "      <td>TVBS ; 股權結構 ; 外資 ; 國家通訊傳播委員會組織法 ; NCC ; 報導自由</td>\n",
       "    </tr>\n",
       "    <tr>\n",
       "      <th>716</th>\n",
       "      <td>吳敦義</td>\n",
       "      <td>0.000005977188721</td>\n",
       "      <td>針對新聞局長謝志偉於立院議場備詢時，被要求下台，卻堅不下台一事，顯示行政院對憲法之基本尊重全...</td>\n",
       "      <td>政務官 ; 立法院</td>\n",
       "      <td>新聞局長謝志偉 ; 立院議場</td>\n",
       "    </tr>\n",
       "    <tr>\n",
       "      <th>6347</th>\n",
       "      <td>王幸男</td>\n",
       "      <td>0.000005814045380</td>\n",
       "      <td>針對本院交通委員會在台中市長夫人邵曉鈴女士車禍事件之後，以超高的效率通過了「道路交通管理處罰...</td>\n",
       "      <td>交通規則</td>\n",
       "      <td>道路交通管理處罰條例 ; 安全帶</td>\n",
       "    </tr>\n",
       "    <tr>\n",
       "      <th>6091</th>\n",
       "      <td>王幸男</td>\n",
       "      <td>0.000005248836715</td>\n",
       "      <td>針對道路人孔蓋或管線挖掘後回填品質不佳，或是公共安全沒有做好，導致各種傷害和死亡案件，一直居...</td>\n",
       "      <td>公共安全</td>\n",
       "      <td>人孔蓋 ; 公共安全 ; 道路品質</td>\n",
       "    </tr>\n",
       "    <tr>\n",
       "      <th>1299</th>\n",
       "      <td>廖婉汝</td>\n",
       "      <td>0.000004947882644</td>\n",
       "      <td>針對近來警界風紀事件頻傳，身為人民保母的員警卻屢屢傳出知法犯法、違法亂紀的情形，嚴重侵害到人...</td>\n",
       "      <td>警察風紀</td>\n",
       "      <td>警界風紀</td>\n",
       "    </tr>\n",
       "    <tr>\n",
       "      <th>3485</th>\n",
       "      <td>林德福</td>\n",
       "      <td>0.000002930427627</td>\n",
       "      <td>針對國內毒品市場再見新玩意，表示關切！一種名為「Ｎｅｘｕｓ」新興毒品，已入侵台灣。這種俗稱「...</td>\n",
       "      <td>毒品</td>\n",
       "      <td>毒品 ; Ｎｅｘｕｓ</td>\n",
       "    </tr>\n",
       "    <tr>\n",
       "      <th>3525</th>\n",
       "      <td>林惠官</td>\n",
       "      <td>0.000002737399427</td>\n",
       "      <td>對於政府要求台灣郵政公司每天挑選數萬封郵件蓋上台灣入聯的戳章一事，表示高度關切與嚴正的抗議！...</td>\n",
       "      <td>郵政機關 ; 政令宣導</td>\n",
       "      <td>台灣郵政公司 ; 台灣入聯</td>\n",
       "    </tr>\n",
       "    <tr>\n",
       "      <th>6636</th>\n",
       "      <td>王幸男</td>\n",
       "      <td>0.000002549493729</td>\n",
       "      <td>針對「莊嚴肅穆」的行憲紀念日，在威權時代「今天應懸掛國旗」，不過，在愈來愈多人的真實生活中，...</td>\n",
       "      <td>紀念活動 ; 憲政運作</td>\n",
       "      <td>聖誕節 ; 行憲紀念日 ; 制憲權</td>\n",
       "    </tr>\n",
       "    <tr>\n",
       "      <th>845</th>\n",
       "      <td>吳清池</td>\n",
       "      <td>0.000002455764843</td>\n",
       "      <td>有鑑於近年來大客車（遊覽車）事故頻傳，屢屢造成重大傷亡，多肇因於車輛不符安全規格，建請行政院...</td>\n",
       "      <td>交通安全 ; 客運業 ; 車輛檢驗</td>\n",
       "      <td>大客車 ; 遊覽車 ; 事故 ; 傷亡</td>\n",
       "    </tr>\n",
       "    <tr>\n",
       "      <th>10074</th>\n",
       "      <td>陳朝龍</td>\n",
       "      <td>0.000002378579666</td>\n",
       "      <td>針對台灣高鐵「試營運」車票首賣，卻因為自動售票系統設計不當，信用卡、金融卡購票限制過多，導致...</td>\n",
       "      <td>高速鐵路 ; 鐵路管理 ; 車票</td>\n",
       "      <td>高鐵 ; 自動售票系統 ; 安全性</td>\n",
       "    </tr>\n",
       "    <tr>\n",
       "      <th>9377</th>\n",
       "      <td>郭榮宗</td>\n",
       "      <td>0.000002361996849</td>\n",
       "      <td>針對鄉土語言教學實施近四年，掀起母語學習風潮，卻也造成新的語言危機？客語儼然成為「新弱勢語言...</td>\n",
       "      <td>國民小學 ; 母語教學</td>\n",
       "      <td>鄉土語言</td>\n",
       "    </tr>\n",
       "    <tr>\n",
       "      <th>8839</th>\n",
       "      <td>賴清德</td>\n",
       "      <td>0.000000553552638</td>\n",
       "      <td>針對市售豆類製品疑含「過氧化氫」情形嚴重，傷害消費者健康，爰要求相關單位依食品衛生管理法切實...</td>\n",
       "      <td>食品管理</td>\n",
       "      <td>豆類製品 ; 過氧化氫</td>\n",
       "    </tr>\n",
       "  </tbody>\n",
       "</table>\n",
       "</div>"
      ],
      "text/plain": [
       "      legislator Pork Value(Constituency Interest)  \\\n",
       "7674         羅世雄                 0.000008172279195   \n",
       "10798    黃敏惠(離職)                 0.000007924887541   \n",
       "2439         李俊毅                 0.000007635978363   \n",
       "9039          邱毅                 0.000007290207577   \n",
       "716          吳敦義                 0.000005977188721   \n",
       "6347         王幸男                 0.000005814045380   \n",
       "6091         王幸男                 0.000005248836715   \n",
       "1299         廖婉汝                 0.000004947882644   \n",
       "3485         林德福                 0.000002930427627   \n",
       "3525         林惠官                 0.000002737399427   \n",
       "6636         王幸男                 0.000002549493729   \n",
       "845          吳清池                 0.000002455764843   \n",
       "10074        陳朝龍                 0.000002378579666   \n",
       "9377         郭榮宗                 0.000002361996849   \n",
       "8839         賴清德                 0.000000553552638   \n",
       "\n",
       "                                  Legislative Questions   \\\n",
       "7674   針對手機通訊業者辦理新辦戶及更換SIM卡程序中，出現犯罪集團持偽造身分證，藉此竊取個人資料，...   \n",
       "10798  就近日來爆發知名提神飲料遭下毒事件，已知有四位台中市民因誤喝中毒，並有一人已不治死亡。此一類...   \n",
       "2439   針對近來國務機要費與首長特別費因相關規範未臻明確，遭質疑該筆金額等同於首長薪水或私房錢，且有...   \n",
       "9039   針對新聞局認定TVBS應為綜合台非新聞台乙案，準備將TVBS轉頻一事，日前行政院新聞局認定T...   \n",
       "716    針對新聞局長謝志偉於立院議場備詢時，被要求下台，卻堅不下台一事，顯示行政院對憲法之基本尊重全...   \n",
       "6347   針對本院交通委員會在台中市長夫人邵曉鈴女士車禍事件之後，以超高的效率通過了「道路交通管理處罰...   \n",
       "6091   針對道路人孔蓋或管線挖掘後回填品質不佳，或是公共安全沒有做好，導致各種傷害和死亡案件，一直居...   \n",
       "1299   針對近來警界風紀事件頻傳，身為人民保母的員警卻屢屢傳出知法犯法、違法亂紀的情形，嚴重侵害到人...   \n",
       "3485   針對國內毒品市場再見新玩意，表示關切！一種名為「Ｎｅｘｕｓ」新興毒品，已入侵台灣。這種俗稱「...   \n",
       "3525   對於政府要求台灣郵政公司每天挑選數萬封郵件蓋上台灣入聯的戳章一事，表示高度關切與嚴正的抗議！...   \n",
       "6636   針對「莊嚴肅穆」的行憲紀念日，在威權時代「今天應懸掛國旗」，不過，在愈來愈多人的真實生活中，...   \n",
       "845    有鑑於近年來大客車（遊覽車）事故頻傳，屢屢造成重大傷亡，多肇因於車輛不符安全規格，建請行政院...   \n",
       "10074  針對台灣高鐵「試營運」車票首賣，卻因為自動售票系統設計不當，信用卡、金融卡購票限制過多，導致...   \n",
       "9377   針對鄉土語言教學實施近四年，掀起母語學習風潮，卻也造成新的語言危機？客語儼然成為「新弱勢語言...   \n",
       "8839   針對市售豆類製品疑含「過氧化氫」情形嚴重，傷害消費者健康，爰要求相關單位依食品衛生管理法切實...   \n",
       "\n",
       "                         Topic                                      Key Word  \n",
       "7674   電信行政 ; 國民身分證 ; 隱私權 ; 偽造                            手機 ; 竊取個人資料 ; 犯罪集團  \n",
       "10798                  飲料 ; 中毒                                 飲料 ; 下毒 ; 千面人  \n",
       "2439        國家元首 ; 行政首長 ; 統一發票                                 國務機要費 ; 首長特別費  \n",
       "9039                新聞自由 ; 電視臺  TVBS ; 股權結構 ; 外資 ; 國家通訊傳播委員會組織法 ; NCC ; 報導自由  \n",
       "716                  政務官 ; 立法院                                新聞局長謝志偉 ; 立院議場  \n",
       "6347                      交通規則                              道路交通管理處罰條例 ; 安全帶  \n",
       "6091                      公共安全                             人孔蓋 ; 公共安全 ; 道路品質  \n",
       "1299                      警察風紀                                          警界風紀  \n",
       "3485                        毒品                                    毒品 ; Ｎｅｘｕｓ  \n",
       "3525               郵政機關 ; 政令宣導                                 台灣郵政公司 ; 台灣入聯  \n",
       "6636               紀念活動 ; 憲政運作                             聖誕節 ; 行憲紀念日 ; 制憲權  \n",
       "845          交通安全 ; 客運業 ; 車輛檢驗                           大客車 ; 遊覽車 ; 事故 ; 傷亡  \n",
       "10074         高速鐵路 ; 鐵路管理 ; 車票                             高鐵 ; 自動售票系統 ; 安全性  \n",
       "9377               國民小學 ; 母語教學                                          鄉土語言  \n",
       "8839                      食品管理                                   豆類製品 ; 過氧化氫  "
      ]
     },
     "execution_count": 30,
     "metadata": {},
     "output_type": "execute_result"
    }
   ],
   "source": [
    "pd.DataFrame(\n",
    "    {'legislator': sample_df.legislator,\n",
    "     'Pork Value(Constituency Interest)':[as_num(Dcnn(np.array([tokenizer.encode(line)]), training=True).numpy()[0][0]) for line in sub_set],\n",
    "     'Legislative Questions ': sample_df.title,\n",
    "     'Topic': sample_df.topic,\n",
    "     'Key Word':sample_df.keywords}).sort_values(by=['Pork Value(Constituency Interest)'], ascending = False).tail(15)"
   ]
  },
  {
   "cell_type": "markdown",
   "id": "5dc01475-847a-408f-9972-ac02e7aa4721",
   "metadata": {},
   "source": [
    "#### (2) Export an End-to-end Model\n"
   ]
  },
  {
   "cell_type": "code",
   "execution_count": 31,
   "id": "196028d0-edfe-434f-a173-4ccaa688faaa",
   "metadata": {
    "execution": {
     "iopub.execute_input": "2021-10-05T22:26:56.998171Z",
     "iopub.status.busy": "2021-10-05T22:26:56.998029Z",
     "iopub.status.idle": "2021-10-05T22:26:57.001644Z",
     "shell.execute_reply": "2021-10-05T22:26:57.000347Z",
     "shell.execute_reply.started": "2021-10-05T22:26:56.998154Z"
    },
    "tags": []
   },
   "outputs": [],
   "source": [
    "from tensorflow.keras.models import load_model"
   ]
  },
  {
   "cell_type": "code",
   "execution_count": 32,
   "id": "071291d0-c5bb-48de-adb2-f8b2bb3bb542",
   "metadata": {
    "execution": {
     "iopub.execute_input": "2021-10-05T22:26:57.003160Z",
     "iopub.status.busy": "2021-10-05T22:26:57.002700Z",
     "iopub.status.idle": "2021-10-05T22:26:58.080925Z",
     "shell.execute_reply": "2021-10-05T22:26:58.080402Z",
     "shell.execute_reply.started": "2021-10-05T22:26:57.003122Z"
    },
    "tags": []
   },
   "outputs": [
    {
     "name": "stdout",
     "output_type": "stream",
     "text": [
      "INFO:tensorflow:Assets written to: lour_pork_model/assets\n"
     ]
    },
    {
     "name": "stderr",
     "output_type": "stream",
     "text": [
      "INFO:tensorflow:Assets written to: lour_pork_model/assets\n"
     ]
    }
   ],
   "source": [
    "# Get model (Sequential, Functional Model, or Model subclass)\n",
    "Dcnn.save('lour_pork_model')"
   ]
  },
  {
   "cell_type": "code",
   "execution_count": 33,
   "id": "2ac46183-b841-469b-8897-1fea2922e445",
   "metadata": {
    "execution": {
     "iopub.execute_input": "2021-10-05T22:26:58.082733Z",
     "iopub.status.busy": "2021-10-05T22:26:58.082504Z",
     "iopub.status.idle": "2021-10-05T22:26:58.522337Z",
     "shell.execute_reply": "2021-10-05T22:26:58.521752Z",
     "shell.execute_reply.started": "2021-10-05T22:26:58.082717Z"
    },
    "tags": []
   },
   "outputs": [],
   "source": [
    "from tensorflow import keras\n",
    "model = keras.models.load_model('lour_pork_model')"
   ]
  }
 ],
 "metadata": {
  "kernelspec": {
   "display_name": "Python 3",
   "language": "python",
   "name": "python3"
  },
  "language_info": {
   "codemirror_mode": {
    "name": "ipython",
    "version": 3
   },
   "file_extension": ".py",
   "mimetype": "text/x-python",
   "name": "python",
   "nbconvert_exporter": "python",
   "pygments_lexer": "ipython3",
   "version": "3.8.8"
  }
 },
 "nbformat": 4,
 "nbformat_minor": 5
}
