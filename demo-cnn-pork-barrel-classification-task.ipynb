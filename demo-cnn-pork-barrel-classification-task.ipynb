{
 "cells": [
  {
   "cell_type": "markdown",
   "id": "b65dfbdc-bb80-4bd4-8248-dd06483222cd",
   "metadata": {},
   "source": [
    "# Lour's Pork Barrel Classifier (羅老師肉桶文本分類器)🐖\n",
    "## Convolutional Neural Networks for Pork Barrel Project Classification "
   ]
  },
  {
   "cell_type": "markdown",
   "id": "e8005d5a-f938-4c26-86d5-592408152d08",
   "metadata": {},
   "source": [
    "-------------------------\n",
    "\n",
    "### Stage 1: Libaries & Dependencies"
   ]
  },
  {
   "cell_type": "code",
   "execution_count": 1,
   "id": "6ca92ba3-7480-418f-91e0-d2beea2d10af",
   "metadata": {
    "execution": {
     "iopub.execute_input": "2021-06-02T15:27:02.311308Z",
     "iopub.status.busy": "2021-06-02T15:27:02.311130Z",
     "iopub.status.idle": "2021-06-02T15:27:07.891582Z",
     "shell.execute_reply": "2021-06-02T15:27:07.891024Z",
     "shell.execute_reply.started": "2021-06-02T15:27:02.311285Z"
    },
    "tags": []
   },
   "outputs": [],
   "source": [
    "# built-in library\n",
    "import math\n",
    "import re\n",
    "import collections\n",
    "import zipfile\n",
    "import random\n",
    "from itertools import chain\n",
    "\n",
    "# ML & Deep Learning/ NLP toolkit\n",
    "import pandas as pd\n",
    "import numpy as np\n",
    "import jieba\n",
    "from sklearn.model_selection import train_test_split\n",
    "import tensorflow as tf\n",
    "from tensorflow.keras import layers\n",
    "import tensorflow_datasets as tfds\n",
    "from tensorflow.keras.callbacks import EarlyStopping,TensorBoard\n",
    "\n",
    "# Visualization\n",
    "import matplotlib.pyplot as plt\n",
    "import seaborn as sns"
   ]
  },
  {
   "cell_type": "markdown",
   "id": "8bd77e05-355a-422f-87db-2cf77cba3bdd",
   "metadata": {},
   "source": [
    "-------------------------\n",
    "\n",
    "### Stage 2: Data Preprocessing (Training Data: Introduction of Bills and Legislation from 6th Session to 7th Session, 2004-2012)"
   ]
  },
  {
   "cell_type": "markdown",
   "id": "3b57b9c9-443e-4e26-bda2-15f6877845d5",
   "metadata": {},
   "source": [
    "#### (1) Read file "
   ]
  },
  {
   "cell_type": "code",
   "execution_count": 2,
   "id": "e1973cfb-73d4-4717-a67a-a4e8a0c9edb0",
   "metadata": {
    "execution": {
     "iopub.execute_input": "2021-06-02T15:27:07.892718Z",
     "iopub.status.busy": "2021-06-02T15:27:07.892559Z",
     "iopub.status.idle": "2021-06-02T15:27:07.933650Z",
     "shell.execute_reply": "2021-06-02T15:27:07.933103Z",
     "shell.execute_reply.started": "2021-06-02T15:27:07.892698Z"
    },
    "tags": []
   },
   "outputs": [],
   "source": [
    "# read file\n",
    "df = pd.read_csv('data/Pork Bill - 2021-05-20.csv',encoding='utf-8')\n",
    "\n",
    "# combine abstract of bill and title \n",
    "df['text'] =  df['Title'] + df['Content'].fillna(df['Title'])\n",
    "\n",
    "# drop conten without having any characters\n",
    "# view na's row: df[df['text'].isnull()==True]\n",
    "data = df[['text', 'pork_bill']].dropna(subset=['text'])"
   ]
  },
  {
   "cell_type": "code",
   "execution_count": 3,
   "id": "f6160785-9522-4404-8f77-6df941869cde",
   "metadata": {
    "execution": {
     "iopub.execute_input": "2021-06-02T15:27:07.935057Z",
     "iopub.status.busy": "2021-06-02T15:27:07.934870Z",
     "iopub.status.idle": "2021-06-02T15:27:07.940270Z",
     "shell.execute_reply": "2021-06-02T15:27:07.939536Z",
     "shell.execute_reply.started": "2021-06-02T15:27:07.935036Z"
    },
    "tags": []
   },
   "outputs": [
    {
     "name": "stdout",
     "output_type": "stream",
     "text": [
      " Pork Legislation 2510 \n",
      " None-Pork Legislation 4733\n"
     ]
    }
   ],
   "source": [
    "print(\" Pork Legislation\", data['pork_bill'].value_counts()[1],'\\n', \n",
    "      \"None-Pork Legislation\", data['pork_bill'].value_counts()[0])"
   ]
  },
  {
   "cell_type": "markdown",
   "id": "5e6d677d-e200-40e6-9252-130eb02fc682",
   "metadata": {
    "execution": {
     "iopub.execute_input": "2021-05-16T17:01:03.001989Z",
     "iopub.status.busy": "2021-05-16T17:01:03.001801Z",
     "iopub.status.idle": "2021-05-16T17:01:03.004600Z",
     "shell.execute_reply": "2021-05-16T17:01:03.003789Z",
     "shell.execute_reply.started": "2021-05-16T17:01:03.001969Z"
    }
   },
   "source": [
    "#### (2) Tokenization"
   ]
  },
  {
   "cell_type": "code",
   "execution_count": 4,
   "id": "120e8b54-7f75-4ca6-a0d0-9872b1522e8e",
   "metadata": {
    "execution": {
     "iopub.execute_input": "2021-06-02T15:27:07.941701Z",
     "iopub.status.busy": "2021-06-02T15:27:07.941428Z",
     "iopub.status.idle": "2021-06-02T15:27:07.949599Z",
     "shell.execute_reply": "2021-06-02T15:27:07.948823Z",
     "shell.execute_reply.started": "2021-06-02T15:27:07.941675Z"
    },
    "tags": []
   },
   "outputs": [],
   "source": [
    "import collections\n",
    "import numpy as np\n",
    "import jieba\n",
    "from itertools import chain\n",
    "\n",
    "\n",
    "def jieba_cut(filename):\n",
    "    \"\"\"\n",
    "    cut Chinese and remove stop words\n",
    "    Reference: https://www.cnblogs.com/Luv-GEM/p/10836454.html\n",
    "    Stopwords: https://www.kaggle.com/rikdifos/english-and-chinese-stopwords?select=cn_stopwords.txt\n",
    "    \"\"\"\n",
    "    stop_list = [i.strip() for i in open('cn_stopwords.txt','r',encoding='utf-8')]  \n",
    "    news_cut = []\n",
    "    news_list = []\n",
    "    for line in filename:    \n",
    "        if line:\n",
    "            news_cut = list(jieba.cut(''.join(line),cut_all=False,HMM=True))  \n",
    "            news_list.append([word.strip() for word in news_cut if word not in stop_list and len(word.strip())>0]) \n",
    "    news_list = list(chain.from_iterable(news_list))  \n",
    "    return news_list\n",
    "\n",
    "def clearPucts(context):\n",
    "    \"\"\"\n",
    "    remove punctuation\n",
    "    ref: https://chenyuzuoo.github.io/posts/28001/\n",
    "    \"\"\"\n",
    "    context = re.sub(\"[\\s+\\.\\!\\/_,$%^*(+\\\"\\']+|[+——！，。？、~@#￥%……&*（）]+\", \"\", context)\n",
    "    context = re.sub(\"[【】╮╯▽╰╭★→「」]+\",\"\", context)\n",
    "    context = re.sub(\"！，❤。～《》：（）【】「」？”“；：、\",\"\",context)\n",
    "    context = re.sub(\"\\s\",\"\",context)\n",
    "    return context\n",
    "\n",
    "def seg_char(sent):\n",
    "    \"\"\"\n",
    "    cut Chinese and remove stop words\n",
    "    ref: https://blog.csdn.net/renyuanfang/article/details/86487367\n",
    "    \"\"\"\n",
    "    # split\n",
    "    pattern_char_1 = re.compile(r'([\\W])')\n",
    "    parts = pattern_char_1.split(sent)\n",
    "    parts = [p for p in parts if len(p.strip())>0]\n",
    "    # cut sentence\n",
    "    pattern = re.compile(r'([\\u4e00-\\u9fa5])')\n",
    "    chars = pattern.split(sent)\n",
    "    chars = [w for w in chars if len(w.strip())>0]\n",
    "    chars = ' '.join(chars)\n",
    "    return chars"
   ]
  },
  {
   "cell_type": "code",
   "execution_count": 5,
   "id": "25f4277c-001d-47a4-81d0-f5ac5ec5e5d3",
   "metadata": {
    "execution": {
     "iopub.execute_input": "2021-06-02T15:27:07.951197Z",
     "iopub.status.busy": "2021-06-02T15:27:07.950817Z",
     "iopub.status.idle": "2021-06-02T15:27:10.120169Z",
     "shell.execute_reply": "2021-06-02T15:27:10.119582Z",
     "shell.execute_reply.started": "2021-06-02T15:27:07.951173Z"
    },
    "tags": []
   },
   "outputs": [],
   "source": [
    "data_clean = [seg_char(text) for text in [clearPucts(text) for text in data.text]]\n",
    "\n",
    "tokenizer = tfds.deprecated.text.SubwordTextEncoder.build_from_corpus(\n",
    "    data_clean, target_vocab_size=2**18)\n",
    "\n",
    "data_inputs = [tokenizer.encode(sentence) for sentence in data_clean]"
   ]
  },
  {
   "cell_type": "markdown",
   "id": "089e65af-e49c-4d60-962e-a0a826809aa5",
   "metadata": {
    "execution": {
     "iopub.execute_input": "2021-05-16T17:01:47.611294Z",
     "iopub.status.busy": "2021-05-16T17:01:47.611020Z",
     "iopub.status.idle": "2021-05-16T17:01:47.614208Z",
     "shell.execute_reply": "2021-05-16T17:01:47.613487Z",
     "shell.execute_reply.started": "2021-05-16T17:01:47.611276Z"
    }
   },
   "source": [
    "#### (3) Padding"
   ]
  },
  {
   "cell_type": "code",
   "execution_count": 6,
   "id": "b801d231-972c-47e3-83c4-7375c2e11a18",
   "metadata": {
    "execution": {
     "iopub.execute_input": "2021-06-02T15:27:10.123305Z",
     "iopub.status.busy": "2021-06-02T15:27:10.123115Z",
     "iopub.status.idle": "2021-06-02T15:27:10.190359Z",
     "shell.execute_reply": "2021-06-02T15:27:10.189769Z",
     "shell.execute_reply.started": "2021-06-02T15:27:10.123285Z"
    },
    "tags": []
   },
   "outputs": [],
   "source": [
    "MAX_LEN = max([len(sentence) for sentence in data_clean])\n",
    "data_inputs = tf.keras.preprocessing.sequence.pad_sequences(data_inputs,\n",
    "                                                            value=0,\n",
    "                                                            padding=\"post\",\n",
    "                                                            maxlen=MAX_LEN)\n"
   ]
  },
  {
   "cell_type": "markdown",
   "id": "f69d90cf-ac3c-4e08-b46b-457d9708d832",
   "metadata": {
    "execution": {
     "iopub.execute_input": "2021-05-16T17:02:28.107037Z",
     "iopub.status.busy": "2021-05-16T17:02:28.106843Z",
     "iopub.status.idle": "2021-05-16T17:02:28.109696Z",
     "shell.execute_reply": "2021-05-16T17:02:28.108954Z",
     "shell.execute_reply.started": "2021-05-16T17:02:28.107017Z"
    }
   },
   "source": [
    "#### (4) Spliting Training/ Testing Set"
   ]
  },
  {
   "cell_type": "code",
   "execution_count": 7,
   "id": "42503355-eea3-4602-ae5a-ea18be84b8d1",
   "metadata": {
    "execution": {
     "iopub.execute_input": "2021-06-02T15:27:10.192615Z",
     "iopub.status.busy": "2021-06-02T15:27:10.192410Z",
     "iopub.status.idle": "2021-06-02T15:27:10.195812Z",
     "shell.execute_reply": "2021-06-02T15:27:10.194963Z",
     "shell.execute_reply.started": "2021-06-02T15:27:10.192593Z"
    },
    "tags": []
   },
   "outputs": [],
   "source": [
    "data_labels = data.pork_bill.values"
   ]
  },
  {
   "cell_type": "code",
   "execution_count": 8,
   "id": "19235117-f63a-4e06-a102-6efe98c37dbf",
   "metadata": {
    "execution": {
     "iopub.execute_input": "2021-06-02T15:27:10.196979Z",
     "iopub.status.busy": "2021-06-02T15:27:10.196785Z",
     "iopub.status.idle": "2021-06-02T15:27:10.210797Z",
     "shell.execute_reply": "2021-06-02T15:27:10.210187Z",
     "shell.execute_reply.started": "2021-06-02T15:27:10.196957Z"
    },
    "tags": []
   },
   "outputs": [
    {
     "name": "stdout",
     "output_type": "stream",
     "text": [
      "Shape of X Train: (4852, 785) \n",
      "Shape of X Test : (2391, 785) \n",
      "Shape of Y Trian: (4852,) \n",
      "Shape of Y Test : (2391,)\n"
     ]
    }
   ],
   "source": [
    "import numpy as np\n",
    "from sklearn.model_selection import train_test_split\n",
    "train_inputs, test_inputs, train_labels, test_labels = train_test_split(\n",
    "    data_inputs, data_labels, test_size=0.33, random_state=42)\n",
    "\n",
    "print(\"Shape of X Train:\", train_inputs.shape, '\\n'\n",
    "      \"Shape of X Test :\", test_inputs.shape,'\\n'\n",
    "      \"Shape of Y Trian:\", train_labels.shape , '\\n'\n",
    "      \"Shape of Y Test :\", test_labels.shape )"
   ]
  },
  {
   "cell_type": "code",
   "execution_count": 9,
   "id": "6f10cb5c-7c8d-4e1e-a987-11b8de8e42d0",
   "metadata": {
    "execution": {
     "iopub.execute_input": "2021-06-02T15:27:10.212030Z",
     "iopub.status.busy": "2021-06-02T15:27:10.211763Z",
     "iopub.status.idle": "2021-06-02T15:27:10.215757Z",
     "shell.execute_reply": "2021-06-02T15:27:10.215131Z",
     "shell.execute_reply.started": "2021-06-02T15:27:10.212008Z"
    },
    "tags": []
   },
   "outputs": [
    {
     "name": "stdout",
     "output_type": "stream",
     "text": [
      " Num of Train Set: 4852 \n",
      " Not Pork vs Pork: {0: 3167, 1: 1685}\n"
     ]
    }
   ],
   "source": [
    "unique_train_labels, counts_train_labels = np.unique(train_labels, return_counts=True)\n",
    "\n",
    "print(' Num of Train Set:' , train_inputs.shape[0], '\\n'\n",
    "      ,'Not Pork vs Pork:', dict(zip(unique_train_labels, counts_train_labels)))"
   ]
  },
  {
   "cell_type": "code",
   "execution_count": 10,
   "id": "fedad623-02ba-4fad-b0b4-a094de7c39de",
   "metadata": {
    "execution": {
     "iopub.execute_input": "2021-06-02T15:27:10.216830Z",
     "iopub.status.busy": "2021-06-02T15:27:10.216576Z",
     "iopub.status.idle": "2021-06-02T15:27:10.220382Z",
     "shell.execute_reply": "2021-06-02T15:27:10.219778Z",
     "shell.execute_reply.started": "2021-06-02T15:27:10.216809Z"
    },
    "tags": []
   },
   "outputs": [
    {
     "name": "stdout",
     "output_type": "stream",
     "text": [
      " Num of Test Set: 2391 \n",
      " Not Pork vs Pork: {0: 1566, 1: 825}\n"
     ]
    }
   ],
   "source": [
    "unique_test_labels, counts_test_labels = np.unique(test_labels, return_counts=True)\n",
    "\n",
    "print(' Num of Test Set:' , test_inputs.shape[0], '\\n'\n",
    "      ,'Not Pork vs Pork:', dict(zip(unique_test_labels, counts_test_labels)))"
   ]
  },
  {
   "cell_type": "markdown",
   "id": "725f7feb-b93b-4d0b-bcbf-562240a79f8b",
   "metadata": {
    "execution": {
     "iopub.execute_input": "2021-05-16T17:04:13.375644Z",
     "iopub.status.busy": "2021-05-16T17:04:13.375440Z",
     "iopub.status.idle": "2021-05-16T17:04:13.378111Z",
     "shell.execute_reply": "2021-05-16T17:04:13.377464Z",
     "shell.execute_reply.started": "2021-05-16T17:04:13.375623Z"
    },
    "tags": []
   },
   "source": [
    "-------------------------\n",
    "\n",
    "\n",
    "### Stage 3: Model and Building"
   ]
  },
  {
   "cell_type": "markdown",
   "id": "4a0e74bf-eaf4-4043-8d23-88291d8ea344",
   "metadata": {
    "execution": {
     "iopub.execute_input": "2021-05-16T17:13:18.807725Z",
     "iopub.status.busy": "2021-05-16T17:13:18.807498Z",
     "iopub.status.idle": "2021-05-16T17:13:18.810574Z",
     "shell.execute_reply": "2021-05-16T17:13:18.809625Z",
     "shell.execute_reply.started": "2021-05-16T17:13:18.807701Z"
    }
   },
   "source": [
    "#### (1) Using the Subclassing API to Build Dynamic Model"
   ]
  },
  {
   "cell_type": "code",
   "execution_count": 11,
   "id": "1f18f9b1-5f4d-4d0a-baf4-2eebed7f34f2",
   "metadata": {
    "execution": {
     "iopub.execute_input": "2021-06-02T15:27:10.221646Z",
     "iopub.status.busy": "2021-06-02T15:27:10.221428Z",
     "iopub.status.idle": "2021-06-02T15:27:10.229092Z",
     "shell.execute_reply": "2021-06-02T15:27:10.228038Z",
     "shell.execute_reply.started": "2021-06-02T15:27:10.221626Z"
    },
    "tags": []
   },
   "outputs": [],
   "source": [
    "class DCNN(tf.keras.Model):\n",
    "    def __init__(self,\n",
    "                 vocab_size,\n",
    "                 emb_dim=128,\n",
    "                 nb_filters=100,\n",
    "                 FFN_units=512,\n",
    "                 nb_classes=2,\n",
    "                 dropout_rate=0.1,\n",
    "                 training=False,\n",
    "                 name=\"dcnn\"):\n",
    "        super(DCNN, self).__init__(name=name)\n",
    "        self.embedding = layers.Embedding(vocab_size,emb_dim)\n",
    "        self.bigram = layers.Conv1D(filters=nb_filters, kernel_size=2, padding=\"valid\", activation=\"relu\")\n",
    "        self.trigram = layers.Conv1D(filters=nb_filters,kernel_size=3,padding=\"valid\",activation=\"relu\")\n",
    "        self.fourgram = layers.Conv1D(filters=nb_filters,kernel_size=4,padding=\"valid\",activation=\"relu\")\n",
    "        self.fivegram = layers.Conv1D(filters=nb_filters,kernel_size=5,padding=\"valid\",activation=\"relu\")\n",
    "        self.pool = layers.GlobalMaxPool1D()\n",
    "        self.dense_1 = layers.Dense(units=FFN_units, activation=\"relu\")\n",
    "        self.dropout = layers.Dropout(rate=dropout_rate)\n",
    "        self.last_dense = layers.Dense(units=1, activation=\"sigmoid\")    \n",
    "    def call(self, inputs, training):\n",
    "        x = self.embedding(inputs)\n",
    "        x_1 = self.bigram(x)\n",
    "        x_1 = self.pool(x_1)\n",
    "        x_2 = self.trigram(x)\n",
    "        x_2 = self.pool(x_2)\n",
    "        x_3 = self.fourgram(x)\n",
    "        x_3 = self.pool(x_3)\n",
    "        x_4 = self.fourgram(x)\n",
    "        x_4 = self.pool(x_4) \n",
    "        x_5 = self.fivegram(x)\n",
    "        x_5 = self.pool(x_5)      \n",
    "        merged = tf.concat([x_1, x_2, x_3, x_4, x_5], axis=-1) \n",
    "        merged = self.dense_1(merged)\n",
    "        merged = self.dropout(merged, training)\n",
    "        output = self.last_dense(merged)        \n",
    "        return output"
   ]
  },
  {
   "cell_type": "code",
   "execution_count": 12,
   "id": "bfc02e93-3a0e-4c1c-b488-b2db98b53824",
   "metadata": {
    "execution": {
     "iopub.execute_input": "2021-06-02T15:27:10.230392Z",
     "iopub.status.busy": "2021-06-02T15:27:10.230039Z",
     "iopub.status.idle": "2021-06-02T15:27:10.249210Z",
     "shell.execute_reply": "2021-06-02T15:27:10.248625Z",
     "shell.execute_reply.started": "2021-06-02T15:27:10.230359Z"
    },
    "tags": []
   },
   "outputs": [],
   "source": [
    "VOCAB_SIZE = tokenizer.vocab_size  # 5000 tokenizer.vocab_size\n",
    "EMB_DIM = 200\n",
    "NB_FILTERS = 100\n",
    "FFN_UNITS = 256\n",
    "NB_CLASSES = 2 #len(set(train_labels))\n",
    "DROPOUT_RATE = 0.2\n",
    "BATCH_SIZE = 220\n",
    "NB_EPOCHS = 80\n",
    "\n",
    "Dcnn = DCNN(vocab_size=VOCAB_SIZE,\n",
    "            emb_dim=EMB_DIM,\n",
    "            nb_filters=NB_FILTERS,\n",
    "            FFN_units=FFN_UNITS,\n",
    "            nb_classes=NB_CLASSES,\n",
    "            dropout_rate=DROPOUT_RATE)"
   ]
  },
  {
   "cell_type": "markdown",
   "id": "b0ec8f51-6ed8-49fa-9d5e-c6929184bdf1",
   "metadata": {
    "execution": {
     "iopub.execute_input": "2021-05-16T18:43:59.279424Z",
     "iopub.status.busy": "2021-05-16T18:43:59.279202Z",
     "iopub.status.idle": "2021-05-16T18:43:59.282718Z",
     "shell.execute_reply": "2021-05-16T18:43:59.281823Z",
     "shell.execute_reply.started": "2021-05-16T18:43:59.279399Z"
    }
   },
   "source": [
    "#### (2) Compile and Summary of the Model"
   ]
  },
  {
   "cell_type": "code",
   "execution_count": 13,
   "id": "2cce0414-05eb-4f79-9c27-bca9c91a2903",
   "metadata": {
    "execution": {
     "iopub.execute_input": "2021-06-02T15:27:10.250297Z",
     "iopub.status.busy": "2021-06-02T15:27:10.250159Z",
     "iopub.status.idle": "2021-06-02T15:27:10.312306Z",
     "shell.execute_reply": "2021-06-02T15:27:10.311655Z",
     "shell.execute_reply.started": "2021-06-02T15:27:10.250279Z"
    },
    "tags": []
   },
   "outputs": [
    {
     "name": "stdout",
     "output_type": "stream",
     "text": [
      "Model: \"dcnn\"\n",
      "_________________________________________________________________\n",
      "Layer (type)                 Output Shape              Param #   \n",
      "=================================================================\n",
      "embedding (Embedding)        multiple                  586600    \n",
      "_________________________________________________________________\n",
      "conv1d (Conv1D)              multiple                  40100     \n",
      "_________________________________________________________________\n",
      "conv1d_1 (Conv1D)            multiple                  60100     \n",
      "_________________________________________________________________\n",
      "conv1d_2 (Conv1D)            multiple                  80100     \n",
      "_________________________________________________________________\n",
      "conv1d_3 (Conv1D)            multiple                  100100    \n",
      "_________________________________________________________________\n",
      "global_max_pooling1d (Global multiple                  0         \n",
      "_________________________________________________________________\n",
      "dense (Dense)                multiple                  128256    \n",
      "_________________________________________________________________\n",
      "dropout (Dropout)            multiple                  0         \n",
      "_________________________________________________________________\n",
      "dense_1 (Dense)              multiple                  257       \n",
      "=================================================================\n",
      "Total params: 995,513\n",
      "Trainable params: 995,513\n",
      "Non-trainable params: 0\n",
      "_________________________________________________________________\n"
     ]
    }
   ],
   "source": [
    "Dcnn.compile(loss=\"binary_crossentropy\", optimizer=\"adam\", metrics=[\"accuracy\"])\n",
    "Dcnn.build(input_shape = (train_inputs.shape[1] , EMB_DIM)) # (train_inputs.shape[1] , EMB_DIM)  (785 , EMB_DIM)\n",
    "Dcnn.summary()"
   ]
  },
  {
   "cell_type": "markdown",
   "id": "3880d2a4-2152-43de-bad3-34e67e97469e",
   "metadata": {
    "tags": []
   },
   "source": [
    "#### (3) Check Point Path"
   ]
  },
  {
   "cell_type": "code",
   "execution_count": 14,
   "id": "2c18aa59-a797-4a67-bc4d-a412dbaaedcb",
   "metadata": {
    "execution": {
     "iopub.execute_input": "2021-06-02T15:27:10.313561Z",
     "iopub.status.busy": "2021-06-02T15:27:10.313232Z",
     "iopub.status.idle": "2021-06-02T15:27:10.317689Z",
     "shell.execute_reply": "2021-06-02T15:27:10.316641Z",
     "shell.execute_reply.started": "2021-06-02T15:27:10.313539Z"
    },
    "tags": []
   },
   "outputs": [],
   "source": [
    "checkpoint_path = \"checkpoint_recode/ckpt_manager\"\n",
    "\n",
    "ckpt = tf.train.Checkpoint(Dcnn=Dcnn)\n",
    "\n",
    "ckpt_manager = tf.train.CheckpointManager(ckpt, checkpoint_path, max_to_keep=10)\n",
    "\n",
    "if ckpt_manager.latest_checkpoint:\n",
    "    ckpt.restore(ckpt_manager.latest_checkpoint)\n",
    "    print(\"Checkpoint Located!!\")"
   ]
  },
  {
   "cell_type": "markdown",
   "id": "73d70667-275f-40c0-bd71-6b47e9722798",
   "metadata": {
    "execution": {
     "iopub.execute_input": "2021-05-16T17:47:13.442664Z",
     "iopub.status.busy": "2021-05-16T17:47:13.442381Z",
     "iopub.status.idle": "2021-05-16T17:47:13.448371Z",
     "shell.execute_reply": "2021-05-16T17:47:13.446970Z",
     "shell.execute_reply.started": "2021-05-16T17:47:13.442620Z"
    }
   },
   "source": [
    "-------------------------\n",
    "\n",
    "### Stage 4: Train the Model"
   ]
  },
  {
   "cell_type": "code",
   "execution_count": 15,
   "id": "cc975047-5a58-46dc-b427-262796d9b625",
   "metadata": {
    "execution": {
     "iopub.execute_input": "2021-06-02T15:27:10.319790Z",
     "iopub.status.busy": "2021-06-02T15:27:10.319421Z",
     "iopub.status.idle": "2021-06-02T15:27:10.323849Z",
     "shell.execute_reply": "2021-06-02T15:27:10.322874Z",
     "shell.execute_reply.started": "2021-06-02T15:27:10.319753Z"
    },
    "tags": []
   },
   "outputs": [],
   "source": [
    "early_stop = EarlyStopping(monitor='val_loss',patience=5)"
   ]
  },
  {
   "cell_type": "code",
   "execution_count": 16,
   "id": "baf0cade-2c45-43b2-9782-6a8c6e570153",
   "metadata": {
    "execution": {
     "iopub.execute_input": "2021-06-02T15:27:10.326003Z",
     "iopub.status.busy": "2021-06-02T15:27:10.325582Z",
     "iopub.status.idle": "2021-06-02T15:35:09.886427Z",
     "shell.execute_reply": "2021-06-02T15:35:09.884830Z",
     "shell.execute_reply.started": "2021-06-02T15:27:10.325965Z"
    },
    "tags": []
   },
   "outputs": [
    {
     "name": "stdout",
     "output_type": "stream",
     "text": [
      "Epoch 1/80\n",
      "23/23 [==============================] - 50s 2s/step - loss: 0.5812 - accuracy: 0.6896 - val_loss: 0.4333 - val_accuracy: 0.8080\n",
      "Epoch 2/80\n",
      "23/23 [==============================] - 47s 2s/step - loss: 0.3134 - accuracy: 0.8739 - val_loss: 0.2243 - val_accuracy: 0.9134\n",
      "Epoch 3/80\n",
      "23/23 [==============================] - 54s 2s/step - loss: 0.1451 - accuracy: 0.9485 - val_loss: 0.1538 - val_accuracy: 0.9435\n",
      "Epoch 4/80\n",
      "23/23 [==============================] - 60s 3s/step - loss: 0.0748 - accuracy: 0.9763 - val_loss: 0.1473 - val_accuracy: 0.9502\n",
      "Epoch 5/80\n",
      "23/23 [==============================] - 53s 2s/step - loss: 0.0491 - accuracy: 0.9839 - val_loss: 0.1534 - val_accuracy: 0.9502\n",
      "Epoch 6/80\n",
      "23/23 [==============================] - 52s 2s/step - loss: 0.0453 - accuracy: 0.9843 - val_loss: 0.1625 - val_accuracy: 0.9465\n",
      "Epoch 7/80\n",
      "23/23 [==============================] - 53s 2s/step - loss: 0.0409 - accuracy: 0.9858 - val_loss: 0.1612 - val_accuracy: 0.9486\n",
      "Epoch 8/80\n",
      "23/23 [==============================] - 55s 2s/step - loss: 0.0511 - accuracy: 0.9850 - val_loss: 0.1737 - val_accuracy: 0.9419\n",
      "Epoch 9/80\n",
      "23/23 [==============================] - 54s 2s/step - loss: 0.0462 - accuracy: 0.9862 - val_loss: 0.1671 - val_accuracy: 0.9460\n"
     ]
    },
    {
     "data": {
      "text/plain": [
       "'checkpoint_recode/ckpt_manager/ckpt-1'"
      ]
     },
     "execution_count": 16,
     "metadata": {},
     "output_type": "execute_result"
    }
   ],
   "source": [
    "Dcnn.fit(train_inputs, train_labels,\n",
    "         validation_data=(test_inputs, test_labels),\n",
    "         batch_size=BATCH_SIZE,\n",
    "         epochs=NB_EPOCHS,\n",
    "         callbacks=[early_stop])\n",
    "ckpt_manager.save()"
   ]
  },
  {
   "cell_type": "markdown",
   "id": "3b0ac256-ab81-4ff5-8430-48f8bba50126",
   "metadata": {
    "execution": {
     "iopub.execute_input": "2021-05-16T18:23:25.926977Z",
     "iopub.status.busy": "2021-05-16T18:23:25.926754Z",
     "iopub.status.idle": "2021-05-16T18:23:25.931072Z",
     "shell.execute_reply": "2021-05-16T18:23:25.930041Z",
     "shell.execute_reply.started": "2021-05-16T18:23:25.926952Z"
    }
   },
   "source": [
    "-------------------------\n",
    "\n",
    "### Stage 5: Evaluation"
   ]
  },
  {
   "cell_type": "code",
   "execution_count": 17,
   "id": "58099cc1-19e0-443a-b960-7ae4d67344d3",
   "metadata": {
    "execution": {
     "iopub.execute_input": "2021-06-02T15:35:09.890508Z",
     "iopub.status.busy": "2021-06-02T15:35:09.890176Z",
     "iopub.status.idle": "2021-06-02T15:35:09.922206Z",
     "shell.execute_reply": "2021-06-02T15:35:09.920635Z",
     "shell.execute_reply.started": "2021-06-02T15:35:09.890461Z"
    },
    "tags": []
   },
   "outputs": [
    {
     "data": {
      "text/html": [
       "<div>\n",
       "<style scoped>\n",
       "    .dataframe tbody tr th:only-of-type {\n",
       "        vertical-align: middle;\n",
       "    }\n",
       "\n",
       "    .dataframe tbody tr th {\n",
       "        vertical-align: top;\n",
       "    }\n",
       "\n",
       "    .dataframe thead th {\n",
       "        text-align: right;\n",
       "    }\n",
       "</style>\n",
       "<table border=\"1\" class=\"dataframe\">\n",
       "  <thead>\n",
       "    <tr style=\"text-align: right;\">\n",
       "      <th></th>\n",
       "      <th>loss</th>\n",
       "      <th>accuracy</th>\n",
       "      <th>val_loss</th>\n",
       "      <th>val_accuracy</th>\n",
       "    </tr>\n",
       "  </thead>\n",
       "  <tbody>\n",
       "    <tr>\n",
       "      <th>0</th>\n",
       "      <td>0.581153</td>\n",
       "      <td>0.689613</td>\n",
       "      <td>0.433330</td>\n",
       "      <td>0.808030</td>\n",
       "    </tr>\n",
       "    <tr>\n",
       "      <th>1</th>\n",
       "      <td>0.313422</td>\n",
       "      <td>0.873866</td>\n",
       "      <td>0.224312</td>\n",
       "      <td>0.913425</td>\n",
       "    </tr>\n",
       "    <tr>\n",
       "      <th>2</th>\n",
       "      <td>0.145118</td>\n",
       "      <td>0.948475</td>\n",
       "      <td>0.153844</td>\n",
       "      <td>0.943538</td>\n",
       "    </tr>\n",
       "    <tr>\n",
       "      <th>3</th>\n",
       "      <td>0.074768</td>\n",
       "      <td>0.976298</td>\n",
       "      <td>0.147292</td>\n",
       "      <td>0.950230</td>\n",
       "    </tr>\n",
       "    <tr>\n",
       "      <th>4</th>\n",
       "      <td>0.049063</td>\n",
       "      <td>0.983924</td>\n",
       "      <td>0.153372</td>\n",
       "      <td>0.950230</td>\n",
       "    </tr>\n",
       "    <tr>\n",
       "      <th>5</th>\n",
       "      <td>0.045254</td>\n",
       "      <td>0.984336</td>\n",
       "      <td>0.162529</td>\n",
       "      <td>0.946466</td>\n",
       "    </tr>\n",
       "    <tr>\n",
       "      <th>6</th>\n",
       "      <td>0.040888</td>\n",
       "      <td>0.985779</td>\n",
       "      <td>0.161173</td>\n",
       "      <td>0.948557</td>\n",
       "    </tr>\n",
       "    <tr>\n",
       "      <th>7</th>\n",
       "      <td>0.051092</td>\n",
       "      <td>0.984955</td>\n",
       "      <td>0.173736</td>\n",
       "      <td>0.941865</td>\n",
       "    </tr>\n",
       "    <tr>\n",
       "      <th>8</th>\n",
       "      <td>0.046207</td>\n",
       "      <td>0.986191</td>\n",
       "      <td>0.167091</td>\n",
       "      <td>0.946048</td>\n",
       "    </tr>\n",
       "  </tbody>\n",
       "</table>\n",
       "</div>"
      ],
      "text/plain": [
       "       loss  accuracy  val_loss  val_accuracy\n",
       "0  0.581153  0.689613  0.433330      0.808030\n",
       "1  0.313422  0.873866  0.224312      0.913425\n",
       "2  0.145118  0.948475  0.153844      0.943538\n",
       "3  0.074768  0.976298  0.147292      0.950230\n",
       "4  0.049063  0.983924  0.153372      0.950230\n",
       "5  0.045254  0.984336  0.162529      0.946466\n",
       "6  0.040888  0.985779  0.161173      0.948557\n",
       "7  0.051092  0.984955  0.173736      0.941865\n",
       "8  0.046207  0.986191  0.167091      0.946048"
      ]
     },
     "execution_count": 17,
     "metadata": {},
     "output_type": "execute_result"
    }
   ],
   "source": [
    "losses = pd.DataFrame(Dcnn.history.history)\n",
    "losses"
   ]
  },
  {
   "cell_type": "code",
   "execution_count": 18,
   "id": "f37a760f-b388-4051-a78d-295bce1f214a",
   "metadata": {
    "execution": {
     "iopub.execute_input": "2021-06-02T15:35:09.924484Z",
     "iopub.status.busy": "2021-06-02T15:35:09.923981Z",
     "iopub.status.idle": "2021-06-02T15:35:10.692331Z",
     "shell.execute_reply": "2021-06-02T15:35:10.691304Z",
     "shell.execute_reply.started": "2021-06-02T15:35:09.924442Z"
    },
    "tags": []
   },
   "outputs": [
    {
     "data": {
      "text/plain": [
       "<AxesSubplot:>"
      ]
     },
     "execution_count": 18,
     "metadata": {},
     "output_type": "execute_result"
    },
    {
     "data": {
      "image/png": "[encoded data removed]",
      "text/plain": [
       "<Figure size 432x288 with 1 Axes>"
      ]
     },
     "metadata": {
      "needs_background": "light"
     },
     "output_type": "display_data"
    },
    {
     "data": {
      "image/png": "[encoded data removed]",
      "text/plain": [
       "<Figure size 432x288 with 1 Axes>"
      ]
     },
     "metadata": {
      "needs_background": "light"
     },
     "output_type": "display_data"
    }
   ],
   "source": [
    "losses[['accuracy','val_accuracy']].plot()\n",
    "losses[['loss','val_loss']].plot()"
   ]
  },
  {
   "cell_type": "code",
   "execution_count": 19,
   "id": "44300a6c-8da8-43cd-ada0-208a99b6b9d7",
   "metadata": {
    "execution": {
     "iopub.execute_input": "2021-06-02T15:35:10.694380Z",
     "iopub.status.busy": "2021-06-02T15:35:10.693933Z",
     "iopub.status.idle": "2021-06-02T15:35:10.699598Z",
     "shell.execute_reply": "2021-06-02T15:35:10.698177Z",
     "shell.execute_reply.started": "2021-06-02T15:35:10.694339Z"
    },
    "tags": []
   },
   "outputs": [],
   "source": [
    "from sklearn.metrics import classification_report,confusion_matrix"
   ]
  },
  {
   "cell_type": "code",
   "execution_count": 20,
   "id": "17760825-eb35-4f8c-88a0-45e94387c08d",
   "metadata": {
    "execution": {
     "iopub.execute_input": "2021-06-02T15:35:10.701947Z",
     "iopub.status.busy": "2021-06-02T15:35:10.701657Z",
     "iopub.status.idle": "2021-06-02T15:35:16.275015Z",
     "shell.execute_reply": "2021-06-02T15:35:16.273921Z",
     "shell.execute_reply.started": "2021-06-02T15:35:10.701915Z"
    },
    "tags": []
   },
   "outputs": [
    {
     "name": "stdout",
     "output_type": "stream",
     "text": [
      "11/11 [==============================] - 6s 495ms/step - loss: 0.1671 - accuracy: 0.9460\n",
      "[0.16709104180335999, 0.9460476636886597]\n"
     ]
    }
   ],
   "source": [
    "evaluation_model = Dcnn.evaluate(test_inputs, test_labels, batch_size=BATCH_SIZE)\n",
    "print(evaluation_model)"
   ]
  },
  {
   "cell_type": "code",
   "execution_count": 21,
   "id": "c9a3f93d-4398-418c-b511-69594874cc5a",
   "metadata": {
    "execution": {
     "iopub.execute_input": "2021-06-02T15:35:16.277339Z",
     "iopub.status.busy": "2021-06-02T15:35:16.276945Z",
     "iopub.status.idle": "2021-06-02T15:35:22.423576Z",
     "shell.execute_reply": "2021-06-02T15:35:22.420242Z",
     "shell.execute_reply.started": "2021-06-02T15:35:16.277298Z"
    },
    "tags": []
   },
   "outputs": [
    {
     "name": "stdout",
     "output_type": "stream",
     "text": [
      "              precision    recall  f1-score   support\n",
      "\n",
      "           0       0.95      0.97      0.96      1566\n",
      "           1       0.94      0.91      0.92       825\n",
      "\n",
      "    accuracy                           0.95      2391\n",
      "   macro avg       0.95      0.94      0.94      2391\n",
      "weighted avg       0.95      0.95      0.95      2391\n",
      "\n"
     ]
    }
   ],
   "source": [
    "# pd.DataFrame(confusion_matrix(test_labels,predictions))\n",
    "predictions = Dcnn.predict(test_inputs)\n",
    "predictions = np.where(predictions >0.8 , 1, 0)\n",
    "print(classification_report(test_labels, predictions))"
   ]
  },
  {
   "cell_type": "code",
   "execution_count": 22,
   "id": "4767688b-bfc8-4dc4-b8ec-2252f7791534",
   "metadata": {
    "execution": {
     "iopub.execute_input": "2021-06-02T15:35:22.428932Z",
     "iopub.status.busy": "2021-06-02T15:35:22.427985Z",
     "iopub.status.idle": "2021-06-02T15:35:22.447941Z",
     "shell.execute_reply": "2021-06-02T15:35:22.446636Z",
     "shell.execute_reply.started": "2021-06-02T15:35:22.428837Z"
    },
    "tags": []
   },
   "outputs": [
    {
     "data": {
      "text/html": [
       "<div>\n",
       "<style scoped>\n",
       "    .dataframe tbody tr th:only-of-type {\n",
       "        vertical-align: middle;\n",
       "    }\n",
       "\n",
       "    .dataframe tbody tr th {\n",
       "        vertical-align: top;\n",
       "    }\n",
       "\n",
       "    .dataframe thead th {\n",
       "        text-align: right;\n",
       "    }\n",
       "</style>\n",
       "<table border=\"1\" class=\"dataframe\">\n",
       "  <thead>\n",
       "    <tr style=\"text-align: right;\">\n",
       "      <th></th>\n",
       "      <th>Predictions: Not Pork(0)</th>\n",
       "      <th>Predictions:Pork(1)</th>\n",
       "    </tr>\n",
       "  </thead>\n",
       "  <tbody>\n",
       "    <tr>\n",
       "      <th>Acutal: Not Pork(0)</th>\n",
       "      <td>1521</td>\n",
       "      <td>45</td>\n",
       "    </tr>\n",
       "    <tr>\n",
       "      <th>Acutal: Pork (1)</th>\n",
       "      <td>78</td>\n",
       "      <td>747</td>\n",
       "    </tr>\n",
       "  </tbody>\n",
       "</table>\n",
       "</div>"
      ],
      "text/plain": [
       "                     Predictions: Not Pork(0)  Predictions:Pork(1)\n",
       "Acutal: Not Pork(0)                      1521                   45\n",
       "Acutal: Pork (1)                           78                  747"
      ]
     },
     "execution_count": 22,
     "metadata": {},
     "output_type": "execute_result"
    }
   ],
   "source": [
    "t = pd.DataFrame(confusion_matrix(test_labels,predictions), \n",
    "             columns=['Predictions: Not Pork(0)','Predictions:Pork(1)'])\n",
    "t.index = ['Acutal: Not Pork(0)', 'Acutal: Pork (1)']\n",
    "t"
   ]
  },
  {
   "cell_type": "markdown",
   "id": "d0416d6f-5e46-47c9-abad-f344bea7a94a",
   "metadata": {},
   "source": [
    "-------------------------\n",
    "\n",
    "### Stage 6: Try the Model with New Data and Export an End-to-end Model\n"
   ]
  },
  {
   "cell_type": "markdown",
   "id": "394b9a6e-0130-4af2-88e5-efe91cf9f348",
   "metadata": {
    "execution": {
     "iopub.execute_input": "2021-05-16T22:53:41.558105Z",
     "iopub.status.busy": "2021-05-16T22:53:41.557872Z",
     "iopub.status.idle": "2021-05-16T22:53:41.560984Z",
     "shell.execute_reply": "2021-05-16T22:53:41.560122Z",
     "shell.execute_reply.started": "2021-05-16T22:53:41.558080Z"
    }
   },
   "source": [
    "#### (1) Test New Dataset from 2000 samples from Legislative Questions from 6th Session "
   ]
  },
  {
   "cell_type": "code",
   "execution_count": 23,
   "id": "632bf33e-1df7-46c5-9a67-ab7141a949c2",
   "metadata": {
    "execution": {
     "iopub.execute_input": "2021-06-02T15:35:22.450370Z",
     "iopub.status.busy": "2021-06-02T15:35:22.450033Z",
     "iopub.status.idle": "2021-06-02T15:35:22.455946Z",
     "shell.execute_reply": "2021-06-02T15:35:22.454091Z",
     "shell.execute_reply.started": "2021-06-02T15:35:22.450331Z"
    },
    "tags": []
   },
   "outputs": [],
   "source": [
    "def as_num(x):\n",
    "    \"\"\"\n",
    "    keep 10 decimals\n",
    "    \"\"\"\n",
    "    y = '{:.15f}'.format(x) \n",
    "    return y"
   ]
  },
  {
   "cell_type": "code",
   "execution_count": 24,
   "id": "06ea7d54-49e9-4363-8304-d1dabaf3beb4",
   "metadata": {
    "execution": {
     "iopub.execute_input": "2021-06-02T15:35:22.471303Z",
     "iopub.status.busy": "2021-06-02T15:35:22.470920Z",
     "iopub.status.idle": "2021-06-02T15:35:23.024110Z",
     "shell.execute_reply": "2021-06-02T15:35:23.022852Z",
     "shell.execute_reply.started": "2021-06-02T15:35:22.471256Z"
    },
    "tags": []
   },
   "outputs": [],
   "source": [
    "import pandas as pd\n",
    "import random\n",
    "\n",
    "# test the trined model using new text from 200 samples from Leislative Questions\n",
    "LQ6 = pd.read_csv('data/LQ_6th.csv')\n",
    "\n",
    "# drop '0': legislor  never have proposed any legisaltive questions. \n",
    "LQ6 = LQ6[LQ6['title'].isin(['0'])== False]\n",
    "\n",
    "# select text with number of charecters within EMB_DIM; len(sub_set) = 11162\n",
    "# sample_df = LQ6.loc[[len(char_num) for char_num in LQ6.title if len(char_num) < MAX_LEN], ['legislator','title', 'topic', 'category', 'keywords', 'ques_type']].reset_index(drop=True)\n",
    "random.seed(42)\n",
    "sample_df = LQ6.iloc[random.sample(range(len(LQ6)), 2000)][['legislator', 'title', 'topic', 'category', 'keywords', 'ques_type']]\n",
    "sub_set = [seg_char(text) for text in [clearPucts(text) for text in sample_df.title]]\n"
   ]
  },
  {
   "cell_type": "markdown",
   "id": "68cc06a7-27d7-4007-949d-f7df81246e25",
   "metadata": {
    "tags": []
   },
   "source": [
    "##### Top 10 of 2000 Samples"
   ]
  },
  {
   "cell_type": "code",
   "execution_count": 25,
   "id": "d4b618c9-8c4b-40ec-a396-b4679233197e",
   "metadata": {
    "execution": {
     "iopub.execute_input": "2021-06-02T15:35:23.031841Z",
     "iopub.status.busy": "2021-06-02T15:35:23.031408Z",
     "iopub.status.idle": "2021-06-02T15:35:40.085241Z",
     "shell.execute_reply": "2021-06-02T15:35:40.084577Z",
     "shell.execute_reply.started": "2021-06-02T15:35:23.031791Z"
    },
    "tags": []
   },
   "outputs": [
    {
     "data": {
      "text/html": [
       "<div>\n",
       "<style scoped>\n",
       "    .dataframe tbody tr th:only-of-type {\n",
       "        vertical-align: middle;\n",
       "    }\n",
       "\n",
       "    .dataframe tbody tr th {\n",
       "        vertical-align: top;\n",
       "    }\n",
       "\n",
       "    .dataframe thead th {\n",
       "        text-align: right;\n",
       "    }\n",
       "</style>\n",
       "<table border=\"1\" class=\"dataframe\">\n",
       "  <thead>\n",
       "    <tr style=\"text-align: right;\">\n",
       "      <th></th>\n",
       "      <th>legislator</th>\n",
       "      <th>Pork Value(Constituency Interest)</th>\n",
       "      <th>Legislative Questions</th>\n",
       "      <th>Topic</th>\n",
       "      <th>Key Word</th>\n",
       "    </tr>\n",
       "  </thead>\n",
       "  <tbody>\n",
       "    <tr>\n",
       "      <th>9892</th>\n",
       "      <td>陳啟昱</td>\n",
       "      <td>0.998705923557281</td>\n",
       "      <td>鑑於現行《所得稅法》第十七條規定特別扣除額教育支出部分，僅以納稅義務人之子女就讀大專院校為限...</td>\n",
       "      <td>所得稅 ; 教育費用 ; 扣除額</td>\n",
       "      <td>所得稅法 ; 特別扣除額 ; 教育支出</td>\n",
       "    </tr>\n",
       "    <tr>\n",
       "      <th>7382</th>\n",
       "      <td>盧秀燕</td>\n",
       "      <td>0.997713625431061</td>\n",
       "      <td>針對早期退除役軍官給與補助金發放金額過低，實無法解決終身生活所需，希望相關單位考量實際情況，...</td>\n",
       "      <td>榮民福利</td>\n",
       "      <td>早期退除役軍官給與補助金</td>\n",
       "    </tr>\n",
       "    <tr>\n",
       "      <th>3999</th>\n",
       "      <td>林正峰</td>\n",
       "      <td>0.995817959308624</td>\n",
       "      <td>針對政府準備修法推動「二代健保」，健保保費採取「年度所得總額」為計算基礎，而非採用扣除免稅額...</td>\n",
       "      <td>國民 ; 健康保險 ; 保險費</td>\n",
       "      <td>二代健保 ; 年度所得總額</td>\n",
       "    </tr>\n",
       "    <tr>\n",
       "      <th>1761</th>\n",
       "      <td>彭添富</td>\n",
       "      <td>0.995098710060120</td>\n",
       "      <td>針對「辦理九十四年原住民中低收入戶家庭租屋補助計畫」專案補助計畫，特向行政院提出質詢。</td>\n",
       "      <td>原住民族生活</td>\n",
       "      <td>原住民中低收入戶 ; 租屋補助</td>\n",
       "    </tr>\n",
       "    <tr>\n",
       "      <th>10471</th>\n",
       "      <td>馮定國</td>\n",
       "      <td>0.991248130798340</td>\n",
       "      <td>鑒於國內經濟結構的快速調整，與人口高齡化的進展，未來中高齡失業問題必將日益嚴重，致使國人老年...</td>\n",
       "      <td>老人福利</td>\n",
       "      <td>高齡化 ; 中高齡失業</td>\n",
       "    </tr>\n",
       "    <tr>\n",
       "      <th>2601</th>\n",
       "      <td>李復興</td>\n",
       "      <td>0.989278435707092</td>\n",
       "      <td>發現自九十三年一月間起，勞保局陸續清查有一千多名國、公營事業退休員工溢領敬老津貼，截至93年...</td>\n",
       "      <td>老年給付 ; 勞工退休</td>\n",
       "      <td>公營事業退休員工 ; 溢領敬老津貼</td>\n",
       "    </tr>\n",
       "    <tr>\n",
       "      <th>4553</th>\n",
       "      <td>林鴻池</td>\n",
       "      <td>0.987997531890869</td>\n",
       "      <td>針對行政院宣布補助弱勢家庭子女就讀私校高中職之學費，卻將資格限制在「非自願就讀者」，有畫餅充...</td>\n",
       "      <td>低收入戶 ; 教育補助</td>\n",
       "      <td>弱勢家庭 ; 私立高中職</td>\n",
       "    </tr>\n",
       "    <tr>\n",
       "      <th>35</th>\n",
       "      <td>丁守中</td>\n",
       "      <td>0.984393239021301</td>\n",
       "      <td>針就民眾陳情指出，目前政府對身心障礙者提供之生活津貼，依身心障礙程度等級分為1000元至50...</td>\n",
       "      <td>身心障礙者福利</td>\n",
       "      <td>身心障礙者生活津貼</td>\n",
       "    </tr>\n",
       "    <tr>\n",
       "      <th>2282</th>\n",
       "      <td>曾華德</td>\n",
       "      <td>0.978886604309082</td>\n",
       "      <td>為民國38年至43年間戌守大陳島等地區之中華民國前江、浙、閩、粵反共救國軍補發薪餉問題，攸關...</td>\n",
       "      <td>軍餉</td>\n",
       "      <td>反共救國軍補發薪餉</td>\n",
       "    </tr>\n",
       "    <tr>\n",
       "      <th>1451</th>\n",
       "      <td>張顯耀</td>\n",
       "      <td>0.978493571281433</td>\n",
       "      <td>針對高雄市協勤民力補助預算編列不足，民力人員投注之心力、時間與領取之補貼金額顯不合比例。建請...</td>\n",
       "      <td>警察 ; 預算</td>\n",
       "      <td>第二預備金 ; 社區巡守隊</td>\n",
       "    </tr>\n",
       "    <tr>\n",
       "      <th>3034</th>\n",
       "      <td>李顯榮</td>\n",
       "      <td>0.975125133991241</td>\n",
       "      <td>對於陳水扁總統的「凱子外交」政策，不僅僅沒達到外交目的，更是浪費公帑，政府前後援賽金額高達5...</td>\n",
       "      <td>對外援助 ; 農民福利</td>\n",
       "      <td>凱子外交 ; 老農津貼 ; 賽內加爾</td>\n",
       "    </tr>\n",
       "    <tr>\n",
       "      <th>10735</th>\n",
       "      <td>黃志雄</td>\n",
       "      <td>0.973569393157959</td>\n",
       "      <td>針對樹林市三多地區三多國中新設案，因地方政府財務困難，無法如期支付龐大之建校費用，為維護樹林...</td>\n",
       "      <td>學校設立 ; 政府補助</td>\n",
       "      <td>三多國中 ; 建校費用</td>\n",
       "    </tr>\n",
       "    <tr>\n",
       "      <th>4546</th>\n",
       "      <td>林鴻池</td>\n",
       "      <td>0.972188711166382</td>\n",
       "      <td>針對諸多已獲得五年五百億與卓越計畫獎補助的大學擬調漲學雜費，但教育部長杜正勝曾承諾，獲得上述...</td>\n",
       "      <td>教育補助 ; 教育費用 ; 大學</td>\n",
       "      <td>卓越計畫獎補助 ; 大學學費</td>\n",
       "    </tr>\n",
       "    <tr>\n",
       "      <th>4802</th>\n",
       "      <td>楊瓊瓔</td>\n",
       "      <td>0.970784485340118</td>\n",
       "      <td>有鑑於縣市政府現須負擔領取月退俸教師之利息補貼，致財政負擔沈重，該項經費幾須靠借貸而來。本席...</td>\n",
       "      <td>教師退休 ; 退休金</td>\n",
       "      <td>月退俸 ; 教師 ; 財政負擔</td>\n",
       "    </tr>\n",
       "    <tr>\n",
       "      <th>2450</th>\n",
       "      <td>李俊毅</td>\n",
       "      <td>0.965222716331482</td>\n",
       "      <td>針對「幼兒教育與照顧法」研究案即將出爐，因為師生比例調整，預估學費將會有所調整，政府應提供相...</td>\n",
       "      <td>教育政策 ; 學前教育</td>\n",
       "      <td>幼兒教育與照顧法 ; 學費 ; 幼兒托育</td>\n",
       "    </tr>\n",
       "  </tbody>\n",
       "</table>\n",
       "</div>"
      ],
      "text/plain": [
       "      legislator Pork Value(Constituency Interest)  \\\n",
       "9892         陳啟昱                 0.998705923557281   \n",
       "7382         盧秀燕                 0.997713625431061   \n",
       "3999         林正峰                 0.995817959308624   \n",
       "1761         彭添富                 0.995098710060120   \n",
       "10471        馮定國                 0.991248130798340   \n",
       "2601         李復興                 0.989278435707092   \n",
       "4553         林鴻池                 0.987997531890869   \n",
       "35           丁守中                 0.984393239021301   \n",
       "2282         曾華德                 0.978886604309082   \n",
       "1451         張顯耀                 0.978493571281433   \n",
       "3034         李顯榮                 0.975125133991241   \n",
       "10735        黃志雄                 0.973569393157959   \n",
       "4546         林鴻池                 0.972188711166382   \n",
       "4802         楊瓊瓔                 0.970784485340118   \n",
       "2450         李俊毅                 0.965222716331482   \n",
       "\n",
       "                                  Legislative Questions              Topic  \\\n",
       "9892   鑑於現行《所得稅法》第十七條規定特別扣除額教育支出部分，僅以納稅義務人之子女就讀大專院校為限...  所得稅 ; 教育費用 ; 扣除額   \n",
       "7382   針對早期退除役軍官給與補助金發放金額過低，實無法解決終身生活所需，希望相關單位考量實際情況，...              榮民福利   \n",
       "3999   針對政府準備修法推動「二代健保」，健保保費採取「年度所得總額」為計算基礎，而非採用扣除免稅額...   國民 ; 健康保險 ; 保險費   \n",
       "1761         針對「辦理九十四年原住民中低收入戶家庭租屋補助計畫」專案補助計畫，特向行政院提出質詢。            原住民族生活   \n",
       "10471  鑒於國內經濟結構的快速調整，與人口高齡化的進展，未來中高齡失業問題必將日益嚴重，致使國人老年...              老人福利   \n",
       "2601   發現自九十三年一月間起，勞保局陸續清查有一千多名國、公營事業退休員工溢領敬老津貼，截至93年...       老年給付 ; 勞工退休   \n",
       "4553   針對行政院宣布補助弱勢家庭子女就讀私校高中職之學費，卻將資格限制在「非自願就讀者」，有畫餅充...       低收入戶 ; 教育補助   \n",
       "35     針就民眾陳情指出，目前政府對身心障礙者提供之生活津貼，依身心障礙程度等級分為1000元至50...           身心障礙者福利   \n",
       "2282   為民國38年至43年間戌守大陳島等地區之中華民國前江、浙、閩、粵反共救國軍補發薪餉問題，攸關...                軍餉   \n",
       "1451   針對高雄市協勤民力補助預算編列不足，民力人員投注之心力、時間與領取之補貼金額顯不合比例。建請...           警察 ; 預算   \n",
       "3034   對於陳水扁總統的「凱子外交」政策，不僅僅沒達到外交目的，更是浪費公帑，政府前後援賽金額高達5...       對外援助 ; 農民福利   \n",
       "10735  針對樹林市三多地區三多國中新設案，因地方政府財務困難，無法如期支付龐大之建校費用，為維護樹林...       學校設立 ; 政府補助   \n",
       "4546   針對諸多已獲得五年五百億與卓越計畫獎補助的大學擬調漲學雜費，但教育部長杜正勝曾承諾，獲得上述...  教育補助 ; 教育費用 ; 大學   \n",
       "4802   有鑑於縣市政府現須負擔領取月退俸教師之利息補貼，致財政負擔沈重，該項經費幾須靠借貸而來。本席...        教師退休 ; 退休金   \n",
       "2450   針對「幼兒教育與照顧法」研究案即將出爐，因為師生比例調整，預估學費將會有所調整，政府應提供相...       教育政策 ; 學前教育   \n",
       "\n",
       "                   Key Word  \n",
       "9892    所得稅法 ; 特別扣除額 ; 教育支出  \n",
       "7382           早期退除役軍官給與補助金  \n",
       "3999          二代健保 ; 年度所得總額  \n",
       "1761        原住民中低收入戶 ; 租屋補助  \n",
       "10471           高齡化 ; 中高齡失業  \n",
       "2601      公營事業退休員工 ; 溢領敬老津貼  \n",
       "4553           弱勢家庭 ; 私立高中職  \n",
       "35                身心障礙者生活津貼  \n",
       "2282              反共救國軍補發薪餉  \n",
       "1451          第二預備金 ; 社區巡守隊  \n",
       "3034     凱子外交 ; 老農津貼 ; 賽內加爾  \n",
       "10735           三多國中 ; 建校費用  \n",
       "4546         卓越計畫獎補助 ; 大學學費  \n",
       "4802        月退俸 ; 教師 ; 財政負擔  \n",
       "2450   幼兒教育與照顧法 ; 學費 ; 幼兒托育  "
      ]
     },
     "execution_count": 25,
     "metadata": {},
     "output_type": "execute_result"
    }
   ],
   "source": [
    "pd.DataFrame(\n",
    "    {'legislator': sample_df.legislator,\n",
    "     'Pork Value(Constituency Interest)':[as_num(Dcnn(np.array([tokenizer.encode(line)]), training=True).numpy()[0][0]) for line in sub_set],\n",
    "     'Legislative Questions ': sample_df.title,\n",
    "     'Topic': sample_df.topic,\n",
    "     'Key Word':sample_df.keywords}).sort_values(by=['Pork Value(Constituency Interest)'], ascending = False).head(15)"
   ]
  },
  {
   "cell_type": "markdown",
   "id": "6a6d4b15-3e05-427d-a664-8c8ce4e6622c",
   "metadata": {},
   "source": [
    "##### Last 10 Rows of 2000 Samples"
   ]
  },
  {
   "cell_type": "code",
   "execution_count": 26,
   "id": "369a7336-dc9d-4883-b919-b19611b5ad39",
   "metadata": {
    "execution": {
     "iopub.execute_input": "2021-06-02T15:35:40.086629Z",
     "iopub.status.busy": "2021-06-02T15:35:40.086312Z",
     "iopub.status.idle": "2021-06-02T15:35:52.103891Z",
     "shell.execute_reply": "2021-06-02T15:35:52.103266Z",
     "shell.execute_reply.started": "2021-06-02T15:35:40.086600Z"
    },
    "tags": []
   },
   "outputs": [
    {
     "data": {
      "text/html": [
       "<div>\n",
       "<style scoped>\n",
       "    .dataframe tbody tr th:only-of-type {\n",
       "        vertical-align: middle;\n",
       "    }\n",
       "\n",
       "    .dataframe tbody tr th {\n",
       "        vertical-align: top;\n",
       "    }\n",
       "\n",
       "    .dataframe thead th {\n",
       "        text-align: right;\n",
       "    }\n",
       "</style>\n",
       "<table border=\"1\" class=\"dataframe\">\n",
       "  <thead>\n",
       "    <tr style=\"text-align: right;\">\n",
       "      <th></th>\n",
       "      <th>legislator</th>\n",
       "      <th>Pork Value(Constituency Interest)</th>\n",
       "      <th>Legislative Questions</th>\n",
       "      <th>Topic</th>\n",
       "      <th>Key Word</th>\n",
       "    </tr>\n",
       "  </thead>\n",
       "  <tbody>\n",
       "    <tr>\n",
       "      <th>5603</th>\n",
       "      <td>潘孟安</td>\n",
       "      <td>0.000045465876610</td>\n",
       "      <td>就我國經濟弊案，近8年起訴金額高達2,767億元，而重大經濟罪犯動輒潛逃出境，每判一個就逃一...</td>\n",
       "      <td>經濟犯罪 ; 脫逃罪</td>\n",
       "      <td>經濟罪犯 ; 潛逃出境 ; 國際司法互助</td>\n",
       "    </tr>\n",
       "    <tr>\n",
       "      <th>6636</th>\n",
       "      <td>王幸男</td>\n",
       "      <td>0.000043055464630</td>\n",
       "      <td>針對「莊嚴肅穆」的行憲紀念日，在威權時代「今天應懸掛國旗」，不過，在愈來愈多人的真實生活中，...</td>\n",
       "      <td>紀念活動 ; 憲政運作</td>\n",
       "      <td>聖誕節 ; 行憲紀念日 ; 制憲權</td>\n",
       "    </tr>\n",
       "    <tr>\n",
       "      <th>8260</th>\n",
       "      <td>蔡其昌</td>\n",
       "      <td>0.000043055217247</td>\n",
       "      <td>針對台鐵復興號車箱改裝升級工程延宕一事，是否有綁標之嫌；台鐵在招標書中直接點名單一產品KYD...</td>\n",
       "      <td>政府採購 ; 工程招標</td>\n",
       "      <td>復興號 ; 綁標 ; 政府採購</td>\n",
       "    </tr>\n",
       "    <tr>\n",
       "      <th>2339</th>\n",
       "      <td>朱俊曉</td>\n",
       "      <td>0.000042757656047</td>\n",
       "      <td>針對近日新內閣多項工作狀況頻頻，引起治安、金融和外交上的政治危機，並嚴重影響政府、國家形象，...</td>\n",
       "      <td>內閣改組 ; 政府施政</td>\n",
       "      <td>內閣</td>\n",
       "    </tr>\n",
       "    <tr>\n",
       "      <th>9039</th>\n",
       "      <td>邱毅</td>\n",
       "      <td>0.000039050129999</td>\n",
       "      <td>針對新聞局認定TVBS應為綜合台非新聞台乙案，準備將TVBS轉頻一事，日前行政院新聞局認定T...</td>\n",
       "      <td>新聞自由 ; 電視臺</td>\n",
       "      <td>TVBS ; 股權結構 ; 外資 ; 國家通訊傳播委員會組織法 ; NCC ; 報導自由</td>\n",
       "    </tr>\n",
       "    <tr>\n",
       "      <th>1169</th>\n",
       "      <td>孫大千</td>\n",
       "      <td>0.000038162892452</td>\n",
       "      <td>針對行政院勞工委員會（以下簡稱勞委會）軟性凍結泰勞政策之決策過程是否有當，特向行政院提出質詢。</td>\n",
       "      <td>外籍勞工</td>\n",
       "      <td>凍結泰勞</td>\n",
       "    </tr>\n",
       "    <tr>\n",
       "      <th>6532</th>\n",
       "      <td>王幸男</td>\n",
       "      <td>0.000035692770325</td>\n",
       "      <td>針對陳總統日昨重申，有信心一定能夠在二○○八年卸任總統之前，為台灣催生一部合身、合時、合用的...</td>\n",
       "      <td>憲法修正</td>\n",
       "      <td>新憲法 ; 修改憲法</td>\n",
       "    </tr>\n",
       "    <tr>\n",
       "      <th>7514</th>\n",
       "      <td>紀國棟</td>\n",
       "      <td>0.000034269371099</td>\n",
       "      <td>鑒於台灣極力發展觀光倍增之際，竟一再傳出中國觀光客來台糾紛頻傳，爰要求觀光局為下列改進：一、...</td>\n",
       "      <td>旅遊業 ; 觀光</td>\n",
       "      <td>中國觀光客 ; 旅遊糾紛</td>\n",
       "    </tr>\n",
       "    <tr>\n",
       "      <th>1504</th>\n",
       "      <td>張顯耀</td>\n",
       "      <td>0.000033721506043</td>\n",
       "      <td>針對整合警力資源、擴大警政服務範疇，建議行政院將現行警政署、海岸巡防署、消防署及入出境管理局...</td>\n",
       "      <td>政府組織</td>\n",
       "      <td>警力資源 ; 警政服務 ; 警政總署</td>\n",
       "    </tr>\n",
       "    <tr>\n",
       "      <th>9153</th>\n",
       "      <td>郭俊銘</td>\n",
       "      <td>0.000027137575671</td>\n",
       "      <td>針對外電報導英國一隻鸚鵡感染H5N1病毒，疑是被台灣進口鳥類感染，嚴重影響我國形象，要求行政...</td>\n",
       "      <td>傳染病防治 ; 國際宣傳</td>\n",
       "      <td>禽流感 ; 鳥類外銷</td>\n",
       "    </tr>\n",
       "    <tr>\n",
       "      <th>982</th>\n",
       "      <td>周守訓</td>\n",
       "      <td>0.000018974245904</td>\n",
       "      <td>針對日前媒體報導陳水扁總統宣示，十二月二十五日耶誕節是重要的宗教節慶，更是我國的行憲紀念日，...</td>\n",
       "      <td>宗教 ; 假日</td>\n",
       "      <td>耶誕節 ; 行憲紀念日 ; 宗教自由 ; 政教分離</td>\n",
       "    </tr>\n",
       "    <tr>\n",
       "      <th>7429</th>\n",
       "      <td>管碧玲</td>\n",
       "      <td>0.000017340722479</td>\n",
       "      <td>針對近日台灣鐵路管理局發生網路訂票系統遭到內部人員惡意壟斷，導致一般民眾訂票權益受損之弊端；...</td>\n",
       "      <td>鐵路管理 ; 車票</td>\n",
       "      <td>網路訂票 ; 壟斷 ; 台鐵</td>\n",
       "    </tr>\n",
       "    <tr>\n",
       "      <th>8839</th>\n",
       "      <td>賴清德</td>\n",
       "      <td>0.000015966035789</td>\n",
       "      <td>針對市售豆類製品疑含「過氧化氫」情形嚴重，傷害消費者健康，爰要求相關單位依食品衛生管理法切實...</td>\n",
       "      <td>食品管理</td>\n",
       "      <td>豆類製品 ; 過氧化氫</td>\n",
       "    </tr>\n",
       "    <tr>\n",
       "      <th>7674</th>\n",
       "      <td>羅世雄</td>\n",
       "      <td>0.000011587005247</td>\n",
       "      <td>針對手機通訊業者辦理新辦戶及更換SIM卡程序中，出現犯罪集團持偽造身分證，藉此竊取個人資料，...</td>\n",
       "      <td>電信行政 ; 國民身分證 ; 隱私權 ; 偽造</td>\n",
       "      <td>手機 ; 竊取個人資料 ; 犯罪集團</td>\n",
       "    </tr>\n",
       "    <tr>\n",
       "      <th>4356</th>\n",
       "      <td>林進興</td>\n",
       "      <td>0.000009946919818</td>\n",
       "      <td>針對行政院金融監督管理委員會為了解決國人廣大的卡債問題，積極推廣債務協商機制，政策本意良好，...</td>\n",
       "      <td>信用卡 ; 債務</td>\n",
       "      <td>卡債 ; 協商機制</td>\n",
       "    </tr>\n",
       "  </tbody>\n",
       "</table>\n",
       "</div>"
      ],
      "text/plain": [
       "     legislator Pork Value(Constituency Interest)  \\\n",
       "5603        潘孟安                 0.000045465876610   \n",
       "6636        王幸男                 0.000043055464630   \n",
       "8260        蔡其昌                 0.000043055217247   \n",
       "2339        朱俊曉                 0.000042757656047   \n",
       "9039         邱毅                 0.000039050129999   \n",
       "1169        孫大千                 0.000038162892452   \n",
       "6532        王幸男                 0.000035692770325   \n",
       "7514        紀國棟                 0.000034269371099   \n",
       "1504        張顯耀                 0.000033721506043   \n",
       "9153        郭俊銘                 0.000027137575671   \n",
       "982         周守訓                 0.000018974245904   \n",
       "7429        管碧玲                 0.000017340722479   \n",
       "8839        賴清德                 0.000015966035789   \n",
       "7674        羅世雄                 0.000011587005247   \n",
       "4356        林進興                 0.000009946919818   \n",
       "\n",
       "                                 Legislative Questions   \\\n",
       "5603  就我國經濟弊案，近8年起訴金額高達2,767億元，而重大經濟罪犯動輒潛逃出境，每判一個就逃一...   \n",
       "6636  針對「莊嚴肅穆」的行憲紀念日，在威權時代「今天應懸掛國旗」，不過，在愈來愈多人的真實生活中，...   \n",
       "8260  針對台鐵復興號車箱改裝升級工程延宕一事，是否有綁標之嫌；台鐵在招標書中直接點名單一產品KYD...   \n",
       "2339  針對近日新內閣多項工作狀況頻頻，引起治安、金融和外交上的政治危機，並嚴重影響政府、國家形象，...   \n",
       "9039  針對新聞局認定TVBS應為綜合台非新聞台乙案，準備將TVBS轉頻一事，日前行政院新聞局認定T...   \n",
       "1169    針對行政院勞工委員會（以下簡稱勞委會）軟性凍結泰勞政策之決策過程是否有當，特向行政院提出質詢。   \n",
       "6532  針對陳總統日昨重申，有信心一定能夠在二○○八年卸任總統之前，為台灣催生一部合身、合時、合用的...   \n",
       "7514  鑒於台灣極力發展觀光倍增之際，竟一再傳出中國觀光客來台糾紛頻傳，爰要求觀光局為下列改進：一、...   \n",
       "1504  針對整合警力資源、擴大警政服務範疇，建議行政院將現行警政署、海岸巡防署、消防署及入出境管理局...   \n",
       "9153  針對外電報導英國一隻鸚鵡感染H5N1病毒，疑是被台灣進口鳥類感染，嚴重影響我國形象，要求行政...   \n",
       "982   針對日前媒體報導陳水扁總統宣示，十二月二十五日耶誕節是重要的宗教節慶，更是我國的行憲紀念日，...   \n",
       "7429  針對近日台灣鐵路管理局發生網路訂票系統遭到內部人員惡意壟斷，導致一般民眾訂票權益受損之弊端；...   \n",
       "8839  針對市售豆類製品疑含「過氧化氫」情形嚴重，傷害消費者健康，爰要求相關單位依食品衛生管理法切實...   \n",
       "7674  針對手機通訊業者辦理新辦戶及更換SIM卡程序中，出現犯罪集團持偽造身分證，藉此竊取個人資料，...   \n",
       "4356  針對行政院金融監督管理委員會為了解決國人廣大的卡債問題，積極推廣債務協商機制，政策本意良好，...   \n",
       "\n",
       "                        Topic                                      Key Word  \n",
       "5603               經濟犯罪 ; 脫逃罪                          經濟罪犯 ; 潛逃出境 ; 國際司法互助  \n",
       "6636              紀念活動 ; 憲政運作                             聖誕節 ; 行憲紀念日 ; 制憲權  \n",
       "8260              政府採購 ; 工程招標                               復興號 ; 綁標 ; 政府採購  \n",
       "2339              內閣改組 ; 政府施政                                            內閣  \n",
       "9039               新聞自由 ; 電視臺  TVBS ; 股權結構 ; 外資 ; 國家通訊傳播委員會組織法 ; NCC ; 報導自由  \n",
       "1169                     外籍勞工                                          凍結泰勞  \n",
       "6532                     憲法修正                                    新憲法 ; 修改憲法  \n",
       "7514                 旅遊業 ; 觀光                                  中國觀光客 ; 旅遊糾紛  \n",
       "1504                     政府組織                            警力資源 ; 警政服務 ; 警政總署  \n",
       "9153             傳染病防治 ; 國際宣傳                                    禽流感 ; 鳥類外銷  \n",
       "982                   宗教 ; 假日                     耶誕節 ; 行憲紀念日 ; 宗教自由 ; 政教分離  \n",
       "7429                鐵路管理 ; 車票                                網路訂票 ; 壟斷 ; 台鐵  \n",
       "8839                     食品管理                                   豆類製品 ; 過氧化氫  \n",
       "7674  電信行政 ; 國民身分證 ; 隱私權 ; 偽造                            手機 ; 竊取個人資料 ; 犯罪集團  \n",
       "4356                 信用卡 ; 債務                                     卡債 ; 協商機制  "
      ]
     },
     "execution_count": 26,
     "metadata": {},
     "output_type": "execute_result"
    }
   ],
   "source": [
    "pd.DataFrame(\n",
    "    {'legislator': sample_df.legislator,\n",
    "     'Pork Value(Constituency Interest)':[as_num(Dcnn(np.array([tokenizer.encode(line)]), training=True).numpy()[0][0]) for line in sub_set],\n",
    "     'Legislative Questions ': sample_df.title,\n",
    "     'Topic': sample_df.topic,\n",
    "     'Key Word':sample_df.keywords}).sort_values(by=['Pork Value(Constituency Interest)'], ascending = False).tail(15)"
   ]
  },
  {
   "cell_type": "markdown",
   "id": "5dc01475-847a-408f-9972-ac02e7aa4721",
   "metadata": {},
   "source": [
    "#### (2) Export an End-to-end Model\n"
   ]
  },
  {
   "cell_type": "code",
   "execution_count": 27,
   "id": "196028d0-edfe-434f-a173-4ccaa688faaa",
   "metadata": {
    "execution": {
     "iopub.execute_input": "2021-06-02T15:35:52.105183Z",
     "iopub.status.busy": "2021-06-02T15:35:52.104998Z",
     "iopub.status.idle": "2021-06-02T15:35:52.107751Z",
     "shell.execute_reply": "2021-06-02T15:35:52.107154Z",
     "shell.execute_reply.started": "2021-06-02T15:35:52.105162Z"
    },
    "tags": []
   },
   "outputs": [],
   "source": [
    "from tensorflow.keras.models import load_model"
   ]
  },
  {
   "cell_type": "code",
   "execution_count": null,
   "id": "071291d0-c5bb-48de-adb2-f8b2bb3bb542",
   "metadata": {
    "tags": []
   },
   "outputs": [],
   "source": [
    "# Get model (Sequential, Functional Model, or Model subclass)\n",
    "Dcnn.save('lour_pork_model')"
   ]
  },
  {
   "cell_type": "code",
   "execution_count": 29,
   "id": "2ac46183-b841-469b-8897-1fea2922e445",
   "metadata": {
    "execution": {
     "iopub.execute_input": "2021-06-02T15:35:53.259008Z",
     "iopub.status.busy": "2021-06-02T15:35:53.258715Z",
     "iopub.status.idle": "2021-06-02T15:35:53.738062Z",
     "shell.execute_reply": "2021-06-02T15:35:53.737447Z",
     "shell.execute_reply.started": "2021-06-02T15:35:53.258975Z"
    },
    "tags": []
   },
   "outputs": [],
   "source": [
    "from tensorflow import keras\n",
    "model = keras.models.load_model('lour_pork_model')"
   ]
  }
 ],
 "metadata": {
  "kernelspec": {
   "display_name": "Python 3",
   "language": "python",
   "name": "python3"
  },
  "language_info": {
   "codemirror_mode": {
    "name": "ipython",
    "version": 3
   },
   "file_extension": ".py",
   "mimetype": "text/x-python",
   "name": "python",
   "nbconvert_exporter": "python",
   "pygments_lexer": "ipython3",
   "version": "3.8.8"
  }
 },
 "nbformat": 4,
 "nbformat_minor": 5
}
