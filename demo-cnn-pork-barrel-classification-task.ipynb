{
 "cells": [
  {
   "cell_type": "markdown",
   "id": "b65dfbdc-bb80-4bd4-8248-dd06483222cd",
   "metadata": {},
   "source": [
    "# Lour's Pork Barrel Classifier (羅老師肉桶文本分類器)🐖\n",
    "## Convolutional Neural Networks for Pork Barrel Project Classification "
   ]
  },
  {
   "cell_type": "markdown",
   "id": "e8005d5a-f938-4c26-86d5-592408152d08",
   "metadata": {},
   "source": [
    "-------------------------\n",
    "\n",
    "### Stage 1: Libaries & Dependencies"
   ]
  },
  {
   "cell_type": "code",
   "execution_count": 1,
   "id": "6ca92ba3-7480-418f-91e0-d2beea2d10af",
   "metadata": {
    "execution": {
     "iopub.execute_input": "2021-05-17T00:23:57.648336Z",
     "iopub.status.busy": "2021-05-17T00:23:57.648167Z",
     "iopub.status.idle": "2021-05-17T00:24:02.716898Z",
     "shell.execute_reply": "2021-05-17T00:24:02.716294Z",
     "shell.execute_reply.started": "2021-05-17T00:23:57.648317Z"
    },
    "tags": []
   },
   "outputs": [],
   "source": [
    "import numpy as np\n",
    "import math\n",
    "import re\n",
    "import pandas as pd\n",
    "import collections\n",
    "import zipfile\n",
    "import numpy as np\n",
    "import jieba\n",
    "from itertools import chain\n",
    "from sklearn.model_selection import train_test_split\n",
    "import tensorflow as tf\n",
    "from tensorflow.keras import layers\n",
    "import tensorflow_datasets as tfds\n",
    "from tensorflow.keras.callbacks import EarlyStopping,TensorBoard"
   ]
  },
  {
   "cell_type": "markdown",
   "id": "8bd77e05-355a-422f-87db-2cf77cba3bdd",
   "metadata": {},
   "source": [
    "-------------------------\n",
    "\n",
    "### Stage 2: Data Preprocessing"
   ]
  },
  {
   "cell_type": "markdown",
   "id": "3b57b9c9-443e-4e26-bda2-15f6877845d5",
   "metadata": {},
   "source": [
    "#### (1) Read file "
   ]
  },
  {
   "cell_type": "code",
   "execution_count": 2,
   "id": "e1973cfb-73d4-4717-a67a-a4e8a0c9edb0",
   "metadata": {
    "execution": {
     "iopub.execute_input": "2021-05-17T00:24:02.717799Z",
     "iopub.status.busy": "2021-05-17T00:24:02.717655Z",
     "iopub.status.idle": "2021-05-17T00:24:02.733449Z",
     "shell.execute_reply": "2021-05-17T00:24:02.732918Z",
     "shell.execute_reply.started": "2021-05-17T00:24:02.717780Z"
    },
    "tags": []
   },
   "outputs": [],
   "source": [
    "df = pd.read_csv('data/Pork Bill - LY.csv',encoding='utf-8')\n",
    "df['text'] =  df['Title'] + df['Content'].fillna(df['Title'])\n",
    "data = df[['text', 'pork_bill']]"
   ]
  },
  {
   "cell_type": "code",
   "execution_count": 3,
   "id": "f1516984-596a-405e-96f5-6861b7550e52",
   "metadata": {
    "execution": {
     "iopub.execute_input": "2021-05-17T00:24:02.734487Z",
     "iopub.status.busy": "2021-05-17T00:24:02.734344Z",
     "iopub.status.idle": "2021-05-17T00:24:02.741123Z",
     "shell.execute_reply": "2021-05-17T00:24:02.740428Z",
     "shell.execute_reply.started": "2021-05-17T00:24:02.734468Z"
    },
    "tags": []
   },
   "outputs": [],
   "source": [
    "import collections\n",
    "import numpy as np\n",
    "import jieba\n",
    "from itertools import chain\n",
    "\n",
    "\n",
    "def jieba_cut(filename):\n",
    "    \"\"\"\n",
    "    cut Chinese and remove stop words\n",
    "    Reference: https://www.cnblogs.com/Luv-GEM/p/10836454.html\n",
    "    Stopwords: https://www.kaggle.com/rikdifos/english-and-chinese-stopwords?select=cn_stopwords.txt\n",
    "    \"\"\"\n",
    "    stop_list = [i.strip() for i in open('cn_stopwords.txt','r',encoding='utf-8')]  \n",
    "    news_cut = []\n",
    "    news_list = []\n",
    "    for line in filename:    \n",
    "        if line:\n",
    "            news_cut = list(jieba.cut(''.join(line),cut_all=False,HMM=True))  \n",
    "            news_list.append([word.strip() for word in news_cut if word not in stop_list and len(word.strip())>0]) \n",
    "    news_list = list(chain.from_iterable(news_list))  \n",
    "    return news_list\n",
    "\n",
    "def clearPucts(context):\n",
    "    \"\"\"\n",
    "    remove punctuation\n",
    "    ref: https://chenyuzuoo.github.io/posts/28001/\n",
    "    \"\"\"\n",
    "    context = re.sub(\"[\\s+\\.\\!\\/_,$%^*(+\\\"\\']+|[+——！，。？、~@#￥%……&*（）]+\", \"\", context)\n",
    "    context = re.sub(\"[【】╮╯▽╰╭★→「」]+\",\"\", context)\n",
    "    context = re.sub(\"！，❤。～《》：（）【】「」？”“；：、\",\"\",context)\n",
    "    context = re.sub(\"\\s\",\"\",context)\n",
    "    return context\n",
    "\n",
    "def seg_char(sent):\n",
    "    \"\"\"\n",
    "    cut Chinese and remove stop words\n",
    "    ref: https://blog.csdn.net/renyuanfang/article/details/86487367\n",
    "    \"\"\"\n",
    "    # 首先分割 英文 以及英文和标点\n",
    "    pattern_char_1 = re.compile(r'([\\W])')\n",
    "    parts = pattern_char_1.split(sent)\n",
    "    parts = [p for p in parts if len(p.strip())>0]\n",
    "    # 分割中文\n",
    "    pattern = re.compile(r'([\\u4e00-\\u9fa5])')\n",
    "    chars = pattern.split(sent)\n",
    "    chars = [w for w in chars if len(w.strip())>0]\n",
    "    chars = ' '.join(chars)\n",
    "    return chars\n",
    "\n",
    "# import spacy\n",
    "# # python3 -m spacy download zh_core_web_sm\n",
    "# spacy_nlp = spacy.load(\"zh_core_web_sm\")\n",
    "\n",
    "# data_clean = [clearPucts(text) for text in data.text]\n",
    "# data_clean = [[spacy_nlp(sentence).vector for sentence in data] for data in data_clean]\n"
   ]
  },
  {
   "cell_type": "markdown",
   "id": "5e6d677d-e200-40e6-9252-130eb02fc682",
   "metadata": {
    "execution": {
     "iopub.execute_input": "2021-05-16T17:01:03.001989Z",
     "iopub.status.busy": "2021-05-16T17:01:03.001801Z",
     "iopub.status.idle": "2021-05-16T17:01:03.004600Z",
     "shell.execute_reply": "2021-05-16T17:01:03.003789Z",
     "shell.execute_reply.started": "2021-05-16T17:01:03.001969Z"
    }
   },
   "source": [
    "#### (2) Tokenization"
   ]
  },
  {
   "cell_type": "code",
   "execution_count": 4,
   "id": "25f4277c-001d-47a4-81d0-f5ac5ec5e5d3",
   "metadata": {
    "execution": {
     "iopub.execute_input": "2021-05-17T00:24:02.742327Z",
     "iopub.status.busy": "2021-05-17T00:24:02.742147Z",
     "iopub.status.idle": "2021-05-17T00:24:03.325802Z",
     "shell.execute_reply": "2021-05-17T00:24:03.325210Z",
     "shell.execute_reply.started": "2021-05-17T00:24:02.742306Z"
    },
    "tags": []
   },
   "outputs": [],
   "source": [
    "data_clean = [seg_char(text) for text in [clearPucts(text) for text in data.text]]\n",
    "\n",
    "tokenizer = tfds.deprecated.text.SubwordTextEncoder.build_from_corpus(\n",
    "    data_clean, target_vocab_size=2**18)\n",
    "\n",
    "data_inputs = [tokenizer.encode(sentence) for sentence in data_clean]"
   ]
  },
  {
   "cell_type": "markdown",
   "id": "089e65af-e49c-4d60-962e-a0a826809aa5",
   "metadata": {
    "execution": {
     "iopub.execute_input": "2021-05-16T17:01:47.611294Z",
     "iopub.status.busy": "2021-05-16T17:01:47.611020Z",
     "iopub.status.idle": "2021-05-16T17:01:47.614208Z",
     "shell.execute_reply": "2021-05-16T17:01:47.613487Z",
     "shell.execute_reply.started": "2021-05-16T17:01:47.611276Z"
    }
   },
   "source": [
    "#### (3) Padding"
   ]
  },
  {
   "cell_type": "code",
   "execution_count": 5,
   "id": "b801d231-972c-47e3-83c4-7375c2e11a18",
   "metadata": {
    "execution": {
     "iopub.execute_input": "2021-05-17T00:24:03.326766Z",
     "iopub.status.busy": "2021-05-17T00:24:03.326633Z",
     "iopub.status.idle": "2021-05-17T00:24:03.341772Z",
     "shell.execute_reply": "2021-05-17T00:24:03.340749Z",
     "shell.execute_reply.started": "2021-05-17T00:24:03.326749Z"
    },
    "tags": []
   },
   "outputs": [],
   "source": [
    "MAX_LEN = max([len(sentence) for sentence in data_clean])\n",
    "data_inputs = tf.keras.preprocessing.sequence.pad_sequences(data_inputs,\n",
    "                                                            value=0,\n",
    "                                                            padding=\"post\",\n",
    "                                                            maxlen=MAX_LEN)\n"
   ]
  },
  {
   "cell_type": "markdown",
   "id": "f69d90cf-ac3c-4e08-b46b-457d9708d832",
   "metadata": {
    "execution": {
     "iopub.execute_input": "2021-05-16T17:02:28.107037Z",
     "iopub.status.busy": "2021-05-16T17:02:28.106843Z",
     "iopub.status.idle": "2021-05-16T17:02:28.109696Z",
     "shell.execute_reply": "2021-05-16T17:02:28.108954Z",
     "shell.execute_reply.started": "2021-05-16T17:02:28.107017Z"
    }
   },
   "source": [
    "#### (4) Spliting Training/Testing Set"
   ]
  },
  {
   "cell_type": "code",
   "execution_count": 6,
   "id": "42503355-eea3-4602-ae5a-ea18be84b8d1",
   "metadata": {
    "execution": {
     "iopub.execute_input": "2021-05-17T00:24:03.346663Z",
     "iopub.status.busy": "2021-05-17T00:24:03.346390Z",
     "iopub.status.idle": "2021-05-17T00:24:03.349695Z",
     "shell.execute_reply": "2021-05-17T00:24:03.348863Z",
     "shell.execute_reply.started": "2021-05-17T00:24:03.346639Z"
    },
    "tags": []
   },
   "outputs": [],
   "source": [
    "data_labels = data.pork_bill.values"
   ]
  },
  {
   "cell_type": "code",
   "execution_count": 7,
   "id": "19235117-f63a-4e06-a102-6efe98c37dbf",
   "metadata": {
    "execution": {
     "iopub.execute_input": "2021-05-17T00:24:03.351868Z",
     "iopub.status.busy": "2021-05-17T00:24:03.351683Z",
     "iopub.status.idle": "2021-05-17T00:24:03.356705Z",
     "shell.execute_reply": "2021-05-17T00:24:03.356076Z",
     "shell.execute_reply.started": "2021-05-17T00:24:03.351848Z"
    },
    "tags": []
   },
   "outputs": [
    {
     "name": "stdout",
     "output_type": "stream",
     "text": [
      "Shape of X Train: (797, 123) \n",
      "Shape of X Test:  (394, 123) \n",
      "Shape of Y Trian: (797,) \n",
      "Shape of Y Test:  (394,)\n"
     ]
    }
   ],
   "source": [
    "import numpy as np\n",
    "from sklearn.model_selection import train_test_split\n",
    "train_inputs, test_inputs, train_labels, test_labels = train_test_split(\n",
    "    data_inputs, data_labels, test_size=0.33, random_state=42)\n",
    "\n",
    "print(\"Shape of X Train:\", train_inputs.shape, '\\n'\n",
    "      \"Shape of X Test: \", test_inputs.shape,'\\n'\n",
    "      \"Shape of Y Trian:\", train_labels.shape , '\\n'\n",
    "      \"Shape of Y Test: \", test_labels.shape )"
   ]
  },
  {
   "cell_type": "markdown",
   "id": "725f7feb-b93b-4d0b-bcbf-562240a79f8b",
   "metadata": {
    "execution": {
     "iopub.execute_input": "2021-05-16T17:04:13.375644Z",
     "iopub.status.busy": "2021-05-16T17:04:13.375440Z",
     "iopub.status.idle": "2021-05-16T17:04:13.378111Z",
     "shell.execute_reply": "2021-05-16T17:04:13.377464Z",
     "shell.execute_reply.started": "2021-05-16T17:04:13.375623Z"
    },
    "tags": []
   },
   "source": [
    "-------------------------\n",
    "\n",
    "\n",
    "### Stage 3: Model Specification and Building"
   ]
  },
  {
   "cell_type": "markdown",
   "id": "4a0e74bf-eaf4-4043-8d23-88291d8ea344",
   "metadata": {
    "execution": {
     "iopub.execute_input": "2021-05-16T17:13:18.807725Z",
     "iopub.status.busy": "2021-05-16T17:13:18.807498Z",
     "iopub.status.idle": "2021-05-16T17:13:18.810574Z",
     "shell.execute_reply": "2021-05-16T17:13:18.809625Z",
     "shell.execute_reply.started": "2021-05-16T17:13:18.807701Z"
    }
   },
   "source": [
    "#### (1) Build the Model"
   ]
  },
  {
   "cell_type": "code",
   "execution_count": 8,
   "id": "1f18f9b1-5f4d-4d0a-baf4-2eebed7f34f2",
   "metadata": {
    "execution": {
     "iopub.execute_input": "2021-05-17T00:24:03.357929Z",
     "iopub.status.busy": "2021-05-17T00:24:03.357678Z",
     "iopub.status.idle": "2021-05-17T00:24:03.365249Z",
     "shell.execute_reply": "2021-05-17T00:24:03.364609Z",
     "shell.execute_reply.started": "2021-05-17T00:24:03.357905Z"
    },
    "tags": []
   },
   "outputs": [],
   "source": [
    "class DCNN(tf.keras.Model):\n",
    "    \n",
    "    def __init__(self,\n",
    "                 vocab_size,\n",
    "                 emb_dim=128,\n",
    "                 nb_filters=50,\n",
    "                 FFN_units=512,\n",
    "                 nb_classes=2,\n",
    "                 dropout_rate=0.1,\n",
    "                 training=False,\n",
    "                 name=\"dcnn\"):\n",
    "        super(DCNN, self).__init__(name=name)\n",
    "        \n",
    "        self.embedding = layers.Embedding(vocab_size, \n",
    "                                          emb_dim)\n",
    "        self.bigram = layers.Conv1D(filters=nb_filters, \n",
    "                                    kernel_size=2,\n",
    "                                    padding=\"valid\",\n",
    "                                    activation=\"relu\")\n",
    "        self.trigram = layers.Conv1D(filters=nb_filters,\n",
    "                                     kernel_size=3,\n",
    "                                     padding=\"valid\",\n",
    "                                     activation=\"relu\")\n",
    "        self.fourgram = layers.Conv1D(filters=nb_filters,\n",
    "                                      kernel_size=4,\n",
    "                                      padding=\"valid\",\n",
    "                                      activation=\"relu\")\n",
    "        self.pool = layers.GlobalMaxPool1D() # no training variable so we can\n",
    "                                             # use the same layer for each\n",
    "                                             # pooling step\n",
    "        self.dense_1 = layers.Dense(units=FFN_units, activation=\"relu\")\n",
    "        self.dropout = layers.Dropout(rate=dropout_rate)\n",
    "        if nb_classes == 2:\n",
    "            self.last_dense = layers.Dense(units=1,\n",
    "                                           activation=\"sigmoid\")\n",
    "        else:\n",
    "            self.last_dense = layers.Dense(units=nb_classes,\n",
    "                                           activation=\"softmax\")\n",
    "    \n",
    "    def call(self, inputs, training):\n",
    "        x = self.embedding(inputs)\n",
    "        x_1 = self.bigram(x)\n",
    "        x_1 = self.pool(x_1)\n",
    "        x_2 = self.trigram(x)\n",
    "        x_2 = self.pool(x_2)\n",
    "        x_3 = self.fourgram(x)\n",
    "        x_3 = self.pool(x_3)\n",
    "        \n",
    "        merged = tf.concat([x_1, x_2, x_3], axis=-1) # (batch_size, 3 * nb_filters)\n",
    "        merged = self.dense_1(merged)\n",
    "        merged = self.dropout(merged, training)\n",
    "        output = self.last_dense(merged)        \n",
    "        return output\n"
   ]
  },
  {
   "cell_type": "code",
   "execution_count": 9,
   "id": "bfc02e93-3a0e-4c1c-b488-b2db98b53824",
   "metadata": {
    "execution": {
     "iopub.execute_input": "2021-05-17T00:24:03.366569Z",
     "iopub.status.busy": "2021-05-17T00:24:03.366297Z",
     "iopub.status.idle": "2021-05-17T00:24:03.391883Z",
     "shell.execute_reply": "2021-05-17T00:24:03.391356Z",
     "shell.execute_reply.started": "2021-05-17T00:24:03.366545Z"
    },
    "tags": []
   },
   "outputs": [],
   "source": [
    "VOCAB_SIZE = 1819 # tokenizer.vocab_size\n",
    "EMB_DIM = 200\n",
    "NB_FILTERS = 100\n",
    "FFN_UNITS = 256\n",
    "NB_CLASSES = 2 #len(set(train_labels))\n",
    "DROPOUT_RATE = 0.2\n",
    "BATCH_SIZE = 32\n",
    "NB_EPOCHS = 150\n",
    "\n",
    "Dcnn = DCNN(vocab_size=VOCAB_SIZE,\n",
    "            emb_dim=EMB_DIM,\n",
    "            nb_filters=NB_FILTERS,\n",
    "            FFN_units=FFN_UNITS,\n",
    "            nb_classes=NB_CLASSES,\n",
    "            dropout_rate=DROPOUT_RATE)"
   ]
  },
  {
   "cell_type": "markdown",
   "id": "b0ec8f51-6ed8-49fa-9d5e-c6929184bdf1",
   "metadata": {
    "execution": {
     "iopub.execute_input": "2021-05-16T18:43:59.279424Z",
     "iopub.status.busy": "2021-05-16T18:43:59.279202Z",
     "iopub.status.idle": "2021-05-16T18:43:59.282718Z",
     "shell.execute_reply": "2021-05-16T18:43:59.281823Z",
     "shell.execute_reply.started": "2021-05-16T18:43:59.279399Z"
    }
   },
   "source": [
    "#### (2) Compile and Summary of the Model"
   ]
  },
  {
   "cell_type": "code",
   "execution_count": 10,
   "id": "78131d8a-fbb7-4cf0-9cfc-d36bf10b8a34",
   "metadata": {
    "execution": {
     "iopub.execute_input": "2021-05-17T00:24:03.393009Z",
     "iopub.status.busy": "2021-05-17T00:24:03.392842Z",
     "iopub.status.idle": "2021-05-17T00:24:03.443556Z",
     "shell.execute_reply": "2021-05-17T00:24:03.442970Z",
     "shell.execute_reply.started": "2021-05-17T00:24:03.392989Z"
    },
    "tags": []
   },
   "outputs": [
    {
     "name": "stdout",
     "output_type": "stream",
     "text": [
      "Model: \"dcnn\"\n",
      "_________________________________________________________________\n",
      "Layer (type)                 Output Shape              Param #   \n",
      "=================================================================\n",
      "embedding (Embedding)        multiple                  363800    \n",
      "_________________________________________________________________\n",
      "conv1d (Conv1D)              multiple                  40100     \n",
      "_________________________________________________________________\n",
      "conv1d_1 (Conv1D)            multiple                  60100     \n",
      "_________________________________________________________________\n",
      "conv1d_2 (Conv1D)            multiple                  80100     \n",
      "_________________________________________________________________\n",
      "global_max_pooling1d (Global multiple                  0         \n",
      "_________________________________________________________________\n",
      "dense (Dense)                multiple                  77056     \n",
      "_________________________________________________________________\n",
      "dropout (Dropout)            multiple                  0         \n",
      "_________________________________________________________________\n",
      "dense_1 (Dense)              multiple                  257       \n",
      "=================================================================\n",
      "Total params: 621,413\n",
      "Trainable params: 621,413\n",
      "Non-trainable params: 0\n",
      "_________________________________________________________________\n"
     ]
    }
   ],
   "source": [
    "Dcnn.compile(loss=\"binary_crossentropy\", optimizer=\"adam\", metrics=[\"accuracy\"])\n",
    "Dcnn.build(input_shape = (123 , EMB_DIM)) # (train_inputs.shape[1] , EMB_DIM)\n",
    "Dcnn.summary()"
   ]
  },
  {
   "cell_type": "markdown",
   "id": "3880d2a4-2152-43de-bad3-34e67e97469e",
   "metadata": {
    "tags": []
   },
   "source": [
    "#### (3) Check Point Path"
   ]
  },
  {
   "cell_type": "code",
   "execution_count": 11,
   "id": "e4115bec-233a-4abc-b081-05f526c4687b",
   "metadata": {
    "execution": {
     "iopub.execute_input": "2021-05-17T00:24:03.444649Z",
     "iopub.status.busy": "2021-05-17T00:24:03.444508Z",
     "iopub.status.idle": "2021-05-17T00:24:03.579143Z",
     "shell.execute_reply": "2021-05-17T00:24:03.578526Z",
     "shell.execute_reply.started": "2021-05-17T00:24:03.444630Z"
    },
    "tags": []
   },
   "outputs": [
    {
     "name": "stdout",
     "output_type": "stream",
     "text": [
      "Latest checkpoint restored!!\n"
     ]
    }
   ],
   "source": [
    "checkpoint_path = \"./drive/My Drive/projects/CNN_for_NLP/ckpt/\"\n",
    "\n",
    "ckpt = tf.train.Checkpoint(Dcnn=Dcnn)\n",
    "\n",
    "ckpt_manager = tf.train.CheckpointManager(ckpt, checkpoint_path, max_to_keep=5)\n",
    "\n",
    "if ckpt_manager.latest_checkpoint:\n",
    "    ckpt.restore(ckpt_manager.latest_checkpoint)\n",
    "    print(\"Latest checkpoint restored!!\")"
   ]
  },
  {
   "cell_type": "markdown",
   "id": "73d70667-275f-40c0-bd71-6b47e9722798",
   "metadata": {
    "execution": {
     "iopub.execute_input": "2021-05-16T17:47:13.442664Z",
     "iopub.status.busy": "2021-05-16T17:47:13.442381Z",
     "iopub.status.idle": "2021-05-16T17:47:13.448371Z",
     "shell.execute_reply": "2021-05-16T17:47:13.446970Z",
     "shell.execute_reply.started": "2021-05-16T17:47:13.442620Z"
    }
   },
   "source": [
    "-------------------------\n",
    "\n",
    "### Stage 4: Train the Model"
   ]
  },
  {
   "cell_type": "code",
   "execution_count": 12,
   "id": "cc975047-5a58-46dc-b427-262796d9b625",
   "metadata": {
    "execution": {
     "iopub.execute_input": "2021-05-17T00:24:03.580441Z",
     "iopub.status.busy": "2021-05-17T00:24:03.580241Z",
     "iopub.status.idle": "2021-05-17T00:24:03.583552Z",
     "shell.execute_reply": "2021-05-17T00:24:03.582756Z",
     "shell.execute_reply.started": "2021-05-17T00:24:03.580417Z"
    },
    "tags": []
   },
   "outputs": [],
   "source": [
    "early_stop = EarlyStopping(monitor='val_loss',patience=5)"
   ]
  },
  {
   "cell_type": "code",
   "execution_count": 13,
   "id": "baf0cade-2c45-43b2-9782-6a8c6e570153",
   "metadata": {
    "execution": {
     "iopub.execute_input": "2021-05-17T00:24:03.584807Z",
     "iopub.status.busy": "2021-05-17T00:24:03.584614Z",
     "iopub.status.idle": "2021-05-17T00:24:09.645323Z",
     "shell.execute_reply": "2021-05-17T00:24:09.644734Z",
     "shell.execute_reply.started": "2021-05-17T00:24:03.584785Z"
    },
    "tags": []
   },
   "outputs": [
    {
     "name": "stdout",
     "output_type": "stream",
     "text": [
      "Epoch 1/150\n",
      "25/25 [==============================] - 2s 40ms/step - loss: 0.0023 - accuracy: 0.9987 - val_loss: 0.4574 - val_accuracy: 0.9137\n",
      "Epoch 2/150\n",
      "25/25 [==============================] - 1s 35ms/step - loss: 0.0017 - accuracy: 0.9987 - val_loss: 0.4601 - val_accuracy: 0.9162\n",
      "Epoch 3/150\n",
      "25/25 [==============================] - 1s 35ms/step - loss: 0.0027 - accuracy: 0.9987 - val_loss: 0.4618 - val_accuracy: 0.9162\n",
      "Epoch 4/150\n",
      "25/25 [==============================] - 1s 35ms/step - loss: 0.0020 - accuracy: 0.9975 - val_loss: 0.4626 - val_accuracy: 0.9137\n",
      "Epoch 5/150\n",
      "25/25 [==============================] - 1s 35ms/step - loss: 0.0019 - accuracy: 0.9987 - val_loss: 0.4666 - val_accuracy: 0.9137\n",
      "Epoch 6/150\n",
      "25/25 [==============================] - 1s 35ms/step - loss: 0.0021 - accuracy: 0.9987 - val_loss: 0.4728 - val_accuracy: 0.9162\n"
     ]
    },
    {
     "data": {
      "text/plain": [
       "'./drive/My Drive/projects/CNN_for_NLP/ckpt/ckpt-7'"
      ]
     },
     "execution_count": 13,
     "metadata": {},
     "output_type": "execute_result"
    }
   ],
   "source": [
    "Dcnn.fit(train_inputs,\n",
    "         train_labels,\n",
    "         validation_data=(test_inputs, test_labels),\n",
    "         batch_size=BATCH_SIZE,\n",
    "         epochs=NB_EPOCHS,\n",
    "         callbacks=[early_stop])\n",
    "ckpt_manager.save()"
   ]
  },
  {
   "cell_type": "markdown",
   "id": "3b0ac256-ab81-4ff5-8430-48f8bba50126",
   "metadata": {
    "execution": {
     "iopub.execute_input": "2021-05-16T18:23:25.926977Z",
     "iopub.status.busy": "2021-05-16T18:23:25.926754Z",
     "iopub.status.idle": "2021-05-16T18:23:25.931072Z",
     "shell.execute_reply": "2021-05-16T18:23:25.930041Z",
     "shell.execute_reply.started": "2021-05-16T18:23:25.926952Z"
    }
   },
   "source": [
    "-------------------------\n",
    "\n",
    "### Stage 5: Evaluation"
   ]
  },
  {
   "cell_type": "code",
   "execution_count": 14,
   "id": "58099cc1-19e0-443a-b960-7ae4d67344d3",
   "metadata": {
    "execution": {
     "iopub.execute_input": "2021-05-17T00:24:09.646524Z",
     "iopub.status.busy": "2021-05-17T00:24:09.646351Z",
     "iopub.status.idle": "2021-05-17T00:24:09.657872Z",
     "shell.execute_reply": "2021-05-17T00:24:09.657200Z",
     "shell.execute_reply.started": "2021-05-17T00:24:09.646504Z"
    },
    "tags": []
   },
   "outputs": [
    {
     "data": {
      "text/html": [
       "<div>\n",
       "<style scoped>\n",
       "    .dataframe tbody tr th:only-of-type {\n",
       "        vertical-align: middle;\n",
       "    }\n",
       "\n",
       "    .dataframe tbody tr th {\n",
       "        vertical-align: top;\n",
       "    }\n",
       "\n",
       "    .dataframe thead th {\n",
       "        text-align: right;\n",
       "    }\n",
       "</style>\n",
       "<table border=\"1\" class=\"dataframe\">\n",
       "  <thead>\n",
       "    <tr style=\"text-align: right;\">\n",
       "      <th></th>\n",
       "      <th>loss</th>\n",
       "      <th>accuracy</th>\n",
       "      <th>val_loss</th>\n",
       "      <th>val_accuracy</th>\n",
       "    </tr>\n",
       "  </thead>\n",
       "  <tbody>\n",
       "    <tr>\n",
       "      <th>0</th>\n",
       "      <td>0.002286</td>\n",
       "      <td>0.998745</td>\n",
       "      <td>0.457428</td>\n",
       "      <td>0.913706</td>\n",
       "    </tr>\n",
       "    <tr>\n",
       "      <th>1</th>\n",
       "      <td>0.001730</td>\n",
       "      <td>0.998745</td>\n",
       "      <td>0.460063</td>\n",
       "      <td>0.916244</td>\n",
       "    </tr>\n",
       "    <tr>\n",
       "      <th>2</th>\n",
       "      <td>0.002705</td>\n",
       "      <td>0.998745</td>\n",
       "      <td>0.461760</td>\n",
       "      <td>0.916244</td>\n",
       "    </tr>\n",
       "    <tr>\n",
       "      <th>3</th>\n",
       "      <td>0.001962</td>\n",
       "      <td>0.997491</td>\n",
       "      <td>0.462597</td>\n",
       "      <td>0.913706</td>\n",
       "    </tr>\n",
       "    <tr>\n",
       "      <th>4</th>\n",
       "      <td>0.001881</td>\n",
       "      <td>0.998745</td>\n",
       "      <td>0.466569</td>\n",
       "      <td>0.913706</td>\n",
       "    </tr>\n",
       "    <tr>\n",
       "      <th>5</th>\n",
       "      <td>0.002123</td>\n",
       "      <td>0.998745</td>\n",
       "      <td>0.472847</td>\n",
       "      <td>0.916244</td>\n",
       "    </tr>\n",
       "  </tbody>\n",
       "</table>\n",
       "</div>"
      ],
      "text/plain": [
       "       loss  accuracy  val_loss  val_accuracy\n",
       "0  0.002286  0.998745  0.457428      0.913706\n",
       "1  0.001730  0.998745  0.460063      0.916244\n",
       "2  0.002705  0.998745  0.461760      0.916244\n",
       "3  0.001962  0.997491  0.462597      0.913706\n",
       "4  0.001881  0.998745  0.466569      0.913706\n",
       "5  0.002123  0.998745  0.472847      0.916244"
      ]
     },
     "execution_count": 14,
     "metadata": {},
     "output_type": "execute_result"
    }
   ],
   "source": [
    "losses = pd.DataFrame(Dcnn.history.history)\n",
    "losses"
   ]
  },
  {
   "cell_type": "code",
   "execution_count": 15,
   "id": "5a540709-5e13-479e-afaa-0f29f9c95bb6",
   "metadata": {
    "execution": {
     "iopub.execute_input": "2021-05-17T00:24:09.659031Z",
     "iopub.status.busy": "2021-05-17T00:24:09.658706Z",
     "iopub.status.idle": "2021-05-17T00:24:09.760524Z",
     "shell.execute_reply": "2021-05-17T00:24:09.759859Z",
     "shell.execute_reply.started": "2021-05-17T00:24:09.659003Z"
    },
    "tags": []
   },
   "outputs": [
    {
     "name": "stdout",
     "output_type": "stream",
     "text": [
      "13/13 [==============================] - 0s 5ms/step - loss: 0.4728 - accuracy: 0.9162\n",
      "[0.4728468358516693, 0.9162436723709106]\n"
     ]
    }
   ],
   "source": [
    "evaluation_model = Dcnn.evaluate(test_inputs, test_labels, batch_size=BATCH_SIZE)\n",
    "print(evaluation_model)"
   ]
  },
  {
   "cell_type": "code",
   "execution_count": 16,
   "id": "f37a760f-b388-4051-a78d-295bce1f214a",
   "metadata": {
    "execution": {
     "iopub.execute_input": "2021-05-17T00:24:09.762084Z",
     "iopub.status.busy": "2021-05-17T00:24:09.761701Z",
     "iopub.status.idle": "2021-05-17T00:24:10.167523Z",
     "shell.execute_reply": "2021-05-17T00:24:10.166914Z",
     "shell.execute_reply.started": "2021-05-17T00:24:09.762060Z"
    },
    "tags": []
   },
   "outputs": [
    {
     "data": {
      "text/plain": [
       "<AxesSubplot:>"
      ]
     },
     "execution_count": 16,
     "metadata": {},
     "output_type": "execute_result"
    },
    {
     "data": {
      "image/png": "[encoded data removed]",
      "text/plain": [
       "<Figure size 432x288 with 1 Axes>"
      ]
     },
     "metadata": {
      "needs_background": "light"
     },
     "output_type": "display_data"
    }
   ],
   "source": [
    "losses[['accuracy','val_accuracy']].plot()"
   ]
  },
  {
   "cell_type": "code",
   "execution_count": 17,
   "id": "ac71372b-1300-44e5-a08c-c845a2e1f99f",
   "metadata": {
    "execution": {
     "iopub.execute_input": "2021-05-17T00:24:10.168766Z",
     "iopub.status.busy": "2021-05-17T00:24:10.168601Z",
     "iopub.status.idle": "2021-05-17T00:24:10.288952Z",
     "shell.execute_reply": "2021-05-17T00:24:10.288292Z",
     "shell.execute_reply.started": "2021-05-17T00:24:10.168746Z"
    },
    "tags": []
   },
   "outputs": [
    {
     "data": {
      "text/plain": [
       "<AxesSubplot:>"
      ]
     },
     "execution_count": 17,
     "metadata": {},
     "output_type": "execute_result"
    },
    {
     "data": {
      "image/png": "[encoded data removed]",
      "text/plain": [
       "<Figure size 432x288 with 1 Axes>"
      ]
     },
     "metadata": {
      "needs_background": "light"
     },
     "output_type": "display_data"
    }
   ],
   "source": [
    "losses[['loss','val_loss']].plot()"
   ]
  },
  {
   "cell_type": "code",
   "execution_count": 18,
   "id": "c9a3f93d-4398-418c-b511-69594874cc5a",
   "metadata": {
    "execution": {
     "iopub.execute_input": "2021-05-17T00:24:10.290207Z",
     "iopub.status.busy": "2021-05-17T00:24:10.289921Z",
     "iopub.status.idle": "2021-05-17T00:24:10.471815Z",
     "shell.execute_reply": "2021-05-17T00:24:10.471191Z",
     "shell.execute_reply.started": "2021-05-17T00:24:10.290183Z"
    },
    "tags": []
   },
   "outputs": [
    {
     "name": "stdout",
     "output_type": "stream",
     "text": [
      "              precision    recall  f1-score   support\n",
      "\n",
      "           0       0.91      0.96      0.94       265\n",
      "           1       0.91      0.81      0.86       129\n",
      "\n",
      "    accuracy                           0.91       394\n",
      "   macro avg       0.91      0.89      0.90       394\n",
      "weighted avg       0.91      0.91      0.91       394\n",
      "\n"
     ]
    }
   ],
   "source": [
    "from sklearn.metrics import classification_report,confusion_matrix\n",
    "# pd.DataFrame(confusion_matrix(test_labels,predictions))\n",
    "predictions = Dcnn.predict(test_inputs)\n",
    "predictions = np.where(predictions >0.8 , 1, 0)\n",
    "print(classification_report(test_labels, predictions))"
   ]
  },
  {
   "cell_type": "code",
   "execution_count": 19,
   "id": "4767688b-bfc8-4dc4-b8ec-2252f7791534",
   "metadata": {
    "execution": {
     "iopub.execute_input": "2021-05-17T00:24:10.473151Z",
     "iopub.status.busy": "2021-05-17T00:24:10.472884Z",
     "iopub.status.idle": "2021-05-17T00:24:10.480958Z",
     "shell.execute_reply": "2021-05-17T00:24:10.480105Z",
     "shell.execute_reply.started": "2021-05-17T00:24:10.473126Z"
    },
    "tags": []
   },
   "outputs": [
    {
     "data": {
      "text/html": [
       "<div>\n",
       "<style scoped>\n",
       "    .dataframe tbody tr th:only-of-type {\n",
       "        vertical-align: middle;\n",
       "    }\n",
       "\n",
       "    .dataframe tbody tr th {\n",
       "        vertical-align: top;\n",
       "    }\n",
       "\n",
       "    .dataframe thead th {\n",
       "        text-align: right;\n",
       "    }\n",
       "</style>\n",
       "<table border=\"1\" class=\"dataframe\">\n",
       "  <thead>\n",
       "    <tr style=\"text-align: right;\">\n",
       "      <th></th>\n",
       "      <th>0</th>\n",
       "      <th>1</th>\n",
       "    </tr>\n",
       "  </thead>\n",
       "  <tbody>\n",
       "    <tr>\n",
       "      <th>0</th>\n",
       "      <td>255</td>\n",
       "      <td>10</td>\n",
       "    </tr>\n",
       "    <tr>\n",
       "      <th>1</th>\n",
       "      <td>24</td>\n",
       "      <td>105</td>\n",
       "    </tr>\n",
       "  </tbody>\n",
       "</table>\n",
       "</div>"
      ],
      "text/plain": [
       "     0    1\n",
       "0  255   10\n",
       "1   24  105"
      ]
     },
     "execution_count": 19,
     "metadata": {},
     "output_type": "execute_result"
    }
   ],
   "source": [
    "pd.DataFrame(confusion_matrix(test_labels,predictions))"
   ]
  },
  {
   "cell_type": "markdown",
   "id": "d0416d6f-5e46-47c9-abad-f344bea7a94a",
   "metadata": {},
   "source": [
    "-------------------------\n",
    "\n",
    "### Stage 6: Try the Model with New Data and Export an End-to-end Model\n"
   ]
  },
  {
   "cell_type": "markdown",
   "id": "394b9a6e-0130-4af2-88e5-efe91cf9f348",
   "metadata": {
    "execution": {
     "iopub.execute_input": "2021-05-16T22:53:41.558105Z",
     "iopub.status.busy": "2021-05-16T22:53:41.557872Z",
     "iopub.status.idle": "2021-05-16T22:53:41.560984Z",
     "shell.execute_reply": "2021-05-16T22:53:41.560122Z",
     "shell.execute_reply.started": "2021-05-16T22:53:41.558080Z"
    }
   },
   "source": [
    "#### (1) Test New Dataset from 200 samples from Leislative Questions"
   ]
  },
  {
   "cell_type": "code",
   "execution_count": 20,
   "id": "632bf33e-1df7-46c5-9a67-ab7141a949c2",
   "metadata": {
    "execution": {
     "iopub.execute_input": "2021-05-17T00:24:10.482859Z",
     "iopub.status.busy": "2021-05-17T00:24:10.482225Z",
     "iopub.status.idle": "2021-05-17T00:24:10.486088Z",
     "shell.execute_reply": "2021-05-17T00:24:10.485443Z",
     "shell.execute_reply.started": "2021-05-17T00:24:10.482803Z"
    },
    "tags": []
   },
   "outputs": [],
   "source": [
    "def as_num(x):\n",
    "    \"\"\"\n",
    "    keep 10 decimals\n",
    "    \"\"\"\n",
    "    y = '{:.15f}'.format(x) \n",
    "    return y"
   ]
  },
  {
   "cell_type": "code",
   "execution_count": 21,
   "id": "813dab9c-dd1b-4d88-ad68-408fc91c2101",
   "metadata": {
    "execution": {
     "iopub.execute_input": "2021-05-17T00:24:10.487191Z",
     "iopub.status.busy": "2021-05-17T00:24:10.487011Z",
     "iopub.status.idle": "2021-05-17T00:24:10.632482Z",
     "shell.execute_reply": "2021-05-17T00:24:10.631787Z",
     "shell.execute_reply.started": "2021-05-17T00:24:10.487171Z"
    },
    "tags": []
   },
   "outputs": [],
   "source": [
    "import pandas as pd\n",
    "import random\n",
    "\n",
    "# test the trined model using new text from 200 samples from Leislative Questions\n",
    "LQ6 = pd.read_csv('data/interpellation_ly_6th.csv')\n",
    "\n",
    "# select text with number of charecters within EMB_DIM; len(sub_set) = 11162\n",
    "sample_df = LQ6.loc[[len(char_num) for char_num in LQ6.title if len(char_num) < MAX_LEN], ['title', 'topic']].reset_index(drop=True)\n",
    "\n",
    "# randomly subsect 200 rows \n",
    "random.seed(4)\n",
    "sample_df = LQ6.loc[random.sample(range(len(LQ6)), 200), ['title', 'topic', 'category', 'keywords', 'ques_type']]\n",
    "sub_set = [seg_char(text) for text in [clearPucts(text) for text in sample_df.title]]"
   ]
  },
  {
   "cell_type": "code",
   "execution_count": 22,
   "id": "d4b618c9-8c4b-40ec-a396-b4679233197e",
   "metadata": {
    "execution": {
     "iopub.execute_input": "2021-05-17T00:24:10.633713Z",
     "iopub.status.busy": "2021-05-17T00:24:10.633371Z",
     "iopub.status.idle": "2021-05-17T00:24:11.431760Z",
     "shell.execute_reply": "2021-05-17T00:24:11.431102Z",
     "shell.execute_reply.started": "2021-05-17T00:24:10.633685Z"
    },
    "tags": []
   },
   "outputs": [
    {
     "data": {
      "text/html": [
       "<div>\n",
       "<style scoped>\n",
       "    .dataframe tbody tr th:only-of-type {\n",
       "        vertical-align: middle;\n",
       "    }\n",
       "\n",
       "    .dataframe tbody tr th {\n",
       "        vertical-align: top;\n",
       "    }\n",
       "\n",
       "    .dataframe thead th {\n",
       "        text-align: right;\n",
       "    }\n",
       "</style>\n",
       "<table border=\"1\" class=\"dataframe\">\n",
       "  <thead>\n",
       "    <tr style=\"text-align: right;\">\n",
       "      <th></th>\n",
       "      <th>Pork Value(Constituency Interest)</th>\n",
       "      <th>Legislative Questions</th>\n",
       "      <th>Topic</th>\n",
       "      <th>Key Word</th>\n",
       "    </tr>\n",
       "  </thead>\n",
       "  <tbody>\n",
       "    <tr>\n",
       "      <th>4546</th>\n",
       "      <td>0.863157272338867</td>\n",
       "      <td>針對諸多已獲得五年五百億與卓越計畫獎補助的大學擬調漲學雜費，但教育部長杜正勝曾承諾，獲得上述...</td>\n",
       "      <td>教育補助 ; 教育費用 ; 大學</td>\n",
       "      <td>卓越計畫獎補助 ; 大學學費</td>\n",
       "    </tr>\n",
       "    <tr>\n",
       "      <th>7720</th>\n",
       "      <td>0.693344533443451</td>\n",
       "      <td>針對內政部公告「低收入戶之資格家庭總收入以外財產總額之一定限額」有關不動產（土地及房屋）限額...</td>\n",
       "      <td>低收入戶 ; 不動產 ; 政府補助</td>\n",
       "      <td>低收入戶 ; 不動產 ; 低收入戶補助</td>\n",
       "    </tr>\n",
       "    <tr>\n",
       "      <th>4594</th>\n",
       "      <td>0.466114103794098</td>\n",
       "      <td>針對目前政府十三萬臨時人員已依勞退新制提撥退休金，但仍尚未納入勞基法保障，政府應儘速公布將臨...</td>\n",
       "      <td>勞動基準 ; 聘僱人員 ; 法律適用範圍</td>\n",
       "      <td>臨時人員 ; 勞基法</td>\n",
       "    </tr>\n",
       "    <tr>\n",
       "      <th>8671</th>\n",
       "      <td>0.320997893810272</td>\n",
       "      <td>針對政府公教貸款利率高於一般商業銀行專案辦理之房屋貸款利率，使公教人員之房貸利息負擔沈重依舊...</td>\n",
       "      <td>公務員福利 ; 房屋貸款 ; 利率</td>\n",
       "      <td>公教貸款利率</td>\n",
       "    </tr>\n",
       "    <tr>\n",
       "      <th>840</th>\n",
       "      <td>0.294913262128830</td>\n",
       "      <td>針對台北縣板橋市大漢溪沿岸的環河道路，因道路寬窄不一，規劃不完善且無汽、機車分流，加上大型車...</td>\n",
       "      <td>交通安全 ; 道路工程</td>\n",
       "      <td>大漢溪 ; 環河道路</td>\n",
       "    </tr>\n",
       "    <tr>\n",
       "      <th>3589</th>\n",
       "      <td>0.267547190189362</td>\n",
       "      <td>針對內政部即將公布之「人口政策白皮書」，擬加碼發放育兒津貼，以獎勵生育。本席樂觀其成，惟希望...</td>\n",
       "      <td>人口政策</td>\n",
       "      <td>人口政策 ; 獎勵生育</td>\n",
       "    </tr>\n",
       "    <tr>\n",
       "      <th>8329</th>\n",
       "      <td>0.255806893110275</td>\n",
       "      <td>南投縣為農業縣份，工商不發達，稅收財源不豐裕，全年度自有財源收入尚不敷支應全縣人事費支出，而...</td>\n",
       "      <td>地方財政</td>\n",
       "      <td>稅收 ; 地方財政</td>\n",
       "    </tr>\n",
       "    <tr>\n",
       "      <th>5076</th>\n",
       "      <td>0.121789485216141</td>\n",
       "      <td>針對陳水扁身陷國務機要費案，為求自保以所指稱的六項外交工作資料，「屬於國家機密，不受國家機密...</td>\n",
       "      <td>國家元首 ; 偵查</td>\n",
       "      <td>國務機要費 ; 國家機密保護法</td>\n",
       "    </tr>\n",
       "    <tr>\n",
       "      <th>4919</th>\n",
       "      <td>0.048991501331329</td>\n",
       "      <td>針對民法第1059條子女改姓之規定，子女是否有於成年後依其自由意志更改姓氏之權利，特向行政院...</td>\n",
       "      <td>姓名</td>\n",
       "      <td>子女改姓</td>\n",
       "    </tr>\n",
       "    <tr>\n",
       "      <th>9150</th>\n",
       "      <td>0.033610731363297</td>\n",
       "      <td>針對近年來財務持續惡化的中央健康保險局，利用健保費給付銀行巨額借款利息表示斥責。健保局用民眾...</td>\n",
       "      <td>國民 ; 健康保險 ; 保險費</td>\n",
       "      <td>財務 ; 中央健康保險局 ; 健保費給付</td>\n",
       "    </tr>\n",
       "    <tr>\n",
       "      <th>10166</th>\n",
       "      <td>0.030952572822571</td>\n",
       "      <td>鑒於高雄捷運弊案除相關人士及公務員涉及貪瀆不法問題外，更再次凸顯國內公共工程採用B.O.T方...</td>\n",
       "      <td>公共工程 ; 貪污</td>\n",
       "      <td>高雄捷運弊案 ; 公共工程 ; B.O.T</td>\n",
       "    </tr>\n",
       "    <tr>\n",
       "      <th>1654</th>\n",
       "      <td>0.030168324708939</td>\n",
       "      <td>針對「婦女權益」問題，特向行政院提出質詢。</td>\n",
       "      <td>婦女保障</td>\n",
       "      <td>婦女權益</td>\n",
       "    </tr>\n",
       "    <tr>\n",
       "      <th>9262</th>\n",
       "      <td>0.027052879333496</td>\n",
       "      <td>對於毒窟就在派出所旁舊報館內，高雄市警苓雅分局偵查隊昨天凌晨在五福路、中正路口，凱旋路派出所...</td>\n",
       "      <td>毒品 ; 治安</td>\n",
       "      <td>毒窟 ; 吸毒</td>\n",
       "    </tr>\n",
       "    <tr>\n",
       "      <th>7009</th>\n",
       "      <td>0.016174077987671</td>\n",
       "      <td>針對交通部修正「道路交通安全規則」，將大客車、聯結車、大貨車等大型車職業司機考照執業年齡上限...</td>\n",
       "      <td>退休年齡</td>\n",
       "      <td>道路交通安全規則 ; 職業司機 ; 退休年齡</td>\n",
       "    </tr>\n",
       "    <tr>\n",
       "      <th>4151</th>\n",
       "      <td>0.015212595462799</td>\n",
       "      <td>有鑒於日前裁併國中小學的爭議不斷，針對偏遠地區的小型學校，教育部日前邀集全國25縣市針對小型...</td>\n",
       "      <td>教育政策 ; 國民小學 ; 國民中學</td>\n",
       "      <td>裁併 ; 國中小學 ; 偏遠地區 ; 小型學校</td>\n",
       "    </tr>\n",
       "    <tr>\n",
       "      <th>5359</th>\n",
       "      <td>0.012886852025986</td>\n",
       "      <td>針對連興街站（汐科園站）北站體增建電動步道案，特向行政院提出質詢。</td>\n",
       "      <td>道路工程</td>\n",
       "      <td>連興街站 ; 電動步道</td>\n",
       "    </tr>\n",
       "    <tr>\n",
       "      <th>7062</th>\n",
       "      <td>0.012252658605576</td>\n",
       "      <td>針對交通部修正「道路交通安全規則」，將大客車、聯結車、大貨車等大型車職業司機考照執業年齡上限...</td>\n",
       "      <td>退休年齡</td>\n",
       "      <td>道路交通安全規則 ; 職業司機 ; 退休年齡</td>\n",
       "    </tr>\n",
       "    <tr>\n",
       "      <th>9937</th>\n",
       "      <td>0.012175351381302</td>\n",
       "      <td>鑑於今年發生數起現役軍人和教官參與政治活動，先後遭到軍方調職或懲處的案例，對於軍人下班時間得...</td>\n",
       "      <td>軍政關係</td>\n",
       "      <td>現役軍人 ; 教官 ; 政治活動</td>\n",
       "    </tr>\n",
       "    <tr>\n",
       "      <th>10497</th>\n",
       "      <td>0.011402010917664</td>\n",
       "      <td>針對社子島地勢低漥、排水不易容易引發淹水，嚴重威脅住民安全；且該地區多處禁建成為低度開發地區...</td>\n",
       "      <td>水災防治 ; 排水</td>\n",
       "      <td>排水 ; 淹水 ; 社子島</td>\n",
       "    </tr>\n",
       "    <tr>\n",
       "      <th>2700</th>\n",
       "      <td>0.008933573961258</td>\n",
       "      <td>針對日前高速公路局，為保護台灣特有品種紫斑蝶，於遷徙途中減少人為及車輛對其之傷害，於雲林縣林...</td>\n",
       "      <td>高速公路 ; 稀有動植物保護</td>\n",
       "      <td>高速公路 ; 紫斑蝶 ; 生物廊道</td>\n",
       "    </tr>\n",
       "  </tbody>\n",
       "</table>\n",
       "</div>"
      ],
      "text/plain": [
       "      Pork Value(Constituency Interest)  \\\n",
       "4546                  0.863157272338867   \n",
       "7720                  0.693344533443451   \n",
       "4594                  0.466114103794098   \n",
       "8671                  0.320997893810272   \n",
       "840                   0.294913262128830   \n",
       "3589                  0.267547190189362   \n",
       "8329                  0.255806893110275   \n",
       "5076                  0.121789485216141   \n",
       "4919                  0.048991501331329   \n",
       "9150                  0.033610731363297   \n",
       "10166                 0.030952572822571   \n",
       "1654                  0.030168324708939   \n",
       "9262                  0.027052879333496   \n",
       "7009                  0.016174077987671   \n",
       "4151                  0.015212595462799   \n",
       "5359                  0.012886852025986   \n",
       "7062                  0.012252658605576   \n",
       "9937                  0.012175351381302   \n",
       "10497                 0.011402010917664   \n",
       "2700                  0.008933573961258   \n",
       "\n",
       "                                  Legislative Questions   \\\n",
       "4546   針對諸多已獲得五年五百億與卓越計畫獎補助的大學擬調漲學雜費，但教育部長杜正勝曾承諾，獲得上述...   \n",
       "7720   針對內政部公告「低收入戶之資格家庭總收入以外財產總額之一定限額」有關不動產（土地及房屋）限額...   \n",
       "4594   針對目前政府十三萬臨時人員已依勞退新制提撥退休金，但仍尚未納入勞基法保障，政府應儘速公布將臨...   \n",
       "8671   針對政府公教貸款利率高於一般商業銀行專案辦理之房屋貸款利率，使公教人員之房貸利息負擔沈重依舊...   \n",
       "840    針對台北縣板橋市大漢溪沿岸的環河道路，因道路寬窄不一，規劃不完善且無汽、機車分流，加上大型車...   \n",
       "3589   針對內政部即將公布之「人口政策白皮書」，擬加碼發放育兒津貼，以獎勵生育。本席樂觀其成，惟希望...   \n",
       "8329   南投縣為農業縣份，工商不發達，稅收財源不豐裕，全年度自有財源收入尚不敷支應全縣人事費支出，而...   \n",
       "5076   針對陳水扁身陷國務機要費案，為求自保以所指稱的六項外交工作資料，「屬於國家機密，不受國家機密...   \n",
       "4919   針對民法第1059條子女改姓之規定，子女是否有於成年後依其自由意志更改姓氏之權利，特向行政院...   \n",
       "9150   針對近年來財務持續惡化的中央健康保險局，利用健保費給付銀行巨額借款利息表示斥責。健保局用民眾...   \n",
       "10166  鑒於高雄捷運弊案除相關人士及公務員涉及貪瀆不法問題外，更再次凸顯國內公共工程採用B.O.T方...   \n",
       "1654                               針對「婦女權益」問題，特向行政院提出質詢。   \n",
       "9262   對於毒窟就在派出所旁舊報館內，高雄市警苓雅分局偵查隊昨天凌晨在五福路、中正路口，凱旋路派出所...   \n",
       "7009   針對交通部修正「道路交通安全規則」，將大客車、聯結車、大貨車等大型車職業司機考照執業年齡上限...   \n",
       "4151   有鑒於日前裁併國中小學的爭議不斷，針對偏遠地區的小型學校，教育部日前邀集全國25縣市針對小型...   \n",
       "5359                   針對連興街站（汐科園站）北站體增建電動步道案，特向行政院提出質詢。   \n",
       "7062   針對交通部修正「道路交通安全規則」，將大客車、聯結車、大貨車等大型車職業司機考照執業年齡上限...   \n",
       "9937   鑑於今年發生數起現役軍人和教官參與政治活動，先後遭到軍方調職或懲處的案例，對於軍人下班時間得...   \n",
       "10497  針對社子島地勢低漥、排水不易容易引發淹水，嚴重威脅住民安全；且該地區多處禁建成為低度開發地區...   \n",
       "2700   針對日前高速公路局，為保護台灣特有品種紫斑蝶，於遷徙途中減少人為及車輛對其之傷害，於雲林縣林...   \n",
       "\n",
       "                      Topic                 Key Word  \n",
       "4546       教育補助 ; 教育費用 ; 大學           卓越計畫獎補助 ; 大學學費  \n",
       "7720      低收入戶 ; 不動產 ; 政府補助      低收入戶 ; 不動產 ; 低收入戶補助  \n",
       "4594   勞動基準 ; 聘僱人員 ; 法律適用範圍               臨時人員 ; 勞基法  \n",
       "8671      公務員福利 ; 房屋貸款 ; 利率                   公教貸款利率  \n",
       "840             交通安全 ; 道路工程               大漢溪 ; 環河道路  \n",
       "3589                   人口政策              人口政策 ; 獎勵生育  \n",
       "8329                   地方財政                稅收 ; 地方財政  \n",
       "5076              國家元首 ; 偵查          國務機要費 ; 國家機密保護法  \n",
       "4919                     姓名                     子女改姓  \n",
       "9150        國民 ; 健康保險 ; 保險費     財務 ; 中央健康保險局 ; 健保費給付  \n",
       "10166             公共工程 ; 貪污    高雄捷運弊案 ; 公共工程 ; B.O.T  \n",
       "1654                   婦女保障                     婦女權益  \n",
       "9262                毒品 ; 治安                  毒窟 ; 吸毒  \n",
       "7009                   退休年齡   道路交通安全規則 ; 職業司機 ; 退休年齡  \n",
       "4151     教育政策 ; 國民小學 ; 國民中學  裁併 ; 國中小學 ; 偏遠地區 ; 小型學校  \n",
       "5359                   道路工程              連興街站 ; 電動步道  \n",
       "7062                   退休年齡   道路交通安全規則 ; 職業司機 ; 退休年齡  \n",
       "9937                   軍政關係         現役軍人 ; 教官 ; 政治活動  \n",
       "10497             水災防治 ; 排水            排水 ; 淹水 ; 社子島  \n",
       "2700         高速公路 ; 稀有動植物保護        高速公路 ; 紫斑蝶 ; 生物廊道  "
      ]
     },
     "execution_count": 22,
     "metadata": {},
     "output_type": "execute_result"
    }
   ],
   "source": [
    "pd.DataFrame(\n",
    "    {'Pork Value(Constituency Interest)':[as_num(Dcnn(np.array([tokenizer.encode(line)]), training=True).numpy()[0][0]) for line in sub_set],\n",
    "     'Legislative Questions ': sample_df.title,\n",
    "     'Topic': sample_df.topic,\n",
    "     'Key Word':sample_df.keywords}\n",
    ").sort_values(by=['Pork Value(Constituency Interest)'], ascending = False).head(20)"
   ]
  },
  {
   "cell_type": "markdown",
   "id": "5dc01475-847a-408f-9972-ac02e7aa4721",
   "metadata": {},
   "source": [
    "#### (2) Export an End-to-end Model\n"
   ]
  },
  {
   "cell_type": "code",
   "execution_count": 23,
   "id": "196028d0-edfe-434f-a173-4ccaa688faaa",
   "metadata": {
    "execution": {
     "iopub.execute_input": "2021-05-17T00:24:11.433092Z",
     "iopub.status.busy": "2021-05-17T00:24:11.432896Z",
     "iopub.status.idle": "2021-05-17T00:24:11.436367Z",
     "shell.execute_reply": "2021-05-17T00:24:11.435631Z",
     "shell.execute_reply.started": "2021-05-17T00:24:11.433056Z"
    },
    "tags": []
   },
   "outputs": [],
   "source": [
    "from tensorflow.keras.models import load_model"
   ]
  },
  {
   "cell_type": "code",
   "execution_count": null,
   "id": "071291d0-c5bb-48de-adb2-f8b2bb3bb542",
   "metadata": {
    "tags": []
   },
   "outputs": [],
   "source": [
    "# Get model (Sequential, Functional Model, or Model subclass)\n",
    "Dcnn.save('pork_model')"
   ]
  },
  {
   "cell_type": "code",
   "execution_count": 25,
   "id": "2ac46183-b841-469b-8897-1fea2922e445",
   "metadata": {
    "execution": {
     "iopub.execute_input": "2021-05-17T00:24:12.434643Z",
     "iopub.status.busy": "2021-05-17T00:24:12.434455Z",
     "iopub.status.idle": "2021-05-17T00:24:12.841241Z",
     "shell.execute_reply": "2021-05-17T00:24:12.840567Z",
     "shell.execute_reply.started": "2021-05-17T00:24:12.434623Z"
    },
    "tags": []
   },
   "outputs": [],
   "source": [
    "from tensorflow import keras\n",
    "model = keras.models.load_model('pork_model')"
   ]
  }
 ],
 "metadata": {
  "kernelspec": {
   "display_name": "Python 3",
   "language": "python",
   "name": "python3"
  },
  "language_info": {
   "codemirror_mode": {
    "name": "ipython",
    "version": 3
   },
   "file_extension": ".py",
   "mimetype": "text/x-python",
   "name": "python",
   "nbconvert_exporter": "python",
   "pygments_lexer": "ipython3",
   "version": "3.8.8"
  }
 },
 "nbformat": 4,
 "nbformat_minor": 5
}
