{
 "cells": [
  {
   "cell_type": "markdown",
   "id": "b65dfbdc-bb80-4bd4-8248-dd06483222cd",
   "metadata": {},
   "source": [
    "# Lour's Pork Barrel Classifier (羅老師肉桶文本分類器)🐖\n",
    "## Convolutional Neural Networks for Pork Barrel Project Classification "
   ]
  },
  {
   "cell_type": "markdown",
   "id": "e8005d5a-f938-4c26-86d5-592408152d08",
   "metadata": {},
   "source": [
    "-------------------------\n",
    "\n",
    "### Stage 1: Libaries & Dependencies"
   ]
  },
  {
   "cell_type": "code",
   "execution_count": 1,
   "id": "6ca92ba3-7480-418f-91e0-d2beea2d10af",
   "metadata": {
    "execution": {
     "iopub.execute_input": "2021-05-21T05:06:01.982136Z",
     "iopub.status.busy": "2021-05-21T05:06:01.981966Z",
     "iopub.status.idle": "2021-05-21T05:06:07.445002Z",
     "shell.execute_reply": "2021-05-21T05:06:07.444455Z",
     "shell.execute_reply.started": "2021-05-21T05:06:01.982118Z"
    },
    "tags": []
   },
   "outputs": [],
   "source": [
    "# built-in library\n",
    "import math\n",
    "import re\n",
    "import collections\n",
    "import zipfile\n",
    "import random\n",
    "from itertools import chain\n",
    "\n",
    "# ML & Deep Learning/ NLP toolkit\n",
    "import pandas as pd\n",
    "import numpy as np\n",
    "import jieba\n",
    "from sklearn.model_selection import train_test_split\n",
    "import tensorflow as tf\n",
    "from tensorflow.keras import layers\n",
    "import tensorflow_datasets as tfds\n",
    "from tensorflow.keras.callbacks import EarlyStopping,TensorBoard\n",
    "\n",
    "# Visualization\n",
    "import matplotlib.pyplot as plt\n",
    "import seaborn as sns"
   ]
  },
  {
   "cell_type": "markdown",
   "id": "8bd77e05-355a-422f-87db-2cf77cba3bdd",
   "metadata": {},
   "source": [
    "-------------------------\n",
    "\n",
    "### Stage 2: Data Preprocessing (Training Data: Introduction of Bills and Legislation from 6th Session to 7th Session, 2004-2012)"
   ]
  },
  {
   "cell_type": "markdown",
   "id": "3b57b9c9-443e-4e26-bda2-15f6877845d5",
   "metadata": {},
   "source": [
    "#### (1) Read file "
   ]
  },
  {
   "cell_type": "code",
   "execution_count": 2,
   "id": "e1973cfb-73d4-4717-a67a-a4e8a0c9edb0",
   "metadata": {
    "execution": {
     "iopub.execute_input": "2021-05-21T05:06:07.445905Z",
     "iopub.status.busy": "2021-05-21T05:06:07.445760Z",
     "iopub.status.idle": "2021-05-21T05:06:07.484552Z",
     "shell.execute_reply": "2021-05-21T05:06:07.483993Z",
     "shell.execute_reply.started": "2021-05-21T05:06:07.445887Z"
    },
    "tags": []
   },
   "outputs": [],
   "source": [
    "# read file\n",
    "df = pd.read_csv('data/Pork Bill - 2021-05-20.csv',encoding='utf-8')\n",
    "\n",
    "# combine abstract of bill and title \n",
    "df['text'] =  df['Title'] + df['Content'].fillna(df['Title'])\n",
    "\n",
    "# drop conten without having any characters\n",
    "# view na's row: df[df['text'].isnull()==True]\n",
    "data = df[['text', 'pork_bill']].dropna(subset=['text'])"
   ]
  },
  {
   "cell_type": "code",
   "execution_count": 3,
   "id": "f6160785-9522-4404-8f77-6df941869cde",
   "metadata": {
    "execution": {
     "iopub.execute_input": "2021-05-21T05:06:07.485530Z",
     "iopub.status.busy": "2021-05-21T05:06:07.485392Z",
     "iopub.status.idle": "2021-05-21T05:06:07.490137Z",
     "shell.execute_reply": "2021-05-21T05:06:07.489334Z",
     "shell.execute_reply.started": "2021-05-21T05:06:07.485513Z"
    },
    "tags": []
   },
   "outputs": [
    {
     "name": "stdout",
     "output_type": "stream",
     "text": [
      " Pork Legislation 2510 \n",
      " None-Pork Legislation 4733\n"
     ]
    }
   ],
   "source": [
    "print(\" Pork Legislation\", data['pork_bill'].value_counts()[1],'\\n', \n",
    "      \"None-Pork Legislation\", data['pork_bill'].value_counts()[0])"
   ]
  },
  {
   "cell_type": "markdown",
   "id": "2327d3a1-56a2-4d60-afc3-d8251e0c5e27",
   "metadata": {},
   "source": [
    "#### (2) Balancing the Training Samples"
   ]
  },
  {
   "cell_type": "raw",
   "id": "e7751ee5-abef-4d29-8092-7f8f86b26e6b",
   "metadata": {
    "execution": {
     "iopub.execute_input": "2021-05-21T03:47:46.657176Z",
     "iopub.status.busy": "2021-05-21T03:47:46.656903Z",
     "iopub.status.idle": "2021-05-21T03:47:46.667123Z",
     "shell.execute_reply": "2021-05-21T03:47:46.666559Z",
     "shell.execute_reply.started": "2021-05-21T03:47:46.657153Z"
    },
    "tags": []
   },
   "source": [
    "random.seed(24)\n",
    "data = data[data['pork_bill']==1].append(data[data['pork_bill']==0].reset_index(drop=True).loc[[random.randint(0, 2500) for i in range(2500)]]).reset_index(drop=True)"
   ]
  },
  {
   "cell_type": "raw",
   "id": "ddd53c00-320d-4033-b9e3-5b326d27699e",
   "metadata": {
    "execution": {
     "iopub.execute_input": "2021-05-21T03:47:46.668350Z",
     "iopub.status.busy": "2021-05-21T03:47:46.668164Z",
     "iopub.status.idle": "2021-05-21T03:47:46.673541Z",
     "shell.execute_reply": "2021-05-21T03:47:46.672951Z",
     "shell.execute_reply.started": "2021-05-21T03:47:46.668327Z"
    },
    "tags": []
   },
   "source": [
    "print(\" Pork Legislation\", data['pork_bill'].value_counts()[1],'\\n', \n",
    "      \"None-Pork Legislation\", data['pork_bill'].value_counts()[0])"
   ]
  },
  {
   "cell_type": "markdown",
   "id": "5e6d677d-e200-40e6-9252-130eb02fc682",
   "metadata": {
    "execution": {
     "iopub.execute_input": "2021-05-16T17:01:03.001989Z",
     "iopub.status.busy": "2021-05-16T17:01:03.001801Z",
     "iopub.status.idle": "2021-05-16T17:01:03.004600Z",
     "shell.execute_reply": "2021-05-16T17:01:03.003789Z",
     "shell.execute_reply.started": "2021-05-16T17:01:03.001969Z"
    }
   },
   "source": [
    "#### (2) Tokenization"
   ]
  },
  {
   "cell_type": "code",
   "execution_count": 4,
   "id": "120e8b54-7f75-4ca6-a0d0-9872b1522e8e",
   "metadata": {
    "execution": {
     "iopub.execute_input": "2021-05-21T05:06:07.491426Z",
     "iopub.status.busy": "2021-05-21T05:06:07.491177Z",
     "iopub.status.idle": "2021-05-21T05:06:07.499108Z",
     "shell.execute_reply": "2021-05-21T05:06:07.498419Z",
     "shell.execute_reply.started": "2021-05-21T05:06:07.491402Z"
    },
    "tags": []
   },
   "outputs": [],
   "source": [
    "import collections\n",
    "import numpy as np\n",
    "import jieba\n",
    "from itertools import chain\n",
    "\n",
    "\n",
    "def jieba_cut(filename):\n",
    "    \"\"\"\n",
    "    cut Chinese and remove stop words\n",
    "    Reference: https://www.cnblogs.com/Luv-GEM/p/10836454.html\n",
    "    Stopwords: https://www.kaggle.com/rikdifos/english-and-chinese-stopwords?select=cn_stopwords.txt\n",
    "    \"\"\"\n",
    "    stop_list = [i.strip() for i in open('cn_stopwords.txt','r',encoding='utf-8')]  \n",
    "    news_cut = []\n",
    "    news_list = []\n",
    "    for line in filename:    \n",
    "        if line:\n",
    "            news_cut = list(jieba.cut(''.join(line),cut_all=False,HMM=True))  \n",
    "            news_list.append([word.strip() for word in news_cut if word not in stop_list and len(word.strip())>0]) \n",
    "    news_list = list(chain.from_iterable(news_list))  \n",
    "    return news_list\n",
    "\n",
    "def clearPucts(context):\n",
    "    \"\"\"\n",
    "    remove punctuation\n",
    "    ref: https://chenyuzuoo.github.io/posts/28001/\n",
    "    \"\"\"\n",
    "    context = re.sub(\"[\\s+\\.\\!\\/_,$%^*(+\\\"\\']+|[+——！，。？、~@#￥%……&*（）]+\", \"\", context)\n",
    "    context = re.sub(\"[【】╮╯▽╰╭★→「」]+\",\"\", context)\n",
    "    context = re.sub(\"！，❤。～《》：（）【】「」？”“；：、\",\"\",context)\n",
    "    context = re.sub(\"\\s\",\"\",context)\n",
    "    return context\n",
    "\n",
    "def seg_char(sent):\n",
    "    \"\"\"\n",
    "    cut Chinese and remove stop words\n",
    "    ref: https://blog.csdn.net/renyuanfang/article/details/86487367\n",
    "    \"\"\"\n",
    "    # split\n",
    "    pattern_char_1 = re.compile(r'([\\W])')\n",
    "    parts = pattern_char_1.split(sent)\n",
    "    parts = [p for p in parts if len(p.strip())>0]\n",
    "    # cut sentence\n",
    "    pattern = re.compile(r'([\\u4e00-\\u9fa5])')\n",
    "    chars = pattern.split(sent)\n",
    "    chars = [w for w in chars if len(w.strip())>0]\n",
    "    chars = ' '.join(chars)\n",
    "    return chars\n",
    "\n",
    "# import spacy\n",
    "# # python3 -m spacy download zh_core_web_sm\n",
    "# spacy_nlp = spacy.load(\"zh_core_web_sm\")\n",
    "\n",
    "# data_clean = [clearPucts(text) for text in data.text]\n",
    "# data_clean = [[spacy_nlp(sentence).vector for sentence in data] for data in data_clean]"
   ]
  },
  {
   "cell_type": "code",
   "execution_count": 5,
   "id": "25f4277c-001d-47a4-81d0-f5ac5ec5e5d3",
   "metadata": {
    "execution": {
     "iopub.execute_input": "2021-05-21T05:06:07.500240Z",
     "iopub.status.busy": "2021-05-21T05:06:07.500021Z",
     "iopub.status.idle": "2021-05-21T05:06:09.565913Z",
     "shell.execute_reply": "2021-05-21T05:06:09.565388Z",
     "shell.execute_reply.started": "2021-05-21T05:06:07.500218Z"
    },
    "tags": []
   },
   "outputs": [],
   "source": [
    "data_clean = [seg_char(text) for text in [clearPucts(text) for text in data.text]]\n",
    "\n",
    "tokenizer = tfds.deprecated.text.SubwordTextEncoder.build_from_corpus(\n",
    "    data_clean, target_vocab_size=2**18)\n",
    "\n",
    "data_inputs = [tokenizer.encode(sentence) for sentence in data_clean]"
   ]
  },
  {
   "cell_type": "markdown",
   "id": "089e65af-e49c-4d60-962e-a0a826809aa5",
   "metadata": {
    "execution": {
     "iopub.execute_input": "2021-05-16T17:01:47.611294Z",
     "iopub.status.busy": "2021-05-16T17:01:47.611020Z",
     "iopub.status.idle": "2021-05-16T17:01:47.614208Z",
     "shell.execute_reply": "2021-05-16T17:01:47.613487Z",
     "shell.execute_reply.started": "2021-05-16T17:01:47.611276Z"
    }
   },
   "source": [
    "#### (3) Padding"
   ]
  },
  {
   "cell_type": "code",
   "execution_count": 6,
   "id": "b801d231-972c-47e3-83c4-7375c2e11a18",
   "metadata": {
    "execution": {
     "iopub.execute_input": "2021-05-21T05:06:09.569423Z",
     "iopub.status.busy": "2021-05-21T05:06:09.569249Z",
     "iopub.status.idle": "2021-05-21T05:06:09.653834Z",
     "shell.execute_reply": "2021-05-21T05:06:09.652932Z",
     "shell.execute_reply.started": "2021-05-21T05:06:09.569405Z"
    },
    "tags": []
   },
   "outputs": [],
   "source": [
    "MAX_LEN = max([len(sentence) for sentence in data_clean])\n",
    "data_inputs = tf.keras.preprocessing.sequence.pad_sequences(data_inputs,\n",
    "                                                            value=0,\n",
    "                                                            padding=\"post\",\n",
    "                                                            maxlen=MAX_LEN)\n"
   ]
  },
  {
   "cell_type": "markdown",
   "id": "f69d90cf-ac3c-4e08-b46b-457d9708d832",
   "metadata": {
    "execution": {
     "iopub.execute_input": "2021-05-16T17:02:28.107037Z",
     "iopub.status.busy": "2021-05-16T17:02:28.106843Z",
     "iopub.status.idle": "2021-05-16T17:02:28.109696Z",
     "shell.execute_reply": "2021-05-16T17:02:28.108954Z",
     "shell.execute_reply.started": "2021-05-16T17:02:28.107017Z"
    }
   },
   "source": [
    "#### (4) Spliting Training/ Testing Set"
   ]
  },
  {
   "cell_type": "code",
   "execution_count": 7,
   "id": "42503355-eea3-4602-ae5a-ea18be84b8d1",
   "metadata": {
    "execution": {
     "iopub.execute_input": "2021-05-21T05:06:09.657261Z",
     "iopub.status.busy": "2021-05-21T05:06:09.656944Z",
     "iopub.status.idle": "2021-05-21T05:06:09.661075Z",
     "shell.execute_reply": "2021-05-21T05:06:09.660152Z",
     "shell.execute_reply.started": "2021-05-21T05:06:09.657229Z"
    },
    "tags": []
   },
   "outputs": [],
   "source": [
    "data_labels = data.pork_bill.values"
   ]
  },
  {
   "cell_type": "code",
   "execution_count": 8,
   "id": "19235117-f63a-4e06-a102-6efe98c37dbf",
   "metadata": {
    "execution": {
     "iopub.execute_input": "2021-05-21T05:06:09.663222Z",
     "iopub.status.busy": "2021-05-21T05:06:09.662914Z",
     "iopub.status.idle": "2021-05-21T05:06:09.678648Z",
     "shell.execute_reply": "2021-05-21T05:06:09.677728Z",
     "shell.execute_reply.started": "2021-05-21T05:06:09.663153Z"
    },
    "tags": []
   },
   "outputs": [
    {
     "name": "stdout",
     "output_type": "stream",
     "text": [
      "Shape of X Train: (4852, 785) \n",
      "Shape of X Test : (2391, 785) \n",
      "Shape of Y Trian: (4852,) \n",
      "Shape of Y Test : (2391,)\n"
     ]
    }
   ],
   "source": [
    "import numpy as np\n",
    "from sklearn.model_selection import train_test_split\n",
    "train_inputs, test_inputs, train_labels, test_labels = train_test_split(\n",
    "    data_inputs, data_labels, test_size=0.33, random_state=42)\n",
    "\n",
    "print(\"Shape of X Train:\", train_inputs.shape, '\\n'\n",
    "      \"Shape of X Test :\", test_inputs.shape,'\\n'\n",
    "      \"Shape of Y Trian:\", train_labels.shape , '\\n'\n",
    "      \"Shape of Y Test :\", test_labels.shape )"
   ]
  },
  {
   "cell_type": "code",
   "execution_count": 9,
   "id": "6f10cb5c-7c8d-4e1e-a987-11b8de8e42d0",
   "metadata": {
    "execution": {
     "iopub.execute_input": "2021-05-21T05:06:09.680311Z",
     "iopub.status.busy": "2021-05-21T05:06:09.680021Z",
     "iopub.status.idle": "2021-05-21T05:06:09.684873Z",
     "shell.execute_reply": "2021-05-21T05:06:09.683600Z",
     "shell.execute_reply.started": "2021-05-21T05:06:09.680287Z"
    },
    "tags": []
   },
   "outputs": [
    {
     "name": "stdout",
     "output_type": "stream",
     "text": [
      " Num of Train Set: 4852 \n",
      " Not Pork vs Pork: {0: 3167, 1: 1685}\n"
     ]
    }
   ],
   "source": [
    "unique_train_labels, counts_train_labels = np.unique(train_labels, return_counts=True)\n",
    "\n",
    "print(' Num of Train Set:' , train_inputs.shape[0], '\\n'\n",
    "      ,'Not Pork vs Pork:', dict(zip(unique_train_labels, counts_train_labels)))"
   ]
  },
  {
   "cell_type": "code",
   "execution_count": 10,
   "id": "fedad623-02ba-4fad-b0b4-a094de7c39de",
   "metadata": {
    "execution": {
     "iopub.execute_input": "2021-05-21T05:06:09.686447Z",
     "iopub.status.busy": "2021-05-21T05:06:09.686073Z",
     "iopub.status.idle": "2021-05-21T05:06:09.691051Z",
     "shell.execute_reply": "2021-05-21T05:06:09.690048Z",
     "shell.execute_reply.started": "2021-05-21T05:06:09.686420Z"
    },
    "tags": []
   },
   "outputs": [
    {
     "name": "stdout",
     "output_type": "stream",
     "text": [
      " Num of Test Set: 2391 \n",
      " Not Pork vs Pork: {0: 1566, 1: 825}\n"
     ]
    }
   ],
   "source": [
    "unique_test_labels, counts_test_labels = np.unique(test_labels, return_counts=True)\n",
    "\n",
    "print(' Num of Test Set:' , test_inputs.shape[0], '\\n'\n",
    "      ,'Not Pork vs Pork:', dict(zip(unique_test_labels, counts_test_labels)))"
   ]
  },
  {
   "cell_type": "markdown",
   "id": "725f7feb-b93b-4d0b-bcbf-562240a79f8b",
   "metadata": {
    "execution": {
     "iopub.execute_input": "2021-05-16T17:04:13.375644Z",
     "iopub.status.busy": "2021-05-16T17:04:13.375440Z",
     "iopub.status.idle": "2021-05-16T17:04:13.378111Z",
     "shell.execute_reply": "2021-05-16T17:04:13.377464Z",
     "shell.execute_reply.started": "2021-05-16T17:04:13.375623Z"
    },
    "tags": []
   },
   "source": [
    "-------------------------\n",
    "\n",
    "\n",
    "### Stage 3: Model and Building"
   ]
  },
  {
   "cell_type": "markdown",
   "id": "4a0e74bf-eaf4-4043-8d23-88291d8ea344",
   "metadata": {
    "execution": {
     "iopub.execute_input": "2021-05-16T17:13:18.807725Z",
     "iopub.status.busy": "2021-05-16T17:13:18.807498Z",
     "iopub.status.idle": "2021-05-16T17:13:18.810574Z",
     "shell.execute_reply": "2021-05-16T17:13:18.809625Z",
     "shell.execute_reply.started": "2021-05-16T17:13:18.807701Z"
    }
   },
   "source": [
    "#### (1) Using the Subclassing API to Build Dynamic Model"
   ]
  },
  {
   "cell_type": "code",
   "execution_count": 11,
   "id": "1f18f9b1-5f4d-4d0a-baf4-2eebed7f34f2",
   "metadata": {
    "execution": {
     "iopub.execute_input": "2021-05-21T05:06:09.693259Z",
     "iopub.status.busy": "2021-05-21T05:06:09.692995Z",
     "iopub.status.idle": "2021-05-21T05:06:09.702134Z",
     "shell.execute_reply": "2021-05-21T05:06:09.701109Z",
     "shell.execute_reply.started": "2021-05-21T05:06:09.693237Z"
    },
    "tags": []
   },
   "outputs": [],
   "source": [
    "class DCNN(tf.keras.Model):\n",
    "    \n",
    "    def __init__(self,\n",
    "                 vocab_size,\n",
    "                 emb_dim=128,\n",
    "                 nb_filters=100,\n",
    "                 FFN_units=512,\n",
    "                 nb_classes=2,\n",
    "                 dropout_rate=0.1,\n",
    "                 training=False,\n",
    "                 name=\"dcnn\"):\n",
    "        super(DCNN, self).__init__(name=name)\n",
    "        \n",
    "        self.embedding = layers.Embedding(vocab_size, \n",
    "                                          emb_dim)\n",
    "        self.bigram = layers.Conv1D(filters=nb_filters, \n",
    "                                    kernel_size=2,\n",
    "                                    padding=\"valid\",\n",
    "                                    activation=\"relu\")\n",
    "        self.trigram = layers.Conv1D(filters=nb_filters,\n",
    "                                     kernel_size=3,\n",
    "                                     padding=\"valid\",\n",
    "                                     activation=\"relu\")\n",
    "        self.fourgram = layers.Conv1D(filters=nb_filters,\n",
    "                                      kernel_size=4,\n",
    "                                      padding=\"valid\",\n",
    "                                      activation=\"relu\")\n",
    "        self.pool = layers.GlobalMaxPool1D() # no training variable so we can\n",
    "                                             # use the same layer for each\n",
    "                                             # pooling step\n",
    "        self.dense_1 = layers.Dense(units=FFN_units, activation=\"relu\")\n",
    "        self.dropout = layers.Dropout(rate=dropout_rate)\n",
    "        self.last_dense = layers.Dense(units=1, activation=\"sigmoid\")\n",
    "    \n",
    "    def call(self, inputs, training):\n",
    "        x = self.embedding(inputs)\n",
    "        x_1 = self.bigram(x)\n",
    "        x_1 = self.pool(x_1)\n",
    "        x_2 = self.trigram(x)\n",
    "        x_2 = self.pool(x_2)\n",
    "        x_3 = self.fourgram(x)\n",
    "        x_3 = self.pool(x_3)\n",
    "        \n",
    "        merged = tf.concat([x_1, x_2, x_3], axis=-1) # (batch_size, 3 * nb_filters)\n",
    "        merged = self.dense_1(merged)\n",
    "        merged = self.dropout(merged, training)\n",
    "        output = self.last_dense(merged)        \n",
    "        return output\n"
   ]
  },
  {
   "cell_type": "code",
   "execution_count": 12,
   "id": "bfc02e93-3a0e-4c1c-b488-b2db98b53824",
   "metadata": {
    "execution": {
     "iopub.execute_input": "2021-05-21T05:06:09.704000Z",
     "iopub.status.busy": "2021-05-21T05:06:09.703689Z",
     "iopub.status.idle": "2021-05-21T05:06:09.730537Z",
     "shell.execute_reply": "2021-05-21T05:06:09.729746Z",
     "shell.execute_reply.started": "2021-05-21T05:06:09.703974Z"
    },
    "tags": []
   },
   "outputs": [],
   "source": [
    "VOCAB_SIZE = tokenizer.vocab_size  # 5000 tokenizer.vocab_size\n",
    "EMB_DIM = 200\n",
    "NB_FILTERS = 100\n",
    "FFN_UNITS = 256\n",
    "NB_CLASSES = 2 #len(set(train_labels))\n",
    "DROPOUT_RATE = 0.2\n",
    "BATCH_SIZE = 150\n",
    "NB_EPOCHS = 80\n",
    "\n",
    "Dcnn = DCNN(vocab_size=VOCAB_SIZE,\n",
    "            emb_dim=EMB_DIM,\n",
    "            nb_filters=NB_FILTERS,\n",
    "            FFN_units=FFN_UNITS,\n",
    "            nb_classes=NB_CLASSES,\n",
    "            dropout_rate=DROPOUT_RATE)"
   ]
  },
  {
   "cell_type": "markdown",
   "id": "b0ec8f51-6ed8-49fa-9d5e-c6929184bdf1",
   "metadata": {
    "execution": {
     "iopub.execute_input": "2021-05-16T18:43:59.279424Z",
     "iopub.status.busy": "2021-05-16T18:43:59.279202Z",
     "iopub.status.idle": "2021-05-16T18:43:59.282718Z",
     "shell.execute_reply": "2021-05-16T18:43:59.281823Z",
     "shell.execute_reply.started": "2021-05-16T18:43:59.279399Z"
    }
   },
   "source": [
    "#### (2) Compile and Summary of the Model"
   ]
  },
  {
   "cell_type": "code",
   "execution_count": 13,
   "id": "2cce0414-05eb-4f79-9c27-bca9c91a2903",
   "metadata": {
    "execution": {
     "iopub.execute_input": "2021-05-21T05:06:09.732246Z",
     "iopub.status.busy": "2021-05-21T05:06:09.731950Z",
     "iopub.status.idle": "2021-05-21T05:06:09.795601Z",
     "shell.execute_reply": "2021-05-21T05:06:09.794839Z",
     "shell.execute_reply.started": "2021-05-21T05:06:09.732219Z"
    },
    "tags": []
   },
   "outputs": [
    {
     "name": "stdout",
     "output_type": "stream",
     "text": [
      "Model: \"dcnn\"\n",
      "_________________________________________________________________\n",
      "Layer (type)                 Output Shape              Param #   \n",
      "=================================================================\n",
      "embedding (Embedding)        multiple                  586600    \n",
      "_________________________________________________________________\n",
      "conv1d (Conv1D)              multiple                  40100     \n",
      "_________________________________________________________________\n",
      "conv1d_1 (Conv1D)            multiple                  60100     \n",
      "_________________________________________________________________\n",
      "conv1d_2 (Conv1D)            multiple                  80100     \n",
      "_________________________________________________________________\n",
      "global_max_pooling1d (Global multiple                  0         \n",
      "_________________________________________________________________\n",
      "dense (Dense)                multiple                  77056     \n",
      "_________________________________________________________________\n",
      "dropout (Dropout)            multiple                  0         \n",
      "_________________________________________________________________\n",
      "dense_1 (Dense)              multiple                  257       \n",
      "=================================================================\n",
      "Total params: 844,213\n",
      "Trainable params: 844,213\n",
      "Non-trainable params: 0\n",
      "_________________________________________________________________\n"
     ]
    }
   ],
   "source": [
    "Dcnn.compile(loss=\"binary_crossentropy\", optimizer=\"adam\", metrics=[\"accuracy\"])\n",
    "Dcnn.build(input_shape = (train_inputs.shape[1] , EMB_DIM)) # (train_inputs.shape[1] , EMB_DIM)  (785 , EMB_DIM)\n",
    "Dcnn.summary()"
   ]
  },
  {
   "cell_type": "markdown",
   "id": "3880d2a4-2152-43de-bad3-34e67e97469e",
   "metadata": {
    "tags": []
   },
   "source": [
    "#### (3) Check Point Path"
   ]
  },
  {
   "cell_type": "code",
   "execution_count": 14,
   "id": "2c18aa59-a797-4a67-bc4d-a412dbaaedcb",
   "metadata": {
    "execution": {
     "iopub.execute_input": "2021-05-21T05:06:09.797015Z",
     "iopub.status.busy": "2021-05-21T05:06:09.796744Z",
     "iopub.status.idle": "2021-05-21T05:06:09.801354Z",
     "shell.execute_reply": "2021-05-21T05:06:09.800023Z",
     "shell.execute_reply.started": "2021-05-21T05:06:09.796990Z"
    },
    "tags": []
   },
   "outputs": [],
   "source": [
    "checkpoint_path = \"checkpoint_recode/ckpt_manager\"\n",
    "\n",
    "ckpt = tf.train.Checkpoint(Dcnn=Dcnn)\n",
    "\n",
    "ckpt_manager = tf.train.CheckpointManager(ckpt, checkpoint_path, max_to_keep=10)\n",
    "\n",
    "if ckpt_manager.latest_checkpoint:\n",
    "    ckpt.restore(ckpt_manager.latest_checkpoint)\n",
    "    print(\"Checkpoint Located!!\")"
   ]
  },
  {
   "cell_type": "markdown",
   "id": "73d70667-275f-40c0-bd71-6b47e9722798",
   "metadata": {
    "execution": {
     "iopub.execute_input": "2021-05-16T17:47:13.442664Z",
     "iopub.status.busy": "2021-05-16T17:47:13.442381Z",
     "iopub.status.idle": "2021-05-16T17:47:13.448371Z",
     "shell.execute_reply": "2021-05-16T17:47:13.446970Z",
     "shell.execute_reply.started": "2021-05-16T17:47:13.442620Z"
    }
   },
   "source": [
    "-------------------------\n",
    "\n",
    "### Stage 4: Train the Model"
   ]
  },
  {
   "cell_type": "code",
   "execution_count": 15,
   "id": "cc975047-5a58-46dc-b427-262796d9b625",
   "metadata": {
    "execution": {
     "iopub.execute_input": "2021-05-21T05:06:09.803612Z",
     "iopub.status.busy": "2021-05-21T05:06:09.803205Z",
     "iopub.status.idle": "2021-05-21T05:06:09.808325Z",
     "shell.execute_reply": "2021-05-21T05:06:09.806954Z",
     "shell.execute_reply.started": "2021-05-21T05:06:09.803576Z"
    },
    "tags": []
   },
   "outputs": [],
   "source": [
    "early_stop = EarlyStopping(monitor='val_loss',patience=5)"
   ]
  },
  {
   "cell_type": "code",
   "execution_count": 16,
   "id": "baf0cade-2c45-43b2-9782-6a8c6e570153",
   "metadata": {
    "execution": {
     "iopub.execute_input": "2021-05-21T05:06:09.810533Z",
     "iopub.status.busy": "2021-05-21T05:06:09.810156Z",
     "iopub.status.idle": "2021-05-21T05:09:45.229917Z",
     "shell.execute_reply": "2021-05-21T05:09:45.229104Z",
     "shell.execute_reply.started": "2021-05-21T05:06:09.810480Z"
    },
    "tags": []
   },
   "outputs": [
    {
     "name": "stdout",
     "output_type": "stream",
     "text": [
      "Epoch 1/80\n",
      "33/33 [==============================] - 25s 746ms/step - loss: 0.5666 - accuracy: 0.6956 - val_loss: 0.3949 - val_accuracy: 0.8335\n",
      "Epoch 2/80\n",
      "33/33 [==============================] - 25s 771ms/step - loss: 0.2621 - accuracy: 0.8980 - val_loss: 0.1949 - val_accuracy: 0.9322\n",
      "Epoch 3/80\n",
      "33/33 [==============================] - 26s 796ms/step - loss: 0.1175 - accuracy: 0.9586 - val_loss: 0.1524 - val_accuracy: 0.9498\n",
      "Epoch 4/80\n",
      "33/33 [==============================] - 27s 834ms/step - loss: 0.0662 - accuracy: 0.9794 - val_loss: 0.1641 - val_accuracy: 0.9469\n",
      "Epoch 5/80\n",
      "33/33 [==============================] - 31s 929ms/step - loss: 0.0532 - accuracy: 0.9847 - val_loss: 0.1694 - val_accuracy: 0.9469\n",
      "Epoch 6/80\n",
      "33/33 [==============================] - 27s 813ms/step - loss: 0.0508 - accuracy: 0.9835 - val_loss: 0.1769 - val_accuracy: 0.9477\n",
      "Epoch 7/80\n",
      "33/33 [==============================] - 26s 795ms/step - loss: 0.0485 - accuracy: 0.9843 - val_loss: 0.1674 - val_accuracy: 0.9460\n",
      "Epoch 8/80\n",
      "33/33 [==============================] - 27s 824ms/step - loss: 0.0460 - accuracy: 0.9856 - val_loss: 0.1690 - val_accuracy: 0.9473\n"
     ]
    },
    {
     "data": {
      "text/plain": [
       "'checkpoint_recode/ckpt_manager/ckpt-1'"
      ]
     },
     "execution_count": 16,
     "metadata": {},
     "output_type": "execute_result"
    }
   ],
   "source": [
    "Dcnn.fit(train_inputs,\n",
    "         train_labels,\n",
    "         validation_data=(test_inputs, test_labels),\n",
    "         batch_size=BATCH_SIZE,\n",
    "         epochs=NB_EPOCHS,\n",
    "         callbacks=[early_stop]\n",
    "        )\n",
    "ckpt_manager.save()"
   ]
  },
  {
   "cell_type": "markdown",
   "id": "3b0ac256-ab81-4ff5-8430-48f8bba50126",
   "metadata": {
    "execution": {
     "iopub.execute_input": "2021-05-16T18:23:25.926977Z",
     "iopub.status.busy": "2021-05-16T18:23:25.926754Z",
     "iopub.status.idle": "2021-05-16T18:23:25.931072Z",
     "shell.execute_reply": "2021-05-16T18:23:25.930041Z",
     "shell.execute_reply.started": "2021-05-16T18:23:25.926952Z"
    }
   },
   "source": [
    "-------------------------\n",
    "\n",
    "### Stage 5: Evaluation"
   ]
  },
  {
   "cell_type": "code",
   "execution_count": 17,
   "id": "58099cc1-19e0-443a-b960-7ae4d67344d3",
   "metadata": {
    "execution": {
     "iopub.execute_input": "2021-05-21T05:09:45.231611Z",
     "iopub.status.busy": "2021-05-21T05:09:45.231264Z",
     "iopub.status.idle": "2021-05-21T05:09:45.270280Z",
     "shell.execute_reply": "2021-05-21T05:09:45.269398Z",
     "shell.execute_reply.started": "2021-05-21T05:09:45.231578Z"
    },
    "tags": []
   },
   "outputs": [
    {
     "data": {
      "text/html": [
       "<div>\n",
       "<style scoped>\n",
       "    .dataframe tbody tr th:only-of-type {\n",
       "        vertical-align: middle;\n",
       "    }\n",
       "\n",
       "    .dataframe tbody tr th {\n",
       "        vertical-align: top;\n",
       "    }\n",
       "\n",
       "    .dataframe thead th {\n",
       "        text-align: right;\n",
       "    }\n",
       "</style>\n",
       "<table border=\"1\" class=\"dataframe\">\n",
       "  <thead>\n",
       "    <tr style=\"text-align: right;\">\n",
       "      <th></th>\n",
       "      <th>loss</th>\n",
       "      <th>accuracy</th>\n",
       "      <th>val_loss</th>\n",
       "      <th>val_accuracy</th>\n",
       "    </tr>\n",
       "  </thead>\n",
       "  <tbody>\n",
       "    <tr>\n",
       "      <th>0</th>\n",
       "      <td>0.566634</td>\n",
       "      <td>0.695589</td>\n",
       "      <td>0.394911</td>\n",
       "      <td>0.833542</td>\n",
       "    </tr>\n",
       "    <tr>\n",
       "      <th>1</th>\n",
       "      <td>0.262108</td>\n",
       "      <td>0.897980</td>\n",
       "      <td>0.194929</td>\n",
       "      <td>0.932246</td>\n",
       "    </tr>\n",
       "    <tr>\n",
       "      <th>2</th>\n",
       "      <td>0.117519</td>\n",
       "      <td>0.958574</td>\n",
       "      <td>0.152416</td>\n",
       "      <td>0.949812</td>\n",
       "    </tr>\n",
       "    <tr>\n",
       "      <th>3</th>\n",
       "      <td>0.066210</td>\n",
       "      <td>0.979390</td>\n",
       "      <td>0.164076</td>\n",
       "      <td>0.946884</td>\n",
       "    </tr>\n",
       "    <tr>\n",
       "      <th>4</th>\n",
       "      <td>0.053167</td>\n",
       "      <td>0.984749</td>\n",
       "      <td>0.169427</td>\n",
       "      <td>0.946884</td>\n",
       "    </tr>\n",
       "    <tr>\n",
       "      <th>5</th>\n",
       "      <td>0.050823</td>\n",
       "      <td>0.983512</td>\n",
       "      <td>0.176871</td>\n",
       "      <td>0.947721</td>\n",
       "    </tr>\n",
       "    <tr>\n",
       "      <th>6</th>\n",
       "      <td>0.048465</td>\n",
       "      <td>0.984336</td>\n",
       "      <td>0.167404</td>\n",
       "      <td>0.946048</td>\n",
       "    </tr>\n",
       "    <tr>\n",
       "      <th>7</th>\n",
       "      <td>0.046040</td>\n",
       "      <td>0.985573</td>\n",
       "      <td>0.168995</td>\n",
       "      <td>0.947302</td>\n",
       "    </tr>\n",
       "  </tbody>\n",
       "</table>\n",
       "</div>"
      ],
      "text/plain": [
       "       loss  accuracy  val_loss  val_accuracy\n",
       "0  0.566634  0.695589  0.394911      0.833542\n",
       "1  0.262108  0.897980  0.194929      0.932246\n",
       "2  0.117519  0.958574  0.152416      0.949812\n",
       "3  0.066210  0.979390  0.164076      0.946884\n",
       "4  0.053167  0.984749  0.169427      0.946884\n",
       "5  0.050823  0.983512  0.176871      0.947721\n",
       "6  0.048465  0.984336  0.167404      0.946048\n",
       "7  0.046040  0.985573  0.168995      0.947302"
      ]
     },
     "execution_count": 17,
     "metadata": {},
     "output_type": "execute_result"
    }
   ],
   "source": [
    "losses = pd.DataFrame(Dcnn.history.history)\n",
    "losses"
   ]
  },
  {
   "cell_type": "markdown",
   "id": "8093326d-b6b8-4a35-9b0f-124ad3fecd8c",
   "metadata": {},
   "source": [
    "##### a bit overfitting due to less validation set ⚠️⚠️⚠️⚠️"
   ]
  },
  {
   "cell_type": "code",
   "execution_count": 18,
   "id": "f37a760f-b388-4051-a78d-295bce1f214a",
   "metadata": {
    "execution": {
     "iopub.execute_input": "2021-05-21T05:09:45.272378Z",
     "iopub.status.busy": "2021-05-21T05:09:45.272010Z",
     "iopub.status.idle": "2021-05-21T05:09:45.794661Z",
     "shell.execute_reply": "2021-05-21T05:09:45.793774Z",
     "shell.execute_reply.started": "2021-05-21T05:09:45.272345Z"
    },
    "tags": []
   },
   "outputs": [
    {
     "data": {
      "text/plain": [
       "<AxesSubplot:>"
      ]
     },
     "execution_count": 18,
     "metadata": {},
     "output_type": "execute_result"
    },
    {
     "data": {
      "image/png": "[encoded data removed]",
      "text/plain": [
       "<Figure size 432x288 with 1 Axes>"
      ]
     },
     "metadata": {
      "needs_background": "light"
     },
     "output_type": "display_data"
    },
    {
     "data": {
      "image/png": "[encoded data removed]",
      "text/plain": [
       "<Figure size 432x288 with 1 Axes>"
      ]
     },
     "metadata": {
      "needs_background": "light"
     },
     "output_type": "display_data"
    }
   ],
   "source": [
    "losses[['accuracy','val_accuracy']].plot()\n",
    "losses[['loss','val_loss']].plot()"
   ]
  },
  {
   "cell_type": "code",
   "execution_count": 19,
   "id": "44300a6c-8da8-43cd-ada0-208a99b6b9d7",
   "metadata": {
    "execution": {
     "iopub.execute_input": "2021-05-21T05:09:45.796358Z",
     "iopub.status.busy": "2021-05-21T05:09:45.795939Z",
     "iopub.status.idle": "2021-05-21T05:09:45.801252Z",
     "shell.execute_reply": "2021-05-21T05:09:45.799717Z",
     "shell.execute_reply.started": "2021-05-21T05:09:45.796324Z"
    },
    "tags": []
   },
   "outputs": [],
   "source": [
    "from sklearn.metrics import classification_report,confusion_matrix"
   ]
  },
  {
   "cell_type": "code",
   "execution_count": 20,
   "id": "17760825-eb35-4f8c-88a0-45e94387c08d",
   "metadata": {
    "execution": {
     "iopub.execute_input": "2021-05-21T05:09:45.802920Z",
     "iopub.status.busy": "2021-05-21T05:09:45.802669Z",
     "iopub.status.idle": "2021-05-21T05:09:48.260796Z",
     "shell.execute_reply": "2021-05-21T05:09:48.259809Z",
     "shell.execute_reply.started": "2021-05-21T05:09:45.802892Z"
    },
    "tags": []
   },
   "outputs": [
    {
     "name": "stdout",
     "output_type": "stream",
     "text": [
      "16/16 [==============================] - 2s 147ms/step - loss: 0.1690 - accuracy: 0.9473\n",
      "[0.16899529099464417, 0.9473024010658264]\n"
     ]
    }
   ],
   "source": [
    "evaluation_model = Dcnn.evaluate(test_inputs, test_labels, batch_size=BATCH_SIZE)\n",
    "print(evaluation_model)"
   ]
  },
  {
   "cell_type": "code",
   "execution_count": 21,
   "id": "c9a3f93d-4398-418c-b511-69594874cc5a",
   "metadata": {
    "execution": {
     "iopub.execute_input": "2021-05-21T05:09:48.262695Z",
     "iopub.status.busy": "2021-05-21T05:09:48.262315Z",
     "iopub.status.idle": "2021-05-21T05:09:51.343719Z",
     "shell.execute_reply": "2021-05-21T05:09:51.342765Z",
     "shell.execute_reply.started": "2021-05-21T05:09:48.262659Z"
    },
    "tags": []
   },
   "outputs": [
    {
     "name": "stdout",
     "output_type": "stream",
     "text": [
      "              precision    recall  f1-score   support\n",
      "\n",
      "           0       0.95      0.97      0.96      1566\n",
      "           1       0.94      0.90      0.92       825\n",
      "\n",
      "    accuracy                           0.95      2391\n",
      "   macro avg       0.95      0.94      0.94      2391\n",
      "weighted avg       0.95      0.95      0.95      2391\n",
      "\n"
     ]
    }
   ],
   "source": [
    "# pd.DataFrame(confusion_matrix(test_labels,predictions))\n",
    "predictions = Dcnn.predict(test_inputs)\n",
    "predictions = np.where(predictions >0.8 , 1, 0)\n",
    "print(classification_report(test_labels, predictions))"
   ]
  },
  {
   "cell_type": "code",
   "execution_count": 22,
   "id": "4767688b-bfc8-4dc4-b8ec-2252f7791534",
   "metadata": {
    "execution": {
     "iopub.execute_input": "2021-05-21T05:09:51.345661Z",
     "iopub.status.busy": "2021-05-21T05:09:51.345379Z",
     "iopub.status.idle": "2021-05-21T05:09:51.359572Z",
     "shell.execute_reply": "2021-05-21T05:09:51.358576Z",
     "shell.execute_reply.started": "2021-05-21T05:09:51.345628Z"
    },
    "tags": []
   },
   "outputs": [
    {
     "data": {
      "text/html": [
       "<div>\n",
       "<style scoped>\n",
       "    .dataframe tbody tr th:only-of-type {\n",
       "        vertical-align: middle;\n",
       "    }\n",
       "\n",
       "    .dataframe tbody tr th {\n",
       "        vertical-align: top;\n",
       "    }\n",
       "\n",
       "    .dataframe thead th {\n",
       "        text-align: right;\n",
       "    }\n",
       "</style>\n",
       "<table border=\"1\" class=\"dataframe\">\n",
       "  <thead>\n",
       "    <tr style=\"text-align: right;\">\n",
       "      <th></th>\n",
       "      <th>Predictions: Not Pork(0)</th>\n",
       "      <th>Predictions:Pork(1)</th>\n",
       "    </tr>\n",
       "  </thead>\n",
       "  <tbody>\n",
       "    <tr>\n",
       "      <th>Acutal: Not Pork(0)</th>\n",
       "      <td>1521</td>\n",
       "      <td>45</td>\n",
       "    </tr>\n",
       "    <tr>\n",
       "      <th>Acutal: Pork (1)</th>\n",
       "      <td>81</td>\n",
       "      <td>744</td>\n",
       "    </tr>\n",
       "  </tbody>\n",
       "</table>\n",
       "</div>"
      ],
      "text/plain": [
       "                     Predictions: Not Pork(0)  Predictions:Pork(1)\n",
       "Acutal: Not Pork(0)                      1521                   45\n",
       "Acutal: Pork (1)                           81                  744"
      ]
     },
     "execution_count": 22,
     "metadata": {},
     "output_type": "execute_result"
    }
   ],
   "source": [
    "t = pd.DataFrame(confusion_matrix(test_labels,predictions), \n",
    "             columns=['Predictions: Not Pork(0)','Predictions:Pork(1)'])\n",
    "t.index = ['Acutal: Not Pork(0)', 'Acutal: Pork (1)']\n",
    "t"
   ]
  },
  {
   "cell_type": "markdown",
   "id": "d0416d6f-5e46-47c9-abad-f344bea7a94a",
   "metadata": {},
   "source": [
    "-------------------------\n",
    "\n",
    "### Stage 6: Try the Model with New Data and Export an End-to-end Model\n"
   ]
  },
  {
   "cell_type": "markdown",
   "id": "394b9a6e-0130-4af2-88e5-efe91cf9f348",
   "metadata": {
    "execution": {
     "iopub.execute_input": "2021-05-16T22:53:41.558105Z",
     "iopub.status.busy": "2021-05-16T22:53:41.557872Z",
     "iopub.status.idle": "2021-05-16T22:53:41.560984Z",
     "shell.execute_reply": "2021-05-16T22:53:41.560122Z",
     "shell.execute_reply.started": "2021-05-16T22:53:41.558080Z"
    }
   },
   "source": [
    "#### (1) Test New Dataset from 2000 samples from Legislative Questions from 6th Session "
   ]
  },
  {
   "cell_type": "code",
   "execution_count": 23,
   "id": "632bf33e-1df7-46c5-9a67-ab7141a949c2",
   "metadata": {
    "execution": {
     "iopub.execute_input": "2021-05-21T05:09:51.361289Z",
     "iopub.status.busy": "2021-05-21T05:09:51.360937Z",
     "iopub.status.idle": "2021-05-21T05:09:51.365451Z",
     "shell.execute_reply": "2021-05-21T05:09:51.364411Z",
     "shell.execute_reply.started": "2021-05-21T05:09:51.361257Z"
    },
    "tags": []
   },
   "outputs": [],
   "source": [
    "def as_num(x):\n",
    "    \"\"\"\n",
    "    keep 10 decimals\n",
    "    \"\"\"\n",
    "    y = '{:.15f}'.format(x) \n",
    "    return y"
   ]
  },
  {
   "cell_type": "code",
   "execution_count": 24,
   "id": "06ea7d54-49e9-4363-8304-d1dabaf3beb4",
   "metadata": {
    "execution": {
     "iopub.execute_input": "2021-05-21T05:09:51.376010Z",
     "iopub.status.busy": "2021-05-21T05:09:51.375706Z",
     "iopub.status.idle": "2021-05-21T05:09:51.814177Z",
     "shell.execute_reply": "2021-05-21T05:09:51.813214Z",
     "shell.execute_reply.started": "2021-05-21T05:09:51.375976Z"
    },
    "tags": []
   },
   "outputs": [],
   "source": [
    "import pandas as pd\n",
    "import random\n",
    "\n",
    "# test the trined model using new text from 200 samples from Leislative Questions\n",
    "LQ6 = pd.read_csv('data/LQ_6th.csv')\n",
    "\n",
    "# drop '0': legislor  never have proposed any legisaltive questions. \n",
    "LQ6 = LQ6[LQ6['title'].isin(['0'])== False]\n",
    "\n",
    "# select text with number of charecters within EMB_DIM; len(sub_set) = 11162\n",
    "# sample_df = LQ6.loc[[len(char_num) for char_num in LQ6.title if len(char_num) < MAX_LEN], ['legislator','title', 'topic', 'category', 'keywords', 'ques_type']].reset_index(drop=True)\n",
    "random.seed(42)\n",
    "sample_df = LQ6.iloc[random.sample(range(len(LQ6)), 2000)][['legislator', 'title', 'topic', 'category', 'keywords', 'ques_type']]\n",
    "sub_set = [seg_char(text) for text in [clearPucts(text) for text in sample_df.title]]\n"
   ]
  },
  {
   "cell_type": "markdown",
   "id": "68cc06a7-27d7-4007-949d-f7df81246e25",
   "metadata": {
    "tags": []
   },
   "source": [
    "##### Top 10 of 2000 Samples"
   ]
  },
  {
   "cell_type": "code",
   "execution_count": 30,
   "id": "d4b618c9-8c4b-40ec-a396-b4679233197e",
   "metadata": {
    "execution": {
     "iopub.execute_input": "2021-05-21T05:10:12.139820Z",
     "iopub.status.busy": "2021-05-21T05:10:12.139597Z",
     "iopub.status.idle": "2021-05-21T05:10:18.928471Z",
     "shell.execute_reply": "2021-05-21T05:10:18.927883Z",
     "shell.execute_reply.started": "2021-05-21T05:10:12.139796Z"
    },
    "tags": []
   },
   "outputs": [
    {
     "data": {
      "text/html": [
       "<div>\n",
       "<style scoped>\n",
       "    .dataframe tbody tr th:only-of-type {\n",
       "        vertical-align: middle;\n",
       "    }\n",
       "\n",
       "    .dataframe tbody tr th {\n",
       "        vertical-align: top;\n",
       "    }\n",
       "\n",
       "    .dataframe thead th {\n",
       "        text-align: right;\n",
       "    }\n",
       "</style>\n",
       "<table border=\"1\" class=\"dataframe\">\n",
       "  <thead>\n",
       "    <tr style=\"text-align: right;\">\n",
       "      <th></th>\n",
       "      <th>legislator</th>\n",
       "      <th>Pork Value(Constituency Interest)</th>\n",
       "      <th>Legislative Questions</th>\n",
       "      <th>Topic</th>\n",
       "      <th>Key Word</th>\n",
       "    </tr>\n",
       "  </thead>\n",
       "  <tbody>\n",
       "    <tr>\n",
       "      <th>9892</th>\n",
       "      <td>陳啟昱</td>\n",
       "      <td>0.996169388294220</td>\n",
       "      <td>鑑於現行《所得稅法》第十七條規定特別扣除額教育支出部分，僅以納稅義務人之子女就讀大專院校為限...</td>\n",
       "      <td>所得稅 ; 教育費用 ; 扣除額</td>\n",
       "      <td>所得稅法 ; 特別扣除額 ; 教育支出</td>\n",
       "    </tr>\n",
       "    <tr>\n",
       "      <th>8343</th>\n",
       "      <td>蔡煌瑯(離職)</td>\n",
       "      <td>0.993016242980957</td>\n",
       "      <td>「2005南投花卉嘉年華」活動爭取中央經費補助案由，特向行政院提出質詢。</td>\n",
       "      <td>農業推廣 ; 政府補助</td>\n",
       "      <td>南投花卉嘉年華 ; 中央經費</td>\n",
       "    </tr>\n",
       "    <tr>\n",
       "      <th>1761</th>\n",
       "      <td>彭添富</td>\n",
       "      <td>0.991446614265442</td>\n",
       "      <td>針對「辦理九十四年原住民中低收入戶家庭租屋補助計畫」專案補助計畫，特向行政院提出質詢。</td>\n",
       "      <td>原住民族生活</td>\n",
       "      <td>原住民中低收入戶 ; 租屋補助</td>\n",
       "    </tr>\n",
       "    <tr>\n",
       "      <th>8347</th>\n",
       "      <td>蔡煌瑯(離職)</td>\n",
       "      <td>0.991061806678772</td>\n",
       "      <td>「2005南投花卉嘉年華」活動爭取中央經費補助案由，特向行政院提出質詢。</td>\n",
       "      <td>農業推廣 ; 政府補助</td>\n",
       "      <td>南投花卉嘉年華 ; 中央經費</td>\n",
       "    </tr>\n",
       "    <tr>\n",
       "      <th>3999</th>\n",
       "      <td>林正峰</td>\n",
       "      <td>0.989558458328247</td>\n",
       "      <td>針對政府準備修法推動「二代健保」，健保保費採取「年度所得總額」為計算基礎，而非採用扣除免稅額...</td>\n",
       "      <td>國民 ; 健康保險 ; 保險費</td>\n",
       "      <td>二代健保 ; 年度所得總額</td>\n",
       "    </tr>\n",
       "    <tr>\n",
       "      <th>8344</th>\n",
       "      <td>蔡煌瑯(離職)</td>\n",
       "      <td>0.987711191177368</td>\n",
       "      <td>「2005南投花卉嘉年華」活動爭取中央經費補助案由，特向行政院提出質詢。</td>\n",
       "      <td>農業推廣 ; 政府補助</td>\n",
       "      <td>南投花卉嘉年華 ; 中央經費</td>\n",
       "    </tr>\n",
       "    <tr>\n",
       "      <th>35</th>\n",
       "      <td>丁守中</td>\n",
       "      <td>0.987428069114685</td>\n",
       "      <td>針就民眾陳情指出，目前政府對身心障礙者提供之生活津貼，依身心障礙程度等級分為1000元至50...</td>\n",
       "      <td>身心障礙者福利</td>\n",
       "      <td>身心障礙者生活津貼</td>\n",
       "    </tr>\n",
       "    <tr>\n",
       "      <th>8345</th>\n",
       "      <td>蔡煌瑯(離職)</td>\n",
       "      <td>0.985303997993469</td>\n",
       "      <td>「2005南投花卉嘉年華」活動爭取中央經費補助案由，特向行政院提出質詢。</td>\n",
       "      <td>農業推廣 ; 政府補助</td>\n",
       "      <td>南投花卉嘉年華 ; 中央經費</td>\n",
       "    </tr>\n",
       "    <tr>\n",
       "      <th>7382</th>\n",
       "      <td>盧秀燕</td>\n",
       "      <td>0.983980000019073</td>\n",
       "      <td>針對早期退除役軍官給與補助金發放金額過低，實無法解決終身生活所需，希望相關單位考量實際情況，...</td>\n",
       "      <td>榮民福利</td>\n",
       "      <td>早期退除役軍官給與補助金</td>\n",
       "    </tr>\n",
       "    <tr>\n",
       "      <th>8340</th>\n",
       "      <td>蔡煌瑯(離職)</td>\n",
       "      <td>0.979868054389954</td>\n",
       "      <td>「2005南投花卉嘉年華」活動爭取中央經費補助案由，特向行政院提出質詢。</td>\n",
       "      <td>農業推廣 ; 政府補助</td>\n",
       "      <td>南投花卉嘉年華 ; 中央經費</td>\n",
       "    </tr>\n",
       "    <tr>\n",
       "      <th>4546</th>\n",
       "      <td>林鴻池</td>\n",
       "      <td>0.978562176227570</td>\n",
       "      <td>針對諸多已獲得五年五百億與卓越計畫獎補助的大學擬調漲學雜費，但教育部長杜正勝曾承諾，獲得上述...</td>\n",
       "      <td>教育補助 ; 教育費用 ; 大學</td>\n",
       "      <td>卓越計畫獎補助 ; 大學學費</td>\n",
       "    </tr>\n",
       "    <tr>\n",
       "      <th>1641</th>\n",
       "      <td>彭添富</td>\n",
       "      <td>0.974877119064331</td>\n",
       "      <td>針對「豪雨成災，農作物損失補償」問題，特向行政院提出質詢。</td>\n",
       "      <td>農業補助</td>\n",
       "      <td>豪雨 ; 農作物</td>\n",
       "    </tr>\n",
       "    <tr>\n",
       "      <th>6899</th>\n",
       "      <td>王昱婷</td>\n",
       "      <td>0.972343921661377</td>\n",
       "      <td>針對根據內政部最新統計，國內的嬰兒出生率再創新低點，今年1到4月只有6萬5400個小嬰兒出生...</td>\n",
       "      <td>出生率 ; 人口政策</td>\n",
       "      <td>出生率 ; 生育率</td>\n",
       "    </tr>\n",
       "    <tr>\n",
       "      <th>8531</th>\n",
       "      <td>薛凌</td>\n",
       "      <td>0.968720555305481</td>\n",
       "      <td>針對雲林縣政府擬訂「雲林縣地方稅徵收自治條例」草案，開始對煉油廠及煉鋼鐵廠開徵「綠稅」。本席...</td>\n",
       "      <td>地方稅</td>\n",
       "      <td>地方稅 ; 綠稅 ; 空氣汙染防治法</td>\n",
       "    </tr>\n",
       "    <tr>\n",
       "      <th>3034</th>\n",
       "      <td>李顯榮</td>\n",
       "      <td>0.967207729816437</td>\n",
       "      <td>對於陳水扁總統的「凱子外交」政策，不僅僅沒達到外交目的，更是浪費公帑，政府前後援賽金額高達5...</td>\n",
       "      <td>對外援助 ; 農民福利</td>\n",
       "      <td>凱子外交 ; 老農津貼 ; 賽內加爾</td>\n",
       "    </tr>\n",
       "  </tbody>\n",
       "</table>\n",
       "</div>"
      ],
      "text/plain": [
       "     legislator Pork Value(Constituency Interest)  \\\n",
       "9892        陳啟昱                 0.996169388294220   \n",
       "8343    蔡煌瑯(離職)                 0.993016242980957   \n",
       "1761        彭添富                 0.991446614265442   \n",
       "8347    蔡煌瑯(離職)                 0.991061806678772   \n",
       "3999        林正峰                 0.989558458328247   \n",
       "8344    蔡煌瑯(離職)                 0.987711191177368   \n",
       "35          丁守中                 0.987428069114685   \n",
       "8345    蔡煌瑯(離職)                 0.985303997993469   \n",
       "7382        盧秀燕                 0.983980000019073   \n",
       "8340    蔡煌瑯(離職)                 0.979868054389954   \n",
       "4546        林鴻池                 0.978562176227570   \n",
       "1641        彭添富                 0.974877119064331   \n",
       "6899        王昱婷                 0.972343921661377   \n",
       "8531         薛凌                 0.968720555305481   \n",
       "3034        李顯榮                 0.967207729816437   \n",
       "\n",
       "                                 Legislative Questions              Topic  \\\n",
       "9892  鑑於現行《所得稅法》第十七條規定特別扣除額教育支出部分，僅以納稅義務人之子女就讀大專院校為限...  所得稅 ; 教育費用 ; 扣除額   \n",
       "8343               「2005南投花卉嘉年華」活動爭取中央經費補助案由，特向行政院提出質詢。       農業推廣 ; 政府補助   \n",
       "1761        針對「辦理九十四年原住民中低收入戶家庭租屋補助計畫」專案補助計畫，特向行政院提出質詢。            原住民族生活   \n",
       "8347               「2005南投花卉嘉年華」活動爭取中央經費補助案由，特向行政院提出質詢。       農業推廣 ; 政府補助   \n",
       "3999  針對政府準備修法推動「二代健保」，健保保費採取「年度所得總額」為計算基礎，而非採用扣除免稅額...   國民 ; 健康保險 ; 保險費   \n",
       "8344               「2005南投花卉嘉年華」活動爭取中央經費補助案由，特向行政院提出質詢。       農業推廣 ; 政府補助   \n",
       "35    針就民眾陳情指出，目前政府對身心障礙者提供之生活津貼，依身心障礙程度等級分為1000元至50...           身心障礙者福利   \n",
       "8345               「2005南投花卉嘉年華」活動爭取中央經費補助案由，特向行政院提出質詢。       農業推廣 ; 政府補助   \n",
       "7382  針對早期退除役軍官給與補助金發放金額過低，實無法解決終身生活所需，希望相關單位考量實際情況，...              榮民福利   \n",
       "8340               「2005南投花卉嘉年華」活動爭取中央經費補助案由，特向行政院提出質詢。       農業推廣 ; 政府補助   \n",
       "4546  針對諸多已獲得五年五百億與卓越計畫獎補助的大學擬調漲學雜費，但教育部長杜正勝曾承諾，獲得上述...  教育補助 ; 教育費用 ; 大學   \n",
       "1641                      針對「豪雨成災，農作物損失補償」問題，特向行政院提出質詢。              農業補助   \n",
       "6899  針對根據內政部最新統計，國內的嬰兒出生率再創新低點，今年1到4月只有6萬5400個小嬰兒出生...        出生率 ; 人口政策   \n",
       "8531  針對雲林縣政府擬訂「雲林縣地方稅徵收自治條例」草案，開始對煉油廠及煉鋼鐵廠開徵「綠稅」。本席...               地方稅   \n",
       "3034  對於陳水扁總統的「凱子外交」政策，不僅僅沒達到外交目的，更是浪費公帑，政府前後援賽金額高達5...       對外援助 ; 農民福利   \n",
       "\n",
       "                 Key Word  \n",
       "9892  所得稅法 ; 特別扣除額 ; 教育支出  \n",
       "8343       南投花卉嘉年華 ; 中央經費  \n",
       "1761      原住民中低收入戶 ; 租屋補助  \n",
       "8347       南投花卉嘉年華 ; 中央經費  \n",
       "3999        二代健保 ; 年度所得總額  \n",
       "8344       南投花卉嘉年華 ; 中央經費  \n",
       "35              身心障礙者生活津貼  \n",
       "8345       南投花卉嘉年華 ; 中央經費  \n",
       "7382         早期退除役軍官給與補助金  \n",
       "8340       南投花卉嘉年華 ; 中央經費  \n",
       "4546       卓越計畫獎補助 ; 大學學費  \n",
       "1641             豪雨 ; 農作物  \n",
       "6899            出生率 ; 生育率  \n",
       "8531   地方稅 ; 綠稅 ; 空氣汙染防治法  \n",
       "3034   凱子外交 ; 老農津貼 ; 賽內加爾  "
      ]
     },
     "execution_count": 30,
     "metadata": {},
     "output_type": "execute_result"
    }
   ],
   "source": [
    "pd.DataFrame(\n",
    "    {'legislator': sample_df.legislator,\n",
    "     'Pork Value(Constituency Interest)':[as_num(Dcnn(np.array([tokenizer.encode(line)]), training=True).numpy()[0][0]) for line in sub_set],\n",
    "     'Legislative Questions ': sample_df.title,\n",
    "     'Topic': sample_df.topic,\n",
    "     'Key Word':sample_df.keywords}).sort_values(by=['Pork Value(Constituency Interest)'], ascending = False).head(15)"
   ]
  },
  {
   "cell_type": "markdown",
   "id": "6a6d4b15-3e05-427d-a664-8c8ce4e6622c",
   "metadata": {},
   "source": [
    "##### Last 10 Rows of 2000 Samples"
   ]
  },
  {
   "cell_type": "code",
   "execution_count": 26,
   "id": "369a7336-dc9d-4883-b919-b19611b5ad39",
   "metadata": {
    "execution": {
     "iopub.execute_input": "2021-05-21T05:10:00.844816Z",
     "iopub.status.busy": "2021-05-21T05:10:00.844617Z",
     "iopub.status.idle": "2021-05-21T05:10:07.965009Z",
     "shell.execute_reply": "2021-05-21T05:10:07.964418Z",
     "shell.execute_reply.started": "2021-05-21T05:10:00.844794Z"
    },
    "tags": []
   },
   "outputs": [
    {
     "data": {
      "text/html": [
       "<div>\n",
       "<style scoped>\n",
       "    .dataframe tbody tr th:only-of-type {\n",
       "        vertical-align: middle;\n",
       "    }\n",
       "\n",
       "    .dataframe tbody tr th {\n",
       "        vertical-align: top;\n",
       "    }\n",
       "\n",
       "    .dataframe thead th {\n",
       "        text-align: right;\n",
       "    }\n",
       "</style>\n",
       "<table border=\"1\" class=\"dataframe\">\n",
       "  <thead>\n",
       "    <tr style=\"text-align: right;\">\n",
       "      <th></th>\n",
       "      <th>legislator</th>\n",
       "      <th>Pork Value(Constituency Interest)</th>\n",
       "      <th>Legislative Questions</th>\n",
       "      <th>Topic</th>\n",
       "      <th>Key Word</th>\n",
       "    </tr>\n",
       "  </thead>\n",
       "  <tbody>\n",
       "    <tr>\n",
       "      <th>2534</th>\n",
       "      <td>李復甸</td>\n",
       "      <td>0.000021549063604</td>\n",
       "      <td>鑑於刑事偵察實務上緩起訴制度，有淪於檢察官為同案被告間不利證詞取得之交換手段之虞，破壞緩起訴...</td>\n",
       "      <td>偵查 ; 訴訟程序</td>\n",
       "      <td>刑事偵察 ; 秘密證人</td>\n",
       "    </tr>\n",
       "    <tr>\n",
       "      <th>3361</th>\n",
       "      <td>林建榮</td>\n",
       "      <td>0.000020212990421</td>\n",
       "      <td>為立法院朝野協商修改銀行法，明定信用卡、現金卡循環利率與銀行公布的基本放款利率差距不得超過十...</td>\n",
       "      <td>金融管理 ; 銀行管理</td>\n",
       "      <td>銀行法 ; 現金卡 ; 循環利率 ; 卡債</td>\n",
       "    </tr>\n",
       "    <tr>\n",
       "      <th>3712</th>\n",
       "      <td>林正峰</td>\n",
       "      <td>0.000019731034627</td>\n",
       "      <td>針對行政院長張俊雄日前穿著輕便的長袖白襯衫，要求各級機關和學校身體力行節約能源，當場台下官員...</td>\n",
       "      <td>能源政策</td>\n",
       "      <td>節約能源</td>\n",
       "    </tr>\n",
       "    <tr>\n",
       "      <th>4124</th>\n",
       "      <td>林正峰</td>\n",
       "      <td>0.000019187420548</td>\n",
       "      <td>鑑於近年來臺灣地區毒品氾濫，吸毒人數劇增，危害國民身心健康甚鉅，因而滋生之犯罪更成為影響社會...</td>\n",
       "      <td>煙毒勒戒 ; 醫院</td>\n",
       "      <td>吸毒 ; 署立醫院 ; 毒品戒治專責機構</td>\n",
       "    </tr>\n",
       "    <tr>\n",
       "      <th>6091</th>\n",
       "      <td>王幸男</td>\n",
       "      <td>0.000017634354663</td>\n",
       "      <td>針對道路人孔蓋或管線挖掘後回填品質不佳，或是公共安全沒有做好，導致各種傷害和死亡案件，一直居...</td>\n",
       "      <td>公共安全</td>\n",
       "      <td>人孔蓋 ; 公共安全 ; 道路品質</td>\n",
       "    </tr>\n",
       "    <tr>\n",
       "      <th>7429</th>\n",
       "      <td>管碧玲</td>\n",
       "      <td>0.000013002485503</td>\n",
       "      <td>針對近日台灣鐵路管理局發生網路訂票系統遭到內部人員惡意壟斷，導致一般民眾訂票權益受損之弊端；...</td>\n",
       "      <td>鐵路管理 ; 車票</td>\n",
       "      <td>網路訂票 ; 壟斷 ; 台鐵</td>\n",
       "    </tr>\n",
       "    <tr>\n",
       "      <th>10798</th>\n",
       "      <td>黃敏惠(離職)</td>\n",
       "      <td>0.000011985112906</td>\n",
       "      <td>就近日來爆發知名提神飲料遭下毒事件，已知有四位台中市民因誤喝中毒，並有一人已不治死亡。此一類...</td>\n",
       "      <td>飲料 ; 中毒</td>\n",
       "      <td>飲料 ; 下毒 ; 千面人</td>\n",
       "    </tr>\n",
       "    <tr>\n",
       "      <th>10120</th>\n",
       "      <td>陳朝龍</td>\n",
       "      <td>0.000011277100384</td>\n",
       "      <td>針對英國政府宣稱台灣出口至該國禽鳥，檢驗出感染禽流感H5N1病毒死亡。由於我國迄今並未發現有...</td>\n",
       "      <td>傳染病防治 ; 走私</td>\n",
       "      <td>英國政府 ; 台灣禽鳥 ; 禽流感 ; 相思鳥 ; 走私</td>\n",
       "    </tr>\n",
       "    <tr>\n",
       "      <th>4356</th>\n",
       "      <td>林進興</td>\n",
       "      <td>0.000007685628589</td>\n",
       "      <td>針對行政院金融監督管理委員會為了解決國人廣大的卡債問題，積極推廣債務協商機制，政策本意良好，...</td>\n",
       "      <td>信用卡 ; 債務</td>\n",
       "      <td>卡債 ; 協商機制</td>\n",
       "    </tr>\n",
       "    <tr>\n",
       "      <th>8839</th>\n",
       "      <td>賴清德</td>\n",
       "      <td>0.000006586606105</td>\n",
       "      <td>針對市售豆類製品疑含「過氧化氫」情形嚴重，傷害消費者健康，爰要求相關單位依食品衛生管理法切實...</td>\n",
       "      <td>食品管理</td>\n",
       "      <td>豆類製品 ; 過氧化氫</td>\n",
       "    </tr>\n",
       "    <tr>\n",
       "      <th>9039</th>\n",
       "      <td>邱毅</td>\n",
       "      <td>0.000006585601113</td>\n",
       "      <td>針對新聞局認定TVBS應為綜合台非新聞台乙案，準備將TVBS轉頻一事，日前行政院新聞局認定T...</td>\n",
       "      <td>新聞自由 ; 電視臺</td>\n",
       "      <td>TVBS ; 股權結構 ; 外資 ; 國家通訊傳播委員會組織法 ; NCC ; 報導自由</td>\n",
       "    </tr>\n",
       "    <tr>\n",
       "      <th>7674</th>\n",
       "      <td>羅世雄</td>\n",
       "      <td>0.000006475097052</td>\n",
       "      <td>針對手機通訊業者辦理新辦戶及更換SIM卡程序中，出現犯罪集團持偽造身分證，藉此竊取個人資料，...</td>\n",
       "      <td>電信行政 ; 國民身分證 ; 隱私權 ; 偽造</td>\n",
       "      <td>手機 ; 竊取個人資料 ; 犯罪集團</td>\n",
       "    </tr>\n",
       "    <tr>\n",
       "      <th>982</th>\n",
       "      <td>周守訓</td>\n",
       "      <td>0.000006256129382</td>\n",
       "      <td>針對日前媒體報導陳水扁總統宣示，十二月二十五日耶誕節是重要的宗教節慶，更是我國的行憲紀念日，...</td>\n",
       "      <td>宗教 ; 假日</td>\n",
       "      <td>耶誕節 ; 行憲紀念日 ; 宗教自由 ; 政教分離</td>\n",
       "    </tr>\n",
       "    <tr>\n",
       "      <th>9304</th>\n",
       "      <td>郭榮宗</td>\n",
       "      <td>0.000004869816621</td>\n",
       "      <td>對於板橋地方法院安全不設防？煙毒犯在地檢署廁所施打毒品，死亡兩天才被人發現，凸顯法警素質不足...</td>\n",
       "      <td>地方法院 ; 毒品</td>\n",
       "      <td>板橋地方法院 ; 煙毒犯 ; 施打毒品</td>\n",
       "    </tr>\n",
       "    <tr>\n",
       "      <th>5595</th>\n",
       "      <td>潘孟安</td>\n",
       "      <td>0.000002590457370</td>\n",
       "      <td>就立法委員選舉，改採單一選區兩票制即將首度實施，中央選舉委員應加強宣導「單一選區兩票制」的新...</td>\n",
       "      <td>選舉</td>\n",
       "      <td>立法委員選舉 ; 單一選區兩票制</td>\n",
       "    </tr>\n",
       "  </tbody>\n",
       "</table>\n",
       "</div>"
      ],
      "text/plain": [
       "      legislator Pork Value(Constituency Interest)  \\\n",
       "2534         李復甸                 0.000021549063604   \n",
       "3361         林建榮                 0.000020212990421   \n",
       "3712         林正峰                 0.000019731034627   \n",
       "4124         林正峰                 0.000019187420548   \n",
       "6091         王幸男                 0.000017634354663   \n",
       "7429         管碧玲                 0.000013002485503   \n",
       "10798    黃敏惠(離職)                 0.000011985112906   \n",
       "10120        陳朝龍                 0.000011277100384   \n",
       "4356         林進興                 0.000007685628589   \n",
       "8839         賴清德                 0.000006586606105   \n",
       "9039          邱毅                 0.000006585601113   \n",
       "7674         羅世雄                 0.000006475097052   \n",
       "982          周守訓                 0.000006256129382   \n",
       "9304         郭榮宗                 0.000004869816621   \n",
       "5595         潘孟安                 0.000002590457370   \n",
       "\n",
       "                                  Legislative Questions   \\\n",
       "2534   鑑於刑事偵察實務上緩起訴制度，有淪於檢察官為同案被告間不利證詞取得之交換手段之虞，破壞緩起訴...   \n",
       "3361   為立法院朝野協商修改銀行法，明定信用卡、現金卡循環利率與銀行公布的基本放款利率差距不得超過十...   \n",
       "3712   針對行政院長張俊雄日前穿著輕便的長袖白襯衫，要求各級機關和學校身體力行節約能源，當場台下官員...   \n",
       "4124   鑑於近年來臺灣地區毒品氾濫，吸毒人數劇增，危害國民身心健康甚鉅，因而滋生之犯罪更成為影響社會...   \n",
       "6091   針對道路人孔蓋或管線挖掘後回填品質不佳，或是公共安全沒有做好，導致各種傷害和死亡案件，一直居...   \n",
       "7429   針對近日台灣鐵路管理局發生網路訂票系統遭到內部人員惡意壟斷，導致一般民眾訂票權益受損之弊端；...   \n",
       "10798  就近日來爆發知名提神飲料遭下毒事件，已知有四位台中市民因誤喝中毒，並有一人已不治死亡。此一類...   \n",
       "10120  針對英國政府宣稱台灣出口至該國禽鳥，檢驗出感染禽流感H5N1病毒死亡。由於我國迄今並未發現有...   \n",
       "4356   針對行政院金融監督管理委員會為了解決國人廣大的卡債問題，積極推廣債務協商機制，政策本意良好，...   \n",
       "8839   針對市售豆類製品疑含「過氧化氫」情形嚴重，傷害消費者健康，爰要求相關單位依食品衛生管理法切實...   \n",
       "9039   針對新聞局認定TVBS應為綜合台非新聞台乙案，準備將TVBS轉頻一事，日前行政院新聞局認定T...   \n",
       "7674   針對手機通訊業者辦理新辦戶及更換SIM卡程序中，出現犯罪集團持偽造身分證，藉此竊取個人資料，...   \n",
       "982    針對日前媒體報導陳水扁總統宣示，十二月二十五日耶誕節是重要的宗教節慶，更是我國的行憲紀念日，...   \n",
       "9304   對於板橋地方法院安全不設防？煙毒犯在地檢署廁所施打毒品，死亡兩天才被人發現，凸顯法警素質不足...   \n",
       "5595   就立法委員選舉，改採單一選區兩票制即將首度實施，中央選舉委員應加強宣導「單一選區兩票制」的新...   \n",
       "\n",
       "                         Topic                                      Key Word  \n",
       "2534                 偵查 ; 訴訟程序                                   刑事偵察 ; 秘密證人  \n",
       "3361               金融管理 ; 銀行管理                         銀行法 ; 現金卡 ; 循環利率 ; 卡債  \n",
       "3712                      能源政策                                          節約能源  \n",
       "4124                 煙毒勒戒 ; 醫院                          吸毒 ; 署立醫院 ; 毒品戒治專責機構  \n",
       "6091                      公共安全                             人孔蓋 ; 公共安全 ; 道路品質  \n",
       "7429                 鐵路管理 ; 車票                                網路訂票 ; 壟斷 ; 台鐵  \n",
       "10798                  飲料 ; 中毒                                 飲料 ; 下毒 ; 千面人  \n",
       "10120               傳染病防治 ; 走私                  英國政府 ; 台灣禽鳥 ; 禽流感 ; 相思鳥 ; 走私  \n",
       "4356                  信用卡 ; 債務                                     卡債 ; 協商機制  \n",
       "8839                      食品管理                                   豆類製品 ; 過氧化氫  \n",
       "9039                新聞自由 ; 電視臺  TVBS ; 股權結構 ; 外資 ; 國家通訊傳播委員會組織法 ; NCC ; 報導自由  \n",
       "7674   電信行政 ; 國民身分證 ; 隱私權 ; 偽造                            手機 ; 竊取個人資料 ; 犯罪集團  \n",
       "982                    宗教 ; 假日                     耶誕節 ; 行憲紀念日 ; 宗教自由 ; 政教分離  \n",
       "9304                 地方法院 ; 毒品                           板橋地方法院 ; 煙毒犯 ; 施打毒品  \n",
       "5595                        選舉                              立法委員選舉 ; 單一選區兩票制  "
      ]
     },
     "execution_count": 26,
     "metadata": {},
     "output_type": "execute_result"
    }
   ],
   "source": [
    "pd.DataFrame(\n",
    "    {'legislator': sample_df.legislator,\n",
    "     'Pork Value(Constituency Interest)':[as_num(Dcnn(np.array([tokenizer.encode(line)]), training=True).numpy()[0][0]) for line in sub_set],\n",
    "     'Legislative Questions ': sample_df.title,\n",
    "     'Topic': sample_df.topic,\n",
    "     'Key Word':sample_df.keywords}).sort_values(by=['Pork Value(Constituency Interest)'], ascending = False).tail(15)"
   ]
  },
  {
   "cell_type": "markdown",
   "id": "5dc01475-847a-408f-9972-ac02e7aa4721",
   "metadata": {},
   "source": [
    "#### (2) Export an End-to-end Model\n"
   ]
  },
  {
   "cell_type": "code",
   "execution_count": 27,
   "id": "196028d0-edfe-434f-a173-4ccaa688faaa",
   "metadata": {
    "execution": {
     "iopub.execute_input": "2021-05-21T05:10:07.966187Z",
     "iopub.status.busy": "2021-05-21T05:10:07.966015Z",
     "iopub.status.idle": "2021-05-21T05:10:07.968782Z",
     "shell.execute_reply": "2021-05-21T05:10:07.968106Z",
     "shell.execute_reply.started": "2021-05-21T05:10:07.966167Z"
    },
    "tags": []
   },
   "outputs": [],
   "source": [
    "from tensorflow.keras.models import load_model"
   ]
  },
  {
   "cell_type": "code",
   "execution_count": 28,
   "id": "071291d0-c5bb-48de-adb2-f8b2bb3bb542",
   "metadata": {
    "execution": {
     "iopub.execute_input": "2021-05-21T05:10:07.969925Z",
     "iopub.status.busy": "2021-05-21T05:10:07.969626Z",
     "iopub.status.idle": "2021-05-21T05:10:08.884398Z",
     "shell.execute_reply": "2021-05-21T05:10:08.883869Z",
     "shell.execute_reply.started": "2021-05-21T05:10:07.969903Z"
    },
    "tags": []
   },
   "outputs": [
    {
     "name": "stdout",
     "output_type": "stream",
     "text": [
      "INFO:tensorflow:Assets written to: lour_pork_model/assets\n"
     ]
    },
    {
     "name": "stderr",
     "output_type": "stream",
     "text": [
      "INFO:tensorflow:Assets written to: lour_pork_model/assets\n"
     ]
    }
   ],
   "source": [
    "# Get model (Sequential, Functional Model, or Model subclass)\n",
    "Dcnn.save('lour_pork_model')"
   ]
  },
  {
   "cell_type": "code",
   "execution_count": 29,
   "id": "2ac46183-b841-469b-8897-1fea2922e445",
   "metadata": {
    "execution": {
     "iopub.execute_input": "2021-05-21T05:10:08.885310Z",
     "iopub.status.busy": "2021-05-21T05:10:08.885165Z",
     "iopub.status.idle": "2021-05-21T05:10:09.227572Z",
     "shell.execute_reply": "2021-05-21T05:10:09.226892Z",
     "shell.execute_reply.started": "2021-05-21T05:10:08.885291Z"
    },
    "tags": []
   },
   "outputs": [],
   "source": [
    "from tensorflow import keras\n",
    "model = keras.models.load_model('lour_pork_model')"
   ]
  }
 ],
 "metadata": {
  "kernelspec": {
   "display_name": "Python 3",
   "language": "python",
   "name": "python3"
  },
  "language_info": {
   "codemirror_mode": {
    "name": "ipython",
    "version": 3
   },
   "file_extension": ".py",
   "mimetype": "text/x-python",
   "name": "python",
   "nbconvert_exporter": "python",
   "pygments_lexer": "ipython3",
   "version": "3.8.8"
  }
 },
 "nbformat": 4,
 "nbformat_minor": 5
}
