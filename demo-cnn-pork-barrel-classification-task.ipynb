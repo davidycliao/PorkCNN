{
 "cells": [
  {
   "cell_type": "markdown",
   "id": "b65dfbdc-bb80-4bd4-8248-dd06483222cd",
   "metadata": {},
   "source": [
    "# Lour's Pork Barrel Classifier (羅老師肉桶文本分類器)🐖\n",
    "## Convolutional Neural Networks for Pork Barrel Project Classification "
   ]
  },
  {
   "cell_type": "markdown",
   "id": "e8005d5a-f938-4c26-86d5-592408152d08",
   "metadata": {},
   "source": [
    "-------------------------\n",
    "\n",
    "### Stage 1: Libaries & Dependencies"
   ]
  },
  {
   "cell_type": "code",
   "execution_count": 1,
   "id": "6ca92ba3-7480-418f-91e0-d2beea2d10af",
   "metadata": {
    "execution": {
     "iopub.execute_input": "2021-07-08T22:10:49.657457Z",
     "iopub.status.busy": "2021-07-08T22:10:49.657267Z",
     "iopub.status.idle": "2021-07-08T22:10:54.850476Z",
     "shell.execute_reply": "2021-07-08T22:10:54.849680Z",
     "shell.execute_reply.started": "2021-07-08T22:10:49.657435Z"
    },
    "tags": []
   },
   "outputs": [],
   "source": [
    "# built-in library\n",
    "import math\n",
    "import re\n",
    "import collections\n",
    "import zipfile\n",
    "import random\n",
    "from itertools import chain\n",
    "\n",
    "# ML & Deep Learning/ NLP toolkit\n",
    "import pandas as pd\n",
    "import numpy as np\n",
    "import jieba\n",
    "from sklearn.model_selection import train_test_split\n",
    "import tensorflow as tf\n",
    "from tensorflow.keras import layers\n",
    "import tensorflow_datasets as tfds\n",
    "from tensorflow.keras.callbacks import EarlyStopping,TensorBoard\n",
    "\n",
    "# Visualization\n",
    "import matplotlib.pyplot as plt\n",
    "import seaborn as sns"
   ]
  },
  {
   "cell_type": "markdown",
   "id": "8bd77e05-355a-422f-87db-2cf77cba3bdd",
   "metadata": {},
   "source": [
    "-------------------------\n",
    "\n",
    "### Stage 2: Data Preprocessing (Training Data: Introduction of Bills and Legislation from 6th Session to 7th Session, 2004-2012)"
   ]
  },
  {
   "cell_type": "markdown",
   "id": "3b57b9c9-443e-4e26-bda2-15f6877845d5",
   "metadata": {},
   "source": [
    "#### (1) Read file "
   ]
  },
  {
   "cell_type": "code",
   "execution_count": 2,
   "id": "e1973cfb-73d4-4717-a67a-a4e8a0c9edb0",
   "metadata": {
    "execution": {
     "iopub.execute_input": "2021-07-08T22:10:54.851781Z",
     "iopub.status.busy": "2021-07-08T22:10:54.851498Z",
     "iopub.status.idle": "2021-07-08T22:10:54.903689Z",
     "shell.execute_reply": "2021-07-08T22:10:54.902999Z",
     "shell.execute_reply.started": "2021-07-08T22:10:54.851753Z"
    },
    "tags": []
   },
   "outputs": [],
   "source": [
    "# read file\n",
    "df = pd.read_csv('data/Pork Bill - 2021-05-20.csv',encoding='utf-8')\n",
    "\n",
    "# combine abstract of bill and title \n",
    "df['text'] =  df['Title'] + df['Content'].fillna(df['Title'])\n",
    "\n",
    "# drop conten without having any characters\n",
    "# view na's row: df[df['text'].isnull()==True]\n",
    "data = df[['text', 'pork_bill']].dropna(subset=['text'])"
   ]
  },
  {
   "cell_type": "code",
   "execution_count": 3,
   "id": "f6160785-9522-4404-8f77-6df941869cde",
   "metadata": {
    "execution": {
     "iopub.execute_input": "2021-07-08T22:10:54.904994Z",
     "iopub.status.busy": "2021-07-08T22:10:54.904638Z",
     "iopub.status.idle": "2021-07-08T22:10:54.910314Z",
     "shell.execute_reply": "2021-07-08T22:10:54.909543Z",
     "shell.execute_reply.started": "2021-07-08T22:10:54.904966Z"
    },
    "tags": []
   },
   "outputs": [
    {
     "name": "stdout",
     "output_type": "stream",
     "text": [
      " Pork Legislation 2510 \n",
      " None-Pork Legislation 4733\n"
     ]
    }
   ],
   "source": [
    "print(\" Pork Legislation\", data['pork_bill'].value_counts()[1],'\\n', \n",
    "      \"None-Pork Legislation\", data['pork_bill'].value_counts()[0])"
   ]
  },
  {
   "cell_type": "code",
   "execution_count": 4,
   "id": "11f1b3ab-7f1e-40b0-995a-e66ae58da102",
   "metadata": {
    "execution": {
     "iopub.execute_input": "2021-07-08T22:10:54.911746Z",
     "iopub.status.busy": "2021-07-08T22:10:54.911460Z",
     "iopub.status.idle": "2021-07-08T22:10:55.058854Z",
     "shell.execute_reply": "2021-07-08T22:10:55.058275Z",
     "shell.execute_reply.started": "2021-07-08T22:10:54.911718Z"
    },
    "tags": []
   },
   "outputs": [
    {
     "data": {
      "image/png": "[encoded data removed]",
      "text/plain": [
       "<Figure size 720x432 with 1 Axes>"
      ]
     },
     "metadata": {
      "needs_background": "light"
     },
     "output_type": "display_data"
    }
   ],
   "source": [
    "import matplotlib.pyplot as plt\n",
    "plt.figure(figsize=(10, 6))\n",
    "pork_plot = pd.DataFrame({\"num\":data['pork_bill'].value_counts(), \"type\":['Not Pork','Pork']})\n",
    "plt.bar(pork_plot['type'], pork_plot['num'], color='#57A1AB')\n",
    "#plt.show()\n",
    "plt.savefig('images/full_plot.png')"
   ]
  },
  {
   "cell_type": "markdown",
   "id": "5e6d677d-e200-40e6-9252-130eb02fc682",
   "metadata": {
    "execution": {
     "iopub.execute_input": "2021-05-16T17:01:03.001989Z",
     "iopub.status.busy": "2021-05-16T17:01:03.001801Z",
     "iopub.status.idle": "2021-05-16T17:01:03.004600Z",
     "shell.execute_reply": "2021-05-16T17:01:03.003789Z",
     "shell.execute_reply.started": "2021-05-16T17:01:03.001969Z"
    }
   },
   "source": [
    "#### (2) Tokenization"
   ]
  },
  {
   "cell_type": "code",
   "execution_count": 5,
   "id": "120e8b54-7f75-4ca6-a0d0-9872b1522e8e",
   "metadata": {
    "execution": {
     "iopub.execute_input": "2021-07-08T22:10:55.060018Z",
     "iopub.status.busy": "2021-07-08T22:10:55.059703Z",
     "iopub.status.idle": "2021-07-08T22:10:55.066854Z",
     "shell.execute_reply": "2021-07-08T22:10:55.066190Z",
     "shell.execute_reply.started": "2021-07-08T22:10:55.059997Z"
    },
    "tags": []
   },
   "outputs": [],
   "source": [
    "import collections\n",
    "import numpy as np\n",
    "import jieba\n",
    "from itertools import chain\n",
    "\n",
    "\n",
    "def jieba_cut(filename):\n",
    "    \"\"\"\n",
    "    cut Chinese and remove stop words\n",
    "    Reference: https://www.cnblogs.com/Luv-GEM/p/10836454.html\n",
    "    Stopwords: https://www.kaggle.com/rikdifos/english-and-chinese-stopwords?select=cn_stopwords.txt\n",
    "    \"\"\"\n",
    "    stop_list = [i.strip() for i in open('cn_stopwords.txt','r',encoding='utf-8')]  \n",
    "    news_cut = []\n",
    "    news_list = []\n",
    "    for line in filename:    \n",
    "        if line:\n",
    "            news_cut = list(jieba.cut(''.join(line),cut_all=False,HMM=True))  \n",
    "            news_list.append([word.strip() for word in news_cut if word not in stop_list and len(word.strip())>0]) \n",
    "    news_list = list(chain.from_iterable(news_list))  \n",
    "    return news_list\n",
    "\n",
    "def clearPucts(context):\n",
    "    \"\"\"\n",
    "    remove punctuation\n",
    "    ref: https://chenyuzuoo.github.io/posts/28001/\n",
    "    \"\"\"\n",
    "    context = re.sub(\"[\\s+\\.\\!\\/_,$%^*(+\\\"\\']+|[+——！，。？、~@#￥%……&*（）]+\", \"\", context)\n",
    "    context = re.sub(\"[【】╮╯▽╰╭★→「」]+\",\"\", context)\n",
    "    context = re.sub(\"！，❤。～《》：（）【】「」？”“；：、\",\"\",context)\n",
    "    context = re.sub(\"\\s\",\"\",context)\n",
    "    return context\n",
    "\n",
    "def seg_char(sent):\n",
    "    \"\"\"\n",
    "    cut Chinese and remove stop words\n",
    "    ref: https://blog.csdn.net/renyuanfang/article/details/86487367\n",
    "    \"\"\"\n",
    "    # split\n",
    "    pattern_char_1 = re.compile(r'([\\W])')\n",
    "    parts = pattern_char_1.split(sent)\n",
    "    parts = [p for p in parts if len(p.strip())>0]\n",
    "    # cut sentence\n",
    "    pattern = re.compile(r'([\\u4e00-\\u9fa5])')\n",
    "    chars = pattern.split(sent)\n",
    "    chars = [w for w in chars if len(w.strip())>0]\n",
    "    chars = ' '.join(chars)\n",
    "    return chars"
   ]
  },
  {
   "cell_type": "code",
   "execution_count": 6,
   "id": "25f4277c-001d-47a4-81d0-f5ac5ec5e5d3",
   "metadata": {
    "execution": {
     "iopub.execute_input": "2021-07-08T22:10:55.069831Z",
     "iopub.status.busy": "2021-07-08T22:10:55.069663Z",
     "iopub.status.idle": "2021-07-08T22:10:57.118191Z",
     "shell.execute_reply": "2021-07-08T22:10:57.117617Z",
     "shell.execute_reply.started": "2021-07-08T22:10:55.069813Z"
    },
    "tags": []
   },
   "outputs": [],
   "source": [
    "data_clean = [seg_char(text) for text in [clearPucts(text) for text in data.text]]\n",
    "\n",
    "tokenizer = tfds.deprecated.text.SubwordTextEncoder.build_from_corpus(\n",
    "    data_clean, target_vocab_size=2**18)\n",
    "\n",
    "data_inputs = [tokenizer.encode(sentence) for sentence in data_clean]"
   ]
  },
  {
   "cell_type": "markdown",
   "id": "089e65af-e49c-4d60-962e-a0a826809aa5",
   "metadata": {
    "execution": {
     "iopub.execute_input": "2021-05-16T17:01:47.611294Z",
     "iopub.status.busy": "2021-05-16T17:01:47.611020Z",
     "iopub.status.idle": "2021-05-16T17:01:47.614208Z",
     "shell.execute_reply": "2021-05-16T17:01:47.613487Z",
     "shell.execute_reply.started": "2021-05-16T17:01:47.611276Z"
    }
   },
   "source": [
    "#### (3) Padding"
   ]
  },
  {
   "cell_type": "code",
   "execution_count": 7,
   "id": "b801d231-972c-47e3-83c4-7375c2e11a18",
   "metadata": {
    "execution": {
     "iopub.execute_input": "2021-07-08T22:10:57.120245Z",
     "iopub.status.busy": "2021-07-08T22:10:57.120035Z",
     "iopub.status.idle": "2021-07-08T22:10:57.181285Z",
     "shell.execute_reply": "2021-07-08T22:10:57.180814Z",
     "shell.execute_reply.started": "2021-07-08T22:10:57.120226Z"
    },
    "tags": []
   },
   "outputs": [
    {
     "name": "stdout",
     "output_type": "stream",
     "text": [
      "Maximun length:785 \n",
      "Input:7243\n"
     ]
    }
   ],
   "source": [
    "MAX_LEN = max([len(sentence) for sentence in data_clean])\n",
    "data_inputs = tf.keras.preprocessing.sequence.pad_sequences(data_inputs,\n",
    "                                                            value=0,\n",
    "                                                            padding=\"post\",\n",
    "                                                            maxlen=MAX_LEN)\n",
    "\n",
    "print('Maximun length:{} \\nInput:{}'.format(MAX_LEN, data_inputs.shape[0]))\n"
   ]
  },
  {
   "cell_type": "markdown",
   "id": "f69d90cf-ac3c-4e08-b46b-457d9708d832",
   "metadata": {
    "execution": {
     "iopub.execute_input": "2021-05-16T17:02:28.107037Z",
     "iopub.status.busy": "2021-05-16T17:02:28.106843Z",
     "iopub.status.idle": "2021-05-16T17:02:28.109696Z",
     "shell.execute_reply": "2021-05-16T17:02:28.108954Z",
     "shell.execute_reply.started": "2021-05-16T17:02:28.107017Z"
    }
   },
   "source": [
    "#### (4) Spliting Training / Testing Set"
   ]
  },
  {
   "cell_type": "code",
   "execution_count": 8,
   "id": "42503355-eea3-4602-ae5a-ea18be84b8d1",
   "metadata": {
    "execution": {
     "iopub.execute_input": "2021-07-08T22:10:57.182244Z",
     "iopub.status.busy": "2021-07-08T22:10:57.182114Z",
     "iopub.status.idle": "2021-07-08T22:10:57.184901Z",
     "shell.execute_reply": "2021-07-08T22:10:57.184296Z",
     "shell.execute_reply.started": "2021-07-08T22:10:57.182227Z"
    },
    "tags": []
   },
   "outputs": [],
   "source": [
    "data_labels = data.pork_bill.values"
   ]
  },
  {
   "cell_type": "code",
   "execution_count": 9,
   "id": "19235117-f63a-4e06-a102-6efe98c37dbf",
   "metadata": {
    "execution": {
     "iopub.execute_input": "2021-07-08T22:10:57.185938Z",
     "iopub.status.busy": "2021-07-08T22:10:57.185785Z",
     "iopub.status.idle": "2021-07-08T22:10:57.198352Z",
     "shell.execute_reply": "2021-07-08T22:10:57.197783Z",
     "shell.execute_reply.started": "2021-07-08T22:10:57.185920Z"
    },
    "tags": []
   },
   "outputs": [
    {
     "name": "stdout",
     "output_type": "stream",
     "text": [
      "Shape of X Train: (4852, 785) \n",
      "Shape of X Test : (2391, 785) \n",
      "Shape of Y Trian: (4852,) \n",
      "Shape of Y Test : (2391,)\n"
     ]
    }
   ],
   "source": [
    "import numpy as np\n",
    "from sklearn.model_selection import train_test_split\n",
    "train_inputs, test_inputs, train_labels, test_labels = train_test_split(\n",
    "    data_inputs, data_labels, test_size=0.33, random_state=42)\n",
    "\n",
    "print(\"Shape of X Train:\", train_inputs.shape, '\\n'\n",
    "      \"Shape of X Test :\", test_inputs.shape,'\\n'\n",
    "      \"Shape of Y Trian:\", train_labels.shape , '\\n'\n",
    "      \"Shape of Y Test :\", test_labels.shape )"
   ]
  },
  {
   "cell_type": "code",
   "execution_count": 10,
   "id": "6f10cb5c-7c8d-4e1e-a987-11b8de8e42d0",
   "metadata": {
    "execution": {
     "iopub.execute_input": "2021-07-08T22:10:57.199451Z",
     "iopub.status.busy": "2021-07-08T22:10:57.199230Z",
     "iopub.status.idle": "2021-07-08T22:10:57.202796Z",
     "shell.execute_reply": "2021-07-08T22:10:57.202246Z",
     "shell.execute_reply.started": "2021-07-08T22:10:57.199428Z"
    },
    "tags": []
   },
   "outputs": [
    {
     "name": "stdout",
     "output_type": "stream",
     "text": [
      " Num of Train Set: 4852 \n",
      " Not Pork vs Pork: {0: 3167, 1: 1685}\n"
     ]
    }
   ],
   "source": [
    "unique_train_labels, counts_train_labels = np.unique(train_labels, return_counts=True)\n",
    "\n",
    "print(' Num of Train Set:' , train_inputs.shape[0], '\\n'\n",
    "      ,'Not Pork vs Pork:', dict(zip(unique_train_labels, counts_train_labels)))"
   ]
  },
  {
   "cell_type": "code",
   "execution_count": 11,
   "id": "f545a34d-f506-4db5-a8df-c0a89cb77a16",
   "metadata": {
    "execution": {
     "iopub.execute_input": "2021-07-08T22:10:57.203871Z",
     "iopub.status.busy": "2021-07-08T22:10:57.203673Z",
     "iopub.status.idle": "2021-07-08T22:10:57.340975Z",
     "shell.execute_reply": "2021-07-08T22:10:57.340483Z",
     "shell.execute_reply.started": "2021-07-08T22:10:57.203849Z"
    },
    "tags": []
   },
   "outputs": [
    {
     "data": {
      "image/png": "[encoded data removed]",
      "text/plain": [
       "<Figure size 720x432 with 1 Axes>"
      ]
     },
     "metadata": {
      "needs_background": "light"
     },
     "output_type": "display_data"
    }
   ],
   "source": [
    "import matplotlib.pyplot as plt\n",
    "plt.figure(figsize=(10, 6))\n",
    "train_plot = pd.DataFrame({\"num\":[dict(zip(unique_train_labels, counts_train_labels))[0],\n",
    "                                  dict(zip(unique_train_labels, counts_train_labels))[1]], \n",
    "                           \"type\":['Not Pork','Pork']})\n",
    "plt.bar(train_plot['type'], train_plot['num'], color='#57A1AB')\n",
    "plt.title('Train Set')\n",
    "#plt.show()\n",
    "plt.savefig('images/train_plot.png')"
   ]
  },
  {
   "cell_type": "code",
   "execution_count": 12,
   "id": "fedad623-02ba-4fad-b0b4-a094de7c39de",
   "metadata": {
    "execution": {
     "iopub.execute_input": "2021-07-08T22:10:57.342003Z",
     "iopub.status.busy": "2021-07-08T22:10:57.341866Z",
     "iopub.status.idle": "2021-07-08T22:10:57.346612Z",
     "shell.execute_reply": "2021-07-08T22:10:57.345664Z",
     "shell.execute_reply.started": "2021-07-08T22:10:57.341985Z"
    },
    "tags": []
   },
   "outputs": [
    {
     "name": "stdout",
     "output_type": "stream",
     "text": [
      " Num of Test Set: 2391 \n",
      " Not Pork vs Pork: {0: 1566, 1: 825}\n"
     ]
    }
   ],
   "source": [
    "unique_test_labels, counts_test_labels = np.unique(test_labels, return_counts=True)\n",
    "\n",
    "print(' Num of Test Set:' , test_inputs.shape[0], '\\n'\n",
    "      ,'Not Pork vs Pork:', dict(zip(unique_test_labels, counts_test_labels)))"
   ]
  },
  {
   "cell_type": "code",
   "execution_count": 13,
   "id": "ccc6799c-42b8-44c3-8352-e4b68ab3cfee",
   "metadata": {
    "execution": {
     "iopub.execute_input": "2021-07-08T22:10:57.348608Z",
     "iopub.status.busy": "2021-07-08T22:10:57.348284Z",
     "iopub.status.idle": "2021-07-08T22:10:57.534637Z",
     "shell.execute_reply": "2021-07-08T22:10:57.534020Z",
     "shell.execute_reply.started": "2021-07-08T22:10:57.348572Z"
    },
    "tags": []
   },
   "outputs": [
    {
     "data": {
      "image/png": "[encoded data removed]",
      "text/plain": [
       "<Figure size 720x432 with 1 Axes>"
      ]
     },
     "metadata": {
      "needs_background": "light"
     },
     "output_type": "display_data"
    }
   ],
   "source": [
    "import matplotlib.pyplot as plt\n",
    "plt.figure(figsize=(10, 6))\n",
    "test_plot = pd.DataFrame({\"num\":[dict(zip(unique_test_labels, counts_test_labels))[0],\n",
    "                                 dict(zip(unique_test_labels, counts_test_labels))[1]], \n",
    "                          \"type\":['Not Pork','Pork']})\n",
    "plt.bar(test_plot['type'], test_plot['num'], color='#B1C5C8')\n",
    "plt.title('Test Set')\n",
    "#plt.show()\n",
    "plt.savefig('images/test_plot.png')"
   ]
  },
  {
   "cell_type": "markdown",
   "id": "725f7feb-b93b-4d0b-bcbf-562240a79f8b",
   "metadata": {
    "execution": {
     "iopub.execute_input": "2021-05-16T17:04:13.375644Z",
     "iopub.status.busy": "2021-05-16T17:04:13.375440Z",
     "iopub.status.idle": "2021-05-16T17:04:13.378111Z",
     "shell.execute_reply": "2021-05-16T17:04:13.377464Z",
     "shell.execute_reply.started": "2021-05-16T17:04:13.375623Z"
    },
    "tags": []
   },
   "source": [
    "-------------------------\n",
    "\n",
    "\n",
    "### Stage 3: Model and Building"
   ]
  },
  {
   "cell_type": "markdown",
   "id": "4a0e74bf-eaf4-4043-8d23-88291d8ea344",
   "metadata": {
    "execution": {
     "iopub.execute_input": "2021-05-16T17:13:18.807725Z",
     "iopub.status.busy": "2021-05-16T17:13:18.807498Z",
     "iopub.status.idle": "2021-05-16T17:13:18.810574Z",
     "shell.execute_reply": "2021-05-16T17:13:18.809625Z",
     "shell.execute_reply.started": "2021-05-16T17:13:18.807701Z"
    }
   },
   "source": [
    "#### (1) Using the Subclassing API to Build Dynamic Model"
   ]
  },
  {
   "cell_type": "code",
   "execution_count": 14,
   "id": "1f18f9b1-5f4d-4d0a-baf4-2eebed7f34f2",
   "metadata": {
    "execution": {
     "iopub.execute_input": "2021-07-08T22:10:57.535682Z",
     "iopub.status.busy": "2021-07-08T22:10:57.535513Z",
     "iopub.status.idle": "2021-07-08T22:10:57.543209Z",
     "shell.execute_reply": "2021-07-08T22:10:57.542694Z",
     "shell.execute_reply.started": "2021-07-08T22:10:57.535662Z"
    },
    "tags": []
   },
   "outputs": [],
   "source": [
    "class DCNN(tf.keras.Model):\n",
    "    def __init__(self,\n",
    "                 vocab_size,\n",
    "                 emb_dim=128,\n",
    "                 nb_filters=100,\n",
    "                 # units: Positive integer, dimensionality of the output space.\n",
    "                 FFN_units=512,\n",
    "                 nb_classes=2,\n",
    "                 dropout_rate=0.1,\n",
    "                 training=False,\n",
    "                 name=\"PorkCNN\"):\n",
    "        super(DCNN, self).__init__(name=name)\n",
    "        self.embedding = layers.Embedding(vocab_size, emb_dim)\n",
    "        self.bigram = layers.Conv1D(filters=nb_filters, kernel_size=2, strides = 1, padding=\"valid\", activation=\"relu\")\n",
    "        self.bigram2 = layers.Conv1D(filters=nb_filters, kernel_size=2, strides = 2, padding=\"valid\", activation=\"relu\")\n",
    "        self.trigram = layers.Conv1D(filters=nb_filters,kernel_size=3,strides = 1, padding=\"valid\",activation=\"relu\")\n",
    "        self.trigram2 = layers.Conv1D(filters=nb_filters,kernel_size=3,strides = 2, padding=\"valid\",activation=\"relu\")\n",
    "        self.fourgram = layers.Conv1D(filters=nb_filters,kernel_size=4,strides = 2, padding=\"valid\",activation=\"relu\")\n",
    "        self.fivegram = layers.Conv1D(filters=nb_filters,kernel_size=5,strides = 2, padding=\"valid\",activation=\"relu\")\n",
    "        self.pool = layers.GlobalMaxPool1D()\n",
    "        self.dense_1 = layers.Dense(units=FFN_units, activation=\"relu\")\n",
    "        self.dropout = layers.Dropout(rate=dropout_rate)\n",
    "        self.last_dense = layers.Dense(units=1, activation=\"sigmoid\")    \n",
    "    def call(self, inputs, training):\n",
    "        x = self.embedding(inputs)\n",
    "        x_1 = self.bigram(x)\n",
    "        x_1 = self.pool(x_1)\n",
    "        x_1_1 = self.bigram2(x)\n",
    "        x_1_1 = self.pool(x_1_1)        \n",
    "        x_2 = self.trigram(x)\n",
    "        x_2 = self.pool(x_2)\n",
    "        x_2_1 = self.trigram2(x)\n",
    "        x_2_1 = self.pool(x_2_1)     \n",
    "        x_3 = self.fourgram(x)\n",
    "        x_3 = self.pool(x_3)\n",
    "        x_4 = self.fourgram(x)\n",
    "        x_4 = self.pool(x_4) \n",
    "        x_5 = self.fivegram(x)\n",
    "        x_5 = self.pool(x_5)      \n",
    "        merged = tf.concat([x_1,x_1_1, x_2,x_2_1, x_3, x_4, x_5], axis=-1) \n",
    "        merged = self.dense_1(merged)\n",
    "        merged = self.dropout(merged, training)\n",
    "        output = self.last_dense(merged)        \n",
    "        return output"
   ]
  },
  {
   "cell_type": "code",
   "execution_count": 15,
   "id": "bfc02e93-3a0e-4c1c-b488-b2db98b53824",
   "metadata": {
    "execution": {
     "iopub.execute_input": "2021-07-08T22:10:57.544205Z",
     "iopub.status.busy": "2021-07-08T22:10:57.544069Z",
     "iopub.status.idle": "2021-07-08T22:10:57.563502Z",
     "shell.execute_reply": "2021-07-08T22:10:57.562659Z",
     "shell.execute_reply.started": "2021-07-08T22:10:57.544187Z"
    },
    "tags": []
   },
   "outputs": [],
   "source": [
    "VOCAB_SIZE = tokenizer.vocab_size #tokenizer.vocab_size  # 5000 tokenizer.vocab_size\n",
    "EMB_DIM = 200\n",
    "NB_FILTERS = 100\n",
    "FFN_UNITS = 256\n",
    "NB_CLASSES = 2 #len(set(train_labels))\n",
    "DROPOUT_RATE = 0.25\n",
    "BATCH_SIZE = 230\n",
    "NB_EPOCHS = 80\n",
    "\n",
    "Dcnn = DCNN(vocab_size=VOCAB_SIZE,\n",
    "            emb_dim=EMB_DIM,\n",
    "            nb_filters=NB_FILTERS,\n",
    "            FFN_units=FFN_UNITS,\n",
    "            nb_classes=NB_CLASSES,\n",
    "            dropout_rate=DROPOUT_RATE)"
   ]
  },
  {
   "cell_type": "markdown",
   "id": "b0ec8f51-6ed8-49fa-9d5e-c6929184bdf1",
   "metadata": {
    "execution": {
     "iopub.execute_input": "2021-05-16T18:43:59.279424Z",
     "iopub.status.busy": "2021-05-16T18:43:59.279202Z",
     "iopub.status.idle": "2021-05-16T18:43:59.282718Z",
     "shell.execute_reply": "2021-05-16T18:43:59.281823Z",
     "shell.execute_reply.started": "2021-05-16T18:43:59.279399Z"
    }
   },
   "source": [
    "#### (2) Compile and Summary of the Model"
   ]
  },
  {
   "cell_type": "code",
   "execution_count": 16,
   "id": "2cce0414-05eb-4f79-9c27-bca9c91a2903",
   "metadata": {
    "execution": {
     "iopub.execute_input": "2021-07-08T22:10:57.565197Z",
     "iopub.status.busy": "2021-07-08T22:10:57.564851Z",
     "iopub.status.idle": "2021-07-08T22:10:57.636443Z",
     "shell.execute_reply": "2021-07-08T22:10:57.635890Z",
     "shell.execute_reply.started": "2021-07-08T22:10:57.565163Z"
    },
    "tags": []
   },
   "outputs": [
    {
     "name": "stdout",
     "output_type": "stream",
     "text": [
      "Model: \"PorkCNN\"\n",
      "_________________________________________________________________\n",
      "Layer (type)                 Output Shape              Param #   \n",
      "=================================================================\n",
      "embedding (Embedding)        multiple                  586600    \n",
      "_________________________________________________________________\n",
      "conv1d (Conv1D)              multiple                  40100     \n",
      "_________________________________________________________________\n",
      "conv1d_1 (Conv1D)            multiple                  40100     \n",
      "_________________________________________________________________\n",
      "conv1d_2 (Conv1D)            multiple                  60100     \n",
      "_________________________________________________________________\n",
      "conv1d_3 (Conv1D)            multiple                  60100     \n",
      "_________________________________________________________________\n",
      "conv1d_4 (Conv1D)            multiple                  80100     \n",
      "_________________________________________________________________\n",
      "conv1d_5 (Conv1D)            multiple                  100100    \n",
      "_________________________________________________________________\n",
      "global_max_pooling1d (Global multiple                  0         \n",
      "_________________________________________________________________\n",
      "dense (Dense)                multiple                  179456    \n",
      "_________________________________________________________________\n",
      "dropout (Dropout)            multiple                  0         \n",
      "_________________________________________________________________\n",
      "dense_1 (Dense)              multiple                  257       \n",
      "=================================================================\n",
      "Total params: 1,146,913\n",
      "Trainable params: 1,146,913\n",
      "Non-trainable params: 0\n",
      "_________________________________________________________________\n"
     ]
    }
   ],
   "source": [
    "Dcnn.compile(loss=\"binary_crossentropy\", optimizer=\"adam\", metrics=[\"accuracy\"])\n",
    "Dcnn.build(input_shape = (train_inputs.shape[1], EMB_DIM)) # (train_inputs.shape[1] , EMB_DIM)  (785 , EMB_DIM)\n",
    "Dcnn.summary()"
   ]
  },
  {
   "cell_type": "markdown",
   "id": "3880d2a4-2152-43de-bad3-34e67e97469e",
   "metadata": {
    "tags": []
   },
   "source": [
    "#### (3) Check Point Path"
   ]
  },
  {
   "cell_type": "code",
   "execution_count": 17,
   "id": "2c18aa59-a797-4a67-bc4d-a412dbaaedcb",
   "metadata": {
    "execution": {
     "iopub.execute_input": "2021-07-08T22:10:57.637493Z",
     "iopub.status.busy": "2021-07-08T22:10:57.637358Z",
     "iopub.status.idle": "2021-07-08T22:10:57.640988Z",
     "shell.execute_reply": "2021-07-08T22:10:57.640341Z",
     "shell.execute_reply.started": "2021-07-08T22:10:57.637475Z"
    },
    "tags": []
   },
   "outputs": [],
   "source": [
    "checkpoint_path = \"checkpoint_recode/ckpt_manager\"\n",
    "\n",
    "ckpt = tf.train.Checkpoint(Dcnn=Dcnn)\n",
    "\n",
    "ckpt_manager = tf.train.CheckpointManager(ckpt, checkpoint_path, max_to_keep=10)\n",
    "\n",
    "if ckpt_manager.latest_checkpoint:\n",
    "    ckpt.restore(ckpt_manager.latest_checkpoint)\n",
    "    print(\"Checkpoint Located!!\")"
   ]
  },
  {
   "cell_type": "markdown",
   "id": "73d70667-275f-40c0-bd71-6b47e9722798",
   "metadata": {
    "execution": {
     "iopub.execute_input": "2021-05-16T17:47:13.442664Z",
     "iopub.status.busy": "2021-05-16T17:47:13.442381Z",
     "iopub.status.idle": "2021-05-16T17:47:13.448371Z",
     "shell.execute_reply": "2021-05-16T17:47:13.446970Z",
     "shell.execute_reply.started": "2021-05-16T17:47:13.442620Z"
    }
   },
   "source": [
    "-------------------------\n",
    "\n",
    "### Stage 4: Train the Model"
   ]
  },
  {
   "cell_type": "markdown",
   "id": "4351aebf-d66c-4d7e-8463-9b8a8cc45748",
   "metadata": {},
   "source": [
    "#### (1) Set up the Check-point Path"
   ]
  },
  {
   "cell_type": "code",
   "execution_count": 18,
   "id": "2a42cc9c-52a3-48f7-be81-93fdc7caa44d",
   "metadata": {
    "execution": {
     "iopub.execute_input": "2021-07-08T22:10:57.642116Z",
     "iopub.status.busy": "2021-07-08T22:10:57.641889Z",
     "iopub.status.idle": "2021-07-08T22:10:57.645285Z",
     "shell.execute_reply": "2021-07-08T22:10:57.644832Z",
     "shell.execute_reply.started": "2021-07-08T22:10:57.642094Z"
    },
    "tags": []
   },
   "outputs": [],
   "source": [
    "checkpoint_path = \"checkpoint_recode/ckpt_manager\"\n",
    "\n",
    "ckpt = tf.train.Checkpoint(Dcnn=Dcnn)\n",
    "\n",
    "ckpt_manager = tf.train.CheckpointManager(ckpt, checkpoint_path, max_to_keep=10)\n",
    "\n",
    "if ckpt_manager.latest_checkpoint:\n",
    "    ckpt.restore(ckpt_manager.latest_checkpoint)\n",
    "    print(\"Checkpoint Located!!\")"
   ]
  },
  {
   "cell_type": "markdown",
   "id": "3cdfd46a-e4ab-4ade-92b9-d7480829adc5",
   "metadata": {},
   "source": [
    "#### (2) Define the TensorBoard Callback\n",
    "ref: https://www.tensorflow.org/tensorboard/get_started"
   ]
  },
  {
   "cell_type": "code",
   "execution_count": 19,
   "id": "d19eaa00-aab8-4b36-ab5b-356260f0012c",
   "metadata": {
    "execution": {
     "iopub.execute_input": "2021-07-08T22:10:57.646270Z",
     "iopub.status.busy": "2021-07-08T22:10:57.646138Z",
     "iopub.status.idle": "2021-07-08T22:10:57.649451Z",
     "shell.execute_reply": "2021-07-08T22:10:57.648894Z",
     "shell.execute_reply.started": "2021-07-08T22:10:57.646253Z"
    },
    "tags": []
   },
   "outputs": [],
   "source": [
    "import datetime\n",
    "log_dir = \"logs/fit/\" + datetime.datetime.now().strftime(\"%Y%m%d-%H%M%S\")\n",
    "tensorboard_callback = tf.keras.callbacks.TensorBoard(log_dir=log_dir, \n",
    "                                                      write_images=True,\n",
    "                                                      histogram_freq=1)\n"
   ]
  },
  {
   "cell_type": "markdown",
   "id": "64f702ee-fc52-4bf6-899f-73e9ee9d2b29",
   "metadata": {
    "execution": {
     "iopub.execute_input": "2021-07-08T21:37:53.095387Z",
     "iopub.status.busy": "2021-07-08T21:37:53.095077Z",
     "iopub.status.idle": "2021-07-08T21:37:53.101467Z",
     "shell.execute_reply": "2021-07-08T21:37:53.100507Z",
     "shell.execute_reply.started": "2021-07-08T21:37:53.095367Z"
    }
   },
   "source": [
    "#### (3) Define the EarlyStopping Callback\n",
    "Stop training when a monitored metric has stopped improving. ref:https://www.tensorflow.org/api_docs/python/tf/keras/callbacks/EarlyStopping"
   ]
  },
  {
   "cell_type": "code",
   "execution_count": 20,
   "id": "9904eb0f-02dd-4fb0-bdd2-af5ab75dd203",
   "metadata": {
    "execution": {
     "iopub.execute_input": "2021-07-08T22:10:57.650652Z",
     "iopub.status.busy": "2021-07-08T22:10:57.650445Z",
     "iopub.status.idle": "2021-07-08T22:10:57.653576Z",
     "shell.execute_reply": "2021-07-08T22:10:57.652828Z",
     "shell.execute_reply.started": "2021-07-08T22:10:57.650633Z"
    },
    "tags": []
   },
   "outputs": [],
   "source": [
    "early_stop = EarlyStopping(monitor='val_loss',patience=5, verbose=1)"
   ]
  },
  {
   "cell_type": "markdown",
   "id": "6efdbe9a-f152-4c7b-a2b0-39243c31eeb4",
   "metadata": {
    "execution": {
     "iopub.execute_input": "2021-07-08T21:39:05.952891Z",
     "iopub.status.busy": "2021-07-08T21:39:05.952657Z",
     "iopub.status.idle": "2021-07-08T21:39:05.955902Z",
     "shell.execute_reply": "2021-07-08T21:39:05.954866Z",
     "shell.execute_reply.started": "2021-07-08T21:39:05.952872Z"
    }
   },
   "source": [
    "#### (4) Training the Model\n"
   ]
  },
  {
   "cell_type": "code",
   "execution_count": 21,
   "id": "baf0cade-2c45-43b2-9782-6a8c6e570153",
   "metadata": {
    "execution": {
     "iopub.execute_input": "2021-07-08T22:10:57.654773Z",
     "iopub.status.busy": "2021-07-08T22:10:57.654533Z",
     "iopub.status.idle": "2021-07-08T22:18:12.278342Z",
     "shell.execute_reply": "2021-07-08T22:18:12.276676Z",
     "shell.execute_reply.started": "2021-07-08T22:10:57.654750Z"
    },
    "tags": []
   },
   "outputs": [
    {
     "name": "stdout",
     "output_type": "stream",
     "text": [
      "Epoch 1/80\n",
      "22/22 [==============================] - 43s 2s/step - loss: 0.5897 - accuracy: 0.6739 - val_loss: 0.4618 - val_accuracy: 0.8168\n",
      "Epoch 2/80\n",
      "22/22 [==============================] - 48s 2s/step - loss: 0.3336 - accuracy: 0.8658 - val_loss: 0.2367 - val_accuracy: 0.9097\n",
      "Epoch 3/80\n",
      "22/22 [==============================] - 54s 2s/step - loss: 0.1545 - accuracy: 0.9437 - val_loss: 0.1647 - val_accuracy: 0.9419\n",
      "Epoch 4/80\n",
      "22/22 [==============================] - 48s 2s/step - loss: 0.0784 - accuracy: 0.9773 - val_loss: 0.1543 - val_accuracy: 0.9456\n",
      "Epoch 5/80\n",
      "22/22 [==============================] - 47s 2s/step - loss: 0.0517 - accuracy: 0.9843 - val_loss: 0.1606 - val_accuracy: 0.9515\n",
      "Epoch 6/80\n",
      "22/22 [==============================] - 48s 2s/step - loss: 0.0527 - accuracy: 0.9862 - val_loss: 0.1815 - val_accuracy: 0.9402\n",
      "Epoch 7/80\n",
      "22/22 [==============================] - 46s 2s/step - loss: 0.0468 - accuracy: 0.9845 - val_loss: 0.1746 - val_accuracy: 0.9460\n",
      "Epoch 8/80\n",
      "22/22 [==============================] - 50s 2s/step - loss: 0.0409 - accuracy: 0.9868 - val_loss: 0.1749 - val_accuracy: 0.9477\n",
      "Epoch 9/80\n",
      "22/22 [==============================] - 49s 2s/step - loss: 0.0392 - accuracy: 0.9856 - val_loss: 0.1754 - val_accuracy: 0.9473\n",
      "Epoch 00009: early stopping\n"
     ]
    },
    {
     "data": {
      "text/plain": [
       "'checkpoint_recode/ckpt_manager/ckpt-1'"
      ]
     },
     "execution_count": 21,
     "metadata": {},
     "output_type": "execute_result"
    }
   ],
   "source": [
    "Dcnn.fit(train_inputs, train_labels,\n",
    "         validation_data=(test_inputs, test_labels),\n",
    "         batch_size=BATCH_SIZE,\n",
    "         epochs=NB_EPOCHS,\n",
    "         callbacks=[early_stop, tensorboard_callback])\n",
    "ckpt_manager.save()"
   ]
  },
  {
   "cell_type": "markdown",
   "id": "3b0ac256-ab81-4ff5-8430-48f8bba50126",
   "metadata": {
    "execution": {
     "iopub.execute_input": "2021-05-16T18:23:25.926977Z",
     "iopub.status.busy": "2021-05-16T18:23:25.926754Z",
     "iopub.status.idle": "2021-05-16T18:23:25.931072Z",
     "shell.execute_reply": "2021-05-16T18:23:25.930041Z",
     "shell.execute_reply.started": "2021-05-16T18:23:25.926952Z"
    }
   },
   "source": [
    "-------------------------\n",
    "\n",
    "### Stage 5: Evaluation"
   ]
  },
  {
   "cell_type": "code",
   "execution_count": 22,
   "id": "58099cc1-19e0-443a-b960-7ae4d67344d3",
   "metadata": {
    "execution": {
     "iopub.execute_input": "2021-07-08T22:18:12.282076Z",
     "iopub.status.busy": "2021-07-08T22:18:12.281613Z",
     "iopub.status.idle": "2021-07-08T22:18:12.309451Z",
     "shell.execute_reply": "2021-07-08T22:18:12.308172Z",
     "shell.execute_reply.started": "2021-07-08T22:18:12.282026Z"
    },
    "tags": []
   },
   "outputs": [
    {
     "data": {
      "text/html": [
       "<div>\n",
       "<style scoped>\n",
       "    .dataframe tbody tr th:only-of-type {\n",
       "        vertical-align: middle;\n",
       "    }\n",
       "\n",
       "    .dataframe tbody tr th {\n",
       "        vertical-align: top;\n",
       "    }\n",
       "\n",
       "    .dataframe thead th {\n",
       "        text-align: right;\n",
       "    }\n",
       "</style>\n",
       "<table border=\"1\" class=\"dataframe\">\n",
       "  <thead>\n",
       "    <tr style=\"text-align: right;\">\n",
       "      <th></th>\n",
       "      <th>loss</th>\n",
       "      <th>accuracy</th>\n",
       "      <th>val_loss</th>\n",
       "      <th>val_accuracy</th>\n",
       "    </tr>\n",
       "  </thead>\n",
       "  <tbody>\n",
       "    <tr>\n",
       "      <th>0</th>\n",
       "      <td>0.589721</td>\n",
       "      <td>0.673949</td>\n",
       "      <td>0.461788</td>\n",
       "      <td>0.816813</td>\n",
       "    </tr>\n",
       "    <tr>\n",
       "      <th>1</th>\n",
       "      <td>0.333602</td>\n",
       "      <td>0.865829</td>\n",
       "      <td>0.236699</td>\n",
       "      <td>0.909661</td>\n",
       "    </tr>\n",
       "    <tr>\n",
       "      <th>2</th>\n",
       "      <td>0.154537</td>\n",
       "      <td>0.943735</td>\n",
       "      <td>0.164732</td>\n",
       "      <td>0.941865</td>\n",
       "    </tr>\n",
       "    <tr>\n",
       "      <th>3</th>\n",
       "      <td>0.078391</td>\n",
       "      <td>0.977329</td>\n",
       "      <td>0.154276</td>\n",
       "      <td>0.945629</td>\n",
       "    </tr>\n",
       "    <tr>\n",
       "      <th>4</th>\n",
       "      <td>0.051655</td>\n",
       "      <td>0.984336</td>\n",
       "      <td>0.160593</td>\n",
       "      <td>0.951485</td>\n",
       "    </tr>\n",
       "    <tr>\n",
       "      <th>5</th>\n",
       "      <td>0.052688</td>\n",
       "      <td>0.986191</td>\n",
       "      <td>0.181491</td>\n",
       "      <td>0.940192</td>\n",
       "    </tr>\n",
       "    <tr>\n",
       "      <th>6</th>\n",
       "      <td>0.046806</td>\n",
       "      <td>0.984542</td>\n",
       "      <td>0.174556</td>\n",
       "      <td>0.946048</td>\n",
       "    </tr>\n",
       "    <tr>\n",
       "      <th>7</th>\n",
       "      <td>0.040925</td>\n",
       "      <td>0.986810</td>\n",
       "      <td>0.174895</td>\n",
       "      <td>0.947721</td>\n",
       "    </tr>\n",
       "    <tr>\n",
       "      <th>8</th>\n",
       "      <td>0.039176</td>\n",
       "      <td>0.985573</td>\n",
       "      <td>0.175396</td>\n",
       "      <td>0.947302</td>\n",
       "    </tr>\n",
       "  </tbody>\n",
       "</table>\n",
       "</div>"
      ],
      "text/plain": [
       "       loss  accuracy  val_loss  val_accuracy\n",
       "0  0.589721  0.673949  0.461788      0.816813\n",
       "1  0.333602  0.865829  0.236699      0.909661\n",
       "2  0.154537  0.943735  0.164732      0.941865\n",
       "3  0.078391  0.977329  0.154276      0.945629\n",
       "4  0.051655  0.984336  0.160593      0.951485\n",
       "5  0.052688  0.986191  0.181491      0.940192\n",
       "6  0.046806  0.984542  0.174556      0.946048\n",
       "7  0.040925  0.986810  0.174895      0.947721\n",
       "8  0.039176  0.985573  0.175396      0.947302"
      ]
     },
     "execution_count": 22,
     "metadata": {},
     "output_type": "execute_result"
    }
   ],
   "source": [
    "losses = pd.DataFrame(Dcnn.history.history)\n",
    "losses"
   ]
  },
  {
   "cell_type": "code",
   "execution_count": 23,
   "id": "f37a760f-b388-4051-a78d-295bce1f214a",
   "metadata": {
    "execution": {
     "iopub.execute_input": "2021-07-08T22:18:12.311604Z",
     "iopub.status.busy": "2021-07-08T22:18:12.311089Z",
     "iopub.status.idle": "2021-07-08T22:18:12.914681Z",
     "shell.execute_reply": "2021-07-08T22:18:12.913419Z",
     "shell.execute_reply.started": "2021-07-08T22:18:12.311561Z"
    },
    "tags": []
   },
   "outputs": [
    {
     "data": {
      "text/plain": [
       "<AxesSubplot:>"
      ]
     },
     "execution_count": 23,
     "metadata": {},
     "output_type": "execute_result"
    },
    {
     "data": {
      "image/png": "[encoded data removed]",
      "text/plain": [
       "<Figure size 432x288 with 1 Axes>"
      ]
     },
     "metadata": {
      "needs_background": "light"
     },
     "output_type": "display_data"
    },
    {
     "data": {
      "image/png": "[encoded data removed]",
      "text/plain": [
       "<Figure size 432x288 with 1 Axes>"
      ]
     },
     "metadata": {
      "needs_background": "light"
     },
     "output_type": "display_data"
    }
   ],
   "source": [
    "losses[['accuracy','val_accuracy']].plot()\n",
    "losses[['loss','val_loss']].plot()"
   ]
  },
  {
   "cell_type": "code",
   "execution_count": 24,
   "id": "b1b62bf7-433e-4a9e-b0ed-a6b57515b304",
   "metadata": {
    "execution": {
     "iopub.execute_input": "2021-07-08T22:18:12.928796Z",
     "iopub.status.busy": "2021-07-08T22:18:12.928362Z",
     "iopub.status.idle": "2021-07-08T22:18:13.435525Z",
     "shell.execute_reply": "2021-07-08T22:18:13.434322Z",
     "shell.execute_reply.started": "2021-07-08T22:18:12.928753Z"
    },
    "tags": []
   },
   "outputs": [
    {
     "data": {
      "image/png": "[encoded data removed]",
      "text/plain": [
       "<Figure size 576x360 with 1 Axes>"
      ]
     },
     "metadata": {
      "needs_background": "light"
     },
     "output_type": "display_data"
    }
   ],
   "source": [
    "losses.plot(figsize=(8,5))\n",
    "plt.grid(True)\n",
    "plt.gca().set_ylim(0,1)\n",
    "plt.xlabel(\"Learning Curves: the mean training loss and accuracy measured over each epochs\")\n",
    "plt.savefig('images/learning_curves3.png')\n",
    "plt.show()\n"
   ]
  },
  {
   "cell_type": "code",
   "execution_count": 25,
   "id": "17760825-eb35-4f8c-88a0-45e94387c08d",
   "metadata": {
    "execution": {
     "iopub.execute_input": "2021-07-08T22:18:13.442390Z",
     "iopub.status.busy": "2021-07-08T22:18:13.442003Z",
     "iopub.status.idle": "2021-07-08T22:18:19.746620Z",
     "shell.execute_reply": "2021-07-08T22:18:19.745120Z",
     "shell.execute_reply.started": "2021-07-08T22:18:13.442341Z"
    },
    "tags": []
   },
   "outputs": [
    {
     "name": "stdout",
     "output_type": "stream",
     "text": [
      "11/11 [==============================] - 6s 561ms/step - loss: 0.1754 - accuracy: 0.9473\n",
      "[0.17539633810520172, 0.9473024010658264]\n"
     ]
    }
   ],
   "source": [
    "from sklearn.metrics import classification_report,confusion_matrix\n",
    "evaluation_model = Dcnn.evaluate(test_inputs, test_labels, batch_size=BATCH_SIZE)\n",
    "print(evaluation_model)"
   ]
  },
  {
   "cell_type": "code",
   "execution_count": 26,
   "id": "c9a3f93d-4398-418c-b511-69594874cc5a",
   "metadata": {
    "execution": {
     "iopub.execute_input": "2021-07-08T22:18:19.749674Z",
     "iopub.status.busy": "2021-07-08T22:18:19.749158Z",
     "iopub.status.idle": "2021-07-08T22:18:27.505227Z",
     "shell.execute_reply": "2021-07-08T22:18:27.494755Z",
     "shell.execute_reply.started": "2021-07-08T22:18:19.749623Z"
    },
    "tags": []
   },
   "outputs": [
    {
     "name": "stdout",
     "output_type": "stream",
     "text": [
      "              precision    recall  f1-score   support\n",
      "\n",
      "           0       0.95      0.97      0.96      1566\n",
      "           1       0.95      0.90      0.92       825\n",
      "\n",
      "    accuracy                           0.95      2391\n",
      "   macro avg       0.95      0.94      0.94      2391\n",
      "weighted avg       0.95      0.95      0.95      2391\n",
      "\n"
     ]
    }
   ],
   "source": [
    "# pd.DataFrame(confusion_matrix(test_labels,predictions))\n",
    "predictions = Dcnn.predict(test_inputs)\n",
    "predictions = np.where(predictions >0.8 , 1, 0)\n",
    "print(classification_report(test_labels, predictions))"
   ]
  },
  {
   "cell_type": "code",
   "execution_count": 27,
   "id": "4767688b-bfc8-4dc4-b8ec-2252f7791534",
   "metadata": {
    "execution": {
     "iopub.execute_input": "2021-07-08T22:18:27.508577Z",
     "iopub.status.busy": "2021-07-08T22:18:27.508072Z",
     "iopub.status.idle": "2021-07-08T22:18:27.543264Z",
     "shell.execute_reply": "2021-07-08T22:18:27.541186Z",
     "shell.execute_reply.started": "2021-07-08T22:18:27.508515Z"
    },
    "tags": []
   },
   "outputs": [
    {
     "data": {
      "text/html": [
       "<div>\n",
       "<style scoped>\n",
       "    .dataframe tbody tr th:only-of-type {\n",
       "        vertical-align: middle;\n",
       "    }\n",
       "\n",
       "    .dataframe tbody tr th {\n",
       "        vertical-align: top;\n",
       "    }\n",
       "\n",
       "    .dataframe thead th {\n",
       "        text-align: right;\n",
       "    }\n",
       "</style>\n",
       "<table border=\"1\" class=\"dataframe\">\n",
       "  <thead>\n",
       "    <tr style=\"text-align: right;\">\n",
       "      <th></th>\n",
       "      <th>Predictions: Not Pork(0)</th>\n",
       "      <th>Predictions:Pork(1)</th>\n",
       "    </tr>\n",
       "  </thead>\n",
       "  <tbody>\n",
       "    <tr>\n",
       "      <th>Acutal: Not Pork(0)</th>\n",
       "      <td>1523</td>\n",
       "      <td>43</td>\n",
       "    </tr>\n",
       "    <tr>\n",
       "      <th>Acutal: Pork (1)</th>\n",
       "      <td>82</td>\n",
       "      <td>743</td>\n",
       "    </tr>\n",
       "  </tbody>\n",
       "</table>\n",
       "</div>"
      ],
      "text/plain": [
       "                     Predictions: Not Pork(0)  Predictions:Pork(1)\n",
       "Acutal: Not Pork(0)                      1523                   43\n",
       "Acutal: Pork (1)                           82                  743"
      ]
     },
     "execution_count": 27,
     "metadata": {},
     "output_type": "execute_result"
    }
   ],
   "source": [
    "t = pd.DataFrame(confusion_matrix(test_labels,predictions), \n",
    "             columns=['Predictions: Not Pork(0)','Predictions:Pork(1)'])\n",
    "t.index = ['Acutal: Not Pork(0)', 'Acutal: Pork (1)']\n",
    "t"
   ]
  },
  {
   "cell_type": "markdown",
   "id": "7ae6fbb4-43be-400f-ab15-9b3175560113",
   "metadata": {},
   "source": [
    "### Stage 6: Call up Tensorboard"
   ]
  },
  {
   "cell_type": "code",
   "execution_count": 28,
   "id": "954b4e59-802a-4038-b17d-9285d97c31c8",
   "metadata": {
    "execution": {
     "iopub.execute_input": "2021-07-08T22:18:27.547104Z",
     "iopub.status.busy": "2021-07-08T22:18:27.546545Z",
     "iopub.status.idle": "2021-07-08T22:18:44.434471Z",
     "shell.execute_reply": "2021-07-08T22:18:44.432628Z",
     "shell.execute_reply.started": "2021-07-08T22:18:27.547045Z"
    }
   },
   "outputs": [
    {
     "data": {
      "text/html": [
       "\n",
       "      <iframe id=\"tensorboard-frame-f651ac99e9ec9404\" width=\"100%\" height=\"800\" frameborder=\"0\">\n",
       "      </iframe>\n",
       "      <script>\n",
       "        (function() {\n",
       "          const frame = document.getElementById(\"tensorboard-frame-f651ac99e9ec9404\");\n",
       "          const url = new URL(\"/\", window.location);\n",
       "          const port = 6006;\n",
       "          if (port) {\n",
       "            url.port = port;\n",
       "          }\n",
       "          frame.src = url;\n",
       "        })();\n",
       "      </script>\n",
       "    "
      ],
      "text/plain": [
       "<IPython.core.display.HTML object>"
      ]
     },
     "metadata": {},
     "output_type": "display_data"
    }
   ],
   "source": [
    "%load_ext tensorboard\n",
    "\n",
    "%tensorboard --logdir logs/fit"
   ]
  },
  {
   "cell_type": "markdown",
   "id": "d0416d6f-5e46-47c9-abad-f344bea7a94a",
   "metadata": {},
   "source": [
    "-------------------------\n",
    "\n",
    "### Stage 8: Try the Model with New Data and Export an End-to-end Model\n"
   ]
  },
  {
   "cell_type": "markdown",
   "id": "394b9a6e-0130-4af2-88e5-efe91cf9f348",
   "metadata": {
    "execution": {
     "iopub.execute_input": "2021-05-16T22:53:41.558105Z",
     "iopub.status.busy": "2021-05-16T22:53:41.557872Z",
     "iopub.status.idle": "2021-05-16T22:53:41.560984Z",
     "shell.execute_reply": "2021-05-16T22:53:41.560122Z",
     "shell.execute_reply.started": "2021-05-16T22:53:41.558080Z"
    }
   },
   "source": [
    "#### (1) Test New Dataset from 2000 samples from Legislative Questions from 6th Session "
   ]
  },
  {
   "cell_type": "code",
   "execution_count": 29,
   "id": "632bf33e-1df7-46c5-9a67-ab7141a949c2",
   "metadata": {
    "execution": {
     "iopub.execute_input": "2021-07-08T22:18:44.439212Z",
     "iopub.status.busy": "2021-07-08T22:18:44.438637Z",
     "iopub.status.idle": "2021-07-08T22:18:44.448787Z",
     "shell.execute_reply": "2021-07-08T22:18:44.447044Z",
     "shell.execute_reply.started": "2021-07-08T22:18:44.439140Z"
    },
    "tags": []
   },
   "outputs": [],
   "source": [
    "def as_num(x):\n",
    "    \"\"\"\n",
    "    keep 10 decimals\n",
    "    \"\"\"\n",
    "    y = '{:.15f}'.format(x) \n",
    "    return y"
   ]
  },
  {
   "cell_type": "code",
   "execution_count": 30,
   "id": "06ea7d54-49e9-4363-8304-d1dabaf3beb4",
   "metadata": {
    "execution": {
     "iopub.execute_input": "2021-07-08T22:18:44.457404Z",
     "iopub.status.busy": "2021-07-08T22:18:44.452487Z",
     "iopub.status.idle": "2021-07-08T22:18:45.332769Z",
     "shell.execute_reply": "2021-07-08T22:18:45.330979Z",
     "shell.execute_reply.started": "2021-07-08T22:18:44.457329Z"
    },
    "tags": []
   },
   "outputs": [],
   "source": [
    "import pandas as pd\n",
    "import random\n",
    "\n",
    "# test the trined model using new text from 200 samples from Leislative Questions\n",
    "LQ6 = pd.read_csv('data/LQ_6th.csv')\n",
    "\n",
    "# drop '0': legislor  never have proposed any legisaltive questions. \n",
    "LQ6 = LQ6[LQ6['title'].isin(['0'])== False]\n",
    "\n",
    "# select text with number of charecters within EMB_DIM; len(sub_set) = 11162\n",
    "# sample_df = LQ6.loc[[len(char_num) for char_num in LQ6.title if len(char_num) < MAX_LEN], ['legislator','title', 'topic', 'category', 'keywords', 'ques_type']].reset_index(drop=True)\n",
    "random.seed(42)\n",
    "sample_df = LQ6.iloc[random.sample(range(len(LQ6)), 2000)][['legislator', 'title', 'topic', 'category', 'keywords', 'ques_type']]\n",
    "sub_set = [seg_char(text) for text in [clearPucts(text) for text in sample_df.title]]\n"
   ]
  },
  {
   "cell_type": "markdown",
   "id": "68cc06a7-27d7-4007-949d-f7df81246e25",
   "metadata": {
    "tags": []
   },
   "source": [
    "##### Top 10 of 2000 Samples"
   ]
  },
  {
   "cell_type": "code",
   "execution_count": 31,
   "id": "d4b618c9-8c4b-40ec-a396-b4679233197e",
   "metadata": {
    "execution": {
     "iopub.execute_input": "2021-07-08T22:18:45.337161Z",
     "iopub.status.busy": "2021-07-08T22:18:45.336178Z",
     "iopub.status.idle": "2021-07-08T22:19:04.656959Z",
     "shell.execute_reply": "2021-07-08T22:19:04.656382Z",
     "shell.execute_reply.started": "2021-07-08T22:18:45.337098Z"
    },
    "tags": []
   },
   "outputs": [
    {
     "data": {
      "text/html": [
       "<div>\n",
       "<style scoped>\n",
       "    .dataframe tbody tr th:only-of-type {\n",
       "        vertical-align: middle;\n",
       "    }\n",
       "\n",
       "    .dataframe tbody tr th {\n",
       "        vertical-align: top;\n",
       "    }\n",
       "\n",
       "    .dataframe thead th {\n",
       "        text-align: right;\n",
       "    }\n",
       "</style>\n",
       "<table border=\"1\" class=\"dataframe\">\n",
       "  <thead>\n",
       "    <tr style=\"text-align: right;\">\n",
       "      <th></th>\n",
       "      <th>legislator</th>\n",
       "      <th>Pork Value(Constituency Interest)</th>\n",
       "      <th>Legislative Questions</th>\n",
       "      <th>Topic</th>\n",
       "      <th>Key Word</th>\n",
       "    </tr>\n",
       "  </thead>\n",
       "  <tbody>\n",
       "    <tr>\n",
       "      <th>9892</th>\n",
       "      <td>陳啟昱</td>\n",
       "      <td>0.999573826789856</td>\n",
       "      <td>鑑於現行《所得稅法》第十七條規定特別扣除額教育支出部分，僅以納稅義務人之子女就讀大專院校為限...</td>\n",
       "      <td>所得稅 ; 教育費用 ; 扣除額</td>\n",
       "      <td>所得稅法 ; 特別扣除額 ; 教育支出</td>\n",
       "    </tr>\n",
       "    <tr>\n",
       "      <th>3999</th>\n",
       "      <td>林正峰</td>\n",
       "      <td>0.998221218585968</td>\n",
       "      <td>針對政府準備修法推動「二代健保」，健保保費採取「年度所得總額」為計算基礎，而非採用扣除免稅額...</td>\n",
       "      <td>國民 ; 健康保險 ; 保險費</td>\n",
       "      <td>二代健保 ; 年度所得總額</td>\n",
       "    </tr>\n",
       "    <tr>\n",
       "      <th>1761</th>\n",
       "      <td>彭添富</td>\n",
       "      <td>0.996832251548767</td>\n",
       "      <td>針對「辦理九十四年原住民中低收入戶家庭租屋補助計畫」專案補助計畫，特向行政院提出質詢。</td>\n",
       "      <td>原住民族生活</td>\n",
       "      <td>原住民中低收入戶 ; 租屋補助</td>\n",
       "    </tr>\n",
       "    <tr>\n",
       "      <th>1296</th>\n",
       "      <td>廖婉汝</td>\n",
       "      <td>0.994153439998627</td>\n",
       "      <td>針對高高屏三縣市家庭收入偏低，要求政府應設法為高高屏三縣市創造就業機會，以提高高高屏三縣市之...</td>\n",
       "      <td>貧富差距 ; 低收入戶 ; 失業</td>\n",
       "      <td>家庭收入 ; 就業機會</td>\n",
       "    </tr>\n",
       "    <tr>\n",
       "      <th>4546</th>\n",
       "      <td>林鴻池</td>\n",
       "      <td>0.991988241672516</td>\n",
       "      <td>針對諸多已獲得五年五百億與卓越計畫獎補助的大學擬調漲學雜費，但教育部長杜正勝曾承諾，獲得上述...</td>\n",
       "      <td>教育補助 ; 教育費用 ; 大學</td>\n",
       "      <td>卓越計畫獎補助 ; 大學學費</td>\n",
       "    </tr>\n",
       "    <tr>\n",
       "      <th>188</th>\n",
       "      <td>丁守中</td>\n",
       "      <td>0.989335179328918</td>\n",
       "      <td>針就「國軍退除役官兵就養安置辦法」第七條第一項第五款規定：「全家人口所有之土地及房屋公告現值...</td>\n",
       "      <td>退除役官兵 ; 榮民生活輔導</td>\n",
       "      <td>國軍退除役官兵就養安置辦法</td>\n",
       "    </tr>\n",
       "    <tr>\n",
       "      <th>6899</th>\n",
       "      <td>王昱婷</td>\n",
       "      <td>0.986667394638062</td>\n",
       "      <td>針對根據內政部最新統計，國內的嬰兒出生率再創新低點，今年1到4月只有6萬5400個小嬰兒出生...</td>\n",
       "      <td>出生率 ; 人口政策</td>\n",
       "      <td>出生率 ; 生育率</td>\n",
       "    </tr>\n",
       "    <tr>\n",
       "      <th>1706</th>\n",
       "      <td>彭添富</td>\n",
       "      <td>0.983055114746094</td>\n",
       "      <td>針對「觀音鄉保生社區風貌營造規劃設計」專案補助計畫，特向行政院提出質詢。</td>\n",
       "      <td>社區計畫 ; 政府補助</td>\n",
       "      <td>保生社區</td>\n",
       "    </tr>\n",
       "    <tr>\n",
       "      <th>4553</th>\n",
       "      <td>林鴻池</td>\n",
       "      <td>0.981910467147827</td>\n",
       "      <td>針對行政院宣布補助弱勢家庭子女就讀私校高中職之學費，卻將資格限制在「非自願就讀者」，有畫餅充...</td>\n",
       "      <td>低收入戶 ; 教育補助</td>\n",
       "      <td>弱勢家庭 ; 私立高中職</td>\n",
       "    </tr>\n",
       "    <tr>\n",
       "      <th>8340</th>\n",
       "      <td>蔡煌瑯(離職)</td>\n",
       "      <td>0.975867986679077</td>\n",
       "      <td>「2005南投花卉嘉年華」活動爭取中央經費補助案由，特向行政院提出質詢。</td>\n",
       "      <td>農業推廣 ; 政府補助</td>\n",
       "      <td>南投花卉嘉年華 ; 中央經費</td>\n",
       "    </tr>\n",
       "    <tr>\n",
       "      <th>5446</th>\n",
       "      <td>洪奇昌</td>\n",
       "      <td>0.971846938133240</td>\n",
       "      <td>針對攸關各醫院健保給付重分配的「醫院支付最適方案」草案，特向行政院提出質詢。</td>\n",
       "      <td>國民 ; 健康保險</td>\n",
       "      <td>健保給付 ; 醫院支付最適方案</td>\n",
       "    </tr>\n",
       "    <tr>\n",
       "      <th>1641</th>\n",
       "      <td>彭添富</td>\n",
       "      <td>0.968350768089294</td>\n",
       "      <td>針對「豪雨成災，農作物損失補償」問題，特向行政院提出質詢。</td>\n",
       "      <td>農業補助</td>\n",
       "      <td>豪雨 ; 農作物</td>\n",
       "    </tr>\n",
       "    <tr>\n",
       "      <th>2601</th>\n",
       "      <td>李復興</td>\n",
       "      <td>0.962856173515320</td>\n",
       "      <td>發現自九十三年一月間起，勞保局陸續清查有一千多名國、公營事業退休員工溢領敬老津貼，截至93年...</td>\n",
       "      <td>老年給付 ; 勞工退休</td>\n",
       "      <td>公營事業退休員工 ; 溢領敬老津貼</td>\n",
       "    </tr>\n",
       "    <tr>\n",
       "      <th>10264</th>\n",
       "      <td>陳根德</td>\n",
       "      <td>0.962431430816650</td>\n",
       "      <td>鑒於桃園縣民眾陳情抗議中正路延伸工程拆遷補償不公，並聚集在中正路尾工地現場，希望盡速發放地上...</td>\n",
       "      <td>道路工程 ; 政府補助</td>\n",
       "      <td>工程 ; 補償</td>\n",
       "    </tr>\n",
       "    <tr>\n",
       "      <th>4802</th>\n",
       "      <td>楊瓊瓔</td>\n",
       "      <td>0.958645999431610</td>\n",
       "      <td>有鑑於縣市政府現須負擔領取月退俸教師之利息補貼，致財政負擔沈重，該項經費幾須靠借貸而來。本席...</td>\n",
       "      <td>教師退休 ; 退休金</td>\n",
       "      <td>月退俸 ; 教師 ; 財政負擔</td>\n",
       "    </tr>\n",
       "  </tbody>\n",
       "</table>\n",
       "</div>"
      ],
      "text/plain": [
       "      legislator Pork Value(Constituency Interest)  \\\n",
       "9892         陳啟昱                 0.999573826789856   \n",
       "3999         林正峰                 0.998221218585968   \n",
       "1761         彭添富                 0.996832251548767   \n",
       "1296         廖婉汝                 0.994153439998627   \n",
       "4546         林鴻池                 0.991988241672516   \n",
       "188          丁守中                 0.989335179328918   \n",
       "6899         王昱婷                 0.986667394638062   \n",
       "1706         彭添富                 0.983055114746094   \n",
       "4553         林鴻池                 0.981910467147827   \n",
       "8340     蔡煌瑯(離職)                 0.975867986679077   \n",
       "5446         洪奇昌                 0.971846938133240   \n",
       "1641         彭添富                 0.968350768089294   \n",
       "2601         李復興                 0.962856173515320   \n",
       "10264        陳根德                 0.962431430816650   \n",
       "4802         楊瓊瓔                 0.958645999431610   \n",
       "\n",
       "                                  Legislative Questions              Topic  \\\n",
       "9892   鑑於現行《所得稅法》第十七條規定特別扣除額教育支出部分，僅以納稅義務人之子女就讀大專院校為限...  所得稅 ; 教育費用 ; 扣除額   \n",
       "3999   針對政府準備修法推動「二代健保」，健保保費採取「年度所得總額」為計算基礎，而非採用扣除免稅額...   國民 ; 健康保險 ; 保險費   \n",
       "1761         針對「辦理九十四年原住民中低收入戶家庭租屋補助計畫」專案補助計畫，特向行政院提出質詢。            原住民族生活   \n",
       "1296   針對高高屏三縣市家庭收入偏低，要求政府應設法為高高屏三縣市創造就業機會，以提高高高屏三縣市之...  貧富差距 ; 低收入戶 ; 失業   \n",
       "4546   針對諸多已獲得五年五百億與卓越計畫獎補助的大學擬調漲學雜費，但教育部長杜正勝曾承諾，獲得上述...  教育補助 ; 教育費用 ; 大學   \n",
       "188    針就「國軍退除役官兵就養安置辦法」第七條第一項第五款規定：「全家人口所有之土地及房屋公告現值...    退除役官兵 ; 榮民生活輔導   \n",
       "6899   針對根據內政部最新統計，國內的嬰兒出生率再創新低點，今年1到4月只有6萬5400個小嬰兒出生...        出生率 ; 人口政策   \n",
       "1706                針對「觀音鄉保生社區風貌營造規劃設計」專案補助計畫，特向行政院提出質詢。       社區計畫 ; 政府補助   \n",
       "4553   針對行政院宣布補助弱勢家庭子女就讀私校高中職之學費，卻將資格限制在「非自願就讀者」，有畫餅充...       低收入戶 ; 教育補助   \n",
       "8340                「2005南投花卉嘉年華」活動爭取中央經費補助案由，特向行政院提出質詢。       農業推廣 ; 政府補助   \n",
       "5446              針對攸關各醫院健保給付重分配的「醫院支付最適方案」草案，特向行政院提出質詢。         國民 ; 健康保險   \n",
       "1641                       針對「豪雨成災，農作物損失補償」問題，特向行政院提出質詢。              農業補助   \n",
       "2601   發現自九十三年一月間起，勞保局陸續清查有一千多名國、公營事業退休員工溢領敬老津貼，截至93年...       老年給付 ; 勞工退休   \n",
       "10264  鑒於桃園縣民眾陳情抗議中正路延伸工程拆遷補償不公，並聚集在中正路尾工地現場，希望盡速發放地上...       道路工程 ; 政府補助   \n",
       "4802   有鑑於縣市政府現須負擔領取月退俸教師之利息補貼，致財政負擔沈重，該項經費幾須靠借貸而來。本席...        教師退休 ; 退休金   \n",
       "\n",
       "                  Key Word  \n",
       "9892   所得稅法 ; 特別扣除額 ; 教育支出  \n",
       "3999         二代健保 ; 年度所得總額  \n",
       "1761       原住民中低收入戶 ; 租屋補助  \n",
       "1296           家庭收入 ; 就業機會  \n",
       "4546        卓越計畫獎補助 ; 大學學費  \n",
       "188          國軍退除役官兵就養安置辦法  \n",
       "6899             出生率 ; 生育率  \n",
       "1706                  保生社區  \n",
       "4553          弱勢家庭 ; 私立高中職  \n",
       "8340        南投花卉嘉年華 ; 中央經費  \n",
       "5446       健保給付 ; 醫院支付最適方案  \n",
       "1641              豪雨 ; 農作物  \n",
       "2601     公營事業退休員工 ; 溢領敬老津貼  \n",
       "10264              工程 ; 補償  \n",
       "4802       月退俸 ; 教師 ; 財政負擔  "
      ]
     },
     "execution_count": 31,
     "metadata": {},
     "output_type": "execute_result"
    }
   ],
   "source": [
    "pd.DataFrame(\n",
    "    {'legislator': sample_df.legislator,\n",
    "     'Pork Value(Constituency Interest)':[as_num(Dcnn(np.array([tokenizer.encode(line)]), training=True).numpy()[0][0]) for line in sub_set],\n",
    "     'Legislative Questions ': sample_df.title,\n",
    "     'Topic': sample_df.topic,\n",
    "     'Key Word':sample_df.keywords}).sort_values(by=['Pork Value(Constituency Interest)'], ascending = False).head(15)"
   ]
  },
  {
   "cell_type": "markdown",
   "id": "6a6d4b15-3e05-427d-a664-8c8ce4e6622c",
   "metadata": {},
   "source": [
    "##### Last 10 Rows of 2000 Samples"
   ]
  },
  {
   "cell_type": "code",
   "execution_count": 32,
   "id": "369a7336-dc9d-4883-b919-b19611b5ad39",
   "metadata": {
    "execution": {
     "iopub.execute_input": "2021-07-08T22:19:04.658130Z",
     "iopub.status.busy": "2021-07-08T22:19:04.657957Z",
     "iopub.status.idle": "2021-07-08T22:19:16.702114Z",
     "shell.execute_reply": "2021-07-08T22:19:16.701518Z",
     "shell.execute_reply.started": "2021-07-08T22:19:04.658109Z"
    },
    "tags": []
   },
   "outputs": [
    {
     "data": {
      "text/html": [
       "<div>\n",
       "<style scoped>\n",
       "    .dataframe tbody tr th:only-of-type {\n",
       "        vertical-align: middle;\n",
       "    }\n",
       "\n",
       "    .dataframe tbody tr th {\n",
       "        vertical-align: top;\n",
       "    }\n",
       "\n",
       "    .dataframe thead th {\n",
       "        text-align: right;\n",
       "    }\n",
       "</style>\n",
       "<table border=\"1\" class=\"dataframe\">\n",
       "  <thead>\n",
       "    <tr style=\"text-align: right;\">\n",
       "      <th></th>\n",
       "      <th>legislator</th>\n",
       "      <th>Pork Value(Constituency Interest)</th>\n",
       "      <th>Legislative Questions</th>\n",
       "      <th>Topic</th>\n",
       "      <th>Key Word</th>\n",
       "    </tr>\n",
       "  </thead>\n",
       "  <tbody>\n",
       "    <tr>\n",
       "      <th>982</th>\n",
       "      <td>周守訓</td>\n",
       "      <td>0.000017133843357</td>\n",
       "      <td>針對日前媒體報導陳水扁總統宣示，十二月二十五日耶誕節是重要的宗教節慶，更是我國的行憲紀念日，...</td>\n",
       "      <td>宗教 ; 假日</td>\n",
       "      <td>耶誕節 ; 行憲紀念日 ; 宗教自由 ; 政教分離</td>\n",
       "    </tr>\n",
       "    <tr>\n",
       "      <th>6201</th>\n",
       "      <td>王幸男</td>\n",
       "      <td>0.000016075460735</td>\n",
       "      <td>針對近日本最高法院針對纏訟四十年的京都「光華寮」案件做成判決，判決內容值得我們關注。日本最高...</td>\n",
       "      <td>公有建築物 ; 國際仲裁 ; 外交承認</td>\n",
       "      <td>日本 ; 光華寮 ; 判決 ; 外交承認</td>\n",
       "    </tr>\n",
       "    <tr>\n",
       "      <th>9039</th>\n",
       "      <td>邱毅</td>\n",
       "      <td>0.000015814948711</td>\n",
       "      <td>針對新聞局認定TVBS應為綜合台非新聞台乙案，準備將TVBS轉頻一事，日前行政院新聞局認定T...</td>\n",
       "      <td>新聞自由 ; 電視臺</td>\n",
       "      <td>TVBS ; 股權結構 ; 外資 ; 國家通訊傳播委員會組織法 ; NCC ; 報導自由</td>\n",
       "    </tr>\n",
       "    <tr>\n",
       "      <th>987</th>\n",
       "      <td>周守訓</td>\n",
       "      <td>0.000013057484466</td>\n",
       "      <td>針對中選會擬在年底三合一選舉，取消投票人領票後在身分證上蓋印戳記的措施，再度掀起軒然大波。在...</td>\n",
       "      <td>選務 ; 國民身分證</td>\n",
       "      <td>三合一選舉 ; 身分證 ; 戳記</td>\n",
       "    </tr>\n",
       "    <tr>\n",
       "      <th>9975</th>\n",
       "      <td>陳朝容</td>\n",
       "      <td>0.000012605133634</td>\n",
       "      <td>針對日前新聞報導「謝老師減肥茶」涉不實廣告代言，而且該食品已有消費者食用導致身亡，有鑒於市場...</td>\n",
       "      <td>廣告 ; 食品管理</td>\n",
       "      <td>廣告代言 ; 減肥 ; 健康食品</td>\n",
       "    </tr>\n",
       "    <tr>\n",
       "      <th>8839</th>\n",
       "      <td>賴清德</td>\n",
       "      <td>0.000012148648239</td>\n",
       "      <td>針對市售豆類製品疑含「過氧化氫」情形嚴重，傷害消費者健康，爰要求相關單位依食品衛生管理法切實...</td>\n",
       "      <td>食品管理</td>\n",
       "      <td>豆類製品 ; 過氧化氫</td>\n",
       "    </tr>\n",
       "    <tr>\n",
       "      <th>1504</th>\n",
       "      <td>張顯耀</td>\n",
       "      <td>0.000011832543350</td>\n",
       "      <td>針對整合警力資源、擴大警政服務範疇，建議行政院將現行警政署、海岸巡防署、消防署及入出境管理局...</td>\n",
       "      <td>政府組織</td>\n",
       "      <td>警力資源 ; 警政服務 ; 警政總署</td>\n",
       "    </tr>\n",
       "    <tr>\n",
       "      <th>5160</th>\n",
       "      <td>沈智慧</td>\n",
       "      <td>0.000011133596672</td>\n",
       "      <td>針對考試院修正特種考試地方政府公務人員考試規則，新增並刪減多項類科，且將三等、四等及五等考試...</td>\n",
       "      <td>國家考試</td>\n",
       "      <td>國家考試 ; 憲法</td>\n",
       "    </tr>\n",
       "    <tr>\n",
       "      <th>7514</th>\n",
       "      <td>紀國棟</td>\n",
       "      <td>0.000007990905942</td>\n",
       "      <td>鑒於台灣極力發展觀光倍增之際，竟一再傳出中國觀光客來台糾紛頻傳，爰要求觀光局為下列改進：一、...</td>\n",
       "      <td>旅遊業 ; 觀光</td>\n",
       "      <td>中國觀光客 ; 旅遊糾紛</td>\n",
       "    </tr>\n",
       "    <tr>\n",
       "      <th>1299</th>\n",
       "      <td>廖婉汝</td>\n",
       "      <td>0.000006711962214</td>\n",
       "      <td>針對近來警界風紀事件頻傳，身為人民保母的員警卻屢屢傳出知法犯法、違法亂紀的情形，嚴重侵害到人...</td>\n",
       "      <td>警察風紀</td>\n",
       "      <td>警界風紀</td>\n",
       "    </tr>\n",
       "    <tr>\n",
       "      <th>10210</th>\n",
       "      <td>陳根德</td>\n",
       "      <td>0.000006673843927</td>\n",
       "      <td>針對公務機關人員向來忽視人民隱私資料之保障，尤有不遵守電腦處理個人資料保護法之情事，致使行政...</td>\n",
       "      <td>資訊系統 ; 隱私權</td>\n",
       "      <td>公務機關人員 ; 人民隱私 ; 電腦處理個人資料保護法</td>\n",
       "    </tr>\n",
       "    <tr>\n",
       "      <th>7674</th>\n",
       "      <td>羅世雄</td>\n",
       "      <td>0.000004855839052</td>\n",
       "      <td>針對手機通訊業者辦理新辦戶及更換SIM卡程序中，出現犯罪集團持偽造身分證，藉此竊取個人資料，...</td>\n",
       "      <td>電信行政 ; 國民身分證 ; 隱私權 ; 偽造</td>\n",
       "      <td>手機 ; 竊取個人資料 ; 犯罪集團</td>\n",
       "    </tr>\n",
       "    <tr>\n",
       "      <th>6532</th>\n",
       "      <td>王幸男</td>\n",
       "      <td>0.000002780486057</td>\n",
       "      <td>針對陳總統日昨重申，有信心一定能夠在二○○八年卸任總統之前，為台灣催生一部合身、合時、合用的...</td>\n",
       "      <td>憲法修正</td>\n",
       "      <td>新憲法 ; 修改憲法</td>\n",
       "    </tr>\n",
       "    <tr>\n",
       "      <th>845</th>\n",
       "      <td>吳清池</td>\n",
       "      <td>0.000001254699441</td>\n",
       "      <td>有鑑於近年來大客車（遊覽車）事故頻傳，屢屢造成重大傷亡，多肇因於車輛不符安全規格，建請行政院...</td>\n",
       "      <td>交通安全 ; 客運業 ; 車輛檢驗</td>\n",
       "      <td>大客車 ; 遊覽車 ; 事故 ; 傷亡</td>\n",
       "    </tr>\n",
       "    <tr>\n",
       "      <th>6636</th>\n",
       "      <td>王幸男</td>\n",
       "      <td>0.000000376405524</td>\n",
       "      <td>針對「莊嚴肅穆」的行憲紀念日，在威權時代「今天應懸掛國旗」，不過，在愈來愈多人的真實生活中，...</td>\n",
       "      <td>紀念活動 ; 憲政運作</td>\n",
       "      <td>聖誕節 ; 行憲紀念日 ; 制憲權</td>\n",
       "    </tr>\n",
       "  </tbody>\n",
       "</table>\n",
       "</div>"
      ],
      "text/plain": [
       "      legislator Pork Value(Constituency Interest)  \\\n",
       "982          周守訓                 0.000017133843357   \n",
       "6201         王幸男                 0.000016075460735   \n",
       "9039          邱毅                 0.000015814948711   \n",
       "987          周守訓                 0.000013057484466   \n",
       "9975         陳朝容                 0.000012605133634   \n",
       "8839         賴清德                 0.000012148648239   \n",
       "1504         張顯耀                 0.000011832543350   \n",
       "5160         沈智慧                 0.000011133596672   \n",
       "7514         紀國棟                 0.000007990905942   \n",
       "1299         廖婉汝                 0.000006711962214   \n",
       "10210        陳根德                 0.000006673843927   \n",
       "7674         羅世雄                 0.000004855839052   \n",
       "6532         王幸男                 0.000002780486057   \n",
       "845          吳清池                 0.000001254699441   \n",
       "6636         王幸男                 0.000000376405524   \n",
       "\n",
       "                                  Legislative Questions   \\\n",
       "982    針對日前媒體報導陳水扁總統宣示，十二月二十五日耶誕節是重要的宗教節慶，更是我國的行憲紀念日，...   \n",
       "6201   針對近日本最高法院針對纏訟四十年的京都「光華寮」案件做成判決，判決內容值得我們關注。日本最高...   \n",
       "9039   針對新聞局認定TVBS應為綜合台非新聞台乙案，準備將TVBS轉頻一事，日前行政院新聞局認定T...   \n",
       "987    針對中選會擬在年底三合一選舉，取消投票人領票後在身分證上蓋印戳記的措施，再度掀起軒然大波。在...   \n",
       "9975   針對日前新聞報導「謝老師減肥茶」涉不實廣告代言，而且該食品已有消費者食用導致身亡，有鑒於市場...   \n",
       "8839   針對市售豆類製品疑含「過氧化氫」情形嚴重，傷害消費者健康，爰要求相關單位依食品衛生管理法切實...   \n",
       "1504   針對整合警力資源、擴大警政服務範疇，建議行政院將現行警政署、海岸巡防署、消防署及入出境管理局...   \n",
       "5160   針對考試院修正特種考試地方政府公務人員考試規則，新增並刪減多項類科，且將三等、四等及五等考試...   \n",
       "7514   鑒於台灣極力發展觀光倍增之際，竟一再傳出中國觀光客來台糾紛頻傳，爰要求觀光局為下列改進：一、...   \n",
       "1299   針對近來警界風紀事件頻傳，身為人民保母的員警卻屢屢傳出知法犯法、違法亂紀的情形，嚴重侵害到人...   \n",
       "10210  針對公務機關人員向來忽視人民隱私資料之保障，尤有不遵守電腦處理個人資料保護法之情事，致使行政...   \n",
       "7674   針對手機通訊業者辦理新辦戶及更換SIM卡程序中，出現犯罪集團持偽造身分證，藉此竊取個人資料，...   \n",
       "6532   針對陳總統日昨重申，有信心一定能夠在二○○八年卸任總統之前，為台灣催生一部合身、合時、合用的...   \n",
       "845    有鑑於近年來大客車（遊覽車）事故頻傳，屢屢造成重大傷亡，多肇因於車輛不符安全規格，建請行政院...   \n",
       "6636   針對「莊嚴肅穆」的行憲紀念日，在威權時代「今天應懸掛國旗」，不過，在愈來愈多人的真實生活中，...   \n",
       "\n",
       "                         Topic                                      Key Word  \n",
       "982                    宗教 ; 假日                     耶誕節 ; 行憲紀念日 ; 宗教自由 ; 政教分離  \n",
       "6201       公有建築物 ; 國際仲裁 ; 外交承認                          日本 ; 光華寮 ; 判決 ; 外交承認  \n",
       "9039                新聞自由 ; 電視臺  TVBS ; 股權結構 ; 外資 ; 國家通訊傳播委員會組織法 ; NCC ; 報導自由  \n",
       "987                 選務 ; 國民身分證                              三合一選舉 ; 身分證 ; 戳記  \n",
       "9975                 廣告 ; 食品管理                              廣告代言 ; 減肥 ; 健康食品  \n",
       "8839                      食品管理                                   豆類製品 ; 過氧化氫  \n",
       "1504                      政府組織                            警力資源 ; 警政服務 ; 警政總署  \n",
       "5160                      國家考試                                     國家考試 ; 憲法  \n",
       "7514                  旅遊業 ; 觀光                                  中國觀光客 ; 旅遊糾紛  \n",
       "1299                      警察風紀                                          警界風紀  \n",
       "10210               資訊系統 ; 隱私權                   公務機關人員 ; 人民隱私 ; 電腦處理個人資料保護法  \n",
       "7674   電信行政 ; 國民身分證 ; 隱私權 ; 偽造                            手機 ; 竊取個人資料 ; 犯罪集團  \n",
       "6532                      憲法修正                                    新憲法 ; 修改憲法  \n",
       "845          交通安全 ; 客運業 ; 車輛檢驗                           大客車 ; 遊覽車 ; 事故 ; 傷亡  \n",
       "6636               紀念活動 ; 憲政運作                             聖誕節 ; 行憲紀念日 ; 制憲權  "
      ]
     },
     "execution_count": 32,
     "metadata": {},
     "output_type": "execute_result"
    }
   ],
   "source": [
    "pd.DataFrame(\n",
    "    {'legislator': sample_df.legislator,\n",
    "     'Pork Value(Constituency Interest)':[as_num(Dcnn(np.array([tokenizer.encode(line)]), training=True).numpy()[0][0]) for line in sub_set],\n",
    "     'Legislative Questions ': sample_df.title,\n",
    "     'Topic': sample_df.topic,\n",
    "     'Key Word':sample_df.keywords}).sort_values(by=['Pork Value(Constituency Interest)'], ascending = False).tail(15)"
   ]
  },
  {
   "cell_type": "markdown",
   "id": "5dc01475-847a-408f-9972-ac02e7aa4721",
   "metadata": {},
   "source": [
    "#### (2) Export an End-to-end Model\n"
   ]
  },
  {
   "cell_type": "code",
   "execution_count": 33,
   "id": "196028d0-edfe-434f-a173-4ccaa688faaa",
   "metadata": {
    "execution": {
     "iopub.execute_input": "2021-07-08T22:19:16.703042Z",
     "iopub.status.busy": "2021-07-08T22:19:16.702888Z",
     "iopub.status.idle": "2021-07-08T22:19:16.706263Z",
     "shell.execute_reply": "2021-07-08T22:19:16.705450Z",
     "shell.execute_reply.started": "2021-07-08T22:19:16.703021Z"
    },
    "tags": []
   },
   "outputs": [],
   "source": [
    "from tensorflow.keras.models import load_model"
   ]
  },
  {
   "cell_type": "code",
   "execution_count": 34,
   "id": "071291d0-c5bb-48de-adb2-f8b2bb3bb542",
   "metadata": {
    "execution": {
     "iopub.execute_input": "2021-07-08T22:19:16.707450Z",
     "iopub.status.busy": "2021-07-08T22:19:16.707256Z",
     "iopub.status.idle": "2021-07-08T22:19:17.906983Z",
     "shell.execute_reply": "2021-07-08T22:19:17.906439Z",
     "shell.execute_reply.started": "2021-07-08T22:19:16.707425Z"
    },
    "tags": []
   },
   "outputs": [
    {
     "name": "stdout",
     "output_type": "stream",
     "text": [
      "INFO:tensorflow:Assets written to: lour_pork_model/assets\n"
     ]
    },
    {
     "name": "stderr",
     "output_type": "stream",
     "text": [
      "INFO:tensorflow:Assets written to: lour_pork_model/assets\n"
     ]
    }
   ],
   "source": [
    "# Get model (Sequential, Functional Model, or Model subclass)\n",
    "Dcnn.save('lour_pork_model')"
   ]
  },
  {
   "cell_type": "code",
   "execution_count": 35,
   "id": "2ac46183-b841-469b-8897-1fea2922e445",
   "metadata": {
    "execution": {
     "iopub.execute_input": "2021-07-08T22:19:17.908084Z",
     "iopub.status.busy": "2021-07-08T22:19:17.907920Z",
     "iopub.status.idle": "2021-07-08T22:19:18.400563Z",
     "shell.execute_reply": "2021-07-08T22:19:18.399856Z",
     "shell.execute_reply.started": "2021-07-08T22:19:17.908064Z"
    },
    "tags": []
   },
   "outputs": [],
   "source": [
    "from tensorflow import keras\n",
    "model = keras.models.load_model('lour_pork_model')"
   ]
  }
 ],
 "metadata": {
  "kernelspec": {
   "display_name": "Python 3",
   "language": "python",
   "name": "python3"
  },
  "language_info": {
   "codemirror_mode": {
    "name": "ipython",
    "version": 3
   },
   "file_extension": ".py",
   "mimetype": "text/x-python",
   "name": "python",
   "nbconvert_exporter": "python",
   "pygments_lexer": "ipython3",
   "version": "3.8.8"
  }
 },
 "nbformat": 4,
 "nbformat_minor": 5
}
