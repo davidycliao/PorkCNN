{
 "cells": [
  {
   "cell_type": "markdown",
   "id": "b65dfbdc-bb80-4bd4-8248-dd06483222cd",
   "metadata": {},
   "source": [
    "# Lour's Pork Barrel Classifier (羅老師肉桶文本分類器)🐖\n",
    "## Convolutional Neural Networks for Pork Barrel Project Classification "
   ]
  },
  {
   "cell_type": "markdown",
   "id": "e8005d5a-f938-4c26-86d5-592408152d08",
   "metadata": {},
   "source": [
    "-------------------------\n",
    "\n",
    "### Stage 1: Libaries & Dependencies"
   ]
  },
  {
   "cell_type": "code",
   "execution_count": 1,
   "id": "6ca92ba3-7480-418f-91e0-d2beea2d10af",
   "metadata": {
    "execution": {
     "iopub.execute_input": "2021-05-19T12:24:32.086998Z",
     "iopub.status.busy": "2021-05-19T12:24:32.086799Z",
     "iopub.status.idle": "2021-05-19T12:24:37.648915Z",
     "shell.execute_reply": "2021-05-19T12:24:37.648235Z",
     "shell.execute_reply.started": "2021-05-19T12:24:32.086946Z"
    },
    "tags": []
   },
   "outputs": [],
   "source": [
    "# built-in library\n",
    "import math\n",
    "import re\n",
    "import collections\n",
    "import zipfile\n",
    "from itertools import chain\n",
    "\n",
    "# ML & Deep Learning/ NLP toolkit\n",
    "import pandas as pd\n",
    "import numpy as np\n",
    "import jieba\n",
    "from sklearn.model_selection import train_test_split\n",
    "import tensorflow as tf\n",
    "from tensorflow.keras import layers\n",
    "import tensorflow_datasets as tfds\n",
    "from tensorflow.keras.callbacks import EarlyStopping,TensorBoard\n",
    "\n",
    "# Visualization\n",
    "import matplotlib.pyplot as plt\n",
    "import seaborn as sns"
   ]
  },
  {
   "cell_type": "markdown",
   "id": "8bd77e05-355a-422f-87db-2cf77cba3bdd",
   "metadata": {},
   "source": [
    "-------------------------\n",
    "\n",
    "### Stage 2: Data Preprocessing"
   ]
  },
  {
   "cell_type": "markdown",
   "id": "3b57b9c9-443e-4e26-bda2-15f6877845d5",
   "metadata": {},
   "source": [
    "#### (1) Read file "
   ]
  },
  {
   "cell_type": "code",
   "execution_count": 2,
   "id": "e1973cfb-73d4-4717-a67a-a4e8a0c9edb0",
   "metadata": {
    "execution": {
     "iopub.execute_input": "2021-05-19T12:24:37.651132Z",
     "iopub.status.busy": "2021-05-19T12:24:37.650924Z",
     "iopub.status.idle": "2021-05-19T12:24:37.675393Z",
     "shell.execute_reply": "2021-05-19T12:24:37.674850Z",
     "shell.execute_reply.started": "2021-05-19T12:24:37.651107Z"
    },
    "tags": []
   },
   "outputs": [],
   "source": [
    "df = pd.read_csv('data/Pork Bill - LY.csv',encoding='utf-8')\n",
    "df['text'] =  df['Title'] + df['Content'].fillna(df['Title'])\n",
    "data = df[['text', 'pork_bill']]"
   ]
  },
  {
   "cell_type": "code",
   "execution_count": 3,
   "id": "282b9fad-45f1-4325-97a1-4d612608e73e",
   "metadata": {
    "execution": {
     "iopub.execute_input": "2021-05-19T12:24:37.676307Z",
     "iopub.status.busy": "2021-05-19T12:24:37.676166Z",
     "iopub.status.idle": "2021-05-19T12:24:37.687365Z",
     "shell.execute_reply": "2021-05-19T12:24:37.686866Z",
     "shell.execute_reply.started": "2021-05-19T12:24:37.676288Z"
    },
    "tags": []
   },
   "outputs": [
    {
     "data": {
      "text/html": [
       "<div>\n",
       "<style scoped>\n",
       "    .dataframe tbody tr th:only-of-type {\n",
       "        vertical-align: middle;\n",
       "    }\n",
       "\n",
       "    .dataframe tbody tr th {\n",
       "        vertical-align: top;\n",
       "    }\n",
       "\n",
       "    .dataframe thead th {\n",
       "        text-align: right;\n",
       "    }\n",
       "</style>\n",
       "<table border=\"1\" class=\"dataframe\">\n",
       "  <thead>\n",
       "    <tr style=\"text-align: right;\">\n",
       "      <th></th>\n",
       "      <th>text</th>\n",
       "      <th>pork_bill</th>\n",
       "    </tr>\n",
       "  </thead>\n",
       "  <tbody>\n",
       "    <tr>\n",
       "      <th>0</th>\n",
       "      <td>軍人撫卹條例第十八條條文修正草案落實軍人及眷屬之照顧（撫卹金）</td>\n",
       "      <td>1</td>\n",
       "    </tr>\n",
       "    <tr>\n",
       "      <th>1</th>\n",
       "      <td>所得稅法第十七條條文修正草案學費之特別扣除額應以每人所繳之學雜費為限</td>\n",
       "      <td>1</td>\n",
       "    </tr>\n",
       "    <tr>\n",
       "      <th>2</th>\n",
       "      <td>所得稅法第十一條條文修正草案保險人員申報時得扣除一定比例之業務必要費用</td>\n",
       "      <td>1</td>\n",
       "    </tr>\n",
       "    <tr>\n",
       "      <th>3</th>\n",
       "      <td>土地稅法第二十八條之一條文修正草案土地贈與文教基金會未能免爭土地增值稅，修正之</td>\n",
       "      <td>1</td>\n",
       "    </tr>\n",
       "    <tr>\n",
       "      <th>4</th>\n",
       "      <td>敬老福利生活津貼暫行條例第三條條文修正草案放寬請領資格之門檻</td>\n",
       "      <td>1</td>\n",
       "    </tr>\n",
       "    <tr>\n",
       "      <th>5</th>\n",
       "      <td>洗錢防制法部分條文修正草案給予法官較大權限；起訴期間禁止被告的高消費行為</td>\n",
       "      <td>0</td>\n",
       "    </tr>\n",
       "    <tr>\n",
       "      <th>6</th>\n",
       "      <td>日據時代日本政府國庫券及債券處理條例草案就是保障日據時代持有日本債券者</td>\n",
       "      <td>0</td>\n",
       "    </tr>\n",
       "    <tr>\n",
       "      <th>7</th>\n",
       "      <td>大陸地區人民來臺從事觀光活動條例草案開放大陸人民觀光，振興經濟</td>\n",
       "      <td>0</td>\n",
       "    </tr>\n",
       "    <tr>\n",
       "      <th>8</th>\n",
       "      <td>限制欠稅人或欠稅營利事業負責人出境實施條例草案現行法令僅為行政命令位階</td>\n",
       "      <td>0</td>\n",
       "    </tr>\n",
       "    <tr>\n",
       "      <th>9</th>\n",
       "      <td>使用牌照稅法第七條條文修正草案民營汽車駕駛人訓練機構之教練車亦應免徵使用牌照稅</td>\n",
       "      <td>1</td>\n",
       "    </tr>\n",
       "  </tbody>\n",
       "</table>\n",
       "</div>"
      ],
      "text/plain": [
       "                                      text  pork_bill\n",
       "0          軍人撫卹條例第十八條條文修正草案落實軍人及眷屬之照顧（撫卹金）          1\n",
       "1       所得稅法第十七條條文修正草案學費之特別扣除額應以每人所繳之學雜費為限          1\n",
       "2      所得稅法第十一條條文修正草案保險人員申報時得扣除一定比例之業務必要費用          1\n",
       "3  土地稅法第二十八條之一條文修正草案土地贈與文教基金會未能免爭土地增值稅，修正之          1\n",
       "4           敬老福利生活津貼暫行條例第三條條文修正草案放寬請領資格之門檻          1\n",
       "5     洗錢防制法部分條文修正草案給予法官較大權限；起訴期間禁止被告的高消費行為          0\n",
       "6      日據時代日本政府國庫券及債券處理條例草案就是保障日據時代持有日本債券者          0\n",
       "7          大陸地區人民來臺從事觀光活動條例草案開放大陸人民觀光，振興經濟          0\n",
       "8      限制欠稅人或欠稅營利事業負責人出境實施條例草案現行法令僅為行政命令位階          0\n",
       "9  使用牌照稅法第七條條文修正草案民營汽車駕駛人訓練機構之教練車亦應免徵使用牌照稅          1"
      ]
     },
     "execution_count": 3,
     "metadata": {},
     "output_type": "execute_result"
    }
   ],
   "source": [
    "data.head(10)"
   ]
  },
  {
   "cell_type": "code",
   "execution_count": 4,
   "id": "f6160785-9522-4404-8f77-6df941869cde",
   "metadata": {
    "execution": {
     "iopub.execute_input": "2021-05-19T12:24:37.688447Z",
     "iopub.status.busy": "2021-05-19T12:24:37.688281Z",
     "iopub.status.idle": "2021-05-19T12:24:37.692745Z",
     "shell.execute_reply": "2021-05-19T12:24:37.692207Z",
     "shell.execute_reply.started": "2021-05-19T12:24:37.688428Z"
    },
    "tags": []
   },
   "outputs": [
    {
     "name": "stdout",
     "output_type": "stream",
     "text": [
      " Pork Legislation 792 \n",
      " None-Pork Legislation 399\n"
     ]
    }
   ],
   "source": [
    "print(\" Pork Legislation\", data['pork_bill'].value_counts()[0],'\\n', \n",
    "      \"None-Pork Legislation\", data['pork_bill'].value_counts()[1])"
   ]
  },
  {
   "cell_type": "markdown",
   "id": "5e6d677d-e200-40e6-9252-130eb02fc682",
   "metadata": {
    "execution": {
     "iopub.execute_input": "2021-05-16T17:01:03.001989Z",
     "iopub.status.busy": "2021-05-16T17:01:03.001801Z",
     "iopub.status.idle": "2021-05-16T17:01:03.004600Z",
     "shell.execute_reply": "2021-05-16T17:01:03.003789Z",
     "shell.execute_reply.started": "2021-05-16T17:01:03.001969Z"
    }
   },
   "source": [
    "#### (2) Tokenization"
   ]
  },
  {
   "cell_type": "code",
   "execution_count": 5,
   "id": "120e8b54-7f75-4ca6-a0d0-9872b1522e8e",
   "metadata": {
    "execution": {
     "iopub.execute_input": "2021-05-19T12:24:37.693927Z",
     "iopub.status.busy": "2021-05-19T12:24:37.693697Z",
     "iopub.status.idle": "2021-05-19T12:24:37.700741Z",
     "shell.execute_reply": "2021-05-19T12:24:37.700225Z",
     "shell.execute_reply.started": "2021-05-19T12:24:37.693906Z"
    },
    "tags": []
   },
   "outputs": [],
   "source": [
    "import collections\n",
    "import numpy as np\n",
    "import jieba\n",
    "from itertools import chain\n",
    "\n",
    "\n",
    "def jieba_cut(filename):\n",
    "    \"\"\"\n",
    "    cut Chinese and remove stop words\n",
    "    Reference: https://www.cnblogs.com/Luv-GEM/p/10836454.html\n",
    "    Stopwords: https://www.kaggle.com/rikdifos/english-and-chinese-stopwords?select=cn_stopwords.txt\n",
    "    \"\"\"\n",
    "    stop_list = [i.strip() for i in open('cn_stopwords.txt','r',encoding='utf-8')]  \n",
    "    news_cut = []\n",
    "    news_list = []\n",
    "    for line in filename:    \n",
    "        if line:\n",
    "            news_cut = list(jieba.cut(''.join(line),cut_all=False,HMM=True))  \n",
    "            news_list.append([word.strip() for word in news_cut if word not in stop_list and len(word.strip())>0]) \n",
    "    news_list = list(chain.from_iterable(news_list))  \n",
    "    return news_list\n",
    "\n",
    "def clearPucts(context):\n",
    "    \"\"\"\n",
    "    remove punctuation\n",
    "    ref: https://chenyuzuoo.github.io/posts/28001/\n",
    "    \"\"\"\n",
    "    context = re.sub(\"[\\s+\\.\\!\\/_,$%^*(+\\\"\\']+|[+——！，。？、~@#￥%……&*（）]+\", \"\", context)\n",
    "    context = re.sub(\"[【】╮╯▽╰╭★→「」]+\",\"\", context)\n",
    "    context = re.sub(\"！，❤。～《》：（）【】「」？”“；：、\",\"\",context)\n",
    "    context = re.sub(\"\\s\",\"\",context)\n",
    "    return context\n",
    "\n",
    "def seg_char(sent):\n",
    "    \"\"\"\n",
    "    cut Chinese and remove stop words\n",
    "    ref: https://blog.csdn.net/renyuanfang/article/details/86487367\n",
    "    \"\"\"\n",
    "    # split\n",
    "    pattern_char_1 = re.compile(r'([\\W])')\n",
    "    parts = pattern_char_1.split(sent)\n",
    "    parts = [p for p in parts if len(p.strip())>0]\n",
    "    # cut sentence\n",
    "    pattern = re.compile(r'([\\u4e00-\\u9fa5])')\n",
    "    chars = pattern.split(sent)\n",
    "    chars = [w for w in chars if len(w.strip())>0]\n",
    "    chars = ' '.join(chars)\n",
    "    return chars\n",
    "\n",
    "# import spacy\n",
    "# # python3 -m spacy download zh_core_web_sm\n",
    "# spacy_nlp = spacy.load(\"zh_core_web_sm\")\n",
    "\n",
    "# data_clean = [clearPucts(text) for text in data.text]\n",
    "# data_clean = [[spacy_nlp(sentence).vector for sentence in data] for data in data_clean]"
   ]
  },
  {
   "cell_type": "code",
   "execution_count": 6,
   "id": "25f4277c-001d-47a4-81d0-f5ac5ec5e5d3",
   "metadata": {
    "execution": {
     "iopub.execute_input": "2021-05-19T12:24:37.701929Z",
     "iopub.status.busy": "2021-05-19T12:24:37.701704Z",
     "iopub.status.idle": "2021-05-19T12:24:38.269169Z",
     "shell.execute_reply": "2021-05-19T12:24:38.268608Z",
     "shell.execute_reply.started": "2021-05-19T12:24:37.701910Z"
    },
    "tags": []
   },
   "outputs": [],
   "source": [
    "data_clean = [seg_char(text) for text in [clearPucts(text) for text in data.text]]\n",
    "\n",
    "tokenizer = tfds.deprecated.text.SubwordTextEncoder.build_from_corpus(\n",
    "    data_clean, target_vocab_size=2**18)\n",
    "\n",
    "data_inputs = [tokenizer.encode(sentence) for sentence in data_clean]"
   ]
  },
  {
   "cell_type": "markdown",
   "id": "089e65af-e49c-4d60-962e-a0a826809aa5",
   "metadata": {
    "execution": {
     "iopub.execute_input": "2021-05-16T17:01:47.611294Z",
     "iopub.status.busy": "2021-05-16T17:01:47.611020Z",
     "iopub.status.idle": "2021-05-16T17:01:47.614208Z",
     "shell.execute_reply": "2021-05-16T17:01:47.613487Z",
     "shell.execute_reply.started": "2021-05-16T17:01:47.611276Z"
    }
   },
   "source": [
    "#### (3) Padding"
   ]
  },
  {
   "cell_type": "code",
   "execution_count": 7,
   "id": "b801d231-972c-47e3-83c4-7375c2e11a18",
   "metadata": {
    "execution": {
     "iopub.execute_input": "2021-05-19T12:24:38.275721Z",
     "iopub.status.busy": "2021-05-19T12:24:38.275429Z",
     "iopub.status.idle": "2021-05-19T12:24:38.288675Z",
     "shell.execute_reply": "2021-05-19T12:24:38.288249Z",
     "shell.execute_reply.started": "2021-05-19T12:24:38.275662Z"
    },
    "tags": []
   },
   "outputs": [],
   "source": [
    "MAX_LEN = max([len(sentence) for sentence in data_clean])\n",
    "data_inputs = tf.keras.preprocessing.sequence.pad_sequences(data_inputs,\n",
    "                                                            value=0,\n",
    "                                                            padding=\"post\",\n",
    "                                                            maxlen=MAX_LEN)\n"
   ]
  },
  {
   "cell_type": "markdown",
   "id": "f69d90cf-ac3c-4e08-b46b-457d9708d832",
   "metadata": {
    "execution": {
     "iopub.execute_input": "2021-05-16T17:02:28.107037Z",
     "iopub.status.busy": "2021-05-16T17:02:28.106843Z",
     "iopub.status.idle": "2021-05-16T17:02:28.109696Z",
     "shell.execute_reply": "2021-05-16T17:02:28.108954Z",
     "shell.execute_reply.started": "2021-05-16T17:02:28.107017Z"
    }
   },
   "source": [
    "#### (4) Spliting Training/ Testing Set"
   ]
  },
  {
   "cell_type": "code",
   "execution_count": 8,
   "id": "42503355-eea3-4602-ae5a-ea18be84b8d1",
   "metadata": {
    "execution": {
     "iopub.execute_input": "2021-05-19T12:24:38.290267Z",
     "iopub.status.busy": "2021-05-19T12:24:38.290055Z",
     "iopub.status.idle": "2021-05-19T12:24:38.293525Z",
     "shell.execute_reply": "2021-05-19T12:24:38.292665Z",
     "shell.execute_reply.started": "2021-05-19T12:24:38.290248Z"
    },
    "tags": []
   },
   "outputs": [],
   "source": [
    "data_labels = data.pork_bill.values"
   ]
  },
  {
   "cell_type": "code",
   "execution_count": 9,
   "id": "19235117-f63a-4e06-a102-6efe98c37dbf",
   "metadata": {
    "execution": {
     "iopub.execute_input": "2021-05-19T12:24:38.295185Z",
     "iopub.status.busy": "2021-05-19T12:24:38.294901Z",
     "iopub.status.idle": "2021-05-19T12:24:38.300063Z",
     "shell.execute_reply": "2021-05-19T12:24:38.299472Z",
     "shell.execute_reply.started": "2021-05-19T12:24:38.295167Z"
    },
    "tags": []
   },
   "outputs": [
    {
     "name": "stdout",
     "output_type": "stream",
     "text": [
      "Shape of X Train: (797, 123) \n",
      "Shape of X Test : (394, 123) \n",
      "Shape of Y Trian: (797,) \n",
      "Shape of Y Test : (394,)\n"
     ]
    }
   ],
   "source": [
    "import numpy as np\n",
    "from sklearn.model_selection import train_test_split\n",
    "train_inputs, test_inputs, train_labels, test_labels = train_test_split(\n",
    "    data_inputs, data_labels, test_size=0.33, random_state=42)\n",
    "\n",
    "print(\"Shape of X Train:\", train_inputs.shape, '\\n'\n",
    "      \"Shape of X Test :\", test_inputs.shape,'\\n'\n",
    "      \"Shape of Y Trian:\", train_labels.shape , '\\n'\n",
    "      \"Shape of Y Test :\", test_labels.shape )"
   ]
  },
  {
   "cell_type": "code",
   "execution_count": 10,
   "id": "6f10cb5c-7c8d-4e1e-a987-11b8de8e42d0",
   "metadata": {
    "execution": {
     "iopub.execute_input": "2021-05-19T12:24:38.301421Z",
     "iopub.status.busy": "2021-05-19T12:24:38.301227Z",
     "iopub.status.idle": "2021-05-19T12:24:38.304685Z",
     "shell.execute_reply": "2021-05-19T12:24:38.304142Z",
     "shell.execute_reply.started": "2021-05-19T12:24:38.301405Z"
    },
    "tags": []
   },
   "outputs": [
    {
     "name": "stdout",
     "output_type": "stream",
     "text": [
      " Num of Train Set: 797 \n",
      " Not Pork vs Pork: {0: 527, 1: 270}\n"
     ]
    }
   ],
   "source": [
    "unique_train_labels, counts_train_labels = np.unique(train_labels, return_counts=True)\n",
    "\n",
    "print(' Num of Train Set:' , train_inputs.shape[0], '\\n'\n",
    "      ,'Not Pork vs Pork:', dict(zip(unique_train_labels, counts_train_labels)))"
   ]
  },
  {
   "cell_type": "code",
   "execution_count": 11,
   "id": "fedad623-02ba-4fad-b0b4-a094de7c39de",
   "metadata": {
    "execution": {
     "iopub.execute_input": "2021-05-19T12:24:38.305660Z",
     "iopub.status.busy": "2021-05-19T12:24:38.305541Z",
     "iopub.status.idle": "2021-05-19T12:24:38.308699Z",
     "shell.execute_reply": "2021-05-19T12:24:38.308282Z",
     "shell.execute_reply.started": "2021-05-19T12:24:38.305645Z"
    },
    "tags": []
   },
   "outputs": [
    {
     "name": "stdout",
     "output_type": "stream",
     "text": [
      " Num of Test Set: 394 \n",
      " Not Pork vs Pork: {0: 265, 1: 129}\n"
     ]
    }
   ],
   "source": [
    "unique_test_labels, counts_test_labels = np.unique(test_labels, return_counts=True)\n",
    "\n",
    "print(' Num of Test Set:' , test_inputs.shape[0], '\\n'\n",
    "      ,'Not Pork vs Pork:', dict(zip(unique_test_labels, counts_test_labels)))"
   ]
  },
  {
   "cell_type": "markdown",
   "id": "725f7feb-b93b-4d0b-bcbf-562240a79f8b",
   "metadata": {
    "execution": {
     "iopub.execute_input": "2021-05-16T17:04:13.375644Z",
     "iopub.status.busy": "2021-05-16T17:04:13.375440Z",
     "iopub.status.idle": "2021-05-16T17:04:13.378111Z",
     "shell.execute_reply": "2021-05-16T17:04:13.377464Z",
     "shell.execute_reply.started": "2021-05-16T17:04:13.375623Z"
    },
    "tags": []
   },
   "source": [
    "-------------------------\n",
    "\n",
    "\n",
    "### Stage 3: Model and Building"
   ]
  },
  {
   "cell_type": "markdown",
   "id": "4a0e74bf-eaf4-4043-8d23-88291d8ea344",
   "metadata": {
    "execution": {
     "iopub.execute_input": "2021-05-16T17:13:18.807725Z",
     "iopub.status.busy": "2021-05-16T17:13:18.807498Z",
     "iopub.status.idle": "2021-05-16T17:13:18.810574Z",
     "shell.execute_reply": "2021-05-16T17:13:18.809625Z",
     "shell.execute_reply.started": "2021-05-16T17:13:18.807701Z"
    }
   },
   "source": [
    "#### (1) Using the Subclassing API to Build Dynamic Model"
   ]
  },
  {
   "cell_type": "code",
   "execution_count": 12,
   "id": "1f18f9b1-5f4d-4d0a-baf4-2eebed7f34f2",
   "metadata": {
    "execution": {
     "iopub.execute_input": "2021-05-19T12:24:38.309773Z",
     "iopub.status.busy": "2021-05-19T12:24:38.309653Z",
     "iopub.status.idle": "2021-05-19T12:24:38.316503Z",
     "shell.execute_reply": "2021-05-19T12:24:38.315724Z",
     "shell.execute_reply.started": "2021-05-19T12:24:38.309758Z"
    },
    "tags": []
   },
   "outputs": [],
   "source": [
    "class DCNN(tf.keras.Model):\n",
    "    \n",
    "    def __init__(self,\n",
    "                 vocab_size,\n",
    "                 emb_dim=128,\n",
    "                 nb_filters=100,\n",
    "                 FFN_units=512,\n",
    "                 nb_classes=2,\n",
    "                 dropout_rate=0.1,\n",
    "                 training=False,\n",
    "                 name=\"dcnn\"):\n",
    "        super(DCNN, self).__init__(name=name)\n",
    "        \n",
    "        self.embedding = layers.Embedding(vocab_size, \n",
    "                                          emb_dim)\n",
    "        self.bigram = layers.Conv1D(filters=nb_filters, \n",
    "                                    kernel_size=2,\n",
    "                                    padding=\"valid\",\n",
    "                                    activation=\"relu\")\n",
    "        self.trigram = layers.Conv1D(filters=nb_filters,\n",
    "                                     kernel_size=3,\n",
    "                                     padding=\"valid\",\n",
    "                                     activation=\"relu\")\n",
    "        self.fourgram = layers.Conv1D(filters=nb_filters,\n",
    "                                      kernel_size=4,\n",
    "                                      padding=\"valid\",\n",
    "                                      activation=\"relu\")\n",
    "        self.pool = layers.GlobalMaxPool1D() # no training variable so we can\n",
    "                                             # use the same layer for each\n",
    "                                             # pooling step\n",
    "        self.dense_1 = layers.Dense(units=FFN_units, activation=\"relu\")\n",
    "        self.dropout = layers.Dropout(rate=dropout_rate)\n",
    "        self.last_dense = layers.Dense(units=1, activation=\"sigmoid\")\n",
    "    \n",
    "    def call(self, inputs, training):\n",
    "        x = self.embedding(inputs)\n",
    "        x_1 = self.bigram(x)\n",
    "        x_1 = self.pool(x_1)\n",
    "        x_2 = self.trigram(x)\n",
    "        x_2 = self.pool(x_2)\n",
    "        x_3 = self.fourgram(x)\n",
    "        x_3 = self.pool(x_3)\n",
    "        \n",
    "        merged = tf.concat([x_1, x_2, x_3], axis=-1) # (batch_size, 3 * nb_filters)\n",
    "        merged = self.dense_1(merged)\n",
    "        merged = self.dropout(merged, training)\n",
    "        output = self.last_dense(merged)        \n",
    "        return output\n"
   ]
  },
  {
   "cell_type": "code",
   "execution_count": 13,
   "id": "bfc02e93-3a0e-4c1c-b488-b2db98b53824",
   "metadata": {
    "execution": {
     "iopub.execute_input": "2021-05-19T12:24:38.317698Z",
     "iopub.status.busy": "2021-05-19T12:24:38.317523Z",
     "iopub.status.idle": "2021-05-19T12:24:38.339008Z",
     "shell.execute_reply": "2021-05-19T12:24:38.338480Z",
     "shell.execute_reply.started": "2021-05-19T12:24:38.317683Z"
    },
    "tags": []
   },
   "outputs": [],
   "source": [
    "VOCAB_SIZE = 1819 # tokenizer.vocab_size\n",
    "EMB_DIM = 200\n",
    "NB_FILTERS = 100\n",
    "FFN_UNITS = 256\n",
    "NB_CLASSES = 2 #len(set(train_labels))\n",
    "DROPOUT_RATE = 0.2\n",
    "BATCH_SIZE = 32\n",
    "NB_EPOCHS = 150\n",
    "\n",
    "Dcnn = DCNN(vocab_size=VOCAB_SIZE,\n",
    "            emb_dim=EMB_DIM,\n",
    "            nb_filters=NB_FILTERS,\n",
    "            FFN_units=FFN_UNITS,\n",
    "            nb_classes=NB_CLASSES,\n",
    "            dropout_rate=DROPOUT_RATE)"
   ]
  },
  {
   "cell_type": "markdown",
   "id": "b0ec8f51-6ed8-49fa-9d5e-c6929184bdf1",
   "metadata": {
    "execution": {
     "iopub.execute_input": "2021-05-16T18:43:59.279424Z",
     "iopub.status.busy": "2021-05-16T18:43:59.279202Z",
     "iopub.status.idle": "2021-05-16T18:43:59.282718Z",
     "shell.execute_reply": "2021-05-16T18:43:59.281823Z",
     "shell.execute_reply.started": "2021-05-16T18:43:59.279399Z"
    }
   },
   "source": [
    "#### (2) Compile and Summary of the Model"
   ]
  },
  {
   "cell_type": "code",
   "execution_count": 14,
   "id": "2cce0414-05eb-4f79-9c27-bca9c91a2903",
   "metadata": {
    "execution": {
     "iopub.execute_input": "2021-05-19T12:24:38.340676Z",
     "iopub.status.busy": "2021-05-19T12:24:38.340480Z",
     "iopub.status.idle": "2021-05-19T12:24:38.387074Z",
     "shell.execute_reply": "2021-05-19T12:24:38.386491Z",
     "shell.execute_reply.started": "2021-05-19T12:24:38.340657Z"
    },
    "tags": []
   },
   "outputs": [
    {
     "name": "stdout",
     "output_type": "stream",
     "text": [
      "Model: \"dcnn\"\n",
      "_________________________________________________________________\n",
      "Layer (type)                 Output Shape              Param #   \n",
      "=================================================================\n",
      "embedding (Embedding)        multiple                  363800    \n",
      "_________________________________________________________________\n",
      "conv1d (Conv1D)              multiple                  40100     \n",
      "_________________________________________________________________\n",
      "conv1d_1 (Conv1D)            multiple                  60100     \n",
      "_________________________________________________________________\n",
      "conv1d_2 (Conv1D)            multiple                  80100     \n",
      "_________________________________________________________________\n",
      "global_max_pooling1d (Global multiple                  0         \n",
      "_________________________________________________________________\n",
      "dense (Dense)                multiple                  77056     \n",
      "_________________________________________________________________\n",
      "dropout (Dropout)            multiple                  0         \n",
      "_________________________________________________________________\n",
      "dense_1 (Dense)              multiple                  257       \n",
      "=================================================================\n",
      "Total params: 621,413\n",
      "Trainable params: 621,413\n",
      "Non-trainable params: 0\n",
      "_________________________________________________________________\n"
     ]
    }
   ],
   "source": [
    "Dcnn.compile(loss=\"binary_crossentropy\", optimizer=\"adam\", metrics=[\"accuracy\"])\n",
    "Dcnn.build(input_shape = (123 , EMB_DIM)) # (train_inputs.shape[1] , EMB_DIM)\n",
    "Dcnn.summary()"
   ]
  },
  {
   "cell_type": "markdown",
   "id": "3880d2a4-2152-43de-bad3-34e67e97469e",
   "metadata": {
    "tags": []
   },
   "source": [
    "#### (3) Check Point Path"
   ]
  },
  {
   "cell_type": "code",
   "execution_count": 15,
   "id": "e4115bec-233a-4abc-b081-05f526c4687b",
   "metadata": {
    "execution": {
     "iopub.execute_input": "2021-05-19T12:24:38.388086Z",
     "iopub.status.busy": "2021-05-19T12:24:38.387948Z",
     "iopub.status.idle": "2021-05-19T12:24:38.424348Z",
     "shell.execute_reply": "2021-05-19T12:24:38.423845Z",
     "shell.execute_reply.started": "2021-05-19T12:24:38.388068Z"
    },
    "tags": []
   },
   "outputs": [
    {
     "name": "stdout",
     "output_type": "stream",
     "text": [
      "Checkpoint Located!!\n"
     ]
    }
   ],
   "source": [
    "checkpoint_path = \"checkpoint_recode\"\n",
    "\n",
    "ckpt = tf.train.Checkpoint(Dcnn=Dcnn)\n",
    "\n",
    "ckpt_manager = tf.train.CheckpointManager(ckpt, checkpoint_path, max_to_keep=5)\n",
    "\n",
    "if ckpt_manager.latest_checkpoint:\n",
    "    ckpt.restore(ckpt_manager.latest_checkpoint)\n",
    "    print(\"Checkpoint Located!!\")"
   ]
  },
  {
   "cell_type": "markdown",
   "id": "73d70667-275f-40c0-bd71-6b47e9722798",
   "metadata": {
    "execution": {
     "iopub.execute_input": "2021-05-16T17:47:13.442664Z",
     "iopub.status.busy": "2021-05-16T17:47:13.442381Z",
     "iopub.status.idle": "2021-05-16T17:47:13.448371Z",
     "shell.execute_reply": "2021-05-16T17:47:13.446970Z",
     "shell.execute_reply.started": "2021-05-16T17:47:13.442620Z"
    }
   },
   "source": [
    "-------------------------\n",
    "\n",
    "### Stage 4: Train the Model"
   ]
  },
  {
   "cell_type": "code",
   "execution_count": 16,
   "id": "cc975047-5a58-46dc-b427-262796d9b625",
   "metadata": {
    "execution": {
     "iopub.execute_input": "2021-05-19T12:24:38.425459Z",
     "iopub.status.busy": "2021-05-19T12:24:38.425292Z",
     "iopub.status.idle": "2021-05-19T12:24:38.427932Z",
     "shell.execute_reply": "2021-05-19T12:24:38.427387Z",
     "shell.execute_reply.started": "2021-05-19T12:24:38.425439Z"
    },
    "tags": []
   },
   "outputs": [],
   "source": [
    "early_stop = EarlyStopping(monitor='val_loss',patience=5)"
   ]
  },
  {
   "cell_type": "code",
   "execution_count": 17,
   "id": "baf0cade-2c45-43b2-9782-6a8c6e570153",
   "metadata": {
    "execution": {
     "iopub.execute_input": "2021-05-19T12:24:38.428920Z",
     "iopub.status.busy": "2021-05-19T12:24:38.428783Z",
     "iopub.status.idle": "2021-05-19T12:24:44.524093Z",
     "shell.execute_reply": "2021-05-19T12:24:44.523543Z",
     "shell.execute_reply.started": "2021-05-19T12:24:38.428902Z"
    },
    "tags": []
   },
   "outputs": [
    {
     "name": "stdout",
     "output_type": "stream",
     "text": [
      "Epoch 1/150\n",
      "25/25 [==============================] - 2s 40ms/step - loss: 0.0022 - accuracy: 0.9987 - val_loss: 0.4611 - val_accuracy: 0.9112\n",
      "Epoch 2/150\n",
      "25/25 [==============================] - 1s 36ms/step - loss: 0.0019 - accuracy: 0.9987 - val_loss: 0.4628 - val_accuracy: 0.9112\n",
      "Epoch 3/150\n",
      "25/25 [==============================] - 1s 35ms/step - loss: 0.0028 - accuracy: 0.9975 - val_loss: 0.4707 - val_accuracy: 0.9086\n",
      "Epoch 4/150\n",
      "25/25 [==============================] - 1s 35ms/step - loss: 0.0020 - accuracy: 0.9987 - val_loss: 0.4683 - val_accuracy: 0.9112\n",
      "Epoch 5/150\n",
      "25/25 [==============================] - 1s 34ms/step - loss: 0.0020 - accuracy: 0.9987 - val_loss: 0.4734 - val_accuracy: 0.9112\n",
      "Epoch 6/150\n",
      "25/25 [==============================] - 1s 36ms/step - loss: 0.0016 - accuracy: 0.9987 - val_loss: 0.4758 - val_accuracy: 0.9112\n"
     ]
    },
    {
     "data": {
      "text/plain": [
       "'checkpoint_recode/ckpt-11'"
      ]
     },
     "execution_count": 17,
     "metadata": {},
     "output_type": "execute_result"
    }
   ],
   "source": [
    "Dcnn.fit(train_inputs,\n",
    "         train_labels,\n",
    "         validation_data=(test_inputs, test_labels),\n",
    "         batch_size=BATCH_SIZE,\n",
    "         epochs=NB_EPOCHS,\n",
    "         callbacks=[early_stop])\n",
    "ckpt_manager.save()"
   ]
  },
  {
   "cell_type": "markdown",
   "id": "3b0ac256-ab81-4ff5-8430-48f8bba50126",
   "metadata": {
    "execution": {
     "iopub.execute_input": "2021-05-16T18:23:25.926977Z",
     "iopub.status.busy": "2021-05-16T18:23:25.926754Z",
     "iopub.status.idle": "2021-05-16T18:23:25.931072Z",
     "shell.execute_reply": "2021-05-16T18:23:25.930041Z",
     "shell.execute_reply.started": "2021-05-16T18:23:25.926952Z"
    }
   },
   "source": [
    "-------------------------\n",
    "\n",
    "### Stage 5: Evaluation"
   ]
  },
  {
   "cell_type": "code",
   "execution_count": 18,
   "id": "58099cc1-19e0-443a-b960-7ae4d67344d3",
   "metadata": {
    "execution": {
     "iopub.execute_input": "2021-05-19T12:24:44.525270Z",
     "iopub.status.busy": "2021-05-19T12:24:44.525030Z",
     "iopub.status.idle": "2021-05-19T12:24:44.533215Z",
     "shell.execute_reply": "2021-05-19T12:24:44.532687Z",
     "shell.execute_reply.started": "2021-05-19T12:24:44.525247Z"
    },
    "tags": []
   },
   "outputs": [
    {
     "data": {
      "text/html": [
       "<div>\n",
       "<style scoped>\n",
       "    .dataframe tbody tr th:only-of-type {\n",
       "        vertical-align: middle;\n",
       "    }\n",
       "\n",
       "    .dataframe tbody tr th {\n",
       "        vertical-align: top;\n",
       "    }\n",
       "\n",
       "    .dataframe thead th {\n",
       "        text-align: right;\n",
       "    }\n",
       "</style>\n",
       "<table border=\"1\" class=\"dataframe\">\n",
       "  <thead>\n",
       "    <tr style=\"text-align: right;\">\n",
       "      <th></th>\n",
       "      <th>loss</th>\n",
       "      <th>accuracy</th>\n",
       "      <th>val_loss</th>\n",
       "      <th>val_accuracy</th>\n",
       "    </tr>\n",
       "  </thead>\n",
       "  <tbody>\n",
       "    <tr>\n",
       "      <th>0</th>\n",
       "      <td>0.002217</td>\n",
       "      <td>0.998745</td>\n",
       "      <td>0.461126</td>\n",
       "      <td>0.911168</td>\n",
       "    </tr>\n",
       "    <tr>\n",
       "      <th>1</th>\n",
       "      <td>0.001946</td>\n",
       "      <td>0.998745</td>\n",
       "      <td>0.462828</td>\n",
       "      <td>0.911168</td>\n",
       "    </tr>\n",
       "    <tr>\n",
       "      <th>2</th>\n",
       "      <td>0.002769</td>\n",
       "      <td>0.997491</td>\n",
       "      <td>0.470669</td>\n",
       "      <td>0.908629</td>\n",
       "    </tr>\n",
       "    <tr>\n",
       "      <th>3</th>\n",
       "      <td>0.002043</td>\n",
       "      <td>0.998745</td>\n",
       "      <td>0.468317</td>\n",
       "      <td>0.911168</td>\n",
       "    </tr>\n",
       "    <tr>\n",
       "      <th>4</th>\n",
       "      <td>0.001961</td>\n",
       "      <td>0.998745</td>\n",
       "      <td>0.473415</td>\n",
       "      <td>0.911168</td>\n",
       "    </tr>\n",
       "    <tr>\n",
       "      <th>5</th>\n",
       "      <td>0.001597</td>\n",
       "      <td>0.998745</td>\n",
       "      <td>0.475850</td>\n",
       "      <td>0.911168</td>\n",
       "    </tr>\n",
       "  </tbody>\n",
       "</table>\n",
       "</div>"
      ],
      "text/plain": [
       "       loss  accuracy  val_loss  val_accuracy\n",
       "0  0.002217  0.998745  0.461126      0.911168\n",
       "1  0.001946  0.998745  0.462828      0.911168\n",
       "2  0.002769  0.997491  0.470669      0.908629\n",
       "3  0.002043  0.998745  0.468317      0.911168\n",
       "4  0.001961  0.998745  0.473415      0.911168\n",
       "5  0.001597  0.998745  0.475850      0.911168"
      ]
     },
     "execution_count": 18,
     "metadata": {},
     "output_type": "execute_result"
    }
   ],
   "source": [
    "losses = pd.DataFrame(Dcnn.history.history)\n",
    "losses"
   ]
  },
  {
   "cell_type": "markdown",
   "id": "8093326d-b6b8-4a35-9b0f-124ad3fecd8c",
   "metadata": {},
   "source": [
    "##### Too much overfitting due toless validation set ⚠️⚠️⚠️⚠️"
   ]
  },
  {
   "cell_type": "code",
   "execution_count": 19,
   "id": "f37a760f-b388-4051-a78d-295bce1f214a",
   "metadata": {
    "execution": {
     "iopub.execute_input": "2021-05-19T12:24:44.534186Z",
     "iopub.status.busy": "2021-05-19T12:24:44.534048Z",
     "iopub.status.idle": "2021-05-19T12:24:44.810152Z",
     "shell.execute_reply": "2021-05-19T12:24:44.809649Z",
     "shell.execute_reply.started": "2021-05-19T12:24:44.534168Z"
    },
    "tags": []
   },
   "outputs": [
    {
     "data": {
      "text/plain": [
       "<AxesSubplot:>"
      ]
     },
     "execution_count": 19,
     "metadata": {},
     "output_type": "execute_result"
    },
    {
     "data": {
      "image/png": "[encoded data removed]",
      "text/plain": [
       "<Figure size 432x288 with 1 Axes>"
      ]
     },
     "metadata": {
      "needs_background": "light"
     },
     "output_type": "display_data"
    },
    {
     "data": {
      "image/png": "[encoded data removed]",
      "text/plain": [
       "<Figure size 432x288 with 1 Axes>"
      ]
     },
     "metadata": {
      "needs_background": "light"
     },
     "output_type": "display_data"
    }
   ],
   "source": [
    "losses[['accuracy','val_accuracy']].plot()\n",
    "losses[['loss','val_loss']].plot()"
   ]
  },
  {
   "cell_type": "code",
   "execution_count": 20,
   "id": "44300a6c-8da8-43cd-ada0-208a99b6b9d7",
   "metadata": {
    "execution": {
     "iopub.execute_input": "2021-05-19T12:24:44.811552Z",
     "iopub.status.busy": "2021-05-19T12:24:44.811135Z",
     "iopub.status.idle": "2021-05-19T12:24:44.814200Z",
     "shell.execute_reply": "2021-05-19T12:24:44.813596Z",
     "shell.execute_reply.started": "2021-05-19T12:24:44.811531Z"
    },
    "tags": []
   },
   "outputs": [],
   "source": [
    "from sklearn.metrics import classification_report,confusion_matrix"
   ]
  },
  {
   "cell_type": "code",
   "execution_count": 21,
   "id": "17760825-eb35-4f8c-88a0-45e94387c08d",
   "metadata": {
    "execution": {
     "iopub.execute_input": "2021-05-19T12:24:44.815235Z",
     "iopub.status.busy": "2021-05-19T12:24:44.815088Z",
     "iopub.status.idle": "2021-05-19T12:24:44.919976Z",
     "shell.execute_reply": "2021-05-19T12:24:44.919336Z",
     "shell.execute_reply.started": "2021-05-19T12:24:44.815217Z"
    },
    "tags": []
   },
   "outputs": [
    {
     "name": "stdout",
     "output_type": "stream",
     "text": [
      "13/13 [==============================] - 0s 5ms/step - loss: 0.4758 - accuracy: 0.9112\n",
      "[0.4758498966693878, 0.9111675024032593]\n"
     ]
    }
   ],
   "source": [
    "evaluation_model = Dcnn.evaluate(test_inputs, test_labels, batch_size=BATCH_SIZE)\n",
    "print(evaluation_model)"
   ]
  },
  {
   "cell_type": "code",
   "execution_count": 22,
   "id": "c9a3f93d-4398-418c-b511-69594874cc5a",
   "metadata": {
    "execution": {
     "iopub.execute_input": "2021-05-19T12:24:44.921126Z",
     "iopub.status.busy": "2021-05-19T12:24:44.920834Z",
     "iopub.status.idle": "2021-05-19T12:24:45.085367Z",
     "shell.execute_reply": "2021-05-19T12:24:45.084744Z",
     "shell.execute_reply.started": "2021-05-19T12:24:44.921104Z"
    },
    "tags": []
   },
   "outputs": [
    {
     "name": "stdout",
     "output_type": "stream",
     "text": [
      "              precision    recall  f1-score   support\n",
      "\n",
      "           0       0.92      0.97      0.94       265\n",
      "           1       0.93      0.83      0.88       129\n",
      "\n",
      "    accuracy                           0.92       394\n",
      "   macro avg       0.93      0.90      0.91       394\n",
      "weighted avg       0.92      0.92      0.92       394\n",
      "\n"
     ]
    }
   ],
   "source": [
    "# pd.DataFrame(confusion_matrix(test_labels,predictions))\n",
    "predictions = Dcnn.predict(test_inputs)\n",
    "predictions = np.where(predictions >0.8 , 1, 0)\n",
    "print(classification_report(test_labels, predictions))"
   ]
  },
  {
   "cell_type": "code",
   "execution_count": 23,
   "id": "4767688b-bfc8-4dc4-b8ec-2252f7791534",
   "metadata": {
    "execution": {
     "iopub.execute_input": "2021-05-19T12:24:45.086280Z",
     "iopub.status.busy": "2021-05-19T12:24:45.086135Z",
     "iopub.status.idle": "2021-05-19T12:24:45.093864Z",
     "shell.execute_reply": "2021-05-19T12:24:45.093296Z",
     "shell.execute_reply.started": "2021-05-19T12:24:45.086262Z"
    },
    "tags": []
   },
   "outputs": [
    {
     "data": {
      "text/html": [
       "<div>\n",
       "<style scoped>\n",
       "    .dataframe tbody tr th:only-of-type {\n",
       "        vertical-align: middle;\n",
       "    }\n",
       "\n",
       "    .dataframe tbody tr th {\n",
       "        vertical-align: top;\n",
       "    }\n",
       "\n",
       "    .dataframe thead th {\n",
       "        text-align: right;\n",
       "    }\n",
       "</style>\n",
       "<table border=\"1\" class=\"dataframe\">\n",
       "  <thead>\n",
       "    <tr style=\"text-align: right;\">\n",
       "      <th></th>\n",
       "      <th>Predictions: Not Pork(0)</th>\n",
       "      <th>Predictions:Pork(1)</th>\n",
       "    </tr>\n",
       "  </thead>\n",
       "  <tbody>\n",
       "    <tr>\n",
       "      <th>Acutal: Not Pork(0)</th>\n",
       "      <td>257</td>\n",
       "      <td>8</td>\n",
       "    </tr>\n",
       "    <tr>\n",
       "      <th>Acutal: Pork (1)</th>\n",
       "      <td>22</td>\n",
       "      <td>107</td>\n",
       "    </tr>\n",
       "  </tbody>\n",
       "</table>\n",
       "</div>"
      ],
      "text/plain": [
       "                     Predictions: Not Pork(0)  Predictions:Pork(1)\n",
       "Acutal: Not Pork(0)                       257                    8\n",
       "Acutal: Pork (1)                           22                  107"
      ]
     },
     "execution_count": 23,
     "metadata": {},
     "output_type": "execute_result"
    }
   ],
   "source": [
    "t = pd.DataFrame(confusion_matrix(test_labels,predictions), \n",
    "             columns=['Predictions: Not Pork(0)','Predictions:Pork(1)'])\n",
    "t.index = ['Acutal: Not Pork(0)', 'Acutal: Pork (1)']\n",
    "t"
   ]
  },
  {
   "cell_type": "markdown",
   "id": "d0416d6f-5e46-47c9-abad-f344bea7a94a",
   "metadata": {},
   "source": [
    "-------------------------\n",
    "\n",
    "### Stage 6: Try the Model with New Data and Export an End-to-end Model\n"
   ]
  },
  {
   "cell_type": "markdown",
   "id": "394b9a6e-0130-4af2-88e5-efe91cf9f348",
   "metadata": {
    "execution": {
     "iopub.execute_input": "2021-05-16T22:53:41.558105Z",
     "iopub.status.busy": "2021-05-16T22:53:41.557872Z",
     "iopub.status.idle": "2021-05-16T22:53:41.560984Z",
     "shell.execute_reply": "2021-05-16T22:53:41.560122Z",
     "shell.execute_reply.started": "2021-05-16T22:53:41.558080Z"
    }
   },
   "source": [
    "#### (1) Test New Dataset from 200 samples from Leislative Questions"
   ]
  },
  {
   "cell_type": "code",
   "execution_count": 24,
   "id": "632bf33e-1df7-46c5-9a67-ab7141a949c2",
   "metadata": {
    "execution": {
     "iopub.execute_input": "2021-05-19T12:24:45.099225Z",
     "iopub.status.busy": "2021-05-19T12:24:45.099026Z",
     "iopub.status.idle": "2021-05-19T12:24:45.101998Z",
     "shell.execute_reply": "2021-05-19T12:24:45.101420Z",
     "shell.execute_reply.started": "2021-05-19T12:24:45.099202Z"
    },
    "tags": []
   },
   "outputs": [],
   "source": [
    "def as_num(x):\n",
    "    \"\"\"\n",
    "    keep 10 decimals\n",
    "    \"\"\"\n",
    "    y = '{:.15f}'.format(x) \n",
    "    return y"
   ]
  },
  {
   "cell_type": "code",
   "execution_count": null,
   "id": "b4cb42fc-69eb-4b1c-8ff4-2ea7614582a5",
   "metadata": {
    "tags": []
   },
   "outputs": [],
   "source": []
  },
  {
   "cell_type": "code",
   "execution_count": 25,
   "id": "06ea7d54-49e9-4363-8304-d1dabaf3beb4",
   "metadata": {
    "execution": {
     "iopub.execute_input": "2021-05-19T12:24:45.103565Z",
     "iopub.status.busy": "2021-05-19T12:24:45.103391Z",
     "iopub.status.idle": "2021-05-19T12:24:45.348464Z",
     "shell.execute_reply": "2021-05-19T12:24:45.347882Z",
     "shell.execute_reply.started": "2021-05-19T12:24:45.103546Z"
    },
    "tags": []
   },
   "outputs": [],
   "source": [
    "import pandas as pd\n",
    "import random\n",
    "\n",
    "# test the trined model using new text from 200 samples from Leislative Questions\n",
    "LQ6 = pd.read_csv('data/LQ_6th.csv')\n",
    "\n",
    "# drop '0': legislor  never have proposed any legisaltive questions. \n",
    "LQ6 = LQ6[LQ6['title'].isin(['0'])== False]\n",
    "\n",
    "# select text with number of charecters within EMB_DIM; len(sub_set) = 11162\n",
    "# sample_df = LQ6.loc[[len(char_num) for char_num in LQ6.title if len(char_num) < MAX_LEN], ['legislator','title', 'topic', 'category', 'keywords', 'ques_type']].reset_index(drop=True)\n",
    "sample_df = LQ6.iloc[random.sample(range(len(LQ6)), 2000)][['legislator', 'title', 'topic', 'category', 'keywords', 'ques_type']]\n",
    "sub_set = [seg_char(text) for text in [clearPucts(text) for text in sample_df.title]]\n"
   ]
  },
  {
   "cell_type": "markdown",
   "id": "68cc06a7-27d7-4007-949d-f7df81246e25",
   "metadata": {
    "tags": []
   },
   "source": [
    "##### Top 10 of 2000 Sampled Legislative Questions"
   ]
  },
  {
   "cell_type": "code",
   "execution_count": 26,
   "id": "d4b618c9-8c4b-40ec-a396-b4679233197e",
   "metadata": {
    "execution": {
     "iopub.execute_input": "2021-05-19T12:24:45.349640Z",
     "iopub.status.busy": "2021-05-19T12:24:45.349434Z",
     "iopub.status.idle": "2021-05-19T12:24:52.797999Z",
     "shell.execute_reply": "2021-05-19T12:24:52.797499Z",
     "shell.execute_reply.started": "2021-05-19T12:24:45.349608Z"
    },
    "tags": []
   },
   "outputs": [
    {
     "data": {
      "text/html": [
       "<div>\n",
       "<style scoped>\n",
       "    .dataframe tbody tr th:only-of-type {\n",
       "        vertical-align: middle;\n",
       "    }\n",
       "\n",
       "    .dataframe tbody tr th {\n",
       "        vertical-align: top;\n",
       "    }\n",
       "\n",
       "    .dataframe thead th {\n",
       "        text-align: right;\n",
       "    }\n",
       "</style>\n",
       "<table border=\"1\" class=\"dataframe\">\n",
       "  <thead>\n",
       "    <tr style=\"text-align: right;\">\n",
       "      <th></th>\n",
       "      <th>legislator</th>\n",
       "      <th>Pork Value(Constituency Interest)</th>\n",
       "      <th>Legislative Questions</th>\n",
       "      <th>Topic</th>\n",
       "      <th>Key Word</th>\n",
       "    </tr>\n",
       "  </thead>\n",
       "  <tbody>\n",
       "    <tr>\n",
       "      <th>3390</th>\n",
       "      <td>林建榮</td>\n",
       "      <td>0.997636079788208</td>\n",
       "      <td>為政府應信守誠信及信賴保護原則，對公教人員一次退休金、公保養老給付優惠存款金額及18%存款利...</td>\n",
       "      <td>存款 ; 公務員退休 ; 利息</td>\n",
       "      <td>優惠存款 ; 退休金</td>\n",
       "    </tr>\n",
       "    <tr>\n",
       "      <th>7690</th>\n",
       "      <td>羅世雄</td>\n",
       "      <td>0.983991324901581</td>\n",
       "      <td>鑑於教育部一綱多本實施多年，衍生諸多問題，要求教育部應對一綱多本政策作通盤檢討，規劃相關配套...</td>\n",
       "      <td>教育政策 ; 國民教育</td>\n",
       "      <td>一綱多本</td>\n",
       "    </tr>\n",
       "    <tr>\n",
       "      <th>38</th>\n",
       "      <td>丁守中</td>\n",
       "      <td>0.983661413192749</td>\n",
       "      <td>針就日前民眾向本席陳情，政府將領取政府微薄退休金之公務機關司機、工友，列為不得請領敬老福利生...</td>\n",
       "      <td>退休金 ; 老年給付</td>\n",
       "      <td>退休金 ; 司機 ; 工友 ; 敬老福利生活津貼</td>\n",
       "    </tr>\n",
       "    <tr>\n",
       "      <th>4459</th>\n",
       "      <td>林重謨</td>\n",
       "      <td>0.969638943672180</td>\n",
       "      <td>謨針對台商子女與各階層子女教育資源補助分配不均，所引發之社會疑慮，特向行政院提出質詢。</td>\n",
       "      <td>教育補助</td>\n",
       "      <td>台商子女</td>\n",
       "    </tr>\n",
       "    <tr>\n",
       "      <th>10471</th>\n",
       "      <td>馮定國</td>\n",
       "      <td>0.960743188858032</td>\n",
       "      <td>鑒於國內經濟結構的快速調整，與人口高齡化的進展，未來中高齡失業問題必將日益嚴重，致使國人老年...</td>\n",
       "      <td>老人福利</td>\n",
       "      <td>高齡化 ; 中高齡失業</td>\n",
       "    </tr>\n",
       "    <tr>\n",
       "      <th>4790</th>\n",
       "      <td>楊瓊瓔</td>\n",
       "      <td>0.955101132392883</td>\n",
       "      <td>鑒於日前行政院擬於明年四月全面取消四十二萬榮民的醫療補助，且校、將級榮民的部分負擔，也將由目...</td>\n",
       "      <td>榮民醫療 ; 榮民福利</td>\n",
       "      <td>榮民醫療補助</td>\n",
       "    </tr>\n",
       "    <tr>\n",
       "      <th>4435</th>\n",
       "      <td>林重謨</td>\n",
       "      <td>0.941002488136292</td>\n",
       "      <td>針對彰化縣教育經費不足，急需中央補助，特向行政院提出緊急質詢。</td>\n",
       "      <td>地方財政 ; 教育經費</td>\n",
       "      <td>彰化縣 ; 教育經費</td>\n",
       "    </tr>\n",
       "    <tr>\n",
       "      <th>4382</th>\n",
       "      <td>林進興</td>\n",
       "      <td>0.939083576202393</td>\n",
       "      <td>鑒於今年八月，高中職及五專登記分發放榜，眾多私立高中職校嚴重招生不足，連公立的高中職校也有五...</td>\n",
       "      <td>高中 ; 學校招生</td>\n",
       "      <td>高中職 ; 五專 ; 招生不足</td>\n",
       "    </tr>\n",
       "    <tr>\n",
       "      <th>4457</th>\n",
       "      <td>林重謨</td>\n",
       "      <td>0.920966327190399</td>\n",
       "      <td>針對台灣農產品輸日，項目少、關稅高等問題，特向行政院提出質詢。</td>\n",
       "      <td>農產品貿易</td>\n",
       "      <td>農產品 ; 關稅高</td>\n",
       "    </tr>\n",
       "    <tr>\n",
       "      <th>625</th>\n",
       "      <td>吳成典</td>\n",
       "      <td>0.914839148521423</td>\n",
       "      <td>針對離島金門地區現有公車57輛，其中車齡7年以上公車達17輛之多，為維護行車安全，建請政府補...</td>\n",
       "      <td>政府補助 ; 客運業</td>\n",
       "      <td>行車安全</td>\n",
       "    </tr>\n",
       "  </tbody>\n",
       "</table>\n",
       "</div>"
      ],
      "text/plain": [
       "      legislator Pork Value(Constituency Interest)  \\\n",
       "3390         林建榮                 0.997636079788208   \n",
       "7690         羅世雄                 0.983991324901581   \n",
       "38           丁守中                 0.983661413192749   \n",
       "4459         林重謨                 0.969638943672180   \n",
       "10471        馮定國                 0.960743188858032   \n",
       "4790         楊瓊瓔                 0.955101132392883   \n",
       "4435         林重謨                 0.941002488136292   \n",
       "4382         林進興                 0.939083576202393   \n",
       "4457         林重謨                 0.920966327190399   \n",
       "625          吳成典                 0.914839148521423   \n",
       "\n",
       "                                  Legislative Questions             Topic  \\\n",
       "3390   為政府應信守誠信及信賴保護原則，對公教人員一次退休金、公保養老給付優惠存款金額及18%存款利...  存款 ; 公務員退休 ; 利息   \n",
       "7690   鑑於教育部一綱多本實施多年，衍生諸多問題，要求教育部應對一綱多本政策作通盤檢討，規劃相關配套...      教育政策 ; 國民教育   \n",
       "38     針就日前民眾向本席陳情，政府將領取政府微薄退休金之公務機關司機、工友，列為不得請領敬老福利生...       退休金 ; 老年給付   \n",
       "4459         謨針對台商子女與各階層子女教育資源補助分配不均，所引發之社會疑慮，特向行政院提出質詢。             教育補助   \n",
       "10471  鑒於國內經濟結構的快速調整，與人口高齡化的進展，未來中高齡失業問題必將日益嚴重，致使國人老年...             老人福利   \n",
       "4790   鑒於日前行政院擬於明年四月全面取消四十二萬榮民的醫療補助，且校、將級榮民的部分負擔，也將由目...      榮民醫療 ; 榮民福利   \n",
       "4435                     針對彰化縣教育經費不足，急需中央補助，特向行政院提出緊急質詢。      地方財政 ; 教育經費   \n",
       "4382   鑒於今年八月，高中職及五專登記分發放榜，眾多私立高中職校嚴重招生不足，連公立的高中職校也有五...        高中 ; 學校招生   \n",
       "4457                     針對台灣農產品輸日，項目少、關稅高等問題，特向行政院提出質詢。            農產品貿易   \n",
       "625    針對離島金門地區現有公車57輛，其中車齡7年以上公車達17輛之多，為維護行車安全，建請政府補...       政府補助 ; 客運業   \n",
       "\n",
       "                       Key Word  \n",
       "3390                 優惠存款 ; 退休金  \n",
       "7690                       一綱多本  \n",
       "38     退休金 ; 司機 ; 工友 ; 敬老福利生活津貼  \n",
       "4459                       台商子女  \n",
       "10471               高齡化 ; 中高齡失業  \n",
       "4790                     榮民醫療補助  \n",
       "4435                 彰化縣 ; 教育經費  \n",
       "4382            高中職 ; 五專 ; 招生不足  \n",
       "4457                  農產品 ; 關稅高  \n",
       "625                        行車安全  "
      ]
     },
     "execution_count": 26,
     "metadata": {},
     "output_type": "execute_result"
    }
   ],
   "source": [
    "pd.DataFrame(\n",
    "    {'legislator': sample_df.legislator,\n",
    "     'Pork Value(Constituency Interest)':[as_num(Dcnn(np.array([tokenizer.encode(line)]), training=True).numpy()[0][0]) for line in sub_set],\n",
    "     'Legislative Questions ': sample_df.title,\n",
    "     'Topic': sample_df.topic,\n",
    "     'Key Word':sample_df.keywords}).sort_values(by=['Pork Value(Constituency Interest)'], ascending = False).head(10)"
   ]
  },
  {
   "cell_type": "markdown",
   "id": "6a6d4b15-3e05-427d-a664-8c8ce4e6622c",
   "metadata": {},
   "source": [
    "##### Last 10 Rows of 2000 Sampled Legislative Questions"
   ]
  },
  {
   "cell_type": "code",
   "execution_count": 27,
   "id": "369a7336-dc9d-4883-b919-b19611b5ad39",
   "metadata": {
    "execution": {
     "iopub.execute_input": "2021-05-19T12:24:52.799809Z",
     "iopub.status.busy": "2021-05-19T12:24:52.799537Z",
     "iopub.status.idle": "2021-05-19T12:24:59.639677Z",
     "shell.execute_reply": "2021-05-19T12:24:59.638898Z",
     "shell.execute_reply.started": "2021-05-19T12:24:52.799790Z"
    },
    "tags": []
   },
   "outputs": [
    {
     "data": {
      "text/html": [
       "<div>\n",
       "<style scoped>\n",
       "    .dataframe tbody tr th:only-of-type {\n",
       "        vertical-align: middle;\n",
       "    }\n",
       "\n",
       "    .dataframe tbody tr th {\n",
       "        vertical-align: top;\n",
       "    }\n",
       "\n",
       "    .dataframe thead th {\n",
       "        text-align: right;\n",
       "    }\n",
       "</style>\n",
       "<table border=\"1\" class=\"dataframe\">\n",
       "  <thead>\n",
       "    <tr style=\"text-align: right;\">\n",
       "      <th></th>\n",
       "      <th>legislator</th>\n",
       "      <th>Pork Value(Constituency Interest)</th>\n",
       "      <th>Legislative Questions</th>\n",
       "      <th>Topic</th>\n",
       "      <th>Key Word</th>\n",
       "    </tr>\n",
       "  </thead>\n",
       "  <tbody>\n",
       "    <tr>\n",
       "      <th>10086</th>\n",
       "      <td>陳朝龍</td>\n",
       "      <td>0.000000000234690</td>\n",
       "      <td>針對中信金控利用香港分行，發行海外債券投資股權連結商品，用以投資兆豐金控一事，金管會雖然對中...</td>\n",
       "      <td>金融政策</td>\n",
       "      <td>中信金控 ; 金控投資 ; 金控併購</td>\n",
       "    </tr>\n",
       "    <tr>\n",
       "      <th>1019</th>\n",
       "      <td>周守訓</td>\n",
       "      <td>0.000000000188457</td>\n",
       "      <td>針對行政院金融監督管理委員會提出「現金卡廣告最新規範」，宣布自五月一日起，現金卡應暫停在電子...</td>\n",
       "      <td>消費貸款 ; 銀行管理</td>\n",
       "      <td>現金卡廣告</td>\n",
       "    </tr>\n",
       "    <tr>\n",
       "      <th>5588</th>\n",
       "      <td>潘孟安</td>\n",
       "      <td>0.000000000135253</td>\n",
       "      <td>有鑒於(96)年春節假期前夕，連續發生喜洋洋及辰欣旅行社無預警倒閉事件，目前春節旅遊旺季將至...</td>\n",
       "      <td>旅遊業 ; 消費者保護</td>\n",
       "      <td>旅行社 ; 惡性倒閉</td>\n",
       "    </tr>\n",
       "    <tr>\n",
       "      <th>3803</th>\n",
       "      <td>林正峰</td>\n",
       "      <td>0.000000000044962</td>\n",
       "      <td>針對教育部長民意信箱網頁，竟出現內容有髒話的回應，教育部長民意信箱的設計原意很好，民眾就可直...</td>\n",
       "      <td>政府官員</td>\n",
       "      <td>教育部長 ; 髒話 ; 部長民意信箱</td>\n",
       "    </tr>\n",
       "    <tr>\n",
       "      <th>6602</th>\n",
       "      <td>王幸男</td>\n",
       "      <td>0.000000000030020</td>\n",
       "      <td>針對儘管台灣朝野反彈、國際社會指責，中國人大會議仍然在昨天執意通過所謂「反分裂國家法」。這個...</td>\n",
       "      <td>中國問題 ; 國家政策</td>\n",
       "      <td>反分裂國家法 ; 台灣人民 ; 主權</td>\n",
       "    </tr>\n",
       "    <tr>\n",
       "      <th>6104</th>\n",
       "      <td>王幸男</td>\n",
       "      <td>0.000000000029972</td>\n",
       "      <td>針對立法院日前通過決議，希望簽署加入聯合國「消除對婦女一切形式歧視公約」，但聯合國秘書長潘基...</td>\n",
       "      <td>國際組織</td>\n",
       "      <td>聯合國 ; 第二七五八號決議案 ; 台灣</td>\n",
       "    </tr>\n",
       "    <tr>\n",
       "      <th>5859</th>\n",
       "      <td>王世堅</td>\n",
       "      <td>0.000000000022116</td>\n",
       "      <td>針對上市上櫃公司的主要股東或經營團隊，透過個人名義，或以第三地方式進入大陸投資，應揭露財報資...</td>\n",
       "      <td>金融政策</td>\n",
       "      <td>上市 ; 上櫃 ; 股東 ; 金融監督</td>\n",
       "    </tr>\n",
       "    <tr>\n",
       "      <th>7560</th>\n",
       "      <td>紀國棟</td>\n",
       "      <td>0.000000000011128</td>\n",
       "      <td>鑑於監視器是維持治安不可或缺之工具，惟監視器維修經費龐大，若遇颱風豪雨嚴重損壞費用很高，多數...</td>\n",
       "      <td>電子監視</td>\n",
       "      <td>監視器.損壞維修</td>\n",
       "    </tr>\n",
       "    <tr>\n",
       "      <th>260</th>\n",
       "      <td>何智輝</td>\n",
       "      <td>0.000000000004389</td>\n",
       "      <td>針對近來信用卡循環利率及現金卡利率均高達18%以上，為存款利率十倍，讓發卡銀行大賺暴利，卻讓...</td>\n",
       "      <td>信用卡 ; 利率</td>\n",
       "      <td>信用卡循環利率 ; 現金卡利率</td>\n",
       "    </tr>\n",
       "    <tr>\n",
       "      <th>8793</th>\n",
       "      <td>賴士葆</td>\n",
       "      <td>0.000000000003444</td>\n",
       "      <td>查行政院金融監督管理委員會日前提出的卡債協商機制辦法中，僅將債權屬於銀行（八大銀行或其他相關...</td>\n",
       "      <td>金融政策 ; 債務</td>\n",
       "      <td>卡債協商機制 ; 卡奴 ; 暴力討債</td>\n",
       "    </tr>\n",
       "  </tbody>\n",
       "</table>\n",
       "</div>"
      ],
      "text/plain": [
       "      legislator Pork Value(Constituency Interest)  \\\n",
       "10086        陳朝龍                 0.000000000234690   \n",
       "1019         周守訓                 0.000000000188457   \n",
       "5588         潘孟安                 0.000000000135253   \n",
       "3803         林正峰                 0.000000000044962   \n",
       "6602         王幸男                 0.000000000030020   \n",
       "6104         王幸男                 0.000000000029972   \n",
       "5859         王世堅                 0.000000000022116   \n",
       "7560         紀國棟                 0.000000000011128   \n",
       "260          何智輝                 0.000000000004389   \n",
       "8793         賴士葆                 0.000000000003444   \n",
       "\n",
       "                                  Legislative Questions         Topic  \\\n",
       "10086  針對中信金控利用香港分行，發行海外債券投資股權連結商品，用以投資兆豐金控一事，金管會雖然對中...         金融政策   \n",
       "1019   針對行政院金融監督管理委員會提出「現金卡廣告最新規範」，宣布自五月一日起，現金卡應暫停在電子...  消費貸款 ; 銀行管理   \n",
       "5588   有鑒於(96)年春節假期前夕，連續發生喜洋洋及辰欣旅行社無預警倒閉事件，目前春節旅遊旺季將至...  旅遊業 ; 消費者保護   \n",
       "3803   針對教育部長民意信箱網頁，竟出現內容有髒話的回應，教育部長民意信箱的設計原意很好，民眾就可直...         政府官員   \n",
       "6602   針對儘管台灣朝野反彈、國際社會指責，中國人大會議仍然在昨天執意通過所謂「反分裂國家法」。這個...  中國問題 ; 國家政策   \n",
       "6104   針對立法院日前通過決議，希望簽署加入聯合國「消除對婦女一切形式歧視公約」，但聯合國秘書長潘基...         國際組織   \n",
       "5859   針對上市上櫃公司的主要股東或經營團隊，透過個人名義，或以第三地方式進入大陸投資，應揭露財報資...         金融政策   \n",
       "7560   鑑於監視器是維持治安不可或缺之工具，惟監視器維修經費龐大，若遇颱風豪雨嚴重損壞費用很高，多數...         電子監視   \n",
       "260    針對近來信用卡循環利率及現金卡利率均高達18%以上，為存款利率十倍，讓發卡銀行大賺暴利，卻讓...     信用卡 ; 利率   \n",
       "8793   查行政院金融監督管理委員會日前提出的卡債協商機制辦法中，僅將債權屬於銀行（八大銀行或其他相關...    金融政策 ; 債務   \n",
       "\n",
       "                   Key Word  \n",
       "10086    中信金控 ; 金控投資 ; 金控併購  \n",
       "1019                  現金卡廣告  \n",
       "5588             旅行社 ; 惡性倒閉  \n",
       "3803     教育部長 ; 髒話 ; 部長民意信箱  \n",
       "6602     反分裂國家法 ; 台灣人民 ; 主權  \n",
       "6104   聯合國 ; 第二七五八號決議案 ; 台灣  \n",
       "5859    上市 ; 上櫃 ; 股東 ; 金融監督  \n",
       "7560               監視器.損壞維修  \n",
       "260         信用卡循環利率 ; 現金卡利率  \n",
       "8793     卡債協商機制 ; 卡奴 ; 暴力討債  "
      ]
     },
     "execution_count": 27,
     "metadata": {},
     "output_type": "execute_result"
    }
   ],
   "source": [
    "pd.DataFrame(\n",
    "    {'legislator': sample_df.legislator,\n",
    "     'Pork Value(Constituency Interest)':[as_num(Dcnn(np.array([tokenizer.encode(line)]), training=True).numpy()[0][0]) for line in sub_set],\n",
    "     'Legislative Questions ': sample_df.title,\n",
    "     'Topic': sample_df.topic,\n",
    "     'Key Word':sample_df.keywords}).sort_values(by=['Pork Value(Constituency Interest)'], ascending = False).tail(10)"
   ]
  },
  {
   "cell_type": "markdown",
   "id": "5dc01475-847a-408f-9972-ac02e7aa4721",
   "metadata": {},
   "source": [
    "#### (2) Export an End-to-end Model\n"
   ]
  },
  {
   "cell_type": "code",
   "execution_count": 28,
   "id": "196028d0-edfe-434f-a173-4ccaa688faaa",
   "metadata": {
    "execution": {
     "iopub.execute_input": "2021-05-19T12:24:59.641234Z",
     "iopub.status.busy": "2021-05-19T12:24:59.640778Z",
     "iopub.status.idle": "2021-05-19T12:24:59.645526Z",
     "shell.execute_reply": "2021-05-19T12:24:59.644261Z",
     "shell.execute_reply.started": "2021-05-19T12:24:59.641196Z"
    },
    "tags": []
   },
   "outputs": [],
   "source": [
    "from tensorflow.keras.models import load_model"
   ]
  },
  {
   "cell_type": "code",
   "execution_count": 29,
   "id": "071291d0-c5bb-48de-adb2-f8b2bb3bb542",
   "metadata": {
    "execution": {
     "iopub.execute_input": "2021-05-19T12:24:59.647187Z",
     "iopub.status.busy": "2021-05-19T12:24:59.647004Z",
     "iopub.status.idle": "2021-05-19T12:25:00.509900Z",
     "shell.execute_reply": "2021-05-19T12:25:00.509317Z",
     "shell.execute_reply.started": "2021-05-19T12:24:59.647170Z"
    },
    "tags": []
   },
   "outputs": [
    {
     "name": "stdout",
     "output_type": "stream",
     "text": [
      "INFO:tensorflow:Assets written to: lour_pork_model/assets\n"
     ]
    },
    {
     "name": "stderr",
     "output_type": "stream",
     "text": [
      "INFO:tensorflow:Assets written to: lour_pork_model/assets\n"
     ]
    }
   ],
   "source": [
    "# Get model (Sequential, Functional Model, or Model subclass)\n",
    "Dcnn.save('lour_pork_model')"
   ]
  },
  {
   "cell_type": "code",
   "execution_count": 30,
   "id": "2ac46183-b841-469b-8897-1fea2922e445",
   "metadata": {
    "execution": {
     "iopub.execute_input": "2021-05-19T12:25:00.510997Z",
     "iopub.status.busy": "2021-05-19T12:25:00.510833Z",
     "iopub.status.idle": "2021-05-19T12:25:00.849173Z",
     "shell.execute_reply": "2021-05-19T12:25:00.848677Z",
     "shell.execute_reply.started": "2021-05-19T12:25:00.510979Z"
    },
    "tags": []
   },
   "outputs": [],
   "source": [
    "from tensorflow import keras\n",
    "model = keras.models.load_model('lour_pork_model')"
   ]
  }
 ],
 "metadata": {
  "kernelspec": {
   "display_name": "Python 3",
   "language": "python",
   "name": "python3"
  },
  "language_info": {
   "codemirror_mode": {
    "name": "ipython",
    "version": 3
   },
   "file_extension": ".py",
   "mimetype": "text/x-python",
   "name": "python",
   "nbconvert_exporter": "python",
   "pygments_lexer": "ipython3",
   "version": "3.8.8"
  }
 },
 "nbformat": 4,
 "nbformat_minor": 5
}
