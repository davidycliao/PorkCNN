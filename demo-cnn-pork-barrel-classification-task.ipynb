{
 "cells": [
  {
   "cell_type": "markdown",
   "id": "b65dfbdc-bb80-4bd4-8248-dd06483222cd",
   "metadata": {},
   "source": [
    "# Lour's Pork Barrel Classifier (羅老師肉桶文本分類器)🐖\n",
    "## Convolutional Neural Networks for Pork Barrel Project Classification "
   ]
  },
  {
   "cell_type": "markdown",
   "id": "e8005d5a-f938-4c26-86d5-592408152d08",
   "metadata": {},
   "source": [
    "-------------------------\n",
    "\n",
    "### Stage 1: Libaries & Dependencies"
   ]
  },
  {
   "cell_type": "code",
   "execution_count": 1,
   "id": "6ca92ba3-7480-418f-91e0-d2beea2d10af",
   "metadata": {
    "execution": {
     "iopub.execute_input": "2021-06-03T14:55:11.737342Z",
     "iopub.status.busy": "2021-06-03T14:55:11.737032Z",
     "iopub.status.idle": "2021-06-03T14:55:18.081547Z",
     "shell.execute_reply": "2021-06-03T14:55:18.080911Z",
     "shell.execute_reply.started": "2021-06-03T14:55:11.737311Z"
    },
    "tags": []
   },
   "outputs": [],
   "source": [
    "# built-in library\n",
    "import math\n",
    "import re\n",
    "import collections\n",
    "import zipfile\n",
    "import random\n",
    "from itertools import chain\n",
    "\n",
    "# ML & Deep Learning/ NLP toolkit\n",
    "import pandas as pd\n",
    "import numpy as np\n",
    "import jieba\n",
    "from sklearn.model_selection import train_test_split\n",
    "import tensorflow as tf\n",
    "from tensorflow.keras import layers\n",
    "import tensorflow_datasets as tfds\n",
    "from tensorflow.keras.callbacks import EarlyStopping,TensorBoard\n",
    "\n",
    "# Visualization\n",
    "import matplotlib.pyplot as plt\n",
    "import seaborn as sns"
   ]
  },
  {
   "cell_type": "markdown",
   "id": "8bd77e05-355a-422f-87db-2cf77cba3bdd",
   "metadata": {},
   "source": [
    "-------------------------\n",
    "\n",
    "### Stage 2: Data Preprocessing (Training Data: Introduction of Bills and Legislation from 6th Session to 7th Session, 2004-2012)"
   ]
  },
  {
   "cell_type": "markdown",
   "id": "3b57b9c9-443e-4e26-bda2-15f6877845d5",
   "metadata": {},
   "source": [
    "#### (1) Read file "
   ]
  },
  {
   "cell_type": "code",
   "execution_count": 2,
   "id": "e1973cfb-73d4-4717-a67a-a4e8a0c9edb0",
   "metadata": {
    "execution": {
     "iopub.execute_input": "2021-06-03T14:55:18.082782Z",
     "iopub.status.busy": "2021-06-03T14:55:18.082498Z",
     "iopub.status.idle": "2021-06-03T14:55:18.128218Z",
     "shell.execute_reply": "2021-06-03T14:55:18.127608Z",
     "shell.execute_reply.started": "2021-06-03T14:55:18.082752Z"
    },
    "tags": []
   },
   "outputs": [],
   "source": [
    "# read file\n",
    "df = pd.read_csv('data/Pork Bill - 2021-05-20.csv',encoding='utf-8')\n",
    "\n",
    "# combine abstract of bill and title \n",
    "df['text'] =  df['Title'] + df['Content'].fillna(df['Title'])\n",
    "\n",
    "# drop conten without having any characters\n",
    "# view na's row: df[df['text'].isnull()==True]\n",
    "data = df[['text', 'pork_bill']].dropna(subset=['text'])"
   ]
  },
  {
   "cell_type": "code",
   "execution_count": 3,
   "id": "f6160785-9522-4404-8f77-6df941869cde",
   "metadata": {
    "execution": {
     "iopub.execute_input": "2021-06-03T14:55:18.129715Z",
     "iopub.status.busy": "2021-06-03T14:55:18.129414Z",
     "iopub.status.idle": "2021-06-03T14:55:18.135653Z",
     "shell.execute_reply": "2021-06-03T14:55:18.134773Z",
     "shell.execute_reply.started": "2021-06-03T14:55:18.129687Z"
    },
    "tags": []
   },
   "outputs": [
    {
     "name": "stdout",
     "output_type": "stream",
     "text": [
      " Pork Legislation 2510 \n",
      " None-Pork Legislation 4733\n"
     ]
    }
   ],
   "source": [
    "print(\" Pork Legislation\", data['pork_bill'].value_counts()[1],'\\n', \n",
    "      \"None-Pork Legislation\", data['pork_bill'].value_counts()[0])"
   ]
  },
  {
   "cell_type": "markdown",
   "id": "5e6d677d-e200-40e6-9252-130eb02fc682",
   "metadata": {
    "execution": {
     "iopub.execute_input": "2021-05-16T17:01:03.001989Z",
     "iopub.status.busy": "2021-05-16T17:01:03.001801Z",
     "iopub.status.idle": "2021-05-16T17:01:03.004600Z",
     "shell.execute_reply": "2021-05-16T17:01:03.003789Z",
     "shell.execute_reply.started": "2021-05-16T17:01:03.001969Z"
    }
   },
   "source": [
    "#### (2) Tokenization"
   ]
  },
  {
   "cell_type": "code",
   "execution_count": 4,
   "id": "120e8b54-7f75-4ca6-a0d0-9872b1522e8e",
   "metadata": {
    "execution": {
     "iopub.execute_input": "2021-06-03T14:55:18.136944Z",
     "iopub.status.busy": "2021-06-03T14:55:18.136614Z",
     "iopub.status.idle": "2021-06-03T14:55:18.146445Z",
     "shell.execute_reply": "2021-06-03T14:55:18.145509Z",
     "shell.execute_reply.started": "2021-06-03T14:55:18.136916Z"
    },
    "tags": []
   },
   "outputs": [],
   "source": [
    "import collections\n",
    "import numpy as np\n",
    "import jieba\n",
    "from itertools import chain\n",
    "\n",
    "\n",
    "def jieba_cut(filename):\n",
    "    \"\"\"\n",
    "    cut Chinese and remove stop words\n",
    "    Reference: https://www.cnblogs.com/Luv-GEM/p/10836454.html\n",
    "    Stopwords: https://www.kaggle.com/rikdifos/english-and-chinese-stopwords?select=cn_stopwords.txt\n",
    "    \"\"\"\n",
    "    stop_list = [i.strip() for i in open('cn_stopwords.txt','r',encoding='utf-8')]  \n",
    "    news_cut = []\n",
    "    news_list = []\n",
    "    for line in filename:    \n",
    "        if line:\n",
    "            news_cut = list(jieba.cut(''.join(line),cut_all=False,HMM=True))  \n",
    "            news_list.append([word.strip() for word in news_cut if word not in stop_list and len(word.strip())>0]) \n",
    "    news_list = list(chain.from_iterable(news_list))  \n",
    "    return news_list\n",
    "\n",
    "def clearPucts(context):\n",
    "    \"\"\"\n",
    "    remove punctuation\n",
    "    ref: https://chenyuzuoo.github.io/posts/28001/\n",
    "    \"\"\"\n",
    "    context = re.sub(\"[\\s+\\.\\!\\/_,$%^*(+\\\"\\']+|[+——！，。？、~@#￥%……&*（）]+\", \"\", context)\n",
    "    context = re.sub(\"[【】╮╯▽╰╭★→「」]+\",\"\", context)\n",
    "    context = re.sub(\"！，❤。～《》：（）【】「」？”“；：、\",\"\",context)\n",
    "    context = re.sub(\"\\s\",\"\",context)\n",
    "    return context\n",
    "\n",
    "def seg_char(sent):\n",
    "    \"\"\"\n",
    "    cut Chinese and remove stop words\n",
    "    ref: https://blog.csdn.net/renyuanfang/article/details/86487367\n",
    "    \"\"\"\n",
    "    # split\n",
    "    pattern_char_1 = re.compile(r'([\\W])')\n",
    "    parts = pattern_char_1.split(sent)\n",
    "    parts = [p for p in parts if len(p.strip())>0]\n",
    "    # cut sentence\n",
    "    pattern = re.compile(r'([\\u4e00-\\u9fa5])')\n",
    "    chars = pattern.split(sent)\n",
    "    chars = [w for w in chars if len(w.strip())>0]\n",
    "    chars = ' '.join(chars)\n",
    "    return chars"
   ]
  },
  {
   "cell_type": "code",
   "execution_count": 5,
   "id": "25f4277c-001d-47a4-81d0-f5ac5ec5e5d3",
   "metadata": {
    "execution": {
     "iopub.execute_input": "2021-06-03T14:55:18.147883Z",
     "iopub.status.busy": "2021-06-03T14:55:18.147631Z",
     "iopub.status.idle": "2021-06-03T14:55:20.843613Z",
     "shell.execute_reply": "2021-06-03T14:55:20.842989Z",
     "shell.execute_reply.started": "2021-06-03T14:55:18.147858Z"
    },
    "tags": []
   },
   "outputs": [],
   "source": [
    "data_clean = [seg_char(text) for text in [clearPucts(text) for text in data.text]]\n",
    "\n",
    "tokenizer = tfds.deprecated.text.SubwordTextEncoder.build_from_corpus(\n",
    "    data_clean, target_vocab_size=2**18)\n",
    "\n",
    "data_inputs = [tokenizer.encode(sentence) for sentence in data_clean]"
   ]
  },
  {
   "cell_type": "markdown",
   "id": "089e65af-e49c-4d60-962e-a0a826809aa5",
   "metadata": {
    "execution": {
     "iopub.execute_input": "2021-05-16T17:01:47.611294Z",
     "iopub.status.busy": "2021-05-16T17:01:47.611020Z",
     "iopub.status.idle": "2021-05-16T17:01:47.614208Z",
     "shell.execute_reply": "2021-05-16T17:01:47.613487Z",
     "shell.execute_reply.started": "2021-05-16T17:01:47.611276Z"
    }
   },
   "source": [
    "#### (3) Padding"
   ]
  },
  {
   "cell_type": "code",
   "execution_count": 6,
   "id": "b801d231-972c-47e3-83c4-7375c2e11a18",
   "metadata": {
    "execution": {
     "iopub.execute_input": "2021-06-03T14:55:20.847271Z",
     "iopub.status.busy": "2021-06-03T14:55:20.847069Z",
     "iopub.status.idle": "2021-06-03T14:55:20.926661Z",
     "shell.execute_reply": "2021-06-03T14:55:20.925995Z",
     "shell.execute_reply.started": "2021-06-03T14:55:20.847247Z"
    },
    "tags": []
   },
   "outputs": [],
   "source": [
    "MAX_LEN = max([len(sentence) for sentence in data_clean])\n",
    "data_inputs = tf.keras.preprocessing.sequence.pad_sequences(data_inputs,\n",
    "                                                            value=0,\n",
    "                                                            padding=\"post\",\n",
    "                                                            maxlen=MAX_LEN)\n"
   ]
  },
  {
   "cell_type": "markdown",
   "id": "f69d90cf-ac3c-4e08-b46b-457d9708d832",
   "metadata": {
    "execution": {
     "iopub.execute_input": "2021-05-16T17:02:28.107037Z",
     "iopub.status.busy": "2021-05-16T17:02:28.106843Z",
     "iopub.status.idle": "2021-05-16T17:02:28.109696Z",
     "shell.execute_reply": "2021-05-16T17:02:28.108954Z",
     "shell.execute_reply.started": "2021-05-16T17:02:28.107017Z"
    }
   },
   "source": [
    "#### (4) Spliting Training/ Testing Set"
   ]
  },
  {
   "cell_type": "code",
   "execution_count": 7,
   "id": "42503355-eea3-4602-ae5a-ea18be84b8d1",
   "metadata": {
    "execution": {
     "iopub.execute_input": "2021-06-03T14:55:20.929504Z",
     "iopub.status.busy": "2021-06-03T14:55:20.929242Z",
     "iopub.status.idle": "2021-06-03T14:55:20.932563Z",
     "shell.execute_reply": "2021-06-03T14:55:20.931841Z",
     "shell.execute_reply.started": "2021-06-03T14:55:20.929479Z"
    },
    "tags": []
   },
   "outputs": [],
   "source": [
    "data_labels = data.pork_bill.values"
   ]
  },
  {
   "cell_type": "code",
   "execution_count": 8,
   "id": "19235117-f63a-4e06-a102-6efe98c37dbf",
   "metadata": {
    "execution": {
     "iopub.execute_input": "2021-06-03T14:55:20.934101Z",
     "iopub.status.busy": "2021-06-03T14:55:20.933791Z",
     "iopub.status.idle": "2021-06-03T14:55:20.948737Z",
     "shell.execute_reply": "2021-06-03T14:55:20.948019Z",
     "shell.execute_reply.started": "2021-06-03T14:55:20.934073Z"
    },
    "tags": []
   },
   "outputs": [
    {
     "name": "stdout",
     "output_type": "stream",
     "text": [
      "Shape of X Train: (4852, 785) \n",
      "Shape of X Test : (2391, 785) \n",
      "Shape of Y Trian: (4852,) \n",
      "Shape of Y Test : (2391,)\n"
     ]
    }
   ],
   "source": [
    "import numpy as np\n",
    "from sklearn.model_selection import train_test_split\n",
    "train_inputs, test_inputs, train_labels, test_labels = train_test_split(\n",
    "    data_inputs, data_labels, test_size=0.33, random_state=42)\n",
    "\n",
    "print(\"Shape of X Train:\", train_inputs.shape, '\\n'\n",
    "      \"Shape of X Test :\", test_inputs.shape,'\\n'\n",
    "      \"Shape of Y Trian:\", train_labels.shape , '\\n'\n",
    "      \"Shape of Y Test :\", test_labels.shape )"
   ]
  },
  {
   "cell_type": "code",
   "execution_count": 9,
   "id": "6f10cb5c-7c8d-4e1e-a987-11b8de8e42d0",
   "metadata": {
    "execution": {
     "iopub.execute_input": "2021-06-03T14:55:20.950180Z",
     "iopub.status.busy": "2021-06-03T14:55:20.949827Z",
     "iopub.status.idle": "2021-06-03T14:55:20.954384Z",
     "shell.execute_reply": "2021-06-03T14:55:20.953683Z",
     "shell.execute_reply.started": "2021-06-03T14:55:20.950154Z"
    },
    "tags": []
   },
   "outputs": [
    {
     "name": "stdout",
     "output_type": "stream",
     "text": [
      " Num of Train Set: 4852 \n",
      " Not Pork vs Pork: {0: 3167, 1: 1685}\n"
     ]
    }
   ],
   "source": [
    "unique_train_labels, counts_train_labels = np.unique(train_labels, return_counts=True)\n",
    "\n",
    "print(' Num of Train Set:' , train_inputs.shape[0], '\\n'\n",
    "      ,'Not Pork vs Pork:', dict(zip(unique_train_labels, counts_train_labels)))"
   ]
  },
  {
   "cell_type": "code",
   "execution_count": 10,
   "id": "fedad623-02ba-4fad-b0b4-a094de7c39de",
   "metadata": {
    "execution": {
     "iopub.execute_input": "2021-06-03T14:55:20.955771Z",
     "iopub.status.busy": "2021-06-03T14:55:20.955517Z",
     "iopub.status.idle": "2021-06-03T14:55:20.959990Z",
     "shell.execute_reply": "2021-06-03T14:55:20.959317Z",
     "shell.execute_reply.started": "2021-06-03T14:55:20.955748Z"
    },
    "tags": []
   },
   "outputs": [
    {
     "name": "stdout",
     "output_type": "stream",
     "text": [
      " Num of Test Set: 2391 \n",
      " Not Pork vs Pork: {0: 1566, 1: 825}\n"
     ]
    }
   ],
   "source": [
    "unique_test_labels, counts_test_labels = np.unique(test_labels, return_counts=True)\n",
    "\n",
    "print(' Num of Test Set:' , test_inputs.shape[0], '\\n'\n",
    "      ,'Not Pork vs Pork:', dict(zip(unique_test_labels, counts_test_labels)))"
   ]
  },
  {
   "cell_type": "markdown",
   "id": "725f7feb-b93b-4d0b-bcbf-562240a79f8b",
   "metadata": {
    "execution": {
     "iopub.execute_input": "2021-05-16T17:04:13.375644Z",
     "iopub.status.busy": "2021-05-16T17:04:13.375440Z",
     "iopub.status.idle": "2021-05-16T17:04:13.378111Z",
     "shell.execute_reply": "2021-05-16T17:04:13.377464Z",
     "shell.execute_reply.started": "2021-05-16T17:04:13.375623Z"
    },
    "tags": []
   },
   "source": [
    "-------------------------\n",
    "\n",
    "\n",
    "### Stage 3: Model and Building"
   ]
  },
  {
   "cell_type": "markdown",
   "id": "4a0e74bf-eaf4-4043-8d23-88291d8ea344",
   "metadata": {
    "execution": {
     "iopub.execute_input": "2021-05-16T17:13:18.807725Z",
     "iopub.status.busy": "2021-05-16T17:13:18.807498Z",
     "iopub.status.idle": "2021-05-16T17:13:18.810574Z",
     "shell.execute_reply": "2021-05-16T17:13:18.809625Z",
     "shell.execute_reply.started": "2021-05-16T17:13:18.807701Z"
    }
   },
   "source": [
    "#### (1) Using the Subclassing API to Build Dynamic Model"
   ]
  },
  {
   "cell_type": "code",
   "execution_count": 11,
   "id": "1f18f9b1-5f4d-4d0a-baf4-2eebed7f34f2",
   "metadata": {
    "execution": {
     "iopub.execute_input": "2021-06-03T14:55:20.961142Z",
     "iopub.status.busy": "2021-06-03T14:55:20.960873Z",
     "iopub.status.idle": "2021-06-03T14:55:20.969856Z",
     "shell.execute_reply": "2021-06-03T14:55:20.968960Z",
     "shell.execute_reply.started": "2021-06-03T14:55:20.961113Z"
    },
    "tags": []
   },
   "outputs": [],
   "source": [
    "class DCNN(tf.keras.Model):\n",
    "    def __init__(self,\n",
    "                 vocab_size,\n",
    "                 emb_dim=128,\n",
    "                 nb_filters=100,\n",
    "                 FFN_units=512,\n",
    "                 nb_classes=2,\n",
    "                 dropout_rate=0.1,\n",
    "                 training=False,\n",
    "                 name=\"dcnn\"):\n",
    "        super(DCNN, self).__init__(name=name)\n",
    "        self.embedding = layers.Embedding(vocab_size,emb_dim)\n",
    "        self.bigram = layers.Conv1D(filters=nb_filters, kernel_size=2, padding=\"valid\", activation=\"relu\")\n",
    "        self.trigram = layers.Conv1D(filters=nb_filters,kernel_size=3,padding=\"valid\",activation=\"relu\")\n",
    "        self.fourgram = layers.Conv1D(filters=nb_filters,kernel_size=4,padding=\"valid\",activation=\"relu\")\n",
    "        self.fivegram = layers.Conv1D(filters=nb_filters,kernel_size=5,padding=\"valid\",activation=\"relu\")\n",
    "        self.pool = layers.GlobalMaxPool1D()\n",
    "        self.dense_1 = layers.Dense(units=FFN_units, activation=\"relu\")\n",
    "        self.dropout = layers.Dropout(rate=dropout_rate)\n",
    "        self.last_dense = layers.Dense(units=1, activation=\"sigmoid\")    \n",
    "    def call(self, inputs, training):\n",
    "        x = self.embedding(inputs)\n",
    "        x_1 = self.bigram(x)\n",
    "        x_1 = self.pool(x_1)\n",
    "        x_2 = self.trigram(x)\n",
    "        x_2 = self.pool(x_2)\n",
    "        x_3 = self.fourgram(x)\n",
    "        x_3 = self.pool(x_3)\n",
    "        x_4 = self.fourgram(x)\n",
    "        x_4 = self.pool(x_4) \n",
    "        x_5 = self.fivegram(x)\n",
    "        x_5 = self.pool(x_5)      \n",
    "        merged = tf.concat([x_1, x_2, x_3, x_4, x_5], axis=-1) \n",
    "        merged = self.dense_1(merged)\n",
    "        merged = self.dropout(merged, training)\n",
    "        output = self.last_dense(merged)        \n",
    "        return output"
   ]
  },
  {
   "cell_type": "code",
   "execution_count": 12,
   "id": "bfc02e93-3a0e-4c1c-b488-b2db98b53824",
   "metadata": {
    "execution": {
     "iopub.execute_input": "2021-06-03T14:55:20.971453Z",
     "iopub.status.busy": "2021-06-03T14:55:20.971191Z",
     "iopub.status.idle": "2021-06-03T14:55:20.992447Z",
     "shell.execute_reply": "2021-06-03T14:55:20.991871Z",
     "shell.execute_reply.started": "2021-06-03T14:55:20.971426Z"
    },
    "tags": []
   },
   "outputs": [],
   "source": [
    "VOCAB_SIZE = tokenizer.vocab_size  # 5000 tokenizer.vocab_size\n",
    "EMB_DIM = 200\n",
    "NB_FILTERS = 100\n",
    "FFN_UNITS = 256\n",
    "NB_CLASSES = 2 #len(set(train_labels))\n",
    "DROPOUT_RATE = 0.2\n",
    "BATCH_SIZE = 220\n",
    "NB_EPOCHS = 80\n",
    "\n",
    "Dcnn = DCNN(vocab_size=VOCAB_SIZE,\n",
    "            emb_dim=EMB_DIM,\n",
    "            nb_filters=NB_FILTERS,\n",
    "            FFN_units=FFN_UNITS,\n",
    "            nb_classes=NB_CLASSES,\n",
    "            dropout_rate=DROPOUT_RATE)"
   ]
  },
  {
   "cell_type": "markdown",
   "id": "b0ec8f51-6ed8-49fa-9d5e-c6929184bdf1",
   "metadata": {
    "execution": {
     "iopub.execute_input": "2021-05-16T18:43:59.279424Z",
     "iopub.status.busy": "2021-05-16T18:43:59.279202Z",
     "iopub.status.idle": "2021-05-16T18:43:59.282718Z",
     "shell.execute_reply": "2021-05-16T18:43:59.281823Z",
     "shell.execute_reply.started": "2021-05-16T18:43:59.279399Z"
    }
   },
   "source": [
    "#### (2) Compile and Summary of the Model"
   ]
  },
  {
   "cell_type": "code",
   "execution_count": 13,
   "id": "2cce0414-05eb-4f79-9c27-bca9c91a2903",
   "metadata": {
    "execution": {
     "iopub.execute_input": "2021-06-03T14:55:20.993801Z",
     "iopub.status.busy": "2021-06-03T14:55:20.993484Z",
     "iopub.status.idle": "2021-06-03T14:55:21.069727Z",
     "shell.execute_reply": "2021-06-03T14:55:21.068999Z",
     "shell.execute_reply.started": "2021-06-03T14:55:20.993774Z"
    },
    "tags": []
   },
   "outputs": [
    {
     "name": "stdout",
     "output_type": "stream",
     "text": [
      "Model: \"dcnn\"\n",
      "_________________________________________________________________\n",
      "Layer (type)                 Output Shape              Param #   \n",
      "=================================================================\n",
      "embedding (Embedding)        multiple                  586600    \n",
      "_________________________________________________________________\n",
      "conv1d (Conv1D)              multiple                  40100     \n",
      "_________________________________________________________________\n",
      "conv1d_1 (Conv1D)            multiple                  60100     \n",
      "_________________________________________________________________\n",
      "conv1d_2 (Conv1D)            multiple                  80100     \n",
      "_________________________________________________________________\n",
      "conv1d_3 (Conv1D)            multiple                  100100    \n",
      "_________________________________________________________________\n",
      "global_max_pooling1d (Global multiple                  0         \n",
      "_________________________________________________________________\n",
      "dense (Dense)                multiple                  128256    \n",
      "_________________________________________________________________\n",
      "dropout (Dropout)            multiple                  0         \n",
      "_________________________________________________________________\n",
      "dense_1 (Dense)              multiple                  257       \n",
      "=================================================================\n",
      "Total params: 995,513\n",
      "Trainable params: 995,513\n",
      "Non-trainable params: 0\n",
      "_________________________________________________________________\n"
     ]
    }
   ],
   "source": [
    "Dcnn.compile(loss=\"binary_crossentropy\", optimizer=\"adam\", metrics=[\"accuracy\"])\n",
    "Dcnn.build(input_shape = (train_inputs.shape[1] , EMB_DIM)) # (train_inputs.shape[1] , EMB_DIM)  (785 , EMB_DIM)\n",
    "Dcnn.summary()"
   ]
  },
  {
   "cell_type": "markdown",
   "id": "3880d2a4-2152-43de-bad3-34e67e97469e",
   "metadata": {
    "tags": []
   },
   "source": [
    "#### (3) Check Point Path"
   ]
  },
  {
   "cell_type": "code",
   "execution_count": 14,
   "id": "2c18aa59-a797-4a67-bc4d-a412dbaaedcb",
   "metadata": {
    "execution": {
     "iopub.execute_input": "2021-06-03T14:55:21.071091Z",
     "iopub.status.busy": "2021-06-03T14:55:21.070752Z",
     "iopub.status.idle": "2021-06-03T14:55:21.075525Z",
     "shell.execute_reply": "2021-06-03T14:55:21.074578Z",
     "shell.execute_reply.started": "2021-06-03T14:55:21.071064Z"
    },
    "tags": []
   },
   "outputs": [],
   "source": [
    "checkpoint_path = \"checkpoint_recode/ckpt_manager\"\n",
    "\n",
    "ckpt = tf.train.Checkpoint(Dcnn=Dcnn)\n",
    "\n",
    "ckpt_manager = tf.train.CheckpointManager(ckpt, checkpoint_path, max_to_keep=10)\n",
    "\n",
    "if ckpt_manager.latest_checkpoint:\n",
    "    ckpt.restore(ckpt_manager.latest_checkpoint)\n",
    "    print(\"Checkpoint Located!!\")"
   ]
  },
  {
   "cell_type": "markdown",
   "id": "73d70667-275f-40c0-bd71-6b47e9722798",
   "metadata": {
    "execution": {
     "iopub.execute_input": "2021-05-16T17:47:13.442664Z",
     "iopub.status.busy": "2021-05-16T17:47:13.442381Z",
     "iopub.status.idle": "2021-05-16T17:47:13.448371Z",
     "shell.execute_reply": "2021-05-16T17:47:13.446970Z",
     "shell.execute_reply.started": "2021-05-16T17:47:13.442620Z"
    }
   },
   "source": [
    "-------------------------\n",
    "\n",
    "### Stage 4: Train the Model"
   ]
  },
  {
   "cell_type": "code",
   "execution_count": 15,
   "id": "cc975047-5a58-46dc-b427-262796d9b625",
   "metadata": {
    "execution": {
     "iopub.execute_input": "2021-06-03T14:55:21.077035Z",
     "iopub.status.busy": "2021-06-03T14:55:21.076685Z",
     "iopub.status.idle": "2021-06-03T14:55:21.080438Z",
     "shell.execute_reply": "2021-06-03T14:55:21.079531Z",
     "shell.execute_reply.started": "2021-06-03T14:55:21.077010Z"
    },
    "tags": []
   },
   "outputs": [],
   "source": [
    "early_stop = EarlyStopping(monitor='val_loss',patience=5)"
   ]
  },
  {
   "cell_type": "code",
   "execution_count": 16,
   "id": "baf0cade-2c45-43b2-9782-6a8c6e570153",
   "metadata": {
    "execution": {
     "iopub.execute_input": "2021-06-03T14:55:21.081738Z",
     "iopub.status.busy": "2021-06-03T14:55:21.081410Z",
     "iopub.status.idle": "2021-06-03T15:04:23.302217Z",
     "shell.execute_reply": "2021-06-03T15:04:23.300665Z",
     "shell.execute_reply.started": "2021-06-03T14:55:21.081713Z"
    },
    "tags": []
   },
   "outputs": [
    {
     "name": "stdout",
     "output_type": "stream",
     "text": [
      "Epoch 1/80\n",
      "23/23 [==============================] - 51s 2s/step - loss: 0.6081 - accuracy: 0.6492 - val_loss: 0.5072 - val_accuracy: 0.7570\n",
      "Epoch 2/80\n",
      "23/23 [==============================] - 60s 3s/step - loss: 0.3766 - accuracy: 0.8502 - val_loss: 0.2449 - val_accuracy: 0.9030\n",
      "Epoch 3/80\n",
      "23/23 [==============================] - 61s 3s/step - loss: 0.1662 - accuracy: 0.9361 - val_loss: 0.1630 - val_accuracy: 0.9394\n",
      "Epoch 4/80\n",
      "23/23 [==============================] - 59s 3s/step - loss: 0.0815 - accuracy: 0.9744 - val_loss: 0.1517 - val_accuracy: 0.9456\n",
      "Epoch 5/80\n",
      "23/23 [==============================] - 62s 3s/step - loss: 0.0602 - accuracy: 0.9819 - val_loss: 0.1553 - val_accuracy: 0.9481\n",
      "Epoch 6/80\n",
      "23/23 [==============================] - 61s 3s/step - loss: 0.0489 - accuracy: 0.9843 - val_loss: 0.1662 - val_accuracy: 0.9473\n",
      "Epoch 7/80\n",
      "23/23 [==============================] - 64s 3s/step - loss: 0.0523 - accuracy: 0.9847 - val_loss: 0.1807 - val_accuracy: 0.9431\n",
      "Epoch 8/80\n",
      "23/23 [==============================] - 61s 3s/step - loss: 0.0465 - accuracy: 0.9852 - val_loss: 0.1777 - val_accuracy: 0.9469\n",
      "Epoch 9/80\n",
      "23/23 [==============================] - 63s 3s/step - loss: 0.0372 - accuracy: 0.9866 - val_loss: 0.1757 - val_accuracy: 0.9444\n"
     ]
    },
    {
     "data": {
      "text/plain": [
       "'checkpoint_recode/ckpt_manager/ckpt-1'"
      ]
     },
     "execution_count": 16,
     "metadata": {},
     "output_type": "execute_result"
    }
   ],
   "source": [
    "Dcnn.fit(train_inputs, train_labels,\n",
    "         validation_data=(test_inputs, test_labels),\n",
    "         batch_size=BATCH_SIZE,\n",
    "         epochs=NB_EPOCHS,\n",
    "         callbacks=[early_stop])\n",
    "ckpt_manager.save()"
   ]
  },
  {
   "cell_type": "markdown",
   "id": "3b0ac256-ab81-4ff5-8430-48f8bba50126",
   "metadata": {
    "execution": {
     "iopub.execute_input": "2021-05-16T18:23:25.926977Z",
     "iopub.status.busy": "2021-05-16T18:23:25.926754Z",
     "iopub.status.idle": "2021-05-16T18:23:25.931072Z",
     "shell.execute_reply": "2021-05-16T18:23:25.930041Z",
     "shell.execute_reply.started": "2021-05-16T18:23:25.926952Z"
    }
   },
   "source": [
    "-------------------------\n",
    "\n",
    "### Stage 5: Evaluation"
   ]
  },
  {
   "cell_type": "code",
   "execution_count": 17,
   "id": "58099cc1-19e0-443a-b960-7ae4d67344d3",
   "metadata": {
    "execution": {
     "iopub.execute_input": "2021-06-03T15:04:23.305834Z",
     "iopub.status.busy": "2021-06-03T15:04:23.305463Z",
     "iopub.status.idle": "2021-06-03T15:04:23.352221Z",
     "shell.execute_reply": "2021-06-03T15:04:23.350608Z",
     "shell.execute_reply.started": "2021-06-03T15:04:23.305790Z"
    },
    "tags": []
   },
   "outputs": [
    {
     "data": {
      "text/html": [
       "<div>\n",
       "<style scoped>\n",
       "    .dataframe tbody tr th:only-of-type {\n",
       "        vertical-align: middle;\n",
       "    }\n",
       "\n",
       "    .dataframe tbody tr th {\n",
       "        vertical-align: top;\n",
       "    }\n",
       "\n",
       "    .dataframe thead th {\n",
       "        text-align: right;\n",
       "    }\n",
       "</style>\n",
       "<table border=\"1\" class=\"dataframe\">\n",
       "  <thead>\n",
       "    <tr style=\"text-align: right;\">\n",
       "      <th></th>\n",
       "      <th>loss</th>\n",
       "      <th>accuracy</th>\n",
       "      <th>val_loss</th>\n",
       "      <th>val_accuracy</th>\n",
       "    </tr>\n",
       "  </thead>\n",
       "  <tbody>\n",
       "    <tr>\n",
       "      <th>0</th>\n",
       "      <td>0.608115</td>\n",
       "      <td>0.649217</td>\n",
       "      <td>0.507231</td>\n",
       "      <td>0.757005</td>\n",
       "    </tr>\n",
       "    <tr>\n",
       "      <th>1</th>\n",
       "      <td>0.376569</td>\n",
       "      <td>0.850165</td>\n",
       "      <td>0.244924</td>\n",
       "      <td>0.902969</td>\n",
       "    </tr>\n",
       "    <tr>\n",
       "      <th>2</th>\n",
       "      <td>0.166250</td>\n",
       "      <td>0.936109</td>\n",
       "      <td>0.163034</td>\n",
       "      <td>0.939356</td>\n",
       "    </tr>\n",
       "    <tr>\n",
       "      <th>3</th>\n",
       "      <td>0.081544</td>\n",
       "      <td>0.974444</td>\n",
       "      <td>0.151741</td>\n",
       "      <td>0.945629</td>\n",
       "    </tr>\n",
       "    <tr>\n",
       "      <th>4</th>\n",
       "      <td>0.060179</td>\n",
       "      <td>0.981863</td>\n",
       "      <td>0.155290</td>\n",
       "      <td>0.948139</td>\n",
       "    </tr>\n",
       "    <tr>\n",
       "      <th>5</th>\n",
       "      <td>0.048889</td>\n",
       "      <td>0.984336</td>\n",
       "      <td>0.166168</td>\n",
       "      <td>0.947302</td>\n",
       "    </tr>\n",
       "    <tr>\n",
       "      <th>6</th>\n",
       "      <td>0.052302</td>\n",
       "      <td>0.984749</td>\n",
       "      <td>0.180666</td>\n",
       "      <td>0.943120</td>\n",
       "    </tr>\n",
       "    <tr>\n",
       "      <th>7</th>\n",
       "      <td>0.046451</td>\n",
       "      <td>0.985161</td>\n",
       "      <td>0.177691</td>\n",
       "      <td>0.946884</td>\n",
       "    </tr>\n",
       "    <tr>\n",
       "      <th>8</th>\n",
       "      <td>0.037229</td>\n",
       "      <td>0.986603</td>\n",
       "      <td>0.175692</td>\n",
       "      <td>0.944375</td>\n",
       "    </tr>\n",
       "  </tbody>\n",
       "</table>\n",
       "</div>"
      ],
      "text/plain": [
       "       loss  accuracy  val_loss  val_accuracy\n",
       "0  0.608115  0.649217  0.507231      0.757005\n",
       "1  0.376569  0.850165  0.244924      0.902969\n",
       "2  0.166250  0.936109  0.163034      0.939356\n",
       "3  0.081544  0.974444  0.151741      0.945629\n",
       "4  0.060179  0.981863  0.155290      0.948139\n",
       "5  0.048889  0.984336  0.166168      0.947302\n",
       "6  0.052302  0.984749  0.180666      0.943120\n",
       "7  0.046451  0.985161  0.177691      0.946884\n",
       "8  0.037229  0.986603  0.175692      0.944375"
      ]
     },
     "execution_count": 17,
     "metadata": {},
     "output_type": "execute_result"
    }
   ],
   "source": [
    "losses = pd.DataFrame(Dcnn.history.history)\n",
    "losses"
   ]
  },
  {
   "cell_type": "code",
   "execution_count": 18,
   "id": "f37a760f-b388-4051-a78d-295bce1f214a",
   "metadata": {
    "execution": {
     "iopub.execute_input": "2021-06-03T15:04:23.355610Z",
     "iopub.status.busy": "2021-06-03T15:04:23.355045Z",
     "iopub.status.idle": "2021-06-03T15:04:24.444143Z",
     "shell.execute_reply": "2021-06-03T15:04:24.442811Z",
     "shell.execute_reply.started": "2021-06-03T15:04:23.355542Z"
    },
    "tags": []
   },
   "outputs": [
    {
     "data": {
      "text/plain": [
       "<AxesSubplot:>"
      ]
     },
     "execution_count": 18,
     "metadata": {},
     "output_type": "execute_result"
    },
    {
     "data": {
      "image/png": "[encoded data removed]",
      "text/plain": [
       "<Figure size 432x288 with 1 Axes>"
      ]
     },
     "metadata": {
      "needs_background": "light"
     },
     "output_type": "display_data"
    },
    {
     "data": {
      "image/png": "[encoded data removed]",
      "text/plain": [
       "<Figure size 432x288 with 1 Axes>"
      ]
     },
     "metadata": {
      "needs_background": "light"
     },
     "output_type": "display_data"
    }
   ],
   "source": [
    "losses[['accuracy','val_accuracy']].plot()\n",
    "losses[['loss','val_loss']].plot()"
   ]
  },
  {
   "cell_type": "code",
   "execution_count": 34,
   "id": "b1b62bf7-433e-4a9e-b0ed-a6b57515b304",
   "metadata": {
    "execution": {
     "iopub.execute_input": "2021-06-03T15:16:20.854524Z",
     "iopub.status.busy": "2021-06-03T15:16:20.854337Z",
     "iopub.status.idle": "2021-06-03T15:16:21.034749Z",
     "shell.execute_reply": "2021-06-03T15:16:21.034211Z",
     "shell.execute_reply.started": "2021-06-03T15:16:20.854503Z"
    },
    "tags": []
   },
   "outputs": [
    {
     "data": {
      "image/png": "[encoded data removed]",
      "text/plain": [
       "<Figure size 576x360 with 1 Axes>"
      ]
     },
     "metadata": {
      "needs_background": "light"
     },
     "output_type": "display_data"
    },
    {
     "data": {
      "text/plain": [
       "<Figure size 432x288 with 0 Axes>"
      ]
     },
     "metadata": {},
     "output_type": "display_data"
    }
   ],
   "source": [
    "losses.plot(figsize=(8,5))\n",
    "plt.grid(True)\n",
    "plt.gca().set_ylim(0,1)\n",
    "plt.xlabel(\"Learning Curves: the mean training loss and accuracy measured over each epochs\")\n",
    "plt.show()\n",
    "plt.savefig('images/learning_curves.png')"
   ]
  },
  {
   "cell_type": "code",
   "execution_count": 20,
   "id": "17760825-eb35-4f8c-88a0-45e94387c08d",
   "metadata": {
    "execution": {
     "iopub.execute_input": "2021-06-03T15:04:24.455706Z",
     "iopub.status.busy": "2021-06-03T15:04:24.455188Z",
     "iopub.status.idle": "2021-06-03T15:04:31.561318Z",
     "shell.execute_reply": "2021-06-03T15:04:31.559995Z",
     "shell.execute_reply.started": "2021-06-03T15:04:24.455657Z"
    },
    "tags": []
   },
   "outputs": [
    {
     "name": "stdout",
     "output_type": "stream",
     "text": [
      "11/11 [==============================] - 7s 634ms/step - loss: 0.1757 - accuracy: 0.9444\n",
      "[0.17569226026535034, 0.9443747401237488]\n"
     ]
    }
   ],
   "source": [
    "from sklearn.metrics import classification_report,confusion_matrix\n",
    "evaluation_model = Dcnn.evaluate(test_inputs, test_labels, batch_size=BATCH_SIZE)\n",
    "print(evaluation_model)"
   ]
  },
  {
   "cell_type": "code",
   "execution_count": 21,
   "id": "c9a3f93d-4398-418c-b511-69594874cc5a",
   "metadata": {
    "execution": {
     "iopub.execute_input": "2021-06-03T15:04:31.563954Z",
     "iopub.status.busy": "2021-06-03T15:04:31.563399Z",
     "iopub.status.idle": "2021-06-03T15:04:38.733685Z",
     "shell.execute_reply": "2021-06-03T15:04:38.731994Z",
     "shell.execute_reply.started": "2021-06-03T15:04:31.563903Z"
    },
    "tags": []
   },
   "outputs": [
    {
     "name": "stdout",
     "output_type": "stream",
     "text": [
      "              precision    recall  f1-score   support\n",
      "\n",
      "           0       0.95      0.97      0.96      1566\n",
      "           1       0.95      0.90      0.92       825\n",
      "\n",
      "    accuracy                           0.95      2391\n",
      "   macro avg       0.95      0.94      0.94      2391\n",
      "weighted avg       0.95      0.95      0.95      2391\n",
      "\n"
     ]
    }
   ],
   "source": [
    "# pd.DataFrame(confusion_matrix(test_labels,predictions))\n",
    "predictions = Dcnn.predict(test_inputs)\n",
    "predictions = np.where(predictions >0.8 , 1, 0)\n",
    "print(classification_report(test_labels, predictions))"
   ]
  },
  {
   "cell_type": "code",
   "execution_count": 22,
   "id": "4767688b-bfc8-4dc4-b8ec-2252f7791534",
   "metadata": {
    "execution": {
     "iopub.execute_input": "2021-06-03T15:04:38.737192Z",
     "iopub.status.busy": "2021-06-03T15:04:38.736755Z",
     "iopub.status.idle": "2021-06-03T15:04:38.758941Z",
     "shell.execute_reply": "2021-06-03T15:04:38.757408Z",
     "shell.execute_reply.started": "2021-06-03T15:04:38.737143Z"
    },
    "tags": []
   },
   "outputs": [
    {
     "data": {
      "text/html": [
       "<div>\n",
       "<style scoped>\n",
       "    .dataframe tbody tr th:only-of-type {\n",
       "        vertical-align: middle;\n",
       "    }\n",
       "\n",
       "    .dataframe tbody tr th {\n",
       "        vertical-align: top;\n",
       "    }\n",
       "\n",
       "    .dataframe thead th {\n",
       "        text-align: right;\n",
       "    }\n",
       "</style>\n",
       "<table border=\"1\" class=\"dataframe\">\n",
       "  <thead>\n",
       "    <tr style=\"text-align: right;\">\n",
       "      <th></th>\n",
       "      <th>Predictions: Not Pork(0)</th>\n",
       "      <th>Predictions:Pork(1)</th>\n",
       "    </tr>\n",
       "  </thead>\n",
       "  <tbody>\n",
       "    <tr>\n",
       "      <th>Acutal: Not Pork(0)</th>\n",
       "      <td>1525</td>\n",
       "      <td>41</td>\n",
       "    </tr>\n",
       "    <tr>\n",
       "      <th>Acutal: Pork (1)</th>\n",
       "      <td>83</td>\n",
       "      <td>742</td>\n",
       "    </tr>\n",
       "  </tbody>\n",
       "</table>\n",
       "</div>"
      ],
      "text/plain": [
       "                     Predictions: Not Pork(0)  Predictions:Pork(1)\n",
       "Acutal: Not Pork(0)                      1525                   41\n",
       "Acutal: Pork (1)                           83                  742"
      ]
     },
     "execution_count": 22,
     "metadata": {},
     "output_type": "execute_result"
    }
   ],
   "source": [
    "t = pd.DataFrame(confusion_matrix(test_labels,predictions), \n",
    "             columns=['Predictions: Not Pork(0)','Predictions:Pork(1)'])\n",
    "t.index = ['Acutal: Not Pork(0)', 'Acutal: Pork (1)']\n",
    "t"
   ]
  },
  {
   "cell_type": "markdown",
   "id": "d0416d6f-5e46-47c9-abad-f344bea7a94a",
   "metadata": {},
   "source": [
    "-------------------------\n",
    "\n",
    "### Stage 6: Try the Model with New Data and Export an End-to-end Model\n"
   ]
  },
  {
   "cell_type": "markdown",
   "id": "394b9a6e-0130-4af2-88e5-efe91cf9f348",
   "metadata": {
    "execution": {
     "iopub.execute_input": "2021-05-16T22:53:41.558105Z",
     "iopub.status.busy": "2021-05-16T22:53:41.557872Z",
     "iopub.status.idle": "2021-05-16T22:53:41.560984Z",
     "shell.execute_reply": "2021-05-16T22:53:41.560122Z",
     "shell.execute_reply.started": "2021-05-16T22:53:41.558080Z"
    }
   },
   "source": [
    "#### (1) Test New Dataset from 2000 samples from Legislative Questions from 6th Session "
   ]
  },
  {
   "cell_type": "code",
   "execution_count": 23,
   "id": "632bf33e-1df7-46c5-9a67-ab7141a949c2",
   "metadata": {
    "execution": {
     "iopub.execute_input": "2021-06-03T15:04:38.761721Z",
     "iopub.status.busy": "2021-06-03T15:04:38.761301Z",
     "iopub.status.idle": "2021-06-03T15:04:38.767789Z",
     "shell.execute_reply": "2021-06-03T15:04:38.765990Z",
     "shell.execute_reply.started": "2021-06-03T15:04:38.761671Z"
    },
    "tags": []
   },
   "outputs": [],
   "source": [
    "def as_num(x):\n",
    "    \"\"\"\n",
    "    keep 10 decimals\n",
    "    \"\"\"\n",
    "    y = '{:.15f}'.format(x) \n",
    "    return y"
   ]
  },
  {
   "cell_type": "code",
   "execution_count": 24,
   "id": "06ea7d54-49e9-4363-8304-d1dabaf3beb4",
   "metadata": {
    "execution": {
     "iopub.execute_input": "2021-06-03T15:04:38.782189Z",
     "iopub.status.busy": "2021-06-03T15:04:38.781681Z",
     "iopub.status.idle": "2021-06-03T15:04:39.398082Z",
     "shell.execute_reply": "2021-06-03T15:04:39.396657Z",
     "shell.execute_reply.started": "2021-06-03T15:04:38.782134Z"
    },
    "tags": []
   },
   "outputs": [],
   "source": [
    "import pandas as pd\n",
    "import random\n",
    "\n",
    "# test the trined model using new text from 200 samples from Leislative Questions\n",
    "LQ6 = pd.read_csv('data/LQ_6th.csv')\n",
    "\n",
    "# drop '0': legislor  never have proposed any legisaltive questions. \n",
    "LQ6 = LQ6[LQ6['title'].isin(['0'])== False]\n",
    "\n",
    "# select text with number of charecters within EMB_DIM; len(sub_set) = 11162\n",
    "# sample_df = LQ6.loc[[len(char_num) for char_num in LQ6.title if len(char_num) < MAX_LEN], ['legislator','title', 'topic', 'category', 'keywords', 'ques_type']].reset_index(drop=True)\n",
    "random.seed(42)\n",
    "sample_df = LQ6.iloc[random.sample(range(len(LQ6)), 2000)][['legislator', 'title', 'topic', 'category', 'keywords', 'ques_type']]\n",
    "sub_set = [seg_char(text) for text in [clearPucts(text) for text in sample_df.title]]\n"
   ]
  },
  {
   "cell_type": "markdown",
   "id": "68cc06a7-27d7-4007-949d-f7df81246e25",
   "metadata": {
    "tags": []
   },
   "source": [
    "##### Top 10 of 2000 Samples"
   ]
  },
  {
   "cell_type": "code",
   "execution_count": 25,
   "id": "d4b618c9-8c4b-40ec-a396-b4679233197e",
   "metadata": {
    "execution": {
     "iopub.execute_input": "2021-06-03T15:04:39.404481Z",
     "iopub.status.busy": "2021-06-03T15:04:39.404092Z",
     "iopub.status.idle": "2021-06-03T15:04:57.831979Z",
     "shell.execute_reply": "2021-06-03T15:04:57.830925Z",
     "shell.execute_reply.started": "2021-06-03T15:04:39.404433Z"
    },
    "tags": []
   },
   "outputs": [
    {
     "data": {
      "text/html": [
       "<div>\n",
       "<style scoped>\n",
       "    .dataframe tbody tr th:only-of-type {\n",
       "        vertical-align: middle;\n",
       "    }\n",
       "\n",
       "    .dataframe tbody tr th {\n",
       "        vertical-align: top;\n",
       "    }\n",
       "\n",
       "    .dataframe thead th {\n",
       "        text-align: right;\n",
       "    }\n",
       "</style>\n",
       "<table border=\"1\" class=\"dataframe\">\n",
       "  <thead>\n",
       "    <tr style=\"text-align: right;\">\n",
       "      <th></th>\n",
       "      <th>legislator</th>\n",
       "      <th>Pork Value(Constituency Interest)</th>\n",
       "      <th>Legislative Questions</th>\n",
       "      <th>Topic</th>\n",
       "      <th>Key Word</th>\n",
       "    </tr>\n",
       "  </thead>\n",
       "  <tbody>\n",
       "    <tr>\n",
       "      <th>1761</th>\n",
       "      <td>彭添富</td>\n",
       "      <td>0.998209238052368</td>\n",
       "      <td>針對「辦理九十四年原住民中低收入戶家庭租屋補助計畫」專案補助計畫，特向行政院提出質詢。</td>\n",
       "      <td>原住民族生活</td>\n",
       "      <td>原住民中低收入戶 ; 租屋補助</td>\n",
       "    </tr>\n",
       "    <tr>\n",
       "      <th>9892</th>\n",
       "      <td>陳啟昱</td>\n",
       "      <td>0.997866570949554</td>\n",
       "      <td>鑑於現行《所得稅法》第十七條規定特別扣除額教育支出部分，僅以納稅義務人之子女就讀大專院校為限...</td>\n",
       "      <td>所得稅 ; 教育費用 ; 扣除額</td>\n",
       "      <td>所得稅法 ; 特別扣除額 ; 教育支出</td>\n",
       "    </tr>\n",
       "    <tr>\n",
       "      <th>7382</th>\n",
       "      <td>盧秀燕</td>\n",
       "      <td>0.996699690818787</td>\n",
       "      <td>針對早期退除役軍官給與補助金發放金額過低，實無法解決終身生活所需，希望相關單位考量實際情況，...</td>\n",
       "      <td>榮民福利</td>\n",
       "      <td>早期退除役軍官給與補助金</td>\n",
       "    </tr>\n",
       "    <tr>\n",
       "      <th>10471</th>\n",
       "      <td>馮定國</td>\n",
       "      <td>0.995752215385437</td>\n",
       "      <td>鑒於國內經濟結構的快速調整，與人口高齡化的進展，未來中高齡失業問題必將日益嚴重，致使國人老年...</td>\n",
       "      <td>老人福利</td>\n",
       "      <td>高齡化 ; 中高齡失業</td>\n",
       "    </tr>\n",
       "    <tr>\n",
       "      <th>10735</th>\n",
       "      <td>黃志雄</td>\n",
       "      <td>0.992547392845154</td>\n",
       "      <td>針對樹林市三多地區三多國中新設案，因地方政府財務困難，無法如期支付龐大之建校費用，為維護樹林...</td>\n",
       "      <td>學校設立 ; 政府補助</td>\n",
       "      <td>三多國中 ; 建校費用</td>\n",
       "    </tr>\n",
       "    <tr>\n",
       "      <th>4553</th>\n",
       "      <td>林鴻池</td>\n",
       "      <td>0.991347432136536</td>\n",
       "      <td>針對行政院宣布補助弱勢家庭子女就讀私校高中職之學費，卻將資格限制在「非自願就讀者」，有畫餅充...</td>\n",
       "      <td>低收入戶 ; 教育補助</td>\n",
       "      <td>弱勢家庭 ; 私立高中職</td>\n",
       "    </tr>\n",
       "    <tr>\n",
       "      <th>8340</th>\n",
       "      <td>蔡煌瑯(離職)</td>\n",
       "      <td>0.989324092864990</td>\n",
       "      <td>「2005南投花卉嘉年華」活動爭取中央經費補助案由，特向行政院提出質詢。</td>\n",
       "      <td>農業推廣 ; 政府補助</td>\n",
       "      <td>南投花卉嘉年華 ; 中央經費</td>\n",
       "    </tr>\n",
       "    <tr>\n",
       "      <th>9527</th>\n",
       "      <td>鄭朝明</td>\n",
       "      <td>0.988275885581970</td>\n",
       "      <td>針對我國生育率逐年下降，嚴重影響人口結構發展。民眾不願多生育子女，主因在於負擔費用過重，政府...</td>\n",
       "      <td>出生率 ; 人口政策</td>\n",
       "      <td>生育率 ; 人口 ; 人口老化</td>\n",
       "    </tr>\n",
       "    <tr>\n",
       "      <th>35</th>\n",
       "      <td>丁守中</td>\n",
       "      <td>0.979786992073059</td>\n",
       "      <td>針就民眾陳情指出，目前政府對身心障礙者提供之生活津貼，依身心障礙程度等級分為1000元至50...</td>\n",
       "      <td>身心障礙者福利</td>\n",
       "      <td>身心障礙者生活津貼</td>\n",
       "    </tr>\n",
       "    <tr>\n",
       "      <th>3999</th>\n",
       "      <td>林正峰</td>\n",
       "      <td>0.978763997554779</td>\n",
       "      <td>針對政府準備修法推動「二代健保」，健保保費採取「年度所得總額」為計算基礎，而非採用扣除免稅額...</td>\n",
       "      <td>國民 ; 健康保險 ; 保險費</td>\n",
       "      <td>二代健保 ; 年度所得總額</td>\n",
       "    </tr>\n",
       "    <tr>\n",
       "      <th>533</th>\n",
       "      <td>吳志揚</td>\n",
       "      <td>0.974449753761292</td>\n",
       "      <td>針對政府打著照顧中產階級的漂亮旗號，擬調增受薪大眾的薪資特別扣除額，但是只在薪資扣除額調整幅...</td>\n",
       "      <td>薪資扣除額</td>\n",
       "      <td>薪資特別扣除額</td>\n",
       "    </tr>\n",
       "    <tr>\n",
       "      <th>2450</th>\n",
       "      <td>李俊毅</td>\n",
       "      <td>0.971373915672302</td>\n",
       "      <td>針對「幼兒教育與照顧法」研究案即將出爐，因為師生比例調整，預估學費將會有所調整，政府應提供相...</td>\n",
       "      <td>教育政策 ; 學前教育</td>\n",
       "      <td>幼兒教育與照顧法 ; 學費 ; 幼兒托育</td>\n",
       "    </tr>\n",
       "    <tr>\n",
       "      <th>1641</th>\n",
       "      <td>彭添富</td>\n",
       "      <td>0.970067858695984</td>\n",
       "      <td>針對「豪雨成災，農作物損失補償」問題，特向行政院提出質詢。</td>\n",
       "      <td>農業補助</td>\n",
       "      <td>豪雨 ; 農作物</td>\n",
       "    </tr>\n",
       "    <tr>\n",
       "      <th>7384</th>\n",
       "      <td>盧秀燕</td>\n",
       "      <td>0.969111204147339</td>\n",
       "      <td>針對幼稚園學費過高，家長難以負擔且生育率每年下降，希望有關單位將幼兒教育卷提前至四歲幼兒開始...</td>\n",
       "      <td>學前教育 ; 教育費用</td>\n",
       "      <td>幼稚園學費 ; 幼兒教育卷</td>\n",
       "    </tr>\n",
       "    <tr>\n",
       "      <th>1296</th>\n",
       "      <td>廖婉汝</td>\n",
       "      <td>0.967258632183075</td>\n",
       "      <td>針對高高屏三縣市家庭收入偏低，要求政府應設法為高高屏三縣市創造就業機會，以提高高高屏三縣市之...</td>\n",
       "      <td>貧富差距 ; 低收入戶 ; 失業</td>\n",
       "      <td>家庭收入 ; 就業機會</td>\n",
       "    </tr>\n",
       "  </tbody>\n",
       "</table>\n",
       "</div>"
      ],
      "text/plain": [
       "      legislator Pork Value(Constituency Interest)  \\\n",
       "1761         彭添富                 0.998209238052368   \n",
       "9892         陳啟昱                 0.997866570949554   \n",
       "7382         盧秀燕                 0.996699690818787   \n",
       "10471        馮定國                 0.995752215385437   \n",
       "10735        黃志雄                 0.992547392845154   \n",
       "4553         林鴻池                 0.991347432136536   \n",
       "8340     蔡煌瑯(離職)                 0.989324092864990   \n",
       "9527         鄭朝明                 0.988275885581970   \n",
       "35           丁守中                 0.979786992073059   \n",
       "3999         林正峰                 0.978763997554779   \n",
       "533          吳志揚                 0.974449753761292   \n",
       "2450         李俊毅                 0.971373915672302   \n",
       "1641         彭添富                 0.970067858695984   \n",
       "7384         盧秀燕                 0.969111204147339   \n",
       "1296         廖婉汝                 0.967258632183075   \n",
       "\n",
       "                                  Legislative Questions              Topic  \\\n",
       "1761         針對「辦理九十四年原住民中低收入戶家庭租屋補助計畫」專案補助計畫，特向行政院提出質詢。            原住民族生活   \n",
       "9892   鑑於現行《所得稅法》第十七條規定特別扣除額教育支出部分，僅以納稅義務人之子女就讀大專院校為限...  所得稅 ; 教育費用 ; 扣除額   \n",
       "7382   針對早期退除役軍官給與補助金發放金額過低，實無法解決終身生活所需，希望相關單位考量實際情況，...              榮民福利   \n",
       "10471  鑒於國內經濟結構的快速調整，與人口高齡化的進展，未來中高齡失業問題必將日益嚴重，致使國人老年...              老人福利   \n",
       "10735  針對樹林市三多地區三多國中新設案，因地方政府財務困難，無法如期支付龐大之建校費用，為維護樹林...       學校設立 ; 政府補助   \n",
       "4553   針對行政院宣布補助弱勢家庭子女就讀私校高中職之學費，卻將資格限制在「非自願就讀者」，有畫餅充...       低收入戶 ; 教育補助   \n",
       "8340                「2005南投花卉嘉年華」活動爭取中央經費補助案由，特向行政院提出質詢。       農業推廣 ; 政府補助   \n",
       "9527   針對我國生育率逐年下降，嚴重影響人口結構發展。民眾不願多生育子女，主因在於負擔費用過重，政府...        出生率 ; 人口政策   \n",
       "35     針就民眾陳情指出，目前政府對身心障礙者提供之生活津貼，依身心障礙程度等級分為1000元至50...           身心障礙者福利   \n",
       "3999   針對政府準備修法推動「二代健保」，健保保費採取「年度所得總額」為計算基礎，而非採用扣除免稅額...   國民 ; 健康保險 ; 保險費   \n",
       "533    針對政府打著照顧中產階級的漂亮旗號，擬調增受薪大眾的薪資特別扣除額，但是只在薪資扣除額調整幅...             薪資扣除額   \n",
       "2450   針對「幼兒教育與照顧法」研究案即將出爐，因為師生比例調整，預估學費將會有所調整，政府應提供相...       教育政策 ; 學前教育   \n",
       "1641                       針對「豪雨成災，農作物損失補償」問題，特向行政院提出質詢。              農業補助   \n",
       "7384   針對幼稚園學費過高，家長難以負擔且生育率每年下降，希望有關單位將幼兒教育卷提前至四歲幼兒開始...       學前教育 ; 教育費用   \n",
       "1296   針對高高屏三縣市家庭收入偏低，要求政府應設法為高高屏三縣市創造就業機會，以提高高高屏三縣市之...  貧富差距 ; 低收入戶 ; 失業   \n",
       "\n",
       "                   Key Word  \n",
       "1761        原住民中低收入戶 ; 租屋補助  \n",
       "9892    所得稅法 ; 特別扣除額 ; 教育支出  \n",
       "7382           早期退除役軍官給與補助金  \n",
       "10471           高齡化 ; 中高齡失業  \n",
       "10735           三多國中 ; 建校費用  \n",
       "4553           弱勢家庭 ; 私立高中職  \n",
       "8340         南投花卉嘉年華 ; 中央經費  \n",
       "9527        生育率 ; 人口 ; 人口老化  \n",
       "35                身心障礙者生活津貼  \n",
       "3999          二代健保 ; 年度所得總額  \n",
       "533                 薪資特別扣除額  \n",
       "2450   幼兒教育與照顧法 ; 學費 ; 幼兒托育  \n",
       "1641               豪雨 ; 農作物  \n",
       "7384          幼稚園學費 ; 幼兒教育卷  \n",
       "1296            家庭收入 ; 就業機會  "
      ]
     },
     "execution_count": 25,
     "metadata": {},
     "output_type": "execute_result"
    }
   ],
   "source": [
    "pd.DataFrame(\n",
    "    {'legislator': sample_df.legislator,\n",
    "     'Pork Value(Constituency Interest)':[as_num(Dcnn(np.array([tokenizer.encode(line)]), training=True).numpy()[0][0]) for line in sub_set],\n",
    "     'Legislative Questions ': sample_df.title,\n",
    "     'Topic': sample_df.topic,\n",
    "     'Key Word':sample_df.keywords}).sort_values(by=['Pork Value(Constituency Interest)'], ascending = False).head(15)"
   ]
  },
  {
   "cell_type": "markdown",
   "id": "6a6d4b15-3e05-427d-a664-8c8ce4e6622c",
   "metadata": {},
   "source": [
    "##### Last 10 Rows of 2000 Samples"
   ]
  },
  {
   "cell_type": "code",
   "execution_count": 26,
   "id": "369a7336-dc9d-4883-b919-b19611b5ad39",
   "metadata": {
    "execution": {
     "iopub.execute_input": "2021-06-03T15:04:57.834070Z",
     "iopub.status.busy": "2021-06-03T15:04:57.833767Z",
     "iopub.status.idle": "2021-06-03T15:05:11.546234Z",
     "shell.execute_reply": "2021-06-03T15:05:11.545493Z",
     "shell.execute_reply.started": "2021-06-03T15:04:57.834031Z"
    },
    "tags": []
   },
   "outputs": [
    {
     "data": {
      "text/html": [
       "<div>\n",
       "<style scoped>\n",
       "    .dataframe tbody tr th:only-of-type {\n",
       "        vertical-align: middle;\n",
       "    }\n",
       "\n",
       "    .dataframe tbody tr th {\n",
       "        vertical-align: top;\n",
       "    }\n",
       "\n",
       "    .dataframe thead th {\n",
       "        text-align: right;\n",
       "    }\n",
       "</style>\n",
       "<table border=\"1\" class=\"dataframe\">\n",
       "  <thead>\n",
       "    <tr style=\"text-align: right;\">\n",
       "      <th></th>\n",
       "      <th>legislator</th>\n",
       "      <th>Pork Value(Constituency Interest)</th>\n",
       "      <th>Legislative Questions</th>\n",
       "      <th>Topic</th>\n",
       "      <th>Key Word</th>\n",
       "    </tr>\n",
       "  </thead>\n",
       "  <tbody>\n",
       "    <tr>\n",
       "      <th>5209</th>\n",
       "      <td>沈智慧</td>\n",
       "      <td>0.000004554513907</td>\n",
       "      <td>有鑒於台鐵意外頻傳，從訂票系統到五條人命的悲劇，日常班次也誤點連連，導致國人對台鐵的信心蕩然...</td>\n",
       "      <td>鐵路管理</td>\n",
       "      <td>台鐵管理</td>\n",
       "    </tr>\n",
       "    <tr>\n",
       "      <th>6532</th>\n",
       "      <td>王幸男</td>\n",
       "      <td>0.000004176607945</td>\n",
       "      <td>針對陳總統日昨重申，有信心一定能夠在二○○八年卸任總統之前，為台灣催生一部合身、合時、合用的...</td>\n",
       "      <td>憲法修正</td>\n",
       "      <td>新憲法 ; 修改憲法</td>\n",
       "    </tr>\n",
       "    <tr>\n",
       "      <th>9915</th>\n",
       "      <td>陳啟昱</td>\n",
       "      <td>0.000004027605883</td>\n",
       "      <td>鑒於近年來外籍配偶議題在台灣逐漸發酵，但因我國法令所囿，其國籍歸屬經常因為離婚或其他因素，而...</td>\n",
       "      <td>國籍 ; 外國人 ; 婚姻</td>\n",
       "      <td>外籍配偶 ; 離婚 ; 無國籍</td>\n",
       "    </tr>\n",
       "    <tr>\n",
       "      <th>3485</th>\n",
       "      <td>林德福</td>\n",
       "      <td>0.000003166892384</td>\n",
       "      <td>針對國內毒品市場再見新玩意，表示關切！一種名為「Ｎｅｘｕｓ」新興毒品，已入侵台灣。這種俗稱「...</td>\n",
       "      <td>毒品</td>\n",
       "      <td>毒品 ; Ｎｅｘｕｓ</td>\n",
       "    </tr>\n",
       "    <tr>\n",
       "      <th>7674</th>\n",
       "      <td>羅世雄</td>\n",
       "      <td>0.000003063877102</td>\n",
       "      <td>針對手機通訊業者辦理新辦戶及更換SIM卡程序中，出現犯罪集團持偽造身分證，藉此竊取個人資料，...</td>\n",
       "      <td>電信行政 ; 國民身分證 ; 隱私權 ; 偽造</td>\n",
       "      <td>手機 ; 竊取個人資料 ; 犯罪集團</td>\n",
       "    </tr>\n",
       "    <tr>\n",
       "      <th>1299</th>\n",
       "      <td>廖婉汝</td>\n",
       "      <td>0.000002923318334</td>\n",
       "      <td>針對近來警界風紀事件頻傳，身為人民保母的員警卻屢屢傳出知法犯法、違法亂紀的情形，嚴重侵害到人...</td>\n",
       "      <td>警察風紀</td>\n",
       "      <td>警界風紀</td>\n",
       "    </tr>\n",
       "    <tr>\n",
       "      <th>10120</th>\n",
       "      <td>陳朝龍</td>\n",
       "      <td>0.000002733298743</td>\n",
       "      <td>針對英國政府宣稱台灣出口至該國禽鳥，檢驗出感染禽流感H5N1病毒死亡。由於我國迄今並未發現有...</td>\n",
       "      <td>傳染病防治 ; 走私</td>\n",
       "      <td>英國政府 ; 台灣禽鳥 ; 禽流感 ; 相思鳥 ; 走私</td>\n",
       "    </tr>\n",
       "    <tr>\n",
       "      <th>5298</th>\n",
       "      <td>沈智慧</td>\n",
       "      <td>0.000002192776265</td>\n",
       "      <td>針對貴院謝院長長廷上任後，包括前第一金控董事長謝壽夫、台師大校長黃光彩先後去職；另包括內政部...</td>\n",
       "      <td>行政首長</td>\n",
       "      <td>部會首長 ; 道歉內閣</td>\n",
       "    </tr>\n",
       "    <tr>\n",
       "      <th>5595</th>\n",
       "      <td>潘孟安</td>\n",
       "      <td>0.000001794590162</td>\n",
       "      <td>就立法委員選舉，改採單一選區兩票制即將首度實施，中央選舉委員應加強宣導「單一選區兩票制」的新...</td>\n",
       "      <td>選舉</td>\n",
       "      <td>立法委員選舉 ; 單一選區兩票制</td>\n",
       "    </tr>\n",
       "    <tr>\n",
       "      <th>4356</th>\n",
       "      <td>林進興</td>\n",
       "      <td>0.000001685367920</td>\n",
       "      <td>針對行政院金融監督管理委員會為了解決國人廣大的卡債問題，積極推廣債務協商機制，政策本意良好，...</td>\n",
       "      <td>信用卡 ; 債務</td>\n",
       "      <td>卡債 ; 協商機制</td>\n",
       "    </tr>\n",
       "    <tr>\n",
       "      <th>1169</th>\n",
       "      <td>孫大千</td>\n",
       "      <td>0.000001528482130</td>\n",
       "      <td>針對行政院勞工委員會（以下簡稱勞委會）軟性凍結泰勞政策之決策過程是否有當，特向行政院提出質詢。</td>\n",
       "      <td>外籍勞工</td>\n",
       "      <td>凍結泰勞</td>\n",
       "    </tr>\n",
       "    <tr>\n",
       "      <th>716</th>\n",
       "      <td>吳敦義</td>\n",
       "      <td>0.000001500164217</td>\n",
       "      <td>針對新聞局長謝志偉於立院議場備詢時，被要求下台，卻堅不下台一事，顯示行政院對憲法之基本尊重全...</td>\n",
       "      <td>政務官 ; 立法院</td>\n",
       "      <td>新聞局長謝志偉 ; 立院議場</td>\n",
       "    </tr>\n",
       "    <tr>\n",
       "      <th>2439</th>\n",
       "      <td>李俊毅</td>\n",
       "      <td>0.000001390626835</td>\n",
       "      <td>針對近來國務機要費與首長特別費因相關規範未臻明確，遭質疑該筆金額等同於首長薪水或私房錢，且有...</td>\n",
       "      <td>國家元首 ; 行政首長 ; 統一發票</td>\n",
       "      <td>國務機要費 ; 首長特別費</td>\n",
       "    </tr>\n",
       "    <tr>\n",
       "      <th>7429</th>\n",
       "      <td>管碧玲</td>\n",
       "      <td>0.000001356843768</td>\n",
       "      <td>針對近日台灣鐵路管理局發生網路訂票系統遭到內部人員惡意壟斷，導致一般民眾訂票權益受損之弊端；...</td>\n",
       "      <td>鐵路管理 ; 車票</td>\n",
       "      <td>網路訂票 ; 壟斷 ; 台鐵</td>\n",
       "    </tr>\n",
       "    <tr>\n",
       "      <th>845</th>\n",
       "      <td>吳清池</td>\n",
       "      <td>0.000000741780127</td>\n",
       "      <td>有鑑於近年來大客車（遊覽車）事故頻傳，屢屢造成重大傷亡，多肇因於車輛不符安全規格，建請行政院...</td>\n",
       "      <td>交通安全 ; 客運業 ; 車輛檢驗</td>\n",
       "      <td>大客車 ; 遊覽車 ; 事故 ; 傷亡</td>\n",
       "    </tr>\n",
       "  </tbody>\n",
       "</table>\n",
       "</div>"
      ],
      "text/plain": [
       "      legislator Pork Value(Constituency Interest)  \\\n",
       "5209         沈智慧                 0.000004554513907   \n",
       "6532         王幸男                 0.000004176607945   \n",
       "9915         陳啟昱                 0.000004027605883   \n",
       "3485         林德福                 0.000003166892384   \n",
       "7674         羅世雄                 0.000003063877102   \n",
       "1299         廖婉汝                 0.000002923318334   \n",
       "10120        陳朝龍                 0.000002733298743   \n",
       "5298         沈智慧                 0.000002192776265   \n",
       "5595         潘孟安                 0.000001794590162   \n",
       "4356         林進興                 0.000001685367920   \n",
       "1169         孫大千                 0.000001528482130   \n",
       "716          吳敦義                 0.000001500164217   \n",
       "2439         李俊毅                 0.000001390626835   \n",
       "7429         管碧玲                 0.000001356843768   \n",
       "845          吳清池                 0.000000741780127   \n",
       "\n",
       "                                  Legislative Questions   \\\n",
       "5209   有鑒於台鐵意外頻傳，從訂票系統到五條人命的悲劇，日常班次也誤點連連，導致國人對台鐵的信心蕩然...   \n",
       "6532   針對陳總統日昨重申，有信心一定能夠在二○○八年卸任總統之前，為台灣催生一部合身、合時、合用的...   \n",
       "9915   鑒於近年來外籍配偶議題在台灣逐漸發酵，但因我國法令所囿，其國籍歸屬經常因為離婚或其他因素，而...   \n",
       "3485   針對國內毒品市場再見新玩意，表示關切！一種名為「Ｎｅｘｕｓ」新興毒品，已入侵台灣。這種俗稱「...   \n",
       "7674   針對手機通訊業者辦理新辦戶及更換SIM卡程序中，出現犯罪集團持偽造身分證，藉此竊取個人資料，...   \n",
       "1299   針對近來警界風紀事件頻傳，身為人民保母的員警卻屢屢傳出知法犯法、違法亂紀的情形，嚴重侵害到人...   \n",
       "10120  針對英國政府宣稱台灣出口至該國禽鳥，檢驗出感染禽流感H5N1病毒死亡。由於我國迄今並未發現有...   \n",
       "5298   針對貴院謝院長長廷上任後，包括前第一金控董事長謝壽夫、台師大校長黃光彩先後去職；另包括內政部...   \n",
       "5595   就立法委員選舉，改採單一選區兩票制即將首度實施，中央選舉委員應加強宣導「單一選區兩票制」的新...   \n",
       "4356   針對行政院金融監督管理委員會為了解決國人廣大的卡債問題，積極推廣債務協商機制，政策本意良好，...   \n",
       "1169     針對行政院勞工委員會（以下簡稱勞委會）軟性凍結泰勞政策之決策過程是否有當，特向行政院提出質詢。   \n",
       "716    針對新聞局長謝志偉於立院議場備詢時，被要求下台，卻堅不下台一事，顯示行政院對憲法之基本尊重全...   \n",
       "2439   針對近來國務機要費與首長特別費因相關規範未臻明確，遭質疑該筆金額等同於首長薪水或私房錢，且有...   \n",
       "7429   針對近日台灣鐵路管理局發生網路訂票系統遭到內部人員惡意壟斷，導致一般民眾訂票權益受損之弊端；...   \n",
       "845    有鑑於近年來大客車（遊覽車）事故頻傳，屢屢造成重大傷亡，多肇因於車輛不符安全規格，建請行政院...   \n",
       "\n",
       "                         Topic                      Key Word  \n",
       "5209                      鐵路管理                          台鐵管理  \n",
       "6532                      憲法修正                    新憲法 ; 修改憲法  \n",
       "9915             國籍 ; 外國人 ; 婚姻               外籍配偶 ; 離婚 ; 無國籍  \n",
       "3485                        毒品                    毒品 ; Ｎｅｘｕｓ  \n",
       "7674   電信行政 ; 國民身分證 ; 隱私權 ; 偽造            手機 ; 竊取個人資料 ; 犯罪集團  \n",
       "1299                      警察風紀                          警界風紀  \n",
       "10120               傳染病防治 ; 走私  英國政府 ; 台灣禽鳥 ; 禽流感 ; 相思鳥 ; 走私  \n",
       "5298                      行政首長                   部會首長 ; 道歉內閣  \n",
       "5595                        選舉              立法委員選舉 ; 單一選區兩票制  \n",
       "4356                  信用卡 ; 債務                     卡債 ; 協商機制  \n",
       "1169                      外籍勞工                          凍結泰勞  \n",
       "716                  政務官 ; 立法院                新聞局長謝志偉 ; 立院議場  \n",
       "2439        國家元首 ; 行政首長 ; 統一發票                 國務機要費 ; 首長特別費  \n",
       "7429                 鐵路管理 ; 車票                網路訂票 ; 壟斷 ; 台鐵  \n",
       "845          交通安全 ; 客運業 ; 車輛檢驗           大客車 ; 遊覽車 ; 事故 ; 傷亡  "
      ]
     },
     "execution_count": 26,
     "metadata": {},
     "output_type": "execute_result"
    }
   ],
   "source": [
    "pd.DataFrame(\n",
    "    {'legislator': sample_df.legislator,\n",
    "     'Pork Value(Constituency Interest)':[as_num(Dcnn(np.array([tokenizer.encode(line)]), training=True).numpy()[0][0]) for line in sub_set],\n",
    "     'Legislative Questions ': sample_df.title,\n",
    "     'Topic': sample_df.topic,\n",
    "     'Key Word':sample_df.keywords}).sort_values(by=['Pork Value(Constituency Interest)'], ascending = False).tail(15)"
   ]
  },
  {
   "cell_type": "markdown",
   "id": "5dc01475-847a-408f-9972-ac02e7aa4721",
   "metadata": {},
   "source": [
    "#### (2) Export an End-to-end Model\n"
   ]
  },
  {
   "cell_type": "code",
   "execution_count": 27,
   "id": "196028d0-edfe-434f-a173-4ccaa688faaa",
   "metadata": {
    "execution": {
     "iopub.execute_input": "2021-06-03T15:05:11.547700Z",
     "iopub.status.busy": "2021-06-03T15:05:11.547317Z",
     "iopub.status.idle": "2021-06-03T15:05:11.550745Z",
     "shell.execute_reply": "2021-06-03T15:05:11.549971Z",
     "shell.execute_reply.started": "2021-06-03T15:05:11.547667Z"
    },
    "tags": []
   },
   "outputs": [],
   "source": [
    "from tensorflow.keras.models import load_model"
   ]
  },
  {
   "cell_type": "code",
   "execution_count": 28,
   "id": "071291d0-c5bb-48de-adb2-f8b2bb3bb542",
   "metadata": {
    "execution": {
     "iopub.execute_input": "2021-06-03T15:05:11.552080Z",
     "iopub.status.busy": "2021-06-03T15:05:11.551865Z",
     "iopub.status.idle": "2021-06-03T15:05:12.861152Z",
     "shell.execute_reply": "2021-06-03T15:05:12.860372Z",
     "shell.execute_reply.started": "2021-06-03T15:05:11.552054Z"
    },
    "tags": []
   },
   "outputs": [
    {
     "name": "stdout",
     "output_type": "stream",
     "text": [
      "INFO:tensorflow:Assets written to: lour_pork_model/assets\n"
     ]
    },
    {
     "name": "stderr",
     "output_type": "stream",
     "text": [
      "INFO:tensorflow:Assets written to: lour_pork_model/assets\n"
     ]
    }
   ],
   "source": [
    "# Get model (Sequential, Functional Model, or Model subclass)\n",
    "Dcnn.save('lour_pork_model')"
   ]
  },
  {
   "cell_type": "code",
   "execution_count": 29,
   "id": "2ac46183-b841-469b-8897-1fea2922e445",
   "metadata": {
    "execution": {
     "iopub.execute_input": "2021-06-03T15:05:12.862864Z",
     "iopub.status.busy": "2021-06-03T15:05:12.862604Z",
     "iopub.status.idle": "2021-06-03T15:05:13.316630Z",
     "shell.execute_reply": "2021-06-03T15:05:13.315951Z",
     "shell.execute_reply.started": "2021-06-03T15:05:12.862831Z"
    },
    "tags": []
   },
   "outputs": [],
   "source": [
    "from tensorflow import keras\n",
    "model = keras.models.load_model('lour_pork_model')"
   ]
  }
 ],
 "metadata": {
  "kernelspec": {
   "display_name": "Python 3",
   "language": "python",
   "name": "python3"
  },
  "language_info": {
   "codemirror_mode": {
    "name": "ipython",
    "version": 3
   },
   "file_extension": ".py",
   "mimetype": "text/x-python",
   "name": "python",
   "nbconvert_exporter": "python",
   "pygments_lexer": "ipython3",
   "version": "3.8.8"
  }
 },
 "nbformat": 4,
 "nbformat_minor": 5
}
