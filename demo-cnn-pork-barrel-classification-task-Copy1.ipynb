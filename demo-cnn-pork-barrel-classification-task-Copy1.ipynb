{
 "cells": [
  {
   "cell_type": "markdown",
   "id": "b65dfbdc-bb80-4bd4-8248-dd06483222cd",
   "metadata": {},
   "source": [
    "# Lour's Pork Barrel Classifier (羅老師肉桶文本分類器)🐖\n",
    "## Convolutional Neural Networks for Pork Barrel Project Classification "
   ]
  },
  {
   "cell_type": "markdown",
   "id": "e8005d5a-f938-4c26-86d5-592408152d08",
   "metadata": {},
   "source": [
    "-------------------------\n",
    "\n",
    "### Stage 1: Libaries & Dependencies"
   ]
  },
  {
   "cell_type": "code",
   "execution_count": 1,
   "id": "6ca92ba3-7480-418f-91e0-d2beea2d10af",
   "metadata": {
    "execution": {
     "iopub.execute_input": "2021-05-22T19:54:51.306436Z",
     "iopub.status.busy": "2021-05-22T19:54:51.306277Z",
     "iopub.status.idle": "2021-05-22T19:54:57.028872Z",
     "shell.execute_reply": "2021-05-22T19:54:57.028304Z",
     "shell.execute_reply.started": "2021-05-22T19:54:51.306417Z"
    },
    "tags": []
   },
   "outputs": [],
   "source": [
    "# built-in library\n",
    "import math\n",
    "import re\n",
    "import collections\n",
    "import zipfile\n",
    "import random\n",
    "from itertools import chain\n",
    "\n",
    "# ML & Deep Learning/ NLP toolkit\n",
    "import pandas as pd\n",
    "import numpy as np\n",
    "import jieba\n",
    "from sklearn.model_selection import train_test_split\n",
    "import tensorflow as tf\n",
    "from tensorflow.keras import layers\n",
    "import tensorflow_datasets as tfds\n",
    "from tensorflow.keras.callbacks import EarlyStopping,TensorBoard\n",
    "\n",
    "# Visualization\n",
    "import matplotlib.pyplot as plt\n",
    "import seaborn as sns"
   ]
  },
  {
   "cell_type": "markdown",
   "id": "8bd77e05-355a-422f-87db-2cf77cba3bdd",
   "metadata": {},
   "source": [
    "-------------------------\n",
    "\n",
    "### Stage 2: Data Preprocessing (Training Data: Introduction of Bills and Legislation from 6th Session to 7th Session, 2004-2012)"
   ]
  },
  {
   "cell_type": "markdown",
   "id": "3b57b9c9-443e-4e26-bda2-15f6877845d5",
   "metadata": {},
   "source": [
    "#### (1) Read file "
   ]
  },
  {
   "cell_type": "code",
   "execution_count": 2,
   "id": "e1973cfb-73d4-4717-a67a-a4e8a0c9edb0",
   "metadata": {
    "execution": {
     "iopub.execute_input": "2021-05-22T19:54:57.029942Z",
     "iopub.status.busy": "2021-05-22T19:54:57.029789Z",
     "iopub.status.idle": "2021-05-22T19:54:57.069155Z",
     "shell.execute_reply": "2021-05-22T19:54:57.068636Z",
     "shell.execute_reply.started": "2021-05-22T19:54:57.029923Z"
    },
    "tags": []
   },
   "outputs": [],
   "source": [
    "# read file\n",
    "df = pd.read_csv('data/Pork Bill - 2021-05-20.csv',encoding='utf-8')\n",
    "\n",
    "# combine abstract of bill and title \n",
    "df['text'] =  df['Title'] + df['Content'].fillna(df['Title'])\n",
    "\n",
    "# drop conten without having any characters\n",
    "# view na's row: df[df['text'].isnull()==True]\n",
    "data = df[['text', 'pork_bill']].dropna(subset=['text'])"
   ]
  },
  {
   "cell_type": "code",
   "execution_count": 3,
   "id": "f6160785-9522-4404-8f77-6df941869cde",
   "metadata": {
    "execution": {
     "iopub.execute_input": "2021-05-22T19:54:57.070271Z",
     "iopub.status.busy": "2021-05-22T19:54:57.070107Z",
     "iopub.status.idle": "2021-05-22T19:54:57.074835Z",
     "shell.execute_reply": "2021-05-22T19:54:57.074266Z",
     "shell.execute_reply.started": "2021-05-22T19:54:57.070252Z"
    },
    "tags": []
   },
   "outputs": [
    {
     "name": "stdout",
     "output_type": "stream",
     "text": [
      " Pork Legislation 2510 \n",
      " None-Pork Legislation 4733\n"
     ]
    }
   ],
   "source": [
    "print(\" Pork Legislation\", data['pork_bill'].value_counts()[1],'\\n', \n",
    "      \"None-Pork Legislation\", data['pork_bill'].value_counts()[0])"
   ]
  },
  {
   "cell_type": "code",
   "execution_count": 4,
   "id": "8c43d1c2-ed04-45e5-b45d-c0f24cdf7d6f",
   "metadata": {
    "execution": {
     "iopub.execute_input": "2021-05-22T19:54:57.075800Z",
     "iopub.status.busy": "2021-05-22T19:54:57.075652Z",
     "iopub.status.idle": "2021-05-22T19:54:57.086149Z",
     "shell.execute_reply": "2021-05-22T19:54:57.085604Z",
     "shell.execute_reply.started": "2021-05-22T19:54:57.075781Z"
    },
    "tags": []
   },
   "outputs": [],
   "source": [
    "random.seed(24)\n",
    "data = data[data['pork_bill']==1].append(data[data['pork_bill']==0].reset_index(drop=True).loc[[random.randint(0, 2500) for i in range(2500)]]).reset_index(drop=True)"
   ]
  },
  {
   "cell_type": "markdown",
   "id": "5e6d677d-e200-40e6-9252-130eb02fc682",
   "metadata": {
    "execution": {
     "iopub.execute_input": "2021-05-16T17:01:03.001989Z",
     "iopub.status.busy": "2021-05-16T17:01:03.001801Z",
     "iopub.status.idle": "2021-05-16T17:01:03.004600Z",
     "shell.execute_reply": "2021-05-16T17:01:03.003789Z",
     "shell.execute_reply.started": "2021-05-16T17:01:03.001969Z"
    }
   },
   "source": [
    "#### (2) Tokenization"
   ]
  },
  {
   "cell_type": "code",
   "execution_count": 5,
   "id": "120e8b54-7f75-4ca6-a0d0-9872b1522e8e",
   "metadata": {
    "execution": {
     "iopub.execute_input": "2021-05-22T19:54:57.087372Z",
     "iopub.status.busy": "2021-05-22T19:54:57.087206Z",
     "iopub.status.idle": "2021-05-22T19:54:57.095355Z",
     "shell.execute_reply": "2021-05-22T19:54:57.094771Z",
     "shell.execute_reply.started": "2021-05-22T19:54:57.087353Z"
    },
    "tags": []
   },
   "outputs": [],
   "source": [
    "import collections\n",
    "import numpy as np\n",
    "import jieba\n",
    "from itertools import chain\n",
    "\n",
    "\n",
    "def jieba_cut(filename):\n",
    "    \"\"\"\n",
    "    cut Chinese and remove stop words\n",
    "    Reference: https://www.cnblogs.com/Luv-GEM/p/10836454.html\n",
    "    Stopwords: https://www.kaggle.com/rikdifos/english-and-chinese-stopwords?select=cn_stopwords.txt\n",
    "    \"\"\"\n",
    "    stop_list = [i.strip() for i in open('cn_stopwords.txt','r',encoding='utf-8')]  \n",
    "    news_cut = []\n",
    "    news_list = []\n",
    "    for line in filename:    \n",
    "        if line:\n",
    "            news_cut = list(jieba.cut(''.join(line),cut_all=False,HMM=True))  \n",
    "            news_list.append([word.strip() for word in news_cut if word not in stop_list and len(word.strip())>0]) \n",
    "    news_list = list(chain.from_iterable(news_list))  \n",
    "    return news_list\n",
    "\n",
    "def clearPucts(context):\n",
    "    \"\"\"\n",
    "    remove punctuation\n",
    "    ref: https://chenyuzuoo.github.io/posts/28001/\n",
    "    \"\"\"\n",
    "    context = re.sub(\"[\\s+\\.\\!\\/_,$%^*(+\\\"\\']+|[+——！，。？、~@#￥%……&*（）]+\", \"\", context)\n",
    "    context = re.sub(\"[【】╮╯▽╰╭★→「」]+\",\"\", context)\n",
    "    context = re.sub(\"！，❤。～《》：（）【】「」？”“；：、\",\"\",context)\n",
    "    context = re.sub(\"\\s\",\"\",context)\n",
    "    return context\n",
    "\n",
    "def seg_char(sent):\n",
    "    \"\"\"\n",
    "    cut Chinese and remove stop words\n",
    "    ref: https://blog.csdn.net/renyuanfang/article/details/86487367\n",
    "    \"\"\"\n",
    "    # split\n",
    "    pattern_char_1 = re.compile(r'([\\W])')\n",
    "    parts = pattern_char_1.split(sent)\n",
    "    parts = [p for p in parts if len(p.strip())>0]\n",
    "    # cut sentence\n",
    "    pattern = re.compile(r'([\\u4e00-\\u9fa5])')\n",
    "    chars = pattern.split(sent)\n",
    "    chars = [w for w in chars if len(w.strip())>0]\n",
    "    chars = ' '.join(chars)\n",
    "    return chars\n",
    "\n",
    "# import spacy\n",
    "# # python3 -m spacy download zh_core_web_sm\n",
    "# spacy_nlp = spacy.load(\"zh_core_web_sm\")\n",
    "\n",
    "# data_clean = [clearPucts(text) for text in data.text]\n",
    "# data_clean = [[spacy_nlp(sentence).vector for sentence in data] for data in data_clean]"
   ]
  },
  {
   "cell_type": "code",
   "execution_count": 6,
   "id": "25f4277c-001d-47a4-81d0-f5ac5ec5e5d3",
   "metadata": {
    "execution": {
     "iopub.execute_input": "2021-05-22T19:54:57.098270Z",
     "iopub.status.busy": "2021-05-22T19:54:57.098096Z",
     "iopub.status.idle": "2021-05-22T19:54:58.438176Z",
     "shell.execute_reply": "2021-05-22T19:54:58.437494Z",
     "shell.execute_reply.started": "2021-05-22T19:54:57.098251Z"
    },
    "tags": []
   },
   "outputs": [],
   "source": [
    "data_clean = [seg_char(text) for text in [clearPucts(text) for text in data.text]]\n",
    "\n",
    "tokenizer = tfds.deprecated.text.SubwordTextEncoder.build_from_corpus(\n",
    "    data_clean, target_vocab_size=2**18)\n",
    "\n",
    "data_inputs = [tokenizer.encode(sentence) for sentence in data_clean]"
   ]
  },
  {
   "cell_type": "markdown",
   "id": "089e65af-e49c-4d60-962e-a0a826809aa5",
   "metadata": {
    "execution": {
     "iopub.execute_input": "2021-05-16T17:01:47.611294Z",
     "iopub.status.busy": "2021-05-16T17:01:47.611020Z",
     "iopub.status.idle": "2021-05-16T17:01:47.614208Z",
     "shell.execute_reply": "2021-05-16T17:01:47.613487Z",
     "shell.execute_reply.started": "2021-05-16T17:01:47.611276Z"
    }
   },
   "source": [
    "#### (3) Padding"
   ]
  },
  {
   "cell_type": "code",
   "execution_count": 7,
   "id": "b801d231-972c-47e3-83c4-7375c2e11a18",
   "metadata": {
    "execution": {
     "iopub.execute_input": "2021-05-22T19:54:58.441392Z",
     "iopub.status.busy": "2021-05-22T19:54:58.440960Z",
     "iopub.status.idle": "2021-05-22T19:54:58.481699Z",
     "shell.execute_reply": "2021-05-22T19:54:58.481072Z",
     "shell.execute_reply.started": "2021-05-22T19:54:58.441329Z"
    },
    "tags": []
   },
   "outputs": [],
   "source": [
    "MAX_LEN = max([len(sentence) for sentence in data_clean])\n",
    "data_inputs = tf.keras.preprocessing.sequence.pad_sequences(data_inputs,\n",
    "                                                            value=0,\n",
    "                                                            padding=\"post\",\n",
    "                                                            maxlen=MAX_LEN)\n"
   ]
  },
  {
   "cell_type": "markdown",
   "id": "f69d90cf-ac3c-4e08-b46b-457d9708d832",
   "metadata": {
    "execution": {
     "iopub.execute_input": "2021-05-16T17:02:28.107037Z",
     "iopub.status.busy": "2021-05-16T17:02:28.106843Z",
     "iopub.status.idle": "2021-05-16T17:02:28.109696Z",
     "shell.execute_reply": "2021-05-16T17:02:28.108954Z",
     "shell.execute_reply.started": "2021-05-16T17:02:28.107017Z"
    }
   },
   "source": [
    "#### (4) Spliting Training/ Testing Set"
   ]
  },
  {
   "cell_type": "code",
   "execution_count": 8,
   "id": "42503355-eea3-4602-ae5a-ea18be84b8d1",
   "metadata": {
    "execution": {
     "iopub.execute_input": "2021-05-22T19:54:58.483038Z",
     "iopub.status.busy": "2021-05-22T19:54:58.482664Z",
     "iopub.status.idle": "2021-05-22T19:54:58.486200Z",
     "shell.execute_reply": "2021-05-22T19:54:58.485600Z",
     "shell.execute_reply.started": "2021-05-22T19:54:58.483015Z"
    },
    "tags": []
   },
   "outputs": [],
   "source": [
    "data_labels = data.pork_bill.values"
   ]
  },
  {
   "cell_type": "code",
   "execution_count": 9,
   "id": "19235117-f63a-4e06-a102-6efe98c37dbf",
   "metadata": {
    "execution": {
     "iopub.execute_input": "2021-05-22T19:54:58.487393Z",
     "iopub.status.busy": "2021-05-22T19:54:58.487085Z",
     "iopub.status.idle": "2021-05-22T19:54:58.496098Z",
     "shell.execute_reply": "2021-05-22T19:54:58.495513Z",
     "shell.execute_reply.started": "2021-05-22T19:54:58.487365Z"
    },
    "tags": []
   },
   "outputs": [
    {
     "name": "stdout",
     "output_type": "stream",
     "text": [
      "Shape of X Train: (3356, 527) \n",
      "Shape of X Test : (1654, 527) \n",
      "Shape of Y Trian: (3356,) \n",
      "Shape of Y Test : (1654,)\n"
     ]
    }
   ],
   "source": [
    "import numpy as np\n",
    "from sklearn.model_selection import train_test_split\n",
    "train_inputs, test_inputs, train_labels, test_labels = train_test_split(\n",
    "    data_inputs, data_labels, test_size=0.33, random_state=42)\n",
    "\n",
    "print(\"Shape of X Train:\", train_inputs.shape, '\\n'\n",
    "      \"Shape of X Test :\", test_inputs.shape,'\\n'\n",
    "      \"Shape of Y Trian:\", train_labels.shape , '\\n'\n",
    "      \"Shape of Y Test :\", test_labels.shape )"
   ]
  },
  {
   "cell_type": "code",
   "execution_count": 10,
   "id": "6f10cb5c-7c8d-4e1e-a987-11b8de8e42d0",
   "metadata": {
    "execution": {
     "iopub.execute_input": "2021-05-22T19:54:58.497376Z",
     "iopub.status.busy": "2021-05-22T19:54:58.497145Z",
     "iopub.status.idle": "2021-05-22T19:54:58.501110Z",
     "shell.execute_reply": "2021-05-22T19:54:58.500465Z",
     "shell.execute_reply.started": "2021-05-22T19:54:58.497353Z"
    },
    "tags": []
   },
   "outputs": [
    {
     "name": "stdout",
     "output_type": "stream",
     "text": [
      " Num of Train Set: 3356 \n",
      " Not Pork vs Pork: {0: 1705, 1: 1651}\n"
     ]
    }
   ],
   "source": [
    "unique_train_labels, counts_train_labels = np.unique(train_labels, return_counts=True)\n",
    "\n",
    "print(' Num of Train Set:' , train_inputs.shape[0], '\\n'\n",
    "      ,'Not Pork vs Pork:', dict(zip(unique_train_labels, counts_train_labels)))"
   ]
  },
  {
   "cell_type": "code",
   "execution_count": 11,
   "id": "fedad623-02ba-4fad-b0b4-a094de7c39de",
   "metadata": {
    "execution": {
     "iopub.execute_input": "2021-05-22T19:54:58.502302Z",
     "iopub.status.busy": "2021-05-22T19:54:58.501975Z",
     "iopub.status.idle": "2021-05-22T19:54:58.506432Z",
     "shell.execute_reply": "2021-05-22T19:54:58.505753Z",
     "shell.execute_reply.started": "2021-05-22T19:54:58.502281Z"
    },
    "tags": []
   },
   "outputs": [
    {
     "name": "stdout",
     "output_type": "stream",
     "text": [
      " Num of Test Set: 1654 \n",
      " Not Pork vs Pork: {0: 795, 1: 859}\n"
     ]
    }
   ],
   "source": [
    "unique_test_labels, counts_test_labels = np.unique(test_labels, return_counts=True)\n",
    "\n",
    "print(' Num of Test Set:' , test_inputs.shape[0], '\\n'\n",
    "      ,'Not Pork vs Pork:', dict(zip(unique_test_labels, counts_test_labels)))"
   ]
  },
  {
   "cell_type": "markdown",
   "id": "725f7feb-b93b-4d0b-bcbf-562240a79f8b",
   "metadata": {
    "execution": {
     "iopub.execute_input": "2021-05-16T17:04:13.375644Z",
     "iopub.status.busy": "2021-05-16T17:04:13.375440Z",
     "iopub.status.idle": "2021-05-16T17:04:13.378111Z",
     "shell.execute_reply": "2021-05-16T17:04:13.377464Z",
     "shell.execute_reply.started": "2021-05-16T17:04:13.375623Z"
    },
    "tags": []
   },
   "source": [
    "-------------------------\n",
    "\n",
    "\n",
    "### Stage 3: Model and Building"
   ]
  },
  {
   "cell_type": "markdown",
   "id": "4a0e74bf-eaf4-4043-8d23-88291d8ea344",
   "metadata": {
    "execution": {
     "iopub.execute_input": "2021-05-16T17:13:18.807725Z",
     "iopub.status.busy": "2021-05-16T17:13:18.807498Z",
     "iopub.status.idle": "2021-05-16T17:13:18.810574Z",
     "shell.execute_reply": "2021-05-16T17:13:18.809625Z",
     "shell.execute_reply.started": "2021-05-16T17:13:18.807701Z"
    }
   },
   "source": [
    "#### (1) Using the Subclassing API to Build Dynamic Model"
   ]
  },
  {
   "cell_type": "code",
   "execution_count": 12,
   "id": "1f18f9b1-5f4d-4d0a-baf4-2eebed7f34f2",
   "metadata": {
    "execution": {
     "iopub.execute_input": "2021-05-22T19:54:58.507656Z",
     "iopub.status.busy": "2021-05-22T19:54:58.507417Z",
     "iopub.status.idle": "2021-05-22T19:54:58.515228Z",
     "shell.execute_reply": "2021-05-22T19:54:58.514429Z",
     "shell.execute_reply.started": "2021-05-22T19:54:58.507632Z"
    },
    "tags": []
   },
   "outputs": [],
   "source": [
    "class DCNN(tf.keras.Model):\n",
    "    def __init__(self,\n",
    "                 vocab_size,\n",
    "                 emb_dim=128,\n",
    "                 nb_filters=100,\n",
    "                 FFN_units=512,\n",
    "                 nb_classes=2,\n",
    "                 dropout_rate=0.1,\n",
    "                 training=False,\n",
    "                 name=\"dcnn\"):\n",
    "        super(DCNN, self).__init__(name=name)\n",
    "        self.embedding = layers.Embedding(vocab_size,emb_dim)\n",
    "        self.bigram = layers.Conv1D(filters=nb_filters, kernel_size=2, padding=\"valid\", activation=\"relu\")\n",
    "        self.trigram = layers.Conv1D(filters=nb_filters,kernel_size=3,padding=\"valid\",activation=\"relu\")\n",
    "        self.fourgram = layers.Conv1D(filters=nb_filters,kernel_size=4,padding=\"valid\",activation=\"relu\")\n",
    "        self.fivegram = layers.Conv1D(filters=nb_filters,kernel_size=5,padding=\"valid\",activation=\"relu\")\n",
    "        self.sixgram = layers.Conv1D(filters=nb_filters,kernel_size=6,padding=\"valid\",activation=\"relu\")\n",
    "        self.pool = layers.GlobalMaxPool1D()\n",
    "        self.dense_1 = layers.Dense(units=FFN_units, activation=\"relu\")\n",
    "        self.dropout = layers.Dropout(rate=dropout_rate)\n",
    "        self.last_dense = layers.Dense(units=1, activation=\"sigmoid\")    \n",
    "    def call(self, inputs, training):\n",
    "        x = self.embedding(inputs)\n",
    "        x_1 = self.bigram(x)\n",
    "        x_1 = self.pool(x_1)\n",
    "        x_2 = self.trigram(x)\n",
    "        x_2 = self.pool(x_2)\n",
    "        x_3 = self.fourgram(x)\n",
    "        x_3 = self.pool(x_3)\n",
    "        x_4 = self.fourgram(x)\n",
    "        x_4 = self.pool(x_4) \n",
    "        x_5 = self.fivegram(x)\n",
    "        x_5 = self.pool(x_5)      \n",
    "        merged = tf.concat([x_1, x_2, x_3, x_4, x_5], axis=-1) \n",
    "        merged = self.dense_1(merged)\n",
    "        merged = self.dropout(merged, training)\n",
    "        output = self.last_dense(merged)        \n",
    "        return output"
   ]
  },
  {
   "cell_type": "code",
   "execution_count": 13,
   "id": "bfc02e93-3a0e-4c1c-b488-b2db98b53824",
   "metadata": {
    "execution": {
     "iopub.execute_input": "2021-05-22T19:54:58.516263Z",
     "iopub.status.busy": "2021-05-22T19:54:58.516059Z",
     "iopub.status.idle": "2021-05-22T19:54:58.537946Z",
     "shell.execute_reply": "2021-05-22T19:54:58.537289Z",
     "shell.execute_reply.started": "2021-05-22T19:54:58.516239Z"
    },
    "tags": []
   },
   "outputs": [],
   "source": [
    "VOCAB_SIZE = tokenizer.vocab_size  # 5000 tokenizer.vocab_size\n",
    "EMB_DIM = 200\n",
    "NB_FILTERS = 100\n",
    "FFN_UNITS = 256\n",
    "NB_CLASSES = 2 #len(set(train_labels))\n",
    "DROPOUT_RATE = 0.2\n",
    "BATCH_SIZE = 250\n",
    "NB_EPOCHS = 80\n",
    "\n",
    "Dcnn = DCNN(vocab_size=VOCAB_SIZE,\n",
    "            emb_dim=EMB_DIM,\n",
    "            nb_filters=NB_FILTERS,\n",
    "            FFN_units=FFN_UNITS,\n",
    "            nb_classes=NB_CLASSES,\n",
    "            dropout_rate=DROPOUT_RATE)"
   ]
  },
  {
   "cell_type": "markdown",
   "id": "b0ec8f51-6ed8-49fa-9d5e-c6929184bdf1",
   "metadata": {
    "execution": {
     "iopub.execute_input": "2021-05-16T18:43:59.279424Z",
     "iopub.status.busy": "2021-05-16T18:43:59.279202Z",
     "iopub.status.idle": "2021-05-16T18:43:59.282718Z",
     "shell.execute_reply": "2021-05-16T18:43:59.281823Z",
     "shell.execute_reply.started": "2021-05-16T18:43:59.279399Z"
    }
   },
   "source": [
    "#### (2) Compile and Summary of the Model"
   ]
  },
  {
   "cell_type": "code",
   "execution_count": 14,
   "id": "2cce0414-05eb-4f79-9c27-bca9c91a2903",
   "metadata": {
    "execution": {
     "iopub.execute_input": "2021-05-22T19:54:58.539577Z",
     "iopub.status.busy": "2021-05-22T19:54:58.539242Z",
     "iopub.status.idle": "2021-05-22T19:54:58.610574Z",
     "shell.execute_reply": "2021-05-22T19:54:58.609717Z",
     "shell.execute_reply.started": "2021-05-22T19:54:58.539554Z"
    },
    "tags": []
   },
   "outputs": [
    {
     "name": "stdout",
     "output_type": "stream",
     "text": [
      "Model: \"dcnn\"\n",
      "_________________________________________________________________\n",
      "Layer (type)                 Output Shape              Param #   \n",
      "=================================================================\n",
      "embedding (Embedding)        multiple                  484000    \n",
      "_________________________________________________________________\n",
      "conv1d (Conv1D)              multiple                  40100     \n",
      "_________________________________________________________________\n",
      "conv1d_1 (Conv1D)            multiple                  60100     \n",
      "_________________________________________________________________\n",
      "conv1d_2 (Conv1D)            multiple                  80100     \n",
      "_________________________________________________________________\n",
      "conv1d_3 (Conv1D)            multiple                  100100    \n",
      "_________________________________________________________________\n",
      "conv1d_4 (Conv1D)            multiple                  0 (unused)\n",
      "_________________________________________________________________\n",
      "global_max_pooling1d (Global multiple                  0         \n",
      "_________________________________________________________________\n",
      "dense (Dense)                multiple                  128256    \n",
      "_________________________________________________________________\n",
      "dropout (Dropout)            multiple                  0         \n",
      "_________________________________________________________________\n",
      "dense_1 (Dense)              multiple                  257       \n",
      "=================================================================\n",
      "Total params: 892,913\n",
      "Trainable params: 892,913\n",
      "Non-trainable params: 0\n",
      "_________________________________________________________________\n"
     ]
    }
   ],
   "source": [
    "Dcnn.compile(loss=\"binary_crossentropy\", optimizer=\"adam\", metrics=[\"accuracy\"])\n",
    "Dcnn.build(input_shape = (train_inputs.shape[1] , EMB_DIM)) # (train_inputs.shape[1] , EMB_DIM)  (785 , EMB_DIM)\n",
    "Dcnn.summary()"
   ]
  },
  {
   "cell_type": "markdown",
   "id": "3880d2a4-2152-43de-bad3-34e67e97469e",
   "metadata": {
    "tags": []
   },
   "source": [
    "#### (3) Check Point Path"
   ]
  },
  {
   "cell_type": "code",
   "execution_count": 15,
   "id": "2c18aa59-a797-4a67-bc4d-a412dbaaedcb",
   "metadata": {
    "execution": {
     "iopub.execute_input": "2021-05-22T19:54:58.612173Z",
     "iopub.status.busy": "2021-05-22T19:54:58.611843Z",
     "iopub.status.idle": "2021-05-22T19:54:58.616455Z",
     "shell.execute_reply": "2021-05-22T19:54:58.615681Z",
     "shell.execute_reply.started": "2021-05-22T19:54:58.612148Z"
    },
    "tags": []
   },
   "outputs": [],
   "source": [
    "checkpoint_path = \"checkpoint_recode/ckpt_manager\"\n",
    "\n",
    "ckpt = tf.train.Checkpoint(Dcnn=Dcnn)\n",
    "\n",
    "ckpt_manager = tf.train.CheckpointManager(ckpt, checkpoint_path, max_to_keep=10)\n",
    "\n",
    "if ckpt_manager.latest_checkpoint:\n",
    "    ckpt.restore(ckpt_manager.latest_checkpoint)\n",
    "    print(\"Checkpoint Located!!\")"
   ]
  },
  {
   "cell_type": "markdown",
   "id": "73d70667-275f-40c0-bd71-6b47e9722798",
   "metadata": {
    "execution": {
     "iopub.execute_input": "2021-05-16T17:47:13.442664Z",
     "iopub.status.busy": "2021-05-16T17:47:13.442381Z",
     "iopub.status.idle": "2021-05-16T17:47:13.448371Z",
     "shell.execute_reply": "2021-05-16T17:47:13.446970Z",
     "shell.execute_reply.started": "2021-05-16T17:47:13.442620Z"
    }
   },
   "source": [
    "-------------------------\n",
    "\n",
    "### Stage 4: Train the Model"
   ]
  },
  {
   "cell_type": "code",
   "execution_count": 16,
   "id": "cc975047-5a58-46dc-b427-262796d9b625",
   "metadata": {
    "execution": {
     "iopub.execute_input": "2021-05-22T19:54:58.617818Z",
     "iopub.status.busy": "2021-05-22T19:54:58.617553Z",
     "iopub.status.idle": "2021-05-22T19:54:58.620896Z",
     "shell.execute_reply": "2021-05-22T19:54:58.620248Z",
     "shell.execute_reply.started": "2021-05-22T19:54:58.617792Z"
    },
    "tags": []
   },
   "outputs": [],
   "source": [
    "early_stop = EarlyStopping(monitor='val_loss',patience=5)"
   ]
  },
  {
   "cell_type": "code",
   "execution_count": 17,
   "id": "baf0cade-2c45-43b2-9782-6a8c6e570153",
   "metadata": {
    "execution": {
     "iopub.execute_input": "2021-05-22T19:54:58.622075Z",
     "iopub.status.busy": "2021-05-22T19:54:58.621873Z",
     "iopub.status.idle": "2021-05-22T19:58:56.063032Z",
     "shell.execute_reply": "2021-05-22T19:58:56.062117Z",
     "shell.execute_reply.started": "2021-05-22T19:54:58.622052Z"
    },
    "tags": []
   },
   "outputs": [
    {
     "name": "stdout",
     "output_type": "stream",
     "text": [
      "Epoch 1/80\n",
      "14/14 [==============================] - 23s 2s/step - loss: 0.6428 - accuracy: 0.6847 - val_loss: 0.5362 - val_accuracy: 0.8192\n",
      "Epoch 2/80\n",
      "14/14 [==============================] - 22s 2s/step - loss: 0.3871 - accuracy: 0.8793 - val_loss: 0.2734 - val_accuracy: 0.9015\n",
      "Epoch 3/80\n",
      "14/14 [==============================] - 22s 2s/step - loss: 0.1943 - accuracy: 0.9282 - val_loss: 0.1807 - val_accuracy: 0.9293\n",
      "Epoch 4/80\n",
      "14/14 [==============================] - 21s 2s/step - loss: 0.0979 - accuracy: 0.9714 - val_loss: 0.1430 - val_accuracy: 0.9492\n",
      "Epoch 5/80\n",
      "14/14 [==============================] - 22s 2s/step - loss: 0.0564 - accuracy: 0.9851 - val_loss: 0.1342 - val_accuracy: 0.9522\n",
      "Epoch 6/80\n",
      "14/14 [==============================] - 28s 2s/step - loss: 0.0375 - accuracy: 0.9875 - val_loss: 0.1410 - val_accuracy: 0.9510\n",
      "Epoch 7/80\n",
      "14/14 [==============================] - 27s 2s/step - loss: 0.0325 - accuracy: 0.9887 - val_loss: 0.1480 - val_accuracy: 0.9510\n",
      "Epoch 8/80\n",
      "14/14 [==============================] - 25s 2s/step - loss: 0.0327 - accuracy: 0.9878 - val_loss: 0.1523 - val_accuracy: 0.9480\n",
      "Epoch 9/80\n",
      "14/14 [==============================] - 22s 2s/step - loss: 0.0267 - accuracy: 0.9893 - val_loss: 0.1590 - val_accuracy: 0.9522\n",
      "Epoch 10/80\n",
      "14/14 [==============================] - 24s 2s/step - loss: 0.0281 - accuracy: 0.9878 - val_loss: 0.1545 - val_accuracy: 0.9522\n"
     ]
    },
    {
     "data": {
      "text/plain": [
       "'checkpoint_recode/ckpt_manager/ckpt-1'"
      ]
     },
     "execution_count": 17,
     "metadata": {},
     "output_type": "execute_result"
    }
   ],
   "source": [
    "Dcnn.fit(train_inputs,\n",
    "         train_labels,\n",
    "         validation_data=(test_inputs, test_labels),\n",
    "         batch_size=BATCH_SIZE,\n",
    "         epochs=NB_EPOCHS,\n",
    "         callbacks=[early_stop]\n",
    "        )\n",
    "ckpt_manager.save()"
   ]
  },
  {
   "cell_type": "markdown",
   "id": "3b0ac256-ab81-4ff5-8430-48f8bba50126",
   "metadata": {
    "execution": {
     "iopub.execute_input": "2021-05-16T18:23:25.926977Z",
     "iopub.status.busy": "2021-05-16T18:23:25.926754Z",
     "iopub.status.idle": "2021-05-16T18:23:25.931072Z",
     "shell.execute_reply": "2021-05-16T18:23:25.930041Z",
     "shell.execute_reply.started": "2021-05-16T18:23:25.926952Z"
    }
   },
   "source": [
    "-------------------------\n",
    "\n",
    "### Stage 5: Evaluation"
   ]
  },
  {
   "cell_type": "code",
   "execution_count": 18,
   "id": "58099cc1-19e0-443a-b960-7ae4d67344d3",
   "metadata": {
    "execution": {
     "iopub.execute_input": "2021-05-22T19:58:56.064990Z",
     "iopub.status.busy": "2021-05-22T19:58:56.064686Z",
     "iopub.status.idle": "2021-05-22T19:58:56.092210Z",
     "shell.execute_reply": "2021-05-22T19:58:56.090387Z",
     "shell.execute_reply.started": "2021-05-22T19:58:56.064948Z"
    },
    "tags": []
   },
   "outputs": [
    {
     "data": {
      "text/html": [
       "<div>\n",
       "<style scoped>\n",
       "    .dataframe tbody tr th:only-of-type {\n",
       "        vertical-align: middle;\n",
       "    }\n",
       "\n",
       "    .dataframe tbody tr th {\n",
       "        vertical-align: top;\n",
       "    }\n",
       "\n",
       "    .dataframe thead th {\n",
       "        text-align: right;\n",
       "    }\n",
       "</style>\n",
       "<table border=\"1\" class=\"dataframe\">\n",
       "  <thead>\n",
       "    <tr style=\"text-align: right;\">\n",
       "      <th></th>\n",
       "      <th>loss</th>\n",
       "      <th>accuracy</th>\n",
       "      <th>val_loss</th>\n",
       "      <th>val_accuracy</th>\n",
       "    </tr>\n",
       "  </thead>\n",
       "  <tbody>\n",
       "    <tr>\n",
       "      <th>0</th>\n",
       "      <td>0.642769</td>\n",
       "      <td>0.684744</td>\n",
       "      <td>0.536221</td>\n",
       "      <td>0.819226</td>\n",
       "    </tr>\n",
       "    <tr>\n",
       "      <th>1</th>\n",
       "      <td>0.387111</td>\n",
       "      <td>0.879321</td>\n",
       "      <td>0.273432</td>\n",
       "      <td>0.901451</td>\n",
       "    </tr>\n",
       "    <tr>\n",
       "      <th>2</th>\n",
       "      <td>0.194271</td>\n",
       "      <td>0.928188</td>\n",
       "      <td>0.180747</td>\n",
       "      <td>0.929262</td>\n",
       "    </tr>\n",
       "    <tr>\n",
       "      <th>3</th>\n",
       "      <td>0.097936</td>\n",
       "      <td>0.971395</td>\n",
       "      <td>0.143038</td>\n",
       "      <td>0.949214</td>\n",
       "    </tr>\n",
       "    <tr>\n",
       "      <th>4</th>\n",
       "      <td>0.056357</td>\n",
       "      <td>0.985101</td>\n",
       "      <td>0.134210</td>\n",
       "      <td>0.952237</td>\n",
       "    </tr>\n",
       "    <tr>\n",
       "      <th>5</th>\n",
       "      <td>0.037537</td>\n",
       "      <td>0.987485</td>\n",
       "      <td>0.140959</td>\n",
       "      <td>0.951028</td>\n",
       "    </tr>\n",
       "    <tr>\n",
       "      <th>6</th>\n",
       "      <td>0.032464</td>\n",
       "      <td>0.988677</td>\n",
       "      <td>0.148026</td>\n",
       "      <td>0.951028</td>\n",
       "    </tr>\n",
       "    <tr>\n",
       "      <th>7</th>\n",
       "      <td>0.032658</td>\n",
       "      <td>0.987783</td>\n",
       "      <td>0.152277</td>\n",
       "      <td>0.948005</td>\n",
       "    </tr>\n",
       "    <tr>\n",
       "      <th>8</th>\n",
       "      <td>0.026741</td>\n",
       "      <td>0.989273</td>\n",
       "      <td>0.159015</td>\n",
       "      <td>0.952237</td>\n",
       "    </tr>\n",
       "    <tr>\n",
       "      <th>9</th>\n",
       "      <td>0.028108</td>\n",
       "      <td>0.987783</td>\n",
       "      <td>0.154520</td>\n",
       "      <td>0.952237</td>\n",
       "    </tr>\n",
       "  </tbody>\n",
       "</table>\n",
       "</div>"
      ],
      "text/plain": [
       "       loss  accuracy  val_loss  val_accuracy\n",
       "0  0.642769  0.684744  0.536221      0.819226\n",
       "1  0.387111  0.879321  0.273432      0.901451\n",
       "2  0.194271  0.928188  0.180747      0.929262\n",
       "3  0.097936  0.971395  0.143038      0.949214\n",
       "4  0.056357  0.985101  0.134210      0.952237\n",
       "5  0.037537  0.987485  0.140959      0.951028\n",
       "6  0.032464  0.988677  0.148026      0.951028\n",
       "7  0.032658  0.987783  0.152277      0.948005\n",
       "8  0.026741  0.989273  0.159015      0.952237\n",
       "9  0.028108  0.987783  0.154520      0.952237"
      ]
     },
     "execution_count": 18,
     "metadata": {},
     "output_type": "execute_result"
    }
   ],
   "source": [
    "losses = pd.DataFrame(Dcnn.history.history)\n",
    "losses"
   ]
  },
  {
   "cell_type": "markdown",
   "id": "8093326d-b6b8-4a35-9b0f-124ad3fecd8c",
   "metadata": {},
   "source": [
    "##### a bit overfitting due to less validation set ⚠️⚠️⚠️⚠️"
   ]
  },
  {
   "cell_type": "code",
   "execution_count": 19,
   "id": "f37a760f-b388-4051-a78d-295bce1f214a",
   "metadata": {
    "execution": {
     "iopub.execute_input": "2021-05-22T19:58:56.096766Z",
     "iopub.status.busy": "2021-05-22T19:58:56.096082Z",
     "iopub.status.idle": "2021-05-22T19:58:56.824677Z",
     "shell.execute_reply": "2021-05-22T19:58:56.823685Z",
     "shell.execute_reply.started": "2021-05-22T19:58:56.096706Z"
    },
    "tags": []
   },
   "outputs": [
    {
     "data": {
      "text/plain": [
       "<AxesSubplot:>"
      ]
     },
     "execution_count": 19,
     "metadata": {},
     "output_type": "execute_result"
    },
    {
     "data": {
      "image/png": "[encoded data removed]",
      "text/plain": [
       "<Figure size 432x288 with 1 Axes>"
      ]
     },
     "metadata": {
      "needs_background": "light"
     },
     "output_type": "display_data"
    },
    {
     "data": {
      "image/png": "[encoded data removed]",
      "text/plain": [
       "<Figure size 432x288 with 1 Axes>"
      ]
     },
     "metadata": {
      "needs_background": "light"
     },
     "output_type": "display_data"
    }
   ],
   "source": [
    "losses[['accuracy','val_accuracy']].plot()\n",
    "losses[['loss','val_loss']].plot()"
   ]
  },
  {
   "cell_type": "code",
   "execution_count": 20,
   "id": "44300a6c-8da8-43cd-ada0-208a99b6b9d7",
   "metadata": {
    "execution": {
     "iopub.execute_input": "2021-05-22T19:58:56.826744Z",
     "iopub.status.busy": "2021-05-22T19:58:56.826372Z",
     "iopub.status.idle": "2021-05-22T19:58:56.831247Z",
     "shell.execute_reply": "2021-05-22T19:58:56.830000Z",
     "shell.execute_reply.started": "2021-05-22T19:58:56.826707Z"
    },
    "tags": []
   },
   "outputs": [],
   "source": [
    "from sklearn.metrics import classification_report,confusion_matrix"
   ]
  },
  {
   "cell_type": "code",
   "execution_count": 21,
   "id": "17760825-eb35-4f8c-88a0-45e94387c08d",
   "metadata": {
    "execution": {
     "iopub.execute_input": "2021-05-22T19:58:56.833525Z",
     "iopub.status.busy": "2021-05-22T19:58:56.833059Z",
     "iopub.status.idle": "2021-05-22T19:58:59.051169Z",
     "shell.execute_reply": "2021-05-22T19:58:59.050187Z",
     "shell.execute_reply.started": "2021-05-22T19:58:56.833473Z"
    },
    "tags": []
   },
   "outputs": [
    {
     "name": "stdout",
     "output_type": "stream",
     "text": [
      "7/7 [==============================] - 2s 291ms/step - loss: 0.1545 - accuracy: 0.9522\n",
      "[0.1545204222202301, 0.9522370100021362]\n"
     ]
    }
   ],
   "source": [
    "evaluation_model = Dcnn.evaluate(test_inputs, test_labels, batch_size=BATCH_SIZE)\n",
    "print(evaluation_model)"
   ]
  },
  {
   "cell_type": "code",
   "execution_count": 22,
   "id": "c9a3f93d-4398-418c-b511-69594874cc5a",
   "metadata": {
    "execution": {
     "iopub.execute_input": "2021-05-22T19:58:59.053283Z",
     "iopub.status.busy": "2021-05-22T19:58:59.052886Z",
     "iopub.status.idle": "2021-05-22T19:59:01.412274Z",
     "shell.execute_reply": "2021-05-22T19:59:01.411420Z",
     "shell.execute_reply.started": "2021-05-22T19:58:59.053245Z"
    },
    "tags": []
   },
   "outputs": [
    {
     "name": "stdout",
     "output_type": "stream",
     "text": [
      "              precision    recall  f1-score   support\n",
      "\n",
      "           0       0.93      0.97      0.95       795\n",
      "           1       0.97      0.93      0.95       859\n",
      "\n",
      "    accuracy                           0.95      1654\n",
      "   macro avg       0.95      0.95      0.95      1654\n",
      "weighted avg       0.95      0.95      0.95      1654\n",
      "\n"
     ]
    }
   ],
   "source": [
    "# pd.DataFrame(confusion_matrix(test_labels,predictions))\n",
    "predictions = Dcnn.predict(test_inputs)\n",
    "predictions = np.where(predictions >0.8 , 1, 0)\n",
    "print(classification_report(test_labels, predictions))"
   ]
  },
  {
   "cell_type": "code",
   "execution_count": 23,
   "id": "4767688b-bfc8-4dc4-b8ec-2252f7791534",
   "metadata": {
    "execution": {
     "iopub.execute_input": "2021-05-22T19:59:01.414136Z",
     "iopub.status.busy": "2021-05-22T19:59:01.413877Z",
     "iopub.status.idle": "2021-05-22T19:59:01.426738Z",
     "shell.execute_reply": "2021-05-22T19:59:01.425943Z",
     "shell.execute_reply.started": "2021-05-22T19:59:01.414106Z"
    },
    "tags": []
   },
   "outputs": [
    {
     "data": {
      "text/html": [
       "<div>\n",
       "<style scoped>\n",
       "    .dataframe tbody tr th:only-of-type {\n",
       "        vertical-align: middle;\n",
       "    }\n",
       "\n",
       "    .dataframe tbody tr th {\n",
       "        vertical-align: top;\n",
       "    }\n",
       "\n",
       "    .dataframe thead th {\n",
       "        text-align: right;\n",
       "    }\n",
       "</style>\n",
       "<table border=\"1\" class=\"dataframe\">\n",
       "  <thead>\n",
       "    <tr style=\"text-align: right;\">\n",
       "      <th></th>\n",
       "      <th>Predictions: Not Pork(0)</th>\n",
       "      <th>Predictions:Pork(1)</th>\n",
       "    </tr>\n",
       "  </thead>\n",
       "  <tbody>\n",
       "    <tr>\n",
       "      <th>Acutal: Not Pork(0)</th>\n",
       "      <td>771</td>\n",
       "      <td>24</td>\n",
       "    </tr>\n",
       "    <tr>\n",
       "      <th>Acutal: Pork (1)</th>\n",
       "      <td>61</td>\n",
       "      <td>798</td>\n",
       "    </tr>\n",
       "  </tbody>\n",
       "</table>\n",
       "</div>"
      ],
      "text/plain": [
       "                     Predictions: Not Pork(0)  Predictions:Pork(1)\n",
       "Acutal: Not Pork(0)                       771                   24\n",
       "Acutal: Pork (1)                           61                  798"
      ]
     },
     "execution_count": 23,
     "metadata": {},
     "output_type": "execute_result"
    }
   ],
   "source": [
    "t = pd.DataFrame(confusion_matrix(test_labels,predictions), \n",
    "             columns=['Predictions: Not Pork(0)','Predictions:Pork(1)'])\n",
    "t.index = ['Acutal: Not Pork(0)', 'Acutal: Pork (1)']\n",
    "t"
   ]
  },
  {
   "cell_type": "markdown",
   "id": "d0416d6f-5e46-47c9-abad-f344bea7a94a",
   "metadata": {},
   "source": [
    "-------------------------\n",
    "\n",
    "### Stage 6: Try the Model with New Data and Export an End-to-end Model\n"
   ]
  },
  {
   "cell_type": "markdown",
   "id": "394b9a6e-0130-4af2-88e5-efe91cf9f348",
   "metadata": {
    "execution": {
     "iopub.execute_input": "2021-05-16T22:53:41.558105Z",
     "iopub.status.busy": "2021-05-16T22:53:41.557872Z",
     "iopub.status.idle": "2021-05-16T22:53:41.560984Z",
     "shell.execute_reply": "2021-05-16T22:53:41.560122Z",
     "shell.execute_reply.started": "2021-05-16T22:53:41.558080Z"
    }
   },
   "source": [
    "#### (1) Test New Dataset from 2000 samples from Legislative Questions from 6th Session "
   ]
  },
  {
   "cell_type": "code",
   "execution_count": 24,
   "id": "632bf33e-1df7-46c5-9a67-ab7141a949c2",
   "metadata": {
    "execution": {
     "iopub.execute_input": "2021-05-22T19:59:01.437534Z",
     "iopub.status.busy": "2021-05-22T19:59:01.437079Z",
     "iopub.status.idle": "2021-05-22T19:59:01.443006Z",
     "shell.execute_reply": "2021-05-22T19:59:01.441843Z",
     "shell.execute_reply.started": "2021-05-22T19:59:01.437485Z"
    },
    "tags": []
   },
   "outputs": [],
   "source": [
    "def as_num(x):\n",
    "    \"\"\"\n",
    "    keep 10 decimals\n",
    "    \"\"\"\n",
    "    y = '{:.15f}'.format(x) \n",
    "    return y"
   ]
  },
  {
   "cell_type": "code",
   "execution_count": 25,
   "id": "06ea7d54-49e9-4363-8304-d1dabaf3beb4",
   "metadata": {
    "execution": {
     "iopub.execute_input": "2021-05-22T19:59:01.448651Z",
     "iopub.status.busy": "2021-05-22T19:59:01.448324Z",
     "iopub.status.idle": "2021-05-22T19:59:01.869935Z",
     "shell.execute_reply": "2021-05-22T19:59:01.869046Z",
     "shell.execute_reply.started": "2021-05-22T19:59:01.448614Z"
    },
    "tags": []
   },
   "outputs": [],
   "source": [
    "import pandas as pd\n",
    "import random\n",
    "\n",
    "# test the trined model using new text from 200 samples from Leislative Questions\n",
    "LQ6 = pd.read_csv('data/LQ_6th.csv')\n",
    "\n",
    "# drop '0': legislor  never have proposed any legisaltive questions. \n",
    "LQ6 = LQ6[LQ6['title'].isin(['0'])== False]\n",
    "\n",
    "# select text with number of charecters within EMB_DIM; len(sub_set) = 11162\n",
    "# sample_df = LQ6.loc[[len(char_num) for char_num in LQ6.title if len(char_num) < MAX_LEN], ['legislator','title', 'topic', 'category', 'keywords', 'ques_type']].reset_index(drop=True)\n",
    "random.seed(42)\n",
    "sample_df = LQ6.iloc[random.sample(range(len(LQ6)), 2000)][['legislator', 'title', 'topic', 'category', 'keywords', 'ques_type']]\n",
    "sub_set = [seg_char(text) for text in [clearPucts(text) for text in sample_df.title]]\n"
   ]
  },
  {
   "cell_type": "markdown",
   "id": "68cc06a7-27d7-4007-949d-f7df81246e25",
   "metadata": {
    "tags": []
   },
   "source": [
    "##### Top 10 of 2000 Samples"
   ]
  },
  {
   "cell_type": "code",
   "execution_count": 26,
   "id": "d4b618c9-8c4b-40ec-a396-b4679233197e",
   "metadata": {
    "execution": {
     "iopub.execute_input": "2021-05-22T19:59:01.871921Z",
     "iopub.status.busy": "2021-05-22T19:59:01.871646Z",
     "iopub.status.idle": "2021-05-22T19:59:15.767132Z",
     "shell.execute_reply": "2021-05-22T19:59:15.766421Z",
     "shell.execute_reply.started": "2021-05-22T19:59:01.871891Z"
    },
    "tags": []
   },
   "outputs": [
    {
     "data": {
      "text/html": [
       "<div>\n",
       "<style scoped>\n",
       "    .dataframe tbody tr th:only-of-type {\n",
       "        vertical-align: middle;\n",
       "    }\n",
       "\n",
       "    .dataframe tbody tr th {\n",
       "        vertical-align: top;\n",
       "    }\n",
       "\n",
       "    .dataframe thead th {\n",
       "        text-align: right;\n",
       "    }\n",
       "</style>\n",
       "<table border=\"1\" class=\"dataframe\">\n",
       "  <thead>\n",
       "    <tr style=\"text-align: right;\">\n",
       "      <th></th>\n",
       "      <th>legislator</th>\n",
       "      <th>Pork Value(Constituency Interest)</th>\n",
       "      <th>Legislative Questions</th>\n",
       "      <th>Topic</th>\n",
       "      <th>Key Word</th>\n",
       "    </tr>\n",
       "  </thead>\n",
       "  <tbody>\n",
       "    <tr>\n",
       "      <th>2601</th>\n",
       "      <td>李復興</td>\n",
       "      <td>0.999978661537170</td>\n",
       "      <td>發現自九十三年一月間起，勞保局陸續清查有一千多名國、公營事業退休員工溢領敬老津貼，截至93年...</td>\n",
       "      <td>老年給付 ; 勞工退休</td>\n",
       "      <td>公營事業退休員工 ; 溢領敬老津貼</td>\n",
       "    </tr>\n",
       "    <tr>\n",
       "      <th>3999</th>\n",
       "      <td>林正峰</td>\n",
       "      <td>0.999970257282257</td>\n",
       "      <td>針對政府準備修法推動「二代健保」，健保保費採取「年度所得總額」為計算基礎，而非採用扣除免稅額...</td>\n",
       "      <td>國民 ; 健康保險 ; 保險費</td>\n",
       "      <td>二代健保 ; 年度所得總額</td>\n",
       "    </tr>\n",
       "    <tr>\n",
       "      <th>7382</th>\n",
       "      <td>盧秀燕</td>\n",
       "      <td>0.999949336051941</td>\n",
       "      <td>針對早期退除役軍官給與補助金發放金額過低，實無法解決終身生活所需，希望相關單位考量實際情況，...</td>\n",
       "      <td>榮民福利</td>\n",
       "      <td>早期退除役軍官給與補助金</td>\n",
       "    </tr>\n",
       "    <tr>\n",
       "      <th>9109</th>\n",
       "      <td>邱鏡淳</td>\n",
       "      <td>0.999935269355774</td>\n",
       "      <td>就政府為減緩政府財政負擔及維持退休人員與現職人員權益的平衡，推行「教育人員退休所得合理化方案...</td>\n",
       "      <td>教育人員退休 ; 退休金</td>\n",
       "      <td>教育人員 ; 退休所得</td>\n",
       "    </tr>\n",
       "    <tr>\n",
       "      <th>4553</th>\n",
       "      <td>林鴻池</td>\n",
       "      <td>0.999877452850342</td>\n",
       "      <td>針對行政院宣布補助弱勢家庭子女就讀私校高中職之學費，卻將資格限制在「非自願就讀者」，有畫餅充...</td>\n",
       "      <td>低收入戶 ; 教育補助</td>\n",
       "      <td>弱勢家庭 ; 私立高中職</td>\n",
       "    </tr>\n",
       "    <tr>\n",
       "      <th>58</th>\n",
       "      <td>丁守中</td>\n",
       "      <td>0.999864578247070</td>\n",
       "      <td>針就媒體報導近年低收入戶審查標準從嚴，坊間陸續出現抽佣代辦各項急難補助的「社福黃牛」，遊走在...</td>\n",
       "      <td>保險給付 ; 代理人</td>\n",
       "      <td>社福黃牛 ; 弱勢 ; 低收入戶</td>\n",
       "    </tr>\n",
       "    <tr>\n",
       "      <th>6899</th>\n",
       "      <td>王昱婷</td>\n",
       "      <td>0.999843597412109</td>\n",
       "      <td>針對根據內政部最新統計，國內的嬰兒出生率再創新低點，今年1到4月只有6萬5400個小嬰兒出生...</td>\n",
       "      <td>出生率 ; 人口政策</td>\n",
       "      <td>出生率 ; 生育率</td>\n",
       "    </tr>\n",
       "    <tr>\n",
       "      <th>35</th>\n",
       "      <td>丁守中</td>\n",
       "      <td>0.999838113784790</td>\n",
       "      <td>針就民眾陳情指出，目前政府對身心障礙者提供之生活津貼，依身心障礙程度等級分為1000元至50...</td>\n",
       "      <td>身心障礙者福利</td>\n",
       "      <td>身心障礙者生活津貼</td>\n",
       "    </tr>\n",
       "    <tr>\n",
       "      <th>533</th>\n",
       "      <td>吳志揚</td>\n",
       "      <td>0.999815344810486</td>\n",
       "      <td>針對政府打著照顧中產階級的漂亮旗號，擬調增受薪大眾的薪資特別扣除額，但是只在薪資扣除額調整幅...</td>\n",
       "      <td>薪資扣除額</td>\n",
       "      <td>薪資特別扣除額</td>\n",
       "    </tr>\n",
       "    <tr>\n",
       "      <th>10471</th>\n",
       "      <td>馮定國</td>\n",
       "      <td>0.999810874462128</td>\n",
       "      <td>鑒於國內經濟結構的快速調整，與人口高齡化的進展，未來中高齡失業問題必將日益嚴重，致使國人老年...</td>\n",
       "      <td>老人福利</td>\n",
       "      <td>高齡化 ; 中高齡失業</td>\n",
       "    </tr>\n",
       "    <tr>\n",
       "      <th>2138</th>\n",
       "      <td>曾燦燈</td>\n",
       "      <td>0.999791026115417</td>\n",
       "      <td>為國內實施浮動油價後，經濟部為顧及油價僅微幅調降，卻悍然取消計程車油價每公升一元之補貼，導致...</td>\n",
       "      <td>石油價格</td>\n",
       "      <td>浮動油價 ; 計程車駕駛</td>\n",
       "    </tr>\n",
       "    <tr>\n",
       "      <th>7267</th>\n",
       "      <td>盧博基</td>\n",
       "      <td>0.999740123748779</td>\n",
       "      <td>針對行政院勞工委員會刻正研議修改勞工保險條例，將勞保老年給付現行以退休前三年平均每月投保金額...</td>\n",
       "      <td>勞保 ; 老年給付</td>\n",
       "      <td>勞保老年給付</td>\n",
       "    </tr>\n",
       "    <tr>\n",
       "      <th>2401</th>\n",
       "      <td>朱鳳芝</td>\n",
       "      <td>0.999708771705627</td>\n",
       "      <td>對於退輔會近來以各種理由取消老榮民的「就養金」，造成榮民的恐慌，並把對榮民而言是一種尊崇的「...</td>\n",
       "      <td>榮民福利</td>\n",
       "      <td>榮民 ; 就養金</td>\n",
       "    </tr>\n",
       "    <tr>\n",
       "      <th>6918</th>\n",
       "      <td>王昱婷</td>\n",
       "      <td>0.999598681926727</td>\n",
       "      <td>針對當前綜合所得稅各類所得中，薪資所得占74%，而其他的利息、股利、營利所得均有減免優惠，可...</td>\n",
       "      <td>綜合所得稅 ; 賦稅改革</td>\n",
       "      <td>綜合所得稅 ; 租稅</td>\n",
       "    </tr>\n",
       "    <tr>\n",
       "      <th>4083</th>\n",
       "      <td>林正峰</td>\n",
       "      <td>0.999593138694763</td>\n",
       "      <td>針對內政部研擬整合單一之「住宅補貼整合方案」政策性房貸，將現有之十多項政策房貸採不同職業別、...</td>\n",
       "      <td>住宅政策 ; 房屋貸款</td>\n",
       "      <td>住宅補貼整合方案 ; 政策性房貸</td>\n",
       "    </tr>\n",
       "  </tbody>\n",
       "</table>\n",
       "</div>"
      ],
      "text/plain": [
       "      legislator Pork Value(Constituency Interest)  \\\n",
       "2601         李復興                 0.999978661537170   \n",
       "3999         林正峰                 0.999970257282257   \n",
       "7382         盧秀燕                 0.999949336051941   \n",
       "9109         邱鏡淳                 0.999935269355774   \n",
       "4553         林鴻池                 0.999877452850342   \n",
       "58           丁守中                 0.999864578247070   \n",
       "6899         王昱婷                 0.999843597412109   \n",
       "35           丁守中                 0.999838113784790   \n",
       "533          吳志揚                 0.999815344810486   \n",
       "10471        馮定國                 0.999810874462128   \n",
       "2138         曾燦燈                 0.999791026115417   \n",
       "7267         盧博基                 0.999740123748779   \n",
       "2401         朱鳳芝                 0.999708771705627   \n",
       "6918         王昱婷                 0.999598681926727   \n",
       "4083         林正峰                 0.999593138694763   \n",
       "\n",
       "                                  Legislative Questions             Topic  \\\n",
       "2601   發現自九十三年一月間起，勞保局陸續清查有一千多名國、公營事業退休員工溢領敬老津貼，截至93年...      老年給付 ; 勞工退休   \n",
       "3999   針對政府準備修法推動「二代健保」，健保保費採取「年度所得總額」為計算基礎，而非採用扣除免稅額...  國民 ; 健康保險 ; 保險費   \n",
       "7382   針對早期退除役軍官給與補助金發放金額過低，實無法解決終身生活所需，希望相關單位考量實際情況，...             榮民福利   \n",
       "9109   就政府為減緩政府財政負擔及維持退休人員與現職人員權益的平衡，推行「教育人員退休所得合理化方案...     教育人員退休 ; 退休金   \n",
       "4553   針對行政院宣布補助弱勢家庭子女就讀私校高中職之學費，卻將資格限制在「非自願就讀者」，有畫餅充...      低收入戶 ; 教育補助   \n",
       "58     針就媒體報導近年低收入戶審查標準從嚴，坊間陸續出現抽佣代辦各項急難補助的「社福黃牛」，遊走在...       保險給付 ; 代理人   \n",
       "6899   針對根據內政部最新統計，國內的嬰兒出生率再創新低點，今年1到4月只有6萬5400個小嬰兒出生...       出生率 ; 人口政策   \n",
       "35     針就民眾陳情指出，目前政府對身心障礙者提供之生活津貼，依身心障礙程度等級分為1000元至50...          身心障礙者福利   \n",
       "533    針對政府打著照顧中產階級的漂亮旗號，擬調增受薪大眾的薪資特別扣除額，但是只在薪資扣除額調整幅...            薪資扣除額   \n",
       "10471  鑒於國內經濟結構的快速調整，與人口高齡化的進展，未來中高齡失業問題必將日益嚴重，致使國人老年...             老人福利   \n",
       "2138   為國內實施浮動油價後，經濟部為顧及油價僅微幅調降，卻悍然取消計程車油價每公升一元之補貼，導致...             石油價格   \n",
       "7267   針對行政院勞工委員會刻正研議修改勞工保險條例，將勞保老年給付現行以退休前三年平均每月投保金額...        勞保 ; 老年給付   \n",
       "2401   對於退輔會近來以各種理由取消老榮民的「就養金」，造成榮民的恐慌，並把對榮民而言是一種尊崇的「...             榮民福利   \n",
       "6918   針對當前綜合所得稅各類所得中，薪資所得占74%，而其他的利息、股利、營利所得均有減免優惠，可...     綜合所得稅 ; 賦稅改革   \n",
       "4083   針對內政部研擬整合單一之「住宅補貼整合方案」政策性房貸，將現有之十多項政策房貸採不同職業別、...      住宅政策 ; 房屋貸款   \n",
       "\n",
       "                Key Word  \n",
       "2601   公營事業退休員工 ; 溢領敬老津貼  \n",
       "3999       二代健保 ; 年度所得總額  \n",
       "7382        早期退除役軍官給與補助金  \n",
       "9109         教育人員 ; 退休所得  \n",
       "4553        弱勢家庭 ; 私立高中職  \n",
       "58      社福黃牛 ; 弱勢 ; 低收入戶  \n",
       "6899           出生率 ; 生育率  \n",
       "35             身心障礙者生活津貼  \n",
       "533              薪資特別扣除額  \n",
       "10471        高齡化 ; 中高齡失業  \n",
       "2138        浮動油價 ; 計程車駕駛  \n",
       "7267              勞保老年給付  \n",
       "2401            榮民 ; 就養金  \n",
       "6918          綜合所得稅 ; 租稅  \n",
       "4083    住宅補貼整合方案 ; 政策性房貸  "
      ]
     },
     "execution_count": 26,
     "metadata": {},
     "output_type": "execute_result"
    }
   ],
   "source": [
    "pd.DataFrame(\n",
    "    {'legislator': sample_df.legislator,\n",
    "     'Pork Value(Constituency Interest)':[as_num(Dcnn(np.array([tokenizer.encode(line)]), training=True).numpy()[0][0]) for line in sub_set],\n",
    "     'Legislative Questions ': sample_df.title,\n",
    "     'Topic': sample_df.topic,\n",
    "     'Key Word':sample_df.keywords}).sort_values(by=['Pork Value(Constituency Interest)'], ascending = False).head(15)"
   ]
  },
  {
   "cell_type": "markdown",
   "id": "6a6d4b15-3e05-427d-a664-8c8ce4e6622c",
   "metadata": {},
   "source": [
    "##### Last 10 Rows of 2000 Samples"
   ]
  },
  {
   "cell_type": "code",
   "execution_count": 27,
   "id": "369a7336-dc9d-4883-b919-b19611b5ad39",
   "metadata": {
    "execution": {
     "iopub.execute_input": "2021-05-22T19:59:15.768443Z",
     "iopub.status.busy": "2021-05-22T19:59:15.768131Z",
     "iopub.status.idle": "2021-05-22T19:59:26.017454Z",
     "shell.execute_reply": "2021-05-22T19:59:26.016737Z",
     "shell.execute_reply.started": "2021-05-22T19:59:15.768421Z"
    },
    "tags": []
   },
   "outputs": [
    {
     "data": {
      "text/html": [
       "<div>\n",
       "<style scoped>\n",
       "    .dataframe tbody tr th:only-of-type {\n",
       "        vertical-align: middle;\n",
       "    }\n",
       "\n",
       "    .dataframe tbody tr th {\n",
       "        vertical-align: top;\n",
       "    }\n",
       "\n",
       "    .dataframe thead th {\n",
       "        text-align: right;\n",
       "    }\n",
       "</style>\n",
       "<table border=\"1\" class=\"dataframe\">\n",
       "  <thead>\n",
       "    <tr style=\"text-align: right;\">\n",
       "      <th></th>\n",
       "      <th>legislator</th>\n",
       "      <th>Pork Value(Constituency Interest)</th>\n",
       "      <th>Legislative Questions</th>\n",
       "      <th>Topic</th>\n",
       "      <th>Key Word</th>\n",
       "    </tr>\n",
       "  </thead>\n",
       "  <tbody>\n",
       "    <tr>\n",
       "      <th>2439</th>\n",
       "      <td>李俊毅</td>\n",
       "      <td>0.010597437620163</td>\n",
       "      <td>針對近來國務機要費與首長特別費因相關規範未臻明確，遭質疑該筆金額等同於首長薪水或私房錢，且有...</td>\n",
       "      <td>國家元首 ; 行政首長 ; 統一發票</td>\n",
       "      <td>國務機要費 ; 首長特別費</td>\n",
       "    </tr>\n",
       "    <tr>\n",
       "      <th>5160</th>\n",
       "      <td>沈智慧</td>\n",
       "      <td>0.008501231670380</td>\n",
       "      <td>針對考試院修正特種考試地方政府公務人員考試規則，新增並刪減多項類科，且將三等、四等及五等考試...</td>\n",
       "      <td>國家考試</td>\n",
       "      <td>國家考試 ; 憲法</td>\n",
       "    </tr>\n",
       "    <tr>\n",
       "      <th>9164</th>\n",
       "      <td>郭林勇</td>\n",
       "      <td>0.008108228445053</td>\n",
       "      <td>鑑於現今台灣新聞媒體過於腥、羶、色，大幅報導政治惡鬥、社會黑暗面，並且過於詳細描寫各類自殺、...</td>\n",
       "      <td>新聞事業 ; 新聞道德</td>\n",
       "      <td>新聞媒體 ; 新聞道德</td>\n",
       "    </tr>\n",
       "    <tr>\n",
       "      <th>7985</th>\n",
       "      <td>羅志明</td>\n",
       "      <td>0.008101910352707</td>\n",
       "      <td>針對衛星電視換照審議委員會進行營運審查招致在野黨指控為打壓新聞自由乙事，主管機關應公正審議，...</td>\n",
       "      <td>有線電視 ; 執照</td>\n",
       "      <td>衛星電視 ; 換照 ; 新聞自由</td>\n",
       "    </tr>\n",
       "    <tr>\n",
       "      <th>5739</th>\n",
       "      <td>潘孟安</td>\n",
       "      <td>0.007899075746536</td>\n",
       "      <td>關心目前電子垃圾郵件氾濫，於立法程序完成前，主管機關應積極制定政策，並協調電信服務業者採取防...</td>\n",
       "      <td>電子郵件</td>\n",
       "      <td>垃圾郵件</td>\n",
       "    </tr>\n",
       "    <tr>\n",
       "      <th>5869</th>\n",
       "      <td>王世堅</td>\n",
       "      <td>0.007714718580246</td>\n",
       "      <td>針對「台大校長遴選」一事，特向行政院提出質詢。</td>\n",
       "      <td>大學 ; 教育人員任用</td>\n",
       "      <td>台大校長遴選</td>\n",
       "    </tr>\n",
       "    <tr>\n",
       "      <th>7592</th>\n",
       "      <td>紀國棟</td>\n",
       "      <td>0.006676316261292</td>\n",
       "      <td>針對國道高速公路局及相關工程單位對四號公路神岡段堤防治理成效不彰，特向行政院提出質詢。</td>\n",
       "      <td>高速公路 ; 堤防工程</td>\n",
       "      <td>四號公路 ; 堤防治理</td>\n",
       "    </tr>\n",
       "    <tr>\n",
       "      <th>2538</th>\n",
       "      <td>李復甸</td>\n",
       "      <td>0.006557345390320</td>\n",
       "      <td>鑑於刑事實務上以行政簽結之方式終結偵查，不僅嚴重侵害當事人權利、架空偵查法定原則及規避不起訴...</td>\n",
       "      <td>刑事訴訟 ; 偵查</td>\n",
       "      <td>行政簽結 ; 訴訟權 ; 依法行政原則</td>\n",
       "    </tr>\n",
       "    <tr>\n",
       "      <th>473</th>\n",
       "      <td>吳光訓</td>\n",
       "      <td>0.006494283676147</td>\n",
       "      <td>為修訂「公開發行公司出席股東會使用委託書規則」及「股務處理準則」事宜，特向行政院提出質詢。</td>\n",
       "      <td>股東 ; 金融管理</td>\n",
       "      <td>出席股東會 ; 委託書</td>\n",
       "    </tr>\n",
       "    <tr>\n",
       "      <th>1919</th>\n",
       "      <td>徐國勇</td>\n",
       "      <td>0.005139768123627</td>\n",
       "      <td>針對公司法所規範董事會職能等問題，特向行政院提出質詢。</td>\n",
       "      <td>公司 ; 董事會</td>\n",
       "      <td>公司法 ; 董事會職能</td>\n",
       "    </tr>\n",
       "    <tr>\n",
       "      <th>10440</th>\n",
       "      <td>顏清標</td>\n",
       "      <td>0.004197269678116</td>\n",
       "      <td>針對國道五號雪山隧道路段近日傳出滲水事件，嚴重影響民眾的交通安全。可是，國道新建工程局卻意圖...</td>\n",
       "      <td>隧道 ; 交通安全</td>\n",
       "      <td>雪山隧道 ; 滲水</td>\n",
       "    </tr>\n",
       "    <tr>\n",
       "      <th>893</th>\n",
       "      <td>吳育昇</td>\n",
       "      <td>0.004163086414337</td>\n",
       "      <td>針對中華電信釋股一案，立法院於五月二十七日通過決議，中華電信應停止執行所有釋股作業，然而，中...</td>\n",
       "      <td>公營事業 ; 股份 ; 營業權</td>\n",
       "      <td>中華電信釋股</td>\n",
       "    </tr>\n",
       "    <tr>\n",
       "      <th>8143</th>\n",
       "      <td>葉芳雄</td>\n",
       "      <td>0.002935171127319</td>\n",
       "      <td>針對公益彩券盈餘之管理及運用，亟待行政院督促有關機關加強監督之各項缺失，特向行政院提出質詢。</td>\n",
       "      <td>彩券</td>\n",
       "      <td>公益彩券盈餘</td>\n",
       "    </tr>\n",
       "    <tr>\n",
       "      <th>1620</th>\n",
       "      <td>彭添富</td>\n",
       "      <td>0.002439349889755</td>\n",
       "      <td>針對「網路犯罪偵辦」問題，特向行政院提出質詢。</td>\n",
       "      <td>網路犯罪 ; 偵查</td>\n",
       "      <td>網路犯罪偵辦</td>\n",
       "    </tr>\n",
       "    <tr>\n",
       "      <th>7674</th>\n",
       "      <td>羅世雄</td>\n",
       "      <td>0.002105206251144</td>\n",
       "      <td>針對手機通訊業者辦理新辦戶及更換SIM卡程序中，出現犯罪集團持偽造身分證，藉此竊取個人資料，...</td>\n",
       "      <td>電信行政 ; 國民身分證 ; 隱私權 ; 偽造</td>\n",
       "      <td>手機 ; 竊取個人資料 ; 犯罪集團</td>\n",
       "    </tr>\n",
       "  </tbody>\n",
       "</table>\n",
       "</div>"
      ],
      "text/plain": [
       "      legislator Pork Value(Constituency Interest)  \\\n",
       "2439         李俊毅                 0.010597437620163   \n",
       "5160         沈智慧                 0.008501231670380   \n",
       "9164         郭林勇                 0.008108228445053   \n",
       "7985         羅志明                 0.008101910352707   \n",
       "5739         潘孟安                 0.007899075746536   \n",
       "5869         王世堅                 0.007714718580246   \n",
       "7592         紀國棟                 0.006676316261292   \n",
       "2538         李復甸                 0.006557345390320   \n",
       "473          吳光訓                 0.006494283676147   \n",
       "1919         徐國勇                 0.005139768123627   \n",
       "10440        顏清標                 0.004197269678116   \n",
       "893          吳育昇                 0.004163086414337   \n",
       "8143         葉芳雄                 0.002935171127319   \n",
       "1620         彭添富                 0.002439349889755   \n",
       "7674         羅世雄                 0.002105206251144   \n",
       "\n",
       "                                  Legislative Questions   \\\n",
       "2439   針對近來國務機要費與首長特別費因相關規範未臻明確，遭質疑該筆金額等同於首長薪水或私房錢，且有...   \n",
       "5160   針對考試院修正特種考試地方政府公務人員考試規則，新增並刪減多項類科，且將三等、四等及五等考試...   \n",
       "9164   鑑於現今台灣新聞媒體過於腥、羶、色，大幅報導政治惡鬥、社會黑暗面，並且過於詳細描寫各類自殺、...   \n",
       "7985   針對衛星電視換照審議委員會進行營運審查招致在野黨指控為打壓新聞自由乙事，主管機關應公正審議，...   \n",
       "5739   關心目前電子垃圾郵件氾濫，於立法程序完成前，主管機關應積極制定政策，並協調電信服務業者採取防...   \n",
       "5869                             針對「台大校長遴選」一事，特向行政院提出質詢。   \n",
       "7592         針對國道高速公路局及相關工程單位對四號公路神岡段堤防治理成效不彰，特向行政院提出質詢。   \n",
       "2538   鑑於刑事實務上以行政簽結之方式終結偵查，不僅嚴重侵害當事人權利、架空偵查法定原則及規避不起訴...   \n",
       "473        為修訂「公開發行公司出席股東會使用委託書規則」及「股務處理準則」事宜，特向行政院提出質詢。   \n",
       "1919                         針對公司法所規範董事會職能等問題，特向行政院提出質詢。   \n",
       "10440  針對國道五號雪山隧道路段近日傳出滲水事件，嚴重影響民眾的交通安全。可是，國道新建工程局卻意圖...   \n",
       "893    針對中華電信釋股一案，立法院於五月二十七日通過決議，中華電信應停止執行所有釋股作業，然而，中...   \n",
       "8143      針對公益彩券盈餘之管理及運用，亟待行政院督促有關機關加強監督之各項缺失，特向行政院提出質詢。   \n",
       "1620                             針對「網路犯罪偵辦」問題，特向行政院提出質詢。   \n",
       "7674   針對手機通訊業者辦理新辦戶及更換SIM卡程序中，出現犯罪集團持偽造身分證，藉此竊取個人資料，...   \n",
       "\n",
       "                         Topic             Key Word  \n",
       "2439        國家元首 ; 行政首長 ; 統一發票        國務機要費 ; 首長特別費  \n",
       "5160                      國家考試            國家考試 ; 憲法  \n",
       "9164               新聞事業 ; 新聞道德          新聞媒體 ; 新聞道德  \n",
       "7985                 有線電視 ; 執照     衛星電視 ; 換照 ; 新聞自由  \n",
       "5739                      電子郵件                 垃圾郵件  \n",
       "5869               大學 ; 教育人員任用               台大校長遴選  \n",
       "7592               高速公路 ; 堤防工程          四號公路 ; 堤防治理  \n",
       "2538                 刑事訴訟 ; 偵查  行政簽結 ; 訴訟權 ; 依法行政原則  \n",
       "473                  股東 ; 金融管理          出席股東會 ; 委託書  \n",
       "1919                  公司 ; 董事會          公司法 ; 董事會職能  \n",
       "10440                隧道 ; 交通安全            雪山隧道 ; 滲水  \n",
       "893            公營事業 ; 股份 ; 營業權               中華電信釋股  \n",
       "8143                        彩券               公益彩券盈餘  \n",
       "1620                 網路犯罪 ; 偵查               網路犯罪偵辦  \n",
       "7674   電信行政 ; 國民身分證 ; 隱私權 ; 偽造   手機 ; 竊取個人資料 ; 犯罪集團  "
      ]
     },
     "execution_count": 27,
     "metadata": {},
     "output_type": "execute_result"
    }
   ],
   "source": [
    "pd.DataFrame(\n",
    "    {'legislator': sample_df.legislator,\n",
    "     'Pork Value(Constituency Interest)':[as_num(Dcnn(np.array([tokenizer.encode(line)]), training=True).numpy()[0][0]) for line in sub_set],\n",
    "     'Legislative Questions ': sample_df.title,\n",
    "     'Topic': sample_df.topic,\n",
    "     'Key Word':sample_df.keywords}).sort_values(by=['Pork Value(Constituency Interest)'], ascending = False).tail(15)"
   ]
  },
  {
   "cell_type": "markdown",
   "id": "5dc01475-847a-408f-9972-ac02e7aa4721",
   "metadata": {},
   "source": [
    "#### (2) Export an End-to-end Model\n"
   ]
  },
  {
   "cell_type": "code",
   "execution_count": 28,
   "id": "196028d0-edfe-434f-a173-4ccaa688faaa",
   "metadata": {
    "execution": {
     "iopub.execute_input": "2021-05-22T19:59:26.018588Z",
     "iopub.status.busy": "2021-05-22T19:59:26.018332Z",
     "iopub.status.idle": "2021-05-22T19:59:26.021448Z",
     "shell.execute_reply": "2021-05-22T19:59:26.020783Z",
     "shell.execute_reply.started": "2021-05-22T19:59:26.018565Z"
    },
    "tags": []
   },
   "outputs": [],
   "source": [
    "from tensorflow.keras.models import load_model"
   ]
  },
  {
   "cell_type": "code",
   "execution_count": 29,
   "id": "071291d0-c5bb-48de-adb2-f8b2bb3bb542",
   "metadata": {
    "execution": {
     "iopub.execute_input": "2021-05-22T19:59:26.022685Z",
     "iopub.status.busy": "2021-05-22T19:59:26.022515Z",
     "iopub.status.idle": "2021-05-22T19:59:26.999044Z",
     "shell.execute_reply": "2021-05-22T19:59:26.998366Z",
     "shell.execute_reply.started": "2021-05-22T19:59:26.022666Z"
    },
    "tags": []
   },
   "outputs": [
    {
     "name": "stdout",
     "output_type": "stream",
     "text": [
      "WARNING:tensorflow:Skipping full serialization of Keras layer <tensorflow.python.keras.layers.convolutional.Conv1D object at 0x7fcdeba27970>, because it is not built.\n"
     ]
    },
    {
     "name": "stderr",
     "output_type": "stream",
     "text": [
      "WARNING:tensorflow:Skipping full serialization of Keras layer <tensorflow.python.keras.layers.convolutional.Conv1D object at 0x7fcdeba27970>, because it is not built.\n"
     ]
    },
    {
     "name": "stdout",
     "output_type": "stream",
     "text": [
      "INFO:tensorflow:Assets written to: lour_pork_model/assets\n"
     ]
    },
    {
     "name": "stderr",
     "output_type": "stream",
     "text": [
      "INFO:tensorflow:Assets written to: lour_pork_model/assets\n"
     ]
    }
   ],
   "source": [
    "# Get model (Sequential, Functional Model, or Model subclass)\n",
    "Dcnn.save('lour_pork_model')"
   ]
  },
  {
   "cell_type": "code",
   "execution_count": 30,
   "id": "2ac46183-b841-469b-8897-1fea2922e445",
   "metadata": {
    "execution": {
     "iopub.execute_input": "2021-05-22T19:59:27.000261Z",
     "iopub.status.busy": "2021-05-22T19:59:26.999965Z",
     "iopub.status.idle": "2021-05-22T19:59:27.403373Z",
     "shell.execute_reply": "2021-05-22T19:59:27.402817Z",
     "shell.execute_reply.started": "2021-05-22T19:59:27.000237Z"
    },
    "tags": []
   },
   "outputs": [],
   "source": [
    "from tensorflow import keras\n",
    "model = keras.models.load_model('lour_pork_model')"
   ]
  }
 ],
 "metadata": {
  "kernelspec": {
   "display_name": "Python 3",
   "language": "python",
   "name": "python3"
  },
  "language_info": {
   "codemirror_mode": {
    "name": "ipython",
    "version": 3
   },
   "file_extension": ".py",
   "mimetype": "text/x-python",
   "name": "python",
   "nbconvert_exporter": "python",
   "pygments_lexer": "ipython3",
   "version": "3.8.8"
  }
 },
 "nbformat": 4,
 "nbformat_minor": 5
}
